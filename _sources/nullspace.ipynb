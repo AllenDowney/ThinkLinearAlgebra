{
 "cells": [
  {
   "cell_type": "markdown",
   "id": "025b76df",
   "metadata": {},
   "source": [
    "*Think Linear Algebra* is not for sale yet, but if you would like to support this project, you can [buy me a coffee](https://buymeacoffee.com/allendowney)."
   ]
  },
  {
   "cell_type": "markdown",
   "id": "8993ec28",
   "metadata": {},
   "source": [
    "# Null Space\n",
    "\n",
    "In the previous chapter we saw examples where a system of linear equations has a single solution.\n",
    "In this chapter, we'll consider an example where there are many possible solution.\n",
    "One domain where systems like this are common is conservation of atoms (and sometimes charge) in chemical reactions -- that is, stoichiometry.\n",
    "If you studied chemistry some time ago, or never, I'll explain what you need to know."
   ]
  },
  {
   "cell_type": "markdown",
   "id": "3893fe82",
   "metadata": {
    "tags": [
     "remove-print"
    ]
   },
   "source": [
    "[Click here to run this notebook on Colab](https://colab.research.google.com/github/AllenDowney/ThinkLinearAlgebra/blob/main/chapters/nullspace.ipynb)."
   ]
  },
  {
   "cell_type": "code",
   "execution_count": 1,
   "id": "02d400cf",
   "metadata": {
    "tags": [
     "remove-print",
     "hide-cell"
    ]
   },
   "outputs": [],
   "source": [
    "from os.path import basename, exists\n",
    "\n",
    "\n",
    "def download(url):\n",
    "    filename = basename(url)\n",
    "    if not exists(filename):\n",
    "        from urllib.request import urlretrieve\n",
    "\n",
    "        local, _ = urlretrieve(url, filename)\n",
    "        print(\"Downloaded \" + local)\n",
    "\n",
    "\n",
    "download(\"https://github.com/AllenDowney/ThinkLinearAlgebra/raw/main/utils.py\")"
   ]
  },
  {
   "cell_type": "code",
   "execution_count": 2,
   "id": "1a3119be",
   "metadata": {
    "tags": [
     "hide-cell",
     "remove-print"
    ]
   },
   "outputs": [],
   "source": [
    "import numpy as np\n",
    "import pandas as pd\n",
    "import matplotlib.pyplot as plt\n",
    "\n",
    "from utils import decorate"
   ]
  },
  {
   "cell_type": "markdown",
   "id": "85c30bdb",
   "metadata": {},
   "source": [
    "## Stoichiometry\n",
    "\n",
    "In chemistry, a reaction equation specifies a set of chemicals that can react to form another set of chemicals.\n",
    "In this context, the chemicals are called reagents.\n",
    "\n",
    "As an example, we'll write the reaction equation for combustion of ethanol -- that is, the reaction of ethanol with molecular oxygen to form carbon dioxide and water.\n",
    "We'll define SymPy symbols to represent each of these reagents."
   ]
  },
  {
   "cell_type": "code",
   "execution_count": 3,
   "id": "cca56f96",
   "metadata": {},
   "outputs": [],
   "source": [
    "import sympy as sp\n",
    "\n",
    "C2H5OH = sp.Symbol('C_{2} H_5 OH')\n",
    "O2 = sp.Symbol('O2')\n",
    "CO2 = sp.Symbol('CO2')\n",
    "H2O = sp.Symbol('H_{2} O')"
   ]
  },
  {
   "cell_type": "markdown",
   "id": "03ef2776",
   "metadata": {},
   "source": [
    "Now we can define the left hand side and the right hand side of the equation."
   ]
  },
  {
   "cell_type": "code",
   "execution_count": 4,
   "id": "164867a1",
   "metadata": {},
   "outputs": [],
   "source": [
    "lhs = C2H5OH + O2\n",
    "rhs = CO2 + H2O"
   ]
  },
  {
   "cell_type": "markdown",
   "id": "cb9000bf",
   "metadata": {},
   "source": [
    "And we can display it like this."
   ]
  },
  {
   "cell_type": "code",
   "execution_count": 5,
   "id": "56bc109d",
   "metadata": {},
   "outputs": [
    {
     "data": {
      "text/latex": [
       "$\\displaystyle C_{2} H_5 OH + O_{2} \\rightarrow CO_{2} + H_{2} O$"
      ],
      "text/plain": [
       "<IPython.core.display.Math object>"
      ]
     },
     "metadata": {},
     "output_type": "display_data"
    }
   ],
   "source": [
    "from IPython.display import display, Math\n",
    "\n",
    "display(Math(f\"{sp.latex(lhs)} \\\\rightarrow {sp.latex(rhs)}\"))"
   ]
  },
  {
   "cell_type": "markdown",
   "id": "9e2a3bd6",
   "metadata": {},
   "source": [
    "In this form the equation is not balanced, because it does not have the same number of atoms, of each kind, on both sides.\n",
    "For example, there are two carbon atoms on the left and only one on the right.\n",
    "In chemical reactions (as opposed to nuclear reactions) atoms are conserved.\n",
    "\n",
    "To balance the equation, we have to find a set of proportions in which these species of chemicals can be combined while conserving atoms.\n",
    "To do that, we'll introduce unknown coefficients to the equation."
   ]
  },
  {
   "cell_type": "code",
   "execution_count": 6,
   "id": "d63fb545",
   "metadata": {},
   "outputs": [],
   "source": [
    "x1, x2, x3, x4 = sp.symbols('x1 x2 x3 x4')"
   ]
  },
  {
   "cell_type": "markdown",
   "id": "74151d59",
   "metadata": {},
   "source": [
    "We'll rewrite the equations with each species multiplied by a coefficient."
   ]
  },
  {
   "cell_type": "code",
   "execution_count": 7,
   "id": "9f1cbe43",
   "metadata": {},
   "outputs": [],
   "source": [
    "lhs = x1 * C2H5OH + x2 * O2\n",
    "rhs = x3 * CO2 + x4 * H2O"
   ]
  },
  {
   "cell_type": "markdown",
   "id": "a9635c9d",
   "metadata": {},
   "source": [
    "And collect the coefficients and species into lists."
   ]
  },
  {
   "cell_type": "code",
   "execution_count": 8,
   "id": "c6efc8a7",
   "metadata": {},
   "outputs": [],
   "source": [
    "coefficients = [x1, x2, x3, x4]\n",
    "species = [C2H5OH, O2, CO2, H2O]"
   ]
  },
  {
   "cell_type": "markdown",
   "id": "bd0fccd1",
   "metadata": {},
   "source": [
    "Now we can use the following function to display the reaction equation."
   ]
  },
  {
   "cell_type": "code",
   "execution_count": 9,
   "id": "980831c9",
   "metadata": {},
   "outputs": [],
   "source": [
    "def display_reaction(coefficients, species, i=2):\n",
    "    terms = [c * s for c, s in zip(coefficients, species)]\n",
    "    lhs, rhs = sum(terms[:i]), sum(terms[i:])\n",
    "    display(Math(f\"{sp.latex(lhs)} \\\\rightarrow {sp.latex(rhs)}\"))"
   ]
  },
  {
   "cell_type": "markdown",
   "id": "c6b521f4",
   "metadata": {},
   "source": [
    "Here's what the combustion of ethanol looks like with stoichiometric coefficients."
   ]
  },
  {
   "cell_type": "code",
   "execution_count": 10,
   "id": "47ab0d9e",
   "metadata": {},
   "outputs": [
    {
     "data": {
      "text/latex": [
       "$\\displaystyle C_{2} H_5 OH x_{1} + O_{2} x_{2} \\rightarrow CO_{2} x_{3} + H_{2} O x_{4}$"
      ],
      "text/plain": [
       "<IPython.core.display.Math object>"
      ]
     },
     "metadata": {},
     "output_type": "display_data"
    }
   ],
   "source": [
    "display_reaction(coefficients, species)"
   ]
  },
  {
   "cell_type": "markdown",
   "id": "30cdeff9",
   "metadata": {},
   "source": [
    "Now let's solve for the unknown coefficients.\n",
    "We can do that by writing an equation to represent conservation of each type of atom involved in the reaction.\n",
    "\n",
    "For example, there are $2 x_1$ carbon atoms on the left and $x3$ on the right, so we can write:"
   ]
  },
  {
   "cell_type": "code",
   "execution_count": 11,
   "id": "4ce89c31",
   "metadata": {},
   "outputs": [
    {
     "data": {
      "text/latex": [
       "$\\displaystyle 2 x_{1} = x_{3}$"
      ],
      "text/plain": [
       "Eq(2*x1, x3)"
      ]
     },
     "execution_count": 11,
     "metadata": {},
     "output_type": "execute_result"
    }
   ],
   "source": [
    "eq_carbon = sp.Eq(2*x1, x3)         \n",
    "eq_carbon"
   ]
  },
  {
   "cell_type": "markdown",
   "id": "b96ea93d",
   "metadata": {},
   "source": [
    "Similarly, there are six hydrogen atoms in each molecule of ethanol and two in each molecule of $H_2$, so we can write:"
   ]
  },
  {
   "cell_type": "code",
   "execution_count": 12,
   "id": "06d88b03",
   "metadata": {},
   "outputs": [
    {
     "data": {
      "text/latex": [
       "$\\displaystyle 6 x_{1} = 2 x_{4}$"
      ],
      "text/plain": [
       "Eq(6*x1, 2*x4)"
      ]
     },
     "execution_count": 12,
     "metadata": {},
     "output_type": "execute_result"
    }
   ],
   "source": [
    "eq_hydrogen = sp.Eq(6*x1, 2*x4)     \n",
    "eq_hydrogen"
   ]
  },
  {
   "cell_type": "markdown",
   "id": "996bea61",
   "metadata": {},
   "source": [
    "Finally, we can write this equation to represent conservation of oxygen atoms."
   ]
  },
  {
   "cell_type": "code",
   "execution_count": 13,
   "id": "49cb6fa0",
   "metadata": {},
   "outputs": [
    {
     "data": {
      "text/latex": [
       "$\\displaystyle x_{1} + 2 x_{2} = 2 x_{3} + x_{4}$"
      ],
      "text/plain": [
       "Eq(x1 + 2*x2, 2*x3 + x4)"
      ]
     },
     "execution_count": 13,
     "metadata": {},
     "output_type": "execute_result"
    }
   ],
   "source": [
    "eq_oxygen = sp.Eq(x1 + 2*x2, 2*x3 + x4)  \n",
    "eq_oxygen"
   ]
  },
  {
   "cell_type": "markdown",
   "id": "72683639",
   "metadata": {},
   "source": [
    "Together, these form a system of linear equations, which we will solve simultaneously.\n",
    "As we did in the previous chapter, we can write the system as a matrix equation.\n",
    "We'll use the SymPy function `linear_eq_to_matrix` to assemble the equations into a matrix."
   ]
  },
  {
   "cell_type": "code",
   "execution_count": 14,
   "id": "c29a0155",
   "metadata": {},
   "outputs": [
    {
     "data": {
      "text/latex": [
       "$\\displaystyle \\left[\\begin{matrix}2 & 0 & -1 & 0\\\\6 & 0 & 0 & -2\\\\1 & 2 & -2 & -1\\end{matrix}\\right]$"
      ],
      "text/plain": [
       "Matrix([\n",
       "[2, 0, -1,  0],\n",
       "[6, 0,  0, -2],\n",
       "[1, 2, -2, -1]])"
      ]
     },
     "execution_count": 14,
     "metadata": {},
     "output_type": "execute_result"
    }
   ],
   "source": [
    "A, b = sp.linear_eq_to_matrix([eq_carbon, eq_hydrogen, eq_oxygen], coefficients)\n",
    "A"
   ]
  },
  {
   "cell_type": "markdown",
   "id": "43a1077e",
   "metadata": {},
   "source": [
    "The results represent the matrix equation $A x = b$, where $x$ is the vector of coefficients."
   ]
  },
  {
   "cell_type": "code",
   "execution_count": 15,
   "id": "4d368f2a",
   "metadata": {},
   "outputs": [
    {
     "data": {
      "text/latex": [
       "$\\displaystyle \\left[\\begin{matrix}x_{1}\\\\x_{2}\\\\x_{3}\\\\x_{4}\\end{matrix}\\right]$"
      ],
      "text/plain": [
       "Matrix([\n",
       "[x1],\n",
       "[x2],\n",
       "[x3],\n",
       "[x4]])"
      ]
     },
     "execution_count": 15,
     "metadata": {},
     "output_type": "execute_result"
    }
   ],
   "source": [
    "x = sp.Matrix(coefficients)\n",
    "x"
   ]
  },
  {
   "cell_type": "markdown",
   "id": "09fd4172",
   "metadata": {},
   "source": [
    "If we multiply the left hand side, we can confirm that we recover the system of equations."
   ]
  },
  {
   "cell_type": "code",
   "execution_count": 16,
   "id": "a540f0f1",
   "metadata": {},
   "outputs": [
    {
     "data": {
      "text/latex": [
       "$\\displaystyle \\left[\\begin{matrix}2 x_{1} - x_{3}\\\\6 x_{1} - 2 x_{4}\\\\x_{1} + 2 x_{2} - 2 x_{3} - x_{4}\\end{matrix}\\right] = \\left[\\begin{matrix}0\\\\0\\\\0\\end{matrix}\\right]$"
      ],
      "text/plain": [
       "Eq(Matrix([\n",
       "[            2*x1 - x3],\n",
       "[          6*x1 - 2*x4],\n",
       "[x1 + 2*x2 - 2*x3 - x4]]), Matrix([\n",
       "[0],\n",
       "[0],\n",
       "[0]]))"
      ]
     },
     "execution_count": 16,
     "metadata": {},
     "output_type": "execute_result"
    }
   ],
   "source": [
    "eqn = sp.Eq(A * x, b)\n",
    "eqn"
   ]
  },
  {
   "cell_type": "markdown",
   "id": "775dab8a",
   "metadata": {},
   "source": [
    "Because there are no constants in the equations, $b$ is all zeros -- which means that this is a homogeneous equation.\n",
    "We can use `solve` to solve this system."
   ]
  },
  {
   "cell_type": "code",
   "execution_count": 17,
   "id": "7a2181a2",
   "metadata": {},
   "outputs": [
    {
     "data": {
      "text/plain": [
       "{x1: x4/3, x2: x4, x3: 2*x4/3}"
      ]
     },
     "execution_count": 17,
     "metadata": {},
     "output_type": "execute_result"
    }
   ],
   "source": [
    "solution = sp.solve(eqn, x)\n",
    "solution"
   ]
  },
  {
   "cell_type": "markdown",
   "id": "aa5a6708",
   "metadata": {},
   "source": [
    "The result is a dictionary that represents a system of equations that express $x_1$, $x_2$, and $x_3$ in terms of $x_4$."
   ]
  },
  {
   "cell_type": "code",
   "execution_count": 18,
   "id": "d246f550",
   "metadata": {},
   "outputs": [
    {
     "data": {
      "text/latex": [
       "$\\displaystyle x_{1} = \\frac{x_{4}}{3}$"
      ],
      "text/plain": [
       "<IPython.core.display.Math object>"
      ]
     },
     "metadata": {},
     "output_type": "display_data"
    },
    {
     "data": {
      "text/latex": [
       "$\\displaystyle x_{2} = x_{4}$"
      ],
      "text/plain": [
       "<IPython.core.display.Math object>"
      ]
     },
     "metadata": {},
     "output_type": "display_data"
    },
    {
     "data": {
      "text/latex": [
       "$\\displaystyle x_{3} = \\frac{2 x_{4}}{3}$"
      ],
      "text/plain": [
       "<IPython.core.display.Math object>"
      ]
     },
     "metadata": {},
     "output_type": "display_data"
    }
   ],
   "source": [
    "equations = [sp.Eq(var, expr) for var, expr in solution.items()]\n",
    "for eq in equations:\n",
    "    display(Math(sp.latex(eq)))"
   ]
  },
  {
   "cell_type": "markdown",
   "id": "d86f4f41",
   "metadata": {},
   "source": [
    "This is not the most convenient way to represent the solution.\n",
    "An alternative is to compute the null space of the system, which represents the solution as a list of vectors."
   ]
  },
  {
   "cell_type": "code",
   "execution_count": 19,
   "id": "3bf43471",
   "metadata": {},
   "outputs": [
    {
     "data": {
      "text/plain": [
       "[Matrix([\n",
       " [1/3],\n",
       " [  1],\n",
       " [2/3],\n",
       " [  1]])]"
      ]
     },
     "execution_count": 19,
     "metadata": {},
     "output_type": "execute_result"
    }
   ],
   "source": [
    "nullspace = A.nullspace()\n",
    "nullspace"
   ]
  },
  {
   "cell_type": "markdown",
   "id": "140cf96a",
   "metadata": {},
   "source": [
    "This vector represents a solution to the system of equations."
   ]
  },
  {
   "cell_type": "code",
   "execution_count": 20,
   "id": "c5adaff7",
   "metadata": {},
   "outputs": [
    {
     "data": {
      "text/latex": [
       "$\\displaystyle \\left[\\begin{matrix}\\frac{1}{3}\\\\1\\\\\\frac{2}{3}\\\\1\\end{matrix}\\right]$"
      ],
      "text/plain": [
       "Matrix([\n",
       "[1/3],\n",
       "[  1],\n",
       "[2/3],\n",
       "[  1]])"
      ]
     },
     "execution_count": 20,
     "metadata": {},
     "output_type": "execute_result"
    }
   ],
   "source": [
    "basis_vector = nullspace[0]\n",
    "basis_vector"
   ]
  },
  {
   "cell_type": "markdown",
   "id": "14383cfd",
   "metadata": {},
   "source": [
    "If we multiply the solution by $A$, we can confirm that the result is $b$."
   ]
  },
  {
   "cell_type": "code",
   "execution_count": 21,
   "id": "c9728bf0-2665-483a-a026-645019e14f4d",
   "metadata": {},
   "outputs": [
    {
     "data": {
      "text/latex": [
       "$\\displaystyle \\left[\\begin{matrix}0\\\\0\\\\0\\end{matrix}\\right]$"
      ],
      "text/plain": [
       "Matrix([\n",
       "[0],\n",
       "[0],\n",
       "[0]])"
      ]
     },
     "execution_count": 21,
     "metadata": {},
     "output_type": "execute_result"
    }
   ],
   "source": [
    "A * basis_vector"
   ]
  },
  {
   "cell_type": "markdown",
   "id": "054d0d15",
   "metadata": {},
   "source": [
    "And we can use it to write a balanced version of reaction equation."
   ]
  },
  {
   "cell_type": "code",
   "execution_count": 22,
   "id": "29e9275f",
   "metadata": {},
   "outputs": [
    {
     "data": {
      "text/latex": [
       "$\\displaystyle \\frac{C_{2} H_5 OH}{3} + O_{2} \\rightarrow \\frac{2 CO_{2}}{3} + H_{2} O$"
      ],
      "text/plain": [
       "<IPython.core.display.Math object>"
      ]
     },
     "metadata": {},
     "output_type": "display_data"
    }
   ],
   "source": [
    "display_reaction(basis_vector, species)"
   ]
  },
  {
   "cell_type": "markdown",
   "id": "e3ce6e9a",
   "metadata": {},
   "source": [
    "But it is not standard to write reaction equations with fractional coefficients.\n",
    "So we'll use the following function to find the least common multiplier of the fractional coefficients and multiply through."
   ]
  },
  {
   "cell_type": "code",
   "execution_count": 23,
   "id": "8e91fd07",
   "metadata": {},
   "outputs": [],
   "source": [
    "def scale_vector(vector):\n",
    "    denoms = [sp.denom(x) for x in vector]\n",
    "    lcm = sp.lcm(denoms)\n",
    "    return vector * lcm"
   ]
  },
  {
   "cell_type": "markdown",
   "id": "d16a6d47",
   "metadata": {},
   "source": [
    "Here's the scaled version of the solution."
   ]
  },
  {
   "cell_type": "code",
   "execution_count": 24,
   "id": "7d6141cc-5df7-4e76-aa93-44bdb2a9199d",
   "metadata": {},
   "outputs": [
    {
     "data": {
      "text/latex": [
       "$\\displaystyle \\left[\\begin{matrix}1\\\\3\\\\2\\\\3\\end{matrix}\\right]$"
      ],
      "text/plain": [
       "Matrix([\n",
       "[1],\n",
       "[3],\n",
       "[2],\n",
       "[3]])"
      ]
     },
     "execution_count": 24,
     "metadata": {},
     "output_type": "execute_result"
    }
   ],
   "source": [
    "solution = scale_vector(basis_vector)\n",
    "solution"
   ]
  },
  {
   "cell_type": "markdown",
   "id": "d55d81a9",
   "metadata": {},
   "source": [
    "Any multiple of the solution vector is also a solution."
   ]
  },
  {
   "cell_type": "code",
   "execution_count": 25,
   "id": "73033054",
   "metadata": {},
   "outputs": [
    {
     "data": {
      "text/latex": [
       "$\\displaystyle \\left[\\begin{matrix}0\\\\0\\\\0\\end{matrix}\\right]$"
      ],
      "text/plain": [
       "Matrix([\n",
       "[0],\n",
       "[0],\n",
       "[0]])"
      ]
     },
     "execution_count": 25,
     "metadata": {},
     "output_type": "execute_result"
    }
   ],
   "source": [
    "A * solution"
   ]
  },
  {
   "cell_type": "markdown",
   "id": "92f2e70b",
   "metadata": {},
   "source": [
    "Finally here's the balanced reaction equation in standard form."
   ]
  },
  {
   "cell_type": "code",
   "execution_count": 26,
   "id": "79f36d86",
   "metadata": {},
   "outputs": [
    {
     "data": {
      "text/latex": [
       "$\\displaystyle C_{2} H_5 OH + 3 O_{2} \\rightarrow 2 CO_{2} + 3 H_{2} O$"
      ],
      "text/plain": [
       "<IPython.core.display.Math object>"
      ]
     },
     "metadata": {},
     "output_type": "display_data"
    }
   ],
   "source": [
    "display_reaction(solution, species)"
   ]
  },
  {
   "cell_type": "markdown",
   "id": "a9c54c4a",
   "metadata": {},
   "source": [
    "Because every molecule contains an integer number of each atom type, we know that the coefficients can be expressed as integers.\n",
    "So using SymPy to compute the solution symbolically is a good option.\n",
    "But we can also find null spaces numerically."
   ]
  },
  {
   "cell_type": "markdown",
   "id": "c42b6e84",
   "metadata": {},
   "source": [
    "## Finding a Null Space Numerically\n",
    "\n",
    "To find the null space of $A$ numerically, we'll convert it to a NumPy array."
   ]
  },
  {
   "cell_type": "code",
   "execution_count": 27,
   "id": "d271e25b",
   "metadata": {},
   "outputs": [
    {
     "data": {
      "text/plain": [
       "array([[ 2.,  0., -1.,  0.],\n",
       "       [ 6.,  0.,  0., -2.],\n",
       "       [ 1.,  2., -2., -1.]])"
      ]
     },
     "execution_count": 27,
     "metadata": {},
     "output_type": "execute_result"
    }
   ],
   "source": [
    "A_numpy = np.array(A).astype(float)\n",
    "A_numpy"
   ]
  },
  {
   "cell_type": "markdown",
   "id": "322ac7ef",
   "metadata": {},
   "source": [
    "And use the `null_space` function from SciPy."
   ]
  },
  {
   "cell_type": "code",
   "execution_count": 28,
   "id": "a87161a8",
   "metadata": {},
   "outputs": [
    {
     "data": {
      "text/plain": [
       "array([[0.20851441],\n",
       "       [0.62554324],\n",
       "       [0.41702883],\n",
       "       [0.62554324]])"
      ]
     },
     "execution_count": 28,
     "metadata": {},
     "output_type": "execute_result"
    }
   ],
   "source": [
    "from scipy.linalg import null_space\n",
    "\n",
    "ns = null_space(A_numpy)\n",
    "ns"
   ]
  },
  {
   "cell_type": "markdown",
   "id": "cc8b7027",
   "metadata": {},
   "source": [
    "The result is an array where each column is a vector in the null space.\n",
    "In this example there is only one, so we can select it like this."
   ]
  },
  {
   "cell_type": "code",
   "execution_count": 29,
   "id": "47b97b72",
   "metadata": {},
   "outputs": [
    {
     "data": {
      "text/plain": [
       "array([0.20851441, 0.62554324, 0.41702883, 0.62554324])"
      ]
     },
     "execution_count": 29,
     "metadata": {},
     "output_type": "execute_result"
    }
   ],
   "source": [
    "vector = ns.T[0]\n",
    "vector"
   ]
  },
  {
   "cell_type": "markdown",
   "id": "9913d080",
   "metadata": {},
   "source": [
    "If we multiply by $A$, we can confirm that the result is all zeros, within floating-point error."
   ]
  },
  {
   "cell_type": "code",
   "execution_count": 30,
   "id": "3efac721",
   "metadata": {},
   "outputs": [
    {
     "data": {
      "text/plain": [
       "array([ 0.0000000e+00, -4.4408921e-16,  0.0000000e+00])"
      ]
     },
     "execution_count": 30,
     "metadata": {},
     "output_type": "execute_result"
    }
   ],
   "source": [
    "A_numpy @ vector"
   ]
  },
  {
   "cell_type": "markdown",
   "id": "38a7238c",
   "metadata": {},
   "source": [
    "We might not recognize this vector as the solution we got from SymPy.\n",
    "That's because it is normalized so its magnitude is 1, within floating-point error."
   ]
  },
  {
   "cell_type": "code",
   "execution_count": 31,
   "id": "e67c4f12",
   "metadata": {},
   "outputs": [
    {
     "data": {
      "text/plain": [
       "np.float64(0.9999999999999999)"
      ]
     },
     "execution_count": 31,
     "metadata": {},
     "output_type": "execute_result"
    }
   ],
   "source": [
    "np.linalg.norm(vector)"
   ]
  },
  {
   "cell_type": "markdown",
   "id": "91f4401b",
   "metadata": {},
   "source": [
    "If we scale it so the smallest element is 1, its easier to recognize."
   ]
  },
  {
   "cell_type": "code",
   "execution_count": 32,
   "id": "54c51b70-1448-44cc-9202-a4b69fcf194c",
   "metadata": {},
   "outputs": [
    {
     "data": {
      "text/plain": [
       "array([1., 3., 2., 3.])"
      ]
     },
     "execution_count": 32,
     "metadata": {},
     "output_type": "execute_result"
    }
   ],
   "source": [
    "denom = np.min(np.abs(vector))\n",
    "scaled = vector / denom\n",
    "scaled"
   ]
  },
  {
   "cell_type": "markdown",
   "id": "85da60d2",
   "metadata": {},
   "source": [
    "And again, any multiple of this vector is also a solution."
   ]
  },
  {
   "cell_type": "code",
   "execution_count": 33,
   "id": "d2b3c841",
   "metadata": {},
   "outputs": [
    {
     "data": {
      "text/plain": [
       "array([ 0.00000000e+00, -1.77635684e-15,  0.00000000e+00])"
      ]
     },
     "execution_count": 33,
     "metadata": {},
     "output_type": "execute_result"
    }
   ],
   "source": [
    "A_numpy @ scaled"
   ]
  },
  {
   "cell_type": "markdown",
   "id": "579415e4",
   "metadata": {},
   "source": [
    "## Null Spaces With More Dimensions\n",
    "\n",
    "Let's consider a more complex example, the oxidation of hydrogen peroxide ($H_2O_2$) by potassium permanganate ($K \\mathit{Mn} O_4$).\n",
    "This reaction is a classic demonstration in chemistry classes because the color of the solution changes dramatically.\n",
    "It is also used in oxidative treatment of wastewater.\n",
    "\n",
    "Here are the species we'll need to write the reaction equation."
   ]
  },
  {
   "cell_type": "code",
   "execution_count": 34,
   "id": "992d1de5",
   "metadata": {},
   "outputs": [],
   "source": [
    "KMnO4 = sp.Symbol('K \\mathit{Mn} O_4')\n",
    "H2O2 = sp.Symbol('H_{2}O_{2}')\n",
    "H_plus = sp.Symbol('H^{+}')\n",
    "Mn2_plus = sp.Symbol('\\mathit{Mn}^{2+}')\n",
    "K_plus = sp.Symbol('K^{+}')\n",
    "\n",
    "species2 = [KMnO4, H2O2, H_plus, Mn2_plus, O2, H2O, K_plus]"
   ]
  },
  {
   "cell_type": "markdown",
   "id": "f9213507",
   "metadata": {},
   "source": [
    "Since we have seven species, we'll need seven coefficients."
   ]
  },
  {
   "cell_type": "code",
   "execution_count": 35,
   "id": "68cc19b3",
   "metadata": {},
   "outputs": [],
   "source": [
    "a, b, c, d, e, f, g = sp.symbols('a b c d e f g')\n",
    "coefficients2 = [a, b, c, d, e, f, g]"
   ]
  },
  {
   "cell_type": "markdown",
   "id": "0bf8e857",
   "metadata": {},
   "source": [
    "Here is the version of the reaction equation with unknown coefficients."
   ]
  },
  {
   "cell_type": "code",
   "execution_count": 36,
   "id": "c7c92bb2",
   "metadata": {},
   "outputs": [
    {
     "data": {
      "text/latex": [
       "$\\displaystyle H^{+} c + H_{2}O_{2} b + K \\mathit{Mn} O_4 a \\rightarrow H_{2} O f + K^{+} g + O_{2} e + \\mathit{Mn}^{2+} d$"
      ],
      "text/plain": [
       "<IPython.core.display.Math object>"
      ]
     },
     "metadata": {},
     "output_type": "display_data"
    }
   ],
   "source": [
    "display_reaction(coefficients2, species2, 3)"
   ]
  },
  {
   "cell_type": "markdown",
   "id": "ac60506e",
   "metadata": {},
   "source": [
    "To find the coefficients, we can write four equations, one for each type of atom involved in the reaction."
   ]
  },
  {
   "cell_type": "code",
   "execution_count": 37,
   "id": "033723a8",
   "metadata": {},
   "outputs": [],
   "source": [
    "eq_mn = sp.Eq(a, d)\n",
    "eq_k = sp.Eq(a, g)\n",
    "eq_h = sp.Eq(2*b + c, 2*f)\n",
    "eq_o = sp.Eq(4*a + 2*b, 2*e + f)"
   ]
  },
  {
   "cell_type": "markdown",
   "id": "fa14ef03",
   "metadata": {},
   "source": [
    "Notice that three of the reagents are charged ions: $H^{+}$ and $K^{+}$ and $\\mathit{Mn}^{2+}$.\n",
    "So we can write an additional equation that requires charge to be conserved."
   ]
  },
  {
   "cell_type": "code",
   "execution_count": 38,
   "id": "0ab21391",
   "metadata": {},
   "outputs": [],
   "source": [
    "eq_charge = sp.Eq(c, 2*d + g)"
   ]
  },
  {
   "cell_type": "code",
   "execution_count": 39,
   "id": "89410173",
   "metadata": {},
   "outputs": [
    {
     "data": {
      "text/latex": [
       "$\\displaystyle a = d$"
      ],
      "text/plain": [
       "<IPython.core.display.Math object>"
      ]
     },
     "metadata": {},
     "output_type": "display_data"
    },
    {
     "data": {
      "text/latex": [
       "$\\displaystyle a = g$"
      ],
      "text/plain": [
       "<IPython.core.display.Math object>"
      ]
     },
     "metadata": {},
     "output_type": "display_data"
    },
    {
     "data": {
      "text/latex": [
       "$\\displaystyle 2 b + c = 2 f$"
      ],
      "text/plain": [
       "<IPython.core.display.Math object>"
      ]
     },
     "metadata": {},
     "output_type": "display_data"
    },
    {
     "data": {
      "text/latex": [
       "$\\displaystyle 4 a + 2 b = 2 e + f$"
      ],
      "text/plain": [
       "<IPython.core.display.Math object>"
      ]
     },
     "metadata": {},
     "output_type": "display_data"
    },
    {
     "data": {
      "text/latex": [
       "$\\displaystyle c = 2 d + g$"
      ],
      "text/plain": [
       "<IPython.core.display.Math object>"
      ]
     },
     "metadata": {},
     "output_type": "display_data"
    }
   ],
   "source": [
    "eqns = [eq_mn, eq_k, eq_h, eq_o, eq_charge]\n",
    "for eqn in eqns:\n",
    "    display(Math(sp.latex(eqn)))"
   ]
  },
  {
   "cell_type": "markdown",
   "id": "e47795a4",
   "metadata": {},
   "source": [
    "Now we can express this system as a matrix equation."
   ]
  },
  {
   "cell_type": "code",
   "execution_count": 40,
   "id": "f1d3caf8",
   "metadata": {},
   "outputs": [
    {
     "data": {
      "text/latex": [
       "$\\displaystyle \\left[\\begin{matrix}1 & 0 & 0 & -1 & 0 & 0 & 0\\\\1 & 0 & 0 & 0 & 0 & 0 & -1\\\\0 & 2 & 1 & 0 & 0 & -2 & 0\\\\4 & 2 & 0 & 0 & -2 & -1 & 0\\\\0 & 0 & 1 & -2 & 0 & 0 & -1\\end{matrix}\\right]$"
      ],
      "text/plain": [
       "Matrix([\n",
       "[1, 0, 0, -1,  0,  0,  0],\n",
       "[1, 0, 0,  0,  0,  0, -1],\n",
       "[0, 2, 1,  0,  0, -2,  0],\n",
       "[4, 2, 0,  0, -2, -1,  0],\n",
       "[0, 0, 1, -2,  0,  0, -1]])"
      ]
     },
     "execution_count": 40,
     "metadata": {},
     "output_type": "execute_result"
    }
   ],
   "source": [
    "A, b = sp.linear_eq_to_matrix(eqns, coefficients2)\n",
    "A"
   ]
  },
  {
   "cell_type": "markdown",
   "id": "62fd5979",
   "metadata": {},
   "source": [
    "Because we have seven coefficients and only five equations, the system is underconstrained.\n",
    "In fact, it is even less constrained than the previous example: the null space contains two vectors."
   ]
  },
  {
   "cell_type": "code",
   "execution_count": 41,
   "id": "d7265184",
   "metadata": {},
   "outputs": [
    {
     "data": {
      "text/plain": [
       "2"
      ]
     },
     "execution_count": 41,
     "metadata": {},
     "output_type": "execute_result"
    }
   ],
   "source": [
    "nullspace = A.nullspace()\n",
    "len(nullspace)"
   ]
  },
  {
   "cell_type": "markdown",
   "id": "7342abbf",
   "metadata": {},
   "source": [
    "We'll scale the vectors so the coefficients are integers."
   ]
  },
  {
   "cell_type": "code",
   "execution_count": 42,
   "id": "166543be",
   "metadata": {},
   "outputs": [
    {
     "data": {
      "text/plain": [
       "[Matrix([\n",
       " [0],\n",
       " [2],\n",
       " [0],\n",
       " [0],\n",
       " [1],\n",
       " [2],\n",
       " [0]]),\n",
       " Matrix([\n",
       " [ 2],\n",
       " [-3],\n",
       " [ 6],\n",
       " [ 2],\n",
       " [ 1],\n",
       " [ 0],\n",
       " [ 2]])]"
      ]
     },
     "execution_count": 42,
     "metadata": {},
     "output_type": "execute_result"
    }
   ],
   "source": [
    "solutions = [scale_vector(basis_vector) for basis_vector in nullspace]\n",
    "solutions"
   ]
  },
  {
   "cell_type": "markdown",
   "id": "5f9ce904",
   "metadata": {},
   "source": [
    "Here is what the first solution looks like as a balanced equation."
   ]
  },
  {
   "cell_type": "code",
   "execution_count": 43,
   "id": "b635956c",
   "metadata": {},
   "outputs": [
    {
     "data": {
      "text/latex": [
       "$\\displaystyle 2 H_{2}O_{2} \\rightarrow 2 H_{2} O + O_{2}$"
      ],
      "text/plain": [
       "<IPython.core.display.Math object>"
      ]
     },
     "metadata": {},
     "output_type": "display_data"
    }
   ],
   "source": [
    "display_reaction(solutions[0], species2, 3)"
   ]
  },
  {
   "cell_type": "markdown",
   "id": "69cb3642",
   "metadata": {},
   "source": [
    "This equation represent the decomposition of hydrogen peroxide (H2O2) into water (H2O) and oxygen gas (O2).\n",
    "This reaction happens slowly at room temperature, and more quickly in the presence of catalase, an enzyme found in living cells, which is the cause of the foaming you might see if you apply hydrogen peroxide to a wound.\n",
    "\n",
    "Here's the second solution."
   ]
  },
  {
   "cell_type": "code",
   "execution_count": 44,
   "id": "ab5b2ebf",
   "metadata": {},
   "outputs": [
    {
     "data": {
      "text/latex": [
       "$\\displaystyle 6 H^{+} - 3 H_{2}O_{2} + 2 K \\mathit{Mn} O_4 \\rightarrow 2 K^{+} + O_{2} + 2 \\mathit{Mn}^{2+}$"
      ],
      "text/plain": [
       "<IPython.core.display.Math object>"
      ]
     },
     "metadata": {},
     "output_type": "display_data"
    }
   ],
   "source": [
    "display_reaction(solutions[1], species2, 3)"
   ]
  },
  {
   "cell_type": "markdown",
   "id": "df73a486",
   "metadata": {},
   "source": [
    "Notice that it contains a negative coefficient, which is not meaningful -- there can't be a negative amount of a reagent.\n",
    "So this solution is mathematically valid in the sense that it solves the equations that conserve atoms and charge, but by itself it does not represent a physically possible reaction.\n",
    "\n",
    "However, any linear combination of these solutions is also a solution, and some of those combinations are physically possible.\n",
    "For example, if we combine the solutions in the ratio 4:1, we get the following reaction."
   ]
  },
  {
   "cell_type": "code",
   "execution_count": 45,
   "id": "1ad310fd",
   "metadata": {},
   "outputs": [
    {
     "data": {
      "text/latex": [
       "$\\displaystyle 6 H^{+} + 5 H_{2}O_{2} + 2 K \\mathit{Mn} O_4 \\rightarrow 8 H_{2} O + 2 K^{+} + 5 O_{2} + 2 \\mathit{Mn}^{2+}$"
      ],
      "text/plain": [
       "<IPython.core.display.Math object>"
      ]
     },
     "metadata": {},
     "output_type": "display_data"
    }
   ],
   "source": [
    "display_reaction(4 * solutions[0] + solutions[1], species2, 3)"
   ]
  },
  {
   "cell_type": "markdown",
   "id": "d64c29be",
   "metadata": {},
   "source": [
    "This equation is balanced in atoms and charge, and it is theoretically possible because all of the coefficients are positive.\n",
    "In fact this is the reaction that occurs spontaneously when these reagents are combined.\n",
    "\n",
    "However, if we combine the solutions in a ratio of 2:1, the result is also balanced and theoretically possible."
   ]
  },
  {
   "cell_type": "code",
   "execution_count": 46,
   "id": "f0319413",
   "metadata": {},
   "outputs": [
    {
     "data": {
      "text/latex": [
       "$\\displaystyle 6 H^{+} + H_{2}O_{2} + 2 K \\mathit{Mn} O_4 \\rightarrow 4 H_{2} O + 2 K^{+} + 3 O_{2} + 2 \\mathit{Mn}^{2+}$"
      ],
      "text/plain": [
       "<IPython.core.display.Math object>"
      ]
     },
     "metadata": {},
     "output_type": "display_data"
    }
   ],
   "source": [
    "display_reaction(2 * solutions[0] + solutions[1], species2, 3)"
   ]
  },
  {
   "cell_type": "markdown",
   "id": "da394251",
   "metadata": {},
   "source": [
    "But under normal conditions, this reaction does not happen at non-negligible levels, I presume because it is not energetically favored.\n",
    "And there are many more combinations that are theoretically possible, but also unlikely.\n",
    "\n",
    "So this is an example where balance of atoms and charge can tell us which reactions are theoretically possible, but stoichiometry alone is not enough to tell us which reactions are thermodynamically likely."
   ]
  },
  {
   "cell_type": "markdown",
   "id": "742f5c20",
   "metadata": {},
   "source": [
    "## Discussion\n",
    "\n",
    "This chapter presents underdetermined systems, where the number of unknowns is greater than the number of equations.\n",
    "These systems often have many solutions.\n",
    "\n",
    "The set of solutions forms a **null space**, which is defined by a set of basis vectors.\n",
    "Every linear combination of these vectors is a solution to the system.\n",
    "\n",
    "In the ethanol example, the null space had one basis vector, so the solution space was one-dimensional.\n",
    "In the potassium permanganate example, there were two basis vectors, forming a two-dimensional space of solutions.\n",
    "\n",
    "In general, there is a relationship between the rank of a matrix and the number of dimensions in its null space, given by the **rank-nullity theorem**:\n",
    "\n",
    "$$\n",
    "\\text{rank}(A) + \\text{nullity}(A) = n\n",
    "$$\n",
    "\n",
    "where $n$ is the number of columns in $A$.\n",
    "The rank tells us how many independent constraints the equations impose.\n",
    "The nullity tells us how many degrees of freedom remain.\n",
    "\n",
    "In the next chapter we consider overdetermined systems with no solutions -- so we will try to find the best of the non-solutions."
   ]
  },
  {
   "cell_type": "markdown",
   "id": "62ea92ab",
   "metadata": {},
   "source": [
    "### Exercise\n",
    "\n",
    "Balance the equation for the combustion of methanol."
   ]
  },
  {
   "cell_type": "code",
   "execution_count": 47,
   "id": "33bf2123",
   "metadata": {},
   "outputs": [],
   "source": [
    "CH3OH = sp.Symbol('C H_{3} OH')"
   ]
  },
  {
   "cell_type": "code",
   "execution_count": 48,
   "id": "7befeda6",
   "metadata": {},
   "outputs": [],
   "source": [
    "lhs = x1 * CH3OH + x2 * O2\n",
    "rhs = x3 * CO2 + x4 * H2O"
   ]
  },
  {
   "cell_type": "code",
   "execution_count": 49,
   "id": "fdb60fa6",
   "metadata": {},
   "outputs": [
    {
     "data": {
      "text/latex": [
       "$\\displaystyle C_{2} H_5 OH x_{1} + O_{2} x_{2} \\rightarrow CO_{2} x_{3} + H_{2} O x_{4}$"
      ],
      "text/plain": [
       "<IPython.core.display.Math object>"
      ]
     },
     "metadata": {},
     "output_type": "display_data"
    }
   ],
   "source": [
    "display_reaction([x1, x2, x3, x4], species)"
   ]
  },
  {
   "cell_type": "code",
   "execution_count": 50,
   "id": "c507360a",
   "metadata": {},
   "outputs": [
    {
     "data": {
      "text/latex": [
       "$\\displaystyle x_{1} = x_{3}$"
      ],
      "text/plain": [
       "Eq(x1, x3)"
      ]
     },
     "execution_count": 50,
     "metadata": {},
     "output_type": "execute_result"
    }
   ],
   "source": [
    "eq_carbon = sp.Eq(x1, x3)         \n",
    "eq_carbon"
   ]
  },
  {
   "cell_type": "markdown",
   "id": "ef82077f",
   "metadata": {},
   "source": [
    "Hydrogen: 6 from ethanol = 2 per H2O"
   ]
  },
  {
   "cell_type": "code",
   "execution_count": 51,
   "id": "5c3b6275",
   "metadata": {},
   "outputs": [
    {
     "data": {
      "text/latex": [
       "$\\displaystyle 4 x_{1} = 2 x_{4}$"
      ],
      "text/plain": [
       "Eq(4*x1, 2*x4)"
      ]
     },
     "execution_count": 51,
     "metadata": {},
     "output_type": "execute_result"
    }
   ],
   "source": [
    "eq_hydrogen = sp.Eq(4*x1, 2*x4)     \n",
    "eq_hydrogen"
   ]
  },
  {
   "cell_type": "markdown",
   "id": "ab8edb58",
   "metadata": {},
   "source": [
    "Oxygen: 1 in ethanol + 2 per O2 = 2 per CO2 + 1 per H2O"
   ]
  },
  {
   "cell_type": "code",
   "execution_count": 52,
   "id": "8ec59500",
   "metadata": {},
   "outputs": [
    {
     "data": {
      "text/latex": [
       "$\\displaystyle x_{1} + 2 x_{2} = 2 x_{3} + x_{4}$"
      ],
      "text/plain": [
       "Eq(x1 + 2*x2, 2*x3 + x4)"
      ]
     },
     "execution_count": 52,
     "metadata": {},
     "output_type": "execute_result"
    }
   ],
   "source": [
    "eq_oxygen = sp.Eq(x1 + 2*x2, 2*x3 + x4)  \n",
    "eq_oxygen"
   ]
  },
  {
   "cell_type": "code",
   "execution_count": 53,
   "id": "92a2a64e",
   "metadata": {},
   "outputs": [
    {
     "data": {
      "text/latex": [
       "$\\displaystyle \\left[\\begin{matrix}1 & 0 & -1 & 0\\\\4 & 0 & 0 & -2\\\\1 & 2 & -2 & -1\\end{matrix}\\right]$"
      ],
      "text/plain": [
       "Matrix([\n",
       "[1, 0, -1,  0],\n",
       "[4, 0,  0, -2],\n",
       "[1, 2, -2, -1]])"
      ]
     },
     "execution_count": 53,
     "metadata": {},
     "output_type": "execute_result"
    }
   ],
   "source": [
    "A, b = sp.linear_eq_to_matrix([eq_carbon, eq_hydrogen, eq_oxygen], (x1, x2, x3, x4))\n",
    "A"
   ]
  },
  {
   "cell_type": "code",
   "execution_count": 54,
   "id": "23e7c660",
   "metadata": {},
   "outputs": [
    {
     "data": {
      "text/latex": [
       "$\\displaystyle \\left[\\begin{matrix}0\\\\0\\\\0\\end{matrix}\\right]$"
      ],
      "text/plain": [
       "Matrix([\n",
       "[0],\n",
       "[0],\n",
       "[0]])"
      ]
     },
     "execution_count": 54,
     "metadata": {},
     "output_type": "execute_result"
    }
   ],
   "source": [
    "b"
   ]
  },
  {
   "cell_type": "code",
   "execution_count": 55,
   "id": "54daca19",
   "metadata": {},
   "outputs": [
    {
     "data": {
      "text/plain": [
       "1"
      ]
     },
     "execution_count": 55,
     "metadata": {},
     "output_type": "execute_result"
    }
   ],
   "source": [
    "nullspace = A.nullspace()\n",
    "len(nullspace)"
   ]
  },
  {
   "cell_type": "code",
   "execution_count": 56,
   "id": "9152ff86",
   "metadata": {},
   "outputs": [
    {
     "data": {
      "text/latex": [
       "$\\displaystyle \\left[\\begin{matrix}\\frac{1}{2}\\\\\\frac{3}{4}\\\\\\frac{1}{2}\\\\1\\end{matrix}\\right]$"
      ],
      "text/plain": [
       "Matrix([\n",
       "[1/2],\n",
       "[3/4],\n",
       "[1/2],\n",
       "[  1]])"
      ]
     },
     "execution_count": 56,
     "metadata": {},
     "output_type": "execute_result"
    }
   ],
   "source": [
    "basis_vector = nullspace[0]\n",
    "basis_vector"
   ]
  },
  {
   "cell_type": "code",
   "execution_count": 57,
   "id": "b9448081",
   "metadata": {},
   "outputs": [
    {
     "data": {
      "text/latex": [
       "$\\displaystyle \\left[\\begin{matrix}2\\\\3\\\\2\\\\4\\end{matrix}\\right]$"
      ],
      "text/plain": [
       "Matrix([\n",
       "[2],\n",
       "[3],\n",
       "[2],\n",
       "[4]])"
      ]
     },
     "execution_count": 57,
     "metadata": {},
     "output_type": "execute_result"
    }
   ],
   "source": [
    "solution = scale_vector(basis_vector)\n",
    "solution"
   ]
  },
  {
   "cell_type": "code",
   "execution_count": 58,
   "id": "4020ab22",
   "metadata": {},
   "outputs": [
    {
     "data": {
      "text/latex": [
       "$\\displaystyle 2 C_{2} H_5 OH + 3 O_{2} \\rightarrow 2 CO_{2} + 4 H_{2} O$"
      ],
      "text/plain": [
       "<IPython.core.display.Math object>"
      ]
     },
     "metadata": {},
     "output_type": "display_data"
    }
   ],
   "source": [
    "display_reaction(solution, species)"
   ]
  },
  {
   "cell_type": "markdown",
   "id": "e27da3a4",
   "metadata": {
    "tags": [
     "remove-print"
    ]
   },
   "source": [
    "[Think Linear Algebra](https://allendowney.github.io/ThinkLinearAlgebra/index.html)\n",
    "\n",
    "Copyright 2025 [Allen B. Downey](https://allendowney.com)\n",
    "\n",
    "Code license: [MIT License](https://mit-license.org/)\n",
    "\n",
    "Text license: [Creative Commons Attribution-NonCommercial-ShareAlike 4.0 International](https://creativecommons.org/licenses/by-nc-sa/4.0/)"
   ]
  },
  {
   "cell_type": "code",
   "execution_count": null,
   "id": "c8b4e400-dc97-498e-9016-3e9ef05dc7a3",
   "metadata": {},
   "outputs": [],
   "source": []
  }
 ],
 "metadata": {
  "celltoolbar": "Tags",
  "kernelspec": {
   "display_name": "Python 3 (ipykernel)",
   "language": "python",
   "name": "python3"
  },
  "language_info": {
   "codemirror_mode": {
    "name": "ipython",
    "version": 3
   },
   "file_extension": ".py",
   "mimetype": "text/x-python",
   "name": "python",
   "nbconvert_exporter": "python",
   "pygments_lexer": "ipython3",
   "version": "3.10.16"
  }
 },
 "nbformat": 4,
 "nbformat_minor": 5
}
