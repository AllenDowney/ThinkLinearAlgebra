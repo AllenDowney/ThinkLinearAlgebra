{
 "cells": [
  {
   "cell_type": "markdown",
   "id": "025b76df",
   "metadata": {},
   "source": [
    "*Think Linear Algebra* is not for sale yet, but if you would like to support this project, you can [buy me a coffee](https://buymeacoffee.com/allendowney)."
   ]
  },
  {
   "cell_type": "markdown",
   "id": "85c30bdb",
   "metadata": {},
   "source": [
    "# The Power of Linear Algebra\n",
    "\n",
    "One of the challenges of learning Linear Algebra is where to start.\n",
    "Most textbooks start with vector arithmetic, which make senses if you are working with paper and pencil, but they take a long time to get to something useful.\n",
    "\n",
    "With a computational approach, we have the option to proceed top-down -- that is, we can start with libraries that implement the core algorithms of linear algebra, and wait until later to see how they work.\n",
    "With this approach we can can get to the good stuff faster.\n",
    "\n",
    "To demonstrate, this chapter introduces vectors, matrices, and matrix-vector multiplication.\n",
    "We'll use these tools to simulate a random walk in a network, and we'll implement the PageRank algorithm Google used to revolutionize web search.\n",
    "Along the way, we'll learn about eigenvectors, one of the most powerful ideas in linear algebra.\n",
    "\n",
    "That's a lot for just one chapter, so we'll move quickly.\n",
    "If you don't feel like you understand all of it deeply, don't worry -- we'll come back to these topics in future chapters.\n",
    "But I hope you'll find it useful to get the big picture before we fill in the details."
   ]
  },
  {
   "cell_type": "markdown",
   "id": "3893fe82",
   "metadata": {
    "tags": [
     "remove-print"
    ]
   },
   "source": [
    "[Click here to run this notebook on Colab](https://colab.research.google.com/github/AllenDowney/ThinkLinearAlgebra/blob/main/chapters/eigenvector.ipynb)."
   ]
  },
  {
   "cell_type": "code",
   "execution_count": 1,
   "id": "29ff700f",
   "metadata": {
    "tags": [
     "remove-cell"
    ]
   },
   "outputs": [],
   "source": [
    "# temporary hack to make autoreload work on Colab\n",
    "import importlib, sys\n",
    "sys.modules[\"imp\"] = importlib\n",
    "\n",
    "%load_ext autoreload\n",
    "%autoreload 2"
   ]
  },
  {
   "cell_type": "code",
   "execution_count": 2,
   "id": "02d400cf",
   "metadata": {
    "tags": [
     "remove-print",
     "hide-cell"
    ]
   },
   "outputs": [],
   "source": [
    "from os.path import basename, exists\n",
    "\n",
    "\n",
    "def download(url):\n",
    "    filename = basename(url)\n",
    "    if not exists(filename):\n",
    "        from urllib.request import urlretrieve\n",
    "\n",
    "        local, _ = urlretrieve(url, filename)\n",
    "        print(\"Downloaded \" + local)\n",
    "\n",
    "\n",
    "download(\"https://github.com/AllenDowney/ThinkLinearAlgebra/raw/main/utils.py\")"
   ]
  },
  {
   "cell_type": "code",
   "execution_count": 3,
   "id": "1a3119be",
   "metadata": {
    "tags": [
     "hide-cell",
     "remove-print"
    ]
   },
   "outputs": [],
   "source": [
    "import networkx as nx\n",
    "import numpy as np\n",
    "import pandas as pd\n",
    "import matplotlib.pyplot as plt\n",
    "import sympy as sp\n",
    "\n",
    "from utils import decorate"
   ]
  },
  {
   "cell_type": "code",
   "execution_count": 5,
   "id": "4864db61",
   "metadata": {
    "tags": [
     "remove-cell"
    ]
   },
   "outputs": [],
   "source": [
    "from utils import set_precision\n",
    "\n",
    "set_precision(3)"
   ]
  },
  {
   "cell_type": "markdown",
   "id": "aa7f6d56",
   "metadata": {},
   "source": [
    "## A Day at the Museum\n",
    "\n",
    "Suppose you are meeting a friend at the Isabella Stewart Gardner Museum in Boston.\n",
    "You have not agreed on a meeting place -- and let's assume your cell phone is dead.\n",
    "If you are familiar with the layout of the museum, you might be able to make an intelligent guess about where to look for your friend.\n",
    "\n",
    "As a rough model of the situation, suppose your friend has been at the museum for some time, wandering from room to room at random.\n",
    "By simulating this random walk, we can compute their probability of being in each room.\n",
    "\n",
    "As a small example, we'll create a graph that represents just a few of the rooms and the connections between them (based on the actual layout of the Gardner Museum)."
   ]
  },
  {
   "cell_type": "code",
   "execution_count": 4,
   "id": "519f04dc",
   "metadata": {},
   "outputs": [],
   "source": [
    "G = nx.Graph()\n",
    "edges = [\n",
    "    (\"Lobby\", \"Living Room\"),\n",
    "    (\"Lobby\", \"Shop\"),\n",
    "    (\"Lobby\", \"Main Stair\"),\n",
    "    (\"Living Room\", \"Main Stair\"),\n",
    "    (\"Main Stair\", \"Café\"),\n",
    "    (\"Café\", \"Garden\"),\n",
    "]\n",
    "G.add_edges_from(edges)"
   ]
  },
  {
   "cell_type": "markdown",
   "id": "e174e6f5",
   "metadata": {},
   "source": [
    "Here's what the graph looks like."
   ]
  },
  {
   "cell_type": "code",
   "execution_count": 5,
   "id": "329f6cc2",
   "metadata": {
    "tags": [
     "remove-input"
    ]
   },
   "outputs": [
    {
     "data": {
      "image/png": "[encoded data removed]",
      "text/plain": [
       "<Figure size 262.5x187.5 with 1 Axes>"
      ]
     },
     "metadata": {},
     "output_type": "display_data"
    }
   ],
   "source": [
    "# Approximate positions (manually aligned to floor plan layout)\n",
    "positions = {\n",
    "    \"Lobby\": (0, 0),\n",
    "    \"Main Stair\": (0, 1),\n",
    "    \"Shop\": (-1, 1),\n",
    "    \"Garden\": (2, 2),\n",
    "    \"Living Room\": (1, 1),\n",
    "    \"Café\": (1, 2),\n",
    "}\n",
    "\n",
    "plt.figure(figsize=(3.5, 2.5))\n",
    "nx.draw(\n",
    "    G, positions,\n",
    "    with_labels=True,\n",
    "    node_color='lightblue',\n",
    "    node_size=1000,\n",
    "    node_shape='s',\n",
    "    font_size=10,\n",
    "    edge_color='gray'\n",
    ")\n",
    "plt.title(\"Gardner Museum\")\n",
    "plt.axis('off');"
   ]
  },
  {
   "cell_type": "markdown",
   "id": "cd7dd433",
   "metadata": {},
   "source": [
    "The following function takes this graph and simulates a random walk through the museum.\n",
    "It uses a `Counter` to keep track of the number of times each room is visited.\n",
    "Then it divides through by the number of iterations, so the values in the `Counter` add up to  one."
   ]
  },
  {
   "cell_type": "code",
   "execution_count": 6,
   "id": "2921ba3a",
   "metadata": {},
   "outputs": [],
   "source": [
    "import random\n",
    "from collections import Counter\n",
    "\n",
    "def random_walk(G, start, iters=1000):\n",
    "    counter = Counter()\n",
    "    node = start\n",
    "    \n",
    "    for _ in range(iters):\n",
    "        node = random.choice(list(G[node]))        \n",
    "        counter[node] += 1\n",
    "        \n",
    "    for key in counter:\n",
    "        counter[key] /= iters\n",
    "\n",
    "    return counter"
   ]
  },
  {
   "cell_type": "markdown",
   "id": "12fb0f94",
   "metadata": {},
   "source": [
    "Here are the results."
   ]
  },
  {
   "cell_type": "code",
   "execution_count": 7,
   "id": "fa134ae8",
   "metadata": {},
   "outputs": [
    {
     "data": {
      "text/plain": [
       "Counter({'Main Stair': 0.262,\n",
       "         'Lobby': 0.237,\n",
       "         'Café': 0.175,\n",
       "         'Living Room': 0.170,\n",
       "         'Garden': 0.086,\n",
       "         'Shop': 0.070})"
      ]
     },
     "execution_count": 7,
     "metadata": {},
     "output_type": "execute_result"
    }
   ],
   "source": [
    "random_walk(G, 'Lobby')"
   ]
  },
  {
   "cell_type": "markdown",
   "id": "2a67c579",
   "metadata": {},
   "source": [
    "These values estimate the long-run probabilities of finding a random walker in each room.\n",
    "\n",
    "In reality, your friend doesn't wander completely at random, and they have not been in the museum forever.\n",
    "Even so, it is probably true that you are more likely to find them in the Lobby or Main Stair, and less likely to find them in the Shop or Garden.\n",
    "\n",
    "So far, there is not much linear algebra in this linear algebra book.\n",
    "Let's see what we can do about that."
   ]
  },
  {
   "cell_type": "markdown",
   "id": "fb97d0cd",
   "metadata": {},
   "source": [
    "## The Adjacency Matrix\n",
    "\n",
    "As a first step toward linear algebra, we'll use the `to_numpy_array` method to compute an array that represents the edges in the graph."
   ]
  },
  {
   "cell_type": "code",
   "execution_count": 8,
   "id": "3b789f6e",
   "metadata": {},
   "outputs": [
    {
     "data": {
      "text/plain": [
       "array([[0, 1, 1, 1, 0, 0],\n",
       "       [1, 0, 0, 1, 0, 0],\n",
       "       [1, 0, 0, 0, 0, 0],\n",
       "       [1, 1, 0, 0, 1, 0],\n",
       "       [0, 0, 0, 1, 0, 1],\n",
       "       [0, 0, 0, 0, 1, 0]])"
      ]
     },
     "execution_count": 8,
     "metadata": {},
     "output_type": "execute_result"
    }
   ],
   "source": [
    "A = nx.to_numpy_array(G).astype(int)\n",
    "A"
   ]
  },
  {
   "cell_type": "markdown",
   "id": "3d80d77e",
   "metadata": {},
   "source": [
    "This result is called an **adjacency matrix**.\n",
    "Each element is either `1` to indicate that there is an edge between two nodes or `0` to indicate that there is not.\n",
    "Each row corresponds to one node, in the order they appear in the graph.\n",
    "We'll use the following function to label the rows and columns with the names of the rooms."
   ]
  },
  {
   "cell_type": "code",
   "execution_count": 9,
   "id": "bd463a65",
   "metadata": {},
   "outputs": [],
   "source": [
    "def show_matrix(A, G):\n",
    "     return pd.DataFrame(A, index=G.nodes, columns=G.nodes)"
   ]
  },
  {
   "cell_type": "code",
   "execution_count": 10,
   "id": "7c98cc14",
   "metadata": {},
   "outputs": [
    {
     "data": {
      "text/html": [
       "<div>\n",
       "<style scoped>\n",
       "    .dataframe tbody tr th:only-of-type {\n",
       "        vertical-align: middle;\n",
       "    }\n",
       "\n",
       "    .dataframe tbody tr th {\n",
       "        vertical-align: top;\n",
       "    }\n",
       "\n",
       "    .dataframe thead th {\n",
       "        text-align: right;\n",
       "    }\n",
       "</style>\n",
       "<table border=\"1\" class=\"dataframe\">\n",
       "  <thead>\n",
       "    <tr style=\"text-align: right;\">\n",
       "      <th></th>\n",
       "      <th>Lobby</th>\n",
       "      <th>Living Room</th>\n",
       "      <th>Shop</th>\n",
       "      <th>Main Stair</th>\n",
       "      <th>Café</th>\n",
       "      <th>Garden</th>\n",
       "    </tr>\n",
       "  </thead>\n",
       "  <tbody>\n",
       "    <tr>\n",
       "      <th>Lobby</th>\n",
       "      <td>0</td>\n",
       "      <td>1</td>\n",
       "      <td>1</td>\n",
       "      <td>1</td>\n",
       "      <td>0</td>\n",
       "      <td>0</td>\n",
       "    </tr>\n",
       "    <tr>\n",
       "      <th>Living Room</th>\n",
       "      <td>1</td>\n",
       "      <td>0</td>\n",
       "      <td>0</td>\n",
       "      <td>1</td>\n",
       "      <td>0</td>\n",
       "      <td>0</td>\n",
       "    </tr>\n",
       "    <tr>\n",
       "      <th>Shop</th>\n",
       "      <td>1</td>\n",
       "      <td>0</td>\n",
       "      <td>0</td>\n",
       "      <td>0</td>\n",
       "      <td>0</td>\n",
       "      <td>0</td>\n",
       "    </tr>\n",
       "    <tr>\n",
       "      <th>Main Stair</th>\n",
       "      <td>1</td>\n",
       "      <td>1</td>\n",
       "      <td>0</td>\n",
       "      <td>0</td>\n",
       "      <td>1</td>\n",
       "      <td>0</td>\n",
       "    </tr>\n",
       "    <tr>\n",
       "      <th>Café</th>\n",
       "      <td>0</td>\n",
       "      <td>0</td>\n",
       "      <td>0</td>\n",
       "      <td>1</td>\n",
       "      <td>0</td>\n",
       "      <td>1</td>\n",
       "    </tr>\n",
       "    <tr>\n",
       "      <th>Garden</th>\n",
       "      <td>0</td>\n",
       "      <td>0</td>\n",
       "      <td>0</td>\n",
       "      <td>0</td>\n",
       "      <td>1</td>\n",
       "      <td>0</td>\n",
       "    </tr>\n",
       "  </tbody>\n",
       "</table>\n",
       "</div>"
      ],
      "text/plain": [
       "             Lobby  Living Room  Shop  Main Stair  Café  Garden\n",
       "Lobby            0            1     1           1     0       0\n",
       "Living Room      1            0     0           1     0       0\n",
       "Shop             1            0     0           0     0       0\n",
       "Main Stair       1            1     0           0     1       0\n",
       "Café             0            0     0           1     0       1\n",
       "Garden           0            0     0           0     1       0"
      ]
     },
     "execution_count": 10,
     "metadata": {},
     "output_type": "execute_result"
    }
   ],
   "source": [
    "show_matrix(A, G)"
   ]
  },
  {
   "cell_type": "markdown",
   "id": "88b8578c",
   "metadata": {},
   "source": [
    "So the first row indicates that there are edges from the Lobby to the Living Room, Shop, and Main Stair, but not to the other rooms (and not to itself).\n",
    "\n",
    "You might notice that the object we created is a NumPy *array*, but it is called an adjacency *matrix*, and you might wonder what the difference is.\n",
    "This is a common source of confusion, made worse because people often use the terms interchangeably.\n",
    "\n",
    "An array is a general-purpose way to store multidimensional data.\n",
    "In this example it's two-dimensional, but arrays can have any number of dimensions.\n",
    "An array can be used to represent a matrix, but it can also represent other things.\n",
    "\n",
    "A matrix a mathematical entity defined in linear algebra.\n",
    "If you say that an object is a matrix, that implies that it follows matrix rules.\n",
    "For example, when we multiply matrixes, we'll perform matrix multiplication, which is different in important ways from multiplication of plain old numbers.\n",
    "\n",
    "The difference between a matrix and an array is similar to the difference between a number and a numeral.\n",
    "For example, the number two can be represented by the Hindu-Arabic numeral `2`.\n",
    "But it can also be represented by the Roman numeral `Ⅱ` or by the Suzhou numeral `〢`.\n",
    "So a number is a mathematical entity that can be represented by different numerals, and a matrix is an entity that can be represented by different data structures."
   ]
  },
  {
   "cell_type": "markdown",
   "id": "65ad236c",
   "metadata": {},
   "source": [
    "We can use the adjacency matrix to compute a **transition matrix**, which represents the probability that a random walker moves from each room to the others.\n",
    "\n",
    "We use the following function, computing the sum of each column and dividing through so that each column adds up to `1`."
   ]
  },
  {
   "cell_type": "code",
   "execution_count": 11,
   "id": "fcadb19b",
   "metadata": {},
   "outputs": [],
   "source": [
    "def make_transition_matrix(A):\n",
    "    return A / A.sum(axis=0, keepdims=True)"
   ]
  },
  {
   "cell_type": "markdown",
   "id": "4fc9318b",
   "metadata": {},
   "source": [
    "Here's the transition matrix for the museum graph."
   ]
  },
  {
   "cell_type": "code",
   "execution_count": 12,
   "id": "f87db461",
   "metadata": {},
   "outputs": [
    {
     "data": {
      "text/html": [
       "<div>\n",
       "<style scoped>\n",
       "    .dataframe tbody tr th:only-of-type {\n",
       "        vertical-align: middle;\n",
       "    }\n",
       "\n",
       "    .dataframe tbody tr th {\n",
       "        vertical-align: top;\n",
       "    }\n",
       "\n",
       "    .dataframe thead th {\n",
       "        text-align: right;\n",
       "    }\n",
       "</style>\n",
       "<table border=\"1\" class=\"dataframe\">\n",
       "  <thead>\n",
       "    <tr style=\"text-align: right;\">\n",
       "      <th></th>\n",
       "      <th>Lobby</th>\n",
       "      <th>Living Room</th>\n",
       "      <th>Shop</th>\n",
       "      <th>Main Stair</th>\n",
       "      <th>Café</th>\n",
       "      <th>Garden</th>\n",
       "    </tr>\n",
       "  </thead>\n",
       "  <tbody>\n",
       "    <tr>\n",
       "      <th>Lobby</th>\n",
       "      <td>0.000</td>\n",
       "      <td>0.500</td>\n",
       "      <td>1.000</td>\n",
       "      <td>0.333</td>\n",
       "      <td>0.000</td>\n",
       "      <td>0.000</td>\n",
       "    </tr>\n",
       "    <tr>\n",
       "      <th>Living Room</th>\n",
       "      <td>0.333</td>\n",
       "      <td>0.000</td>\n",
       "      <td>0.000</td>\n",
       "      <td>0.333</td>\n",
       "      <td>0.000</td>\n",
       "      <td>0.000</td>\n",
       "    </tr>\n",
       "    <tr>\n",
       "      <th>Shop</th>\n",
       "      <td>0.333</td>\n",
       "      <td>0.000</td>\n",
       "      <td>0.000</td>\n",
       "      <td>0.000</td>\n",
       "      <td>0.000</td>\n",
       "      <td>0.000</td>\n",
       "    </tr>\n",
       "    <tr>\n",
       "      <th>Main Stair</th>\n",
       "      <td>0.333</td>\n",
       "      <td>0.500</td>\n",
       "      <td>0.000</td>\n",
       "      <td>0.000</td>\n",
       "      <td>0.500</td>\n",
       "      <td>0.000</td>\n",
       "    </tr>\n",
       "    <tr>\n",
       "      <th>Café</th>\n",
       "      <td>0.000</td>\n",
       "      <td>0.000</td>\n",
       "      <td>0.000</td>\n",
       "      <td>0.333</td>\n",
       "      <td>0.000</td>\n",
       "      <td>1.000</td>\n",
       "    </tr>\n",
       "    <tr>\n",
       "      <th>Garden</th>\n",
       "      <td>0.000</td>\n",
       "      <td>0.000</td>\n",
       "      <td>0.000</td>\n",
       "      <td>0.000</td>\n",
       "      <td>0.500</td>\n",
       "      <td>0.000</td>\n",
       "    </tr>\n",
       "  </tbody>\n",
       "</table>\n",
       "</div>"
      ],
      "text/plain": [
       "             Lobby  Living Room  Shop  Main Stair  Café  Garden\n",
       "Lobby        0.000        0.500 1.000       0.333 0.000   0.000\n",
       "Living Room  0.333        0.000 0.000       0.333 0.000   0.000\n",
       "Shop         0.333        0.000 0.000       0.000 0.000   0.000\n",
       "Main Stair   0.333        0.500 0.000       0.000 0.500   0.000\n",
       "Café         0.000        0.000 0.000       0.333 0.000   1.000\n",
       "Garden       0.000        0.000 0.000       0.000 0.500   0.000"
      ]
     },
     "execution_count": 12,
     "metadata": {},
     "output_type": "execute_result"
    }
   ],
   "source": [
    "M = make_transition_matrix(A)\n",
    "show_matrix(M, G)"
   ]
  },
  {
   "cell_type": "markdown",
   "id": "e76d5c15",
   "metadata": {},
   "source": [
    "To understand what this means, let's consider the first row."
   ]
  },
  {
   "cell_type": "code",
   "execution_count": 13,
   "id": "8ab347cc",
   "metadata": {},
   "outputs": [
    {
     "data": {
      "text/plain": [
       "array([0.   , 0.5  , 1.   , 0.333, 0.   , 0.   ])"
      ]
     },
     "execution_count": 13,
     "metadata": {},
     "output_type": "execute_result"
    }
   ],
   "source": [
    "row0 = M[0]\n",
    "row0"
   ]
  },
  {
   "cell_type": "markdown",
   "id": "89e6429e",
   "metadata": {},
   "source": [
    "Each row is a one-dimensional array that we can think of as a vector.\n",
    "Like a matrix, a vector is a mathematical entity that can be represented many ways -- but in this chapter we'll use arrays.\n",
    "We'll use the following function to display vectors with labels."
   ]
  },
  {
   "cell_type": "code",
   "execution_count": 14,
   "id": "ad51e6f2",
   "metadata": {},
   "outputs": [],
   "source": [
    "def show_vector(v, G, index):\n",
    "    return pd.DataFrame([v], index=[index], columns=G.nodes)"
   ]
  },
  {
   "cell_type": "markdown",
   "id": "8e60c971",
   "metadata": {},
   "source": [
    "Here's the first row again."
   ]
  },
  {
   "cell_type": "code",
   "execution_count": 15,
   "id": "cb4fe29c",
   "metadata": {},
   "outputs": [
    {
     "data": {
      "text/html": [
       "<div>\n",
       "<style scoped>\n",
       "    .dataframe tbody tr th:only-of-type {\n",
       "        vertical-align: middle;\n",
       "    }\n",
       "\n",
       "    .dataframe tbody tr th {\n",
       "        vertical-align: top;\n",
       "    }\n",
       "\n",
       "    .dataframe thead th {\n",
       "        text-align: right;\n",
       "    }\n",
       "</style>\n",
       "<table border=\"1\" class=\"dataframe\">\n",
       "  <thead>\n",
       "    <tr style=\"text-align: right;\">\n",
       "      <th></th>\n",
       "      <th>Lobby</th>\n",
       "      <th>Living Room</th>\n",
       "      <th>Shop</th>\n",
       "      <th>Main Stair</th>\n",
       "      <th>Café</th>\n",
       "      <th>Garden</th>\n",
       "    </tr>\n",
       "  </thead>\n",
       "  <tbody>\n",
       "    <tr>\n",
       "      <th>Lobby</th>\n",
       "      <td>0.000</td>\n",
       "      <td>0.500</td>\n",
       "      <td>1.000</td>\n",
       "      <td>0.333</td>\n",
       "      <td>0.000</td>\n",
       "      <td>0.000</td>\n",
       "    </tr>\n",
       "  </tbody>\n",
       "</table>\n",
       "</div>"
      ],
      "text/plain": [
       "       Lobby  Living Room  Shop  Main Stair  Café  Garden\n",
       "Lobby  0.000        0.500 1.000       0.333 0.000   0.000"
      ]
     },
     "execution_count": 15,
     "metadata": {},
     "output_type": "execute_result"
    }
   ],
   "source": [
    "show_vector(row0, G, 'Lobby')"
   ]
  },
  {
   "cell_type": "markdown",
   "id": "200bbd6f",
   "metadata": {},
   "source": [
    "We can interpret the elements of this vector as transition probabilities from other rooms to the Lobby.\n",
    "For example, the element corresponding to the Living Room is 0.5, which means that if someone is in the Living Room and they follow a random edge, the probability they end up in the Lobby is 0.5.\n",
    "If they leave the Shop, the probability is 1, and if they leave the Main Stair, the probability is 0.333."
   ]
  },
  {
   "cell_type": "markdown",
   "id": "bdd28c74",
   "metadata": {},
   "source": [
    "## Dot Product\n",
    "\n",
    "Now suppose there are 100 people in every room.\n",
    "We can create an array that represents this hypothetical starting condition."
   ]
  },
  {
   "cell_type": "code",
   "execution_count": 16,
   "id": "d5cc2fa7",
   "metadata": {},
   "outputs": [
    {
     "data": {
      "text/html": [
       "<div>\n",
       "<style scoped>\n",
       "    .dataframe tbody tr th:only-of-type {\n",
       "        vertical-align: middle;\n",
       "    }\n",
       "\n",
       "    .dataframe tbody tr th {\n",
       "        vertical-align: top;\n",
       "    }\n",
       "\n",
       "    .dataframe thead th {\n",
       "        text-align: right;\n",
       "    }\n",
       "</style>\n",
       "<table border=\"1\" class=\"dataframe\">\n",
       "  <thead>\n",
       "    <tr style=\"text-align: right;\">\n",
       "      <th></th>\n",
       "      <th>Lobby</th>\n",
       "      <th>Living Room</th>\n",
       "      <th>Shop</th>\n",
       "      <th>Main Stair</th>\n",
       "      <th>Café</th>\n",
       "      <th>Garden</th>\n",
       "    </tr>\n",
       "  </thead>\n",
       "  <tbody>\n",
       "    <tr>\n",
       "      <th>count</th>\n",
       "      <td>100</td>\n",
       "      <td>100</td>\n",
       "      <td>100</td>\n",
       "      <td>100</td>\n",
       "      <td>100</td>\n",
       "      <td>100</td>\n",
       "    </tr>\n",
       "  </tbody>\n",
       "</table>\n",
       "</div>"
      ],
      "text/plain": [
       "       Lobby  Living Room  Shop  Main Stair  Café  Garden\n",
       "count    100          100   100         100   100     100"
      ]
     },
     "execution_count": 16,
     "metadata": {},
     "output_type": "execute_result"
    }
   ],
   "source": [
    "N = len(G)\n",
    "x0 = np.full(N, 100)\n",
    "show_vector(x0, G, 'count')"
   ]
  },
  {
   "cell_type": "markdown",
   "id": "6a5e4771",
   "metadata": {},
   "source": [
    "And now suppose that everyone leaves the room they are in, choosing one of the exits at random.\n",
    "To find out how many of them end up in the Lobby, we can multiply `row0` by `x`."
   ]
  },
  {
   "cell_type": "code",
   "execution_count": 17,
   "id": "2bb49889",
   "metadata": {},
   "outputs": [
    {
     "data": {
      "text/html": [
       "<div>\n",
       "<style scoped>\n",
       "    .dataframe tbody tr th:only-of-type {\n",
       "        vertical-align: middle;\n",
       "    }\n",
       "\n",
       "    .dataframe tbody tr th {\n",
       "        vertical-align: top;\n",
       "    }\n",
       "\n",
       "    .dataframe thead th {\n",
       "        text-align: right;\n",
       "    }\n",
       "</style>\n",
       "<table border=\"1\" class=\"dataframe\">\n",
       "  <thead>\n",
       "    <tr style=\"text-align: right;\">\n",
       "      <th></th>\n",
       "      <th>Lobby</th>\n",
       "      <th>Living Room</th>\n",
       "      <th>Shop</th>\n",
       "      <th>Main Stair</th>\n",
       "      <th>Café</th>\n",
       "      <th>Garden</th>\n",
       "    </tr>\n",
       "  </thead>\n",
       "  <tbody>\n",
       "    <tr>\n",
       "      <th>Lobby</th>\n",
       "      <td>0.000</td>\n",
       "      <td>50.000</td>\n",
       "      <td>100.000</td>\n",
       "      <td>33.333</td>\n",
       "      <td>0.000</td>\n",
       "      <td>0.000</td>\n",
       "    </tr>\n",
       "  </tbody>\n",
       "</table>\n",
       "</div>"
      ],
      "text/plain": [
       "       Lobby  Living Room    Shop  Main Stair  Café  Garden\n",
       "Lobby  0.000       50.000 100.000      33.333 0.000   0.000"
      ]
     },
     "execution_count": 17,
     "metadata": {},
     "output_type": "execute_result"
    }
   ],
   "source": [
    "product = row0 * x0\n",
    "show_vector(product, G, 'Lobby')"
   ]
  },
  {
   "cell_type": "markdown",
   "id": "613255df",
   "metadata": {},
   "source": [
    "When we use the `*` operator to multiply two arrays, the multiplication happens **elementwise** -- that is, each element from one vector is multiplied by the corresponding element of the other.\n",
    "\n",
    "The result indicates that 50 people would move from the Living Room to the Lobby, 100 from the Shop, and 33.33 from the Main Stair.\n",
    "The total number of people who would end up in the library is the sum of these products."
   ]
  },
  {
   "cell_type": "code",
   "execution_count": 18,
   "id": "32e4c3fc",
   "metadata": {},
   "outputs": [
    {
     "data": {
      "text/plain": [
       "183.333"
      ]
     },
     "execution_count": 18,
     "metadata": {},
     "output_type": "execute_result"
    }
   ],
   "source": [
    "product.sum()"
   ]
  },
  {
   "cell_type": "markdown",
   "id": "efb4c0fe",
   "metadata": {},
   "source": [
    "The sum of elementwise products is an \"inner product\", more often called a **dot product** because the operator used to denote it is a dot.\n",
    "For example, the dot product of vectors $\\mathbf{u}$ and $\\mathbf{v}$ is denoted $\\mathbf{u} \\cdot \\mathbf{v}$.\n",
    "NumPy provides a method called `dot` that computes dot products."
   ]
  },
  {
   "cell_type": "code",
   "execution_count": 19,
   "id": "d13ecb1e",
   "metadata": {},
   "outputs": [
    {
     "data": {
      "text/plain": [
       "183.333"
      ]
     },
     "execution_count": 19,
     "metadata": {},
     "output_type": "execute_result"
    }
   ],
   "source": [
    "row0.dot(x0)"
   ]
  },
  {
   "cell_type": "markdown",
   "id": "284b1458",
   "metadata": {},
   "source": [
    "It also provides an operator that does the same thing:"
   ]
  },
  {
   "cell_type": "code",
   "execution_count": 20,
   "id": "7dbe649f",
   "metadata": {},
   "outputs": [
    {
     "data": {
      "text/plain": [
       "183.333"
      ]
     },
     "execution_count": 20,
     "metadata": {},
     "output_type": "execute_result"
    }
   ],
   "source": [
    "row0 @ x0"
   ]
  },
  {
   "cell_type": "markdown",
   "id": "c00bc1eb",
   "metadata": {},
   "source": [
    "The same operator also computes the dot product of a matrix and a vector, also known as a **matrix-vector product**.\n",
    "It works by computing the dot product of each row of the matrix with the vector."
   ]
  },
  {
   "cell_type": "code",
   "execution_count": 21,
   "id": "64dc30f2",
   "metadata": {},
   "outputs": [
    {
     "data": {
      "text/plain": [
       "array([183.333,  66.667,  33.333, 133.333, 133.333,  50.   ])"
      ]
     },
     "execution_count": 21,
     "metadata": {},
     "output_type": "execute_result"
    }
   ],
   "source": [
    "x1 = M @ x0\n",
    "x1"
   ]
  },
  {
   "cell_type": "markdown",
   "id": "94e9078e",
   "metadata": {},
   "source": [
    "The result is a vector with one element for each row of the matrix."
   ]
  },
  {
   "cell_type": "code",
   "execution_count": 22,
   "id": "4bbef8a6",
   "metadata": {},
   "outputs": [
    {
     "data": {
      "text/html": [
       "<div>\n",
       "<style scoped>\n",
       "    .dataframe tbody tr th:only-of-type {\n",
       "        vertical-align: middle;\n",
       "    }\n",
       "\n",
       "    .dataframe tbody tr th {\n",
       "        vertical-align: top;\n",
       "    }\n",
       "\n",
       "    .dataframe thead th {\n",
       "        text-align: right;\n",
       "    }\n",
       "</style>\n",
       "<table border=\"1\" class=\"dataframe\">\n",
       "  <thead>\n",
       "    <tr style=\"text-align: right;\">\n",
       "      <th></th>\n",
       "      <th>Lobby</th>\n",
       "      <th>Living Room</th>\n",
       "      <th>Shop</th>\n",
       "      <th>Main Stair</th>\n",
       "      <th>Café</th>\n",
       "      <th>Garden</th>\n",
       "    </tr>\n",
       "  </thead>\n",
       "  <tbody>\n",
       "    <tr>\n",
       "      <th>count</th>\n",
       "      <td>183.333</td>\n",
       "      <td>66.667</td>\n",
       "      <td>33.333</td>\n",
       "      <td>133.333</td>\n",
       "      <td>133.333</td>\n",
       "      <td>50.000</td>\n",
       "    </tr>\n",
       "  </tbody>\n",
       "</table>\n",
       "</div>"
      ],
      "text/plain": [
       "        Lobby  Living Room   Shop  Main Stair    Café  Garden\n",
       "count 183.333       66.667 33.333     133.333 133.333  50.000"
      ]
     },
     "execution_count": 22,
     "metadata": {},
     "output_type": "execute_result"
    }
   ],
   "source": [
    "show_vector(x1, G, 'count')"
   ]
  },
  {
   "cell_type": "markdown",
   "id": "38b3a251",
   "metadata": {},
   "source": [
    "The elements of this vector indicate the number of people in each room after the first step of a random walk that starts with 100 people in each room.\n",
    "The total of the elements is 600, which is the same number of people we started with (whew!)."
   ]
  },
  {
   "cell_type": "code",
   "execution_count": 23,
   "id": "9eda2d62",
   "metadata": {},
   "outputs": [
    {
     "data": {
      "text/plain": [
       "600.000"
      ]
     },
     "execution_count": 23,
     "metadata": {},
     "output_type": "execute_result"
    }
   ],
   "source": [
    "x1.sum()"
   ]
  },
  {
   "cell_type": "markdown",
   "id": "6df004c0",
   "metadata": {},
   "source": [
    "We can use the following loop to simulate multiple steps of a random walk."
   ]
  },
  {
   "cell_type": "code",
   "execution_count": 24,
   "id": "86fb341a",
   "metadata": {},
   "outputs": [],
   "source": [
    "def run_random_walk(M, x0, steps):\n",
    "    x = x0\n",
    "    for _ in range(steps):\n",
    "        x = M @ x\n",
    "    return x"
   ]
  },
  {
   "cell_type": "markdown",
   "id": "25e31f16",
   "metadata": {},
   "source": [
    "The arguments are the transition matrix, `M`, a vector representing the number of people starting in each room, `x0`, and the number of steps to compute.\n",
    "During each time step, we simulate random moves by multiplying the current vector `x` by the transition matrix.\n",
    "The result is the final allocation of people to rooms.\n",
    "\n",
    "Before we run this function, we'll make a new starting vector that contains the probability a  person is in each room, rather than the number of people in each room."
   ]
  },
  {
   "cell_type": "code",
   "execution_count": 25,
   "id": "f5dff94d",
   "metadata": {},
   "outputs": [
    {
     "data": {
      "text/html": [
       "<div>\n",
       "<style scoped>\n",
       "    .dataframe tbody tr th:only-of-type {\n",
       "        vertical-align: middle;\n",
       "    }\n",
       "\n",
       "    .dataframe tbody tr th {\n",
       "        vertical-align: top;\n",
       "    }\n",
       "\n",
       "    .dataframe thead th {\n",
       "        text-align: right;\n",
       "    }\n",
       "</style>\n",
       "<table border=\"1\" class=\"dataframe\">\n",
       "  <thead>\n",
       "    <tr style=\"text-align: right;\">\n",
       "      <th></th>\n",
       "      <th>Lobby</th>\n",
       "      <th>Living Room</th>\n",
       "      <th>Shop</th>\n",
       "      <th>Main Stair</th>\n",
       "      <th>Café</th>\n",
       "      <th>Garden</th>\n",
       "    </tr>\n",
       "  </thead>\n",
       "  <tbody>\n",
       "    <tr>\n",
       "      <th>probability</th>\n",
       "      <td>0.167</td>\n",
       "      <td>0.167</td>\n",
       "      <td>0.167</td>\n",
       "      <td>0.167</td>\n",
       "      <td>0.167</td>\n",
       "      <td>0.167</td>\n",
       "    </tr>\n",
       "  </tbody>\n",
       "</table>\n",
       "</div>"
      ],
      "text/plain": [
       "             Lobby  Living Room  Shop  Main Stair  Café  Garden\n",
       "probability  0.167        0.167 0.167       0.167 0.167   0.167"
      ]
     },
     "execution_count": 25,
     "metadata": {},
     "output_type": "execute_result"
    }
   ],
   "source": [
    "x0 = np.full(N, 1/N)\n",
    "show_vector(x0, G, \"probability\")"
   ]
  },
  {
   "cell_type": "markdown",
   "id": "5fcc94e7",
   "metadata": {},
   "source": [
    "And we'll simulate 100 steps."
   ]
  },
  {
   "cell_type": "code",
   "execution_count": 26,
   "id": "698f404d",
   "metadata": {},
   "outputs": [
    {
     "data": {
      "text/plain": [
       "array([0.25 , 0.167, 0.083, 0.25 , 0.167, 0.083])"
      ]
     },
     "execution_count": 26,
     "metadata": {},
     "output_type": "execute_result"
    }
   ],
   "source": [
    "x_final = run_random_walk(M, x0, steps=100)\n",
    "x_final"
   ]
  },
  {
   "cell_type": "markdown",
   "id": "eaf4045a",
   "metadata": {},
   "source": [
    "The result indicates the long-run probability of finding someone in each room."
   ]
  },
  {
   "cell_type": "code",
   "execution_count": 27,
   "id": "7e69703f",
   "metadata": {},
   "outputs": [
    {
     "data": {
      "text/html": [
       "<div>\n",
       "<style scoped>\n",
       "    .dataframe tbody tr th:only-of-type {\n",
       "        vertical-align: middle;\n",
       "    }\n",
       "\n",
       "    .dataframe tbody tr th {\n",
       "        vertical-align: top;\n",
       "    }\n",
       "\n",
       "    .dataframe thead th {\n",
       "        text-align: right;\n",
       "    }\n",
       "</style>\n",
       "<table border=\"1\" class=\"dataframe\">\n",
       "  <thead>\n",
       "    <tr style=\"text-align: right;\">\n",
       "      <th></th>\n",
       "      <th>Lobby</th>\n",
       "      <th>Living Room</th>\n",
       "      <th>Shop</th>\n",
       "      <th>Main Stair</th>\n",
       "      <th>Café</th>\n",
       "      <th>Garden</th>\n",
       "    </tr>\n",
       "  </thead>\n",
       "  <tbody>\n",
       "    <tr>\n",
       "      <th></th>\n",
       "      <td>0.250</td>\n",
       "      <td>0.167</td>\n",
       "      <td>0.083</td>\n",
       "      <td>0.250</td>\n",
       "      <td>0.167</td>\n",
       "      <td>0.083</td>\n",
       "    </tr>\n",
       "  </tbody>\n",
       "</table>\n",
       "</div>"
      ],
      "text/plain": [
       "  Lobby  Living Room  Shop  Main Stair  Café  Garden\n",
       "  0.250        0.167 0.083       0.250 0.167   0.083"
      ]
     },
     "execution_count": 27,
     "metadata": {},
     "output_type": "execute_result"
    }
   ],
   "source": [
    "show_vector(x_final, G, \"\")"
   ]
  },
  {
   "cell_type": "markdown",
   "id": "e39b49b0",
   "metadata": {},
   "source": [
    "This result is similar to the one we computed previously by simulating the random walk and counting."
   ]
  },
  {
   "cell_type": "markdown",
   "id": "df4b8f86",
   "metadata": {},
   "source": [
    "## Eigenvectors\n",
    "\n",
    "In the previous section, we simulated a random walk by multiplying by `M` 100 times.\n",
    "Now let's see what happens if we multiply the result by `M` one more time."
   ]
  },
  {
   "cell_type": "code",
   "execution_count": 28,
   "id": "3335c4d4",
   "metadata": {},
   "outputs": [
    {
     "data": {
      "text/plain": [
       "array([0.25 , 0.167, 0.083, 0.25 , 0.167, 0.083])"
      ]
     },
     "execution_count": 28,
     "metadata": {},
     "output_type": "execute_result"
    }
   ],
   "source": [
    "x = M @ x_final\n",
    "x"
   ]
  },
  {
   "cell_type": "markdown",
   "id": "e0183b18",
   "metadata": {},
   "source": [
    "Let's compare this new product with `x_final`."
   ]
  },
  {
   "cell_type": "code",
   "execution_count": 29,
   "id": "98c638ba",
   "metadata": {},
   "outputs": [
    {
     "data": {
      "text/plain": [
       "True"
      ]
     },
     "execution_count": 29,
     "metadata": {},
     "output_type": "execute_result"
    }
   ],
   "source": [
    "np.allclose(x, x_final)"
   ]
  },
  {
   "cell_type": "markdown",
   "id": "d705fa92",
   "metadata": {},
   "source": [
    "At least within the limits of floating-point arithmetic, they are the same.\n",
    "\n",
    "This result implies that $\\mathbf{M} \\mathbf{x} = \\mathbf{x}$ for this particular value of $\\mathbf{x}$ -- which means that $\\mathbf{x}$ is an **eigenvector** of $\\mathbf{M}$.\n",
    "More generally, $\\mathbf{x}$ is an eigenvector of $\\mathbf{M}$ if $\\mathbf{M} \\mathbf{x} = \\lambda \\mathbf{x}$, where $\\lambda$ is an **eigenvalue** of $\\mathbf{M}$.\n",
    "In this example, the eigenvalue that corresponds to the eigenvector we found is $1$.\n",
    "\n",
    "The method we used to simulate a random walk -- repeated matrix multiplication -- is also an algorithm for finding an eigenvector.\n",
    "If you start with almost any vector `x` and repeatedly compute `x = M @ x`, the value of `x` converges to an eigenvector of `M` (I'll explain the \"almost\" later).\n",
    "\n",
    "But this method only finds one eigenvector, and in general there can be more than one.\n",
    "Also it is not particularly efficient.\n",
    "\n",
    "SciPy provides a function called `eig` that implements an efficient algorithm that finds all of the eigenvectors."
   ]
  },
  {
   "cell_type": "code",
   "execution_count": 30,
   "id": "efc9fc8a",
   "metadata": {},
   "outputs": [],
   "source": [
    "from scipy.linalg import eig\n",
    "\n",
    "vals, vecs = eig(M)"
   ]
  },
  {
   "cell_type": "markdown",
   "id": "9201cb1d",
   "metadata": {},
   "source": [
    "The result is a one-dimensional array of eigenvalues and a two dimensional array of eigenvectors. \n",
    "In this example, there are six eigenvalues."
   ]
  },
  {
   "cell_type": "code",
   "execution_count": 31,
   "id": "704827a1",
   "metadata": {},
   "outputs": [
    {
     "data": {
      "text/plain": [
       "array([ 1.   +0.j,  0.707+0.j,  0.194+0.j, -0.86 +0.j, -0.707+0.j,\n",
       "       -0.333+0.j])"
      ]
     },
     "execution_count": 31,
     "metadata": {},
     "output_type": "execute_result"
    }
   ],
   "source": [
    "vals"
   ]
  },
  {
   "cell_type": "markdown",
   "id": "350e3990",
   "metadata": {},
   "source": [
    "In general, the eigenvalues of a matrix can be complex numbers, but in this example the imaginary parts are all 0 -- that is, the eigenvalues are all real.\n",
    "So we can use the `abs` function to get the real parts."
   ]
  },
  {
   "cell_type": "code",
   "execution_count": 32,
   "id": "ce190c55",
   "metadata": {},
   "outputs": [
    {
     "data": {
      "text/plain": [
       "array([1.   , 0.707, 0.194, 0.86 , 0.707, 0.333])"
      ]
     },
     "execution_count": 32,
     "metadata": {},
     "output_type": "execute_result"
    }
   ],
   "source": [
    "np.abs(vals)"
   ]
  },
  {
   "cell_type": "markdown",
   "id": "6f34f07e",
   "metadata": {},
   "source": [
    "The eigenvector we found by repeated multiplication is the one with eigenvalue 1.\n",
    "We can get the corresponding eigenvector by selecting the first column from `vecs`."
   ]
  },
  {
   "cell_type": "code",
   "execution_count": 33,
   "id": "29f1636f",
   "metadata": {},
   "outputs": [
    {
     "data": {
      "text/plain": [
       "array([-0.567, -0.378, -0.189, -0.567, -0.378, -0.189])"
      ]
     },
     "execution_count": 33,
     "metadata": {},
     "output_type": "execute_result"
    }
   ],
   "source": [
    "vec0 = vecs[:, 0]\n",
    "vec0"
   ]
  },
  {
   "cell_type": "markdown",
   "id": "db67fdb6",
   "metadata": {},
   "source": [
    "That does not immediately look like the eigenvector we found, but if we divide through so the elements add up to 1, we'll see that it is."
   ]
  },
  {
   "cell_type": "code",
   "execution_count": 34,
   "id": "e4944128",
   "metadata": {},
   "outputs": [
    {
     "data": {
      "text/plain": [
       "array([0.25 , 0.167, 0.083, 0.25 , 0.167, 0.083])"
      ]
     },
     "execution_count": 34,
     "metadata": {},
     "output_type": "execute_result"
    }
   ],
   "source": [
    "probs = vec0 / vec0.sum()\n",
    "probs"
   ]
  },
  {
   "cell_type": "code",
   "execution_count": 35,
   "id": "9624379c",
   "metadata": {},
   "outputs": [
    {
     "data": {
      "text/plain": [
       "True"
      ]
     },
     "execution_count": 35,
     "metadata": {},
     "output_type": "execute_result"
    }
   ],
   "source": [
    "np.allclose(probs, x_final)"
   ]
  },
  {
   "cell_type": "markdown",
   "id": "9b88b9c1",
   "metadata": {},
   "source": [
    "While we're at it let's confirm that the other eigenvectors also work.\n",
    "For example, here's the second eigenvector."
   ]
  },
  {
   "cell_type": "code",
   "execution_count": 36,
   "id": "eb32677b",
   "metadata": {},
   "outputs": [
    {
     "data": {
      "text/plain": [
       "array([-5.433e-01, -2.561e-01, -2.561e-01, -8.537e-16,  6.184e-01,\n",
       "        4.373e-01])"
      ]
     },
     "execution_count": 36,
     "metadata": {},
     "output_type": "execute_result"
    }
   ],
   "source": [
    "vec1 = vecs[:, 1]\n",
    "vec1"
   ]
  },
  {
   "cell_type": "markdown",
   "id": "fb100e5a",
   "metadata": {},
   "source": [
    "And the second eigenvalue."
   ]
  },
  {
   "cell_type": "code",
   "execution_count": 37,
   "id": "a818fef0",
   "metadata": {},
   "outputs": [
    {
     "data": {
      "text/plain": [
       "0.707"
      ]
     },
     "execution_count": 37,
     "metadata": {},
     "output_type": "execute_result"
    }
   ],
   "source": [
    "val1 = np.abs(vals[1])\n",
    "val1"
   ]
  },
  {
   "cell_type": "markdown",
   "id": "3b4dd22b",
   "metadata": {},
   "source": [
    "If we multiply `M` and `vec1`, the result should be `val1 * vec1`."
   ]
  },
  {
   "cell_type": "code",
   "execution_count": 38,
   "id": "c3fe0d96",
   "metadata": {},
   "outputs": [
    {
     "data": {
      "text/plain": [
       "True"
      ]
     },
     "execution_count": 38,
     "metadata": {},
     "output_type": "execute_result"
    }
   ],
   "source": [
    "np.allclose(M @ vec1, val1 * vec1)"
   ]
  },
  {
   "cell_type": "markdown",
   "id": "1fbb11c4",
   "metadata": {},
   "source": [
    "And it is."
   ]
  },
  {
   "cell_type": "markdown",
   "id": "93ab821d",
   "metadata": {},
   "source": [
    "## Linearity\n",
    "\n",
    "Since there are multiple eigenvectors for this transition matrix, you might wonder why we focused on the first one and ignored the rest.\n",
    "The reason is that the eigenvector that corresponds to eigenvalue 1 represents a stationary point of `M` -- that is, a distribution of probability across the nodes that is unchanged when we multiply by the transition matrix.\n",
    "\n",
    "The other eigenvalues are all less than 1, which means that if we start with one of the other eigenvectors and multiply by `M` repeatedly, the result gets smaller and smaller, converging toward 0.\n",
    "\n",
    "Now suppose we start with an initial vector that is the sum of all of the eigenvectors.\n",
    "We'll use this function to add up the columns in an array.\n",
    "In NumPy, axis `0` is down the rows and axis `1` is across the columns, so calling `sum` with `axis=1` adds up the columns."
   ]
  },
  {
   "cell_type": "code",
   "execution_count": 39,
   "id": "32bf2532",
   "metadata": {},
   "outputs": [],
   "source": [
    "def add_columns(array):\n",
    "    return array.sum(axis=1)"
   ]
  },
  {
   "cell_type": "markdown",
   "id": "f089e243",
   "metadata": {},
   "source": [
    "Here's the sum of the eigenvectors."
   ]
  },
  {
   "cell_type": "code",
   "execution_count": 40,
   "id": "0d05f4b4",
   "metadata": {},
   "outputs": [],
   "source": [
    "x0 = add_columns(vecs)"
   ]
  },
  {
   "cell_type": "markdown",
   "id": "41b6c08d",
   "metadata": {},
   "source": [
    "And here's what we get when we multiply by `M`."
   ]
  },
  {
   "cell_type": "code",
   "execution_count": 41,
   "id": "b40f6652",
   "metadata": {},
   "outputs": [
    {
     "data": {
      "text/plain": [
       "array([-0.704, -1.026, -0.614,  0.259, -0.574,  0.391])"
      ]
     },
     "execution_count": 41,
     "metadata": {},
     "output_type": "execute_result"
    }
   ],
   "source": [
    "x1 = M @ x0\n",
    "x1"
   ]
  },
  {
   "cell_type": "markdown",
   "id": "91833e58",
   "metadata": {},
   "source": [
    "Multiply by `M` is the same as splitting `x0` up into the original eigenvectors, multiplying each eigenvector by `M`, and then adding up the results -- which we can compute like this:"
   ]
  },
  {
   "cell_type": "code",
   "execution_count": 42,
   "id": "b262c81a",
   "metadata": {},
   "outputs": [
    {
     "data": {
      "text/plain": [
       "array([-0.704, -1.026, -0.614,  0.259, -0.574,  0.391])"
      ]
     },
     "execution_count": 42,
     "metadata": {},
     "output_type": "execute_result"
    }
   ],
   "source": [
    "x1 = add_columns(M @ vecs)\n",
    "x1"
   ]
  },
  {
   "cell_type": "markdown",
   "id": "d201e07c",
   "metadata": {},
   "source": [
    "The result is a weighted the sum of eigenvectors, where the weights are the eigenvalues, which we can compute like this."
   ]
  },
  {
   "cell_type": "code",
   "execution_count": 43,
   "id": "157dade0",
   "metadata": {},
   "outputs": [
    {
     "data": {
      "text/plain": [
       "array([0.704, 1.026, 0.614, 0.259, 0.574, 0.391])"
      ]
     },
     "execution_count": 43,
     "metadata": {},
     "output_type": "execute_result"
    }
   ],
   "source": [
    "x1 = add_columns(vals * vecs)\n",
    "np.abs(x1)"
   ]
  },
  {
   "cell_type": "markdown",
   "id": "73ffcffa",
   "metadata": {},
   "source": [
    "More generally, if we start with any weighted sum of eigenvectors, and multiply by `M`, the part with eigenvalue 1 stays the same, and all of the other parts get smaller.\n",
    "If we multiply repeatedly, the other parts get smaller and smaller until the result is very close to the eigenvector with eigenvalue 1.\n",
    "\n",
    "So if we start with almost any distribution of people across the rooms, and we multiply by `M` as a way of simulating a random walk, the distribution converges to the stationary point, which is the eigenvector with eigenvalue 1.\n",
    "\n",
    "This example shows that matrix multiplication is **linear** -- which is a term that means different things in different contexts.\n",
    "In this context, it means:\n",
    "\n",
    "$$\\sum_i \\left( M \\cdot \\mathbf{v}_i \\right) = M \\cdot \\left( \\sum_i \\mathbf{v}_i \\right) $$\n",
    "\n",
    "Or in words, if we multiply a set of vectors by `M` and add up the results, it's the same as adding up the vectors and multiplying by `M`."
   ]
  },
  {
   "cell_type": "markdown",
   "id": "53b9e7b2",
   "metadata": {},
   "source": [
    "## PageRank\n",
    "\n",
    "The algorithm we used to find a friend at the museum is very close to **PageRank**, the algorithm originally used by Google to quantify the importance of web pages.\n",
    "It works by making a graph where each node is a web page and each edge represents a link.\n",
    "If a page contains a link to another page, the graph contains an edge between the corresponding nodes.\n",
    "\n",
    "In the museum graph, the edges are **undirected** -- that is, if there is a connection from room A to room B, there is also a connection from B to A.\n",
    "There are no one-way doors.\n",
    "\n",
    "In the web graph, the edges are **directed** -- if there is a link from page A to page B, there is not necessarily a link from B to A.\n",
    "\n",
    "As an example, we'll use a dataset of Wikipedia pages collected as part of a research project and made available in the Stanford Large Network Dataset Collection."
   ]
  },
  {
   "cell_type": "markdown",
   "id": "91dcfc77",
   "metadata": {
    "tags": [
     "hide-cell"
    ]
   },
   "source": [
    "> This dataset contains human navigation paths on Wikipedia, collected through the human-computation game Wikispeedia. In Wikispeedia, users are asked to navigate from a given source to a given target article, by only clicking Wikipedia links. A condensed version of Wikipedia (4,604 articles) is used. In addition to the navigation paths, we provide the full HTML package of this version of Wikipedia, as well as all articles in plaintext. \n",
    "\n",
    "https://snap.stanford.edu/data/wikispeedia.html\n",
    "\n",
    "* Robert West and Jure Leskovec: Human Wayfinding in Information Networks. 21st International World Wide Web Conference (WWW), 2012.\n",
    "\n",
    "* Robert West, Joelle Pineau, and Doina Precup: Wikispeedia: An Online Game for Inferring Semantic Distances between Concepts. 21st International Joint Conference on Artificial Intelligence (IJCAI), 2009. "
   ]
  },
  {
   "cell_type": "code",
   "execution_count": 44,
   "id": "13f3deb2",
   "metadata": {},
   "outputs": [],
   "source": [
    "download(\"https://snap.stanford.edu/data/wikispeedia/wikispeedia_paths-and-graph.tar.gz\")"
   ]
  },
  {
   "cell_type": "markdown",
   "id": "cdf4945b",
   "metadata": {},
   "source": [
    "We can use the Pandas function `read_csv` to read the links into a `DataFrame`."
   ]
  },
  {
   "cell_type": "code",
   "execution_count": 45,
   "id": "b5b81c5b",
   "metadata": {},
   "outputs": [],
   "source": [
    "import tarfile\n",
    "\n",
    "archive_file = \"wikispeedia_paths-and-graph.tar.gz\"\n",
    "    \n",
    "with tarfile.open(archive_file, 'r:gz') as tar:\n",
    "    links_file = tar.getmember('wikispeedia_paths-and-graph/links.tsv')\n",
    "    f = tar.extractfile(links_file)\n",
    "    links_df = pd.read_csv(f, sep='\\t', names=['source', 'target'], skiprows=12)"
   ]
  },
  {
   "cell_type": "markdown",
   "id": "dc163b6f",
   "metadata": {},
   "source": [
    "Here's a random sample of the links."
   ]
  },
  {
   "cell_type": "code",
   "execution_count": 46,
   "id": "42e8e2b8",
   "metadata": {},
   "outputs": [
    {
     "data": {
      "text/html": [
       "<div>\n",
       "<style scoped>\n",
       "    .dataframe tbody tr th:only-of-type {\n",
       "        vertical-align: middle;\n",
       "    }\n",
       "\n",
       "    .dataframe tbody tr th {\n",
       "        vertical-align: top;\n",
       "    }\n",
       "\n",
       "    .dataframe thead th {\n",
       "        text-align: right;\n",
       "    }\n",
       "</style>\n",
       "<table border=\"1\" class=\"dataframe\">\n",
       "  <thead>\n",
       "    <tr style=\"text-align: right;\">\n",
       "      <th></th>\n",
       "      <th>source</th>\n",
       "      <th>target</th>\n",
       "    </tr>\n",
       "  </thead>\n",
       "  <tbody>\n",
       "    <tr>\n",
       "      <th>38712</th>\n",
       "      <td>Feather</td>\n",
       "      <td>Reptile</td>\n",
       "    </tr>\n",
       "    <tr>\n",
       "      <th>26590</th>\n",
       "      <td>Consolation_of_Philosophy</td>\n",
       "      <td>Edward_Gibbon</td>\n",
       "    </tr>\n",
       "    <tr>\n",
       "      <th>29767</th>\n",
       "      <td>Death_Valley_National_Park</td>\n",
       "      <td>Glacier</td>\n",
       "    </tr>\n",
       "    <tr>\n",
       "      <th>95281</th>\n",
       "      <td>San_Marino</td>\n",
       "      <td>Croatia</td>\n",
       "    </tr>\n",
       "    <tr>\n",
       "      <th>108854</th>\n",
       "      <td>Tobacco</td>\n",
       "      <td>Tea</td>\n",
       "    </tr>\n",
       "  </tbody>\n",
       "</table>\n",
       "</div>"
      ],
      "text/plain": [
       "                            source         target\n",
       "38712                      Feather        Reptile\n",
       "26590    Consolation_of_Philosophy  Edward_Gibbon\n",
       "29767   Death_Valley_National_Park        Glacier\n",
       "95281                   San_Marino        Croatia\n",
       "108854                     Tobacco            Tea"
      ]
     },
     "execution_count": 46,
     "metadata": {},
     "output_type": "execute_result"
    }
   ],
   "source": [
    "links_df.sample(5)"
   ]
  },
  {
   "cell_type": "markdown",
   "id": "74955b86",
   "metadata": {},
   "source": [
    "We can use the NetworkX function `from_pandas_edgelist` to make a graph.\n",
    "The `create_using` keyword specifies that we want a directed graph -- that is, one that keeps track of the direction of the edges."
   ]
  },
  {
   "cell_type": "code",
   "execution_count": 47,
   "id": "dfd00c50",
   "metadata": {},
   "outputs": [],
   "source": [
    "import networkx as nx\n",
    "\n",
    "G_wiki = nx.from_pandas_edgelist(links_df, create_using=nx.DiGraph())"
   ]
  },
  {
   "cell_type": "markdown",
   "id": "ffa15b40",
   "metadata": {},
   "source": [
    "Here are the number of nodes and edges."
   ]
  },
  {
   "cell_type": "code",
   "execution_count": 48,
   "id": "52312712",
   "metadata": {},
   "outputs": [
    {
     "data": {
      "text/plain": [
       "(4592, 119882)"
      ]
     },
     "execution_count": 48,
     "metadata": {},
     "output_type": "execute_result"
    }
   ],
   "source": [
    "G_wiki.number_of_nodes(), G_wiki.number_of_edges()"
   ]
  },
  {
   "cell_type": "markdown",
   "id": "487b9c44",
   "metadata": {},
   "source": [
    "One of the challenges of working with a directed graph is that it might contain **sink nodes**.\n",
    "For example, if there is a page with no links, it acts like a dead end -- if a random walk enters a sink node, it can't leave.\n",
    "\n",
    "To check for sink nodes, we can use the `out_degree` function, which computes the number of edges that go out from each node."
   ]
  },
  {
   "cell_type": "code",
   "execution_count": 49,
   "id": "04fa1446",
   "metadata": {},
   "outputs": [
    {
     "data": {
      "text/plain": [
       "['Osteomalacia',\n",
       " 'Local_community',\n",
       " 'Directdebit',\n",
       " 'Duchenne_muscular_dystrophy',\n",
       " \"Klinefelter's_syndrome\"]"
      ]
     },
     "execution_count": 49,
     "metadata": {},
     "output_type": "execute_result"
    }
   ],
   "source": [
    "from urllib.parse import unquote\n",
    "\n",
    "sink_nodes = [unquote(node) for node, degree in G_wiki.out_degree() if degree == 0]\n",
    "sink_nodes"
   ]
  },
  {
   "cell_type": "markdown",
   "id": "6aad507e",
   "metadata": {},
   "source": [
    "To handle these sink nodes, we'll add more randomness to the random walk.\n",
    "Instead of choosing a random link at every step, we will sometimes \"teleport\" by choosing another node entirely at random.\n",
    "\n",
    "First, let's get the adjacency matrix from the graph."
   ]
  },
  {
   "cell_type": "code",
   "execution_count": 50,
   "id": "643c60d3",
   "metadata": {},
   "outputs": [],
   "source": [
    "A = nx.to_numpy_array(G_wiki)"
   ]
  },
  {
   "cell_type": "markdown",
   "id": "50e583ac",
   "metadata": {},
   "source": [
    "The row sums are the number of edges out of each node."
   ]
  },
  {
   "cell_type": "code",
   "execution_count": 51,
   "id": "927e57fb",
   "metadata": {},
   "outputs": [],
   "source": [
    "row_sums = A.sum(axis=1)"
   ]
  },
  {
   "cell_type": "markdown",
   "id": "5bf5c306",
   "metadata": {},
   "source": [
    "So the row sum of a sink node is 0."
   ]
  },
  {
   "cell_type": "code",
   "execution_count": 52,
   "id": "d4a721e8",
   "metadata": {},
   "outputs": [
    {
     "data": {
      "text/plain": [
       "array([2890, 3453, 3886, 4539, 4540])"
      ]
     },
     "execution_count": 52,
     "metadata": {},
     "output_type": "execute_result"
    }
   ],
   "source": [
    "sink_nodes = np.where(row_sums == 0)[0]\n",
    "sink_nodes"
   ]
  },
  {
   "cell_type": "markdown",
   "id": "43ef30da",
   "metadata": {},
   "source": [
    "If we get to a sink node, we have to choose a new node at random, so we'll make a vector with an equal probability for every node."
   ]
  },
  {
   "cell_type": "code",
   "execution_count": 53,
   "id": "8b7a4c78",
   "metadata": {},
   "outputs": [],
   "source": [
    "n = len(A)\n",
    "p = np.repeat(1 / n, n)"
   ]
  },
  {
   "cell_type": "markdown",
   "id": "361f7f8f",
   "metadata": {},
   "source": [
    "And for each sink node, we'll replace its row with these teleport probabilities."
   ]
  },
  {
   "cell_type": "code",
   "execution_count": 54,
   "id": "8e1e66d4",
   "metadata": {},
   "outputs": [],
   "source": [
    "for node in sink_nodes:\n",
    "    A[node] = p"
   ]
  },
  {
   "cell_type": "markdown",
   "id": "31715cab",
   "metadata": {},
   "source": [
    "Now we can compute the transition matrix as we did before."
   ]
  },
  {
   "cell_type": "code",
   "execution_count": 55,
   "id": "7546053d",
   "metadata": {},
   "outputs": [],
   "source": [
    "M = A / A.sum(axis=1, keepdims=True)"
   ]
  },
  {
   "cell_type": "markdown",
   "id": "1c1d916d",
   "metadata": {},
   "source": [
    "At every step of a PageRank random walk, there is some probability of teleporting regardless of whether we are in a sink node or not.\n",
    "A parameter called `alpha` specifies the probability of *not* teleporting -- the default value is `0.85`, which means we teleport 15% f the time.\n",
    "\n",
    "To make a transition matrix with teleporting, we'll compute a weighted sum of the transition matrix `M` and the teleport vector, `p`."
   ]
  },
  {
   "cell_type": "code",
   "execution_count": 56,
   "id": "9a1be53c",
   "metadata": {},
   "outputs": [
    {
     "data": {
      "text/plain": [
       "(4592, 4592)"
      ]
     },
     "execution_count": 56,
     "metadata": {},
     "output_type": "execute_result"
    }
   ],
   "source": [
    "alpha = 0.85\n",
    "GM = alpha * M + (1 - alpha) * p\n",
    "GM.shape"
   ]
  },
  {
   "cell_type": "markdown",
   "id": "8855c24a",
   "metadata": {},
   "source": [
    "The result is called a **Google matrix**.\n",
    "NetworkX provides a function that computes it (with a few more options)."
   ]
  },
  {
   "cell_type": "code",
   "execution_count": 57,
   "id": "ae6f200a",
   "metadata": {},
   "outputs": [],
   "source": [
    "GM_nx = nx.google_matrix(G_wiki, alpha=alpha)"
   ]
  },
  {
   "cell_type": "markdown",
   "id": "59ac1297",
   "metadata": {},
   "source": [
    "And we can confirm that the result is the same as the one we computed."
   ]
  },
  {
   "cell_type": "code",
   "execution_count": 58,
   "id": "670965d9",
   "metadata": {},
   "outputs": [
    {
     "data": {
      "text/plain": [
       "True"
      ]
     },
     "execution_count": 58,
     "metadata": {},
     "output_type": "execute_result"
    }
   ],
   "source": [
    "np.allclose(GM, GM_nx)"
   ]
  },
  {
   "cell_type": "markdown",
   "id": "67f555c6",
   "metadata": {},
   "source": [
    "We can use `run_random_walk` to simulate a random walk using these transition probabilities."
   ]
  },
  {
   "cell_type": "code",
   "execution_count": 59,
   "id": "10894296",
   "metadata": {},
   "outputs": [],
   "source": [
    "x0 = np.repeat(1 / n, n)\n",
    "x_final = run_random_walk(GM, x0, steps=100)"
   ]
  },
  {
   "cell_type": "markdown",
   "id": "c22e5a0a",
   "metadata": {},
   "source": [
    "But this matrix is much bigger than the museum matrix, which mean that each step takes longer, and it takes more steps to find the steady-state probabilities.\n",
    "\n",
    "It is more efficient to use the SciPy function `eigs`, which computes the eigenvector that corresponds to the largest eigenvalue."
   ]
  },
  {
   "cell_type": "code",
   "execution_count": 60,
   "id": "956d21b1",
   "metadata": {},
   "outputs": [
    {
     "data": {
      "text/plain": [
       "array([1.+0.j])"
      ]
     },
     "execution_count": 60,
     "metadata": {},
     "output_type": "execute_result"
    }
   ],
   "source": [
    "from scipy.sparse.linalg import eigs\n",
    "\n",
    "val, vec = eigs(GM.T, k=1, which='LM')\n",
    "val"
   ]
  },
  {
   "cell_type": "markdown",
   "id": "ed99225c",
   "metadata": {},
   "source": [
    "The argument `k=1`indicates that we want only one eigenvector, and `which='LM'` means we want the one with the largest magnitude.\n",
    "The resulting eigenvalue is 1 (with imaginary part 0).\n",
    "\n",
    "The resulting eigenvector contains complex numbers and doesn't always add up to 1, but we can normalize it like this."
   ]
  },
  {
   "cell_type": "code",
   "execution_count": 61,
   "id": "b1e21e77",
   "metadata": {},
   "outputs": [],
   "source": [
    "mags = np.abs(vec.flatten())\n",
    "ranks = mags / mags.sum()"
   ]
  },
  {
   "cell_type": "markdown",
   "id": "061789c8",
   "metadata": {},
   "source": [
    "Here are the pages with the highest probabilities, displayed as percentages."
   ]
  },
  {
   "cell_type": "code",
   "execution_count": 62,
   "id": "e17da37a",
   "metadata": {},
   "outputs": [
    {
     "data": {
      "text/plain": [
       "United_States      0.956\n",
       "France             0.644\n",
       "Europe             0.635\n",
       "United_Kingdom     0.625\n",
       "English_language   0.488\n",
       "dtype: float64"
      ]
     },
     "execution_count": 62,
     "metadata": {},
     "output_type": "execute_result"
    }
   ],
   "source": [
    "rank_series = pd.Series(ranks, index=G_wiki)\n",
    "top_5 = rank_series.sort_values(ascending=False).head(5)\n",
    "top_5 * 100"
   ]
  },
  {
   "cell_type": "markdown",
   "id": "bc9953ae",
   "metadata": {},
   "source": [
    "So a long random walk in this graph has about a 1% chance of ending up in the United States. \n",
    "\n",
    "NetworkX also provides an implementation of PageRank, which we can call like this."
   ]
  },
  {
   "cell_type": "code",
   "execution_count": 63,
   "id": "7ddbb024",
   "metadata": {},
   "outputs": [],
   "source": [
    "rank_map_nx = nx.pagerank(G_wiki, alpha=0.85)"
   ]
  },
  {
   "cell_type": "markdown",
   "id": "e0728425",
   "metadata": {},
   "source": [
    "The results are almost the same, but some of the probabilities differ by a few percent, due to differences in the implementations."
   ]
  },
  {
   "cell_type": "code",
   "execution_count": 64,
   "id": "2796b168",
   "metadata": {
    "tags": [
     "remove-cell"
    ]
   },
   "outputs": [
    {
     "data": {
      "text/plain": [
       "United_States      0.957\n",
       "France             0.642\n",
       "Europe             0.634\n",
       "United_Kingdom     0.623\n",
       "English_language   0.486\n",
       "dtype: float64"
      ]
     },
     "execution_count": 64,
     "metadata": {},
     "output_type": "execute_result"
    }
   ],
   "source": [
    "rank_series_nx = pd.Series(rank_map_nx)\n",
    "top5 = rank_series_nx.sort_values(ascending=False).head(5)\n",
    "top5 * 100"
   ]
  },
  {
   "cell_type": "code",
   "execution_count": 65,
   "id": "edf94102",
   "metadata": {
    "tags": [
     "remove-cell"
    ]
   },
   "outputs": [
    {
     "data": {
      "text/plain": [
       "count   4592.000\n",
       "mean       0.321\n",
       "std        0.433\n",
       "min        0.000\n",
       "25%        0.043\n",
       "50%        0.181\n",
       "75%        0.433\n",
       "max        3.799\n",
       "dtype: float64"
      ]
     },
     "execution_count": 65,
     "metadata": {},
     "output_type": "execute_result"
    }
   ],
   "source": [
    "percent_diff = np.abs(rank_series - rank_series_nx) / rank_series_nx * 100\n",
    "percent_diff.describe()"
   ]
  },
  {
   "cell_type": "markdown",
   "id": "0e33d2df",
   "metadata": {},
   "source": [
    "By simulating a random walk through a set of Wikipedia pages, we can compute the long-run probability of landing on each page.\n",
    "That brings us to the core idea of PageRank: these probabilities can be used to estimate the importance of a page.\n",
    "\n",
    "When an editor adds a link to a page, they're providing an implicit endorsement.\n",
    "So a page with many in-links is likely to be important.\n",
    "But it also matters where those links come from -- a link from a highly ranked page is a stronger endorsement than a link from a random one.\n",
    "PageRank accounts for this by estimating the importance of all pages simultaneously.\n",
    "\n",
    "Before Google launched in 1998, the leading search engine was AltaVista, which ranked results based purely on page content.\n",
    "It did not make use of the additional information encoded in the network of hyperlinks.\n",
    "The effect of PageRank was dramatic -- it allowed Google to deliver more relevant results and ultimately dominate web search.\n",
    "\n",
    "All that, based on computing a single eigenvector."
   ]
  },
  {
   "cell_type": "markdown",
   "id": "b240c9f2",
   "metadata": {},
   "source": [
    "## Exercises\n",
    "\n",
    "The Gardner Museum is charming, intimate, and dramatic, but it is relatively small.\n",
    "Fortunately, it is right across the street from the Museum of Fine Arts, Boston, which is one of the 20 largest art museums in the world (Wikipedia says it is 20th).\n",
    "\n",
    "So let's consider a more challenging problem: rather than losing your friend in the Gardner, suppose you have lost your cat in the MFA.\n",
    "A recent paper called \"Network science for museums\" provides data about three notable museums: the Louvre in Paris, the Metropolitan Museum of Art in New York, and the Museum of Fine Arts, Boston."
   ]
  },
  {
   "cell_type": "markdown",
   "id": "9ebc865a",
   "metadata": {
    "tags": [
     "remove-cell"
    ]
   },
   "source": [
    "Data from Yoshimura, Yuji, Anne Krebs, and Carlo Ratti. \"Network science for museums.\" Plos one 19, no. 3 (2024): e0300957.\n",
    "\n",
    "https://journals.plos.org/plosone/article?id=10.1371/journal.pone.0300957\n",
    "\n",
    "S1 Data. Louvre museum network data.\n",
    "\n",
    "https://doi.org/10.1371/journal.pone.0300957.s001\n",
    "\n",
    "(CSV)\n",
    "S2 Data. Metropolitan museum of art network data.\n",
    "\n",
    "https://doi.org/10.1371/journal.pone.0300957.s002\n",
    "\n",
    "(CSV)\n",
    "S3 Data. Museum of fine arts Boston network data.\n",
    "\n",
    "https://doi.org/10.1371/journal.pone.0300957.s003\n",
    "\n",
    "(CSV)\n",
    "\n"
   ]
  },
  {
   "cell_type": "markdown",
   "id": "7395fdfd",
   "metadata": {},
   "source": [
    "The following cell downloads the data."
   ]
  },
  {
   "cell_type": "code",
   "execution_count": 66,
   "id": "22f50158",
   "metadata": {},
   "outputs": [],
   "source": [
    "download(\"https://github.com/AllenDowney/ThinkLinearAlgebra/raw/main/data/pone.0300957.s003.csv\")"
   ]
  },
  {
   "cell_type": "markdown",
   "id": "9c5ddaf0",
   "metadata": {},
   "source": [
    "Use this cell to select one of the museums."
   ]
  },
  {
   "cell_type": "code",
   "execution_count": 67,
   "id": "ba7dff6b",
   "metadata": {
    "tags": [
     "remove-cell"
    ]
   },
   "outputs": [],
   "source": [
    "museum_files = {\n",
    "    \"Louvre Museum\": \"pone.0300957.s001.csv\",\n",
    "    \"Metropolitan Museum of Art\": \"pone.0300957.s002.csv\",\n",
    "    \"Museum of Fine Arts Boston\": \"pone.0300957.s003.csv\"\n",
    "}\n",
    "\n",
    "museum_name = \"Museum of Fine Arts Boston\"\n",
    "filename = museum_files[museum_name]"
   ]
  },
  {
   "cell_type": "markdown",
   "id": "19bdc252",
   "metadata": {},
   "source": [
    "We'll load the MFA data into a Pandas `DataFrame`."
   ]
  },
  {
   "cell_type": "code",
   "execution_count": 68,
   "id": "6f16c48d",
   "metadata": {},
   "outputs": [],
   "source": [
    "mfa = pd.read_csv(filename, index_col=0)\n",
    "mfa.columns = mfa.columns.astype(int)"
   ]
  },
  {
   "cell_type": "markdown",
   "id": "addda9ee",
   "metadata": {},
   "source": [
    "The result is an adjacency matrix showing the connections between the 249 public rooms in the museum.\n",
    "Here is a small sample showing the connections among the first 5 rooms."
   ]
  },
  {
   "cell_type": "code",
   "execution_count": 69,
   "id": "f1954d53",
   "metadata": {},
   "outputs": [
    {
     "data": {
      "text/html": [
       "<div>\n",
       "<style scoped>\n",
       "    .dataframe tbody tr th:only-of-type {\n",
       "        vertical-align: middle;\n",
       "    }\n",
       "\n",
       "    .dataframe tbody tr th {\n",
       "        vertical-align: top;\n",
       "    }\n",
       "\n",
       "    .dataframe thead th {\n",
       "        text-align: right;\n",
       "    }\n",
       "</style>\n",
       "<table border=\"1\" class=\"dataframe\">\n",
       "  <thead>\n",
       "    <tr style=\"text-align: right;\">\n",
       "      <th></th>\n",
       "      <th>1</th>\n",
       "      <th>2</th>\n",
       "      <th>3</th>\n",
       "      <th>4</th>\n",
       "      <th>5</th>\n",
       "    </tr>\n",
       "  </thead>\n",
       "  <tbody>\n",
       "    <tr>\n",
       "      <th>1</th>\n",
       "      <td>0</td>\n",
       "      <td>1</td>\n",
       "      <td>0</td>\n",
       "      <td>0</td>\n",
       "      <td>0</td>\n",
       "    </tr>\n",
       "    <tr>\n",
       "      <th>2</th>\n",
       "      <td>1</td>\n",
       "      <td>0</td>\n",
       "      <td>1</td>\n",
       "      <td>0</td>\n",
       "      <td>0</td>\n",
       "    </tr>\n",
       "    <tr>\n",
       "      <th>3</th>\n",
       "      <td>0</td>\n",
       "      <td>1</td>\n",
       "      <td>0</td>\n",
       "      <td>1</td>\n",
       "      <td>1</td>\n",
       "    </tr>\n",
       "    <tr>\n",
       "      <th>4</th>\n",
       "      <td>0</td>\n",
       "      <td>0</td>\n",
       "      <td>1</td>\n",
       "      <td>0</td>\n",
       "      <td>0</td>\n",
       "    </tr>\n",
       "    <tr>\n",
       "      <th>5</th>\n",
       "      <td>0</td>\n",
       "      <td>0</td>\n",
       "      <td>1</td>\n",
       "      <td>0</td>\n",
       "      <td>0</td>\n",
       "    </tr>\n",
       "  </tbody>\n",
       "</table>\n",
       "</div>"
      ],
      "text/plain": [
       "   1  2  3  4  5\n",
       "1  0  1  0  0  0\n",
       "2  1  0  1  0  0\n",
       "3  0  1  0  1  1\n",
       "4  0  0  1  0  0\n",
       "5  0  0  1  0  0"
      ]
     },
     "execution_count": 69,
     "metadata": {},
     "output_type": "execute_result"
    }
   ],
   "source": [
    "mfa.loc[:5, :5]"
   ]
  },
  {
   "cell_type": "markdown",
   "id": "5a228bcd",
   "metadata": {},
   "source": [
    "We can see, for example, that rooms 1 and 2 are connected, and rooms 2 and 3.\n",
    "NetworkX provides a function that takes this adjacency matrix and makes a graph."
   ]
  },
  {
   "cell_type": "code",
   "execution_count": 70,
   "id": "1e844189",
   "metadata": {},
   "outputs": [
    {
     "data": {
      "text/plain": [
       "(249, 312)"
      ]
     },
     "execution_count": 70,
     "metadata": {},
     "output_type": "execute_result"
    }
   ],
   "source": [
    "G = nx.from_pandas_adjacency(mfa)\n",
    "\n",
    "G.number_of_nodes(), G.number_of_edges()"
   ]
  },
  {
   "cell_type": "markdown",
   "id": "85d34894",
   "metadata": {},
   "source": [
    "The graph contains 249 nodes and 312 edges.\n",
    "The **degree** of a node is the number of other nodes it's connected to.\n",
    "Here's the distribution of degree -- that is, the number of rooms that are connected to one other room, two other rooms, and so on.\n"
   ]
  },
  {
   "cell_type": "code",
   "execution_count": 71,
   "id": "265ab0c8",
   "metadata": {},
   "outputs": [
    {
     "data": {
      "image/png": "[encoded data removed]",
      "text/plain": [
       "<Figure size 450x262.5 with 1 Axes>"
      ]
     },
     "metadata": {},
     "output_type": "display_data"
    }
   ],
   "source": [
    "degrees = [d for n, d in G.degree()]\n",
    "pmf = pd.Series(degrees).value_counts()\n",
    "plt.bar(pmf.index, pmf.values)\n",
    "decorate(xlabel=\"Degree\", ylabel=\"Number of rooms\")"
   ]
  },
  {
   "cell_type": "markdown",
   "id": "552771a0",
   "metadata": {},
   "source": [
    "Most rooms are connected to one, two, or three neighbors, but a few rooms are connected to eight or nine.\n",
    "To visualize the layout, we'll use the NetworkX function `kamada_kawai_layout`, which tries to arrange the nodes so the distance between the nodes is proportional to the length of the path that connects them in the graph.\n",
    "Some of the \"rooms\" with high degree are actually hallways or staircases."
   ]
  },
  {
   "cell_type": "code",
   "execution_count": 72,
   "id": "7227458f",
   "metadata": {},
   "outputs": [],
   "source": [
    "pos = nx.kamada_kawai_layout(G)"
   ]
  },
  {
   "cell_type": "markdown",
   "id": "cc14252f",
   "metadata": {},
   "source": [
    "The result does not necessarily reflect the actual arrangement of the rooms -- in particular, it does not take into account that rooms may be on different floors.\n",
    "But it creates a visual representation of the layout of the museum.\n",
    "Here's what it looks like."
   ]
  },
  {
   "cell_type": "code",
   "execution_count": 73,
   "id": "1bd49240",
   "metadata": {},
   "outputs": [
    {
     "data": {
      "image/png": "[encoded data removed]",
      "text/plain": [
       "<Figure size 375x375 with 1 Axes>"
      ]
     },
     "metadata": {},
     "output_type": "display_data"
    }
   ],
   "source": [
    "plt.figure(figsize=(5, 5))\n",
    "nx.draw(G, pos, node_size=10, edge_color='gray', alpha=0.5)"
   ]
  },
  {
   "cell_type": "markdown",
   "id": "eb9a92c3",
   "metadata": {},
   "source": [
    "Now let's see if we can find that cat.\n",
    "\n",
    "1. Use the graph to compute the adjacency matrix, `A`, and the transition matrix, `M`.\n",
    "\n",
    "2. Use `run_random_walk` to simulate a random walk in the museum by repeated matrix multiplication.\n",
    "\n",
    "3. Use `eigs` to compute the eigenvector of the adjacency matrix that corresponds to the largest eigenvalue, and normalize it so the elements sum to 1.\n",
    "\n",
    "4. Check that the results of the random walk approximate the eigenvector. If you simulate about 1000 steps, the differences should be less than 0.1%."
   ]
  },
  {
   "cell_type": "code",
   "execution_count": 74,
   "id": "4370444a",
   "metadata": {},
   "outputs": [
    {
     "data": {
      "text/plain": [
       "(249, 249)"
      ]
     },
     "execution_count": 74,
     "metadata": {},
     "output_type": "execute_result"
    }
   ],
   "source": []
  },
  {
   "cell_type": "code",
   "execution_count": 75,
   "id": "4fee8b2e",
   "metadata": {},
   "outputs": [
    {
     "data": {
      "text/plain": [
       "(249,)"
      ]
     },
     "execution_count": 75,
     "metadata": {},
     "output_type": "execute_result"
    }
   ],
   "source": []
  },
  {
   "cell_type": "code",
   "execution_count": 76,
   "id": "07b1e12a",
   "metadata": {},
   "outputs": [
    {
     "data": {
      "text/plain": [
       "(249,)"
      ]
     },
     "execution_count": 76,
     "metadata": {},
     "output_type": "execute_result"
    }
   ],
   "source": []
  },
  {
   "cell_type": "code",
   "execution_count": 77,
   "id": "77aadefc",
   "metadata": {},
   "outputs": [
    {
     "data": {
      "text/plain": [
       "True"
      ]
     },
     "execution_count": 77,
     "metadata": {},
     "output_type": "execute_result"
    }
   ],
   "source": []
  },
  {
   "cell_type": "markdown",
   "id": "0ce1dcaf",
   "metadata": {
    "tags": [
     "remove-cell"
    ]
   },
   "source": [
    "If `vec` is the eigenvector of the adjacency matrix, you can use the following cell to display the museum graph, using the color and size of the nodes to show their relative probabilities."
   ]
  },
  {
   "cell_type": "code",
   "execution_count": 78,
   "id": "687193ae",
   "metadata": {
    "tags": [
     "remove-cell"
    ]
   },
   "outputs": [
    {
     "data": {
      "image/png": "[encoded data removed]",
      "text/plain": [
       "<Figure size 375x375 with 1 Axes>"
      ]
     },
     "metadata": {},
     "output_type": "display_data"
    }
   ],
   "source": [
    "plt.figure(figsize=(5, 5))\n",
    "nx.draw(\n",
    "    G, pos,\n",
    "    node_size=vec * 5000,\n",
    "    node_color=vec,\n",
    "    cmap=plt.cm.viridis_r,\n",
    "    edge_color='gray',\n",
    "    alpha=0.7\n",
    ")\n",
    "plt.title(f\"{museum_name}\");"
   ]
  },
  {
   "cell_type": "markdown",
   "id": "e27da3a4",
   "metadata": {
    "tags": [
     "remove-print"
    ]
   },
   "source": [
    "[Think Linear Algebra](https://allendowney.github.io/ThinkLinearAlgebra/index.html)\n",
    "\n",
    "Copyright 2025 [Allen B. Downey](https://allendowney.com)\n",
    "\n",
    "Code license: [MIT License](https://mit-license.org/)\n",
    "\n",
    "Text license: [Creative Commons Attribution-NonCommercial-ShareAlike 4.0 International](https://creativecommons.org/licenses/by-nc-sa/4.0/)"
   ]
  },
  {
   "cell_type": "code",
   "execution_count": null,
   "id": "7b74cab5",
   "metadata": {},
   "outputs": [],
   "source": []
  }
 ],
 "metadata": {
  "celltoolbar": "Tags",
  "kernelspec": {
   "display_name": "Python 3 (ipykernel)",
   "language": "python",
   "name": "python3"
  },
  "language_info": {
   "codemirror_mode": {
    "name": "ipython",
    "version": 3
   },
   "file_extension": ".py",
   "mimetype": "text/x-python",
   "name": "python",
   "nbconvert_exporter": "python",
   "pygments_lexer": "ipython3",
   "version": "3.10.16"
  }
 },
 "nbformat": 4,
 "nbformat_minor": 5
}
