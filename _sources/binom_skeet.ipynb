{
 "cells": [
  {
   "cell_type": "markdown",
   "id": "f2f4242b",
   "metadata": {},
   "source": [
    "# How Binomial is Skeet Shooting?\n",
    "\n",
    "Based on Chapter 5 of Think Stats"
   ]
  },
  {
   "cell_type": "code",
   "execution_count": 33,
   "id": "41ffa5f5",
   "metadata": {},
   "outputs": [],
   "source": [
    "import os\n",
    "import urllib.request\n",
    "import urllib.parse\n",
    "\n",
    "def download(url):\n",
    "    filename = os.path.basename(urllib.parse.unquote(url))\n",
    "    if not os.path.exists(filename):\n",
    "        urllib.request.urlretrieve(url, filename)\n",
    "        print(\"Downloaded \" + filename)\n",
    "\n",
    "\n",
    "download(\"https://github.com/AllenDowney/ThinkStats/raw/v3/nb/thinkstats.py\")"
   ]
  },
  {
   "cell_type": "code",
   "execution_count": 2,
   "id": "52938742",
   "metadata": {},
   "outputs": [],
   "source": [
    "try:\n",
    "    import empiricaldist\n",
    "except ImportError:\n",
    "    !pip install empiricaldist"
   ]
  },
  {
   "cell_type": "code",
   "execution_count": 3,
   "id": "9fb94810",
   "metadata": {},
   "outputs": [],
   "source": [
    "import numpy as np\n",
    "import pandas as pd\n",
    "import matplotlib.pyplot as plt\n",
    "\n",
    "from thinkstats import decorate"
   ]
  },
  {
   "cell_type": "markdown",
   "id": "5887c412",
   "metadata": {},
   "source": [
    "## The Binomial Distribution\n",
    "\n",
    "In the sport of skeet shooting, competitors use shotguns to shoot clay disks that are thrown into the air.\n",
    "In international competition, including the Olympics, there are five rounds with 25 targets per round, with additional rounds as needed to determine a winner.\n",
    "\n",
    "As a model of a skeet-shooting competition, suppose that every participant has the same probability of hitting every target, `p`.\n",
    "Of course, this model is a simplification -- in reality, it's likely that some competitors have a higher probability than others, and even for a single competitor, it might vary from one attempt to the next.\n",
    "But even if it is not realistic, this model make some surprisingly accurate predictions, as we'll see.\n",
    "\n",
    "To simulate the model, I'll use the following function, which takes the number of targets, `n`, and the probability of hitting each one, `p`, and returns a sequence of 1s and 0s to indicate hits and misses."
   ]
  },
  {
   "cell_type": "code",
   "execution_count": 4,
   "id": "3e420cb7",
   "metadata": {},
   "outputs": [],
   "source": [
    "def flip(n, p):\n",
    "    choices = [1, 0]\n",
    "    probs = [p, 1 - p]\n",
    "    return np.random.choice(choices, n, p=probs)"
   ]
  },
  {
   "cell_type": "markdown",
   "id": "6d721838",
   "metadata": {},
   "source": [
    "Here's an example that simulates a round of 25 targets where the probability of hitting each one is 90%."
   ]
  },
  {
   "cell_type": "code",
   "execution_count": 5,
   "id": "747c1000",
   "metadata": {},
   "outputs": [
    {
     "data": {
      "text/plain": [
       "array([1, 1, 1, 1, 1, 1, 1, 1, 0, 0, 1, 0, 1, 1, 1, 1, 1, 1, 0, 1, 1, 1,\n",
       "       1, 1, 1])"
      ]
     },
     "execution_count": 5,
     "metadata": {},
     "output_type": "execute_result"
    }
   ],
   "source": [
    "flip(25, 0.9)"
   ]
  },
  {
   "cell_type": "markdown",
   "id": "529dc6a2",
   "metadata": {},
   "source": [
    "If we generate a sequence of 1000 attempts, and compute the `Pmf` of the results, we can confirm that the proportions of 1s and 0s are correct, at least approximately."
   ]
  },
  {
   "cell_type": "code",
   "execution_count": 6,
   "id": "bd4a9c2a",
   "metadata": {},
   "outputs": [
    {
     "data": {
      "text/html": [
       "<div>\n",
       "<style scoped>\n",
       "    .dataframe tbody tr th:only-of-type {\n",
       "        vertical-align: middle;\n",
       "    }\n",
       "\n",
       "    .dataframe tbody tr th {\n",
       "        vertical-align: top;\n",
       "    }\n",
       "\n",
       "    .dataframe thead th {\n",
       "        text-align: right;\n",
       "    }\n",
       "</style>\n",
       "<table border=\"1\" class=\"dataframe\">\n",
       "  <thead>\n",
       "    <tr style=\"text-align: right;\">\n",
       "      <th></th>\n",
       "      <th>probs</th>\n",
       "    </tr>\n",
       "  </thead>\n",
       "  <tbody>\n",
       "    <tr>\n",
       "      <th>0</th>\n",
       "      <td>0.116</td>\n",
       "    </tr>\n",
       "    <tr>\n",
       "      <th>1</th>\n",
       "      <td>0.884</td>\n",
       "    </tr>\n",
       "  </tbody>\n",
       "</table>\n",
       "</div>"
      ],
      "text/plain": [
       "0    0.116\n",
       "1    0.884\n",
       "Name: , dtype: float64"
      ]
     },
     "execution_count": 6,
     "metadata": {},
     "output_type": "execute_result"
    }
   ],
   "source": [
    "from empiricaldist import Pmf\n",
    "\n",
    "seq = flip(1000, 0.9)\n",
    "pmf = Pmf.from_seq(seq)\n",
    "pmf"
   ]
  },
  {
   "cell_type": "markdown",
   "id": "28a62858",
   "metadata": {},
   "source": [
    "Now we can use `flip` to simulate a round of skeet shooting and return the number of hits."
   ]
  },
  {
   "cell_type": "code",
   "execution_count": 7,
   "id": "67ad325e",
   "metadata": {},
   "outputs": [],
   "source": [
    "def simulate_round(n, p):\n",
    "    seq = flip(n, p)\n",
    "    return seq.sum()"
   ]
  },
  {
   "cell_type": "markdown",
   "id": "ea2a95d7",
   "metadata": {},
   "source": [
    "In a large competition, suppose 200 competitors shoot 5 rounds each, all with the same probability of hitting the target, `p=0.9`.\n",
    "We can simulate a competition like that by calling `simulate_round` 1000 times."
   ]
  },
  {
   "cell_type": "code",
   "execution_count": 8,
   "id": "b515d45e",
   "metadata": {},
   "outputs": [],
   "source": [
    "n = 25\n",
    "p = 0.9\n",
    "results_sim = [simulate_round(n, p) for i in range(1000)]"
   ]
  },
  {
   "cell_type": "markdown",
   "id": "d2d07a13",
   "metadata": {},
   "source": [
    "The average score is close to `22.5`, which is the product of `n` and `p`."
   ]
  },
  {
   "cell_type": "code",
   "execution_count": 9,
   "id": "dd2e833c",
   "metadata": {},
   "outputs": [
    {
     "data": {
      "text/plain": [
       "(22.537, 22.5)"
      ]
     },
     "execution_count": 9,
     "metadata": {},
     "output_type": "execute_result"
    }
   ],
   "source": [
    "np.mean(results_sim), n * p"
   ]
  },
  {
   "cell_type": "markdown",
   "id": "5d4d2ebf",
   "metadata": {},
   "source": [
    "Here's what the distribution of the results looks like."
   ]
  },
  {
   "cell_type": "code",
   "execution_count": 10,
   "id": "7c9814c2",
   "metadata": {},
   "outputs": [
    {
     "data": {
      "image/png": "[encoded data removed]",
      "text/plain": [
       "<Figure size 450x262.5 with 1 Axes>"
      ]
     },
     "metadata": {},
     "output_type": "display_data"
    }
   ],
   "source": [
    "from empiricaldist import Pmf\n",
    "\n",
    "pmf_sim = Pmf.from_seq(results_sim, name=\"simulation results\")\n",
    "\n",
    "pmf_sim.bar(alpha=0.6)\n",
    "decorate(xlabel=\"Hits\", ylabel=\"PMF\")"
   ]
  },
  {
   "cell_type": "markdown",
   "id": "5c498948",
   "metadata": {},
   "source": [
    "Instead of running a simulation, we could have predicted this distribution.\n",
    "Mathematically, we can show that the distribution of these outcomes follows a binomial distribution, which has a PMF that is easy to compute."
   ]
  },
  {
   "cell_type": "code",
   "execution_count": 11,
   "id": "5f3b479d",
   "metadata": {},
   "outputs": [],
   "source": [
    "from scipy.special import comb\n",
    "\n",
    "\n",
    "def binomial_pmf(k, n, p):\n",
    "    \"\"\"Compute the binomial PMF.\n",
    "\n",
    "    k (int or array-like): number of successes\n",
    "    n (int): number of trials\n",
    "    p (float): probability of success on a single trial\n",
    "\n",
    "    returns: float or ndarray\n",
    "    \"\"\"\n",
    "    return comb(n, k) * (p**k) * ((1 - p) ** (n - k))"
   ]
  },
  {
   "cell_type": "markdown",
   "id": "ba15dee8",
   "metadata": {},
   "source": [
    "This function computes the probability of getting `k` hits out of `n` attempts, given `p`.\n",
    "If we call this function with a range of `k` values, we can make a `Pmf` that represents the distribution of the outcomes."
   ]
  },
  {
   "cell_type": "code",
   "execution_count": 12,
   "id": "9590e8cc",
   "metadata": {},
   "outputs": [],
   "source": [
    "ks = np.arange(16, n + 1)\n",
    "ps = binomial_pmf(ks, n, p)\n",
    "pmf_binom = Pmf(ps, ks, name=\"binomial model\")"
   ]
  },
  {
   "cell_type": "markdown",
   "id": "5b735403",
   "metadata": {},
   "source": [
    "And here's what it looks like compared to the simulation results."
   ]
  },
  {
   "cell_type": "code",
   "execution_count": 13,
   "id": "7a4138df",
   "metadata": {},
   "outputs": [
    {
     "data": {
      "image/png": "[encoded data removed]",
      "text/plain": [
       "<Figure size 450x262.5 with 1 Axes>"
      ]
     },
     "metadata": {},
     "output_type": "display_data"
    }
   ],
   "source": [
    "from thinkstats import two_bar_plots\n",
    "\n",
    "two_bar_plots(pmf_sim, pmf_binom)\n",
    "decorate(xlabel=\"Hits\", ylabel=\"PMF\")"
   ]
  },
  {
   "cell_type": "markdown",
   "id": "7879e5af",
   "metadata": {},
   "source": [
    "They are similar, with small differences because of random variation in the simulation results.\n",
    "\n",
    "This agreement should not be surprising, because the simulation and the model are based on the same assumptions -- particularly the assumption that every attempt has the same probability of success.\n",
    "The real test of a model is how it compares to real data.\n",
    "\n",
    "From the Wikipedia page for the men's skeet shooting competition at the 2020 Summer Olympics, we can extract a table that shows the results for the qualification rounds of the competition."
   ]
  },
  {
   "cell_type": "markdown",
   "id": "d724e0ed",
   "metadata": {},
   "source": [
    "Downloaded from <https://en.wikipedia.org/wiki/Shooting_at_the_2020_Summer_Olympics_–_Men's_skeet> on July 15, 2024."
   ]
  },
  {
   "cell_type": "code",
   "execution_count": 35,
   "id": "86b5831c",
   "metadata": {},
   "outputs": [
    {
     "name": "stdout",
     "output_type": "stream",
     "text": [
      "Downloaded Shooting_at_the_2020_Summer_Olympics_–_Men's_skeet\n"
     ]
    }
   ],
   "source": [
    "filename = \"https://github.com/AllenDowney/ThinkStats/raw/v3/data/Shooting_at_the_2020_Summer_Olympics_%E2%80%93_Men's_skeet\"\n",
    "download(filename)"
   ]
  },
  {
   "cell_type": "code",
   "execution_count": 39,
   "id": "80f462d5",
   "metadata": {},
   "outputs": [
    {
     "data": {
      "text/html": [
       "<div>\n",
       "<style scoped>\n",
       "    .dataframe tbody tr th:only-of-type {\n",
       "        vertical-align: middle;\n",
       "    }\n",
       "\n",
       "    .dataframe tbody tr th {\n",
       "        vertical-align: top;\n",
       "    }\n",
       "\n",
       "    .dataframe thead th {\n",
       "        text-align: right;\n",
       "    }\n",
       "</style>\n",
       "<table border=\"1\" class=\"dataframe\">\n",
       "  <thead>\n",
       "    <tr style=\"text-align: right;\">\n",
       "      <th></th>\n",
       "      <th>Rank</th>\n",
       "      <th>Athlete</th>\n",
       "      <th>Country</th>\n",
       "      <th>1</th>\n",
       "      <th>2</th>\n",
       "      <th>3</th>\n",
       "      <th>4</th>\n",
       "      <th>5</th>\n",
       "      <th>Total[3]</th>\n",
       "      <th>Shoot-off</th>\n",
       "      <th>Notes</th>\n",
       "    </tr>\n",
       "  </thead>\n",
       "  <tbody>\n",
       "    <tr>\n",
       "      <th>0</th>\n",
       "      <td>1</td>\n",
       "      <td>Éric Delaunay</td>\n",
       "      <td>France</td>\n",
       "      <td>25</td>\n",
       "      <td>25</td>\n",
       "      <td>25</td>\n",
       "      <td>24</td>\n",
       "      <td>25</td>\n",
       "      <td>124</td>\n",
       "      <td>+6</td>\n",
       "      <td>Q, OR</td>\n",
       "    </tr>\n",
       "    <tr>\n",
       "      <th>1</th>\n",
       "      <td>2</td>\n",
       "      <td>Tammaro Cassandro</td>\n",
       "      <td>Italy</td>\n",
       "      <td>24</td>\n",
       "      <td>25</td>\n",
       "      <td>25</td>\n",
       "      <td>25</td>\n",
       "      <td>25</td>\n",
       "      <td>124</td>\n",
       "      <td>+5</td>\n",
       "      <td>Q, OR</td>\n",
       "    </tr>\n",
       "    <tr>\n",
       "      <th>2</th>\n",
       "      <td>3</td>\n",
       "      <td>Eetu Kallioinen</td>\n",
       "      <td>Finland</td>\n",
       "      <td>25</td>\n",
       "      <td>25</td>\n",
       "      <td>24</td>\n",
       "      <td>25</td>\n",
       "      <td>24</td>\n",
       "      <td>123</td>\n",
       "      <td>NaN</td>\n",
       "      <td>Q</td>\n",
       "    </tr>\n",
       "    <tr>\n",
       "      <th>3</th>\n",
       "      <td>4</td>\n",
       "      <td>Vincent Hancock</td>\n",
       "      <td>United States</td>\n",
       "      <td>25</td>\n",
       "      <td>25</td>\n",
       "      <td>25</td>\n",
       "      <td>25</td>\n",
       "      <td>22</td>\n",
       "      <td>122</td>\n",
       "      <td>+8</td>\n",
       "      <td>Q</td>\n",
       "    </tr>\n",
       "    <tr>\n",
       "      <th>4</th>\n",
       "      <td>5</td>\n",
       "      <td>Abdullah Al-Rashidi</td>\n",
       "      <td>Kuwait</td>\n",
       "      <td>25</td>\n",
       "      <td>25</td>\n",
       "      <td>24</td>\n",
       "      <td>25</td>\n",
       "      <td>23</td>\n",
       "      <td>122</td>\n",
       "      <td>+7</td>\n",
       "      <td>Q</td>\n",
       "    </tr>\n",
       "  </tbody>\n",
       "</table>\n",
       "</div>"
      ],
      "text/plain": [
       "   Rank              Athlete        Country   1   2   3   4   5 Total[3]  \\\n",
       "0     1        Éric Delaunay         France  25  25  25  24  25      124   \n",
       "1     2    Tammaro Cassandro          Italy  24  25  25  25  25      124   \n",
       "2     3      Eetu Kallioinen        Finland  25  25  24  25  24      123   \n",
       "3     4      Vincent Hancock  United States  25  25  25  25  22      122   \n",
       "4     5  Abdullah Al-Rashidi         Kuwait  25  25  24  25  23      122   \n",
       "\n",
       "  Shoot-off  Notes  \n",
       "0        +6  Q, OR  \n",
       "1        +5  Q, OR  \n",
       "2       NaN      Q  \n",
       "3        +8      Q  \n",
       "4        +7      Q  "
      ]
     },
     "execution_count": 39,
     "metadata": {},
     "output_type": "execute_result"
    }
   ],
   "source": [
    "tables = pd.read_html(\"Shooting_at_the_2020_Summer_Olympics_–_Men's_skeet\")\n",
    "table = tables[6]\n",
    "table.head()"
   ]
  },
  {
   "cell_type": "code",
   "execution_count": 48,
   "id": "993de736",
   "metadata": {},
   "outputs": [],
   "source": [
    "filename = \"https://github.com/AllenDowney/ThinkStats/raw/v3/data/Shooting_at_the_2024_Summer_Olympics_%E2%80%93_Men's_skeet\"\n",
    "download(filename)"
   ]
  },
  {
   "cell_type": "code",
   "execution_count": 49,
   "id": "799ffdf4",
   "metadata": {},
   "outputs": [
    {
     "data": {
      "text/html": [
       "<div>\n",
       "<style scoped>\n",
       "    .dataframe tbody tr th:only-of-type {\n",
       "        vertical-align: middle;\n",
       "    }\n",
       "\n",
       "    .dataframe tbody tr th {\n",
       "        vertical-align: top;\n",
       "    }\n",
       "\n",
       "    .dataframe thead th {\n",
       "        text-align: right;\n",
       "    }\n",
       "</style>\n",
       "<table border=\"1\" class=\"dataframe\">\n",
       "  <thead>\n",
       "    <tr style=\"text-align: right;\">\n",
       "      <th></th>\n",
       "      <th>Rank</th>\n",
       "      <th>Athlete</th>\n",
       "      <th>Country</th>\n",
       "      <th>1</th>\n",
       "      <th>2</th>\n",
       "      <th>3</th>\n",
       "      <th>4</th>\n",
       "      <th>5</th>\n",
       "      <th>Total</th>\n",
       "      <th>Shoot-off</th>\n",
       "      <th>Notes</th>\n",
       "    </tr>\n",
       "  </thead>\n",
       "  <tbody>\n",
       "    <tr>\n",
       "      <th>0</th>\n",
       "      <td>1</td>\n",
       "      <td>Conner Prince</td>\n",
       "      <td>United States</td>\n",
       "      <td>24</td>\n",
       "      <td>25</td>\n",
       "      <td>25</td>\n",
       "      <td>25</td>\n",
       "      <td>25</td>\n",
       "      <td>124</td>\n",
       "      <td>12.0</td>\n",
       "      <td>Q, EQOR</td>\n",
       "    </tr>\n",
       "    <tr>\n",
       "      <th>1</th>\n",
       "      <td>2</td>\n",
       "      <td>Tammaro Cassandro</td>\n",
       "      <td>Italy</td>\n",
       "      <td>25</td>\n",
       "      <td>25</td>\n",
       "      <td>24</td>\n",
       "      <td>25</td>\n",
       "      <td>25</td>\n",
       "      <td>124</td>\n",
       "      <td>11.0</td>\n",
       "      <td>Q, EQOR</td>\n",
       "    </tr>\n",
       "    <tr>\n",
       "      <th>2</th>\n",
       "      <td>3</td>\n",
       "      <td>Lee Meng-yuan</td>\n",
       "      <td>Chinese Taipei</td>\n",
       "      <td>25</td>\n",
       "      <td>24</td>\n",
       "      <td>25</td>\n",
       "      <td>25</td>\n",
       "      <td>25</td>\n",
       "      <td>124</td>\n",
       "      <td>7.0</td>\n",
       "      <td>Q, EQOR</td>\n",
       "    </tr>\n",
       "    <tr>\n",
       "      <th>3</th>\n",
       "      <td>4</td>\n",
       "      <td>Vincent Hancock</td>\n",
       "      <td>United States</td>\n",
       "      <td>25</td>\n",
       "      <td>25</td>\n",
       "      <td>25</td>\n",
       "      <td>24</td>\n",
       "      <td>24</td>\n",
       "      <td>123</td>\n",
       "      <td>NaN</td>\n",
       "      <td>Q</td>\n",
       "    </tr>\n",
       "    <tr>\n",
       "      <th>4</th>\n",
       "      <td>5</td>\n",
       "      <td>Stefan Nilsson</td>\n",
       "      <td>Sweden</td>\n",
       "      <td>24</td>\n",
       "      <td>24</td>\n",
       "      <td>24</td>\n",
       "      <td>25</td>\n",
       "      <td>25</td>\n",
       "      <td>122</td>\n",
       "      <td>6.0</td>\n",
       "      <td>Q</td>\n",
       "    </tr>\n",
       "  </tbody>\n",
       "</table>\n",
       "</div>"
      ],
      "text/plain": [
       "   Rank            Athlete         Country   1   2   3   4   5  Total  \\\n",
       "0     1      Conner Prince   United States  24  25  25  25  25    124   \n",
       "1     2  Tammaro Cassandro           Italy  25  25  24  25  25    124   \n",
       "2     3      Lee Meng-yuan  Chinese Taipei  25  24  25  25  25    124   \n",
       "3     4    Vincent Hancock   United States  25  25  25  24  24    123   \n",
       "4     5     Stefan Nilsson          Sweden  24  24  24  25  25    122   \n",
       "\n",
       "   Shoot-off    Notes  \n",
       "0       12.0  Q, EQOR  \n",
       "1       11.0  Q, EQOR  \n",
       "2        7.0  Q, EQOR  \n",
       "3        NaN        Q  \n",
       "4        6.0        Q  "
      ]
     },
     "execution_count": 49,
     "metadata": {},
     "output_type": "execute_result"
    }
   ],
   "source": [
    "tables = pd.read_html(\"Shooting_at_the_2024_Summer_Olympics_–_Men's_skeet\")\n",
    "table = tables[5]\n",
    "table.head()"
   ]
  },
  {
   "cell_type": "markdown",
   "id": "ecc26901",
   "metadata": {},
   "source": [
    "The table has one row for each competitors, with one column for each of five rounds.\n",
    "We'll select the columns that contain the results and use `flatten` to put them into a single array."
   ]
  },
  {
   "cell_type": "code",
   "execution_count": 50,
   "id": "58108620",
   "metadata": {},
   "outputs": [],
   "source": [
    "columns = [\"1\", \"2\", \"3\", \"4\", \"5\"]\n",
    "results = table[columns].values.flatten()"
   ]
  },
  {
   "cell_type": "code",
   "execution_count": 51,
   "id": "0798664f",
   "metadata": {},
   "outputs": [
    {
     "data": {
      "text/plain": [
       "(25, 3750, 3545)"
      ]
     },
     "execution_count": 51,
     "metadata": {},
     "output_type": "execute_result"
    }
   ],
   "source": [
    "total_shots = 25 * len(results)\n",
    "total_hits = results.sum()\n",
    "n, total_shots, total_hits"
   ]
  },
  {
   "cell_type": "markdown",
   "id": "3bfbd3a3",
   "metadata": {},
   "source": [
    "With 30 competitors, we have results from 150 rounds of 25 shots each, with 3750 hits out of a total of 3575 attempts.\n",
    "So the overall success rate is 95.3%."
   ]
  },
  {
   "cell_type": "code",
   "execution_count": 52,
   "id": "d9c54715",
   "metadata": {},
   "outputs": [
    {
     "data": {
      "text/plain": [
       "0.9453333333333334"
      ]
     },
     "execution_count": 52,
     "metadata": {},
     "output_type": "execute_result"
    }
   ],
   "source": [
    "p = total_hits / total_shots\n",
    "p"
   ]
  },
  {
   "cell_type": "markdown",
   "id": "0081ed3b",
   "metadata": {},
   "source": [
    "Now we can compute a `Pmf` that represents the binomial distribution with `n=25` and the value of `p` we just computed."
   ]
  },
  {
   "cell_type": "code",
   "execution_count": 53,
   "id": "e936f800",
   "metadata": {},
   "outputs": [],
   "source": [
    "ps = binomial_pmf(ks, n, p)\n",
    "pmf_binom = Pmf(ps, ks, name=\"binomial model\")"
   ]
  },
  {
   "cell_type": "markdown",
   "id": "a83ed3fd",
   "metadata": {},
   "source": [
    "And we can compare that to the `Pmf` of the actual results."
   ]
  },
  {
   "cell_type": "code",
   "execution_count": 54,
   "id": "ee862bb0",
   "metadata": {},
   "outputs": [
    {
     "data": {
      "image/png": "[encoded data removed]",
      "text/plain": [
       "<Figure size 450x262.5 with 1 Axes>"
      ]
     },
     "metadata": {},
     "output_type": "display_data"
    }
   ],
   "source": [
    "pmf_results = Pmf.from_seq(results, name=\"actual results\")\n",
    "\n",
    "two_bar_plots(pmf_results, pmf_binom)\n",
    "decorate(xlabel=\"Hits\", ylabel=\"PMF\")"
   ]
  },
  {
   "cell_type": "markdown",
   "id": "fb98f9e9",
   "metadata": {},
   "source": [
    "The binomial model is a good fit for the distribution of the data."
   ]
  },
  {
   "cell_type": "code",
   "execution_count": 55,
   "id": "d3a570ba",
   "metadata": {},
   "outputs": [
    {
     "data": {
      "image/png": "[encoded data removed]",
      "text/plain": [
       "<Figure size 450x262.5 with 1 Axes>"
      ]
     },
     "metadata": {},
     "output_type": "display_data"
    }
   ],
   "source": [
    "from thinkstats import two_cdf_plots\n",
    "\n",
    "two_cdf_plots(pmf_results.make_cdf(), pmf_binom.make_cdf())\n",
    "decorate(xlabel=\"Hits\", ylabel=\"CDF\")"
   ]
  },
  {
   "cell_type": "code",
   "execution_count": null,
   "id": "042a4767",
   "metadata": {},
   "outputs": [],
   "source": []
  }
 ],
 "metadata": {
  "celltoolbar": "Tags",
  "kernelspec": {
   "display_name": "Python 3 (ipykernel)",
   "language": "python",
   "name": "python3"
  },
  "language_info": {
   "codemirror_mode": {
    "name": "ipython",
    "version": 3
   },
   "file_extension": ".py",
   "mimetype": "text/x-python",
   "name": "python",
   "nbconvert_exporter": "python",
   "pygments_lexer": "ipython3",
   "version": "3.10.14"
  }
 },
 "nbformat": 4,
 "nbformat_minor": 5
}
