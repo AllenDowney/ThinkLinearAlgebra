{
 "cells": [
  {
   "cell_type": "markdown",
   "id": "418e407e",
   "metadata": {},
   "source": [
    "The third edition of *Think Stats* is available now from [Bookshop.org](https://bookshop.org/a/98697/9781098190255) and [Amazon](https://amzn.to/42lmxwu) (those are affiliate links). If you are enjoying the free, online version, consider [buying me a coffee](https://buymeacoffee.com/allendowney)."
   ]
  },
  {
   "cell_type": "markdown",
   "id": "259c89bc",
   "metadata": {},
   "source": [
    "# Probability Mass Functions\n",
    "\n",
    "In the previous chapter we represented distributions using a `FreqTab` object, which contains a set of values and their frequencies -- that is, the number of times each value appears.\n",
    "In this chapter we'll introduce another way to describe a distribution, a probability mass function (PMF).\n",
    "\n",
    "To represent a PMF, we'll use an object called a `Pmf`, which contains a set of values and their probabilities.\n",
    "We'll use `Pmf` objects to compute the mean and variance of a distribution, and the skewness, which indicates whether it is skewed to the left or right.\n",
    "Finally, we will explore how a phenomenon called the \"inspection paradox\" can cause a sample to give a biased view of a distribution."
   ]
  },
  {
   "cell_type": "markdown",
   "id": "11b3a5ef",
   "metadata": {
    "tags": [
     "remove-print"
    ]
   },
   "source": [
    "[Click here to run this notebook on Colab](https://colab.research.google.com/github/AllenDowney/ThinkStats/blob/v3/nb/chap03.ipynb)."
   ]
  },
  {
   "cell_type": "code",
   "execution_count": 1,
   "id": "c4578587",
   "metadata": {
    "tags": [
     "remove-print",
     "hide-cell"
    ]
   },
   "outputs": [],
   "source": [
    "from os.path import basename, exists\n",
    "\n",
    "\n",
    "def download(url):\n",
    "    filename = basename(url)\n",
    "    if not exists(filename):\n",
    "        from urllib.request import urlretrieve\n",
    "\n",
    "        local, _ = urlretrieve(url, filename)\n",
    "        print(\"Downloaded \" + local)\n",
    "\n",
    "\n",
    "download(\"https://github.com/AllenDowney/ThinkStats/raw/v3/nb/thinkstats.py\")"
   ]
  },
  {
   "cell_type": "code",
   "execution_count": 2,
   "id": "f66668e0",
   "metadata": {
    "tags": [
     "remove-print",
     "hide-cell"
    ]
   },
   "outputs": [],
   "source": [
    "try:\n",
    "    import empiricaldist\n",
    "except ImportError:\n",
    "    %pip install empiricaldist"
   ]
  },
  {
   "cell_type": "code",
   "execution_count": 3,
   "id": "e47f1afd",
   "metadata": {
    "tags": [
     "remove-print",
     "hide-cell"
    ]
   },
   "outputs": [],
   "source": [
    "import numpy as np\n",
    "import pandas as pd\n",
    "import matplotlib.pyplot as plt\n",
    "\n",
    "from thinkstats import decorate"
   ]
  },
  {
   "cell_type": "markdown",
   "id": "5f56b6a7",
   "metadata": {},
   "source": [
    "## PMFs\n",
    "\n",
    "A `Pmf` object is like a `FreqTab` that contains probabilities instead of frequencies.\n",
    "So one way to make a `Pmf` is to start with a `FreqTab`.\n",
    "For example, here's a `FreqTab` that represents the distribution of values in a short sequence."
   ]
  },
  {
   "cell_type": "code",
   "execution_count": 4,
   "id": "8f418fed",
   "metadata": {},
   "outputs": [
    {
     "data": {
      "text/html": [
       "<div>\n",
       "<style scoped>\n",
       "    .dataframe tbody tr th:only-of-type {\n",
       "        vertical-align: middle;\n",
       "    }\n",
       "\n",
       "    .dataframe tbody tr th {\n",
       "        vertical-align: top;\n",
       "    }\n",
       "\n",
       "    .dataframe thead th {\n",
       "        text-align: right;\n",
       "    }\n",
       "</style>\n",
       "<table border=\"1\" class=\"dataframe\">\n",
       "  <thead>\n",
       "    <tr style=\"text-align: right;\">\n",
       "      <th></th>\n",
       "      <th>freqs</th>\n",
       "    </tr>\n",
       "  </thead>\n",
       "  <tbody>\n",
       "    <tr>\n",
       "      <th>1</th>\n",
       "      <td>1</td>\n",
       "    </tr>\n",
       "    <tr>\n",
       "      <th>2</th>\n",
       "      <td>2</td>\n",
       "    </tr>\n",
       "    <tr>\n",
       "      <th>3</th>\n",
       "      <td>1</td>\n",
       "    </tr>\n",
       "    <tr>\n",
       "      <th>5</th>\n",
       "      <td>1</td>\n",
       "    </tr>\n",
       "  </tbody>\n",
       "</table>\n",
       "</div>"
      ],
      "text/plain": [
       "1    1\n",
       "2    2\n",
       "3    1\n",
       "5    1\n",
       "Name: , dtype: int64"
      ]
     },
     "execution_count": 4,
     "metadata": {},
     "output_type": "execute_result"
    }
   ],
   "source": [
    "from empiricaldist import FreqTab\n",
    "\n",
    "ftab = FreqTab.from_seq([1, 2, 2, 3, 5])\n",
    "ftab"
   ]
  },
  {
   "cell_type": "markdown",
   "id": "f70e8df4",
   "metadata": {},
   "source": [
    "The sum of the frequencies is the size of the original sequence."
   ]
  },
  {
   "cell_type": "code",
   "execution_count": 5,
   "id": "8e1ee1ca",
   "metadata": {},
   "outputs": [
    {
     "data": {
      "text/plain": [
       "np.int64(5)"
      ]
     },
     "execution_count": 5,
     "metadata": {},
     "output_type": "execute_result"
    }
   ],
   "source": [
    "n = ftab.sum()\n",
    "n"
   ]
  },
  {
   "cell_type": "markdown",
   "id": "eeed5af8",
   "metadata": {},
   "source": [
    "If we divide the frequencies by `n`, they represent proportions, rather than counts."
   ]
  },
  {
   "cell_type": "code",
   "execution_count": 6,
   "id": "07dab3d2",
   "metadata": {},
   "outputs": [
    {
     "data": {
      "text/html": [
       "<div>\n",
       "<style scoped>\n",
       "    .dataframe tbody tr th:only-of-type {\n",
       "        vertical-align: middle;\n",
       "    }\n",
       "\n",
       "    .dataframe tbody tr th {\n",
       "        vertical-align: top;\n",
       "    }\n",
       "\n",
       "    .dataframe thead th {\n",
       "        text-align: right;\n",
       "    }\n",
       "</style>\n",
       "<table border=\"1\" class=\"dataframe\">\n",
       "  <thead>\n",
       "    <tr style=\"text-align: right;\">\n",
       "      <th></th>\n",
       "      <th>probs</th>\n",
       "    </tr>\n",
       "  </thead>\n",
       "  <tbody>\n",
       "    <tr>\n",
       "      <th>1</th>\n",
       "      <td>0.2</td>\n",
       "    </tr>\n",
       "    <tr>\n",
       "      <th>2</th>\n",
       "      <td>0.4</td>\n",
       "    </tr>\n",
       "    <tr>\n",
       "      <th>3</th>\n",
       "      <td>0.2</td>\n",
       "    </tr>\n",
       "    <tr>\n",
       "      <th>5</th>\n",
       "      <td>0.2</td>\n",
       "    </tr>\n",
       "  </tbody>\n",
       "</table>\n",
       "</div>"
      ],
      "text/plain": [
       "1    0.2\n",
       "2    0.4\n",
       "3    0.2\n",
       "5    0.2\n",
       "Name: , dtype: float64"
      ]
     },
     "execution_count": 6,
     "metadata": {},
     "output_type": "execute_result"
    }
   ],
   "source": [
    "pmf = ftab / n\n",
    "pmf"
   ]
  },
  {
   "cell_type": "markdown",
   "id": "1e0a7d3c",
   "metadata": {},
   "source": [
    "This result indicates that 20% of the values in the sequence are 1, 40% are 2, and so on.\n",
    "\n",
    "We can also think of these proportions as probabilities in the following sense: if we choose a random value from the original sequence, the probability we choose the value 1 is 0.2, the probability we choose the value 2 is 0.4, and so on.\n",
    "\n",
    "Because we divided through by `n`, the sum of the probabilities is 1, which means that this distribution is **normalized**."
   ]
  },
  {
   "cell_type": "code",
   "execution_count": 7,
   "id": "af296dc9",
   "metadata": {},
   "outputs": [
    {
     "data": {
      "text/plain": [
       "np.float64(1.0)"
      ]
     },
     "execution_count": 7,
     "metadata": {},
     "output_type": "execute_result"
    }
   ],
   "source": [
    "pmf.sum()"
   ]
  },
  {
   "cell_type": "markdown",
   "id": "c81d485a",
   "metadata": {},
   "source": [
    "A normalized `FreqTab` object represents a **probability mass function** (PMF), so-called because probabilities associated with discrete values are also called \"probability masses\".\n",
    "\n",
    "The `empiricaldist` library provides a `Pmf` object that represents a probability mass function, so instead of creating a `FreqTab` object and then normalizing it, we can create a `Pmf` object directly."
   ]
  },
  {
   "cell_type": "code",
   "execution_count": 8,
   "id": "3fff30ec",
   "metadata": {},
   "outputs": [
    {
     "data": {
      "text/html": [
       "<div>\n",
       "<style scoped>\n",
       "    .dataframe tbody tr th:only-of-type {\n",
       "        vertical-align: middle;\n",
       "    }\n",
       "\n",
       "    .dataframe tbody tr th {\n",
       "        vertical-align: top;\n",
       "    }\n",
       "\n",
       "    .dataframe thead th {\n",
       "        text-align: right;\n",
       "    }\n",
       "</style>\n",
       "<table border=\"1\" class=\"dataframe\">\n",
       "  <thead>\n",
       "    <tr style=\"text-align: right;\">\n",
       "      <th></th>\n",
       "      <th>probs</th>\n",
       "    </tr>\n",
       "  </thead>\n",
       "  <tbody>\n",
       "    <tr>\n",
       "      <th>1</th>\n",
       "      <td>0.2</td>\n",
       "    </tr>\n",
       "    <tr>\n",
       "      <th>2</th>\n",
       "      <td>0.4</td>\n",
       "    </tr>\n",
       "    <tr>\n",
       "      <th>3</th>\n",
       "      <td>0.2</td>\n",
       "    </tr>\n",
       "    <tr>\n",
       "      <th>5</th>\n",
       "      <td>0.2</td>\n",
       "    </tr>\n",
       "  </tbody>\n",
       "</table>\n",
       "</div>"
      ],
      "text/plain": [
       "1    0.2\n",
       "2    0.4\n",
       "3    0.2\n",
       "5    0.2\n",
       "Name: , dtype: float64"
      ]
     },
     "execution_count": 8,
     "metadata": {},
     "output_type": "execute_result"
    }
   ],
   "source": [
    "from empiricaldist import Pmf\n",
    "\n",
    "pmf = Pmf.from_seq([1, 2, 2, 3, 5])\n",
    "pmf"
   ]
  },
  {
   "cell_type": "markdown",
   "id": "d8428fe8",
   "metadata": {},
   "source": [
    "The `Pmf` is normalized so the total probability is 1."
   ]
  },
  {
   "cell_type": "code",
   "execution_count": 9,
   "id": "5e01b656",
   "metadata": {},
   "outputs": [
    {
     "data": {
      "text/plain": [
       "np.float64(1.0)"
      ]
     },
     "execution_count": 9,
     "metadata": {},
     "output_type": "execute_result"
    }
   ],
   "source": [
    "pmf.sum()"
   ]
  },
  {
   "cell_type": "markdown",
   "id": "4cc44f90",
   "metadata": {},
   "source": [
    "`Pmf` and `FreqTab` objects are similar in many ways.\n",
    "To look up the probability associated with a value, we can use the bracket operator."
   ]
  },
  {
   "cell_type": "code",
   "execution_count": 10,
   "id": "41280992",
   "metadata": {},
   "outputs": [
    {
     "data": {
      "text/plain": [
       "np.float64(0.4)"
      ]
     },
     "execution_count": 10,
     "metadata": {},
     "output_type": "execute_result"
    }
   ],
   "source": [
    "pmf[2]"
   ]
  },
  {
   "cell_type": "markdown",
   "id": "ff05014f",
   "metadata": {},
   "source": [
    "Or use parentheses to call the `Pmf` like a function."
   ]
  },
  {
   "cell_type": "code",
   "execution_count": 11,
   "id": "2ac2919b",
   "metadata": {},
   "outputs": [
    {
     "data": {
      "text/plain": [
       "np.float64(0.4)"
      ]
     },
     "execution_count": 11,
     "metadata": {},
     "output_type": "execute_result"
    }
   ],
   "source": [
    "pmf(2)"
   ]
  },
  {
   "cell_type": "markdown",
   "id": "98af6144",
   "metadata": {},
   "source": [
    "To assign a probability to a value, you have to use the bracket operator."
   ]
  },
  {
   "cell_type": "code",
   "execution_count": 12,
   "id": "b53f5742",
   "metadata": {},
   "outputs": [
    {
     "data": {
      "text/plain": [
       "np.float64(0.2)"
      ]
     },
     "execution_count": 12,
     "metadata": {},
     "output_type": "execute_result"
    }
   ],
   "source": [
    "pmf[2] = 0.2\n",
    "pmf(2)"
   ]
  },
  {
   "cell_type": "markdown",
   "id": "69db5cfb",
   "metadata": {},
   "source": [
    "You can modify an existing `Pmf` by incrementing the probability associated with a value:"
   ]
  },
  {
   "cell_type": "code",
   "execution_count": 13,
   "id": "25ecc3b0",
   "metadata": {},
   "outputs": [
    {
     "data": {
      "text/plain": [
       "np.float64(0.5)"
      ]
     },
     "execution_count": 13,
     "metadata": {},
     "output_type": "execute_result"
    }
   ],
   "source": [
    "pmf[2] += 0.3\n",
    "pmf[2]"
   ]
  },
  {
   "cell_type": "markdown",
   "id": "b4de74dd",
   "metadata": {},
   "source": [
    "Or you can multiply a probability by a factor:"
   ]
  },
  {
   "cell_type": "code",
   "execution_count": 14,
   "id": "df663bda",
   "metadata": {},
   "outputs": [
    {
     "data": {
      "text/plain": [
       "np.float64(0.25)"
      ]
     },
     "execution_count": 14,
     "metadata": {},
     "output_type": "execute_result"
    }
   ],
   "source": [
    "pmf[2] *= 0.5\n",
    "pmf[2]"
   ]
  },
  {
   "cell_type": "markdown",
   "id": "3abe8d9e",
   "metadata": {},
   "source": [
    "If you modify a `Pmf`, the result may not be normalized -- that is, the probabilities may no longer add up to 1."
   ]
  },
  {
   "cell_type": "code",
   "execution_count": 15,
   "id": "864a09be",
   "metadata": {},
   "outputs": [
    {
     "data": {
      "text/plain": [
       "np.float64(0.8500000000000001)"
      ]
     },
     "execution_count": 15,
     "metadata": {},
     "output_type": "execute_result"
    }
   ],
   "source": [
    "pmf.sum()"
   ]
  },
  {
   "cell_type": "markdown",
   "id": "bce848f1",
   "metadata": {},
   "source": [
    "The `normalize` method renormalizes the `Pmf` by dividing through by the sum -- and returning the sum. "
   ]
  },
  {
   "cell_type": "code",
   "execution_count": 16,
   "id": "a06845d8",
   "metadata": {},
   "outputs": [
    {
     "data": {
      "text/plain": [
       "np.float64(0.8500000000000001)"
      ]
     },
     "execution_count": 16,
     "metadata": {},
     "output_type": "execute_result"
    }
   ],
   "source": [
    "pmf.normalize()"
   ]
  },
  {
   "cell_type": "markdown",
   "id": "4ae297e6",
   "metadata": {},
   "source": [
    "`Pmf` objects provide a `copy` method so you can make and modify a copy without affecting the original."
   ]
  },
  {
   "cell_type": "code",
   "execution_count": 17,
   "id": "7738244e",
   "metadata": {},
   "outputs": [
    {
     "data": {
      "text/html": [
       "<div>\n",
       "<style scoped>\n",
       "    .dataframe tbody tr th:only-of-type {\n",
       "        vertical-align: middle;\n",
       "    }\n",
       "\n",
       "    .dataframe tbody tr th {\n",
       "        vertical-align: top;\n",
       "    }\n",
       "\n",
       "    .dataframe thead th {\n",
       "        text-align: right;\n",
       "    }\n",
       "</style>\n",
       "<table border=\"1\" class=\"dataframe\">\n",
       "  <thead>\n",
       "    <tr style=\"text-align: right;\">\n",
       "      <th></th>\n",
       "      <th>probs</th>\n",
       "    </tr>\n",
       "  </thead>\n",
       "  <tbody>\n",
       "    <tr>\n",
       "      <th>1</th>\n",
       "      <td>0.235294</td>\n",
       "    </tr>\n",
       "    <tr>\n",
       "      <th>2</th>\n",
       "      <td>0.294118</td>\n",
       "    </tr>\n",
       "    <tr>\n",
       "      <th>3</th>\n",
       "      <td>0.235294</td>\n",
       "    </tr>\n",
       "    <tr>\n",
       "      <th>5</th>\n",
       "      <td>0.235294</td>\n",
       "    </tr>\n",
       "  </tbody>\n",
       "</table>\n",
       "</div>"
      ],
      "text/plain": [
       "1    0.235294\n",
       "2    0.294118\n",
       "3    0.235294\n",
       "5    0.235294\n",
       "Name: , dtype: float64"
      ]
     },
     "execution_count": 17,
     "metadata": {},
     "output_type": "execute_result"
    }
   ],
   "source": [
    "pmf.copy()"
   ]
  },
  {
   "cell_type": "markdown",
   "id": "94f5f531",
   "metadata": {},
   "source": [
    "Like a `FreqTab` object, a `Pmf` object has a `qs` attribute that accesses the quantities and a `ps` attribute that accesses the probabilities.\n",
    "\n",
    "It also has a `bar` method that plots the `Pmf` as a bar graph and a `plot` method that plots it as a line graph."
   ]
  },
  {
   "cell_type": "markdown",
   "id": "3e77da45",
   "metadata": {
    "tags": [
     "section_summarizing_pmfs"
    ]
   },
   "source": [
    "(section_summarizing_pmfs)=\n",
    "## Summarizing a PMF\n",
    "\n",
    "In [Chapter 1](section_summary_statistics) we computed the mean of a sample by adding up the elements and dividing by the number of elements.\n",
    "Here's a simple example."
   ]
  },
  {
   "cell_type": "code",
   "execution_count": 18,
   "id": "07579612",
   "metadata": {},
   "outputs": [
    {
     "data": {
      "text/plain": [
       "np.float64(2.6)"
      ]
     },
     "execution_count": 18,
     "metadata": {},
     "output_type": "execute_result"
    }
   ],
   "source": [
    "seq = [1, 2, 2, 3, 5]\n",
    "\n",
    "n = len(seq)\n",
    "mean = np.sum(seq) / n\n",
    "mean"
   ]
  },
  {
   "cell_type": "markdown",
   "id": "7ca46b48",
   "metadata": {},
   "source": [
    "Now suppose we compute the PMF of the values in the sequence."
   ]
  },
  {
   "cell_type": "code",
   "execution_count": 19,
   "id": "fa1ca2c9",
   "metadata": {},
   "outputs": [],
   "source": [
    "pmf = Pmf.from_seq(seq)"
   ]
  },
  {
   "cell_type": "markdown",
   "id": "ea4a034d",
   "metadata": {},
   "source": [
    "Given the `Pmf`, we can still compute the mean, but the process is different -- we have to multiply the probabilities and quantities and add up the products."
   ]
  },
  {
   "cell_type": "code",
   "execution_count": 20,
   "id": "f73de148",
   "metadata": {},
   "outputs": [
    {
     "data": {
      "text/plain": [
       "np.float64(2.6)"
      ]
     },
     "execution_count": 20,
     "metadata": {},
     "output_type": "execute_result"
    }
   ],
   "source": [
    "mean = np.sum(pmf.ps * pmf.qs)\n",
    "mean"
   ]
  },
  {
   "cell_type": "markdown",
   "id": "b7913b14",
   "metadata": {},
   "source": [
    "Notice that we *don't* have to divide by `n`, because we already did that when we normalized the `Pmf`.\n",
    "`Pmf` objects have a `mean` method that does the same thing."
   ]
  },
  {
   "cell_type": "code",
   "execution_count": 21,
   "id": "b7a352d8",
   "metadata": {},
   "outputs": [
    {
     "data": {
      "text/plain": [
       "np.float64(2.6)"
      ]
     },
     "execution_count": 21,
     "metadata": {},
     "output_type": "execute_result"
    }
   ],
   "source": [
    "pmf.mean()"
   ]
  },
  {
   "cell_type": "markdown",
   "id": "444f74bd",
   "metadata": {},
   "source": [
    "Given a `Pmf`, we can compute the variance by computing the deviation of each quantity from the mean."
   ]
  },
  {
   "cell_type": "code",
   "execution_count": 22,
   "id": "06ecd356",
   "metadata": {},
   "outputs": [],
   "source": [
    "deviations = pmf.qs - mean"
   ]
  },
  {
   "cell_type": "markdown",
   "id": "b4a01857",
   "metadata": {},
   "source": [
    "Then we multiply the squared deviations by the probabilities and add up the products."
   ]
  },
  {
   "cell_type": "code",
   "execution_count": 23,
   "id": "bd600815",
   "metadata": {},
   "outputs": [
    {
     "data": {
      "text/plain": [
       "np.float64(1.84)"
      ]
     },
     "execution_count": 23,
     "metadata": {},
     "output_type": "execute_result"
    }
   ],
   "source": [
    "var = np.sum(pmf.ps * deviations**2)\n",
    "var"
   ]
  },
  {
   "cell_type": "markdown",
   "id": "f8a9a9b6",
   "metadata": {},
   "source": [
    "The `var` method does the same thing."
   ]
  },
  {
   "cell_type": "code",
   "execution_count": 24,
   "id": "a220d0e6",
   "metadata": {},
   "outputs": [
    {
     "data": {
      "text/plain": [
       "np.float64(1.84)"
      ]
     },
     "execution_count": 24,
     "metadata": {},
     "output_type": "execute_result"
    }
   ],
   "source": [
    "pmf.var()"
   ]
  },
  {
   "cell_type": "markdown",
   "id": "9a1c2c57",
   "metadata": {},
   "source": [
    "From the variance, we can compute the standard deviation in the usual way."
   ]
  },
  {
   "cell_type": "code",
   "execution_count": 25,
   "id": "5e152cda",
   "metadata": {},
   "outputs": [
    {
     "data": {
      "text/plain": [
       "np.float64(1.3564659966250536)"
      ]
     },
     "execution_count": 25,
     "metadata": {},
     "output_type": "execute_result"
    }
   ],
   "source": [
    "np.sqrt(var)"
   ]
  },
  {
   "cell_type": "markdown",
   "id": "f2accd22",
   "metadata": {},
   "source": [
    "Or the `std` method does the same thing."
   ]
  },
  {
   "cell_type": "code",
   "execution_count": 26,
   "id": "e7557612",
   "metadata": {},
   "outputs": [
    {
     "data": {
      "text/plain": [
       "np.float64(1.3564659966250536)"
      ]
     },
     "execution_count": 26,
     "metadata": {},
     "output_type": "execute_result"
    }
   ],
   "source": [
    "pmf.std()"
   ]
  },
  {
   "cell_type": "markdown",
   "id": "6645531f",
   "metadata": {},
   "source": [
    "`Pmf` also provides a `mode` method that finds the value with the highest probability."
   ]
  },
  {
   "cell_type": "code",
   "execution_count": 27,
   "id": "19405109",
   "metadata": {},
   "outputs": [
    {
     "data": {
      "text/plain": [
       "np.int64(2)"
      ]
     },
     "execution_count": 27,
     "metadata": {},
     "output_type": "execute_result"
    }
   ],
   "source": [
    "pmf.mode()"
   ]
  },
  {
   "cell_type": "markdown",
   "id": "e68a7efd",
   "metadata": {},
   "source": [
    "We'll see more methods as we go along, but that's enough to get started."
   ]
  },
  {
   "cell_type": "markdown",
   "id": "51fc69ca",
   "metadata": {},
   "source": [
    "## The Class Size Paradox\n",
    "\n",
    "As an example of what we can do with `Pmf` objects, let's consider a phenomenon I call \"the class size paradox.\"\n",
    "\n",
    "At many American colleges and universities, the student-to-faculty ratio is about 10:1.\n",
    "But students are often surprised that many of their classes have more than 10 students, sometimes a lot more. There are two reasons for the discrepancy:\n",
    "\n",
    "-   Students typically take 4 or 5 classes per semester, but professors often teach 1 or 2.\n",
    "\n",
    "-   The number of students in a small class is small, and the number of students in a large class is large.\n",
    "\n",
    "The first effect is obvious, at least once it is pointed out; the second is more subtle.\n",
    "Let's look at an example.\n",
    "Suppose that a college offers 65 classes in a given semester, and we are given the number of classes in each of the following size ranges."
   ]
  },
  {
   "cell_type": "code",
   "execution_count": 28,
   "id": "36fa48bc",
   "metadata": {},
   "outputs": [
    {
     "data": {
      "text/html": [
       "<div>\n",
       "<style scoped>\n",
       "    .dataframe tbody tr th:only-of-type {\n",
       "        vertical-align: middle;\n",
       "    }\n",
       "\n",
       "    .dataframe tbody tr th {\n",
       "        vertical-align: top;\n",
       "    }\n",
       "\n",
       "    .dataframe thead th {\n",
       "        text-align: right;\n",
       "    }\n",
       "</style>\n",
       "<table border=\"1\" class=\"dataframe\">\n",
       "  <thead>\n",
       "    <tr style=\"text-align: right;\">\n",
       "      <th></th>\n",
       "      <th>count</th>\n",
       "    </tr>\n",
       "    <tr>\n",
       "      <th>class size</th>\n",
       "      <th></th>\n",
       "    </tr>\n",
       "  </thead>\n",
       "  <tbody>\n",
       "    <tr>\n",
       "      <th>[5, 10)</th>\n",
       "      <td>8</td>\n",
       "    </tr>\n",
       "    <tr>\n",
       "      <th>[10, 15)</th>\n",
       "      <td>8</td>\n",
       "    </tr>\n",
       "    <tr>\n",
       "      <th>[15, 20)</th>\n",
       "      <td>14</td>\n",
       "    </tr>\n",
       "    <tr>\n",
       "      <th>[20, 25)</th>\n",
       "      <td>4</td>\n",
       "    </tr>\n",
       "    <tr>\n",
       "      <th>[25, 30)</th>\n",
       "      <td>6</td>\n",
       "    </tr>\n",
       "    <tr>\n",
       "      <th>[30, 35)</th>\n",
       "      <td>12</td>\n",
       "    </tr>\n",
       "    <tr>\n",
       "      <th>[35, 40)</th>\n",
       "      <td>8</td>\n",
       "    </tr>\n",
       "    <tr>\n",
       "      <th>[40, 45)</th>\n",
       "      <td>3</td>\n",
       "    </tr>\n",
       "    <tr>\n",
       "      <th>[45, 50)</th>\n",
       "      <td>2</td>\n",
       "    </tr>\n",
       "  </tbody>\n",
       "</table>\n",
       "</div>"
      ],
      "text/plain": [
       "            count\n",
       "class size       \n",
       "[5, 10)         8\n",
       "[10, 15)        8\n",
       "[15, 20)       14\n",
       "[20, 25)        4\n",
       "[25, 30)        6\n",
       "[30, 35)       12\n",
       "[35, 40)        8\n",
       "[40, 45)        3\n",
       "[45, 50)        2"
      ]
     },
     "execution_count": 28,
     "metadata": {},
     "output_type": "execute_result"
    }
   ],
   "source": [
    "ranges = pd.interval_range(start=5, end=50, freq=5, closed=\"left\")\n",
    "ranges.name = \"class size\"\n",
    "\n",
    "data = pd.DataFrame(index=ranges)\n",
    "data[\"count\"] = [8, 8, 14, 4, 6, 12, 8, 3, 2]\n",
    "data"
   ]
  },
  {
   "cell_type": "markdown",
   "id": "2e43baa6",
   "metadata": {},
   "source": [
    "The Pandas function `interval_range` makes an `Index` where each label represents a range of values.\n",
    "The notation `[5, 10)` means that `5` is included in the interval and `10` is not.\n",
    "Since we don't know the sizes of the classes in each interval, let's assume that all sizes are at the midpoint of the range."
   ]
  },
  {
   "cell_type": "code",
   "execution_count": 29,
   "id": "36f208f9",
   "metadata": {},
   "outputs": [
    {
     "data": {
      "text/plain": [
       "Index([7, 12, 17, 22, 27, 32, 37, 42, 47], dtype='int64')"
      ]
     },
     "execution_count": 29,
     "metadata": {},
     "output_type": "execute_result"
    }
   ],
   "source": [
    "sizes = ranges.left + 2\n",
    "sizes"
   ]
  },
  {
   "cell_type": "markdown",
   "id": "7551d814",
   "metadata": {},
   "source": [
    "Now let's make a `Pmf` that represents the distribution of class sizes.\n",
    "Because we know the sizes and their frequencies, we can create a `Pmf` directly, passing as arguments the counts, sizes, and a name.\n",
    "When we normalize the new `Pmf`, the result is the sum of the counts."
   ]
  },
  {
   "cell_type": "code",
   "execution_count": 30,
   "id": "c1db28bc",
   "metadata": {},
   "outputs": [
    {
     "data": {
      "text/plain": [
       "np.int64(65)"
      ]
     },
     "execution_count": 30,
     "metadata": {},
     "output_type": "execute_result"
    }
   ],
   "source": [
    "counts = data[\"count\"]\n",
    "actual_pmf = Pmf(counts, sizes, name=\"actual\")\n",
    "actual_pmf.normalize()"
   ]
  },
  {
   "cell_type": "markdown",
   "id": "ca39aa3a",
   "metadata": {},
   "source": [
    "If you ask the college for the average class size, they report the mean of this distribution, which is 23.7."
   ]
  },
  {
   "cell_type": "code",
   "execution_count": 31,
   "id": "6f8eb2c2",
   "metadata": {},
   "outputs": [
    {
     "data": {
      "text/plain": [
       "np.float64(23.692307692307693)"
      ]
     },
     "execution_count": 31,
     "metadata": {},
     "output_type": "execute_result"
    }
   ],
   "source": [
    "actual_pmf.mean()"
   ]
  },
  {
   "cell_type": "markdown",
   "id": "0d22bd69",
   "metadata": {},
   "source": [
    "But if you survey a group of students, ask them how many students are in their classes, and compute the mean, the average is bigger.\n",
    "Let's see how much bigger.\n",
    "\n",
    "The following function takes the actual `Pmf` of class sizes and makes a new `Pmf` that represents the class sizes as seen by students.\n",
    "The quantities in the two distributions are the same, but the probabilities in the distribution are multiplied by the quantities, because in a class with size `x`, there are `x` students who observe that class.\n",
    "So the probability of observing a class is proportional to its size."
   ]
  },
  {
   "cell_type": "code",
   "execution_count": 32,
   "id": "3cef6126",
   "metadata": {},
   "outputs": [],
   "source": [
    "def bias(pmf, name):\n",
    "    # multiply each probability by class size\n",
    "    ps = pmf.ps * pmf.qs\n",
    "\n",
    "    # make a new Pmf and normalize it\n",
    "    new_pmf = Pmf(ps, pmf.qs, name=name)\n",
    "    new_pmf.normalize()\n",
    "    return new_pmf"
   ]
  },
  {
   "cell_type": "markdown",
   "id": "f1449478",
   "metadata": {},
   "source": [
    "Now we can compute the biased `Pmf` as observed by students."
   ]
  },
  {
   "cell_type": "code",
   "execution_count": 33,
   "id": "6df3cccb",
   "metadata": {},
   "outputs": [],
   "source": [
    "observed_pmf = bias(actual_pmf, name=\"observed\")"
   ]
  },
  {
   "cell_type": "markdown",
   "id": "e96df61b",
   "metadata": {},
   "source": [
    "Here's what the two distributions look like."
   ]
  },
  {
   "cell_type": "code",
   "execution_count": 34,
   "id": "1c2b81d9",
   "metadata": {},
   "outputs": [
    {
     "data": {
      "image/png": "[encoded data removed]",
      "text/plain": [
       "<Figure size 1800x1050 with 1 Axes>"
      ]
     },
     "metadata": {},
     "output_type": "display_data"
    }
   ],
   "source": [
    "from thinkstats import two_bar_plots\n",
    "\n",
    "two_bar_plots(actual_pmf, observed_pmf, width=2)\n",
    "decorate(xlabel=\"Class size\", ylabel=\"PMF\")"
   ]
  },
  {
   "cell_type": "markdown",
   "id": "2842ea59",
   "metadata": {},
   "source": [
    "In the observed distribution there are fewer small classes and more large ones.\n",
    "And the biased mean is 29.1, almost 25% higher than the actual mean."
   ]
  },
  {
   "cell_type": "code",
   "execution_count": 35,
   "id": "61623eb5",
   "metadata": {},
   "outputs": [
    {
     "data": {
      "text/plain": [
       "np.float64(29.123376623376622)"
      ]
     },
     "execution_count": 35,
     "metadata": {},
     "output_type": "execute_result"
    }
   ],
   "source": [
    "observed_pmf.mean()"
   ]
  },
  {
   "cell_type": "markdown",
   "id": "d6820e00",
   "metadata": {},
   "source": [
    "It is also possible to invert this operation.\n",
    "Suppose you want to find the distribution of class sizes at a college, but you can't get reliable data.\n",
    "One option is to choose a random sample of students and ask how many students are in their classes.\n",
    "\n",
    "The result would be biased for the reasons we've just seen, but you can use it to estimate the actual distribution.\n",
    "Here's the function that unbiases a `Pmf` by dividing the probabilities by the sizes."
   ]
  },
  {
   "cell_type": "code",
   "execution_count": 36,
   "id": "4c52202b",
   "metadata": {},
   "outputs": [],
   "source": [
    "def unbias(pmf, name):\n",
    "    # divide each probability by class size\n",
    "    ps = pmf.ps / pmf.qs\n",
    "\n",
    "    new_pmf = Pmf(ps, pmf.qs, name=name)\n",
    "    new_pmf.normalize()\n",
    "    return new_pmf"
   ]
  },
  {
   "cell_type": "markdown",
   "id": "9728cc41",
   "metadata": {},
   "source": [
    "And here's the result."
   ]
  },
  {
   "cell_type": "code",
   "execution_count": 37,
   "id": "e69c6e88",
   "metadata": {},
   "outputs": [
    {
     "data": {
      "text/plain": [
       "np.float64(23.692307692307693)"
      ]
     },
     "execution_count": 37,
     "metadata": {},
     "output_type": "execute_result"
    }
   ],
   "source": [
    "debiased_pmf = unbias(observed_pmf, \"debiased\")\n",
    "debiased_pmf.mean()"
   ]
  },
  {
   "cell_type": "markdown",
   "id": "d9b23744",
   "metadata": {},
   "source": [
    "The mean of the debiased `Pmf` is the same as the mean of the actual distribution we started with.\n",
    "\n",
    "If you think this example is interesting, you might like Chapter 2 of *Probably Overthinking It*, which includes this and several other examples of what's called the \"inspection paradox\"."
   ]
  },
  {
   "cell_type": "markdown",
   "id": "089ffa11",
   "metadata": {},
   "source": [
    "## NSFG Data\n",
    "\n",
    "In the previous chapter, we plotted frequency tables of pregnancy lengths for first babies and others.\n",
    "But the sizes of the groups are not the same, so we can't compare the frequency tables directly.\n",
    "Because PMFs are normalized, we can compare them.\n",
    "So let's load the NSFG data again and make `Pmf` objects to represent distributions of pregnancy lengths."
   ]
  },
  {
   "cell_type": "markdown",
   "id": "ead45565",
   "metadata": {
    "tags": [
     "remove-print"
    ]
   },
   "source": [
    "The following cells download the data files and install `statadict`, which we need to read the data."
   ]
  },
  {
   "cell_type": "code",
   "execution_count": 38,
   "id": "31216ce5",
   "metadata": {
    "tags": [
     "remove-print"
    ]
   },
   "outputs": [],
   "source": [
    "try:\n",
    "    import statadict\n",
    "except ImportError:\n",
    "    %pip install statadict"
   ]
  },
  {
   "cell_type": "code",
   "execution_count": 39,
   "id": "7deaf238",
   "metadata": {
    "tags": [
     "remove-print"
    ]
   },
   "outputs": [],
   "source": [
    "download(\"https://github.com/AllenDowney/ThinkStats/raw/v3/nb/nsfg.py\")\n",
    "download(\"https://github.com/AllenDowney/ThinkStats/raw/v3/data/2002FemPreg.dct\")\n",
    "download(\"https://github.com/AllenDowney/ThinkStats/raw/v3/data/2002FemPreg.dat.gz\")"
   ]
  },
  {
   "cell_type": "markdown",
   "id": "1b94e467",
   "metadata": {},
   "source": [
    "The `nsfg` module provides a `read_nsfg_groups` function that reads the data, selects rows that represent live births, and partitions live births into first babies and others.\n",
    "It returns three `DataFrame` objects."
   ]
  },
  {
   "cell_type": "code",
   "execution_count": 40,
   "id": "4424061e",
   "metadata": {},
   "outputs": [],
   "source": [
    "from nsfg import get_nsfg_groups\n",
    "\n",
    "live, firsts, others = get_nsfg_groups()"
   ]
  },
  {
   "cell_type": "markdown",
   "id": "db6ed39a",
   "metadata": {},
   "source": [
    "We can use `firsts` and `others` to make a `Pmf` for the pregnancy lengths in each group."
   ]
  },
  {
   "cell_type": "code",
   "execution_count": 41,
   "id": "900062cf",
   "metadata": {},
   "outputs": [],
   "source": [
    "first_pmf = Pmf.from_seq(firsts[\"prglngth\"], name=\"firsts\")\n",
    "other_pmf = Pmf.from_seq(others[\"prglngth\"], name=\"others\")"
   ]
  },
  {
   "cell_type": "markdown",
   "id": "26d3185a",
   "metadata": {},
   "source": [
    "Here are the PMFs for first babies and others, plotted as bar graphs."
   ]
  },
  {
   "cell_type": "code",
   "execution_count": 42,
   "id": "62c91cfa",
   "metadata": {},
   "outputs": [
    {
     "data": {
      "image/png": "[encoded data removed]",
      "text/plain": [
       "<Figure size 1800x1050 with 1 Axes>"
      ]
     },
     "metadata": {},
     "output_type": "display_data"
    }
   ],
   "source": [
    "two_bar_plots(first_pmf, other_pmf)\n",
    "decorate(xlabel=\"Weeks\", ylabel=\"Probability\", xlim=[20, 50])"
   ]
  },
  {
   "cell_type": "markdown",
   "id": "cc505018",
   "metadata": {},
   "source": [
    "By plotting the PMF instead of the frequency table, we can compare the two distributions without being misled by the difference in sizes of the samples.\n",
    "Based on this figure, first babies seem to be less likely than others to arrive on time (week 39) and more likely to be late (weeks 41 and 42)."
   ]
  },
  {
   "cell_type": "markdown",
   "id": "8f2e5b2f",
   "metadata": {},
   "source": [
    "## Other Visualizations\n",
    "\n",
    "FreqTabograms and PMFs are useful while you are exploring data and trying to identify patterns and relationships.\n",
    "Once you have an idea what is going on, a good next step is to design a visualization that makes the patterns you have identified as clear as possible.\n",
    "\n",
    "In the NSFG data, the biggest differences in the distributions are near the mode.\n",
    "So it makes sense to zoom in on that part of the graph, and select data from weeks 35 to 46.\n",
    "\n",
    "When we call a `Pmf` object like a function, we can look up a sequence of quantities and get a sequence of probabilities."
   ]
  },
  {
   "cell_type": "code",
   "execution_count": 43,
   "id": "9f134fc5",
   "metadata": {},
   "outputs": [
    {
     "data": {
      "text/plain": [
       "array([0.03602991, 0.03897575, 0.04713347, 0.06163608, 0.4790392 ,\n",
       "       0.12145932, 0.08157716, 0.04645366, 0.01971448, 0.00521187,\n",
       "       0.00135962])"
      ]
     },
     "execution_count": 43,
     "metadata": {},
     "output_type": "execute_result"
    }
   ],
   "source": [
    "weeks = range(35, 46)\n",
    "first_pmf(weeks)"
   ]
  },
  {
   "cell_type": "code",
   "execution_count": 44,
   "id": "e185339f",
   "metadata": {},
   "outputs": [
    {
     "data": {
      "text/plain": [
       "array([0.03210137, 0.03146779, 0.05216473, 0.07074974, 0.54466737,\n",
       "       0.12249208, 0.04794087, 0.02597677, 0.01288279, 0.00485744,\n",
       "       0.00084477])"
      ]
     },
     "execution_count": 44,
     "metadata": {},
     "output_type": "execute_result"
    }
   ],
   "source": [
    "other_pmf(weeks)"
   ]
  },
  {
   "cell_type": "markdown",
   "id": "332a7946",
   "metadata": {},
   "source": [
    "So we can compute the differences in the probabilities like this."
   ]
  },
  {
   "cell_type": "code",
   "execution_count": 45,
   "id": "36d0ba81",
   "metadata": {},
   "outputs": [
    {
     "data": {
      "text/plain": [
       "array([ 0.00392854,  0.00750796, -0.00503126, -0.00911366, -0.06562817,\n",
       "       -0.00103276,  0.03363629,  0.02047689,  0.00683169,  0.00035443,\n",
       "        0.00051485])"
      ]
     },
     "execution_count": 45,
     "metadata": {},
     "output_type": "execute_result"
    }
   ],
   "source": [
    "diffs = first_pmf(weeks) - other_pmf(weeks)\n",
    "diffs"
   ]
  },
  {
   "cell_type": "markdown",
   "id": "cdad3427",
   "metadata": {},
   "source": [
    "Here's what they look like, multiplied by 100 to express the differences in percentage points."
   ]
  },
  {
   "cell_type": "code",
   "execution_count": 46,
   "id": "3f40b276",
   "metadata": {},
   "outputs": [
    {
     "data": {
      "image/png": "[encoded data removed]",
      "text/plain": [
       "<Figure size 1800x1050 with 1 Axes>"
      ]
     },
     "metadata": {},
     "output_type": "display_data"
    }
   ],
   "source": [
    "plt.bar(weeks, diffs * 100)\n",
    "decorate(xlabel=\"Weeks\", ylabel=\"Difference (percentage points)\")"
   ]
  },
  {
   "cell_type": "markdown",
   "id": "11615bb9",
   "metadata": {},
   "source": [
    "This figure makes the pattern clearer: first babies are less likely to be born in week 39, and somewhat more likely to be born in weeks 41 and 42.\n",
    "\n",
    "When we see a pattern like this in a sample, we can't be sure it also holds in the population -- and we don't know whether we would see it in another sample from the same population.\n",
    "We'll revisit this question in [Chapter 9](chapter_hypothesis_testing)."
   ]
  },
  {
   "cell_type": "markdown",
   "id": "93d2684e",
   "metadata": {},
   "source": [
    "## Glossary\n",
    "\n",
    "There are not as many new terms in this chapter as in the previous chapters.\n",
    "\n",
    "-   **normalized:** A set of probabilities are normalized if they add up to 1.\n",
    "\n",
    "-   **probability mass function (PMF)**: A function that represents a distribution by mapping each quantity to its probability."
   ]
  },
  {
   "cell_type": "markdown",
   "id": "e818cde9",
   "metadata": {
    "collapsed": true
   },
   "source": [
    "## Exercises\n",
    "\n",
    "For the exercises in this chapter, we'll use the NSFG respondent file, which contains one row for each respondent.\n",
    "Instructions for downloading the data are in the notebook for this chapter."
   ]
  },
  {
   "cell_type": "code",
   "execution_count": 47,
   "id": "461a9ed7",
   "metadata": {
    "tags": [
     "remove-print"
    ]
   },
   "outputs": [],
   "source": [
    "download(\"https://github.com/AllenDowney/ThinkStats/raw/v3/data/2002FemResp.dct\")\n",
    "download(\"https://github.com/AllenDowney/ThinkStats/raw/v3/data/2002FemResp.dat.gz\")"
   ]
  },
  {
   "cell_type": "markdown",
   "id": "7c7ce2b7",
   "metadata": {
    "tags": [
     "remove-print"
    ]
   },
   "source": [
    "The codebook for this dataset is at <https://ftp.cdc.gov/pub/Health_Statistics/NCHS/Dataset_Documentation/NSFG/Cycle6Codebook-Female.pdf>."
   ]
  },
  {
   "cell_type": "markdown",
   "id": "1b40d801",
   "metadata": {},
   "source": [
    "The `nsfg.py` module provides a function that reads the respondent file and returns a `DataFrame`."
   ]
  },
  {
   "cell_type": "code",
   "execution_count": 48,
   "id": "861e38b1",
   "metadata": {},
   "outputs": [
    {
     "data": {
      "text/plain": [
       "(7643, 3092)"
      ]
     },
     "execution_count": 48,
     "metadata": {},
     "output_type": "execute_result"
    }
   ],
   "source": [
    "from nsfg import read_fem_resp\n",
    "\n",
    "resp = read_fem_resp()\n",
    "resp.shape"
   ]
  },
  {
   "cell_type": "markdown",
   "id": "5495601a",
   "metadata": {},
   "source": [
    "This `DataFrame` contains 7643 rows and 3092 columns."
   ]
  },
  {
   "cell_type": "markdown",
   "id": "8e509710",
   "metadata": {},
   "source": [
    "### Exercise 3.1\n",
    "\n",
    "Select the column `numbabes`, which records the \"number of babies born alive\" to each respondent.\n",
    "Make a `FreqTab` object and display the frequencies of the values in this column.\n",
    "Check that they are consistent with the frequencies in the code book.\n",
    "Are there any special values that should be replaced with `NaN`?\n",
    "\n",
    "Then make a `Pmf` object and plot it as a bar graph. Is the distribution symmetric, skewed to the left, or skewed to the right?"
   ]
  },
  {
   "cell_type": "code",
   "execution_count": 49,
   "id": "e4933509",
   "metadata": {},
   "outputs": [
    {
     "data": {
      "text/html": [
       "<div>\n",
       "<style scoped>\n",
       "    .dataframe tbody tr th:only-of-type {\n",
       "        vertical-align: middle;\n",
       "    }\n",
       "\n",
       "    .dataframe tbody tr th {\n",
       "        vertical-align: top;\n",
       "    }\n",
       "\n",
       "    .dataframe thead th {\n",
       "        text-align: right;\n",
       "    }\n",
       "</style>\n",
       "<table border=\"1\" class=\"dataframe\">\n",
       "  <thead>\n",
       "    <tr style=\"text-align: right;\">\n",
       "      <th></th>\n",
       "      <th>freqs</th>\n",
       "    </tr>\n",
       "    <tr>\n",
       "      <th>numbabes</th>\n",
       "      <th></th>\n",
       "    </tr>\n",
       "  </thead>\n",
       "  <tbody>\n",
       "    <tr>\n",
       "      <th>0</th>\n",
       "      <td>3229</td>\n",
       "    </tr>\n",
       "    <tr>\n",
       "      <th>1</th>\n",
       "      <td>1519</td>\n",
       "    </tr>\n",
       "    <tr>\n",
       "      <th>2</th>\n",
       "      <td>1603</td>\n",
       "    </tr>\n",
       "    <tr>\n",
       "      <th>3</th>\n",
       "      <td>828</td>\n",
       "    </tr>\n",
       "    <tr>\n",
       "      <th>4</th>\n",
       "      <td>309</td>\n",
       "    </tr>\n",
       "    <tr>\n",
       "      <th>5</th>\n",
       "      <td>95</td>\n",
       "    </tr>\n",
       "    <tr>\n",
       "      <th>6</th>\n",
       "      <td>29</td>\n",
       "    </tr>\n",
       "    <tr>\n",
       "      <th>7</th>\n",
       "      <td>15</td>\n",
       "    </tr>\n",
       "    <tr>\n",
       "      <th>8</th>\n",
       "      <td>8</td>\n",
       "    </tr>\n",
       "    <tr>\n",
       "      <th>9</th>\n",
       "      <td>2</td>\n",
       "    </tr>\n",
       "    <tr>\n",
       "      <th>10</th>\n",
       "      <td>3</td>\n",
       "    </tr>\n",
       "    <tr>\n",
       "      <th>16</th>\n",
       "      <td>1</td>\n",
       "    </tr>\n",
       "    <tr>\n",
       "      <th>22</th>\n",
       "      <td>1</td>\n",
       "    </tr>\n",
       "    <tr>\n",
       "      <th>97</th>\n",
       "      <td>1</td>\n",
       "    </tr>\n",
       "  </tbody>\n",
       "</table>\n",
       "</div>"
      ],
      "text/plain": [
       "numbabes\n",
       "0     3229\n",
       "1     1519\n",
       "2     1603\n",
       "3      828\n",
       "4      309\n",
       "5       95\n",
       "6       29\n",
       "7       15\n",
       "8        8\n",
       "9        2\n",
       "10       3\n",
       "16       1\n",
       "22       1\n",
       "97       1\n",
       "Name: numbabes, dtype: int64"
      ]
     },
     "execution_count": 49,
     "metadata": {},
     "output_type": "execute_result"
    }
   ],
   "source": []
  },
  {
   "cell_type": "code",
   "execution_count": 50,
   "id": "92d10a12",
   "metadata": {},
   "outputs": [],
   "source": []
  },
  {
   "cell_type": "code",
   "execution_count": 51,
   "id": "9f96f3d4",
   "metadata": {},
   "outputs": [
    {
     "data": {
      "image/png": "[encoded data removed]",
      "text/plain": [
       "<Figure size 1800x1050 with 1 Axes>"
      ]
     },
     "metadata": {},
     "output_type": "display_data"
    }
   ],
   "source": [
    "pmf.bar()\n",
    "decorate(xlabel=\"Number of babies\", ylabel=\"PMF\")"
   ]
  },
  {
   "cell_type": "code",
   "execution_count": 52,
   "id": "64937b8c",
   "metadata": {},
   "outputs": [],
   "source": []
  },
  {
   "cell_type": "markdown",
   "id": "071ae7e7",
   "metadata": {},
   "source": [
    "### Exercise 3.2\n",
    "\n",
    "In the same way that the mean identifies a central point in a distribution, and variance quantifies its spread, there is another statistic, called **skewness**, that indicates whether a distribution is skewed to the left or right.\n",
    "\n",
    "Given a sample, we can compute the skewness by computing the sum of the cubed deviations and dividing by the standard deviation cubed.\n",
    "For example, here's how we compute the skewness of `numbabes`.\n"
   ]
  },
  {
   "cell_type": "code",
   "execution_count": 53,
   "id": "f67d55f5",
   "metadata": {},
   "outputs": [],
   "source": [
    "numbabes = resp[\"numbabes\"].replace(97, np.nan)"
   ]
  },
  {
   "cell_type": "code",
   "execution_count": 54,
   "id": "7e1b1e04",
   "metadata": {},
   "outputs": [
    {
     "data": {
      "text/plain": [
       "np.float64(1.7018914266755958)"
      ]
     },
     "execution_count": 54,
     "metadata": {},
     "output_type": "execute_result"
    }
   ],
   "source": [
    "deviations = numbabes - numbabes.mean()\n",
    "skewness = np.mean(deviations**3) / numbabes.std(ddof=0) ** 3\n",
    "skewness"
   ]
  },
  {
   "cell_type": "markdown",
   "id": "79f68b36",
   "metadata": {},
   "source": [
    "A positive value indicates that a distribution is skewed to the right, and a negative value indicates that it is skewed to the left.\n",
    "\n",
    "If you are given a `Pmf`, rather than a sequence of values, you can compute skewness like this:\n",
    "\n",
    "1. Compute the deviation of each quantity in the `Pmf` from the mean.\n",
    "\n",
    "2. Cube the deviations, multiply by the probabilities in the `Pmf`, and add up the products.\n",
    "\n",
    "3. Divide the sum by the standard deviation cubed.\n",
    "\n",
    "Write a function called `pmf_skewness` that takes a `Pmf` object and returns its skewness."
   ]
  },
  {
   "cell_type": "code",
   "execution_count": 55,
   "id": "95e9d102",
   "metadata": {},
   "outputs": [],
   "source": []
  },
  {
   "cell_type": "markdown",
   "id": "bbd5e64f",
   "metadata": {},
   "source": [
    "Use your function and the `Pmf` of `numbabes` to compute skewness, and confirm you get the same result we computed above."
   ]
  },
  {
   "cell_type": "code",
   "execution_count": 56,
   "id": "4e442b4b",
   "metadata": {},
   "outputs": [
    {
     "data": {
      "text/plain": [
       "np.float64(1.7018914266755958)"
      ]
     },
     "execution_count": 56,
     "metadata": {},
     "output_type": "execute_result"
    }
   ],
   "source": []
  },
  {
   "cell_type": "markdown",
   "id": "81e26051",
   "metadata": {},
   "source": [
    "### Exercise 3.3\n",
    "\n",
    "Something like the class size paradox appears if you survey children and ask how many children are in their family.\n",
    "Families with many children are more likely to appear in your sample, and families with no children have no chance to be in the sample at all.\n",
    "\n",
    "From `resp`, select `numkdhh`, which records the number of children under 18 in each respondent's household.\n",
    "Make a `Pmf` of the values in this column.\n",
    "\n",
    "Use the `bias` function to compute the distribution we would see if we surveyed the children and asked them how many children under 18 (including themselves) are in their household.\n",
    "\n",
    "Plot the actual and biased distributions, and compute their means."
   ]
  },
  {
   "cell_type": "code",
   "execution_count": 57,
   "id": "8a263d8e",
   "metadata": {},
   "outputs": [
    {
     "data": {
      "text/html": [
       "<div>\n",
       "<style scoped>\n",
       "    .dataframe tbody tr th:only-of-type {\n",
       "        vertical-align: middle;\n",
       "    }\n",
       "\n",
       "    .dataframe tbody tr th {\n",
       "        vertical-align: top;\n",
       "    }\n",
       "\n",
       "    .dataframe thead th {\n",
       "        text-align: right;\n",
       "    }\n",
       "</style>\n",
       "<table border=\"1\" class=\"dataframe\">\n",
       "  <thead>\n",
       "    <tr style=\"text-align: right;\">\n",
       "      <th></th>\n",
       "      <th>freqs</th>\n",
       "    </tr>\n",
       "    <tr>\n",
       "      <th>numkdhh</th>\n",
       "      <th></th>\n",
       "    </tr>\n",
       "  </thead>\n",
       "  <tbody>\n",
       "    <tr>\n",
       "      <th>0</th>\n",
       "      <td>3563</td>\n",
       "    </tr>\n",
       "    <tr>\n",
       "      <th>1</th>\n",
       "      <td>1636</td>\n",
       "    </tr>\n",
       "    <tr>\n",
       "      <th>2</th>\n",
       "      <td>1500</td>\n",
       "    </tr>\n",
       "    <tr>\n",
       "      <th>3</th>\n",
       "      <td>666</td>\n",
       "    </tr>\n",
       "    <tr>\n",
       "      <th>4</th>\n",
       "      <td>196</td>\n",
       "    </tr>\n",
       "    <tr>\n",
       "      <th>5</th>\n",
       "      <td>82</td>\n",
       "    </tr>\n",
       "  </tbody>\n",
       "</table>\n",
       "</div>"
      ],
      "text/plain": [
       "numkdhh\n",
       "0    3563\n",
       "1    1636\n",
       "2    1500\n",
       "3     666\n",
       "4     196\n",
       "5      82\n",
       "Name: , dtype: int64"
      ]
     },
     "execution_count": 57,
     "metadata": {},
     "output_type": "execute_result"
    }
   ],
   "source": []
  },
  {
   "cell_type": "code",
   "execution_count": 58,
   "id": "019396ef",
   "metadata": {},
   "outputs": [],
   "source": []
  },
  {
   "cell_type": "code",
   "execution_count": 59,
   "id": "064c0161",
   "metadata": {},
   "outputs": [
    {
     "data": {
      "image/png": "[encoded data removed]",
      "text/plain": [
       "<Figure size 1800x1050 with 1 Axes>"
      ]
     },
     "metadata": {},
     "output_type": "display_data"
    }
   ],
   "source": []
  },
  {
   "cell_type": "code",
   "execution_count": 60,
   "id": "e0c4082f",
   "metadata": {},
   "outputs": [
    {
     "data": {
      "text/plain": [
       "(np.float64(1.024205155043831), np.float64(2.8019039469461977))"
      ]
     },
     "execution_count": 60,
     "metadata": {},
     "output_type": "execute_result"
    }
   ],
   "source": []
  },
  {
   "cell_type": "markdown",
   "id": "e27da3a4",
   "metadata": {
    "tags": [
     "remove-print"
    ]
   },
   "source": [
    "[Think Stats: Exploratory Data Analysis in Python, 3rd Edition](https://allendowney.github.io/ThinkStats/index.html)\n",
    "\n",
    "Copyright 2024 [Allen B. Downey](https://allendowney.com)\n",
    "\n",
    "Code license: [MIT License](https://mit-license.org/)\n",
    "\n",
    "Text license: [Creative Commons Attribution-NonCommercial-ShareAlike 4.0 International](https://creativecommons.org/licenses/by-nc-sa/4.0/)"
   ]
  }
 ],
 "metadata": {
  "celltoolbar": "Tags",
  "kernelspec": {
   "display_name": "Python 3 (ipykernel)",
   "language": "python",
   "name": "python3"
  },
  "language_info": {
   "codemirror_mode": {
    "name": "ipython",
    "version": 3
   },
   "file_extension": ".py",
   "mimetype": "text/x-python",
   "name": "python",
   "nbconvert_exporter": "python",
   "pygments_lexer": "ipython3",
   "version": "3.11.0"
  }
 },
 "nbformat": 4,
 "nbformat_minor": 5
}
