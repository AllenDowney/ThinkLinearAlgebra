{
 "cells": [
  {
   "cell_type": "markdown",
   "id": "f2f4242b",
   "metadata": {},
   "source": [
    "# Who Runs the Best Splits?"
   ]
  },
  {
   "cell_type": "code",
   "execution_count": 1,
   "id": "41ffa5f5",
   "metadata": {},
   "outputs": [],
   "source": [
    "import os\n",
    "import urllib.request\n",
    "import urllib.parse\n",
    "\n",
    "def download(url):\n",
    "    filename = os.path.basename(urllib.parse.unquote(url))\n",
    "    if not os.path.exists(filename):\n",
    "        urllib.request.urlretrieve(url, filename)\n",
    "        print(\"Downloaded \" + filename)\n",
    "\n",
    "\n",
    "download(\"https://github.com/AllenDowney/ThinkStats/raw/v3/nb/thinkstats.py\")"
   ]
  },
  {
   "cell_type": "code",
   "execution_count": 2,
   "id": "52938742",
   "metadata": {},
   "outputs": [],
   "source": [
    "try:\n",
    "    import empiricaldist\n",
    "except ImportError:\n",
    "    !pip install empiricaldist"
   ]
  },
  {
   "cell_type": "code",
   "execution_count": 58,
   "id": "23840a5a",
   "metadata": {},
   "outputs": [
    {
     "name": "stdout",
     "output_type": "stream",
     "text": [
      "Collecting runpandas\n",
      "  Downloading runpandas-0.6.0-py2.py3-none-any.whl.metadata (927 bytes)\n",
      "Requirement already satisfied: pandas>=1.0.5 in /home/downey/miniconda3/envs/ThinkStats/lib/python3.10/site-packages (from runpandas) (2.2.2)\n",
      "Collecting fitparse (from runpandas)\n",
      "  Downloading fitparse-1.2.0.tar.gz (65 kB)\n",
      "\u001b[2K     \u001b[38;2;114;156;31m━━━━━━━━━━━━━━━━━━━━━━━━━━━━━━━━━━━━━━━━\u001b[0m \u001b[32m65.7/65.7 kB\u001b[0m \u001b[31m1.5 MB/s\u001b[0m eta \u001b[36m0:00:00\u001b[0m[31m1.1 MB/s\u001b[0m eta \u001b[36m0:00:01\u001b[0m\n",
      "\u001b[?25h  Preparing metadata (setup.py) ... \u001b[?25ldone\n",
      "\u001b[?25hCollecting stravalib>=0.10.2 (from runpandas)\n",
      "  Downloading stravalib-2.0-py3-none-any.whl.metadata (10 kB)\n",
      "Collecting haversine (from runpandas)\n",
      "  Downloading haversine-2.8.1-py2.py3-none-any.whl.metadata (5.9 kB)\n",
      "Collecting pydantic (from runpandas)\n",
      "  Downloading pydantic-2.9.2-py3-none-any.whl.metadata (149 kB)\n",
      "\u001b[2K     \u001b[38;2;114;156;31m━━━━━━━━━━━━━━━━━━━━━━━━━━━━━━━━━━━━━━━\u001b[0m \u001b[32m149.4/149.4 kB\u001b[0m \u001b[31m2.5 MB/s\u001b[0m eta \u001b[36m0:00:00\u001b[0m[31m7.8 MB/s\u001b[0m eta \u001b[36m0:00:01\u001b[0m\n",
      "\u001b[?25hRequirement already satisfied: pyyaml in /home/downey/miniconda3/envs/ThinkStats/lib/python3.10/site-packages (from runpandas) (6.0.1)\n",
      "Collecting thefuzz (from runpandas)\n",
      "  Downloading thefuzz-0.22.1-py3-none-any.whl.metadata (3.9 kB)\n",
      "Requirement already satisfied: numpy>=1.22.4 in /home/downey/miniconda3/envs/ThinkStats/lib/python3.10/site-packages (from pandas>=1.0.5->runpandas) (1.26.4)\n",
      "Requirement already satisfied: python-dateutil>=2.8.2 in /home/downey/miniconda3/envs/ThinkStats/lib/python3.10/site-packages (from pandas>=1.0.5->runpandas) (2.9.0.post0)\n",
      "Requirement already satisfied: pytz>=2020.1 in /home/downey/miniconda3/envs/ThinkStats/lib/python3.10/site-packages (from pandas>=1.0.5->runpandas) (2024.1)\n",
      "Requirement already satisfied: tzdata>=2022.7 in /home/downey/miniconda3/envs/ThinkStats/lib/python3.10/site-packages (from pandas>=1.0.5->runpandas) (2024.1)\n",
      "Collecting pint (from stravalib>=0.10.2->runpandas)\n",
      "  Downloading Pint-0.24.3-py3-none-any.whl.metadata (8.5 kB)\n",
      "Requirement already satisfied: arrow in /home/downey/miniconda3/envs/ThinkStats/lib/python3.10/site-packages (from stravalib>=0.10.2->runpandas) (1.3.0)\n",
      "Requirement already satisfied: requests in /home/downey/miniconda3/envs/ThinkStats/lib/python3.10/site-packages (from stravalib>=0.10.2->runpandas) (2.32.3)\n",
      "Collecting annotated-types>=0.6.0 (from pydantic->runpandas)\n",
      "  Downloading annotated_types-0.7.0-py3-none-any.whl.metadata (15 kB)\n",
      "Collecting pydantic-core==2.23.4 (from pydantic->runpandas)\n",
      "  Downloading pydantic_core-2.23.4-cp310-cp310-manylinux_2_17_x86_64.manylinux2014_x86_64.whl.metadata (6.6 kB)\n",
      "Requirement already satisfied: typing-extensions>=4.6.1 in /home/downey/miniconda3/envs/ThinkStats/lib/python3.10/site-packages (from pydantic->runpandas) (4.12.2)\n",
      "Collecting rapidfuzz<4.0.0,>=3.0.0 (from thefuzz->runpandas)\n",
      "  Downloading rapidfuzz-3.9.7-cp310-cp310-manylinux_2_17_x86_64.manylinux2014_x86_64.whl.metadata (12 kB)\n",
      "Requirement already satisfied: six>=1.5 in /home/downey/miniconda3/envs/ThinkStats/lib/python3.10/site-packages (from python-dateutil>=2.8.2->pandas>=1.0.5->runpandas) (1.16.0)\n",
      "Requirement already satisfied: types-python-dateutil>=2.8.10 in /home/downey/miniconda3/envs/ThinkStats/lib/python3.10/site-packages (from arrow->stravalib>=0.10.2->runpandas) (2.9.0.20240316)\n",
      "Collecting appdirs>=1.4.4 (from pint->stravalib>=0.10.2->runpandas)\n",
      "  Downloading appdirs-1.4.4-py2.py3-none-any.whl.metadata (9.0 kB)\n",
      "Collecting flexcache>=0.3 (from pint->stravalib>=0.10.2->runpandas)\n",
      "  Downloading flexcache-0.3-py3-none-any.whl.metadata (7.0 kB)\n",
      "Collecting flexparser>=0.3 (from pint->stravalib>=0.10.2->runpandas)\n",
      "  Downloading flexparser-0.3.1-py3-none-any.whl.metadata (18 kB)\n",
      "Requirement already satisfied: charset-normalizer<4,>=2 in /home/downey/miniconda3/envs/ThinkStats/lib/python3.10/site-packages (from requests->stravalib>=0.10.2->runpandas) (3.3.2)\n",
      "Requirement already satisfied: idna<4,>=2.5 in /home/downey/miniconda3/envs/ThinkStats/lib/python3.10/site-packages (from requests->stravalib>=0.10.2->runpandas) (3.7)\n",
      "Requirement already satisfied: urllib3<3,>=1.21.1 in /home/downey/miniconda3/envs/ThinkStats/lib/python3.10/site-packages (from requests->stravalib>=0.10.2->runpandas) (2.2.1)\n",
      "Requirement already satisfied: certifi>=2017.4.17 in /home/downey/miniconda3/envs/ThinkStats/lib/python3.10/site-packages (from requests->stravalib>=0.10.2->runpandas) (2024.6.2)\n",
      "Downloading runpandas-0.6.0-py2.py3-none-any.whl (66 kB)\n",
      "\u001b[2K   \u001b[38;2;114;156;31m━━━━━━━━━━━━━━━━━━━━━━━━━━━━━━━━━━━━━━━━\u001b[0m \u001b[32m66.8/66.8 kB\u001b[0m \u001b[31m4.0 MB/s\u001b[0m eta \u001b[36m0:00:00\u001b[0m\n",
      "\u001b[?25hDownloading stravalib-2.0-py3-none-any.whl (118 kB)\n",
      "\u001b[2K   \u001b[38;2;114;156;31m━━━━━━━━━━━━━━━━━━━━━━━━━━━━━━━━━━━━━━━━\u001b[0m \u001b[32m118.6/118.6 kB\u001b[0m \u001b[31m2.1 MB/s\u001b[0m eta \u001b[36m0:00:00\u001b[0mm eta \u001b[36m-:--:--\u001b[0m\n",
      "\u001b[?25hDownloading pydantic-2.9.2-py3-none-any.whl (434 kB)\n",
      "\u001b[2K   \u001b[38;2;114;156;31m━━━━━━━━━━━━━━━━━━━━━━━━━━━━━━━━━━━━━━━━\u001b[0m \u001b[32m434.9/434.9 kB\u001b[0m \u001b[31m1.8 MB/s\u001b[0m eta \u001b[36m0:00:00\u001b[0m[31m2.0 MB/s\u001b[0m eta \u001b[36m0:00:01\u001b[0mm\n",
      "\u001b[?25hDownloading pydantic_core-2.23.4-cp310-cp310-manylinux_2_17_x86_64.manylinux2014_x86_64.whl (2.1 MB)\n",
      "\u001b[2K   \u001b[38;2;114;156;31m━━━━━━━━━━━━━━━━━━━━━━━━━━━━━━━━━━━━━━━━\u001b[0m \u001b[32m2.1/2.1 MB\u001b[0m \u001b[31m1.7 MB/s\u001b[0m eta \u001b[36m0:00:00\u001b[0mm eta \u001b[36m0:00:01\u001b[0m[36m0:00:01\u001b[0m\n",
      "\u001b[?25hDownloading haversine-2.8.1-py2.py3-none-any.whl (7.7 kB)\n",
      "Downloading thefuzz-0.22.1-py3-none-any.whl (8.2 kB)\n",
      "Downloading annotated_types-0.7.0-py3-none-any.whl (13 kB)\n",
      "Downloading rapidfuzz-3.9.7-cp310-cp310-manylinux_2_17_x86_64.manylinux2014_x86_64.whl (3.4 MB)\n",
      "\u001b[2K   \u001b[38;2;114;156;31m━━━━━━━━━━━━━━━━━━━━━━━━━━━━━━━━━━━━━━━━\u001b[0m \u001b[32m3.4/3.4 MB\u001b[0m \u001b[31m1.6 MB/s\u001b[0m eta \u001b[36m0:00:00\u001b[0mm eta \u001b[36m0:00:01\u001b[0m[36m0:00:01\u001b[0m\n",
      "\u001b[?25hDownloading Pint-0.24.3-py3-none-any.whl (301 kB)\n",
      "\u001b[2K   \u001b[38;2;114;156;31m━━━━━━━━━━━━━━━━━━━━━━━━━━━━━━━━━━━━━━━━\u001b[0m \u001b[32m301.8/301.8 kB\u001b[0m \u001b[31m2.8 MB/s\u001b[0m eta \u001b[36m0:00:00\u001b[0m[36m0:00:01\u001b[0m[36m0:00:01\u001b[0m:01\u001b[0m\n",
      "\u001b[?25hDownloading appdirs-1.4.4-py2.py3-none-any.whl (9.6 kB)\n",
      "Downloading flexcache-0.3-py3-none-any.whl (13 kB)\n",
      "Downloading flexparser-0.3.1-py3-none-any.whl (27 kB)\n",
      "Building wheels for collected packages: fitparse\n",
      "  Building wheel for fitparse (setup.py) ... \u001b[?25ldone\n",
      "\u001b[?25h  Created wheel for fitparse: filename=fitparse-1.2.0-py3-none-any.whl size=68214 sha256=8c83979bf5b7741210c1aed951eb3d64286907a2caf4816c132dfa10c0ad6156\n",
      "  Stored in directory: /home/downey/.cache/pip/wheels/81/67/7b/77a2f8ba348bafbbad6262a80bc51be27b2f9fccbaefc74671\n",
      "Successfully built fitparse\n",
      "\u001b[33mDEPRECATION: nb-black 1.0.7 has a non-standard dependency specifier black>='19.3'; python_version >= \"3.6\". pip 24.1 will enforce this behaviour change. A possible replacement is to upgrade to a newer version of nb-black or contact the author to suggest that they release a version with a conforming dependency specifiers. Discussion can be found at https://github.com/pypa/pip/issues/12063\u001b[0m\u001b[33m\n",
      "\u001b[0mInstalling collected packages: fitparse, appdirs, rapidfuzz, pydantic-core, haversine, flexparser, flexcache, annotated-types, thefuzz, pydantic, pint, stravalib, runpandas\n",
      "Successfully installed annotated-types-0.7.0 appdirs-1.4.4 fitparse-1.2.0 flexcache-0.3 flexparser-0.3.1 haversine-2.8.1 pint-0.24.3 pydantic-2.9.2 pydantic-core-2.23.4 rapidfuzz-3.9.7 runpandas-0.6.0 stravalib-2.0 thefuzz-0.22.1\n"
     ]
    }
   ],
   "source": [
    "try:\n",
    "    import runpandas\n",
    "except ImportError:\n",
    "    !pip install runpandas"
   ]
  },
  {
   "cell_type": "code",
   "execution_count": 3,
   "id": "9fb94810",
   "metadata": {},
   "outputs": [],
   "source": [
    "import numpy as np\n",
    "import pandas as pd\n",
    "import matplotlib.pyplot as plt\n",
    "\n",
    "from thinkstats import decorate"
   ]
  },
  {
   "cell_type": "markdown",
   "id": "5887c412",
   "metadata": {},
   "source": [
    "## Title\n"
   ]
  },
  {
   "cell_type": "code",
   "execution_count": null,
   "id": "042a4767",
   "metadata": {},
   "outputs": [],
   "source": [
    "# https://www.bbc.com/future/article/20240731-the-sports-where-women-outperform-men"
   ]
  },
  {
   "cell_type": "code",
   "execution_count": 5,
   "id": "1dcf7496",
   "metadata": {},
   "outputs": [],
   "source": [
    "# https://github.com/adrian3/Boston-Marathon-Data-Project/blob/master/results2017.csv"
   ]
  },
  {
   "cell_type": "code",
   "execution_count": 138,
   "id": "a77a1346",
   "metadata": {},
   "outputs": [
    {
     "data": {
      "text/html": [
       "<div>\n",
       "<style scoped>\n",
       "    .dataframe tbody tr th:only-of-type {\n",
       "        vertical-align: middle;\n",
       "    }\n",
       "\n",
       "    .dataframe tbody tr th {\n",
       "        vertical-align: top;\n",
       "    }\n",
       "\n",
       "    .dataframe thead th {\n",
       "        text-align: right;\n",
       "    }\n",
       "</style>\n",
       "<table border=\"1\" class=\"dataframe\">\n",
       "  <thead>\n",
       "    <tr style=\"text-align: right;\">\n",
       "      <th></th>\n",
       "      <th>place_overall</th>\n",
       "      <th>bib</th>\n",
       "      <th>name</th>\n",
       "      <th>age</th>\n",
       "      <th>gender</th>\n",
       "      <th>city</th>\n",
       "      <th>state</th>\n",
       "      <th>country_residence</th>\n",
       "      <th>contry_citizenship</th>\n",
       "      <th>name_suffix</th>\n",
       "      <th>...</th>\n",
       "      <th>pace</th>\n",
       "      <th>projected_time</th>\n",
       "      <th>official_time</th>\n",
       "      <th>overall</th>\n",
       "      <th>gender_result</th>\n",
       "      <th>division_result</th>\n",
       "      <th>seconds</th>\n",
       "      <th>first_name</th>\n",
       "      <th>last_name</th>\n",
       "      <th>display_name</th>\n",
       "    </tr>\n",
       "  </thead>\n",
       "  <tbody>\n",
       "    <tr>\n",
       "      <th>0</th>\n",
       "      <td>0.0</td>\n",
       "      <td>11</td>\n",
       "      <td>Kirui, Geoffrey</td>\n",
       "      <td>24.0</td>\n",
       "      <td>M</td>\n",
       "      <td>Keringet</td>\n",
       "      <td>NaN</td>\n",
       "      <td>KEN</td>\n",
       "      <td>NaN</td>\n",
       "      <td>NaN</td>\n",
       "      <td>...</td>\n",
       "      <td>0:04:57</td>\n",
       "      <td>-</td>\n",
       "      <td>2:09:37</td>\n",
       "      <td>1.0</td>\n",
       "      <td>1.0</td>\n",
       "      <td>1.0</td>\n",
       "      <td>7777</td>\n",
       "      <td>Geoffrey</td>\n",
       "      <td>Kirui</td>\n",
       "      <td>Geoffrey Kirui</td>\n",
       "    </tr>\n",
       "    <tr>\n",
       "      <th>1</th>\n",
       "      <td>1.0</td>\n",
       "      <td>17</td>\n",
       "      <td>Rupp, Galen</td>\n",
       "      <td>30.0</td>\n",
       "      <td>M</td>\n",
       "      <td>Portland</td>\n",
       "      <td>OR</td>\n",
       "      <td>USA</td>\n",
       "      <td>NaN</td>\n",
       "      <td>NaN</td>\n",
       "      <td>...</td>\n",
       "      <td>0:04:58</td>\n",
       "      <td>-</td>\n",
       "      <td>2:09:58</td>\n",
       "      <td>2.0</td>\n",
       "      <td>2.0</td>\n",
       "      <td>2.0</td>\n",
       "      <td>7798</td>\n",
       "      <td>Galen</td>\n",
       "      <td>Rupp</td>\n",
       "      <td>Galen Rupp</td>\n",
       "    </tr>\n",
       "    <tr>\n",
       "      <th>2</th>\n",
       "      <td>2.0</td>\n",
       "      <td>23</td>\n",
       "      <td>Osako, Suguru</td>\n",
       "      <td>25.0</td>\n",
       "      <td>M</td>\n",
       "      <td>Machida-City</td>\n",
       "      <td>NaN</td>\n",
       "      <td>JPN</td>\n",
       "      <td>NaN</td>\n",
       "      <td>NaN</td>\n",
       "      <td>...</td>\n",
       "      <td>0:04:59</td>\n",
       "      <td>-</td>\n",
       "      <td>2:10:28</td>\n",
       "      <td>3.0</td>\n",
       "      <td>3.0</td>\n",
       "      <td>3.0</td>\n",
       "      <td>7828</td>\n",
       "      <td>Suguru</td>\n",
       "      <td>Osako</td>\n",
       "      <td>Suguru Osako</td>\n",
       "    </tr>\n",
       "    <tr>\n",
       "      <th>3</th>\n",
       "      <td>3.0</td>\n",
       "      <td>21</td>\n",
       "      <td>Biwott, Shadrack</td>\n",
       "      <td>32.0</td>\n",
       "      <td>M</td>\n",
       "      <td>Mammoth Lakes</td>\n",
       "      <td>CA</td>\n",
       "      <td>USA</td>\n",
       "      <td>NaN</td>\n",
       "      <td>NaN</td>\n",
       "      <td>...</td>\n",
       "      <td>0:05:03</td>\n",
       "      <td>-</td>\n",
       "      <td>2:12:08</td>\n",
       "      <td>4.0</td>\n",
       "      <td>4.0</td>\n",
       "      <td>4.0</td>\n",
       "      <td>7928</td>\n",
       "      <td>Shadrack</td>\n",
       "      <td>Biwott</td>\n",
       "      <td>Shadrack Biwott</td>\n",
       "    </tr>\n",
       "    <tr>\n",
       "      <th>4</th>\n",
       "      <td>4.0</td>\n",
       "      <td>9</td>\n",
       "      <td>Chebet, Wilson</td>\n",
       "      <td>31.0</td>\n",
       "      <td>M</td>\n",
       "      <td>Marakwet</td>\n",
       "      <td>NaN</td>\n",
       "      <td>KEN</td>\n",
       "      <td>NaN</td>\n",
       "      <td>NaN</td>\n",
       "      <td>...</td>\n",
       "      <td>0:05:04</td>\n",
       "      <td>-</td>\n",
       "      <td>2:12:35</td>\n",
       "      <td>5.0</td>\n",
       "      <td>5.0</td>\n",
       "      <td>5.0</td>\n",
       "      <td>7955</td>\n",
       "      <td>Wilson</td>\n",
       "      <td>Chebet</td>\n",
       "      <td>Wilson Chebet</td>\n",
       "    </tr>\n",
       "  </tbody>\n",
       "</table>\n",
       "<p>5 rows × 29 columns</p>\n",
       "</div>"
      ],
      "text/plain": [
       "   place_overall bib              name   age gender           city state  \\\n",
       "0            0.0  11   Kirui, Geoffrey  24.0      M       Keringet   NaN   \n",
       "1            1.0  17       Rupp, Galen  30.0      M       Portland    OR   \n",
       "2            2.0  23     Osako, Suguru  25.0      M   Machida-City   NaN   \n",
       "3            3.0  21  Biwott, Shadrack  32.0      M  Mammoth Lakes    CA   \n",
       "4            4.0   9    Chebet, Wilson  31.0      M       Marakwet   NaN   \n",
       "\n",
       "  country_residence contry_citizenship name_suffix  ...     pace  \\\n",
       "0               KEN                NaN         NaN  ...  0:04:57   \n",
       "1               USA                NaN         NaN  ...  0:04:58   \n",
       "2               JPN                NaN         NaN  ...  0:04:59   \n",
       "3               USA                NaN         NaN  ...  0:05:03   \n",
       "4               KEN                NaN         NaN  ...  0:05:04   \n",
       "\n",
       "  projected_time official_time overall gender_result division_result seconds  \\\n",
       "0              -       2:09:37     1.0           1.0             1.0    7777   \n",
       "1              -       2:09:58     2.0           2.0             2.0    7798   \n",
       "2              -       2:10:28     3.0           3.0             3.0    7828   \n",
       "3              -       2:12:08     4.0           4.0             4.0    7928   \n",
       "4              -       2:12:35     5.0           5.0             5.0    7955   \n",
       "\n",
       "  first_name last_name     display_name  \n",
       "0   Geoffrey     Kirui   Geoffrey Kirui  \n",
       "1      Galen      Rupp       Galen Rupp  \n",
       "2     Suguru     Osako     Suguru Osako  \n",
       "3   Shadrack    Biwott  Shadrack Biwott  \n",
       "4     Wilson    Chebet    Wilson Chebet  \n",
       "\n",
       "[5 rows x 29 columns]"
      ]
     },
     "execution_count": 138,
     "metadata": {},
     "output_type": "execute_result"
    }
   ],
   "source": [
    "df = pd.read_csv('results2017.csv')\n",
    "df.head()"
   ]
  },
  {
   "cell_type": "code",
   "execution_count": 139,
   "id": "b80bb1bc",
   "metadata": {},
   "outputs": [
    {
     "data": {
      "text/plain": [
       "age\n",
       "18.0     20\n",
       "19.0     43\n",
       "20.0     83\n",
       "21.0    147\n",
       "22.0    210\n",
       "       ... \n",
       "79.0      3\n",
       "80.0      3\n",
       "81.0      2\n",
       "83.0      1\n",
       "84.0      1\n",
       "Name: count, Length: 66, dtype: int64"
      ]
     },
     "execution_count": 139,
     "metadata": {},
     "output_type": "execute_result"
    }
   ],
   "source": [
    "df['age'].value_counts().sort_index()"
   ]
  },
  {
   "cell_type": "code",
   "execution_count": 140,
   "id": "300b691b",
   "metadata": {},
   "outputs": [
    {
     "data": {
      "text/plain": [
       "gender\n",
       "F    11972\n",
       "M    14438\n",
       "Name: count, dtype: int64"
      ]
     },
     "execution_count": 140,
     "metadata": {},
     "output_type": "execute_result"
    }
   ],
   "source": [
    "df['gender'].value_counts().sort_index()"
   ]
  },
  {
   "cell_type": "code",
   "execution_count": 141,
   "id": "43435836",
   "metadata": {},
   "outputs": [],
   "source": [
    "split_cols = ['5k', '10k', '15k', '20k', '25k', '30k', '35k', '40k']"
   ]
  },
  {
   "cell_type": "code",
   "execution_count": 142,
   "id": "a6d42e27",
   "metadata": {},
   "outputs": [],
   "source": [
    "def make_timedelta(series):\n",
    "    return pd.to_timedelta(series, errors='coerce')"
   ]
  },
  {
   "cell_type": "code",
   "execution_count": 143,
   "id": "ac94f6db",
   "metadata": {},
   "outputs": [
    {
     "data": {
      "text/html": [
       "<div>\n",
       "<style scoped>\n",
       "    .dataframe tbody tr th:only-of-type {\n",
       "        vertical-align: middle;\n",
       "    }\n",
       "\n",
       "    .dataframe tbody tr th {\n",
       "        vertical-align: top;\n",
       "    }\n",
       "\n",
       "    .dataframe thead th {\n",
       "        text-align: right;\n",
       "    }\n",
       "</style>\n",
       "<table border=\"1\" class=\"dataframe\">\n",
       "  <thead>\n",
       "    <tr style=\"text-align: right;\">\n",
       "      <th></th>\n",
       "      <th>5k</th>\n",
       "      <th>10k</th>\n",
       "      <th>15k</th>\n",
       "      <th>20k</th>\n",
       "      <th>25k</th>\n",
       "      <th>30k</th>\n",
       "      <th>35k</th>\n",
       "      <th>40k</th>\n",
       "    </tr>\n",
       "  </thead>\n",
       "  <tbody>\n",
       "    <tr>\n",
       "      <th>0</th>\n",
       "      <td>0 days 00:15:25</td>\n",
       "      <td>0 days 00:30:28</td>\n",
       "      <td>0 days 00:45:44</td>\n",
       "      <td>0 days 01:01:15</td>\n",
       "      <td>0 days 01:16:59</td>\n",
       "      <td>0 days 01:33:01</td>\n",
       "      <td>0 days 01:48:19</td>\n",
       "      <td>0 days 02:02:53</td>\n",
       "    </tr>\n",
       "    <tr>\n",
       "      <th>1</th>\n",
       "      <td>0 days 00:15:24</td>\n",
       "      <td>0 days 00:30:27</td>\n",
       "      <td>0 days 00:45:44</td>\n",
       "      <td>0 days 01:01:15</td>\n",
       "      <td>0 days 01:16:59</td>\n",
       "      <td>0 days 01:33:01</td>\n",
       "      <td>0 days 01:48:19</td>\n",
       "      <td>0 days 02:03:14</td>\n",
       "    </tr>\n",
       "    <tr>\n",
       "      <th>2</th>\n",
       "      <td>0 days 00:15:25</td>\n",
       "      <td>0 days 00:30:29</td>\n",
       "      <td>0 days 00:45:44</td>\n",
       "      <td>0 days 01:01:16</td>\n",
       "      <td>0 days 01:17:00</td>\n",
       "      <td>0 days 01:33:01</td>\n",
       "      <td>0 days 01:48:31</td>\n",
       "      <td>0 days 02:03:38</td>\n",
       "    </tr>\n",
       "    <tr>\n",
       "      <th>3</th>\n",
       "      <td>0 days 00:15:25</td>\n",
       "      <td>0 days 00:30:29</td>\n",
       "      <td>0 days 00:45:44</td>\n",
       "      <td>0 days 01:01:19</td>\n",
       "      <td>0 days 01:17:00</td>\n",
       "      <td>0 days 01:33:01</td>\n",
       "      <td>0 days 01:48:58</td>\n",
       "      <td>0 days 02:04:35</td>\n",
       "    </tr>\n",
       "    <tr>\n",
       "      <th>4</th>\n",
       "      <td>0 days 00:15:25</td>\n",
       "      <td>0 days 00:30:28</td>\n",
       "      <td>0 days 00:45:44</td>\n",
       "      <td>0 days 01:01:15</td>\n",
       "      <td>0 days 01:16:59</td>\n",
       "      <td>0 days 01:33:01</td>\n",
       "      <td>0 days 01:48:41</td>\n",
       "      <td>0 days 02:05:00</td>\n",
       "    </tr>\n",
       "  </tbody>\n",
       "</table>\n",
       "</div>"
      ],
      "text/plain": [
       "               5k             10k             15k             20k  \\\n",
       "0 0 days 00:15:25 0 days 00:30:28 0 days 00:45:44 0 days 01:01:15   \n",
       "1 0 days 00:15:24 0 days 00:30:27 0 days 00:45:44 0 days 01:01:15   \n",
       "2 0 days 00:15:25 0 days 00:30:29 0 days 00:45:44 0 days 01:01:16   \n",
       "3 0 days 00:15:25 0 days 00:30:29 0 days 00:45:44 0 days 01:01:19   \n",
       "4 0 days 00:15:25 0 days 00:30:28 0 days 00:45:44 0 days 01:01:15   \n",
       "\n",
       "              25k             30k             35k             40k  \n",
       "0 0 days 01:16:59 0 days 01:33:01 0 days 01:48:19 0 days 02:02:53  \n",
       "1 0 days 01:16:59 0 days 01:33:01 0 days 01:48:19 0 days 02:03:14  \n",
       "2 0 days 01:17:00 0 days 01:33:01 0 days 01:48:31 0 days 02:03:38  \n",
       "3 0 days 01:17:00 0 days 01:33:01 0 days 01:48:58 0 days 02:04:35  \n",
       "4 0 days 01:16:59 0 days 01:33:01 0 days 01:48:41 0 days 02:05:00  "
      ]
     },
     "execution_count": 143,
     "metadata": {},
     "output_type": "execute_result"
    }
   ],
   "source": [
    "cumulative_splits = df[split_cols].map(make_timedelta)\n",
    "cumulative_splits.head()"
   ]
  },
  {
   "cell_type": "code",
   "execution_count": 144,
   "id": "0a75e847",
   "metadata": {},
   "outputs": [
    {
     "data": {
      "text/html": [
       "<div>\n",
       "<style scoped>\n",
       "    .dataframe tbody tr th:only-of-type {\n",
       "        vertical-align: middle;\n",
       "    }\n",
       "\n",
       "    .dataframe tbody tr th {\n",
       "        vertical-align: top;\n",
       "    }\n",
       "\n",
       "    .dataframe thead th {\n",
       "        text-align: right;\n",
       "    }\n",
       "</style>\n",
       "<table border=\"1\" class=\"dataframe\">\n",
       "  <thead>\n",
       "    <tr style=\"text-align: right;\">\n",
       "      <th></th>\n",
       "      <th>5k</th>\n",
       "      <th>10k</th>\n",
       "      <th>15k</th>\n",
       "      <th>20k</th>\n",
       "      <th>25k</th>\n",
       "      <th>30k</th>\n",
       "      <th>35k</th>\n",
       "      <th>40k</th>\n",
       "    </tr>\n",
       "  </thead>\n",
       "  <tbody>\n",
       "    <tr>\n",
       "      <th>0</th>\n",
       "      <td>0 days 00:15:25</td>\n",
       "      <td>0 days 00:15:03</td>\n",
       "      <td>0 days 00:15:16</td>\n",
       "      <td>0 days 00:15:31</td>\n",
       "      <td>0 days 00:15:44</td>\n",
       "      <td>0 days 00:16:02</td>\n",
       "      <td>0 days 00:15:18</td>\n",
       "      <td>0 days 00:14:34</td>\n",
       "    </tr>\n",
       "    <tr>\n",
       "      <th>1</th>\n",
       "      <td>0 days 00:15:24</td>\n",
       "      <td>0 days 00:15:03</td>\n",
       "      <td>0 days 00:15:17</td>\n",
       "      <td>0 days 00:15:31</td>\n",
       "      <td>0 days 00:15:44</td>\n",
       "      <td>0 days 00:16:02</td>\n",
       "      <td>0 days 00:15:18</td>\n",
       "      <td>0 days 00:14:55</td>\n",
       "    </tr>\n",
       "    <tr>\n",
       "      <th>2</th>\n",
       "      <td>0 days 00:15:25</td>\n",
       "      <td>0 days 00:15:04</td>\n",
       "      <td>0 days 00:15:15</td>\n",
       "      <td>0 days 00:15:32</td>\n",
       "      <td>0 days 00:15:44</td>\n",
       "      <td>0 days 00:16:01</td>\n",
       "      <td>0 days 00:15:30</td>\n",
       "      <td>0 days 00:15:07</td>\n",
       "    </tr>\n",
       "    <tr>\n",
       "      <th>3</th>\n",
       "      <td>0 days 00:15:25</td>\n",
       "      <td>0 days 00:15:04</td>\n",
       "      <td>0 days 00:15:15</td>\n",
       "      <td>0 days 00:15:35</td>\n",
       "      <td>0 days 00:15:41</td>\n",
       "      <td>0 days 00:16:01</td>\n",
       "      <td>0 days 00:15:57</td>\n",
       "      <td>0 days 00:15:37</td>\n",
       "    </tr>\n",
       "    <tr>\n",
       "      <th>4</th>\n",
       "      <td>0 days 00:15:25</td>\n",
       "      <td>0 days 00:15:03</td>\n",
       "      <td>0 days 00:15:16</td>\n",
       "      <td>0 days 00:15:31</td>\n",
       "      <td>0 days 00:15:44</td>\n",
       "      <td>0 days 00:16:02</td>\n",
       "      <td>0 days 00:15:40</td>\n",
       "      <td>0 days 00:16:19</td>\n",
       "    </tr>\n",
       "  </tbody>\n",
       "</table>\n",
       "</div>"
      ],
      "text/plain": [
       "               5k             10k             15k             20k  \\\n",
       "0 0 days 00:15:25 0 days 00:15:03 0 days 00:15:16 0 days 00:15:31   \n",
       "1 0 days 00:15:24 0 days 00:15:03 0 days 00:15:17 0 days 00:15:31   \n",
       "2 0 days 00:15:25 0 days 00:15:04 0 days 00:15:15 0 days 00:15:32   \n",
       "3 0 days 00:15:25 0 days 00:15:04 0 days 00:15:15 0 days 00:15:35   \n",
       "4 0 days 00:15:25 0 days 00:15:03 0 days 00:15:16 0 days 00:15:31   \n",
       "\n",
       "              25k             30k             35k             40k  \n",
       "0 0 days 00:15:44 0 days 00:16:02 0 days 00:15:18 0 days 00:14:34  \n",
       "1 0 days 00:15:44 0 days 00:16:02 0 days 00:15:18 0 days 00:14:55  \n",
       "2 0 days 00:15:44 0 days 00:16:01 0 days 00:15:30 0 days 00:15:07  \n",
       "3 0 days 00:15:41 0 days 00:16:01 0 days 00:15:57 0 days 00:15:37  \n",
       "4 0 days 00:15:44 0 days 00:16:02 0 days 00:15:40 0 days 00:16:19  "
      ]
     },
     "execution_count": 144,
     "metadata": {},
     "output_type": "execute_result"
    }
   ],
   "source": [
    "splits = cumulative_splits.diff(axis=1)\n",
    "splits['5k'] = cumulative_splits['5k']\n",
    "splits.head()"
   ]
  },
  {
   "cell_type": "code",
   "execution_count": 145,
   "id": "82f29b58",
   "metadata": {},
   "outputs": [],
   "source": [
    "def total_seconds(td):\n",
    "    return td.total_seconds()"
   ]
  },
  {
   "cell_type": "code",
   "execution_count": 146,
   "id": "c2bac4e4",
   "metadata": {},
   "outputs": [
    {
     "data": {
      "text/html": [
       "<div>\n",
       "<style scoped>\n",
       "    .dataframe tbody tr th:only-of-type {\n",
       "        vertical-align: middle;\n",
       "    }\n",
       "\n",
       "    .dataframe tbody tr th {\n",
       "        vertical-align: top;\n",
       "    }\n",
       "\n",
       "    .dataframe thead th {\n",
       "        text-align: right;\n",
       "    }\n",
       "</style>\n",
       "<table border=\"1\" class=\"dataframe\">\n",
       "  <thead>\n",
       "    <tr style=\"text-align: right;\">\n",
       "      <th></th>\n",
       "      <th>5k</th>\n",
       "      <th>10k</th>\n",
       "      <th>15k</th>\n",
       "      <th>20k</th>\n",
       "      <th>25k</th>\n",
       "      <th>30k</th>\n",
       "      <th>35k</th>\n",
       "      <th>40k</th>\n",
       "    </tr>\n",
       "  </thead>\n",
       "  <tbody>\n",
       "    <tr>\n",
       "      <th>0</th>\n",
       "      <td>925.0</td>\n",
       "      <td>903.0</td>\n",
       "      <td>916.0</td>\n",
       "      <td>931.0</td>\n",
       "      <td>944.0</td>\n",
       "      <td>962.0</td>\n",
       "      <td>918.0</td>\n",
       "      <td>874.0</td>\n",
       "    </tr>\n",
       "    <tr>\n",
       "      <th>1</th>\n",
       "      <td>924.0</td>\n",
       "      <td>903.0</td>\n",
       "      <td>917.0</td>\n",
       "      <td>931.0</td>\n",
       "      <td>944.0</td>\n",
       "      <td>962.0</td>\n",
       "      <td>918.0</td>\n",
       "      <td>895.0</td>\n",
       "    </tr>\n",
       "    <tr>\n",
       "      <th>2</th>\n",
       "      <td>925.0</td>\n",
       "      <td>904.0</td>\n",
       "      <td>915.0</td>\n",
       "      <td>932.0</td>\n",
       "      <td>944.0</td>\n",
       "      <td>961.0</td>\n",
       "      <td>930.0</td>\n",
       "      <td>907.0</td>\n",
       "    </tr>\n",
       "    <tr>\n",
       "      <th>3</th>\n",
       "      <td>925.0</td>\n",
       "      <td>904.0</td>\n",
       "      <td>915.0</td>\n",
       "      <td>935.0</td>\n",
       "      <td>941.0</td>\n",
       "      <td>961.0</td>\n",
       "      <td>957.0</td>\n",
       "      <td>937.0</td>\n",
       "    </tr>\n",
       "    <tr>\n",
       "      <th>4</th>\n",
       "      <td>925.0</td>\n",
       "      <td>903.0</td>\n",
       "      <td>916.0</td>\n",
       "      <td>931.0</td>\n",
       "      <td>944.0</td>\n",
       "      <td>962.0</td>\n",
       "      <td>940.0</td>\n",
       "      <td>979.0</td>\n",
       "    </tr>\n",
       "  </tbody>\n",
       "</table>\n",
       "</div>"
      ],
      "text/plain": [
       "      5k    10k    15k    20k    25k    30k    35k    40k\n",
       "0  925.0  903.0  916.0  931.0  944.0  962.0  918.0  874.0\n",
       "1  924.0  903.0  917.0  931.0  944.0  962.0  918.0  895.0\n",
       "2  925.0  904.0  915.0  932.0  944.0  961.0  930.0  907.0\n",
       "3  925.0  904.0  915.0  935.0  941.0  961.0  957.0  937.0\n",
       "4  925.0  903.0  916.0  931.0  944.0  962.0  940.0  979.0"
      ]
     },
     "execution_count": 146,
     "metadata": {},
     "output_type": "execute_result"
    }
   ],
   "source": [
    "split_seconds = splits.map(total_seconds)\n",
    "split_seconds.head()"
   ]
  },
  {
   "cell_type": "code",
   "execution_count": 147,
   "id": "d9cf126f",
   "metadata": {},
   "outputs": [
    {
     "data": {
      "text/plain": [
       "count    26406.000000\n",
       "mean         9.075549\n",
       "std          6.576482\n",
       "min          0.364927\n",
       "25%          4.590847\n",
       "50%          7.740286\n",
       "75%         11.793587\n",
       "max        133.265879\n",
       "Name: cv, dtype: float64"
      ]
     },
     "execution_count": 147,
     "metadata": {},
     "output_type": "execute_result"
    }
   ],
   "source": [
    "df['cv'] = split_seconds.std(axis=1) / split_seconds.mean(axis=1) * 100\n",
    "df['cv'].describe()"
   ]
  },
  {
   "cell_type": "code",
   "execution_count": 148,
   "id": "6da1198c",
   "metadata": {},
   "outputs": [
    {
     "data": {
      "text/html": [
       "<div>\n",
       "<style scoped>\n",
       "    .dataframe tbody tr th:only-of-type {\n",
       "        vertical-align: middle;\n",
       "    }\n",
       "\n",
       "    .dataframe tbody tr th {\n",
       "        vertical-align: top;\n",
       "    }\n",
       "\n",
       "    .dataframe thead th {\n",
       "        text-align: right;\n",
       "    }\n",
       "</style>\n",
       "<table border=\"1\" class=\"dataframe\">\n",
       "  <thead>\n",
       "    <tr style=\"text-align: right;\">\n",
       "      <th></th>\n",
       "      <th>count</th>\n",
       "      <th>mean</th>\n",
       "      <th>std</th>\n",
       "      <th>min</th>\n",
       "      <th>25%</th>\n",
       "      <th>50%</th>\n",
       "      <th>75%</th>\n",
       "      <th>max</th>\n",
       "    </tr>\n",
       "    <tr>\n",
       "      <th>gender</th>\n",
       "      <th></th>\n",
       "      <th></th>\n",
       "      <th></th>\n",
       "      <th></th>\n",
       "      <th></th>\n",
       "      <th></th>\n",
       "      <th></th>\n",
       "      <th></th>\n",
       "    </tr>\n",
       "  </thead>\n",
       "  <tbody>\n",
       "    <tr>\n",
       "      <th>F</th>\n",
       "      <td>11969.0</td>\n",
       "      <td>7.938585</td>\n",
       "      <td>5.434206</td>\n",
       "      <td>0.427746</td>\n",
       "      <td>4.298868</td>\n",
       "      <td>6.967892</td>\n",
       "      <td>10.219680</td>\n",
       "      <td>106.089578</td>\n",
       "    </tr>\n",
       "    <tr>\n",
       "      <th>M</th>\n",
       "      <td>14437.0</td>\n",
       "      <td>10.018150</td>\n",
       "      <td>7.257189</td>\n",
       "      <td>0.364927</td>\n",
       "      <td>4.904113</td>\n",
       "      <td>8.615780</td>\n",
       "      <td>13.396307</td>\n",
       "      <td>133.265879</td>\n",
       "    </tr>\n",
       "  </tbody>\n",
       "</table>\n",
       "</div>"
      ],
      "text/plain": [
       "          count       mean       std       min       25%       50%        75%  \\\n",
       "gender                                                                          \n",
       "F       11969.0   7.938585  5.434206  0.427746  4.298868  6.967892  10.219680   \n",
       "M       14437.0  10.018150  7.257189  0.364927  4.904113  8.615780  13.396307   \n",
       "\n",
       "               max  \n",
       "gender              \n",
       "F       106.089578  \n",
       "M       133.265879  "
      ]
     },
     "execution_count": 148,
     "metadata": {},
     "output_type": "execute_result"
    }
   ],
   "source": [
    "df.groupby('gender')['cv'].describe()"
   ]
  },
  {
   "cell_type": "code",
   "execution_count": 149,
   "id": "6de69f1b",
   "metadata": {},
   "outputs": [
    {
     "data": {
      "text/plain": [
       "place_overall                     1301.0\n",
       "bib                                 1396\n",
       "name                  Ferguson, J Daniel\n",
       "age                                 36.0\n",
       "gender                                 M\n",
       "city                            New York\n",
       "state                                 NY\n",
       "country_residence                    USA\n",
       "contry_citizenship                   NaN\n",
       "name_suffix                          NaN\n",
       "5k                               0:21:01\n",
       "10k                              0:42:06\n",
       "15k                              1:03:12\n",
       "20k                              1:24:20\n",
       "half                             1:28:59\n",
       "25k                              1:45:28\n",
       "30k                              2:06:41\n",
       "35k                              2:27:56\n",
       "40k                              2:49:08\n",
       "pace                             0:06:50\n",
       "projected_time                         -\n",
       "official_time                    2:58:54\n",
       "overall                           1302.0\n",
       "gender_result                     1219.0\n",
       "division_result                    938.0\n",
       "seconds                            10734\n",
       "first_name                      J Daniel\n",
       "last_name                       Ferguson\n",
       "display_name           J Daniel Ferguson\n",
       "cv                              0.364927\n",
       "Name: 1301, dtype: object"
      ]
     },
     "execution_count": 149,
     "metadata": {},
     "output_type": "execute_result"
    }
   ],
   "source": [
    "index = df['cv'].idxmin()\n",
    "df.loc[1301]"
   ]
  },
  {
   "cell_type": "code",
   "execution_count": 150,
   "id": "b00adf61",
   "metadata": {},
   "outputs": [
    {
     "data": {
      "text/plain": [
       "5k     1261.0\n",
       "10k    1265.0\n",
       "15k    1266.0\n",
       "20k    1268.0\n",
       "25k    1268.0\n",
       "30k    1273.0\n",
       "35k    1275.0\n",
       "40k    1272.0\n",
       "Name: 1301, dtype: float64"
      ]
     },
     "execution_count": 150,
     "metadata": {},
     "output_type": "execute_result"
    }
   ],
   "source": [
    "split_seconds.iloc[index]"
   ]
  },
  {
   "cell_type": "code",
   "execution_count": 158,
   "id": "9f2de955",
   "metadata": {},
   "outputs": [],
   "source": [
    "df['total_seconds'] = df['official_time'].map(make_timedelta).map(total_seconds)"
   ]
  },
  {
   "cell_type": "code",
   "execution_count": 163,
   "id": "bff9c3d3",
   "metadata": {},
   "outputs": [],
   "source": [
    "male = df.query(\"gender == 'M'\")\n",
    "female = df.query(\"gender == 'F'\")"
   ]
  },
  {
   "cell_type": "code",
   "execution_count": 164,
   "id": "557a5806",
   "metadata": {},
   "outputs": [],
   "source": [
    "from empiricaldist import Cdf\n",
    "\n",
    "cdf_male = Cdf.from_seq(male['cv'])\n",
    "cdf_female = Cdf.from_seq(female['cv'])"
   ]
  },
  {
   "cell_type": "code",
   "execution_count": 166,
   "id": "5d8587cf",
   "metadata": {},
   "outputs": [
    {
     "data": {
      "image/png": "[encoded data removed]",
      "text/plain": [
       "<Figure size 450x262.5 with 1 Axes>"
      ]
     },
     "metadata": {},
     "output_type": "display_data"
    }
   ],
   "source": [
    "cdf_male.plot()\n",
    "cdf_female.plot()\n",
    "\n",
    "decorate(xscale='log')"
   ]
  },
  {
   "cell_type": "code",
   "execution_count": 203,
   "id": "f8fe59ba",
   "metadata": {},
   "outputs": [],
   "source": [
    "def scatter(df):\n",
    "    ys = df['cv']\n",
    "    plt.scatter(df['total_seconds'], ys, marker='.', s=1, alpha=0.1)\n",
    "    decorate()"
   ]
  },
  {
   "cell_type": "code",
   "execution_count": 204,
   "id": "abef8df3",
   "metadata": {},
   "outputs": [
    {
     "data": {
      "image/png": "[encoded data removed]",
      "text/plain": [
       "<Figure size 450x262.5 with 1 Axes>"
      ]
     },
     "metadata": {},
     "output_type": "display_data"
    }
   ],
   "source": [
    "scatter(male)\n",
    "scatter(female)\n",
    "\n",
    "decorate(xlabel='Finish time', ylabel='Expected split CV')"
   ]
  },
  {
   "cell_type": "code",
   "execution_count": 208,
   "id": "0a392ad3",
   "metadata": {},
   "outputs": [
    {
     "data": {
      "text/html": [
       "<table class=\"simpletable\">\n",
       "<caption>Generalized Linear Model Regression Results</caption>\n",
       "<tr>\n",
       "  <th>Dep. Variable:</th>          <td>cv</td>        <th>  No. Observations:  </th>  <td> 14437</td> \n",
       "</tr>\n",
       "<tr>\n",
       "  <th>Model:</th>                  <td>GLM</td>       <th>  Df Residuals:      </th>  <td> 14435</td> \n",
       "</tr>\n",
       "<tr>\n",
       "  <th>Model Family:</th>          <td>Gamma</td>      <th>  Df Model:          </th>  <td>     1</td> \n",
       "</tr>\n",
       "<tr>\n",
       "  <th>Link Function:</th>          <td>log</td>       <th>  Scale:             </th> <td> 0.40093</td>\n",
       "</tr>\n",
       "<tr>\n",
       "  <th>Method:</th>                <td>IRLS</td>       <th>  Log-Likelihood:    </th> <td> -43891.</td>\n",
       "</tr>\n",
       "<tr>\n",
       "  <th>Date:</th>            <td>Sun, 22 Sep 2024</td> <th>  Deviance:          </th> <td>  5693.9</td>\n",
       "</tr>\n",
       "<tr>\n",
       "  <th>Time:</th>                <td>11:36:21</td>     <th>  Pearson chi2:      </th> <td>5.79e+03</td>\n",
       "</tr>\n",
       "<tr>\n",
       "  <th>No. Iterations:</th>         <td>15</td>        <th>  Pseudo R-squ. (CS):</th>  <td>0.2364</td> \n",
       "</tr>\n",
       "<tr>\n",
       "  <th>Covariance Type:</th>     <td>nonrobust</td>    <th>                     </th>     <td> </td>   \n",
       "</tr>\n",
       "</table>\n",
       "<table class=\"simpletable\">\n",
       "<tr>\n",
       "        <td></td>           <th>coef</th>     <th>std err</th>      <th>z</th>      <th>P>|z|</th>  <th>[0.025</th>    <th>0.975]</th>  \n",
       "</tr>\n",
       "<tr>\n",
       "  <th>Intercept</th>     <td>    0.4084</td> <td>    0.029</td> <td>   14.266</td> <td> 0.000</td> <td>    0.352</td> <td>    0.464</td>\n",
       "</tr>\n",
       "<tr>\n",
       "  <th>total_seconds</th> <td>    0.0001</td> <td> 2.05e-06</td> <td>   65.462</td> <td> 0.000</td> <td>    0.000</td> <td>    0.000</td>\n",
       "</tr>\n",
       "</table>"
      ],
      "text/latex": [
       "\\begin{center}\n",
       "\\begin{tabular}{lclc}\n",
       "\\toprule\n",
       "\\textbf{Dep. Variable:}   &        cv        & \\textbf{  No. Observations:  } &    14437    \\\\\n",
       "\\textbf{Model:}           &       GLM        & \\textbf{  Df Residuals:      } &    14435    \\\\\n",
       "\\textbf{Model Family:}    &      Gamma       & \\textbf{  Df Model:          } &        1    \\\\\n",
       "\\textbf{Link Function:}   &       log        & \\textbf{  Scale:             } &   0.40093   \\\\\n",
       "\\textbf{Method:}          &       IRLS       & \\textbf{  Log-Likelihood:    } &   -43891.   \\\\\n",
       "\\textbf{Date:}            & Sun, 22 Sep 2024 & \\textbf{  Deviance:          } &    5693.9   \\\\\n",
       "\\textbf{Time:}            &     11:36:21     & \\textbf{  Pearson chi2:      } &  5.79e+03   \\\\\n",
       "\\textbf{No. Iterations:}  &        15        & \\textbf{  Pseudo R-squ. (CS):} &   0.2364    \\\\\n",
       "\\textbf{Covariance Type:} &    nonrobust     & \\textbf{                     } &             \\\\\n",
       "\\bottomrule\n",
       "\\end{tabular}\n",
       "\\begin{tabular}{lcccccc}\n",
       "                        & \\textbf{coef} & \\textbf{std err} & \\textbf{z} & \\textbf{P$> |$z$|$} & \\textbf{[0.025} & \\textbf{0.975]}  \\\\\n",
       "\\midrule\n",
       "\\textbf{Intercept}      &       0.4084  &        0.029     &    14.266  &         0.000        &        0.352    &        0.464     \\\\\n",
       "\\textbf{total\\_seconds} &       0.0001  &     2.05e-06     &    65.462  &         0.000        &        0.000    &        0.000     \\\\\n",
       "\\bottomrule\n",
       "\\end{tabular}\n",
       "%\\caption{Generalized Linear Model Regression Results}\n",
       "\\end{center}"
      ],
      "text/plain": [
       "<class 'statsmodels.iolib.summary.Summary'>\n",
       "\"\"\"\n",
       "                 Generalized Linear Model Regression Results                  \n",
       "==============================================================================\n",
       "Dep. Variable:                     cv   No. Observations:                14437\n",
       "Model:                            GLM   Df Residuals:                    14435\n",
       "Model Family:                   Gamma   Df Model:                            1\n",
       "Link Function:                    log   Scale:                         0.40093\n",
       "Method:                          IRLS   Log-Likelihood:                -43891.\n",
       "Date:                Sun, 22 Sep 2024   Deviance:                       5693.9\n",
       "Time:                        11:36:21   Pearson chi2:                 5.79e+03\n",
       "No. Iterations:                    15   Pseudo R-squ. (CS):             0.2364\n",
       "Covariance Type:            nonrobust                                         \n",
       "=================================================================================\n",
       "                    coef    std err          z      P>|z|      [0.025      0.975]\n",
       "---------------------------------------------------------------------------------\n",
       "Intercept         0.4084      0.029     14.266      0.000       0.352       0.464\n",
       "total_seconds     0.0001   2.05e-06     65.462      0.000       0.000       0.000\n",
       "=================================================================================\n",
       "\"\"\""
      ]
     },
     "execution_count": 208,
     "metadata": {},
     "output_type": "execute_result"
    }
   ],
   "source": [
    "import statsmodels.api as sm\n",
    "import statsmodels.formula.api as smf\n",
    "\n",
    "\n",
    "# Fit a Gamma regression with a log link\n",
    "model = smf.glm(formula='cv ~ total_seconds', data=male, \n",
    "                family=sm.families.Gamma(sm.families.links.log()))\n",
    "result = model.fit()\n",
    "result.summary()"
   ]
  },
  {
   "cell_type": "code",
   "execution_count": 184,
   "id": "4b705e53",
   "metadata": {},
   "outputs": [],
   "source": [
    "\n",
    "low, high = male['total_seconds'].min(), male['total_seconds'].max()\n",
    "xs = np.linspace(low, high)\n",
    "ys = result.predict"
   ]
  },
  {
   "cell_type": "code",
   "execution_count": 190,
   "id": "e2e69db7",
   "metadata": {},
   "outputs": [
    {
     "data": {
      "image/png": "[encoded data removed]",
      "text/plain": [
       "<Figure size 450x262.5 with 1 Axes>"
      ]
     },
     "metadata": {},
     "output_type": "display_data"
    }
   ],
   "source": [
    "scatter(male)\n",
    "\n",
    "xs, ys = fit_line(male)\n",
    "plt.plot(xs, ys, label='Male')\n",
    "\n",
    "xs, ys = fit_line(female)\n",
    "plt.plot(xs, ys, label='Female')\n",
    "\n",
    "decorate(xlabel='Finish time', ylabel='Expected split CV', ylim=[-2, 40])"
   ]
  },
  {
   "cell_type": "code",
   "execution_count": 180,
   "id": "1a63fb87",
   "metadata": {},
   "outputs": [
    {
     "data": {
      "text/plain": [
       "0.0010499371945656842"
      ]
     },
     "execution_count": 180,
     "metadata": {},
     "output_type": "execute_result"
    }
   ],
   "source": [
    "get_slope(female)"
   ]
  },
  {
   "cell_type": "code",
   "execution_count": null,
   "id": "24af3872",
   "metadata": {},
   "outputs": [],
   "source": []
  }
 ],
 "metadata": {
  "celltoolbar": "Tags",
  "kernelspec": {
   "display_name": "Python 3 (ipykernel)",
   "language": "python",
   "name": "python3"
  },
  "language_info": {
   "codemirror_mode": {
    "name": "ipython",
    "version": 3
   },
   "file_extension": ".py",
   "mimetype": "text/x-python",
   "name": "python",
   "nbconvert_exporter": "python",
   "pygments_lexer": "ipython3",
   "version": "3.10.14"
  }
 },
 "nbformat": 4,
 "nbformat_minor": 5
}
