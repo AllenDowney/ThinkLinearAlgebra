{
 "cells": [
  {
   "cell_type": "markdown",
   "id": "025b76df",
   "metadata": {},
   "source": [
    "*Think Linear Algebra* is not for sale yet, but if you would like to support this project, you can [buy me a coffee](https://buymeacoffee.com/allendowney)."
   ]
  },
  {
   "cell_type": "markdown",
   "id": "85c30bdb",
   "metadata": {},
   "source": [
    "# Systems\n",
    "\n",
    "This chapter contains only the code, no text yet!"
   ]
  },
  {
   "cell_type": "markdown",
   "id": "3893fe82",
   "metadata": {
    "tags": [
     "remove-print"
    ]
   },
   "source": [
    "[Click here to run this notebook on Colab](https://colab.research.google.com/github/AllenDowney/ThinkLinearAlgebra/blob/main/chapters/system.ipynb)."
   ]
  },
  {
   "cell_type": "code",
   "execution_count": 1,
   "id": "c17ab159",
   "metadata": {
    "tags": [
     "remove-cell"
    ]
   },
   "outputs": [],
   "source": [
    "# temporary hack to make autoreload work on Colab\n",
    "import importlib, sys\n",
    "sys.modules[\"imp\"] = importlib\n",
    "\n",
    "%load_ext autoreload\n",
    "%autoreload 2"
   ]
  },
  {
   "cell_type": "code",
   "execution_count": 2,
   "id": "02d400cf",
   "metadata": {
    "tags": [
     "remove-print",
     "hide-cell"
    ]
   },
   "outputs": [],
   "source": [
    "from os.path import basename, exists\n",
    "\n",
    "\n",
    "def download(url):\n",
    "    filename = basename(url)\n",
    "    if not exists(filename):\n",
    "        from urllib.request import urlretrieve\n",
    "\n",
    "        local, _ = urlretrieve(url, filename)\n",
    "        print(\"Downloaded \" + local)\n",
    "\n",
    "\n",
    "download(\"https://github.com/AllenDowney/ThinkLinearAlgebra/raw/main/utils.py\")"
   ]
  },
  {
   "cell_type": "code",
   "execution_count": 3,
   "id": "1a3119be",
   "metadata": {
    "tags": [
     "hide-cell",
     "remove-print"
    ]
   },
   "outputs": [],
   "source": [
    "import networkx as nx\n",
    "import numpy as np\n",
    "import pandas as pd\n",
    "import matplotlib.pyplot as plt\n",
    "import sympy as sp\n",
    "\n",
    "from utils import decorate"
   ]
  },
  {
   "cell_type": "code",
   "execution_count": 4,
   "id": "d9a041da",
   "metadata": {
    "tags": [
     "remove-cell"
    ]
   },
   "outputs": [],
   "source": [
    "from utils import set_precision\n",
    "\n",
    "set_precision(3)"
   ]
  },
  {
   "cell_type": "markdown",
   "id": "fe490a51",
   "metadata": {},
   "source": [
    "## Systems of Equations\n",
    "\n",
    "If you studied algebra, you might have encountered dreaded word problems like this one:\n",
    "\n",
    "\n",
    "> At a school play, 50 tickets were sold for a total of \\$380. Tickets were priced as follows:\n",
    ">\n",
    "> - Child tickets: \\$5  \n",
    "> - Adult tickets: \\$12  \n",
    "> - Senior tickets: \\$8  \n",
    ">\n",
    "> Each adult brought exactly two children with them, and no children attended without an adult.\n",
    ">\n",
    "> How many of each type of ticket were sold?\n",
    "\n",
    "To answer questions like this, you were probably taught to define variables to represent the unknown quantities. For example, we'll define\n",
    "\n",
    "- $c$ as the number of child tickets sold  \n",
    "- $a$ as the number of adult tickets sold  \n",
    "- $s$ as the number of senior tickets sold  \n",
    "\n",
    "We can use SymPy to represent these variables with symbols."
   ]
  },
  {
   "cell_type": "code",
   "execution_count": 5,
   "id": "fd518c41",
   "metadata": {},
   "outputs": [],
   "source": [
    "c, a, s = sp.symbols('c a s')"
   ]
  },
  {
   "cell_type": "markdown",
   "id": "dd5ddd74",
   "metadata": {},
   "source": [
    "Next we can write equations to represent the given relationships among the variable.\n",
    "This equation represents the total number of tickets sold:"
   ]
  },
  {
   "cell_type": "code",
   "execution_count": 6,
   "id": "da6044ed",
   "metadata": {},
   "outputs": [
    {
     "data": {
      "text/latex": [
       "$\\displaystyle a + c + s = 50$"
      ],
      "text/plain": [
       "Eq(a + c + s, 50)"
      ]
     },
     "execution_count": 6,
     "metadata": {},
     "output_type": "execute_result"
    }
   ],
   "source": [
    "eq1 = sp.Eq(c + a + s, 50)\n",
    "eq1"
   ]
  },
  {
   "cell_type": "markdown",
   "id": "c3553ef9",
   "metadata": {},
   "source": [
    "This one represents total sales."
   ]
  },
  {
   "cell_type": "code",
   "execution_count": 7,
   "id": "8269f715",
   "metadata": {},
   "outputs": [
    {
     "data": {
      "text/latex": [
       "$\\displaystyle 12 a + 5 c + 8 s = 380$"
      ],
      "text/plain": [
       "Eq(12*a + 5*c + 8*s, 380)"
      ]
     },
     "execution_count": 7,
     "metadata": {},
     "output_type": "execute_result"
    }
   ],
   "source": [
    "eq2 = sp.Eq(5*c + 12*a + 8*s, 380)\n",
    "eq2"
   ]
  },
  {
   "cell_type": "markdown",
   "id": "37ae5c78",
   "metadata": {},
   "source": [
    "And this one represents the constraint that every adult brings two children."
   ]
  },
  {
   "cell_type": "code",
   "execution_count": 8,
   "id": "479d691b",
   "metadata": {},
   "outputs": [
    {
     "data": {
      "text/latex": [
       "$\\displaystyle c = 2 a$"
      ],
      "text/plain": [
       "Eq(c, 2*a)"
      ]
     },
     "execution_count": 8,
     "metadata": {},
     "output_type": "execute_result"
    }
   ],
   "source": [
    "eq3 = sp.Eq(c, 2*a)\n",
    "eq3"
   ]
  },
  {
   "cell_type": "markdown",
   "id": "6158b20f",
   "metadata": {},
   "source": [
    "To solve these equations, we can use the SymPy function `linsolve`, which takes as parameters a list of equations and a list of unknowns. "
   ]
  },
  {
   "cell_type": "code",
   "execution_count": 9,
   "id": "4e4301b8",
   "metadata": {},
   "outputs": [
    {
     "data": {
      "text/latex": [
       "$\\displaystyle \\left\\{\\left( 20, \\  10, \\  20\\right)\\right\\}$"
      ],
      "text/plain": [
       "{(20, 10, 20)}"
      ]
     },
     "execution_count": 9,
     "metadata": {},
     "output_type": "execute_result"
    }
   ],
   "source": [
    "eqns = [eq1, eq2, eq3]\n",
    "unknowns = [c, a, s]\n",
    "\n",
    "sp.linsolve(eqns, unknowns)"
   ]
  },
  {
   "cell_type": "markdown",
   "id": "d717a19d",
   "metadata": {},
   "source": [
    "The result is a set of solutions -- in this case there is only one: 20 children, 10 adults, and 20 seniors.\n",
    "\n",
    "Now let's see how `linsolve` works."
   ]
  },
  {
   "cell_type": "markdown",
   "id": "0350219c",
   "metadata": {},
   "source": [
    "## Matrix Equations\n",
    "\n",
    "The algorithm `linsolve` uses is Gauss-Jordan elimination.\n",
    "The first step is to write the system of equations as a matrix equation.\n",
    "SymPy provides a function that extracts from the equations a matrix of coefficients and a vector of constants."
   ]
  },
  {
   "cell_type": "code",
   "execution_count": 10,
   "id": "5adbbddb",
   "metadata": {},
   "outputs": [
    {
     "data": {
      "text/latex": [
       "$\\displaystyle \\left[\\begin{matrix}1 & 1 & 1\\\\5 & 12 & 8\\\\1 & -2 & 0\\end{matrix}\\right]$"
      ],
      "text/plain": [
       "Matrix([\n",
       "[1,  1, 1],\n",
       "[5, 12, 8],\n",
       "[1, -2, 0]])"
      ]
     },
     "execution_count": 10,
     "metadata": {},
     "output_type": "execute_result"
    }
   ],
   "source": [
    "A, b = sp.linear_eq_to_matrix(eqns, unknowns)\n",
    "A"
   ]
  },
  {
   "cell_type": "code",
   "execution_count": 11,
   "id": "b260d1f8",
   "metadata": {},
   "outputs": [
    {
     "data": {
      "text/latex": [
       "$\\displaystyle \\left[\\begin{matrix}50\\\\380\\\\0\\end{matrix}\\right]$"
      ],
      "text/plain": [
       "Matrix([\n",
       "[ 50],\n",
       "[380],\n",
       "[  0]])"
      ]
     },
     "execution_count": 11,
     "metadata": {},
     "output_type": "execute_result"
    }
   ],
   "source": [
    "b"
   ]
  },
  {
   "cell_type": "markdown",
   "id": "22dc1725",
   "metadata": {},
   "source": [
    "In this representation, the unknowns don't appear explicitly, but if we put the unknowns in a vector, `x`, we can write the equations in the form $Ax = b$.\n",
    "So we can recover the original equations like this:"
   ]
  },
  {
   "cell_type": "code",
   "execution_count": 12,
   "id": "8ad48089",
   "metadata": {},
   "outputs": [
    {
     "data": {
      "text/latex": [
       "$\\displaystyle \\left[\\begin{matrix}a + c + s\\\\12 a + 5 c + 8 s\\\\- 2 a + c\\end{matrix}\\right] = \\left[\\begin{matrix}50\\\\380\\\\0\\end{matrix}\\right]$"
      ],
      "text/plain": [
       "Eq(Matrix([\n",
       "[       a + c + s],\n",
       "[12*a + 5*c + 8*s],\n",
       "[        -2*a + c]]), Matrix([\n",
       "[ 50],\n",
       "[380],\n",
       "[  0]]))"
      ]
     },
     "execution_count": 12,
     "metadata": {},
     "output_type": "execute_result"
    }
   ],
   "source": [
    "x = sp.Matrix(unknowns)\n",
    "sp.Eq(A * x, b)"
   ]
  },
  {
   "cell_type": "markdown",
   "id": "c6fc2994",
   "metadata": {},
   "source": [
    "Note that for a SymPy matrix, the `*` operator performs matrix multiplication.\n",
    "\n",
    "The next step in Gauss-Jordan elimination is to form an **augmented matrix** with `b` appended to `A` as an additional column."
   ]
  },
  {
   "cell_type": "code",
   "execution_count": 13,
   "id": "6a2b187b",
   "metadata": {},
   "outputs": [
    {
     "data": {
      "text/latex": [
       "$\\displaystyle \\left[\\begin{matrix}1 & 1 & 1 & 50\\\\5 & 12 & 8 & 380\\\\1 & -2 & 0 & 0\\end{matrix}\\right]$"
      ],
      "text/plain": [
       "Matrix([\n",
       "[1,  1, 1,  50],\n",
       "[5, 12, 8, 380],\n",
       "[1, -2, 0,   0]])"
      ]
     },
     "execution_count": 13,
     "metadata": {},
     "output_type": "execute_result"
    }
   ],
   "source": [
    "M = A.row_join(b)\n",
    "M"
   ]
  },
  {
   "cell_type": "markdown",
   "id": "215d2e69",
   "metadata": {},
   "source": [
    "Each row of the augmented matrix represents an equation with a left hand side and a right hand side."
   ]
  },
  {
   "cell_type": "code",
   "execution_count": 14,
   "id": "b55bbad3",
   "metadata": {},
   "outputs": [
    {
     "data": {
      "text/latex": [
       "$\\displaystyle \\left[\\begin{matrix}1 & 1 & 1 & 50\\end{matrix}\\right]$"
      ],
      "text/plain": [
       "Matrix([[1, 1, 1, 50]])"
      ]
     },
     "execution_count": 14,
     "metadata": {},
     "output_type": "execute_result"
    }
   ],
   "source": [
    "row0 = M[0, :]\n",
    "row0"
   ]
  },
  {
   "cell_type": "markdown",
   "id": "b8bc6f99",
   "metadata": {},
   "source": [
    "If we multiply both sides of the equation by a constant, the result is still a valid equation."
   ]
  },
  {
   "cell_type": "code",
   "execution_count": 15,
   "id": "adf42734",
   "metadata": {},
   "outputs": [
    {
     "data": {
      "text/latex": [
       "$\\displaystyle \\left[\\begin{matrix}5 & 5 & 5 & 250\\end{matrix}\\right]$"
      ],
      "text/plain": [
       "Matrix([[5, 5, 5, 250]])"
      ]
     },
     "execution_count": 15,
     "metadata": {},
     "output_type": "execute_result"
    }
   ],
   "source": [
    "row0 * 5"
   ]
  },
  {
   "cell_type": "markdown",
   "id": "cbd9c37f",
   "metadata": {},
   "source": [
    "And if we add or subtract two equations, the result is a valid equation."
   ]
  },
  {
   "cell_type": "code",
   "execution_count": 16,
   "id": "dbea5ec3",
   "metadata": {},
   "outputs": [
    {
     "data": {
      "text/latex": [
       "$\\displaystyle \\left[\\begin{matrix}0 & 7 & 3 & 130\\end{matrix}\\right]$"
      ],
      "text/plain": [
       "Matrix([[0, 7, 3, 130]])"
      ]
     },
     "execution_count": 16,
     "metadata": {},
     "output_type": "execute_result"
    }
   ],
   "source": [
    "row1 = M[1, :] \n",
    "row1 - 5 * row0"
   ]
  },
  {
   "cell_type": "markdown",
   "id": "01d517b1",
   "metadata": {},
   "source": [
    "Notice that by subtracting rows in this way, we canceled out one of the coefficients, leaving a zero at the beginning of the row -- which means that this equation depends on one less variable.\n",
    "\n",
    "Continuing in this way, we can use these row operations to cancel out one coefficient at a time.\n",
    "We'll use the following function, which takes `M` and uses row `i` to eliminate the element in row `j`, column `k`."
   ]
  },
  {
   "cell_type": "code",
   "execution_count": 17,
   "id": "e1d8ecde",
   "metadata": {},
   "outputs": [],
   "source": [
    "def row_reduce(M, i, j, k):\n",
    "    row_i = M[i, :]\n",
    "    row_j = M[j, :]\n",
    "    factor = row_j[k] / row_i[k]\n",
    "    M[j, :] -= factor * row_i\n",
    "    return factor"
   ]
  },
  {
   "cell_type": "markdown",
   "id": "047ef7e0",
   "metadata": {},
   "source": [
    "First we'll use row 0 to eliminate the first element in rows 1 and 2."
   ]
  },
  {
   "cell_type": "code",
   "execution_count": 18,
   "id": "0ee64f2b",
   "metadata": {},
   "outputs": [
    {
     "data": {
      "text/latex": [
       "$\\displaystyle \\left[\\begin{matrix}1 & 1 & 1 & 50\\\\0 & 7 & 3 & 130\\\\0 & -3 & -1 & -50\\end{matrix}\\right]$"
      ],
      "text/plain": [
       "Matrix([\n",
       "[1,  1,  1,  50],\n",
       "[0,  7,  3, 130],\n",
       "[0, -3, -1, -50]])"
      ]
     },
     "execution_count": 18,
     "metadata": {},
     "output_type": "execute_result"
    }
   ],
   "source": [
    "row_reduce(M, 0, 1, 0)\n",
    "row_reduce(M, 0, 2, 0)\n",
    "M"
   ]
  },
  {
   "cell_type": "markdown",
   "id": "1d8878e4",
   "metadata": {},
   "source": [
    "Next we'll use row 1 to eliminate the middle element in rows 0 and 2."
   ]
  },
  {
   "cell_type": "code",
   "execution_count": 19,
   "id": "1d3373ef",
   "metadata": {},
   "outputs": [
    {
     "data": {
      "text/latex": [
       "$\\displaystyle \\left[\\begin{matrix}1 & 0 & \\frac{4}{7} & \\frac{220}{7}\\\\0 & 7 & 3 & 130\\\\0 & 0 & \\frac{2}{7} & \\frac{40}{7}\\end{matrix}\\right]$"
      ],
      "text/plain": [
       "Matrix([\n",
       "[1, 0, 4/7, 220/7],\n",
       "[0, 7,   3,   130],\n",
       "[0, 0, 2/7,  40/7]])"
      ]
     },
     "execution_count": 19,
     "metadata": {},
     "output_type": "execute_result"
    }
   ],
   "source": [
    "row_reduce(M, 1, 0, 1)\n",
    "row_reduce(M, 1, 2, 1)\n",
    "M"
   ]
  },
  {
   "cell_type": "markdown",
   "id": "2d6cdc6e",
   "metadata": {},
   "source": [
    "Next we'll use row 3 to eliminate the last element of rows 0 and 1."
   ]
  },
  {
   "cell_type": "code",
   "execution_count": 20,
   "id": "e04857ab",
   "metadata": {},
   "outputs": [
    {
     "data": {
      "text/latex": [
       "$\\displaystyle \\left[\\begin{matrix}1 & 0 & 0 & 20\\\\0 & 7 & 0 & 70\\\\0 & 0 & \\frac{2}{7} & \\frac{40}{7}\\end{matrix}\\right]$"
      ],
      "text/plain": [
       "Matrix([\n",
       "[1, 0,   0,   20],\n",
       "[0, 7,   0,   70],\n",
       "[0, 0, 2/7, 40/7]])"
      ]
     },
     "execution_count": 20,
     "metadata": {},
     "output_type": "execute_result"
    }
   ],
   "source": [
    "row_reduce(M, 2, 1, 2)\n",
    "row_reduce(M, 2, 0, 2)\n",
    "M"
   ]
  },
  {
   "cell_type": "markdown",
   "id": "a339ce0d",
   "metadata": {},
   "source": [
    "Finally, we'll use this function to divide each row by its one remaining coefficient."
   ]
  },
  {
   "cell_type": "code",
   "execution_count": 21,
   "id": "de5afa71",
   "metadata": {},
   "outputs": [],
   "source": [
    "def normalize_rows(M):\n",
    "    rows, cols = M.shape\n",
    "    for i in range(rows):\n",
    "        M[i, :] /= M[i, i]"
   ]
  },
  {
   "cell_type": "markdown",
   "id": "e318ad61",
   "metadata": {},
   "source": [
    "In the result, the solution appears in the last column."
   ]
  },
  {
   "cell_type": "code",
   "execution_count": 22,
   "id": "e0c60eb5",
   "metadata": {},
   "outputs": [
    {
     "data": {
      "text/latex": [
       "$\\displaystyle \\left[\\begin{matrix}1 & 0 & 0 & 20\\\\0 & 1 & 0 & 10\\\\0 & 0 & 1 & 20\\end{matrix}\\right]$"
      ],
      "text/plain": [
       "Matrix([\n",
       "[1, 0, 0, 20],\n",
       "[0, 1, 0, 10],\n",
       "[0, 0, 1, 20]])"
      ]
     },
     "execution_count": 22,
     "metadata": {},
     "output_type": "execute_result"
    }
   ],
   "source": [
    "normalize_rows(M)\n",
    "M"
   ]
  },
  {
   "cell_type": "markdown",
   "id": "e89760ef",
   "metadata": {},
   "source": [
    "We can split the augmented matrix into a square matrix and a solution vector."
   ]
  },
  {
   "cell_type": "code",
   "execution_count": 23,
   "id": "a74d036b",
   "metadata": {},
   "outputs": [],
   "source": [
    "I = M[:, :-1]\n",
    "sol = M[:, -1]"
   ]
  },
  {
   "cell_type": "markdown",
   "id": "37673b85",
   "metadata": {},
   "source": [
    "Here's the solution displayed as a vector equation."
   ]
  },
  {
   "cell_type": "code",
   "execution_count": 24,
   "id": "d63eb3a9",
   "metadata": {},
   "outputs": [
    {
     "data": {
      "text/latex": [
       "$\\displaystyle \\left[\\begin{matrix}c\\\\a\\\\s\\end{matrix}\\right] = \\left[\\begin{matrix}20\\\\10\\\\20\\end{matrix}\\right]$"
      ],
      "text/plain": [
       "Eq(Matrix([\n",
       "[c],\n",
       "[a],\n",
       "[s]]), Matrix([\n",
       "[20],\n",
       "[10],\n",
       "[20]]))"
      ]
     },
     "execution_count": 24,
     "metadata": {},
     "output_type": "execute_result"
    }
   ],
   "source": [
    "sp.Eq(I * x, sol)"
   ]
  },
  {
   "cell_type": "markdown",
   "id": "5c97386b",
   "metadata": {},
   "source": [
    "I called the reduced matrix `I` because that's the conventional name for the identity matrix.\n",
    "If we multiply `I` by any vector, the result is the same vector."
   ]
  },
  {
   "cell_type": "code",
   "execution_count": 25,
   "id": "533e6a1c",
   "metadata": {},
   "outputs": [
    {
     "data": {
      "text/latex": [
       "$\\displaystyle \\left[\\begin{matrix}c\\\\a\\\\s\\end{matrix}\\right]$"
      ],
      "text/plain": [
       "Matrix([\n",
       "[c],\n",
       "[a],\n",
       "[s]])"
      ]
     },
     "execution_count": 25,
     "metadata": {},
     "output_type": "execute_result"
    }
   ],
   "source": [
    "I * x"
   ]
  },
  {
   "cell_type": "markdown",
   "id": "715f515e",
   "metadata": {},
   "source": [
    "And if we multiply by any matrix, the result is the same matrix."
   ]
  },
  {
   "cell_type": "code",
   "execution_count": 26,
   "id": "a0d71e6b",
   "metadata": {},
   "outputs": [
    {
     "data": {
      "text/latex": [
       "$\\displaystyle \\left[\\begin{matrix}1 & 1 & 1\\\\5 & 12 & 8\\\\1 & -2 & 0\\end{matrix}\\right]$"
      ],
      "text/plain": [
       "Matrix([\n",
       "[1,  1, 1],\n",
       "[5, 12, 8],\n",
       "[1, -2, 0]])"
      ]
     },
     "execution_count": 26,
     "metadata": {},
     "output_type": "execute_result"
    }
   ],
   "source": [
    "I * A"
   ]
  },
  {
   "cell_type": "markdown",
   "id": "bfa6b27b",
   "metadata": {},
   "source": [
    "Gauss-Jordan elimination is just one way to solve a matrix equation.\n",
    "Let's look at another."
   ]
  },
  {
   "cell_type": "markdown",
   "id": "a43368b7",
   "metadata": {},
   "source": [
    "## Matrix Inversion\n",
    "\n",
    "Suppose you want to solve an equation like $ax = b$, where $a$ and $b$ are scalars.\n",
    "If you divide both sides by $a$, the result is $x = b/a$, which is considered a solution because we know how to do scalar division.\n",
    "\n",
    "Unfortunately, we can't do the same thing with a matrix equation like $Ax = b$ because there's no general definition for matrix division.\n",
    "But we can avoid division using inverse multiplication.\n",
    "In the scalar equation, that means multiplying both sides by $1/a$, also denoted $a^{-1}$.\n",
    "\n",
    "$$a^{-1} a x = a^{-1} b$$\n",
    "\n",
    "On the left side, $a^{-1} a = 1$, so we have\n",
    "\n",
    "$$x = a^{-1} b$$\n",
    "\n",
    "We can do the same thing with the matrix equation.\n",
    "If we can find the inverse of $A$, denoted $A^{-1}$, we can multiply both sides of the matrix equation to get:\n",
    "\n",
    "$$A^{-1} A x = A^{-1} b$$\n",
    "\n",
    "On the left side, the product $A^{-1} A$ is the identity matrix $I$, and we have already seen that $I x = x$, so the result is\n",
    "\n",
    "$$x = A^{-1} b$$\n",
    "\n",
    "And that's considered a solution because we know how to do matrix multiplication.\n",
    "\n",
    "Now all we have to do is find $A^{-1}$.\n",
    "SciPy provides a function that does it."
   ]
  },
  {
   "cell_type": "code",
   "execution_count": 27,
   "id": "dfb807dc",
   "metadata": {},
   "outputs": [
    {
     "data": {
      "text/latex": [
       "$\\displaystyle \\left[\\begin{matrix}8 & -1 & -2\\\\4 & - \\frac{1}{2} & - \\frac{3}{2}\\\\-11 & \\frac{3}{2} & \\frac{7}{2}\\end{matrix}\\right]$"
      ],
      "text/plain": [
       "Matrix([\n",
       "[  8,   -1,   -2],\n",
       "[  4, -1/2, -3/2],\n",
       "[-11,  3/2,  7/2]])"
      ]
     },
     "execution_count": 27,
     "metadata": {},
     "output_type": "execute_result"
    }
   ],
   "source": [
    "from scipy.linalg import inv\n",
    "\n",
    "A_inv = A.inv()\n",
    "A_inv"
   ]
  },
  {
   "cell_type": "markdown",
   "id": "beeada9d",
   "metadata": {},
   "source": [
    "We can confirm that $A^{-1} A = I$."
   ]
  },
  {
   "cell_type": "code",
   "execution_count": 28,
   "id": "5ee646d5",
   "metadata": {},
   "outputs": [
    {
     "data": {
      "text/latex": [
       "$\\displaystyle \\left[\\begin{matrix}1 & 0 & 0\\\\0 & 1 & 0\\\\0 & 0 & 1\\end{matrix}\\right]$"
      ],
      "text/plain": [
       "Matrix([\n",
       "[1, 0, 0],\n",
       "[0, 1, 0],\n",
       "[0, 0, 1]])"
      ]
     },
     "execution_count": 28,
     "metadata": {},
     "output_type": "execute_result"
    }
   ],
   "source": [
    "A_inv * A"
   ]
  },
  {
   "cell_type": "markdown",
   "id": "49c3887f",
   "metadata": {},
   "source": [
    "And we can find a solution by evaluating the right hand side, $A^{-1} b$."
   ]
  },
  {
   "cell_type": "code",
   "execution_count": 29,
   "id": "f42986ef",
   "metadata": {},
   "outputs": [
    {
     "data": {
      "text/latex": [
       "$\\displaystyle \\left[\\begin{matrix}20\\\\10\\\\20\\end{matrix}\\right]$"
      ],
      "text/plain": [
       "Matrix([\n",
       "[20],\n",
       "[10],\n",
       "[20]])"
      ]
     },
     "execution_count": 29,
     "metadata": {},
     "output_type": "execute_result"
    }
   ],
   "source": [
    "A_inv * b"
   ]
  },
  {
   "cell_type": "markdown",
   "id": "6f86f711",
   "metadata": {},
   "source": [
    "That solution should look familiar.\n",
    "\n",
    "There are several ways to find the inverse of a matrix.\n",
    "One is to write the matrix equation $A A^{-1} = I$ and use Gauss-Jordan elimination to solve for $A^{-1}$."
   ]
  },
  {
   "cell_type": "code",
   "execution_count": 30,
   "id": "979f7384",
   "metadata": {},
   "outputs": [
    {
     "data": {
      "text/latex": [
       "$\\displaystyle \\left[\\begin{matrix}1 & 1 & 1 & 1 & 0 & 0\\\\5 & 12 & 8 & 0 & 1 & 0\\\\1 & -2 & 0 & 0 & 0 & 1\\end{matrix}\\right]$"
      ],
      "text/plain": [
       "Matrix([\n",
       "[1,  1, 1, 1, 0, 0],\n",
       "[5, 12, 8, 0, 1, 0],\n",
       "[1, -2, 0, 0, 0, 1]])"
      ]
     },
     "execution_count": 30,
     "metadata": {},
     "output_type": "execute_result"
    }
   ],
   "source": [
    "M = A.row_join(I)\n",
    "M"
   ]
  },
  {
   "cell_type": "code",
   "execution_count": 31,
   "id": "43bf4009",
   "metadata": {},
   "outputs": [],
   "source": [
    "def gauss_jordan_elimination(M):\n",
    "    rows, cols = M.shape\n",
    "    for i in range(rows):\n",
    "        for j in range(rows):\n",
    "            if i != j:\n",
    "                row_reduce(M, i, j, i)"
   ]
  },
  {
   "cell_type": "code",
   "execution_count": 32,
   "id": "2b719b7c",
   "metadata": {},
   "outputs": [
    {
     "data": {
      "text/latex": [
       "$\\displaystyle \\left[\\begin{matrix}1 & 0 & 0 & 8 & -1 & -2\\\\0 & 7 & 0 & 28 & - \\frac{7}{2} & - \\frac{21}{2}\\\\0 & 0 & \\frac{2}{7} & - \\frac{22}{7} & \\frac{3}{7} & 1\\end{matrix}\\right]$"
      ],
      "text/plain": [
       "Matrix([\n",
       "[1, 0,   0,     8,   -1,    -2],\n",
       "[0, 7,   0,    28, -7/2, -21/2],\n",
       "[0, 0, 2/7, -22/7,  3/7,     1]])"
      ]
     },
     "execution_count": 32,
     "metadata": {},
     "output_type": "execute_result"
    }
   ],
   "source": [
    "gauss_jordan_elimination(M)\n",
    "M"
   ]
  },
  {
   "cell_type": "code",
   "execution_count": 33,
   "id": "e902a62f",
   "metadata": {},
   "outputs": [
    {
     "data": {
      "text/latex": [
       "$\\displaystyle \\left[\\begin{matrix}1 & 0 & 0 & 8 & -1 & -2\\\\0 & 1 & 0 & 4 & - \\frac{1}{2} & - \\frac{3}{2}\\\\0 & 0 & 1 & -11 & \\frac{3}{2} & \\frac{7}{2}\\end{matrix}\\right]$"
      ],
      "text/plain": [
       "Matrix([\n",
       "[1, 0, 0,   8,   -1,   -2],\n",
       "[0, 1, 0,   4, -1/2, -3/2],\n",
       "[0, 0, 1, -11,  3/2,  7/2]])"
      ]
     },
     "execution_count": 33,
     "metadata": {},
     "output_type": "execute_result"
    }
   ],
   "source": [
    "normalize_rows(M)\n",
    "M"
   ]
  },
  {
   "cell_type": "markdown",
   "id": "aaec9124",
   "metadata": {},
   "source": [
    "The result is an augmented matrix that contains $I$ on the left and $A^{-1}$ on the right.\n",
    "\n",
    "So that's one way to find the inverse of a matrix, but `inv` uses a different algorithm, called LU decomposition."
   ]
  },
  {
   "cell_type": "markdown",
   "id": "1c089ee0",
   "metadata": {},
   "source": [
    "## LU Decomposition\n",
    "\n",
    "Let's see what LU decomposition is, why it is useful, and how we compute it.\n",
    "\n",
    "In general, a **decomposition** of a matrix, $A$, is a set of matrices whose product is $A$.\n",
    "More specifically, an LU decomposition is two matrices, $L$ and $U$, where $L U = A$, and\n",
    "\n",
    "* $L$ is a lower triangular matrix, and \n",
    "* $U$ is an upper triangular matrix.\n",
    "\n",
    "I'll explain what that means below.\n",
    "SciPy matrices have a method that computes an LU decomposition."
   ]
  },
  {
   "cell_type": "code",
   "execution_count": 34,
   "id": "4ddc7c32",
   "metadata": {},
   "outputs": [],
   "source": [
    "L, U, perm = A.LUdecomposition()"
   ]
  },
  {
   "cell_type": "markdown",
   "id": "4eb6e4ee",
   "metadata": {},
   "source": [
    "We can confirm that $L U = A$."
   ]
  },
  {
   "cell_type": "code",
   "execution_count": 35,
   "id": "f05f27c8",
   "metadata": {},
   "outputs": [
    {
     "data": {
      "text/latex": [
       "$\\displaystyle \\text{True}$"
      ],
      "text/plain": [
       "True"
      ]
     },
     "execution_count": 35,
     "metadata": {},
     "output_type": "execute_result"
    }
   ],
   "source": [
    "sp.Eq(L * U, A)"
   ]
  },
  {
   "cell_type": "markdown",
   "id": "67e3dfb8",
   "metadata": {},
   "source": [
    "`L` is lower triangular, which means all of the non-zero elements are on or below the main diagonal."
   ]
  },
  {
   "cell_type": "code",
   "execution_count": 36,
   "id": "f6fbd0de",
   "metadata": {},
   "outputs": [
    {
     "data": {
      "text/latex": [
       "$\\displaystyle \\left[\\begin{matrix}1 & 0 & 0\\\\5 & 1 & 0\\\\1 & - \\frac{3}{7} & 1\\end{matrix}\\right]$"
      ],
      "text/plain": [
       "Matrix([\n",
       "[1,    0, 0],\n",
       "[5,    1, 0],\n",
       "[1, -3/7, 1]])"
      ]
     },
     "execution_count": 36,
     "metadata": {},
     "output_type": "execute_result"
    }
   ],
   "source": [
    "L"
   ]
  },
  {
   "cell_type": "markdown",
   "id": "903a42c3",
   "metadata": {},
   "source": [
    "And `U` is upper triangular, which means all of the non-zero elements are on or above the main diagonal."
   ]
  },
  {
   "cell_type": "code",
   "execution_count": 37,
   "id": "d9dd3d42",
   "metadata": {},
   "outputs": [
    {
     "data": {
      "text/latex": [
       "$\\displaystyle \\left[\\begin{matrix}1 & 1 & 1\\\\0 & 7 & 3\\\\0 & 0 & \\frac{2}{7}\\end{matrix}\\right]$"
      ],
      "text/plain": [
       "Matrix([\n",
       "[1, 1,   1],\n",
       "[0, 7,   3],\n",
       "[0, 0, 2/7]])"
      ]
     },
     "execution_count": 37,
     "metadata": {},
     "output_type": "execute_result"
    }
   ],
   "source": [
    "U"
   ]
  },
  {
   "cell_type": "markdown",
   "id": "3f6577eb",
   "metadata": {},
   "source": [
    "`LUdecomposition` sometimes permutes (swaps) the rows of the matrix, so it returns a third value, `perm`, which is a list of pairs, where each pair contains the indices of two rows that were swapped.\n",
    "\n",
    "In this example, `perm` is an empty list, meaning that there were no swaps.\n",
    "So we'll ignore this detail for now."
   ]
  },
  {
   "cell_type": "code",
   "execution_count": 38,
   "id": "6fb94ca5",
   "metadata": {},
   "outputs": [
    {
     "data": {
      "text/plain": [
       "[]"
      ]
     },
     "execution_count": 38,
     "metadata": {},
     "output_type": "execute_result"
    }
   ],
   "source": [
    "perm"
   ]
  },
  {
   "cell_type": "markdown",
   "id": "a8086cca",
   "metadata": {},
   "source": [
    "LU decomposition is useful because it provides an efficient way to solve a matrix equation -- and it is numerically stable, which means that it can compute the solution more precisely than multiplication by a matrix inverse.\n",
    "\n",
    "If we have $L$ and $U$ such that $L U = A$, and we want to solve $A x = b$, we can do it by rewriting the matrix equation as $L U x = b$, and substituting in $y$ for $U x$.\n",
    "Then we\n",
    "\n",
    "* Solve $L y = b$ for $y$, and\n",
    "\n",
    "* Solve $U x = y$ for $x$.\n",
    "\n",
    "Here's the first step:"
   ]
  },
  {
   "cell_type": "code",
   "execution_count": 39,
   "id": "e38b7d9f",
   "metadata": {},
   "outputs": [
    {
     "data": {
      "text/latex": [
       "$\\displaystyle \\left[\\begin{matrix}50\\\\130\\\\\\frac{40}{7}\\end{matrix}\\right]$"
      ],
      "text/plain": [
       "Matrix([\n",
       "[  50],\n",
       "[ 130],\n",
       "[40/7]])"
      ]
     },
     "execution_count": 39,
     "metadata": {},
     "output_type": "execute_result"
    }
   ],
   "source": [
    "y = L.solve(b)\n",
    "y"
   ]
  },
  {
   "cell_type": "markdown",
   "id": "19d92fef",
   "metadata": {},
   "source": [
    "And here's the second:"
   ]
  },
  {
   "cell_type": "code",
   "execution_count": 40,
   "id": "92568a78",
   "metadata": {},
   "outputs": [
    {
     "data": {
      "text/latex": [
       "$\\displaystyle \\left[\\begin{matrix}20\\\\10\\\\20\\end{matrix}\\right]$"
      ],
      "text/plain": [
       "Matrix([\n",
       "[20],\n",
       "[10],\n",
       "[20]])"
      ]
     },
     "execution_count": 40,
     "metadata": {},
     "output_type": "execute_result"
    }
   ],
   "source": [
    "x = U.solve(y)\n",
    "x"
   ]
  },
  {
   "cell_type": "markdown",
   "id": "3f4663bc",
   "metadata": {},
   "source": [
    "That result should look familiar.\n",
    "This process is efficient because the `solve` methods provided by `L` and `U` provide take advantage of their structure, so the number of row operations is minimized."
   ]
  },
  {
   "cell_type": "markdown",
   "id": "b11ae979",
   "metadata": {},
   "source": [
    "Now here's a function that computes an LU decomposition."
   ]
  },
  {
   "cell_type": "code",
   "execution_count": 41,
   "id": "0516ee24",
   "metadata": {},
   "outputs": [],
   "source": [
    "def LUdecomposition(A):\n",
    "    rows, cols = A.shape\n",
    "    U = A.copy()\n",
    "    L = sp.eye(rows)\n",
    "    \n",
    "    for i in range(rows):\n",
    "        for j in range(rows):\n",
    "            if i < j:\n",
    "                L[j, i] = row_reduce(U, i, j, i)\n",
    "\n",
    "    return L, U"
   ]
  },
  {
   "cell_type": "markdown",
   "id": "4176eb5e",
   "metadata": {},
   "source": [
    "The function starts with a copy of `A`, which we will transform into `U`, and a new identity matrix, which we will transform into `L`.\n",
    "\n",
    "The process is similar to Gauss-Jordan elimination, but we only eliminate the coefficients below the main diagonal.\n",
    "At each step, we eliminate one coefficient from `U` and store the multiplicative factors, returned from `row_reduce`, in the lower triangle of `L`.\n",
    "\n",
    "We'll test it by computing the decomposition of `A` again."
   ]
  },
  {
   "cell_type": "code",
   "execution_count": 42,
   "id": "f7f7111a",
   "metadata": {},
   "outputs": [
    {
     "data": {
      "text/latex": [
       "$\\displaystyle \\left[\\begin{matrix}1 & 0 & 0\\\\5 & 1 & 0\\\\1 & - \\frac{3}{7} & 1\\end{matrix}\\right]$"
      ],
      "text/plain": [
       "Matrix([\n",
       "[1,    0, 0],\n",
       "[5,    1, 0],\n",
       "[1, -3/7, 1]])"
      ]
     },
     "execution_count": 42,
     "metadata": {},
     "output_type": "execute_result"
    }
   ],
   "source": [
    "L, U = LUdecomposition(A)\n",
    "L"
   ]
  },
  {
   "cell_type": "code",
   "execution_count": 43,
   "id": "e154ffb0",
   "metadata": {},
   "outputs": [
    {
     "data": {
      "text/latex": [
       "$\\displaystyle \\left[\\begin{matrix}1 & 1 & 1\\\\0 & 7 & 3\\\\0 & 0 & \\frac{2}{7}\\end{matrix}\\right]$"
      ],
      "text/plain": [
       "Matrix([\n",
       "[1, 1,   1],\n",
       "[0, 7,   3],\n",
       "[0, 0, 2/7]])"
      ]
     },
     "execution_count": 43,
     "metadata": {},
     "output_type": "execute_result"
    }
   ],
   "source": [
    "U"
   ]
  },
  {
   "cell_type": "markdown",
   "id": "0d02c01f",
   "metadata": {},
   "source": [
    "Those results should look familiar.\n",
    "\n",
    "LU decomposition is the most common method for solving systems of linear equations.\n",
    "But it is inefficient to solve large systems symbolically, as we did with SymPy.\n",
    "It is more common to solve linear systems numerically."
   ]
  },
  {
   "cell_type": "markdown",
   "id": "c58479ff",
   "metadata": {},
   "source": [
    "## Numerical Solution\n",
    "\n",
    "NumPy has a `linalg` module that provides functions related to linear algebra.\n",
    "Before we can use it, we have to convert `A` and `b` from SymPy `Matrix` objects to NumPy arrays."
   ]
  },
  {
   "cell_type": "code",
   "execution_count": 44,
   "id": "050cb3b0",
   "metadata": {},
   "outputs": [
    {
     "data": {
      "text/plain": [
       "(3, 3)"
      ]
     },
     "execution_count": 44,
     "metadata": {},
     "output_type": "execute_result"
    }
   ],
   "source": [
    "A_np = np.array(A).astype(float)\n",
    "A.shape"
   ]
  },
  {
   "cell_type": "code",
   "execution_count": 45,
   "id": "c62deea2",
   "metadata": {},
   "outputs": [
    {
     "data": {
      "text/plain": [
       "(3, 1)"
      ]
     },
     "execution_count": 45,
     "metadata": {},
     "output_type": "execute_result"
    }
   ],
   "source": [
    "b_np = np.array(b).astype(float).flatten()\n",
    "b.shape"
   ]
  },
  {
   "cell_type": "markdown",
   "id": "6b233eb3",
   "metadata": {},
   "source": [
    "The NumPy function `solve` uses LU decomposition to solve matrix equations."
   ]
  },
  {
   "cell_type": "code",
   "execution_count": 46,
   "id": "285abf31",
   "metadata": {},
   "outputs": [
    {
     "data": {
      "text/plain": [
       "array([20., 10., 20.])"
      ]
     },
     "execution_count": 46,
     "metadata": {},
     "output_type": "execute_result"
    }
   ],
   "source": [
    "np.linalg.solve(A_np, b_np)"
   ]
  },
  {
   "cell_type": "markdown",
   "id": "0f5ca4c1",
   "metadata": {},
   "source": [
    "If you want to solve several equations with the same matrix, `A`, and different right hand sides, `b`, it is more efficient to compute the LU decomposition once.\n",
    "We can't do that with NumPy, but we can with SciPy.\n",
    "The function `lu` returns `L`, `U`, and the permutation matrix, `P`."
   ]
  },
  {
   "cell_type": "code",
   "execution_count": 47,
   "id": "382c0360",
   "metadata": {},
   "outputs": [],
   "source": [
    "from scipy.linalg import lu\n",
    "\n",
    "P, L, U = lu(A_np)"
   ]
  },
  {
   "cell_type": "markdown",
   "id": "1e1d834a",
   "metadata": {},
   "source": [
    "We can use `P`, `L`, and `U` to solve the equation, but it is more convenient to use the helper functions `lu_factor` and `lu_solve`."
   ]
  },
  {
   "cell_type": "code",
   "execution_count": 48,
   "id": "8aa9aa70",
   "metadata": {},
   "outputs": [
    {
     "data": {
      "text/plain": [
       "array([[ 5.   , 12.   ,  8.   ],\n",
       "       [ 0.2  , -4.4  , -1.6  ],\n",
       "       [ 0.2  ,  0.318, -0.091]])"
      ]
     },
     "execution_count": 48,
     "metadata": {},
     "output_type": "execute_result"
    }
   ],
   "source": [
    "from scipy.linalg import lu_factor, lu_solve\n",
    "\n",
    "LU, piv = lu_factor(A_np)\n",
    "LU"
   ]
  },
  {
   "cell_type": "markdown",
   "id": "81be0a96",
   "metadata": {},
   "source": [
    "`lu_factor` returns a single array that contains the non-zero elements of both `L` and `U` (omitting the diagonal of `L`, which is all ones).\n",
    "And it returns a pivot array that represents the permutation matrix in compact form."
   ]
  },
  {
   "cell_type": "code",
   "execution_count": 49,
   "id": "2730b9c0",
   "metadata": {},
   "outputs": [
    {
     "data": {
      "text/plain": [
       "array([1, 2, 2], dtype=int32)"
      ]
     },
     "execution_count": 49,
     "metadata": {},
     "output_type": "execute_result"
    }
   ],
   "source": [
    "piv"
   ]
  },
  {
   "cell_type": "markdown",
   "id": "c4282424",
   "metadata": {},
   "source": [
    "We don't need to worry too much about unpacking these structures -- we can just pass them as arguments to `lu_solve`."
   ]
  },
  {
   "cell_type": "code",
   "execution_count": 50,
   "id": "c73b7235",
   "metadata": {},
   "outputs": [
    {
     "data": {
      "text/plain": [
       "array([20., 10., 20.])"
      ]
     },
     "execution_count": 50,
     "metadata": {},
     "output_type": "execute_result"
    }
   ],
   "source": [
    "lu_solve((LU, piv), b_np)"
   ]
  },
  {
   "cell_type": "markdown",
   "id": "a18036b5",
   "metadata": {},
   "source": [
    "Both NumPy and SciPy use functions from LAPACK, an open-source library of linear algebra function written in Fortran in the late 1980s and early 1990s.\n",
    "\n",
    "At this point we have solved the same small matrix equations about ten different ways.\n",
    "Let's move on to something more interesting!"
   ]
  },
  {
   "cell_type": "markdown",
   "id": "d6f83aaf",
   "metadata": {},
   "source": [
    "## Circuit Analysis\n",
    "\n",
    "Systems of equations are useful for more than contrived word problems.\n",
    "As an example, we'll use them to analyze an electrical circuit.\n",
    "We'll use NetworkX to build a graph that represents the circuit.\n",
    "From the graph we'll generate a system of equations that represent a physical model of the circuit.\n",
    "Then we'll solve the equations.\n",
    "\n",
    "The following function makes an empty graph and initializes the variables we'll use to keep track of constants and unknowns.\n",
    "In this example, the constants are resistances and the unknowns are voltages and currents."
   ]
  },
  {
   "cell_type": "code",
   "execution_count": 51,
   "id": "c891aa5f",
   "metadata": {},
   "outputs": [],
   "source": [
    "def make_graph():\n",
    "    G = nx.DiGraph()\n",
    "    G.graph['constants'] = []\n",
    "    G.graph['unknowns'] = []\n",
    "    return G"
   ]
  },
  {
   "cell_type": "markdown",
   "id": "33f64b19",
   "metadata": {},
   "source": [
    "The following functions create SymPy symbols to represent constants and unknowns."
   ]
  },
  {
   "cell_type": "code",
   "execution_count": 52,
   "id": "95b48c63",
   "metadata": {},
   "outputs": [],
   "source": [
    "def make_constant(G, name, **kwargs):\n",
    "    symbol = sp.Symbol(name)\n",
    "    G.graph['constants'].append(symbol)\n",
    "    return symbol"
   ]
  },
  {
   "cell_type": "code",
   "execution_count": 53,
   "id": "b054f009",
   "metadata": {},
   "outputs": [],
   "source": [
    "def make_unknown(G, name, **kwargs):\n",
    "    symbol = sp.Symbol(name)\n",
    "    G.graph['unknowns'].append(symbol)\n",
    "    return symbol"
   ]
  },
  {
   "cell_type": "markdown",
   "id": "7ce8b015",
   "metadata": {},
   "source": [
    "The following function creates a graph that represents a voltage divider, a simple circuit that contains two resistors."
   ]
  },
  {
   "cell_type": "code",
   "execution_count": 54,
   "id": "7890fdd6",
   "metadata": {},
   "outputs": [],
   "source": [
    "def make_voltage_divider():\n",
    "    G = make_graph()\n",
    "    G.graph['fixed'] = ['in', 'gnd']\n",
    "    \n",
    "    G.add_edge('in', 'out', component='R', name='R1')\n",
    "    G.add_edge('out', 'gnd', component='R', name='R2')\n",
    "\n",
    "    add_symbols(G)\n",
    "    return G"
   ]
  },
  {
   "cell_type": "markdown",
   "id": "7e2d0aa6",
   "metadata": {},
   "source": [
    "The following function traverses a graph:\n",
    "\n",
    "* To every edge it adds a constant resistance and an unknown current.\n",
    "\n",
    "* To every node it adds a voltage, either constant or unknown."
   ]
  },
  {
   "cell_type": "code",
   "execution_count": 55,
   "id": "393c39c0",
   "metadata": {},
   "outputs": [],
   "source": [
    "def add_symbols(G):\n",
    "    for u, v, data in G.edges(data=True):\n",
    "        name = data['name']\n",
    "        data['resistance'] = make_constant(G, name)\n",
    "        data['current'] = make_unknown(G, f\"I_{name}\")\n",
    "\n",
    "    for node, data in G.nodes(data=True):\n",
    "        if node in G.graph['fixed']:\n",
    "            data['voltage'] = make_constant(G, f\"V_{node}\")\n",
    "        else:\n",
    "            data['voltage'] = make_unknown(G, f\"V_{node}\")"
   ]
  },
  {
   "cell_type": "markdown",
   "id": "affb5816",
   "metadata": {},
   "source": [
    "Now we'll make a graph that represents a voltage divider."
   ]
  },
  {
   "cell_type": "code",
   "execution_count": 56,
   "id": "3be8a79c",
   "metadata": {},
   "outputs": [],
   "source": [
    "G = make_voltage_divider()"
   ]
  },
  {
   "cell_type": "markdown",
   "id": "f1561997",
   "metadata": {},
   "source": [
    "`draw_circuit_graph` uses NetworkX functions to draw the circuit."
   ]
  },
  {
   "cell_type": "code",
   "execution_count": 57,
   "id": "69da4421",
   "metadata": {},
   "outputs": [
    {
     "data": {
      "image/png": "[encoded data removed]",
      "text/plain": [
       "<Figure size 337.5x112.5 with 1 Axes>"
      ]
     },
     "metadata": {},
     "output_type": "display_data"
    }
   ],
   "source": [
    "from utils import draw_circuit_graph\n",
    "\n",
    "plt.figure(figsize=(4.5, 1.5))\n",
    "draw_circuit_graph(G)"
   ]
  },
  {
   "cell_type": "markdown",
   "id": "cb7e883c",
   "metadata": {},
   "source": [
    "The node labeled `in` represents the input to the circuit, which is a known voltage.\n",
    "The node labeled `gnd` represents electrical ground, which is a known voltage usually defined to be 0.\n",
    "The node labeled `out` represents the output of the circuit, which is the unknown voltage we will compute."
   ]
  },
  {
   "cell_type": "markdown",
   "id": "53ed01c0",
   "metadata": {},
   "source": [
    "To write a system of equations, we will use two laws that model the behavior of electricity in a circuit.\n",
    "The first is Ohm's law, which states that the current through a resistor, `I`, depends on its resistance, `R`, and the difference in the voltage of the nodes it's connected to, `V1` and `V0`.\n",
    "So for each resistor in the circuit, we can write the equation `V1 - V0 = I * R`.\n",
    "\n",
    "The following function traverses the graph and returns a list of equations, one for each resistor."
   ]
  },
  {
   "cell_type": "code",
   "execution_count": 58,
   "id": "3fb5db9c",
   "metadata": {},
   "outputs": [],
   "source": [
    "def make_ohm_equations(G):\n",
    "    ohm_eqs = []\n",
    "    \n",
    "    for u, v, data in G.edges(data=True):\n",
    "        if data['component'] == 'R':\n",
    "            V1 = G.nodes[u]['voltage']\n",
    "            V0 = G.nodes[v]['voltage']\n",
    "            R = data['resistance']\n",
    "            I = data['current']\n",
    "            \n",
    "            eq = sp.Eq(V1 - V0, I * R)\n",
    "            ohm_eqs.append(eq)\n",
    "            \n",
    "    return ohm_eqs"
   ]
  },
  {
   "cell_type": "markdown",
   "id": "1a579c8f",
   "metadata": {},
   "source": [
    "Here are the equations from the circuit divider."
   ]
  },
  {
   "cell_type": "code",
   "execution_count": 59,
   "id": "2d03f95d",
   "metadata": {},
   "outputs": [],
   "source": [
    "ohm_eqs = make_ohm_equations(G)"
   ]
  },
  {
   "cell_type": "markdown",
   "id": "0773902b",
   "metadata": {},
   "source": [
    "We'll use this function to display them."
   ]
  },
  {
   "cell_type": "code",
   "execution_count": 60,
   "id": "d201f4c3",
   "metadata": {},
   "outputs": [],
   "source": [
    "from IPython.display import display\n",
    "\n",
    "def display_equations(eqs):\n",
    "    for eq in eqs:\n",
    "        display(eq)"
   ]
  },
  {
   "cell_type": "code",
   "execution_count": 61,
   "id": "ef94215f",
   "metadata": {},
   "outputs": [
    {
     "data": {
      "text/latex": [
       "$\\displaystyle V_{in} - V_{out} = I_{R1} R_{1}$"
      ],
      "text/plain": [
       "Eq(V_in - V_out, I_R1*R1)"
      ]
     },
     "metadata": {},
     "output_type": "display_data"
    },
    {
     "data": {
      "text/latex": [
       "$\\displaystyle - V_{gnd} + V_{out} = I_{R2} R_{2}$"
      ],
      "text/plain": [
       "Eq(-V_gnd + V_out, I_R2*R2)"
      ]
     },
     "metadata": {},
     "output_type": "display_data"
    }
   ],
   "source": [
    "display_equations(ohm_eqs)"
   ]
  },
  {
   "cell_type": "markdown",
   "id": "59231295",
   "metadata": {},
   "source": [
    "The second law we'll use is Kirchhoff's junction rule, which says that in any junction in a circuit -- or node in our graph -- the total current that flows in must equal the total current that flows out.\n",
    "The following function traverses the graph and returns a list of equations, one for each node."
   ]
  },
  {
   "cell_type": "code",
   "execution_count": 62,
   "id": "92d57356",
   "metadata": {},
   "outputs": [],
   "source": [
    "def make_kcl_equations(G):\n",
    "    kcl_eqs = []\n",
    "    \n",
    "    for node in G.nodes:\n",
    "        if node in G.graph['fixed']:\n",
    "            continue\n",
    "\n",
    "        expr_out = sum(data['current'] for _, _, data in G.out_edges(node, data=True))\n",
    "        expr_in = sum(data['current'] for _, _, data in G.in_edges(node, data=True))\n",
    "        eq = sp.Eq(expr_in, expr_out)\n",
    "        \n",
    "        kcl_eqs.append(eq)\n",
    "        \n",
    "    return kcl_eqs"
   ]
  },
  {
   "cell_type": "code",
   "execution_count": 63,
   "id": "1b11d097",
   "metadata": {},
   "outputs": [
    {
     "data": {
      "text/latex": [
       "$\\displaystyle I_{R1} = I_{R2}$"
      ],
      "text/plain": [
       "Eq(I_R1, I_R2)"
      ]
     },
     "metadata": {},
     "output_type": "display_data"
    }
   ],
   "source": [
    "kcl_eqs = make_kcl_equations(G)\n",
    "\n",
    "display_equations(kcl_eqs)"
   ]
  },
  {
   "cell_type": "markdown",
   "id": "d56c3199",
   "metadata": {},
   "source": [
    "We can use `linear_eq_to_matrix` to convert this system of equations to a matrix equation."
   ]
  },
  {
   "cell_type": "code",
   "execution_count": 64,
   "id": "0c95c872",
   "metadata": {},
   "outputs": [
    {
     "data": {
      "text/latex": [
       "$\\displaystyle \\left[\\begin{matrix}- R_{1} & 0 & -1\\\\0 & - R_{2} & 1\\\\1 & -1 & 0\\end{matrix}\\right]$"
      ],
      "text/plain": [
       "Matrix([\n",
       "[-R1,   0, -1],\n",
       "[  0, -R2,  1],\n",
       "[  1,  -1,  0]])"
      ]
     },
     "execution_count": 64,
     "metadata": {},
     "output_type": "execute_result"
    }
   ],
   "source": [
    "eqs = ohm_eqs + kcl_eqs\n",
    "A, b = sp.linear_eq_to_matrix(eqs, G.graph['unknowns'])\n",
    "A"
   ]
  },
  {
   "cell_type": "code",
   "execution_count": 65,
   "id": "5f0e077c",
   "metadata": {},
   "outputs": [
    {
     "data": {
      "text/latex": [
       "$\\displaystyle \\left[\\begin{matrix}- V_{in}\\\\V_{gnd}\\\\0\\end{matrix}\\right]$"
      ],
      "text/plain": [
       "Matrix([\n",
       "[-V_in],\n",
       "[V_gnd],\n",
       "[    0]])"
      ]
     },
     "execution_count": 65,
     "metadata": {},
     "output_type": "execute_result"
    }
   ],
   "source": [
    "b"
   ]
  },
  {
   "cell_type": "markdown",
   "id": "dcbb7b60",
   "metadata": {},
   "source": [
    "And we can use the solve method to solve it."
   ]
  },
  {
   "cell_type": "code",
   "execution_count": 66,
   "id": "ba980221",
   "metadata": {},
   "outputs": [],
   "source": [
    "solution_vector = A.LUsolve(b)\n",
    "solution_vector.simplify()"
   ]
  },
  {
   "cell_type": "markdown",
   "id": "f6a9869a",
   "metadata": {},
   "source": [
    "And here's the solution."
   ]
  },
  {
   "cell_type": "code",
   "execution_count": 67,
   "id": "3637bc56",
   "metadata": {},
   "outputs": [
    {
     "data": {
      "text/latex": [
       "$\\displaystyle \\left[\\begin{matrix}I_{R1}\\\\I_{R2}\\\\V_{out}\\end{matrix}\\right] = \\left[\\begin{matrix}\\frac{- V_{gnd} + V_{in}}{R_{1} + R_{2}}\\\\\\frac{- V_{gnd} + V_{in}}{R_{1} + R_{2}}\\\\\\frac{R_{1} V_{gnd} + R_{2} V_{in}}{R_{1} + R_{2}}\\end{matrix}\\right]$"
      ],
      "text/plain": [
       "Eq(Matrix([\n",
       "[ I_R1],\n",
       "[ I_R2],\n",
       "[V_out]]), Matrix([\n",
       "[     (-V_gnd + V_in)/(R1 + R2)],\n",
       "[     (-V_gnd + V_in)/(R1 + R2)],\n",
       "[(R1*V_gnd + R2*V_in)/(R1 + R2)]]))"
      ]
     },
     "execution_count": 67,
     "metadata": {},
     "output_type": "execute_result"
    }
   ],
   "source": [
    "sp.Eq(sp.Matrix(G.graph['unknowns']), solution_vector)"
   ]
  },
  {
   "cell_type": "markdown",
   "id": "50ca4cb3",
   "metadata": {},
   "source": [
    "Because we solved the system symbolically, the results are equations that relate the unknowns on the left to the known constants on the right.\n",
    "\n",
    "If we have numerical quantities for the constants, we can substitute them into the equations to get numerical results.\n",
    "For example, suppose $R_1$ and $R_2$ are 1000 and 4000 ohms, and $V_{in}$ and $V_{gnd}$ are 5 and 0 volts."
   ]
  },
  {
   "cell_type": "code",
   "execution_count": 68,
   "id": "5b2caf2f",
   "metadata": {},
   "outputs": [
    {
     "data": {
      "text/plain": [
       "{R1: 1000, R2: 4000, V_in: 5, V_gnd: 0}"
      ]
     },
     "execution_count": 68,
     "metadata": {},
     "output_type": "execute_result"
    }
   ],
   "source": [
    "subs = dict(zip(G.graph['constants'], [1000, 4000, 5, 0]))\n",
    "subs"
   ]
  },
  {
   "cell_type": "markdown",
   "id": "db01586d",
   "metadata": {},
   "source": [
    "Here are the results."
   ]
  },
  {
   "cell_type": "code",
   "execution_count": 69,
   "id": "a6c63ddf",
   "metadata": {},
   "outputs": [
    {
     "data": {
      "text/latex": [
       "$\\displaystyle \\left[\\begin{matrix}\\frac{1}{1000}\\\\\\frac{1}{1000}\\\\4\\end{matrix}\\right]$"
      ],
      "text/plain": [
       "Matrix([\n",
       "[1/1000],\n",
       "[1/1000],\n",
       "[     4]])"
      ]
     },
     "execution_count": 69,
     "metadata": {},
     "output_type": "execute_result"
    }
   ],
   "source": [
    "evaluated = solution_vector.subs(subs)\n",
    "evaluated"
   ]
  },
  {
   "cell_type": "markdown",
   "id": "5eca2a17",
   "metadata": {},
   "source": [
    "The current through both resistors is 1 milliamp, and `V_{out}` is 4 volts.\n",
    "If you have studied the analysis of circuits, you might have been able to compute these values in your head.\n",
    "So let's try something a little more challenging."
   ]
  },
  {
   "cell_type": "markdown",
   "id": "705627a4",
   "metadata": {},
   "source": [
    "## R2R Ladder\n",
    "\n",
    "The following function makes a graph that represents a circuit called an R2R ladder, which can be used as a simple digital-to-analog converter -- that is, it can convert an $N$-bit binary number to an analog voltage with `2^N` possible values.\n",
    "I'll explain that more carefully below."
   ]
  },
  {
   "cell_type": "code",
   "execution_count": 70,
   "id": "39bb4da8",
   "metadata": {},
   "outputs": [],
   "source": [
    "def make_r2r_ladder(N):\n",
    "    G = make_graph()\n",
    "    G.graph['fixed'] = [f'D{i}' for i in range(N)] + ['gnd']  \n",
    "\n",
    "    start = 'gnd'\n",
    "    for i in range(N):\n",
    "        node = f'n{i}'\n",
    "        pin = f'D{i}'\n",
    "        G.add_edge(start, node, component='R', name=f'r{i}')\n",
    "        G.add_edge(pin, node, component='R', name=f'R{i}')\n",
    "        start = node\n",
    "    \n",
    "    G['gnd']['n0']['name'] = 'R'\n",
    "    add_symbols(G)\n",
    "    return G"
   ]
  },
  {
   "cell_type": "markdown",
   "id": "4c235f3e",
   "metadata": {},
   "source": [
    "Here's a ladder with three input values."
   ]
  },
  {
   "cell_type": "code",
   "execution_count": 71,
   "id": "c3af6bd6",
   "metadata": {},
   "outputs": [],
   "source": [
    "N = 3\n",
    "G2 = make_r2r_ladder(N)"
   ]
  },
  {
   "cell_type": "markdown",
   "id": "40be2988",
   "metadata": {},
   "source": [
    "And here's a graph representation of the circuit."
   ]
  },
  {
   "cell_type": "code",
   "execution_count": 72,
   "id": "3cd78ad1",
   "metadata": {},
   "outputs": [
    {
     "data": {
      "image/png": "[encoded data removed]",
      "text/plain": [
       "<Figure size 450x262.5 with 1 Axes>"
      ]
     },
     "metadata": {},
     "output_type": "display_data"
    }
   ],
   "source": [
    "draw_circuit_graph(G2)"
   ]
  },
  {
   "cell_type": "markdown",
   "id": "6311eedb",
   "metadata": {},
   "source": [
    "`D0`, `D1`, and `D2` are digital inputs, so each one is meant to be either a \"high\" voltage like 4 volts, or a \"low\" voltage like 0 volts, and nothing in between.\n",
    "Each input represents a bit of a binary number.\n",
    "\n",
    "The output of the circuit is at `n2` -- at this node, the voltage can be one of eight values between 0 V and 4 V.\n",
    "If all three inputs are low, the output should be 0 V.\n",
    "If all three are high, the output should be close to 4 V.\n",
    "\n",
    "We will specify that the inputs and `gnd` are fixed nodes."
   ]
  },
  {
   "cell_type": "code",
   "execution_count": 73,
   "id": "fa688215",
   "metadata": {},
   "outputs": [
    {
     "data": {
      "text/plain": [
       "['D0', 'D1', 'D2', 'gnd']"
      ]
     },
     "execution_count": 73,
     "metadata": {},
     "output_type": "execute_result"
    }
   ],
   "source": [
    "G2.graph['fixed']"
   ]
  },
  {
   "cell_type": "markdown",
   "id": "cc06e95d",
   "metadata": {},
   "source": [
    "So the voltages at these nodes are constants, along with the resistance of the resistors."
   ]
  },
  {
   "cell_type": "code",
   "execution_count": 74,
   "id": "4d9d9343",
   "metadata": {},
   "outputs": [
    {
     "data": {
      "text/plain": [
       "[R, r1, R0, r2, R1, R2, V_gnd, V_D0, V_D1, V_D2]"
      ]
     },
     "execution_count": 74,
     "metadata": {},
     "output_type": "execute_result"
    }
   ],
   "source": [
    "constants = G2.graph['constants']\n",
    "constants"
   ]
  },
  {
   "cell_type": "markdown",
   "id": "096f2779",
   "metadata": {},
   "source": [
    "The unknowns are the currents through the resistors and the voltages of the nodes that are not fixed."
   ]
  },
  {
   "cell_type": "code",
   "execution_count": 75,
   "id": "2e5ff44f",
   "metadata": {},
   "outputs": [
    {
     "data": {
      "text/plain": [
       "[I_R, I_r1, I_R0, I_r2, I_R1, I_R2, V_n0, V_n1, V_n2]"
      ]
     },
     "execution_count": 75,
     "metadata": {},
     "output_type": "execute_result"
    }
   ],
   "source": [
    "unknowns = G2.graph['unknowns']\n",
    "unknowns"
   ]
  },
  {
   "cell_type": "markdown",
   "id": "13d2744e",
   "metadata": {},
   "source": [
    "With that, we can write a system of equations that relates the unknowns and the constants."
   ]
  },
  {
   "cell_type": "code",
   "execution_count": 76,
   "id": "ade0c601",
   "metadata": {},
   "outputs": [
    {
     "data": {
      "text/latex": [
       "$\\displaystyle V_{gnd} - V_{n0} = I_{R} R$"
      ],
      "text/plain": [
       "Eq(V_gnd - V_n0, I_R*R)"
      ]
     },
     "metadata": {},
     "output_type": "display_data"
    },
    {
     "data": {
      "text/latex": [
       "$\\displaystyle V_{n0} - V_{n1} = I_{r1} r_{1}$"
      ],
      "text/plain": [
       "Eq(V_n0 - V_n1, I_r1*r1)"
      ]
     },
     "metadata": {},
     "output_type": "display_data"
    },
    {
     "data": {
      "text/latex": [
       "$\\displaystyle V_{D0} - V_{n0} = I_{R0} R_{0}$"
      ],
      "text/plain": [
       "Eq(V_D0 - V_n0, I_R0*R0)"
      ]
     },
     "metadata": {},
     "output_type": "display_data"
    },
    {
     "data": {
      "text/latex": [
       "$\\displaystyle V_{n1} - V_{n2} = I_{r2} r_{2}$"
      ],
      "text/plain": [
       "Eq(V_n1 - V_n2, I_r2*r2)"
      ]
     },
     "metadata": {},
     "output_type": "display_data"
    },
    {
     "data": {
      "text/latex": [
       "$\\displaystyle V_{D1} - V_{n1} = I_{R1} R_{1}$"
      ],
      "text/plain": [
       "Eq(V_D1 - V_n1, I_R1*R1)"
      ]
     },
     "metadata": {},
     "output_type": "display_data"
    },
    {
     "data": {
      "text/latex": [
       "$\\displaystyle V_{D2} - V_{n2} = I_{R2} R_{2}$"
      ],
      "text/plain": [
       "Eq(V_D2 - V_n2, I_R2*R2)"
      ]
     },
     "metadata": {},
     "output_type": "display_data"
    },
    {
     "data": {
      "text/latex": [
       "$\\displaystyle I_{R} + I_{R0} = I_{r1}$"
      ],
      "text/plain": [
       "Eq(I_R + I_R0, I_r1)"
      ]
     },
     "metadata": {},
     "output_type": "display_data"
    },
    {
     "data": {
      "text/latex": [
       "$\\displaystyle I_{R1} + I_{r1} = I_{r2}$"
      ],
      "text/plain": [
       "Eq(I_R1 + I_r1, I_r2)"
      ]
     },
     "metadata": {},
     "output_type": "display_data"
    },
    {
     "data": {
      "text/latex": [
       "$\\displaystyle I_{R2} + I_{r2} = 0$"
      ],
      "text/plain": [
       "Eq(I_R2 + I_r2, 0)"
      ]
     },
     "metadata": {},
     "output_type": "display_data"
    }
   ],
   "source": [
    "ohm_eqs = make_ohm_equations(G2)\n",
    "kcl_eqs = make_kcl_equations(G2)\n",
    "\n",
    "for eqn in ohm_eqs:\n",
    "    display(eqn)\n",
    "\n",
    "for eqn in kcl_eqs:\n",
    "    display(eqn)"
   ]
  },
  {
   "cell_type": "markdown",
   "id": "3455ae89",
   "metadata": {},
   "source": [
    "And we can rewrite the system of equations as a matrix equation."
   ]
  },
  {
   "cell_type": "code",
   "execution_count": 77,
   "id": "7d95d529",
   "metadata": {},
   "outputs": [
    {
     "data": {
      "text/latex": [
       "$\\displaystyle \\left[\\begin{matrix}- R & 0 & 0 & 0 & 0 & 0 & -1 & 0 & 0\\\\0 & - r_{1} & 0 & 0 & 0 & 0 & 1 & -1 & 0\\\\0 & 0 & - R_{0} & 0 & 0 & 0 & -1 & 0 & 0\\\\0 & 0 & 0 & - r_{2} & 0 & 0 & 0 & 1 & -1\\\\0 & 0 & 0 & 0 & - R_{1} & 0 & 0 & -1 & 0\\\\0 & 0 & 0 & 0 & 0 & - R_{2} & 0 & 0 & -1\\\\1 & -1 & 1 & 0 & 0 & 0 & 0 & 0 & 0\\\\0 & 1 & 0 & -1 & 1 & 0 & 0 & 0 & 0\\\\0 & 0 & 0 & 1 & 0 & 1 & 0 & 0 & 0\\end{matrix}\\right]$"
      ],
      "text/plain": [
       "Matrix([\n",
       "[-R,   0,   0,   0,   0,   0, -1,  0,  0],\n",
       "[ 0, -r1,   0,   0,   0,   0,  1, -1,  0],\n",
       "[ 0,   0, -R0,   0,   0,   0, -1,  0,  0],\n",
       "[ 0,   0,   0, -r2,   0,   0,  0,  1, -1],\n",
       "[ 0,   0,   0,   0, -R1,   0,  0, -1,  0],\n",
       "[ 0,   0,   0,   0,   0, -R2,  0,  0, -1],\n",
       "[ 1,  -1,   1,   0,   0,   0,  0,  0,  0],\n",
       "[ 0,   1,   0,  -1,   1,   0,  0,  0,  0],\n",
       "[ 0,   0,   0,   1,   0,   1,  0,  0,  0]])"
      ]
     },
     "execution_count": 77,
     "metadata": {},
     "output_type": "execute_result"
    }
   ],
   "source": [
    "eqs = ohm_eqs + kcl_eqs\n",
    "A, b = sp.linear_eq_to_matrix(eqs, unknowns)\n",
    "A"
   ]
  },
  {
   "cell_type": "code",
   "execution_count": 78,
   "id": "b5a098b5",
   "metadata": {},
   "outputs": [
    {
     "data": {
      "text/latex": [
       "$\\displaystyle \\left[\\begin{matrix}- V_{gnd}\\\\0\\\\- V_{D0}\\\\0\\\\- V_{D1}\\\\- V_{D2}\\\\0\\\\0\\\\0\\end{matrix}\\right]$"
      ],
      "text/plain": [
       "Matrix([\n",
       "[-V_gnd],\n",
       "[     0],\n",
       "[ -V_D0],\n",
       "[     0],\n",
       "[ -V_D1],\n",
       "[ -V_D2],\n",
       "[     0],\n",
       "[     0],\n",
       "[     0]])"
      ]
     },
     "execution_count": 78,
     "metadata": {},
     "output_type": "execute_result"
    }
   ],
   "source": [
    "b"
   ]
  },
  {
   "cell_type": "markdown",
   "id": "3a1e29db",
   "metadata": {},
   "source": [
    "We can use the `LUsolve` method to solve the matrix equation."
   ]
  },
  {
   "cell_type": "code",
   "execution_count": 79,
   "id": "dbe89505",
   "metadata": {},
   "outputs": [],
   "source": [
    "solution_vector = A.LUsolve(b)"
   ]
  },
  {
   "cell_type": "markdown",
   "id": "0ad73075",
   "metadata": {},
   "source": [
    "The results are complicated. For example, here the expression for the output voltage at `n2`."
   ]
  },
  {
   "cell_type": "code",
   "execution_count": 80,
   "id": "d9310feb",
   "metadata": {},
   "outputs": [
    {
     "data": {
      "text/latex": [
       "$\\displaystyle \\frac{R R_{0} R_{1} V_{D2} + R R_{0} R_{2} V_{D1} + R R_{1} R_{2} V_{D0} + R_{0} R_{1} R_{2} V_{gnd} + V_{D2} r_{2} \\left(R R_{0} + \\left(R + R_{0}\\right) \\left(R_{1} + r_{1}\\right)\\right) + r_{1} \\left(R + R_{0}\\right) \\left(R_{1} V_{D2} + R_{2} V_{D1}\\right)}{R R_{0} R_{1} + R_{1} r_{1} \\left(R + R_{0}\\right) + \\left(R_{2} + r_{2}\\right) \\left(R R_{0} + \\left(R + R_{0}\\right) \\left(R_{1} + r_{1}\\right)\\right)}$"
      ],
      "text/plain": [
       "(R*R0*R1*V_D2 + R*R0*R2*V_D1 + R*R1*R2*V_D0 + R0*R1*R2*V_gnd + V_D2*r2*(R*R0 + (R + R0)*(R1 + r1)) + r1*(R + R0)*(R1*V_D2 + R2*V_D1))/(R*R0*R1 + R1*r1*(R + R0) + (R2 + r2)*(R*R0 + (R + R0)*(R1 + r1)))"
      ]
     },
     "metadata": {},
     "output_type": "display_data"
    }
   ],
   "source": [
    "V_n2 = solution_vector[-1]\n",
    "\n",
    "if N < 5:\n",
    "    display(V_n2.simplify())"
   ]
  },
  {
   "cell_type": "markdown",
   "id": "06c71791",
   "metadata": {},
   "source": [
    "In the general case where the input voltages and resistances can have any values, the results are complicated.\n",
    "But this circuit is usually constructed with only two resistances, `r` and `R`, where `R = 2r` -- hence the name R2R.\n",
    "And the input voltages are either a designated low or high value, nothing in between.\n",
    "\n",
    "The following function takes values for `r` and `R`, and low and high voltages, and returns a dictionary we'll use to replace the constants in the equations with numbers."
   ]
  },
  {
   "cell_type": "code",
   "execution_count": 81,
   "id": "70ff1d23",
   "metadata": {},
   "outputs": [],
   "source": [
    "def set_values(constants, **values):\n",
    "    subs = {}\n",
    "    for symbol in constants:\n",
    "        for key, value in values.items():\n",
    "            if symbol.name.startswith(key):\n",
    "                subs[symbol] = value\n",
    "    \n",
    "    return subs"
   ]
  },
  {
   "cell_type": "markdown",
   "id": "071bc00b",
   "metadata": {},
   "source": [
    "Here are the substitutions where `r` is 10,000 ohms, `R` is 20,000 ohms, ground is 0 V, and the high voltage is 4 V. "
   ]
  },
  {
   "cell_type": "code",
   "execution_count": 82,
   "id": "fa7a5845",
   "metadata": {},
   "outputs": [
    {
     "data": {
      "text/plain": [
       "{R: 20000,\n",
       " r1: 10000,\n",
       " R0: 20000,\n",
       " r2: 10000,\n",
       " R1: 20000,\n",
       " R2: 20000,\n",
       " V_gnd: 0,\n",
       " V_D0: 4,\n",
       " V_D1: 4,\n",
       " V_D2: 4}"
      ]
     },
     "execution_count": 82,
     "metadata": {},
     "output_type": "execute_result"
    }
   ],
   "source": [
    "subs = set_values(constants, r=10000, R=20000, V_gnd=0, V_D=4)\n",
    "subs"
   ]
  },
  {
   "cell_type": "markdown",
   "id": "947334b5",
   "metadata": {},
   "source": [
    "Here's the output voltage at `n2`."
   ]
  },
  {
   "cell_type": "code",
   "execution_count": 83,
   "id": "836aa971",
   "metadata": {},
   "outputs": [
    {
     "data": {
      "text/latex": [
       "$\\displaystyle \\frac{7}{2}$"
      ],
      "text/plain": [
       "7/2"
      ]
     },
     "execution_count": 83,
     "metadata": {},
     "output_type": "execute_result"
    }
   ],
   "source": [
    "V_n2.subs(subs)"
   ]
  },
  {
   "cell_type": "markdown",
   "id": "b6a91801",
   "metadata": {},
   "source": [
    "In general, if there are `N` inputs and all are at the high voltage, we can compute the output voltage like this."
   ]
  },
  {
   "cell_type": "code",
   "execution_count": 84,
   "id": "73a0856c",
   "metadata": {},
   "outputs": [
    {
     "data": {
      "text/plain": [
       "3.500"
      ]
     },
     "execution_count": 84,
     "metadata": {},
     "output_type": "execute_result"
    }
   ],
   "source": [
    "4 * (2**N-1) / 2**N"
   ]
  },
  {
   "cell_type": "markdown",
   "id": "70528680",
   "metadata": {},
   "source": [
    "If you go back and run this analysis again with increasing values of `N`, you should find that the output voltage gets closer to 4 V.\n",
    "Also try it with different combinations of input voltages."
   ]
  },
  {
   "cell_type": "markdown",
   "id": "742c1ee5",
   "metadata": {},
   "source": [
    "## Exercises"
   ]
  },
  {
   "cell_type": "markdown",
   "id": "65980f31",
   "metadata": {},
   "source": [
    "### Exercise\n",
    "\n",
    "If you construct the R2R ladder with larger values of `N`, you will find that it takes longer to solve and the results get complicated.\n",
    "\n",
    "Rather than analyze a circuit symbolically, and then substitute numerical values at the end, it is more efficient to substitute values into the matrix equation and solve it numerically.\n",
    "\n",
    "Substitute values into `A` and `b`, convert them to NumPy arrays, and use the NumPy solver to solve the system numerically.\n",
    "Is the solution the same, within floating-point approximation?"
   ]
  },
  {
   "cell_type": "code",
   "execution_count": 85,
   "id": "8335d749",
   "metadata": {},
   "outputs": [],
   "source": []
  },
  {
   "cell_type": "code",
   "execution_count": 86,
   "id": "f8f6cf4a",
   "metadata": {},
   "outputs": [
    {
     "data": {
      "text/plain": [
       "array([[-1.312e-04],\n",
       "       [-6.250e-05],\n",
       "       [ 6.875e-05],\n",
       "       [-2.500e-05],\n",
       "       [ 3.750e-05],\n",
       "       [ 2.500e-05],\n",
       "       [ 2.625e+00],\n",
       "       [ 3.250e+00],\n",
       "       [ 3.500e+00]])"
      ]
     },
     "execution_count": 86,
     "metadata": {},
     "output_type": "execute_result"
    }
   ],
   "source": []
  },
  {
   "cell_type": "markdown",
   "id": "09c95313",
   "metadata": {},
   "source": [
    "### Exercise\n",
    "\n",
    "A quarter bridge is a simple circuit often used with sensitive sensors like strain gauges.\n",
    "The following function makes a graph that represents this circuit."
   ]
  },
  {
   "cell_type": "markdown",
   "id": "69b1a499",
   "metadata": {
    "tags": [
     "remove-print"
    ]
   },
   "source": [
    "For more on how this works, see [Measuring Strain with Strain Gages](https://www.ni.com/en/shop/data-acquisition/sensor-fundamentals/measuring-strain-with-strain-gages.html)"
   ]
  },
  {
   "cell_type": "code",
   "execution_count": 87,
   "id": "16cbbe66",
   "metadata": {},
   "outputs": [],
   "source": [
    "def make_quarter_bridge():\n",
    "    G = make_graph()\n",
    "    G.graph['fixed'] = ['plus', 'minus']\n",
    "    \n",
    "    # One active strain gauge and three fixed resistors\n",
    "    G.add_edge('plus', 'B', component='R', name='R1')\n",
    "    G.add_edge('minus', 'B', component='R', name='R2')\n",
    "    G.add_edge('minus', 'A', component='R', name='R3')\n",
    "    G.add_edge('plus', 'A', component='R', name='R4')\n",
    "\n",
    "    add_symbols(G)\n",
    "    return G"
   ]
  },
  {
   "cell_type": "markdown",
   "id": "6df522b0",
   "metadata": {},
   "source": [
    "Here's what it looks like.\n",
    "Generally `R1`, `R2`, and `R3` are the same resistance, and `R4` is a strain gauge whose resistance varies depending on the strain (stretching or compression) of a mechanical element."
   ]
  },
  {
   "cell_type": "code",
   "execution_count": 88,
   "id": "f9118e04",
   "metadata": {},
   "outputs": [
    {
     "data": {
      "image/png": "[encoded data removed]",
      "text/plain": [
       "<Figure size 450x262.5 with 1 Axes>"
      ]
     },
     "metadata": {},
     "output_type": "display_data"
    }
   ],
   "source": [
    "G3 = make_quarter_bridge()\n",
    "pos = {\n",
    "    'plus': (0, 1),\n",
    "    'minus': (0, -1),\n",
    "    'A': (1, 0),\n",
    "    'B': (-1, 0)\n",
    "}\n",
    "draw_circuit_graph(G3, pos=pos)"
   ]
  },
  {
   "cell_type": "markdown",
   "id": "fe5081c8",
   "metadata": {},
   "source": [
    "Use `make_ohm_equations` and `make_kcl_equations` to construct equations that model this circuit.\n",
    "Then use `linear_eq_to_matrix` to convert the system of equations to a matrix equation, and the `LUsolve` method to solve it.\n",
    "\n",
    "Substitute in the values `R1=1000`, `R2=1000`, `R3=1000`, `V_plus=5`, and `V_minus=0`.\n",
    "Leave the value of `R4` as a symbolic constant.\n",
    "How does the output voltage depend on `R4`?"
   ]
  },
  {
   "cell_type": "code",
   "execution_count": 89,
   "id": "693db017",
   "metadata": {},
   "outputs": [
    {
     "data": {
      "text/plain": [
       "[I_R1, I_R4, I_R2, I_R3, V_B, V_A]"
      ]
     },
     "execution_count": 89,
     "metadata": {},
     "output_type": "execute_result"
    }
   ],
   "source": []
  },
  {
   "cell_type": "code",
   "execution_count": 90,
   "id": "c2bf9385",
   "metadata": {},
   "outputs": [],
   "source": []
  },
  {
   "cell_type": "code",
   "execution_count": 91,
   "id": "443556b9",
   "metadata": {},
   "outputs": [
    {
     "data": {
      "text/latex": [
       "$\\displaystyle \\frac{\\left(R_{1} + R_{2}\\right) \\left(R_{3} V_{plus} + R_{4} V_{minus}\\right) - \\left(R_{3} + R_{4}\\right) \\left(R_{1} V_{minus} + R_{2} V_{plus}\\right)}{\\left(R_{1} + R_{2}\\right) \\left(R_{3} + R_{4}\\right)}$"
      ],
      "text/plain": [
       "((R1 + R2)*(R3*V_plus + R4*V_minus) - (R3 + R4)*(R1*V_minus + R2*V_plus))/((R1 + R2)*(R3 + R4))"
      ]
     },
     "execution_count": 91,
     "metadata": {},
     "output_type": "execute_result"
    }
   ],
   "source": []
  },
  {
   "cell_type": "code",
   "execution_count": 92,
   "id": "132d2efb",
   "metadata": {},
   "outputs": [
    {
     "data": {
      "text/latex": [
       "$\\displaystyle \\frac{5 \\left(1000 - R_{4}\\right)}{2 \\left(R_{4} + 1000\\right)}$"
      ],
      "text/plain": [
       "5*(1000 - R4)/(2*(R4 + 1000))"
      ]
     },
     "execution_count": 92,
     "metadata": {},
     "output_type": "execute_result"
    }
   ],
   "source": []
  },
  {
   "cell_type": "code",
   "execution_count": 96,
   "id": "21291009",
   "metadata": {},
   "outputs": [
    {
     "data": {
      "image/png": "[encoded data removed]",
      "text/plain": [
       "<Figure size 450x262.5 with 1 Axes>"
      ]
     },
     "metadata": {},
     "output_type": "display_data"
    }
   ],
   "source": []
  },
  {
   "cell_type": "markdown",
   "id": "e27da3a4",
   "metadata": {
    "tags": [
     "remove-print"
    ]
   },
   "source": [
    "[Think Linear Algebra](https://allendowney.github.io/ThinkLinearAlgebra/index.html)\n",
    "\n",
    "Copyright 2025 [Allen B. Downey](https://allendowney.com)\n",
    "\n",
    "Code license: [MIT License](https://mit-license.org/)\n",
    "\n",
    "Text license: [Creative Commons Attribution-NonCommercial-ShareAlike 4.0 International](https://creativecommons.org/licenses/by-nc-sa/4.0/)"
   ]
  }
 ],
 "metadata": {
  "celltoolbar": "Tags",
  "kernelspec": {
   "display_name": "Python 3 (ipykernel)",
   "language": "python",
   "name": "python3"
  },
  "language_info": {
   "codemirror_mode": {
    "name": "ipython",
    "version": 3
   },
   "file_extension": ".py",
   "mimetype": "text/x-python",
   "name": "python",
   "nbconvert_exporter": "python",
   "pygments_lexer": "ipython3",
   "version": "3.10.16"
  }
 },
 "nbformat": 4,
 "nbformat_minor": 5
}
