{
 "cells": [
  {
   "cell_type": "markdown",
   "id": "025b76df",
   "metadata": {},
   "source": [
    "*Think Linear Algebra* is not for sale yet, but if you would like to support this project, you can [buy me a coffee](https://buymeacoffee.com/allendowney)."
   ]
  },
  {
   "cell_type": "markdown",
   "id": "e03709d8",
   "metadata": {},
   "source": [
    "# Truss in the System\n",
    "\n",
    "In this chapter, we'll use systems of linear equations to analyze trusses.\n",
    "\n",
    "A **truss** is an assembly of bars connected by joints, usually designed to support a load. Many bridges and roofs are supported by trusses, and if you've ever participated in a model bridge competition, the structure you built was probably a truss.\n",
    "\n",
    "This picture shows a **Warren truss**, the basis of many railroad bridge designs:\n",
    "\n",
    "<img width=\"400\" src=\"https://upload.wikimedia.org/wikipedia/commons/thumb/2/2b/VIEW_OF_BRIDGE_FROM_SOUTH_WITH_ONCOMING_CSX_LOCOMOTIVE_ON_TRACKS_BELOW%2C_LOOKING_NORTHEAST_-_Wills_Creek_Bollman_Bridge%2C_Spanning_CSX_tracks_at_T381%2C_Meyersdale%2C_Somerset_County%2C_HAER_PA%2C56-MEYER.V%2C2-2.tif/lossy-page1-800px-thumbnail.tif.jpg\">\n",
    "\n",
    "This structure is made of three connected triangles with horizontal bars across the top.\n",
    "It's supported by anchor points at each end, and it carries a deck that supports a roadway.\n",
    "The load on the truss includes the weight of the roadway, any vehicles on it, and the weight of the truss itself."
   ]
  },
  {
   "cell_type": "markdown",
   "id": "a629e20c",
   "metadata": {},
   "source": [
    "To model a structure like this, we'll make some simplifying assumptions:\n",
    "\n",
    "- We'll treat the structure as two-dimensional, analyzing only one side of the truss.\n",
    "\n",
    "- We'll assume the joints behave like hinge pins that connect bars at their ends but allow them to rotate freely.\n",
    "\n",
    "- We'll assume the load is applied only at the joints, not along the length of the bars.\n",
    "\n",
    "- We'll treat each bar as a spring that pushes or pulls in response to stretching or compression, with force that depends on its size and material.\n",
    "\n",
    "- We'll assume that the stretching and compression are small enough that the geometry of the truss is unchanged.\n",
    "\n",
    "These assumptions aren't fully realistic, but they're reasonable approximations.\n",
    "And they make it easier to analyze the structure -- that is, for a given load, we can compute how much each bar stretches or compresses, and how much force it exerts in response.\n",
    "\n",
    "The goal is to find an **equilibrium**, where the external forces applied to the truss are balanced by internal spring forces in the bars.\n",
    "\n",
    "To do this analysis, we'll use **projection matrices**, which we saw in Section XXX, and we'll introduce **block matrices**, which are matrices that contain vectors or submatrices as elements."
   ]
  },
  {
   "cell_type": "markdown",
   "id": "3893fe82",
   "metadata": {
    "tags": [
     "remove-print"
    ]
   },
   "source": [
    "[Click here to run this notebook on Colab](https://colab.research.google.com/github/AllenDowney/ThinkLinearAlgebra/blob/main/chapters/truss.ipynb)."
   ]
  },
  {
   "cell_type": "code",
   "execution_count": 1,
   "id": "351a9381",
   "metadata": {},
   "outputs": [],
   "source": [
    "# temporary hack to make autoreload work on Colab\n",
    "import importlib, sys\n",
    "sys.modules[\"imp\"] = importlib\n",
    "\n",
    "%load_ext autoreload\n",
    "%autoreload 2"
   ]
  },
  {
   "cell_type": "code",
   "execution_count": 2,
   "id": "02d400cf",
   "metadata": {
    "tags": [
     "remove-print",
     "hide-cell"
    ]
   },
   "outputs": [],
   "source": [
    "from os.path import basename, exists\n",
    "\n",
    "\n",
    "def download(url):\n",
    "    filename = basename(url)\n",
    "    if not exists(filename):\n",
    "        from urllib.request import urlretrieve\n",
    "\n",
    "        local, _ = urlretrieve(url, filename)\n",
    "        print(\"Downloaded \" + local)\n",
    "\n",
    "\n",
    "download(\"https://github.com/AllenDowney/ThinkLinearAlgebra/raw/main/utils.py\")"
   ]
  },
  {
   "cell_type": "code",
   "execution_count": 3,
   "id": "1a3119be",
   "metadata": {
    "tags": [
     "hide-cell",
     "remove-print"
    ]
   },
   "outputs": [],
   "source": [
    "import networkx as nx\n",
    "import numpy as np\n",
    "import pandas as pd\n",
    "import matplotlib.pyplot as plt\n",
    "import sympy as sp\n",
    "\n",
    "from utils import decorate, gset, gget"
   ]
  },
  {
   "cell_type": "markdown",
   "id": "c5fd3418",
   "metadata": {},
   "source": [
    "## The Simplest Truss\n",
    "\n",
    "We'll start with a truss that contains two bars, connected at a single joint and supported at two points.\n",
    "\n",
    "To represent the locations of the joint and the support points, we'll use vectors we'll call `A`, `B`, and `C`.\n",
    "And to represent the vectors, we'll use a SymPy `Matrix`.\n",
    "The following function takes two coordinates and returns a symbolic vector."
   ]
  },
  {
   "cell_type": "code",
   "execution_count": 4,
   "id": "409d2371",
   "metadata": {},
   "outputs": [],
   "source": [
    "def sp_vector(x, y):\n",
    "    return sp.Matrix([x, y])"
   ]
  },
  {
   "cell_type": "markdown",
   "id": "0f248ceb",
   "metadata": {},
   "source": [
    "Here are the positions of the nodes, using the symbol `L` to represent the length of the bars."
   ]
  },
  {
   "cell_type": "code",
   "execution_count": 5,
   "id": "b3d54df0",
   "metadata": {},
   "outputs": [],
   "source": [
    "L = sp.symbols('L', positive=True)\n",
    "\n",
    "pos_A = sp_vector(-L, -L)\n",
    "pos_B = sp_vector(L, -L)   \n",
    "pos_C = sp_vector(0, 0)"
   ]
  },
  {
   "cell_type": "markdown",
   "id": "2f69dd82",
   "metadata": {},
   "source": [
    "The following diagram shows the configuration of this truss."
   ]
  },
  {
   "cell_type": "code",
   "execution_count": 6,
   "id": "ae479464",
   "metadata": {},
   "outputs": [
    {
     "data": {
      "image/png": "[encoded data removed]",
      "text/plain": [
       "<Figure size 450x262.5 with 1 Axes>"
      ]
     },
     "metadata": {},
     "output_type": "display_data"
    }
   ],
   "source": [
    "from utils import diagram_truss\n",
    "\n",
    "subs = {L: 0.15}\n",
    "nodes = pos_A, pos_B, pos_C\n",
    "diagram_truss(nodes, subs, lim=0.2)"
   ]
  },
  {
   "cell_type": "markdown",
   "id": "0608bcbf",
   "metadata": {},
   "source": [
    "One bar connects `A` and `C` and the other connects `B` and `C`.\n",
    "The triangles represent anchors holding the `A` and `B` in place.\n",
    "The circle represents a pin joint that can move under load.\n",
    "\n",
    "To start the analysis of this truss, we'll define symbols to represent the displacement of `C` from its starting position due to force applied to it.\n",
    "These are the unknowns we will solve for."
   ]
  },
  {
   "cell_type": "code",
   "execution_count": 7,
   "id": "f36fced2",
   "metadata": {},
   "outputs": [],
   "source": [
    "u_x, u_y = sp.symbols('u_x u_y')"
   ]
  },
  {
   "cell_type": "markdown",
   "id": "d716326d",
   "metadata": {},
   "source": [
    "We'll put these symbols in a column vector that represents the displacement of `C`."
   ]
  },
  {
   "cell_type": "code",
   "execution_count": 8,
   "id": "2724ec07",
   "metadata": {},
   "outputs": [
    {
     "data": {
      "text/latex": [
       "$\\displaystyle \\left[\\begin{matrix}u_{x}\\\\u_{y}\\end{matrix}\\right]$"
      ],
      "text/plain": [
       "Matrix([\n",
       "[u_x],\n",
       "[u_y]])"
      ]
     },
     "execution_count": 8,
     "metadata": {},
     "output_type": "execute_result"
    }
   ],
   "source": [
    "u_C = sp_vector(u_x, u_y)\n",
    "u_C"
   ]
  },
  {
   "cell_type": "markdown",
   "id": "3f2bb485",
   "metadata": {},
   "source": [
    "Most materials, when they are compressed or stretched by a small amount, are well modeled as a linear spring, where the reaction force is proportional to the size of the displacement.\n",
    "So we can write $f = k |u|$, where $f$ is the reaction force, $|u|$ is the size of the displacement, and $k$ is the **spring constant**.\n",
    "\n",
    "For a bar under compression or tension, we can compute $k$ as a function of the size of the bar and its material properties.\n",
    "Specifically:\n",
    "\n",
    "$k = \\frac{A E}{L}$ \n",
    "\n",
    "where $L$ is the length of the bar, $A$ is the cross-sectional area, and `E` is Young's modulus, a constant that quantifies the stiffness of a material -- that is, its ability to push back when compressed or stretched.\n",
    "\n",
    "The following symbols represent `A` and `E`.\n",
    "We'll fill in values for these parameters later."
   ]
  },
  {
   "cell_type": "code",
   "execution_count": 9,
   "id": "4d77cdac",
   "metadata": {},
   "outputs": [],
   "source": [
    "A, E = sp.symbols('A E', positive=True)"
   ]
  },
  {
   "cell_type": "markdown",
   "id": "247cf627",
   "metadata": {},
   "source": [
    "Now we can compute the spring constant of the two bars.\n",
    "To make the analysis more interesting, let's suppose the bar `CB` is twice as thick as `CA`, so it has twice the cross-sectional area."
   ]
  },
  {
   "cell_type": "code",
   "execution_count": 10,
   "id": "8c7eaa48",
   "metadata": {},
   "outputs": [],
   "source": [
    "k_CA = A * E / L\n",
    "k_CB = 2 * A * E / L"
   ]
  },
  {
   "cell_type": "markdown",
   "id": "054a05cb",
   "metadata": {},
   "source": [
    "Next we'll compute the spring forces in the truss due to a known displacement."
   ]
  },
  {
   "cell_type": "markdown",
   "id": "a5c63f27",
   "metadata": {},
   "source": [
    "## Internal Force\n",
    "\n",
    "Soon we will find the displacement of the truss under a given load.\n",
    "But first let's suppose, temporarily, that we are given the displacement, `u`.\n",
    "\n",
    "To compute the spring forces in the bars we have to figure out what part of the displacement, `u`, is along the axis of each bar.\n",
    "First we'll compute vectors that represent the offset of A and B, relative to C."
   ]
  },
  {
   "cell_type": "code",
   "execution_count": 11,
   "id": "62954adb",
   "metadata": {},
   "outputs": [],
   "source": [
    "r_CA = pos_A - pos_C\n",
    "r_CB = pos_B - pos_C"
   ]
  },
  {
   "cell_type": "markdown",
   "id": "2a32f3c1",
   "metadata": {},
   "source": [
    "Next we'll compute the vector projection of `u` onto `r_CA` and `r_CB`, as shown in this diagram."
   ]
  },
  {
   "cell_type": "code",
   "execution_count": 12,
   "id": "4150c92d",
   "metadata": {},
   "outputs": [
    {
     "data": {
      "image/png": "[encoded data removed]",
      "text/plain": [
       "<Figure size 450x262.5 with 1 Axes>"
      ]
     },
     "metadata": {},
     "output_type": "display_data"
    }
   ],
   "source": [
    "u = sp_vector(2, -8) * 1e-6\n",
    "scale = 2e4\n",
    "diagram_truss(nodes, subs, u*scale, lim=0.2, add_pin=False, add_labels=False)"
   ]
  },
  {
   "cell_type": "markdown",
   "id": "6e3c8dc2",
   "metadata": {},
   "source": [
    "$u_{CA}$ is the component of the displacement in the direction of $r_{CA}$, and\n",
    "$u_{CB}$ is the component of the displacement in the direction of $r_{CB}$.\n",
    "\n",
    "To compute these vector projections, we'll use this function, which:\n",
    "\n",
    "1. Computes the unit vector in the direction of `r`, called `r_hat`,\n",
    "\n",
    "2. Computes `r_hat.T * u`, which is the scalar magnitude of `u` in the direction of `r_hat`, and\n",
    "\n",
    "3. Multiplies the result by `r_hat`.\n",
    "\n",
    "The result is a vector that represents the component of `u` in the direction of `r`. "
   ]
  },
  {
   "cell_type": "code",
   "execution_count": 13,
   "id": "cec758fe",
   "metadata": {},
   "outputs": [],
   "source": [
    "def vector_projection(u, r):\n",
    "    r_hat = r.normalized()\n",
    "    scalar_projection = r_hat.T * u\n",
    "    return r_hat * scalar_projection"
   ]
  },
  {
   "cell_type": "markdown",
   "id": "0fdbed46",
   "metadata": {},
   "source": [
    "Now, instead of a known displacement, `u`, suppose we have the unknown displacement `u_C`.\n",
    "For any value of `u_C`, we can find the spring forces in the bars by computing the vector projections of the displacement onto the axis of the bars, and multiplying by the spring constants."
   ]
  },
  {
   "cell_type": "code",
   "execution_count": 14,
   "id": "b4db5e88",
   "metadata": {},
   "outputs": [],
   "source": [
    "f_CA = -k_CA * vector_projection(u_C, r_CA)\n",
    "f_CB = -k_CB * vector_projection(u_C, r_CB)"
   ]
  },
  {
   "cell_type": "markdown",
   "id": "41898fd9",
   "metadata": {},
   "source": [
    "Here's one of the results, `f_CA`, with the constants factored out.\n",
    "We'll use `factor_matrix` throughout this chapter to make matrices easier to read by pulling out common factors."
   ]
  },
  {
   "cell_type": "code",
   "execution_count": 15,
   "id": "5a267508",
   "metadata": {},
   "outputs": [
    {
     "data": {
      "text/latex": [
       "$\\displaystyle - \\frac{A E}{2 L} \\left[\\begin{matrix}u_{x} + u_{y}\\\\u_{x} + u_{y}\\end{matrix}\\right]$"
      ],
      "text/plain": [
       "(-A*E/(2*L))*Matrix([\n",
       "[u_x + u_y],\n",
       "[u_x + u_y]])"
      ]
     },
     "execution_count": 15,
     "metadata": {},
     "output_type": "execute_result"
    }
   ],
   "source": [
    "from utils import factor_matrix\n",
    "\n",
    "factor = -A * E / L / 2\n",
    "factor_matrix(f_CA, factor)"
   ]
  },
  {
   "cell_type": "markdown",
   "id": "6ce244bb",
   "metadata": {},
   "source": [
    "`f_CA` is a column vector that represents the reaction force of bar `CA` if `C` is displaced by `u_C`; similarly `f_CB` represents the reaction force of bar `CB`.\n",
    "\n",
    "The total force at `C` due to this displacement, which we'll call the **internal force**, is the sum of the reaction forces."
   ]
  },
  {
   "cell_type": "code",
   "execution_count": 16,
   "id": "bc8eb8c1",
   "metadata": {},
   "outputs": [],
   "source": [
    "f_int = f_CA + f_CB"
   ]
  },
  {
   "cell_type": "markdown",
   "id": "a5916030",
   "metadata": {},
   "source": [
    "Now let's find the displacement of the truss under load."
   ]
  },
  {
   "cell_type": "markdown",
   "id": "11b08f31",
   "metadata": {},
   "source": [
    "## Equilibrium\n",
    "\n",
    "Suppose we apply a force at `C` that pulls down in the `y` direction, with no additional force in the `x` direction.\n",
    "We can represent this **external force** with the following vector, where the `F` represents the magnitude of the force."
   ]
  },
  {
   "cell_type": "code",
   "execution_count": 17,
   "id": "3287dcca",
   "metadata": {},
   "outputs": [],
   "source": [
    "F = sp.symbols('F')\n",
    "f_ext = sp_vector(0, -F)"
   ]
  },
  {
   "cell_type": "markdown",
   "id": "82ad4709",
   "metadata": {},
   "source": [
    "If the truss is not moving, the internal and external forces must add up to zero, so we can write the equation $f_{int} = -f_{ext}$."
   ]
  },
  {
   "cell_type": "code",
   "execution_count": 18,
   "id": "5d6617d1",
   "metadata": {},
   "outputs": [],
   "source": [
    "eq = sp.Eq(f_int, -f_ext)"
   ]
  },
  {
   "cell_type": "markdown",
   "id": "4988ab05",
   "metadata": {},
   "source": [
    "Which we can display concisely like this."
   ]
  },
  {
   "cell_type": "code",
   "execution_count": 19,
   "id": "9096ccbc",
   "metadata": {},
   "outputs": [
    {
     "data": {
      "text/latex": [
       "$\\displaystyle - \\frac{A E}{2 L} \\left[\\begin{matrix}3 u_{x} - u_{y}\\\\- u_{x} + 3 u_{y}\\end{matrix}\\right] = \\left[\\begin{matrix}0\\\\F\\end{matrix}\\right]$"
      ],
      "text/plain": [
       "Eq((-A*E/(2*L))*Matrix([\n",
       "[ 3*u_x - u_y],\n",
       "[-u_x + 3*u_y]]), Matrix([\n",
       "[0],\n",
       "[F]]))"
      ]
     },
     "execution_count": 19,
     "metadata": {},
     "output_type": "execute_result"
    }
   ],
   "source": [
    "sp.Eq(factor_matrix(f_int, factor), -f_ext)"
   ]
  },
  {
   "cell_type": "markdown",
   "id": "29e466cf",
   "metadata": {},
   "source": [
    "To analyze the truss, we want to find the displacement `u_C` that solves this equation.\n",
    "First, let's plug in values for the symbols, assuming that the truss is made of wooden popsicle sticks.\n",
    "\n",
    "A common popsicle stick is about 15 cm long, 1 cm wide, and 0.2 cm thick.\n",
    "The Young's modulus of wood is about 3 gigapascal.\n",
    "Let's suppose the external force is the weight of a one kilogram mass, which is roughly 9.8 N.\n",
    "We'll use the `pint` library to represent these quantities, including their units."
   ]
  },
  {
   "cell_type": "code",
   "execution_count": 20,
   "id": "f8f9bcb9",
   "metadata": {},
   "outputs": [],
   "source": [
    "import pint\n",
    "ureg = pint.UnitRegistry()\n",
    "\n",
    "params = {\n",
    "    L: 15.0 * ureg.cm,\n",
    "    E: 3.0e9 * ureg.Pa,\n",
    "    A: 1.0 * ureg.cm * 0.2 * ureg.cm,\n",
    "    F: 9.8 * ureg.newton,\n",
    "}"
   ]
  },
  {
   "cell_type": "markdown",
   "id": "ec172150",
   "metadata": {},
   "source": [
    "To substitute these values into the equation, we'll use this function, which makes a dictionary that maps from symbols to their values, converted to base units.\n",
    "For example, `L` in centimeters gets converted to meters, and `A` to square meters."
   ]
  },
  {
   "cell_type": "code",
   "execution_count": 21,
   "id": "12888d18",
   "metadata": {},
   "outputs": [],
   "source": [
    "def make_subs(params):\n",
    "    \"\"\"Make a dictionary that maps from symbols to quantities.\"\"\"\n",
    "    return {symbol: param.to_base_units().magnitude \n",
    "            for symbol, param in params.items()}"
   ]
  },
  {
   "cell_type": "markdown",
   "id": "f85d63b4",
   "metadata": {},
   "source": [
    "Here are the results in SI units."
   ]
  },
  {
   "cell_type": "code",
   "execution_count": 22,
   "id": "3fd14930",
   "metadata": {},
   "outputs": [
    {
     "data": {
      "text/plain": [
       "{L: 0.15, E: 3000000000.0, A: 2e-05, F: 9.8}"
      ]
     },
     "execution_count": 22,
     "metadata": {},
     "output_type": "execute_result"
    }
   ],
   "source": [
    "subs = make_subs(params)\n",
    "subs"
   ]
  },
  {
   "cell_type": "markdown",
   "id": "7f64250a",
   "metadata": {},
   "source": [
    "Now we'll use the `subs` method to replace the symbols in the equation with these numbers."
   ]
  },
  {
   "cell_type": "code",
   "execution_count": 23,
   "id": "1006f69c",
   "metadata": {},
   "outputs": [
    {
     "data": {
      "text/latex": [
       "$\\displaystyle \\left[\\begin{matrix}0\\\\9.8\\end{matrix}\\right] = \\left[\\begin{matrix}- 600000.0 u_{x} + 200000.0 u_{y}\\\\200000.0 u_{x} - 600000.0 u_{y}\\end{matrix}\\right]$"
      ],
      "text/plain": [
       "Eq(Matrix([\n",
       "[  0],\n",
       "[9.8]]), Matrix([\n",
       "[-600000.0*u_x + 200000.0*u_y],\n",
       "[ 200000.0*u_x - 600000.0*u_y]]))"
      ]
     },
     "execution_count": 23,
     "metadata": {},
     "output_type": "execute_result"
    }
   ],
   "source": [
    "eq_num = eq.subs(subs).simplify()\n",
    "eq_num"
   ]
  },
  {
   "cell_type": "markdown",
   "id": "9e3c393a",
   "metadata": {},
   "source": [
    "And `solve` to find the value of `u_C`."
   ]
  },
  {
   "cell_type": "code",
   "execution_count": 24,
   "id": "354f1d41",
   "metadata": {},
   "outputs": [
    {
     "data": {
      "text/plain": [
       "{u_x: -6.12500000000000e-6, u_y: -1.83750000000000e-5}"
      ]
     },
     "execution_count": 24,
     "metadata": {},
     "output_type": "execute_result"
    }
   ],
   "source": [
    "sol = sp.solve(eq_num, u_C)\n",
    "sol"
   ]
  },
  {
   "cell_type": "markdown",
   "id": "906d7fd2",
   "metadata": {},
   "source": [
    "The result is a dictionary that maps from the unknown components to their values.\n",
    "To put these values in a vector, we can use `subs` again, and display the result in micrometers."
   ]
  },
  {
   "cell_type": "code",
   "execution_count": 25,
   "id": "284c0c01",
   "metadata": {},
   "outputs": [
    {
     "data": {
      "text/latex": [
       "$\\displaystyle \\left[\\begin{matrix}u_{x}\\\\u_{y}\\end{matrix}\\right] = \\left[\\begin{matrix}-6.125\\\\-18.375\\end{matrix}\\right]$"
      ],
      "text/plain": [
       "Eq(Matrix([\n",
       "[u_x],\n",
       "[u_y]]), Matrix([\n",
       "[ -6.125],\n",
       "[-18.375]]))"
      ]
     },
     "execution_count": 25,
     "metadata": {},
     "output_type": "execute_result"
    }
   ],
   "source": [
    "u_sol = u_C.subs(sol)\n",
    "sp.Eq(u_C, u_sol * 1e6)"
   ]
  },
  {
   "cell_type": "markdown",
   "id": "592f0f4c",
   "metadata": {},
   "source": [
    "So if we hang a 1 kg mass from a truss like this made of popsicle sticks, we expect `C` to be displaced by about 6 micrometers left and 18 micrometers down.\n",
    "\n",
    "To see whether this result is plausible, let's compare it with the result from a simpler configuration.\n",
    "If we balance a 1 kg mass on top of a vertical popsicle stick, and hold the bottom fixed, we can compute the displacement like this."
   ]
  },
  {
   "cell_type": "code",
   "execution_count": 26,
   "id": "c81b0f8f",
   "metadata": {},
   "outputs": [
    {
     "data": {
      "text/latex": [
       "$\\displaystyle 24.5$"
      ],
      "text/plain": [
       "24.5000000000000"
      ]
     },
     "execution_count": 26,
     "metadata": {},
     "output_type": "execute_result"
    }
   ],
   "source": [
    "displacement = F * L / A / E\n",
    "displacement.subs(subs) * 1e6"
   ]
  },
  {
   "cell_type": "markdown",
   "id": "a5659145",
   "metadata": {},
   "source": [
    "The displacement we calculated for the simple truss is a little smaller than the displacement we expect from a single popsicle stick, so the results of the analysis seem plausible.\n",
    "\n",
    "The simple truss is made of three popsicle sticks (remember that we doubled the thickness of `CB`), so we might expect it to be three times stiffer.\n",
    "But the bars are diagonal, so only part of the displacement is along the axis of each bar, and only part of the reaction force is in the vertical direction.\n",
    "\n",
    "Before we leave this example, let's also remember that our model of the truss is based on the assumption that the displacements are small enough that the bars are not deformed or broken.\n",
    "With a 1 kilogram mass, the displacements we computed are much smaller than the lengths of the bars, so that assumption seems reasonable.\n",
    "\n",
    "In contrast, suppose we use the same method to compute the displacement due to a 1000 kg mass.\n",
    "The result would be about 0.6 cm left and 1.8 cm down.\n",
    "If you are familiar with popsicle sticks, you probably have a sense that it is not possible to stretch or compress one by more than a centimeter without breaking it.\n",
    "So the model we used to analyze this truss would not be realistic for such a large external force."
   ]
  },
  {
   "cell_type": "code",
   "execution_count": 27,
   "id": "ade4ec2e",
   "metadata": {
    "tags": [
     "remove-cell"
    ]
   },
   "outputs": [
    {
     "data": {
      "text/latex": [
       "$\\displaystyle 1.89736659610103$"
      ],
      "text/plain": [
       "1.89736659610103"
      ]
     },
     "execution_count": 27,
     "metadata": {},
     "output_type": "execute_result"
    }
   ],
   "source": [
    "sp.Matrix([0.6, 1.8]).norm()"
   ]
  },
  {
   "cell_type": "markdown",
   "id": "f0dfb5e7",
   "metadata": {},
   "source": [
    "We're almost ready to take on a more complex truss, but first we need a new tool, the stiffness matrix."
   ]
  },
  {
   "cell_type": "markdown",
   "id": "ff8f50f1",
   "metadata": {},
   "source": [
    "## The Stiffness Matrix\n",
    "\n",
    "In the previous section, we wrote this equation with internal force on the left and external force on the right:"
   ]
  },
  {
   "cell_type": "code",
   "execution_count": 28,
   "id": "6a384f75",
   "metadata": {},
   "outputs": [
    {
     "data": {
      "text/latex": [
       "$\\displaystyle - \\frac{A E}{2 L} \\left[\\begin{matrix}3 u_{x} - u_{y}\\\\- u_{x} + 3 u_{y}\\end{matrix}\\right] = \\left[\\begin{matrix}0\\\\F\\end{matrix}\\right]$"
      ],
      "text/plain": [
       "Eq((-A*E/(2*L))*Matrix([\n",
       "[ 3*u_x - u_y],\n",
       "[-u_x + 3*u_y]]), Matrix([\n",
       "[0],\n",
       "[F]]))"
      ]
     },
     "execution_count": 28,
     "metadata": {},
     "output_type": "execute_result"
    }
   ],
   "source": [
    "sp.Eq(factor_matrix(f_int, factor), -f_ext)"
   ]
  },
  {
   "cell_type": "markdown",
   "id": "090af1d5",
   "metadata": {},
   "source": [
    "That was sufficient to analyze the simple truss, but for more complex trusses, we need a more general method.\n",
    "Specifically, we'll write a matrix equation $K u = f$, where $u$ is the vector of unknown displacements, $f$ is the vector of external forces, and $K$ is the **stiffness matrix** that represents the relationship between the displacements and the reaction forces.\n",
    "\n",
    "As an example, we'll rewrite the equation from the previous section in this form.\n",
    "To start, let's rethink the scalar projection.\n",
    "\n",
    "$$\\mathrm{proj}_{r} u = \\hat{r}\\, \\hat{r}^T u$$\n",
    "\n",
    "In `vector_projection`, we computed the scalar projection $\\hat{r}^T u$ first, to get the magnitude of the projection of $u$ in the direction of $r$, and then multiplied by $\\hat{r}$.\n",
    "In other words, we evaluated the vector projection like this:\n",
    "\n",
    "$$\\mathrm{proj}_{r} u = \\hat{r}\\, (\\hat{r}^T u)$$\n",
    "\n",
    "As an alternative, we could have multiplied $\\hat{r}$ and $\\hat{r}^T$ first, like this:\n",
    "\n",
    "$$\\mathrm{proj}_{r} u = (\\hat{r}\\, \\hat{r}^T) u$$\n",
    "\n",
    "The product $\\hat{r}\\, \\hat{r}^T$ is a **projector matrix**, which we can compute like this."
   ]
  },
  {
   "cell_type": "code",
   "execution_count": 29,
   "id": "ca06180b",
   "metadata": {},
   "outputs": [],
   "source": [
    "def projector(r):\n",
    "    rhat = r.normalized()\n",
    "    return rhat * rhat.T"
   ]
  },
  {
   "cell_type": "markdown",
   "id": "582e51bc",
   "metadata": {},
   "source": [
    "As an example, here's the projector matrix for the vector `r_CA`."
   ]
  },
  {
   "cell_type": "code",
   "execution_count": 30,
   "id": "ed3e6778",
   "metadata": {},
   "outputs": [
    {
     "data": {
      "text/latex": [
       "$\\displaystyle \\left[\\begin{matrix}\\frac{1}{2} & \\frac{1}{2}\\\\\\frac{1}{2} & \\frac{1}{2}\\end{matrix}\\right]$"
      ],
      "text/plain": [
       "Matrix([\n",
       "[1/2, 1/2],\n",
       "[1/2, 1/2]])"
      ]
     },
     "execution_count": 30,
     "metadata": {},
     "output_type": "execute_result"
    }
   ],
   "source": [
    "P_CA = projector(r_CA)\n",
    "P_CA"
   ]
  },
  {
   "cell_type": "markdown",
   "id": "e6f88910",
   "metadata": {},
   "source": [
    "Now if we multiply `P_CA` and `u_C`, the result is the vector projection of `u_C` onto `r_CA`."
   ]
  },
  {
   "cell_type": "code",
   "execution_count": 31,
   "id": "ff125cd8",
   "metadata": {},
   "outputs": [
    {
     "data": {
      "text/latex": [
       "$\\displaystyle \\left[\\begin{matrix}\\frac{u_{x}}{2} + \\frac{u_{y}}{2}\\\\\\frac{u_{x}}{2} + \\frac{u_{y}}{2}\\end{matrix}\\right]$"
      ],
      "text/plain": [
       "Matrix([\n",
       "[u_x/2 + u_y/2],\n",
       "[u_x/2 + u_y/2]])"
      ]
     },
     "execution_count": 31,
     "metadata": {},
     "output_type": "execute_result"
    }
   ],
   "source": [
    "P_CA * u_C"
   ]
  },
  {
   "cell_type": "markdown",
   "id": "d4ee0f17",
   "metadata": {},
   "source": [
    "If we multiply a projector matrix by the spring constant `k`, the result is a the stiffness matrix.\n",
    "So `k_CA * P_CA` is the stiffness matrix due to bar `CA`, and `k_CB * P_CB` is the stiffness matrix due to bar `CB`.\n",
    "Their sum is the stiffness matrix for the whole truss, which we'll call `K`."
   ]
  },
  {
   "cell_type": "code",
   "execution_count": 32,
   "id": "5be912b0",
   "metadata": {},
   "outputs": [
    {
     "data": {
      "text/latex": [
       "$\\displaystyle \\frac{A E}{2 L} \\left[\\begin{matrix}3 & -1\\\\-1 & 3\\end{matrix}\\right]$"
      ],
      "text/plain": [
       "(A*E/(2*L))*Matrix([\n",
       "[ 3, -1],\n",
       "[-1,  3]])"
      ]
     },
     "execution_count": 32,
     "metadata": {},
     "output_type": "execute_result"
    }
   ],
   "source": [
    "P_CB = projector(r_CB)\n",
    "\n",
    "K = k_CA * P_CA + k_CB * P_CB\n",
    "factor_matrix(K, A * E / L / 2)"
   ]
  },
  {
   "cell_type": "markdown",
   "id": "0a798217",
   "metadata": {},
   "source": [
    "If we multiply `K` by a displacement vector, the result is a force vector that represents the internal force due to that displacement.\n",
    "So we can interpret the stiffness matrix by testing it with small displacements.\n",
    "First we'll use `subs` to replace the symbols in `K` with numbers."
   ]
  },
  {
   "cell_type": "code",
   "execution_count": 33,
   "id": "cb835d01",
   "metadata": {},
   "outputs": [
    {
     "data": {
      "text/plain": [
       "array([[ 600000., -200000.],\n",
       "       [-200000.,  600000.]])"
      ]
     },
     "execution_count": 33,
     "metadata": {},
     "output_type": "execute_result"
    }
   ],
   "source": [
    "from utils import sympy_to_numpy\n",
    "\n",
    "K_np = sympy_to_numpy(K, subs)\n",
    "K_np"
   ]
  },
  {
   "cell_type": "markdown",
   "id": "0411623b",
   "metadata": {},
   "source": [
    "Here's an example where we displace node `C` by one micrometer in the `x` direction."
   ]
  },
  {
   "cell_type": "code",
   "execution_count": 34,
   "id": "0050b96f",
   "metadata": {},
   "outputs": [
    {
     "data": {
      "text/plain": [
       "array([-0.6,  0.2])"
      ]
     },
     "execution_count": 34,
     "metadata": {},
     "output_type": "execute_result"
    }
   ],
   "source": [
    "u_example1 = np.array([1, 0]) * 1e-6\n",
    "f_example1 = -K_np @ u_example1\n",
    "f_example1"
   ]
  },
  {
   "cell_type": "markdown",
   "id": "a62766eb",
   "metadata": {},
   "source": [
    "The restoring force is 0.6 N in the negative `x` direction and 0.2 N in the positive `y` direction.\n",
    "And here's an example where we displace `C` by one micrometer in the `y` direction."
   ]
  },
  {
   "cell_type": "code",
   "execution_count": 35,
   "id": "64bd18c0",
   "metadata": {},
   "outputs": [
    {
     "data": {
      "text/plain": [
       "array([ 0.2, -0.6])"
      ]
     },
     "execution_count": 35,
     "metadata": {},
     "output_type": "execute_result"
    }
   ],
   "source": [
    "u_example2 = np.array([0, 1]) * 1e-6\n",
    "f_example2 = -K_np @ u_example2\n",
    "f_example2"
   ]
  },
  {
   "cell_type": "markdown",
   "id": "d53fdb96",
   "metadata": {},
   "source": [
    "The restoring force is about 0.2 N in the positive `x` direction and 0.6 N in the negative `y` direction.\n",
    "\n",
    "More generally, we can use `K` to compute the force that results from any displacement.\n",
    "To demonstrate, we'll make an array of 9 values from -20 to 20 micrometers."
   ]
  },
  {
   "cell_type": "code",
   "execution_count": 36,
   "id": "3cc79fc3",
   "metadata": {},
   "outputs": [],
   "source": [
    "scale = 1e-6\n",
    "bound = 20\n",
    "displacements = np.linspace(-bound, bound, 9) * scale"
   ]
  },
  {
   "cell_type": "markdown",
   "id": "1d3b1848",
   "metadata": {},
   "source": [
    "By enumerating all pairs of values, we can make an array of 81 displacement vectors."
   ]
  },
  {
   "cell_type": "code",
   "execution_count": 37,
   "id": "db005ca6",
   "metadata": {},
   "outputs": [
    {
     "data": {
      "text/plain": [
       "(2, 81)"
      ]
     },
     "execution_count": 37,
     "metadata": {},
     "output_type": "execute_result"
    }
   ],
   "source": [
    "pairs = [(x, y) for x in displacements for y in displacements]\n",
    "U = np.array(pairs).T \n",
    "U.shape"
   ]
  },
  {
   "cell_type": "markdown",
   "id": "cd3dd1e5",
   "metadata": {},
   "source": [
    "`U` is matrix-like in the sense that it has two dimensions, but we are using it as a collection of vectors, not a matrix.\n",
    "If we multiply by the stiffness matrix, the result is a collection of force vectors."
   ]
  },
  {
   "cell_type": "code",
   "execution_count": 38,
   "id": "00db88fd",
   "metadata": {},
   "outputs": [
    {
     "data": {
      "text/plain": [
       "(2, 81)"
      ]
     },
     "execution_count": 38,
     "metadata": {},
     "output_type": "execute_result"
    }
   ],
   "source": [
    "F_field = -K_np @ U\n",
    "F_field.shape"
   ]
  },
  {
   "cell_type": "markdown",
   "id": "99e86f47",
   "metadata": {},
   "source": [
    "The following figure shows these results.\n",
    "The location of each arrow shows a hypothetical displacement.\n",
    "Each arrow shows the direction and relative magnitude of the resulting force due to displacement.\n",
    "Note that the positions and forces are not in the same units, so the scale of the arrows is arbitrary."
   ]
  },
  {
   "cell_type": "code",
   "execution_count": 39,
   "id": "b75bc84b",
   "metadata": {},
   "outputs": [
    {
     "data": {
      "image/png": "[encoded data removed]",
      "text/plain": [
       "<Figure size 450x262.5 with 1 Axes>"
      ]
     },
     "metadata": {},
     "output_type": "display_data"
    }
   ],
   "source": [
    "from utils import plot_force_field\n",
    "    \n",
    "ticks = np.arange(-20, 21, 5)\n",
    "lim = scale * (bound + 2)\n",
    "plot_force_field(nodes, subs, F_field, U, lim, displacements, ticks)"
   ]
  },
  {
   "cell_type": "markdown",
   "id": "1cb42258",
   "metadata": {},
   "source": [
    "Notice that the restoring forces are bigger in the upper left and lower right, which correspond to extension and compression of the thicker bar.\n",
    "\n",
    "In summary, multiplication by `K` is like a function that takes a displacement vector and returns a corresponding force vector.\n",
    "A function that maps vectors to other vectors is sometimes called a **vector field**.\n",
    "And when those vectors represent forces, we call it a **force field**.\n",
    "\n",
    "Finally, let's confirm that we get the same result using NumPy to solve $K u = f$.\n",
    "First we'll convert the external force vector to an array."
   ]
  },
  {
   "cell_type": "code",
   "execution_count": 40,
   "id": "028a9e86",
   "metadata": {
    "scrolled": true
   },
   "outputs": [
    {
     "data": {
      "text/plain": [
       "array([ 0. , -9.8])"
      ]
     },
     "execution_count": 40,
     "metadata": {},
     "output_type": "execute_result"
    }
   ],
   "source": [
    "f_ext_np = sympy_to_numpy(f_ext, subs)\n",
    "f_ext_np"
   ]
  },
  {
   "cell_type": "markdown",
   "id": "35dc7863",
   "metadata": {},
   "source": [
    "And here's the solution."
   ]
  },
  {
   "cell_type": "code",
   "execution_count": 41,
   "id": "bf196d70",
   "metadata": {},
   "outputs": [
    {
     "data": {
      "text/plain": [
       "array([ -6.125, -18.375])"
      ]
     },
     "execution_count": 41,
     "metadata": {},
     "output_type": "execute_result"
    }
   ],
   "source": [
    "import scipy\n",
    "\n",
    "scipy.linalg.solve(K_np, f_ext_np) * 1e6"
   ]
  },
  {
   "cell_type": "markdown",
   "id": "5a5261d4",
   "metadata": {},
   "source": [
    "That's the same as the result we got before we factored out the stiffness matrix.\n",
    "\n",
    "The key idea of this example is the use of the projector matrix to construct the stiffness matrix.\n",
    "We'll use this idea again in the next example."
   ]
  },
  {
   "cell_type": "markdown",
   "id": "44c4d4d4",
   "metadata": {},
   "source": [
    "## Warren Trusses\n",
    "\n",
    "So far we've been working with a simple truss with two bars and only one joint that can move, so we wrote a vector equation with only two components.\n",
    "Now let's try something a little harder -- we'll analyze a Warren truss.\n",
    "We'll use NetworkX to represent the joints and bars as nodes and edges; then we'll construct a matrix equation that relates the displacements at the joints to the external forces.\n",
    "\n",
    "To specify the configuration of the truss, we'll define `N`, which is the number of triangles, `L`, which is the length of the bars, and `H`, which is the height of the triangles.\n",
    "If the bars are all the same length, the triangles are equilateral, so $H = \\frac{\\sqrt{3} L}{2}$."
   ]
  },
  {
   "cell_type": "code",
   "execution_count": 42,
   "id": "169ba4ec",
   "metadata": {},
   "outputs": [],
   "source": [
    "N = 2\n",
    "L = sp.Symbol('L', positive=True)\n",
    "H = sp.sqrt(3) * L / 2"
   ]
  },
  {
   "cell_type": "markdown",
   "id": "10a4ec98",
   "metadata": {},
   "source": [
    "Now let's make the graph.\n",
    "To understand the next few blocks of code, you might find it helpful to look ahead to the diagram that shows the results."
   ]
  },
  {
   "cell_type": "code",
   "execution_count": 43,
   "id": "c75e597b",
   "metadata": {},
   "outputs": [],
   "source": [
    "G = nx.Graph()"
   ]
  },
  {
   "cell_type": "markdown",
   "id": "9324d13c",
   "metadata": {},
   "source": [
    "First we'll create the nodes that run along the bottom of the truss and the edges that connect them."
   ]
  },
  {
   "cell_type": "code",
   "execution_count": 44,
   "id": "cd17b4bc",
   "metadata": {},
   "outputs": [],
   "source": [
    "origin = sp_vector(0, 0)\n",
    "\n",
    "for i in range(N + 1):\n",
    "    pos = origin + sp_vector(i * L, 0)\n",
    "    G.add_node(f'B{i}', pos=pos)\n",
    "    if i > 0:\n",
    "        G.add_edge(f'B{i-1}', f'B{i}')"
   ]
  },
  {
   "cell_type": "markdown",
   "id": "24c85945",
   "metadata": {},
   "source": [
    "The bottom nodes are assigned positions based on `L`, and labeled with strings like `B0`, `B1`, etc.\n",
    "\n",
    "Now we'll add the nodes that run along the top, the horizontal edges that connect them, and the diagonal edges that connect the top and bottom nodes."
   ]
  },
  {
   "cell_type": "code",
   "execution_count": 45,
   "id": "d6342299",
   "metadata": {},
   "outputs": [],
   "source": [
    "for i in range(N):\n",
    "    pos = origin + sp_vector((i + sp.Rational(1, 2)) * L, H)\n",
    "    G.add_node(f'T{i}', pos=pos)\n",
    "    G.add_edge(f'B{i}', f'T{i}')\n",
    "    G.add_edge(f'T{i}', f'B{i+1}')\n",
    "\n",
    "    if i > 0:\n",
    "        G.add_edge(f'T{i-1}', f'T{i}')"
   ]
  },
  {
   "cell_type": "markdown",
   "id": "d8ea584b",
   "metadata": {},
   "source": [
    "The top nodes are assigned positions based on `L` and `H`, and labeled `T0`, `T1`, etc.\n",
    "Here's what the graph looks like."
   ]
  },
  {
   "cell_type": "code",
   "execution_count": 46,
   "id": "17cb8ed9",
   "metadata": {},
   "outputs": [
    {
     "data": {
      "image/png": "[encoded data removed]",
      "text/plain": [
       "<Figure size 450x262.5 with 1 Axes>"
      ]
     },
     "metadata": {},
     "output_type": "display_data"
    }
   ],
   "source": [
    "from utils import draw_truss_graph\n",
    "\n",
    "draw_truss_graph(G, {L: 0.15})"
   ]
  },
  {
   "cell_type": "markdown",
   "id": "68c8d389",
   "metadata": {},
   "source": [
    "For reasons we'll see later, it will be convenient if every node has a unique index starting from `0`.\n",
    "So we'll loop through the nodes and use `gset` to assign each node an index."
   ]
  },
  {
   "cell_type": "code",
   "execution_count": 47,
   "id": "3a6f94a8",
   "metadata": {},
   "outputs": [],
   "source": [
    "for index, node in enumerate(G.nodes):\n",
    "    gset(G, node, index=index)"
   ]
  },
  {
   "cell_type": "markdown",
   "id": "420f32ed",
   "metadata": {},
   "source": [
    "Next we'll loop through the nodes and assign a displacement vector to each one."
   ]
  },
  {
   "cell_type": "code",
   "execution_count": 48,
   "id": "10c97a98",
   "metadata": {},
   "outputs": [],
   "source": [
    "for node in G.nodes():\n",
    "    ux, uy = sp.symbols(f'u_{node}_x u_{node}_y')    \n",
    "    disp = sp_vector(ux, uy)\n",
    "    gset(G, node, disp=disp)"
   ]
  },
  {
   "cell_type": "markdown",
   "id": "75b80231",
   "metadata": {},
   "source": [
    "For this example, we'll assume that the roadway is attached to the bottom nodes.\n",
    "To keep things simple, we'll ignore the weight of the truss itself and assume that the load is attached to a single node, `B1`.\n",
    "The following loop creates a force vector for each node in the truss and assigns it to an attribute called `f_ext`."
   ]
  },
  {
   "cell_type": "code",
   "execution_count": 49,
   "id": "a91f1534",
   "metadata": {},
   "outputs": [],
   "source": [
    "F = sp.Symbol('F')\n",
    "weighted = ['B1']\n",
    "\n",
    "for node in G.nodes:\n",
    "    if node in weighted:\n",
    "        gset(G, node, f_ext=sp_vector(0, -F))\n",
    "    else:\n",
    "        gset(G, node, f_ext=sp_vector(0, 0))"
   ]
  },
  {
   "cell_type": "markdown",
   "id": "18aa000a",
   "metadata": {},
   "source": [
    "Finally, for each bar, we'll compute a projector matrix that represents the projection of a displacement vector along the axis of the bar."
   ]
  },
  {
   "cell_type": "code",
   "execution_count": 50,
   "id": "2444c157",
   "metadata": {},
   "outputs": [],
   "source": [
    "for edge in G.edges:\n",
    "    node1, node2 = edge\n",
    "    x1 = G.nodes[node1]['pos']\n",
    "    x2 = G.nodes[node2]['pos']\n",
    "    r = x2 - x1\n",
    "    P = projector(r)\n",
    "    gset(G, edge, P=P)"
   ]
  },
  {
   "cell_type": "markdown",
   "id": "f40c8684",
   "metadata": {},
   "source": [
    "To keep this example simple, we'll assume that every bar has the same cross-sectional area and Young's modulus -- but it would be easy to generalize by adding these attributes to the edges."
   ]
  },
  {
   "cell_type": "markdown",
   "id": "01dcf5ea",
   "metadata": {},
   "source": [
    "## Block Matrix Equation\n",
    "\n",
    "At this point we have a NetworkX graph that represents the bars and joints of the truss.\n",
    "The next step is to write a matrix equation to relate the unknown displacements to the internal and external forces.\n",
    "To do that, we will construct a **block matrix** which is a way to represent a system of equations where the unknowns are vectors.\n",
    "\n",
    "To show the structure of the problem, we'll construct with a vector of displacements, where each displacement is itself a vector."
   ]
  },
  {
   "cell_type": "code",
   "execution_count": 51,
   "id": "a949e272",
   "metadata": {},
   "outputs": [],
   "source": [
    "blocks = [sp.MatrixSymbol(f'u_{{{node}}}', 2, 1) for node in G.nodes]\n",
    "u_block = sp.BlockMatrix([[u] for u in blocks])"
   ]
  },
  {
   "cell_type": "markdown",
   "id": "f0753b59",
   "metadata": {},
   "source": [
    "And another vector that represents the external forces on the nodes."
   ]
  },
  {
   "cell_type": "code",
   "execution_count": 52,
   "id": "19bd88b7",
   "metadata": {},
   "outputs": [],
   "source": [
    "blocks = [sp.MatrixSymbol(f'f_{{{node}}}', 2, 1) for node in G.nodes]\n",
    "f_block = sp.BlockMatrix([[f] for f in blocks])"
   ]
  },
  {
   "cell_type": "markdown",
   "id": "773abc7f",
   "metadata": {},
   "source": [
    "Now we'll create a block matrix where each element is a stiffness matrix -- the element $K_{ij}$ represents the stiffness at node $i$ due to its connection to node $j$."
   ]
  },
  {
   "cell_type": "code",
   "execution_count": 53,
   "id": "4a5e2932",
   "metadata": {},
   "outputs": [],
   "source": [
    "n = len(G.nodes)\n",
    "blocks = [[sp.MatrixSymbol(f'K_{i}{j}', 2, 2) \n",
    "           for j in range(n)] \n",
    "           for i in range(n)]\n",
    "K_block = sp.BlockMatrix(blocks)"
   ]
  },
  {
   "cell_type": "markdown",
   "id": "9c157e37",
   "metadata": {},
   "source": [
    "Here's the equation that relates these matrices."
   ]
  },
  {
   "cell_type": "code",
   "execution_count": 54,
   "id": "7ef250be",
   "metadata": {},
   "outputs": [
    {
     "data": {
      "text/latex": [
       "$\\displaystyle \\left[\\begin{matrix}K_{00} & K_{01} & K_{02} & K_{03} & K_{04}\\\\K_{10} & K_{11} & K_{12} & K_{13} & K_{14}\\\\K_{20} & K_{21} & K_{22} & K_{23} & K_{24}\\\\K_{30} & K_{31} & K_{32} & K_{33} & K_{34}\\\\K_{40} & K_{41} & K_{42} & K_{43} & K_{44}\\end{matrix}\\right] \\left[\\begin{matrix}u_{B0}\\\\u_{B1}\\\\u_{B2}\\\\u_{T0}\\\\u_{T1}\\end{matrix}\\right] = \\left[\\begin{matrix}f_{B0}\\\\f_{B1}\\\\f_{B2}\\\\f_{T0}\\\\f_{T1}\\end{matrix}\\right]$"
      ],
      "text/plain": [
       "Eq(Matrix([\n",
       "[K_00, K_01, K_02, K_03, K_04],\n",
       "[K_10, K_11, K_12, K_13, K_14],\n",
       "[K_20, K_21, K_22, K_23, K_24],\n",
       "[K_30, K_31, K_32, K_33, K_34],\n",
       "[K_40, K_41, K_42, K_43, K_44]])*Matrix([\n",
       "[u_{B0}],\n",
       "[u_{B1}],\n",
       "[u_{B2}],\n",
       "[u_{T0}],\n",
       "[u_{T1}]]), Matrix([\n",
       "[f_{B0}],\n",
       "[f_{B1}],\n",
       "[f_{B2}],\n",
       "[f_{T0}],\n",
       "[f_{T1}]]))"
      ]
     },
     "execution_count": 54,
     "metadata": {},
     "output_type": "execute_result"
    }
   ],
   "source": [
    "equation = sp.Eq(K_block * u_block, f_block)\n",
    "equation"
   ]
  },
  {
   "cell_type": "markdown",
   "id": "a61402ef",
   "metadata": {},
   "source": [
    "Let's think about what each element of the stiffness matrix means.\n",
    "Each row represents an equation that computes the sum of the internal forces on one node, given the displacements of all of the nodes.\n",
    "And each column represents the contribution of one displacement to the internal forces on all of the nodes.\n",
    "\n",
    "Now let's think about how to compute the elements of $K$.\n",
    "As an example, consider the bar between `B0` and `T0`, which have indices 0 and 3.\n",
    "The stiffness matrix of that bar contributes to four elements of $K$:\n",
    "\n",
    "* In row 0, it contributes to $K_{00}$ and $K_{03}$, because the internal force on node 0 depends on the difference of displacements $u_{B0}$ and $u_{T0}$.\n",
    "\n",
    "* In row 3, it contributes to $K_{30}$ and $K_{33}$, because the internal force on node 3 depends on the same difference of displacements.\n",
    "\n",
    "In the next section, we'll assemble $K$ by looping through the edges and adding up the contributions from the stiffness matrix of each bar."
   ]
  },
  {
   "cell_type": "markdown",
   "id": "417c0ee3",
   "metadata": {},
   "source": [
    "## Compute the Block Matrix\n",
    "\n",
    "To construct the block matrix, we'll loop through the edges and compute a matrix that represents the stiffness of each node due to the other nodes it is connected to.\n",
    "We'll start by working through a single example, the edge from `B0` to `T0`.\n",
    "We can use `gget` to get the projector matrix for this edge."
   ]
  },
  {
   "cell_type": "code",
   "execution_count": 55,
   "id": "57099968",
   "metadata": {},
   "outputs": [
    {
     "data": {
      "text/latex": [
       "$\\displaystyle \\left[\\begin{matrix}\\frac{1}{4} & \\frac{\\sqrt{3}}{4}\\\\\\frac{\\sqrt{3}}{4} & \\frac{3}{4}\\end{matrix}\\right]$"
      ],
      "text/plain": [
       "Matrix([\n",
       "[      1/4, sqrt(3)/4],\n",
       "[sqrt(3)/4,       3/4]])"
      ]
     },
     "execution_count": 55,
     "metadata": {},
     "output_type": "execute_result"
    }
   ],
   "source": [
    "edge = 'B0', 'T0'\n",
    "P = gget(G, edge, \"P\")\n",
    "P"
   ]
  },
  {
   "cell_type": "markdown",
   "id": "d41e2b48",
   "metadata": {},
   "source": [
    "So we can compute the stiffness matrix for a single bar like this:"
   ]
  },
  {
   "cell_type": "code",
   "execution_count": 56,
   "id": "29cbc109",
   "metadata": {},
   "outputs": [
    {
     "data": {
      "text/latex": [
       "$\\displaystyle \\frac{A E}{4 L} \\left[\\begin{matrix}-1 & - \\sqrt{3}\\\\- \\sqrt{3} & -3\\end{matrix}\\right]$"
      ],
      "text/plain": [
       "(A*E/(4*L))*Matrix([\n",
       "[      -1, -sqrt(3)],\n",
       "[-sqrt(3),       -3]])"
      ]
     },
     "execution_count": 56,
     "metadata": {},
     "output_type": "execute_result"
    }
   ],
   "source": [
    "k = A * E / L\n",
    "kP = -k * P\n",
    "factor_matrix(kP, k/4)"
   ]
  },
  {
   "cell_type": "markdown",
   "id": "730b0c7c",
   "metadata": {},
   "source": [
    "Next we'll get the displacements of the nodes."
   ]
  },
  {
   "cell_type": "code",
   "execution_count": 57,
   "id": "971c1eb5",
   "metadata": {},
   "outputs": [],
   "source": [
    "node1, node2 = edge\n",
    "u1 = gget(G, node1, \"disp\")\n",
    "u2 = gget(G, node2, \"disp\")"
   ]
  },
  {
   "cell_type": "markdown",
   "id": "af90ab95",
   "metadata": {},
   "source": [
    "If both ends of the bar are displaced, the total extension or compression is the difference between the displacements, `u1 - u2`.\n",
    "\n",
    "Now we're ready to assemble the block matrix.\n",
    "We'll start with a list of lists, where each element is a stiffness matrix full of zeroes.\n",
    "As we loop through the edges, we'll add to these matrices."
   ]
  },
  {
   "cell_type": "code",
   "execution_count": 58,
   "id": "e0abd513",
   "metadata": {},
   "outputs": [],
   "source": [
    "blocks = [[sp.Matrix.zeros(2, 2) for _ in range(n)] for _ in range(n)]"
   ]
  },
  {
   "cell_type": "markdown",
   "id": "9127fb3b",
   "metadata": {},
   "source": [
    "Now here's the key to the whole operation.\n",
    "If `kP` is the stiffness matrix of the bar that connects `u1` and `u2`, the internal force in that bar is `kP * (u1 - u2)`, which we can factor as `kP * u1` and `-kP * u2`.\n",
    "\n",
    "Now let's figure out how to add `kP` to the block matrix.\n",
    "Remember that each row of the block matrix represents an equation that computes the total internal force on that node.\n",
    "And each column represents the contribution of one displacement to each of the nodes.\n",
    "\n",
    "So each edge contributes to two rows in the matrix, one for each node it connects.\n",
    "And it contributes to two columns, because it depends on the difference between two displacements.\n",
    "\n",
    "To break this down, we'll use the following function, which takes two nodes and a stiffness matrix, `kP`.\n",
    "It uses `gget` to look up the indices of the nodes.\n",
    "Then it modifies two blocks in the row corresponding to `u1`: it adds `kP` to the column corresponding to `u1` and subtracts `kP` from the column corresponding to `u2`.\n",
    "These changes represent the stiffness at `node1` because it is connected to `node2`."
   ]
  },
  {
   "cell_type": "code",
   "execution_count": 59,
   "id": "7ff8db5a",
   "metadata": {},
   "outputs": [],
   "source": [
    "def add_block(node1, node2, kP):\n",
    "    i = gget(G, node1, 'index')\n",
    "    j = gget(G, node2, 'index')\n",
    "    \n",
    "    blocks[i][i] +=  kP\n",
    "    blocks[i][j] += -kP"
   ]
  },
  {
   "cell_type": "markdown",
   "id": "2e7aba4f",
   "metadata": {},
   "source": [
    "Now for each edge in the graph, we call `add_block` twice, once to add the stiffness at `node1` because it is connected to `node2`, and once to add the stiffness at `node2` because it is connected with `node1`."
   ]
  },
  {
   "cell_type": "code",
   "execution_count": 60,
   "id": "a4e078a3",
   "metadata": {},
   "outputs": [],
   "source": [
    "for edge in G.edges:\n",
    "    node1, node2 = edge\n",
    "    P = gget(G, edge, \"P\")\n",
    "\n",
    "    add_block(node1, node2, k * P)\n",
    "    add_block(node2, node1, k * P)"
   ]
  },
  {
   "cell_type": "markdown",
   "id": "8db2c163",
   "metadata": {},
   "source": [
    "The result is a list of lists of matrices, each a sum of stiffness matrices.\n",
    "\n",
    "Finally, we can use the list of lists to make a `BlockMatrix`.\n",
    "Here's the result, shown with the common factor $k/4$ pulled out."
   ]
  },
  {
   "cell_type": "code",
   "execution_count": 61,
   "id": "7ce4ee17",
   "metadata": {},
   "outputs": [
    {
     "data": {
      "text/latex": [
       "$\\displaystyle \\frac{A E}{4 L} \\left[\\begin{matrix}\\left[\\begin{matrix}5 & \\sqrt{3}\\\\\\sqrt{3} & 3\\end{matrix}\\right] & \\left[\\begin{matrix}-4 & 0\\\\0 & 0\\end{matrix}\\right] & \\left[\\begin{matrix}0 & 0\\\\0 & 0\\end{matrix}\\right] & \\left[\\begin{matrix}-1 & - \\sqrt{3}\\\\- \\sqrt{3} & -3\\end{matrix}\\right] & \\left[\\begin{matrix}0 & 0\\\\0 & 0\\end{matrix}\\right]\\\\\\left[\\begin{matrix}-4 & 0\\\\0 & 0\\end{matrix}\\right] & \\left[\\begin{matrix}10 & 0\\\\0 & 6\\end{matrix}\\right] & \\left[\\begin{matrix}-4 & 0\\\\0 & 0\\end{matrix}\\right] & \\left[\\begin{matrix}-1 & \\sqrt{3}\\\\\\sqrt{3} & -3\\end{matrix}\\right] & \\left[\\begin{matrix}-1 & - \\sqrt{3}\\\\- \\sqrt{3} & -3\\end{matrix}\\right]\\\\\\left[\\begin{matrix}0 & 0\\\\0 & 0\\end{matrix}\\right] & \\left[\\begin{matrix}-4 & 0\\\\0 & 0\\end{matrix}\\right] & \\left[\\begin{matrix}5 & - \\sqrt{3}\\\\- \\sqrt{3} & 3\\end{matrix}\\right] & \\left[\\begin{matrix}0 & 0\\\\0 & 0\\end{matrix}\\right] & \\left[\\begin{matrix}-1 & \\sqrt{3}\\\\\\sqrt{3} & -3\\end{matrix}\\right]\\\\\\left[\\begin{matrix}-1 & - \\sqrt{3}\\\\- \\sqrt{3} & -3\\end{matrix}\\right] & \\left[\\begin{matrix}-1 & \\sqrt{3}\\\\\\sqrt{3} & -3\\end{matrix}\\right] & \\left[\\begin{matrix}0 & 0\\\\0 & 0\\end{matrix}\\right] & \\left[\\begin{matrix}6 & 0\\\\0 & 6\\end{matrix}\\right] & \\left[\\begin{matrix}-4 & 0\\\\0 & 0\\end{matrix}\\right]\\\\\\left[\\begin{matrix}0 & 0\\\\0 & 0\\end{matrix}\\right] & \\left[\\begin{matrix}-1 & - \\sqrt{3}\\\\- \\sqrt{3} & -3\\end{matrix}\\right] & \\left[\\begin{matrix}-1 & \\sqrt{3}\\\\\\sqrt{3} & -3\\end{matrix}\\right] & \\left[\\begin{matrix}-4 & 0\\\\0 & 0\\end{matrix}\\right] & \\left[\\begin{matrix}6 & 0\\\\0 & 6\\end{matrix}\\right]\\end{matrix}\\right]$"
      ],
      "text/plain": [
       "(A*E/(4*L))*Matrix([\n",
       "[    Matrix([\n",
       "[      5, sqrt(3)],\n",
       "[sqrt(3),       3]]),                           Matrix([\n",
       "[-4, 0],\n",
       "[ 0, 0]]),                             Matrix([\n",
       "[0, 0],\n",
       "[0, 0]]), Matrix([\n",
       "[      -1, -sqrt(3)],\n",
       "[-sqrt(3),       -3]]),                             Matrix([\n",
       "[0, 0],\n",
       "[0, 0]])],\n",
       "[                          Matrix([\n",
       "[-4, 0],\n",
       "[ 0, 0]]),                           Matrix([\n",
       "[10, 0],\n",
       "[ 0, 6]]),                           Matrix([\n",
       "[-4, 0],\n",
       "[ 0, 0]]),     Matrix([\n",
       "[     -1, sqrt(3)],\n",
       "[sqrt(3),      -3]]), Matrix([\n",
       "[      -1, -sqrt(3)],\n",
       "[-sqrt(3),       -3]])],\n",
       "[                            Matrix([\n",
       "[0, 0],\n",
       "[0, 0]]),                           Matrix([\n",
       "[-4, 0],\n",
       "[ 0, 0]]), Matrix([\n",
       "[       5, -sqrt(3)],\n",
       "[-sqrt(3),        3]]),                             Matrix([\n",
       "[0, 0],\n",
       "[0, 0]]),     Matrix([\n",
       "[     -1, sqrt(3)],\n",
       "[sqrt(3),      -3]])],\n",
       "[Matrix([\n",
       "[      -1, -sqrt(3)],\n",
       "[-sqrt(3),       -3]]),     Matrix([\n",
       "[     -1, sqrt(3)],\n",
       "[sqrt(3),      -3]]),                             Matrix([\n",
       "[0, 0],\n",
       "[0, 0]]),                             Matrix([\n",
       "[6, 0],\n",
       "[0, 6]]),                           Matrix([\n",
       "[-4, 0],\n",
       "[ 0, 0]])],\n",
       "[                            Matrix([\n",
       "[0, 0],\n",
       "[0, 0]]), Matrix([\n",
       "[      -1, -sqrt(3)],\n",
       "[-sqrt(3),       -3]]),     Matrix([\n",
       "[     -1, sqrt(3)],\n",
       "[sqrt(3),      -3]]),                           Matrix([\n",
       "[-4, 0],\n",
       "[ 0, 0]]),                             Matrix([\n",
       "[6, 0],\n",
       "[0, 6]])]])"
      ]
     },
     "execution_count": 61,
     "metadata": {},
     "output_type": "execute_result"
    }
   ],
   "source": [
    "K_block = sp.BlockMatrix(blocks)\n",
    "factor_matrix(K_block, factor=k/4)"
   ]
  },
  {
   "cell_type": "markdown",
   "id": "28f5a078",
   "metadata": {},
   "source": [
    "Now let's see if we can solve the matrix equation $K u = f$ (hint: we can't quite yet)."
   ]
  },
  {
   "cell_type": "markdown",
   "id": "51d56b4f",
   "metadata": {},
   "source": [
    "## Shift and Rotate\n",
    "\n",
    "At this point we have a block matrix with five columns -- one for each displacement -- and five rows -- one for each equation.\n",
    "So if we are given five external forces, it's tempting to think we can solve for the unknown displacements.\n",
    "But we can't, because the stiffness matrix we assembled does not have full rank.\n",
    "\n",
    "Before we can compute its rank, we have to convert `k_block` from a 5x5 block matrix to a 10x10 conventional matrix, using the method `as_explicit`."
   ]
  },
  {
   "cell_type": "code",
   "execution_count": 62,
   "id": "cefc5858",
   "metadata": {
    "tags": [
     "hide-output"
    ]
   },
   "outputs": [
    {
     "data": {
      "text/latex": [
       "$\\displaystyle \\frac{A E}{4 L} \\left[\\begin{matrix}5 & \\sqrt{3} & -4 & 0 & 0 & 0 & -1 & - \\sqrt{3} & 0 & 0\\\\\\sqrt{3} & 3 & 0 & 0 & 0 & 0 & - \\sqrt{3} & -3 & 0 & 0\\\\-4 & 0 & 10 & 0 & -4 & 0 & -1 & \\sqrt{3} & -1 & - \\sqrt{3}\\\\0 & 0 & 0 & 6 & 0 & 0 & \\sqrt{3} & -3 & - \\sqrt{3} & -3\\\\0 & 0 & -4 & 0 & 5 & - \\sqrt{3} & 0 & 0 & -1 & \\sqrt{3}\\\\0 & 0 & 0 & 0 & - \\sqrt{3} & 3 & 0 & 0 & \\sqrt{3} & -3\\\\-1 & - \\sqrt{3} & -1 & \\sqrt{3} & 0 & 0 & 6 & 0 & -4 & 0\\\\- \\sqrt{3} & -3 & \\sqrt{3} & -3 & 0 & 0 & 0 & 6 & 0 & 0\\\\0 & 0 & -1 & - \\sqrt{3} & -1 & \\sqrt{3} & -4 & 0 & 6 & 0\\\\0 & 0 & - \\sqrt{3} & -3 & \\sqrt{3} & -3 & 0 & 0 & 0 & 6\\end{matrix}\\right]$"
      ],
      "text/plain": [
       "(A*E/(4*L))*Matrix([\n",
       "[       5,  sqrt(3),       -4,        0,        0,        0,       -1, -sqrt(3),        0,        0],\n",
       "[ sqrt(3),        3,        0,        0,        0,        0, -sqrt(3),       -3,        0,        0],\n",
       "[      -4,        0,       10,        0,       -4,        0,       -1,  sqrt(3),       -1, -sqrt(3)],\n",
       "[       0,        0,        0,        6,        0,        0,  sqrt(3),       -3, -sqrt(3),       -3],\n",
       "[       0,        0,       -4,        0,        5, -sqrt(3),        0,        0,       -1,  sqrt(3)],\n",
       "[       0,        0,        0,        0, -sqrt(3),        3,        0,        0,  sqrt(3),       -3],\n",
       "[      -1, -sqrt(3),       -1,  sqrt(3),        0,        0,        6,        0,       -4,        0],\n",
       "[-sqrt(3),       -3,  sqrt(3),       -3,        0,        0,        0,        6,        0,        0],\n",
       "[       0,        0,       -1, -sqrt(3),       -1,  sqrt(3),       -4,        0,        6,        0],\n",
       "[       0,        0, -sqrt(3),       -3,  sqrt(3),       -3,        0,        0,        0,        6]])"
      ]
     },
     "execution_count": 62,
     "metadata": {},
     "output_type": "execute_result"
    }
   ],
   "source": [
    "K = K_block.as_explicit()\n",
    "factor_matrix(K, k/4)"
   ]
  },
  {
   "cell_type": "markdown",
   "id": "a3159ce8",
   "metadata": {},
   "source": [
    "Now we can compute the rank, which indicates the number of non-redundant equations it represents."
   ]
  },
  {
   "cell_type": "code",
   "execution_count": 63,
   "id": "fde11e1e",
   "metadata": {},
   "outputs": [
    {
     "data": {
      "text/plain": [
       "7"
      ]
     },
     "execution_count": 63,
     "metadata": {},
     "output_type": "execute_result"
    }
   ],
   "source": [
    "K.rank()"
   ]
  },
  {
   "cell_type": "markdown",
   "id": "7355eeb2",
   "metadata": {},
   "source": [
    "Although the matrix has 10 rows, the rank is only 7, which means that the matrix represents only 7 independent equations.\n",
    "The rank-nullity theorem implies that it has a three-dimensional nullspace, which we can compute with the `nullspace` method."
   ]
  },
  {
   "cell_type": "code",
   "execution_count": 64,
   "id": "5942b390",
   "metadata": {},
   "outputs": [
    {
     "data": {
      "text/plain": [
       "3"
      ]
     },
     "execution_count": 64,
     "metadata": {},
     "output_type": "execute_result"
    }
   ],
   "source": [
    "nullspace = K.nullspace()\n",
    "len(nullspace)"
   ]
  },
  {
   "cell_type": "markdown",
   "id": "28350e9f",
   "metadata": {},
   "source": [
    "The result is a list of three vectors.\n",
    "Each of them is a solution to the homogeneous equation $K u = 0$, which means that there are three ways we can displace the truss that don't depend on the external forces.\n",
    "\n",
    "If you think about the physical scenario we are modeling, you might be able to figure out what they are.\n",
    "The equations we have written so far balance the internal and external forces, but they don't constrain the truss from moving in space.\n",
    "Because the truss is not attached to anything, it is free to shift in the `x` direction, shift in the `y` direction, and rotate.\n",
    "These unconstrained ways of moving are called **degrees of freedom**.\n",
    "\n",
    "If we inspect the vectors in the nullspace, we can see how they correspond to these degress of freedom.\n",
    "We'll use this function to extract the displacements of the nodes, in symbolic form, and put them in a block matrix."
   ]
  },
  {
   "cell_type": "code",
   "execution_count": 65,
   "id": "10ad5270",
   "metadata": {},
   "outputs": [],
   "source": [
    "def get_block_vector(G, attr, keep=None):\n",
    "    blocks = [gget(G, node, attr) for node in G.nodes]\n",
    "    if keep is not None:\n",
    "        blocks = [blocks[i] for i in keep]\n",
    "    return sp.BlockMatrix([[block] for block in blocks])"
   ]
  },
  {
   "cell_type": "code",
   "execution_count": 66,
   "id": "4b94ca1a",
   "metadata": {},
   "outputs": [],
   "source": [
    "u_sym = get_block_vector(G, 'disp').as_explicit()"
   ]
  },
  {
   "cell_type": "markdown",
   "id": "aee3ed3b",
   "metadata": {},
   "source": [
    "Now here's the second of the three null vectors, which is the easiest to interpret."
   ]
  },
  {
   "cell_type": "code",
   "execution_count": 67,
   "id": "f1c85051",
   "metadata": {},
   "outputs": [
    {
     "data": {
      "text/latex": [
       "$\\displaystyle \\left[\\begin{matrix}u_{B0 x}\\\\u_{B0 y}\\\\u_{B1 x}\\\\u_{B1 y}\\\\u_{B2 x}\\\\u_{B2 y}\\\\u_{T0 x}\\\\u_{T0 y}\\\\u_{T1 x}\\\\u_{T1 y}\\end{matrix}\\right] = \\left[\\begin{matrix}1\\\\0\\\\1\\\\0\\\\1\\\\0\\\\1\\\\0\\\\1\\\\0\\end{matrix}\\right]$"
      ],
      "text/plain": [
       "Eq(Matrix([\n",
       "[u_B0_x],\n",
       "[u_B0_y],\n",
       "[u_B1_x],\n",
       "[u_B1_y],\n",
       "[u_B2_x],\n",
       "[u_B2_y],\n",
       "[u_T0_x],\n",
       "[u_T0_y],\n",
       "[u_T1_x],\n",
       "[u_T1_y]]), Matrix([\n",
       "[1],\n",
       "[0],\n",
       "[1],\n",
       "[0],\n",
       "[1],\n",
       "[0],\n",
       "[1],\n",
       "[0],\n",
       "[1],\n",
       "[0]]))"
      ]
     },
     "execution_count": 67,
     "metadata": {},
     "output_type": "execute_result"
    }
   ],
   "source": [
    "v_null_1 = nullspace[1]\n",
    "sp.Eq(u_sym, v_null_1)"
   ]
  },
  {
   "cell_type": "markdown",
   "id": "2c3a6bfe",
   "metadata": {},
   "source": [
    "This vector represents a displacement of all nodes by one unit in the `x` direction.\n",
    "\n",
    "The sum of the other two null vectors is similar -- it displaces all nodes by one unit in the `y` direction."
   ]
  },
  {
   "cell_type": "code",
   "execution_count": 68,
   "id": "cd592401",
   "metadata": {},
   "outputs": [
    {
     "data": {
      "text/latex": [
       "$\\displaystyle \\left[\\begin{matrix}u_{B0 x}\\\\u_{B0 y}\\\\u_{B1 x}\\\\u_{B1 y}\\\\u_{B2 x}\\\\u_{B2 y}\\\\u_{T0 x}\\\\u_{T0 y}\\\\u_{T1 x}\\\\u_{T1 y}\\end{matrix}\\right] = \\left[\\begin{matrix}0\\\\1\\\\0\\\\1\\\\0\\\\1\\\\0\\\\1\\\\0\\\\1\\end{matrix}\\right]$"
      ],
      "text/plain": [
       "Eq(Matrix([\n",
       "[u_B0_x],\n",
       "[u_B0_y],\n",
       "[u_B1_x],\n",
       "[u_B1_y],\n",
       "[u_B2_x],\n",
       "[u_B2_y],\n",
       "[u_T0_x],\n",
       "[u_T0_y],\n",
       "[u_T1_x],\n",
       "[u_T1_y]]), Matrix([\n",
       "[0],\n",
       "[1],\n",
       "[0],\n",
       "[1],\n",
       "[0],\n",
       "[1],\n",
       "[0],\n",
       "[1],\n",
       "[0],\n",
       "[1]]))"
      ]
     },
     "execution_count": 68,
     "metadata": {},
     "output_type": "execute_result"
    }
   ],
   "source": [
    "v_null_2 = (nullspace[0] + nullspace[2])\n",
    "sp.Eq(u_sym, v_null_2)"
   ]
  },
  {
   "cell_type": "markdown",
   "id": "b7f4e064",
   "metadata": {},
   "source": [
    "Finally, here's the difference between the same two null vectors."
   ]
  },
  {
   "cell_type": "code",
   "execution_count": 69,
   "id": "7c6dfa0e",
   "metadata": {},
   "outputs": [
    {
     "data": {
      "text/latex": [
       "$\\displaystyle \\left[\\begin{matrix}u_{B0 x}\\\\u_{B0 y}\\\\u_{B1 x}\\\\u_{B1 y}\\\\u_{B2 x}\\\\u_{B2 y}\\\\u_{T0 x}\\\\u_{T0 y}\\\\u_{T1 x}\\\\u_{T1 y}\\end{matrix}\\right] = \\left[\\begin{matrix}- \\sqrt{3}\\\\2\\\\- \\sqrt{3}\\\\0\\\\- \\sqrt{3}\\\\-2\\\\0\\\\1\\\\0\\\\-1\\end{matrix}\\right]$"
      ],
      "text/plain": [
       "Eq(Matrix([\n",
       "[u_B0_x],\n",
       "[u_B0_y],\n",
       "[u_B1_x],\n",
       "[u_B1_y],\n",
       "[u_B2_x],\n",
       "[u_B2_y],\n",
       "[u_T0_x],\n",
       "[u_T0_y],\n",
       "[u_T1_x],\n",
       "[u_T1_y]]), Matrix([\n",
       "[-sqrt(3)],\n",
       "[       2],\n",
       "[-sqrt(3)],\n",
       "[       0],\n",
       "[-sqrt(3)],\n",
       "[      -2],\n",
       "[       0],\n",
       "[       1],\n",
       "[       0],\n",
       "[      -1]]))"
      ]
     },
     "execution_count": 69,
     "metadata": {},
     "output_type": "execute_result"
    }
   ],
   "source": [
    "v_null_3 = (nullspace[0] - nullspace[2])\n",
    "sp.Eq(u_sym, v_null_3)"
   ]
  },
  {
   "cell_type": "markdown",
   "id": "99844525",
   "metadata": {},
   "source": [
    "Looking at the components of this vector, it's not obvious what it means.\n",
    "It will be clearer if we plot the effect it has on the truss.\n",
    "To do that, we'll pack it into a dictionary that maps from the components of the displacement vectors to the elements of the null vector."
   ]
  },
  {
   "cell_type": "code",
   "execution_count": 70,
   "id": "1e834d97",
   "metadata": {},
   "outputs": [],
   "source": [
    "rotation = dict(zip(u_sym, v_null_3))"
   ]
  },
  {
   "cell_type": "markdown",
   "id": "eda0b3ca",
   "metadata": {},
   "source": [
    "We'll use the following function to loop through the nodes in the graph and displace each node using the values in this dictionary."
   ]
  },
  {
   "cell_type": "code",
   "execution_count": 71,
   "id": "c223a357",
   "metadata": {},
   "outputs": [],
   "source": [
    "def displace_truss(G, sol, scale=300):\n",
    "    G_sol = G.copy()\n",
    "\n",
    "    for node in G_sol.nodes:\n",
    "        pos = gget(G_sol, node, 'pos')\n",
    "        u = gget(G_sol, node, 'disp')\n",
    "        u_eval = u.subs(sol).evalf() * scale \n",
    "        gset(G_sol, node, pos=pos + u_eval)\n",
    "\n",
    "    return G_sol"
   ]
  },
  {
   "cell_type": "markdown",
   "id": "f5069393",
   "metadata": {},
   "source": [
    "The `scale` parameter determines the magnitudes of the displacements."
   ]
  },
  {
   "cell_type": "code",
   "execution_count": 72,
   "id": "0382d3a3",
   "metadata": {},
   "outputs": [],
   "source": [
    "G_rot = displace_truss(G, rotation, scale=0.005)"
   ]
  },
  {
   "cell_type": "markdown",
   "id": "4cb1187b",
   "metadata": {},
   "source": [
    "Finally, let's draw the displaced truss on top of an outline of the original."
   ]
  },
  {
   "cell_type": "code",
   "execution_count": 73,
   "id": "4c33570f",
   "metadata": {},
   "outputs": [
    {
     "data": {
      "image/png": "[encoded data removed]",
      "text/plain": [
       "<Figure size 450x262.5 with 1 Axes>"
      ]
     },
     "metadata": {},
     "output_type": "display_data"
    }
   ],
   "source": [
    "draw_truss_graph(G, subs, label_nodes=False, alpha=0.3)\n",
    "draw_truss_graph(G_rot, subs)"
   ]
  },
  {
   "cell_type": "markdown",
   "id": "53d848dc",
   "metadata": {},
   "source": [
    "Now we can see that this null vector represents the third degree of freedom, rotation.\n",
    "\n",
    "With 10 unknowns and only 7 independent equations, this system is **underdetermined**, which means it has many possible solutions.\n",
    "But that's because we have not yet taken into account all of the information we have about the physical scenario -- specifically, we know that two of the nodes are fixed in space."
   ]
  },
  {
   "cell_type": "markdown",
   "id": "16dbf45a",
   "metadata": {},
   "source": [
    "## Reduce the Matrix\n",
    "\n",
    "Let's assume that the truss is attached firmly at the left and right.\n",
    "The following loop makes a copy of the graph where the displacement at those nodes is zero."
   ]
  },
  {
   "cell_type": "code",
   "execution_count": 74,
   "id": "247ec1c1",
   "metadata": {},
   "outputs": [],
   "source": [
    "fixed_nodes = ['B0', f'B{N}']\n",
    "G_fixed = G.copy()\n",
    "\n",
    "for node in G.nodes():\n",
    "    if node in fixed_nodes:\n",
    "        disp = sp_vector(0, 0)\n",
    "        gset(G_fixed, node, disp=disp)"
   ]
  },
  {
   "cell_type": "markdown",
   "id": "382962e1",
   "metadata": {},
   "source": [
    "Since these displacements are no longer unknown, we can remove them from the matrix equation.\n",
    "First, we'll compute the indices of the remaining nodes that are not fixed."
   ]
  },
  {
   "cell_type": "code",
   "execution_count": 75,
   "id": "f84b6307",
   "metadata": {},
   "outputs": [
    {
     "data": {
      "text/plain": [
       "[1, 3, 4]"
      ]
     },
     "execution_count": 75,
     "metadata": {},
     "output_type": "execute_result"
    }
   ],
   "source": [
    "keep = [gget(G_fixed, node, 'index') \n",
    "        for node in G_fixed.nodes \n",
    "        if node not in fixed_nodes]\n",
    "keep    "
   ]
  },
  {
   "cell_type": "markdown",
   "id": "dda7130e",
   "metadata": {},
   "source": [
    "Now we'll select the blocks that correspond to these nodes."
   ]
  },
  {
   "cell_type": "code",
   "execution_count": 76,
   "id": "9efc78cd",
   "metadata": {},
   "outputs": [],
   "source": [
    "blocks_reduced = [\n",
    "    [blocks[i][j] \n",
    "     for j in keep]\n",
    "     for i in keep\n",
    "]"
   ]
  },
  {
   "cell_type": "markdown",
   "id": "c9df63e2",
   "metadata": {},
   "source": [
    "And make a new block matrix that has been **reduced** by removing the known displacements."
   ]
  },
  {
   "cell_type": "code",
   "execution_count": 77,
   "id": "8bc4440d",
   "metadata": {},
   "outputs": [
    {
     "data": {
      "text/latex": [
       "$\\displaystyle \\frac{A E}{4 L} \\left[\\begin{matrix}\\left[\\begin{matrix}10 & 0\\\\0 & 6\\end{matrix}\\right] & \\left[\\begin{matrix}-1 & \\sqrt{3}\\\\\\sqrt{3} & -3\\end{matrix}\\right] & \\left[\\begin{matrix}-1 & - \\sqrt{3}\\\\- \\sqrt{3} & -3\\end{matrix}\\right]\\\\\\left[\\begin{matrix}-1 & \\sqrt{3}\\\\\\sqrt{3} & -3\\end{matrix}\\right] & \\left[\\begin{matrix}6 & 0\\\\0 & 6\\end{matrix}\\right] & \\left[\\begin{matrix}-4 & 0\\\\0 & 0\\end{matrix}\\right]\\\\\\left[\\begin{matrix}-1 & - \\sqrt{3}\\\\- \\sqrt{3} & -3\\end{matrix}\\right] & \\left[\\begin{matrix}-4 & 0\\\\0 & 0\\end{matrix}\\right] & \\left[\\begin{matrix}6 & 0\\\\0 & 6\\end{matrix}\\right]\\end{matrix}\\right]$"
      ],
      "text/plain": [
       "(A*E/(4*L))*Matrix([\n",
       "[                          Matrix([\n",
       "[10, 0],\n",
       "[ 0, 6]]), Matrix([\n",
       "[     -1, sqrt(3)],\n",
       "[sqrt(3),      -3]]), Matrix([\n",
       "[      -1, -sqrt(3)],\n",
       "[-sqrt(3),       -3]])],\n",
       "[    Matrix([\n",
       "[     -1, sqrt(3)],\n",
       "[sqrt(3),      -3]]),                         Matrix([\n",
       "[6, 0],\n",
       "[0, 6]]),                           Matrix([\n",
       "[-4, 0],\n",
       "[ 0, 0]])],\n",
       "[Matrix([\n",
       "[      -1, -sqrt(3)],\n",
       "[-sqrt(3),       -3]]),                       Matrix([\n",
       "[-4, 0],\n",
       "[ 0, 0]]),                             Matrix([\n",
       "[6, 0],\n",
       "[0, 6]])]])"
      ]
     },
     "execution_count": 77,
     "metadata": {},
     "output_type": "execute_result"
    }
   ],
   "source": [
    "K_reduced = sp.BlockMatrix(blocks_reduced)\n",
    "factor_matrix(K_reduced, k/4)"
   ]
  },
  {
   "cell_type": "markdown",
   "id": "c399cd6f",
   "metadata": {},
   "source": [
    "Now there are only 6 columns, and the matrix has **full rank** -- that is, the equations it represents are independent. "
   ]
  },
  {
   "cell_type": "code",
   "execution_count": 78,
   "id": "da8821cc",
   "metadata": {},
   "outputs": [
    {
     "data": {
      "text/plain": [
       "6"
      ]
     },
     "execution_count": 78,
     "metadata": {},
     "output_type": "execute_result"
    }
   ],
   "source": [
    "K_reduced.as_explicit().rank()"
   ]
  },
  {
   "cell_type": "markdown",
   "id": "97d18f32",
   "metadata": {},
   "source": [
    "And that means the equation $K u = f$ has a unique solution for any vector of forces, $f$. \n",
    "\n",
    "To solve the system, we'll use `get_block_vector` to loop through the graph and collect the unknown displacements."
   ]
  },
  {
   "cell_type": "code",
   "execution_count": 79,
   "id": "caed9c44",
   "metadata": {},
   "outputs": [
    {
     "data": {
      "text/latex": [
       "$\\displaystyle \\left[\\begin{matrix}\\left[\\begin{matrix}u_{B1 x}\\\\u_{B1 y}\\end{matrix}\\right]\\\\\\left[\\begin{matrix}u_{T0 x}\\\\u_{T0 y}\\end{matrix}\\right]\\\\\\left[\\begin{matrix}u_{T1 x}\\\\u_{T1 y}\\end{matrix}\\right]\\end{matrix}\\right]$"
      ],
      "text/plain": [
       "Matrix([\n",
       "[Matrix([\n",
       "[u_B1_x],\n",
       "[u_B1_y]])],\n",
       "[Matrix([\n",
       "[u_T0_x],\n",
       "[u_T0_y]])],\n",
       "[Matrix([\n",
       "[u_T1_x],\n",
       "[u_T1_y]])]])"
      ]
     },
     "execution_count": 79,
     "metadata": {},
     "output_type": "execute_result"
    }
   ],
   "source": [
    "u_reduced = get_block_vector(G_fixed, 'disp', keep)\n",
    "u_reduced"
   ]
  },
  {
   "cell_type": "markdown",
   "id": "fbed555d",
   "metadata": {},
   "source": [
    "And we can collect the external forces the same way."
   ]
  },
  {
   "cell_type": "code",
   "execution_count": 80,
   "id": "580f15de",
   "metadata": {},
   "outputs": [
    {
     "data": {
      "text/latex": [
       "$\\displaystyle \\left[\\begin{matrix}\\left[\\begin{matrix}0\\\\- F\\end{matrix}\\right]\\\\\\left[\\begin{matrix}0\\\\0\\end{matrix}\\right]\\\\\\left[\\begin{matrix}0\\\\0\\end{matrix}\\right]\\end{matrix}\\right]$"
      ],
      "text/plain": [
       "Matrix([\n",
       "[Matrix([\n",
       "[ 0],\n",
       "[-F]])],\n",
       "[  Matrix([\n",
       "[0],\n",
       "[0]])],\n",
       "[  Matrix([\n",
       "[0],\n",
       "[0]])]])"
      ]
     },
     "execution_count": 80,
     "metadata": {},
     "output_type": "execute_result"
    }
   ],
   "source": [
    "f_reduced = get_block_vector(G_fixed, 'f_ext', keep)\n",
    "f_reduced"
   ]
  },
  {
   "cell_type": "markdown",
   "id": "968fe34c",
   "metadata": {},
   "source": [
    "Now (finally!) we are ready to solve the system."
   ]
  },
  {
   "cell_type": "markdown",
   "id": "d82efabf",
   "metadata": {},
   "source": [
    "## Solve the System\n",
    "\n",
    "Here's the matrix equation, $K u = f$."
   ]
  },
  {
   "cell_type": "code",
   "execution_count": 81,
   "id": "4b314718",
   "metadata": {},
   "outputs": [],
   "source": [
    "eq = sp.Eq(K_reduced * u_reduced, f_reduced)"
   ]
  },
  {
   "cell_type": "markdown",
   "id": "fac765df",
   "metadata": {},
   "source": [
    "We can use `subs` again to replace the symbols with their values."
   ]
  },
  {
   "cell_type": "code",
   "execution_count": 82,
   "id": "46f51814",
   "metadata": {},
   "outputs": [],
   "source": [
    "eq_num = eq.subs(subs)"
   ]
  },
  {
   "cell_type": "markdown",
   "id": "a5f72840",
   "metadata": {},
   "source": [
    "The result is a numerical matrix equation we can solve for the unknown displacements."
   ]
  },
  {
   "cell_type": "code",
   "execution_count": 83,
   "id": "dbc4a70a",
   "metadata": {},
   "outputs": [],
   "source": [
    "sol = sp.solve(eq_num, u_reduced.as_explicit())"
   ]
  },
  {
   "cell_type": "markdown",
   "id": "f1e233c6",
   "metadata": {},
   "source": [
    "Here's what the result looks like."
   ]
  },
  {
   "cell_type": "code",
   "execution_count": 84,
   "id": "3f914104",
   "metadata": {},
   "outputs": [
    {
     "data": {
      "text/latex": [
       "$\\displaystyle \\left[\\begin{matrix}\\left[\\begin{matrix}u_{B1 x}\\\\u_{B1 y}\\end{matrix}\\right]\\\\\\left[\\begin{matrix}u_{T0 x}\\\\u_{T0 y}\\end{matrix}\\right]\\\\\\left[\\begin{matrix}u_{T1 x}\\\\u_{T1 y}\\end{matrix}\\right]\\end{matrix}\\right] = 1.0 \\cdot 10^{-6} \\left[\\begin{matrix}\\left[\\begin{matrix}0\\\\-40.8333333333333\\end{matrix}\\right]\\\\\\left[\\begin{matrix}7.07254079757292\\\\-20.4166666666667\\end{matrix}\\right]\\\\\\left[\\begin{matrix}-7.07254079757292\\\\-20.4166666666667\\end{matrix}\\right]\\end{matrix}\\right]$"
      ],
      "text/plain": [
       "Eq(Matrix([\n",
       "[Matrix([\n",
       "[u_B1_x],\n",
       "[u_B1_y]])],\n",
       "[Matrix([\n",
       "[u_T0_x],\n",
       "[u_T0_y]])],\n",
       "[Matrix([\n",
       "[u_T1_x],\n",
       "[u_T1_y]])]]), 1.0e-6*Matrix([\n",
       "[Matrix([\n",
       "[                0],\n",
       "[-40.8333333333333]])],\n",
       "[Matrix([\n",
       "[ 7.07254079757292],\n",
       "[-20.4166666666667]])],\n",
       "[Matrix([\n",
       "[-7.07254079757292],\n",
       "[-20.4166666666667]])]]))"
      ]
     },
     "execution_count": 84,
     "metadata": {},
     "output_type": "execute_result"
    }
   ],
   "source": [
    "u_sol = u_reduced.subs(sol)\n",
    "sp.Eq(u_reduced, factor_matrix(u_sol, 1e-6))"
   ]
  },
  {
   "cell_type": "markdown",
   "id": "5bdd58c1",
   "metadata": {},
   "source": [
    "And here's what those displacements look like, scaled up by a factor of 300 to make them visible."
   ]
  },
  {
   "cell_type": "code",
   "execution_count": 85,
   "id": "00981754",
   "metadata": {},
   "outputs": [
    {
     "data": {
      "image/png": "[encoded data removed]",
      "text/plain": [
       "<Figure size 450x262.5 with 1 Axes>"
      ]
     },
     "metadata": {},
     "output_type": "display_data"
    }
   ],
   "source": [
    "G_sol = displace_truss(G_fixed, sol, scale=300)\n",
    "\n",
    "draw_truss_graph(G, subs, label_nodes=False, alpha=0.3)\n",
    "draw_truss_graph(G_sol, subs)"
   ]
  },
  {
   "cell_type": "markdown",
   "id": "3ca3e14e",
   "metadata": {},
   "source": [
    "At `B1`, the displacement in the `y` direction is about 41 micrometers, which is about twice the displacement we computed for the simple truss.\n",
    "And that makes sense because the span of this truss is about twice the span of the simple truss.\n",
    "\n",
    "If you go back where we defined `N = 2`, you can set `N` to another value and run the notebook again.\n",
    "See what happens to the results as you increase `N`.\n",
    "\n",
    "In some Warren trusses, the roadbed is suspended from the top nodes, rather than attached to the bottom nodes.\n",
    "Run the analysis with half of the load on each of `T0` and `T1`, rather than all of it on `B0`.\n",
    "Are the displacements bigger or smaller?"
   ]
  },
  {
   "cell_type": "markdown",
   "id": "992d97ef",
   "metadata": {},
   "source": [
    "TECHNICAL NOTE: If you've seen truss analysis before, you might have been surprised that I constrained the fixed nodes in both dimensions.\n",
    "In textbook truss analysis, it is more common to constrain one of the nodes in only one dimension.\n",
    "In this example, that would reduce the 10x10 underdetermined system to a 7x7 fully determined system.\n",
    "By fixing two nodes entirely, we reduced it to a 6x6 system, also fully determined.\n",
    "\n",
    "The conventional approach imposes the minimal number of constraints, but the approach I used here was a little easier to implement, and I think it's a more realistic model of a real bridge, where the two endpoints are generally similar.\n",
    "But either method is fine."
   ]
  },
  {
   "cell_type": "markdown",
   "id": "7f1e5266",
   "metadata": {},
   "source": [
    "## Discussion\n",
    "\n",
    "When I was an undergraduate, I took a class where we learned to analyze trusses.\n",
    "One of my classmates asked a question that I'm not sure I appreciated at the time, but it stuck with me.\n",
    "To paraphrase, he asked, \"Do we design trusses because they are optimal, or because they are easy to analyze?\"\n",
    "This is a really good question.\n",
    "\n",
    "As you might guess, the answer is both.\n",
    "If your goal is to build a structure that supports a given load with a minimum amount of material, a truss may not be optimal -- with the complexity of real-world requirements and constraints, it's hard to say what \"optimal\" even means.\n",
    "But for many applications, a truss is a fundamentally good design.\n",
    "\n",
    "It is also easy to analyze, but that is not as important as it used to be.\n",
    "Before we had computers, we analyzed structures by hand, so we had to keep them simple.\n",
    "When I was an undergraduate, we had enough computational power and software capability to analyze more complex structures, but what we could design was still limited by what we could analyze.\n",
    "\n",
    "Now with modern computational tools, we can analyze almost any structure we can imagine, so analysis is no longer the limiting factor on what we can design and build.\n",
    "But this is a recent change, and we are only beginning to see its consequences."
   ]
  },
  {
   "cell_type": "markdown",
   "id": "e27da3a4",
   "metadata": {
    "tags": [
     "remove-print"
    ]
   },
   "source": [
    "[Think Linear Algebra](https://allendowney.github.io/ThinkLinearAlgebra/index.html)\n",
    "\n",
    "Copyright 2025 [Allen B. Downey](https://allendowney.com)\n",
    "\n",
    "Code license: [MIT License](https://mit-license.org/)\n",
    "\n",
    "Text license: [Creative Commons Attribution-NonCommercial-ShareAlike 4.0 International](https://creativecommons.org/licenses/by-nc-sa/4.0/)"
   ]
  },
  {
   "cell_type": "code",
   "execution_count": null,
   "id": "c8b4e400-dc97-498e-9016-3e9ef05dc7a3",
   "metadata": {},
   "outputs": [],
   "source": []
  }
 ],
 "metadata": {
  "celltoolbar": "Tags",
  "kernelspec": {
   "display_name": "Python 3 (ipykernel)",
   "language": "python",
   "name": "python3"
  },
  "language_info": {
   "codemirror_mode": {
    "name": "ipython",
    "version": 3
   },
   "file_extension": ".py",
   "mimetype": "text/x-python",
   "name": "python",
   "nbconvert_exporter": "python",
   "pygments_lexer": "ipython3",
   "version": "3.10.16"
  }
 },
 "nbformat": 4,
 "nbformat_minor": 5
}
