{
 "cells": [
  {
   "cell_type": "markdown",
   "id": "025b76df",
   "metadata": {},
   "source": [
    "*Think Linear Algebra* is not for sale yet, but if you would like to support this project, you can [buy me a coffee](https://buymeacoffee.com/allendowney)."
   ]
  },
  {
   "cell_type": "markdown",
   "id": "85c30bdb",
   "metadata": {},
   "source": [
    "# Title\n",
    "\n"
   ]
  },
  {
   "cell_type": "markdown",
   "id": "3893fe82",
   "metadata": {
    "tags": [
     "remove-print"
    ]
   },
   "source": [
    "[Click here to run this notebook on Colab](https://colab.research.google.com/github/AllenDowney/ThinkLinearAlgebra/blob/main/nb/track.ipynb)."
   ]
  },
  {
   "cell_type": "code",
   "execution_count": 64,
   "id": "02d400cf",
   "metadata": {
    "tags": [
     "remove-print",
     "hide-cell"
    ]
   },
   "outputs": [],
   "source": [
    "from os.path import basename, exists\n",
    "\n",
    "\n",
    "def download(url):\n",
    "    filename = basename(url)\n",
    "    if not exists(filename):\n",
    "        from urllib.request import urlretrieve\n",
    "\n",
    "        local, _ = urlretrieve(url, filename)\n",
    "        print(\"Downloaded \" + local)\n",
    "\n",
    "\n",
    "download(\"https://github.com/AllenDowney/ThinkLinearAlgebra/raw/main/utils.py\")"
   ]
  },
  {
   "cell_type": "code",
   "execution_count": 65,
   "id": "1a3119be",
   "metadata": {
    "tags": [
     "hide-cell",
     "remove-print"
    ]
   },
   "outputs": [],
   "source": [
    "import numpy as np\n",
    "import pandas as pd\n",
    "import matplotlib.pyplot as plt\n",
    "\n",
    "from utils import decorate"
   ]
  },
  {
   "cell_type": "markdown",
   "id": "9ebc865a",
   "metadata": {},
   "source": []
  },
  {
   "cell_type": "code",
   "execution_count": 123,
   "id": "e5931667",
   "metadata": {},
   "outputs": [],
   "source": [
    "import sympy as sp\n",
    "\n",
    "C2H5OH = sp.Symbol('C_{2} H_5 OH')\n",
    "O2 = sp.Symbol('O2')\n",
    "CO2 = sp.Symbol('CO2')\n",
    "H2O = sp.Symbol('H_{2} O')"
   ]
  },
  {
   "cell_type": "code",
   "execution_count": 124,
   "id": "164867a1",
   "metadata": {},
   "outputs": [
    {
     "data": {
      "text/latex": [
       "$\\displaystyle C_{2} H_5 OH + O_{2}$"
      ],
      "text/plain": [
       "C_{2} H_5 OH + O2"
      ]
     },
     "execution_count": 124,
     "metadata": {},
     "output_type": "execute_result"
    }
   ],
   "source": [
    "lhs = C2H5OH + O2\n",
    "rhs = CO2 + H2O\n",
    "lhs"
   ]
  },
  {
   "cell_type": "code",
   "execution_count": 125,
   "id": "56bc109d",
   "metadata": {},
   "outputs": [
    {
     "data": {
      "text/latex": [
       "$\\displaystyle C_{2} H_5 OH + O2 \\rightarrow CO2 + H_{2} O$"
      ],
      "text/plain": [
       "<IPython.core.display.Math object>"
      ]
     },
     "metadata": {},
     "output_type": "display_data"
    }
   ],
   "source": [
    "from IPython.display import display, Math\n",
    "\n",
    "# Use LaTeX to display with reaction arrow\n",
    "display(Math(f\"{lhs} \\\\rightarrow {rhs}\"))"
   ]
  },
  {
   "cell_type": "code",
   "execution_count": 126,
   "id": "d63fb545",
   "metadata": {},
   "outputs": [],
   "source": [
    "# Define symbols for the unknown coefficients\n",
    "x1, x2, x3, x4 = sp.symbols('x1 x2 x3 x4')"
   ]
  },
  {
   "cell_type": "code",
   "execution_count": 127,
   "id": "9f1cbe43",
   "metadata": {},
   "outputs": [],
   "source": [
    "# Write the unbalanced equation symbolically\n",
    "lhs = x1 * C2H5OH + x2 * O2\n",
    "rhs = x3 * CO2 + x4 * H2O"
   ]
  },
  {
   "cell_type": "code",
   "execution_count": 128,
   "id": "47ab0d9e",
   "metadata": {},
   "outputs": [
    {
     "data": {
      "text/latex": [
       "$\\displaystyle C_{2} H_5 OH x_{1} + O_{2} x_{2} = CO_{2} x_{3} + H_{2} O x_{4}$"
      ],
      "text/plain": [
       "Eq(C_{2} H_5 OH*x1 + O2*x2, CO2*x3 + H_{2} O*x4)"
      ]
     },
     "execution_count": 128,
     "metadata": {},
     "output_type": "execute_result"
    }
   ],
   "source": [
    "reaction = sp.Eq(lhs, rhs)\n",
    "reaction"
   ]
  },
  {
   "cell_type": "markdown",
   "id": "9205cced",
   "metadata": {},
   "source": [
    "Carbon: 2 from ethanol = 1 per CO2"
   ]
  },
  {
   "cell_type": "code",
   "execution_count": 129,
   "id": "4ce89c31",
   "metadata": {},
   "outputs": [
    {
     "data": {
      "text/latex": [
       "$\\displaystyle 2 x_{1} = x_{3}$"
      ],
      "text/plain": [
       "Eq(2*x1, x3)"
      ]
     },
     "execution_count": 129,
     "metadata": {},
     "output_type": "execute_result"
    }
   ],
   "source": [
    "eq_carbon = sp.Eq(2*x1, x3)         \n",
    "eq_carbon"
   ]
  },
  {
   "cell_type": "markdown",
   "id": "b96ea93d",
   "metadata": {},
   "source": [
    "Hydrogen: 6 from ethanol = 2 per H2O"
   ]
  },
  {
   "cell_type": "code",
   "execution_count": 130,
   "id": "06d88b03",
   "metadata": {},
   "outputs": [
    {
     "data": {
      "text/latex": [
       "$\\displaystyle 6 x_{1} = 2 x_{4}$"
      ],
      "text/plain": [
       "Eq(6*x1, 2*x4)"
      ]
     },
     "execution_count": 130,
     "metadata": {},
     "output_type": "execute_result"
    }
   ],
   "source": [
    "eq_hydrogen = sp.Eq(6*x1, 2*x4)     \n",
    "eq_hydrogen"
   ]
  },
  {
   "cell_type": "markdown",
   "id": "996bea61",
   "metadata": {},
   "source": [
    "Oxygen: 1 in ethanol + 2 per O2 = 2 per CO2 + 1 per H2O"
   ]
  },
  {
   "cell_type": "code",
   "execution_count": 131,
   "id": "49cb6fa0",
   "metadata": {},
   "outputs": [
    {
     "data": {
      "text/latex": [
       "$\\displaystyle x_{1} + 2 x_{2} = 2 x_{3} + x_{4}$"
      ],
      "text/plain": [
       "Eq(x1 + 2*x2, 2*x3 + x4)"
      ]
     },
     "execution_count": 131,
     "metadata": {},
     "output_type": "execute_result"
    }
   ],
   "source": [
    "eq_oxygen = sp.Eq(x1 + 2*x2, 2*x3 + x4)  \n",
    "eq_oxygen"
   ]
  },
  {
   "cell_type": "code",
   "execution_count": 132,
   "id": "c29a0155",
   "metadata": {},
   "outputs": [
    {
     "data": {
      "text/latex": [
       "$\\displaystyle \\left[\\begin{matrix}2 & 0 & -1 & 0\\\\6 & 0 & 0 & -2\\\\1 & 2 & -2 & -1\\end{matrix}\\right]$"
      ],
      "text/plain": [
       "Matrix([\n",
       "[2, 0, -1,  0],\n",
       "[6, 0,  0, -2],\n",
       "[1, 2, -2, -1]])"
      ]
     },
     "execution_count": 132,
     "metadata": {},
     "output_type": "execute_result"
    }
   ],
   "source": [
    "A, b = sp.linear_eq_to_matrix([eq_carbon, eq_hydrogen, eq_oxygen], (x1, x2, x3, x4))\n",
    "A"
   ]
  },
  {
   "cell_type": "code",
   "execution_count": 133,
   "id": "c2f03d55",
   "metadata": {},
   "outputs": [
    {
     "data": {
      "text/latex": [
       "$\\displaystyle \\left[\\begin{matrix}0\\\\0\\\\0\\end{matrix}\\right]$"
      ],
      "text/plain": [
       "Matrix([\n",
       "[0],\n",
       "[0],\n",
       "[0]])"
      ]
     },
     "execution_count": 133,
     "metadata": {},
     "output_type": "execute_result"
    }
   ],
   "source": [
    "b"
   ]
  },
  {
   "cell_type": "code",
   "execution_count": 134,
   "id": "3bf43471",
   "metadata": {},
   "outputs": [
    {
     "data": {
      "text/plain": [
       "1"
      ]
     },
     "execution_count": 134,
     "metadata": {},
     "output_type": "execute_result"
    }
   ],
   "source": [
    "nullspace = A.nullspace()\n",
    "len(nullspace)"
   ]
  },
  {
   "cell_type": "code",
   "execution_count": 135,
   "id": "c5adaff7",
   "metadata": {},
   "outputs": [
    {
     "data": {
      "text/latex": [
       "$\\displaystyle \\left[\\begin{matrix}\\frac{1}{3}\\\\1\\\\\\frac{2}{3}\\\\1\\end{matrix}\\right]$"
      ],
      "text/plain": [
       "Matrix([\n",
       "[1/3],\n",
       "[  1],\n",
       "[2/3],\n",
       "[  1]])"
      ]
     },
     "execution_count": 135,
     "metadata": {},
     "output_type": "execute_result"
    }
   ],
   "source": [
    "basis_vector = nullspace[0]\n",
    "basis_vector"
   ]
  },
  {
   "cell_type": "code",
   "execution_count": 136,
   "id": "53c5f11b",
   "metadata": {},
   "outputs": [
    {
     "data": {
      "text/latex": [
       "$\\displaystyle 3$"
      ],
      "text/plain": [
       "3"
      ]
     },
     "execution_count": 136,
     "metadata": {},
     "output_type": "execute_result"
    }
   ],
   "source": [
    "denoms = [sp.denom(term) for term in basis_vector]\n",
    "lcm = sp.lcm(denoms)\n",
    "lcm"
   ]
  },
  {
   "cell_type": "code",
   "execution_count": 137,
   "id": "7d6141cc-5df7-4e76-aa93-44bdb2a9199d",
   "metadata": {},
   "outputs": [
    {
     "data": {
      "text/latex": [
       "$\\displaystyle \\left[\\begin{matrix}1\\\\3\\\\2\\\\3\\end{matrix}\\right]$"
      ],
      "text/plain": [
       "Matrix([\n",
       "[1],\n",
       "[3],\n",
       "[2],\n",
       "[3]])"
      ]
     },
     "execution_count": 137,
     "metadata": {},
     "output_type": "execute_result"
    }
   ],
   "source": [
    "solution = basis_vector * lcm\n",
    "solution"
   ]
  },
  {
   "cell_type": "code",
   "execution_count": 138,
   "id": "c9728bf0-2665-483a-a026-645019e14f4d",
   "metadata": {},
   "outputs": [
    {
     "data": {
      "text/latex": [
       "$\\displaystyle \\left[\\begin{matrix}0\\\\0\\\\0\\end{matrix}\\right]$"
      ],
      "text/plain": [
       "Matrix([\n",
       "[0],\n",
       "[0],\n",
       "[0]])"
      ]
     },
     "execution_count": 138,
     "metadata": {},
     "output_type": "execute_result"
    }
   ],
   "source": [
    "A * solution"
   ]
  },
  {
   "cell_type": "code",
   "execution_count": 139,
   "id": "d271e25b",
   "metadata": {},
   "outputs": [
    {
     "data": {
      "text/plain": [
       "array([[ 2.,  0., -1.,  0.],\n",
       "       [ 6.,  0.,  0., -2.],\n",
       "       [ 1.,  2., -2., -1.]])"
      ]
     },
     "execution_count": 139,
     "metadata": {},
     "output_type": "execute_result"
    }
   ],
   "source": [
    "\n",
    "A = np.array(A).astype(float)\n",
    "A"
   ]
  },
  {
   "cell_type": "code",
   "execution_count": 140,
   "id": "a87161a8",
   "metadata": {},
   "outputs": [
    {
     "data": {
      "text/plain": [
       "array([[0.20851441],\n",
       "       [0.62554324],\n",
       "       [0.41702883],\n",
       "       [0.62554324]])"
      ]
     },
     "execution_count": 140,
     "metadata": {},
     "output_type": "execute_result"
    }
   ],
   "source": [
    "from scipy.linalg import null_space\n",
    "\n",
    "ns = null_space(A)\n",
    "ns"
   ]
  },
  {
   "cell_type": "code",
   "execution_count": 141,
   "id": "47b97b72",
   "metadata": {},
   "outputs": [
    {
     "data": {
      "text/plain": [
       "array([0.20851441, 0.62554324, 0.41702883, 0.62554324])"
      ]
     },
     "execution_count": 141,
     "metadata": {},
     "output_type": "execute_result"
    }
   ],
   "source": [
    "vec = ns.T[0]\n",
    "vec"
   ]
  },
  {
   "cell_type": "code",
   "execution_count": 143,
   "id": "e67c4f12",
   "metadata": {},
   "outputs": [
    {
     "data": {
      "text/plain": [
       "np.float64(0.9999999999999999)"
      ]
     },
     "execution_count": 143,
     "metadata": {},
     "output_type": "execute_result"
    }
   ],
   "source": [
    "vec @ vec"
   ]
  },
  {
   "cell_type": "code",
   "execution_count": 142,
   "id": "54c51b70-1448-44cc-9202-a4b69fcf194c",
   "metadata": {},
   "outputs": [
    {
     "data": {
      "text/plain": [
       "array([1., 3., 2., 3.])"
      ]
     },
     "execution_count": 142,
     "metadata": {},
     "output_type": "execute_result"
    }
   ],
   "source": [
    "denom = np.min(np.abs(vec[vec != 0]))\n",
    "scaled = vec / denom\n",
    "scaled"
   ]
  },
  {
   "cell_type": "code",
   "execution_count": null,
   "id": "42349ce5-8a88-43d7-80e4-98383a33eea2",
   "metadata": {},
   "outputs": [],
   "source": []
  },
  {
   "cell_type": "code",
   "execution_count": null,
   "id": "f18369f8-daee-400d-a8e4-f7ecae036f7e",
   "metadata": {},
   "outputs": [],
   "source": []
  },
  {
   "cell_type": "code",
   "execution_count": null,
   "id": "19853987-d477-443f-b3e8-b103cab3784c",
   "metadata": {},
   "outputs": [],
   "source": []
  },
  {
   "cell_type": "code",
   "execution_count": null,
   "id": "af9563c3-5ae6-422f-8508-e2aede54804d",
   "metadata": {},
   "outputs": [],
   "source": []
  },
  {
   "cell_type": "code",
   "execution_count": null,
   "id": "4e8e62f4-ddbd-46e4-9abb-710bb5c440e9",
   "metadata": {},
   "outputs": [],
   "source": []
  },
  {
   "cell_type": "code",
   "execution_count": null,
   "id": "90fa3965-8d25-4c5a-bffa-ab6e50249761",
   "metadata": {},
   "outputs": [],
   "source": []
  },
  {
   "cell_type": "code",
   "execution_count": null,
   "id": "107d82af-8584-4476-9f50-bbdf945245e8",
   "metadata": {},
   "outputs": [],
   "source": []
  },
  {
   "cell_type": "markdown",
   "id": "62ea92ab",
   "metadata": {},
   "source": [
    "### Exercise\n",
    "\n",
    "Balance the equation for the combustion of methanol."
   ]
  },
  {
   "cell_type": "code",
   "execution_count": 109,
   "id": "33bf2123",
   "metadata": {},
   "outputs": [],
   "source": [
    "CH3OH = sp.Symbol('C H_{3} OH')"
   ]
  },
  {
   "cell_type": "code",
   "execution_count": 110,
   "id": "7befeda6",
   "metadata": {},
   "outputs": [],
   "source": [
    "lhs = x1 * CH3OH + x2 * O2\n",
    "rhs = x3 * CO2 + x4 * H2O"
   ]
  },
  {
   "cell_type": "code",
   "execution_count": 111,
   "id": "fdb60fa6",
   "metadata": {},
   "outputs": [
    {
     "data": {
      "text/latex": [
       "$\\displaystyle C H_{3} OH x_{1} + O_{2} x_{2} = CO_{2} x_{3} + H_{2} O x_{4}$"
      ],
      "text/plain": [
       "Eq(C H_{3} OH*x1 + O2*x2, CO2*x3 + H_{2} O*x4)"
      ]
     },
     "execution_count": 111,
     "metadata": {},
     "output_type": "execute_result"
    }
   ],
   "source": [
    "reaction = sp.Eq(lhs, rhs)\n",
    "reaction"
   ]
  },
  {
   "cell_type": "code",
   "execution_count": 112,
   "id": "c507360a",
   "metadata": {},
   "outputs": [
    {
     "data": {
      "text/latex": [
       "$\\displaystyle x_{1} = x_{3}$"
      ],
      "text/plain": [
       "Eq(x1, x3)"
      ]
     },
     "execution_count": 112,
     "metadata": {},
     "output_type": "execute_result"
    }
   ],
   "source": [
    "eq_carbon = sp.Eq(x1, x3)         \n",
    "eq_carbon"
   ]
  },
  {
   "cell_type": "markdown",
   "id": "ef82077f",
   "metadata": {},
   "source": [
    "Hydrogen: 6 from ethanol = 2 per H2O"
   ]
  },
  {
   "cell_type": "code",
   "execution_count": 113,
   "id": "5c3b6275",
   "metadata": {},
   "outputs": [
    {
     "data": {
      "text/latex": [
       "$\\displaystyle 4 x_{1} = 2 x_{4}$"
      ],
      "text/plain": [
       "Eq(4*x1, 2*x4)"
      ]
     },
     "execution_count": 113,
     "metadata": {},
     "output_type": "execute_result"
    }
   ],
   "source": [
    "eq_hydrogen = sp.Eq(4*x1, 2*x4)     \n",
    "eq_hydrogen"
   ]
  },
  {
   "cell_type": "markdown",
   "id": "ab8edb58",
   "metadata": {},
   "source": [
    "Oxygen: 1 in ethanol + 2 per O2 = 2 per CO2 + 1 per H2O"
   ]
  },
  {
   "cell_type": "code",
   "execution_count": 114,
   "id": "8ec59500",
   "metadata": {},
   "outputs": [
    {
     "data": {
      "text/latex": [
       "$\\displaystyle x_{1} + 2 x_{2} = 2 x_{3} + x_{4}$"
      ],
      "text/plain": [
       "Eq(x1 + 2*x2, 2*x3 + x4)"
      ]
     },
     "execution_count": 114,
     "metadata": {},
     "output_type": "execute_result"
    }
   ],
   "source": [
    "eq_oxygen = sp.Eq(x1 + 2*x2, 2*x3 + x4)  \n",
    "eq_oxygen"
   ]
  },
  {
   "cell_type": "code",
   "execution_count": 115,
   "id": "92a2a64e",
   "metadata": {},
   "outputs": [
    {
     "data": {
      "text/latex": [
       "$\\displaystyle \\left[\\begin{matrix}1 & 0 & -1 & 0\\\\4 & 0 & 0 & -2\\\\1 & 2 & -2 & -1\\end{matrix}\\right]$"
      ],
      "text/plain": [
       "Matrix([\n",
       "[1, 0, -1,  0],\n",
       "[4, 0,  0, -2],\n",
       "[1, 2, -2, -1]])"
      ]
     },
     "execution_count": 115,
     "metadata": {},
     "output_type": "execute_result"
    }
   ],
   "source": [
    "A, b = sp.linear_eq_to_matrix([eq_carbon, eq_hydrogen, eq_oxygen], (x1, x2, x3, x4))\n",
    "A"
   ]
  },
  {
   "cell_type": "code",
   "execution_count": 116,
   "id": "23e7c660",
   "metadata": {},
   "outputs": [
    {
     "data": {
      "text/latex": [
       "$\\displaystyle \\left[\\begin{matrix}0\\\\0\\\\0\\end{matrix}\\right]$"
      ],
      "text/plain": [
       "Matrix([\n",
       "[0],\n",
       "[0],\n",
       "[0]])"
      ]
     },
     "execution_count": 116,
     "metadata": {},
     "output_type": "execute_result"
    }
   ],
   "source": [
    "b"
   ]
  },
  {
   "cell_type": "code",
   "execution_count": 117,
   "id": "54daca19",
   "metadata": {},
   "outputs": [
    {
     "data": {
      "text/plain": [
       "1"
      ]
     },
     "execution_count": 117,
     "metadata": {},
     "output_type": "execute_result"
    }
   ],
   "source": [
    "nullspace = A.nullspace()\n",
    "len(nullspace)"
   ]
  },
  {
   "cell_type": "code",
   "execution_count": 118,
   "id": "9152ff86",
   "metadata": {},
   "outputs": [
    {
     "data": {
      "text/latex": [
       "$\\displaystyle \\left[\\begin{matrix}\\frac{1}{2}\\\\\\frac{3}{4}\\\\\\frac{1}{2}\\\\1\\end{matrix}\\right]$"
      ],
      "text/plain": [
       "Matrix([\n",
       "[1/2],\n",
       "[3/4],\n",
       "[1/2],\n",
       "[  1]])"
      ]
     },
     "execution_count": 118,
     "metadata": {},
     "output_type": "execute_result"
    }
   ],
   "source": [
    "basis_vector = nullspace[0]\n",
    "basis_vector"
   ]
  },
  {
   "cell_type": "code",
   "execution_count": 119,
   "id": "19d5f491",
   "metadata": {},
   "outputs": [
    {
     "data": {
      "text/latex": [
       "$\\displaystyle 4$"
      ],
      "text/plain": [
       "4"
      ]
     },
     "execution_count": 119,
     "metadata": {},
     "output_type": "execute_result"
    }
   ],
   "source": [
    "denoms = [sp.denom(term) for term in basis_vector]\n",
    "lcm = sp.lcm(denoms)\n",
    "lcm"
   ]
  },
  {
   "cell_type": "code",
   "execution_count": 120,
   "id": "b9448081",
   "metadata": {},
   "outputs": [
    {
     "data": {
      "text/latex": [
       "$\\displaystyle \\left[\\begin{matrix}2\\\\3\\\\2\\\\4\\end{matrix}\\right]$"
      ],
      "text/plain": [
       "Matrix([\n",
       "[2],\n",
       "[3],\n",
       "[2],\n",
       "[4]])"
      ]
     },
     "execution_count": 120,
     "metadata": {},
     "output_type": "execute_result"
    }
   ],
   "source": [
    "solution = basis_vector * lcm\n",
    "solution"
   ]
  },
  {
   "cell_type": "markdown",
   "id": "e27da3a4",
   "metadata": {
    "tags": [
     "remove-print"
    ]
   },
   "source": [
    "[Think Linear Algebra](https://allendowney.github.io/ThinkLinearAlgebra/index.html)\n",
    "\n",
    "Copyright 2025 [Allen B. Downey](https://allendowney.com)\n",
    "\n",
    "Code license: [MIT License](https://mit-license.org/)\n",
    "\n",
    "Text license: [Creative Commons Attribution-NonCommercial-ShareAlike 4.0 International](https://creativecommons.org/licenses/by-nc-sa/4.0/)"
   ]
  },
  {
   "cell_type": "code",
   "execution_count": null,
   "id": "c8b4e400-dc97-498e-9016-3e9ef05dc7a3",
   "metadata": {},
   "outputs": [],
   "source": []
  }
 ],
 "metadata": {
  "celltoolbar": "Tags",
  "kernelspec": {
   "display_name": "Python 3 (ipykernel)",
   "language": "python",
   "name": "python3"
  },
  "language_info": {
   "codemirror_mode": {
    "name": "ipython",
    "version": 3
   },
   "file_extension": ".py",
   "mimetype": "text/x-python",
   "name": "python",
   "nbconvert_exporter": "python",
   "pygments_lexer": "ipython3",
   "version": "3.10.16"
  }
 },
 "nbformat": 4,
 "nbformat_minor": 5
}
