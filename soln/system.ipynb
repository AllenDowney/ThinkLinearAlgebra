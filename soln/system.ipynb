{
 "cells": [
  {
   "cell_type": "markdown",
   "id": "025b76df",
   "metadata": {},
   "source": [
    "*Think Linear Algebra* is not for sale yet, but if you would like to support this project, you can [buy me a coffee](https://buymeacoffee.com/allendowney)."
   ]
  },
  {
   "cell_type": "markdown",
   "id": "85c30bdb",
   "metadata": {},
   "source": [
    "# Systems\n",
    "\n",
    "This chapter contains only the code, no text yet!"
   ]
  },
  {
   "cell_type": "markdown",
   "id": "3893fe82",
   "metadata": {
    "tags": [
     "remove-print"
    ]
   },
   "source": [
    "[Click here to run this notebook on Colab](https://colab.research.google.com/github/AllenDowney/ThinkLinearAlgebra/blob/main/chapters/system.ipynb)."
   ]
  },
  {
   "cell_type": "code",
   "execution_count": 18,
   "id": "c17ab159",
   "metadata": {
    "tags": [
     "remove-cell"
    ]
   },
   "outputs": [
    {
     "name": "stdout",
     "output_type": "stream",
     "text": [
      "The autoreload extension is already loaded. To reload it, use:\n",
      "  %reload_ext autoreload\n"
     ]
    }
   ],
   "source": [
    "# temporary hack to make autoreload work on Colab\n",
    "import importlib, sys\n",
    "sys.modules[\"imp\"] = importlib\n",
    "\n",
    "%load_ext autoreload\n",
    "%autoreload 2"
   ]
  },
  {
   "cell_type": "code",
   "execution_count": 19,
   "id": "02d400cf",
   "metadata": {
    "tags": [
     "remove-print",
     "hide-cell"
    ]
   },
   "outputs": [],
   "source": [
    "from os.path import basename, exists\n",
    "\n",
    "\n",
    "def download(url):\n",
    "    filename = basename(url)\n",
    "    if not exists(filename):\n",
    "        from urllib.request import urlretrieve\n",
    "\n",
    "        local, _ = urlretrieve(url, filename)\n",
    "        print(\"Downloaded \" + local)\n",
    "\n",
    "\n",
    "download(\"https://github.com/AllenDowney/ThinkLinearAlgebra/raw/main/utils.py\")"
   ]
  },
  {
   "cell_type": "code",
   "execution_count": 20,
   "id": "1a3119be",
   "metadata": {
    "tags": [
     "hide-cell",
     "remove-print"
    ]
   },
   "outputs": [],
   "source": [
    "import networkx as nx\n",
    "import numpy as np\n",
    "import pandas as pd\n",
    "import matplotlib.pyplot as plt\n",
    "import sympy as sp\n",
    "\n",
    "from utils import decorate"
   ]
  },
  {
   "cell_type": "code",
   "execution_count": 21,
   "id": "d9a041da",
   "metadata": {
    "tags": [
     "remove-cell"
    ]
   },
   "outputs": [],
   "source": [
    "from utils import set_precision\n",
    "\n",
    "set_precision(3)"
   ]
  },
  {
   "cell_type": "markdown",
   "id": "fe490a51",
   "metadata": {},
   "source": [
    "## Systems of Equations\n",
    "\n",
    "If you studied algebra, you might have encountered dreaded word problems like this one:\n",
    "\n",
    "\n",
    "> At a school play, 50 tickets were sold for a total of \\$380. Tickets were priced as follows:\n",
    ">\n",
    "> - Child tickets: \\$5  \n",
    "> - Adult tickets: \\$12  \n",
    "> - Senior tickets: \\$8  \n",
    ">\n",
    "> Each adult brought exactly two children with them, and no children attended without an adult.\n",
    ">\n",
    "> How many of each type of ticket were sold?\n",
    "\n",
    "To answer questions like this, you were probably taught to define variables to represent the unknown quantities. For example, we'll define\n",
    "\n",
    "- $c$ as the number of child tickets sold  \n",
    "- $a$ as the number of adult tickets sold  \n",
    "- $s$ as the number of senior tickets sold  \n",
    "\n",
    "We can use SymPy to represent these variables with symbols."
   ]
  },
  {
   "cell_type": "code",
   "execution_count": 22,
   "id": "fd518c41",
   "metadata": {},
   "outputs": [],
   "source": [
    "c, a, s = sp.symbols('c a s')"
   ]
  },
  {
   "cell_type": "markdown",
   "id": "dd5ddd74",
   "metadata": {},
   "source": [
    "Next we can write equations to represent the given relationships among the variable.\n",
    "This equation represents the total number of tickets sold:"
   ]
  },
  {
   "cell_type": "code",
   "execution_count": 23,
   "id": "da6044ed",
   "metadata": {},
   "outputs": [
    {
     "data": {
      "text/latex": [
       "$\\displaystyle a + c + s = 50$"
      ],
      "text/plain": [
       "Eq(a + c + s, 50)"
      ]
     },
     "execution_count": 23,
     "metadata": {},
     "output_type": "execute_result"
    }
   ],
   "source": [
    "eq1 = sp.Eq(c + a + s, 50)\n",
    "eq1"
   ]
  },
  {
   "cell_type": "markdown",
   "id": "c3553ef9",
   "metadata": {},
   "source": [
    "This one represents total sales."
   ]
  },
  {
   "cell_type": "code",
   "execution_count": 24,
   "id": "8269f715",
   "metadata": {},
   "outputs": [
    {
     "data": {
      "text/latex": [
       "$\\displaystyle 12 a + 5 c + 8 s = 380$"
      ],
      "text/plain": [
       "Eq(12*a + 5*c + 8*s, 380)"
      ]
     },
     "execution_count": 24,
     "metadata": {},
     "output_type": "execute_result"
    }
   ],
   "source": [
    "eq2 = sp.Eq(5*c + 12*a + 8*s, 380)\n",
    "eq2"
   ]
  },
  {
   "cell_type": "markdown",
   "id": "37ae5c78",
   "metadata": {},
   "source": [
    "And this one represents the constraint that every adult brings two children."
   ]
  },
  {
   "cell_type": "code",
   "execution_count": 25,
   "id": "479d691b",
   "metadata": {},
   "outputs": [
    {
     "data": {
      "text/latex": [
       "$\\displaystyle c = 2 a$"
      ],
      "text/plain": [
       "Eq(c, 2*a)"
      ]
     },
     "execution_count": 25,
     "metadata": {},
     "output_type": "execute_result"
    }
   ],
   "source": [
    "eq3 = sp.Eq(c, 2*a)\n",
    "eq3"
   ]
  },
  {
   "cell_type": "markdown",
   "id": "6158b20f",
   "metadata": {},
   "source": [
    "To solve these equations, we can use the SymPy function `linsolve`, which takes as parameters a list of equations and a list of unknowns. "
   ]
  },
  {
   "cell_type": "code",
   "execution_count": 26,
   "id": "4e4301b8",
   "metadata": {},
   "outputs": [
    {
     "data": {
      "text/latex": [
       "$\\displaystyle \\left\\{\\left( 20, \\  10, \\  20\\right)\\right\\}$"
      ],
      "text/plain": [
       "{(20, 10, 20)}"
      ]
     },
     "execution_count": 26,
     "metadata": {},
     "output_type": "execute_result"
    }
   ],
   "source": [
    "eqns = [eq1, eq2, eq3]\n",
    "unknowns = [c, a, s]\n",
    "\n",
    "sp.linsolve(eqns, unknowns)"
   ]
  },
  {
   "cell_type": "markdown",
   "id": "d717a19d",
   "metadata": {},
   "source": [
    "The result is a set of solutions -- in this case there is only one: 20 children, 10 adults, and 20 seniors.\n",
    "\n",
    "Now let's see how `linsolve` works."
   ]
  },
  {
   "cell_type": "markdown",
   "id": "0350219c",
   "metadata": {},
   "source": [
    "## Matrix Equations\n",
    "\n",
    "The algorithm `linsolve` uses is Gauss-Jordan elimination.\n",
    "The first step is to write the system of equations as a matrix equation.\n",
    "SymPy provides a function that extracts from the equations a matrix of coefficients and a vector of constants."
   ]
  },
  {
   "cell_type": "code",
   "execution_count": 87,
   "id": "5adbbddb",
   "metadata": {},
   "outputs": [
    {
     "data": {
      "text/latex": [
       "$\\displaystyle \\left[\\begin{matrix}1 & 1 & 1\\\\5 & 12 & 8\\\\1 & -2 & 0\\end{matrix}\\right]$"
      ],
      "text/plain": [
       "Matrix([\n",
       "[1,  1, 1],\n",
       "[5, 12, 8],\n",
       "[1, -2, 0]])"
      ]
     },
     "execution_count": 87,
     "metadata": {},
     "output_type": "execute_result"
    }
   ],
   "source": [
    "A, b = sp.linear_eq_to_matrix(eqns, unknowns)\n",
    "A"
   ]
  },
  {
   "cell_type": "code",
   "execution_count": 28,
   "id": "b260d1f8",
   "metadata": {},
   "outputs": [
    {
     "data": {
      "text/latex": [
       "$\\displaystyle \\left[\\begin{matrix}50\\\\380\\\\0\\end{matrix}\\right]$"
      ],
      "text/plain": [
       "Matrix([\n",
       "[ 50],\n",
       "[380],\n",
       "[  0]])"
      ]
     },
     "execution_count": 28,
     "metadata": {},
     "output_type": "execute_result"
    }
   ],
   "source": [
    "b"
   ]
  },
  {
   "cell_type": "markdown",
   "id": "22dc1725",
   "metadata": {},
   "source": [
    "In this representation, the unknowns don't appear explicitly, but if we put the unknowns in a vector, `x`, we can write the equations in the form $Ax = b$.\n",
    "So we can recover the original equations like this:"
   ]
  },
  {
   "cell_type": "code",
   "execution_count": 29,
   "id": "8ad48089",
   "metadata": {},
   "outputs": [
    {
     "data": {
      "text/latex": [
       "$\\displaystyle \\left[\\begin{matrix}a + c + s\\\\12 a + 5 c + 8 s\\\\- 2 a + c\\end{matrix}\\right] = \\left[\\begin{matrix}50\\\\380\\\\0\\end{matrix}\\right]$"
      ],
      "text/plain": [
       "Eq(Matrix([\n",
       "[       a + c + s],\n",
       "[12*a + 5*c + 8*s],\n",
       "[        -2*a + c]]), Matrix([\n",
       "[ 50],\n",
       "[380],\n",
       "[  0]]))"
      ]
     },
     "execution_count": 29,
     "metadata": {},
     "output_type": "execute_result"
    }
   ],
   "source": [
    "x = sp.Matrix(unknowns)\n",
    "sp.Eq(A * x, b)"
   ]
  },
  {
   "cell_type": "markdown",
   "id": "c6fc2994",
   "metadata": {},
   "source": [
    "Note that for a SymPy matrix, the `*` operator performs matrix multiplication.\n",
    "\n",
    "The next step in Gauss-Jordan elimination is to form an **augmented matrix** with `b` appended to `A` as an additional column."
   ]
  },
  {
   "cell_type": "code",
   "execution_count": 30,
   "id": "6a2b187b",
   "metadata": {},
   "outputs": [
    {
     "data": {
      "text/latex": [
       "$\\displaystyle \\left[\\begin{matrix}1 & 1 & 1 & 50\\\\5 & 12 & 8 & 380\\\\1 & -2 & 0 & 0\\end{matrix}\\right]$"
      ],
      "text/plain": [
       "Matrix([\n",
       "[1,  1, 1,  50],\n",
       "[5, 12, 8, 380],\n",
       "[1, -2, 0,   0]])"
      ]
     },
     "execution_count": 30,
     "metadata": {},
     "output_type": "execute_result"
    }
   ],
   "source": [
    "M = A.row_join(b)\n",
    "M"
   ]
  },
  {
   "cell_type": "markdown",
   "id": "215d2e69",
   "metadata": {},
   "source": [
    "Each row of the augmented matrix represents an equation with a left hand side and a right hand side."
   ]
  },
  {
   "cell_type": "code",
   "execution_count": 41,
   "id": "b55bbad3",
   "metadata": {},
   "outputs": [
    {
     "data": {
      "text/latex": [
       "$\\displaystyle \\left[\\begin{matrix}1 & 1 & 1 & 50\\end{matrix}\\right]$"
      ],
      "text/plain": [
       "Matrix([[1, 1, 1, 50]])"
      ]
     },
     "execution_count": 41,
     "metadata": {},
     "output_type": "execute_result"
    }
   ],
   "source": [
    "row0 = M[0, :]\n",
    "row0"
   ]
  },
  {
   "cell_type": "markdown",
   "id": "b8bc6f99",
   "metadata": {},
   "source": [
    "If we multiply both sides of the equation by a constant, the result is still a valid equation."
   ]
  },
  {
   "cell_type": "code",
   "execution_count": 42,
   "id": "adf42734",
   "metadata": {},
   "outputs": [
    {
     "data": {
      "text/latex": [
       "$\\displaystyle \\left[\\begin{matrix}5 & 5 & 5 & 250\\end{matrix}\\right]$"
      ],
      "text/plain": [
       "Matrix([[5, 5, 5, 250]])"
      ]
     },
     "execution_count": 42,
     "metadata": {},
     "output_type": "execute_result"
    }
   ],
   "source": [
    "row0 * 5"
   ]
  },
  {
   "cell_type": "markdown",
   "id": "cbd9c37f",
   "metadata": {},
   "source": [
    "And if we add or subtract two equations, the result is a valid equation."
   ]
  },
  {
   "cell_type": "code",
   "execution_count": 43,
   "id": "dbea5ec3",
   "metadata": {},
   "outputs": [
    {
     "data": {
      "text/latex": [
       "$\\displaystyle \\left[\\begin{matrix}0 & 7 & 3 & 130\\end{matrix}\\right]$"
      ],
      "text/plain": [
       "Matrix([[0, 7, 3, 130]])"
      ]
     },
     "execution_count": 43,
     "metadata": {},
     "output_type": "execute_result"
    }
   ],
   "source": [
    "row1 = M[1, :] \n",
    "row1 - 5 * row0"
   ]
  },
  {
   "cell_type": "markdown",
   "id": "01d517b1",
   "metadata": {},
   "source": [
    "Notice that by subtracting rows in this way, we canceled out one of the coefficients, leaving a zero at the beginning of the row -- which means that this equation depends on one less variable.\n",
    "\n",
    "Continuing in this way, we can use these row operations to cancel out one coefficient at a time.\n",
    "We'll use the following function, which takes `M` and uses row `i` to eliminate the element in row `j`, column `k`."
   ]
  },
  {
   "cell_type": "code",
   "execution_count": 84,
   "id": "e1d8ecde",
   "metadata": {},
   "outputs": [],
   "source": [
    "def row_reduce(M, i, j, k):\n",
    "    row_i = M[i, :]\n",
    "    row_j = M[j, :]\n",
    "    factor = row_j[k] / row_i[k]\n",
    "    M[j, :] -= factor * row_i\n",
    "    return factor"
   ]
  },
  {
   "cell_type": "code",
   "execution_count": 45,
   "id": "0ee64f2b",
   "metadata": {},
   "outputs": [
    {
     "data": {
      "text/latex": [
       "$\\displaystyle \\left[\\begin{matrix}1 & 1 & 1 & 50\\\\0 & 7 & 3 & 130\\\\1 & -2 & 0 & 0\\end{matrix}\\right]$"
      ],
      "text/plain": [
       "Matrix([\n",
       "[1,  1, 1,  50],\n",
       "[0,  7, 3, 130],\n",
       "[1, -2, 0,   0]])"
      ]
     },
     "execution_count": 45,
     "metadata": {},
     "output_type": "execute_result"
    }
   ],
   "source": [
    "row_reduce(M, 0, 1, 0)\n",
    "M"
   ]
  },
  {
   "cell_type": "code",
   "execution_count": 46,
   "id": "1d3373ef",
   "metadata": {},
   "outputs": [
    {
     "data": {
      "text/latex": [
       "$\\displaystyle \\left[\\begin{matrix}1 & 1 & 1 & 50\\\\0 & 7 & 3 & 130\\\\0 & 0 & \\frac{2}{7} & \\frac{40}{7}\\end{matrix}\\right]$"
      ],
      "text/plain": [
       "Matrix([\n",
       "[1, 1,   1,   50],\n",
       "[0, 7,   3,  130],\n",
       "[0, 0, 2/7, 40/7]])"
      ]
     },
     "execution_count": 46,
     "metadata": {},
     "output_type": "execute_result"
    }
   ],
   "source": [
    "row_reduce(M, 0, 2, 0)\n",
    "row_reduce(M, 1, 2, 1)\n",
    "M"
   ]
  },
  {
   "cell_type": "code",
   "execution_count": 47,
   "id": "e04857ab",
   "metadata": {},
   "outputs": [
    {
     "data": {
      "text/latex": [
       "$\\displaystyle \\left[\\begin{matrix}1 & 1 & 1 & 50\\\\0 & 7 & 0 & 70\\\\0 & 0 & \\frac{2}{7} & \\frac{40}{7}\\end{matrix}\\right]$"
      ],
      "text/plain": [
       "Matrix([\n",
       "[1, 1,   1,   50],\n",
       "[0, 7,   0,   70],\n",
       "[0, 0, 2/7, 40/7]])"
      ]
     },
     "execution_count": 47,
     "metadata": {},
     "output_type": "execute_result"
    }
   ],
   "source": [
    "row_reduce(M, 2, 1, 2)\n",
    "M"
   ]
  },
  {
   "cell_type": "code",
   "execution_count": 48,
   "id": "841be262",
   "metadata": {},
   "outputs": [
    {
     "data": {
      "text/latex": [
       "$\\displaystyle \\left[\\begin{matrix}1 & 0 & 0 & 20\\\\0 & 7 & 0 & 70\\\\0 & 0 & \\frac{2}{7} & \\frac{40}{7}\\end{matrix}\\right]$"
      ],
      "text/plain": [
       "Matrix([\n",
       "[1, 0,   0,   20],\n",
       "[0, 7,   0,   70],\n",
       "[0, 0, 2/7, 40/7]])"
      ]
     },
     "execution_count": 48,
     "metadata": {},
     "output_type": "execute_result"
    }
   ],
   "source": [
    "row_reduce(M, 2, 0, 2)\n",
    "row_reduce(M, 1, 0, 1)\n",
    "M"
   ]
  },
  {
   "cell_type": "markdown",
   "id": "a339ce0d",
   "metadata": {},
   "source": [
    "As the last step, we'll use this function to divide each row by its one remaining coefficient."
   ]
  },
  {
   "cell_type": "code",
   "execution_count": 51,
   "id": "de5afa71",
   "metadata": {},
   "outputs": [],
   "source": [
    "def normalize_rows(M):\n",
    "    rows, cols = M.shape\n",
    "    for i in range(rows):\n",
    "        M[i, :] /= M[i, i]"
   ]
  },
  {
   "cell_type": "markdown",
   "id": "e318ad61",
   "metadata": {},
   "source": [
    "In the result, the solution appears in the last column."
   ]
  },
  {
   "cell_type": "code",
   "execution_count": 52,
   "id": "e0c60eb5",
   "metadata": {},
   "outputs": [
    {
     "data": {
      "text/latex": [
       "$\\displaystyle \\left[\\begin{matrix}1 & 0 & 0 & 20\\\\0 & 1 & 0 & 10\\\\0 & 0 & 1 & 20\\end{matrix}\\right]$"
      ],
      "text/plain": [
       "Matrix([\n",
       "[1, 0, 0, 20],\n",
       "[0, 1, 0, 10],\n",
       "[0, 0, 1, 20]])"
      ]
     },
     "execution_count": 52,
     "metadata": {},
     "output_type": "execute_result"
    }
   ],
   "source": [
    "normalize_rows(M)\n",
    "M"
   ]
  },
  {
   "cell_type": "markdown",
   "id": "e89760ef",
   "metadata": {},
   "source": [
    "We can split the augmented matrix into a square matrix and a solution vector."
   ]
  },
  {
   "cell_type": "code",
   "execution_count": 53,
   "id": "a74d036b",
   "metadata": {},
   "outputs": [],
   "source": [
    "I = M[:, :-1]\n",
    "sol = M[:, -1]"
   ]
  },
  {
   "cell_type": "markdown",
   "id": "37673b85",
   "metadata": {},
   "source": [
    "And we can represent the solution as a vector equality."
   ]
  },
  {
   "cell_type": "code",
   "execution_count": 55,
   "id": "d63eb3a9",
   "metadata": {},
   "outputs": [
    {
     "data": {
      "text/latex": [
       "$\\displaystyle \\left[\\begin{matrix}c\\\\a\\\\s\\end{matrix}\\right] = \\left[\\begin{matrix}20\\\\10\\\\20\\end{matrix}\\right]$"
      ],
      "text/plain": [
       "Eq(Matrix([\n",
       "[c],\n",
       "[a],\n",
       "[s]]), Matrix([\n",
       "[20],\n",
       "[10],\n",
       "[20]]))"
      ]
     },
     "execution_count": 55,
     "metadata": {},
     "output_type": "execute_result"
    }
   ],
   "source": [
    "sp.Eq(I * x, sol)"
   ]
  },
  {
   "cell_type": "markdown",
   "id": "5c97386b",
   "metadata": {},
   "source": [
    "I called the reduced matrix `I` because that's the conventional name for the identity matrix.\n",
    "If we multiply `I` by any vector, the result is the same vector."
   ]
  },
  {
   "cell_type": "code",
   "execution_count": 56,
   "id": "533e6a1c",
   "metadata": {},
   "outputs": [
    {
     "data": {
      "text/latex": [
       "$\\displaystyle \\left[\\begin{matrix}c\\\\a\\\\s\\end{matrix}\\right]$"
      ],
      "text/plain": [
       "Matrix([\n",
       "[c],\n",
       "[a],\n",
       "[s]])"
      ]
     },
     "execution_count": 56,
     "metadata": {},
     "output_type": "execute_result"
    }
   ],
   "source": [
    "I * x"
   ]
  },
  {
   "cell_type": "markdown",
   "id": "715f515e",
   "metadata": {},
   "source": [
    "And if we multiply by any matrix, the result is the same matrix."
   ]
  },
  {
   "cell_type": "code",
   "execution_count": 57,
   "id": "a0d71e6b",
   "metadata": {},
   "outputs": [
    {
     "data": {
      "text/latex": [
       "$\\displaystyle \\left[\\begin{matrix}1 & 1 & 1\\\\5 & 12 & 8\\\\1 & -2 & 0\\end{matrix}\\right]$"
      ],
      "text/plain": [
       "Matrix([\n",
       "[1,  1, 1],\n",
       "[5, 12, 8],\n",
       "[1, -2, 0]])"
      ]
     },
     "execution_count": 57,
     "metadata": {},
     "output_type": "execute_result"
    }
   ],
   "source": [
    "I * A"
   ]
  },
  {
   "cell_type": "markdown",
   "id": "bfa6b27b",
   "metadata": {},
   "source": [
    "Gauss-Jordan elimination is just one way to solve a matrix equation.\n",
    "Let's look at another."
   ]
  },
  {
   "cell_type": "markdown",
   "id": "a43368b7",
   "metadata": {},
   "source": [
    "## Matrix Inversion\n",
    "\n",
    "Suppose you want to solve an equation like $ax = b$, where $a$ and $b$ are scalars.\n",
    "If you divide both sides by $a$, the result is $x = b/a$, which is considered a solution because we know how to do scalar division.\n",
    "\n",
    "Unfortunately, we can't do the same thing with a matrix equation like $Ax = b$ because there's no general definition for matrix division.\n",
    "But one option is to avoid division using inverse multiplication.\n",
    "In the scalar equation, that means multiplying both sides by $1/a$, also denoted $a^{-1}$.\n",
    "\n",
    "$$a^{-1} a x = a^{-1} b$$\n",
    "\n",
    "On the left side, $a^{-1} a = 1$, so we have\n",
    "\n",
    "$$x = a^{-1} b$$\n",
    "\n",
    "We can do the same thing with the matrix equation.\n",
    "If we can find the inverse of $A$, denoted $A^{-1}$, we can multiply both sides of the matrix equation to get:\n",
    "\n",
    "$$A^{-1} A x = A^{-1} b$$\n",
    "\n",
    "On the left side, the product $A^{-1} A$ is the identity matrix $I$, and we have already seen that $I x = x$, so the result is\n",
    "\n",
    "$$x = A^{-1} b$$\n",
    "\n",
    "which is considered a solution because we know how to do matrix multiplication.\n",
    "\n",
    "Now all we have to do is find $A^{-1}$.\n",
    "SciPy provides a function that does it."
   ]
  },
  {
   "cell_type": "code",
   "execution_count": 58,
   "id": "dfb807dc",
   "metadata": {},
   "outputs": [
    {
     "data": {
      "text/latex": [
       "$\\displaystyle \\left[\\begin{matrix}8 & -1 & -2\\\\4 & - \\frac{1}{2} & - \\frac{3}{2}\\\\-11 & \\frac{3}{2} & \\frac{7}{2}\\end{matrix}\\right]$"
      ],
      "text/plain": [
       "Matrix([\n",
       "[  8,   -1,   -2],\n",
       "[  4, -1/2, -3/2],\n",
       "[-11,  3/2,  7/2]])"
      ]
     },
     "execution_count": 58,
     "metadata": {},
     "output_type": "execute_result"
    }
   ],
   "source": [
    "from scipy.linalg import inv\n",
    "\n",
    "A_inv = A.inv()\n",
    "A_inv"
   ]
  },
  {
   "cell_type": "markdown",
   "id": "beeada9d",
   "metadata": {},
   "source": [
    "We can confirm that $A^{-1} A = I$."
   ]
  },
  {
   "cell_type": "code",
   "execution_count": 59,
   "id": "5ee646d5",
   "metadata": {},
   "outputs": [
    {
     "data": {
      "text/latex": [
       "$\\displaystyle \\left[\\begin{matrix}1 & 0 & 0\\\\0 & 1 & 0\\\\0 & 0 & 1\\end{matrix}\\right]$"
      ],
      "text/plain": [
       "Matrix([\n",
       "[1, 0, 0],\n",
       "[0, 1, 0],\n",
       "[0, 0, 1]])"
      ]
     },
     "execution_count": 59,
     "metadata": {},
     "output_type": "execute_result"
    }
   ],
   "source": [
    "A_inv * A"
   ]
  },
  {
   "cell_type": "markdown",
   "id": "49c3887f",
   "metadata": {},
   "source": [
    "And we can find a solution by evaluating the right hand side, $A^{-1} b$."
   ]
  },
  {
   "cell_type": "code",
   "execution_count": 60,
   "id": "f42986ef",
   "metadata": {},
   "outputs": [
    {
     "data": {
      "text/latex": [
       "$\\displaystyle \\left[\\begin{matrix}20\\\\10\\\\20\\end{matrix}\\right]$"
      ],
      "text/plain": [
       "Matrix([\n",
       "[20],\n",
       "[10],\n",
       "[20]])"
      ]
     },
     "execution_count": 60,
     "metadata": {},
     "output_type": "execute_result"
    }
   ],
   "source": [
    "A_inv * b"
   ]
  },
  {
   "cell_type": "markdown",
   "id": "6f86f711",
   "metadata": {},
   "source": [
    "That solution should look familiar.\n",
    "\n",
    "There are several ways to find the inverse of a matrix.\n",
    "One is to write the matrix equation $A A^{-1} = I$ and use Gauss-Jordan elimination to solve for $A^{-1}$."
   ]
  },
  {
   "cell_type": "code",
   "execution_count": 61,
   "id": "979f7384",
   "metadata": {},
   "outputs": [
    {
     "data": {
      "text/latex": [
       "$\\displaystyle \\left[\\begin{matrix}1 & 1 & 1 & 1 & 0 & 0\\\\5 & 12 & 8 & 0 & 1 & 0\\\\1 & -2 & 0 & 0 & 0 & 1\\end{matrix}\\right]$"
      ],
      "text/plain": [
       "Matrix([\n",
       "[1,  1, 1, 1, 0, 0],\n",
       "[5, 12, 8, 0, 1, 0],\n",
       "[1, -2, 0, 0, 0, 1]])"
      ]
     },
     "execution_count": 61,
     "metadata": {},
     "output_type": "execute_result"
    }
   ],
   "source": [
    "M = A.row_join(I)\n",
    "M"
   ]
  },
  {
   "cell_type": "code",
   "execution_count": 62,
   "id": "43bf4009",
   "metadata": {},
   "outputs": [],
   "source": [
    "def gauss_jordan_elimination(M):\n",
    "    rows, cols = M.shape\n",
    "    for i in range(rows):\n",
    "        for j in range(rows):\n",
    "            if i != j:\n",
    "                row_reduce(M, i, j, i)"
   ]
  },
  {
   "cell_type": "code",
   "execution_count": 63,
   "id": "2b719b7c",
   "metadata": {},
   "outputs": [
    {
     "data": {
      "text/latex": [
       "$\\displaystyle \\left[\\begin{matrix}1 & 0 & 0 & 8 & -1 & -2\\\\0 & 7 & 0 & 28 & - \\frac{7}{2} & - \\frac{21}{2}\\\\0 & 0 & \\frac{2}{7} & - \\frac{22}{7} & \\frac{3}{7} & 1\\end{matrix}\\right]$"
      ],
      "text/plain": [
       "Matrix([\n",
       "[1, 0,   0,     8,   -1,    -2],\n",
       "[0, 7,   0,    28, -7/2, -21/2],\n",
       "[0, 0, 2/7, -22/7,  3/7,     1]])"
      ]
     },
     "execution_count": 63,
     "metadata": {},
     "output_type": "execute_result"
    }
   ],
   "source": [
    "gauss_jordan_elimination(M)\n",
    "M"
   ]
  },
  {
   "cell_type": "code",
   "execution_count": 64,
   "id": "e902a62f",
   "metadata": {},
   "outputs": [
    {
     "data": {
      "text/latex": [
       "$\\displaystyle \\left[\\begin{matrix}1 & 0 & 0 & 8 & -1 & -2\\\\0 & 1 & 0 & 4 & - \\frac{1}{2} & - \\frac{3}{2}\\\\0 & 0 & 1 & -11 & \\frac{3}{2} & \\frac{7}{2}\\end{matrix}\\right]$"
      ],
      "text/plain": [
       "Matrix([\n",
       "[1, 0, 0,   8,   -1,   -2],\n",
       "[0, 1, 0,   4, -1/2, -3/2],\n",
       "[0, 0, 1, -11,  3/2,  7/2]])"
      ]
     },
     "execution_count": 64,
     "metadata": {},
     "output_type": "execute_result"
    }
   ],
   "source": [
    "normalize_rows(M)\n",
    "M"
   ]
  },
  {
   "cell_type": "markdown",
   "id": "aaec9124",
   "metadata": {},
   "source": [
    "The result is an augmented matrix that contains $I$ on the left and $A^{-1}$ on the right.\n",
    "\n",
    "So that's one way to find the inverse of a matrix, but the `inv` uses a different algorithm, called LU decomposition."
   ]
  },
  {
   "cell_type": "markdown",
   "id": "1c089ee0",
   "metadata": {},
   "source": [
    "## LU Decomposition\n",
    "\n",
    "I will start by explaining what LU decomposition is, then why it is useful, and then how we compute it.\n",
    "\n",
    "In general, a **decomposition** of a matrix, $A$, is a set of matrices whose product is $A$.\n",
    "More specifically, an LU decomposition is two matrixes, $L$ and $U$, where $L U = A$.\n",
    "Also, $L$ is a lower triangular matrix and $U$ is an upper triangular matrix -- and I'll explain what that means below.\n",
    "\n",
    "SciPy matrices have a method that finds an LU decomposition."
   ]
  },
  {
   "cell_type": "code",
   "execution_count": 65,
   "id": "4ddc7c32",
   "metadata": {},
   "outputs": [],
   "source": [
    "L, U, perm = A.LUdecomposition()"
   ]
  },
  {
   "cell_type": "markdown",
   "id": "4eb6e4ee",
   "metadata": {},
   "source": [
    "We can confirm that $L U = A$."
   ]
  },
  {
   "cell_type": "code",
   "execution_count": 69,
   "id": "f05f27c8",
   "metadata": {},
   "outputs": [
    {
     "data": {
      "text/latex": [
       "$\\displaystyle \\text{True}$"
      ],
      "text/plain": [
       "True"
      ]
     },
     "execution_count": 69,
     "metadata": {},
     "output_type": "execute_result"
    }
   ],
   "source": [
    "sp.Eq(L * U, A)"
   ]
  },
  {
   "cell_type": "markdown",
   "id": "67e3dfb8",
   "metadata": {},
   "source": [
    "`L` is lower triangular, which means all of the non-zero elements are on or below the main diagonal."
   ]
  },
  {
   "cell_type": "code",
   "execution_count": 67,
   "id": "f6fbd0de",
   "metadata": {},
   "outputs": [
    {
     "data": {
      "text/latex": [
       "$\\displaystyle \\left[\\begin{matrix}1 & 0 & 0\\\\5 & 1 & 0\\\\1 & - \\frac{3}{7} & 1\\end{matrix}\\right]$"
      ],
      "text/plain": [
       "Matrix([\n",
       "[1,    0, 0],\n",
       "[5,    1, 0],\n",
       "[1, -3/7, 1]])"
      ]
     },
     "execution_count": 67,
     "metadata": {},
     "output_type": "execute_result"
    }
   ],
   "source": [
    "L"
   ]
  },
  {
   "cell_type": "markdown",
   "id": "903a42c3",
   "metadata": {},
   "source": [
    "And `U` is upper triangular, which means all of the non-zero elements are on or above the main diagonal."
   ]
  },
  {
   "cell_type": "code",
   "execution_count": 68,
   "id": "d9dd3d42",
   "metadata": {},
   "outputs": [
    {
     "data": {
      "text/latex": [
       "$\\displaystyle \\left[\\begin{matrix}1 & 1 & 1\\\\0 & 7 & 3\\\\0 & 0 & \\frac{2}{7}\\end{matrix}\\right]$"
      ],
      "text/plain": [
       "Matrix([\n",
       "[1, 1,   1],\n",
       "[0, 7,   3],\n",
       "[0, 0, 2/7]])"
      ]
     },
     "execution_count": 68,
     "metadata": {},
     "output_type": "execute_result"
    }
   ],
   "source": [
    "U"
   ]
  },
  {
   "cell_type": "markdown",
   "id": "3f6577eb",
   "metadata": {},
   "source": [
    "`LUdecomposition` sometimes permutes (swaps) the rows of the matrix, so it returns a third value, `perm`, which is a list of pairs, where each pair contains the indices of two rows that were swapped.\n",
    "\n",
    "In this example, `perm` is an empty list, meaning that there were no swaps.\n",
    "So we'll ignore this detail for now."
   ]
  },
  {
   "cell_type": "code",
   "execution_count": 72,
   "id": "6fb94ca5",
   "metadata": {},
   "outputs": [
    {
     "data": {
      "text/plain": [
       "[]"
      ]
     },
     "execution_count": 72,
     "metadata": {},
     "output_type": "execute_result"
    }
   ],
   "source": [
    "perm"
   ]
  },
  {
   "cell_type": "markdown",
   "id": "a8086cca",
   "metadata": {},
   "source": [
    "LU decomposition is useful because it provides an efficient way to solve a matrix equation -- and it is numerically stable, which means that it can compute the solution more precisely than multiplication by a matrix inverse.\n",
    "\n",
    "If we have $L$ and $U$ such that $L U = A$, and we want to solve $A x = b$, we can do it by rewriting the matrix equation as $L U x = b$, and substituting in $y$ for $U x$.\n",
    "Then we\n",
    "\n",
    "* Solve $L y = b$ for $y$, and\n",
    "\n",
    "* Solve $U x = y$ for $x$.\n",
    "\n",
    "Here's the first step:"
   ]
  },
  {
   "cell_type": "code",
   "execution_count": 31,
   "id": "e38b7d9f",
   "metadata": {},
   "outputs": [
    {
     "data": {
      "text/latex": [
       "$\\displaystyle \\left[\\begin{matrix}50\\\\130\\\\\\frac{40}{7}\\end{matrix}\\right]$"
      ],
      "text/plain": [
       "Matrix([\n",
       "[  50],\n",
       "[ 130],\n",
       "[40/7]])"
      ]
     },
     "execution_count": 31,
     "metadata": {},
     "output_type": "execute_result"
    }
   ],
   "source": [
    "y = L.solve(b)\n",
    "y"
   ]
  },
  {
   "cell_type": "markdown",
   "id": "19d92fef",
   "metadata": {},
   "source": [
    "And here's the second:"
   ]
  },
  {
   "cell_type": "code",
   "execution_count": 32,
   "id": "92568a78",
   "metadata": {},
   "outputs": [
    {
     "data": {
      "text/latex": [
       "$\\displaystyle \\left[\\begin{matrix}20\\\\10\\\\20\\end{matrix}\\right]$"
      ],
      "text/plain": [
       "Matrix([\n",
       "[20],\n",
       "[10],\n",
       "[20]])"
      ]
     },
     "execution_count": 32,
     "metadata": {},
     "output_type": "execute_result"
    }
   ],
   "source": [
    "x = U.solve(y)\n",
    "x"
   ]
  },
  {
   "cell_type": "markdown",
   "id": "3f4663bc",
   "metadata": {},
   "source": [
    "That result should look familiar.\n",
    "This process is efficient because the `solve` methods provided by `L` and `U` provide take advantage of their structure, so the number of row operations is minimized."
   ]
  },
  {
   "cell_type": "code",
   "execution_count": 79,
   "id": "d5e04c7d",
   "metadata": {},
   "outputs": [
    {
     "data": {
      "text/latex": [
       "$\\displaystyle \\left[\\begin{matrix}1 & 1 & 1 & 1 & 0 & 0\\\\5 & 12 & 8 & 0 & 1 & 0\\\\1 & -2 & 0 & 0 & 0 & 1\\end{matrix}\\right]$"
      ],
      "text/plain": [
       "Matrix([\n",
       "[1,  1, 1, 1, 0, 0],\n",
       "[5, 12, 8, 0, 1, 0],\n",
       "[1, -2, 0, 0, 0, 1]])"
      ]
     },
     "execution_count": 79,
     "metadata": {},
     "output_type": "execute_result"
    }
   ],
   "source": [
    "M = A.row_join(I)\n",
    "M"
   ]
  },
  {
   "cell_type": "markdown",
   "id": "b11ae979",
   "metadata": {},
   "source": [
    "Similar to Gauss-Jordan except\n",
    "\n",
    "* Fewer operations\n",
    "\n",
    "* It stores the factors computed by row_reduce"
   ]
  },
  {
   "cell_type": "code",
   "execution_count": 91,
   "id": "0516ee24",
   "metadata": {},
   "outputs": [],
   "source": [
    "def LUdecomposition(A):\n",
    "    rows, cols = A.shape\n",
    "    U = A.copy()\n",
    "    L = sp.eye(rows)\n",
    "    \n",
    "    for i in range(rows):\n",
    "        for j in range(rows):\n",
    "            if i < j:\n",
    "                L[j, i] = row_reduce(U, i, j, i)\n",
    "\n",
    "    return L, U"
   ]
  },
  {
   "cell_type": "code",
   "execution_count": 92,
   "id": "f7f7111a",
   "metadata": {},
   "outputs": [
    {
     "data": {
      "text/latex": [
       "$\\displaystyle \\left[\\begin{matrix}1 & 0 & 0\\\\5 & 1 & 0\\\\1 & - \\frac{3}{7} & 1\\end{matrix}\\right]$"
      ],
      "text/plain": [
       "Matrix([\n",
       "[1,    0, 0],\n",
       "[5,    1, 0],\n",
       "[1, -3/7, 1]])"
      ]
     },
     "execution_count": 92,
     "metadata": {},
     "output_type": "execute_result"
    }
   ],
   "source": [
    "L, U = LUdecomposition(A)\n",
    "L"
   ]
  },
  {
   "cell_type": "code",
   "execution_count": 93,
   "id": "e154ffb0",
   "metadata": {},
   "outputs": [
    {
     "data": {
      "text/latex": [
       "$\\displaystyle \\left[\\begin{matrix}1 & 1 & 1\\\\0 & 7 & 3\\\\0 & 0 & \\frac{2}{7}\\end{matrix}\\right]$"
      ],
      "text/plain": [
       "Matrix([\n",
       "[1, 1,   1],\n",
       "[0, 7,   3],\n",
       "[0, 0, 2/7]])"
      ]
     },
     "execution_count": 93,
     "metadata": {},
     "output_type": "execute_result"
    }
   ],
   "source": [
    "U"
   ]
  },
  {
   "cell_type": "code",
   "execution_count": 83,
   "id": "269113d7",
   "metadata": {},
   "outputs": [
    {
     "data": {
      "text/latex": [
       "$\\displaystyle \\left[\\begin{matrix}1 & 0 & 0\\\\5 & 1 & 0\\\\1 & - \\frac{3}{7} & 1\\end{matrix}\\right]$"
      ],
      "text/plain": [
       "Matrix([\n",
       "[1,    0, 0],\n",
       "[5,    1, 0],\n",
       "[1, -3/7, 1]])"
      ]
     },
     "execution_count": 83,
     "metadata": {},
     "output_type": "execute_result"
    }
   ],
   "source": [
    "L"
   ]
  },
  {
   "cell_type": "markdown",
   "id": "0d02c01f",
   "metadata": {},
   "source": [
    "Those results should look familiar -- and we can check to make sure."
   ]
  },
  {
   "cell_type": "code",
   "execution_count": 95,
   "id": "799812db",
   "metadata": {},
   "outputs": [
    {
     "data": {
      "text/latex": [
       "$\\displaystyle \\text{True}$"
      ],
      "text/plain": [
       "True"
      ]
     },
     "execution_count": 95,
     "metadata": {},
     "output_type": "execute_result"
    }
   ],
   "source": [
    "sp.Eq(L * U, A)"
   ]
  },
  {
   "cell_type": "code",
   "execution_count": 70,
   "id": "0086d1cd",
   "metadata": {},
   "outputs": [
    {
     "data": {
      "text/latex": [
       "$\\displaystyle \\left[\\begin{matrix}y_{0}\\\\5 y_{0} + y_{1}\\\\y_{0} - \\frac{3 y_{1}}{7} + y_{2}\\end{matrix}\\right] = \\left[\\begin{matrix}50\\\\380\\\\0\\end{matrix}\\right]$"
      ],
      "text/plain": [
       "Eq(Matrix([\n",
       "[              y0],\n",
       "[       5*y0 + y1],\n",
       "[y0 - 3*y1/7 + y2]]), Matrix([\n",
       "[ 50],\n",
       "[380],\n",
       "[  0]]))"
      ]
     },
     "execution_count": 70,
     "metadata": {},
     "output_type": "execute_result"
    }
   ],
   "source": [
    "y = sp.Matrix(sp.symbols('y0, y1, y2'))\n",
    "\n",
    "lhs = L * y\n",
    "rhs = b\n",
    "\n",
    "sp.Eq(lhs, rhs)"
   ]
  },
  {
   "cell_type": "code",
   "execution_count": 23,
   "id": "d6e588be",
   "metadata": {},
   "outputs": [
    {
     "data": {
      "text/latex": [
       "$\\displaystyle y_{0} = 50$"
      ],
      "text/plain": [
       "Eq(y0, 50)"
      ]
     },
     "execution_count": 23,
     "metadata": {},
     "output_type": "execute_result"
    }
   ],
   "source": [
    "eq0 = sp.Eq(lhs[0], rhs[0])\n",
    "eq0"
   ]
  },
  {
   "cell_type": "code",
   "execution_count": 24,
   "id": "8ecb2c1f",
   "metadata": {},
   "outputs": [
    {
     "data": {
      "text/latex": [
       "$\\displaystyle 5 y_{0} + y_{1} = 380$"
      ],
      "text/plain": [
       "Eq(5*y0 + y1, 380)"
      ]
     },
     "execution_count": 24,
     "metadata": {},
     "output_type": "execute_result"
    }
   ],
   "source": [
    "eq1 = sp.Eq(lhs[1], rhs[1])\n",
    "eq1"
   ]
  },
  {
   "cell_type": "code",
   "execution_count": 25,
   "id": "3bb0451f",
   "metadata": {},
   "outputs": [
    {
     "data": {
      "text/latex": [
       "$\\displaystyle y_{1} + 250 = 380$"
      ],
      "text/plain": [
       "Eq(y1 + 250, 380)"
      ]
     },
     "execution_count": 25,
     "metadata": {},
     "output_type": "execute_result"
    }
   ],
   "source": [
    "eq1 = eq1.subs(eq0.lhs, eq0.rhs)\n",
    "eq1"
   ]
  },
  {
   "cell_type": "code",
   "execution_count": 26,
   "id": "2e165c0f",
   "metadata": {},
   "outputs": [
    {
     "data": {
      "text/latex": [
       "$\\displaystyle y_{1} = 130$"
      ],
      "text/plain": [
       "Eq(y1, 130)"
      ]
     },
     "execution_count": 26,
     "metadata": {},
     "output_type": "execute_result"
    }
   ],
   "source": [
    "eq1 = sp.Eq(eq1.lhs - 250, eq1.rhs - 250)\n",
    "eq1"
   ]
  },
  {
   "cell_type": "code",
   "execution_count": 27,
   "id": "6ed9d536",
   "metadata": {},
   "outputs": [
    {
     "data": {
      "text/latex": [
       "$\\displaystyle y_{0} - \\frac{3 y_{1}}{7} + y_{2} = 0$"
      ],
      "text/plain": [
       "Eq(y0 - 3*y1/7 + y2, 0)"
      ]
     },
     "execution_count": 27,
     "metadata": {},
     "output_type": "execute_result"
    }
   ],
   "source": [
    "eq2 = sp.Eq(lhs[2], rhs[2])\n",
    "eq2"
   ]
  },
  {
   "cell_type": "code",
   "execution_count": 28,
   "id": "f47a6a70",
   "metadata": {},
   "outputs": [
    {
     "data": {
      "text/latex": [
       "$\\displaystyle y_{2} - \\frac{40}{7} = 0$"
      ],
      "text/plain": [
       "Eq(y2 - 40/7, 0)"
      ]
     },
     "execution_count": 28,
     "metadata": {},
     "output_type": "execute_result"
    }
   ],
   "source": [
    "eq2 = eq2.subs([(eq0.lhs, eq0.rhs), (eq1.lhs, eq1.rhs)])\n",
    "eq2"
   ]
  },
  {
   "cell_type": "code",
   "execution_count": 29,
   "id": "fab3338f",
   "metadata": {},
   "outputs": [
    {
     "data": {
      "text/latex": [
       "$\\displaystyle y_{2} = \\frac{40}{7}$"
      ],
      "text/plain": [
       "Eq(y2, 40/7)"
      ]
     },
     "execution_count": 29,
     "metadata": {},
     "output_type": "execute_result"
    }
   ],
   "source": [
    "term = sp.Rational(40, 7)\n",
    "eq2 = sp.Eq(eq2.lhs + term, eq2.rhs + term)\n",
    "eq2"
   ]
  },
  {
   "cell_type": "code",
   "execution_count": 30,
   "id": "90aea9c2",
   "metadata": {},
   "outputs": [
    {
     "data": {
      "text/plain": [
       "[50, 130, 40/7]"
      ]
     },
     "execution_count": 30,
     "metadata": {},
     "output_type": "execute_result"
    }
   ],
   "source": [
    "y = [eq.rhs for eq in [eq0, eq1, eq2]]\n",
    "y"
   ]
  },
  {
   "cell_type": "code",
   "execution_count": 34,
   "id": "4e011835",
   "metadata": {},
   "outputs": [
    {
     "data": {
      "text/latex": [
       "$\\displaystyle \\left[\\begin{matrix}0\\\\0\\\\0\\end{matrix}\\right]$"
      ],
      "text/plain": [
       "Matrix([\n",
       "[0],\n",
       "[0],\n",
       "[0]])"
      ]
     },
     "execution_count": 34,
     "metadata": {},
     "output_type": "execute_result"
    }
   ],
   "source": [
    "A * x - b"
   ]
  },
  {
   "cell_type": "code",
   "execution_count": 35,
   "id": "0d6b5b9e",
   "metadata": {},
   "outputs": [
    {
     "data": {
      "text/latex": [
       "$\\displaystyle \\left[\\begin{matrix}50\\\\380\\\\0\\end{matrix}\\right]$"
      ],
      "text/plain": [
       "Matrix([\n",
       "[ 50],\n",
       "[380],\n",
       "[  0]])"
      ]
     },
     "execution_count": 35,
     "metadata": {},
     "output_type": "execute_result"
    }
   ],
   "source": [
    "b"
   ]
  },
  {
   "cell_type": "markdown",
   "id": "6454f685",
   "metadata": {},
   "source": [
    "LU decomposition is particularly useful if we would like to solve the same system of equations with different values of the right hand side, $b$.\n",
    "For example, suppose the person collecting payment makes an error, and at the end of the evening, the total in the till is only \\$379, just a dollar short.\n",
    "\n",
    "In this scenario, the right hand side is:"
   ]
  },
  {
   "cell_type": "code",
   "execution_count": 36,
   "id": "032aaa8c",
   "metadata": {},
   "outputs": [],
   "source": [
    "b2 = sp.Matrix([50, 379, 0])"
   ]
  },
  {
   "cell_type": "markdown",
   "id": "dc9b7420",
   "metadata": {},
   "source": [
    "And since we have already computed $L$ and $U$, we can use them to solve the system with this new right hand side."
   ]
  },
  {
   "cell_type": "code",
   "execution_count": 37,
   "id": "1e1b1b40",
   "metadata": {},
   "outputs": [
    {
     "data": {
      "text/latex": [
       "$\\displaystyle \\left[\\begin{matrix}21\\\\\\frac{21}{2}\\\\\\frac{37}{2}\\end{matrix}\\right]$"
      ],
      "text/plain": [
       "Matrix([\n",
       "[  21],\n",
       "[21/2],\n",
       "[37/2]])"
      ]
     },
     "execution_count": 37,
     "metadata": {},
     "output_type": "execute_result"
    }
   ],
   "source": [
    "y2 = L.solve(b2)\n",
    "x2 = U.solve(y2)\n",
    "x2"
   ]
  },
  {
   "cell_type": "markdown",
   "id": "9db00ea3",
   "metadata": {},
   "source": [
    "Since the elements of the solution are not all integers, we can tell that something went wrong.\n"
   ]
  },
  {
   "cell_type": "markdown",
   "id": "97c7b4c4",
   "metadata": {},
   "source": [
    "## Numerical solution"
   ]
  },
  {
   "cell_type": "code",
   "execution_count": 38,
   "id": "c62deea2",
   "metadata": {},
   "outputs": [],
   "source": [
    "A_np = np.array(A).astype(float)\n",
    "b_np = np.array(b).astype(float).flatten()"
   ]
  },
  {
   "cell_type": "code",
   "execution_count": 39,
   "id": "285abf31",
   "metadata": {},
   "outputs": [
    {
     "data": {
      "text/plain": [
       "array([20., 10., 20.])"
      ]
     },
     "execution_count": 39,
     "metadata": {},
     "output_type": "execute_result"
    }
   ],
   "source": [
    "from scipy.linalg import solve\n",
    "\n",
    "np.linalg.solve(A_np, b_np)"
   ]
  },
  {
   "cell_type": "code",
   "execution_count": 40,
   "id": "71ff9f5e",
   "metadata": {},
   "outputs": [],
   "source": [
    "from scipy.linalg import lu\n",
    "\n",
    "P, L, U = lu(A_np)"
   ]
  },
  {
   "cell_type": "code",
   "execution_count": 41,
   "id": "93ce6328",
   "metadata": {},
   "outputs": [
    {
     "data": {
      "text/plain": [
       "array([[1.        , 0.        , 0.        ],\n",
       "       [0.2       , 1.        , 0.        ],\n",
       "       [0.2       , 0.31818182, 1.        ]])"
      ]
     },
     "execution_count": 41,
     "metadata": {},
     "output_type": "execute_result"
    }
   ],
   "source": [
    "L"
   ]
  },
  {
   "cell_type": "code",
   "execution_count": 42,
   "id": "072c9d65",
   "metadata": {},
   "outputs": [
    {
     "data": {
      "text/plain": [
       "array([[ 5.        , 12.        ,  8.        ],\n",
       "       [ 0.        , -4.4       , -1.6       ],\n",
       "       [ 0.        ,  0.        , -0.09090909]])"
      ]
     },
     "execution_count": 42,
     "metadata": {},
     "output_type": "execute_result"
    }
   ],
   "source": [
    "U"
   ]
  },
  {
   "cell_type": "code",
   "execution_count": 43,
   "id": "23644183",
   "metadata": {},
   "outputs": [
    {
     "data": {
      "text/plain": [
       "array([[0., 0., 1.],\n",
       "       [1., 0., 0.],\n",
       "       [0., 1., 0.]])"
      ]
     },
     "execution_count": 43,
     "metadata": {},
     "output_type": "execute_result"
    }
   ],
   "source": [
    "P"
   ]
  },
  {
   "cell_type": "code",
   "execution_count": 44,
   "id": "929b92c1",
   "metadata": {},
   "outputs": [],
   "source": [
    "Pb = P.T @ b_np"
   ]
  },
  {
   "cell_type": "code",
   "execution_count": 45,
   "id": "2a78d526",
   "metadata": {},
   "outputs": [
    {
     "data": {
      "text/plain": [
       "array([380.        , -76.        ,  -1.81818182])"
      ]
     },
     "execution_count": 45,
     "metadata": {},
     "output_type": "execute_result"
    }
   ],
   "source": [
    "y = np.linalg.solve(L, Pb)\n",
    "y"
   ]
  },
  {
   "cell_type": "code",
   "execution_count": 46,
   "id": "e720d6ca",
   "metadata": {},
   "outputs": [
    {
     "data": {
      "text/plain": [
       "array([20., 10., 20.])"
      ]
     },
     "execution_count": 46,
     "metadata": {},
     "output_type": "execute_result"
    }
   ],
   "source": [
    "x_np = np.linalg.solve(U, y)\n",
    "x_np"
   ]
  },
  {
   "cell_type": "code",
   "execution_count": 47,
   "id": "8aa9aa70",
   "metadata": {},
   "outputs": [
    {
     "data": {
      "text/plain": [
       "array([[ 5.        , 12.        ,  8.        ],\n",
       "       [ 0.2       , -4.4       , -1.6       ],\n",
       "       [ 0.2       ,  0.31818182, -0.09090909]])"
      ]
     },
     "execution_count": 47,
     "metadata": {},
     "output_type": "execute_result"
    }
   ],
   "source": [
    "from scipy.linalg import lu_factor, lu_solve\n",
    "\n",
    "LU, piv = lu_factor(A_np)\n",
    "LU"
   ]
  },
  {
   "cell_type": "code",
   "execution_count": 48,
   "id": "056f3dd5",
   "metadata": {},
   "outputs": [
    {
     "data": {
      "text/plain": [
       "array([1, 2, 2], dtype=int32)"
      ]
     },
     "execution_count": 48,
     "metadata": {},
     "output_type": "execute_result"
    }
   ],
   "source": [
    "piv"
   ]
  },
  {
   "cell_type": "code",
   "execution_count": 49,
   "id": "c73b7235",
   "metadata": {},
   "outputs": [
    {
     "data": {
      "text/plain": [
       "array([20., 10., 20.])"
      ]
     },
     "execution_count": 49,
     "metadata": {},
     "output_type": "execute_result"
    }
   ],
   "source": [
    "x_lu = lu_solve((LU, piv), b_np)\n",
    "x_lu"
   ]
  },
  {
   "cell_type": "markdown",
   "id": "d6f83aaf",
   "metadata": {},
   "source": [
    "## Circuit Analysis"
   ]
  },
  {
   "cell_type": "code",
   "execution_count": 50,
   "id": "c891aa5f",
   "metadata": {},
   "outputs": [],
   "source": [
    "def make_graph():\n",
    "    G = nx.DiGraph()\n",
    "    G.graph['constants'] = []\n",
    "    G.graph['unknowns'] = []\n",
    "    return G"
   ]
  },
  {
   "cell_type": "code",
   "execution_count": 51,
   "id": "95b48c63",
   "metadata": {},
   "outputs": [],
   "source": [
    "def make_constant(G, name, **kwargs):\n",
    "    symbol = sp.Symbol(name)\n",
    "    G.graph['constants'].append(symbol)\n",
    "    return symbol"
   ]
  },
  {
   "cell_type": "code",
   "execution_count": 52,
   "id": "b054f009",
   "metadata": {},
   "outputs": [],
   "source": [
    "def make_unknown(G, name, **kwargs):\n",
    "    symbol = sp.Symbol(name)\n",
    "    G.graph['unknowns'].append(symbol)\n",
    "    return symbol"
   ]
  },
  {
   "cell_type": "code",
   "execution_count": 53,
   "id": "7890fdd6",
   "metadata": {},
   "outputs": [],
   "source": [
    "def make_voltage_divider():\n",
    "    G = make_graph()\n",
    "    G.graph['fixed'] = ['in', 'gnd']\n",
    "    \n",
    "    G.add_edge('in', 'out', component='R', name='R1')\n",
    "    G.add_edge('out', 'gnd', component='R', name='R2')\n",
    "\n",
    "    add_symbols(G)\n",
    "    return G"
   ]
  },
  {
   "cell_type": "code",
   "execution_count": 54,
   "id": "393c39c0",
   "metadata": {},
   "outputs": [],
   "source": [
    "def add_symbols(G):\n",
    "    # add currents to edges\n",
    "    for u, v, data in G.edges(data=True):\n",
    "        name = data['name']\n",
    "        data['resistance'] = make_constant(G, name)\n",
    "        data['current'] = make_unknown(G, f\"I_{name}\")\n",
    "\n",
    "    # Assign voltages to nodes\n",
    "    for node, data in G.nodes(data=True):\n",
    "        if node in G.graph['fixed']:\n",
    "            data['voltage'] = make_constant(G, f\"V_{node}\")\n",
    "        else:\n",
    "            data['voltage'] = make_unknown(G, f\"V_{node}\")"
   ]
  },
  {
   "cell_type": "code",
   "execution_count": 55,
   "id": "3be8a79c",
   "metadata": {},
   "outputs": [],
   "source": [
    "G = make_voltage_divider()"
   ]
  },
  {
   "cell_type": "code",
   "execution_count": 56,
   "id": "69da4421",
   "metadata": {},
   "outputs": [],
   "source": [
    "def draw_graph(G):\n",
    "    G.graph['graph'] = {'rankdir': 'LR'}\n",
    "    pos = nx.nx_agraph.graphviz_layout(G, prog='dot')\n",
    "\n",
    "    nx.draw_networkx_nodes(G, pos, node_color='lightblue', node_size=1000)\n",
    "    nx.draw_networkx_labels(G, pos)\n",
    "\n",
    "    edge_labels = {(u, v): str(d['resistance']) for u, v, d in G.edges(data=True)}\n",
    "    nx.draw_networkx_edges(G, pos, arrows=True)\n",
    "    nx.draw_networkx_edge_labels(G, pos, edge_labels=edge_labels)\n",
    "\n",
    "    plt.axis('off')\n",
    "    plt.tight_layout()"
   ]
  },
  {
   "cell_type": "code",
   "execution_count": 57,
   "id": "a5f59751",
   "metadata": {},
   "outputs": [
    {
     "data": {
      "image/png": "[encoded data removed]",
      "text/plain": [
       "<Figure size 450x262.5 with 1 Axes>"
      ]
     },
     "metadata": {},
     "output_type": "display_data"
    }
   ],
   "source": [
    "draw_graph(G)"
   ]
  },
  {
   "cell_type": "code",
   "execution_count": 58,
   "id": "3fb5db9c",
   "metadata": {},
   "outputs": [],
   "source": [
    "def make_ohm_equations(G):\n",
    "    ohm_eqs = []\n",
    "    \n",
    "    for u, v, data in G.edges(data=True):\n",
    "        if data['component'] == 'R':\n",
    "            V_from = G.nodes[u]['voltage']\n",
    "            V_to = G.nodes[v]['voltage']\n",
    "            R = data['resistance']\n",
    "            I = data['current']\n",
    "            \n",
    "            eq = sp.Eq(V_from - V_to, I * R)\n",
    "            ohm_eqs.append(eq)\n",
    "            \n",
    "    return ohm_eqs"
   ]
  },
  {
   "cell_type": "code",
   "execution_count": 59,
   "id": "4812be79",
   "metadata": {},
   "outputs": [],
   "source": [
    "def make_kcl_equations(G):\n",
    "    kcl_eqs = []\n",
    "    \n",
    "    for node in G.nodes:\n",
    "        if node in G.graph['fixed']:\n",
    "            continue\n",
    "\n",
    "        expr_out = sum(data['current'] for _, _, data in G.out_edges(node, data=True))\n",
    "        expr_in = sum(data['current'] for _, _, data in G.in_edges(node, data=True))\n",
    "        eq = sp.Eq(expr_in, expr_out)\n",
    "        \n",
    "        kcl_eqs.append(eq)\n",
    "        \n",
    "    return kcl_eqs"
   ]
  },
  {
   "cell_type": "code",
   "execution_count": 60,
   "id": "d201f4c3",
   "metadata": {},
   "outputs": [],
   "source": [
    "from IPython.display import display\n",
    "\n",
    "def display_equations(eqs):\n",
    "    for eqn in ohm_eqs:\n",
    "        display(eqn)"
   ]
  },
  {
   "cell_type": "code",
   "execution_count": 61,
   "id": "2d03f95d",
   "metadata": {},
   "outputs": [],
   "source": [
    "ohm_eqs = make_ohm_equations(G)"
   ]
  },
  {
   "cell_type": "code",
   "execution_count": 62,
   "id": "ef94215f",
   "metadata": {},
   "outputs": [
    {
     "data": {
      "text/latex": [
       "$\\displaystyle V_{in} - V_{out} = I_{R1} R_{1}$"
      ],
      "text/plain": [
       "Eq(V_in - V_out, I_R1*R1)"
      ]
     },
     "metadata": {},
     "output_type": "display_data"
    },
    {
     "data": {
      "text/latex": [
       "$\\displaystyle - V_{gnd} + V_{out} = I_{R2} R_{2}$"
      ],
      "text/plain": [
       "Eq(-V_gnd + V_out, I_R2*R2)"
      ]
     },
     "metadata": {},
     "output_type": "display_data"
    }
   ],
   "source": [
    "display_equations(ohm_eqs)"
   ]
  },
  {
   "cell_type": "code",
   "execution_count": 63,
   "id": "1b11d097",
   "metadata": {},
   "outputs": [
    {
     "data": {
      "text/latex": [
       "$\\displaystyle V_{in} - V_{out} = I_{R1} R_{1}$"
      ],
      "text/plain": [
       "Eq(V_in - V_out, I_R1*R1)"
      ]
     },
     "metadata": {},
     "output_type": "display_data"
    },
    {
     "data": {
      "text/latex": [
       "$\\displaystyle - V_{gnd} + V_{out} = I_{R2} R_{2}$"
      ],
      "text/plain": [
       "Eq(-V_gnd + V_out, I_R2*R2)"
      ]
     },
     "metadata": {},
     "output_type": "display_data"
    }
   ],
   "source": [
    "kcl_eqs = make_kcl_equations(G)\n",
    "\n",
    "display_equations(kcl_eqs)"
   ]
  },
  {
   "cell_type": "code",
   "execution_count": 64,
   "id": "0c95c872",
   "metadata": {},
   "outputs": [],
   "source": [
    "eqs = ohm_eqs + kcl_eqs"
   ]
  },
  {
   "cell_type": "code",
   "execution_count": 65,
   "id": "97e95bb1",
   "metadata": {},
   "outputs": [
    {
     "data": {
      "text/latex": [
       "$\\displaystyle \\left[\\begin{matrix}- R_{1} & 0 & -1\\\\0 & - R_{2} & 1\\\\1 & -1 & 0\\end{matrix}\\right]$"
      ],
      "text/plain": [
       "Matrix([\n",
       "[-R1,   0, -1],\n",
       "[  0, -R2,  1],\n",
       "[  1,  -1,  0]])"
      ]
     },
     "execution_count": 65,
     "metadata": {},
     "output_type": "execute_result"
    }
   ],
   "source": [
    "A, b = sp.linear_eq_to_matrix(eqs, G.graph['unknowns'])\n",
    "A"
   ]
  },
  {
   "cell_type": "code",
   "execution_count": 66,
   "id": "5f0e077c",
   "metadata": {},
   "outputs": [
    {
     "data": {
      "text/latex": [
       "$\\displaystyle \\left[\\begin{matrix}- V_{in}\\\\V_{gnd}\\\\0\\end{matrix}\\right]$"
      ],
      "text/plain": [
       "Matrix([\n",
       "[-V_in],\n",
       "[V_gnd],\n",
       "[    0]])"
      ]
     },
     "execution_count": 66,
     "metadata": {},
     "output_type": "execute_result"
    }
   ],
   "source": [
    "b"
   ]
  },
  {
   "cell_type": "code",
   "execution_count": 67,
   "id": "ba980221",
   "metadata": {},
   "outputs": [],
   "source": [
    "solution_vector = A.LUsolve(b)\n",
    "solution_vector.simplify()"
   ]
  },
  {
   "cell_type": "code",
   "execution_count": 68,
   "id": "95e2e6fc",
   "metadata": {},
   "outputs": [
    {
     "data": {
      "text/latex": [
       "$\\displaystyle \\left[\\begin{matrix}I_{R1}\\\\I_{R2}\\\\V_{out}\\end{matrix}\\right] = \\left[\\begin{matrix}\\frac{- V_{gnd} + V_{in}}{R_{1} + R_{2}}\\\\\\frac{- V_{gnd} + V_{in}}{R_{1} + R_{2}}\\\\\\frac{R_{1} V_{gnd} + R_{2} V_{in}}{R_{1} + R_{2}}\\end{matrix}\\right]$"
      ],
      "text/plain": [
       "Eq(Matrix([\n",
       "[ I_R1],\n",
       "[ I_R2],\n",
       "[V_out]]), Matrix([\n",
       "[     (-V_gnd + V_in)/(R1 + R2)],\n",
       "[     (-V_gnd + V_in)/(R1 + R2)],\n",
       "[(R1*V_gnd + R2*V_in)/(R1 + R2)]]))"
      ]
     },
     "execution_count": 68,
     "metadata": {},
     "output_type": "execute_result"
    }
   ],
   "source": [
    "sp.Eq(sp.Matrix(G.graph['unknowns']), solution_vector)"
   ]
  },
  {
   "cell_type": "code",
   "execution_count": 69,
   "id": "5b2caf2f",
   "metadata": {},
   "outputs": [
    {
     "data": {
      "text/plain": [
       "{R1: 1000, R2: 4000, V_in: 5, V_gnd: 0}"
      ]
     },
     "execution_count": 69,
     "metadata": {},
     "output_type": "execute_result"
    }
   ],
   "source": [
    "subs = dict(zip(G.graph['constants'], [1000, 4000, 5, 0]))\n",
    "subs"
   ]
  },
  {
   "cell_type": "code",
   "execution_count": 70,
   "id": "a6c63ddf",
   "metadata": {},
   "outputs": [
    {
     "data": {
      "text/latex": [
       "$\\displaystyle \\left[\\begin{matrix}\\frac{1}{1000}\\\\\\frac{1}{1000}\\\\4\\end{matrix}\\right]$"
      ],
      "text/plain": [
       "Matrix([\n",
       "[1/1000],\n",
       "[1/1000],\n",
       "[     4]])"
      ]
     },
     "execution_count": 70,
     "metadata": {},
     "output_type": "execute_result"
    }
   ],
   "source": [
    "evaluated = solution_vector.subs(subs)\n",
    "evaluated"
   ]
  },
  {
   "cell_type": "markdown",
   "id": "705627a4",
   "metadata": {},
   "source": [
    "## R2R Ladder"
   ]
  },
  {
   "cell_type": "code",
   "execution_count": 71,
   "id": "39bb4da8",
   "metadata": {},
   "outputs": [],
   "source": [
    "def make_r2r_ladder(N):\n",
    "    G = make_graph()\n",
    "    G.graph['fixed'] = [f'D{i}' for i in range(N)] + ['gnd']  \n",
    "\n",
    "    start = 'gnd'\n",
    "    for i in range(N):\n",
    "        node = f'n{i}'\n",
    "        pin = f'D{i}'\n",
    "        G.add_edge(start, node, component='R', name=f'r{i}')\n",
    "        G.add_edge(pin, node, component='R', name=f'R{i}')\n",
    "        start = node\n",
    "    \n",
    "    G['gnd']['n0']['name'] = 'R'\n",
    "    add_symbols(G)\n",
    "    return G"
   ]
  },
  {
   "cell_type": "code",
   "execution_count": 72,
   "id": "c3af6bd6",
   "metadata": {},
   "outputs": [],
   "source": [
    "N = 3\n",
    "G = make_r2r_ladder(N)"
   ]
  },
  {
   "cell_type": "code",
   "execution_count": 73,
   "id": "e5cddad8",
   "metadata": {},
   "outputs": [
    {
     "data": {
      "text/plain": [
       "[R, r1, R0, r2, R1, R2, V_gnd, V_D0, V_D1, V_D2]"
      ]
     },
     "execution_count": 73,
     "metadata": {},
     "output_type": "execute_result"
    }
   ],
   "source": [
    "G.graph['constants']"
   ]
  },
  {
   "cell_type": "code",
   "execution_count": 74,
   "id": "2e5ff44f",
   "metadata": {},
   "outputs": [
    {
     "data": {
      "text/plain": [
       "[I_R, I_r1, I_R0, I_r2, I_R1, I_R2, V_n0, V_n1, V_n2]"
      ]
     },
     "execution_count": 74,
     "metadata": {},
     "output_type": "execute_result"
    }
   ],
   "source": [
    "G.graph['unknowns']"
   ]
  },
  {
   "cell_type": "code",
   "execution_count": 75,
   "id": "fa688215",
   "metadata": {},
   "outputs": [
    {
     "data": {
      "text/plain": [
       "['D0', 'D1', 'D2', 'gnd']"
      ]
     },
     "execution_count": 75,
     "metadata": {},
     "output_type": "execute_result"
    }
   ],
   "source": [
    "G.graph['fixed']"
   ]
  },
  {
   "cell_type": "code",
   "execution_count": 76,
   "id": "3cd78ad1",
   "metadata": {},
   "outputs": [
    {
     "data": {
      "image/png": "[encoded data removed]",
      "text/plain": [
       "<Figure size 450x262.5 with 1 Axes>"
      ]
     },
     "metadata": {},
     "output_type": "display_data"
    }
   ],
   "source": [
    "from system import draw_graph\n",
    "\n",
    "draw_graph(G)"
   ]
  },
  {
   "cell_type": "code",
   "execution_count": 77,
   "id": "ade0c601",
   "metadata": {},
   "outputs": [
    {
     "data": {
      "text/latex": [
       "$\\displaystyle V_{gnd} - V_{n0} = I_{R} R$"
      ],
      "text/plain": [
       "Eq(V_gnd - V_n0, I_R*R)"
      ]
     },
     "metadata": {},
     "output_type": "display_data"
    },
    {
     "data": {
      "text/latex": [
       "$\\displaystyle V_{n0} - V_{n1} = I_{r1} r_{1}$"
      ],
      "text/plain": [
       "Eq(V_n0 - V_n1, I_r1*r1)"
      ]
     },
     "metadata": {},
     "output_type": "display_data"
    },
    {
     "data": {
      "text/latex": [
       "$\\displaystyle V_{D0} - V_{n0} = I_{R0} R_{0}$"
      ],
      "text/plain": [
       "Eq(V_D0 - V_n0, I_R0*R0)"
      ]
     },
     "metadata": {},
     "output_type": "display_data"
    },
    {
     "data": {
      "text/latex": [
       "$\\displaystyle V_{n1} - V_{n2} = I_{r2} r_{2}$"
      ],
      "text/plain": [
       "Eq(V_n1 - V_n2, I_r2*r2)"
      ]
     },
     "metadata": {},
     "output_type": "display_data"
    },
    {
     "data": {
      "text/latex": [
       "$\\displaystyle V_{D1} - V_{n1} = I_{R1} R_{1}$"
      ],
      "text/plain": [
       "Eq(V_D1 - V_n1, I_R1*R1)"
      ]
     },
     "metadata": {},
     "output_type": "display_data"
    },
    {
     "data": {
      "text/latex": [
       "$\\displaystyle V_{D2} - V_{n2} = I_{R2} R_{2}$"
      ],
      "text/plain": [
       "Eq(V_D2 - V_n2, I_R2*R2)"
      ]
     },
     "metadata": {},
     "output_type": "display_data"
    },
    {
     "data": {
      "text/latex": [
       "$\\displaystyle I_{R} + I_{R0} = I_{r1}$"
      ],
      "text/plain": [
       "Eq(I_R + I_R0, I_r1)"
      ]
     },
     "metadata": {},
     "output_type": "display_data"
    },
    {
     "data": {
      "text/latex": [
       "$\\displaystyle I_{R1} + I_{r1} = I_{r2}$"
      ],
      "text/plain": [
       "Eq(I_R1 + I_r1, I_r2)"
      ]
     },
     "metadata": {},
     "output_type": "display_data"
    },
    {
     "data": {
      "text/latex": [
       "$\\displaystyle I_{R2} + I_{r2} = 0$"
      ],
      "text/plain": [
       "Eq(I_R2 + I_r2, 0)"
      ]
     },
     "metadata": {},
     "output_type": "display_data"
    }
   ],
   "source": [
    "ohm_eqs = make_ohm_equations(G)\n",
    "kcl_eqs = make_kcl_equations(G)\n",
    "\n",
    "for eqn in ohm_eqs:\n",
    "    display(eqn)\n",
    "\n",
    "for eqn in kcl_eqs:\n",
    "    display(eqn)"
   ]
  },
  {
   "cell_type": "code",
   "execution_count": 78,
   "id": "2190d22d",
   "metadata": {},
   "outputs": [
    {
     "data": {
      "text/plain": [
       "[I_R, I_r1, I_R0, I_r2, I_R1, I_R2, V_n0, V_n1, V_n2]"
      ]
     },
     "execution_count": 78,
     "metadata": {},
     "output_type": "execute_result"
    }
   ],
   "source": [
    "unknowns = G.graph['unknowns']\n",
    "unknowns"
   ]
  },
  {
   "cell_type": "code",
   "execution_count": 79,
   "id": "7d95d529",
   "metadata": {},
   "outputs": [
    {
     "data": {
      "text/latex": [
       "$\\displaystyle \\left[\\begin{matrix}- R & 0 & 0 & 0 & 0 & 0 & -1 & 0 & 0\\\\0 & - r_{1} & 0 & 0 & 0 & 0 & 1 & -1 & 0\\\\0 & 0 & - R_{0} & 0 & 0 & 0 & -1 & 0 & 0\\\\0 & 0 & 0 & - r_{2} & 0 & 0 & 0 & 1 & -1\\\\0 & 0 & 0 & 0 & - R_{1} & 0 & 0 & -1 & 0\\\\0 & 0 & 0 & 0 & 0 & - R_{2} & 0 & 0 & -1\\\\1 & -1 & 1 & 0 & 0 & 0 & 0 & 0 & 0\\\\0 & 1 & 0 & -1 & 1 & 0 & 0 & 0 & 0\\\\0 & 0 & 0 & 1 & 0 & 1 & 0 & 0 & 0\\end{matrix}\\right]$"
      ],
      "text/plain": [
       "Matrix([\n",
       "[-R,   0,   0,   0,   0,   0, -1,  0,  0],\n",
       "[ 0, -r1,   0,   0,   0,   0,  1, -1,  0],\n",
       "[ 0,   0, -R0,   0,   0,   0, -1,  0,  0],\n",
       "[ 0,   0,   0, -r2,   0,   0,  0,  1, -1],\n",
       "[ 0,   0,   0,   0, -R1,   0,  0, -1,  0],\n",
       "[ 0,   0,   0,   0,   0, -R2,  0,  0, -1],\n",
       "[ 1,  -1,   1,   0,   0,   0,  0,  0,  0],\n",
       "[ 0,   1,   0,  -1,   1,   0,  0,  0,  0],\n",
       "[ 0,   0,   0,   1,   0,   1,  0,  0,  0]])"
      ]
     },
     "execution_count": 79,
     "metadata": {},
     "output_type": "execute_result"
    }
   ],
   "source": [
    "eqs = ohm_eqs + kcl_eqs\n",
    "A, b = sp.linear_eq_to_matrix(eqs, unknowns)\n",
    "A"
   ]
  },
  {
   "cell_type": "code",
   "execution_count": 80,
   "id": "b5a098b5",
   "metadata": {},
   "outputs": [
    {
     "data": {
      "text/latex": [
       "$\\displaystyle \\left[\\begin{matrix}- V_{gnd}\\\\0\\\\- V_{D0}\\\\0\\\\- V_{D1}\\\\- V_{D2}\\\\0\\\\0\\\\0\\end{matrix}\\right]$"
      ],
      "text/plain": [
       "Matrix([\n",
       "[-V_gnd],\n",
       "[     0],\n",
       "[ -V_D0],\n",
       "[     0],\n",
       "[ -V_D1],\n",
       "[ -V_D2],\n",
       "[     0],\n",
       "[     0],\n",
       "[     0]])"
      ]
     },
     "execution_count": 80,
     "metadata": {},
     "output_type": "execute_result"
    }
   ],
   "source": [
    "b"
   ]
  },
  {
   "cell_type": "code",
   "execution_count": 81,
   "id": "dbe89505",
   "metadata": {},
   "outputs": [],
   "source": [
    "solution_vector = A.LUsolve(b)"
   ]
  },
  {
   "cell_type": "code",
   "execution_count": 82,
   "id": "d9310feb",
   "metadata": {},
   "outputs": [
    {
     "data": {
      "text/latex": [
       "$\\displaystyle \\frac{R R_{0} R_{1} V_{D2} + R R_{0} R_{2} V_{D1} + R R_{1} R_{2} V_{D0} + R_{0} R_{1} R_{2} V_{gnd} + V_{D2} r_{2} \\left(R R_{0} + \\left(R + R_{0}\\right) \\left(R_{1} + r_{1}\\right)\\right) + r_{1} \\left(R + R_{0}\\right) \\left(R_{1} V_{D2} + R_{2} V_{D1}\\right)}{R R_{0} R_{1} + R_{1} r_{1} \\left(R + R_{0}\\right) + \\left(R_{2} + r_{2}\\right) \\left(R R_{0} + \\left(R + R_{0}\\right) \\left(R_{1} + r_{1}\\right)\\right)}$"
      ],
      "text/plain": [
       "(R*R0*R1*V_D2 + R*R0*R2*V_D1 + R*R1*R2*V_D0 + R0*R1*R2*V_gnd + V_D2*r2*(R*R0 + (R + R0)*(R1 + r1)) + r1*(R + R0)*(R1*V_D2 + R2*V_D1))/(R*R0*R1 + R1*r1*(R + R0) + (R2 + r2)*(R*R0 + (R + R0)*(R1 + r1)))"
      ]
     },
     "execution_count": 82,
     "metadata": {},
     "output_type": "execute_result"
    }
   ],
   "source": [
    "solution_vector[-1].simplify()"
   ]
  },
  {
   "cell_type": "code",
   "execution_count": 83,
   "id": "8a440651",
   "metadata": {},
   "outputs": [
    {
     "data": {
      "text/plain": [
       "[R, r1, R0, r2, R1, R2, V_gnd, V_D0, V_D1, V_D2]"
      ]
     },
     "execution_count": 83,
     "metadata": {},
     "output_type": "execute_result"
    }
   ],
   "source": [
    "constants = G.graph['constants']\n",
    "constants"
   ]
  },
  {
   "cell_type": "code",
   "execution_count": 84,
   "id": "70ff1d23",
   "metadata": {},
   "outputs": [],
   "source": [
    "def set_values(constants, **values):\n",
    "    subs = {}\n",
    "    for symbol in constants:\n",
    "        for key, value in values.items():\n",
    "            if symbol.name.startswith(key):\n",
    "                subs[symbol] = value\n",
    "    \n",
    "    return subs"
   ]
  },
  {
   "cell_type": "code",
   "execution_count": 85,
   "id": "fa7a5845",
   "metadata": {},
   "outputs": [
    {
     "data": {
      "text/plain": [
       "{R: 20000,\n",
       " r1: 10000,\n",
       " R0: 20000,\n",
       " r2: 10000,\n",
       " R1: 20000,\n",
       " R2: 20000,\n",
       " V_gnd: 0,\n",
       " V_D0: 4,\n",
       " V_D1: 4,\n",
       " V_D2: 4}"
      ]
     },
     "execution_count": 85,
     "metadata": {},
     "output_type": "execute_result"
    }
   ],
   "source": [
    "subs = set_values(constants, r=10000, R=20000, V_gnd=0, V_D=4)\n",
    "subs"
   ]
  },
  {
   "cell_type": "code",
   "execution_count": 86,
   "id": "836aa971",
   "metadata": {},
   "outputs": [
    {
     "data": {
      "text/latex": [
       "$\\displaystyle 3.5$"
      ],
      "text/plain": [
       "3.50000000000000"
      ]
     },
     "execution_count": 86,
     "metadata": {},
     "output_type": "execute_result"
    }
   ],
   "source": [
    "evaluated = solution_vector[-1].subs(subs)\n",
    "evaluated.evalf()"
   ]
  },
  {
   "cell_type": "code",
   "execution_count": 87,
   "id": "73a0856c",
   "metadata": {},
   "outputs": [
    {
     "data": {
      "text/plain": [
       "3.5"
      ]
     },
     "execution_count": 87,
     "metadata": {},
     "output_type": "execute_result"
    }
   ],
   "source": [
    "4 * (2**N-1) / 2**N"
   ]
  },
  {
   "cell_type": "markdown",
   "id": "65980f31",
   "metadata": {},
   "source": [
    "### Exercise\n",
    "\n",
    "Substitute values into A and b, convert them to NumPy arrays, and use the NumPy solver to solve the system numerically."
   ]
  },
  {
   "cell_type": "markdown",
   "id": "65f8a599",
   "metadata": {},
   "source": [
    "### Exercise"
   ]
  },
  {
   "cell_type": "markdown",
   "id": "3bc7fb9c",
   "metadata": {},
   "source": [
    "How big a difference is this really?"
   ]
  },
  {
   "cell_type": "code",
   "execution_count": 88,
   "id": "e093d028",
   "metadata": {},
   "outputs": [],
   "source": [
    "from time import perf_counter\n",
    "\n",
    "n = 100\n",
    "A = np.random.rand(n, n)\n",
    "b = np.random.rand(n)\n",
    "\n",
    "x1 = solve(A, b)"
   ]
  },
  {
   "cell_type": "code",
   "execution_count": 89,
   "id": "0eb456da",
   "metadata": {},
   "outputs": [
    {
     "name": "stdout",
     "output_type": "stream",
     "text": [
      "Solve time:    0.0006 sec\n"
     ]
    }
   ],
   "source": [
    "t0 = perf_counter()\n",
    "x1 = solve(A, b)\n",
    "t1 = perf_counter()\n",
    "print(f\"Solve time:    {t1 - t0:.4f} sec\")"
   ]
  },
  {
   "cell_type": "code",
   "execution_count": 90,
   "id": "7786c488",
   "metadata": {},
   "outputs": [
    {
     "name": "stdout",
     "output_type": "stream",
     "text": [
      "Inverse time:  0.0043 sec\n"
     ]
    }
   ],
   "source": [
    "t2 = perf_counter()\n",
    "A_inv = inv(A)\n",
    "x2 = A_inv @ b\n",
    "t3 = perf_counter()\n",
    "\n",
    "print(f\"Inverse time:  {t3 - t2:.4f} sec\")"
   ]
  },
  {
   "cell_type": "markdown",
   "id": "09c95313",
   "metadata": {},
   "source": [
    "## Strain Gauge"
   ]
  },
  {
   "cell_type": "code",
   "execution_count": 113,
   "id": "16cbbe66",
   "metadata": {},
   "outputs": [],
   "source": [
    "def make_quarter_bridge():\n",
    "    G = make_graph()\n",
    "    G.graph['fixed'] = ['plus', 'minus']\n",
    "    \n",
    "    # One active strain gauge and three fixed resistors\n",
    "    G.add_edge('plus', 'A', component='R', name='R1')         # Strain gauge\n",
    "    G.add_edge('minus', 'B', component='R', name='R2')\n",
    "    G.add_edge('A', 'out', component='R', name='R3')\n",
    "    G.add_edge('B', 'out', component='R', name='R4')\n",
    "\n",
    "    add_symbols(G)\n",
    "    return G"
   ]
  },
  {
   "cell_type": "code",
   "execution_count": 114,
   "id": "f9118e04",
   "metadata": {},
   "outputs": [
    {
     "data": {
      "image/png": "[encoded data removed]",
      "text/plain": [
       "<Figure size 450x262.5 with 1 Axes>"
      ]
     },
     "metadata": {},
     "output_type": "display_data"
    }
   ],
   "source": [
    "G = make_quarter_bridge()\n",
    "draw_graph(G)"
   ]
  },
  {
   "cell_type": "code",
   "execution_count": 116,
   "id": "443556b9",
   "metadata": {},
   "outputs": [
    {
     "data": {
      "text/latex": [
       "$\\displaystyle \\frac{R_{1} V_{minus} + R_{2} V_{plus} + R_{3} V_{minus} + R_{4} V_{plus}}{R_{1} + R_{2} + R_{3} + R_{4}}$"
      ],
      "text/plain": [
       "(R1*V_minus + R2*V_plus + R3*V_minus + R4*V_plus)/(R1 + R2 + R3 + R4)"
      ]
     },
     "execution_count": 116,
     "metadata": {},
     "output_type": "execute_result"
    }
   ],
   "source": [
    "ohm_eqs = make_ohm_equations(G)\n",
    "kcl_eqs = make_kcl_equations(G)\n",
    "\n",
    "eqs = ohm_eqs + kcl_eqs\n",
    "unknowns = G.graph['unknowns']\n",
    "constants = G.graph['constants']\n",
    "\n",
    "A, b = sp.linear_eq_to_matrix(eqs, unknowns)\n",
    "solution_vector = A.LUsolve(b)\n",
    "solution_vector[-1].simplify()"
   ]
  },
  {
   "cell_type": "code",
   "execution_count": 119,
   "id": "132d2efb",
   "metadata": {},
   "outputs": [
    {
     "data": {
      "text/latex": [
       "$\\displaystyle \\frac{10000}{R_{1} + 3000}$"
      ],
      "text/plain": [
       "10000/(R1 + 3000)"
      ]
     },
     "execution_count": 119,
     "metadata": {},
     "output_type": "execute_result"
    }
   ],
   "source": [
    "subs = set_values(constants, R2=1000, R3=1000, R4=1000, V_plus=5, V_minus=0)\n",
    "evaluated = solution_vector[-1].subs(subs)\n",
    "evaluated.simplify()"
   ]
  },
  {
   "cell_type": "markdown",
   "id": "e27da3a4",
   "metadata": {
    "tags": [
     "remove-print"
    ]
   },
   "source": [
    "[Think Linear Algebra](https://allendowney.github.io/ThinkLinearAlgebra/index.html)\n",
    "\n",
    "Copyright 2025 [Allen B. Downey](https://allendowney.com)\n",
    "\n",
    "Code license: [MIT License](https://mit-license.org/)\n",
    "\n",
    "Text license: [Creative Commons Attribution-NonCommercial-ShareAlike 4.0 International](https://creativecommons.org/licenses/by-nc-sa/4.0/)"
   ]
  },
  {
   "cell_type": "code",
   "execution_count": null,
   "id": "c8b4e400-dc97-498e-9016-3e9ef05dc7a3",
   "metadata": {},
   "outputs": [],
   "source": []
  }
 ],
 "metadata": {
  "celltoolbar": "Tags",
  "kernelspec": {
   "display_name": "Python 3 (ipykernel)",
   "language": "python",
   "name": "python3"
  },
  "language_info": {
   "codemirror_mode": {
    "name": "ipython",
    "version": 3
   },
   "file_extension": ".py",
   "mimetype": "text/x-python",
   "name": "python",
   "nbconvert_exporter": "python",
   "pygments_lexer": "ipython3",
   "version": "3.10.16"
  }
 },
 "nbformat": 4,
 "nbformat_minor": 5
}
