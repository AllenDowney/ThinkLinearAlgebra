{
 "cells": [
  {
   "cell_type": "markdown",
   "id": "025b76df",
   "metadata": {},
   "source": [
    "*Think Linear Algebra* is not for sale yet, but if you would like to support this project, you can [buy me a coffee](https://buymeacoffee.com/allendowney)."
   ]
  },
  {
   "cell_type": "markdown",
   "id": "85c30bdb",
   "metadata": {},
   "source": [
    "# Systems"
   ]
  },
  {
   "cell_type": "markdown",
   "id": "3893fe82",
   "metadata": {
    "tags": [
     "remove-print"
    ]
   },
   "source": [
    "[Click here to run this notebook on Colab](https://colab.research.google.com/github/AllenDowney/ThinkLinearAlgebra/blob/main/nb/system.ipynb)."
   ]
  },
  {
   "cell_type": "code",
   "execution_count": 1,
   "id": "c17ab159",
   "metadata": {},
   "outputs": [],
   "source": [
    "%load_ext autoreload\n",
    "%autoreload 2"
   ]
  },
  {
   "cell_type": "code",
   "execution_count": 2,
   "id": "02d400cf",
   "metadata": {
    "tags": [
     "remove-print",
     "hide-cell"
    ]
   },
   "outputs": [],
   "source": [
    "from os.path import basename, exists\n",
    "\n",
    "\n",
    "def download(url):\n",
    "    filename = basename(url)\n",
    "    if not exists(filename):\n",
    "        from urllib.request import urlretrieve\n",
    "\n",
    "        local, _ = urlretrieve(url, filename)\n",
    "        print(\"Downloaded \" + local)\n",
    "\n",
    "\n",
    "download(\"https://github.com/AllenDowney/ThinkLinearAlgebra/raw/main/utils.py\")"
   ]
  },
  {
   "cell_type": "code",
   "execution_count": 3,
   "id": "1a3119be",
   "metadata": {
    "tags": [
     "hide-cell",
     "remove-print"
    ]
   },
   "outputs": [],
   "source": [
    "import numpy as np\n",
    "import pandas as pd\n",
    "import matplotlib.pyplot as plt\n",
    "\n",
    "from utils import decorate"
   ]
  },
  {
   "cell_type": "code",
   "execution_count": 4,
   "id": "a1277999",
   "metadata": {},
   "outputs": [],
   "source": [
    "import networkx as nx\n",
    "import sympy as sp"
   ]
  },
  {
   "cell_type": "markdown",
   "id": "fe490a51",
   "metadata": {},
   "source": [
    "## Systems of Equations\n",
    "\n",
    "If you studied algebra, you might have encountered dreaded word problems like this one:\n",
    "\n",
    "\n",
    "> At a school play, 50 tickets were sold for a total of \\$380. Tickets were priced as follows:\n",
    ">\n",
    "> - **Child** tickets: \\$5  \n",
    "> - **Adult** tickets: \\$12  \n",
    "> - **Senior** tickets: \\$8  \n",
    ">\n",
    "> Each adult brought exactly two children with them, and no children attended without an adult.\n",
    ">\n",
    "> How many of each type of ticket were sold?\n",
    "\n",
    "To answer questions like this, you were probably taught to define variables to represent the unknown quantities; for example let:\n",
    "\n",
    "- $c$: the number of **child** tickets sold  \n",
    "- $a$: the number of **adult** tickets sold  \n",
    "- $s$: the number of **senior** tickets sold  \n",
    "\n",
    "We can use SymPy to represent these variables with symbols."
   ]
  },
  {
   "cell_type": "code",
   "execution_count": 5,
   "id": "fd518c41",
   "metadata": {},
   "outputs": [],
   "source": [
    "import sympy as sp\n",
    "\n",
    "c, a, s = sp.symbols('c a s')"
   ]
  },
  {
   "cell_type": "markdown",
   "id": "dd5ddd74",
   "metadata": {},
   "source": [
    "Next we can write equations to represent the given relationships among the variable.\n",
    "This equation represents the total number of tickets sold:"
   ]
  },
  {
   "cell_type": "code",
   "execution_count": 6,
   "id": "da6044ed",
   "metadata": {},
   "outputs": [
    {
     "data": {
      "text/latex": [
       "$\\displaystyle a + c + s = 50$"
      ],
      "text/plain": [
       "Eq(a + c + s, 50)"
      ]
     },
     "execution_count": 6,
     "metadata": {},
     "output_type": "execute_result"
    }
   ],
   "source": [
    "eq1 = sp.Eq(c + a + s, 50)\n",
    "eq1"
   ]
  },
  {
   "cell_type": "markdown",
   "id": "c3553ef9",
   "metadata": {},
   "source": [
    "This one represents total sales."
   ]
  },
  {
   "cell_type": "code",
   "execution_count": 7,
   "id": "8269f715",
   "metadata": {},
   "outputs": [
    {
     "data": {
      "text/latex": [
       "$\\displaystyle 12 a + 5 c + 8 s = 380$"
      ],
      "text/plain": [
       "Eq(12*a + 5*c + 8*s, 380)"
      ]
     },
     "execution_count": 7,
     "metadata": {},
     "output_type": "execute_result"
    }
   ],
   "source": [
    "eq2 = sp.Eq(5*c + 12*a + 8*s, 380)\n",
    "eq2"
   ]
  },
  {
   "cell_type": "markdown",
   "id": "37ae5c78",
   "metadata": {},
   "source": [
    "And this one represents the constraint that every adult brings two children."
   ]
  },
  {
   "cell_type": "code",
   "execution_count": 8,
   "id": "479d691b",
   "metadata": {},
   "outputs": [
    {
     "data": {
      "text/latex": [
       "$\\displaystyle c = 2 a$"
      ],
      "text/plain": [
       "Eq(c, 2*a)"
      ]
     },
     "execution_count": 8,
     "metadata": {},
     "output_type": "execute_result"
    }
   ],
   "source": [
    "eq3 = sp.Eq(c, 2*a)\n",
    "eq3"
   ]
  },
  {
   "cell_type": "code",
   "execution_count": 9,
   "id": "4e4301b8",
   "metadata": {},
   "outputs": [],
   "source": [
    "eqns = [eq1, eq2, eq3]\n",
    "unknowns = [c, a, s]"
   ]
  },
  {
   "cell_type": "code",
   "execution_count": 10,
   "id": "01f27e9c",
   "metadata": {},
   "outputs": [
    {
     "data": {
      "text/latex": [
       "$\\displaystyle \\left\\{\\left( 20, \\  10, \\  20\\right)\\right\\}$"
      ],
      "text/plain": [
       "{(20, 10, 20)}"
      ]
     },
     "execution_count": 10,
     "metadata": {},
     "output_type": "execute_result"
    }
   ],
   "source": [
    "sp.linsolve(eqns, unknowns)"
   ]
  },
  {
   "cell_type": "code",
   "execution_count": 11,
   "id": "5adbbddb",
   "metadata": {},
   "outputs": [
    {
     "data": {
      "text/latex": [
       "$\\displaystyle \\left[\\begin{matrix}1 & 1 & 1\\\\5 & 12 & 8\\\\1 & -2 & 0\\end{matrix}\\right]$"
      ],
      "text/plain": [
       "Matrix([\n",
       "[1,  1, 1],\n",
       "[5, 12, 8],\n",
       "[1, -2, 0]])"
      ]
     },
     "execution_count": 11,
     "metadata": {},
     "output_type": "execute_result"
    }
   ],
   "source": [
    "A, b = sp.linear_eq_to_matrix(eqns, unknowns)\n",
    "A"
   ]
  },
  {
   "cell_type": "code",
   "execution_count": 12,
   "id": "b260d1f8",
   "metadata": {},
   "outputs": [
    {
     "data": {
      "text/latex": [
       "$\\displaystyle \\left[\\begin{matrix}50\\\\380\\\\0\\end{matrix}\\right]$"
      ],
      "text/plain": [
       "Matrix([\n",
       "[ 50],\n",
       "[380],\n",
       "[  0]])"
      ]
     },
     "execution_count": 12,
     "metadata": {},
     "output_type": "execute_result"
    }
   ],
   "source": [
    "b"
   ]
  },
  {
   "cell_type": "code",
   "execution_count": 13,
   "id": "8ad48089",
   "metadata": {},
   "outputs": [
    {
     "data": {
      "text/latex": [
       "$\\displaystyle \\left[\\begin{matrix}a + c + s\\\\12 a + 5 c + 8 s\\\\- 2 a + c\\end{matrix}\\right] = \\left[\\begin{matrix}50\\\\380\\\\0\\end{matrix}\\right]$"
      ],
      "text/plain": [
       "Eq(Matrix([\n",
       "[       a + c + s],\n",
       "[12*a + 5*c + 8*s],\n",
       "[        -2*a + c]]), Matrix([\n",
       "[ 50],\n",
       "[380],\n",
       "[  0]]))"
      ]
     },
     "execution_count": 13,
     "metadata": {},
     "output_type": "execute_result"
    }
   ],
   "source": [
    "x = sp.Matrix(unknowns)\n",
    "sp.Eq(A* x, b)"
   ]
  },
  {
   "cell_type": "markdown",
   "id": "6721502a",
   "metadata": {},
   "source": [
    "So we have expressed a system of linear equations as a single matrix equation, $Ax = b$.\n",
    "Why, you might ask, is that a useful thing to do?\n",
    "The answer is that it allows us to use the tools of linear algebra to find a solution.\n",
    "We'll consider two ways to do that: one that's conceptual simple but computationally slow, and one that's only a little more complicated and a lot faster.\n",
    "\n",
    "First, consider how you would solve an equation like $ax = b$ if $A$ and $b$ we scalars.\n",
    "You would divide both sides by $a$.\n",
    "The result $x = b/a$ is considered a solution because the unknown, $x$ is all by itself on the left hand side, and the expression on the right hand side is something we know how to compute, by scalar division.\n",
    "\n",
    "To solve a matrix equation like $Ax = b$, where $A$ is a matrix and $b$ is a vector, it is tempting to say we should divide both sides by $A$.\n",
    "The problem is that haven't defined division by a matrix.\n",
    "\n",
    "So, instead of dividing both sides by $A$, we'll multiply both sides by the inverse of $A$, which is written $A^{-1}$, and has the property that $A^{-1} A = I$, where $I$ is the identity matrix."
   ]
  },
  {
   "cell_type": "code",
   "execution_count": 14,
   "id": "dfb807dc",
   "metadata": {},
   "outputs": [
    {
     "data": {
      "text/latex": [
       "$\\displaystyle \\left[\\begin{matrix}8 & -1 & -2\\\\4 & - \\frac{1}{2} & - \\frac{3}{2}\\\\-11 & \\frac{3}{2} & \\frac{7}{2}\\end{matrix}\\right]$"
      ],
      "text/plain": [
       "Matrix([\n",
       "[  8,   -1,   -2],\n",
       "[  4, -1/2, -3/2],\n",
       "[-11,  3/2,  7/2]])"
      ]
     },
     "execution_count": 14,
     "metadata": {},
     "output_type": "execute_result"
    }
   ],
   "source": [
    "from scipy.linalg import inv\n",
    "\n",
    "A_inv = A.inv()\n",
    "A_inv"
   ]
  },
  {
   "cell_type": "code",
   "execution_count": 15,
   "id": "5ee646d5",
   "metadata": {},
   "outputs": [
    {
     "data": {
      "text/latex": [
       "$\\displaystyle \\left[\\begin{matrix}1 & 0 & 0\\\\0 & 1 & 0\\\\0 & 0 & 1\\end{matrix}\\right]$"
      ],
      "text/plain": [
       "Matrix([\n",
       "[1, 0, 0],\n",
       "[0, 1, 0],\n",
       "[0, 0, 1]])"
      ]
     },
     "execution_count": 15,
     "metadata": {},
     "output_type": "execute_result"
    }
   ],
   "source": [
    "A_inv * A"
   ]
  },
  {
   "cell_type": "code",
   "execution_count": 16,
   "id": "f42986ef",
   "metadata": {},
   "outputs": [
    {
     "data": {
      "text/latex": [
       "$\\displaystyle \\left[\\begin{matrix}20\\\\10\\\\20\\end{matrix}\\right]$"
      ],
      "text/plain": [
       "Matrix([\n",
       "[20],\n",
       "[10],\n",
       "[20]])"
      ]
     },
     "execution_count": 16,
     "metadata": {},
     "output_type": "execute_result"
    }
   ],
   "source": [
    "A_inv * b"
   ]
  },
  {
   "cell_type": "code",
   "execution_count": 17,
   "id": "4ddc7c32",
   "metadata": {},
   "outputs": [],
   "source": [
    "L, U, perm = A.LUdecomposition()"
   ]
  },
  {
   "cell_type": "code",
   "execution_count": 18,
   "id": "b4f6d84a",
   "metadata": {},
   "outputs": [
    {
     "data": {
      "text/plain": [
       "[]"
      ]
     },
     "execution_count": 18,
     "metadata": {},
     "output_type": "execute_result"
    }
   ],
   "source": [
    "perm"
   ]
  },
  {
   "cell_type": "code",
   "execution_count": 19,
   "id": "f6fbd0de",
   "metadata": {},
   "outputs": [
    {
     "data": {
      "text/latex": [
       "$\\displaystyle \\left[\\begin{matrix}1 & 0 & 0\\\\5 & 1 & 0\\\\1 & - \\frac{3}{7} & 1\\end{matrix}\\right]$"
      ],
      "text/plain": [
       "Matrix([\n",
       "[1,    0, 0],\n",
       "[5,    1, 0],\n",
       "[1, -3/7, 1]])"
      ]
     },
     "execution_count": 19,
     "metadata": {},
     "output_type": "execute_result"
    }
   ],
   "source": [
    "L"
   ]
  },
  {
   "cell_type": "code",
   "execution_count": 20,
   "id": "d9dd3d42",
   "metadata": {},
   "outputs": [
    {
     "data": {
      "text/latex": [
       "$\\displaystyle \\left[\\begin{matrix}1 & 1 & 1\\\\0 & 7 & 3\\\\0 & 0 & \\frac{2}{7}\\end{matrix}\\right]$"
      ],
      "text/plain": [
       "Matrix([\n",
       "[1, 1,   1],\n",
       "[0, 7,   3],\n",
       "[0, 0, 2/7]])"
      ]
     },
     "execution_count": 20,
     "metadata": {},
     "output_type": "execute_result"
    }
   ],
   "source": [
    "U"
   ]
  },
  {
   "cell_type": "code",
   "execution_count": 21,
   "id": "f05f27c8",
   "metadata": {},
   "outputs": [
    {
     "data": {
      "text/latex": [
       "$\\displaystyle \\text{True}$"
      ],
      "text/plain": [
       "True"
      ]
     },
     "execution_count": 21,
     "metadata": {},
     "output_type": "execute_result"
    }
   ],
   "source": [
    "sp.Eq(L * U, A)"
   ]
  },
  {
   "cell_type": "code",
   "execution_count": 22,
   "id": "24af37f0",
   "metadata": {},
   "outputs": [
    {
     "data": {
      "text/latex": [
       "$\\displaystyle \\left[\\begin{matrix}y_{0}\\\\5 y_{0} + y_{1}\\\\y_{0} - \\frac{3 y_{1}}{7} + y_{2}\\end{matrix}\\right] = \\left[\\begin{matrix}50\\\\380\\\\0\\end{matrix}\\right]$"
      ],
      "text/plain": [
       "Eq(Matrix([\n",
       "[              y0],\n",
       "[       5*y0 + y1],\n",
       "[y0 - 3*y1/7 + y2]]), Matrix([\n",
       "[ 50],\n",
       "[380],\n",
       "[  0]]))"
      ]
     },
     "execution_count": 22,
     "metadata": {},
     "output_type": "execute_result"
    }
   ],
   "source": [
    "y = sp.Matrix(sp.symbols('y0, y1, y2'))\n",
    "\n",
    "lhs = L * y\n",
    "rhs = b\n",
    "\n",
    "sp.Eq(lhs, rhs)"
   ]
  },
  {
   "cell_type": "code",
   "execution_count": 23,
   "id": "1f8842e5",
   "metadata": {},
   "outputs": [
    {
     "data": {
      "text/latex": [
       "$\\displaystyle y_{0} = 50$"
      ],
      "text/plain": [
       "Eq(y0, 50)"
      ]
     },
     "execution_count": 23,
     "metadata": {},
     "output_type": "execute_result"
    }
   ],
   "source": [
    "eq0 = sp.Eq(lhs[0], rhs[0])\n",
    "eq0"
   ]
  },
  {
   "cell_type": "code",
   "execution_count": 24,
   "id": "dc965ffb",
   "metadata": {},
   "outputs": [
    {
     "data": {
      "text/latex": [
       "$\\displaystyle 5 y_{0} + y_{1} = 380$"
      ],
      "text/plain": [
       "Eq(5*y0 + y1, 380)"
      ]
     },
     "execution_count": 24,
     "metadata": {},
     "output_type": "execute_result"
    }
   ],
   "source": [
    "eq1 = sp.Eq(lhs[1], rhs[1])\n",
    "eq1"
   ]
  },
  {
   "cell_type": "code",
   "execution_count": 25,
   "id": "34db4231",
   "metadata": {},
   "outputs": [
    {
     "data": {
      "text/latex": [
       "$\\displaystyle y_{1} + 250 = 380$"
      ],
      "text/plain": [
       "Eq(y1 + 250, 380)"
      ]
     },
     "execution_count": 25,
     "metadata": {},
     "output_type": "execute_result"
    }
   ],
   "source": [
    "eq1 = eq1.subs(eq0.lhs, eq0.rhs)\n",
    "eq1"
   ]
  },
  {
   "cell_type": "code",
   "execution_count": 26,
   "id": "9d2521a0",
   "metadata": {},
   "outputs": [
    {
     "data": {
      "text/latex": [
       "$\\displaystyle y_{1} = 130$"
      ],
      "text/plain": [
       "Eq(y1, 130)"
      ]
     },
     "execution_count": 26,
     "metadata": {},
     "output_type": "execute_result"
    }
   ],
   "source": [
    "eq1 = sp.Eq(eq1.lhs - 250, eq1.rhs - 250)\n",
    "eq1"
   ]
  },
  {
   "cell_type": "code",
   "execution_count": 27,
   "id": "38bd39f3",
   "metadata": {},
   "outputs": [
    {
     "data": {
      "text/latex": [
       "$\\displaystyle y_{0} - \\frac{3 y_{1}}{7} + y_{2} = 0$"
      ],
      "text/plain": [
       "Eq(y0 - 3*y1/7 + y2, 0)"
      ]
     },
     "execution_count": 27,
     "metadata": {},
     "output_type": "execute_result"
    }
   ],
   "source": [
    "eq2 = sp.Eq(lhs[2], rhs[2])\n",
    "eq2"
   ]
  },
  {
   "cell_type": "code",
   "execution_count": 28,
   "id": "b181b222",
   "metadata": {},
   "outputs": [
    {
     "data": {
      "text/latex": [
       "$\\displaystyle y_{2} - \\frac{40}{7} = 0$"
      ],
      "text/plain": [
       "Eq(y2 - 40/7, 0)"
      ]
     },
     "execution_count": 28,
     "metadata": {},
     "output_type": "execute_result"
    }
   ],
   "source": [
    "eq2 = eq2.subs([(eq0.lhs, eq0.rhs), (eq1.lhs, eq1.rhs)])\n",
    "eq2"
   ]
  },
  {
   "cell_type": "code",
   "execution_count": 29,
   "id": "995f58c0",
   "metadata": {},
   "outputs": [
    {
     "data": {
      "text/latex": [
       "$\\displaystyle y_{2} = \\frac{40}{7}$"
      ],
      "text/plain": [
       "Eq(y2, 40/7)"
      ]
     },
     "execution_count": 29,
     "metadata": {},
     "output_type": "execute_result"
    }
   ],
   "source": [
    "term = sp.Rational(40, 7)\n",
    "eq2 = sp.Eq(eq2.lhs + term, eq2.rhs + term)\n",
    "eq2"
   ]
  },
  {
   "cell_type": "code",
   "execution_count": 30,
   "id": "7502c31e",
   "metadata": {},
   "outputs": [
    {
     "data": {
      "text/plain": [
       "[50, 130, 40/7]"
      ]
     },
     "execution_count": 30,
     "metadata": {},
     "output_type": "execute_result"
    }
   ],
   "source": [
    "y = [eq.rhs for eq in [eq0, eq1, eq2]]\n",
    "y"
   ]
  },
  {
   "cell_type": "code",
   "execution_count": 31,
   "id": "e38b7d9f",
   "metadata": {},
   "outputs": [
    {
     "data": {
      "text/latex": [
       "$\\displaystyle \\left[\\begin{matrix}50\\\\130\\\\\\frac{40}{7}\\end{matrix}\\right]$"
      ],
      "text/plain": [
       "Matrix([\n",
       "[  50],\n",
       "[ 130],\n",
       "[40/7]])"
      ]
     },
     "execution_count": 31,
     "metadata": {},
     "output_type": "execute_result"
    }
   ],
   "source": [
    "y = L.solve(b)\n",
    "y"
   ]
  },
  {
   "cell_type": "code",
   "execution_count": 32,
   "id": "92568a78",
   "metadata": {},
   "outputs": [
    {
     "data": {
      "text/latex": [
       "$\\displaystyle \\left[\\begin{matrix}20\\\\10\\\\20\\end{matrix}\\right]$"
      ],
      "text/plain": [
       "Matrix([\n",
       "[20],\n",
       "[10],\n",
       "[20]])"
      ]
     },
     "execution_count": 32,
     "metadata": {},
     "output_type": "execute_result"
    }
   ],
   "source": [
    "x = U.solve(y)\n",
    "x"
   ]
  },
  {
   "cell_type": "code",
   "execution_count": 33,
   "id": "fe9c4306",
   "metadata": {},
   "outputs": [
    {
     "data": {
      "text/latex": [
       "$\\displaystyle \\left[\\begin{matrix}20\\\\10\\\\20\\end{matrix}\\right]$"
      ],
      "text/plain": [
       "Matrix([\n",
       "[20],\n",
       "[10],\n",
       "[20]])"
      ]
     },
     "execution_count": 33,
     "metadata": {},
     "output_type": "execute_result"
    }
   ],
   "source": [
    "x = A.LUsolve(b)\n",
    "x"
   ]
  },
  {
   "cell_type": "code",
   "execution_count": 34,
   "id": "4e011835",
   "metadata": {},
   "outputs": [
    {
     "data": {
      "text/latex": [
       "$\\displaystyle \\left[\\begin{matrix}0\\\\0\\\\0\\end{matrix}\\right]$"
      ],
      "text/plain": [
       "Matrix([\n",
       "[0],\n",
       "[0],\n",
       "[0]])"
      ]
     },
     "execution_count": 34,
     "metadata": {},
     "output_type": "execute_result"
    }
   ],
   "source": [
    "A * x - b"
   ]
  },
  {
   "cell_type": "code",
   "execution_count": 35,
   "id": "0d6b5b9e",
   "metadata": {},
   "outputs": [
    {
     "data": {
      "text/latex": [
       "$\\displaystyle \\left[\\begin{matrix}50\\\\380\\\\0\\end{matrix}\\right]$"
      ],
      "text/plain": [
       "Matrix([\n",
       "[ 50],\n",
       "[380],\n",
       "[  0]])"
      ]
     },
     "execution_count": 35,
     "metadata": {},
     "output_type": "execute_result"
    }
   ],
   "source": [
    "b"
   ]
  },
  {
   "cell_type": "markdown",
   "id": "6454f685",
   "metadata": {},
   "source": [
    "LU decomposition is particularly useful if we would like to solve the same system of equations with different values of the right hand side, $b$.\n",
    "For example, suppose the person collecting payment makes an error, and at the end of the evening, the total in the till is only \\$379, just a dollar short.\n",
    "\n",
    "In this scenario, the right hand side is:"
   ]
  },
  {
   "cell_type": "code",
   "execution_count": 36,
   "id": "032aaa8c",
   "metadata": {},
   "outputs": [],
   "source": [
    "b2 = sp.Matrix([50, 379, 0])"
   ]
  },
  {
   "cell_type": "markdown",
   "id": "dc9b7420",
   "metadata": {},
   "source": [
    "And since we have already computed $L$ and $U$, we can use them to solve the system with this new right hand side."
   ]
  },
  {
   "cell_type": "code",
   "execution_count": 37,
   "id": "1e1b1b40",
   "metadata": {},
   "outputs": [
    {
     "data": {
      "text/latex": [
       "$\\displaystyle \\left[\\begin{matrix}21\\\\\\frac{21}{2}\\\\\\frac{37}{2}\\end{matrix}\\right]$"
      ],
      "text/plain": [
       "Matrix([\n",
       "[  21],\n",
       "[21/2],\n",
       "[37/2]])"
      ]
     },
     "execution_count": 37,
     "metadata": {},
     "output_type": "execute_result"
    }
   ],
   "source": [
    "y2 = L.solve(b2)\n",
    "x2 = U.solve(y2)\n",
    "x2"
   ]
  },
  {
   "cell_type": "markdown",
   "id": "9db00ea3",
   "metadata": {},
   "source": [
    "Since the elements of the solution are not all integers, we can tell that something went wrong.\n"
   ]
  },
  {
   "cell_type": "markdown",
   "id": "97c7b4c4",
   "metadata": {},
   "source": [
    "## Numerical solution"
   ]
  },
  {
   "cell_type": "code",
   "execution_count": 38,
   "id": "c62deea2",
   "metadata": {},
   "outputs": [],
   "source": [
    "A_np = np.array(A).astype(float)\n",
    "b_np = np.array(b).astype(float).flatten()"
   ]
  },
  {
   "cell_type": "code",
   "execution_count": 39,
   "id": "285abf31",
   "metadata": {},
   "outputs": [
    {
     "data": {
      "text/plain": [
       "array([20., 10., 20.])"
      ]
     },
     "execution_count": 39,
     "metadata": {},
     "output_type": "execute_result"
    }
   ],
   "source": [
    "from scipy.linalg import solve\n",
    "\n",
    "np.linalg.solve(A_np, b_np)"
   ]
  },
  {
   "cell_type": "code",
   "execution_count": 40,
   "id": "71ff9f5e",
   "metadata": {},
   "outputs": [],
   "source": [
    "from scipy.linalg import lu\n",
    "\n",
    "P, L, U = lu(A_np)"
   ]
  },
  {
   "cell_type": "code",
   "execution_count": 41,
   "id": "93ce6328",
   "metadata": {},
   "outputs": [
    {
     "data": {
      "text/plain": [
       "array([[1.        , 0.        , 0.        ],\n",
       "       [0.2       , 1.        , 0.        ],\n",
       "       [0.2       , 0.31818182, 1.        ]])"
      ]
     },
     "execution_count": 41,
     "metadata": {},
     "output_type": "execute_result"
    }
   ],
   "source": [
    "L"
   ]
  },
  {
   "cell_type": "code",
   "execution_count": 42,
   "id": "072c9d65",
   "metadata": {},
   "outputs": [
    {
     "data": {
      "text/plain": [
       "array([[ 5.        , 12.        ,  8.        ],\n",
       "       [ 0.        , -4.4       , -1.6       ],\n",
       "       [ 0.        ,  0.        , -0.09090909]])"
      ]
     },
     "execution_count": 42,
     "metadata": {},
     "output_type": "execute_result"
    }
   ],
   "source": [
    "U"
   ]
  },
  {
   "cell_type": "code",
   "execution_count": 43,
   "id": "23644183",
   "metadata": {},
   "outputs": [
    {
     "data": {
      "text/plain": [
       "array([[0., 0., 1.],\n",
       "       [1., 0., 0.],\n",
       "       [0., 1., 0.]])"
      ]
     },
     "execution_count": 43,
     "metadata": {},
     "output_type": "execute_result"
    }
   ],
   "source": [
    "P"
   ]
  },
  {
   "cell_type": "code",
   "execution_count": 44,
   "id": "929b92c1",
   "metadata": {},
   "outputs": [],
   "source": [
    "Pb = P.T @ b_np"
   ]
  },
  {
   "cell_type": "code",
   "execution_count": 45,
   "id": "2a78d526",
   "metadata": {},
   "outputs": [
    {
     "data": {
      "text/plain": [
       "array([380.        , -76.        ,  -1.81818182])"
      ]
     },
     "execution_count": 45,
     "metadata": {},
     "output_type": "execute_result"
    }
   ],
   "source": [
    "y = np.linalg.solve(L, Pb)\n",
    "y"
   ]
  },
  {
   "cell_type": "code",
   "execution_count": 46,
   "id": "e720d6ca",
   "metadata": {},
   "outputs": [
    {
     "data": {
      "text/plain": [
       "array([20., 10., 20.])"
      ]
     },
     "execution_count": 46,
     "metadata": {},
     "output_type": "execute_result"
    }
   ],
   "source": [
    "x_np = np.linalg.solve(U, y)\n",
    "x_np"
   ]
  },
  {
   "cell_type": "code",
   "execution_count": 47,
   "id": "8aa9aa70",
   "metadata": {},
   "outputs": [
    {
     "data": {
      "text/plain": [
       "array([[ 5.        , 12.        ,  8.        ],\n",
       "       [ 0.2       , -4.4       , -1.6       ],\n",
       "       [ 0.2       ,  0.31818182, -0.09090909]])"
      ]
     },
     "execution_count": 47,
     "metadata": {},
     "output_type": "execute_result"
    }
   ],
   "source": [
    "from scipy.linalg import lu_factor, lu_solve\n",
    "\n",
    "LU, piv = lu_factor(A_np)\n",
    "LU"
   ]
  },
  {
   "cell_type": "code",
   "execution_count": 48,
   "id": "056f3dd5",
   "metadata": {},
   "outputs": [
    {
     "data": {
      "text/plain": [
       "array([1, 2, 2], dtype=int32)"
      ]
     },
     "execution_count": 48,
     "metadata": {},
     "output_type": "execute_result"
    }
   ],
   "source": [
    "piv"
   ]
  },
  {
   "cell_type": "code",
   "execution_count": 49,
   "id": "c73b7235",
   "metadata": {},
   "outputs": [
    {
     "data": {
      "text/plain": [
       "array([20., 10., 20.])"
      ]
     },
     "execution_count": 49,
     "metadata": {},
     "output_type": "execute_result"
    }
   ],
   "source": [
    "x_lu = lu_solve((LU, piv), b_np)\n",
    "x_lu"
   ]
  },
  {
   "cell_type": "markdown",
   "id": "d6f83aaf",
   "metadata": {},
   "source": [
    "## Circuit Analysis"
   ]
  },
  {
   "cell_type": "code",
   "execution_count": 50,
   "id": "c891aa5f",
   "metadata": {},
   "outputs": [],
   "source": [
    "def make_graph():\n",
    "    G = nx.DiGraph()\n",
    "    G.graph['constants'] = []\n",
    "    G.graph['unknowns'] = []\n",
    "    return G"
   ]
  },
  {
   "cell_type": "code",
   "execution_count": 51,
   "id": "95b48c63",
   "metadata": {},
   "outputs": [],
   "source": [
    "def make_constant(G, name, **kwargs):\n",
    "    symbol = sp.Symbol(name)\n",
    "    G.graph['constants'].append(symbol)\n",
    "    return symbol"
   ]
  },
  {
   "cell_type": "code",
   "execution_count": 52,
   "id": "b054f009",
   "metadata": {},
   "outputs": [],
   "source": [
    "def make_unknown(G, name, **kwargs):\n",
    "    symbol = sp.Symbol(name)\n",
    "    G.graph['unknowns'].append(symbol)\n",
    "    return symbol"
   ]
  },
  {
   "cell_type": "code",
   "execution_count": 53,
   "id": "7890fdd6",
   "metadata": {},
   "outputs": [],
   "source": [
    "def make_voltage_divider():\n",
    "    G = make_graph()\n",
    "    G.graph['fixed'] = ['in', 'gnd']\n",
    "    \n",
    "    G.add_edge('in', 'out', component='R', name='R1')\n",
    "    G.add_edge('out', 'gnd', component='R', name='R2')\n",
    "\n",
    "    add_symbols(G)\n",
    "    return G"
   ]
  },
  {
   "cell_type": "code",
   "execution_count": 54,
   "id": "393c39c0",
   "metadata": {},
   "outputs": [],
   "source": [
    "def add_symbols(G):\n",
    "    # add currents to edges\n",
    "    for u, v, data in G.edges(data=True):\n",
    "        name = data['name']\n",
    "        data['resistance'] = make_constant(G, name)\n",
    "        data['current'] = make_unknown(G, f\"I_{name}\")\n",
    "\n",
    "    # Assign voltages to nodes\n",
    "    for node, data in G.nodes(data=True):\n",
    "        if node in G.graph['fixed']:\n",
    "            data['voltage'] = make_constant(G, f\"V_{node}\")\n",
    "        else:\n",
    "            data['voltage'] = make_unknown(G, f\"V_{node}\")"
   ]
  },
  {
   "cell_type": "code",
   "execution_count": 55,
   "id": "3be8a79c",
   "metadata": {},
   "outputs": [],
   "source": [
    "G = make_voltage_divider()"
   ]
  },
  {
   "cell_type": "code",
   "execution_count": 56,
   "id": "69da4421",
   "metadata": {},
   "outputs": [],
   "source": [
    "def draw_graph(G):\n",
    "    G.graph['graph'] = {'rankdir': 'LR'}\n",
    "    pos = nx.nx_agraph.graphviz_layout(G, prog='dot')\n",
    "\n",
    "    nx.draw_networkx_nodes(G, pos, node_color='lightblue', node_size=1000)\n",
    "    nx.draw_networkx_labels(G, pos)\n",
    "\n",
    "    edge_labels = {(u, v): str(d['resistance']) for u, v, d in G.edges(data=True)}\n",
    "    nx.draw_networkx_edges(G, pos, arrows=True)\n",
    "    nx.draw_networkx_edge_labels(G, pos, edge_labels=edge_labels)\n",
    "\n",
    "    plt.axis('off')\n",
    "    plt.tight_layout()"
   ]
  },
  {
   "cell_type": "code",
   "execution_count": 57,
   "id": "a5f59751",
   "metadata": {},
   "outputs": [
    {
     "data": {
      "image/png": "[encoded data removed]",
      "text/plain": [
       "<Figure size 450x262.5 with 1 Axes>"
      ]
     },
     "metadata": {},
     "output_type": "display_data"
    }
   ],
   "source": [
    "draw_graph(G)"
   ]
  },
  {
   "cell_type": "code",
   "execution_count": 58,
   "id": "3fb5db9c",
   "metadata": {},
   "outputs": [],
   "source": [
    "def make_ohm_equations(G):\n",
    "    ohm_eqs = []\n",
    "    \n",
    "    for u, v, data in G.edges(data=True):\n",
    "        if data['component'] == 'R':\n",
    "            V_from = G.nodes[u]['voltage']\n",
    "            V_to = G.nodes[v]['voltage']\n",
    "            R = data['resistance']\n",
    "            I = data['current']\n",
    "            \n",
    "            eq = sp.Eq(V_from - V_to, I * R)\n",
    "            ohm_eqs.append(eq)\n",
    "            \n",
    "    return ohm_eqs"
   ]
  },
  {
   "cell_type": "code",
   "execution_count": 59,
   "id": "4812be79",
   "metadata": {},
   "outputs": [],
   "source": [
    "def make_kcl_equations(G):\n",
    "    kcl_eqs = []\n",
    "    \n",
    "    for node in G.nodes:\n",
    "        if node in G.graph['fixed']:\n",
    "            continue\n",
    "\n",
    "        expr_out = sum(data['current'] for _, _, data in G.out_edges(node, data=True))\n",
    "        expr_in = sum(data['current'] for _, _, data in G.in_edges(node, data=True))\n",
    "        eq = sp.Eq(expr_in, expr_out)\n",
    "        \n",
    "        kcl_eqs.append(eq)\n",
    "        \n",
    "    return kcl_eqs"
   ]
  },
  {
   "cell_type": "code",
   "execution_count": 60,
   "id": "d201f4c3",
   "metadata": {},
   "outputs": [],
   "source": [
    "from IPython.display import display\n",
    "\n",
    "def display_equations(eqs):\n",
    "    for eqn in ohm_eqs:\n",
    "        display(eqn)"
   ]
  },
  {
   "cell_type": "code",
   "execution_count": 61,
   "id": "2d03f95d",
   "metadata": {},
   "outputs": [],
   "source": [
    "ohm_eqs = make_ohm_equations(G)"
   ]
  },
  {
   "cell_type": "code",
   "execution_count": 62,
   "id": "ef94215f",
   "metadata": {},
   "outputs": [
    {
     "data": {
      "text/latex": [
       "$\\displaystyle V_{in} - V_{out} = I_{R1} R_{1}$"
      ],
      "text/plain": [
       "Eq(V_in - V_out, I_R1*R1)"
      ]
     },
     "metadata": {},
     "output_type": "display_data"
    },
    {
     "data": {
      "text/latex": [
       "$\\displaystyle - V_{gnd} + V_{out} = I_{R2} R_{2}$"
      ],
      "text/plain": [
       "Eq(-V_gnd + V_out, I_R2*R2)"
      ]
     },
     "metadata": {},
     "output_type": "display_data"
    }
   ],
   "source": [
    "display_equations(ohm_eqs)"
   ]
  },
  {
   "cell_type": "code",
   "execution_count": 63,
   "id": "1b11d097",
   "metadata": {},
   "outputs": [
    {
     "data": {
      "text/latex": [
       "$\\displaystyle V_{in} - V_{out} = I_{R1} R_{1}$"
      ],
      "text/plain": [
       "Eq(V_in - V_out, I_R1*R1)"
      ]
     },
     "metadata": {},
     "output_type": "display_data"
    },
    {
     "data": {
      "text/latex": [
       "$\\displaystyle - V_{gnd} + V_{out} = I_{R2} R_{2}$"
      ],
      "text/plain": [
       "Eq(-V_gnd + V_out, I_R2*R2)"
      ]
     },
     "metadata": {},
     "output_type": "display_data"
    }
   ],
   "source": [
    "kcl_eqs = make_kcl_equations(G)\n",
    "\n",
    "display_equations(kcl_eqs)"
   ]
  },
  {
   "cell_type": "code",
   "execution_count": 64,
   "id": "0c95c872",
   "metadata": {},
   "outputs": [],
   "source": [
    "eqs = ohm_eqs + kcl_eqs"
   ]
  },
  {
   "cell_type": "code",
   "execution_count": 65,
   "id": "97e95bb1",
   "metadata": {},
   "outputs": [
    {
     "data": {
      "text/latex": [
       "$\\displaystyle \\left[\\begin{matrix}- R_{1} & 0 & -1\\\\0 & - R_{2} & 1\\\\1 & -1 & 0\\end{matrix}\\right]$"
      ],
      "text/plain": [
       "Matrix([\n",
       "[-R1,   0, -1],\n",
       "[  0, -R2,  1],\n",
       "[  1,  -1,  0]])"
      ]
     },
     "execution_count": 65,
     "metadata": {},
     "output_type": "execute_result"
    }
   ],
   "source": [
    "A, b = sp.linear_eq_to_matrix(eqs, G.graph['unknowns'])\n",
    "A"
   ]
  },
  {
   "cell_type": "code",
   "execution_count": 66,
   "id": "5f0e077c",
   "metadata": {},
   "outputs": [
    {
     "data": {
      "text/latex": [
       "$\\displaystyle \\left[\\begin{matrix}- V_{in}\\\\V_{gnd}\\\\0\\end{matrix}\\right]$"
      ],
      "text/plain": [
       "Matrix([\n",
       "[-V_in],\n",
       "[V_gnd],\n",
       "[    0]])"
      ]
     },
     "execution_count": 66,
     "metadata": {},
     "output_type": "execute_result"
    }
   ],
   "source": [
    "b"
   ]
  },
  {
   "cell_type": "code",
   "execution_count": 67,
   "id": "ba980221",
   "metadata": {},
   "outputs": [],
   "source": [
    "solution_vector = A.LUsolve(b)\n",
    "solution_vector.simplify()"
   ]
  },
  {
   "cell_type": "code",
   "execution_count": 68,
   "id": "95e2e6fc",
   "metadata": {},
   "outputs": [
    {
     "data": {
      "text/latex": [
       "$\\displaystyle \\left[\\begin{matrix}I_{R1}\\\\I_{R2}\\\\V_{out}\\end{matrix}\\right] = \\left[\\begin{matrix}\\frac{- V_{gnd} + V_{in}}{R_{1} + R_{2}}\\\\\\frac{- V_{gnd} + V_{in}}{R_{1} + R_{2}}\\\\\\frac{R_{1} V_{gnd} + R_{2} V_{in}}{R_{1} + R_{2}}\\end{matrix}\\right]$"
      ],
      "text/plain": [
       "Eq(Matrix([\n",
       "[ I_R1],\n",
       "[ I_R2],\n",
       "[V_out]]), Matrix([\n",
       "[     (-V_gnd + V_in)/(R1 + R2)],\n",
       "[     (-V_gnd + V_in)/(R1 + R2)],\n",
       "[(R1*V_gnd + R2*V_in)/(R1 + R2)]]))"
      ]
     },
     "execution_count": 68,
     "metadata": {},
     "output_type": "execute_result"
    }
   ],
   "source": [
    "sp.Eq(sp.Matrix(G.graph['unknowns']), solution_vector)"
   ]
  },
  {
   "cell_type": "code",
   "execution_count": 69,
   "id": "5b2caf2f",
   "metadata": {},
   "outputs": [
    {
     "data": {
      "text/plain": [
       "{R1: 1000, R2: 4000, V_in: 5, V_gnd: 0}"
      ]
     },
     "execution_count": 69,
     "metadata": {},
     "output_type": "execute_result"
    }
   ],
   "source": [
    "subs = dict(zip(G.graph['constants'], [1000, 4000, 5, 0]))\n",
    "subs"
   ]
  },
  {
   "cell_type": "code",
   "execution_count": 70,
   "id": "a6c63ddf",
   "metadata": {},
   "outputs": [
    {
     "data": {
      "text/latex": [
       "$\\displaystyle \\left[\\begin{matrix}\\frac{1}{1000}\\\\\\frac{1}{1000}\\\\4\\end{matrix}\\right]$"
      ],
      "text/plain": [
       "Matrix([\n",
       "[1/1000],\n",
       "[1/1000],\n",
       "[     4]])"
      ]
     },
     "execution_count": 70,
     "metadata": {},
     "output_type": "execute_result"
    }
   ],
   "source": [
    "evaluated = solution_vector.subs(subs)\n",
    "evaluated"
   ]
  },
  {
   "cell_type": "markdown",
   "id": "705627a4",
   "metadata": {},
   "source": [
    "## R2R Ladder"
   ]
  },
  {
   "cell_type": "code",
   "execution_count": 71,
   "id": "39bb4da8",
   "metadata": {},
   "outputs": [],
   "source": [
    "def make_r2r_ladder(N):\n",
    "    G = make_graph()\n",
    "    G.graph['fixed'] = [f'D{i}' for i in range(N)] + ['gnd']  \n",
    "\n",
    "    start = 'gnd'\n",
    "    for i in range(N):\n",
    "        node = f'n{i}'\n",
    "        pin = f'D{i}'\n",
    "        G.add_edge(start, node, component='R', name=f'r{i}')\n",
    "        G.add_edge(pin, node, component='R', name=f'R{i}')\n",
    "        start = node\n",
    "    \n",
    "    G['gnd']['n0']['name'] = 'R'\n",
    "    add_symbols(G)\n",
    "    return G"
   ]
  },
  {
   "cell_type": "code",
   "execution_count": 72,
   "id": "c3af6bd6",
   "metadata": {},
   "outputs": [],
   "source": [
    "N = 3\n",
    "G = make_r2r_ladder(N)"
   ]
  },
  {
   "cell_type": "code",
   "execution_count": 73,
   "id": "e5cddad8",
   "metadata": {},
   "outputs": [
    {
     "data": {
      "text/plain": [
       "[R, r1, R0, r2, R1, R2, V_gnd, V_D0, V_D1, V_D2]"
      ]
     },
     "execution_count": 73,
     "metadata": {},
     "output_type": "execute_result"
    }
   ],
   "source": [
    "G.graph['constants']"
   ]
  },
  {
   "cell_type": "code",
   "execution_count": 74,
   "id": "2e5ff44f",
   "metadata": {},
   "outputs": [
    {
     "data": {
      "text/plain": [
       "[I_R, I_r1, I_R0, I_r2, I_R1, I_R2, V_n0, V_n1, V_n2]"
      ]
     },
     "execution_count": 74,
     "metadata": {},
     "output_type": "execute_result"
    }
   ],
   "source": [
    "G.graph['unknowns']"
   ]
  },
  {
   "cell_type": "code",
   "execution_count": 75,
   "id": "fa688215",
   "metadata": {},
   "outputs": [
    {
     "data": {
      "text/plain": [
       "['D0', 'D1', 'D2', 'gnd']"
      ]
     },
     "execution_count": 75,
     "metadata": {},
     "output_type": "execute_result"
    }
   ],
   "source": [
    "G.graph['fixed']"
   ]
  },
  {
   "cell_type": "code",
   "execution_count": 76,
   "id": "3cd78ad1",
   "metadata": {},
   "outputs": [
    {
     "data": {
      "image/png": "[encoded data removed]",
      "text/plain": [
       "<Figure size 450x262.5 with 1 Axes>"
      ]
     },
     "metadata": {},
     "output_type": "display_data"
    }
   ],
   "source": [
    "from system import draw_graph\n",
    "\n",
    "draw_graph(G)"
   ]
  },
  {
   "cell_type": "code",
   "execution_count": 77,
   "id": "ade0c601",
   "metadata": {},
   "outputs": [
    {
     "data": {
      "text/latex": [
       "$\\displaystyle V_{gnd} - V_{n0} = I_{R} R$"
      ],
      "text/plain": [
       "Eq(V_gnd - V_n0, I_R*R)"
      ]
     },
     "metadata": {},
     "output_type": "display_data"
    },
    {
     "data": {
      "text/latex": [
       "$\\displaystyle V_{n0} - V_{n1} = I_{r1} r_{1}$"
      ],
      "text/plain": [
       "Eq(V_n0 - V_n1, I_r1*r1)"
      ]
     },
     "metadata": {},
     "output_type": "display_data"
    },
    {
     "data": {
      "text/latex": [
       "$\\displaystyle V_{D0} - V_{n0} = I_{R0} R_{0}$"
      ],
      "text/plain": [
       "Eq(V_D0 - V_n0, I_R0*R0)"
      ]
     },
     "metadata": {},
     "output_type": "display_data"
    },
    {
     "data": {
      "text/latex": [
       "$\\displaystyle V_{n1} - V_{n2} = I_{r2} r_{2}$"
      ],
      "text/plain": [
       "Eq(V_n1 - V_n2, I_r2*r2)"
      ]
     },
     "metadata": {},
     "output_type": "display_data"
    },
    {
     "data": {
      "text/latex": [
       "$\\displaystyle V_{D1} - V_{n1} = I_{R1} R_{1}$"
      ],
      "text/plain": [
       "Eq(V_D1 - V_n1, I_R1*R1)"
      ]
     },
     "metadata": {},
     "output_type": "display_data"
    },
    {
     "data": {
      "text/latex": [
       "$\\displaystyle V_{D2} - V_{n2} = I_{R2} R_{2}$"
      ],
      "text/plain": [
       "Eq(V_D2 - V_n2, I_R2*R2)"
      ]
     },
     "metadata": {},
     "output_type": "display_data"
    },
    {
     "data": {
      "text/latex": [
       "$\\displaystyle I_{R} + I_{R0} = I_{r1}$"
      ],
      "text/plain": [
       "Eq(I_R + I_R0, I_r1)"
      ]
     },
     "metadata": {},
     "output_type": "display_data"
    },
    {
     "data": {
      "text/latex": [
       "$\\displaystyle I_{R1} + I_{r1} = I_{r2}$"
      ],
      "text/plain": [
       "Eq(I_R1 + I_r1, I_r2)"
      ]
     },
     "metadata": {},
     "output_type": "display_data"
    },
    {
     "data": {
      "text/latex": [
       "$\\displaystyle I_{R2} + I_{r2} = 0$"
      ],
      "text/plain": [
       "Eq(I_R2 + I_r2, 0)"
      ]
     },
     "metadata": {},
     "output_type": "display_data"
    }
   ],
   "source": [
    "ohm_eqs = make_ohm_equations(G)\n",
    "kcl_eqs = make_kcl_equations(G)\n",
    "\n",
    "for eqn in ohm_eqs:\n",
    "    display(eqn)\n",
    "\n",
    "for eqn in kcl_eqs:\n",
    "    display(eqn)"
   ]
  },
  {
   "cell_type": "code",
   "execution_count": 78,
   "id": "2190d22d",
   "metadata": {},
   "outputs": [
    {
     "data": {
      "text/plain": [
       "[I_R, I_r1, I_R0, I_r2, I_R1, I_R2, V_n0, V_n1, V_n2]"
      ]
     },
     "execution_count": 78,
     "metadata": {},
     "output_type": "execute_result"
    }
   ],
   "source": [
    "unknowns = G.graph['unknowns']\n",
    "unknowns"
   ]
  },
  {
   "cell_type": "code",
   "execution_count": 79,
   "id": "7d95d529",
   "metadata": {},
   "outputs": [
    {
     "data": {
      "text/latex": [
       "$\\displaystyle \\left[\\begin{matrix}- R & 0 & 0 & 0 & 0 & 0 & -1 & 0 & 0\\\\0 & - r_{1} & 0 & 0 & 0 & 0 & 1 & -1 & 0\\\\0 & 0 & - R_{0} & 0 & 0 & 0 & -1 & 0 & 0\\\\0 & 0 & 0 & - r_{2} & 0 & 0 & 0 & 1 & -1\\\\0 & 0 & 0 & 0 & - R_{1} & 0 & 0 & -1 & 0\\\\0 & 0 & 0 & 0 & 0 & - R_{2} & 0 & 0 & -1\\\\1 & -1 & 1 & 0 & 0 & 0 & 0 & 0 & 0\\\\0 & 1 & 0 & -1 & 1 & 0 & 0 & 0 & 0\\\\0 & 0 & 0 & 1 & 0 & 1 & 0 & 0 & 0\\end{matrix}\\right]$"
      ],
      "text/plain": [
       "Matrix([\n",
       "[-R,   0,   0,   0,   0,   0, -1,  0,  0],\n",
       "[ 0, -r1,   0,   0,   0,   0,  1, -1,  0],\n",
       "[ 0,   0, -R0,   0,   0,   0, -1,  0,  0],\n",
       "[ 0,   0,   0, -r2,   0,   0,  0,  1, -1],\n",
       "[ 0,   0,   0,   0, -R1,   0,  0, -1,  0],\n",
       "[ 0,   0,   0,   0,   0, -R2,  0,  0, -1],\n",
       "[ 1,  -1,   1,   0,   0,   0,  0,  0,  0],\n",
       "[ 0,   1,   0,  -1,   1,   0,  0,  0,  0],\n",
       "[ 0,   0,   0,   1,   0,   1,  0,  0,  0]])"
      ]
     },
     "execution_count": 79,
     "metadata": {},
     "output_type": "execute_result"
    }
   ],
   "source": [
    "eqs = ohm_eqs + kcl_eqs\n",
    "A, b = sp.linear_eq_to_matrix(eqs, unknowns)\n",
    "A"
   ]
  },
  {
   "cell_type": "code",
   "execution_count": 80,
   "id": "b5a098b5",
   "metadata": {},
   "outputs": [
    {
     "data": {
      "text/latex": [
       "$\\displaystyle \\left[\\begin{matrix}- V_{gnd}\\\\0\\\\- V_{D0}\\\\0\\\\- V_{D1}\\\\- V_{D2}\\\\0\\\\0\\\\0\\end{matrix}\\right]$"
      ],
      "text/plain": [
       "Matrix([\n",
       "[-V_gnd],\n",
       "[     0],\n",
       "[ -V_D0],\n",
       "[     0],\n",
       "[ -V_D1],\n",
       "[ -V_D2],\n",
       "[     0],\n",
       "[     0],\n",
       "[     0]])"
      ]
     },
     "execution_count": 80,
     "metadata": {},
     "output_type": "execute_result"
    }
   ],
   "source": [
    "b"
   ]
  },
  {
   "cell_type": "code",
   "execution_count": 81,
   "id": "dbe89505",
   "metadata": {},
   "outputs": [],
   "source": [
    "solution_vector = A.LUsolve(b)"
   ]
  },
  {
   "cell_type": "code",
   "execution_count": 82,
   "id": "d9310feb",
   "metadata": {},
   "outputs": [
    {
     "data": {
      "text/latex": [
       "$\\displaystyle \\frac{R R_{0} R_{1} V_{D2} + R R_{0} R_{2} V_{D1} + R R_{1} R_{2} V_{D0} + R_{0} R_{1} R_{2} V_{gnd} + V_{D2} r_{2} \\left(R R_{0} + \\left(R + R_{0}\\right) \\left(R_{1} + r_{1}\\right)\\right) + r_{1} \\left(R + R_{0}\\right) \\left(R_{1} V_{D2} + R_{2} V_{D1}\\right)}{R R_{0} R_{1} + R_{1} r_{1} \\left(R + R_{0}\\right) + \\left(R_{2} + r_{2}\\right) \\left(R R_{0} + \\left(R + R_{0}\\right) \\left(R_{1} + r_{1}\\right)\\right)}$"
      ],
      "text/plain": [
       "(R*R0*R1*V_D2 + R*R0*R2*V_D1 + R*R1*R2*V_D0 + R0*R1*R2*V_gnd + V_D2*r2*(R*R0 + (R + R0)*(R1 + r1)) + r1*(R + R0)*(R1*V_D2 + R2*V_D1))/(R*R0*R1 + R1*r1*(R + R0) + (R2 + r2)*(R*R0 + (R + R0)*(R1 + r1)))"
      ]
     },
     "execution_count": 82,
     "metadata": {},
     "output_type": "execute_result"
    }
   ],
   "source": [
    "solution_vector[-1].simplify()"
   ]
  },
  {
   "cell_type": "code",
   "execution_count": 83,
   "id": "8a440651",
   "metadata": {},
   "outputs": [
    {
     "data": {
      "text/plain": [
       "[R, r1, R0, r2, R1, R2, V_gnd, V_D0, V_D1, V_D2]"
      ]
     },
     "execution_count": 83,
     "metadata": {},
     "output_type": "execute_result"
    }
   ],
   "source": [
    "constants = G.graph['constants']\n",
    "constants"
   ]
  },
  {
   "cell_type": "code",
   "execution_count": 84,
   "id": "70ff1d23",
   "metadata": {},
   "outputs": [],
   "source": [
    "def set_values(constants, **values):\n",
    "    subs = {}\n",
    "    for symbol in constants:\n",
    "        for key, value in values.items():\n",
    "            if symbol.name.startswith(key):\n",
    "                subs[symbol] = value\n",
    "    \n",
    "    return subs"
   ]
  },
  {
   "cell_type": "code",
   "execution_count": 85,
   "id": "fa7a5845",
   "metadata": {},
   "outputs": [
    {
     "data": {
      "text/plain": [
       "{R: 20000,\n",
       " r1: 10000,\n",
       " R0: 20000,\n",
       " r2: 10000,\n",
       " R1: 20000,\n",
       " R2: 20000,\n",
       " V_gnd: 0,\n",
       " V_D0: 4,\n",
       " V_D1: 4,\n",
       " V_D2: 4}"
      ]
     },
     "execution_count": 85,
     "metadata": {},
     "output_type": "execute_result"
    }
   ],
   "source": [
    "subs = set_values(constants, r=10000, R=20000, V_gnd=0, V_D=4)\n",
    "subs"
   ]
  },
  {
   "cell_type": "code",
   "execution_count": 86,
   "id": "836aa971",
   "metadata": {},
   "outputs": [
    {
     "data": {
      "text/latex": [
       "$\\displaystyle 3.5$"
      ],
      "text/plain": [
       "3.50000000000000"
      ]
     },
     "execution_count": 86,
     "metadata": {},
     "output_type": "execute_result"
    }
   ],
   "source": [
    "evaluated = solution_vector[-1].subs(subs)\n",
    "evaluated.evalf()"
   ]
  },
  {
   "cell_type": "code",
   "execution_count": 87,
   "id": "73a0856c",
   "metadata": {},
   "outputs": [
    {
     "data": {
      "text/plain": [
       "3.5"
      ]
     },
     "execution_count": 87,
     "metadata": {},
     "output_type": "execute_result"
    }
   ],
   "source": [
    "4 * (2**N-1) / 2**N"
   ]
  },
  {
   "cell_type": "markdown",
   "id": "65980f31",
   "metadata": {},
   "source": [
    "### Exercise\n",
    "\n",
    "Substitute values into A and b, convert them to NumPy arrays, and use the NumPy solver to solve the system numerically."
   ]
  },
  {
   "cell_type": "markdown",
   "id": "65f8a599",
   "metadata": {},
   "source": [
    "### Exercise"
   ]
  },
  {
   "cell_type": "markdown",
   "id": "3bc7fb9c",
   "metadata": {},
   "source": [
    "How big a difference is this really?"
   ]
  },
  {
   "cell_type": "code",
   "execution_count": 88,
   "id": "e093d028",
   "metadata": {},
   "outputs": [],
   "source": [
    "from time import perf_counter\n",
    "\n",
    "n = 100\n",
    "A = np.random.rand(n, n)\n",
    "b = np.random.rand(n)\n",
    "\n",
    "x1 = solve(A, b)"
   ]
  },
  {
   "cell_type": "code",
   "execution_count": 89,
   "id": "0eb456da",
   "metadata": {},
   "outputs": [
    {
     "name": "stdout",
     "output_type": "stream",
     "text": [
      "Solve time:    0.0006 sec\n"
     ]
    }
   ],
   "source": [
    "t0 = perf_counter()\n",
    "x1 = solve(A, b)\n",
    "t1 = perf_counter()\n",
    "print(f\"Solve time:    {t1 - t0:.4f} sec\")"
   ]
  },
  {
   "cell_type": "code",
   "execution_count": 90,
   "id": "7786c488",
   "metadata": {},
   "outputs": [
    {
     "name": "stdout",
     "output_type": "stream",
     "text": [
      "Inverse time:  0.0043 sec\n"
     ]
    }
   ],
   "source": [
    "t2 = perf_counter()\n",
    "A_inv = inv(A)\n",
    "x2 = A_inv @ b\n",
    "t3 = perf_counter()\n",
    "\n",
    "print(f\"Inverse time:  {t3 - t2:.4f} sec\")"
   ]
  },
  {
   "cell_type": "markdown",
   "id": "e27da3a4",
   "metadata": {
    "tags": [
     "remove-print"
    ]
   },
   "source": [
    "[Think Linear Algebra](https://allendowney.github.io/ThinkLinearAlgebra/index.html)\n",
    "\n",
    "Copyright 2025 [Allen B. Downey](https://allendowney.com)\n",
    "\n",
    "Code license: [MIT License](https://mit-license.org/)\n",
    "\n",
    "Text license: [Creative Commons Attribution-NonCommercial-ShareAlike 4.0 International](https://creativecommons.org/licenses/by-nc-sa/4.0/)"
   ]
  },
  {
   "cell_type": "code",
   "execution_count": null,
   "id": "c8b4e400-dc97-498e-9016-3e9ef05dc7a3",
   "metadata": {},
   "outputs": [],
   "source": []
  }
 ],
 "metadata": {
  "celltoolbar": "Tags",
  "kernelspec": {
   "display_name": "Python 3 (ipykernel)",
   "language": "python",
   "name": "python3"
  },
  "language_info": {
   "codemirror_mode": {
    "name": "ipython",
    "version": 3
   },
   "file_extension": ".py",
   "mimetype": "text/x-python",
   "name": "python",
   "nbconvert_exporter": "python",
   "pygments_lexer": "ipython3",
   "version": "3.10.16"
  }
 },
 "nbformat": 4,
 "nbformat_minor": 5
}
