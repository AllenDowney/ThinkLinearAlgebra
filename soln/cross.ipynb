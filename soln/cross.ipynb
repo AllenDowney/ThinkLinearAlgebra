{
 "cells": [
  {
   "cell_type": "markdown",
   "id": "025b76df",
   "metadata": {},
   "source": [
    "*Think Linear Algebra* is not for sale yet, but if you would like to support this project, you can [buy me a coffee](https://buymeacoffee.com/allendowney)."
   ]
  },
  {
   "cell_type": "markdown",
   "id": "85c30bdb",
   "metadata": {},
   "source": [
    "# Title\n",
    "\n"
   ]
  },
  {
   "cell_type": "markdown",
   "id": "3893fe82",
   "metadata": {
    "tags": [
     "remove-print"
    ]
   },
   "source": [
    "[Click here to run this notebook on Colab](https://colab.research.google.com/github/AllenDowney/ThinkLinearAlgebra/blob/main/nb/track.ipynb)."
   ]
  },
  {
   "cell_type": "code",
   "execution_count": 1,
   "id": "cae71af1-78d9-4e2a-8835-293ed0a07bf3",
   "metadata": {},
   "outputs": [],
   "source": [
    "%load_ext autoreload\n",
    "%autoreload 2"
   ]
  },
  {
   "cell_type": "code",
   "execution_count": 2,
   "id": "02d400cf",
   "metadata": {
    "tags": [
     "remove-print",
     "hide-cell"
    ]
   },
   "outputs": [],
   "source": [
    "from os.path import basename, exists\n",
    "\n",
    "\n",
    "def download(url):\n",
    "    filename = basename(url)\n",
    "    if not exists(filename):\n",
    "        from urllib.request import urlretrieve\n",
    "\n",
    "        local, _ = urlretrieve(url, filename)\n",
    "        print(\"Downloaded \" + local)\n",
    "\n",
    "\n",
    "download(\"https://github.com/AllenDowney/ThinkLinearAlgebra/raw/main/utils.py\")"
   ]
  },
  {
   "cell_type": "code",
   "execution_count": 3,
   "id": "1a3119be",
   "metadata": {
    "tags": [
     "hide-cell",
     "remove-print"
    ]
   },
   "outputs": [],
   "source": [
    "import numpy as np\n",
    "import pandas as pd\n",
    "import matplotlib.pyplot as plt\n",
    "\n",
    "from utils import decorate, underride"
   ]
  },
  {
   "cell_type": "markdown",
   "id": "9ebc865a",
   "metadata": {},
   "source": [
    "## Section\n",
    "\n"
   ]
  },
  {
   "cell_type": "code",
   "execution_count": 9,
   "id": "93422df4-1872-4ff3-9962-d1689698dc95",
   "metadata": {},
   "outputs": [],
   "source": [
    "import numpy as np\n",
    "import matplotlib.pyplot as plt\n",
    "from mpl_toolkits.mplot3d import Axes3D\n",
    "\n",
    "\n",
    "def plot_vectors(\n",
    "    vectors,\n",
    "    origin=None,\n",
    "    start=0,\n",
    "    end=None,\n",
    "    scale=1,\n",
    "    labels=None,\n",
    "    label_pos=None,\n",
    "    **options\n",
    "):\n",
    "    \"\"\"Plot a set of vectors in 2D or 3D.\n",
    "\n",
    "    Args:\n",
    "        vectors: list of vectors or array with one row per vector (shape: (N, 2) or (N, 3))\n",
    "        origin: list of vectors or array with one row per vector (default: all at (0,0) or (0,0,0))\n",
    "        start: integer slice index\n",
    "        end: integer slice index\n",
    "        scale: factor to multiply vectors\n",
    "        labels: list of string labels\n",
    "        label_pos: list of locations as integer clock positions (only for 2D)\n",
    "        options: passed to plt.quiver\n",
    "    \"\"\"\n",
    "    vectors = np.asarray(vectors) * scale\n",
    "    dim = vectors.shape[1]  # Determine 2D vs. 3D\n",
    "\n",
    "    if origin is None:\n",
    "        origin = np.zeros_like(vectors)\n",
    "    else:\n",
    "        origin = np.asarray(origin)\n",
    "\n",
    "    underride(\n",
    "        options,\n",
    "        color=\"C0\",\n",
    "        alpha=0.6,\n",
    "    )\n",
    "\n",
    "    ax = plt.gca()\n",
    "    if dim == 2:\n",
    "        # 2D case using plt.quiver\n",
    "        us, vs = vectors[start:end].T\n",
    "        xs, ys = origin[start:end].T\n",
    "\n",
    "        underride(\n",
    "            options,\n",
    "            angles=\"xy\",\n",
    "            scale_units=\"xy\",\n",
    "            scale=1,\n",
    "        )\n",
    "\n",
    "        ax.scatter(xs, ys, s=0)\n",
    "        ax.scatter(xs + us, ys + vs, s=0)\n",
    "        ax.quiver(xs, ys, us, vs, **options)\n",
    "\n",
    "    elif dim == 3:\n",
    "        # 3D case using ax.quiver\n",
    "        us, vs, ws = vectors[start:end].T\n",
    "        xs, ys, zs = origin[start:end].T\n",
    "        print(xs, ys, zs)\n",
    "\n",
    "        underride(\n",
    "            options,\n",
    "            arrow_length_ratio=0.1,\n",
    "        )\n",
    "\n",
    "        ax.scatter(xs, ys, zs, s=0)\n",
    "        ax.scatter(xs + us, ys + vs, zs + zs, s=0)\n",
    "        ax.quiver(xs, ys, zs, us, vs, ws, **options)\n",
    "\n",
    "    else:\n",
    "        raise ValueError(\"Only 2D and 3D vectors are supported.\")"
   ]
  },
  {
   "cell_type": "code",
   "execution_count": 10,
   "id": "6e515d93-4549-44be-9d3a-7ff0f0093113",
   "metadata": {},
   "outputs": [
    {
     "data": {
      "image/png": "[encoded data removed]",
      "text/plain": [
       "<Figure size 450x262.5 with 1 Axes>"
      ]
     },
     "metadata": {},
     "output_type": "display_data"
    }
   ],
   "source": [
    "v1 = np.array([2, 1])\n",
    "v2 = np.array([0, 2])\n",
    "\n",
    "plot_vectors([v1, v2])"
   ]
  },
  {
   "cell_type": "code",
   "execution_count": 11,
   "id": "0210cd5a",
   "metadata": {},
   "outputs": [],
   "source": [
    "def plot_plane(v1, v2, origin=None, **options):\n",
    "    \"\"\"Plot a shaded plane spanned by two vectors in 3D.\n",
    "\n",
    "    Args:\n",
    "        v1: First vector defining the plane (array-like, shape (3,))\n",
    "        v2: Second vector defining the plane (array-like, shape (3,))\n",
    "        origin: Origin point of the plane (default: [0, 0, 0])\n",
    "        options: Passed to plot_surface (e.g., color, alpha)\n",
    "    \"\"\"\n",
    "    v1, v2 = np.asarray(v1), np.asarray(v2)\n",
    "\n",
    "    if len(v1) != 3 or len(v2) != 3:\n",
    "        raise ValueError(\"plot_plane requires 3D vectors.\")\n",
    "\n",
    "    if origin is None:\n",
    "        origin = np.zeros(3)\n",
    "    else:\n",
    "        origin = np.asarray(origin)\n",
    "\n",
    "    # Generate a mesh grid for the plane\n",
    "    u = [0, 1]\n",
    "    v = [0, 1]\n",
    "    U, V = np.meshgrid(u, v)\n",
    "\n",
    "    # Plane equation: P = origin + U * v1 + V * v2\n",
    "    X = origin[0] + U * v1[0] + V * v2[0]\n",
    "    Y = origin[1] + U * v1[1] + V * v2[1]\n",
    "    Z = origin[2] + U * v1[2] + V * v2[2]\n",
    "\n",
    "    underride(options, color=\"gray\", alpha=0.3)\n",
    "\n",
    "    # Plot the plane\n",
    "    ax = plt.gca()\n",
    "    ax.plot_surface(X, Y, Z, **options)"
   ]
  },
  {
   "cell_type": "code",
   "execution_count": 12,
   "id": "dc72d8a7-70bd-496d-99ac-79150ccb77fc",
   "metadata": {},
   "outputs": [
    {
     "name": "stdout",
     "output_type": "stream",
     "text": [
      "[0 0 0] [0 0 0] [0 0 0]\n"
     ]
    },
    {
     "data": {
      "image/png": "[encoded data removed]",
      "text/plain": [
       "<Figure size 450x262.5 with 1 Axes>"
      ]
     },
     "metadata": {},
     "output_type": "display_data"
    }
   ],
   "source": [
    "fig = plt.figure()\n",
    "ax = fig.add_subplot(111, projection=\"3d\")\n",
    "\n",
    "# Example usage to visualize the cross product\n",
    "v1 = np.array([2, 1, 0])\n",
    "v2 = np.array([0, 2, 1])\n",
    "v3 = np.cross(v1, v2)\n",
    "\n",
    "plot_plane(v1, v2)\n",
    "plot_vectors([v1, v2, v3])\n",
    "lim = [0, 2.3]\n",
    "decorate(xlim=lim, ylim=lim, zlim=lim)"
   ]
  },
  {
   "cell_type": "code",
   "execution_count": 8,
   "id": "c9728bf0-2665-483a-a026-645019e14f4d",
   "metadata": {},
   "outputs": [
    {
     "name": "stdout",
     "output_type": "stream",
     "text": [
      "3.10.0\n"
     ]
    }
   ],
   "source": [
    "import matplotlib\n",
    "\n",
    "print(matplotlib.__version__)"
   ]
  },
  {
   "cell_type": "markdown",
   "id": "b3cb2a1d",
   "metadata": {},
   "source": [
    "Consider this as an example of using cross product"
   ]
  },
  {
   "cell_type": "code",
   "execution_count": null,
   "id": "4aa6105b-9482-4732-8552-1a39f7532918",
   "metadata": {},
   "outputs": [],
   "source": [
    "def angle_between(a, b):\n",
    "    a = np.asarray(a, float); b = np.asarray(b, float)\n",
    "    dot = a @ b\n",
    "    cross = a[0]*b[1] - a[1]*b[0]  # 2D \"z-component\" of cross\n",
    "    return np.arctan2(cross, dot)  # in (-π, π]"
   ]
  },
  {
   "cell_type": "code",
   "execution_count": null,
   "id": "54c51b70-1448-44cc-9202-a4b69fcf194c",
   "metadata": {},
   "outputs": [],
   "source": []
  },
  {
   "cell_type": "code",
   "execution_count": null,
   "id": "42349ce5-8a88-43d7-80e4-98383a33eea2",
   "metadata": {},
   "outputs": [],
   "source": []
  },
  {
   "cell_type": "code",
   "execution_count": null,
   "id": "f18369f8-daee-400d-a8e4-f7ecae036f7e",
   "metadata": {},
   "outputs": [],
   "source": []
  },
  {
   "cell_type": "code",
   "execution_count": null,
   "id": "19853987-d477-443f-b3e8-b103cab3784c",
   "metadata": {},
   "outputs": [],
   "source": []
  },
  {
   "cell_type": "code",
   "execution_count": null,
   "id": "af9563c3-5ae6-422f-8508-e2aede54804d",
   "metadata": {},
   "outputs": [],
   "source": []
  },
  {
   "cell_type": "code",
   "execution_count": null,
   "id": "4e8e62f4-ddbd-46e4-9abb-710bb5c440e9",
   "metadata": {},
   "outputs": [],
   "source": []
  },
  {
   "cell_type": "code",
   "execution_count": null,
   "id": "90fa3965-8d25-4c5a-bffa-ab6e50249761",
   "metadata": {},
   "outputs": [],
   "source": []
  },
  {
   "cell_type": "code",
   "execution_count": null,
   "id": "107d82af-8584-4476-9f50-bbdf945245e8",
   "metadata": {},
   "outputs": [],
   "source": []
  },
  {
   "cell_type": "markdown",
   "id": "e27da3a4",
   "metadata": {
    "tags": [
     "remove-print"
    ]
   },
   "source": [
    "[Think Linear Algebra](https://allendowney.github.io/ThinkLinearAlgebra/index.html)\n",
    "\n",
    "Copyright 2025 [Allen B. Downey](https://allendowney.com)\n",
    "\n",
    "Code license: [MIT License](https://mit-license.org/)\n",
    "\n",
    "Text license: [Creative Commons Attribution-NonCommercial-ShareAlike 4.0 International](https://creativecommons.org/licenses/by-nc-sa/4.0/)"
   ]
  },
  {
   "cell_type": "code",
   "execution_count": null,
   "id": "c8b4e400-dc97-498e-9016-3e9ef05dc7a3",
   "metadata": {},
   "outputs": [],
   "source": []
  }
 ],
 "metadata": {
  "celltoolbar": "Tags",
  "kernelspec": {
   "display_name": "Python 3 (ipykernel)",
   "language": "python",
   "name": "python3"
  },
  "language_info": {
   "codemirror_mode": {
    "name": "ipython",
    "version": 3
   },
   "file_extension": ".py",
   "mimetype": "text/x-python",
   "name": "python",
   "nbconvert_exporter": "python",
   "pygments_lexer": "ipython3",
   "version": "3.10.16"
  }
 },
 "nbformat": 4,
 "nbformat_minor": 5
}
