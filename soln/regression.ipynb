{
 "cells": [
  {
   "cell_type": "markdown",
   "id": "025b76df",
   "metadata": {},
   "source": [
    "*Think Linear Algebra* is not for sale yet, but if you would like to support this project, you can [buy me a coffee](https://buymeacoffee.com/allendowney)."
   ]
  },
  {
   "cell_type": "markdown",
   "id": "85c30bdb",
   "metadata": {},
   "source": [
    "# Regression\n",
    "\n",
    "TODO: intro"
   ]
  },
  {
   "cell_type": "markdown",
   "id": "3893fe82",
   "metadata": {
    "tags": [
     "remove-print"
    ]
   },
   "source": [
    "[Click here to run this notebook on Colab](https://colab.research.google.com/github/AllenDowney/ThinkLinearAlgebra/blob/main/chapters/regression.ipynb)."
   ]
  },
  {
   "cell_type": "code",
   "execution_count": 305,
   "id": "29fda2e3",
   "metadata": {
    "tags": [
     "remove-cell"
    ]
   },
   "outputs": [
    {
     "name": "stdout",
     "output_type": "stream",
     "text": [
      "The autoreload extension is already loaded. To reload it, use:\n",
      "  %reload_ext autoreload\n"
     ]
    }
   ],
   "source": [
    "# temporary hack to make autoreload work on Colab\n",
    "import importlib, sys\n",
    "sys.modules[\"imp\"] = importlib\n",
    "\n",
    "%load_ext autoreload\n",
    "%autoreload 2"
   ]
  },
  {
   "cell_type": "code",
   "execution_count": 306,
   "id": "02d400cf",
   "metadata": {
    "tags": [
     "remove-print",
     "hide-cell"
    ]
   },
   "outputs": [],
   "source": [
    "from os.path import basename, exists\n",
    "\n",
    "\n",
    "def download(url, filename=None):\n",
    "    if filename is None:\n",
    "        filename = basename(url)\n",
    "        \n",
    "    if not exists(filename):\n",
    "        from urllib.request import urlretrieve\n",
    "\n",
    "        local, _ = urlretrieve(url, filename)\n",
    "        print(\"Downloaded \" + local)\n",
    "\n",
    "\n",
    "download(\"https://github.com/AllenDowney/ThinkLinearAlgebra/raw/main/utils.py\")"
   ]
  },
  {
   "cell_type": "code",
   "execution_count": 307,
   "id": "1a3119be",
   "metadata": {
    "tags": [
     "hide-cell",
     "remove-print"
    ]
   },
   "outputs": [],
   "source": [
    "import networkx as nx\n",
    "import numpy as np\n",
    "import pandas as pd\n",
    "import matplotlib.pyplot as plt\n",
    "import sympy as sp\n",
    "\n",
    "from utils import decorate, underride"
   ]
  },
  {
   "cell_type": "code",
   "execution_count": 308,
   "id": "8c899bdc",
   "metadata": {
    "tags": [
     "remove-cell"
    ]
   },
   "outputs": [],
   "source": [
    "from utils import set_precision\n",
    "\n",
    "set_precision(4)"
   ]
  },
  {
   "cell_type": "markdown",
   "id": "9ebc865a",
   "metadata": {},
   "source": [
    "## Regression as Minimization\n",
    "\n",
    "Before we think of regression as a linear algebra problem, let's start with minimization.\n",
    "Specifically, we'll start with **least squares regression**, which minimizes the sum of squared errors.\n",
    "\n",
    "As the smallest example, I'll construct a predictor, `x`, and a response variable, `y` -- sometimes called independent and dependent variables."
   ]
  },
  {
   "cell_type": "code",
   "execution_count": 309,
   "id": "4dbd27c8",
   "metadata": {},
   "outputs": [
    {
     "data": {
      "text/plain": [
       "array([2.1, 1.1, 0.1])"
      ]
     },
     "execution_count": 309,
     "metadata": {},
     "output_type": "execute_result"
    }
   ],
   "source": [
    "x = np.array([2, 1, 0]) + 0.1\n",
    "x"
   ]
  },
  {
   "cell_type": "code",
   "execution_count": 310,
   "id": "1fd33146",
   "metadata": {},
   "outputs": [
    {
     "data": {
      "text/plain": [
       "array([2.08, 1.18, 0.88])"
      ]
     },
     "execution_count": 310,
     "metadata": {},
     "output_type": "execute_result"
    }
   ],
   "source": [
    "intercept, slope = 0.5, 0.8\n",
    "errors = [-0.1, -0.2, 0.3]\n",
    "\n",
    "y = intercept + slope * x + errors\n",
    "y"
   ]
  },
  {
   "cell_type": "markdown",
   "id": "1b653957",
   "metadata": {},
   "source": [
    "A natural way to visualize this dataset is to plot `y` versus `x`."
   ]
  },
  {
   "cell_type": "code",
   "execution_count": 311,
   "id": "eb00402d",
   "metadata": {},
   "outputs": [
    {
     "data": {
      "image/png": "[encoded data removed]",
      "text/plain": [
       "<Figure size 450x262.5 with 1 Axes>"
      ]
     },
     "metadata": {},
     "output_type": "display_data"
    }
   ],
   "source": [
    "plt.plot(x, y, 'o')\n",
    "decorate(xlabel='x', ylabel='y')"
   ]
  },
  {
   "cell_type": "markdown",
   "id": "5dc8d164",
   "metadata": {},
   "source": [
    "There's no line that goes through all three points, so we'll find a line of **best fit**.\n",
    "First we'll construct the **design matrix**, so-called because it represents the design of the regression model.\n",
    "\n",
    "In this example, the regression model has an intercept and a slope, so the design matrix has two columns: the first, which is all `1`s, corresponds to the intercept; the second, which contains the values of `x`, corresponds to the slope."
   ]
  },
  {
   "cell_type": "code",
   "execution_count": 312,
   "id": "66731f5a",
   "metadata": {},
   "outputs": [
    {
     "data": {
      "text/latex": [
       "$\\displaystyle \\left[\\begin{matrix}1.0 & 2.1\\\\1.0 & 1.1\\\\1.0 & 0.1\\end{matrix}\\right]$"
      ],
      "text/plain": [
       "Matrix([\n",
       "[1.0, 2.1],\n",
       "[1.0, 1.1],\n",
       "[1.0, 0.1]])"
      ]
     },
     "execution_count": 312,
     "metadata": {},
     "output_type": "execute_result"
    }
   ],
   "source": [
    "from sympy import Matrix\n",
    "\n",
    "X = np.column_stack((np.ones_like(x), x))\n",
    "Matrix(X)"
   ]
  },
  {
   "cell_type": "markdown",
   "id": "72438867",
   "metadata": {},
   "source": [
    "Now the goal is to find the vector of parameters, `beta`, that contains the intercept and slope of the line of best fit.\n",
    "For this example, we'll start with an arbitrary guess."
   ]
  },
  {
   "cell_type": "code",
   "execution_count": 313,
   "id": "fdeabbe7",
   "metadata": {},
   "outputs": [],
   "source": [
    "beta = np.array([1, 0.4])"
   ]
  },
  {
   "cell_type": "markdown",
   "id": "3e795845",
   "metadata": {},
   "source": [
    "To see how good that guess is, we can evaluate the fitted line at each location in `x`."
   ]
  },
  {
   "cell_type": "code",
   "execution_count": 314,
   "id": "0c2a75eb",
   "metadata": {},
   "outputs": [],
   "source": [
    "y_fit = X @ beta"
   ]
  },
  {
   "cell_type": "markdown",
   "id": "f89aac41",
   "metadata": {},
   "source": [
    "Next we can compute the **residuals**, which are the vertical distances between the actual values, `y`, and the fitted line. "
   ]
  },
  {
   "cell_type": "code",
   "execution_count": 315,
   "id": "e0d47177",
   "metadata": {},
   "outputs": [
    {
     "data": {
      "text/plain": [
       "array([ 0.24, -0.26, -0.16])"
      ]
     },
     "execution_count": 315,
     "metadata": {},
     "output_type": "execute_result"
    }
   ],
   "source": [
    "r = y - y_fit\n",
    "r"
   ]
  },
  {
   "cell_type": "markdown",
   "id": "9dc02ccd",
   "metadata": {},
   "source": [
    "Here's what that looks like.\n",
    "The dots are the actual values, the solid line is the not-very-good fit, and the vertical dotted lines show the residuals."
   ]
  },
  {
   "cell_type": "code",
   "execution_count": 316,
   "id": "589a54ce",
   "metadata": {},
   "outputs": [
    {
     "data": {
      "image/png": "[encoded data removed]",
      "text/plain": [
       "<Figure size 450x262.5 with 1 Axes>"
      ]
     },
     "metadata": {},
     "output_type": "display_data"
    }
   ],
   "source": [
    "plt.plot(x, y, 'o')\n",
    "plt.plot(x, y_fit)\n",
    "plt.vlines(x, y, y_fit, ls=':', color='gray')\n",
    "decorate(xlabel='x', ylabel='y')"
   ]
  },
  {
   "cell_type": "markdown",
   "id": "ad3fcc7f",
   "metadata": {},
   "source": [
    "To quantify the goodness of fit, can compute the **residual sum of squares** like this:"
   ]
  },
  {
   "cell_type": "code",
   "execution_count": 317,
   "id": "0c138291",
   "metadata": {},
   "outputs": [
    {
     "data": {
      "text/plain": [
       "0.1508"
      ]
     },
     "execution_count": 317,
     "metadata": {},
     "output_type": "execute_result"
    }
   ],
   "source": [
    "np.sum(r**2)"
   ]
  },
  {
   "cell_type": "markdown",
   "id": "5a9d8b58",
   "metadata": {},
   "source": [
    "Or equivalently, we can compute the dot product of the residuals."
   ]
  },
  {
   "cell_type": "code",
   "execution_count": 318,
   "id": "34e95173",
   "metadata": {},
   "outputs": [
    {
     "data": {
      "text/plain": [
       "0.1508"
      ]
     },
     "execution_count": 318,
     "metadata": {},
     "output_type": "execute_result"
    }
   ],
   "source": [
    "r @ r"
   ]
  },
  {
   "cell_type": "markdown",
   "id": "3a178fc1",
   "metadata": {},
   "source": [
    "Here's a function that takes a hypothetical vector of coefficients, `beta`, and returns the residual sum of squares, `rss`."
   ]
  },
  {
   "cell_type": "code",
   "execution_count": 319,
   "id": "75ccfe78",
   "metadata": {},
   "outputs": [],
   "source": [
    "def rss_func(beta, X, y):\n",
    "    r = y - X @ beta\n",
    "    return np.dot(r, r)"
   ]
  },
  {
   "cell_type": "markdown",
   "id": "f0c6ccbc",
   "metadata": {},
   "source": [
    "Here's the result for the example."
   ]
  },
  {
   "cell_type": "code",
   "execution_count": 320,
   "id": "c959c412",
   "metadata": {},
   "outputs": [
    {
     "data": {
      "text/plain": [
       "0.1508"
      ]
     },
     "execution_count": 320,
     "metadata": {},
     "output_type": "execute_result"
    }
   ],
   "source": [
    "rss_func(beta, X, y)"
   ]
  },
  {
   "cell_type": "markdown",
   "id": "bdb49914",
   "metadata": {},
   "source": [
    "Now we can use `rss_func` with the `minimize` function from SciPy to efficiently search for the value of `beta` that minimizes `rss`."
   ]
  },
  {
   "cell_type": "code",
   "execution_count": 321,
   "id": "0a83c136",
   "metadata": {},
   "outputs": [
    {
     "data": {
      "text/plain": [
       "'Optimization terminated successfully.'"
      ]
     },
     "execution_count": 321,
     "metadata": {},
     "output_type": "execute_result"
    }
   ],
   "source": [
    "from scipy.optimize import minimize\n",
    "\n",
    "result = minimize(rss_func, beta, args=(X, y))\n",
    "result.message"
   ]
  },
  {
   "cell_type": "markdown",
   "id": "64d3954c",
   "metadata": {},
   "source": [
    "The result is an `OptimizeResult` object; in this case, the `message` attribute indicates that the iterative search converged to a minimum.\n",
    "\n",
    "The `nfev` attribute is the number of function evaluations -- that is, the number of times `minimize` called `rss_func` with different values of `beta`."
   ]
  },
  {
   "cell_type": "code",
   "execution_count": 322,
   "id": "836da723",
   "metadata": {},
   "outputs": [
    {
     "data": {
      "text/plain": [
       "15"
      ]
     },
     "execution_count": 322,
     "metadata": {},
     "output_type": "execute_result"
    }
   ],
   "source": [
    "result.nfev"
   ]
  },
  {
   "cell_type": "markdown",
   "id": "a4fa5a8a",
   "metadata": {},
   "source": [
    "And here's the result, which we'll call `beta_hat` because the conventional notation for this result is $\\hat{\\beta}$, and the caret is almost universally called a \"hat\"."
   ]
  },
  {
   "cell_type": "code",
   "execution_count": 323,
   "id": "b6085609",
   "metadata": {},
   "outputs": [
    {
     "data": {
      "text/plain": [
       "array([0.72, 0.6 ])"
      ]
     },
     "execution_count": 323,
     "metadata": {},
     "output_type": "execute_result"
    }
   ],
   "source": [
    "beta_hat = result.x\n",
    "beta_hat"
   ]
  },
  {
   "cell_type": "markdown",
   "id": "3f6cfbbf",
   "metadata": {},
   "source": [
    "We can confirm that this value of `beta` yields a lower `rss` than the initial guess. "
   ]
  },
  {
   "cell_type": "code",
   "execution_count": 324,
   "id": "cb0fdaf0",
   "metadata": {},
   "outputs": [
    {
     "data": {
      "text/plain": [
       "0.0600"
      ]
     },
     "execution_count": 324,
     "metadata": {},
     "output_type": "execute_result"
    }
   ],
   "source": [
    "rss_func(beta_hat, X, y)"
   ]
  },
  {
   "cell_type": "markdown",
   "id": "27beea77",
   "metadata": {},
   "source": [
    "If we use `beta_hat` to compute fitted values, the result is called `y_hat`."
   ]
  },
  {
   "cell_type": "code",
   "execution_count": 325,
   "id": "1b6e76c6",
   "metadata": {},
   "outputs": [],
   "source": [
    "y_hat = X @ beta_hat"
   ]
  },
  {
   "cell_type": "markdown",
   "id": "c5f15271",
   "metadata": {},
   "source": [
    "And here's what the least squares fit looks like."
   ]
  },
  {
   "cell_type": "code",
   "execution_count": 326,
   "id": "1c46167a",
   "metadata": {},
   "outputs": [
    {
     "data": {
      "image/png": "[encoded data removed]",
      "text/plain": [
       "<Figure size 450x262.5 with 1 Axes>"
      ]
     },
     "metadata": {},
     "output_type": "display_data"
    }
   ],
   "source": [
    "plt.plot(x, y, 'o')\n",
    "plt.plot(x, y_hat)\n",
    "plt.vlines(x, y, y_hat, ls=':', color='gray')\n",
    "decorate(xlabel='x', ylabel='y')"
   ]
  },
  {
   "cell_type": "markdown",
   "id": "17047212",
   "metadata": {},
   "source": [
    "Again, the dotted lines represent the residuals, `r`, and the residual sum of squares is the dot product of `r` with itself."
   ]
  },
  {
   "cell_type": "code",
   "execution_count": 327,
   "id": "87328a3b",
   "metadata": {},
   "outputs": [
    {
     "data": {
      "text/plain": [
       "0.0600"
      ]
     },
     "execution_count": 327,
     "metadata": {},
     "output_type": "execute_result"
    }
   ],
   "source": [
    "r = y - y_hat\n",
    "r @ r"
   ]
  },
  {
   "cell_type": "markdown",
   "id": "1c1159d5",
   "metadata": {},
   "source": [
    "To be honest, minimization is not a bad way to solve regression problems, and it generalizes easily to other definitions of \"best\" and other kinds of regression.\n",
    "But there's another way: if we write least squares regression as a matrix equation, linear algebra provides an elegant and efficient solution."
   ]
  },
  {
   "cell_type": "markdown",
   "id": "b846bfbf",
   "metadata": {},
   "source": [
    "## Projection\n",
    "\n",
    "The key to linear regression is projection.\n",
    "To see what that means, we'll pull out the columns of the design matrix, `X`, as three-dimensional vectors `v1` and `v2`."
   ]
  },
  {
   "cell_type": "code",
   "execution_count": 328,
   "id": "ad281967",
   "metadata": {},
   "outputs": [
    {
     "data": {
      "text/plain": [
       "array([1., 1., 1.])"
      ]
     },
     "execution_count": 328,
     "metadata": {},
     "output_type": "execute_result"
    }
   ],
   "source": [
    "v1, v2 = np.transpose(X)\n",
    "v1"
   ]
  },
  {
   "cell_type": "code",
   "execution_count": 329,
   "id": "1f0ad4c8",
   "metadata": {},
   "outputs": [
    {
     "data": {
      "text/plain": [
       "array([2.1, 1.1, 0.1])"
      ]
     },
     "execution_count": 329,
     "metadata": {},
     "output_type": "execute_result"
    }
   ],
   "source": [
    "v2"
   ]
  },
  {
   "cell_type": "markdown",
   "id": "79d610b0",
   "metadata": {},
   "source": [
    "The linear combinations of these vector span a two dimensional plane in three dimensions.\n",
    "The following figure shows this plane.\n",
    "\n",
    "It also shows the response variable, `y`, which we can also think of as a vector in three dimensions, as well as the vector of fitted values, `y_hat` -- which looks like the shadow `y` casts onto the plane defined by `v1` and `v2`."
   ]
  },
  {
   "cell_type": "code",
   "execution_count": 330,
   "id": "29a70e68",
   "metadata": {},
   "outputs": [
    {
     "data": {
      "image/png": "[encoded data removed]",
      "text/plain": [
       "<Figure size 450x262.5 with 1 Axes>"
      ]
     },
     "metadata": {},
     "output_type": "display_data"
    }
   ],
   "source": [
    "from utils import setup_3D, plot_vectors_3D, label_vectors_3D, plot_plane\n",
    "\n",
    "setup_3D()\n",
    "plot_plane(v1, v2, alpha=0.08)\n",
    "plot_vectors_3D([v1, v2], color='C1')\n",
    "label_vectors_3D(['v1', 'v2'], [v1, v2])\n",
    "\n",
    "plot_vectors_3D([y], alpha=1)\n",
    "label_vectors_3D(['y'], [y], offset=0.08)\n",
    "\n",
    "plot_vectors_3D([y_hat], color='gray')\n",
    "\n",
    "lim = [0, 2.7]\n",
    "decorate(xlim=lim, ylim=lim, zlim=[0, 1], xlabel='i', ylabel='j', zlabel='k')"
   ]
  },
  {
   "cell_type": "markdown",
   "id": "42effb10",
   "metadata": {},
   "source": [
    "`y` does not fall in the plane, which means it cannot be expressed as a linear combination of the columns of `X`.\n",
    "\n",
    "But `y_hat` *does* fall in the plane, because it is a combination of the columns of `X` -- specifically, `y_hat = X @ beta`.\n",
    "\n",
    "The difference between `y` and `y_hat` is the residual, `r`, which we can also think of as a vector in this space.\n",
    "This vector has two important properties.\n",
    "First, the length of `r`, squared, is the residual sum of squares."
   ]
  },
  {
   "cell_type": "code",
   "execution_count": 331,
   "id": "98faa18d",
   "metadata": {},
   "outputs": [
    {
     "data": {
      "text/plain": [
       "0.0600"
      ]
     },
     "execution_count": 331,
     "metadata": {},
     "output_type": "execute_result"
    }
   ],
   "source": [
    "from utils import norm\n",
    "\n",
    "norm(r) ** 2"
   ]
  },
  {
   "cell_type": "markdown",
   "id": "bebd8550",
   "metadata": {},
   "source": [
    "Second, `r` is perpendicular to the columns of `X`, which we can confirm by showing that their dot product is close to zero."
   ]
  },
  {
   "cell_type": "code",
   "execution_count": 332,
   "id": "2055f678",
   "metadata": {},
   "outputs": [
    {
     "data": {
      "text/plain": [
       "array([-7.9582e-09, -7.7054e-09])"
      ]
     },
     "execution_count": 332,
     "metadata": {},
     "output_type": "execute_result"
    }
   ],
   "source": [
    "X.T @ r"
   ]
  },
  {
   "cell_type": "markdown",
   "id": "d9669289",
   "metadata": {},
   "source": [
    "This result means that `y_hat`, the fitted values that minimize RSS, is the **projection** of `y` onto the plane defined by `v1` and `v2` -- that is, the vector in the plane that's closest to `y`.\n",
    "\n",
    "This insight is the key to an efficient way to compute `y_hat`, using QR decomposition."
   ]
  },
  {
   "cell_type": "markdown",
   "id": "020024ea",
   "metadata": {},
   "source": [
    "## QR Decomposition\n",
    "\n",
    "QR composition is similar to LU decomposition, which we used to solve systems of linear equations efficiently.\n",
    "In LU decomposition, we express a matrix, `A`, as the product of two matrices, one lower-diagonal and one upper-diagonal.\n",
    "\n",
    "In QR decomposition, we'll express the design matrix, `X`, as the product of two matrices, one **orthonormal** and one upper diagonal.\n",
    "\n",
    "To explain what an orthonormal matrix is, and why it is useful, we'll use the NumPy function `qr` to compute the decomposition.\n",
    "In the next section we'll see how this function works."
   ]
  },
  {
   "cell_type": "code",
   "execution_count": 333,
   "id": "19f205d0",
   "metadata": {},
   "outputs": [],
   "source": [
    "Q, R = np.linalg.qr(X)"
   ]
  },
  {
   "cell_type": "markdown",
   "id": "9ffab483",
   "metadata": {},
   "source": [
    "The results are two matrices. `Q` is the same size as `X`."
   ]
  },
  {
   "cell_type": "code",
   "execution_count": 334,
   "id": "b035d93e",
   "metadata": {},
   "outputs": [
    {
     "data": {
      "text/plain": [
       "array([[-5.7735e-01,  7.0711e-01],\n",
       "       [-5.7735e-01,  5.5511e-17],\n",
       "       [-5.7735e-01, -7.0711e-01]])"
      ]
     },
     "execution_count": 334,
     "metadata": {},
     "output_type": "execute_result"
    }
   ],
   "source": [
    "Q"
   ]
  },
  {
   "cell_type": "markdown",
   "id": "5224520a",
   "metadata": {},
   "source": [
    "And `R` has the same number of columns as `X`, but it's square and upper triangular."
   ]
  },
  {
   "cell_type": "code",
   "execution_count": 335,
   "id": "d4f7c267",
   "metadata": {},
   "outputs": [
    {
     "data": {
      "text/plain": [
       "array([[-1.7321, -1.9053],\n",
       "       [ 0.    ,  1.4142]])"
      ]
     },
     "execution_count": 335,
     "metadata": {},
     "output_type": "execute_result"
    }
   ],
   "source": [
    "R"
   ]
  },
  {
   "cell_type": "markdown",
   "id": "3d6bed1e",
   "metadata": {},
   "source": [
    "First let's confirm that $Q R = X$."
   ]
  },
  {
   "cell_type": "code",
   "execution_count": 336,
   "id": "888a1727",
   "metadata": {},
   "outputs": [
    {
     "data": {
      "text/plain": [
       "True"
      ]
     },
     "execution_count": 336,
     "metadata": {},
     "output_type": "execute_result"
    }
   ],
   "source": [
    "np.allclose(Q @ R, X)"
   ]
  },
  {
   "cell_type": "markdown",
   "id": "426456d7",
   "metadata": {},
   "source": [
    "Now if `Q` is orthonormal, the \"ortho\" part means that the columns are perpendicular to each other, and the \"normal\" part means the norm of the columns is `1`.\n",
    "We can confirm both by computing the dot product of the columns with themselves."
   ]
  },
  {
   "cell_type": "code",
   "execution_count": 337,
   "id": "2ca90188",
   "metadata": {},
   "outputs": [
    {
     "data": {
      "text/latex": [
       "$\\displaystyle \\left[\\begin{matrix}1.0 & -1.16219581322268 \\cdot 10^{-16}\\\\-1.16219581322268 \\cdot 10^{-16} & 1.0\\end{matrix}\\right]$"
      ],
      "text/plain": [
       "Matrix([\n",
       "[                  1.0, -1.16219581322268e-16],\n",
       "[-1.16219581322268e-16,                   1.0]])"
      ]
     },
     "execution_count": 337,
     "metadata": {},
     "output_type": "execute_result"
    }
   ],
   "source": [
    "Matrix(Q.T @ Q)"
   ]
  },
  {
   "cell_type": "markdown",
   "id": "c3d478c1",
   "metadata": {},
   "source": [
    "The off-diagonal elements are close to zero, which confirms that the columns are orthogonal to each other, and the diagonal elements are 1, which confirms that their norm is 1.\n",
    "\n",
    "But also notice that the product of $Q^T$ and $Q$ is the identity matrix, $I$, which means that $Q^T$ is the inverse of $Q$.\n",
    "That's true in general: **an orthonomal matrix is its own inverse**.\n",
    "\n",
    "And that's useful because we can solve the equation \n",
    "\n",
    "$Q \\beta' = y$ \n",
    "\n",
    "by multiplying both sides by $Q^T$, which yields \n",
    "\n",
    "$Q^T Q \\beta' = Q^T y$, \n",
    "\n",
    "which yields \n",
    "\n",
    "$\\beta' = Q^T y$."
   ]
  },
  {
   "cell_type": "code",
   "execution_count": 338,
   "id": "5b35eb9a",
   "metadata": {},
   "outputs": [
    {
     "data": {
      "text/plain": [
       "array([-2.3902,  0.8485])"
      ]
     },
     "execution_count": 338,
     "metadata": {},
     "output_type": "execute_result"
    }
   ],
   "source": [
    "beta_prime = Q.T @ y\n",
    "beta_prime"
   ]
  },
  {
   "cell_type": "markdown",
   "id": "e2b86f14",
   "metadata": {},
   "source": [
    "And why would we want to solve $Q \\beta' = y$?\n",
    "Because the result is the coordinates of $\\hat{y}$ in the span of $Q$.\n",
    "We can confirm that by multiplying those coordinates by the columns of $Q$."
   ]
  },
  {
   "cell_type": "code",
   "execution_count": 339,
   "id": "5643b520",
   "metadata": {},
   "outputs": [
    {
     "data": {
      "text/plain": [
       "array([1.98, 1.38, 0.78])"
      ]
     },
     "execution_count": 339,
     "metadata": {},
     "output_type": "execute_result"
    }
   ],
   "source": [
    "y_hat = Q @ beta_prime\n",
    "y_hat"
   ]
  },
  {
   "cell_type": "markdown",
   "id": "c57e43a6",
   "metadata": {},
   "source": [
    "And the result is the same as the `y_hat` we computed by minimizing RSS.\n",
    "Combining the last two steps, we could have computed `y_hat` like this."
   ]
  },
  {
   "cell_type": "code",
   "execution_count": 340,
   "id": "d757d8f0",
   "metadata": {},
   "outputs": [
    {
     "data": {
      "text/plain": [
       "array([1.98, 1.38, 0.78])"
      ]
     },
     "execution_count": 340,
     "metadata": {},
     "output_type": "execute_result"
    }
   ],
   "source": [
    "y_hat = Q @ Q.T @ y\n",
    "y_hat"
   ]
  },
  {
   "cell_type": "markdown",
   "id": "d46d49b4",
   "metadata": {},
   "source": [
    "Or, instead of multiplying `y` by `Q.T` first, we could multiply `Q` and `Q.T` first."
   ]
  },
  {
   "cell_type": "code",
   "execution_count": 341,
   "id": "81ab4d33",
   "metadata": {},
   "outputs": [
    {
     "data": {
      "text/plain": [
       "array([[ 0.8333,  0.3333, -0.1667],\n",
       "       [ 0.3333,  0.3333,  0.3333],\n",
       "       [-0.1667,  0.3333,  0.8333]])"
      ]
     },
     "execution_count": 341,
     "metadata": {},
     "output_type": "execute_result"
    }
   ],
   "source": [
    "P = Q @ Q.T\n",
    "P"
   ]
  },
  {
   "cell_type": "markdown",
   "id": "cc0f9f1f",
   "metadata": {},
   "source": [
    "The result is a projection matrix that projects any vector into the span of `Q`."
   ]
  },
  {
   "cell_type": "code",
   "execution_count": 342,
   "id": "b85993ce",
   "metadata": {},
   "outputs": [
    {
     "data": {
      "text/plain": [
       "array([1.98, 1.38, 0.78])"
      ]
     },
     "execution_count": 342,
     "metadata": {},
     "output_type": "execute_result"
    }
   ],
   "source": [
    "y_hat = P @ y\n",
    "y_hat"
   ]
  },
  {
   "cell_type": "markdown",
   "id": "16639e9e",
   "metadata": {},
   "source": [
    "Normally we would not compute `P` explicitly, but it is useful for confirming an important property of `Q`, which is that it has the same span as `X`.\n",
    "We can show that by projecting the columns of `X` onto `Q`."
   ]
  },
  {
   "cell_type": "code",
   "execution_count": 343,
   "id": "00f285ca",
   "metadata": {},
   "outputs": [
    {
     "data": {
      "text/plain": [
       "array([[1. , 2.1],\n",
       "       [1. , 1.1],\n",
       "       [1. , 0.1]])"
      ]
     },
     "execution_count": 343,
     "metadata": {},
     "output_type": "execute_result"
    }
   ],
   "source": [
    "P @ X"
   ]
  },
  {
   "cell_type": "markdown",
   "id": "e16434f1",
   "metadata": {},
   "source": [
    "And confirming that the result is `X`."
   ]
  },
  {
   "cell_type": "code",
   "execution_count": 344,
   "id": "59f72964",
   "metadata": {},
   "outputs": [
    {
     "data": {
      "text/plain": [
       "True"
      ]
     },
     "execution_count": 344,
     "metadata": {},
     "output_type": "execute_result"
    }
   ],
   "source": [
    "np.allclose(P @ X, X)"
   ]
  },
  {
   "cell_type": "markdown",
   "id": "0638de81",
   "metadata": {},
   "source": [
    "Which shows that the plane spanned by `Q` is the same as the plane spanned by `X`.\n",
    "The following diagram shows two views of\n",
    "\n",
    "* The columns of `X`, `v1` and `v2`, and the plane they span;\n",
    "\n",
    "* The columns of `Q`, `q1` and `q2`, and the plane they span."
   ]
  },
  {
   "cell_type": "code",
   "execution_count": 345,
   "id": "d7150b2c",
   "metadata": {},
   "outputs": [],
   "source": [
    "q1, q2 = Q.T"
   ]
  },
  {
   "cell_type": "code",
   "execution_count": 346,
   "id": "f104d567",
   "metadata": {},
   "outputs": [
    {
     "data": {
      "image/png": "[encoded data removed]",
      "text/plain": [
       "<Figure size 450x262.5 with 2 Axes>"
      ]
     },
     "metadata": {},
     "output_type": "display_data"
    }
   ],
   "source": [
    "fig, axes = setup_3D(ncols=2)\n",
    "\n",
    "azimuths = [-70, -30]\n",
    "\n",
    "for ax, azim in zip(axes, azimuths):\n",
    "    plt.sca(ax)\n",
    "    ax.view_init(elev=30, azim=azim, roll=0)\n",
    "\n",
    "    plot_plane(v1, v2, alpha=0.08)\n",
    "    plot_plane(-q1, q2, alpha=0.08)\n",
    "    plot_vectors_3D([v1, v2], color='C1')\n",
    "    label_vectors_3D(['v1', 'v2'], [v1, v2])\n",
    "\n",
    "    plot_vectors_3D([-q1, q2], color='C4', alpha=1)\n",
    "    label_vectors_3D(['q1', 'q2'], [-q1, q2])\n",
    "\n",
    "    lim = [0, 3]\n",
    "    decorate(xlim=lim, ylim=[-10, 4], zlim=[0, 1], xlabel='i', ylabel='j', zlabel='k')"
   ]
  },
  {
   "cell_type": "markdown",
   "id": "c67303d3",
   "metadata": {},
   "source": [
    "Because of the limitations of 3D visualization, it might not be obvious that the two shaded areas are in the same plane -- but they are.\n",
    "\n",
    "This property is important because it means that projecting `y` onto `Q` is the same as projecting `y` onto `X`, which minimizes RSS -- so we are almost there!\n",
    "\n",
    "The last step is to use `beta_prime`, which contains the coordinates of `y_hat` in terms of the columns of `Q`, to compute `beta`, which contains coordinates of `y_hat` in terms of the columns of `X`.\n",
    "Let's see how we do that."
   ]
  },
  {
   "cell_type": "markdown",
   "id": "4160181a",
   "metadata": {},
   "source": [
    "So far we have found $\\beta'$ such that $Q \\beta' = \\hat{y}$, and we want $\\beta$ such that $X \\beta = \\hat{y}$. Setting the left sides equal, we get\n",
    "\n",
    "$X \\beta = Q \\beta'$\n",
    "\n",
    "Replacing $X$ with $QR$ we have\n",
    "\n",
    "$Q R \\beta = Q \\beta'$\n",
    "\n",
    "If we multiply through by $Q^{-1}$, we can cancel $Q$ on both sides, leaving\n",
    "\n",
    "$R \\beta = \\beta'$\n",
    "\n",
    "So we can find $\\beta$ by solving this equation.\n",
    "\n",
    "Since `R` is upper triangular, we can use `solve_triangular`, which is more efficient that the more general `solve` function.\n",
    "The argument `lower=False` indicates that `R` is upper triangular."
   ]
  },
  {
   "cell_type": "code",
   "execution_count": 347,
   "id": "06c37d79",
   "metadata": {},
   "outputs": [
    {
     "data": {
      "text/plain": [
       "array([0.72, 0.6 ])"
      ]
     },
     "execution_count": 347,
     "metadata": {},
     "output_type": "execute_result"
    }
   ],
   "source": [
    "from scipy.linalg import solve_triangular\n",
    "\n",
    "beta_qr = solve_triangular(R, beta_prime, lower=False)\n",
    "beta_qr"
   ]
  },
  {
   "cell_type": "markdown",
   "id": "42bd33ea",
   "metadata": {},
   "source": [
    "And the result is the same as the `beta` we computed by minimization.\n",
    "\n",
    "It took a few steps to get here, but now we can write the whole process in just two lines."
   ]
  },
  {
   "cell_type": "code",
   "execution_count": 348,
   "id": "4c2bb1c9",
   "metadata": {},
   "outputs": [],
   "source": [
    "def lstsq(X, y):\n",
    "    Q, R = np.linalg.qr(X)\n",
    "    beta = solve_triangular(R, Q.T @ y, lower=False)\n",
    "    return beta"
   ]
  },
  {
   "cell_type": "markdown",
   "id": "6f067916",
   "metadata": {},
   "source": [
    "And we get the same result."
   ]
  },
  {
   "cell_type": "code",
   "execution_count": 349,
   "id": "5cfbcc4a",
   "metadata": {},
   "outputs": [
    {
     "data": {
      "text/plain": [
       "array([0.72, 0.6 ])"
      ]
     },
     "execution_count": 349,
     "metadata": {},
     "output_type": "execute_result"
    }
   ],
   "source": [
    "lstsq(X, y)"
   ]
  },
  {
   "cell_type": "markdown",
   "id": "ff0f782c",
   "metadata": {},
   "source": [
    "SciPy provides a similar function with additional capabilities."
   ]
  },
  {
   "cell_type": "code",
   "execution_count": 350,
   "id": "27875856",
   "metadata": {},
   "outputs": [],
   "source": [
    "import scipy\n",
    "\n",
    "beta, _, rank, _ = scipy.linalg.lstsq(X, y, lapack_driver='gelsy')"
   ]
  },
  {
   "cell_type": "markdown",
   "id": "ef20a517",
   "metadata": {},
   "source": [
    "The argument `lapack_driver='gelsy'` specifies which function to use.\n",
    "The \"ge\" part of the name indicates that the function works with general matrices -- not necessarily symmetric, for example.\n",
    "The \"ls\" part means it computes a least squares fit.\n",
    "And \"y\" indicates the variant that uses QR decomposition.\n",
    "\n",
    "The first return value is `beta` again."
   ]
  },
  {
   "cell_type": "code",
   "execution_count": 351,
   "id": "81f860ec",
   "metadata": {},
   "outputs": [
    {
     "data": {
      "text/plain": [
       "array([0.72, 0.6 ])"
      ]
     },
     "execution_count": 351,
     "metadata": {},
     "output_type": "execute_result"
    }
   ],
   "source": [
    "beta"
   ]
  },
  {
   "cell_type": "markdown",
   "id": "ee57f710",
   "metadata": {},
   "source": [
    "The second and fourth return values are used by other functions, but not `gelsy`.\n",
    "And the third return value is the rank of the design matrix, which is usually the number of columns in `X`."
   ]
  },
  {
   "cell_type": "code",
   "execution_count": 352,
   "id": "3fd07a06",
   "metadata": {},
   "outputs": [
    {
     "data": {
      "text/plain": [
       "2"
      ]
     },
     "execution_count": 352,
     "metadata": {},
     "output_type": "execute_result"
    }
   ],
   "source": [
    "rank"
   ]
  },
  {
   "cell_type": "markdown",
   "id": "2e40b91b",
   "metadata": {},
   "source": [
    "If the columns are dependent -- that is, if some are linear combinations of others -- the rank might be lower.\n",
    "We'll see an example of that soon, but first we have a loose end to tie up: how do we compute the QR decomposition?"
   ]
  },
  {
   "cell_type": "markdown",
   "id": "629f4e10",
   "metadata": {},
   "source": [
    "## Orthonormalization\n",
    "\n",
    "QR decomposition provides an efficient way to compute a least squares fit.\n",
    "Now let's see how to do the decomposition.\n",
    "The process turns out to be simpler than you might expect.\n",
    "\n",
    "We'll start by unpacking the columns of `X`."
   ]
  },
  {
   "cell_type": "code",
   "execution_count": 353,
   "id": "d7916c9b",
   "metadata": {},
   "outputs": [],
   "source": [
    "from utils import norm, normalize\n",
    "\n",
    "v1, v2 = X.T"
   ]
  },
  {
   "cell_type": "markdown",
   "id": "3c4224e5",
   "metadata": {},
   "source": [
    "Now the goal is to find two orthogonal unit vectors, `q1` and `q2`, that span the same plane as `v1` and `v2`.\n",
    "To compute `q1` we'll compute a unit vector with the same direction as `v1`."
   ]
  },
  {
   "cell_type": "code",
   "execution_count": 354,
   "id": "36c005f7",
   "metadata": {},
   "outputs": [
    {
     "data": {
      "text/plain": [
       "array([0.5774, 0.5774, 0.5774])"
      ]
     },
     "execution_count": 354,
     "metadata": {},
     "output_type": "execute_result"
    }
   ],
   "source": [
    "q1 = normalize(v1)\n",
    "q1"
   ]
  },
  {
   "cell_type": "markdown",
   "id": "9ed53b19",
   "metadata": {},
   "source": [
    "To compute `q2`, we'll subtract from `v2` the part of of `v2` parallel to `q1`, leaving only the part of `v2` perpendicular to `q1` (which you might recognize as the vector rejection)."
   ]
  },
  {
   "cell_type": "code",
   "execution_count": 355,
   "id": "32c9b94c",
   "metadata": {},
   "outputs": [],
   "source": [
    "from utils import vector_projection\n",
    "\n",
    "v2_perp = v2 - vector_projection(v2, q1)"
   ]
  },
  {
   "cell_type": "markdown",
   "id": "a1d8b29f",
   "metadata": {},
   "source": [
    "Then we normalize the perpendicular part."
   ]
  },
  {
   "cell_type": "code",
   "execution_count": 356,
   "id": "3b1b8cb0",
   "metadata": {},
   "outputs": [
    {
     "data": {
      "text/plain": [
       "array([ 0.7071,  0.    , -0.7071])"
      ]
     },
     "execution_count": 356,
     "metadata": {},
     "output_type": "execute_result"
    }
   ],
   "source": [
    "q2 = normalize(v2_perp)\n",
    "q2"
   ]
  },
  {
   "cell_type": "markdown",
   "id": "4b46a121",
   "metadata": {},
   "source": [
    "If we pack `q1` and `q2` into a matrix, we get the same `Q` computed by NumPy."
   ]
  },
  {
   "cell_type": "code",
   "execution_count": 357,
   "id": "cd286857",
   "metadata": {},
   "outputs": [
    {
     "data": {
      "text/plain": [
       "array([[ 0.5774,  0.7071],\n",
       "       [ 0.5774,  0.    ],\n",
       "       [ 0.5774, -0.7071]])"
      ]
     },
     "execution_count": 357,
     "metadata": {},
     "output_type": "execute_result"
    }
   ],
   "source": [
    "Q = np.column_stack([q1, q2])\n",
    "Q"
   ]
  },
  {
   "cell_type": "markdown",
   "id": "7d2f2e2d",
   "metadata": {},
   "source": [
    "And we can confirm that `Q.T @ Q = I`, which means that `Q` is orthonormal."
   ]
  },
  {
   "cell_type": "code",
   "execution_count": 358,
   "id": "a58dbb1c",
   "metadata": {},
   "outputs": [
    {
     "data": {
      "text/plain": [
       "array([[ 1.0000e+00, -1.7796e-17],\n",
       "       [-1.7796e-17,  1.0000e+00]])"
      ]
     },
     "execution_count": 358,
     "metadata": {},
     "output_type": "execute_result"
    }
   ],
   "source": [
    "Q.T @ Q"
   ]
  },
  {
   "cell_type": "markdown",
   "id": "14e8a816",
   "metadata": {},
   "source": [
    "The process we just followed is called **Gram-Schmidt orthonormalization**.\n",
    "If there are more than two vectors we can repeat the process.\n",
    "For the third vector, we subtract off the parts parallel to `q1` and `q2`, and normalize what's left.\n",
    "\n",
    "The following function implements this process for a matrix with any number of columns."
   ]
  },
  {
   "cell_type": "code",
   "execution_count": 359,
   "id": "00b8abab",
   "metadata": {},
   "outputs": [],
   "source": [
    "def gram_schmidt(X):\n",
    "    basis = []\n",
    "    for v in X.T:\n",
    "        for q in basis:\n",
    "            v = v - vector_projection(v, q)\n",
    "        basis.append(normalize(v))\n",
    "    return np.transpose(basis)"
   ]
  },
  {
   "cell_type": "markdown",
   "id": "d44b29fc",
   "metadata": {},
   "source": [
    "And we can confirm it works for `X`."
   ]
  },
  {
   "cell_type": "code",
   "execution_count": 360,
   "id": "732a629b",
   "metadata": {},
   "outputs": [
    {
     "data": {
      "text/plain": [
       "array([[ 0.5774,  0.7071],\n",
       "       [ 0.5774,  0.    ],\n",
       "       [ 0.5774, -0.7071]])"
      ]
     },
     "execution_count": 360,
     "metadata": {},
     "output_type": "execute_result"
    }
   ],
   "source": [
    "gram_schmidt(X)"
   ]
  },
  {
   "cell_type": "markdown",
   "id": "55c48a05",
   "metadata": {},
   "source": [
    "The previous function is meant to demonstrate the process clearly, but it only computes `Q`.\n",
    "The following function also computes `R`, so it is a little more complicated."
   ]
  },
  {
   "cell_type": "code",
   "execution_count": 361,
   "id": "36d8042a",
   "metadata": {},
   "outputs": [],
   "source": [
    "def gram_schmidt(X):\n",
    "    m, n = X.shape\n",
    "    Q = np.zeros((m, n))\n",
    "    R = np.zeros((n, n))\n",
    "\n",
    "    for j in range(n):\n",
    "        v = X[:, j]\n",
    "        for i in range(j):\n",
    "            R[i, j] = X[:, j] @ Q[:, i]\n",
    "            v = v - R[i, j] * Q[:, i]\n",
    "            \n",
    "        R[j, j] = norm(v)\n",
    "        Q[:, j] = v / R[j, j]\n",
    "    \n",
    "    return Q, R"
   ]
  },
  {
   "cell_type": "markdown",
   "id": "d5408d3a",
   "metadata": {},
   "source": [
    "In `R`, the off-diagonal element of `R[i, j]` records the scalar projection of column `j` from `X` into column `i` from `Q`.\n",
    "And the diagonal element `R[j, j]` records the factor used to normalize column `j` from `Q`."
   ]
  },
  {
   "cell_type": "code",
   "execution_count": 362,
   "id": "20ff5758",
   "metadata": {},
   "outputs": [],
   "source": [
    "Q, R = gram_schmidt(X)"
   ]
  },
  {
   "cell_type": "markdown",
   "id": "c176a343",
   "metadata": {},
   "source": [
    "Let's confirm that this function computes the same `R` we got from NumPy."
   ]
  },
  {
   "cell_type": "code",
   "execution_count": 363,
   "id": "06862fae",
   "metadata": {},
   "outputs": [
    {
     "data": {
      "text/plain": [
       "array([[1.7321, 1.9053],\n",
       "       [0.    , 1.4142]])"
      ]
     },
     "execution_count": 363,
     "metadata": {},
     "output_type": "execute_result"
    }
   ],
   "source": [
    "R"
   ]
  },
  {
   "cell_type": "markdown",
   "id": "6292e2d2",
   "metadata": {},
   "source": [
    "And that `Q R = X`."
   ]
  },
  {
   "cell_type": "code",
   "execution_count": 364,
   "id": "be54a90d",
   "metadata": {},
   "outputs": [
    {
     "data": {
      "text/plain": [
       "True"
      ]
     },
     "execution_count": 364,
     "metadata": {},
     "output_type": "execute_result"
    }
   ],
   "source": [
    "np.allclose(Q @ R, X)"
   ]
  },
  {
   "cell_type": "markdown",
   "id": "259f6143",
   "metadata": {},
   "source": [
    "That's it! Computing the QR decomposition is efficient, and not especially complicated.\n",
    "\n",
    "At this point, you might be tired of the small example we've been working with.\n",
    "So let's see what we can do with real data."
   ]
  },
  {
   "cell_type": "markdown",
   "id": "5afcf17d",
   "metadata": {},
   "source": [
    "## Multiple Regression\n",
    "\n",
    "Do people get more conservative as they get older?\n",
    "To find out, we'll use data from the General Social Survey (GSS) to explore the relationship between political ideology and age, also considering changes over time and differences between generations.\n",
    "\n",
    "We'll use **multiple regression**, which involves more than one predictor, and we'll see the problems that arise if the predictors are strongly correlated."
   ]
  },
  {
   "cell_type": "markdown",
   "id": "0c7b61cd",
   "metadata": {
    "tags": [
     "remove-print"
    ]
   },
   "source": [
    "The following cell downloads the data."
   ]
  },
  {
   "cell_type": "code",
   "execution_count": 365,
   "id": "c380f0ae",
   "metadata": {
    "tags": [
     "remove-print"
    ]
   },
   "outputs": [],
   "source": [
    "download('https://github.com/AllenDowney/GssExtract/raw/main/data/interim/gss_extract_2024_1.hdf')"
   ]
  },
  {
   "cell_type": "markdown",
   "id": "8499a9cb",
   "metadata": {},
   "source": [
    "I have prepared an excerpt of GSS data collected between 1974 and 2024, which we can read into a Pandas `DataFrame`."
   ]
  },
  {
   "cell_type": "code",
   "execution_count": 366,
   "id": "5ebe23f6",
   "metadata": {},
   "outputs": [
    {
     "data": {
      "text/plain": [
       "(75699, 62)"
      ]
     },
     "execution_count": 366,
     "metadata": {},
     "output_type": "execute_result"
    }
   ],
   "source": [
    "gss = pd.read_hdf('gss_extract_2024_1.hdf')\n",
    "gss.shape"
   ]
  },
  {
   "cell_type": "markdown",
   "id": "f2e8a735",
   "metadata": {},
   "source": [
    "The `DataFrame` contains one row for each of the 75,699 respondents who have participated in the GSS, and one column for each of the variables in this excerpt.\n",
    "\n",
    "We'll select only the columns we need for this example and drop any rows with missing data in those columns."
   ]
  },
  {
   "cell_type": "code",
   "execution_count": 367,
   "id": "3c6df488",
   "metadata": {},
   "outputs": [],
   "source": [
    "columns = ['polviews', 'year', 'cohort']\n",
    "subset = gss.dropna(subset=columns)[columns]"
   ]
  },
  {
   "cell_type": "markdown",
   "id": "6aac268b",
   "metadata": {},
   "source": [
    "The `year` column records the year each respondent was interviewed, and the `cohort` column records their year of birth (sometimes called \"birth cohort\").\n",
    "So we can compute the age of each respondent when they were interviewed."
   ]
  },
  {
   "cell_type": "code",
   "execution_count": 368,
   "id": "3fe646f8",
   "metadata": {},
   "outputs": [],
   "source": [
    "subset['age'] = subset['year'] - subset['cohort']"
   ]
  },
  {
   "cell_type": "markdown",
   "id": "bdd63606",
   "metadata": {},
   "source": [
    "`polviews` records responses to this question\n",
    "\n",
    "> We hear a lot of talk these days about liberals and conservatives. \n",
    "I'm going to show you a seven-point scale on which the political views that people might hold are arranged from extremely liberal--point 1--to extremely conservative--point 7. Where would you place yourself on this scale?\n",
    "\n",
    "\n",
    "The responses are one of seven categories.\n",
    "\n",
    "| Number | Political Ideology |\n",
    "|--------|-------------------|\n",
    "| 1 | Extremely liberal |\n",
    "| 2 | Liberal |\n",
    "| 3 | Slightly liberal |\n",
    "| 4 | Moderate, middle of the road |\n",
    "| 5 | Slightly conservative |\n",
    "| 6 | Conservative |\n",
    "| 7 | Extremely conservative |\n",
    "\n",
    "The `describe` method computes summary statistics for these variables."
   ]
  },
  {
   "cell_type": "code",
   "execution_count": 369,
   "id": "98dc6fc9",
   "metadata": {},
   "outputs": [
    {
     "data": {
      "text/html": [
       "<div>\n",
       "<style scoped>\n",
       "    .dataframe tbody tr th:only-of-type {\n",
       "        vertical-align: middle;\n",
       "    }\n",
       "\n",
       "    .dataframe tbody tr th {\n",
       "        vertical-align: top;\n",
       "    }\n",
       "\n",
       "    .dataframe thead th {\n",
       "        text-align: right;\n",
       "    }\n",
       "</style>\n",
       "<table border=\"1\" class=\"dataframe\">\n",
       "  <thead>\n",
       "    <tr style=\"text-align: right;\">\n",
       "      <th></th>\n",
       "      <th>polviews</th>\n",
       "      <th>year</th>\n",
       "      <th>cohort</th>\n",
       "      <th>age</th>\n",
       "    </tr>\n",
       "  </thead>\n",
       "  <tbody>\n",
       "    <tr>\n",
       "      <th>count</th>\n",
       "      <td>65239.0000</td>\n",
       "      <td>65239.0000</td>\n",
       "      <td>65239.0000</td>\n",
       "      <td>65239.0000</td>\n",
       "    </tr>\n",
       "    <tr>\n",
       "      <th>mean</th>\n",
       "      <td>4.1086</td>\n",
       "      <td>1999.9547</td>\n",
       "      <td>1954.8059</td>\n",
       "      <td>45.1488</td>\n",
       "    </tr>\n",
       "    <tr>\n",
       "      <th>std</th>\n",
       "      <td>1.4057</td>\n",
       "      <td>15.2522</td>\n",
       "      <td>21.9236</td>\n",
       "      <td>17.2269</td>\n",
       "    </tr>\n",
       "    <tr>\n",
       "      <th>min</th>\n",
       "      <td>1.0000</td>\n",
       "      <td>1974.0000</td>\n",
       "      <td>1885.0000</td>\n",
       "      <td>18.0000</td>\n",
       "    </tr>\n",
       "    <tr>\n",
       "      <th>25%</th>\n",
       "      <td>3.0000</td>\n",
       "      <td>1987.0000</td>\n",
       "      <td>1941.0000</td>\n",
       "      <td>31.0000</td>\n",
       "    </tr>\n",
       "    <tr>\n",
       "      <th>50%</th>\n",
       "      <td>4.0000</td>\n",
       "      <td>2000.0000</td>\n",
       "      <td>1956.0000</td>\n",
       "      <td>43.0000</td>\n",
       "    </tr>\n",
       "    <tr>\n",
       "      <th>75%</th>\n",
       "      <td>5.0000</td>\n",
       "      <td>2014.0000</td>\n",
       "      <td>1969.0000</td>\n",
       "      <td>58.0000</td>\n",
       "    </tr>\n",
       "    <tr>\n",
       "      <th>max</th>\n",
       "      <td>7.0000</td>\n",
       "      <td>2024.0000</td>\n",
       "      <td>2006.0000</td>\n",
       "      <td>90.0000</td>\n",
       "    </tr>\n",
       "  </tbody>\n",
       "</table>\n",
       "</div>"
      ],
      "text/plain": [
       "        polviews       year     cohort        age\n",
       "count 65239.0000 65239.0000 65239.0000 65239.0000\n",
       "mean      4.1086  1999.9547  1954.8059    45.1488\n",
       "std       1.4057    15.2522    21.9236    17.2269\n",
       "min       1.0000  1974.0000  1885.0000    18.0000\n",
       "25%       3.0000  1987.0000  1941.0000    31.0000\n",
       "50%       4.0000  2000.0000  1956.0000    43.0000\n",
       "75%       5.0000  2014.0000  1969.0000    58.0000\n",
       "max       7.0000  2024.0000  2006.0000    90.0000"
      ]
     },
     "execution_count": 369,
     "metadata": {},
     "output_type": "execute_result"
    }
   ],
   "source": [
    "subset.describe()"
   ]
  },
  {
   "cell_type": "markdown",
   "id": "0567db5b",
   "metadata": {},
   "source": [
    "The average of `polviews` is 4.1, which is close to \"middle of the road\".\n",
    "Higher numbers are more conservative, and lower numbers are more liberal.\n",
    "\n",
    "The range of `year` is from 1974 to 2024.\n",
    "The range of `cohort` is from 1885 to 2006.\n",
    "The range of `age` is from 18 to 90.\n",
    "\n",
    "We can use least squares regression to see how the responses are related to age and other variables.\n",
    "First we'll assign the values of the response variable to `y`."
   ]
  },
  {
   "cell_type": "code",
   "execution_count": 370,
   "id": "0da8fada",
   "metadata": {},
   "outputs": [],
   "source": [
    "response = 'polviews'\n",
    "y = subset[response]"
   ]
  },
  {
   "cell_type": "markdown",
   "id": "f4e2d992",
   "metadata": {},
   "source": [
    "For the first version of the model we'll select `age` as the only predictor."
   ]
  },
  {
   "cell_type": "code",
   "execution_count": 371,
   "id": "b73bb7c6",
   "metadata": {},
   "outputs": [],
   "source": [
    "predictor = 'age'\n",
    "means_age = subset.groupby(predictor)[response].mean()"
   ]
  },
  {
   "cell_type": "markdown",
   "id": "fb892a86",
   "metadata": {},
   "source": [
    "We can get a sense of the relationship between these variables by plotting the mean of the response variable in each age group."
   ]
  },
  {
   "cell_type": "code",
   "execution_count": 372,
   "id": "374216ee",
   "metadata": {},
   "outputs": [
    {
     "data": {
      "image/png": "[encoded data removed]",
      "text/plain": [
       "<Figure size 450x262.5 with 1 Axes>"
      ]
     },
     "metadata": {},
     "output_type": "display_data"
    }
   ],
   "source": [
    "means_age.plot(style='.')\n",
    "decorate(xlabel=predictor, ylabel=response)"
   ]
  },
  {
   "cell_type": "markdown",
   "id": "8ad70b17",
   "metadata": {},
   "source": [
    "The average increases with age, which means that older people consider themselves more conservative.\n",
    "But the difference is not very big -- the average among people in their 20s, when they were interviewed, is only slightly left of center, and people in their 90s are about halfway between \"middle of the road\" and \"slightly conservative\", on average. \n",
    "\n",
    "Let's fit a line to this data.\n",
    "We'll use `add_constant` to make a design matrix, `X`, that contains the single predictor and a columns of ones."
   ]
  },
  {
   "cell_type": "code",
   "execution_count": 373,
   "id": "0c8be451",
   "metadata": {},
   "outputs": [
    {
     "data": {
      "text/plain": [
       "(65239, 2)"
      ]
     },
     "execution_count": 373,
     "metadata": {},
     "output_type": "execute_result"
    }
   ],
   "source": [
    "from utils import add_constant\n",
    "\n",
    "predictors = [predictor]\n",
    "X = add_constant(subset[predictors])\n",
    "X.shape"
   ]
  },
  {
   "cell_type": "markdown",
   "id": "a4622d28",
   "metadata": {},
   "source": [
    "And we'll use SciPy to compute the least squares fit."
   ]
  },
  {
   "cell_type": "code",
   "execution_count": 374,
   "id": "0d3ea215",
   "metadata": {},
   "outputs": [
    {
     "data": {
      "text/plain": [
       "(2, array([3.6416, 0.0103]))"
      ]
     },
     "execution_count": 374,
     "metadata": {},
     "output_type": "execute_result"
    }
   ],
   "source": [
    "beta, _, rank, _ = scipy.linalg.lstsq(X, y, lapack_driver='gelsy')\n",
    "rank, beta"
   ]
  },
  {
   "cell_type": "markdown",
   "id": "20f6685f",
   "metadata": {},
   "source": [
    "The rank is `2`, which indicates that the two columns of `X` are independent.\n",
    "\n",
    "We can interpret the elements of `beta` as an intercept and slope.\n",
    "The slope is about 0.01, which means that a difference of one year in age is associated with a difference of 0.01 in the average response.\n",
    "The intercept is the value of the fitted line when `age=0` -- but the fitted line doesn't mean much in this part of the domain.\n",
    "\n",
    "It makes more sense to evaluate the fitted line over the relevant range of ages, from 18 to 90."
   ]
  },
  {
   "cell_type": "code",
   "execution_count": 375,
   "id": "0cf47739",
   "metadata": {},
   "outputs": [],
   "source": [
    "fit_x = np.arange(18, 90)\n",
    "fit_y = add_constant(fit_x) @ beta"
   ]
  },
  {
   "cell_type": "markdown",
   "id": "f2762fb6",
   "metadata": {},
   "source": [
    "Here's what the line looks like compared to the data."
   ]
  },
  {
   "cell_type": "code",
   "execution_count": 376,
   "id": "d3e31a97",
   "metadata": {},
   "outputs": [
    {
     "data": {
      "image/png": "[encoded data removed]",
      "text/plain": [
       "<Figure size 450x262.5 with 1 Axes>"
      ]
     },
     "metadata": {},
     "output_type": "display_data"
    }
   ],
   "source": [
    "means_age.plot(style='.')\n",
    "plt.plot(fit_x, fit_y)\n",
    "\n",
    "decorate(xlabel=predictor, ylabel=response, title='Political views by age')"
   ]
  },
  {
   "cell_type": "markdown",
   "id": "b17cb5e9",
   "metadata": {},
   "source": [
    "Based on these results, it seems like people might get more conservative as they get older, but let's also see if there's a relationship with year of birth -- that is, `cohort`.\n",
    "\n",
    "First, let's put the steps we just followed into a function."
   ]
  },
  {
   "cell_type": "code",
   "execution_count": 377,
   "id": "0da8561c",
   "metadata": {},
   "outputs": [],
   "source": [
    "def fit_model(df, response, predictors, fit_x):\n",
    "    # group means by the first predictor\n",
    "    means = df.groupby(predictors[0])[response].mean()\n",
    "\n",
    "    # response and design matrix\n",
    "    y = df[response]\n",
    "    X = add_constant(df[predictors])\n",
    "\n",
    "    # least squares fit\n",
    "    beta, _, rank, _ = scipy.linalg.lstsq(X, y, lapack_driver='gelsy')\n",
    "\n",
    "    # fitted values for new X\n",
    "    fit_y = add_constant(fit_x) @ beta\n",
    "\n",
    "    # condition number of design matrix\n",
    "    cond_number = np.linalg.cond(X)\n",
    "\n",
    "    return RegressionResult(means, cond_number, rank, beta, fit_y)"
   ]
  },
  {
   "cell_type": "markdown",
   "id": "e5ff67de",
   "metadata": {},
   "source": [
    "`fit_model` takes as a parameters the `DataFrame`, the response variable, a list of predictors, and a range of `x` values where it should evaluate the fitted line.\n",
    "\n",
    "* It uses `groupby` to compute the average of the response variable as a function of the first predictor.\n",
    "\n",
    "* Then it extracts `y`, makes the design matrix, `X`, and computes the least squared fit.\n",
    "\n",
    "* It evaluates the fitted line over the given range, `fit_x`.\n",
    "\n",
    "* It also computes the condition number of `X`, which I'll explain soon.\n",
    "\n",
    "It returns all of the results in a `RegressionResult` object."
   ]
  },
  {
   "cell_type": "markdown",
   "id": "a4ecc3e9",
   "metadata": {
    "tags": [
     "hide-cell"
    ]
   },
   "source": [
    "`RegressionResult` is a `dataclass`, which is a Python object that contains a specified set of attributes."
   ]
  },
  {
   "cell_type": "code",
   "execution_count": 378,
   "id": "9e1c0452",
   "metadata": {
    "tags": [
     "hide-cell"
    ]
   },
   "outputs": [],
   "source": [
    "from dataclasses import dataclass\n",
    "\n",
    "@dataclass\n",
    "class RegressionResult:\n",
    "    means: np.ndarray\n",
    "    cond_number: float\n",
    "    rank: int\n",
    "    beta: np.ndarray\n",
    "    fit_y: np.ndarray"
   ]
  },
  {
   "cell_type": "markdown",
   "id": "d5d9d96d",
   "metadata": {},
   "source": [
    "Here's how we can use this function to compute a least squares fit of `polviews` as a function of `age`, again, and save the results."
   ]
  },
  {
   "cell_type": "code",
   "execution_count": 379,
   "id": "75ecd781",
   "metadata": {},
   "outputs": [
    {
     "data": {
      "text/plain": [
       "array([3.6416, 0.0103])"
      ]
     },
     "execution_count": 379,
     "metadata": {},
     "output_type": "execute_result"
    }
   ],
   "source": [
    "result_age = fit_model(subset, response, [predictor], fit_x)\n",
    "result_age.beta"
   ]
  },
  {
   "cell_type": "markdown",
   "id": "f618409a",
   "metadata": {},
   "source": [
    "Now here's a least squares fit of `polviews` as a function of `cohort`, evaluated over the range of birth years from 1880 to 2010."
   ]
  },
  {
   "cell_type": "code",
   "execution_count": 380,
   "id": "0d6be03f",
   "metadata": {},
   "outputs": [
    {
     "data": {
      "text/plain": [
       "array([ 1.6354e+01, -6.2643e-03])"
      ]
     },
     "execution_count": 380,
     "metadata": {},
     "output_type": "execute_result"
    }
   ],
   "source": [
    "predictor = 'cohort'\n",
    "fit_x = np.arange(1880, 2010)\n",
    "result_cohort = fit_model(subset, response, [predictor], fit_x)\n",
    "result_cohort.beta"
   ]
  },
  {
   "cell_type": "markdown",
   "id": "048433e4",
   "metadata": {},
   "source": [
    "The following function takes the regression results and plots the fitted line along with the data."
   ]
  },
  {
   "cell_type": "code",
   "execution_count": 381,
   "id": "74a7e55f",
   "metadata": {},
   "outputs": [],
   "source": [
    "color_map = {\n",
    "    'age': 'C0',\n",
    "    'year': 'C2',\n",
    "    'yearc': 'C2',\n",
    "    'cohort': 'C4',\n",
    "}\n",
    "\n",
    "def plot_result(response, predictor, result, fit_x):\n",
    "    result.means.plot(style='.', color=color_map[predictor])\n",
    "    plt.plot(fit_x, result.fit_y, color='C1')\n",
    "\n",
    "    decorate(xlabel=predictor, \n",
    "             ylabel=response, \n",
    "             title=f'{response} by {predictor}')"
   ]
  },
  {
   "cell_type": "markdown",
   "id": "7d1fe2c3",
   "metadata": {},
   "source": [
    "Here's what the results look like for `polviews` as a function of `cohort`."
   ]
  },
  {
   "cell_type": "code",
   "execution_count": 382,
   "id": "7fff5b4c",
   "metadata": {},
   "outputs": [
    {
     "data": {
      "image/png": "[encoded data removed]",
      "text/plain": [
       "<Figure size 450x262.5 with 1 Axes>"
      ]
     },
     "metadata": {},
     "output_type": "display_data"
    }
   ],
   "source": [
    "plot_result(response, predictor, result_cohort, fit_x)"
   ]
  },
  {
   "cell_type": "markdown",
   "id": "b12c77c7",
   "metadata": {},
   "source": [
    "The slope of the line is negative, which means that people born earlier are more likely to say they are conservative, compared to people born later.\n",
    "\n",
    "Based on the results so far, we can't tell whether people get more conservative as they age, or whether older people are more conservative because they were born earlier.\n",
    "We'll come back to this question, but first let's look at the third predictor, `year`."
   ]
  },
  {
   "cell_type": "markdown",
   "id": "ece421bb",
   "metadata": {},
   "source": [
    "## A Quadratic Model\n",
    "\n",
    "So far we've computed least squares fits with `age` and `cohort` as predictors.\n",
    "Now let's do the same with `year`.\n",
    "We'll see that a straight line doesn't fit the data well, so we'll try fitting a parabola.\n",
    "\n",
    "Here's the least squares fit of `polviews` as a function of `year`."
   ]
  },
  {
   "cell_type": "code",
   "execution_count": 383,
   "id": "abe77fa8",
   "metadata": {},
   "outputs": [
    {
     "data": {
      "text/plain": [
       "array([3.5988e+00, 2.5495e-04])"
      ]
     },
     "execution_count": 383,
     "metadata": {},
     "output_type": "execute_result"
    }
   ],
   "source": [
    "predictor = 'year'\n",
    "fit_x = np.arange(1974, 2025)\n",
    "result_year = fit_model(subset, response, [predictor], fit_x)\n",
    "result_year.beta"
   ]
  },
  {
   "cell_type": "markdown",
   "id": "6d8c0b40",
   "metadata": {},
   "source": [
    "And here's the fitted line along with the data."
   ]
  },
  {
   "cell_type": "code",
   "execution_count": 384,
   "id": "d6e0c740",
   "metadata": {},
   "outputs": [
    {
     "data": {
      "image/png": "[encoded data removed]",
      "text/plain": [
       "<Figure size 450x262.5 with 1 Axes>"
      ]
     },
     "metadata": {},
     "output_type": "display_data"
    }
   ],
   "source": [
    "plot_result(response, predictor, result_year, fit_x)"
   ]
  },
  {
   "cell_type": "markdown",
   "id": "1727ac24",
   "metadata": {},
   "source": [
    "The fitted line is almost flat, which suggests that there is little or no change over time, but we can see that the line does not fit the data very well.\n",
    "If there is a relationship between `polviews` and `year`, it seems to be **nonlinear**, increasing until some time between 1990 and 2000, and decreasing afterward.\n",
    "\n",
    "Instead of fitting a straight line to the data, we can fit a parabola.\n",
    "First we'll compute a new column that contains the values of `year` squared."
   ]
  },
  {
   "cell_type": "code",
   "execution_count": 385,
   "id": "f946e6c0",
   "metadata": {},
   "outputs": [],
   "source": [
    "subset['year2'] = subset['year'] ** 2"
   ]
  },
  {
   "cell_type": "markdown",
   "id": "d01c8c41",
   "metadata": {},
   "source": [
    "Next we'll run a regression with `year` and `year2` as predictors.\n",
    "Because we have two predictors, we'll need `fit_X` to be a matrix with two columns.\n",
    "The first contains a range of dates from 1970 to 2024; the second contains those values squared."
   ]
  },
  {
   "cell_type": "code",
   "execution_count": 386,
   "id": "f8145fba",
   "metadata": {},
   "outputs": [],
   "source": [
    "fit_x0 = np.arange(1974, 2025)\n",
    "fit_x1 = fit_x0 ** 2\n",
    "fit_X = np.column_stack([fit_x0, fit_x1])"
   ]
  },
  {
   "cell_type": "markdown",
   "id": "2acb2ccd",
   "metadata": {},
   "source": [
    "Now we can compute a least squares fit with two predictors."
   ]
  },
  {
   "cell_type": "code",
   "execution_count": 387,
   "id": "dd41eba6",
   "metadata": {},
   "outputs": [
    {
     "data": {
      "text/plain": [
       "3"
      ]
     },
     "execution_count": 387,
     "metadata": {},
     "output_type": "execute_result"
    }
   ],
   "source": [
    "predictors = ['year', 'year2']\n",
    "result_year2 = fit_model(subset, response, predictors, fit_X)\n",
    "result_year2.rank"
   ]
  },
  {
   "cell_type": "markdown",
   "id": "4c625f54",
   "metadata": {},
   "source": [
    "The rank is `3` now, because the design matrix contains two predictors and a column of ones.\n",
    "\n",
    "If we represent the columns of `X` symbolically as $1$, $x$, and $x^2$, \n",
    "and the elements of `beta` as $\\beta_0$, $\\beta_1$, and $\\beta_2$, we can express the dot product of `X` and `beta` like this. "
   ]
  },
  {
   "cell_type": "code",
   "execution_count": 388,
   "id": "4aef5008",
   "metadata": {},
   "outputs": [
    {
     "data": {
      "text/latex": [
       "$\\displaystyle \\beta_{0} + \\beta_{1} x + \\beta_{2} x^{2}$"
      ],
      "text/plain": [
       "beta_0 + beta_1*x + beta_2*x**2"
      ]
     },
     "execution_count": 388,
     "metadata": {},
     "output_type": "execute_result"
    }
   ],
   "source": [
    "import sympy as sp\n",
    "\n",
    "beta = sp.symbols('beta_0 beta_1 beta_2')\n",
    "x = sp.symbols('x')\n",
    "\n",
    "np.dot([1, x, x**2], beta)"
   ]
  },
  {
   "cell_type": "markdown",
   "id": "df365d76",
   "metadata": {},
   "source": [
    "That is the equation of a parabola.\n",
    "Here are the estimated coefficients."
   ]
  },
  {
   "cell_type": "code",
   "execution_count": 389,
   "id": "06a915d4",
   "metadata": {},
   "outputs": [
    {
     "data": {
      "text/plain": [
       "array([-5.6547e+02,  5.6937e-01, -1.4228e-04])"
      ]
     },
     "execution_count": 389,
     "metadata": {},
     "output_type": "execute_result"
    }
   ],
   "source": [
    "result_year2.beta"
   ]
  },
  {
   "cell_type": "markdown",
   "id": "eb4ccaec",
   "metadata": {},
   "source": [
    "The third element (the coefficient of $x^2$) is negative, which indicates that the parabola curves downward.\n",
    "And if we plot the fitted curve, we can see that it does."
   ]
  },
  {
   "cell_type": "code",
   "execution_count": 390,
   "id": "76556e4d",
   "metadata": {},
   "outputs": [
    {
     "data": {
      "image/png": "[encoded data removed]",
      "text/plain": [
       "<Figure size 450x262.5 with 1 Axes>"
      ]
     },
     "metadata": {},
     "output_type": "display_data"
    }
   ],
   "source": [
    "plot_result(response, predictors[0], result_year2, fit_x0)"
   ]
  },
  {
   "cell_type": "markdown",
   "id": "1254e1a5",
   "metadata": {},
   "source": [
    "This model fits the data better than the straight line.\n",
    "It seems that people were a little more likely to consider themselves conservative in the 1990s and 2000s, but more recently that trend has reversed.\n",
    "\n",
    "In the next section we'll get back to the question we started with -- as people get older, do they get more conservative?"
   ]
  },
  {
   "cell_type": "markdown",
   "id": "f267a519",
   "metadata": {},
   "source": [
    "## Age, Period, Cohort\n",
    "\n",
    "So far we have modeled the response variable as a function of age, time period (year), and cohort (year of birth).\n",
    "Now let's see how these predictors interact with each other.\n",
    "This kind of modeling is called **age-period-cohort** analysis.\n",
    "\n",
    "First let's try a model with `age` and `cohort` as predictors."
   ]
  },
  {
   "cell_type": "code",
   "execution_count": 391,
   "id": "982e7b4d",
   "metadata": {},
   "outputs": [
    {
     "data": {
      "text/plain": [
       "3"
      ]
     },
     "execution_count": 391,
     "metadata": {},
     "output_type": "execute_result"
    }
   ],
   "source": [
    "predictors = ['age', 'cohort']\n",
    "fit_x0 = np.arange(18, 90)\n",
    "fit_x1 = np.full_like(fit_x0, 2000)\n",
    "fit_X = np.column_stack([fit_x0, fit_x1])\n",
    "\n",
    "result = fit_model(subset, response, predictors, fit_X)\n",
    "result.rank"
   ]
  },
  {
   "cell_type": "markdown",
   "id": "871cdf74",
   "metadata": {},
   "source": [
    "The rank of this model is 3 because the design matrix has three columns and they are independent.\n",
    "\n",
    "Because this model includes more than one predictor, it is a **multiple regression**, as opposed to a model with only one predictor, which is a **simple regression**.\n",
    "\n",
    "To visualize the results, we'll consider three cohorts, people born in 1920, 1960, and 2000.\n",
    "For each cohort, we'll compute a fitted line over a range of ages."
   ]
  },
  {
   "cell_type": "code",
   "execution_count": 392,
   "id": "7bcf4e18",
   "metadata": {},
   "outputs": [],
   "source": [
    "cohorts = [1930, 1960, 1990]\n",
    "fits = {}\n",
    "\n",
    "for cohort in cohorts:\n",
    "    fit_x1 = np.full_like(fit_x0, cohort)\n",
    "    fit_X = np.column_stack([fit_x0, fit_x1])\n",
    "\n",
    "    result = fit_model(subset, response, predictors, fit_X)\n",
    "    fits[cohort] = result.fit_y"
   ]
  },
  {
   "cell_type": "markdown",
   "id": "51580020",
   "metadata": {},
   "source": [
    "Here's what the lines look like for the three cohorts."
   ]
  },
  {
   "cell_type": "code",
   "execution_count": 393,
   "id": "e0effb19",
   "metadata": {},
   "outputs": [
    {
     "data": {
      "image/png": "[encoded data removed]",
      "text/plain": [
       "<Figure size 450x262.5 with 1 Axes>"
      ]
     },
     "metadata": {},
     "output_type": "display_data"
    }
   ],
   "source": [
    "means_age.plot(style='.', color='C0')\n",
    "style_map = dict(zip(cohorts, ['-', '--', ':']))\n",
    "   \n",
    "for cohort, fit_y in fits.items():\n",
    "    plt.plot(fit_x0, fit_y, style_map[cohort], color='C1', label=f'cohort {cohort}')\n",
    "\n",
    "decorate(xlabel=predictors[0], ylabel=response)"
   ]
  },
  {
   "cell_type": "markdown",
   "id": "d714785c",
   "metadata": {},
   "source": [
    "In each cohort, it looks like older people are more conservative than younger people (or at least more likely to say they are).\n",
    "But reading the lines from top to bottom, each cohort is a little less conservative than the previous one.\n",
    "\n",
    "We can see the second effect more clearly if we make a model with `year`, `year2`, and `cohort` as predictors."
   ]
  },
  {
   "cell_type": "code",
   "execution_count": 394,
   "id": "18f03f0d",
   "metadata": {},
   "outputs": [
    {
     "data": {
      "text/plain": [
       "4"
      ]
     },
     "execution_count": 394,
     "metadata": {},
     "output_type": "execute_result"
    }
   ],
   "source": [
    "predictors = ['year', 'year2', 'cohort']\n",
    "fit_x0 = np.arange(1974, 2025)\n",
    "\n",
    "fits = {}\n",
    "for cohort in cohorts:\n",
    "    fit_x1 = fit_x0 ** 2\n",
    "    fit_x2 = np.full_like(fit_x0, cohort)\n",
    "    fit_X = np.column_stack([fit_x0, fit_x1, fit_x2])\n",
    "\n",
    "    result = fit_model(subset, response, predictors, fit_X)\n",
    "    fits[cohort] = result.fit_y\n",
    "    \n",
    "result.rank"
   ]
  },
  {
   "cell_type": "markdown",
   "id": "03560f3b",
   "metadata": {},
   "source": [
    "The rank of the design matrix is `4` because it contains three predictors and a column of ones.\n",
    "\n",
    "Because it includes both `year` and `year2`, the fitted curves are parabolas when we plot them as a function of time."
   ]
  },
  {
   "cell_type": "code",
   "execution_count": 395,
   "id": "2dd71c8a",
   "metadata": {},
   "outputs": [
    {
     "data": {
      "image/png": "[encoded data removed]",
      "text/plain": [
       "<Figure size 450x262.5 with 1 Axes>"
      ]
     },
     "metadata": {},
     "output_type": "display_data"
    }
   ],
   "source": [
    "for cohort, fit_y in fits.items():\n",
    "    plt.plot(fit_x0, fit_y, style_map[cohort], color='C1', label=f'cohort {cohort}')\n",
    "\n",
    "decorate(xlabel=predictors[0], ylabel=response)"
   ]
  },
  {
   "cell_type": "markdown",
   "id": "cbb3650a",
   "metadata": {},
   "source": [
    "Again, as people get older, they are more likely to say they are conservative.\n",
    "And each cohort is less conservative than the previous.\n",
    "But we should interpret this graph with caution, because it extrapolates beyond the data we have -- people born in 1990 were not included in the survey until they were 18 years old in 2018.\n",
    "\n",
    "Nevertheless, we can conclude that there are two trends happening at the same time: \n",
    "\n",
    "* Between cohorts, people born earlier are more conservative, and \n",
    "\n",
    "* As they get older, each cohort is more likely to say they are conservative, on average.\n",
    "\n",
    "If you are curious about this topic, I explored it more deeply in Chapter 12 of [*Probably Overthinking it*](https://probablyoverthinking.it).\n",
    "\n",
    "But before we go on, I have a warning about a common error."
   ]
  },
  {
   "cell_type": "markdown",
   "id": "b43fad22",
   "metadata": {},
   "source": [
    "## Collinearity\n",
    "\n",
    "When people learn about age-period-cohort analysis, they often attempt something impossible -- a model that includes age, period, *and* cohort.\n",
    "\n",
    "To see why it's impossible, let's try."
   ]
  },
  {
   "cell_type": "code",
   "execution_count": null,
   "id": "e3db5009",
   "metadata": {},
   "outputs": [],
   "source": [
    "predictors = ['age', 'cohort', 'year']\n",
    "fit_x0 = np.arange(18, 90)\n",
    "fit_x1 = np.full_like(fit_x0, 2000)\n",
    "fit_x2 = np.full_like(fit_x0, 2018)\n",
    "fit_X = np.column_stack([fit_x0, fit_x1, fit_x2])\n",
    "\n",
    "result = fit_model(subset, response, predictors, fit_X)"
   ]
  },
  {
   "cell_type": "markdown",
   "id": "3b4430e2",
   "metadata": {},
   "source": [
    "It's not obvious that something has gone wrong.\n",
    "And the coefficients are similar to the ones we saw in previous models."
   ]
  },
  {
   "cell_type": "code",
   "execution_count": 397,
   "id": "71cfebf4",
   "metadata": {},
   "outputs": [
    {
     "data": {
      "text/plain": [
       "array([ 5.3109e+00,  6.6641e-03, -3.7502e-03,  2.9139e-03])"
      ]
     },
     "execution_count": 397,
     "metadata": {},
     "output_type": "execute_result"
    }
   ],
   "source": [
    "result.beta"
   ]
  },
  {
   "cell_type": "markdown",
   "id": "759fe9e4",
   "metadata": {},
   "source": [
    "But notice that the rank is only `3`."
   ]
  },
  {
   "cell_type": "code",
   "execution_count": 396,
   "id": "5a412d9f",
   "metadata": {},
   "outputs": [
    {
     "data": {
      "text/plain": [
       "3"
      ]
     },
     "execution_count": 396,
     "metadata": {},
     "output_type": "execute_result"
    }
   ],
   "source": [
    "result.rank"
   ]
  },
  {
   "cell_type": "markdown",
   "id": "1b89c63b",
   "metadata": {},
   "source": [
    "The design matrix has four columns -- three predictors and a column of ones -- but they are not independent.\n",
    "That's because `age = year - cohort`.\n",
    "And that's a problem.\n",
    "\n",
    "To see why, recall that `fit_model` uses the SciPy function `lstsq`, which uses QR factorization.\n",
    "And QR factorization uses the Gram-Schmitt process.\n",
    "So let's see what happens when we try to orthogonalize a matrix with dependent columns."
   ]
  },
  {
   "cell_type": "code",
   "execution_count": 398,
   "id": "06f70a2f",
   "metadata": {},
   "outputs": [],
   "source": [
    "y = subset[response]\n",
    "X = add_constant(subset[predictors])\n",
    "Q, R = gram_schmidt(X)"
   ]
  },
  {
   "cell_type": "markdown",
   "id": "aa74aae3",
   "metadata": {},
   "source": [
    "Remember that the columns of `Q` are suppose to be orthogonal, so `Q.T @ Q` should be the identity matrix."
   ]
  },
  {
   "cell_type": "code",
   "execution_count": 399,
   "id": "dede02bc",
   "metadata": {},
   "outputs": [
    {
     "data": {
      "text/plain": [
       "array([[ 1.    ,  0.    , -0.    , -0.007 ],\n",
       "       [ 0.    ,  1.    , -0.    , -0.0019],\n",
       "       [-0.    , -0.    ,  1.    ,  1.    ],\n",
       "       [-0.007 , -0.0019,  1.    ,  1.    ]])"
      ]
     },
     "execution_count": 399,
     "metadata": {},
     "output_type": "execute_result"
    }
   ],
   "source": [
    "(Q.T @ Q).round(4)"
   ]
  },
  {
   "cell_type": "markdown",
   "id": "62dfe7db",
   "metadata": {},
   "source": [
    "The first three columns are orthogonal to each other, but in the last row and column, the off diagonal elements are not zero, as they should be -- which means that the last column is not orthogonal to the others.\n",
    "In fact, the last two columns are almost identical, and their dot product is close to one.\n",
    "\n",
    "This problem is called **collinearity** because these columns in `Q` are co-linear -- that is, they fall on the same line.\n",
    "\n",
    "TODO: Show how the result is underconstrained orthogonal equations\n",
    "\n",
    "Fortunately, most statistical software is aware of this problem, and provides a warning when it happens.\n",
    "For example, here's how we can fit the same model with the `StatsModels` function `OLS` (which stands for \"ordinary least squares\"):"
   ]
  },
  {
   "cell_type": "code",
   "execution_count": 400,
   "id": "91ccd451",
   "metadata": {},
   "outputs": [],
   "source": [
    "import statsmodels.api as sm\n",
    "\n",
    "result = sm.OLS(y, X).fit()"
   ]
  },
  {
   "cell_type": "markdown",
   "id": "ab257b34",
   "metadata": {},
   "source": [
    "The result object ..."
   ]
  },
  {
   "cell_type": "code",
   "execution_count": 401,
   "id": "fc0bc336",
   "metadata": {},
   "outputs": [
    {
     "data": {
      "text/html": [
       "<table class=\"simpletable\">\n",
       "<caption>OLS Regression Results</caption>\n",
       "<tr>\n",
       "  <th>Dep. Variable:</th>    <td>polviews</td>  <th>  R-squared:         </th> <td>   0.016</td> \n",
       "</tr>\n",
       "<tr>\n",
       "  <th>Model:</th>               <td>OLS</td>    <th>  Adj. R-squared:    </th> <td>   0.016</td> \n",
       "</tr>\n",
       "<tr>\n",
       "  <th>No. Observations:</th>  <td> 65239</td>   <th>  F-statistic:       </th> <td>   535.6</td> \n",
       "</tr>\n",
       "<tr>\n",
       "  <th>Covariance Type:</th>  <td>nonrobust</td> <th>  Prob (F-statistic):</th> <td>1.89e-231</td>\n",
       "</tr>\n",
       "</table>\n",
       "<table class=\"simpletable\">\n",
       "<tr>\n",
       "    <td></td>       <th>coef</th>     <th>std err</th>      <th>t</th>      <th>P>|t|</th>  <th>[0.025</th>    <th>0.975]</th>  \n",
       "</tr>\n",
       "<tr>\n",
       "  <th>const</th> <td>    5.3109</td> <td>    0.718</td> <td>    7.399</td> <td> 0.000</td> <td>    3.904</td> <td>    6.718</td>\n",
       "</tr>\n",
       "<tr>\n",
       "  <th>x1</th>    <td>    0.0067</td> <td>    0.000</td> <td>   28.504</td> <td> 0.000</td> <td>    0.006</td> <td>    0.007</td>\n",
       "</tr>\n",
       "<tr>\n",
       "  <th>x2</th>    <td>   -0.0038</td> <td>    0.000</td> <td>  -22.423</td> <td> 0.000</td> <td>   -0.004</td> <td>   -0.003</td>\n",
       "</tr>\n",
       "<tr>\n",
       "  <th>x3</th>    <td>    0.0029</td> <td>    0.000</td> <td>   11.521</td> <td> 0.000</td> <td>    0.002</td> <td>    0.003</td>\n",
       "</tr>\n",
       "</table><br/><br/>Notes:<br/>[1] Standard Errors assume that the covariance matrix of the errors is correctly specified.<br/>[2] The smallest eigenvalue is 5.22e-21. This might indicate that there are<br/>strong multicollinearity problems or that the design matrix is singular."
      ],
      "text/latex": [
       "\\begin{center}\n",
       "\\begin{tabular}{lclc}\n",
       "\\toprule\n",
       "\\textbf{Dep. Variable:}    &    polviews   & \\textbf{  R-squared:         } &     0.016   \\\\\n",
       "\\textbf{Model:}            &      OLS      & \\textbf{  Adj. R-squared:    } &     0.016   \\\\\n",
       "\\textbf{No. Observations:} &      65239    & \\textbf{  F-statistic:       } &     535.6   \\\\\n",
       "\\textbf{Covariance Type:}  &   nonrobust   & \\textbf{  Prob (F-statistic):} & 1.89e-231   \\\\\n",
       "\\bottomrule\n",
       "\\end{tabular}\n",
       "\\begin{tabular}{lcccccc}\n",
       "               & \\textbf{coef} & \\textbf{std err} & \\textbf{t} & \\textbf{P$> |$t$|$} & \\textbf{[0.025} & \\textbf{0.975]}  \\\\\n",
       "\\midrule\n",
       "\\textbf{const} &       5.3109  &        0.718     &     7.399  &         0.000        &        3.904    &        6.718     \\\\\n",
       "\\textbf{x1}    &       0.0067  &        0.000     &    28.504  &         0.000        &        0.006    &        0.007     \\\\\n",
       "\\textbf{x2}    &      -0.0038  &        0.000     &   -22.423  &         0.000        &       -0.004    &       -0.003     \\\\\n",
       "\\textbf{x3}    &       0.0029  &        0.000     &    11.521  &         0.000        &        0.002    &        0.003     \\\\\n",
       "\\bottomrule\n",
       "\\end{tabular}\n",
       "%\\caption{OLS Regression Results}\n",
       "\\end{center}\n",
       "\n",
       "Notes: \\newline\n",
       " [1] Standard Errors assume that the covariance matrix of the errors is correctly specified. \\newline\n",
       " [2] The smallest eigenvalue is 5.22e-21. This might indicate that there are \\newline\n",
       " strong multicollinearity problems or that the design matrix is singular."
      ],
      "text/plain": [
       "<class 'statsmodels.iolib.summary.Summary'>\n",
       "\"\"\"\n",
       "                            OLS Regression Results                            \n",
       "==============================================================================\n",
       "Dep. Variable:               polviews   R-squared:                       0.016\n",
       "Model:                            OLS   Adj. R-squared:                  0.016\n",
       "No. Observations:               65239   F-statistic:                     535.6\n",
       "Covariance Type:            nonrobust   Prob (F-statistic):          1.89e-231\n",
       "==============================================================================\n",
       "                 coef    std err          t      P>|t|      [0.025      0.975]\n",
       "------------------------------------------------------------------------------\n",
       "const          5.3109      0.718      7.399      0.000       3.904       6.718\n",
       "x1             0.0067      0.000     28.504      0.000       0.006       0.007\n",
       "x2            -0.0038      0.000    -22.423      0.000      -0.004      -0.003\n",
       "x3             0.0029      0.000     11.521      0.000       0.002       0.003\n",
       "==============================================================================\n",
       "\n",
       "Notes:\n",
       "[1] Standard Errors assume that the covariance matrix of the errors is correctly specified.\n",
       "[2] The smallest eigenvalue is 5.22e-21. This might indicate that there are\n",
       "strong multicollinearity problems or that the design matrix is singular.\n",
       "\"\"\""
      ]
     },
     "execution_count": 401,
     "metadata": {},
     "output_type": "execute_result"
    }
   ],
   "source": [
    "result.summary(slim=True)"
   ]
  },
  {
   "cell_type": "markdown",
   "id": "4df7dc4b",
   "metadata": {},
   "source": [
    "The argument `slim=True` specifies a reduced summary -- but even so, it contains more information than we need.\n",
    "In the table, the `coef` column contains the estimated coefficients, which are the same as the ones we computed.\n",
    "\n",
    "But the notes at the bottom include this warning:\n",
    "\n",
    "> The smallest eigenvalue is 5.22e-21. This might indicate that there are strong multicollinearity problems or that the design matrix is singular.\n",
    "\n",
    "Statsmodels computes the eigenvalues of $X^T X$, the matrix that contains the dot products of the columns of $X$ with each other.\n",
    "The smallest eigenvalue indicates how close the columns are to being linearly dependent.\n",
    "If that value is close to zero, the matrix is nearly singular -- that is, its columns are nearly dependent.\n",
    "\n",
    "Another way to say the same thing is that the columns are **multicollinear**, which means that there is some combination of columns that lies on the same line as another column.\n",
    "\n",
    "In addition to the smallest eigenvalue of $X^T X$, there is another way to detect possible problems with the design matrix, the condition number."
   ]
  },
  {
   "cell_type": "markdown",
   "id": "064929ad",
   "metadata": {},
   "source": [
    "## Condition Number\n",
    "\n"
   ]
  },
  {
   "cell_type": "code",
   "execution_count": 290,
   "id": "e792ffc6",
   "metadata": {},
   "outputs": [],
   "source": [
    "def condition_number_table(results, index):\n",
    "    kappas = [result.cond_number for result in results]\n",
    "\n",
    "    return pd.DataFrame({r'$\\kappa$': kappas, \n",
    "                         r'$\\log \\kappa $': np.log10(kappas)}, \n",
    "                        index=index)\n"
   ]
  },
  {
   "cell_type": "code",
   "execution_count": 291,
   "id": "1ab8bed6",
   "metadata": {},
   "outputs": [
    {
     "data": {
      "text/html": [
       "<div>\n",
       "<style scoped>\n",
       "    .dataframe tbody tr th:only-of-type {\n",
       "        vertical-align: middle;\n",
       "    }\n",
       "\n",
       "    .dataframe tbody tr th {\n",
       "        vertical-align: top;\n",
       "    }\n",
       "\n",
       "    .dataframe thead th {\n",
       "        text-align: right;\n",
       "    }\n",
       "</style>\n",
       "<table border=\"1\" class=\"dataframe\">\n",
       "  <thead>\n",
       "    <tr style=\"text-align: right;\">\n",
       "      <th></th>\n",
       "      <th>$\\kappa$</th>\n",
       "      <th>$\\log \\kappa $</th>\n",
       "    </tr>\n",
       "  </thead>\n",
       "  <tbody>\n",
       "    <tr>\n",
       "      <th>age</th>\n",
       "      <td>135.6059</td>\n",
       "      <td>2.1323</td>\n",
       "    </tr>\n",
       "    <tr>\n",
       "      <th>cohort</th>\n",
       "      <td>174322.2522</td>\n",
       "      <td>5.2414</td>\n",
       "    </tr>\n",
       "    <tr>\n",
       "      <th>year</th>\n",
       "      <td>262262.0771</td>\n",
       "      <td>5.4187</td>\n",
       "    </tr>\n",
       "    <tr>\n",
       "      <th>year + year2</th>\n",
       "      <td>77917685753.1958</td>\n",
       "      <td>10.8916</td>\n",
       "    </tr>\n",
       "  </tbody>\n",
       "</table>\n",
       "</div>"
      ],
      "text/plain": [
       "                     $\\kappa$  $\\log \\kappa $\n",
       "age                  135.6059          2.1323\n",
       "cohort            174322.2522          5.2414\n",
       "year              262262.0771          5.4187\n",
       "year + year2 77917685753.1958         10.8916"
      ]
     },
     "execution_count": 291,
     "metadata": {},
     "output_type": "execute_result"
    }
   ],
   "source": [
    "results = [result_age, result_cohort, result_year, result_year2]\n",
    "index = ['age', 'cohort', 'year', 'year + year2']\n",
    "condition_number_table(results, index)"
   ]
  },
  {
   "cell_type": "markdown",
   "id": "e15c30f5",
   "metadata": {},
   "source": [
    "## Orthogonal Equations\n",
    "\n",
    "In this chapter, we computed the coefficients of a least squares fit using QR decomposition, which is an efficient algorithm that behaves well numerically.\n",
    "But there is another way to derive and compute a least squares fit, but writing and solving the **orthogonal equations**.\n",
    "This method is not often used in practice because it is less efficient and the results are less precise.\n",
    "But it provides another view of how linear regression works.\n",
    "\n",
    "To review, the goal of a least squares fit is to find a vector of coefficients, $\\beta$, that minimizes the residuals, $y - X \\beta$.\n",
    "And we have shown that we can minimize this residual by computing the projection the projection of $y$ onto the space spanned by the columns of $X$, which means that the residual  is orthogonal to the columns of $X$.\n",
    "\n",
    "Let's check whether that's true for a regressions we ran in a previous section, `polviews` as a  function of `age` and `cohort`."
   ]
  },
  {
   "cell_type": "code",
   "execution_count": 456,
   "id": "036c4a87",
   "metadata": {},
   "outputs": [
    {
     "data": {
      "text/plain": [
       "array([ 5.3109e+00,  9.5780e-03, -8.3626e-04])"
      ]
     },
     "execution_count": 456,
     "metadata": {},
     "output_type": "execute_result"
    }
   ],
   "source": [
    "predictors = ['age', 'cohort']\n",
    "y = subset[response]\n",
    "X = add_constant(subset[predictors])\n",
    "beta, _, rank, _ = scipy.linalg.lstsq(X, y, lapack_driver='gelsy')\n",
    "beta"
   ]
  },
  {
   "cell_type": "markdown",
   "id": "d875ab95",
   "metadata": {},
   "source": [
    "Here are the residuals."
   ]
  },
  {
   "cell_type": "code",
   "execution_count": 457,
   "id": "bb6737c4",
   "metadata": {},
   "outputs": [],
   "source": [
    "r = y - X @ beta"
   ]
  },
  {
   "cell_type": "markdown",
   "id": "14de30f9",
   "metadata": {},
   "source": [
    "And here are the dot products of the residuals with the columns of `X`."
   ]
  },
  {
   "cell_type": "code",
   "execution_count": 458,
   "id": "33777bf1",
   "metadata": {},
   "outputs": [
    {
     "data": {
      "text/plain": [
       "array([-1.7548e-10, -7.9385e-09, -3.4235e-07])"
      ]
     },
     "execution_count": 458,
     "metadata": {},
     "output_type": "execute_result"
    }
   ],
   "source": [
    "X.T @ r"
   ]
  },
  {
   "cell_type": "markdown",
   "id": "15b84213",
   "metadata": {},
   "source": [
    "They are close to zero, within the precision we expect for this calculation.\n",
    "So we've confirmed that $X^T (y - X \\beta) = 0$, at least approximately, for the $\\beta$ we found.\n",
    "Turning that around, we can use that equation to solve for $\\beta$.\n",
    "\n",
    "Matrix multiplication is distributive, so we can write that equation as \n",
    "\n",
    "$$ X^T y - X^T X \\beta = 0 $$\n",
    "\n",
    "Or, if we rearrange terms, we can write\n",
    "\n",
    "$$ X^T X \\beta = X^T y $$\n",
    "\n",
    "We can solve this equation by computing the **normal matrix**, $X^T X$."
   ]
  },
  {
   "cell_type": "code",
   "execution_count": 459,
   "id": "d4941d4e",
   "metadata": {},
   "outputs": [
    {
     "data": {
      "text/plain": [
       "array([[6.5239e+04, 2.9455e+06, 1.2753e+08],\n",
       "       [2.9455e+06, 1.5234e+08, 5.7400e+09],\n",
       "       [1.2753e+08, 5.7400e+09, 2.4933e+11]])"
      ]
     },
     "execution_count": 459,
     "metadata": {},
     "output_type": "execute_result"
    }
   ],
   "source": [
    "A = X.T @ X\n",
    "A"
   ]
  },
  {
   "cell_type": "markdown",
   "id": "5083db56",
   "metadata": {},
   "source": [
    "And the right hand side of the matrix equation, $X^T y$"
   ]
  },
  {
   "cell_type": "code",
   "execution_count": 460,
   "id": "c09bcd04",
   "metadata": {},
   "outputs": [
    {
     "data": {
      "text/plain": [
       "array([2.6804e+05, 1.2302e+07, 5.2378e+08])"
      ]
     },
     "execution_count": 460,
     "metadata": {},
     "output_type": "execute_result"
    }
   ],
   "source": [
    "b = X.T @ y\n",
    "b"
   ]
  },
  {
   "cell_type": "markdown",
   "id": "7ee79a08",
   "metadata": {},
   "source": [
    "And we can solve the matrix equation for $\\beta$."
   ]
  },
  {
   "cell_type": "code",
   "execution_count": 461,
   "id": "759662c9",
   "metadata": {},
   "outputs": [
    {
     "data": {
      "text/plain": [
       "array([ 5.3109e+00,  9.5780e-03, -8.3626e-04])"
      ]
     },
     "execution_count": 461,
     "metadata": {},
     "output_type": "execute_result"
    }
   ],
   "source": [
    "beta2 = np.linalg.solve(A, b)\n",
    "beta2"
   ]
  },
  {
   "cell_type": "markdown",
   "id": "46652576",
   "metadata": {},
   "source": [
    "The result is the same as what we got from QR decomposition, at least approximately."
   ]
  },
  {
   "cell_type": "code",
   "execution_count": 462,
   "id": "fdce68fa",
   "metadata": {},
   "outputs": [
    {
     "data": {
      "text/plain": [
       "True"
      ]
     },
     "execution_count": 462,
     "metadata": {},
     "output_type": "execute_result"
    }
   ],
   "source": [
    "np.allclose(beta, beta2)"
   ]
  },
  {
   "cell_type": "markdown",
   "id": "7c8267e6",
   "metadata": {},
   "source": [
    "In general, the coefficients we get from QR decomposition are more precise than the ones we get by solving the normal equations.\n",
    "That's because the condition number of the normal matrix, $X^T X$ is the condition number of $X$ squared!\n",
    "\n",
    "Recall that the condition number of $X$ for this model is already too big.\n",
    "When we square it, the result is even worse."
   ]
  },
  {
   "cell_type": "code",
   "execution_count": 463,
   "id": "1717befe",
   "metadata": {},
   "outputs": [
    {
     "data": {
      "text/plain": [
       "(257102.2685, 66101576676.7283)"
      ]
     },
     "execution_count": 463,
     "metadata": {},
     "output_type": "execute_result"
    }
   ],
   "source": [
    "np.linalg.cond(X), np.linalg.cond(A)"
   ]
  },
  {
   "cell_type": "markdown",
   "id": "580d6243",
   "metadata": {},
   "source": [
    "Solving the normal equations roughly doubles the loss of precision, compared to QR decomposition."
   ]
  },
  {
   "cell_type": "markdown",
   "id": "a33dd151",
   "metadata": {},
   "source": [
    "## Exercises"
   ]
  },
  {
   "cell_type": "markdown",
   "id": "f406461c",
   "metadata": {},
   "source": [
    "### Exercise\n",
    "\n",
    "Center the predictors and show that it improves the condition number.\n",
    "Confirm that the intercept is different but the coefficients of the predictors are the same."
   ]
  },
  {
   "cell_type": "code",
   "execution_count": 452,
   "id": "e6cd34a3",
   "metadata": {},
   "outputs": [],
   "source": [
    "subset['age_centered'] = subset['age'] - subset['age'].mean()\n",
    "subset['cohort_centered'] = subset['cohort'] - subset['cohort'].mean()"
   ]
  },
  {
   "cell_type": "code",
   "execution_count": 453,
   "id": "9328a042",
   "metadata": {},
   "outputs": [
    {
     "data": {
      "text/plain": [
       "array([ 4.1086e+00,  9.5780e-03, -8.3626e-04])"
      ]
     },
     "execution_count": 453,
     "metadata": {},
     "output_type": "execute_result"
    }
   ],
   "source": [
    "predictors = ['age_centered', 'cohort_centered']\n",
    "y = subset[response]\n",
    "X = add_constant(subset[predictors])\n",
    "beta, _, rank, _ = scipy.linalg.lstsq(X, y, lapack_driver='gelsy')\n",
    "beta"
   ]
  },
  {
   "cell_type": "code",
   "execution_count": 454,
   "id": "1bdb80b3",
   "metadata": {},
   "outputs": [
    {
     "data": {
      "text/plain": [
       "26.0035"
      ]
     },
     "execution_count": 454,
     "metadata": {},
     "output_type": "execute_result"
    }
   ],
   "source": [
    "np.linalg.cond(X)"
   ]
  },
  {
   "cell_type": "markdown",
   "id": "e27da3a4",
   "metadata": {
    "tags": [
     "remove-print"
    ]
   },
   "source": [
    "[Think Linear Algebra](https://allendowney.github.io/ThinkLinearAlgebra/index.html)\n",
    "\n",
    "Copyright 2025 [Allen B. Downey](https://allendowney.com)\n",
    "\n",
    "Code license: [MIT License](https://mit-license.org/)\n",
    "\n",
    "Text license: [Creative Commons Attribution-NonCommercial-ShareAlike 4.0 International](https://creativecommons.org/licenses/by-nc-sa/4.0/)"
   ]
  },
  {
   "cell_type": "code",
   "execution_count": null,
   "id": "c8b4e400-dc97-498e-9016-3e9ef05dc7a3",
   "metadata": {},
   "outputs": [],
   "source": []
  }
 ],
 "metadata": {
  "celltoolbar": "Tags",
  "kernelspec": {
   "display_name": "Python 3 (ipykernel)",
   "language": "python",
   "name": "python3"
  },
  "language_info": {
   "codemirror_mode": {
    "name": "ipython",
    "version": 3
   },
   "file_extension": ".py",
   "mimetype": "text/x-python",
   "name": "python",
   "nbconvert_exporter": "python",
   "pygments_lexer": "ipython3",
   "version": "3.10.16"
  }
 },
 "nbformat": 4,
 "nbformat_minor": 5
}
