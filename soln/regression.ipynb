{
 "cells": [
  {
   "cell_type": "markdown",
   "id": "025b76df",
   "metadata": {},
   "source": [
    "*Think Linear Algebra* is not for sale yet, but if you would like to support this project, you can [buy me a coffee](https://buymeacoffee.com/allendowney)."
   ]
  },
  {
   "cell_type": "markdown",
   "id": "85c30bdb",
   "metadata": {},
   "source": [
    "# Regression\n",
    "\n",
    "TODO: intro"
   ]
  },
  {
   "cell_type": "markdown",
   "id": "3893fe82",
   "metadata": {
    "tags": [
     "remove-print"
    ]
   },
   "source": [
    "[Click here to run this notebook on Colab](https://colab.research.google.com/github/AllenDowney/ThinkLinearAlgebra/blob/main/chapters/regression.ipynb)."
   ]
  },
  {
   "cell_type": "code",
   "execution_count": 581,
   "id": "29fda2e3",
   "metadata": {
    "tags": [
     "remove-cell"
    ]
   },
   "outputs": [
    {
     "name": "stdout",
     "output_type": "stream",
     "text": [
      "The autoreload extension is already loaded. To reload it, use:\n",
      "  %reload_ext autoreload\n"
     ]
    }
   ],
   "source": [
    "# temporary hack to make autoreload work on Colab\n",
    "import importlib, sys\n",
    "sys.modules[\"imp\"] = importlib\n",
    "\n",
    "%load_ext autoreload\n",
    "%autoreload 2"
   ]
  },
  {
   "cell_type": "code",
   "execution_count": 582,
   "id": "02d400cf",
   "metadata": {
    "tags": [
     "remove-print",
     "hide-cell"
    ]
   },
   "outputs": [],
   "source": [
    "from os.path import basename, exists\n",
    "\n",
    "\n",
    "def download(url, filename=None):\n",
    "    if filename is None:\n",
    "        filename = basename(url)\n",
    "        \n",
    "    if not exists(filename):\n",
    "        from urllib.request import urlretrieve\n",
    "\n",
    "        local, _ = urlretrieve(url, filename)\n",
    "        print(\"Downloaded \" + local)\n",
    "\n",
    "\n",
    "download(\"https://github.com/AllenDowney/ThinkLinearAlgebra/raw/main/utils.py\")"
   ]
  },
  {
   "cell_type": "code",
   "execution_count": 583,
   "id": "1a3119be",
   "metadata": {
    "tags": [
     "hide-cell",
     "remove-print"
    ]
   },
   "outputs": [],
   "source": [
    "import networkx as nx\n",
    "import numpy as np\n",
    "import pandas as pd\n",
    "import matplotlib.pyplot as plt\n",
    "import sympy as sp\n",
    "\n",
    "from utils import decorate, underride"
   ]
  },
  {
   "cell_type": "code",
   "execution_count": 584,
   "id": "8c899bdc",
   "metadata": {
    "tags": [
     "remove-cell"
    ]
   },
   "outputs": [],
   "source": [
    "from utils import set_precision\n",
    "\n",
    "set_precision(4)"
   ]
  },
  {
   "cell_type": "markdown",
   "id": "9ebc865a",
   "metadata": {},
   "source": [
    "## Regression as Minimization\n",
    "\n",
    "Before we think of regression as a linear algebra problem, let's start with minimization.\n",
    "Specifically, we'll start with **least squares regression**, which minimizes the sum of squared errors.\n",
    "\n",
    "As the smallest example, I'll construct a predictor, `x`, and a response variable, `y` -- sometimes called independent and dependent variables."
   ]
  },
  {
   "cell_type": "code",
   "execution_count": 585,
   "id": "1fd33146",
   "metadata": {},
   "outputs": [
    {
     "data": {
      "text/plain": [
       "array([2.08, 1.18, 0.88])"
      ]
     },
     "execution_count": 585,
     "metadata": {},
     "output_type": "execute_result"
    }
   ],
   "source": [
    "x = np.array([2, 1, 0]) + 0.1\n",
    "y = 0.5 + 0.8 * x + [-0.1, -0.2, 0.3]\n",
    "y"
   ]
  },
  {
   "cell_type": "markdown",
   "id": "1b653957",
   "metadata": {},
   "source": [
    "A natural way to visualize this dataset is to plot `y` versus `x`."
   ]
  },
  {
   "cell_type": "code",
   "execution_count": 586,
   "id": "eb00402d",
   "metadata": {},
   "outputs": [
    {
     "data": {
      "image/png": "[encoded data removed]",
      "text/plain": [
       "<Figure size 450x262.5 with 1 Axes>"
      ]
     },
     "metadata": {},
     "output_type": "display_data"
    }
   ],
   "source": [
    "plt.plot(x, y, 'o')\n",
    "decorate(xlabel='x', ylabel='y')"
   ]
  },
  {
   "cell_type": "markdown",
   "id": "5dc8d164",
   "metadata": {},
   "source": [
    "There's no line that goes through all three points, so we'll find a line of **best fit**.\n",
    "First we'll construct the **design matrix**, which contains two columns: the first is all `1`s, and the second is the predictor, `x`."
   ]
  },
  {
   "cell_type": "code",
   "execution_count": 587,
   "id": "66731f5a",
   "metadata": {},
   "outputs": [
    {
     "data": {
      "text/latex": [
       "$\\displaystyle \\left[\\begin{matrix}1.0 & 2.1\\\\1.0 & 1.1\\\\1.0 & 0.1\\end{matrix}\\right]$"
      ],
      "text/plain": [
       "Matrix([\n",
       "[1.0, 2.1],\n",
       "[1.0, 1.1],\n",
       "[1.0, 0.1]])"
      ]
     },
     "execution_count": 587,
     "metadata": {},
     "output_type": "execute_result"
    }
   ],
   "source": [
    "from sympy import Matrix\n",
    "\n",
    "X = np.column_stack((np.ones_like(x), x))\n",
    "Matrix(X)"
   ]
  },
  {
   "cell_type": "markdown",
   "id": "72438867",
   "metadata": {},
   "source": [
    "Now the goal is to find a vector of parameters, `beta`, the contains the intercept and slope of the fitted line.\n",
    "We'll start with a not very good guess about the line of best fit."
   ]
  },
  {
   "cell_type": "code",
   "execution_count": 588,
   "id": "fdeabbe7",
   "metadata": {},
   "outputs": [],
   "source": [
    "beta = np.array([1, 0.4])"
   ]
  },
  {
   "cell_type": "markdown",
   "id": "3e795845",
   "metadata": {},
   "source": [
    "To see how good that choice is, we can evaluate the line at each location in `x`."
   ]
  },
  {
   "cell_type": "code",
   "execution_count": 589,
   "id": "0c2a75eb",
   "metadata": {},
   "outputs": [],
   "source": [
    "y_fit = X @ beta"
   ]
  },
  {
   "cell_type": "markdown",
   "id": "f89aac41",
   "metadata": {},
   "source": [
    "The errors, also called **residuals**, are the vertical distances between the actual values, `y`, and the fitted line. "
   ]
  },
  {
   "cell_type": "code",
   "execution_count": 590,
   "id": "e0d47177",
   "metadata": {},
   "outputs": [
    {
     "data": {
      "text/plain": [
       "array([ 0.24, -0.26, -0.16])"
      ]
     },
     "execution_count": 590,
     "metadata": {},
     "output_type": "execute_result"
    }
   ],
   "source": [
    "r = y - y_fit\n",
    "r"
   ]
  },
  {
   "cell_type": "markdown",
   "id": "9dc02ccd",
   "metadata": {},
   "source": [
    "Here's what that looks like.\n",
    "The dots are the actual values, the solid line is the not-very-good fit, and the vertical dotted lines show the residuals."
   ]
  },
  {
   "cell_type": "code",
   "execution_count": 591,
   "id": "589a54ce",
   "metadata": {},
   "outputs": [
    {
     "data": {
      "image/png": "[encoded data removed]",
      "text/plain": [
       "<Figure size 450x262.5 with 1 Axes>"
      ]
     },
     "metadata": {},
     "output_type": "display_data"
    }
   ],
   "source": [
    "plt.plot(x, y, 'o')\n",
    "plt.plot(x, y_fit)\n",
    "plt.vlines(x, y, y_fit, ls=':', color='gray')\n",
    "decorate(xlabel='x', ylabel='y')"
   ]
  },
  {
   "cell_type": "markdown",
   "id": "ad3fcc7f",
   "metadata": {},
   "source": [
    "To compute the **residual sum of squares**, we use array operations."
   ]
  },
  {
   "cell_type": "code",
   "execution_count": 592,
   "id": "0c138291",
   "metadata": {},
   "outputs": [
    {
     "data": {
      "text/plain": [
       "0.1508"
      ]
     },
     "execution_count": 592,
     "metadata": {},
     "output_type": "execute_result"
    }
   ],
   "source": [
    "np.sum(r**2)"
   ]
  },
  {
   "cell_type": "markdown",
   "id": "5a9d8b58",
   "metadata": {},
   "source": [
    "Or equivalently, we can compute the dot product of the residuals."
   ]
  },
  {
   "cell_type": "code",
   "execution_count": 613,
   "id": "34e95173",
   "metadata": {},
   "outputs": [
    {
     "data": {
      "text/plain": [
       "0.0600"
      ]
     },
     "execution_count": 613,
     "metadata": {},
     "output_type": "execute_result"
    }
   ],
   "source": [
    "r @ r"
   ]
  },
  {
   "cell_type": "markdown",
   "id": "3a178fc1",
   "metadata": {},
   "source": [
    "Here's a function that takes a hypothetical vector of coefficients, `beta`, and returns the residual sum of squares, `rss`."
   ]
  },
  {
   "cell_type": "code",
   "execution_count": 594,
   "id": "75ccfe78",
   "metadata": {},
   "outputs": [],
   "source": [
    "def rss_func(beta, X, y):\n",
    "    r = y - X @ beta\n",
    "    return np.dot(r, r)"
   ]
  },
  {
   "cell_type": "markdown",
   "id": "f0c6ccbc",
   "metadata": {},
   "source": [
    "Here's the result for the example."
   ]
  },
  {
   "cell_type": "code",
   "execution_count": 595,
   "id": "c959c412",
   "metadata": {},
   "outputs": [
    {
     "data": {
      "text/plain": [
       "0.1508"
      ]
     },
     "execution_count": 595,
     "metadata": {},
     "output_type": "execute_result"
    }
   ],
   "source": [
    "rss_func(beta, X, y)"
   ]
  },
  {
   "cell_type": "markdown",
   "id": "bdb49914",
   "metadata": {},
   "source": [
    "That function works with the `minimize` function from SciPy to efficiently search for the value of `beta` that minimizes `rss`."
   ]
  },
  {
   "cell_type": "code",
   "execution_count": 596,
   "id": "0a83c136",
   "metadata": {},
   "outputs": [
    {
     "data": {
      "text/plain": [
       "'Optimization terminated successfully.'"
      ]
     },
     "execution_count": 596,
     "metadata": {},
     "output_type": "execute_result"
    }
   ],
   "source": [
    "from scipy.optimize import minimize\n",
    "\n",
    "result = minimize(rss_func, beta, args=(X, y))\n",
    "result.message"
   ]
  },
  {
   "cell_type": "markdown",
   "id": "64d3954c",
   "metadata": {},
   "source": [
    "The message indicates that the iterative search converged to a minimum.\n",
    "`nfev` is the number of function evaluations -- that is, the number of times `minimize` called `rss_func` with different values of `beta`."
   ]
  },
  {
   "cell_type": "code",
   "execution_count": 597,
   "id": "836da723",
   "metadata": {},
   "outputs": [
    {
     "data": {
      "text/plain": [
       "15"
      ]
     },
     "execution_count": 597,
     "metadata": {},
     "output_type": "execute_result"
    }
   ],
   "source": [
    "result.nfev"
   ]
  },
  {
   "cell_type": "markdown",
   "id": "a4fa5a8a",
   "metadata": {},
   "source": [
    "And here's the result, which we'll call `beta_hat` because the conventional notation for this result is $\\hat{\\beta}$, and the caret is almost universally called a \"hat\"."
   ]
  },
  {
   "cell_type": "code",
   "execution_count": 598,
   "id": "b6085609",
   "metadata": {},
   "outputs": [
    {
     "data": {
      "text/plain": [
       "array([0.72, 0.6 ])"
      ]
     },
     "execution_count": 598,
     "metadata": {},
     "output_type": "execute_result"
    }
   ],
   "source": [
    "beta_hat = result.x\n",
    "beta_hat"
   ]
  },
  {
   "cell_type": "markdown",
   "id": "3f6cfbbf",
   "metadata": {},
   "source": [
    "We can confirm that this value of `beta` yields a lower `rss` than the initial guess. "
   ]
  },
  {
   "cell_type": "code",
   "execution_count": 599,
   "id": "cb0fdaf0",
   "metadata": {},
   "outputs": [
    {
     "data": {
      "text/plain": [
       "0.0600"
      ]
     },
     "execution_count": 599,
     "metadata": {},
     "output_type": "execute_result"
    }
   ],
   "source": [
    "rss_func(beta_hat, X, y)"
   ]
  },
  {
   "cell_type": "markdown",
   "id": "27beea77",
   "metadata": {},
   "source": [
    "If we use `beta_hat` to compute fitted values, the result is called `y_hat`."
   ]
  },
  {
   "cell_type": "code",
   "execution_count": 600,
   "id": "1b6e76c6",
   "metadata": {},
   "outputs": [],
   "source": [
    "y_hat = X @ beta_hat"
   ]
  },
  {
   "cell_type": "markdown",
   "id": "c5f15271",
   "metadata": {},
   "source": [
    "And here's what the least squares fit looks like."
   ]
  },
  {
   "cell_type": "code",
   "execution_count": 601,
   "id": "1c46167a",
   "metadata": {},
   "outputs": [
    {
     "data": {
      "image/png": "[encoded data removed]",
      "text/plain": [
       "<Figure size 450x262.5 with 1 Axes>"
      ]
     },
     "metadata": {},
     "output_type": "display_data"
    }
   ],
   "source": [
    "plt.plot(x, y, 'o')\n",
    "plt.plot(x, y_hat)\n",
    "plt.vlines(x, y, y_hat, ls=':', color='gray')\n",
    "decorate(xlabel='x', ylabel='y')"
   ]
  },
  {
   "cell_type": "markdown",
   "id": "17047212",
   "metadata": {},
   "source": [
    "Again, the dotted lines represent the residuals, `r`, and the residual sum of squares is the dot product of `r` with itself."
   ]
  },
  {
   "cell_type": "code",
   "execution_count": 612,
   "id": "87328a3b",
   "metadata": {},
   "outputs": [
    {
     "data": {
      "text/plain": [
       "0.0600"
      ]
     },
     "execution_count": 612,
     "metadata": {},
     "output_type": "execute_result"
    }
   ],
   "source": [
    "r = y - y_hat\n",
    "r @ r"
   ]
  },
  {
   "cell_type": "markdown",
   "id": "1c1159d5",
   "metadata": {},
   "source": [
    "To be honest, minimization is not a terrible way to solve regression problems, and it generalizes easily to other definitions of \"best\" and other kinds of regression.\n",
    "But if we write linear least squared regression as an overconstrained matrix equation, this formulation has an elegant and efficient solution. "
   ]
  },
  {
   "cell_type": "markdown",
   "id": "b846bfbf",
   "metadata": {},
   "source": [
    "## Projection\n",
    "\n",
    "Now let's do some linear algebra.\n",
    "We'll pull out the columns of the design matrix, `X`, as three-dimensional vectors `v1` and `v2`."
   ]
  },
  {
   "cell_type": "code",
   "execution_count": 602,
   "id": "ad281967",
   "metadata": {},
   "outputs": [
    {
     "data": {
      "text/plain": [
       "array([1., 1., 1.])"
      ]
     },
     "execution_count": 602,
     "metadata": {},
     "output_type": "execute_result"
    }
   ],
   "source": [
    "v1, v2 = np.transpose(X)\n",
    "v1"
   ]
  },
  {
   "cell_type": "code",
   "execution_count": 603,
   "id": "1f0ad4c8",
   "metadata": {},
   "outputs": [
    {
     "data": {
      "text/plain": [
       "array([2.1, 1.1, 0.1])"
      ]
     },
     "execution_count": 603,
     "metadata": {},
     "output_type": "execute_result"
    }
   ],
   "source": [
    "v2"
   ]
  },
  {
   "cell_type": "markdown",
   "id": "79d610b0",
   "metadata": {},
   "source": [
    "The linear combinations of these vector span a two dimensional plane in three dimensions.\n",
    "The following figure shows this plane.\n",
    "\n",
    "It also shows the response variable, `y`, which we can also think of as a vector in three dimensions, as well as the vector of fitted values, `y_hat`."
   ]
  },
  {
   "cell_type": "code",
   "execution_count": 604,
   "id": "29a70e68",
   "metadata": {},
   "outputs": [],
   "source": [
    "import numpy as np\n",
    "import matplotlib.pyplot as plt\n",
    "from mpl_toolkits.mplot3d import Axes3D\n",
    "\n",
    "\n",
    "def plot_vectors(\n",
    "    vectors,\n",
    "    origin=None,\n",
    "    start=0,\n",
    "    end=None,\n",
    "    scale=1,\n",
    "    labels=None,\n",
    "    label_pos=None,\n",
    "    **options\n",
    "):\n",
    "    \"\"\"Plot a set of vectors in 2D or 3D.\n",
    "\n",
    "    Args:\n",
    "        vectors: list of vectors or array with one row per vector (shape: (N, 2) or (N, 3))\n",
    "        origin: list of vectors or array with one row per vector (default: all at (0,0) or (0,0,0))\n",
    "        start: integer slice index\n",
    "        end: integer slice index\n",
    "        scale: factor to multiply vectors\n",
    "        labels: list of string labels\n",
    "        label_pos: list of locations as integer clock positions (only for 2D)\n",
    "        options: passed to plt.quiver\n",
    "    \"\"\"\n",
    "    vectors = np.asarray(vectors) * scale\n",
    "    dim = vectors.shape[1]  # Determine 2D vs. 3D\n",
    "\n",
    "    if origin is None:\n",
    "        origin = np.zeros_like(vectors)\n",
    "    else:\n",
    "        origin = np.asarray(origin)\n",
    "\n",
    "    underride(\n",
    "        options,\n",
    "        color=\"C0\",\n",
    "        alpha=0.6,\n",
    "    )\n",
    "\n",
    "    ax = plt.gca()\n",
    "    if dim == 2:\n",
    "        # 2D case using plt.quiver\n",
    "        us, vs = vectors[start:end].T\n",
    "        xs, ys = origin[start:end].T\n",
    "\n",
    "        underride(\n",
    "            options,\n",
    "            angles=\"xy\",\n",
    "            scale_units=\"xy\",\n",
    "            scale=1,\n",
    "        )\n",
    "\n",
    "        ax.scatter(xs, ys, s=0)\n",
    "        ax.scatter(xs + us, ys + vs, s=0)\n",
    "        ax.quiver(xs, ys, us, vs, **options)\n",
    "\n",
    "    elif dim == 3:\n",
    "        # 3D case using ax.quiver\n",
    "        us, vs, ws = vectors[start:end].T\n",
    "        xs, ys, zs = origin[start:end].T\n",
    "\n",
    "        underride(\n",
    "            options,\n",
    "            arrow_length_ratio=0.1,\n",
    "        )\n",
    "\n",
    "        ax.scatter(xs, ys, zs, s=0)\n",
    "        ax.scatter(xs + us, ys + vs, zs + zs, s=0)\n",
    "        ax.quiver(xs, ys, zs, us, vs, ws, **options)\n",
    "\n",
    "    else:\n",
    "        raise ValueError(\"Only 2D and 3D vectors are supported.\")"
   ]
  },
  {
   "cell_type": "code",
   "execution_count": 605,
   "id": "d83d2800",
   "metadata": {},
   "outputs": [],
   "source": [
    "def plot_plane(v1, v2, origin=None, **options):\n",
    "    \"\"\"Plot a shaded plane spanned by two vectors in 3D.\n",
    "\n",
    "    Args:\n",
    "        v1: First vector defining the plane (array-like, shape (3,))\n",
    "        v2: Second vector defining the plane (array-like, shape (3,))\n",
    "        origin: Origin point of the plane (default: [0, 0, 0])\n",
    "        options: Passed to plot_surface (e.g., color, alpha)\n",
    "    \"\"\"\n",
    "    v1, v2 = np.asarray(v1), np.asarray(v2)\n",
    "\n",
    "    if len(v1) != 3 or len(v2) != 3:\n",
    "        raise ValueError(\"plot_plane requires 3D vectors.\")\n",
    "\n",
    "    if origin is None:\n",
    "        origin = np.zeros(3)\n",
    "    else:\n",
    "        origin = np.asarray(origin)\n",
    "\n",
    "    # Generate a mesh grid for the plane\n",
    "    u = [0, 1]\n",
    "    v = [0, 1]\n",
    "    U, V = np.meshgrid(u, v)\n",
    "\n",
    "    # Plane equation: P = origin + U * v1 + V * v2\n",
    "    X = origin[0] + U * v1[0] + V * v2[0]\n",
    "    Y = origin[1] + U * v1[1] + V * v2[1]\n",
    "    Z = origin[2] + U * v1[2] + V * v2[2]\n",
    "\n",
    "    underride(options, color=\"gray\", alpha=0.3)\n",
    "\n",
    "    # Plot the plane\n",
    "    ax = plt.gca()\n",
    "    ax.plot_surface(X, Y, Z, **options)"
   ]
  },
  {
   "cell_type": "code",
   "execution_count": 606,
   "id": "ab84c0ae",
   "metadata": {},
   "outputs": [
    {
     "data": {
      "image/png": "[encoded data removed]",
      "text/plain": [
       "<Figure size 450x262.5 with 1 Axes>"
      ]
     },
     "metadata": {},
     "output_type": "display_data"
    }
   ],
   "source": [
    "fig = plt.figure()\n",
    "ax = fig.add_subplot(111, projection=\"3d\")\n",
    "\n",
    "plot_plane(v1, v2, alpha=0.08)\n",
    "plot_vectors([v1, v2], color='C1')\n",
    "plot_vectors([y], alpha=1)\n",
    "plot_vectors([y_hat], color='gray')\n",
    "\n",
    "lim = [0, 2.7]\n",
    "decorate(xlim=lim, ylim=lim, zlim=[0, 1], xlabel='i', ylabel='j', zlabel='k')"
   ]
  },
  {
   "cell_type": "markdown",
   "id": "42effb10",
   "metadata": {},
   "source": [
    "`y` does not fall in the plane, which means it cannot be expressed as a linear combination of the columns of `X`.\n",
    "\n",
    "But `y_hat` *does* fall in the plane, because it is a combination of the columns of `X` -- specifically, `y_hat = X @ beta`.\n",
    "\n",
    "The difference between `y` and `y_hat` is the residual, `r`, which we can also think of as a vector in this space.\n",
    "This vector has two important properties.\n",
    "First, the length of `r`, squared, is the residual sum of squares."
   ]
  },
  {
   "cell_type": "code",
   "execution_count": 616,
   "id": "98faa18d",
   "metadata": {},
   "outputs": [
    {
     "data": {
      "text/plain": [
       "0.0600"
      ]
     },
     "execution_count": 616,
     "metadata": {},
     "output_type": "execute_result"
    }
   ],
   "source": [
    "norm(r) ** 2"
   ]
  },
  {
   "cell_type": "markdown",
   "id": "bebd8550",
   "metadata": {},
   "source": [
    "Second, `r` is perpendicular to the columns of `X`, which we can confirm by showing that their dot product is close to zero."
   ]
  },
  {
   "cell_type": "code",
   "execution_count": 614,
   "id": "2055f678",
   "metadata": {},
   "outputs": [
    {
     "data": {
      "text/plain": [
       "array([-7.9582e-09, -7.7054e-09])"
      ]
     },
     "execution_count": 614,
     "metadata": {},
     "output_type": "execute_result"
    }
   ],
   "source": [
    "X.T @ r"
   ]
  },
  {
   "cell_type": "markdown",
   "id": "d9669289",
   "metadata": {},
   "source": [
    "This result means that `y_hat`, the fitted values that minimize RSS, is the **projection** of `y` onto the plane defined by `v1` and `v2` -- that is, the vector in the plane that's closest to `y`.\n",
    "\n",
    "This insight is the key to an efficient way to compute `y_hat`, using QR decomposition.\n"
   ]
  },
  {
   "cell_type": "markdown",
   "id": "020024ea",
   "metadata": {},
   "source": [
    "## QR Decomposition\n",
    "\n",
    "QR composition is similar to LU decomposition, which we used to solve systems of linear equations efficiently.\n",
    "In LU decomposition, we express a matrix, `A`, as the product of two matrices, one lower-diagonal and one upper-diagonal.\n",
    "\n",
    "In QR decomposition, we'll express the design matrix, `X`, as the product of two matrices, one **orthonormal** and one upper diagonal.\n",
    "\n",
    "To explain what an orthonormal matrix is, and why it is useful, we'll use the NumPy function `qr` to compute the decomposition.\n",
    "In the next section we'll see how this function works."
   ]
  },
  {
   "cell_type": "code",
   "execution_count": null,
   "id": "19f205d0",
   "metadata": {},
   "outputs": [],
   "source": [
    "Q, R = np.linalg.qr(X)"
   ]
  },
  {
   "cell_type": "markdown",
   "id": "9ffab483",
   "metadata": {},
   "source": [
    "The results are two matrices. `Q` is the same size as `X`."
   ]
  },
  {
   "cell_type": "code",
   "execution_count": 88,
   "id": "b035d93e",
   "metadata": {},
   "outputs": [
    {
     "data": {
      "text/plain": [
       "array([[-5.7735e-01,  7.0711e-01],\n",
       "       [-5.7735e-01,  5.5511e-17],\n",
       "       [-5.7735e-01, -7.0711e-01]])"
      ]
     },
     "execution_count": 88,
     "metadata": {},
     "output_type": "execute_result"
    }
   ],
   "source": [
    "Q"
   ]
  },
  {
   "cell_type": "markdown",
   "id": "5224520a",
   "metadata": {},
   "source": [
    "And `R` has the same number of columns as `X`, but it's square and upper triangular."
   ]
  },
  {
   "cell_type": "code",
   "execution_count": 89,
   "id": "d4f7c267",
   "metadata": {},
   "outputs": [
    {
     "data": {
      "text/plain": [
       "array([[-1.7321, -1.9053],\n",
       "       [ 0.    ,  1.4142]])"
      ]
     },
     "execution_count": 89,
     "metadata": {},
     "output_type": "execute_result"
    }
   ],
   "source": [
    "R"
   ]
  },
  {
   "cell_type": "markdown",
   "id": "3d6bed1e",
   "metadata": {},
   "source": [
    "First let's confirm that $Q R = X$. "
   ]
  },
  {
   "cell_type": "code",
   "execution_count": 617,
   "id": "888a1727",
   "metadata": {},
   "outputs": [
    {
     "data": {
      "text/plain": [
       "True"
      ]
     },
     "execution_count": 617,
     "metadata": {},
     "output_type": "execute_result"
    }
   ],
   "source": [
    "np.allclose(Q @ R, X)"
   ]
  },
  {
   "cell_type": "markdown",
   "id": "426456d7",
   "metadata": {},
   "source": [
    "Now if `Q` is orthonormal, the \"ortho\" part means that the columns are perpendicular to each other, and the \"normal\" part means the norm of the columns is `1`.\n",
    "We can confirm both by computing the dot product of the columns with themselves."
   ]
  },
  {
   "cell_type": "code",
   "execution_count": 618,
   "id": "2ca90188",
   "metadata": {},
   "outputs": [
    {
     "data": {
      "text/latex": [
       "$\\displaystyle \\left[\\begin{matrix}1.0 & -1.16219581322268 \\cdot 10^{-16}\\\\-1.16219581322268 \\cdot 10^{-16} & 1.0\\end{matrix}\\right]$"
      ],
      "text/plain": [
       "Matrix([\n",
       "[                  1.0, -1.16219581322268e-16],\n",
       "[-1.16219581322268e-16,                   1.0]])"
      ]
     },
     "execution_count": 618,
     "metadata": {},
     "output_type": "execute_result"
    }
   ],
   "source": [
    "Matrix(Q.T @ Q)"
   ]
  },
  {
   "cell_type": "markdown",
   "id": "c3d478c1",
   "metadata": {},
   "source": [
    "The off-diagonal elements are close to zero, which confirms that the columns are orthogonal to each other, and the diagonal elements are 1, which confirms that their norm is 1.\n",
    "\n",
    "But also notice that the product of $Q^T$ and $Q$ is the identity matrix, $I$, which means that $Q^T$ is the inverse of $Q$.\n",
    "\n",
    "And *that* means we can solve the equation \n",
    "\n",
    "$Q \\beta' = y$ \n",
    "\n",
    "by multiplying both sides by $Q^T$, which yields \n",
    "\n",
    "$Q^T Q \\beta' = Q^T y$, \n",
    "\n",
    "which yields \n",
    "\n",
    "$\\beta' = Q^T y$."
   ]
  },
  {
   "cell_type": "code",
   "execution_count": 92,
   "id": "5b35eb9a",
   "metadata": {},
   "outputs": [
    {
     "data": {
      "text/plain": [
       "array([-2.3902,  0.8485])"
      ]
     },
     "execution_count": 92,
     "metadata": {},
     "output_type": "execute_result"
    }
   ],
   "source": [
    "beta_prime = Q.T @ y\n",
    "beta_prime"
   ]
  },
  {
   "cell_type": "markdown",
   "id": "e2b86f14",
   "metadata": {},
   "source": [
    "And why would we want to solve $Q \\beta' = y$?\n",
    "Because the result is the coordinates of $\\hat{y}$ in the span of $Q$.\n",
    "We can confirm that by multiplying those coordinates by the columns of $Q$."
   ]
  },
  {
   "cell_type": "code",
   "execution_count": 93,
   "id": "5643b520",
   "metadata": {},
   "outputs": [
    {
     "data": {
      "text/plain": [
       "array([1.98, 1.38, 0.78])"
      ]
     },
     "execution_count": 93,
     "metadata": {},
     "output_type": "execute_result"
    }
   ],
   "source": [
    "y_hat = Q @ beta_prime\n",
    "y_hat"
   ]
  },
  {
   "cell_type": "markdown",
   "id": "c57e43a6",
   "metadata": {},
   "source": [
    "And the result is the same as the `y_hat` we computed by minimizing RSS.\n",
    "Combining the last two steps, we could have computed."
   ]
  },
  {
   "cell_type": "code",
   "execution_count": 619,
   "id": "d757d8f0",
   "metadata": {},
   "outputs": [
    {
     "data": {
      "text/plain": [
       "array([1.98, 1.38, 0.78])"
      ]
     },
     "execution_count": 619,
     "metadata": {},
     "output_type": "execute_result"
    }
   ],
   "source": [
    "y_hat = Q @ Q.T @ y\n",
    "y_hat"
   ]
  },
  {
   "cell_type": "markdown",
   "id": "d46d49b4",
   "metadata": {},
   "source": [
    "Instead of multiplying `y` by `Q.T` first, we could multiply `Q` and `Q.T` first."
   ]
  },
  {
   "cell_type": "code",
   "execution_count": 94,
   "id": "81ab4d33",
   "metadata": {},
   "outputs": [
    {
     "data": {
      "text/plain": [
       "array([[ 0.8333,  0.3333, -0.1667],\n",
       "       [ 0.3333,  0.3333,  0.3333],\n",
       "       [-0.1667,  0.3333,  0.8333]])"
      ]
     },
     "execution_count": 94,
     "metadata": {},
     "output_type": "execute_result"
    }
   ],
   "source": [
    "P = Q @ Q.T\n",
    "P"
   ]
  },
  {
   "cell_type": "markdown",
   "id": "cc0f9f1f",
   "metadata": {},
   "source": [
    "The result is a projection matrix that projects any vector into the span of `Q`."
   ]
  },
  {
   "cell_type": "code",
   "execution_count": 95,
   "id": "b85993ce",
   "metadata": {},
   "outputs": [
    {
     "data": {
      "text/plain": [
       "array([1.98, 1.38, 0.78])"
      ]
     },
     "execution_count": 95,
     "metadata": {},
     "output_type": "execute_result"
    }
   ],
   "source": [
    "y_hat = P @ y\n",
    "y_hat"
   ]
  },
  {
   "cell_type": "markdown",
   "id": "16639e9e",
   "metadata": {},
   "source": [
    "Normally we would not compute `P` explicitly, but it is useful for confirming an important property of `Q`, which is that it has the same span as `X`.\n",
    "We can show that by projecting the columns of `X` onto `Q`."
   ]
  },
  {
   "cell_type": "code",
   "execution_count": 621,
   "id": "00f285ca",
   "metadata": {},
   "outputs": [
    {
     "data": {
      "text/plain": [
       "array([[1. , 2.1],\n",
       "       [1. , 1.1],\n",
       "       [1. , 0.1]])"
      ]
     },
     "execution_count": 621,
     "metadata": {},
     "output_type": "execute_result"
    }
   ],
   "source": [
    "P @ X"
   ]
  },
  {
   "cell_type": "markdown",
   "id": "e16434f1",
   "metadata": {},
   "source": [
    "And confirming that the result is `X`."
   ]
  },
  {
   "cell_type": "code",
   "execution_count": 622,
   "id": "59f72964",
   "metadata": {},
   "outputs": [
    {
     "data": {
      "text/plain": [
       "True"
      ]
     },
     "execution_count": 622,
     "metadata": {},
     "output_type": "execute_result"
    }
   ],
   "source": [
    "np.allclose(P @ X, X)"
   ]
  },
  {
   "cell_type": "markdown",
   "id": "0638de81",
   "metadata": {},
   "source": [
    "Which shows that the plane spanned by `Q` is the same as the plane spanned by `X`.\n",
    "Here's what that looks like in the diagram."
   ]
  },
  {
   "cell_type": "code",
   "execution_count": 98,
   "id": "d7150b2c",
   "metadata": {},
   "outputs": [],
   "source": [
    "q1, q2 = Q.T"
   ]
  },
  {
   "cell_type": "code",
   "execution_count": 99,
   "id": "f104d567",
   "metadata": {},
   "outputs": [
    {
     "data": {
      "image/png": "[encoded data removed]",
      "text/plain": [
       "<Figure size 450x262.5 with 1 Axes>"
      ]
     },
     "metadata": {},
     "output_type": "display_data"
    }
   ],
   "source": [
    "fig = plt.figure()\n",
    "ax = fig.add_subplot(111, projection=\"3d\")\n",
    "\n",
    "plot_plane(v1, v2, alpha=0.08)\n",
    "plot_plane(-q1, q2, alpha=0.08)\n",
    "plot_vectors([v1, v2], color='C1')\n",
    "plot_vectors([-q1, q2], color='C4', alpha=1)\n",
    "\n",
    "lim = [0, 2.5]\n",
    "decorate(xlim=lim, ylim=[-1, 2.7], zlim=[0, 1], xlabel='i', ylabel='j', zlabel='k')"
   ]
  },
  {
   "cell_type": "markdown",
   "id": "4160181a",
   "metadata": {},
   "source": [
    "Because of the limitations of 3D visualization, it might not be obvious that the two shaded areas are in the same plane -- but they are.\n",
    "\n",
    "This property is important because it means that projecting `y` onto `Q` is the same as projecting `y` onto `X`, which minimizes RSS -- so we are almost there!\n",
    "\n",
    "`beta_prime` contains the coordinates of `y_hat` in terms of the columns of `Q`, so the last step is to transform them into the coordinates of `y_hat` in terms of the columns of `X`."
   ]
  },
  {
   "cell_type": "markdown",
   "id": "c2b4b1a9",
   "metadata": {},
   "source": [
    "So how do we do that?\n",
    "\n",
    "What we want is a $\\beta$ such that `X \\beta = \\hat{y}`, but what we have is a $\\beta'$ such that `Q \\beta' = \\hat{y}`.\n",
    "Setting the left sides equal, we have\n",
    "\n",
    "$X \\beta = Q \\beta'$\n",
    "\n",
    "Replacing $X$ with $QR$ we have\n",
    "\n",
    "$Q R \\beta = Q \\beta'$\n",
    "\n",
    "Multiplying through by $Q^{-1}$, we can cancel $Q$ on both sides, leaving\n",
    "\n",
    "$R \\beta = \\beta'$\n",
    "\n",
    "So we can find $\\beta$ by solving this equation.\n",
    "Since $R$ is upper triangular, we can use `solve_triangular`, which is more efficient that the more general `solve` function."
   ]
  },
  {
   "cell_type": "code",
   "execution_count": 100,
   "id": "06c37d79",
   "metadata": {},
   "outputs": [
    {
     "data": {
      "text/plain": [
       "array([0.72, 0.6 ])"
      ]
     },
     "execution_count": 100,
     "metadata": {},
     "output_type": "execute_result"
    }
   ],
   "source": [
    "from scipy.linalg import solve_triangular\n",
    "\n",
    "beta_qr = solve_triangular(R, beta_prime, lower=False)\n",
    "beta_qr"
   ]
  },
  {
   "cell_type": "markdown",
   "id": "42bd33ea",
   "metadata": {},
   "source": [
    "The argument `lower=False` indicates that `R` is upper triangular.\n",
    "And the result is the same as the `beta` we computed by minimization.\n",
    "\n",
    "It took a few steps to get here, but now we can write the whole process in just two lines."
   ]
  },
  {
   "cell_type": "code",
   "execution_count": 625,
   "id": "4c2bb1c9",
   "metadata": {},
   "outputs": [],
   "source": [
    "def lstsq(X, y):\n",
    "    Q, R = np.linalg.qr(X)\n",
    "    beta = solve_triangular(R, Q.T @ y, lower=False)\n",
    "    return beta"
   ]
  },
  {
   "cell_type": "markdown",
   "id": "6f067916",
   "metadata": {},
   "source": [
    "And we get the same result."
   ]
  },
  {
   "cell_type": "code",
   "execution_count": 626,
   "id": "5cfbcc4a",
   "metadata": {},
   "outputs": [
    {
     "data": {
      "text/plain": [
       "array([0.72, 0.6 ])"
      ]
     },
     "execution_count": 626,
     "metadata": {},
     "output_type": "execute_result"
    }
   ],
   "source": [
    "lstsq(X, y)"
   ]
  },
  {
   "cell_type": "markdown",
   "id": "ff0f782c",
   "metadata": {},
   "source": [
    "SciPy provides a similar function with addition capabilities."
   ]
  },
  {
   "cell_type": "code",
   "execution_count": 628,
   "id": "27875856",
   "metadata": {},
   "outputs": [],
   "source": [
    "import scipy\n",
    "\n",
    "beta, _, rank, _ = scipy.linalg.lstsq(X, y, lapack_driver='gelsy')"
   ]
  },
  {
   "cell_type": "markdown",
   "id": "ef20a517",
   "metadata": {},
   "source": [
    "The argument `lapack_driver='gelsy'` specifies which function to use.\n",
    "The \"ge\" part of the name means it works with general matrices -- not necessarily symmetric, for example.\n",
    "The \"ls\" part means it computes least squares.\n",
    "And \"y\" is the arbitrary name for the variant that uses QR decomposition.\n",
    "\n",
    "The first return value is `beta` again. "
   ]
  },
  {
   "cell_type": "code",
   "execution_count": 104,
   "id": "81f860ec",
   "metadata": {},
   "outputs": [
    {
     "data": {
      "text/plain": [
       "array([0.72, 0.6 ])"
      ]
     },
     "execution_count": 104,
     "metadata": {},
     "output_type": "execute_result"
    }
   ],
   "source": [
    "beta"
   ]
  },
  {
   "cell_type": "markdown",
   "id": "ee57f710",
   "metadata": {},
   "source": [
    "The second and fourth return values are used by other solvers, but not `gelsy`.\n",
    "And the third return value is the rank of the design matrix, which is usually the number of columns in `X`."
   ]
  },
  {
   "cell_type": "code",
   "execution_count": 105,
   "id": "3fd07a06",
   "metadata": {},
   "outputs": [
    {
     "data": {
      "text/plain": [
       "2"
      ]
     },
     "execution_count": 105,
     "metadata": {},
     "output_type": "execute_result"
    }
   ],
   "source": [
    "rank"
   ]
  },
  {
   "cell_type": "markdown",
   "id": "2e40b91b",
   "metadata": {},
   "source": [
    "But if some of the columns are linear combinations of others, the rank might be lower.\n",
    "We'll see an example of that soon, but first we have a loose end to tie up -- how do we compute the QR decomposition?"
   ]
  },
  {
   "cell_type": "markdown",
   "id": "629f4e10",
   "metadata": {},
   "source": [
    "## Orthogonalization"
   ]
  },
  {
   "cell_type": "code",
   "execution_count": 41,
   "id": "d7916c9b",
   "metadata": {},
   "outputs": [
    {
     "data": {
      "text/plain": [
       "1.7321"
      ]
     },
     "execution_count": 41,
     "metadata": {},
     "output_type": "execute_result"
    }
   ],
   "source": [
    "from utils import norm, normalize\n",
    "\n",
    "v1, v2 = X.T\n",
    "norm(v1)"
   ]
  },
  {
   "cell_type": "code",
   "execution_count": 42,
   "id": "36c005f7",
   "metadata": {},
   "outputs": [
    {
     "data": {
      "text/plain": [
       "array([0.5774, 0.5774, 0.5774])"
      ]
     },
     "execution_count": 42,
     "metadata": {},
     "output_type": "execute_result"
    }
   ],
   "source": [
    "v1_hat = normalize(v1)\n",
    "v1_hat"
   ]
  },
  {
   "cell_type": "code",
   "execution_count": 43,
   "id": "32c9b94c",
   "metadata": {},
   "outputs": [],
   "source": [
    "v2_perp = v2 - vector_projection(v2, v1)"
   ]
  },
  {
   "cell_type": "code",
   "execution_count": 44,
   "id": "3b1b8cb0",
   "metadata": {},
   "outputs": [
    {
     "data": {
      "text/plain": [
       "array([ 0.7071,  0.    , -0.7071])"
      ]
     },
     "execution_count": 44,
     "metadata": {},
     "output_type": "execute_result"
    }
   ],
   "source": [
    "v2_hat = normalize(v2_perp)\n",
    "v2_hat"
   ]
  },
  {
   "cell_type": "code",
   "execution_count": 45,
   "id": "b0bb9ce9",
   "metadata": {},
   "outputs": [
    {
     "data": {
      "text/plain": [
       "0.0000"
      ]
     },
     "execution_count": 45,
     "metadata": {},
     "output_type": "execute_result"
    }
   ],
   "source": [
    "v1 @ v2_perp"
   ]
  },
  {
   "cell_type": "code",
   "execution_count": 46,
   "id": "cd286857",
   "metadata": {},
   "outputs": [
    {
     "data": {
      "text/plain": [
       "array([[ 0.5774,  0.7071],\n",
       "       [ 0.5774,  0.    ],\n",
       "       [ 0.5774, -0.7071]])"
      ]
     },
     "execution_count": 46,
     "metadata": {},
     "output_type": "execute_result"
    }
   ],
   "source": [
    "Q = np.column_stack([v1_hat, v2_hat])\n",
    "Q"
   ]
  },
  {
   "cell_type": "code",
   "execution_count": 47,
   "id": "a58dbb1c",
   "metadata": {},
   "outputs": [
    {
     "data": {
      "text/plain": [
       "array([[ 1.0000e+00, -1.7796e-17],\n",
       "       [-1.7796e-17,  1.0000e+00]])"
      ]
     },
     "execution_count": 47,
     "metadata": {},
     "output_type": "execute_result"
    }
   ],
   "source": [
    "Q.T @ Q"
   ]
  },
  {
   "cell_type": "code",
   "execution_count": 106,
   "id": "00b8abab",
   "metadata": {},
   "outputs": [],
   "source": [
    "def gram_schmidt(X):\n",
    "    basis = []\n",
    "    for v in X.T:\n",
    "        for b in basis:\n",
    "            v -= vector_projection(v, b)\n",
    "        basis.append(normalize(v))\n",
    "    return np.transpose(basis)"
   ]
  },
  {
   "cell_type": "code",
   "execution_count": 107,
   "id": "732a629b",
   "metadata": {},
   "outputs": [
    {
     "data": {
      "text/plain": [
       "array([[ 0.5774,  0.7071],\n",
       "       [ 0.5774,  0.    ],\n",
       "       [ 0.5774, -0.7071]])"
      ]
     },
     "execution_count": 107,
     "metadata": {},
     "output_type": "execute_result"
    }
   ],
   "source": [
    "gram_schmidt(X)"
   ]
  },
  {
   "cell_type": "code",
   "execution_count": null,
   "id": "36d8042a",
   "metadata": {},
   "outputs": [],
   "source": [
    "def gram_schmidt(X):\n",
    "    \"\"\"\n",
    "    Classical Gram-Schmidt.\n",
    "\n",
    "    Args:\n",
    "        X: array (m, n) with n input vectors as columns.\n",
    "\n",
    "    Returns:\n",
    "        Q: (m, n) with orthonormal columns\n",
    "        R: (n, n) upper triangular\n",
    "    \"\"\"\n",
    "    m, n = X.shape\n",
    "    Q = np.zeros((m, n))\n",
    "    R = np.zeros((n, n))\n",
    "\n",
    "    for j in range(n):\n",
    "        v = X[:, j].copy()\n",
    "        for i in range(j):\n",
    "            R[i, j] = np.dot(Q[:, i], X[:, j])\n",
    "            v = v - R[i, j] * Q[:, i]\n",
    "        R[j, j] = np.linalg.norm(v)\n",
    "        Q[:, j] = v / R[j, j]\n",
    "    \n",
    "    return Q, R"
   ]
  },
  {
   "cell_type": "code",
   "execution_count": 57,
   "id": "20ff5758",
   "metadata": {},
   "outputs": [
    {
     "data": {
      "text/plain": [
       "array([[ 5.7735e-01,  7.0711e-01],\n",
       "       [ 5.7735e-01, -1.5701e-16],\n",
       "       [ 5.7735e-01, -7.0711e-01]])"
      ]
     },
     "execution_count": 57,
     "metadata": {},
     "output_type": "execute_result"
    }
   ],
   "source": [
    "Q, R = gram_schmidt(X)\n",
    "Q"
   ]
  },
  {
   "cell_type": "code",
   "execution_count": 49,
   "id": "06862fae",
   "metadata": {},
   "outputs": [
    {
     "data": {
      "text/plain": [
       "array([[1.7321, 1.9053],\n",
       "       [0.    , 1.4142]])"
      ]
     },
     "execution_count": 49,
     "metadata": {},
     "output_type": "execute_result"
    }
   ],
   "source": [
    "R"
   ]
  },
  {
   "cell_type": "code",
   "execution_count": 58,
   "id": "be54a90d",
   "metadata": {},
   "outputs": [
    {
     "data": {
      "text/plain": [
       "True"
      ]
     },
     "execution_count": 58,
     "metadata": {},
     "output_type": "execute_result"
    }
   ],
   "source": [
    "np.allclose(Q @ R, X)"
   ]
  },
  {
   "cell_type": "markdown",
   "id": "f3460abb",
   "metadata": {},
   "source": [
    "## Putting it together"
   ]
  },
  {
   "cell_type": "markdown",
   "id": "5afcf17d",
   "metadata": {},
   "source": [
    "## Multiple Regression"
   ]
  },
  {
   "cell_type": "code",
   "execution_count": 308,
   "id": "c380f0ae",
   "metadata": {},
   "outputs": [],
   "source": [
    "download('https://github.com/AllenDowney/GssExtract/raw/main/data/interim/gss_extract_2024_1.hdf')"
   ]
  },
  {
   "cell_type": "code",
   "execution_count": 309,
   "id": "5ebe23f6",
   "metadata": {},
   "outputs": [],
   "source": [
    "gss = pd.read_hdf('gss_extract_2024_1.hdf')"
   ]
  },
  {
   "cell_type": "code",
   "execution_count": 420,
   "id": "98dc6fc9",
   "metadata": {},
   "outputs": [
    {
     "data": {
      "text/html": [
       "<div>\n",
       "<style scoped>\n",
       "    .dataframe tbody tr th:only-of-type {\n",
       "        vertical-align: middle;\n",
       "    }\n",
       "\n",
       "    .dataframe tbody tr th {\n",
       "        vertical-align: top;\n",
       "    }\n",
       "\n",
       "    .dataframe thead th {\n",
       "        text-align: right;\n",
       "    }\n",
       "</style>\n",
       "<table border=\"1\" class=\"dataframe\">\n",
       "  <thead>\n",
       "    <tr style=\"text-align: right;\">\n",
       "      <th></th>\n",
       "      <th>polviews</th>\n",
       "      <th>year</th>\n",
       "      <th>cohort</th>\n",
       "      <th>age</th>\n",
       "    </tr>\n",
       "  </thead>\n",
       "  <tbody>\n",
       "    <tr>\n",
       "      <th>count</th>\n",
       "      <td>65239.0000</td>\n",
       "      <td>65239.0000</td>\n",
       "      <td>65239.0000</td>\n",
       "      <td>65239.0000</td>\n",
       "    </tr>\n",
       "    <tr>\n",
       "      <th>mean</th>\n",
       "      <td>4.1086</td>\n",
       "      <td>1999.9547</td>\n",
       "      <td>1954.8059</td>\n",
       "      <td>45.1488</td>\n",
       "    </tr>\n",
       "    <tr>\n",
       "      <th>std</th>\n",
       "      <td>1.4057</td>\n",
       "      <td>15.2522</td>\n",
       "      <td>21.9236</td>\n",
       "      <td>17.2269</td>\n",
       "    </tr>\n",
       "    <tr>\n",
       "      <th>min</th>\n",
       "      <td>1.0000</td>\n",
       "      <td>1974.0000</td>\n",
       "      <td>1885.0000</td>\n",
       "      <td>18.0000</td>\n",
       "    </tr>\n",
       "    <tr>\n",
       "      <th>25%</th>\n",
       "      <td>3.0000</td>\n",
       "      <td>1987.0000</td>\n",
       "      <td>1941.0000</td>\n",
       "      <td>31.0000</td>\n",
       "    </tr>\n",
       "    <tr>\n",
       "      <th>50%</th>\n",
       "      <td>4.0000</td>\n",
       "      <td>2000.0000</td>\n",
       "      <td>1956.0000</td>\n",
       "      <td>43.0000</td>\n",
       "    </tr>\n",
       "    <tr>\n",
       "      <th>75%</th>\n",
       "      <td>5.0000</td>\n",
       "      <td>2014.0000</td>\n",
       "      <td>1969.0000</td>\n",
       "      <td>58.0000</td>\n",
       "    </tr>\n",
       "    <tr>\n",
       "      <th>max</th>\n",
       "      <td>7.0000</td>\n",
       "      <td>2024.0000</td>\n",
       "      <td>2006.0000</td>\n",
       "      <td>90.0000</td>\n",
       "    </tr>\n",
       "  </tbody>\n",
       "</table>\n",
       "</div>"
      ],
      "text/plain": [
       "        polviews       year     cohort        age\n",
       "count 65239.0000 65239.0000 65239.0000 65239.0000\n",
       "mean      4.1086  1999.9547  1954.8059    45.1488\n",
       "std       1.4057    15.2522    21.9236    17.2269\n",
       "min       1.0000  1974.0000  1885.0000    18.0000\n",
       "25%       3.0000  1987.0000  1941.0000    31.0000\n",
       "50%       4.0000  2000.0000  1956.0000    43.0000\n",
       "75%       5.0000  2014.0000  1969.0000    58.0000\n",
       "max       7.0000  2024.0000  2006.0000    90.0000"
      ]
     },
     "execution_count": 420,
     "metadata": {},
     "output_type": "execute_result"
    }
   ],
   "source": [
    "columns = ['polviews', 'year', 'cohort']\n",
    "subset = gss.dropna(subset=columns)[columns]\n",
    "subset['age'] = subset['year'] - subset['cohort']\n",
    "subset.describe()"
   ]
  },
  {
   "cell_type": "code",
   "execution_count": 421,
   "id": "ef78702f",
   "metadata": {},
   "outputs": [],
   "source": [
    "import numpy as np\n",
    "\n",
    "def add_constant(X):\n",
    "    \"\"\"Add an intercept column of ones to a 1D or 2D array-like X.\n",
    "    \n",
    "    Args:\n",
    "        X: array-like, shape (n,) or (n, m)\n",
    "    \n",
    "    Returns:\n",
    "        array of shape (n, m+1) with a column of ones prepended\n",
    "    \"\"\"\n",
    "    X = np.asarray(X)\n",
    "\n",
    "    # If X is 1D, make it a column vector\n",
    "    if X.ndim == 1:\n",
    "        X = X[:, np.newaxis]\n",
    "\n",
    "    n = X.shape[0]\n",
    "    ones = np.ones((n, 1))\n",
    "    return np.column_stack([ones, X])\n"
   ]
  },
  {
   "cell_type": "code",
   "execution_count": 422,
   "id": "0da8fada",
   "metadata": {},
   "outputs": [],
   "source": [
    "response = 'polviews'\n",
    "y = subset[response]"
   ]
  },
  {
   "cell_type": "code",
   "execution_count": 423,
   "id": "b73bb7c6",
   "metadata": {},
   "outputs": [],
   "source": [
    "predictor = 'age'\n",
    "means_age = subset.groupby(predictor)[response].mean()"
   ]
  },
  {
   "cell_type": "code",
   "execution_count": 424,
   "id": "374216ee",
   "metadata": {},
   "outputs": [
    {
     "data": {
      "image/png": "[encoded data removed]",
      "text/plain": [
       "<Figure size 450x262.5 with 1 Axes>"
      ]
     },
     "metadata": {},
     "output_type": "display_data"
    }
   ],
   "source": [
    "means_age.plot(style='.')\n",
    "decorate(xlabel=predictor, ylabel=response)"
   ]
  },
  {
   "cell_type": "code",
   "execution_count": 425,
   "id": "0c8be451",
   "metadata": {},
   "outputs": [
    {
     "data": {
      "text/plain": [
       "(65239, 2)"
      ]
     },
     "execution_count": 425,
     "metadata": {},
     "output_type": "execute_result"
    }
   ],
   "source": [
    "predictors = [predictor]\n",
    "X = add_constant(subset[predictors])\n",
    "X.shape"
   ]
  },
  {
   "cell_type": "code",
   "execution_count": 426,
   "id": "0d3ea215",
   "metadata": {},
   "outputs": [
    {
     "data": {
      "text/plain": [
       "(2, array([3.6416, 0.0103]))"
      ]
     },
     "execution_count": 426,
     "metadata": {},
     "output_type": "execute_result"
    }
   ],
   "source": [
    "beta, _, rank, _ = scipy.linalg.lstsq(X, y, lapack_driver='gelsy')\n",
    "rank, beta"
   ]
  },
  {
   "cell_type": "code",
   "execution_count": 427,
   "id": "0cf47739",
   "metadata": {},
   "outputs": [],
   "source": [
    "fit_x = np.arange(18, 90)\n",
    "fit_y = add_constant(fit_x) @ beta"
   ]
  },
  {
   "cell_type": "code",
   "execution_count": 428,
   "id": "d3e31a97",
   "metadata": {},
   "outputs": [
    {
     "data": {
      "image/png": "[encoded data removed]",
      "text/plain": [
       "<Figure size 450x262.5 with 1 Axes>"
      ]
     },
     "metadata": {},
     "output_type": "display_data"
    }
   ],
   "source": [
    "means_age.plot(style='.')\n",
    "plt.plot(fit_x, fit_y)\n",
    "\n",
    "decorate(xlabel=predictor, ylabel=response, title='Political views by age')"
   ]
  },
  {
   "cell_type": "code",
   "execution_count": 429,
   "id": "9e1c0452",
   "metadata": {},
   "outputs": [],
   "source": [
    "from dataclasses import dataclass\n",
    "\n",
    "@dataclass\n",
    "class RegressionResult:\n",
    "    means: np.ndarray\n",
    "    cond_number: float\n",
    "    rank: int\n",
    "    beta: np.ndarray\n",
    "    fit_y: np.ndarray"
   ]
  },
  {
   "cell_type": "code",
   "execution_count": 464,
   "id": "0da8561c",
   "metadata": {},
   "outputs": [],
   "source": [
    "def fit_model(df, response, predictors, fit_x):\n",
    "    # group means by the first predictor\n",
    "    means = df.groupby(predictors[0])[response].mean()\n",
    "\n",
    "    # response and design matrix\n",
    "    y = df[response]\n",
    "    X = add_constant(df[predictors])\n",
    "\n",
    "    # condition number of design matrix\n",
    "    cond_number = np.linalg.cond(X)\n",
    "\n",
    "    # least squares fit\n",
    "    beta, _, rank, _ = scipy.linalg.lstsq(X, y, lapack_driver='gelsy')\n",
    "\n",
    "    # fitted values for new X\n",
    "    fit_y = add_constant(fit_x) @ beta\n",
    "\n",
    "    return RegressionResult(means, cond_number, rank, beta, fit_y)"
   ]
  },
  {
   "cell_type": "code",
   "execution_count": 465,
   "id": "0d6be03f",
   "metadata": {},
   "outputs": [
    {
     "data": {
      "text/plain": [
       "(2, 174322.2522)"
      ]
     },
     "execution_count": 465,
     "metadata": {},
     "output_type": "execute_result"
    }
   ],
   "source": [
    "predictor = 'cohort'\n",
    "fit_x = np.arange(1880, 2010)\n",
    "result = fit_model(subset, response, [predictor], fit_x)\n",
    "result.rank, np.log10(result.cond_number)"
   ]
  },
  {
   "cell_type": "code",
   "execution_count": 468,
   "id": "74a7e55f",
   "metadata": {},
   "outputs": [],
   "source": [
    "color_map = {\n",
    "    'age': 'C0',\n",
    "    'year': 'C2',\n",
    "    'cohort': 'C4',\n",
    "}\n",
    "\n",
    "def plot_result(response, predictor, result, fit_x):\n",
    "    result.means.plot(style='.', color=color_map[predictor])\n",
    "    plt.plot(fit_x, result.fit_y, color='C1')\n",
    "\n",
    "    decorate(xlabel=predictor, \n",
    "             ylabel=response, \n",
    "             title=f'{response} by {predictor}')"
   ]
  },
  {
   "cell_type": "code",
   "execution_count": 469,
   "id": "7fff5b4c",
   "metadata": {},
   "outputs": [
    {
     "data": {
      "image/png": "[encoded data removed]",
      "text/plain": [
       "<Figure size 450x262.5 with 1 Axes>"
      ]
     },
     "metadata": {},
     "output_type": "display_data"
    }
   ],
   "source": [
    "plot_result(response, predictor, result, fit_x)"
   ]
  },
  {
   "cell_type": "code",
   "execution_count": 470,
   "id": "7614f94f",
   "metadata": {},
   "outputs": [
    {
     "data": {
      "text/plain": [
       "(2, 262262.0771)"
      ]
     },
     "execution_count": 470,
     "metadata": {},
     "output_type": "execute_result"
    }
   ],
   "source": [
    "predictor = 'year'\n",
    "fit_x = np.arange(1970, 2024)\n",
    "result = fit_model(subset, response, [predictor], fit_x)\n",
    "result.rank, np.log10(result.cond_number)"
   ]
  },
  {
   "cell_type": "code",
   "execution_count": 471,
   "id": "d6e0c740",
   "metadata": {},
   "outputs": [
    {
     "data": {
      "image/png": "[encoded data removed]",
      "text/plain": [
       "<Figure size 450x262.5 with 1 Axes>"
      ]
     },
     "metadata": {},
     "output_type": "display_data"
    }
   ],
   "source": [
    "plot_result(response, predictor, result, fit_x)"
   ]
  },
  {
   "cell_type": "code",
   "execution_count": 473,
   "id": "f946e6c0",
   "metadata": {},
   "outputs": [],
   "source": [
    "subset['year2'] = subset['year'] ** 2"
   ]
  },
  {
   "cell_type": "code",
   "execution_count": 474,
   "id": "f8145fba",
   "metadata": {},
   "outputs": [],
   "source": [
    "fit_x0 = np.arange(1970, 2024)\n",
    "fit_x1 = fit_x0 ** 2\n",
    "fit_X = np.column_stack([fit_x0, fit_x1])"
   ]
  },
  {
   "cell_type": "code",
   "execution_count": 475,
   "id": "dd41eba6",
   "metadata": {},
   "outputs": [
    {
     "data": {
      "text/plain": [
       "(3, 2685510.1072)"
      ]
     },
     "execution_count": 475,
     "metadata": {},
     "output_type": "execute_result"
    }
   ],
   "source": [
    "predictors = ['year', 'year2']\n",
    "result = fit_model(subset, response, predictors, fit_X)\n",
    "result.rank, np.log10(result.cond_number)"
   ]
  },
  {
   "cell_type": "code",
   "execution_count": 476,
   "id": "76556e4d",
   "metadata": {},
   "outputs": [
    {
     "data": {
      "image/png": "[encoded data removed]",
      "text/plain": [
       "<Figure size 450x262.5 with 1 Axes>"
      ]
     },
     "metadata": {},
     "output_type": "display_data"
    }
   ],
   "source": [
    "plot_result(response, predictors[0], result, fit_x0)"
   ]
  },
  {
   "cell_type": "code",
   "execution_count": 477,
   "id": "170ab4e0",
   "metadata": {},
   "outputs": [],
   "source": [
    "subset['year2'] = (subset['year'] - 2000) ** 2"
   ]
  },
  {
   "cell_type": "code",
   "execution_count": 478,
   "id": "b28e3465",
   "metadata": {},
   "outputs": [],
   "source": [
    "fit_x0 = np.arange(1970, 2024)\n",
    "fit_x1 = (fit_x0 - 2000) ** 2\n",
    "fit_X = np.column_stack([fit_x0, fit_x1])"
   ]
  },
  {
   "cell_type": "code",
   "execution_count": 479,
   "id": "ecda023c",
   "metadata": {},
   "outputs": [
    {
     "data": {
      "text/plain": [
       "(3, 264089.0705)"
      ]
     },
     "execution_count": 479,
     "metadata": {},
     "output_type": "execute_result"
    }
   ],
   "source": [
    "predictors = ['year', 'year2']\n",
    "result = fit_model(subset, response, predictors, fit_X)\n",
    "result.rank, np.log10(result.cond_number)"
   ]
  },
  {
   "cell_type": "code",
   "execution_count": 480,
   "id": "ffa383a4",
   "metadata": {},
   "outputs": [
    {
     "data": {
      "image/png": "[encoded data removed]",
      "text/plain": [
       "<Figure size 450x262.5 with 1 Axes>"
      ]
     },
     "metadata": {},
     "output_type": "display_data"
    }
   ],
   "source": [
    "plot_result(response, predictors[0], result, fit_x0)"
   ]
  },
  {
   "cell_type": "markdown",
   "id": "f267a519",
   "metadata": {},
   "source": [
    "## Multiple Regression"
   ]
  },
  {
   "cell_type": "code",
   "execution_count": 503,
   "id": "7bcf4e18",
   "metadata": {},
   "outputs": [],
   "source": [
    "predictors = ['age', 'cohort']\n",
    "fit_x0 = np.arange(18, 90)\n",
    "\n",
    "cohorts = [1920, 1960, 2000]\n",
    "fits = {}\n",
    "\n",
    "for cohort in cohorts:\n",
    "    fit_x1 = np.full_like(fit_x0, cohort)\n",
    "    fit_X = np.column_stack([fit_x0, fit_x1])\n",
    "\n",
    "    result = fit_model(subset, response, predictors, fit_X)\n",
    "    fits[cohort] = result.fit_y"
   ]
  },
  {
   "cell_type": "code",
   "execution_count": 504,
   "id": "e0effb19",
   "metadata": {},
   "outputs": [
    {
     "data": {
      "image/png": "[encoded data removed]",
      "text/plain": [
       "<Figure size 450x262.5 with 1 Axes>"
      ]
     },
     "metadata": {},
     "output_type": "display_data"
    }
   ],
   "source": [
    "means_age.plot(style='.', color='C0')\n",
    "style_map = dict(zip(cohorts, ['-', '--', ':']))\n",
    "   \n",
    "for cohort, fit_y in fits.items():\n",
    "    plt.plot(fit_x0, fit_y, style_map[cohort], color='C1', label=f'cohort {cohort}')\n",
    "\n",
    "decorate(xlabel=predictors[0], ylabel=response)"
   ]
  },
  {
   "cell_type": "code",
   "execution_count": 543,
   "id": "5a412d9f",
   "metadata": {},
   "outputs": [
    {
     "data": {
      "text/plain": [
       "(3, 9887806182996954.0000)"
      ]
     },
     "execution_count": 543,
     "metadata": {},
     "output_type": "execute_result"
    }
   ],
   "source": [
    "predictors = ['age', 'cohort', 'year']\n",
    "fit_x0 = np.array([18])\n",
    "fit_x1 = np.full_like(fit_x0, 2000)\n",
    "fit_x2 = np.full_like(fit_x0, 2018)\n",
    "fit_X = np.column_stack([fit_x0, fit_x1, fit_x2])\n",
    "\n",
    "result = fit_model(subset, response, predictors, fit_X)\n",
    "result.rank, np.log10(result.cond_number)"
   ]
  },
  {
   "cell_type": "code",
   "execution_count": 544,
   "id": "0dac88ee",
   "metadata": {},
   "outputs": [
    {
     "data": {
      "text/plain": [
       "array([3.8108])"
      ]
     },
     "execution_count": 544,
     "metadata": {},
     "output_type": "execute_result"
    }
   ],
   "source": [
    "result.fit_y"
   ]
  },
  {
   "cell_type": "code",
   "execution_count": 545,
   "id": "d74b25d3",
   "metadata": {},
   "outputs": [
    {
     "data": {
      "text/plain": [
       "array([ 5.3109e+00,  6.6641e-03, -3.7502e-03,  2.9139e-03])"
      ]
     },
     "execution_count": 545,
     "metadata": {},
     "output_type": "execute_result"
    }
   ],
   "source": [
    "result.beta"
   ]
  },
  {
   "cell_type": "code",
   "execution_count": 546,
   "id": "b86acf50",
   "metadata": {},
   "outputs": [],
   "source": [
    "def resample(df, seed):\n",
    "    return df.sample(len(df), replace=True, random_state=seed)"
   ]
  },
  {
   "cell_type": "code",
   "execution_count": 552,
   "id": "08373b64",
   "metadata": {},
   "outputs": [
    {
     "data": {
      "text/html": [
       "<div>\n",
       "<style scoped>\n",
       "    .dataframe tbody tr th:only-of-type {\n",
       "        vertical-align: middle;\n",
       "    }\n",
       "\n",
       "    .dataframe tbody tr th {\n",
       "        vertical-align: top;\n",
       "    }\n",
       "\n",
       "    .dataframe thead th {\n",
       "        text-align: right;\n",
       "    }\n",
       "</style>\n",
       "<table border=\"1\" class=\"dataframe\">\n",
       "  <thead>\n",
       "    <tr style=\"text-align: right;\">\n",
       "      <th></th>\n",
       "      <th>intercept</th>\n",
       "      <th>age</th>\n",
       "      <th>cohort</th>\n",
       "      <th>year</th>\n",
       "      <th>fit</th>\n",
       "    </tr>\n",
       "  </thead>\n",
       "  <tbody>\n",
       "    <tr>\n",
       "      <th>0</th>\n",
       "      <td>5.7593</td>\n",
       "      <td>0.0067</td>\n",
       "      <td>-0.0039</td>\n",
       "      <td>0.0028</td>\n",
       "      <td>3.8056</td>\n",
       "    </tr>\n",
       "    <tr>\n",
       "      <th>1</th>\n",
       "      <td>6.3089</td>\n",
       "      <td>-3485831086.9779</td>\n",
       "      <td>-3485831086.9882</td>\n",
       "      <td>3485831086.9868</td>\n",
       "      <td>3.8037</td>\n",
       "    </tr>\n",
       "    <tr>\n",
       "      <th>2</th>\n",
       "      <td>6.0750</td>\n",
       "      <td>-3445354991.4831</td>\n",
       "      <td>-3445354991.4937</td>\n",
       "      <td>3445354991.4925</td>\n",
       "      <td>3.7920</td>\n",
       "    </tr>\n",
       "    <tr>\n",
       "      <th>3</th>\n",
       "      <td>5.5778</td>\n",
       "      <td>-6178943318.5377</td>\n",
       "      <td>-6178943318.5484</td>\n",
       "      <td>6178943318.5475</td>\n",
       "      <td>3.8047</td>\n",
       "    </tr>\n",
       "    <tr>\n",
       "      <th>4</th>\n",
       "      <td>4.6525</td>\n",
       "      <td>2874672694.1160</td>\n",
       "      <td>2874672694.1059</td>\n",
       "      <td>-2874672694.1064</td>\n",
       "      <td>3.8311</td>\n",
       "    </tr>\n",
       "  </tbody>\n",
       "</table>\n",
       "</div>"
      ],
      "text/plain": [
       "   intercept              age           cohort             year    fit\n",
       "0     5.7593           0.0067          -0.0039           0.0028 3.8056\n",
       "1     6.3089 -3485831086.9779 -3485831086.9882  3485831086.9868 3.8037\n",
       "2     6.0750 -3445354991.4831 -3445354991.4937  3445354991.4925 3.7920\n",
       "3     5.5778 -6178943318.5377 -6178943318.5484  6178943318.5475 3.8047\n",
       "4     4.6525  2874672694.1160  2874672694.1059 -2874672694.1064 3.8311"
      ]
     },
     "execution_count": 552,
     "metadata": {},
     "output_type": "execute_result"
    }
   ],
   "source": [
    "betas = []\n",
    "fits = []\n",
    "for seed in range(5):\n",
    "    sample = resample(subset, seed)\n",
    "    result = fit_model(sample, response, predictors, fit_X)\n",
    "    betas.append(result.beta)\n",
    "    fits.append(result.fit_y[0])\n",
    "    \n",
    "df = pd.DataFrame(betas, columns=['intercept', 'age', 'cohort', 'year'])\n",
    "df['fit'] = fits\n",
    "df"
   ]
  },
  {
   "cell_type": "markdown",
   "id": "db99ce79",
   "metadata": {},
   "source": [
    "## Trilateration"
   ]
  },
  {
   "cell_type": "code",
   "execution_count": 108,
   "id": "028878ab",
   "metadata": {},
   "outputs": [],
   "source": [
    "import numpy as np\n",
    "\n",
    "def trilateration_algebraic(beacons, ranges, ref_idx=0):\n",
    "    \"\"\"\n",
    "    Algebraic LS trilateration in 2D.\n",
    "    beacons: (m,2) array of [xi, yi]\n",
    "    ranges:  (m,)  array of ri\n",
    "    ref_idx: index k to use as reference equation\n",
    "    Returns: x_hat, y_hat\n",
    "    \"\"\"\n",
    "    C = np.asarray(beacons, float)\n",
    "    r = np.asarray(ranges, float)\n",
    "    k = ref_idx\n",
    "\n",
    "    idx = [i for i in range(len(C)) if i != k]\n",
    "    xi, yi = C[idx, 0], C[idx, 1]\n",
    "    xk, yk = C[k, 0], C[k, 1]\n",
    "    ri2, rk2 = r[idx]**2, r[k]**2\n",
    "\n",
    "    A = np.column_stack([2*(xk - xi), 2*(yk - yi)])\n",
    "    b = ri2 - rk2 + xk**2 - xi**2 + yk**2 - yi**2\n",
    "\n",
    "    # LS solve via QR/SVD under the hood\n",
    "    sol, *_ = np.linalg.lstsq(A, b, rcond=None)\n",
    "    return sol[0], sol[1]\n",
    "\n",
    "def trilateration_refine_geometric(beacons, ranges, p0, steps=5, lam=0.0):\n",
    "    \"\"\"\n",
    "    Few Gauss–Newton / LM refinement steps for geometric LS.\n",
    "    lam=0 gives Gauss–Newton; lam>0 gives Levenberg–Marquardt damping.\n",
    "    \"\"\"\n",
    "    p = np.array(p0, float)\n",
    "    C = np.asarray(beacons, float)\n",
    "    r = np.asarray(ranges, float)\n",
    "\n",
    "    for _ in range(steps):\n",
    "        d = np.linalg.norm(p - C, axis=1)\n",
    "        e = d - r\n",
    "        # Jacobian m x 2\n",
    "        J = (p - C) / d[:, None]\n",
    "        # Solve (J^T J + lam I) Δ = -J^T e\n",
    "        JTJ = J.T @ J\n",
    "        g = J.T @ e\n",
    "        H = JTJ + lam * np.eye(2)\n",
    "        delta = -np.linalg.solve(H, g)\n",
    "        p = p + delta\n",
    "        if np.linalg.norm(delta) < 1e-9:\n",
    "            break\n",
    "    return p\n"
   ]
  },
  {
   "cell_type": "code",
   "execution_count": 112,
   "id": "1ca4e7cb",
   "metadata": {},
   "outputs": [],
   "source": [
    "# Example beacons & noisy ranges\n",
    "beacons = np.array([[0.,0.], [10.,0.], [0.,10.], [10.,10.]])\n",
    "true_p = np.array([4.2, 6.5])\n",
    "ranges = np.linalg.norm(beacons - true_p, axis=1) + 0.2*np.random.randn(4)"
   ]
  },
  {
   "cell_type": "code",
   "execution_count": 113,
   "id": "f93e96a3",
   "metadata": {},
   "outputs": [
    {
     "data": {
      "text/plain": [
       "(4.2857, 6.5202)"
      ]
     },
     "execution_count": 113,
     "metadata": {},
     "output_type": "execute_result"
    }
   ],
   "source": [
    "# Algebraic LS (initializer)\n",
    "p0 = trilateration_algebraic(beacons, ranges, ref_idx=0)\n",
    "p0"
   ]
  },
  {
   "cell_type": "code",
   "execution_count": 114,
   "id": "71c44fc3",
   "metadata": {},
   "outputs": [
    {
     "data": {
      "text/plain": [
       "array([4.1922, 6.4929])"
      ]
     },
     "execution_count": 114,
     "metadata": {},
     "output_type": "execute_result"
    }
   ],
   "source": [
    "# Geometric refinement (few tiny 2x2 solves)\n",
    "p_hat = trilateration_refine_geometric(beacons, ranges, p0, steps=6, lam=1e-3)\n",
    "p_hat"
   ]
  },
  {
   "cell_type": "code",
   "execution_count": null,
   "id": "5ad734a9",
   "metadata": {},
   "outputs": [],
   "source": []
  },
  {
   "cell_type": "markdown",
   "id": "e27da3a4",
   "metadata": {
    "tags": [
     "remove-print"
    ]
   },
   "source": [
    "[Think Linear Algebra](https://allendowney.github.io/ThinkLinearAlgebra/index.html)\n",
    "\n",
    "Copyright 2025 [Allen B. Downey](https://allendowney.com)\n",
    "\n",
    "Code license: [MIT License](https://mit-license.org/)\n",
    "\n",
    "Text license: [Creative Commons Attribution-NonCommercial-ShareAlike 4.0 International](https://creativecommons.org/licenses/by-nc-sa/4.0/)"
   ]
  },
  {
   "cell_type": "code",
   "execution_count": null,
   "id": "c8b4e400-dc97-498e-9016-3e9ef05dc7a3",
   "metadata": {},
   "outputs": [],
   "source": []
  }
 ],
 "metadata": {
  "celltoolbar": "Tags",
  "kernelspec": {
   "display_name": "Python 3 (ipykernel)",
   "language": "python",
   "name": "python3"
  },
  "language_info": {
   "codemirror_mode": {
    "name": "ipython",
    "version": 3
   },
   "file_extension": ".py",
   "mimetype": "text/x-python",
   "name": "python",
   "nbconvert_exporter": "python",
   "pygments_lexer": "ipython3",
   "version": "3.10.16"
  }
 },
 "nbformat": 4,
 "nbformat_minor": 5
}
