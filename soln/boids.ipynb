{
 "cells": [
  {
   "cell_type": "markdown",
   "id": "5c91b97e",
   "metadata": {},
   "source": [
    "*Think Linear Algebra* is not for sale yet, but if you would like to support this project, you can [buy me a coffee](https://buymeacoffee.com/allendowney)."
   ]
  },
  {
   "cell_type": "markdown",
   "id": "0a088acd",
   "metadata": {},
   "source": [
    "# Boids"
   ]
  },
  {
   "cell_type": "markdown",
   "id": "f7b8f2b1",
   "metadata": {},
   "source": [
    "[Click here to run this notebook on Colab](https://colab.research.google.com/github/AllenDowney/ThinkLinearAlgebra/blob/main/nb/boids.ipynb)."
   ]
  },
  {
   "cell_type": "code",
   "execution_count": 4,
   "id": "3d093a75",
   "metadata": {},
   "outputs": [
    {
     "name": "stdout",
     "output_type": "stream",
     "text": [
      "The nb_black extension is already loaded. To reload it, use:\n",
      "  %reload_ext nb_black\n"
     ]
    },
    {
     "data": {
      "application/javascript": [
       "\n",
       "        setTimeout(function() {\n",
       "            var nbb_cell_id = 4;\n",
       "            var nbb_formatted_code = \"%load_ext nb_black\";\n",
       "            var nbb_cells = Jupyter.notebook.get_cells();\n",
       "            for (var i = 0; i < nbb_cells.length; ++i) {\n",
       "                if (nbb_cells[i].input_prompt_number == nbb_cell_id) {\n",
       "                    nbb_cells[i].set_text(nbb_formatted_code);\n",
       "                    break;\n",
       "                }\n",
       "            }\n",
       "        }, 500);\n",
       "        "
      ],
      "text/plain": [
       "<IPython.core.display.Javascript object>"
      ]
     },
     "metadata": {},
     "output_type": "display_data"
    }
   ],
   "source": [
    "%load_ext nb_black"
   ]
  },
  {
   "cell_type": "code",
   "execution_count": 5,
   "id": "a97b35eb",
   "metadata": {},
   "outputs": [
    {
     "data": {
      "application/javascript": [
       "\n",
       "        setTimeout(function() {\n",
       "            var nbb_cell_id = 5;\n",
       "            var nbb_formatted_code = \"from os.path import basename, exists\\n\\n\\ndef download(url):\\n    filename = basename(url)\\n    if not exists(filename):\\n        from urllib.request import urlretrieve\\n\\n        local, _ = urlretrieve(url, filename)\\n        print(\\\"Downloaded \\\" + local)\\n\\n\\ndownload(\\\"https://github.com/AllenDowney/ThinkLinearAlgebra/raw/main/utils.py\\\")\";\n",
       "            var nbb_cells = Jupyter.notebook.get_cells();\n",
       "            for (var i = 0; i < nbb_cells.length; ++i) {\n",
       "                if (nbb_cells[i].input_prompt_number == nbb_cell_id) {\n",
       "                    nbb_cells[i].set_text(nbb_formatted_code);\n",
       "                    break;\n",
       "                }\n",
       "            }\n",
       "        }, 500);\n",
       "        "
      ],
      "text/plain": [
       "<IPython.core.display.Javascript object>"
      ]
     },
     "metadata": {},
     "output_type": "display_data"
    }
   ],
   "source": [
    "from os.path import basename, exists\n",
    "\n",
    "\n",
    "def download(url):\n",
    "    filename = basename(url)\n",
    "    if not exists(filename):\n",
    "        from urllib.request import urlretrieve\n",
    "\n",
    "        local, _ = urlretrieve(url, filename)\n",
    "        print(\"Downloaded \" + local)\n",
    "\n",
    "\n",
    "download(\"https://github.com/AllenDowney/ThinkLinearAlgebra/raw/main/utils.py\")"
   ]
  },
  {
   "cell_type": "code",
   "execution_count": 6,
   "id": "3f24dc9e",
   "metadata": {},
   "outputs": [
    {
     "data": {
      "application/javascript": [
       "\n",
       "        setTimeout(function() {\n",
       "            var nbb_cell_id = 6;\n",
       "            var nbb_formatted_code = \"import numpy as np\\nimport pandas as pd\\nimport matplotlib.pyplot as plt\\n\\nfrom utils import decorate\";\n",
       "            var nbb_cells = Jupyter.notebook.get_cells();\n",
       "            for (var i = 0; i < nbb_cells.length; ++i) {\n",
       "                if (nbb_cells[i].input_prompt_number == nbb_cell_id) {\n",
       "                    nbb_cells[i].set_text(nbb_formatted_code);\n",
       "                    break;\n",
       "                }\n",
       "            }\n",
       "        }, 500);\n",
       "        "
      ],
      "text/plain": [
       "<IPython.core.display.Javascript object>"
      ]
     },
     "metadata": {},
     "output_type": "display_data"
    }
   ],
   "source": [
    "import numpy as np\n",
    "import pandas as pd\n",
    "import matplotlib.pyplot as plt\n",
    "\n",
    "from utils import decorate"
   ]
  },
  {
   "cell_type": "markdown",
   "id": "edc6c8fb",
   "metadata": {},
   "source": [
    "## Boids\n",
    "\n",
    "In 1987 Craig Reynolds published \"Flocks, herds and schools: A\n",
    "distributed behavioral model\", which describes an agent-based model of\n",
    "herd behavior. You can download his paper from\n",
    "<https://thinkcomplex.com/boid>.\n",
    "\n",
    "Agents in this model are called \"Boids\", which is both a contraction of\n",
    "\"bird-oid\" and an accented pronunciation of \"bird\" (although Boids are\n",
    "also used to model fish and herding land animals).\n",
    "\n",
    "Each agent simulates three behaviors:\n",
    "\n",
    "Flock centering:\n",
    "\n",
    ":   Move toward the center of the flock.\n",
    "\n",
    "Collision avoidance:\n",
    "\n",
    ":   Avoid obstacles, including other Boids.\n",
    "\n",
    "Velocity matching:\n",
    "\n",
    ":   Align velocity (speed and direction) with neighboring Boids.\n",
    "\n",
    "Boids make decisions based on local information only; each Boid only\n",
    "sees (or pays attention to) other Boids in its field of vision.\n",
    "\n",
    "In the repository for this book, you will find `Boids7.py`, which\n",
    "contains my implementation of Boids, based in part on the description in\n",
    "Gary William Flake's book, *The Computational Beauty of Nature*.\n",
    "\n",
    "My implementation uses VPython, which is a library that provides 3-D\n",
    "graphics. VPython provides a `Vector` object, which I use to represent\n",
    "the position and velocity of Boids in three dimensions. You can read\n",
    "about them at <https://thinkcomplex.com/vector>."
   ]
  },
  {
   "cell_type": "markdown",
   "id": "ad98b408",
   "metadata": {},
   "source": [
    "## The Boid algorithm\n",
    "\n",
    "`Boids7.py` defines two classes: `Boid`, which implements the Boid\n",
    "behaviors, and `World`, which contains a list of Boids and a \"carrot\"\n",
    "the Boids are attracted to.\n",
    "\n",
    "The `Boid` class defines the following methods:\n",
    "\n",
    "-   `center`: Finds other Boids within range and computes a vector\n",
    "    toward their centroid.\n",
    "\n",
    "-   `avoid`: Finds objects, including other Boids, within a given range,\n",
    "    and computes a vector that points away from their centroid.\n",
    "\n",
    "-   `align`: Finds other Boids within range and computes the average of\n",
    "    their headings.\n",
    "\n",
    "-   `love`: Computes a vector that points toward the carrot.\n",
    "\n",
    "Here's the implementation of `center`:"
   ]
  },
  {
   "cell_type": "code",
   "execution_count": 7,
   "id": "44c7f12b",
   "metadata": {},
   "outputs": [
    {
     "data": {
      "application/javascript": [
       "\n",
       "        setTimeout(function() {\n",
       "            var nbb_cell_id = 7;\n",
       "            var nbb_formatted_code = \"def center(self, boids, radius=1, angle=1):\\n    neighbors = self.get_neighbors(boids, radius, angle)\\n    vecs = [boid.pos for boid in neighbors]\\n    return self.vector_toward_center(vecs)\";\n",
       "            var nbb_cells = Jupyter.notebook.get_cells();\n",
       "            for (var i = 0; i < nbb_cells.length; ++i) {\n",
       "                if (nbb_cells[i].input_prompt_number == nbb_cell_id) {\n",
       "                    nbb_cells[i].set_text(nbb_formatted_code);\n",
       "                    break;\n",
       "                }\n",
       "            }\n",
       "        }, 500);\n",
       "        "
      ],
      "text/plain": [
       "<IPython.core.display.Javascript object>"
      ]
     },
     "metadata": {},
     "output_type": "display_data"
    }
   ],
   "source": [
    "def center(self, boids, radius=1, angle=1):\n",
    "    neighbors = self.get_neighbors(boids, radius, angle)\n",
    "    vecs = [boid.pos for boid in neighbors]\n",
    "    return self.vector_toward_center(vecs)"
   ]
  },
  {
   "cell_type": "markdown",
   "id": "04096833",
   "metadata": {},
   "source": [
    "The parameters `radius` and `angle` are the radius and angle of the\n",
    "field of view, which determines which other Boids are taken into\n",
    "consideration. `radius` is in arbitrary units of length; `angle` is in\n",
    "radians.\n",
    "\n",
    "`center` uses `get_neighbors` to get a list of `Boid` objects that are\n",
    "in the field of view. `vecs` is a list of `Vector` objects that\n",
    "represent their positions.\n",
    "\n",
    "Finally, `vector_toward_center` computes a `Vector` that points from\n",
    "`self` to the centroid of `neighbors`.\n",
    "\n",
    "Here's how `get_neighbors` works:"
   ]
  },
  {
   "cell_type": "code",
   "execution_count": 8,
   "id": "57e53bb3",
   "metadata": {},
   "outputs": [
    {
     "data": {
      "application/javascript": [
       "\n",
       "        setTimeout(function() {\n",
       "            var nbb_cell_id = 8;\n",
       "            var nbb_formatted_code = \"def get_neighbors(self, boids, radius, angle):\\n    neighbors = []\\n    for boid in boids:\\n        if boid is self:\\n            continue\\n\\n        # if not in range, skip it\\n        offset = boid.pos - self.pos\\n        if offset.mag > radius:\\n            continue\\n\\n        # if not within viewing angle, skip it\\n        if self.vel.diff_angle(offset) > angle:\\n            continue\\n\\n        # otherwise add it to the list\\n        neighbors.append(boid)\\n\\n    return neighbors\";\n",
       "            var nbb_cells = Jupyter.notebook.get_cells();\n",
       "            for (var i = 0; i < nbb_cells.length; ++i) {\n",
       "                if (nbb_cells[i].input_prompt_number == nbb_cell_id) {\n",
       "                    nbb_cells[i].set_text(nbb_formatted_code);\n",
       "                    break;\n",
       "                }\n",
       "            }\n",
       "        }, 500);\n",
       "        "
      ],
      "text/plain": [
       "<IPython.core.display.Javascript object>"
      ]
     },
     "metadata": {},
     "output_type": "display_data"
    }
   ],
   "source": [
    "def get_neighbors(self, boids, radius, angle):\n",
    "    neighbors = []\n",
    "    for boid in boids:\n",
    "        if boid is self:\n",
    "            continue\n",
    "\n",
    "        # if not in range, skip it\n",
    "        offset = boid.pos - self.pos\n",
    "        if offset.mag > radius:\n",
    "            continue\n",
    "\n",
    "        # if not within viewing angle, skip it\n",
    "        if self.vel.diff_angle(offset) > angle:\n",
    "            continue\n",
    "\n",
    "        # otherwise add it to the list\n",
    "        neighbors.append(boid)\n",
    "\n",
    "    return neighbors"
   ]
  },
  {
   "cell_type": "markdown",
   "id": "f5baa7ff",
   "metadata": {},
   "source": [
    "For each other Boid, `get_neighbors` uses vector subtraction to compute\n",
    "the vector from `self` to `boid`. The magnitude of this vector is the\n",
    "distance between them; if this magnitude exceeds `radius`, we ignore\n",
    "`boid`.\n",
    "\n",
    "`diff_angle` computes the angle between the velocity of `self`, which\n",
    "points in the direction the Boid is heading, and the position of `boid`.\n",
    "If this angle exceeds `angle`, we ignore `boid`.\n",
    "\n",
    "Otherwise `boid` is in view, so we add it to `neighbors`.\n",
    "\n",
    "Now here's the implementation of `vector_toward_center`, which computes\n",
    "a vector from `self` to the centroid of its neighbors."
   ]
  },
  {
   "cell_type": "code",
   "execution_count": 9,
   "id": "647baad1",
   "metadata": {},
   "outputs": [
    {
     "data": {
      "application/javascript": [
       "\n",
       "        setTimeout(function() {\n",
       "            var nbb_cell_id = 9;\n",
       "            var nbb_formatted_code = \"def vector_toward_center(self, vecs):\\n    if vecs:\\n        center = np.mean(vecs)\\n        toward = vector(center - self.pos)\\n        return limit_vector(toward)\\n    else:\\n        return null_vector\";\n",
       "            var nbb_cells = Jupyter.notebook.get_cells();\n",
       "            for (var i = 0; i < nbb_cells.length; ++i) {\n",
       "                if (nbb_cells[i].input_prompt_number == nbb_cell_id) {\n",
       "                    nbb_cells[i].set_text(nbb_formatted_code);\n",
       "                    break;\n",
       "                }\n",
       "            }\n",
       "        }, 500);\n",
       "        "
      ],
      "text/plain": [
       "<IPython.core.display.Javascript object>"
      ]
     },
     "metadata": {},
     "output_type": "display_data"
    }
   ],
   "source": [
    "def vector_toward_center(self, vecs):\n",
    "    if vecs:\n",
    "        center = np.mean(vecs)\n",
    "        toward = vector(center - self.pos)\n",
    "        return limit_vector(toward)\n",
    "    else:\n",
    "        return null_vector"
   ]
  },
  {
   "cell_type": "markdown",
   "id": "235bed69",
   "metadata": {},
   "source": [
    "VPython vectors work with NumPy, so `np.mean` computes the mean of\n",
    "`vecs`, which is a sequence of vectors. `limit_vector` limits the\n",
    "magnitude of the result to 1; `null_vector` has magnitude 0.\n",
    "\n",
    "We use the same helper methods to implement `avoid`:"
   ]
  },
  {
   "cell_type": "code",
   "execution_count": 10,
   "id": "c25fc7af",
   "metadata": {},
   "outputs": [
    {
     "data": {
      "application/javascript": [
       "\n",
       "        setTimeout(function() {\n",
       "            var nbb_cell_id = 10;\n",
       "            var nbb_formatted_code = \"def avoid(self, boids, carrot, radius=0.3, angle=np.pi):\\n    objects = boids + [carrot]\\n    neighbors = self.get_neighbors(objects, radius, angle)\\n    vecs = [boid.pos for boid in neighbors]\\n    return -self.vector_toward_center(vecs)\";\n",
       "            var nbb_cells = Jupyter.notebook.get_cells();\n",
       "            for (var i = 0; i < nbb_cells.length; ++i) {\n",
       "                if (nbb_cells[i].input_prompt_number == nbb_cell_id) {\n",
       "                    nbb_cells[i].set_text(nbb_formatted_code);\n",
       "                    break;\n",
       "                }\n",
       "            }\n",
       "        }, 500);\n",
       "        "
      ],
      "text/plain": [
       "<IPython.core.display.Javascript object>"
      ]
     },
     "metadata": {},
     "output_type": "display_data"
    }
   ],
   "source": [
    "def avoid(self, boids, carrot, radius=0.3, angle=np.pi):\n",
    "    objects = boids + [carrot]\n",
    "    neighbors = self.get_neighbors(objects, radius, angle)\n",
    "    vecs = [boid.pos for boid in neighbors]\n",
    "    return -self.vector_toward_center(vecs)"
   ]
  },
  {
   "cell_type": "markdown",
   "id": "d5c95126",
   "metadata": {},
   "source": [
    "`avoid` is similar to `center`, but it takes into account the carrot as\n",
    "well as the other Boids. Also, the parameters are different: `radius` is\n",
    "smaller, so Boids only avoid objects that are too close, and `angle` is\n",
    "wider, so Boids avoid objects from all directions. Finally, the result\n",
    "from `vector_toward_center` is negated, so it points *away* from the\n",
    "centroid of any objects that are too close.\n",
    "\n",
    "Here's the implementation of `align`:"
   ]
  },
  {
   "cell_type": "code",
   "execution_count": 11,
   "id": "cea91ad2",
   "metadata": {},
   "outputs": [
    {
     "data": {
      "application/javascript": [
       "\n",
       "        setTimeout(function() {\n",
       "            var nbb_cell_id = 11;\n",
       "            var nbb_formatted_code = \"def align(self, boids, radius=0.5, angle=1):\\n    neighbors = self.get_neighbors(boids, radius, angle)\\n    vecs = [boid.vel for boid in neighbors]\\n    return self.vector_toward_center(vecs)\";\n",
       "            var nbb_cells = Jupyter.notebook.get_cells();\n",
       "            for (var i = 0; i < nbb_cells.length; ++i) {\n",
       "                if (nbb_cells[i].input_prompt_number == nbb_cell_id) {\n",
       "                    nbb_cells[i].set_text(nbb_formatted_code);\n",
       "                    break;\n",
       "                }\n",
       "            }\n",
       "        }, 500);\n",
       "        "
      ],
      "text/plain": [
       "<IPython.core.display.Javascript object>"
      ]
     },
     "metadata": {},
     "output_type": "display_data"
    }
   ],
   "source": [
    "def align(self, boids, radius=0.5, angle=1):\n",
    "    neighbors = self.get_neighbors(boids, radius, angle)\n",
    "    vecs = [boid.vel for boid in neighbors]\n",
    "    return self.vector_toward_center(vecs)"
   ]
  },
  {
   "cell_type": "markdown",
   "id": "303ddc0e",
   "metadata": {},
   "source": [
    "`align` is also similar to `center`; the big difference is that it\n",
    "computes the average of the neighbors' velocities, rather than their\n",
    "positions. If the neighbors point in a particular direction, the Boid\n",
    "tends to steer toward that direction.\n",
    "\n",
    "Finally, `love` computes a vector that points in the direction of the\n",
    "carrot."
   ]
  },
  {
   "cell_type": "code",
   "execution_count": 12,
   "id": "dae6880c",
   "metadata": {},
   "outputs": [
    {
     "data": {
      "application/javascript": [
       "\n",
       "        setTimeout(function() {\n",
       "            var nbb_cell_id = 12;\n",
       "            var nbb_formatted_code = \"def love(self, carrot):\\n    toward = carrot.pos - self.pos\\n    return limit_vector(toward)\";\n",
       "            var nbb_cells = Jupyter.notebook.get_cells();\n",
       "            for (var i = 0; i < nbb_cells.length; ++i) {\n",
       "                if (nbb_cells[i].input_prompt_number == nbb_cell_id) {\n",
       "                    nbb_cells[i].set_text(nbb_formatted_code);\n",
       "                    break;\n",
       "                }\n",
       "            }\n",
       "        }, 500);\n",
       "        "
      ],
      "text/plain": [
       "<IPython.core.display.Javascript object>"
      ]
     },
     "metadata": {},
     "output_type": "display_data"
    }
   ],
   "source": [
    "def love(self, carrot):\n",
    "    toward = carrot.pos - self.pos\n",
    "    return limit_vector(toward)"
   ]
  },
  {
   "cell_type": "markdown",
   "id": "0b1689f1",
   "metadata": {},
   "source": [
    "The results from `center`, `avoid`, `align`, and `love` are what Reynolds calls \"acceleration requests\", where each request is intended to achieve a different goal."
   ]
  },
  {
   "cell_type": "markdown",
   "id": "ffcb2ce9",
   "metadata": {},
   "source": [
    "## Arbitration\n",
    "\n",
    "To arbitrate among these possibly conflicting goals, we compute a weighted sum of the four requests:"
   ]
  },
  {
   "cell_type": "code",
   "execution_count": 13,
   "id": "d0ae7e04",
   "metadata": {},
   "outputs": [
    {
     "data": {
      "application/javascript": [
       "\n",
       "        setTimeout(function() {\n",
       "            var nbb_cell_id = 13;\n",
       "            var nbb_formatted_code = \"def set_goal(self, boids, carrot):\\n    w_avoid = 10\\n    w_center = 3\\n    w_align = 1\\n    w_love = 10\\n\\n    self.goal = (\\n        w_center * self.center(boids)\\n        + w_avoid * self.avoid(boids, carrot)\\n        + w_align * self.align(boids)\\n        + w_love * self.love(carrot)\\n    )\\n    self.goal.mag = 1\";\n",
       "            var nbb_cells = Jupyter.notebook.get_cells();\n",
       "            for (var i = 0; i < nbb_cells.length; ++i) {\n",
       "                if (nbb_cells[i].input_prompt_number == nbb_cell_id) {\n",
       "                    nbb_cells[i].set_text(nbb_formatted_code);\n",
       "                    break;\n",
       "                }\n",
       "            }\n",
       "        }, 500);\n",
       "        "
      ],
      "text/plain": [
       "<IPython.core.display.Javascript object>"
      ]
     },
     "metadata": {},
     "output_type": "display_data"
    }
   ],
   "source": [
    "def set_goal(self, boids, carrot):\n",
    "    w_avoid = 10\n",
    "    w_center = 3\n",
    "    w_align = 1\n",
    "    w_love = 10\n",
    "\n",
    "    self.goal = (\n",
    "        w_center * self.center(boids)\n",
    "        + w_avoid * self.avoid(boids, carrot)\n",
    "        + w_align * self.align(boids)\n",
    "        + w_love * self.love(carrot)\n",
    "    )\n",
    "    self.goal.mag = 1"
   ]
  },
  {
   "cell_type": "markdown",
   "id": "7619ed10",
   "metadata": {},
   "source": [
    "`w_center`, `w_avoid`, and the other weights determine the importance of the acceleration requests. Usually `w_avoid` is relatively high and `w_align` is relatively low.\n",
    "\n",
    "After computing a goal for each Boid, we update their velocity and position:"
   ]
  },
  {
   "cell_type": "code",
   "execution_count": 14,
   "id": "fd5d2755",
   "metadata": {},
   "outputs": [
    {
     "data": {
      "application/javascript": [
       "\n",
       "        setTimeout(function() {\n",
       "            var nbb_cell_id = 14;\n",
       "            var nbb_formatted_code = \"def move(self, mu=0.1, dt=0.1):\\n    self.vel = (1 - mu) * self.vel + mu * self.goal\\n    self.vel.mag = 1\\n    self.pos += dt * self.vel\\n    self.axis = self.length * self.vel\";\n",
       "            var nbb_cells = Jupyter.notebook.get_cells();\n",
       "            for (var i = 0; i < nbb_cells.length; ++i) {\n",
       "                if (nbb_cells[i].input_prompt_number == nbb_cell_id) {\n",
       "                    nbb_cells[i].set_text(nbb_formatted_code);\n",
       "                    break;\n",
       "                }\n",
       "            }\n",
       "        }, 500);\n",
       "        "
      ],
      "text/plain": [
       "<IPython.core.display.Javascript object>"
      ]
     },
     "metadata": {},
     "output_type": "display_data"
    }
   ],
   "source": [
    "def move(self, mu=0.1, dt=0.1):\n",
    "    self.vel = (1 - mu) * self.vel + mu * self.goal\n",
    "    self.vel.mag = 1\n",
    "    self.pos += dt * self.vel\n",
    "    self.axis = self.length * self.vel"
   ]
  },
  {
   "cell_type": "markdown",
   "id": "59224c48",
   "metadata": {},
   "source": [
    "\n",
    "Read the code to see how the parameters control Boid behaviors.\n",
    "Experiment with different parameters. What happens if you \"turn off\" one\n",
    "of the behaviors by setting its weight to 0?\n",
    "\n",
    "To generate more bird-like behavior, Flake suggests adding a behavior to\n",
    "maintain a clear line of sight; in other words, if there is another bird\n",
    "directly ahead, the Boid should move away laterally. What effect do you\n",
    "expect this rule to have on the behavior of the flock? Implement it and\n",
    "see."
   ]
  },
  {
   "cell_type": "code",
   "execution_count": 27,
   "id": "07710824",
   "metadata": {},
   "outputs": [
    {
     "ename": "KeyboardInterrupt",
     "evalue": "",
     "output_type": "error",
     "traceback": [
      "\u001b[0;31m---------------------------------------------------------------------------\u001b[0m",
      "\u001b[0;31mKeyboardInterrupt\u001b[0m                         Traceback (most recent call last)",
      "Cell \u001b[0;32mIn[27], line 3\u001b[0m\n\u001b[1;32m      1\u001b[0m \u001b[38;5;28;01mimport\u001b[39;00m\u001b[38;5;250m \u001b[39m\u001b[38;5;21;01mvpython\u001b[39;00m\u001b[38;5;250m \u001b[39m\u001b[38;5;28;01mas\u001b[39;00m\u001b[38;5;250m \u001b[39m\u001b[38;5;21;01mvp\u001b[39;00m\n\u001b[0;32m----> 3\u001b[0m \u001b[43mvp\u001b[49m\u001b[38;5;241;43m.\u001b[39;49m\u001b[43msphere\u001b[49m\u001b[43m(\u001b[49m\u001b[43m)\u001b[49m\n",
      "File \u001b[0;32m~/miniconda3/envs/ThinkLinearAlgebra/lib/python3.10/site-packages/vpython/vpython.py:1189\u001b[0m, in \u001b[0;36msphere.__init__\u001b[0;34m(self, **args)\u001b[0m\n\u001b[1;32m   1187\u001b[0m args[\u001b[38;5;124m'\u001b[39m\u001b[38;5;124m_default_size\u001b[39m\u001b[38;5;124m'\u001b[39m] \u001b[38;5;241m=\u001b[39m vector(\u001b[38;5;241m2\u001b[39m,\u001b[38;5;241m2\u001b[39m,\u001b[38;5;241m2\u001b[39m)\n\u001b[1;32m   1188\u001b[0m args[\u001b[38;5;124m'\u001b[39m\u001b[38;5;124m_objName\u001b[39m\u001b[38;5;124m'\u001b[39m] \u001b[38;5;241m=\u001b[39m \u001b[38;5;124m\"\u001b[39m\u001b[38;5;124msphere\u001b[39m\u001b[38;5;124m\"\u001b[39m\n\u001b[0;32m-> 1189\u001b[0m \u001b[38;5;28;43msuper\u001b[39;49m\u001b[43m(\u001b[49m\u001b[43msphere\u001b[49m\u001b[43m,\u001b[49m\u001b[43m \u001b[49m\u001b[38;5;28;43mself\u001b[39;49m\u001b[43m)\u001b[49m\u001b[38;5;241;43m.\u001b[39;49m\u001b[43msetup\u001b[49m\u001b[43m(\u001b[49m\u001b[43margs\u001b[49m\u001b[43m)\u001b[49m\n\u001b[1;32m   1190\u001b[0m \u001b[38;5;28mself\u001b[39m\u001b[38;5;241m.\u001b[39m_sizing \u001b[38;5;241m=\u001b[39m \u001b[38;5;28;01mFalse\u001b[39;00m\n",
      "File \u001b[0;32m~/miniconda3/envs/ThinkLinearAlgebra/lib/python3.10/site-packages/vpython/vpython.py:612\u001b[0m, in \u001b[0;36mstandardAttributes.setup\u001b[0;34m(self, args)\u001b[0m\n\u001b[1;32m    611\u001b[0m \u001b[38;5;28;01mdef\u001b[39;00m\u001b[38;5;250m \u001b[39m\u001b[38;5;21msetup\u001b[39m(\u001b[38;5;28mself\u001b[39m, args):\n\u001b[0;32m--> 612\u001b[0m     \u001b[38;5;28;43msuper\u001b[39;49m\u001b[43m(\u001b[49m\u001b[43mstandardAttributes\u001b[49m\u001b[43m,\u001b[49m\u001b[43m \u001b[49m\u001b[38;5;28;43mself\u001b[39;49m\u001b[43m)\u001b[49m\u001b[38;5;241;43m.\u001b[39;49m\u001b[38;5;21;43m__init__\u001b[39;49m\u001b[43m(\u001b[49m\u001b[43m)\u001b[49m\n\u001b[1;32m    613\u001b[0m     \u001b[38;5;28mself\u001b[39m\u001b[38;5;241m.\u001b[39m_constructing \u001b[38;5;241m=\u001b[39m \u001b[38;5;28;01mTrue\u001b[39;00m  \u001b[38;5;66;03m## calls to setters are from constructor\u001b[39;00m\n\u001b[1;32m    615\u001b[0m     objName \u001b[38;5;241m=\u001b[39m \u001b[38;5;28mself\u001b[39m\u001b[38;5;241m.\u001b[39m_objName \u001b[38;5;241m=\u001b[39m args[\u001b[38;5;124m'\u001b[39m\u001b[38;5;124m_objName\u001b[39m\u001b[38;5;124m'\u001b[39m]  \u001b[38;5;66;03m## identifies object type\u001b[39;00m\n",
      "File \u001b[0;32m~/miniconda3/envs/ThinkLinearAlgebra/lib/python3.10/site-packages/vpython/vpython.py:265\u001b[0m, in \u001b[0;36mbaseObj.__init__\u001b[0;34m(self, **kwargs)\u001b[0m\n\u001b[1;32m    262\u001b[0m \u001b[38;5;28;01mif\u001b[39;00m \u001b[38;5;129;01mnot\u001b[39;00m (baseObj\u001b[38;5;241m.\u001b[39m_view_constructed \u001b[38;5;129;01mor\u001b[39;00m\n\u001b[1;32m    263\u001b[0m         baseObj\u001b[38;5;241m.\u001b[39m_canvas_constructing):\n\u001b[1;32m    264\u001b[0m     \u001b[38;5;28;01mif\u001b[39;00m _isnotebook:\n\u001b[0;32m--> 265\u001b[0m         \u001b[38;5;28;01mfrom\u001b[39;00m\u001b[38;5;250m \u001b[39m\u001b[38;5;21;01m.\u001b[39;00m\u001b[38;5;21;01mwith_notebook\u001b[39;00m\u001b[38;5;250m \u001b[39m\u001b[38;5;28;01mimport\u001b[39;00m _\n\u001b[1;32m    266\u001b[0m     \u001b[38;5;28;01melse\u001b[39;00m:\n\u001b[1;32m    267\u001b[0m         \u001b[38;5;28;01mfrom\u001b[39;00m\u001b[38;5;250m \u001b[39m\u001b[38;5;21;01m.\u001b[39;00m\u001b[38;5;21;01mno_notebook\u001b[39;00m\u001b[38;5;250m \u001b[39m\u001b[38;5;28;01mimport\u001b[39;00m _\n",
      "File \u001b[0;32m~/miniconda3/envs/ThinkLinearAlgebra/lib/python3.10/site-packages/vpython/with_notebook.py:154\u001b[0m\n\u001b[1;32m    152\u001b[0m baseObj\u001b[38;5;241m.\u001b[39mglow \u001b[38;5;241m=\u001b[39m GlowWidget(wsport\u001b[38;5;241m=\u001b[39m__SOCKET_PORT, wsuri\u001b[38;5;241m=\u001b[39m\u001b[38;5;124m'\u001b[39m\u001b[38;5;124m/ws\u001b[39m\u001b[38;5;124m'\u001b[39m)\n\u001b[1;32m    153\u001b[0m \u001b[38;5;28;01mwhile\u001b[39;00m (\u001b[38;5;129;01mnot\u001b[39;00m wsConnected):\n\u001b[0;32m--> 154\u001b[0m     \u001b[43mtime\u001b[49m\u001b[38;5;241;43m.\u001b[39;49m\u001b[43msleep\u001b[49m\u001b[43m(\u001b[49m\u001b[38;5;241;43m0.1\u001b[39;49m\u001b[43m)\u001b[49m          \u001b[38;5;66;03m# wait for websocket to connect\u001b[39;00m\n\u001b[1;32m    156\u001b[0m baseObj\u001b[38;5;241m.\u001b[39mtrigger()  \u001b[38;5;66;03m# start the trigger ping-pong process\u001b[39;00m\n\u001b[1;32m    159\u001b[0m \u001b[38;5;66;03m# Same justification as above for removing the ipykernel check.\u001b[39;00m\n\u001b[1;32m    160\u001b[0m \u001b[38;5;66;03m# There was also an IPython version check for >=4, which was\u001b[39;00m\n\u001b[1;32m    161\u001b[0m \u001b[38;5;66;03m# released in Nov 2015. Ok to stop supporting in 2.019 I think.\u001b[39;00m\n",
      "\u001b[0;31mKeyboardInterrupt\u001b[0m: "
     ]
    },
    {
     "data": {
      "application/javascript": [
       "\n",
       "        setTimeout(function() {\n",
       "            var nbb_cell_id = 27;\n",
       "            var nbb_formatted_code = \"import vpython as vp\\n\\nvp.sphere()\";\n",
       "            var nbb_cells = Jupyter.notebook.get_cells();\n",
       "            for (var i = 0; i < nbb_cells.length; ++i) {\n",
       "                if (nbb_cells[i].input_prompt_number == nbb_cell_id) {\n",
       "                    nbb_cells[i].set_text(nbb_formatted_code);\n",
       "                    break;\n",
       "                }\n",
       "            }\n",
       "        }, 500);\n",
       "        "
      ],
      "text/plain": [
       "<IPython.core.display.Javascript object>"
      ]
     },
     "metadata": {},
     "output_type": "display_data"
    }
   ],
   "source": [
    "import vpython as vp\n",
    "\n",
    "vp.sphere()"
   ]
  },
  {
   "cell_type": "code",
   "execution_count": null,
   "id": "181473a7",
   "metadata": {},
   "outputs": [],
   "source": [
    "from vpython import vector\n",
    "\n",
    "null_vector = vector(0, 0, 0)\n",
    "\n",
    "\n",
    "def random_vector(a, b):\n",
    "    \"\"\"Create a vector with each element uniformly distributed in [a, b).\"\"\"\n",
    "    coords = np.random.uniform(a, b, size=3)\n",
    "    return vector(*coords)\n",
    "\n",
    "\n",
    "def limit_vector(vect):\n",
    "    \"\"\"If the magnitude is greater than 1, set it to 1\"\"\"\n",
    "    if vect.mag > 1:\n",
    "        vect.mag = 1\n",
    "    return vect"
   ]
  },
  {
   "cell_type": "code",
   "execution_count": 23,
   "id": "b492de4f",
   "metadata": {},
   "outputs": [
    {
     "data": {
      "application/javascript": [
       "\n",
       "        setTimeout(function() {\n",
       "            var nbb_cell_id = 23;\n",
       "            var nbb_formatted_code = \"class Boid(vp.cone):\\n    \\\"\\\"\\\"A Boid is a VPython cone with a velocity and an axis.\\\"\\\"\\\"\\n\\n    def __init__(self, radius=0.03, length=0.1):\\n        pos = random_vector(0, 1)\\n        self.vel = random_vector(0, 1).norm()\\n        super().__init__(pos=pos, radius=radius, length=length)\\n        self.axis = length * self.vel\\n\\n    def get_neighbors(self, boids, radius, angle):\\n        \\\"\\\"\\\"Return a list of neighbors within a field of view.\\n\\n        boids: list of boids\\n        radius: field of view radius\\n        angle: field of view angle in radians\\n\\n        returns: list of Boid\\n        \\\"\\\"\\\"\\n        neighbors = []\\n        for boid in boids:\\n            if boid is self:\\n                continue\\n            offset = boid.pos - self.pos\\n\\n            # if not in range, skip it\\n            if offset.mag > radius:\\n                continue\\n\\n            # if not within viewing angle, skip it\\n            diff = self.vel.diff_angle(offset)\\n            if abs(diff) > angle:\\n                continue\\n\\n            # otherwise add it to the list\\n            neighbors.append(boid)\\n\\n        return neighbors\\n\\n    def center(self, boids, radius=1, angle=1):\\n        \\\"\\\"\\\"Find the center of mass of other boids in range and\\n        return a vector pointing toward it.\\\"\\\"\\\"\\n        neighbors = self.get_neighbors(boids, radius, angle)\\n        vecs = [boid.pos for boid in neighbors]\\n        return self.vector_toward_center(vecs)\\n\\n    def vector_toward_center(self, vecs):\\n        \\\"\\\"\\\"Vector from self to the mean of vecs.\\n\\n        vecs: sequence of vector\\n\\n        returns: Vector\\n        \\\"\\\"\\\"\\n        if vecs:\\n            center = np.mean(vecs)\\n            toward = vector(center - self.pos)\\n            return limit_vector(toward)\\n        else:\\n            return null_vector\\n\\n    def avoid(self, boids, carrot, radius=0.3, angle=np.pi):\\n        \\\"\\\"\\\"Find the center of mass of all objects in range and\\n        return a vector in the opposite direction, with magnitude\\n        proportional to the inverse of the distance (up to a limit).\\\"\\\"\\\"\\n        objects = boids + [carrot]\\n        neighbors = self.get_neighbors(objects, radius, angle)\\n        vecs = [boid.pos for boid in neighbors]\\n        return -self.vector_toward_center(vecs)\\n\\n    def align(self, boids, radius=0.5, angle=1):\\n        \\\"\\\"\\\"Return the average heading of other boids in range.\\n\\n        boids: list of Boids\\n        \\\"\\\"\\\"\\n        neighbors = self.get_neighbors(boids, radius, angle)\\n        vecs = [boid.vel for boid in neighbors]\\n        return self.vector_toward_center(vecs)\\n\\n    def love(self, carrot):\\n        \\\"\\\"\\\"Returns a vector pointing toward the carrot.\\\"\\\"\\\"\\n        toward = carrot.pos - self.pos\\n        return limit_vector(toward)\\n\\n    def set_goal(self, boids, carrot):\\n        \\\"\\\"\\\"Sets the goal to be the weighted sum of the goal vectors.\\\"\\\"\\\"\\n\\n        # weights for various rules\\n        w_avoid = 10\\n        w_center = 3\\n        w_align = 1\\n        w_love = 10\\n\\n        self.goal = (\\n            w_center * self.center(boids)\\n            + w_avoid * self.avoid(boids, carrot)\\n            + w_align * self.align(boids)\\n            + w_love * self.love(carrot)\\n        )\\n        self.goal.mag = 1\\n\\n    def move(self, mu=0.1, dt=0.1):\\n        \\\"\\\"\\\"Update the velocity, position and axis vectors.\\n\\n        mu: how fast the boids can turn (maneuverability).\\n        dt: time step\\n        \\\"\\\"\\\"\\n\\n        self.vel = (1 - mu) * self.vel + mu * self.goal\\n        self.vel.mag = 1\\n        self.pos += dt * self.vel\\n        self.axis = self.length * self.vel\";\n",
       "            var nbb_cells = Jupyter.notebook.get_cells();\n",
       "            for (var i = 0; i < nbb_cells.length; ++i) {\n",
       "                if (nbb_cells[i].input_prompt_number == nbb_cell_id) {\n",
       "                    nbb_cells[i].set_text(nbb_formatted_code);\n",
       "                    break;\n",
       "                }\n",
       "            }\n",
       "        }, 500);\n",
       "        "
      ],
      "text/plain": [
       "<IPython.core.display.Javascript object>"
      ]
     },
     "metadata": {},
     "output_type": "display_data"
    }
   ],
   "source": [
    "class Boid(vp.cone):\n",
    "    \"\"\"A Boid is a VPython cone with a velocity and an axis.\"\"\"\n",
    "\n",
    "    def __init__(self, radius=0.03, length=0.1):\n",
    "        pos = random_vector(0, 1)\n",
    "        self.vel = random_vector(0, 1).norm()\n",
    "        super().__init__(pos=pos, radius=radius, length=length)\n",
    "        self.axis = length * self.vel\n",
    "\n",
    "    def get_neighbors(self, boids, radius, angle):\n",
    "        \"\"\"Return a list of neighbors within a field of view.\n",
    "\n",
    "        boids: list of boids\n",
    "        radius: field of view radius\n",
    "        angle: field of view angle in radians\n",
    "\n",
    "        returns: list of Boid\n",
    "        \"\"\"\n",
    "        neighbors = []\n",
    "        for boid in boids:\n",
    "            if boid is self:\n",
    "                continue\n",
    "            offset = boid.pos - self.pos\n",
    "\n",
    "            # if not in range, skip it\n",
    "            if offset.mag > radius:\n",
    "                continue\n",
    "\n",
    "            # if not within viewing angle, skip it\n",
    "            diff = self.vel.diff_angle(offset)\n",
    "            if abs(diff) > angle:\n",
    "                continue\n",
    "\n",
    "            # otherwise add it to the list\n",
    "            neighbors.append(boid)\n",
    "\n",
    "        return neighbors\n",
    "\n",
    "    def center(self, boids, radius=1, angle=1):\n",
    "        \"\"\"Find the center of mass of other boids in range and\n",
    "        return a vector pointing toward it.\"\"\"\n",
    "        neighbors = self.get_neighbors(boids, radius, angle)\n",
    "        vecs = [boid.pos for boid in neighbors]\n",
    "        return self.vector_toward_center(vecs)\n",
    "\n",
    "    def vector_toward_center(self, vecs):\n",
    "        \"\"\"Vector from self to the mean of vecs.\n",
    "\n",
    "        vecs: sequence of vector\n",
    "\n",
    "        returns: Vector\n",
    "        \"\"\"\n",
    "        if vecs:\n",
    "            center = np.mean(vecs)\n",
    "            toward = vector(center - self.pos)\n",
    "            return limit_vector(toward)\n",
    "        else:\n",
    "            return null_vector\n",
    "\n",
    "    def avoid(self, boids, carrot, radius=0.3, angle=np.pi):\n",
    "        \"\"\"Find the center of mass of all objects in range and\n",
    "        return a vector in the opposite direction, with magnitude\n",
    "        proportional to the inverse of the distance (up to a limit).\"\"\"\n",
    "        objects = boids + [carrot]\n",
    "        neighbors = self.get_neighbors(objects, radius, angle)\n",
    "        vecs = [boid.pos for boid in neighbors]\n",
    "        return -self.vector_toward_center(vecs)\n",
    "\n",
    "    def align(self, boids, radius=0.5, angle=1):\n",
    "        \"\"\"Return the average heading of other boids in range.\n",
    "\n",
    "        boids: list of Boids\n",
    "        \"\"\"\n",
    "        neighbors = self.get_neighbors(boids, radius, angle)\n",
    "        vecs = [boid.vel for boid in neighbors]\n",
    "        return self.vector_toward_center(vecs)\n",
    "\n",
    "    def love(self, carrot):\n",
    "        \"\"\"Returns a vector pointing toward the carrot.\"\"\"\n",
    "        toward = carrot.pos - self.pos\n",
    "        return limit_vector(toward)\n",
    "\n",
    "    def set_goal(self, boids, carrot):\n",
    "        \"\"\"Sets the goal to be the weighted sum of the goal vectors.\"\"\"\n",
    "\n",
    "        # weights for various rules\n",
    "        w_avoid = 10\n",
    "        w_center = 3\n",
    "        w_align = 1\n",
    "        w_love = 10\n",
    "\n",
    "        self.goal = (\n",
    "            w_center * self.center(boids)\n",
    "            + w_avoid * self.avoid(boids, carrot)\n",
    "            + w_align * self.align(boids)\n",
    "            + w_love * self.love(carrot)\n",
    "        )\n",
    "        self.goal.mag = 1\n",
    "\n",
    "    def move(self, mu=0.1, dt=0.1):\n",
    "        \"\"\"Update the velocity, position and axis vectors.\n",
    "\n",
    "        mu: how fast the boids can turn (maneuverability).\n",
    "        dt: time step\n",
    "        \"\"\"\n",
    "\n",
    "        self.vel = (1 - mu) * self.vel + mu * self.goal\n",
    "        self.vel.mag = 1\n",
    "        self.pos += dt * self.vel\n",
    "        self.axis = self.length * self.vel"
   ]
  },
  {
   "cell_type": "code",
   "execution_count": 24,
   "id": "63fd4ced",
   "metadata": {},
   "outputs": [
    {
     "data": {
      "application/javascript": [
       "\n",
       "        setTimeout(function() {\n",
       "            var nbb_cell_id = 24;\n",
       "            var nbb_formatted_code = \"class World(object):\\n\\n    def __init__(self, n=10):\\n        \\\"\\\"\\\"Create n Boids and one carrot.\\n\\n        tracking: indicates whether the carrot follows the mouse\\n        \\\"\\\"\\\"\\n        self.boids = [Boid() for i in range(n)]\\n        self.carrot = sphere(pos=vector(1, 0, 0), radius=0.1, color=vector(1, 0, 0))\\n        self.tracking = False\\n\\n    def step(self):\\n        \\\"\\\"\\\"Compute one time step.\\\"\\\"\\\"\\n        # move the boids\\n        for boid in self.boids:\\n            boid.set_goal(self.boids, self.carrot)\\n            boid.move()\\n\\n        # if we're tracking, move the carrot\\n        if self.tracking:\\n            self.carrot.pos = scene.mouse.pos\";\n",
       "            var nbb_cells = Jupyter.notebook.get_cells();\n",
       "            for (var i = 0; i < nbb_cells.length; ++i) {\n",
       "                if (nbb_cells[i].input_prompt_number == nbb_cell_id) {\n",
       "                    nbb_cells[i].set_text(nbb_formatted_code);\n",
       "                    break;\n",
       "                }\n",
       "            }\n",
       "        }, 500);\n",
       "        "
      ],
      "text/plain": [
       "<IPython.core.display.Javascript object>"
      ]
     },
     "metadata": {},
     "output_type": "display_data"
    }
   ],
   "source": [
    "class World(object):\n",
    "\n",
    "    def __init__(self, n=10):\n",
    "        \"\"\"Create n Boids and one carrot.\n",
    "\n",
    "        tracking: indicates whether the carrot follows the mouse\n",
    "        \"\"\"\n",
    "        self.boids = [Boid() for i in range(n)]\n",
    "        self.carrot = sphere(pos=vector(1, 0, 0), radius=0.1, color=vector(1, 0, 0))\n",
    "        self.tracking = False\n",
    "\n",
    "    def step(self):\n",
    "        \"\"\"Compute one time step.\"\"\"\n",
    "        # move the boids\n",
    "        for boid in self.boids:\n",
    "            boid.set_goal(self.boids, self.carrot)\n",
    "            boid.move()\n",
    "\n",
    "        # if we're tracking, move the carrot\n",
    "        if self.tracking:\n",
    "            self.carrot.pos = scene.mouse.pos"
   ]
  },
  {
   "cell_type": "code",
   "execution_count": 25,
   "id": "6d0a3caf",
   "metadata": {},
   "outputs": [
    {
     "name": "stderr",
     "output_type": "stream",
     "text": [
      "Exception ignored in: <function standardAttributes.__del__ at 0x7f11ddd5a680>\n",
      "Traceback (most recent call last):\n",
      "  File \"/home/downey/miniconda3/envs/ThinkLinearAlgebra/lib/python3.10/site-packages/vpython/vpython.py\", line 1176, in __del__\n",
      "    super(standardAttributes, self).__del__()\n",
      "  File \"/home/downey/miniconda3/envs/ThinkLinearAlgebra/lib/python3.10/site-packages/vpython/vpython.py\", line 348, in __del__\n",
      "    cmd = {\"cmd\": \"delete\", \"idx\": self.idx}\n",
      "AttributeError: 'Boid' object has no attribute 'idx'\n"
     ]
    },
    {
     "ename": "KeyboardInterrupt",
     "evalue": "",
     "output_type": "error",
     "traceback": [
      "\u001b[0;31m---------------------------------------------------------------------------\u001b[0m",
      "\u001b[0;31mKeyboardInterrupt\u001b[0m                         Traceback (most recent call last)",
      "Cell \u001b[0;32mIn[25], line 4\u001b[0m\n\u001b[1;32m      1\u001b[0m n \u001b[38;5;241m=\u001b[39m \u001b[38;5;241m20\u001b[39m\n\u001b[1;32m      2\u001b[0m size \u001b[38;5;241m=\u001b[39m \u001b[38;5;241m5\u001b[39m\n\u001b[0;32m----> 4\u001b[0m world \u001b[38;5;241m=\u001b[39m \u001b[43mWorld\u001b[49m\u001b[43m(\u001b[49m\u001b[43mn\u001b[49m\u001b[43m)\u001b[49m\n\u001b[1;32m      5\u001b[0m scene\u001b[38;5;241m.\u001b[39mcenter \u001b[38;5;241m=\u001b[39m world\u001b[38;5;241m.\u001b[39mcarrot\u001b[38;5;241m.\u001b[39mpos\n\u001b[1;32m      6\u001b[0m scene\u001b[38;5;241m.\u001b[39mautoscale \u001b[38;5;241m=\u001b[39m \u001b[38;5;28;01mFalse\u001b[39;00m\n",
      "Cell \u001b[0;32mIn[24], line 8\u001b[0m, in \u001b[0;36mWorld.__init__\u001b[0;34m(self, n)\u001b[0m\n\u001b[1;32m      3\u001b[0m \u001b[38;5;28;01mdef\u001b[39;00m\u001b[38;5;250m \u001b[39m\u001b[38;5;21m__init__\u001b[39m(\u001b[38;5;28mself\u001b[39m, n\u001b[38;5;241m=\u001b[39m\u001b[38;5;241m10\u001b[39m):\n\u001b[1;32m      4\u001b[0m \u001b[38;5;250m    \u001b[39m\u001b[38;5;124;03m\"\"\"Create n Boids and one carrot.\u001b[39;00m\n\u001b[1;32m      5\u001b[0m \n\u001b[1;32m      6\u001b[0m \u001b[38;5;124;03m    tracking: indicates whether the carrot follows the mouse\u001b[39;00m\n\u001b[1;32m      7\u001b[0m \u001b[38;5;124;03m    \"\"\"\u001b[39;00m\n\u001b[0;32m----> 8\u001b[0m     \u001b[38;5;28mself\u001b[39m\u001b[38;5;241m.\u001b[39mboids \u001b[38;5;241m=\u001b[39m [Boid() \u001b[38;5;28;01mfor\u001b[39;00m i \u001b[38;5;129;01min\u001b[39;00m \u001b[38;5;28mrange\u001b[39m(n)]\n\u001b[1;32m      9\u001b[0m     \u001b[38;5;28mself\u001b[39m\u001b[38;5;241m.\u001b[39mcarrot \u001b[38;5;241m=\u001b[39m sphere(pos\u001b[38;5;241m=\u001b[39mvector(\u001b[38;5;241m1\u001b[39m, \u001b[38;5;241m0\u001b[39m, \u001b[38;5;241m0\u001b[39m), radius\u001b[38;5;241m=\u001b[39m\u001b[38;5;241m0.1\u001b[39m, color\u001b[38;5;241m=\u001b[39mvector(\u001b[38;5;241m1\u001b[39m, \u001b[38;5;241m0\u001b[39m, \u001b[38;5;241m0\u001b[39m))\n\u001b[1;32m     10\u001b[0m     \u001b[38;5;28mself\u001b[39m\u001b[38;5;241m.\u001b[39mtracking \u001b[38;5;241m=\u001b[39m \u001b[38;5;28;01mFalse\u001b[39;00m\n",
      "Cell \u001b[0;32mIn[24], line 8\u001b[0m, in \u001b[0;36m<listcomp>\u001b[0;34m(.0)\u001b[0m\n\u001b[1;32m      3\u001b[0m \u001b[38;5;28;01mdef\u001b[39;00m\u001b[38;5;250m \u001b[39m\u001b[38;5;21m__init__\u001b[39m(\u001b[38;5;28mself\u001b[39m, n\u001b[38;5;241m=\u001b[39m\u001b[38;5;241m10\u001b[39m):\n\u001b[1;32m      4\u001b[0m \u001b[38;5;250m    \u001b[39m\u001b[38;5;124;03m\"\"\"Create n Boids and one carrot.\u001b[39;00m\n\u001b[1;32m      5\u001b[0m \n\u001b[1;32m      6\u001b[0m \u001b[38;5;124;03m    tracking: indicates whether the carrot follows the mouse\u001b[39;00m\n\u001b[1;32m      7\u001b[0m \u001b[38;5;124;03m    \"\"\"\u001b[39;00m\n\u001b[0;32m----> 8\u001b[0m     \u001b[38;5;28mself\u001b[39m\u001b[38;5;241m.\u001b[39mboids \u001b[38;5;241m=\u001b[39m [\u001b[43mBoid\u001b[49m\u001b[43m(\u001b[49m\u001b[43m)\u001b[49m \u001b[38;5;28;01mfor\u001b[39;00m i \u001b[38;5;129;01min\u001b[39;00m \u001b[38;5;28mrange\u001b[39m(n)]\n\u001b[1;32m      9\u001b[0m     \u001b[38;5;28mself\u001b[39m\u001b[38;5;241m.\u001b[39mcarrot \u001b[38;5;241m=\u001b[39m sphere(pos\u001b[38;5;241m=\u001b[39mvector(\u001b[38;5;241m1\u001b[39m, \u001b[38;5;241m0\u001b[39m, \u001b[38;5;241m0\u001b[39m), radius\u001b[38;5;241m=\u001b[39m\u001b[38;5;241m0.1\u001b[39m, color\u001b[38;5;241m=\u001b[39mvector(\u001b[38;5;241m1\u001b[39m, \u001b[38;5;241m0\u001b[39m, \u001b[38;5;241m0\u001b[39m))\n\u001b[1;32m     10\u001b[0m     \u001b[38;5;28mself\u001b[39m\u001b[38;5;241m.\u001b[39mtracking \u001b[38;5;241m=\u001b[39m \u001b[38;5;28;01mFalse\u001b[39;00m\n",
      "Cell \u001b[0;32mIn[23], line 7\u001b[0m, in \u001b[0;36mBoid.__init__\u001b[0;34m(self, radius, length)\u001b[0m\n\u001b[1;32m      5\u001b[0m pos \u001b[38;5;241m=\u001b[39m random_vector(\u001b[38;5;241m0\u001b[39m, \u001b[38;5;241m1\u001b[39m)\n\u001b[1;32m      6\u001b[0m \u001b[38;5;28mself\u001b[39m\u001b[38;5;241m.\u001b[39mvel \u001b[38;5;241m=\u001b[39m random_vector(\u001b[38;5;241m0\u001b[39m, \u001b[38;5;241m1\u001b[39m)\u001b[38;5;241m.\u001b[39mnorm()\n\u001b[0;32m----> 7\u001b[0m \u001b[38;5;28;43msuper\u001b[39;49m\u001b[43m(\u001b[49m\u001b[43m)\u001b[49m\u001b[38;5;241;43m.\u001b[39;49m\u001b[38;5;21;43m__init__\u001b[39;49m\u001b[43m(\u001b[49m\u001b[43mpos\u001b[49m\u001b[38;5;241;43m=\u001b[39;49m\u001b[43mpos\u001b[49m\u001b[43m,\u001b[49m\u001b[43m \u001b[49m\u001b[43mradius\u001b[49m\u001b[38;5;241;43m=\u001b[39;49m\u001b[43mradius\u001b[49m\u001b[43m,\u001b[49m\u001b[43m \u001b[49m\u001b[43mlength\u001b[49m\u001b[38;5;241;43m=\u001b[39;49m\u001b[43mlength\u001b[49m\u001b[43m)\u001b[49m\n\u001b[1;32m      8\u001b[0m \u001b[38;5;28mself\u001b[39m\u001b[38;5;241m.\u001b[39maxis \u001b[38;5;241m=\u001b[39m length \u001b[38;5;241m*\u001b[39m \u001b[38;5;28mself\u001b[39m\u001b[38;5;241m.\u001b[39mvel\n",
      "File \u001b[0;32m~/miniconda3/envs/ThinkLinearAlgebra/lib/python3.10/site-packages/vpython/vpython.py:1246\u001b[0m, in \u001b[0;36mcone.__init__\u001b[0;34m(self, **args)\u001b[0m\n\u001b[1;32m   1244\u001b[0m args[\u001b[38;5;124m'\u001b[39m\u001b[38;5;124m_default_size\u001b[39m\u001b[38;5;124m'\u001b[39m] \u001b[38;5;241m=\u001b[39m vector(\u001b[38;5;241m1\u001b[39m,\u001b[38;5;241m2\u001b[39m,\u001b[38;5;241m2\u001b[39m)\n\u001b[1;32m   1245\u001b[0m args[\u001b[38;5;124m'\u001b[39m\u001b[38;5;124m_objName\u001b[39m\u001b[38;5;124m'\u001b[39m] \u001b[38;5;241m=\u001b[39m \u001b[38;5;124m\"\u001b[39m\u001b[38;5;124mcone\u001b[39m\u001b[38;5;124m\"\u001b[39m\n\u001b[0;32m-> 1246\u001b[0m \u001b[38;5;28;43msuper\u001b[39;49m\u001b[43m(\u001b[49m\u001b[43mcone\u001b[49m\u001b[43m,\u001b[49m\u001b[43m \u001b[49m\u001b[38;5;28;43mself\u001b[39;49m\u001b[43m)\u001b[49m\u001b[38;5;241;43m.\u001b[39;49m\u001b[43msetup\u001b[49m\u001b[43m(\u001b[49m\u001b[43margs\u001b[49m\u001b[43m)\u001b[49m\n",
      "File \u001b[0;32m~/miniconda3/envs/ThinkLinearAlgebra/lib/python3.10/site-packages/vpython/vpython.py:612\u001b[0m, in \u001b[0;36mstandardAttributes.setup\u001b[0;34m(self, args)\u001b[0m\n\u001b[1;32m    611\u001b[0m \u001b[38;5;28;01mdef\u001b[39;00m\u001b[38;5;250m \u001b[39m\u001b[38;5;21msetup\u001b[39m(\u001b[38;5;28mself\u001b[39m, args):\n\u001b[0;32m--> 612\u001b[0m     \u001b[38;5;28;43msuper\u001b[39;49m\u001b[43m(\u001b[49m\u001b[43mstandardAttributes\u001b[49m\u001b[43m,\u001b[49m\u001b[43m \u001b[49m\u001b[38;5;28;43mself\u001b[39;49m\u001b[43m)\u001b[49m\u001b[38;5;241;43m.\u001b[39;49m\u001b[38;5;21;43m__init__\u001b[39;49m\u001b[43m(\u001b[49m\u001b[43m)\u001b[49m\n\u001b[1;32m    613\u001b[0m     \u001b[38;5;28mself\u001b[39m\u001b[38;5;241m.\u001b[39m_constructing \u001b[38;5;241m=\u001b[39m \u001b[38;5;28;01mTrue\u001b[39;00m  \u001b[38;5;66;03m## calls to setters are from constructor\u001b[39;00m\n\u001b[1;32m    615\u001b[0m     objName \u001b[38;5;241m=\u001b[39m \u001b[38;5;28mself\u001b[39m\u001b[38;5;241m.\u001b[39m_objName \u001b[38;5;241m=\u001b[39m args[\u001b[38;5;124m'\u001b[39m\u001b[38;5;124m_objName\u001b[39m\u001b[38;5;124m'\u001b[39m]  \u001b[38;5;66;03m## identifies object type\u001b[39;00m\n",
      "File \u001b[0;32m~/miniconda3/envs/ThinkLinearAlgebra/lib/python3.10/site-packages/vpython/vpython.py:265\u001b[0m, in \u001b[0;36mbaseObj.__init__\u001b[0;34m(self, **kwargs)\u001b[0m\n\u001b[1;32m    262\u001b[0m \u001b[38;5;28;01mif\u001b[39;00m \u001b[38;5;129;01mnot\u001b[39;00m (baseObj\u001b[38;5;241m.\u001b[39m_view_constructed \u001b[38;5;129;01mor\u001b[39;00m\n\u001b[1;32m    263\u001b[0m         baseObj\u001b[38;5;241m.\u001b[39m_canvas_constructing):\n\u001b[1;32m    264\u001b[0m     \u001b[38;5;28;01mif\u001b[39;00m _isnotebook:\n\u001b[0;32m--> 265\u001b[0m         \u001b[38;5;28;01mfrom\u001b[39;00m\u001b[38;5;250m \u001b[39m\u001b[38;5;21;01m.\u001b[39;00m\u001b[38;5;21;01mwith_notebook\u001b[39;00m\u001b[38;5;250m \u001b[39m\u001b[38;5;28;01mimport\u001b[39;00m _\n\u001b[1;32m    266\u001b[0m     \u001b[38;5;28;01melse\u001b[39;00m:\n\u001b[1;32m    267\u001b[0m         \u001b[38;5;28;01mfrom\u001b[39;00m\u001b[38;5;250m \u001b[39m\u001b[38;5;21;01m.\u001b[39;00m\u001b[38;5;21;01mno_notebook\u001b[39;00m\u001b[38;5;250m \u001b[39m\u001b[38;5;28;01mimport\u001b[39;00m _\n",
      "File \u001b[0;32m~/miniconda3/envs/ThinkLinearAlgebra/lib/python3.10/site-packages/vpython/with_notebook.py:154\u001b[0m\n\u001b[1;32m    152\u001b[0m baseObj\u001b[38;5;241m.\u001b[39mglow \u001b[38;5;241m=\u001b[39m GlowWidget(wsport\u001b[38;5;241m=\u001b[39m__SOCKET_PORT, wsuri\u001b[38;5;241m=\u001b[39m\u001b[38;5;124m'\u001b[39m\u001b[38;5;124m/ws\u001b[39m\u001b[38;5;124m'\u001b[39m)\n\u001b[1;32m    153\u001b[0m \u001b[38;5;28;01mwhile\u001b[39;00m (\u001b[38;5;129;01mnot\u001b[39;00m wsConnected):\n\u001b[0;32m--> 154\u001b[0m     \u001b[43mtime\u001b[49m\u001b[38;5;241;43m.\u001b[39;49m\u001b[43msleep\u001b[49m\u001b[43m(\u001b[49m\u001b[38;5;241;43m0.1\u001b[39;49m\u001b[43m)\u001b[49m          \u001b[38;5;66;03m# wait for websocket to connect\u001b[39;00m\n\u001b[1;32m    156\u001b[0m baseObj\u001b[38;5;241m.\u001b[39mtrigger()  \u001b[38;5;66;03m# start the trigger ping-pong process\u001b[39;00m\n\u001b[1;32m    159\u001b[0m \u001b[38;5;66;03m# Same justification as above for removing the ipykernel check.\u001b[39;00m\n\u001b[1;32m    160\u001b[0m \u001b[38;5;66;03m# There was also an IPython version check for >=4, which was\u001b[39;00m\n\u001b[1;32m    161\u001b[0m \u001b[38;5;66;03m# released in Nov 2015. Ok to stop supporting in 2.019 I think.\u001b[39;00m\n",
      "\u001b[0;31mKeyboardInterrupt\u001b[0m: "
     ]
    },
    {
     "data": {
      "application/javascript": [
       "\n",
       "        setTimeout(function() {\n",
       "            var nbb_cell_id = 25;\n",
       "            var nbb_formatted_code = \"n = 20\\nsize = 5\\n\\nworld = World(n)\\nscene.center = world.carrot.pos\\nscene.autoscale = False\\n\\n\\ndef toggle_tracking(evt):\\n    \\\"\\\"\\\"If we're currently tracking, turn it off, and vice versa.\\\"\\\"\\\"\\n    world.tracking = not world.tracking\\n\\n\\n# when the user clicks, toggle tracking.\\nscene.bind(\\\"click\\\", toggle_tracking)\\n\\nwhile 1:\\n    rate(10)\\n    world.step()\";\n",
       "            var nbb_cells = Jupyter.notebook.get_cells();\n",
       "            for (var i = 0; i < nbb_cells.length; ++i) {\n",
       "                if (nbb_cells[i].input_prompt_number == nbb_cell_id) {\n",
       "                    nbb_cells[i].set_text(nbb_formatted_code);\n",
       "                    break;\n",
       "                }\n",
       "            }\n",
       "        }, 500);\n",
       "        "
      ],
      "text/plain": [
       "<IPython.core.display.Javascript object>"
      ]
     },
     "metadata": {},
     "output_type": "display_data"
    }
   ],
   "source": [
    "n = 20\n",
    "size = 5\n",
    "\n",
    "world = World(n)\n",
    "scene.center = world.carrot.pos\n",
    "scene.autoscale = False\n",
    "\n",
    "\n",
    "def toggle_tracking(evt):\n",
    "    \"\"\"If we're currently tracking, turn it off, and vice versa.\"\"\"\n",
    "    world.tracking = not world.tracking\n",
    "\n",
    "\n",
    "# when the user clicks, toggle tracking.\n",
    "scene.bind(\"click\", toggle_tracking)\n",
    "\n",
    "while 1:\n",
    "    rate(10)\n",
    "    world.step()"
   ]
  },
  {
   "cell_type": "code",
   "execution_count": null,
   "id": "502f43ed-94dd-423b-9121-bed2ea1f42ab",
   "metadata": {},
   "outputs": [],
   "source": []
  }
 ],
 "metadata": {
  "kernelspec": {
   "display_name": "Python 3 (ipykernel)",
   "language": "python",
   "name": "python3"
  },
  "language_info": {
   "codemirror_mode": {
    "name": "ipython",
    "version": 3
   },
   "file_extension": ".py",
   "mimetype": "text/x-python",
   "name": "python",
   "nbconvert_exporter": "python",
   "pygments_lexer": "ipython3",
   "version": "3.10.16"
  }
 },
 "nbformat": 4,
 "nbformat_minor": 5
}
