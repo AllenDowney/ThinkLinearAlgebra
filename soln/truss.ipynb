{
 "cells": [
  {
   "cell_type": "markdown",
   "id": "025b76df",
   "metadata": {},
   "source": [
    "*Think Linear Algebra* is not for sale yet, but if you would like to support this project, you can [buy me a coffee](https://buymeacoffee.com/allendowney)."
   ]
  },
  {
   "cell_type": "markdown",
   "id": "85c30bdb",
   "metadata": {},
   "source": [
    "# Trusses"
   ]
  },
  {
   "cell_type": "markdown",
   "id": "3893fe82",
   "metadata": {
    "tags": [
     "remove-print"
    ]
   },
   "source": [
    "[Click here to run this notebook on Colab](https://colab.research.google.com/github/AllenDowney/ThinkLinearAlgebra/blob/main/nb/nullspace.ipynb)."
   ]
  },
  {
   "cell_type": "code",
   "execution_count": 49,
   "id": "02d400cf",
   "metadata": {
    "tags": [
     "remove-print",
     "hide-cell"
    ]
   },
   "outputs": [],
   "source": [
    "from os.path import basename, exists\n",
    "\n",
    "\n",
    "def download(url):\n",
    "    filename = basename(url)\n",
    "    if not exists(filename):\n",
    "        from urllib.request import urlretrieve\n",
    "\n",
    "        local, _ = urlretrieve(url, filename)\n",
    "        print(\"Downloaded \" + local)\n",
    "\n",
    "\n",
    "download(\"https://github.com/AllenDowney/ThinkLinearAlgebra/raw/main/utils.py\")"
   ]
  },
  {
   "cell_type": "code",
   "execution_count": 50,
   "id": "1a3119be",
   "metadata": {
    "tags": [
     "hide-cell",
     "remove-print"
    ]
   },
   "outputs": [],
   "source": [
    "import numpy as np\n",
    "import pandas as pd\n",
    "import matplotlib.pyplot as plt\n",
    "import sympy as sp\n",
    "\n",
    "from utils import decorate"
   ]
  },
  {
   "cell_type": "markdown",
   "id": "9ebc865a",
   "metadata": {},
   "source": [
    "## Section"
   ]
  },
  {
   "cell_type": "code",
   "execution_count": 51,
   "id": "2724ec07",
   "metadata": {},
   "outputs": [
    {
     "data": {
      "text/latex": [
       "$\\displaystyle \\left[\\begin{matrix}u_{x}\\\\u_{y}\\end{matrix}\\right]$"
      ],
      "text/plain": [
       "Matrix([\n",
       "[u_x],\n",
       "[u_y]])"
      ]
     },
     "execution_count": 51,
     "metadata": {},
     "output_type": "execute_result"
    }
   ],
   "source": [
    "# --- Imports ---\n",
    "import pint\n",
    "from sympy import symbols, Matrix, sqrt, simplify, Eq, solve\n",
    "\n",
    "# --- Unit setup ---\n",
    "ureg = pint.UnitRegistry()\n",
    "\n",
    "# --- Symbolic variables (global scope) ---\n",
    "L = symbols('L')\n",
    "x_C, y_C = symbols('x_C y_C')\n",
    "E_CA, E_CB = symbols('E_CA E_CB')\n",
    "A_CA, A_CB = symbols('A_CA A_CB')\n",
    "F = symbols('F')\n",
    "u_x, u_y = symbols('u_x u_y')\n",
    "\n",
    "# --- Position vectors of nodes ---\n",
    "pos_A = Matrix([0, 0])\n",
    "pos_B = Matrix([L, 0])\n",
    "pos_C = Matrix([x_C, y_C])\n",
    "\n",
    "# --- Displacement vector at node C ---\n",
    "u_C = Matrix([u_x, u_y])\n",
    "u_C"
   ]
  },
  {
   "cell_type": "code",
   "execution_count": 70,
   "id": "681598e7",
   "metadata": {},
   "outputs": [
    {
     "data": {
      "text/latex": [
       "$\\displaystyle \\frac{A_{CA} E_{CA}}{\\sqrt{\\left|{x_{C}}\\right|^{2} + \\left|{y_{C}}\\right|^{2}}}$"
      ],
      "text/plain": [
       "A_CA*E_CA/sqrt(Abs(x_C)**2 + Abs(y_C)**2)"
      ]
     },
     "execution_count": 70,
     "metadata": {},
     "output_type": "execute_result"
    }
   ],
   "source": [
    "# --- Vectors from node C to A and B ---\n",
    "r_CA = pos_A - pos_C\n",
    "r_CB = pos_B - pos_C\n",
    "\n",
    "# --- Stiffnesses (scalar) ---\n",
    "L_CA = r_CA.norm()\n",
    "L_CB = r_CB.norm()\n",
    "\n",
    "k_CA = E_CA * A_CA / L_CA\n",
    "k_CB = E_CB * A_CB / L_CB\n",
    "k_CA"
   ]
  },
  {
   "cell_type": "code",
   "execution_count": 74,
   "id": "4b96ee8e",
   "metadata": {},
   "outputs": [
    {
     "data": {
      "text/latex": [
       "$\\displaystyle \\left[\\begin{matrix}\\frac{A_{CA} E_{CA} x_{C} \\left(- \\frac{u_{x} x_{C}}{\\sqrt{\\left|{x_{C}}\\right|^{2} + \\left|{y_{C}}\\right|^{2}}} - \\frac{u_{y} y_{C}}{\\sqrt{\\left|{x_{C}}\\right|^{2} + \\left|{y_{C}}\\right|^{2}}}\\right)}{\\left|{x_{C}}\\right|^{2} + \\left|{y_{C}}\\right|^{2}} - \\frac{A_{CB} E_{CB} \\left(L - x_{C}\\right) \\left(\\frac{u_{x} \\left(L - x_{C}\\right)}{\\sqrt{\\left|{y_{C}}\\right|^{2} + \\left|{L - x_{C}}\\right|^{2}}} - \\frac{u_{y} y_{C}}{\\sqrt{\\left|{y_{C}}\\right|^{2} + \\left|{L - x_{C}}\\right|^{2}}}\\right)}{\\left|{y_{C}}\\right|^{2} + \\left|{L - x_{C}}\\right|^{2}}\\\\\\frac{A_{CA} E_{CA} y_{C} \\left(- \\frac{u_{x} x_{C}}{\\sqrt{\\left|{x_{C}}\\right|^{2} + \\left|{y_{C}}\\right|^{2}}} - \\frac{u_{y} y_{C}}{\\sqrt{\\left|{x_{C}}\\right|^{2} + \\left|{y_{C}}\\right|^{2}}}\\right)}{\\left|{x_{C}}\\right|^{2} + \\left|{y_{C}}\\right|^{2}} + \\frac{A_{CB} E_{CB} y_{C} \\left(\\frac{u_{x} \\left(L - x_{C}\\right)}{\\sqrt{\\left|{y_{C}}\\right|^{2} + \\left|{L - x_{C}}\\right|^{2}}} - \\frac{u_{y} y_{C}}{\\sqrt{\\left|{y_{C}}\\right|^{2} + \\left|{L - x_{C}}\\right|^{2}}}\\right)}{\\left|{y_{C}}\\right|^{2} + \\left|{L - x_{C}}\\right|^{2}}\\end{matrix}\\right]$"
      ],
      "text/plain": [
       "Matrix([\n",
       "[A_CA*E_CA*x_C*(-u_x*x_C/sqrt(Abs(x_C)**2 + Abs(y_C)**2) - u_y*y_C/sqrt(Abs(x_C)**2 + Abs(y_C)**2))/(Abs(x_C)**2 + Abs(y_C)**2) - A_CB*E_CB*(L - x_C)*(u_x*(L - x_C)/sqrt(Abs(y_C)**2 + Abs(L - x_C)**2) - u_y*y_C/sqrt(Abs(y_C)**2 + Abs(L - x_C)**2))/(Abs(y_C)**2 + Abs(L - x_C)**2)],\n",
       "[      A_CA*E_CA*y_C*(-u_x*x_C/sqrt(Abs(x_C)**2 + Abs(y_C)**2) - u_y*y_C/sqrt(Abs(x_C)**2 + Abs(y_C)**2))/(Abs(x_C)**2 + Abs(y_C)**2) + A_CB*E_CB*y_C*(u_x*(L - x_C)/sqrt(Abs(y_C)**2 + Abs(L - x_C)**2) - u_y*y_C/sqrt(Abs(y_C)**2 + Abs(L - x_C)**2))/(Abs(y_C)**2 + Abs(L - x_C)**2)]])"
      ]
     },
     "execution_count": 74,
     "metadata": {},
     "output_type": "execute_result"
    }
   ],
   "source": [
    "def projection(r, v):\n",
    "    rhat = r.normalized()\n",
    "    return rhat.dot(v) * rhat\n",
    "\n",
    "\n",
    "# --- Internal force contributions ---\n",
    "f_CA = -k_CA * projection(r_CA, u_C)\n",
    "f_CB = -k_CB * projection(r_CB, u_C)\n",
    "\n",
    "f_C = f_CA + f_CB  # Net internal force on node C\n",
    "f_C"
   ]
  },
  {
   "cell_type": "code",
   "execution_count": 75,
   "id": "bc8f0a13",
   "metadata": {},
   "outputs": [
    {
     "name": "stdout",
     "output_type": "stream",
     "text": [
      "Displacement at node C:\n",
      "u_x = 0 mm\n",
      "u_y = -0.0163333333333333 mm\n"
     ]
    }
   ],
   "source": [
    "# --- Numerical parameters (Pint quantities) ---\n",
    "params = {\n",
    "    'L': 15.0 * ureg.cm,\n",
    "    'x_C': 15.0 / 2 * ureg.cm,\n",
    "    'y_C': np.sqrt(3) * 15.0 / 2 * ureg.cm,\n",
    "    'A_CA': 1.0 * ureg.cm * 0.2 * ureg.cm,\n",
    "    'A_CB': 1.0 * ureg.cm * 0.2 * ureg.cm,\n",
    "    'E_CA': 3.0e9 * ureg.Pa,\n",
    "    'E_CB': 3.0e9 * ureg.Pa,\n",
    "    'F': 9.8 * ureg.newton,\n",
    "}\n",
    "\n",
    "# --- Helper: map symbols to numerical values ---\n",
    "def make_subs(symbols, quantities):\n",
    "    return {sym: quantities[sym.name].to_base_units().magnitude for sym in symbols}\n",
    "\n",
    "symbols_to_sub = [L, x_C, y_C, A_CA, A_CB, E_CA, E_CB, F]\n",
    "subs = make_subs(symbols_to_sub, params)\n",
    "\n",
    "# --- External force vector ---\n",
    "f_ext = Matrix([0, -F])  # Downward load\n",
    "\n",
    "# --- Equilibrium equations (sum of forces = 0) ---\n",
    "eqs = [\n",
    "    Eq(f_C[0] + f_ext[0], 0),\n",
    "    Eq(f_C[1] + f_ext[1], 0)\n",
    "]\n",
    "\n",
    "# --- Solve for displacement under load ---\n",
    "eqs_num = [eq.subs(subs) for eq in eqs]\n",
    "sol = solve(eqs_num, (u_x, u_y), dict=True)\n",
    "\n",
    "# --- Display results in mm ---\n",
    "print(\"Displacement at node C:\")\n",
    "for k, v in sol[0].items():\n",
    "    print(f\"{k} = {v*1000} mm\")"
   ]
  },
  {
   "cell_type": "code",
   "execution_count": null,
   "id": "b75bc84b",
   "metadata": {},
   "outputs": [],
   "source": []
  },
  {
   "cell_type": "code",
   "execution_count": null,
   "id": "c1ba521f",
   "metadata": {},
   "outputs": [],
   "source": []
  },
  {
   "cell_type": "markdown",
   "id": "e27da3a4",
   "metadata": {
    "tags": [
     "remove-print"
    ]
   },
   "source": [
    "[Think Linear Algebra](https://allendowney.github.io/ThinkLinearAlgebra/index.html)\n",
    "\n",
    "Copyright 2025 [Allen B. Downey](https://allendowney.com)\n",
    "\n",
    "Code license: [MIT License](https://mit-license.org/)\n",
    "\n",
    "Text license: [Creative Commons Attribution-NonCommercial-ShareAlike 4.0 International](https://creativecommons.org/licenses/by-nc-sa/4.0/)"
   ]
  },
  {
   "cell_type": "code",
   "execution_count": null,
   "id": "c8b4e400-dc97-498e-9016-3e9ef05dc7a3",
   "metadata": {},
   "outputs": [],
   "source": []
  }
 ],
 "metadata": {
  "celltoolbar": "Tags",
  "kernelspec": {
   "display_name": "Python 3 (ipykernel)",
   "language": "python",
   "name": "python3"
  },
  "language_info": {
   "codemirror_mode": {
    "name": "ipython",
    "version": 3
   },
   "file_extension": ".py",
   "mimetype": "text/x-python",
   "name": "python",
   "nbconvert_exporter": "python",
   "pygments_lexer": "ipython3",
   "version": "3.10.16"
  }
 },
 "nbformat": 4,
 "nbformat_minor": 5
}
