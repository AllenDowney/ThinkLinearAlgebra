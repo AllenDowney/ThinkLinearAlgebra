{
 "cells": [
  {
   "cell_type": "markdown",
   "id": "025b76df",
   "metadata": {},
   "source": [
    "*Think Linear Algebra* is not for sale yet, but if you would like to support this project, you can [buy me a coffee](https://buymeacoffee.com/allendowney)."
   ]
  },
  {
   "cell_type": "markdown",
   "id": "e03709d8",
   "metadata": {},
   "source": [
    "# Truss in the System\n",
    "\n",
    "In this chapter, we'll use systems of linear equations to analyze trusses.\n",
    "\n",
    "A **truss** is an assembly of beams connected by joints, usually designed to support a load. Many bridges and roofs are supported by trusses, and if you've ever participated in a model bridge competition, the structure you built was probably a truss.\n",
    "\n",
    "This picture shows a **Warren truss**, the basis of many railroad bridge designs:\n",
    "\n",
    "<img width=\"400\" src=\"https://upload.wikimedia.org/wikipedia/commons/thumb/2/2b/VIEW_OF_BRIDGE_FROM_SOUTH_WITH_ONCOMING_CSX_LOCOMOTIVE_ON_TRACKS_BELOW%2C_LOOKING_NORTHEAST_-_Wills_Creek_Bollman_Bridge%2C_Spanning_CSX_tracks_at_T381%2C_Meyersdale%2C_Somerset_County%2C_HAER_PA%2C56-MEYER.V%2C2-2.tif/lossy-page1-800px-thumbnail.tif.jpg\">\n",
    "\n",
    "This structure is made of three connected triangles with horizontal beams across the top. It's supported by anchor points at each end, and it carries a deck that supports a roadway. The load on the truss includes the weight of the roadway, any vehicles on it, and the weight of the truss itself."
   ]
  },
  {
   "cell_type": "markdown",
   "id": "a629e20c",
   "metadata": {},
   "source": [
    "To model a structure like this, we'll make some simplifying assumptions:\n",
    "\n",
    "- We'll treat the structure as two-dimensional, analyzing only one side of the truss.\n",
    "\n",
    "- We'll assume the joints behave like **hinge pins** that connect members but allow them to rotate freely.\n",
    "\n",
    "- We'll assume the load is applied only at the joints, not along the length of the members.\n",
    "\n",
    "- We'll treat each member of the truss as a **spring** that pushes or pulls in response to stretching or compression, with force that depends on its size and material.\n",
    "\n",
    "- We'll assume that the stretching and compression are small enough that the geometry of the truss is unchanged. \n",
    "\n",
    "These assumptions aren't fully realistic, but they're reasonable approximations.\n",
    "With them, we can analyze the structure -- that is, for a given load, we can compute how much each member stretches or compresses, and how much force it exerts in response.\n",
    "\n",
    "The goal is to find an **equilibrium**, where the external forces applied to the truss are exactly balanced by internal spring forces in the members.\n",
    "\n",
    "To solve this system, we'll use **projection matrices**, which we saw in Section XXX, and we'll introduce **block matrices**, which are matrices that contain vectors or submatrices as elements."
   ]
  },
  {
   "cell_type": "markdown",
   "id": "3893fe82",
   "metadata": {
    "tags": [
     "remove-print"
    ]
   },
   "source": [
    "[Click here to run this notebook on Colab](https://colab.research.google.com/github/AllenDowney/ThinkLinearAlgebra/blob/main/nb/nullspace.ipynb)."
   ]
  },
  {
   "cell_type": "code",
   "execution_count": 1,
   "id": "351a9381",
   "metadata": {},
   "outputs": [],
   "source": [
    "%load_ext autoreload\n",
    "%autoreload 2"
   ]
  },
  {
   "cell_type": "code",
   "execution_count": 2,
   "id": "02d400cf",
   "metadata": {
    "tags": [
     "remove-print",
     "hide-cell"
    ]
   },
   "outputs": [],
   "source": [
    "from os.path import basename, exists\n",
    "\n",
    "\n",
    "def download(url):\n",
    "    filename = basename(url)\n",
    "    if not exists(filename):\n",
    "        from urllib.request import urlretrieve\n",
    "\n",
    "        local, _ = urlretrieve(url, filename)\n",
    "        print(\"Downloaded \" + local)\n",
    "\n",
    "\n",
    "download(\"https://github.com/AllenDowney/ThinkLinearAlgebra/raw/main/utils.py\")"
   ]
  },
  {
   "cell_type": "code",
   "execution_count": 3,
   "id": "1a3119be",
   "metadata": {
    "tags": [
     "hide-cell",
     "remove-print"
    ]
   },
   "outputs": [],
   "source": [
    "import networkx as nx\n",
    "import numpy as np\n",
    "import pandas as pd\n",
    "import matplotlib.pyplot as plt\n",
    "import sympy as sp\n",
    "\n",
    "from utils import decorate, underride\n",
    "\n",
    "from utils import gset, gget"
   ]
  },
  {
   "cell_type": "markdown",
   "id": "9ebc865a",
   "metadata": {},
   "source": [
    "## The Simplest Truss\n",
    "\n",
    "We'll start with a truss that's about as simple as it can be, shown in the following diagram."
   ]
  },
  {
   "cell_type": "code",
   "execution_count": 4,
   "id": "409d2371",
   "metadata": {},
   "outputs": [],
   "source": [
    "def make_vector(x, y):\n",
    "    return sp.Matrix([x, y])"
   ]
  },
  {
   "cell_type": "code",
   "execution_count": 5,
   "id": "f61c0d5b",
   "metadata": {},
   "outputs": [],
   "source": [
    "L = sp.symbols('L', positive=True)\n",
    "pos_A = make_vector(-L, -L)\n",
    "pos_B = make_vector(L, -L)   \n",
    "pos_C = make_vector(0, 0)\n",
    "nodes = pos_A, pos_B, pos_C"
   ]
  },
  {
   "cell_type": "code",
   "execution_count": 6,
   "id": "ae479464",
   "metadata": {},
   "outputs": [
    {
     "data": {
      "image/png": "[encoded data removed]",
      "text/plain": [
       "<Figure size 450x262.5 with 1 Axes>"
      ]
     },
     "metadata": {},
     "output_type": "display_data"
    }
   ],
   "source": [
    "from utils import diagram_truss\n",
    "\n",
    "subs = {L: 0.15}\n",
    "diagram_truss(nodes, subs, lim=0.2)"
   ]
  },
  {
   "cell_type": "markdown",
   "id": "0608bcbf",
   "metadata": {},
   "source": [
    "The truss contains only two elements.\n",
    "The one on the left is anchored at point A, the one on the right is anchored at point B, and they are connected to each other at point C.\n",
    "\n",
    "The triangles represent anchors holding the points A and B in place.\n",
    "The circle represents a pin joint that can move under load.\n",
    "\n",
    "To start the analysis of this truss, we'll define symbols to represent the starting position of point C in two dimensions."
   ]
  },
  {
   "cell_type": "code",
   "execution_count": 7,
   "id": "5c873dfa",
   "metadata": {},
   "outputs": [],
   "source": [
    "from sympy import symbols\n",
    "\n",
    "x_C, y_C = symbols('x_C y_C')"
   ]
  },
  {
   "cell_type": "markdown",
   "id": "c07d1bbd",
   "metadata": {},
   "source": [
    "And two more symbols to represent the displacement of point C from its starting position.\n",
    "These are the unknowns we will solve for."
   ]
  },
  {
   "cell_type": "code",
   "execution_count": 8,
   "id": "f36fced2",
   "metadata": {},
   "outputs": [],
   "source": [
    "u_x, u_y = symbols('u_x u_y')"
   ]
  },
  {
   "cell_type": "markdown",
   "id": "d716326d",
   "metadata": {},
   "source": [
    "It will be convenient to pack these unknowns into a SymPy `Matrix` that represents a column vector."
   ]
  },
  {
   "cell_type": "code",
   "execution_count": 9,
   "id": "2724ec07",
   "metadata": {},
   "outputs": [
    {
     "data": {
      "text/latex": [
       "$\\displaystyle \\left[\\begin{matrix}u_{x}\\\\u_{y}\\end{matrix}\\right]$"
      ],
      "text/plain": [
       "Matrix([\n",
       "[u_x],\n",
       "[u_y]])"
      ]
     },
     "execution_count": 9,
     "metadata": {},
     "output_type": "execute_result"
    }
   ],
   "source": [
    "u_C = make_vector(u_x, u_y)\n",
    "u_C"
   ]
  },
  {
   "cell_type": "markdown",
   "id": "de4301b3",
   "metadata": {},
   "source": [
    "Similarly, we'll create matrices to represent the starting positions of points A, B, and C, based on `L`, which represents the length of one of the elements of the truss."
   ]
  },
  {
   "cell_type": "markdown",
   "id": "3f2bb485",
   "metadata": {},
   "source": [
    "Next we'll compute the spring constant of the two elements, which is the product of the cross-sectional area, `A`, and the Young's modulus, `E`, divided by length `L`.\n",
    "\n",
    "For this example, we'll assume that the cross-sectional area is the same but not necessarily the Young's modulus.\n",
    "Here are the symbols we need:"
   ]
  },
  {
   "cell_type": "code",
   "execution_count": 10,
   "id": "4d77cdac",
   "metadata": {},
   "outputs": [],
   "source": [
    "A, E = symbols('A E', positive=True)"
   ]
  },
  {
   "cell_type": "markdown",
   "id": "247cf627",
   "metadata": {},
   "source": [
    "And the spring constants:"
   ]
  },
  {
   "cell_type": "code",
   "execution_count": 11,
   "id": "8c7eaa48",
   "metadata": {},
   "outputs": [],
   "source": [
    "k_CA = A * E / L\n",
    "k_CB = 2 * A * E / L"
   ]
  },
  {
   "cell_type": "markdown",
   "id": "bbe8d016",
   "metadata": {},
   "source": [
    "Next we'll compute vectors that represent the offset of A and B, relative to C."
   ]
  },
  {
   "cell_type": "code",
   "execution_count": 12,
   "id": "30281277",
   "metadata": {},
   "outputs": [],
   "source": [
    "r_CA = pos_A - pos_C\n",
    "r_CB = pos_B - pos_C"
   ]
  },
  {
   "cell_type": "markdown",
   "id": "2a32f3c1",
   "metadata": {},
   "source": [
    "Now, to compute the spring forces in the elements, we have to figure out what part of the displacement, `u`, is along the axis of each element.\n",
    "We can do that by computing the vector projection of `u` onto `r_CA` and `r_CB`, as shown in this diagram."
   ]
  },
  {
   "cell_type": "code",
   "execution_count": 13,
   "id": "4150c92d",
   "metadata": {},
   "outputs": [
    {
     "data": {
      "image/png": "[encoded data removed]",
      "text/plain": [
       "<Figure size 450x262.5 with 1 Axes>"
      ]
     },
     "metadata": {},
     "output_type": "display_data"
    }
   ],
   "source": [
    "u = make_vector(2, -8) * 1e-6\n",
    "scale = 2e4\n",
    "\n",
    "diagram_truss(nodes, subs, u*scale, lim=0.2, add_pin=False, add_labels=False)"
   ]
  },
  {
   "cell_type": "markdown",
   "id": "6e3c8dc2",
   "metadata": {},
   "source": [
    "To compute the vector projection, we'll use this function, which:\n",
    "\n",
    "1. Computes the unit vector in the direction of `r`, called `r_hat`,\n",
    "\n",
    "2. Computes `r_hat.T * u`, which is the scalar magnitude of `u` in the direction of `r_hat`, and\n",
    "\n",
    "3. Multiplies the result by `r_hat`.\n",
    "\n",
    "The result is a vector that represents the component of `u` in the direction of `r`. "
   ]
  },
  {
   "cell_type": "code",
   "execution_count": 14,
   "id": "cec758fe",
   "metadata": {},
   "outputs": [],
   "source": [
    "def vector_projection(u, r):\n",
    "    r_hat = r.normalized()\n",
    "    scalar_projection = r_hat.T * u\n",
    "    return r_hat * scalar_projection"
   ]
  },
  {
   "cell_type": "markdown",
   "id": "0fdbed46",
   "metadata": {},
   "source": [
    "To compute the spring forces in the elements, we multiply the spring constants by the scalar projections."
   ]
  },
  {
   "cell_type": "code",
   "execution_count": 15,
   "id": "73f4dfd4",
   "metadata": {},
   "outputs": [],
   "source": [
    "f_CA = -k_CA * vector_projection(u_C, r_CA)\n",
    "f_CB = -k_CB * vector_projection(u_C, r_CB)"
   ]
  },
  {
   "cell_type": "markdown",
   "id": "41898fd9",
   "metadata": {},
   "source": [
    "As an example, here's `f_CA`, which is a force vector."
   ]
  },
  {
   "cell_type": "code",
   "execution_count": 16,
   "id": "5a267508",
   "metadata": {},
   "outputs": [
    {
     "data": {
      "text/latex": [
       "$\\displaystyle - \\frac{A E}{2 L} \\left[\\begin{matrix}u_{x} + u_{y}\\\\u_{x} + u_{y}\\end{matrix}\\right]$"
      ],
      "text/plain": [
       "(-A*E/(2*L))*Matrix([\n",
       "[u_x + u_y],\n",
       "[u_x + u_y]])"
      ]
     },
     "execution_count": 16,
     "metadata": {},
     "output_type": "execute_result"
    }
   ],
   "source": [
    "from utils import factor_matrix\n",
    "\n",
    "factor = -A * E / L / 2\n",
    "factor_matrix(f_CA, factor)"
   ]
  },
  {
   "cell_type": "markdown",
   "id": "6ce244bb",
   "metadata": {},
   "source": [
    "If the displacement is up and to the right, the components of `u_C` are positive.\n",
    "In that case, the components of `f_CA` are negative -- so the reaction force is in the opposite direction as the displacement.\n",
    "\n",
    "The total force due to this displacement is the sum of the reaction forces."
   ]
  },
  {
   "cell_type": "code",
   "execution_count": 17,
   "id": "bc8eb8c1",
   "metadata": {},
   "outputs": [],
   "source": [
    "f_int = f_CA + f_CB"
   ]
  },
  {
   "cell_type": "markdown",
   "id": "11b08f31",
   "metadata": {},
   "source": [
    "Let's suppose that the external force at `C` is a weight that pulls down in the `y` direction, with no additional force in the `x` direction."
   ]
  },
  {
   "cell_type": "code",
   "execution_count": 18,
   "id": "3287dcca",
   "metadata": {},
   "outputs": [],
   "source": [
    "F = symbols('F')\n",
    "f_ext = make_vector(0, -F)"
   ]
  },
  {
   "cell_type": "markdown",
   "id": "82ad4709",
   "metadata": {},
   "source": [
    "If the truss is not moving, the internal and external forces must be equal, so we can write this equation, which relates the external force to the spring forces."
   ]
  },
  {
   "cell_type": "code",
   "execution_count": 19,
   "id": "9096ccbc",
   "metadata": {},
   "outputs": [],
   "source": [
    "eq = sp.Eq(-f_int, f_ext)"
   ]
  },
  {
   "cell_type": "code",
   "execution_count": 20,
   "id": "8bbc69a7",
   "metadata": {},
   "outputs": [
    {
     "data": {
      "text/latex": [
       "$\\displaystyle - \\frac{A E}{2 L} \\left[\\begin{matrix}3 u_{x} - u_{y}\\\\- u_{x} + 3 u_{y}\\end{matrix}\\right] = \\left[\\begin{matrix}0\\\\- F\\end{matrix}\\right]$"
      ],
      "text/plain": [
       "Eq((-A*E/(2*L))*Matrix([\n",
       "[ 3*u_x - u_y],\n",
       "[-u_x + 3*u_y]]), Matrix([\n",
       "[ 0],\n",
       "[-F]]))"
      ]
     },
     "execution_count": 20,
     "metadata": {},
     "output_type": "execute_result"
    }
   ],
   "source": [
    "sp.Eq(factor_matrix(f_int, factor), f_ext)"
   ]
  },
  {
   "cell_type": "markdown",
   "id": "29e466cf",
   "metadata": {},
   "source": [
    "To analyze the truss, we want to find the displacement `u` that solves this equation.\n",
    "First, let's plug in values for the symbols.\n",
    "\n",
    "For `L`, we'll use the length of a popsicle stick in centimeters, and compute the location of `x_C` and `y_C` accordingly.\n",
    "\n",
    "The Young's modulus of wood is about 3 gigapascal.\n",
    "\n",
    "The cross-sectional area, `A`, is based on the approximate width and thickness of a popsicle stick.\n",
    "\n",
    "Finally, let's suppose the external force is the weight of a one kilogram mass, which is roughly 9.8 N."
   ]
  },
  {
   "cell_type": "code",
   "execution_count": 21,
   "id": "f8f9bcb9",
   "metadata": {},
   "outputs": [],
   "source": [
    "import pint\n",
    "ureg = pint.UnitRegistry()\n",
    "\n",
    "params = {\n",
    "    L: 15.0 * ureg.cm,\n",
    "    E: 3.0e9 * ureg.Pa,\n",
    "    A: 1.0 * ureg.cm * 0.2 * ureg.cm,\n",
    "    F: 9.8 * ureg.newton,\n",
    "}"
   ]
  },
  {
   "cell_type": "markdown",
   "id": "ec172150",
   "metadata": {},
   "source": [
    "To substitute these values into the equation, we'll use this function, which makes a dictionary to map from symbols to their values, converted to base units.\n",
    "So, for example, `L` in centimeters gets converted to meters, and `A` to square meters."
   ]
  },
  {
   "cell_type": "code",
   "execution_count": 22,
   "id": "12888d18",
   "metadata": {},
   "outputs": [],
   "source": [
    "def make_subs(params):\n",
    "    \"\"\"Make a dictionary that maps from symbols to quantities.\"\"\"\n",
    "    return {sym: param.to_base_units().magnitude \n",
    "            for sym, param in params.items()}"
   ]
  },
  {
   "cell_type": "code",
   "execution_count": 23,
   "id": "3fd14930",
   "metadata": {},
   "outputs": [
    {
     "data": {
      "text/plain": [
       "{L: 0.15, E: 3000000000.0, A: 2e-05, F: 9.8}"
      ]
     },
     "execution_count": 23,
     "metadata": {},
     "output_type": "execute_result"
    }
   ],
   "source": [
    "subs = make_subs(params)\n",
    "subs"
   ]
  },
  {
   "cell_type": "markdown",
   "id": "7f64250a",
   "metadata": {},
   "source": [
    "Now we can express the equation numerically."
   ]
  },
  {
   "cell_type": "code",
   "execution_count": 24,
   "id": "1006f69c",
   "metadata": {},
   "outputs": [],
   "source": [
    "eq_num = eq.subs(subs).simplify()"
   ]
  },
  {
   "cell_type": "markdown",
   "id": "9e3c393a",
   "metadata": {},
   "source": [
    "And solve it."
   ]
  },
  {
   "cell_type": "code",
   "execution_count": 25,
   "id": "354f1d41",
   "metadata": {},
   "outputs": [],
   "source": [
    "sol = sp.solve(eq_num, u_C)"
   ]
  },
  {
   "cell_type": "code",
   "execution_count": 26,
   "id": "284c0c01",
   "metadata": {},
   "outputs": [
    {
     "data": {
      "text/latex": [
       "$\\displaystyle \\left[\\begin{matrix}u_{x}\\\\u_{y}\\end{matrix}\\right] = \\left[\\begin{matrix}-6.125\\\\-18.375\\end{matrix}\\right]$"
      ],
      "text/plain": [
       "Eq(Matrix([\n",
       "[u_x],\n",
       "[u_y]]), Matrix([\n",
       "[ -6.125],\n",
       "[-18.375]]))"
      ]
     },
     "execution_count": 26,
     "metadata": {},
     "output_type": "execute_result"
    }
   ],
   "source": [
    "u_num = u_C.subs(sol)\n",
    "sp.Eq(u_C, u_num * 1e6)"
   ]
  },
  {
   "cell_type": "markdown",
   "id": "090af1d5",
   "metadata": {},
   "source": [
    "## The Stiffness Matrix\n",
    "\n",
    "In the previous section, we wrote a vector equation with external force on the right and internal force on the left.\n",
    "The SciPy `solve` function can solve the equation in this form, so it's sufficient to analyze the truss.  [TODO: Does solve have to rewrite it us a matrix equation?]\n",
    "\n",
    "To write the left side us a matrix-vector product, we could factor out `u_x` and `u_y`.\n",
    "Or we can go back and write it that way in the first place.\n",
    "To do that, let's rethink the scalar projection.\n",
    "\n",
    "$$\\mathrm{proj}_{r} u = \\hat{r}\\, \\hat{r}^T u$$\n",
    "\n",
    "\n",
    "In `vector_projection`, we computed the scalar projection `r_hat.T u` first, to get the magnitude of the projection of `u` in the direction of `r`, and then multiplied by `r_hat`.\n",
    "In other words, we evaluated the vector projection like this:\n",
    "\n",
    "$$\\mathrm{proj}_{r} u = \\hat{r}\\, (\\hat{r}^T u)$$\n",
    "\n",
    "As an alternative, we could have multiplied `r_hat` and `r_hat.T` first, like this:\n",
    "\n",
    "$$\\mathrm{proj}_{r} u = (\\hat{r}\\, \\hat{r}^T) u$$\n",
    "\n",
    "If `r_hat` is a column vector, the product of `r_hat` and `r_hat.T` is a matrix called a **projector**, which we can compute like this."
   ]
  },
  {
   "cell_type": "code",
   "execution_count": 27,
   "id": "ca06180b",
   "metadata": {},
   "outputs": [],
   "source": [
    "def projector(r):\n",
    "    rhat = r.normalized()\n",
    "    return rhat * rhat.T"
   ]
  },
  {
   "cell_type": "markdown",
   "id": "582e51bc",
   "metadata": {},
   "source": [
    "As an example, here's the projector matrix for the vector `r_CA`."
   ]
  },
  {
   "cell_type": "code",
   "execution_count": 28,
   "id": "ed3e6778",
   "metadata": {},
   "outputs": [],
   "source": [
    "P_CA = projector(r_CA)"
   ]
  },
  {
   "cell_type": "code",
   "execution_count": 29,
   "id": "7f961bff",
   "metadata": {},
   "outputs": [
    {
     "data": {
      "text/latex": [
       "$\\displaystyle \\left(\\frac{1}{2}\\right) \\left[\\begin{matrix}1 & 1\\\\1 & 1\\end{matrix}\\right]$"
      ],
      "text/plain": [
       "(1/2)*Matrix([\n",
       "[1, 1],\n",
       "[1, 1]])"
      ]
     },
     "execution_count": 29,
     "metadata": {},
     "output_type": "execute_result"
    }
   ],
   "source": [
    "factor = sp.Rational(1, 2)\n",
    "factor_matrix(P_CA, factor)"
   ]
  },
  {
   "cell_type": "markdown",
   "id": "e6f88910",
   "metadata": {},
   "source": [
    "Now if we multiply `P_CA` and `u`, the result is the vector projection of `u_C` onto `r_CA`."
   ]
  },
  {
   "cell_type": "code",
   "execution_count": 30,
   "id": "ff125cd8",
   "metadata": {},
   "outputs": [
    {
     "data": {
      "text/latex": [
       "$\\displaystyle \\left(\\frac{1}{2}\\right) \\left[\\begin{matrix}u_{x} + u_{y}\\\\u_{x} + u_{y}\\end{matrix}\\right]$"
      ],
      "text/plain": [
       "(1/2)*Matrix([\n",
       "[u_x + u_y],\n",
       "[u_x + u_y]])"
      ]
     },
     "execution_count": 30,
     "metadata": {},
     "output_type": "execute_result"
    }
   ],
   "source": [
    "factor_matrix(P_CA * u_C, factor)"
   ]
  },
  {
   "cell_type": "markdown",
   "id": "d4ee0f17",
   "metadata": {},
   "source": [
    "But let's not combine `P_CA` and `U_C` yet; instead, we'll compute the projector matrix for the other element of the truss, `P_CB`."
   ]
  },
  {
   "cell_type": "code",
   "execution_count": 31,
   "id": "5be912b0",
   "metadata": {},
   "outputs": [],
   "source": [
    "P_CB = projector(r_CB)"
   ]
  },
  {
   "cell_type": "markdown",
   "id": "764d92e1",
   "metadata": {},
   "source": [
    "If we multiply a projector matrix by the spring constant `k`, the result is a **stiffness matrix**.\n",
    "So `k_CA * P_CA` is the stiffness matrix due to the truss element `CA` and\n",
    "`k_CB * P_CB` is the stiffness matrix due to the truss element `CB`.\n",
    "Their sum is the stiffness matrix for the whole truss, which we'll call `K`.\n"
   ]
  },
  {
   "cell_type": "code",
   "execution_count": 32,
   "id": "40c23e9c",
   "metadata": {},
   "outputs": [
    {
     "data": {
      "text/latex": [
       "$\\displaystyle \\frac{A E}{2 L} \\left[\\begin{matrix}3 & -1\\\\-1 & 3\\end{matrix}\\right]$"
      ],
      "text/plain": [
       "(A*E/(2*L))*Matrix([\n",
       "[ 3, -1],\n",
       "[-1,  3]])"
      ]
     },
     "execution_count": 32,
     "metadata": {},
     "output_type": "execute_result"
    }
   ],
   "source": [
    "K = k_CA * P_CA + k_CB * P_CB\n",
    "factor_matrix(K, A * E / L / 2)"
   ]
  },
  {
   "cell_type": "markdown",
   "id": "0a798217",
   "metadata": {},
   "source": [
    "If you look closely at the symbolic representation of `K`, you can get some insight into its structure.\n",
    "But at this point it will be easier to interpret if we convert it to a numerical array."
   ]
  },
  {
   "cell_type": "code",
   "execution_count": 33,
   "id": "cb835d01",
   "metadata": {},
   "outputs": [
    {
     "data": {
      "text/plain": [
       "array([[ 600000., -200000.],\n",
       "       [-200000.,  600000.]])"
      ]
     },
     "execution_count": 33,
     "metadata": {},
     "output_type": "execute_result"
    }
   ],
   "source": [
    "from utils import sympy_to_numpy\n",
    "\n",
    "K_np = sympy_to_numpy(K, subs)\n",
    "K_np"
   ]
  },
  {
   "cell_type": "markdown",
   "id": "0411623b",
   "metadata": {},
   "source": [
    "If we multiply `K` by a displacement vector, the result is a force vector that represents the internal force due to that displacement.\n",
    "So one way to interpret the stiffness matrix is to test it with small displacements.\n",
    "Here's an example where we displace node `C` by one micrometer in the `x` direction."
   ]
  },
  {
   "cell_type": "code",
   "execution_count": 34,
   "id": "0050b96f",
   "metadata": {},
   "outputs": [
    {
     "data": {
      "text/plain": [
       "array([-0.6,  0.2])"
      ]
     },
     "execution_count": 34,
     "metadata": {},
     "output_type": "execute_result"
    }
   ],
   "source": [
    "u_example1 = np.array([1, 0]) * 1e-6\n",
    "f_example1 = -K_np @ u_example1\n",
    "f_example1"
   ]
  },
  {
   "cell_type": "markdown",
   "id": "a62766eb",
   "metadata": {},
   "source": [
    "The restoring force is 0.6 N in the negative `x` direction and 0.2 N in the positive `y` direction.\n",
    "And here's an example where we displace `C` by one micrometer in the `y` direction."
   ]
  },
  {
   "cell_type": "code",
   "execution_count": 35,
   "id": "64bd18c0",
   "metadata": {},
   "outputs": [
    {
     "data": {
      "text/plain": [
       "array([ 0.2, -0.6])"
      ]
     },
     "execution_count": 35,
     "metadata": {},
     "output_type": "execute_result"
    }
   ],
   "source": [
    "u_example2 = np.array([0, 1]) * 1e-6\n",
    "f_example2 = -K_np @ u_example2\n",
    "f_example2"
   ]
  },
  {
   "cell_type": "markdown",
   "id": "d53fdb96",
   "metadata": {},
   "source": [
    "The restoring force is about 0.2 N in the positive `x` direction and 0.6 N in the negative `y` direction.\n",
    "\n",
    "More generally, we can use `K` to compute the force that results from any displacement.\n",
    "To demonstrate, we'll make an array of 9 values from -20 to 20 micrometers."
   ]
  },
  {
   "cell_type": "code",
   "execution_count": 36,
   "id": "3cc79fc3",
   "metadata": {},
   "outputs": [
    {
     "data": {
      "text/plain": [
       "array([-2.0e-05, -1.5e-05, -1.0e-05, -5.0e-06,  0.0e+00,  5.0e-06,\n",
       "        1.0e-05,  1.5e-05,  2.0e-05])"
      ]
     },
     "execution_count": 36,
     "metadata": {},
     "output_type": "execute_result"
    }
   ],
   "source": [
    "scale = 1e-6\n",
    "bound = 20\n",
    "displacements = np.linspace(-bound, bound, 9) * scale\n",
    "displacements"
   ]
  },
  {
   "cell_type": "markdown",
   "id": "1d3b1848",
   "metadata": {},
   "source": [
    "By enumerating all pairs of values, we'll make an array of 81 displacement vectors."
   ]
  },
  {
   "cell_type": "code",
   "execution_count": 37,
   "id": "db005ca6",
   "metadata": {},
   "outputs": [
    {
     "data": {
      "text/plain": [
       "(2, 81)"
      ]
     },
     "execution_count": 37,
     "metadata": {},
     "output_type": "execute_result"
    }
   ],
   "source": [
    "pairs = [(x, y) for x in displacements for y in displacements]\n",
    "U = np.array(pairs).T \n",
    "U.shape"
   ]
  },
  {
   "cell_type": "markdown",
   "id": "cd3dd1e5",
   "metadata": {},
   "source": [
    "`U` is matrix-like in the sense that it has two dimensions, but we are using it as a collection of vectors, not a matrix.\n",
    "If we multiply by the stiffness matrix, the result is a collection of force vectors."
   ]
  },
  {
   "cell_type": "code",
   "execution_count": 38,
   "id": "00db88fd",
   "metadata": {},
   "outputs": [
    {
     "data": {
      "text/plain": [
       "(2, 81)"
      ]
     },
     "execution_count": 38,
     "metadata": {},
     "output_type": "execute_result"
    }
   ],
   "source": [
    "F_field = -K_np @ U\n",
    "F_field.shape"
   ]
  },
  {
   "cell_type": "markdown",
   "id": "99e86f47",
   "metadata": {},
   "source": [
    "The following figure shows these results.\n",
    "The location of each arrow shows a hypothetical displacement.\n",
    "Each arrow shows the direction and relative magnitude of the resulting force due to displacement.\n",
    "Note that the positions and forces are not in the same units, so the scale of the arrows is arbitrary."
   ]
  },
  {
   "cell_type": "code",
   "execution_count": 39,
   "id": "b75bc84b",
   "metadata": {},
   "outputs": [
    {
     "data": {
      "image/png": "[encoded data removed]",
      "text/plain": [
       "<Figure size 450x262.5 with 1 Axes>"
      ]
     },
     "metadata": {},
     "output_type": "display_data"
    }
   ],
   "source": [
    "from utils import plot_vectors\n",
    "\n",
    "diagram_truss(nodes, subs, add_pin=False, add_labels=False, axis='on')\n",
    "\n",
    "options = dict(angles='xy', scale_units='xy', scale=3e-7)\n",
    "plot_vectors(F_field.T, U.T, color='C0', alpha=0.9, **options)\n",
    "\n",
    "lim2 = scale * (bound + 2)\n",
    "plt.xlim(-lim2, lim2)\n",
    "plt.ylim(-lim2, lim2)\n",
    "\n",
    "ticks = np.arange(-20, 21, 5)\n",
    "plt.xticks(displacements, ticks)\n",
    "plt.yticks(displacements, ticks)\n",
    "\n",
    "plt.xlabel('x displacement in $\\mu$m')\n",
    "plt.ylabel('y displacement in $\\mu$m')\n",
    "plt.grid(True)"
   ]
  },
  {
   "cell_type": "markdown",
   "id": "1cb42258",
   "metadata": {},
   "source": [
    "Notice that the restoring forces are bigger in the upper left and lower right, which correspond to extension and compression of the stronger element of the truss.\n",
    "\n",
    "In summary, multiplication by `K` is like a function: it takes a displacement vector and returns a corresponding force vector.\n",
    "A function that maps vectors to other vectors is sometimes called a **vector field**.\n",
    "And when those vectors represent forces, we call it a **force field**."
   ]
  },
  {
   "cell_type": "markdown",
   "id": "b2def25d",
   "metadata": {},
   "source": [
    "Finally, let's confirm that we get the same result using NumPy to solve $K u = f$.\n",
    "First we'll convert the external force vector to an array."
   ]
  },
  {
   "cell_type": "code",
   "execution_count": 40,
   "id": "028a9e86",
   "metadata": {
    "scrolled": true
   },
   "outputs": [
    {
     "data": {
      "text/plain": [
       "array([ 0. , -9.8])"
      ]
     },
     "execution_count": 40,
     "metadata": {},
     "output_type": "execute_result"
    }
   ],
   "source": [
    "f_ext_np = sympy_to_numpy(f_ext, subs)\n",
    "f_ext_np"
   ]
  },
  {
   "cell_type": "markdown",
   "id": "35dc7863",
   "metadata": {},
   "source": [
    "And here's the solution."
   ]
  },
  {
   "cell_type": "code",
   "execution_count": 41,
   "id": "bf196d70",
   "metadata": {},
   "outputs": [
    {
     "data": {
      "text/plain": [
       "array([ -6.125, -18.375])"
      ]
     },
     "execution_count": 41,
     "metadata": {},
     "output_type": "execute_result"
    }
   ],
   "source": [
    "import scipy\n",
    "\n",
    "scipy.linalg.solve(K_np, f_ext_np) * 1e6"
   ]
  },
  {
   "cell_type": "markdown",
   "id": "5a5261d4",
   "metadata": {},
   "source": [
    "That's the same as the result we got before we factored out the stiffness matrix.\n",
    "\n",
    "The key idea of this example is the use of the projector matrix to construct the stiffness matrix.\n",
    "We'll use this idea again in the next example."
   ]
  },
  {
   "cell_type": "markdown",
   "id": "44c4d4d4",
   "metadata": {},
   "source": [
    "## Warren Trusses\n",
    "\n",
    "So far we've been working with a simple truss with only two elements.\n",
    "It contained only one node that could move, so we could analyze it with a vector equation with only two components.\n",
    "Now let's try something a little harder -- we'll analyze a Warren truss.\n",
    "We'll use NetworkX to represent the nodes and elements of the truss; then we'll construct a matrix equation that relates the displacements at the nodes to the external forces.\n",
    "\n",
    "To specify the structure of the truss, we'll define `N`, which is the number of triangles in the truss, `L`, which is the length of the elements, and `H`, which is the height of the triangles.\n",
    "We'll assume that all elements are the same length, so the triangles are equilateral."
   ]
  },
  {
   "cell_type": "code",
   "execution_count": 42,
   "id": "169ba4ec",
   "metadata": {},
   "outputs": [
    {
     "data": {
      "text/latex": [
       "$\\displaystyle \\frac{\\sqrt{3} L}{2}$"
      ],
      "text/plain": [
       "sqrt(3)*L/2"
      ]
     },
     "execution_count": 42,
     "metadata": {},
     "output_type": "execute_result"
    }
   ],
   "source": [
    "N = 6\n",
    "L = sp.Symbol('L', positive=True)\n",
    "H = L * sp.sqrt(3) / sp.Rational(2)\n",
    "H"
   ]
  },
  {
   "cell_type": "markdown",
   "id": "10a4ec98",
   "metadata": {},
   "source": [
    "Now let's make the graph.\n",
    "To understand the code in this section, you might find it helpful to look ahead to the diagram that shows the results."
   ]
  },
  {
   "cell_type": "code",
   "execution_count": 43,
   "id": "c75e597b",
   "metadata": {},
   "outputs": [],
   "source": [
    "G = nx.Graph()"
   ]
  },
  {
   "cell_type": "markdown",
   "id": "9324d13c",
   "metadata": {},
   "source": [
    "First we'll create the nodes that run along the bottom of the truss and the edges that connect them."
   ]
  },
  {
   "cell_type": "code",
   "execution_count": 44,
   "id": "cd17b4bc",
   "metadata": {},
   "outputs": [],
   "source": [
    "origin = make_vector(0, 0)\n",
    "\n",
    "for i in range(N + 1):\n",
    "    pos = origin + make_vector(i * L, 0)\n",
    "    G.add_node(f'B{i}', pos=pos)\n",
    "    if i > 0:\n",
    "        G.add_edge(f'B{i-1}', f'B{i}')"
   ]
  },
  {
   "cell_type": "markdown",
   "id": "24c85945",
   "metadata": {},
   "source": [
    "The bottom nodes are assigned positions based on `L`, and labeled with strings like `B0`, `B1`, etc.\n",
    "\n",
    "Now we'll add the nodes that run along the top, the horizontal edges that connect them, and the diagonal edges that connect the top and bottom nodes."
   ]
  },
  {
   "cell_type": "code",
   "execution_count": 45,
   "id": "d6342299",
   "metadata": {},
   "outputs": [],
   "source": [
    "for i in range(N):\n",
    "    pos = origin + make_vector((i + sp.Rational(1, 2)) * L, H)\n",
    "    G.add_node(f'T{i}', pos=pos)\n",
    "    G.add_edge(f'B{i}', f'T{i}')\n",
    "    G.add_edge(f'T{i}', f'B{i+1}')\n",
    "\n",
    "    if i > 0:\n",
    "        G.add_edge(f'T{i-1}', f'T{i}')"
   ]
  },
  {
   "cell_type": "markdown",
   "id": "d8ea584b",
   "metadata": {},
   "source": [
    "The top nodes are assigned positions based on `L` and `H`, and labeled `T0`, `T1`, etc.\n",
    "Here's what the graph looks like."
   ]
  },
  {
   "cell_type": "code",
   "execution_count": 46,
   "id": "17cb8ed9",
   "metadata": {},
   "outputs": [
    {
     "data": {
      "image/png": "[encoded data removed]",
      "text/plain": [
       "<Figure size 450x262.5 with 1 Axes>"
      ]
     },
     "metadata": {},
     "output_type": "display_data"
    }
   ],
   "source": [
    "from utils import draw_truss_graph\n",
    "\n",
    "draw_truss_graph(G, {L: 0.15})"
   ]
  },
  {
   "cell_type": "markdown",
   "id": "68c8d389",
   "metadata": {},
   "source": [
    "For reasons we'll see later, it will be convenient if every node has a unique index starting from `0`.\n",
    "So we'll loop through the nodes and use `gset` to assign each node an index."
   ]
  },
  {
   "cell_type": "code",
   "execution_count": 47,
   "id": "3a6f94a8",
   "metadata": {},
   "outputs": [],
   "source": [
    "for i, node in enumerate(G.nodes):\n",
    "    gset(G, node, index=i)"
   ]
  },
  {
   "cell_type": "markdown",
   "id": "420f32ed",
   "metadata": {},
   "source": [
    "Now we'll loop through the nodes and assign a displacement vector to each one.\n"
   ]
  },
  {
   "cell_type": "code",
   "execution_count": 48,
   "id": "10c97a98",
   "metadata": {},
   "outputs": [],
   "source": [
    "for node in G.nodes():\n",
    "    ux, uy = sp.symbols(f'u_{node}_x u_{node}_y')    \n",
    "    disp = make_vector(ux, uy)\n",
    "    gset(G, node, disp=disp)"
   ]
  },
  {
   "cell_type": "markdown",
   "id": "4a5c355d",
   "metadata": {},
   "source": [
    "We'll assume that the first and last nodes in the bottom row are fixed."
   ]
  },
  {
   "cell_type": "code",
   "execution_count": 49,
   "id": "17ca8592",
   "metadata": {},
   "outputs": [],
   "source": [
    "gset(G, )"
   ]
  },
  {
   "cell_type": "markdown",
   "id": "75b80231",
   "metadata": {},
   "source": [
    "For this example, we'll assume that the roadway is attached to the bottom nodes.\n",
    "To keep things simple, we'll ignore the weight of the truss itself and assume that the load it attached to a single node, `B1`.\n",
    "The following loop creates a force vector for each node in the truss and assigns it to an attribute called `f_ext`."
   ]
  },
  {
   "cell_type": "code",
   "execution_count": 50,
   "id": "a91f1534",
   "metadata": {},
   "outputs": [],
   "source": [
    "F = sp.Symbol('F')\n",
    "weighted = ['B1']\n",
    "\n",
    "for node in G.nodes:\n",
    "    if node in weighted:\n",
    "        gset(G, node, f_ext=make_vector(0, -F))\n",
    "    else:\n",
    "        gset(G, node, f_ext=make_vector(0, 0))"
   ]
  },
  {
   "cell_type": "markdown",
   "id": "18aa000a",
   "metadata": {},
   "source": [
    "Finally, for each element of the truss, we'll compute ...\n",
    "\n"
   ]
  },
  {
   "cell_type": "code",
   "execution_count": 51,
   "id": "2444c157",
   "metadata": {},
   "outputs": [],
   "source": [
    "for edge in G.edges:\n",
    "    node1, node2 = edge\n",
    "    x1 = G.nodes[node1]['pos']\n",
    "    x2 = G.nodes[node2]['pos']\n",
    "    r = x2 - x1\n",
    "    P = projector(r)\n",
    "    gset(G, edge, P=P)"
   ]
  },
  {
   "cell_type": "markdown",
   "id": "f40c8684",
   "metadata": {},
   "source": [
    "To keep this example simple, these attributes are the same for every element, but we could easily swap in different values."
   ]
  },
  {
   "cell_type": "markdown",
   "id": "01dcf5ea",
   "metadata": {},
   "source": [
    "## Block Matrix Equation\n",
    "\n",
    "At this point we have a NetworkX graph that represents the nodes and elements of the truss.\n",
    "The next step is to write a matrix equation to relate the unknown displacements to the internal and external forces.\n",
    "To do that, we will construct a **block matrix** which is a way to represent a system of equations where the unknowns are vectors.\n",
    "\n",
    "To show the structure of the problem, we'll start with a vector of displacements, where each displacement is itself a vector."
   ]
  },
  {
   "cell_type": "code",
   "execution_count": 52,
   "id": "a949e272",
   "metadata": {},
   "outputs": [
    {
     "data": {
      "text/latex": [
       "$\\displaystyle \\left[\\begin{matrix}u_{B0}\\\\u_{B1}\\\\u_{B2}\\\\u_{B3}\\\\u_{B4}\\\\u_{B5}\\\\u_{B6}\\\\u_{T0}\\\\u_{T1}\\\\u_{T2}\\\\u_{T3}\\\\u_{T4}\\\\u_{T5}\\end{matrix}\\right]$"
      ],
      "text/plain": [
       "Matrix([\n",
       "[u_{B0}],\n",
       "[u_{B1}],\n",
       "[u_{B2}],\n",
       "[u_{B3}],\n",
       "[u_{B4}],\n",
       "[u_{B5}],\n",
       "[u_{B6}],\n",
       "[u_{T0}],\n",
       "[u_{T1}],\n",
       "[u_{T2}],\n",
       "[u_{T3}],\n",
       "[u_{T4}],\n",
       "[u_{T5}]])"
      ]
     },
     "execution_count": 52,
     "metadata": {},
     "output_type": "execute_result"
    }
   ],
   "source": [
    "blocks = [sp.MatrixSymbol(f'u_{{{node}}}', 2, 1) for node in G.nodes]\n",
    "u_block = sp.BlockMatrix([[u] for u in blocks])\n",
    "u_block"
   ]
  },
  {
   "cell_type": "markdown",
   "id": "f0753b59",
   "metadata": {},
   "source": [
    "And another vector that represents the external forces on the nodes."
   ]
  },
  {
   "cell_type": "code",
   "execution_count": 53,
   "id": "19bd88b7",
   "metadata": {},
   "outputs": [
    {
     "data": {
      "text/latex": [
       "$\\displaystyle \\left[\\begin{matrix}f_{B0}\\\\f_{B1}\\\\f_{B2}\\\\f_{B3}\\\\f_{B4}\\\\f_{B5}\\\\f_{B6}\\\\f_{T0}\\\\f_{T1}\\\\f_{T2}\\\\f_{T3}\\\\f_{T4}\\\\f_{T5}\\end{matrix}\\right]$"
      ],
      "text/plain": [
       "Matrix([\n",
       "[f_{B0}],\n",
       "[f_{B1}],\n",
       "[f_{B2}],\n",
       "[f_{B3}],\n",
       "[f_{B4}],\n",
       "[f_{B5}],\n",
       "[f_{B6}],\n",
       "[f_{T0}],\n",
       "[f_{T1}],\n",
       "[f_{T2}],\n",
       "[f_{T3}],\n",
       "[f_{T4}],\n",
       "[f_{T5}]])"
      ]
     },
     "execution_count": 53,
     "metadata": {},
     "output_type": "execute_result"
    }
   ],
   "source": [
    "blocks = [sp.MatrixSymbol(f'f_{{{node}}}', 2, 1) for node in G.nodes]\n",
    "f_block = sp.BlockMatrix([[f] for f in blocks])\n",
    "f_block"
   ]
  },
  {
   "cell_type": "markdown",
   "id": "773abc7f",
   "metadata": {},
   "source": [
    "Now we'll create a block matrix where each element is a stiffness matrix -- the element $K_{ij}$ represents the stiffness at node $i$ due to its connection to node $j$."
   ]
  },
  {
   "cell_type": "code",
   "execution_count": 54,
   "id": "308120fd",
   "metadata": {},
   "outputs": [],
   "source": [
    "def Ksym(i, j):\n",
    "    return sp.MatrixSymbol(f'K_{i}{j}', 2, 2)"
   ]
  },
  {
   "cell_type": "code",
   "execution_count": 55,
   "id": "4a5e2932",
   "metadata": {},
   "outputs": [
    {
     "data": {
      "text/latex": [
       "$\\displaystyle \\left[\\begin{array}{ccccccccccccc}K_{00} & K_{01} & K_{02} & K_{03} & K_{04} & K_{05} & K_{06} & K_{07} & K_{08} & K_{09} & K_{010} & K_{011} & K_{012}\\\\K_{10} & K_{11} & K_{12} & K_{13} & K_{14} & K_{15} & K_{16} & K_{17} & K_{18} & K_{19} & K_{110} & K_{111} & K_{112}\\\\K_{20} & K_{21} & K_{22} & K_{23} & K_{24} & K_{25} & K_{26} & K_{27} & K_{28} & K_{29} & K_{210} & K_{211} & K_{212}\\\\K_{30} & K_{31} & K_{32} & K_{33} & K_{34} & K_{35} & K_{36} & K_{37} & K_{38} & K_{39} & K_{310} & K_{311} & K_{312}\\\\K_{40} & K_{41} & K_{42} & K_{43} & K_{44} & K_{45} & K_{46} & K_{47} & K_{48} & K_{49} & K_{410} & K_{411} & K_{412}\\\\K_{50} & K_{51} & K_{52} & K_{53} & K_{54} & K_{55} & K_{56} & K_{57} & K_{58} & K_{59} & K_{510} & K_{511} & K_{512}\\\\K_{60} & K_{61} & K_{62} & K_{63} & K_{64} & K_{65} & K_{66} & K_{67} & K_{68} & K_{69} & K_{610} & K_{611} & K_{612}\\\\K_{70} & K_{71} & K_{72} & K_{73} & K_{74} & K_{75} & K_{76} & K_{77} & K_{78} & K_{79} & K_{710} & K_{711} & K_{712}\\\\K_{80} & K_{81} & K_{82} & K_{83} & K_{84} & K_{85} & K_{86} & K_{87} & K_{88} & K_{89} & K_{810} & K_{811} & K_{812}\\\\K_{90} & K_{91} & K_{92} & K_{93} & K_{94} & K_{95} & K_{96} & K_{97} & K_{98} & K_{99} & K_{910} & K_{911} & K_{912}\\\\K_{100} & K_{101} & K_{102} & K_{103} & K_{104} & K_{105} & K_{106} & K_{107} & K_{108} & K_{109} & K_{1010} & K_{1011} & K_{1012}\\\\K_{110} & K_{111} & K_{112} & K_{113} & K_{114} & K_{115} & K_{116} & K_{117} & K_{118} & K_{119} & K_{1110} & K_{1111} & K_{1112}\\\\K_{120} & K_{121} & K_{122} & K_{123} & K_{124} & K_{125} & K_{126} & K_{127} & K_{128} & K_{129} & K_{1210} & K_{1211} & K_{1212}\\end{array}\\right]$"
      ],
      "text/plain": [
       "Matrix([\n",
       "[ K_00,  K_01,  K_02,  K_03,  K_04,  K_05,  K_06,  K_07,  K_08,  K_09,  K_010,  K_011,  K_012],\n",
       "[ K_10,  K_11,  K_12,  K_13,  K_14,  K_15,  K_16,  K_17,  K_18,  K_19,  K_110,  K_111,  K_112],\n",
       "[ K_20,  K_21,  K_22,  K_23,  K_24,  K_25,  K_26,  K_27,  K_28,  K_29,  K_210,  K_211,  K_212],\n",
       "[ K_30,  K_31,  K_32,  K_33,  K_34,  K_35,  K_36,  K_37,  K_38,  K_39,  K_310,  K_311,  K_312],\n",
       "[ K_40,  K_41,  K_42,  K_43,  K_44,  K_45,  K_46,  K_47,  K_48,  K_49,  K_410,  K_411,  K_412],\n",
       "[ K_50,  K_51,  K_52,  K_53,  K_54,  K_55,  K_56,  K_57,  K_58,  K_59,  K_510,  K_511,  K_512],\n",
       "[ K_60,  K_61,  K_62,  K_63,  K_64,  K_65,  K_66,  K_67,  K_68,  K_69,  K_610,  K_611,  K_612],\n",
       "[ K_70,  K_71,  K_72,  K_73,  K_74,  K_75,  K_76,  K_77,  K_78,  K_79,  K_710,  K_711,  K_712],\n",
       "[ K_80,  K_81,  K_82,  K_83,  K_84,  K_85,  K_86,  K_87,  K_88,  K_89,  K_810,  K_811,  K_812],\n",
       "[ K_90,  K_91,  K_92,  K_93,  K_94,  K_95,  K_96,  K_97,  K_98,  K_99,  K_910,  K_911,  K_912],\n",
       "[K_100, K_101, K_102, K_103, K_104, K_105, K_106, K_107, K_108, K_109, K_1010, K_1011, K_1012],\n",
       "[K_110, K_111, K_112, K_113, K_114, K_115, K_116, K_117, K_118, K_119, K_1110, K_1111, K_1112],\n",
       "[K_120, K_121, K_122, K_123, K_124, K_125, K_126, K_127, K_128, K_129, K_1210, K_1211, K_1212]])"
      ]
     },
     "execution_count": 55,
     "metadata": {},
     "output_type": "execute_result"
    }
   ],
   "source": [
    "n = len(G.nodes)\n",
    "blocks = [[Ksym(i, j) for j in range(n)] for i in range(n)]\n",
    "K_block = sp.BlockMatrix(blocks)\n",
    "K_block"
   ]
  },
  {
   "cell_type": "markdown",
   "id": "9c157e37",
   "metadata": {},
   "source": [
    "Here's the matrix equation that relates these elements."
   ]
  },
  {
   "cell_type": "code",
   "execution_count": 56,
   "id": "7ef250be",
   "metadata": {},
   "outputs": [
    {
     "data": {
      "text/latex": [
       "$\\displaystyle \\left[\\begin{array}{ccccccccccccc}K_{00} & K_{01} & K_{02} & K_{03} & K_{04} & K_{05} & K_{06} & K_{07} & K_{08} & K_{09} & K_{010} & K_{011} & K_{012}\\\\K_{10} & K_{11} & K_{12} & K_{13} & K_{14} & K_{15} & K_{16} & K_{17} & K_{18} & K_{19} & K_{110} & K_{111} & K_{112}\\\\K_{20} & K_{21} & K_{22} & K_{23} & K_{24} & K_{25} & K_{26} & K_{27} & K_{28} & K_{29} & K_{210} & K_{211} & K_{212}\\\\K_{30} & K_{31} & K_{32} & K_{33} & K_{34} & K_{35} & K_{36} & K_{37} & K_{38} & K_{39} & K_{310} & K_{311} & K_{312}\\\\K_{40} & K_{41} & K_{42} & K_{43} & K_{44} & K_{45} & K_{46} & K_{47} & K_{48} & K_{49} & K_{410} & K_{411} & K_{412}\\\\K_{50} & K_{51} & K_{52} & K_{53} & K_{54} & K_{55} & K_{56} & K_{57} & K_{58} & K_{59} & K_{510} & K_{511} & K_{512}\\\\K_{60} & K_{61} & K_{62} & K_{63} & K_{64} & K_{65} & K_{66} & K_{67} & K_{68} & K_{69} & K_{610} & K_{611} & K_{612}\\\\K_{70} & K_{71} & K_{72} & K_{73} & K_{74} & K_{75} & K_{76} & K_{77} & K_{78} & K_{79} & K_{710} & K_{711} & K_{712}\\\\K_{80} & K_{81} & K_{82} & K_{83} & K_{84} & K_{85} & K_{86} & K_{87} & K_{88} & K_{89} & K_{810} & K_{811} & K_{812}\\\\K_{90} & K_{91} & K_{92} & K_{93} & K_{94} & K_{95} & K_{96} & K_{97} & K_{98} & K_{99} & K_{910} & K_{911} & K_{912}\\\\K_{100} & K_{101} & K_{102} & K_{103} & K_{104} & K_{105} & K_{106} & K_{107} & K_{108} & K_{109} & K_{1010} & K_{1011} & K_{1012}\\\\K_{110} & K_{111} & K_{112} & K_{113} & K_{114} & K_{115} & K_{116} & K_{117} & K_{118} & K_{119} & K_{1110} & K_{1111} & K_{1112}\\\\K_{120} & K_{121} & K_{122} & K_{123} & K_{124} & K_{125} & K_{126} & K_{127} & K_{128} & K_{129} & K_{1210} & K_{1211} & K_{1212}\\end{array}\\right] \\left[\\begin{matrix}u_{B0}\\\\u_{B1}\\\\u_{B2}\\\\u_{B3}\\\\u_{B4}\\\\u_{B5}\\\\u_{B6}\\\\u_{T0}\\\\u_{T1}\\\\u_{T2}\\\\u_{T3}\\\\u_{T4}\\\\u_{T5}\\end{matrix}\\right] = \\left[\\begin{matrix}f_{B0}\\\\f_{B1}\\\\f_{B2}\\\\f_{B3}\\\\f_{B4}\\\\f_{B5}\\\\f_{B6}\\\\f_{T0}\\\\f_{T1}\\\\f_{T2}\\\\f_{T3}\\\\f_{T4}\\\\f_{T5}\\end{matrix}\\right]$"
      ],
      "text/plain": [
       "Eq(Matrix([\n",
       "[ K_00,  K_01,  K_02,  K_03,  K_04,  K_05,  K_06,  K_07,  K_08,  K_09,  K_010,  K_011,  K_012],\n",
       "[ K_10,  K_11,  K_12,  K_13,  K_14,  K_15,  K_16,  K_17,  K_18,  K_19,  K_110,  K_111,  K_112],\n",
       "[ K_20,  K_21,  K_22,  K_23,  K_24,  K_25,  K_26,  K_27,  K_28,  K_29,  K_210,  K_211,  K_212],\n",
       "[ K_30,  K_31,  K_32,  K_33,  K_34,  K_35,  K_36,  K_37,  K_38,  K_39,  K_310,  K_311,  K_312],\n",
       "[ K_40,  K_41,  K_42,  K_43,  K_44,  K_45,  K_46,  K_47,  K_48,  K_49,  K_410,  K_411,  K_412],\n",
       "[ K_50,  K_51,  K_52,  K_53,  K_54,  K_55,  K_56,  K_57,  K_58,  K_59,  K_510,  K_511,  K_512],\n",
       "[ K_60,  K_61,  K_62,  K_63,  K_64,  K_65,  K_66,  K_67,  K_68,  K_69,  K_610,  K_611,  K_612],\n",
       "[ K_70,  K_71,  K_72,  K_73,  K_74,  K_75,  K_76,  K_77,  K_78,  K_79,  K_710,  K_711,  K_712],\n",
       "[ K_80,  K_81,  K_82,  K_83,  K_84,  K_85,  K_86,  K_87,  K_88,  K_89,  K_810,  K_811,  K_812],\n",
       "[ K_90,  K_91,  K_92,  K_93,  K_94,  K_95,  K_96,  K_97,  K_98,  K_99,  K_910,  K_911,  K_912],\n",
       "[K_100, K_101, K_102, K_103, K_104, K_105, K_106, K_107, K_108, K_109, K_1010, K_1011, K_1012],\n",
       "[K_110, K_111, K_112, K_113, K_114, K_115, K_116, K_117, K_118, K_119, K_1110, K_1111, K_1112],\n",
       "[K_120, K_121, K_122, K_123, K_124, K_125, K_126, K_127, K_128, K_129, K_1210, K_1211, K_1212]])*Matrix([\n",
       "[u_{B0}],\n",
       "[u_{B1}],\n",
       "[u_{B2}],\n",
       "[u_{B3}],\n",
       "[u_{B4}],\n",
       "[u_{B5}],\n",
       "[u_{B6}],\n",
       "[u_{T0}],\n",
       "[u_{T1}],\n",
       "[u_{T2}],\n",
       "[u_{T3}],\n",
       "[u_{T4}],\n",
       "[u_{T5}]]), Matrix([\n",
       "[f_{B0}],\n",
       "[f_{B1}],\n",
       "[f_{B2}],\n",
       "[f_{B3}],\n",
       "[f_{B4}],\n",
       "[f_{B5}],\n",
       "[f_{B6}],\n",
       "[f_{T0}],\n",
       "[f_{T1}],\n",
       "[f_{T2}],\n",
       "[f_{T3}],\n",
       "[f_{T4}],\n",
       "[f_{T5}]]))"
      ]
     },
     "execution_count": 56,
     "metadata": {},
     "output_type": "execute_result"
    }
   ],
   "source": [
    "equation = sp.Eq(K_block * u_block, f_block)\n",
    "equation"
   ]
  },
  {
   "cell_type": "markdown",
   "id": "a61402ef",
   "metadata": {},
   "source": [
    "In an ideal world, we would write the equation this way and solve it, but we don't have solvers that can work on a system where the elements are vectors and matrices.\n",
    "But we can use SymPy's `BlockMatrix` object to construct the system, and then convert it into  a conventional matrix with one row for each component of the unknown displacements."
   ]
  },
  {
   "cell_type": "markdown",
   "id": "417c0ee3",
   "metadata": {},
   "source": [
    "## Compute the Block Matrix\n",
    "\n",
    "To construct the block matrix, we'll loop through the edges and compute a matrix that represents the stiffness of each node due to the nodes it is connected to.\n",
    "We'll start by working through a single example, arbitrarily choosing the edge from `B0` to `T0`.\n",
    "We can use `gget` to get the direction vector and spring constant for this member of the truss."
   ]
  },
  {
   "cell_type": "code",
   "execution_count": 57,
   "id": "57099968",
   "metadata": {},
   "outputs": [
    {
     "data": {
      "text/latex": [
       "$\\displaystyle \\left[\\begin{matrix}\\frac{1}{4} & \\frac{\\sqrt{3}}{4}\\\\\\frac{\\sqrt{3}}{4} & \\frac{3}{4}\\end{matrix}\\right]$"
      ],
      "text/plain": [
       "Matrix([\n",
       "[      1/4, sqrt(3)/4],\n",
       "[sqrt(3)/4,       3/4]])"
      ]
     },
     "execution_count": 57,
     "metadata": {},
     "output_type": "execute_result"
    }
   ],
   "source": [
    "edge = 'B0', 'T0'\n",
    "P = gget(G, edge, \"P\")\n",
    "P"
   ]
  },
  {
   "cell_type": "markdown",
   "id": "730b0c7c",
   "metadata": {},
   "source": [
    "Next we'll get the displacements of the nodes."
   ]
  },
  {
   "cell_type": "code",
   "execution_count": 58,
   "id": "971c1eb5",
   "metadata": {},
   "outputs": [],
   "source": [
    "node1, node2 = edge\n",
    "u1 = gget(G, node1, \"disp\")\n",
    "u2 = gget(G, node2, \"disp\")"
   ]
  },
  {
   "cell_type": "markdown",
   "id": "4a40935a",
   "metadata": {},
   "source": [
    "If both ends of the member are displaced, the total extension or compression is the difference between the displacements, `u1 - u2`.\n",
    "So we can compute the internal force in the member like this."
   ]
  },
  {
   "cell_type": "code",
   "execution_count": 59,
   "id": "b93655b8",
   "metadata": {},
   "outputs": [
    {
     "data": {
      "text/latex": [
       "$\\displaystyle \\frac{A E}{4 L} \\left[\\begin{matrix}- u_{B0 x} + u_{T0 x} - \\sqrt{3} \\left(u_{B0 y} - u_{T0 y}\\right)\\\\- 3 u_{B0 y} + 3 u_{T0 y} - \\sqrt{3} \\left(u_{B0 x} - u_{T0 x}\\right)\\end{matrix}\\right]$"
      ],
      "text/plain": [
       "(A*E/(4*L))*Matrix([\n",
       "[    -u_B0_x + u_T0_x - sqrt(3)*(u_B0_y - u_T0_y)],\n",
       "[-3*u_B0_y + 3*u_T0_y - sqrt(3)*(u_B0_x - u_T0_x)]])"
      ]
     },
     "execution_count": 59,
     "metadata": {},
     "output_type": "execute_result"
    }
   ],
   "source": [
    "k = sp.symbols(\"k\")\n",
    "k = A * E / L\n",
    "\n",
    "f_int = -k * P * (u1 - u2)\n",
    "factor_matrix(f_int, A*E/L/4)"
   ]
  },
  {
   "cell_type": "markdown",
   "id": "55763e4c",
   "metadata": {},
   "source": [
    "But to construct the block matrix, we'll keep the stiffness matrix and the displacement vector separate, like this:"
   ]
  },
  {
   "cell_type": "code",
   "execution_count": 60,
   "id": "6366933d",
   "metadata": {},
   "outputs": [
    {
     "data": {
      "text/latex": [
       "$\\displaystyle \\left(\\frac{A E}{4 L} \\left[\\begin{matrix}-1 & - \\sqrt{3}\\\\- \\sqrt{3} & -3\\end{matrix}\\right]\\right) \\left[\\begin{matrix}u_{B0 x} - u_{T0 x}\\\\u_{B0 y} - u_{T0 y}\\end{matrix}\\right]$"
      ],
      "text/plain": [
       "((A*E/(4*L))*Matrix([\n",
       "[      -1, -sqrt(3)],\n",
       "[-sqrt(3),       -3]]))*Matrix([\n",
       "[u_B0_x - u_T0_x],\n",
       "[u_B0_y - u_T0_y]])"
      ]
     },
     "execution_count": 60,
     "metadata": {},
     "output_type": "execute_result"
    }
   ],
   "source": [
    "sp.MatMul(factor_matrix(-k * P, k/4), u1 - u2, evaluate=False)"
   ]
  },
  {
   "cell_type": "markdown",
   "id": "36a325f1",
   "metadata": {},
   "source": [
    "Now we're ready to assemble the block matrix.\n",
    "We'll start with a list of lists, where each element is a stiffness matrix full of zeroes.\n",
    "As we loop through the edges, we'll add to these matrices."
   ]
  },
  {
   "cell_type": "code",
   "execution_count": 61,
   "id": "e0abd513",
   "metadata": {},
   "outputs": [],
   "source": [
    "blocks = [[sp.Matrix.zeros(2, 2) for _ in range(n)] for _ in range(n)]"
   ]
  },
  {
   "cell_type": "markdown",
   "id": "8eb37cf1",
   "metadata": {},
   "source": [
    "Now here's the key to the whole operation.\n",
    "We loop through the edges and compute a matrix that represents the stiffness at node `i` due to its connection to `j`.\n",
    "Then we add that matrix to the block ..."
   ]
  },
  {
   "cell_type": "code",
   "execution_count": 62,
   "id": "7ff8db5a",
   "metadata": {},
   "outputs": [],
   "source": [
    "def add_block(i, j, kP):\n",
    "    blocks[i][i] +=  kP\n",
    "    blocks[i][j] += -kP"
   ]
  },
  {
   "cell_type": "code",
   "execution_count": 63,
   "id": "a4e078a3",
   "metadata": {},
   "outputs": [],
   "source": [
    "for edge in G.edges:\n",
    "    P = gget(G, edge, \"P\")\n",
    "    \n",
    "    node1, node2 = edge\n",
    "    i = gget(G, node1, 'index')\n",
    "    j = gget(G, node2, 'index')\n",
    "\n",
    "    # Insert contributions for edge (i, j)\n",
    "    add_block(i, j, k * P)\n",
    "    add_block(j, i, k * P)"
   ]
  },
  {
   "cell_type": "markdown",
   "id": "8db2c163",
   "metadata": {},
   "source": [
    "The result is a list of lists of matrices, each the sum of some number of stiffness matrices.\n",
    "We can use the list of lists to make a `BlockMatrix`.\n",
    "Here's the result, shown with the common factor $k/4$ pulled out."
   ]
  },
  {
   "cell_type": "code",
   "execution_count": 64,
   "id": "7ce4ee17",
   "metadata": {},
   "outputs": [
    {
     "data": {
      "text/latex": [
       "$\\displaystyle \\frac{A E}{4 L} \\left[\\begin{array}{ccccccccccccc}\\left[\\begin{matrix}5 & \\sqrt{3}\\\\\\sqrt{3} & 3\\end{matrix}\\right] & \\left[\\begin{matrix}-4 & 0\\\\0 & 0\\end{matrix}\\right] & \\left[\\begin{matrix}0 & 0\\\\0 & 0\\end{matrix}\\right] & \\left[\\begin{matrix}0 & 0\\\\0 & 0\\end{matrix}\\right] & \\left[\\begin{matrix}0 & 0\\\\0 & 0\\end{matrix}\\right] & \\left[\\begin{matrix}0 & 0\\\\0 & 0\\end{matrix}\\right] & \\left[\\begin{matrix}0 & 0\\\\0 & 0\\end{matrix}\\right] & \\left[\\begin{matrix}-1 & - \\sqrt{3}\\\\- \\sqrt{3} & -3\\end{matrix}\\right] & \\left[\\begin{matrix}0 & 0\\\\0 & 0\\end{matrix}\\right] & \\left[\\begin{matrix}0 & 0\\\\0 & 0\\end{matrix}\\right] & \\left[\\begin{matrix}0 & 0\\\\0 & 0\\end{matrix}\\right] & \\left[\\begin{matrix}0 & 0\\\\0 & 0\\end{matrix}\\right] & \\left[\\begin{matrix}0 & 0\\\\0 & 0\\end{matrix}\\right]\\\\\\left[\\begin{matrix}-4 & 0\\\\0 & 0\\end{matrix}\\right] & \\left[\\begin{matrix}10 & 0\\\\0 & 6\\end{matrix}\\right] & \\left[\\begin{matrix}-4 & 0\\\\0 & 0\\end{matrix}\\right] & \\left[\\begin{matrix}0 & 0\\\\0 & 0\\end{matrix}\\right] & \\left[\\begin{matrix}0 & 0\\\\0 & 0\\end{matrix}\\right] & \\left[\\begin{matrix}0 & 0\\\\0 & 0\\end{matrix}\\right] & \\left[\\begin{matrix}0 & 0\\\\0 & 0\\end{matrix}\\right] & \\left[\\begin{matrix}-1 & \\sqrt{3}\\\\\\sqrt{3} & -3\\end{matrix}\\right] & \\left[\\begin{matrix}-1 & - \\sqrt{3}\\\\- \\sqrt{3} & -3\\end{matrix}\\right] & \\left[\\begin{matrix}0 & 0\\\\0 & 0\\end{matrix}\\right] & \\left[\\begin{matrix}0 & 0\\\\0 & 0\\end{matrix}\\right] & \\left[\\begin{matrix}0 & 0\\\\0 & 0\\end{matrix}\\right] & \\left[\\begin{matrix}0 & 0\\\\0 & 0\\end{matrix}\\right]\\\\\\left[\\begin{matrix}0 & 0\\\\0 & 0\\end{matrix}\\right] & \\left[\\begin{matrix}-4 & 0\\\\0 & 0\\end{matrix}\\right] & \\left[\\begin{matrix}10 & 0\\\\0 & 6\\end{matrix}\\right] & \\left[\\begin{matrix}-4 & 0\\\\0 & 0\\end{matrix}\\right] & \\left[\\begin{matrix}0 & 0\\\\0 & 0\\end{matrix}\\right] & \\left[\\begin{matrix}0 & 0\\\\0 & 0\\end{matrix}\\right] & \\left[\\begin{matrix}0 & 0\\\\0 & 0\\end{matrix}\\right] & \\left[\\begin{matrix}0 & 0\\\\0 & 0\\end{matrix}\\right] & \\left[\\begin{matrix}-1 & \\sqrt{3}\\\\\\sqrt{3} & -3\\end{matrix}\\right] & \\left[\\begin{matrix}-1 & - \\sqrt{3}\\\\- \\sqrt{3} & -3\\end{matrix}\\right] & \\left[\\begin{matrix}0 & 0\\\\0 & 0\\end{matrix}\\right] & \\left[\\begin{matrix}0 & 0\\\\0 & 0\\end{matrix}\\right] & \\left[\\begin{matrix}0 & 0\\\\0 & 0\\end{matrix}\\right]\\\\\\left[\\begin{matrix}0 & 0\\\\0 & 0\\end{matrix}\\right] & \\left[\\begin{matrix}0 & 0\\\\0 & 0\\end{matrix}\\right] & \\left[\\begin{matrix}-4 & 0\\\\0 & 0\\end{matrix}\\right] & \\left[\\begin{matrix}10 & 0\\\\0 & 6\\end{matrix}\\right] & \\left[\\begin{matrix}-4 & 0\\\\0 & 0\\end{matrix}\\right] & \\left[\\begin{matrix}0 & 0\\\\0 & 0\\end{matrix}\\right] & \\left[\\begin{matrix}0 & 0\\\\0 & 0\\end{matrix}\\right] & \\left[\\begin{matrix}0 & 0\\\\0 & 0\\end{matrix}\\right] & \\left[\\begin{matrix}0 & 0\\\\0 & 0\\end{matrix}\\right] & \\left[\\begin{matrix}-1 & \\sqrt{3}\\\\\\sqrt{3} & -3\\end{matrix}\\right] & \\left[\\begin{matrix}-1 & - \\sqrt{3}\\\\- \\sqrt{3} & -3\\end{matrix}\\right] & \\left[\\begin{matrix}0 & 0\\\\0 & 0\\end{matrix}\\right] & \\left[\\begin{matrix}0 & 0\\\\0 & 0\\end{matrix}\\right]\\\\\\left[\\begin{matrix}0 & 0\\\\0 & 0\\end{matrix}\\right] & \\left[\\begin{matrix}0 & 0\\\\0 & 0\\end{matrix}\\right] & \\left[\\begin{matrix}0 & 0\\\\0 & 0\\end{matrix}\\right] & \\left[\\begin{matrix}-4 & 0\\\\0 & 0\\end{matrix}\\right] & \\left[\\begin{matrix}10 & 0\\\\0 & 6\\end{matrix}\\right] & \\left[\\begin{matrix}-4 & 0\\\\0 & 0\\end{matrix}\\right] & \\left[\\begin{matrix}0 & 0\\\\0 & 0\\end{matrix}\\right] & \\left[\\begin{matrix}0 & 0\\\\0 & 0\\end{matrix}\\right] & \\left[\\begin{matrix}0 & 0\\\\0 & 0\\end{matrix}\\right] & \\left[\\begin{matrix}0 & 0\\\\0 & 0\\end{matrix}\\right] & \\left[\\begin{matrix}-1 & \\sqrt{3}\\\\\\sqrt{3} & -3\\end{matrix}\\right] & \\left[\\begin{matrix}-1 & - \\sqrt{3}\\\\- \\sqrt{3} & -3\\end{matrix}\\right] & \\left[\\begin{matrix}0 & 0\\\\0 & 0\\end{matrix}\\right]\\\\\\left[\\begin{matrix}0 & 0\\\\0 & 0\\end{matrix}\\right] & \\left[\\begin{matrix}0 & 0\\\\0 & 0\\end{matrix}\\right] & \\left[\\begin{matrix}0 & 0\\\\0 & 0\\end{matrix}\\right] & \\left[\\begin{matrix}0 & 0\\\\0 & 0\\end{matrix}\\right] & \\left[\\begin{matrix}-4 & 0\\\\0 & 0\\end{matrix}\\right] & \\left[\\begin{matrix}10 & 0\\\\0 & 6\\end{matrix}\\right] & \\left[\\begin{matrix}-4 & 0\\\\0 & 0\\end{matrix}\\right] & \\left[\\begin{matrix}0 & 0\\\\0 & 0\\end{matrix}\\right] & \\left[\\begin{matrix}0 & 0\\\\0 & 0\\end{matrix}\\right] & \\left[\\begin{matrix}0 & 0\\\\0 & 0\\end{matrix}\\right] & \\left[\\begin{matrix}0 & 0\\\\0 & 0\\end{matrix}\\right] & \\left[\\begin{matrix}-1 & \\sqrt{3}\\\\\\sqrt{3} & -3\\end{matrix}\\right] & \\left[\\begin{matrix}-1 & - \\sqrt{3}\\\\- \\sqrt{3} & -3\\end{matrix}\\right]\\\\\\left[\\begin{matrix}0 & 0\\\\0 & 0\\end{matrix}\\right] & \\left[\\begin{matrix}0 & 0\\\\0 & 0\\end{matrix}\\right] & \\left[\\begin{matrix}0 & 0\\\\0 & 0\\end{matrix}\\right] & \\left[\\begin{matrix}0 & 0\\\\0 & 0\\end{matrix}\\right] & \\left[\\begin{matrix}0 & 0\\\\0 & 0\\end{matrix}\\right] & \\left[\\begin{matrix}-4 & 0\\\\0 & 0\\end{matrix}\\right] & \\left[\\begin{matrix}5 & - \\sqrt{3}\\\\- \\sqrt{3} & 3\\end{matrix}\\right] & \\left[\\begin{matrix}0 & 0\\\\0 & 0\\end{matrix}\\right] & \\left[\\begin{matrix}0 & 0\\\\0 & 0\\end{matrix}\\right] & \\left[\\begin{matrix}0 & 0\\\\0 & 0\\end{matrix}\\right] & \\left[\\begin{matrix}0 & 0\\\\0 & 0\\end{matrix}\\right] & \\left[\\begin{matrix}0 & 0\\\\0 & 0\\end{matrix}\\right] & \\left[\\begin{matrix}-1 & \\sqrt{3}\\\\\\sqrt{3} & -3\\end{matrix}\\right]\\\\\\left[\\begin{matrix}-1 & - \\sqrt{3}\\\\- \\sqrt{3} & -3\\end{matrix}\\right] & \\left[\\begin{matrix}-1 & \\sqrt{3}\\\\\\sqrt{3} & -3\\end{matrix}\\right] & \\left[\\begin{matrix}0 & 0\\\\0 & 0\\end{matrix}\\right] & \\left[\\begin{matrix}0 & 0\\\\0 & 0\\end{matrix}\\right] & \\left[\\begin{matrix}0 & 0\\\\0 & 0\\end{matrix}\\right] & \\left[\\begin{matrix}0 & 0\\\\0 & 0\\end{matrix}\\right] & \\left[\\begin{matrix}0 & 0\\\\0 & 0\\end{matrix}\\right] & \\left[\\begin{matrix}6 & 0\\\\0 & 6\\end{matrix}\\right] & \\left[\\begin{matrix}-4 & 0\\\\0 & 0\\end{matrix}\\right] & \\left[\\begin{matrix}0 & 0\\\\0 & 0\\end{matrix}\\right] & \\left[\\begin{matrix}0 & 0\\\\0 & 0\\end{matrix}\\right] & \\left[\\begin{matrix}0 & 0\\\\0 & 0\\end{matrix}\\right] & \\left[\\begin{matrix}0 & 0\\\\0 & 0\\end{matrix}\\right]\\\\\\left[\\begin{matrix}0 & 0\\\\0 & 0\\end{matrix}\\right] & \\left[\\begin{matrix}-1 & - \\sqrt{3}\\\\- \\sqrt{3} & -3\\end{matrix}\\right] & \\left[\\begin{matrix}-1 & \\sqrt{3}\\\\\\sqrt{3} & -3\\end{matrix}\\right] & \\left[\\begin{matrix}0 & 0\\\\0 & 0\\end{matrix}\\right] & \\left[\\begin{matrix}0 & 0\\\\0 & 0\\end{matrix}\\right] & \\left[\\begin{matrix}0 & 0\\\\0 & 0\\end{matrix}\\right] & \\left[\\begin{matrix}0 & 0\\\\0 & 0\\end{matrix}\\right] & \\left[\\begin{matrix}-4 & 0\\\\0 & 0\\end{matrix}\\right] & \\left[\\begin{matrix}10 & 0\\\\0 & 6\\end{matrix}\\right] & \\left[\\begin{matrix}-4 & 0\\\\0 & 0\\end{matrix}\\right] & \\left[\\begin{matrix}0 & 0\\\\0 & 0\\end{matrix}\\right] & \\left[\\begin{matrix}0 & 0\\\\0 & 0\\end{matrix}\\right] & \\left[\\begin{matrix}0 & 0\\\\0 & 0\\end{matrix}\\right]\\\\\\left[\\begin{matrix}0 & 0\\\\0 & 0\\end{matrix}\\right] & \\left[\\begin{matrix}0 & 0\\\\0 & 0\\end{matrix}\\right] & \\left[\\begin{matrix}-1 & - \\sqrt{3}\\\\- \\sqrt{3} & -3\\end{matrix}\\right] & \\left[\\begin{matrix}-1 & \\sqrt{3}\\\\\\sqrt{3} & -3\\end{matrix}\\right] & \\left[\\begin{matrix}0 & 0\\\\0 & 0\\end{matrix}\\right] & \\left[\\begin{matrix}0 & 0\\\\0 & 0\\end{matrix}\\right] & \\left[\\begin{matrix}0 & 0\\\\0 & 0\\end{matrix}\\right] & \\left[\\begin{matrix}0 & 0\\\\0 & 0\\end{matrix}\\right] & \\left[\\begin{matrix}-4 & 0\\\\0 & 0\\end{matrix}\\right] & \\left[\\begin{matrix}10 & 0\\\\0 & 6\\end{matrix}\\right] & \\left[\\begin{matrix}-4 & 0\\\\0 & 0\\end{matrix}\\right] & \\left[\\begin{matrix}0 & 0\\\\0 & 0\\end{matrix}\\right] & \\left[\\begin{matrix}0 & 0\\\\0 & 0\\end{matrix}\\right]\\\\\\left[\\begin{matrix}0 & 0\\\\0 & 0\\end{matrix}\\right] & \\left[\\begin{matrix}0 & 0\\\\0 & 0\\end{matrix}\\right] & \\left[\\begin{matrix}0 & 0\\\\0 & 0\\end{matrix}\\right] & \\left[\\begin{matrix}-1 & - \\sqrt{3}\\\\- \\sqrt{3} & -3\\end{matrix}\\right] & \\left[\\begin{matrix}-1 & \\sqrt{3}\\\\\\sqrt{3} & -3\\end{matrix}\\right] & \\left[\\begin{matrix}0 & 0\\\\0 & 0\\end{matrix}\\right] & \\left[\\begin{matrix}0 & 0\\\\0 & 0\\end{matrix}\\right] & \\left[\\begin{matrix}0 & 0\\\\0 & 0\\end{matrix}\\right] & \\left[\\begin{matrix}0 & 0\\\\0 & 0\\end{matrix}\\right] & \\left[\\begin{matrix}-4 & 0\\\\0 & 0\\end{matrix}\\right] & \\left[\\begin{matrix}10 & 0\\\\0 & 6\\end{matrix}\\right] & \\left[\\begin{matrix}-4 & 0\\\\0 & 0\\end{matrix}\\right] & \\left[\\begin{matrix}0 & 0\\\\0 & 0\\end{matrix}\\right]\\\\\\left[\\begin{matrix}0 & 0\\\\0 & 0\\end{matrix}\\right] & \\left[\\begin{matrix}0 & 0\\\\0 & 0\\end{matrix}\\right] & \\left[\\begin{matrix}0 & 0\\\\0 & 0\\end{matrix}\\right] & \\left[\\begin{matrix}0 & 0\\\\0 & 0\\end{matrix}\\right] & \\left[\\begin{matrix}-1 & - \\sqrt{3}\\\\- \\sqrt{3} & -3\\end{matrix}\\right] & \\left[\\begin{matrix}-1 & \\sqrt{3}\\\\\\sqrt{3} & -3\\end{matrix}\\right] & \\left[\\begin{matrix}0 & 0\\\\0 & 0\\end{matrix}\\right] & \\left[\\begin{matrix}0 & 0\\\\0 & 0\\end{matrix}\\right] & \\left[\\begin{matrix}0 & 0\\\\0 & 0\\end{matrix}\\right] & \\left[\\begin{matrix}0 & 0\\\\0 & 0\\end{matrix}\\right] & \\left[\\begin{matrix}-4 & 0\\\\0 & 0\\end{matrix}\\right] & \\left[\\begin{matrix}10 & 0\\\\0 & 6\\end{matrix}\\right] & \\left[\\begin{matrix}-4 & 0\\\\0 & 0\\end{matrix}\\right]\\\\\\left[\\begin{matrix}0 & 0\\\\0 & 0\\end{matrix}\\right] & \\left[\\begin{matrix}0 & 0\\\\0 & 0\\end{matrix}\\right] & \\left[\\begin{matrix}0 & 0\\\\0 & 0\\end{matrix}\\right] & \\left[\\begin{matrix}0 & 0\\\\0 & 0\\end{matrix}\\right] & \\left[\\begin{matrix}0 & 0\\\\0 & 0\\end{matrix}\\right] & \\left[\\begin{matrix}-1 & - \\sqrt{3}\\\\- \\sqrt{3} & -3\\end{matrix}\\right] & \\left[\\begin{matrix}-1 & \\sqrt{3}\\\\\\sqrt{3} & -3\\end{matrix}\\right] & \\left[\\begin{matrix}0 & 0\\\\0 & 0\\end{matrix}\\right] & \\left[\\begin{matrix}0 & 0\\\\0 & 0\\end{matrix}\\right] & \\left[\\begin{matrix}0 & 0\\\\0 & 0\\end{matrix}\\right] & \\left[\\begin{matrix}0 & 0\\\\0 & 0\\end{matrix}\\right] & \\left[\\begin{matrix}-4 & 0\\\\0 & 0\\end{matrix}\\right] & \\left[\\begin{matrix}6 & 0\\\\0 & 6\\end{matrix}\\right]\\end{array}\\right]$"
      ],
      "text/plain": [
       "(A*E/(4*L))*Matrix([\n",
       "[    Matrix([\n",
       "[      5, sqrt(3)],\n",
       "[sqrt(3),       3]]),                           Matrix([\n",
       "[-4, 0],\n",
       "[ 0, 0]]),                             Matrix([\n",
       "[0, 0],\n",
       "[0, 0]]),                             Matrix([\n",
       "[0, 0],\n",
       "[0, 0]]),                             Matrix([\n",
       "[0, 0],\n",
       "[0, 0]]),                             Matrix([\n",
       "[0, 0],\n",
       "[0, 0]]),                             Matrix([\n",
       "[0, 0],\n",
       "[0, 0]]), Matrix([\n",
       "[      -1, -sqrt(3)],\n",
       "[-sqrt(3),       -3]]),                             Matrix([\n",
       "[0, 0],\n",
       "[0, 0]]),                             Matrix([\n",
       "[0, 0],\n",
       "[0, 0]]),                             Matrix([\n",
       "[0, 0],\n",
       "[0, 0]]),                             Matrix([\n",
       "[0, 0],\n",
       "[0, 0]]),                             Matrix([\n",
       "[0, 0],\n",
       "[0, 0]])],\n",
       "[                          Matrix([\n",
       "[-4, 0],\n",
       "[ 0, 0]]),                           Matrix([\n",
       "[10, 0],\n",
       "[ 0, 6]]),                           Matrix([\n",
       "[-4, 0],\n",
       "[ 0, 0]]),                             Matrix([\n",
       "[0, 0],\n",
       "[0, 0]]),                             Matrix([\n",
       "[0, 0],\n",
       "[0, 0]]),                             Matrix([\n",
       "[0, 0],\n",
       "[0, 0]]),                             Matrix([\n",
       "[0, 0],\n",
       "[0, 0]]),     Matrix([\n",
       "[     -1, sqrt(3)],\n",
       "[sqrt(3),      -3]]), Matrix([\n",
       "[      -1, -sqrt(3)],\n",
       "[-sqrt(3),       -3]]),                             Matrix([\n",
       "[0, 0],\n",
       "[0, 0]]),                             Matrix([\n",
       "[0, 0],\n",
       "[0, 0]]),                             Matrix([\n",
       "[0, 0],\n",
       "[0, 0]]),                             Matrix([\n",
       "[0, 0],\n",
       "[0, 0]])],\n",
       "[                            Matrix([\n",
       "[0, 0],\n",
       "[0, 0]]),                           Matrix([\n",
       "[-4, 0],\n",
       "[ 0, 0]]),                           Matrix([\n",
       "[10, 0],\n",
       "[ 0, 6]]),                           Matrix([\n",
       "[-4, 0],\n",
       "[ 0, 0]]),                             Matrix([\n",
       "[0, 0],\n",
       "[0, 0]]),                             Matrix([\n",
       "[0, 0],\n",
       "[0, 0]]),                             Matrix([\n",
       "[0, 0],\n",
       "[0, 0]]),                             Matrix([\n",
       "[0, 0],\n",
       "[0, 0]]),     Matrix([\n",
       "[     -1, sqrt(3)],\n",
       "[sqrt(3),      -3]]), Matrix([\n",
       "[      -1, -sqrt(3)],\n",
       "[-sqrt(3),       -3]]),                             Matrix([\n",
       "[0, 0],\n",
       "[0, 0]]),                             Matrix([\n",
       "[0, 0],\n",
       "[0, 0]]),                             Matrix([\n",
       "[0, 0],\n",
       "[0, 0]])],\n",
       "[                            Matrix([\n",
       "[0, 0],\n",
       "[0, 0]]),                             Matrix([\n",
       "[0, 0],\n",
       "[0, 0]]),                           Matrix([\n",
       "[-4, 0],\n",
       "[ 0, 0]]),                           Matrix([\n",
       "[10, 0],\n",
       "[ 0, 6]]),                           Matrix([\n",
       "[-4, 0],\n",
       "[ 0, 0]]),                             Matrix([\n",
       "[0, 0],\n",
       "[0, 0]]),                             Matrix([\n",
       "[0, 0],\n",
       "[0, 0]]),                             Matrix([\n",
       "[0, 0],\n",
       "[0, 0]]),                             Matrix([\n",
       "[0, 0],\n",
       "[0, 0]]),     Matrix([\n",
       "[     -1, sqrt(3)],\n",
       "[sqrt(3),      -3]]), Matrix([\n",
       "[      -1, -sqrt(3)],\n",
       "[-sqrt(3),       -3]]),                             Matrix([\n",
       "[0, 0],\n",
       "[0, 0]]),                             Matrix([\n",
       "[0, 0],\n",
       "[0, 0]])],\n",
       "[                            Matrix([\n",
       "[0, 0],\n",
       "[0, 0]]),                             Matrix([\n",
       "[0, 0],\n",
       "[0, 0]]),                             Matrix([\n",
       "[0, 0],\n",
       "[0, 0]]),                           Matrix([\n",
       "[-4, 0],\n",
       "[ 0, 0]]),                           Matrix([\n",
       "[10, 0],\n",
       "[ 0, 6]]),                           Matrix([\n",
       "[-4, 0],\n",
       "[ 0, 0]]),                             Matrix([\n",
       "[0, 0],\n",
       "[0, 0]]),                             Matrix([\n",
       "[0, 0],\n",
       "[0, 0]]),                             Matrix([\n",
       "[0, 0],\n",
       "[0, 0]]),                             Matrix([\n",
       "[0, 0],\n",
       "[0, 0]]),     Matrix([\n",
       "[     -1, sqrt(3)],\n",
       "[sqrt(3),      -3]]), Matrix([\n",
       "[      -1, -sqrt(3)],\n",
       "[-sqrt(3),       -3]]),                             Matrix([\n",
       "[0, 0],\n",
       "[0, 0]])],\n",
       "[                            Matrix([\n",
       "[0, 0],\n",
       "[0, 0]]),                             Matrix([\n",
       "[0, 0],\n",
       "[0, 0]]),                             Matrix([\n",
       "[0, 0],\n",
       "[0, 0]]),                             Matrix([\n",
       "[0, 0],\n",
       "[0, 0]]),                           Matrix([\n",
       "[-4, 0],\n",
       "[ 0, 0]]),                           Matrix([\n",
       "[10, 0],\n",
       "[ 0, 6]]),                           Matrix([\n",
       "[-4, 0],\n",
       "[ 0, 0]]),                             Matrix([\n",
       "[0, 0],\n",
       "[0, 0]]),                             Matrix([\n",
       "[0, 0],\n",
       "[0, 0]]),                             Matrix([\n",
       "[0, 0],\n",
       "[0, 0]]),                             Matrix([\n",
       "[0, 0],\n",
       "[0, 0]]),     Matrix([\n",
       "[     -1, sqrt(3)],\n",
       "[sqrt(3),      -3]]), Matrix([\n",
       "[      -1, -sqrt(3)],\n",
       "[-sqrt(3),       -3]])],\n",
       "[                            Matrix([\n",
       "[0, 0],\n",
       "[0, 0]]),                             Matrix([\n",
       "[0, 0],\n",
       "[0, 0]]),                             Matrix([\n",
       "[0, 0],\n",
       "[0, 0]]),                             Matrix([\n",
       "[0, 0],\n",
       "[0, 0]]),                             Matrix([\n",
       "[0, 0],\n",
       "[0, 0]]),                           Matrix([\n",
       "[-4, 0],\n",
       "[ 0, 0]]), Matrix([\n",
       "[       5, -sqrt(3)],\n",
       "[-sqrt(3),        3]]),                             Matrix([\n",
       "[0, 0],\n",
       "[0, 0]]),                             Matrix([\n",
       "[0, 0],\n",
       "[0, 0]]),                             Matrix([\n",
       "[0, 0],\n",
       "[0, 0]]),                             Matrix([\n",
       "[0, 0],\n",
       "[0, 0]]),                             Matrix([\n",
       "[0, 0],\n",
       "[0, 0]]),     Matrix([\n",
       "[     -1, sqrt(3)],\n",
       "[sqrt(3),      -3]])],\n",
       "[Matrix([\n",
       "[      -1, -sqrt(3)],\n",
       "[-sqrt(3),       -3]]),     Matrix([\n",
       "[     -1, sqrt(3)],\n",
       "[sqrt(3),      -3]]),                             Matrix([\n",
       "[0, 0],\n",
       "[0, 0]]),                             Matrix([\n",
       "[0, 0],\n",
       "[0, 0]]),                             Matrix([\n",
       "[0, 0],\n",
       "[0, 0]]),                             Matrix([\n",
       "[0, 0],\n",
       "[0, 0]]),                             Matrix([\n",
       "[0, 0],\n",
       "[0, 0]]),                             Matrix([\n",
       "[6, 0],\n",
       "[0, 6]]),                           Matrix([\n",
       "[-4, 0],\n",
       "[ 0, 0]]),                             Matrix([\n",
       "[0, 0],\n",
       "[0, 0]]),                             Matrix([\n",
       "[0, 0],\n",
       "[0, 0]]),                             Matrix([\n",
       "[0, 0],\n",
       "[0, 0]]),                             Matrix([\n",
       "[0, 0],\n",
       "[0, 0]])],\n",
       "[                            Matrix([\n",
       "[0, 0],\n",
       "[0, 0]]), Matrix([\n",
       "[      -1, -sqrt(3)],\n",
       "[-sqrt(3),       -3]]),     Matrix([\n",
       "[     -1, sqrt(3)],\n",
       "[sqrt(3),      -3]]),                             Matrix([\n",
       "[0, 0],\n",
       "[0, 0]]),                             Matrix([\n",
       "[0, 0],\n",
       "[0, 0]]),                             Matrix([\n",
       "[0, 0],\n",
       "[0, 0]]),                             Matrix([\n",
       "[0, 0],\n",
       "[0, 0]]),                           Matrix([\n",
       "[-4, 0],\n",
       "[ 0, 0]]),                           Matrix([\n",
       "[10, 0],\n",
       "[ 0, 6]]),                           Matrix([\n",
       "[-4, 0],\n",
       "[ 0, 0]]),                             Matrix([\n",
       "[0, 0],\n",
       "[0, 0]]),                             Matrix([\n",
       "[0, 0],\n",
       "[0, 0]]),                             Matrix([\n",
       "[0, 0],\n",
       "[0, 0]])],\n",
       "[                            Matrix([\n",
       "[0, 0],\n",
       "[0, 0]]),                             Matrix([\n",
       "[0, 0],\n",
       "[0, 0]]), Matrix([\n",
       "[      -1, -sqrt(3)],\n",
       "[-sqrt(3),       -3]]),     Matrix([\n",
       "[     -1, sqrt(3)],\n",
       "[sqrt(3),      -3]]),                             Matrix([\n",
       "[0, 0],\n",
       "[0, 0]]),                             Matrix([\n",
       "[0, 0],\n",
       "[0, 0]]),                             Matrix([\n",
       "[0, 0],\n",
       "[0, 0]]),                             Matrix([\n",
       "[0, 0],\n",
       "[0, 0]]),                           Matrix([\n",
       "[-4, 0],\n",
       "[ 0, 0]]),                           Matrix([\n",
       "[10, 0],\n",
       "[ 0, 6]]),                           Matrix([\n",
       "[-4, 0],\n",
       "[ 0, 0]]),                             Matrix([\n",
       "[0, 0],\n",
       "[0, 0]]),                             Matrix([\n",
       "[0, 0],\n",
       "[0, 0]])],\n",
       "[                            Matrix([\n",
       "[0, 0],\n",
       "[0, 0]]),                             Matrix([\n",
       "[0, 0],\n",
       "[0, 0]]),                             Matrix([\n",
       "[0, 0],\n",
       "[0, 0]]), Matrix([\n",
       "[      -1, -sqrt(3)],\n",
       "[-sqrt(3),       -3]]),     Matrix([\n",
       "[     -1, sqrt(3)],\n",
       "[sqrt(3),      -3]]),                             Matrix([\n",
       "[0, 0],\n",
       "[0, 0]]),                             Matrix([\n",
       "[0, 0],\n",
       "[0, 0]]),                             Matrix([\n",
       "[0, 0],\n",
       "[0, 0]]),                             Matrix([\n",
       "[0, 0],\n",
       "[0, 0]]),                           Matrix([\n",
       "[-4, 0],\n",
       "[ 0, 0]]),                           Matrix([\n",
       "[10, 0],\n",
       "[ 0, 6]]),                           Matrix([\n",
       "[-4, 0],\n",
       "[ 0, 0]]),                             Matrix([\n",
       "[0, 0],\n",
       "[0, 0]])],\n",
       "[                            Matrix([\n",
       "[0, 0],\n",
       "[0, 0]]),                             Matrix([\n",
       "[0, 0],\n",
       "[0, 0]]),                             Matrix([\n",
       "[0, 0],\n",
       "[0, 0]]),                             Matrix([\n",
       "[0, 0],\n",
       "[0, 0]]), Matrix([\n",
       "[      -1, -sqrt(3)],\n",
       "[-sqrt(3),       -3]]),     Matrix([\n",
       "[     -1, sqrt(3)],\n",
       "[sqrt(3),      -3]]),                             Matrix([\n",
       "[0, 0],\n",
       "[0, 0]]),                             Matrix([\n",
       "[0, 0],\n",
       "[0, 0]]),                             Matrix([\n",
       "[0, 0],\n",
       "[0, 0]]),                             Matrix([\n",
       "[0, 0],\n",
       "[0, 0]]),                           Matrix([\n",
       "[-4, 0],\n",
       "[ 0, 0]]),                           Matrix([\n",
       "[10, 0],\n",
       "[ 0, 6]]),                           Matrix([\n",
       "[-4, 0],\n",
       "[ 0, 0]])],\n",
       "[                            Matrix([\n",
       "[0, 0],\n",
       "[0, 0]]),                             Matrix([\n",
       "[0, 0],\n",
       "[0, 0]]),                             Matrix([\n",
       "[0, 0],\n",
       "[0, 0]]),                             Matrix([\n",
       "[0, 0],\n",
       "[0, 0]]),                             Matrix([\n",
       "[0, 0],\n",
       "[0, 0]]), Matrix([\n",
       "[      -1, -sqrt(3)],\n",
       "[-sqrt(3),       -3]]),     Matrix([\n",
       "[     -1, sqrt(3)],\n",
       "[sqrt(3),      -3]]),                             Matrix([\n",
       "[0, 0],\n",
       "[0, 0]]),                             Matrix([\n",
       "[0, 0],\n",
       "[0, 0]]),                             Matrix([\n",
       "[0, 0],\n",
       "[0, 0]]),                             Matrix([\n",
       "[0, 0],\n",
       "[0, 0]]),                           Matrix([\n",
       "[-4, 0],\n",
       "[ 0, 0]]),                             Matrix([\n",
       "[6, 0],\n",
       "[0, 6]])]])"
      ]
     },
     "execution_count": 64,
     "metadata": {},
     "output_type": "execute_result"
    }
   ],
   "source": [
    "K_block = sp.BlockMatrix(blocks)\n",
    "factor_matrix(K_block, factor=k/4)"
   ]
  },
  {
   "cell_type": "markdown",
   "id": "28f5a078",
   "metadata": {},
   "source": [
    "Now let's see if we can solve the matrix equation $K u = f$. "
   ]
  },
  {
   "cell_type": "markdown",
   "id": "51d56b4f",
   "metadata": {},
   "source": [
    "## Shift and Rotate\n",
    "\n",
    "At this point we have a block matrix with five columns -- one for each displacement -- and five rows -- one for each equation.\n",
    "So if we are given five external forces, it's tempting to think that we could solve for the unknown displacements.\n",
    "But we can't, because the stiffness matrix we assembled does not have full rank.\n",
    "\n",
    "Before we can compute the rank, we have to convert `k_block` from a 5x5 block matrix to a 10x10 conventional matrix."
   ]
  },
  {
   "cell_type": "code",
   "execution_count": 65,
   "id": "cefc5858",
   "metadata": {},
   "outputs": [
    {
     "data": {
      "text/latex": [
       "$\\displaystyle \\frac{A E}{4 L} \\left[\\begin{array}{cccccccccccccccccccccccccc}5 & \\sqrt{3} & -4 & 0 & 0 & 0 & 0 & 0 & 0 & 0 & 0 & 0 & 0 & 0 & -1 & - \\sqrt{3} & 0 & 0 & 0 & 0 & 0 & 0 & 0 & 0 & 0 & 0\\\\\\sqrt{3} & 3 & 0 & 0 & 0 & 0 & 0 & 0 & 0 & 0 & 0 & 0 & 0 & 0 & - \\sqrt{3} & -3 & 0 & 0 & 0 & 0 & 0 & 0 & 0 & 0 & 0 & 0\\\\-4 & 0 & 10 & 0 & -4 & 0 & 0 & 0 & 0 & 0 & 0 & 0 & 0 & 0 & -1 & \\sqrt{3} & -1 & - \\sqrt{3} & 0 & 0 & 0 & 0 & 0 & 0 & 0 & 0\\\\0 & 0 & 0 & 6 & 0 & 0 & 0 & 0 & 0 & 0 & 0 & 0 & 0 & 0 & \\sqrt{3} & -3 & - \\sqrt{3} & -3 & 0 & 0 & 0 & 0 & 0 & 0 & 0 & 0\\\\0 & 0 & -4 & 0 & 10 & 0 & -4 & 0 & 0 & 0 & 0 & 0 & 0 & 0 & 0 & 0 & -1 & \\sqrt{3} & -1 & - \\sqrt{3} & 0 & 0 & 0 & 0 & 0 & 0\\\\0 & 0 & 0 & 0 & 0 & 6 & 0 & 0 & 0 & 0 & 0 & 0 & 0 & 0 & 0 & 0 & \\sqrt{3} & -3 & - \\sqrt{3} & -3 & 0 & 0 & 0 & 0 & 0 & 0\\\\0 & 0 & 0 & 0 & -4 & 0 & 10 & 0 & -4 & 0 & 0 & 0 & 0 & 0 & 0 & 0 & 0 & 0 & -1 & \\sqrt{3} & -1 & - \\sqrt{3} & 0 & 0 & 0 & 0\\\\0 & 0 & 0 & 0 & 0 & 0 & 0 & 6 & 0 & 0 & 0 & 0 & 0 & 0 & 0 & 0 & 0 & 0 & \\sqrt{3} & -3 & - \\sqrt{3} & -3 & 0 & 0 & 0 & 0\\\\0 & 0 & 0 & 0 & 0 & 0 & -4 & 0 & 10 & 0 & -4 & 0 & 0 & 0 & 0 & 0 & 0 & 0 & 0 & 0 & -1 & \\sqrt{3} & -1 & - \\sqrt{3} & 0 & 0\\\\0 & 0 & 0 & 0 & 0 & 0 & 0 & 0 & 0 & 6 & 0 & 0 & 0 & 0 & 0 & 0 & 0 & 0 & 0 & 0 & \\sqrt{3} & -3 & - \\sqrt{3} & -3 & 0 & 0\\\\0 & 0 & 0 & 0 & 0 & 0 & 0 & 0 & -4 & 0 & 10 & 0 & -4 & 0 & 0 & 0 & 0 & 0 & 0 & 0 & 0 & 0 & -1 & \\sqrt{3} & -1 & - \\sqrt{3}\\\\0 & 0 & 0 & 0 & 0 & 0 & 0 & 0 & 0 & 0 & 0 & 6 & 0 & 0 & 0 & 0 & 0 & 0 & 0 & 0 & 0 & 0 & \\sqrt{3} & -3 & - \\sqrt{3} & -3\\\\0 & 0 & 0 & 0 & 0 & 0 & 0 & 0 & 0 & 0 & -4 & 0 & 5 & - \\sqrt{3} & 0 & 0 & 0 & 0 & 0 & 0 & 0 & 0 & 0 & 0 & -1 & \\sqrt{3}\\\\0 & 0 & 0 & 0 & 0 & 0 & 0 & 0 & 0 & 0 & 0 & 0 & - \\sqrt{3} & 3 & 0 & 0 & 0 & 0 & 0 & 0 & 0 & 0 & 0 & 0 & \\sqrt{3} & -3\\\\-1 & - \\sqrt{3} & -1 & \\sqrt{3} & 0 & 0 & 0 & 0 & 0 & 0 & 0 & 0 & 0 & 0 & 6 & 0 & -4 & 0 & 0 & 0 & 0 & 0 & 0 & 0 & 0 & 0\\\\- \\sqrt{3} & -3 & \\sqrt{3} & -3 & 0 & 0 & 0 & 0 & 0 & 0 & 0 & 0 & 0 & 0 & 0 & 6 & 0 & 0 & 0 & 0 & 0 & 0 & 0 & 0 & 0 & 0\\\\0 & 0 & -1 & - \\sqrt{3} & -1 & \\sqrt{3} & 0 & 0 & 0 & 0 & 0 & 0 & 0 & 0 & -4 & 0 & 10 & 0 & -4 & 0 & 0 & 0 & 0 & 0 & 0 & 0\\\\0 & 0 & - \\sqrt{3} & -3 & \\sqrt{3} & -3 & 0 & 0 & 0 & 0 & 0 & 0 & 0 & 0 & 0 & 0 & 0 & 6 & 0 & 0 & 0 & 0 & 0 & 0 & 0 & 0\\\\0 & 0 & 0 & 0 & -1 & - \\sqrt{3} & -1 & \\sqrt{3} & 0 & 0 & 0 & 0 & 0 & 0 & 0 & 0 & -4 & 0 & 10 & 0 & -4 & 0 & 0 & 0 & 0 & 0\\\\0 & 0 & 0 & 0 & - \\sqrt{3} & -3 & \\sqrt{3} & -3 & 0 & 0 & 0 & 0 & 0 & 0 & 0 & 0 & 0 & 0 & 0 & 6 & 0 & 0 & 0 & 0 & 0 & 0\\\\0 & 0 & 0 & 0 & 0 & 0 & -1 & - \\sqrt{3} & -1 & \\sqrt{3} & 0 & 0 & 0 & 0 & 0 & 0 & 0 & 0 & -4 & 0 & 10 & 0 & -4 & 0 & 0 & 0\\\\0 & 0 & 0 & 0 & 0 & 0 & - \\sqrt{3} & -3 & \\sqrt{3} & -3 & 0 & 0 & 0 & 0 & 0 & 0 & 0 & 0 & 0 & 0 & 0 & 6 & 0 & 0 & 0 & 0\\\\0 & 0 & 0 & 0 & 0 & 0 & 0 & 0 & -1 & - \\sqrt{3} & -1 & \\sqrt{3} & 0 & 0 & 0 & 0 & 0 & 0 & 0 & 0 & -4 & 0 & 10 & 0 & -4 & 0\\\\0 & 0 & 0 & 0 & 0 & 0 & 0 & 0 & - \\sqrt{3} & -3 & \\sqrt{3} & -3 & 0 & 0 & 0 & 0 & 0 & 0 & 0 & 0 & 0 & 0 & 0 & 6 & 0 & 0\\\\0 & 0 & 0 & 0 & 0 & 0 & 0 & 0 & 0 & 0 & -1 & - \\sqrt{3} & -1 & \\sqrt{3} & 0 & 0 & 0 & 0 & 0 & 0 & 0 & 0 & -4 & 0 & 6 & 0\\\\0 & 0 & 0 & 0 & 0 & 0 & 0 & 0 & 0 & 0 & - \\sqrt{3} & -3 & \\sqrt{3} & -3 & 0 & 0 & 0 & 0 & 0 & 0 & 0 & 0 & 0 & 0 & 0 & 6\\end{array}\\right]$"
      ],
      "text/plain": [
       "(A*E/(4*L))*Matrix([\n",
       "[       5,  sqrt(3),       -4,        0,        0,        0,        0,        0,        0,        0,        0,        0,        0,        0,       -1, -sqrt(3),        0,        0,        0,        0,        0,        0,        0,        0,        0,        0],\n",
       "[ sqrt(3),        3,        0,        0,        0,        0,        0,        0,        0,        0,        0,        0,        0,        0, -sqrt(3),       -3,        0,        0,        0,        0,        0,        0,        0,        0,        0,        0],\n",
       "[      -4,        0,       10,        0,       -4,        0,        0,        0,        0,        0,        0,        0,        0,        0,       -1,  sqrt(3),       -1, -sqrt(3),        0,        0,        0,        0,        0,        0,        0,        0],\n",
       "[       0,        0,        0,        6,        0,        0,        0,        0,        0,        0,        0,        0,        0,        0,  sqrt(3),       -3, -sqrt(3),       -3,        0,        0,        0,        0,        0,        0,        0,        0],\n",
       "[       0,        0,       -4,        0,       10,        0,       -4,        0,        0,        0,        0,        0,        0,        0,        0,        0,       -1,  sqrt(3),       -1, -sqrt(3),        0,        0,        0,        0,        0,        0],\n",
       "[       0,        0,        0,        0,        0,        6,        0,        0,        0,        0,        0,        0,        0,        0,        0,        0,  sqrt(3),       -3, -sqrt(3),       -3,        0,        0,        0,        0,        0,        0],\n",
       "[       0,        0,        0,        0,       -4,        0,       10,        0,       -4,        0,        0,        0,        0,        0,        0,        0,        0,        0,       -1,  sqrt(3),       -1, -sqrt(3),        0,        0,        0,        0],\n",
       "[       0,        0,        0,        0,        0,        0,        0,        6,        0,        0,        0,        0,        0,        0,        0,        0,        0,        0,  sqrt(3),       -3, -sqrt(3),       -3,        0,        0,        0,        0],\n",
       "[       0,        0,        0,        0,        0,        0,       -4,        0,       10,        0,       -4,        0,        0,        0,        0,        0,        0,        0,        0,        0,       -1,  sqrt(3),       -1, -sqrt(3),        0,        0],\n",
       "[       0,        0,        0,        0,        0,        0,        0,        0,        0,        6,        0,        0,        0,        0,        0,        0,        0,        0,        0,        0,  sqrt(3),       -3, -sqrt(3),       -3,        0,        0],\n",
       "[       0,        0,        0,        0,        0,        0,        0,        0,       -4,        0,       10,        0,       -4,        0,        0,        0,        0,        0,        0,        0,        0,        0,       -1,  sqrt(3),       -1, -sqrt(3)],\n",
       "[       0,        0,        0,        0,        0,        0,        0,        0,        0,        0,        0,        6,        0,        0,        0,        0,        0,        0,        0,        0,        0,        0,  sqrt(3),       -3, -sqrt(3),       -3],\n",
       "[       0,        0,        0,        0,        0,        0,        0,        0,        0,        0,       -4,        0,        5, -sqrt(3),        0,        0,        0,        0,        0,        0,        0,        0,        0,        0,       -1,  sqrt(3)],\n",
       "[       0,        0,        0,        0,        0,        0,        0,        0,        0,        0,        0,        0, -sqrt(3),        3,        0,        0,        0,        0,        0,        0,        0,        0,        0,        0,  sqrt(3),       -3],\n",
       "[      -1, -sqrt(3),       -1,  sqrt(3),        0,        0,        0,        0,        0,        0,        0,        0,        0,        0,        6,        0,       -4,        0,        0,        0,        0,        0,        0,        0,        0,        0],\n",
       "[-sqrt(3),       -3,  sqrt(3),       -3,        0,        0,        0,        0,        0,        0,        0,        0,        0,        0,        0,        6,        0,        0,        0,        0,        0,        0,        0,        0,        0,        0],\n",
       "[       0,        0,       -1, -sqrt(3),       -1,  sqrt(3),        0,        0,        0,        0,        0,        0,        0,        0,       -4,        0,       10,        0,       -4,        0,        0,        0,        0,        0,        0,        0],\n",
       "[       0,        0, -sqrt(3),       -3,  sqrt(3),       -3,        0,        0,        0,        0,        0,        0,        0,        0,        0,        0,        0,        6,        0,        0,        0,        0,        0,        0,        0,        0],\n",
       "[       0,        0,        0,        0,       -1, -sqrt(3),       -1,  sqrt(3),        0,        0,        0,        0,        0,        0,        0,        0,       -4,        0,       10,        0,       -4,        0,        0,        0,        0,        0],\n",
       "[       0,        0,        0,        0, -sqrt(3),       -3,  sqrt(3),       -3,        0,        0,        0,        0,        0,        0,        0,        0,        0,        0,        0,        6,        0,        0,        0,        0,        0,        0],\n",
       "[       0,        0,        0,        0,        0,        0,       -1, -sqrt(3),       -1,  sqrt(3),        0,        0,        0,        0,        0,        0,        0,        0,       -4,        0,       10,        0,       -4,        0,        0,        0],\n",
       "[       0,        0,        0,        0,        0,        0, -sqrt(3),       -3,  sqrt(3),       -3,        0,        0,        0,        0,        0,        0,        0,        0,        0,        0,        0,        6,        0,        0,        0,        0],\n",
       "[       0,        0,        0,        0,        0,        0,        0,        0,       -1, -sqrt(3),       -1,  sqrt(3),        0,        0,        0,        0,        0,        0,        0,        0,       -4,        0,       10,        0,       -4,        0],\n",
       "[       0,        0,        0,        0,        0,        0,        0,        0, -sqrt(3),       -3,  sqrt(3),       -3,        0,        0,        0,        0,        0,        0,        0,        0,        0,        0,        0,        6,        0,        0],\n",
       "[       0,        0,        0,        0,        0,        0,        0,        0,        0,        0,       -1, -sqrt(3),       -1,  sqrt(3),        0,        0,        0,        0,        0,        0,        0,        0,       -4,        0,        6,        0],\n",
       "[       0,        0,        0,        0,        0,        0,        0,        0,        0,        0, -sqrt(3),       -3,  sqrt(3),       -3,        0,        0,        0,        0,        0,        0,        0,        0,        0,        0,        0,        6]])"
      ]
     },
     "execution_count": 65,
     "metadata": {},
     "output_type": "execute_result"
    }
   ],
   "source": [
    "K = K_block.as_explicit()\n",
    "factor_matrix(K, k/4)"
   ]
  },
  {
   "cell_type": "markdown",
   "id": "a3159ce8",
   "metadata": {},
   "source": [
    "Now we can compute the rank of the matrix, which indicates the number of non-redundant equations it represents."
   ]
  },
  {
   "cell_type": "code",
   "execution_count": 66,
   "id": "fde11e1e",
   "metadata": {},
   "outputs": [
    {
     "data": {
      "text/plain": [
       "23"
      ]
     },
     "execution_count": 66,
     "metadata": {},
     "output_type": "execute_result"
    }
   ],
   "source": [
    "K.rank()"
   ]
  },
  {
   "cell_type": "markdown",
   "id": "7355eeb2",
   "metadata": {},
   "source": [
    "Although the matrix has 10 rows, the rank is only 7, which means that the matrix represents only 7 independent equations.\n",
    "The rank-nullity theorem implies that it has a three-dimensional nullspace, which we can compute with the `nullspace` method."
   ]
  },
  {
   "cell_type": "code",
   "execution_count": 67,
   "id": "5942b390",
   "metadata": {},
   "outputs": [
    {
     "data": {
      "text/plain": [
       "3"
      ]
     },
     "execution_count": 67,
     "metadata": {},
     "output_type": "execute_result"
    }
   ],
   "source": [
    "nullspace = K.nullspace()\n",
    "len(nullspace)"
   ]
  },
  {
   "cell_type": "markdown",
   "id": "aee3ed3b",
   "metadata": {},
   "source": [
    "The result is a list of three vectors.\n",
    "Each of them is a solution to the homogeneous equation $K u = 0$, which means that there are three ways we can displace the truss that are independent of the external forces.\n",
    "\n",
    "If you think about the physical scenario we are modeling, you might be able to figure out what they are.\n",
    "The equations we have written so far balance the internal and external forces, but they don't constrain the truss from moving in space.\n",
    "Because the truss is not attached to anything, it is free to shift in the `x` direction, shift in the `y` direction, and rotate.\n",
    "These unconstrained ways of moving are called **degrees of freedom**.\n",
    "\n",
    "If we inspect the vectors in the nullspace, we can see how they correspond to these degress of freedom.\n",
    "Here's the second of the three vectors, which is the easiest to interpret."
   ]
  },
  {
   "cell_type": "code",
   "execution_count": 68,
   "id": "10ad5270",
   "metadata": {},
   "outputs": [],
   "source": [
    "def get_block_vector(G, attr, keep=None):\n",
    "    blocks = [gget(G, node, attr) for node in G.nodes]\n",
    "    if keep is not None:\n",
    "        blocks = [blocks[i] for i in keep]\n",
    "    return sp.BlockMatrix([[block] for block in blocks])"
   ]
  },
  {
   "cell_type": "code",
   "execution_count": 69,
   "id": "4b94ca1a",
   "metadata": {},
   "outputs": [],
   "source": [
    "u_sym = get_block_vector(G, 'disp').as_explicit()"
   ]
  },
  {
   "cell_type": "code",
   "execution_count": 70,
   "id": "f1c85051",
   "metadata": {},
   "outputs": [
    {
     "data": {
      "text/latex": [
       "$\\displaystyle \\left[\\begin{matrix}u_{B0 x}\\\\u_{B0 y}\\\\u_{B1 x}\\\\u_{B1 y}\\\\u_{B2 x}\\\\u_{B2 y}\\\\u_{B3 x}\\\\u_{B3 y}\\\\u_{B4 x}\\\\u_{B4 y}\\\\u_{B5 x}\\\\u_{B5 y}\\\\u_{B6 x}\\\\u_{B6 y}\\\\u_{T0 x}\\\\u_{T0 y}\\\\u_{T1 x}\\\\u_{T1 y}\\\\u_{T2 x}\\\\u_{T2 y}\\\\u_{T3 x}\\\\u_{T3 y}\\\\u_{T4 x}\\\\u_{T4 y}\\\\u_{T5 x}\\\\u_{T5 y}\\end{matrix}\\right] = \\left[\\begin{matrix}1\\\\0\\\\1\\\\0\\\\1\\\\0\\\\1\\\\0\\\\1\\\\0\\\\1\\\\0\\\\1\\\\0\\\\1\\\\0\\\\1\\\\0\\\\1\\\\0\\\\1\\\\0\\\\1\\\\0\\\\1\\\\0\\end{matrix}\\right]$"
      ],
      "text/plain": [
       "Eq(Matrix([\n",
       "[u_B0_x],\n",
       "[u_B0_y],\n",
       "[u_B1_x],\n",
       "[u_B1_y],\n",
       "[u_B2_x],\n",
       "[u_B2_y],\n",
       "[u_B3_x],\n",
       "[u_B3_y],\n",
       "[u_B4_x],\n",
       "[u_B4_y],\n",
       "[u_B5_x],\n",
       "[u_B5_y],\n",
       "[u_B6_x],\n",
       "[u_B6_y],\n",
       "[u_T0_x],\n",
       "[u_T0_y],\n",
       "[u_T1_x],\n",
       "[u_T1_y],\n",
       "[u_T2_x],\n",
       "[u_T2_y],\n",
       "[u_T3_x],\n",
       "[u_T3_y],\n",
       "[u_T4_x],\n",
       "[u_T4_y],\n",
       "[u_T5_x],\n",
       "[u_T5_y]]), Matrix([\n",
       "[1],\n",
       "[0],\n",
       "[1],\n",
       "[0],\n",
       "[1],\n",
       "[0],\n",
       "[1],\n",
       "[0],\n",
       "[1],\n",
       "[0],\n",
       "[1],\n",
       "[0],\n",
       "[1],\n",
       "[0],\n",
       "[1],\n",
       "[0],\n",
       "[1],\n",
       "[0],\n",
       "[1],\n",
       "[0],\n",
       "[1],\n",
       "[0],\n",
       "[1],\n",
       "[0],\n",
       "[1],\n",
       "[0]]))"
      ]
     },
     "execution_count": 70,
     "metadata": {},
     "output_type": "execute_result"
    }
   ],
   "source": [
    "v_null_1 = nullspace[1]\n",
    "sp.Eq(u_sym, v_null_1)"
   ]
  },
  {
   "cell_type": "markdown",
   "id": "2c3a6bfe",
   "metadata": {},
   "source": [
    "This vector represents a displacement of all nodes by one unit in the `x` direction.\n",
    "\n",
    "The sum of the other two vectors in the nullspace is similar -- it displaces all nodes by one unit in the `y` direction."
   ]
  },
  {
   "cell_type": "code",
   "execution_count": 71,
   "id": "cd592401",
   "metadata": {},
   "outputs": [
    {
     "data": {
      "text/latex": [
       "$\\displaystyle \\left[\\begin{matrix}u_{B0 x}\\\\u_{B0 y}\\\\u_{B1 x}\\\\u_{B1 y}\\\\u_{B2 x}\\\\u_{B2 y}\\\\u_{B3 x}\\\\u_{B3 y}\\\\u_{B4 x}\\\\u_{B4 y}\\\\u_{B5 x}\\\\u_{B5 y}\\\\u_{B6 x}\\\\u_{B6 y}\\\\u_{T0 x}\\\\u_{T0 y}\\\\u_{T1 x}\\\\u_{T1 y}\\\\u_{T2 x}\\\\u_{T2 y}\\\\u_{T3 x}\\\\u_{T3 y}\\\\u_{T4 x}\\\\u_{T4 y}\\\\u_{T5 x}\\\\u_{T5 y}\\end{matrix}\\right] = \\left[\\begin{matrix}0\\\\1\\\\0\\\\1\\\\0\\\\1\\\\0\\\\1\\\\0\\\\1\\\\0\\\\1\\\\0\\\\1\\\\0\\\\1\\\\0\\\\1\\\\0\\\\1\\\\0\\\\1\\\\0\\\\1\\\\0\\\\1\\end{matrix}\\right]$"
      ],
      "text/plain": [
       "Eq(Matrix([\n",
       "[u_B0_x],\n",
       "[u_B0_y],\n",
       "[u_B1_x],\n",
       "[u_B1_y],\n",
       "[u_B2_x],\n",
       "[u_B2_y],\n",
       "[u_B3_x],\n",
       "[u_B3_y],\n",
       "[u_B4_x],\n",
       "[u_B4_y],\n",
       "[u_B5_x],\n",
       "[u_B5_y],\n",
       "[u_B6_x],\n",
       "[u_B6_y],\n",
       "[u_T0_x],\n",
       "[u_T0_y],\n",
       "[u_T1_x],\n",
       "[u_T1_y],\n",
       "[u_T2_x],\n",
       "[u_T2_y],\n",
       "[u_T3_x],\n",
       "[u_T3_y],\n",
       "[u_T4_x],\n",
       "[u_T4_y],\n",
       "[u_T5_x],\n",
       "[u_T5_y]]), Matrix([\n",
       "[0],\n",
       "[1],\n",
       "[0],\n",
       "[1],\n",
       "[0],\n",
       "[1],\n",
       "[0],\n",
       "[1],\n",
       "[0],\n",
       "[1],\n",
       "[0],\n",
       "[1],\n",
       "[0],\n",
       "[1],\n",
       "[0],\n",
       "[1],\n",
       "[0],\n",
       "[1],\n",
       "[0],\n",
       "[1],\n",
       "[0],\n",
       "[1],\n",
       "[0],\n",
       "[1],\n",
       "[0],\n",
       "[1]]))"
      ]
     },
     "execution_count": 71,
     "metadata": {},
     "output_type": "execute_result"
    }
   ],
   "source": [
    "v_null_2 = (nullspace[0] + nullspace[2])\n",
    "sp.Eq(u_sym, v_null_2)"
   ]
  },
  {
   "cell_type": "markdown",
   "id": "b7f4e064",
   "metadata": {},
   "source": [
    "Finally, here's the difference between the same two vectors."
   ]
  },
  {
   "cell_type": "code",
   "execution_count": 72,
   "id": "7c6dfa0e",
   "metadata": {},
   "outputs": [
    {
     "data": {
      "text/latex": [
       "$\\displaystyle \\left[\\begin{matrix}u_{B0 x}\\\\u_{B0 y}\\\\u_{B1 x}\\\\u_{B1 y}\\\\u_{B2 x}\\\\u_{B2 y}\\\\u_{B3 x}\\\\u_{B3 y}\\\\u_{B4 x}\\\\u_{B4 y}\\\\u_{B5 x}\\\\u_{B5 y}\\\\u_{B6 x}\\\\u_{B6 y}\\\\u_{T0 x}\\\\u_{T0 y}\\\\u_{T1 x}\\\\u_{T1 y}\\\\u_{T2 x}\\\\u_{T2 y}\\\\u_{T3 x}\\\\u_{T3 y}\\\\u_{T4 x}\\\\u_{T4 y}\\\\u_{T5 x}\\\\u_{T5 y}\\end{matrix}\\right] = \\left[\\begin{matrix}- \\sqrt{3}\\\\10\\\\- \\sqrt{3}\\\\8\\\\- \\sqrt{3}\\\\6\\\\- \\sqrt{3}\\\\4\\\\- \\sqrt{3}\\\\2\\\\- \\sqrt{3}\\\\0\\\\- \\sqrt{3}\\\\-2\\\\0\\\\9\\\\0\\\\7\\\\0\\\\5\\\\0\\\\3\\\\0\\\\1\\\\0\\\\-1\\end{matrix}\\right]$"
      ],
      "text/plain": [
       "Eq(Matrix([\n",
       "[u_B0_x],\n",
       "[u_B0_y],\n",
       "[u_B1_x],\n",
       "[u_B1_y],\n",
       "[u_B2_x],\n",
       "[u_B2_y],\n",
       "[u_B3_x],\n",
       "[u_B3_y],\n",
       "[u_B4_x],\n",
       "[u_B4_y],\n",
       "[u_B5_x],\n",
       "[u_B5_y],\n",
       "[u_B6_x],\n",
       "[u_B6_y],\n",
       "[u_T0_x],\n",
       "[u_T0_y],\n",
       "[u_T1_x],\n",
       "[u_T1_y],\n",
       "[u_T2_x],\n",
       "[u_T2_y],\n",
       "[u_T3_x],\n",
       "[u_T3_y],\n",
       "[u_T4_x],\n",
       "[u_T4_y],\n",
       "[u_T5_x],\n",
       "[u_T5_y]]), Matrix([\n",
       "[-sqrt(3)],\n",
       "[      10],\n",
       "[-sqrt(3)],\n",
       "[       8],\n",
       "[-sqrt(3)],\n",
       "[       6],\n",
       "[-sqrt(3)],\n",
       "[       4],\n",
       "[-sqrt(3)],\n",
       "[       2],\n",
       "[-sqrt(3)],\n",
       "[       0],\n",
       "[-sqrt(3)],\n",
       "[      -2],\n",
       "[       0],\n",
       "[       9],\n",
       "[       0],\n",
       "[       7],\n",
       "[       0],\n",
       "[       5],\n",
       "[       0],\n",
       "[       3],\n",
       "[       0],\n",
       "[       1],\n",
       "[       0],\n",
       "[      -1]]))"
      ]
     },
     "execution_count": 72,
     "metadata": {},
     "output_type": "execute_result"
    }
   ],
   "source": [
    "v_null_3 = (nullspace[0] - nullspace[2])\n",
    "sp.Eq(u_sym, v_null_3)"
   ]
  },
  {
   "cell_type": "markdown",
   "id": "99844525",
   "metadata": {},
   "source": [
    "Looking at the components of this vector, it's not obvious what it means.\n",
    "It will be clearer if we plot the effect it has on the truss.\n",
    "To do that, we'll pack it into a dictionary that maps from the components of the displacement vectors to the elements of the null vector."
   ]
  },
  {
   "cell_type": "code",
   "execution_count": 73,
   "id": "1e834d97",
   "metadata": {},
   "outputs": [],
   "source": [
    "rotation = dict(zip(u_sym, v_null_3))"
   ]
  },
  {
   "cell_type": "markdown",
   "id": "eda0b3ca",
   "metadata": {},
   "source": [
    "We'll use the following function to loop through the nodes in the graph and displace each node using the values in this dictionary."
   ]
  },
  {
   "cell_type": "code",
   "execution_count": 74,
   "id": "c223a357",
   "metadata": {},
   "outputs": [],
   "source": [
    "def displace_truss(G, sol, scale=300):\n",
    "    G_sol = G.copy()\n",
    "\n",
    "    for node in G_sol.nodes:\n",
    "        pos = gget(G_sol, node, 'pos')\n",
    "        u = gget(G_sol, node, 'disp')\n",
    "        u_eval = u.subs(sol).evalf() * scale \n",
    "        gset(G_sol, node, pos=pos + u_eval)\n",
    "\n",
    "    return G_sol"
   ]
  },
  {
   "cell_type": "markdown",
   "id": "f5069393",
   "metadata": {},
   "source": [
    "The `scale` parameter determines the magnitudes of the displacements."
   ]
  },
  {
   "cell_type": "code",
   "execution_count": 75,
   "id": "0382d3a3",
   "metadata": {},
   "outputs": [],
   "source": [
    "G_rot = displace_truss(G, rotation, scale=0.005)"
   ]
  },
  {
   "cell_type": "markdown",
   "id": "4cb1187b",
   "metadata": {},
   "source": [
    "Finally, we can draw the displaced truss on top of an outline of the original."
   ]
  },
  {
   "cell_type": "code",
   "execution_count": 76,
   "id": "4c33570f",
   "metadata": {},
   "outputs": [
    {
     "data": {
      "image/png": "[encoded data removed]",
      "text/plain": [
       "<Figure size 450x262.5 with 1 Axes>"
      ]
     },
     "metadata": {},
     "output_type": "display_data"
    }
   ],
   "source": [
    "draw_truss_graph(G, subs, label_nodes=False, alpha=0.3)\n",
    "draw_truss_graph(G_rot, subs)"
   ]
  },
  {
   "cell_type": "markdown",
   "id": "53d848dc",
   "metadata": {},
   "source": [
    "And we can see that this null vector represents the third degree of freedom, rotation.\n",
    "\n",
    "With 10 unknowns and only 7 independent equations, this system is **underdetermined**, which means it has many possible solutions.\n",
    "But that's because we have not yet taken into account all of the information we have about the physical scenario -- specifically, we know that two of the nodes are fixed in space."
   ]
  },
  {
   "cell_type": "markdown",
   "id": "16dbf45a",
   "metadata": {},
   "source": [
    "## Reduce the Matrix\n",
    "\n",
    "Let's assume that the truss is attached firmly at the left and right.\n",
    "The following loop makes a new version of the graph where the displacement at those nodes is zero."
   ]
  },
  {
   "cell_type": "code",
   "execution_count": 77,
   "id": "247ec1c1",
   "metadata": {},
   "outputs": [],
   "source": [
    "fixed_nodes = ['B0', f'B{N}']\n",
    "G_fixed = G.copy()\n",
    "\n",
    "for node in G.nodes():\n",
    "    if node in fixed_nodes:\n",
    "        disp = make_vector(0, 0)\n",
    "        gset(G_fixed, node, disp=disp)"
   ]
  },
  {
   "cell_type": "markdown",
   "id": "382962e1",
   "metadata": {},
   "source": [
    "Since these displacements are no longer unknown, we can remove them from the matrix equation.\n",
    "First, we'll compute the indices of the remaining nodes that are not fixed."
   ]
  },
  {
   "cell_type": "code",
   "execution_count": 78,
   "id": "f84b6307",
   "metadata": {},
   "outputs": [
    {
     "data": {
      "text/plain": [
       "[1, 2, 3, 4, 5, 7, 8, 9, 10, 11, 12]"
      ]
     },
     "execution_count": 78,
     "metadata": {},
     "output_type": "execute_result"
    }
   ],
   "source": [
    "keep = [gget(G_fixed, node, 'index') \n",
    "        for node in G_fixed.nodes \n",
    "        if node not in fixed_nodes]\n",
    "\n",
    "keep    "
   ]
  },
  {
   "cell_type": "markdown",
   "id": "dda7130e",
   "metadata": {},
   "source": [
    "Now we'll select the blocks that correspond to these nodes."
   ]
  },
  {
   "cell_type": "code",
   "execution_count": 79,
   "id": "9efc78cd",
   "metadata": {},
   "outputs": [],
   "source": [
    "blocks_reduced = [\n",
    "    [blocks[i][j] \n",
    "     for j in keep]\n",
    "     for i in keep\n",
    "]"
   ]
  },
  {
   "cell_type": "markdown",
   "id": "c9df63e2",
   "metadata": {},
   "source": [
    "And make a new block matrix that has been **reduced** by removing the known displacements."
   ]
  },
  {
   "cell_type": "code",
   "execution_count": 80,
   "id": "8bc4440d",
   "metadata": {},
   "outputs": [
    {
     "data": {
      "text/latex": [
       "$\\displaystyle \\frac{A E}{4 L} \\left[\\begin{array}{ccccccccccc}\\left[\\begin{matrix}10 & 0\\\\0 & 6\\end{matrix}\\right] & \\left[\\begin{matrix}-4 & 0\\\\0 & 0\\end{matrix}\\right] & \\left[\\begin{matrix}0 & 0\\\\0 & 0\\end{matrix}\\right] & \\left[\\begin{matrix}0 & 0\\\\0 & 0\\end{matrix}\\right] & \\left[\\begin{matrix}0 & 0\\\\0 & 0\\end{matrix}\\right] & \\left[\\begin{matrix}-1 & \\sqrt{3}\\\\\\sqrt{3} & -3\\end{matrix}\\right] & \\left[\\begin{matrix}-1 & - \\sqrt{3}\\\\- \\sqrt{3} & -3\\end{matrix}\\right] & \\left[\\begin{matrix}0 & 0\\\\0 & 0\\end{matrix}\\right] & \\left[\\begin{matrix}0 & 0\\\\0 & 0\\end{matrix}\\right] & \\left[\\begin{matrix}0 & 0\\\\0 & 0\\end{matrix}\\right] & \\left[\\begin{matrix}0 & 0\\\\0 & 0\\end{matrix}\\right]\\\\\\left[\\begin{matrix}-4 & 0\\\\0 & 0\\end{matrix}\\right] & \\left[\\begin{matrix}10 & 0\\\\0 & 6\\end{matrix}\\right] & \\left[\\begin{matrix}-4 & 0\\\\0 & 0\\end{matrix}\\right] & \\left[\\begin{matrix}0 & 0\\\\0 & 0\\end{matrix}\\right] & \\left[\\begin{matrix}0 & 0\\\\0 & 0\\end{matrix}\\right] & \\left[\\begin{matrix}0 & 0\\\\0 & 0\\end{matrix}\\right] & \\left[\\begin{matrix}-1 & \\sqrt{3}\\\\\\sqrt{3} & -3\\end{matrix}\\right] & \\left[\\begin{matrix}-1 & - \\sqrt{3}\\\\- \\sqrt{3} & -3\\end{matrix}\\right] & \\left[\\begin{matrix}0 & 0\\\\0 & 0\\end{matrix}\\right] & \\left[\\begin{matrix}0 & 0\\\\0 & 0\\end{matrix}\\right] & \\left[\\begin{matrix}0 & 0\\\\0 & 0\\end{matrix}\\right]\\\\\\left[\\begin{matrix}0 & 0\\\\0 & 0\\end{matrix}\\right] & \\left[\\begin{matrix}-4 & 0\\\\0 & 0\\end{matrix}\\right] & \\left[\\begin{matrix}10 & 0\\\\0 & 6\\end{matrix}\\right] & \\left[\\begin{matrix}-4 & 0\\\\0 & 0\\end{matrix}\\right] & \\left[\\begin{matrix}0 & 0\\\\0 & 0\\end{matrix}\\right] & \\left[\\begin{matrix}0 & 0\\\\0 & 0\\end{matrix}\\right] & \\left[\\begin{matrix}0 & 0\\\\0 & 0\\end{matrix}\\right] & \\left[\\begin{matrix}-1 & \\sqrt{3}\\\\\\sqrt{3} & -3\\end{matrix}\\right] & \\left[\\begin{matrix}-1 & - \\sqrt{3}\\\\- \\sqrt{3} & -3\\end{matrix}\\right] & \\left[\\begin{matrix}0 & 0\\\\0 & 0\\end{matrix}\\right] & \\left[\\begin{matrix}0 & 0\\\\0 & 0\\end{matrix}\\right]\\\\\\left[\\begin{matrix}0 & 0\\\\0 & 0\\end{matrix}\\right] & \\left[\\begin{matrix}0 & 0\\\\0 & 0\\end{matrix}\\right] & \\left[\\begin{matrix}-4 & 0\\\\0 & 0\\end{matrix}\\right] & \\left[\\begin{matrix}10 & 0\\\\0 & 6\\end{matrix}\\right] & \\left[\\begin{matrix}-4 & 0\\\\0 & 0\\end{matrix}\\right] & \\left[\\begin{matrix}0 & 0\\\\0 & 0\\end{matrix}\\right] & \\left[\\begin{matrix}0 & 0\\\\0 & 0\\end{matrix}\\right] & \\left[\\begin{matrix}0 & 0\\\\0 & 0\\end{matrix}\\right] & \\left[\\begin{matrix}-1 & \\sqrt{3}\\\\\\sqrt{3} & -3\\end{matrix}\\right] & \\left[\\begin{matrix}-1 & - \\sqrt{3}\\\\- \\sqrt{3} & -3\\end{matrix}\\right] & \\left[\\begin{matrix}0 & 0\\\\0 & 0\\end{matrix}\\right]\\\\\\left[\\begin{matrix}0 & 0\\\\0 & 0\\end{matrix}\\right] & \\left[\\begin{matrix}0 & 0\\\\0 & 0\\end{matrix}\\right] & \\left[\\begin{matrix}0 & 0\\\\0 & 0\\end{matrix}\\right] & \\left[\\begin{matrix}-4 & 0\\\\0 & 0\\end{matrix}\\right] & \\left[\\begin{matrix}10 & 0\\\\0 & 6\\end{matrix}\\right] & \\left[\\begin{matrix}0 & 0\\\\0 & 0\\end{matrix}\\right] & \\left[\\begin{matrix}0 & 0\\\\0 & 0\\end{matrix}\\right] & \\left[\\begin{matrix}0 & 0\\\\0 & 0\\end{matrix}\\right] & \\left[\\begin{matrix}0 & 0\\\\0 & 0\\end{matrix}\\right] & \\left[\\begin{matrix}-1 & \\sqrt{3}\\\\\\sqrt{3} & -3\\end{matrix}\\right] & \\left[\\begin{matrix}-1 & - \\sqrt{3}\\\\- \\sqrt{3} & -3\\end{matrix}\\right]\\\\\\left[\\begin{matrix}-1 & \\sqrt{3}\\\\\\sqrt{3} & -3\\end{matrix}\\right] & \\left[\\begin{matrix}0 & 0\\\\0 & 0\\end{matrix}\\right] & \\left[\\begin{matrix}0 & 0\\\\0 & 0\\end{matrix}\\right] & \\left[\\begin{matrix}0 & 0\\\\0 & 0\\end{matrix}\\right] & \\left[\\begin{matrix}0 & 0\\\\0 & 0\\end{matrix}\\right] & \\left[\\begin{matrix}6 & 0\\\\0 & 6\\end{matrix}\\right] & \\left[\\begin{matrix}-4 & 0\\\\0 & 0\\end{matrix}\\right] & \\left[\\begin{matrix}0 & 0\\\\0 & 0\\end{matrix}\\right] & \\left[\\begin{matrix}0 & 0\\\\0 & 0\\end{matrix}\\right] & \\left[\\begin{matrix}0 & 0\\\\0 & 0\\end{matrix}\\right] & \\left[\\begin{matrix}0 & 0\\\\0 & 0\\end{matrix}\\right]\\\\\\left[\\begin{matrix}-1 & - \\sqrt{3}\\\\- \\sqrt{3} & -3\\end{matrix}\\right] & \\left[\\begin{matrix}-1 & \\sqrt{3}\\\\\\sqrt{3} & -3\\end{matrix}\\right] & \\left[\\begin{matrix}0 & 0\\\\0 & 0\\end{matrix}\\right] & \\left[\\begin{matrix}0 & 0\\\\0 & 0\\end{matrix}\\right] & \\left[\\begin{matrix}0 & 0\\\\0 & 0\\end{matrix}\\right] & \\left[\\begin{matrix}-4 & 0\\\\0 & 0\\end{matrix}\\right] & \\left[\\begin{matrix}10 & 0\\\\0 & 6\\end{matrix}\\right] & \\left[\\begin{matrix}-4 & 0\\\\0 & 0\\end{matrix}\\right] & \\left[\\begin{matrix}0 & 0\\\\0 & 0\\end{matrix}\\right] & \\left[\\begin{matrix}0 & 0\\\\0 & 0\\end{matrix}\\right] & \\left[\\begin{matrix}0 & 0\\\\0 & 0\\end{matrix}\\right]\\\\\\left[\\begin{matrix}0 & 0\\\\0 & 0\\end{matrix}\\right] & \\left[\\begin{matrix}-1 & - \\sqrt{3}\\\\- \\sqrt{3} & -3\\end{matrix}\\right] & \\left[\\begin{matrix}-1 & \\sqrt{3}\\\\\\sqrt{3} & -3\\end{matrix}\\right] & \\left[\\begin{matrix}0 & 0\\\\0 & 0\\end{matrix}\\right] & \\left[\\begin{matrix}0 & 0\\\\0 & 0\\end{matrix}\\right] & \\left[\\begin{matrix}0 & 0\\\\0 & 0\\end{matrix}\\right] & \\left[\\begin{matrix}-4 & 0\\\\0 & 0\\end{matrix}\\right] & \\left[\\begin{matrix}10 & 0\\\\0 & 6\\end{matrix}\\right] & \\left[\\begin{matrix}-4 & 0\\\\0 & 0\\end{matrix}\\right] & \\left[\\begin{matrix}0 & 0\\\\0 & 0\\end{matrix}\\right] & \\left[\\begin{matrix}0 & 0\\\\0 & 0\\end{matrix}\\right]\\\\\\left[\\begin{matrix}0 & 0\\\\0 & 0\\end{matrix}\\right] & \\left[\\begin{matrix}0 & 0\\\\0 & 0\\end{matrix}\\right] & \\left[\\begin{matrix}-1 & - \\sqrt{3}\\\\- \\sqrt{3} & -3\\end{matrix}\\right] & \\left[\\begin{matrix}-1 & \\sqrt{3}\\\\\\sqrt{3} & -3\\end{matrix}\\right] & \\left[\\begin{matrix}0 & 0\\\\0 & 0\\end{matrix}\\right] & \\left[\\begin{matrix}0 & 0\\\\0 & 0\\end{matrix}\\right] & \\left[\\begin{matrix}0 & 0\\\\0 & 0\\end{matrix}\\right] & \\left[\\begin{matrix}-4 & 0\\\\0 & 0\\end{matrix}\\right] & \\left[\\begin{matrix}10 & 0\\\\0 & 6\\end{matrix}\\right] & \\left[\\begin{matrix}-4 & 0\\\\0 & 0\\end{matrix}\\right] & \\left[\\begin{matrix}0 & 0\\\\0 & 0\\end{matrix}\\right]\\\\\\left[\\begin{matrix}0 & 0\\\\0 & 0\\end{matrix}\\right] & \\left[\\begin{matrix}0 & 0\\\\0 & 0\\end{matrix}\\right] & \\left[\\begin{matrix}0 & 0\\\\0 & 0\\end{matrix}\\right] & \\left[\\begin{matrix}-1 & - \\sqrt{3}\\\\- \\sqrt{3} & -3\\end{matrix}\\right] & \\left[\\begin{matrix}-1 & \\sqrt{3}\\\\\\sqrt{3} & -3\\end{matrix}\\right] & \\left[\\begin{matrix}0 & 0\\\\0 & 0\\end{matrix}\\right] & \\left[\\begin{matrix}0 & 0\\\\0 & 0\\end{matrix}\\right] & \\left[\\begin{matrix}0 & 0\\\\0 & 0\\end{matrix}\\right] & \\left[\\begin{matrix}-4 & 0\\\\0 & 0\\end{matrix}\\right] & \\left[\\begin{matrix}10 & 0\\\\0 & 6\\end{matrix}\\right] & \\left[\\begin{matrix}-4 & 0\\\\0 & 0\\end{matrix}\\right]\\\\\\left[\\begin{matrix}0 & 0\\\\0 & 0\\end{matrix}\\right] & \\left[\\begin{matrix}0 & 0\\\\0 & 0\\end{matrix}\\right] & \\left[\\begin{matrix}0 & 0\\\\0 & 0\\end{matrix}\\right] & \\left[\\begin{matrix}0 & 0\\\\0 & 0\\end{matrix}\\right] & \\left[\\begin{matrix}-1 & - \\sqrt{3}\\\\- \\sqrt{3} & -3\\end{matrix}\\right] & \\left[\\begin{matrix}0 & 0\\\\0 & 0\\end{matrix}\\right] & \\left[\\begin{matrix}0 & 0\\\\0 & 0\\end{matrix}\\right] & \\left[\\begin{matrix}0 & 0\\\\0 & 0\\end{matrix}\\right] & \\left[\\begin{matrix}0 & 0\\\\0 & 0\\end{matrix}\\right] & \\left[\\begin{matrix}-4 & 0\\\\0 & 0\\end{matrix}\\right] & \\left[\\begin{matrix}6 & 0\\\\0 & 6\\end{matrix}\\right]\\end{array}\\right]$"
      ],
      "text/plain": [
       "(A*E/(4*L))*Matrix([\n",
       "[                          Matrix([\n",
       "[10, 0],\n",
       "[ 0, 6]]),                           Matrix([\n",
       "[-4, 0],\n",
       "[ 0, 0]]),                             Matrix([\n",
       "[0, 0],\n",
       "[0, 0]]),                             Matrix([\n",
       "[0, 0],\n",
       "[0, 0]]),                             Matrix([\n",
       "[0, 0],\n",
       "[0, 0]]), Matrix([\n",
       "[     -1, sqrt(3)],\n",
       "[sqrt(3),      -3]]), Matrix([\n",
       "[      -1, -sqrt(3)],\n",
       "[-sqrt(3),       -3]]),                             Matrix([\n",
       "[0, 0],\n",
       "[0, 0]]),                             Matrix([\n",
       "[0, 0],\n",
       "[0, 0]]),                             Matrix([\n",
       "[0, 0],\n",
       "[0, 0]]),                             Matrix([\n",
       "[0, 0],\n",
       "[0, 0]])],\n",
       "[                          Matrix([\n",
       "[-4, 0],\n",
       "[ 0, 0]]),                           Matrix([\n",
       "[10, 0],\n",
       "[ 0, 6]]),                           Matrix([\n",
       "[-4, 0],\n",
       "[ 0, 0]]),                             Matrix([\n",
       "[0, 0],\n",
       "[0, 0]]),                             Matrix([\n",
       "[0, 0],\n",
       "[0, 0]]),                         Matrix([\n",
       "[0, 0],\n",
       "[0, 0]]),     Matrix([\n",
       "[     -1, sqrt(3)],\n",
       "[sqrt(3),      -3]]), Matrix([\n",
       "[      -1, -sqrt(3)],\n",
       "[-sqrt(3),       -3]]),                             Matrix([\n",
       "[0, 0],\n",
       "[0, 0]]),                             Matrix([\n",
       "[0, 0],\n",
       "[0, 0]]),                             Matrix([\n",
       "[0, 0],\n",
       "[0, 0]])],\n",
       "[                            Matrix([\n",
       "[0, 0],\n",
       "[0, 0]]),                           Matrix([\n",
       "[-4, 0],\n",
       "[ 0, 0]]),                           Matrix([\n",
       "[10, 0],\n",
       "[ 0, 6]]),                           Matrix([\n",
       "[-4, 0],\n",
       "[ 0, 0]]),                             Matrix([\n",
       "[0, 0],\n",
       "[0, 0]]),                         Matrix([\n",
       "[0, 0],\n",
       "[0, 0]]),                             Matrix([\n",
       "[0, 0],\n",
       "[0, 0]]),     Matrix([\n",
       "[     -1, sqrt(3)],\n",
       "[sqrt(3),      -3]]), Matrix([\n",
       "[      -1, -sqrt(3)],\n",
       "[-sqrt(3),       -3]]),                             Matrix([\n",
       "[0, 0],\n",
       "[0, 0]]),                             Matrix([\n",
       "[0, 0],\n",
       "[0, 0]])],\n",
       "[                            Matrix([\n",
       "[0, 0],\n",
       "[0, 0]]),                             Matrix([\n",
       "[0, 0],\n",
       "[0, 0]]),                           Matrix([\n",
       "[-4, 0],\n",
       "[ 0, 0]]),                           Matrix([\n",
       "[10, 0],\n",
       "[ 0, 6]]),                           Matrix([\n",
       "[-4, 0],\n",
       "[ 0, 0]]),                         Matrix([\n",
       "[0, 0],\n",
       "[0, 0]]),                             Matrix([\n",
       "[0, 0],\n",
       "[0, 0]]),                             Matrix([\n",
       "[0, 0],\n",
       "[0, 0]]),     Matrix([\n",
       "[     -1, sqrt(3)],\n",
       "[sqrt(3),      -3]]), Matrix([\n",
       "[      -1, -sqrt(3)],\n",
       "[-sqrt(3),       -3]]),                             Matrix([\n",
       "[0, 0],\n",
       "[0, 0]])],\n",
       "[                            Matrix([\n",
       "[0, 0],\n",
       "[0, 0]]),                             Matrix([\n",
       "[0, 0],\n",
       "[0, 0]]),                             Matrix([\n",
       "[0, 0],\n",
       "[0, 0]]),                           Matrix([\n",
       "[-4, 0],\n",
       "[ 0, 0]]),                           Matrix([\n",
       "[10, 0],\n",
       "[ 0, 6]]),                         Matrix([\n",
       "[0, 0],\n",
       "[0, 0]]),                             Matrix([\n",
       "[0, 0],\n",
       "[0, 0]]),                             Matrix([\n",
       "[0, 0],\n",
       "[0, 0]]),                             Matrix([\n",
       "[0, 0],\n",
       "[0, 0]]),     Matrix([\n",
       "[     -1, sqrt(3)],\n",
       "[sqrt(3),      -3]]), Matrix([\n",
       "[      -1, -sqrt(3)],\n",
       "[-sqrt(3),       -3]])],\n",
       "[    Matrix([\n",
       "[     -1, sqrt(3)],\n",
       "[sqrt(3),      -3]]),                             Matrix([\n",
       "[0, 0],\n",
       "[0, 0]]),                             Matrix([\n",
       "[0, 0],\n",
       "[0, 0]]),                             Matrix([\n",
       "[0, 0],\n",
       "[0, 0]]),                             Matrix([\n",
       "[0, 0],\n",
       "[0, 0]]),                         Matrix([\n",
       "[6, 0],\n",
       "[0, 6]]),                           Matrix([\n",
       "[-4, 0],\n",
       "[ 0, 0]]),                             Matrix([\n",
       "[0, 0],\n",
       "[0, 0]]),                             Matrix([\n",
       "[0, 0],\n",
       "[0, 0]]),                             Matrix([\n",
       "[0, 0],\n",
       "[0, 0]]),                             Matrix([\n",
       "[0, 0],\n",
       "[0, 0]])],\n",
       "[Matrix([\n",
       "[      -1, -sqrt(3)],\n",
       "[-sqrt(3),       -3]]),     Matrix([\n",
       "[     -1, sqrt(3)],\n",
       "[sqrt(3),      -3]]),                             Matrix([\n",
       "[0, 0],\n",
       "[0, 0]]),                             Matrix([\n",
       "[0, 0],\n",
       "[0, 0]]),                             Matrix([\n",
       "[0, 0],\n",
       "[0, 0]]),                       Matrix([\n",
       "[-4, 0],\n",
       "[ 0, 0]]),                           Matrix([\n",
       "[10, 0],\n",
       "[ 0, 6]]),                           Matrix([\n",
       "[-4, 0],\n",
       "[ 0, 0]]),                             Matrix([\n",
       "[0, 0],\n",
       "[0, 0]]),                             Matrix([\n",
       "[0, 0],\n",
       "[0, 0]]),                             Matrix([\n",
       "[0, 0],\n",
       "[0, 0]])],\n",
       "[                            Matrix([\n",
       "[0, 0],\n",
       "[0, 0]]), Matrix([\n",
       "[      -1, -sqrt(3)],\n",
       "[-sqrt(3),       -3]]),     Matrix([\n",
       "[     -1, sqrt(3)],\n",
       "[sqrt(3),      -3]]),                             Matrix([\n",
       "[0, 0],\n",
       "[0, 0]]),                             Matrix([\n",
       "[0, 0],\n",
       "[0, 0]]),                         Matrix([\n",
       "[0, 0],\n",
       "[0, 0]]),                           Matrix([\n",
       "[-4, 0],\n",
       "[ 0, 0]]),                           Matrix([\n",
       "[10, 0],\n",
       "[ 0, 6]]),                           Matrix([\n",
       "[-4, 0],\n",
       "[ 0, 0]]),                             Matrix([\n",
       "[0, 0],\n",
       "[0, 0]]),                             Matrix([\n",
       "[0, 0],\n",
       "[0, 0]])],\n",
       "[                            Matrix([\n",
       "[0, 0],\n",
       "[0, 0]]),                             Matrix([\n",
       "[0, 0],\n",
       "[0, 0]]), Matrix([\n",
       "[      -1, -sqrt(3)],\n",
       "[-sqrt(3),       -3]]),     Matrix([\n",
       "[     -1, sqrt(3)],\n",
       "[sqrt(3),      -3]]),                             Matrix([\n",
       "[0, 0],\n",
       "[0, 0]]),                         Matrix([\n",
       "[0, 0],\n",
       "[0, 0]]),                             Matrix([\n",
       "[0, 0],\n",
       "[0, 0]]),                           Matrix([\n",
       "[-4, 0],\n",
       "[ 0, 0]]),                           Matrix([\n",
       "[10, 0],\n",
       "[ 0, 6]]),                           Matrix([\n",
       "[-4, 0],\n",
       "[ 0, 0]]),                             Matrix([\n",
       "[0, 0],\n",
       "[0, 0]])],\n",
       "[                            Matrix([\n",
       "[0, 0],\n",
       "[0, 0]]),                             Matrix([\n",
       "[0, 0],\n",
       "[0, 0]]),                             Matrix([\n",
       "[0, 0],\n",
       "[0, 0]]), Matrix([\n",
       "[      -1, -sqrt(3)],\n",
       "[-sqrt(3),       -3]]),     Matrix([\n",
       "[     -1, sqrt(3)],\n",
       "[sqrt(3),      -3]]),                         Matrix([\n",
       "[0, 0],\n",
       "[0, 0]]),                             Matrix([\n",
       "[0, 0],\n",
       "[0, 0]]),                             Matrix([\n",
       "[0, 0],\n",
       "[0, 0]]),                           Matrix([\n",
       "[-4, 0],\n",
       "[ 0, 0]]),                           Matrix([\n",
       "[10, 0],\n",
       "[ 0, 6]]),                           Matrix([\n",
       "[-4, 0],\n",
       "[ 0, 0]])],\n",
       "[                            Matrix([\n",
       "[0, 0],\n",
       "[0, 0]]),                             Matrix([\n",
       "[0, 0],\n",
       "[0, 0]]),                             Matrix([\n",
       "[0, 0],\n",
       "[0, 0]]),                             Matrix([\n",
       "[0, 0],\n",
       "[0, 0]]), Matrix([\n",
       "[      -1, -sqrt(3)],\n",
       "[-sqrt(3),       -3]]),                         Matrix([\n",
       "[0, 0],\n",
       "[0, 0]]),                             Matrix([\n",
       "[0, 0],\n",
       "[0, 0]]),                             Matrix([\n",
       "[0, 0],\n",
       "[0, 0]]),                             Matrix([\n",
       "[0, 0],\n",
       "[0, 0]]),                           Matrix([\n",
       "[-4, 0],\n",
       "[ 0, 0]]),                             Matrix([\n",
       "[6, 0],\n",
       "[0, 6]])]])"
      ]
     },
     "execution_count": 80,
     "metadata": {},
     "output_type": "execute_result"
    }
   ],
   "source": [
    "K_reduced = sp.BlockMatrix(blocks_reduced)\n",
    "factor_matrix(K_reduced, k/4)"
   ]
  },
  {
   "cell_type": "markdown",
   "id": "c399cd6f",
   "metadata": {},
   "source": [
    "Now there are only 6 columns, and it has **full rank** -- that is, the equations it represents are independent. "
   ]
  },
  {
   "cell_type": "code",
   "execution_count": 81,
   "id": "da8821cc",
   "metadata": {},
   "outputs": [
    {
     "data": {
      "text/plain": [
       "22"
      ]
     },
     "execution_count": 81,
     "metadata": {},
     "output_type": "execute_result"
    }
   ],
   "source": [
    "K_reduced.as_explicit().rank()"
   ]
  },
  {
   "cell_type": "markdown",
   "id": "97d18f32",
   "metadata": {},
   "source": [
    "And that means the equation $K u = f$ has a unique solution for any vector of forces, $f$. \n",
    "\n",
    "To solve the system, we'll loop through the reduced graph to collect the unknown displacements."
   ]
  },
  {
   "cell_type": "code",
   "execution_count": 82,
   "id": "caed9c44",
   "metadata": {},
   "outputs": [
    {
     "data": {
      "text/latex": [
       "$\\displaystyle \\left[\\begin{matrix}\\left[\\begin{matrix}u_{B1 x}\\\\u_{B1 y}\\end{matrix}\\right]\\\\\\left[\\begin{matrix}u_{B2 x}\\\\u_{B2 y}\\end{matrix}\\right]\\\\\\left[\\begin{matrix}u_{B3 x}\\\\u_{B3 y}\\end{matrix}\\right]\\\\\\left[\\begin{matrix}u_{B4 x}\\\\u_{B4 y}\\end{matrix}\\right]\\\\\\left[\\begin{matrix}u_{B5 x}\\\\u_{B5 y}\\end{matrix}\\right]\\\\\\left[\\begin{matrix}u_{T0 x}\\\\u_{T0 y}\\end{matrix}\\right]\\\\\\left[\\begin{matrix}u_{T1 x}\\\\u_{T1 y}\\end{matrix}\\right]\\\\\\left[\\begin{matrix}u_{T2 x}\\\\u_{T2 y}\\end{matrix}\\right]\\\\\\left[\\begin{matrix}u_{T3 x}\\\\u_{T3 y}\\end{matrix}\\right]\\\\\\left[\\begin{matrix}u_{T4 x}\\\\u_{T4 y}\\end{matrix}\\right]\\\\\\left[\\begin{matrix}u_{T5 x}\\\\u_{T5 y}\\end{matrix}\\right]\\end{matrix}\\right]$"
      ],
      "text/plain": [
       "Matrix([\n",
       "[Matrix([\n",
       "[u_B1_x],\n",
       "[u_B1_y]])],\n",
       "[Matrix([\n",
       "[u_B2_x],\n",
       "[u_B2_y]])],\n",
       "[Matrix([\n",
       "[u_B3_x],\n",
       "[u_B3_y]])],\n",
       "[Matrix([\n",
       "[u_B4_x],\n",
       "[u_B4_y]])],\n",
       "[Matrix([\n",
       "[u_B5_x],\n",
       "[u_B5_y]])],\n",
       "[Matrix([\n",
       "[u_T0_x],\n",
       "[u_T0_y]])],\n",
       "[Matrix([\n",
       "[u_T1_x],\n",
       "[u_T1_y]])],\n",
       "[Matrix([\n",
       "[u_T2_x],\n",
       "[u_T2_y]])],\n",
       "[Matrix([\n",
       "[u_T3_x],\n",
       "[u_T3_y]])],\n",
       "[Matrix([\n",
       "[u_T4_x],\n",
       "[u_T4_y]])],\n",
       "[Matrix([\n",
       "[u_T5_x],\n",
       "[u_T5_y]])]])"
      ]
     },
     "execution_count": 82,
     "metadata": {},
     "output_type": "execute_result"
    }
   ],
   "source": [
    "u_reduced = get_block_vector(G_fixed, 'disp', keep)\n",
    "u_reduced"
   ]
  },
  {
   "cell_type": "markdown",
   "id": "fbed555d",
   "metadata": {},
   "source": [
    "And we can collect the external forces the same way."
   ]
  },
  {
   "cell_type": "code",
   "execution_count": 83,
   "id": "580f15de",
   "metadata": {},
   "outputs": [
    {
     "data": {
      "text/latex": [
       "$\\displaystyle \\left[\\begin{matrix}\\left[\\begin{matrix}0\\\\- F\\end{matrix}\\right]\\\\\\left[\\begin{matrix}0\\\\0\\end{matrix}\\right]\\\\\\left[\\begin{matrix}0\\\\0\\end{matrix}\\right]\\\\\\left[\\begin{matrix}0\\\\0\\end{matrix}\\right]\\\\\\left[\\begin{matrix}0\\\\0\\end{matrix}\\right]\\\\\\left[\\begin{matrix}0\\\\0\\end{matrix}\\right]\\\\\\left[\\begin{matrix}0\\\\0\\end{matrix}\\right]\\\\\\left[\\begin{matrix}0\\\\0\\end{matrix}\\right]\\\\\\left[\\begin{matrix}0\\\\0\\end{matrix}\\right]\\\\\\left[\\begin{matrix}0\\\\0\\end{matrix}\\right]\\\\\\left[\\begin{matrix}0\\\\0\\end{matrix}\\right]\\end{matrix}\\right]$"
      ],
      "text/plain": [
       "Matrix([\n",
       "[Matrix([\n",
       "[ 0],\n",
       "[-F]])],\n",
       "[  Matrix([\n",
       "[0],\n",
       "[0]])],\n",
       "[  Matrix([\n",
       "[0],\n",
       "[0]])],\n",
       "[  Matrix([\n",
       "[0],\n",
       "[0]])],\n",
       "[  Matrix([\n",
       "[0],\n",
       "[0]])],\n",
       "[  Matrix([\n",
       "[0],\n",
       "[0]])],\n",
       "[  Matrix([\n",
       "[0],\n",
       "[0]])],\n",
       "[  Matrix([\n",
       "[0],\n",
       "[0]])],\n",
       "[  Matrix([\n",
       "[0],\n",
       "[0]])],\n",
       "[  Matrix([\n",
       "[0],\n",
       "[0]])],\n",
       "[  Matrix([\n",
       "[0],\n",
       "[0]])]])"
      ]
     },
     "execution_count": 83,
     "metadata": {},
     "output_type": "execute_result"
    }
   ],
   "source": [
    "f_reduced = get_block_vector(G_fixed, 'f_ext', keep)\n",
    "f_reduced"
   ]
  },
  {
   "cell_type": "markdown",
   "id": "d82efabf",
   "metadata": {},
   "source": [
    "And now (finally!) we are ready to solve the system.\n",
    "Here's the matrix equation, $K u = f$."
   ]
  },
  {
   "cell_type": "code",
   "execution_count": 84,
   "id": "4b314718",
   "metadata": {},
   "outputs": [],
   "source": [
    "eq = sp.Eq(K_reduced * u_reduced, f_reduced)"
   ]
  },
  {
   "cell_type": "markdown",
   "id": "fac765df",
   "metadata": {},
   "source": [
    "We can use `subs` again to replace the symbols with their values."
   ]
  },
  {
   "cell_type": "code",
   "execution_count": 85,
   "id": "46f51814",
   "metadata": {},
   "outputs": [],
   "source": [
    "eq_num = eq.subs(subs)"
   ]
  },
  {
   "cell_type": "markdown",
   "id": "a5f72840",
   "metadata": {},
   "source": [
    "The result is a numerical matrix equation we can solve for the unknown displacements."
   ]
  },
  {
   "cell_type": "code",
   "execution_count": 86,
   "id": "dbc4a70a",
   "metadata": {},
   "outputs": [],
   "source": [
    "sol = sp.solve(eq_num, u_reduced.as_explicit())"
   ]
  },
  {
   "cell_type": "markdown",
   "id": "f1e233c6",
   "metadata": {},
   "source": [
    "Here's what the result looks like."
   ]
  },
  {
   "cell_type": "code",
   "execution_count": 87,
   "id": "3f914104",
   "metadata": {},
   "outputs": [
    {
     "data": {
      "text/latex": [
       "$\\displaystyle \\left[\\begin{matrix}\\left[\\begin{matrix}u_{B1 x}\\\\u_{B1 y}\\end{matrix}\\right]\\\\\\left[\\begin{matrix}u_{B2 x}\\\\u_{B2 y}\\end{matrix}\\right]\\\\\\left[\\begin{matrix}u_{B3 x}\\\\u_{B3 y}\\end{matrix}\\right]\\\\\\left[\\begin{matrix}u_{B4 x}\\\\u_{B4 y}\\end{matrix}\\right]\\\\\\left[\\begin{matrix}u_{B5 x}\\\\u_{B5 y}\\end{matrix}\\right]\\\\\\left[\\begin{matrix}u_{T0 x}\\\\u_{T0 y}\\end{matrix}\\right]\\\\\\left[\\begin{matrix}u_{T1 x}\\\\u_{T1 y}\\end{matrix}\\right]\\\\\\left[\\begin{matrix}u_{T2 x}\\\\u_{T2 y}\\end{matrix}\\right]\\\\\\left[\\begin{matrix}u_{T3 x}\\\\u_{T3 y}\\end{matrix}\\right]\\\\\\left[\\begin{matrix}u_{T4 x}\\\\u_{T4 y}\\end{matrix}\\right]\\\\\\left[\\begin{matrix}u_{T5 x}\\\\u_{T5 y}\\end{matrix}\\right]\\end{matrix}\\right] = 1.0 \\cdot 10^{-6} \\left[\\begin{matrix}\\left[\\begin{matrix}0\\\\-113.425925925926\\end{matrix}\\right]\\\\\\left[\\begin{matrix}9.43005439676389\\\\-128.851851851852\\end{matrix}\\right]\\\\\\left[\\begin{matrix}14.1450815951458\\\\-114.333333333333\\end{matrix}\\right]\\\\\\left[\\begin{matrix}14.1450815951458\\\\-80.7592592592593\\end{matrix}\\right]\\\\\\left[\\begin{matrix}9.43005439676389\\\\-39.0185185185185\\end{matrix}\\right]\\\\\\left[\\begin{matrix}51.0794613158044\\\\-56.712962962963\\end{matrix}\\right]\\\\\\left[\\begin{matrix}27.5043253238947\\\\-123.861111111111\\end{matrix}\\right]\\\\\\left[\\begin{matrix}8.6442165303669\\\\-122.953703703704\\end{matrix}\\right]\\\\\\left[\\begin{matrix}-5.50086506477893\\\\-97.5462962962963\\end{matrix}\\right]\\\\\\left[\\begin{matrix}-14.9309194615428\\\\-58.5277777777778\\end{matrix}\\right]\\\\\\left[\\begin{matrix}-19.6459466599248\\\\-16.787037037037\\end{matrix}\\right]\\end{matrix}\\right]$"
      ],
      "text/plain": [
       "Eq(Matrix([\n",
       "[Matrix([\n",
       "[u_B1_x],\n",
       "[u_B1_y]])],\n",
       "[Matrix([\n",
       "[u_B2_x],\n",
       "[u_B2_y]])],\n",
       "[Matrix([\n",
       "[u_B3_x],\n",
       "[u_B3_y]])],\n",
       "[Matrix([\n",
       "[u_B4_x],\n",
       "[u_B4_y]])],\n",
       "[Matrix([\n",
       "[u_B5_x],\n",
       "[u_B5_y]])],\n",
       "[Matrix([\n",
       "[u_T0_x],\n",
       "[u_T0_y]])],\n",
       "[Matrix([\n",
       "[u_T1_x],\n",
       "[u_T1_y]])],\n",
       "[Matrix([\n",
       "[u_T2_x],\n",
       "[u_T2_y]])],\n",
       "[Matrix([\n",
       "[u_T3_x],\n",
       "[u_T3_y]])],\n",
       "[Matrix([\n",
       "[u_T4_x],\n",
       "[u_T4_y]])],\n",
       "[Matrix([\n",
       "[u_T5_x],\n",
       "[u_T5_y]])]]), 1.0e-6*Matrix([\n",
       "[Matrix([\n",
       "[                0],\n",
       "[-113.425925925926]])],\n",
       "[Matrix([\n",
       "[ 9.43005439676389],\n",
       "[-128.851851851852]])],\n",
       "[Matrix([\n",
       "[ 14.1450815951458],\n",
       "[-114.333333333333]])],\n",
       "[Matrix([\n",
       "[ 14.1450815951458],\n",
       "[-80.7592592592593]])],\n",
       "[Matrix([\n",
       "[ 9.43005439676389],\n",
       "[-39.0185185185185]])],\n",
       "[  Matrix([\n",
       "[51.0794613158044],\n",
       "[-56.712962962963]])],\n",
       "[Matrix([\n",
       "[ 27.5043253238947],\n",
       "[-123.861111111111]])],\n",
       "[Matrix([\n",
       "[  8.6442165303669],\n",
       "[-122.953703703704]])],\n",
       "[Matrix([\n",
       "[-5.50086506477893],\n",
       "[-97.5462962962963]])],\n",
       "[Matrix([\n",
       "[-14.9309194615428],\n",
       "[-58.5277777777778]])],\n",
       "[Matrix([\n",
       "[-19.6459466599248],\n",
       "[ -16.787037037037]])]]))"
      ]
     },
     "execution_count": 87,
     "metadata": {},
     "output_type": "execute_result"
    }
   ],
   "source": [
    "u_sol = u_reduced.subs(sol)\n",
    "sp.Eq(u_reduced, factor_matrix(u_sol, 1e-6))"
   ]
  },
  {
   "cell_type": "markdown",
   "id": "5bdd58c1",
   "metadata": {},
   "source": [
    "And here's what those displacements look like, scaled up by a factor of 300 to make them visible."
   ]
  },
  {
   "cell_type": "code",
   "execution_count": 88,
   "id": "00981754",
   "metadata": {},
   "outputs": [
    {
     "data": {
      "image/png": "[encoded data removed]",
      "text/plain": [
       "<Figure size 450x262.5 with 1 Axes>"
      ]
     },
     "metadata": {},
     "output_type": "display_data"
    }
   ],
   "source": [
    "G_sol = displace_truss(G_fixed, sol, scale=300)\n",
    "\n",
    "draw_truss_graph(G, subs, label_nodes=False, alpha=0.3)\n",
    "draw_truss_graph(G_sol, subs)"
   ]
  },
  {
   "cell_type": "markdown",
   "id": "3ca3e14e",
   "metadata": {},
   "source": [
    "At `B1`, the displacement in the `y` direction is about 41 micrometers, which is about twice the displacement we computed for the simple truss.\n",
    "And that makes sense because the span of this truss is about twice the span of the simple truss.\n",
    "\n",
    "If you go back where we defined `N = 2`, you can set `N` to another value and run the notebook again.\n",
    "See what happens to the results as you increase `N`."
   ]
  },
  {
   "cell_type": "markdown",
   "id": "7f1e5266",
   "metadata": {},
   "source": [
    "## Discussion\n",
    "\n",
    "When I was an undergraduate, I took a class where we learned to analyze trusses.\n",
    "One of my classmates asked a question that I'm not sure I appreciated at the time, but it stuck with me.\n",
    "To paraphrase, he asked, \"Do we design trusses because they are optimal, or because they are easy to analyze?\"\n",
    "This is a really good question.\n",
    "\n",
    "As you might guess, the answer is both.\n",
    "If your goal is to build a structure that supports a given load with a minimum amount of material, a truss may not be optimal -- with the complexity of real-world requirements and constraints, it's hard to say what \"optimal\" even means.\n",
    "But for many applications, a truss is a fundamentally good design.\n",
    "\n",
    "It is also easy to analyze, but that is not as important as it used to be.\n",
    "Before we had computers, we analyzed structures by hand, so we had to keep them simple.\n",
    "When I was an undergraduate, we had enough computational power and software capability to analyze more complex structures, but what we could design was still limited by what we could analyze.\n",
    "\n",
    "Now with modern computational tools, we can analyze almost any structure we can imagine, so analysis is no longer the limiting factor on what we can design and build.\n",
    "But this is a recent change, and we are only beginning to see its consequences."
   ]
  },
  {
   "cell_type": "markdown",
   "id": "e27da3a4",
   "metadata": {
    "tags": [
     "remove-print"
    ]
   },
   "source": [
    "[Think Linear Algebra](https://allendowney.github.io/ThinkLinearAlgebra/index.html)\n",
    "\n",
    "Copyright 2025 [Allen B. Downey](https://allendowney.com)\n",
    "\n",
    "Code license: [MIT License](https://mit-license.org/)\n",
    "\n",
    "Text license: [Creative Commons Attribution-NonCommercial-ShareAlike 4.0 International](https://creativecommons.org/licenses/by-nc-sa/4.0/)"
   ]
  },
  {
   "cell_type": "code",
   "execution_count": null,
   "id": "c8b4e400-dc97-498e-9016-3e9ef05dc7a3",
   "metadata": {},
   "outputs": [],
   "source": []
  }
 ],
 "metadata": {
  "celltoolbar": "Tags",
  "kernelspec": {
   "display_name": "Python 3 (ipykernel)",
   "language": "python",
   "name": "python3"
  },
  "language_info": {
   "codemirror_mode": {
    "name": "ipython",
    "version": 3
   },
   "file_extension": ".py",
   "mimetype": "text/x-python",
   "name": "python",
   "nbconvert_exporter": "python",
   "pygments_lexer": "ipython3",
   "version": "3.10.16"
  }
 },
 "nbformat": 4,
 "nbformat_minor": 5
}
