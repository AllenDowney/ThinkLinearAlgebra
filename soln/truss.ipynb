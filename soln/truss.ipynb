{
 "cells": [
  {
   "cell_type": "markdown",
   "id": "025b76df",
   "metadata": {},
   "source": [
    "*Think Linear Algebra* is not for sale yet, but if you would like to support this project, you can [buy me a coffee](https://buymeacoffee.com/allendowney)."
   ]
  },
  {
   "cell_type": "markdown",
   "id": "85c30bdb",
   "metadata": {},
   "source": [
    "# Trusses"
   ]
  },
  {
   "cell_type": "markdown",
   "id": "3893fe82",
   "metadata": {
    "tags": [
     "remove-print"
    ]
   },
   "source": [
    "[Click here to run this notebook on Colab](https://colab.research.google.com/github/AllenDowney/ThinkLinearAlgebra/blob/main/nb/nullspace.ipynb)."
   ]
  },
  {
   "cell_type": "code",
   "execution_count": 206,
   "id": "02d400cf",
   "metadata": {
    "tags": [
     "remove-print",
     "hide-cell"
    ]
   },
   "outputs": [],
   "source": [
    "from os.path import basename, exists\n",
    "\n",
    "\n",
    "def download(url):\n",
    "    filename = basename(url)\n",
    "    if not exists(filename):\n",
    "        from urllib.request import urlretrieve\n",
    "\n",
    "        local, _ = urlretrieve(url, filename)\n",
    "        print(\"Downloaded \" + local)\n",
    "\n",
    "\n",
    "download(\"https://github.com/AllenDowney/ThinkLinearAlgebra/raw/main/utils.py\")"
   ]
  },
  {
   "cell_type": "code",
   "execution_count": 207,
   "id": "1a3119be",
   "metadata": {
    "tags": [
     "hide-cell",
     "remove-print"
    ]
   },
   "outputs": [],
   "source": [
    "import numpy as np\n",
    "import pandas as pd\n",
    "import matplotlib.pyplot as plt\n",
    "import sympy as sp\n",
    "\n",
    "from utils import decorate"
   ]
  },
  {
   "cell_type": "markdown",
   "id": "9ebc865a",
   "metadata": {},
   "source": [
    "## Section"
   ]
  },
  {
   "cell_type": "code",
   "execution_count": 208,
   "id": "2724ec07",
   "metadata": {},
   "outputs": [
    {
     "data": {
      "text/latex": [
       "$\\displaystyle \\left[\\begin{matrix}u_{x}\\\\u_{y}\\end{matrix}\\right]$"
      ],
      "text/plain": [
       "Matrix([\n",
       "[u_x],\n",
       "[u_y]])"
      ]
     },
     "execution_count": 208,
     "metadata": {},
     "output_type": "execute_result"
    }
   ],
   "source": [
    "# --- Imports ---\n",
    "import pint\n",
    "from sympy import symbols, Matrix, sqrt, simplify, Eq, solve\n",
    "\n",
    "# --- Unit setup ---\n",
    "ureg = pint.UnitRegistry()\n",
    "\n",
    "# --- Symbolic variables (global scope) ---\n",
    "L = symbols('L')\n",
    "x_C, y_C = symbols('x_C y_C')\n",
    "E_CA, E_CB = symbols('E_CA E_CB')\n",
    "A_CA, A_CB = symbols('A_CA A_CB')\n",
    "F = symbols('F')\n",
    "u_x, u_y = symbols('u_x u_y')\n",
    "\n",
    "# --- Position vectors of nodes ---\n",
    "pos_A = Matrix([0, 0])\n",
    "pos_B = Matrix([L, 0])\n",
    "pos_C = Matrix([x_C, y_C])\n",
    "\n",
    "# --- Displacement vector at node C ---\n",
    "u_C = Matrix([u_x, u_y])\n",
    "u_C"
   ]
  },
  {
   "cell_type": "code",
   "execution_count": 209,
   "id": "681598e7",
   "metadata": {},
   "outputs": [
    {
     "data": {
      "text/latex": [
       "$\\displaystyle \\frac{A_{CA} E_{CA}}{\\sqrt{\\left|{x_{C}}\\right|^{2} + \\left|{y_{C}}\\right|^{2}}}$"
      ],
      "text/plain": [
       "A_CA*E_CA/sqrt(Abs(x_C)**2 + Abs(y_C)**2)"
      ]
     },
     "execution_count": 209,
     "metadata": {},
     "output_type": "execute_result"
    }
   ],
   "source": [
    "# --- Vectors from node C to A and B ---\n",
    "r_CA = pos_A - pos_C\n",
    "r_CB = pos_B - pos_C\n",
    "\n",
    "# --- Stiffnesses (scalar) ---\n",
    "L_CA = r_CA.norm()\n",
    "L_CB = r_CB.norm()\n",
    "\n",
    "k_CA = E_CA * A_CA / L_CA\n",
    "k_CB = E_CB * A_CB / L_CB\n",
    "k_CA"
   ]
  },
  {
   "cell_type": "code",
   "execution_count": 210,
   "id": "4b96ee8e",
   "metadata": {},
   "outputs": [
    {
     "name": "stdout",
     "output_type": "stream",
     "text": [
      "P_CA (projection onto direction CA):\n"
     ]
    },
    {
     "data": {
      "text/latex": [
       "$\\displaystyle \\left[\\begin{matrix}\\frac{x_{C}^{2}}{\\left|{x_{C}}\\right|^{2} + \\left|{y_{C}}\\right|^{2}} & \\frac{x_{C} y_{C}}{\\left|{x_{C}}\\right|^{2} + \\left|{y_{C}}\\right|^{2}}\\\\\\frac{x_{C} y_{C}}{\\left|{x_{C}}\\right|^{2} + \\left|{y_{C}}\\right|^{2}} & \\frac{y_{C}^{2}}{\\left|{x_{C}}\\right|^{2} + \\left|{y_{C}}\\right|^{2}}\\end{matrix}\\right]$"
      ],
      "text/plain": [
       "Matrix([\n",
       "[ x_C**2/(Abs(x_C)**2 + Abs(y_C)**2), x_C*y_C/(Abs(x_C)**2 + Abs(y_C)**2)],\n",
       "[x_C*y_C/(Abs(x_C)**2 + Abs(y_C)**2),  y_C**2/(Abs(x_C)**2 + Abs(y_C)**2)]])"
      ]
     },
     "metadata": {},
     "output_type": "display_data"
    },
    {
     "name": "stdout",
     "output_type": "stream",
     "text": [
      "P_CB (projection onto direction CB):\n"
     ]
    },
    {
     "data": {
      "text/latex": [
       "$\\displaystyle \\left[\\begin{matrix}\\frac{\\left(L - x_{C}\\right)^{2}}{\\left|{y_{C}}\\right|^{2} + \\left|{L - x_{C}}\\right|^{2}} & - \\frac{y_{C} \\left(L - x_{C}\\right)}{\\left|{y_{C}}\\right|^{2} + \\left|{L - x_{C}}\\right|^{2}}\\\\- \\frac{y_{C} \\left(L - x_{C}\\right)}{\\left|{y_{C}}\\right|^{2} + \\left|{L - x_{C}}\\right|^{2}} & \\frac{y_{C}^{2}}{\\left|{y_{C}}\\right|^{2} + \\left|{L - x_{C}}\\right|^{2}}\\end{matrix}\\right]$"
      ],
      "text/plain": [
       "Matrix([\n",
       "[  (L - x_C)**2/(Abs(y_C)**2 + Abs(L - x_C)**2), -y_C*(L - x_C)/(Abs(y_C)**2 + Abs(L - x_C)**2)],\n",
       "[-y_C*(L - x_C)/(Abs(y_C)**2 + Abs(L - x_C)**2),         y_C**2/(Abs(y_C)**2 + Abs(L - x_C)**2)]])"
      ]
     },
     "metadata": {},
     "output_type": "display_data"
    }
   ],
   "source": [
    "# --- Projector helper ---\n",
    "def projector(r):\n",
    "    rhat = r.normalized()\n",
    "    return rhat * rhat.T\n",
    "\n",
    "# --- Projection matrices ---\n",
    "P_CA = projector(r_CA)\n",
    "P_CB = projector(r_CB)\n",
    "\n",
    "# Optional: display the matrices\n",
    "print(\"P_CA (projection onto direction CA):\")\n",
    "display(P_CA)\n",
    "\n",
    "print(\"P_CB (projection onto direction CB):\")\n",
    "display(P_CB)\n"
   ]
  },
  {
   "cell_type": "code",
   "execution_count": 211,
   "id": "40c23e9c",
   "metadata": {},
   "outputs": [
    {
     "data": {
      "text/latex": [
       "$\\displaystyle \\left[\\begin{matrix}\\frac{A_{CA} E_{CA} x_{C}^{2}}{\\left(\\left|{x_{C}}\\right|^{2} + \\left|{y_{C}}\\right|^{2}\\right)^{\\frac{3}{2}}} + \\frac{A_{CB} E_{CB} \\left(L - x_{C}\\right)^{2}}{\\left(\\left|{y_{C}}\\right|^{2} + \\left|{L - x_{C}}\\right|^{2}\\right)^{\\frac{3}{2}}} & \\frac{A_{CA} E_{CA} x_{C} y_{C}}{\\left(\\left|{x_{C}}\\right|^{2} + \\left|{y_{C}}\\right|^{2}\\right)^{\\frac{3}{2}}} - \\frac{A_{CB} E_{CB} y_{C} \\left(L - x_{C}\\right)}{\\left(\\left|{y_{C}}\\right|^{2} + \\left|{L - x_{C}}\\right|^{2}\\right)^{\\frac{3}{2}}}\\\\\\frac{A_{CA} E_{CA} x_{C} y_{C}}{\\left(\\left|{x_{C}}\\right|^{2} + \\left|{y_{C}}\\right|^{2}\\right)^{\\frac{3}{2}}} - \\frac{A_{CB} E_{CB} y_{C} \\left(L - x_{C}\\right)}{\\left(\\left|{y_{C}}\\right|^{2} + \\left|{L - x_{C}}\\right|^{2}\\right)^{\\frac{3}{2}}} & \\frac{A_{CA} E_{CA} y_{C}^{2}}{\\left(\\left|{x_{C}}\\right|^{2} + \\left|{y_{C}}\\right|^{2}\\right)^{\\frac{3}{2}}} + \\frac{A_{CB} E_{CB} y_{C}^{2}}{\\left(\\left|{y_{C}}\\right|^{2} + \\left|{L - x_{C}}\\right|^{2}\\right)^{\\frac{3}{2}}}\\end{matrix}\\right]$"
      ],
      "text/plain": [
       "Matrix([\n",
       "[  A_CA*E_CA*x_C**2/(Abs(x_C)**2 + Abs(y_C)**2)**(3/2) + A_CB*E_CB*(L - x_C)**2/(Abs(y_C)**2 + Abs(L - x_C)**2)**(3/2), A_CA*E_CA*x_C*y_C/(Abs(x_C)**2 + Abs(y_C)**2)**(3/2) - A_CB*E_CB*y_C*(L - x_C)/(Abs(y_C)**2 + Abs(L - x_C)**2)**(3/2)],\n",
       "[A_CA*E_CA*x_C*y_C/(Abs(x_C)**2 + Abs(y_C)**2)**(3/2) - A_CB*E_CB*y_C*(L - x_C)/(Abs(y_C)**2 + Abs(L - x_C)**2)**(3/2),         A_CA*E_CA*y_C**2/(Abs(x_C)**2 + Abs(y_C)**2)**(3/2) + A_CB*E_CB*y_C**2/(Abs(y_C)**2 + Abs(L - x_C)**2)**(3/2)]])"
      ]
     },
     "execution_count": 211,
     "metadata": {},
     "output_type": "execute_result"
    }
   ],
   "source": [
    "K = k_CA * P_CA + k_CB * P_CB\n",
    "K"
   ]
  },
  {
   "cell_type": "code",
   "execution_count": 212,
   "id": "e96f04e1",
   "metadata": {},
   "outputs": [
    {
     "data": {
      "text/latex": [
       "$\\displaystyle \\left[\\begin{matrix}u_{x} \\left(\\frac{A_{CA} E_{CA} x_{C}^{2}}{\\left(\\left|{x_{C}}\\right|^{2} + \\left|{y_{C}}\\right|^{2}\\right)^{\\frac{3}{2}}} + \\frac{A_{CB} E_{CB} \\left(L - x_{C}\\right)^{2}}{\\left(\\left|{y_{C}}\\right|^{2} + \\left|{L - x_{C}}\\right|^{2}\\right)^{\\frac{3}{2}}}\\right) + u_{y} \\left(\\frac{A_{CA} E_{CA} x_{C} y_{C}}{\\left(\\left|{x_{C}}\\right|^{2} + \\left|{y_{C}}\\right|^{2}\\right)^{\\frac{3}{2}}} - \\frac{A_{CB} E_{CB} y_{C} \\left(L - x_{C}\\right)}{\\left(\\left|{y_{C}}\\right|^{2} + \\left|{L - x_{C}}\\right|^{2}\\right)^{\\frac{3}{2}}}\\right)\\\\u_{x} \\left(\\frac{A_{CA} E_{CA} x_{C} y_{C}}{\\left(\\left|{x_{C}}\\right|^{2} + \\left|{y_{C}}\\right|^{2}\\right)^{\\frac{3}{2}}} - \\frac{A_{CB} E_{CB} y_{C} \\left(L - x_{C}\\right)}{\\left(\\left|{y_{C}}\\right|^{2} + \\left|{L - x_{C}}\\right|^{2}\\right)^{\\frac{3}{2}}}\\right) + u_{y} \\left(\\frac{A_{CA} E_{CA} y_{C}^{2}}{\\left(\\left|{x_{C}}\\right|^{2} + \\left|{y_{C}}\\right|^{2}\\right)^{\\frac{3}{2}}} + \\frac{A_{CB} E_{CB} y_{C}^{2}}{\\left(\\left|{y_{C}}\\right|^{2} + \\left|{L - x_{C}}\\right|^{2}\\right)^{\\frac{3}{2}}}\\right)\\end{matrix}\\right] = \\left[\\begin{matrix}0\\\\- F\\end{matrix}\\right]$"
      ],
      "text/plain": [
       "Eq(Matrix([\n",
       "[u_x*(A_CA*E_CA*x_C**2/(Abs(x_C)**2 + Abs(y_C)**2)**(3/2) + A_CB*E_CB*(L - x_C)**2/(Abs(y_C)**2 + Abs(L - x_C)**2)**(3/2)) + u_y*(A_CA*E_CA*x_C*y_C/(Abs(x_C)**2 + Abs(y_C)**2)**(3/2) - A_CB*E_CB*y_C*(L - x_C)/(Abs(y_C)**2 + Abs(L - x_C)**2)**(3/2))],\n",
       "[      u_x*(A_CA*E_CA*x_C*y_C/(Abs(x_C)**2 + Abs(y_C)**2)**(3/2) - A_CB*E_CB*y_C*(L - x_C)/(Abs(y_C)**2 + Abs(L - x_C)**2)**(3/2)) + u_y*(A_CA*E_CA*y_C**2/(Abs(x_C)**2 + Abs(y_C)**2)**(3/2) + A_CB*E_CB*y_C**2/(Abs(y_C)**2 + Abs(L - x_C)**2)**(3/2))]]), Matrix([\n",
       "[ 0],\n",
       "[-F]]))"
      ]
     },
     "execution_count": 212,
     "metadata": {},
     "output_type": "execute_result"
    }
   ],
   "source": [
    "# External force vector\n",
    "f_ext = Matrix([0, -F])\n",
    "\n",
    "eq = sp.Eq(K * u_C, f_ext)\n",
    "eq"
   ]
  },
  {
   "cell_type": "code",
   "execution_count": 213,
   "id": "8de0d680",
   "metadata": {},
   "outputs": [
    {
     "data": {
      "text/plain": [
       "{L: 0.15,\n",
       " x_C: 0.075,\n",
       " y_C: np.float64(0.12990381056766578),\n",
       " A_CA: 2e-05,\n",
       " A_CB: 2e-05,\n",
       " E_CA: 3000000000.0,\n",
       " E_CB: 2000000000.0,\n",
       " F: 9.8}"
      ]
     },
     "execution_count": 213,
     "metadata": {},
     "output_type": "execute_result"
    }
   ],
   "source": [
    "# --- Numerical parameters (Pint quantities) ---\n",
    "params = {\n",
    "    'L': 15.0 * ureg.cm,\n",
    "    'x_C': 15.0 / 2 * ureg.cm,\n",
    "    'y_C': np.sqrt(3) * 15.0 / 2 * ureg.cm,\n",
    "    'A_CA': 1.0 * ureg.cm * 0.2 * ureg.cm,\n",
    "    'A_CB': 1.0 * ureg.cm * 0.2 * ureg.cm,\n",
    "    'E_CA': 3.0e9 * ureg.Pa,\n",
    "    'E_CB': 2.0e9 * ureg.Pa,\n",
    "    'F': 9.8 * ureg.newton,\n",
    "}\n",
    "\n",
    "# --- Helper: map symbols to numerical values ---\n",
    "def make_subs(symbols, quantities):\n",
    "    return {sym: quantities[sym.name].to_base_units().magnitude for sym in symbols}\n",
    "\n",
    "symbols_to_sub = [L, x_C, y_C, A_CA, A_CB, E_CA, E_CB, F]\n",
    "subs = make_subs(symbols_to_sub, params)\n",
    "subs"
   ]
  },
  {
   "cell_type": "code",
   "execution_count": 214,
   "id": "cb835d01",
   "metadata": {},
   "outputs": [
    {
     "data": {
      "text/plain": [
       "array([[166666.66666667,  57735.02691896],\n",
       "       [ 57735.02691896, 500000.        ]])"
      ]
     },
     "execution_count": 214,
     "metadata": {},
     "output_type": "execute_result"
    }
   ],
   "source": [
    "K_np = np.array(K.subs(subs)).astype(float)\n",
    "K_np"
   ]
  },
  {
   "cell_type": "markdown",
   "id": "ed238659",
   "metadata": {},
   "source": [
    "Interpret the components."
   ]
  },
  {
   "cell_type": "code",
   "execution_count": 215,
   "id": "0050b96f",
   "metadata": {},
   "outputs": [
    {
     "data": {
      "text/plain": [
       "array([-0.01196613,  9.59585481])"
      ]
     },
     "execution_count": 215,
     "metadata": {},
     "output_type": "execute_result"
    }
   ],
   "source": [
    "u_example = np.array([7, -20]) * 1e-6\n",
    "F_example = -K_np @ u_example\n",
    "F_example"
   ]
  },
  {
   "cell_type": "markdown",
   "id": "0411623b",
   "metadata": {},
   "source": [
    "So multiplying by K is a function that takes a displacement vector and returns a force vector."
   ]
  },
  {
   "cell_type": "code",
   "execution_count": null,
   "id": "8803c586",
   "metadata": {},
   "outputs": [],
   "source": []
  },
  {
   "cell_type": "code",
   "execution_count": 216,
   "id": "ef4b11e9",
   "metadata": {},
   "outputs": [
    {
     "data": {
      "text/latex": [
       "$\\displaystyle \\left[\\begin{matrix}166666.666666667 u_{x} + 57735.0269189626 u_{y}\\\\57735.0269189626 u_{x} + 500000.0 u_{y}\\end{matrix}\\right] = \\left[\\begin{matrix}0\\\\-9.8\\end{matrix}\\right]$"
      ],
      "text/plain": [
       "Eq(Matrix([\n",
       "[166666.666666667*u_x + 57735.0269189626*u_y],\n",
       "[        57735.0269189626*u_x + 500000.0*u_y]]), Matrix([\n",
       "[   0],\n",
       "[-9.8]]))"
      ]
     },
     "execution_count": 216,
     "metadata": {},
     "output_type": "execute_result"
    }
   ],
   "source": [
    "# --- Solve for displacement under load ---\n",
    "eqs_num = eq.subs(subs)\n",
    "eqs_num"
   ]
  },
  {
   "cell_type": "code",
   "execution_count": 217,
   "id": "bc8f0a13",
   "metadata": {},
   "outputs": [
    {
     "data": {
      "text/plain": [
       "{u_x: 7.07254079757292e-6, u_y: -2.04166666666667e-5}"
      ]
     },
     "execution_count": 217,
     "metadata": {},
     "output_type": "execute_result"
    }
   ],
   "source": [
    "sol = solve(eqs_num, (u_x, u_y))\n",
    "sol"
   ]
  },
  {
   "cell_type": "code",
   "execution_count": 218,
   "id": "211d86e5",
   "metadata": {},
   "outputs": [
    {
     "data": {
      "text/plain": [
       "array([ 7.07254080e-06, -2.04166667e-05])"
      ]
     },
     "execution_count": 218,
     "metadata": {},
     "output_type": "execute_result"
    }
   ],
   "source": [
    "u_sol_np = np.array([sol[u_x], sol[u_y]], dtype=float)\n",
    "u_sol_np"
   ]
  },
  {
   "cell_type": "code",
   "execution_count": 219,
   "id": "a7910a4f",
   "metadata": {},
   "outputs": [],
   "source": [
    "f_sol_np = K_np @ u_sol_np"
   ]
  },
  {
   "cell_type": "code",
   "execution_count": 220,
   "id": "b950a821",
   "metadata": {},
   "outputs": [],
   "source": [
    "u_example = u_sol_np"
   ]
  },
  {
   "cell_type": "code",
   "execution_count": 221,
   "id": "d2466320",
   "metadata": {},
   "outputs": [],
   "source": [
    "f_example = f_sol_np"
   ]
  },
  {
   "cell_type": "markdown",
   "id": "3ed1326b",
   "metadata": {},
   "source": [
    "## Draw the Force Field"
   ]
  },
  {
   "cell_type": "code",
   "execution_count": 222,
   "id": "3cc79fc3",
   "metadata": {},
   "outputs": [
    {
     "data": {
      "text/plain": [
       "array([-2.10e-05, -1.68e-05, -1.26e-05, -8.40e-06, -4.20e-06,  0.00e+00,\n",
       "        4.20e-06,  8.40e-06,  1.26e-05,  1.68e-05,  2.10e-05])"
      ]
     },
     "execution_count": 222,
     "metadata": {},
     "output_type": "execute_result"
    }
   ],
   "source": [
    "scale = 1e-6\n",
    "bound = 21\n",
    "x_vals = np.linspace(-bound, bound, 11) * scale\n",
    "y_vals = np.linspace(-bound, bound, 11) * scale\n",
    "x_vals"
   ]
  },
  {
   "cell_type": "code",
   "execution_count": 223,
   "id": "db005ca6",
   "metadata": {},
   "outputs": [
    {
     "data": {
      "text/plain": [
       "(2, 121)"
      ]
     },
     "execution_count": 223,
     "metadata": {},
     "output_type": "execute_result"
    }
   ],
   "source": [
    "pairs = [(x, y) for x in x_vals for y in y_vals]\n",
    "U = np.array(pairs).T \n",
    "U.shape"
   ]
  },
  {
   "cell_type": "code",
   "execution_count": 224,
   "id": "8e287aa3",
   "metadata": {},
   "outputs": [],
   "source": [
    "X, Y = np.meshgrid(x_vals, y_vals, indexing='ij')"
   ]
  },
  {
   "cell_type": "code",
   "execution_count": 225,
   "id": "d5c42a8e",
   "metadata": {},
   "outputs": [
    {
     "data": {
      "text/plain": [
       "(11, 11)"
      ]
     },
     "execution_count": 225,
     "metadata": {},
     "output_type": "execute_result"
    }
   ],
   "source": [
    "X.shape"
   ]
  },
  {
   "cell_type": "code",
   "execution_count": 226,
   "id": "95a7128c",
   "metadata": {},
   "outputs": [
    {
     "data": {
      "text/plain": [
       "(121,)"
      ]
     },
     "execution_count": 226,
     "metadata": {},
     "output_type": "execute_result"
    }
   ],
   "source": [
    "X.ravel().shape"
   ]
  },
  {
   "cell_type": "code",
   "execution_count": 227,
   "id": "ddfd0adf",
   "metadata": {},
   "outputs": [
    {
     "data": {
      "text/plain": [
       "True"
      ]
     },
     "execution_count": 227,
     "metadata": {},
     "output_type": "execute_result"
    }
   ],
   "source": [
    "U2 = np.vstack([X.ravel(), Y.ravel()])\n",
    "np.allclose(U, U2)"
   ]
  },
  {
   "cell_type": "markdown",
   "id": "cd3dd1e5",
   "metadata": {},
   "source": [
    "Either way, U is matrix-like in the sense that it has two dimensions, but we are using it as a collection of vectors, so"
   ]
  },
  {
   "cell_type": "code",
   "execution_count": 228,
   "id": "00db88fd",
   "metadata": {},
   "outputs": [
    {
     "data": {
      "text/plain": [
       "(2, 121)"
      ]
     },
     "execution_count": 228,
     "metadata": {},
     "output_type": "execute_result"
    }
   ],
   "source": [
    "F_field = -K_np @ U  # matrix of column force vectors\n",
    "F_field.shape"
   ]
  },
  {
   "cell_type": "code",
   "execution_count": 229,
   "id": "b8ca68e0",
   "metadata": {},
   "outputs": [],
   "source": [
    "import matplotlib.lines as mlines\n",
    "\n",
    "def outline_truss():\n",
    "\n",
    "    # Get current axis\n",
    "    ax = plt.gca()\n",
    "\n",
    "    # Define endpoints of truss members (undisplaced)\n",
    "    truss_left = np.array([-1, -1])   # lower left\n",
    "    truss_right = np.array([1, -1])   # lower right\n",
    "    joint = np.array([0, 0])          # shared node\n",
    "\n",
    "    options = dict(\n",
    "        linewidth=20,\n",
    "        solid_capstyle='round',\n",
    "        color='lightgray',\n",
    "        alpha=0.5,\n",
    "        transform=ax.transData\n",
    "    )\n",
    "    \n",
    "    for start in [truss_left, truss_right]:\n",
    "        line = mlines.Line2D([start[0], joint[0]], [start[1], joint[1]], **options)\n",
    "        ax.add_artist(line)\n"
   ]
  },
  {
   "cell_type": "code",
   "execution_count": 230,
   "id": "b75bc84b",
   "metadata": {},
   "outputs": [
    {
     "data": {
      "image/png": "[encoded data removed]",
      "text/plain": [
       "<Figure size 375x375 with 1 Axes>"
      ]
     },
     "metadata": {},
     "output_type": "display_data"
    }
   ],
   "source": [
    "plt.figure(figsize=(5, 5))\n",
    "outline_truss()\n",
    "\n",
    "options = dict(angles='xy', scale_units='xy', scale=2e6)\n",
    "\n",
    "plt.quiver(U[0], U[1], F_field[0], F_field[1], color='C0', alpha=0.7, **options)\n",
    "\n",
    "plt.quiver(u_example[0], u_example[1], \n",
    "           F_example[0], F_example[1], lw=3,\n",
    "           **options)\n",
    "\n",
    "plt.axhline(0, color='gray', lw=1)\n",
    "plt.axvline(0, color='gray', lw=1)\n",
    "plt.gca().set_aspect('equal')\n",
    "\n",
    "plt.xlabel('Displacement $u_x$ in $\\mu$m')\n",
    "plt.ylabel('Displacement $u_y$ in $\\mu$m')\n",
    "plt.title('Restoring Force Field: $\\\\mathbf{f} = -\\\\mathbf{K} \\\\mathbf{u}$')\n",
    "plt.grid(True)\n",
    "None"
   ]
  },
  {
   "cell_type": "markdown",
   "id": "1cb42258",
   "metadata": {},
   "source": [
    "Discussion: This -- disappointingly -- is what a force field really is. Much less cool than we hoped. It's an example of a vector field, which is a mapping from each point in a space to a vector.\n",
    "\n"
   ]
  },
  {
   "cell_type": "markdown",
   "id": "44c4d4d4",
   "metadata": {},
   "source": [
    "## Truss"
   ]
  },
  {
   "cell_type": "code",
   "execution_count": 231,
   "id": "3b5f4544",
   "metadata": {},
   "outputs": [
    {
     "name": "stdout",
     "output_type": "stream",
     "text": [
      "Matrix([[0], [0]])\n"
     ]
    }
   ],
   "source": [
    "origin=sp.Matrix([0, 0])\n",
    "print(origin)"
   ]
  },
  {
   "cell_type": "code",
   "execution_count": 232,
   "id": "d6342299",
   "metadata": {},
   "outputs": [],
   "source": [
    "import sympy as sp\n",
    "import networkx as nx\n",
    "\n",
    "# Symbolic spacing and triangle height\n",
    "L = sp.Symbol('L', positive=True)\n",
    "h = L * sp.sqrt(3) / 2\n",
    "\n",
    "def vec2(x, y):\n",
    "    return sp.Matrix([x, y])\n",
    "\n",
    "\n",
    "def add_n_triangle_truss(G, N, origin=vec2(0, 0)):\n",
    "    \"\"\"\n",
    "    Add a row of N connected triangles to graph G.\n",
    "    Nodes are named B0..BN (bottom) and T0..T{N-1} (top).\n",
    "    \"\"\"\n",
    "    # Add bottom nodes and horizontal edges\n",
    "    for i in range(N + 1):\n",
    "        pos = origin + vec2(i * L, 0)\n",
    "        G.add_node(f'B{i}', pos=pos)\n",
    "        if i > 0:\n",
    "            G.add_edge(f'B{i-1}', f'B{i}')\n",
    "            \n",
    "    # Identify the fixed points\n",
    "    G.graph['fixed'] = ['B0', f'B{N}']\n",
    "\n",
    "    # Add top nodes and diagonal edges\n",
    "    for i in range(N):\n",
    "        top_pos = origin + vec2((i + 0.5) * L, h)\n",
    "        G.add_node(f'T{i}', pos=top_pos)\n",
    "\n",
    "        G.add_edge(f'B{i}', f'T{i}')\n",
    "        G.add_edge(f'T{i}', f'B{i+1}')\n",
    "\n",
    "        if i > 0:\n",
    "            G.add_edge(f'T{i-1}', f'T{i}')\n"
   ]
  },
  {
   "cell_type": "code",
   "execution_count": 233,
   "id": "169ba4ec",
   "metadata": {},
   "outputs": [
    {
     "data": {
      "text/latex": [
       "$\\displaystyle \\left[\\begin{matrix}0\\\\0\\end{matrix}\\right]$"
      ],
      "text/plain": [
       "Matrix([\n",
       "[0],\n",
       "[0]])"
      ]
     },
     "metadata": {},
     "output_type": "display_data"
    },
    {
     "data": {
      "text/latex": [
       "$\\displaystyle \\left[\\begin{matrix}L\\\\0\\end{matrix}\\right]$"
      ],
      "text/plain": [
       "Matrix([\n",
       "[L],\n",
       "[0]])"
      ]
     },
     "metadata": {},
     "output_type": "display_data"
    },
    {
     "data": {
      "text/latex": [
       "$\\displaystyle \\left[\\begin{matrix}2 L\\\\0\\end{matrix}\\right]$"
      ],
      "text/plain": [
       "Matrix([\n",
       "[2*L],\n",
       "[  0]])"
      ]
     },
     "metadata": {},
     "output_type": "display_data"
    },
    {
     "data": {
      "text/latex": [
       "$\\displaystyle \\left[\\begin{matrix}0.5 L\\\\\\frac{\\sqrt{3} L}{2}\\end{matrix}\\right]$"
      ],
      "text/plain": [
       "Matrix([\n",
       "[      0.5*L],\n",
       "[sqrt(3)*L/2]])"
      ]
     },
     "metadata": {},
     "output_type": "display_data"
    },
    {
     "data": {
      "text/latex": [
       "$\\displaystyle \\left[\\begin{matrix}1.5 L\\\\\\frac{\\sqrt{3} L}{2}\\end{matrix}\\right]$"
      ],
      "text/plain": [
       "Matrix([\n",
       "[      1.5*L],\n",
       "[sqrt(3)*L/2]])"
      ]
     },
     "metadata": {},
     "output_type": "display_data"
    }
   ],
   "source": [
    "G = nx.Graph()\n",
    "add_n_triangle_truss(G, N=2)\n",
    "\n",
    "# Display node positions\n",
    "for node, data in G.nodes(data=True):\n",
    "    display(data['pos'])"
   ]
  },
  {
   "cell_type": "code",
   "execution_count": 234,
   "id": "0f4ae02d",
   "metadata": {},
   "outputs": [],
   "source": [
    "def assign_material_properties(G, E, A):\n",
    "    \"\"\"\n",
    "    Assign symbolic or constant E and A values to every edge in the graph.\n",
    "    If E or A are not provided, default to symbols 'E' and 'A'.\n",
    "    \"\"\"\n",
    "    for i, j in G.edges:\n",
    "        G.edges[i, j]['E'] = E\n",
    "        G.edges[i, j]['A'] = A\n",
    "        \n",
    "        # TODO: compute L just once\n"
   ]
  },
  {
   "cell_type": "code",
   "execution_count": 235,
   "id": "f5282aa6",
   "metadata": {},
   "outputs": [],
   "source": [
    "E, A = sp.symbols('E A')\n",
    "assign_material_properties(G, E, A)"
   ]
  },
  {
   "cell_type": "code",
   "execution_count": 236,
   "id": "17cb8ed9",
   "metadata": {},
   "outputs": [],
   "source": [
    "def draw_truss(G, subs):\n",
    "    pos = {}\n",
    "    for node, data in G.nodes(data=True):\n",
    "        p = data['pos'].subs(subs).evalf()\n",
    "        pos[node] = [float(x) for x in p]\n",
    "\n",
    "    nx.draw_networkx_edges(G, pos, width=2)\n",
    "    nx.draw_networkx_nodes(G, pos, node_size=1000, node_color='white', edgecolors='black')\n",
    "    nx.draw_networkx_labels(G, pos, font_size=10)\n",
    "\n",
    "    plt.axis('equal')\n",
    "    plt.axis('off')\n",
    "    plt.show()"
   ]
  },
  {
   "cell_type": "code",
   "execution_count": 237,
   "id": "5d94a7e7",
   "metadata": {},
   "outputs": [
    {
     "data": {
      "image/png": "[encoded data removed]",
      "text/plain": [
       "<Figure size 450x262.5 with 1 Axes>"
      ]
     },
     "metadata": {},
     "output_type": "display_data"
    }
   ],
   "source": [
    "draw_truss(G, {L:1})"
   ]
  },
  {
   "cell_type": "code",
   "execution_count": 238,
   "id": "10c97a98",
   "metadata": {},
   "outputs": [],
   "source": [
    "def add_displacements(G, prefix='u'):\n",
    "    \"\"\"\n",
    "    For each node in G, attach a symbolic displacement vector to its attributes.\n",
    "    The vector is named using the pattern: prefix_node_x and prefix_node_y.\n",
    "    \"\"\"\n",
    "    G.graph['unknowns'] = []\n",
    "    for node in G.nodes():\n",
    "        if node in G.graph['fixed']:\n",
    "            ux, uy = 0, 0\n",
    "        else:\n",
    "            ux, uy = sp.symbols(f'{prefix}_{node}_x {prefix}_{node}_y')\n",
    "            G.graph['unknowns'].append(f'{prefix}_{node}_x')\n",
    "            G.graph['unknowns'].append(f'{prefix}_{node}_y')\n",
    "\n",
    "        G.nodes[node]['disp'] = sp.Matrix([ux, uy], name=f'{prefix}_{node}')"
   ]
  },
  {
   "cell_type": "code",
   "execution_count": 239,
   "id": "55892e06",
   "metadata": {},
   "outputs": [
    {
     "data": {
      "text/latex": [
       "$\\displaystyle \\left[\\begin{matrix}0\\\\0\\end{matrix}\\right]$"
      ],
      "text/plain": [
       "Matrix([\n",
       "[0],\n",
       "[0]])"
      ]
     },
     "metadata": {},
     "output_type": "display_data"
    },
    {
     "data": {
      "text/latex": [
       "$\\displaystyle \\left[\\begin{matrix}u_{B1 x}\\\\u_{B1 y}\\end{matrix}\\right]$"
      ],
      "text/plain": [
       "Matrix([\n",
       "[u_B1_x],\n",
       "[u_B1_y]])"
      ]
     },
     "metadata": {},
     "output_type": "display_data"
    },
    {
     "data": {
      "text/latex": [
       "$\\displaystyle \\left[\\begin{matrix}0\\\\0\\end{matrix}\\right]$"
      ],
      "text/plain": [
       "Matrix([\n",
       "[0],\n",
       "[0]])"
      ]
     },
     "metadata": {},
     "output_type": "display_data"
    },
    {
     "data": {
      "text/latex": [
       "$\\displaystyle \\left[\\begin{matrix}u_{T0 x}\\\\u_{T0 y}\\end{matrix}\\right]$"
      ],
      "text/plain": [
       "Matrix([\n",
       "[u_T0_x],\n",
       "[u_T0_y]])"
      ]
     },
     "metadata": {},
     "output_type": "display_data"
    },
    {
     "data": {
      "text/latex": [
       "$\\displaystyle \\left[\\begin{matrix}u_{T1 x}\\\\u_{T1 y}\\end{matrix}\\right]$"
      ],
      "text/plain": [
       "Matrix([\n",
       "[u_T1_x],\n",
       "[u_T1_y]])"
      ]
     },
     "metadata": {},
     "output_type": "display_data"
    }
   ],
   "source": [
    "add_displacements(G)\n",
    "\n",
    "# Display node positions\n",
    "for node, data in G.nodes(data=True):\n",
    "    display(data['disp'])"
   ]
  },
  {
   "cell_type": "markdown",
   "id": "e1ddaa53",
   "metadata": {},
   "source": [
    "Identify the unknowns and add them to a list"
   ]
  },
  {
   "cell_type": "code",
   "execution_count": 252,
   "id": "2aa85d42",
   "metadata": {},
   "outputs": [
    {
     "data": {
      "text/plain": [
       "NodeView(('B0', 'B1', 'B2', 'T0', 'T1'))"
      ]
     },
     "execution_count": 252,
     "metadata": {},
     "output_type": "execute_result"
    }
   ],
   "source": [
    "unknowns = G.nodes()\n",
    "unknowns"
   ]
  },
  {
   "cell_type": "code",
   "execution_count": 253,
   "id": "5c747116",
   "metadata": {},
   "outputs": [
    {
     "name": "stdout",
     "output_type": "stream",
     "text": [
      "B0 0\n",
      "B1 1\n",
      "B2 2\n",
      "T0 3\n",
      "T1 4\n"
     ]
    }
   ],
   "source": [
    "for i, node in enumerate(unknowns):\n",
    "    print(node, i)\n",
    "    G.nodes[node]['index'] = i"
   ]
  },
  {
   "cell_type": "markdown",
   "id": "01dcf5ea",
   "metadata": {},
   "source": [
    "## Block Matrix Equation\n",
    "\n",
    "We have three unknowns u_T0, u_T1, and u_B1.\n",
    "\n",
    "u_b0 and u_b2 are fixed at (0, 0)\n",
    "\n",
    "We will write three equations, which we'll express in the form of a block matrix equation K, which is 3x3, but where each element is a 2x2 block.\n",
    "\n",
    "On the right hand side are three forces, applied at each of the three nodes that can move, where each force is a vector.\n",
    "\n",
    "TODO: fill in code here to construct this 3x3 system as a matrix equation, symbolically"
   ]
  },
  {
   "cell_type": "code",
   "execution_count": 257,
   "id": "7ef250be",
   "metadata": {},
   "outputs": [],
   "source": [
    "\n",
    "def build_block_system(node_names):\n",
    "    \"\"\"\n",
    "    Given a list of node names (strings), construct symbolic:\n",
    "    - Block stiffness matrix K\n",
    "    - Displacement vector u\n",
    "    - Force vector f\n",
    "    \"\"\"\n",
    "\n",
    "    n = len(node_names)\n",
    "\n",
    "    # --- Build symbolic 2x2 block stiffness matrix ---\n",
    "    def Ksym(i, j):\n",
    "        return sp.MatrixSymbol(f'K_{i}{j}', 2, 2)\n",
    "\n",
    "    Z = lambda: sp.ImmutableMatrix.zeros(2, 2)\n",
    "\n",
    "    K_blocks = [[Ksym(i, j) for j in range(n)] for i in range(n)]\n",
    "    K_block = sp.BlockMatrix(K_blocks)\n",
    "\n",
    "    # --- Build displacement vector u (each is 2x1) ---\n",
    "    u_blocks = [sp.MatrixSymbol(f'u_{{{name}}}', 2, 1) for name in node_names]\n",
    "    u_vec = sp.BlockMatrix([[u] for u in u_blocks])  # column of blocks\n",
    "\n",
    "    # --- Build force vector f (each is 2x1) ---\n",
    "    f_blocks = [sp.MatrixSymbol(f'f_{{{name}}}', 2, 1) for name in node_names]\n",
    "    f_vec = sp.BlockMatrix([[f] for f in f_blocks])\n",
    "\n",
    "    # --- Return equation as well ---\n",
    "    equation = sp.Eq(K_block * u_vec, f_vec)\n",
    "\n",
    "    return K_block, u_vec, f_vec, equation\n"
   ]
  },
  {
   "cell_type": "code",
   "execution_count": 258,
   "id": "cf93d69c",
   "metadata": {},
   "outputs": [
    {
     "data": {
      "text/latex": [
       "$\\displaystyle \\left[\\begin{matrix}K_{00} & K_{01} & K_{02} & K_{03} & K_{04}\\\\K_{10} & K_{11} & K_{12} & K_{13} & K_{14}\\\\K_{20} & K_{21} & K_{22} & K_{23} & K_{24}\\\\K_{30} & K_{31} & K_{32} & K_{33} & K_{34}\\\\K_{40} & K_{41} & K_{42} & K_{43} & K_{44}\\end{matrix}\\right] \\left[\\begin{matrix}u_{B0}\\\\u_{B1}\\\\u_{B2}\\\\u_{T0}\\\\u_{T1}\\end{matrix}\\right] = \\left[\\begin{matrix}f_{B0}\\\\f_{B1}\\\\f_{B2}\\\\f_{T0}\\\\f_{T1}\\end{matrix}\\right]$"
      ],
      "text/plain": [
       "Eq(Matrix([\n",
       "[K_00, K_01, K_02, K_03, K_04],\n",
       "[K_10, K_11, K_12, K_13, K_14],\n",
       "[K_20, K_21, K_22, K_23, K_24],\n",
       "[K_30, K_31, K_32, K_33, K_34],\n",
       "[K_40, K_41, K_42, K_43, K_44]])*Matrix([\n",
       "[u_{B0}],\n",
       "[u_{B1}],\n",
       "[u_{B2}],\n",
       "[u_{T0}],\n",
       "[u_{T1}]]), Matrix([\n",
       "[f_{B0}],\n",
       "[f_{B1}],\n",
       "[f_{B2}],\n",
       "[f_{T0}],\n",
       "[f_{T1}]]))"
      ]
     },
     "metadata": {},
     "output_type": "display_data"
    }
   ],
   "source": [
    "_, _, _, equation = build_block_system(unknowns)\n",
    "display(equation)"
   ]
  },
  {
   "cell_type": "markdown",
   "id": "a61402ef",
   "metadata": {},
   "source": [
    "In an ideal world, we would write the equation this way and solve it, but we don't have solvers that can work on a system where the elements are vectors and matrices.\n",
    "\n",
    "[Possible TODO: write an iterative solver for a system like that]"
   ]
  },
  {
   "cell_type": "markdown",
   "id": "417c0ee3",
   "metadata": {},
   "source": [
    "## Compute the Block Matrix"
   ]
  },
  {
   "cell_type": "code",
   "execution_count": 259,
   "id": "b93655b8",
   "metadata": {},
   "outputs": [],
   "source": [
    "def edge_force_equation(G, i, j):\n",
    "    \"\"\"\n",
    "    Return the symbolic internal force vector on node i due to node j\n",
    "    through the edge (i, j), using geometry and displacement attributes.\n",
    "    \"\"\"\n",
    "    # Node data\n",
    "    x_i = G.nodes[i]['pos']\n",
    "    x_j = G.nodes[j]['pos']\n",
    "    u_i = G.nodes[i]['disp']\n",
    "    u_j = G.nodes[j]['disp']\n",
    "\n",
    "    # Edge properties\n",
    "    edge = G.edges[i, j]\n",
    "    E = edge['E']\n",
    "    A = edge['A']\n",
    "\n",
    "    # Geometry and stiffness\n",
    "    r = x_j - x_i\n",
    "    L = r.norm()\n",
    "    P = projector(r)\n",
    "    k = E * A / L\n",
    "\n",
    "    # Internal force on node i from node j\n",
    "    f_i = -k * P * (u_i - u_j)\n",
    "\n",
    "    return f_i"
   ]
  },
  {
   "cell_type": "code",
   "execution_count": 260,
   "id": "57099968",
   "metadata": {},
   "outputs": [
    {
     "data": {
      "text/latex": [
       "$\\displaystyle \\left[\\begin{matrix}- \\frac{0.25 A E \\left(u_{B1 x} - u_{T0 x}\\right)}{L} + \\frac{0.25 \\sqrt{3} A E \\left(u_{B1 y} - u_{T0 y}\\right)}{L}\\\\\\frac{0.25 \\sqrt{3} A E \\left(u_{B1 x} - u_{T0 x}\\right)}{L} - \\frac{0.75 A E \\left(u_{B1 y} - u_{T0 y}\\right)}{L}\\end{matrix}\\right]$"
      ],
      "text/plain": [
       "Matrix([\n",
       "[-0.25*A*E*(u_B1_x - u_T0_x)/L + 0.25*sqrt(3)*A*E*(u_B1_y - u_T0_y)/L],\n",
       "[ 0.25*sqrt(3)*A*E*(u_B1_x - u_T0_x)/L - 0.75*A*E*(u_B1_y - u_T0_y)/L]])"
      ]
     },
     "execution_count": 260,
     "metadata": {},
     "output_type": "execute_result"
    }
   ],
   "source": [
    "f = edge_force_equation(G, 'B1', 'T0')\n",
    "f"
   ]
  },
  {
   "cell_type": "code",
   "execution_count": null,
   "id": "e3744a4a",
   "metadata": {},
   "outputs": [],
   "source": []
  },
  {
   "cell_type": "code",
   "execution_count": null,
   "id": "ed8a4ff1",
   "metadata": {},
   "outputs": [],
   "source": []
  },
  {
   "cell_type": "code",
   "execution_count": 262,
   "id": "a231550c",
   "metadata": {},
   "outputs": [],
   "source": [
    "def compute_kP(G, i, j):\n",
    "    \"\"\"\n",
    "    Return the symbolic internal force vector on node i due to node j\n",
    "    through the edge (i, j), using geometry and displacement attributes.\n",
    "    \"\"\"\n",
    "    # Node data\n",
    "    x_i = G.nodes[i]['pos']\n",
    "    x_j = G.nodes[j]['pos']\n",
    "    u_i = G.nodes[i]['disp']\n",
    "    u_j = G.nodes[j]['disp']\n",
    "\n",
    "    # Edge properties\n",
    "    edge = G.edges[i, j]\n",
    "    E = edge['E']\n",
    "    A = edge['A']\n",
    "\n",
    "    # Geometry and stiffness\n",
    "    r = x_j - x_i\n",
    "    L = r.norm()\n",
    "    P = projector(r)\n",
    "    k = E * A / L\n",
    "\n",
    "    return k * P"
   ]
  },
  {
   "cell_type": "code",
   "execution_count": 269,
   "id": "71896eaa",
   "metadata": {},
   "outputs": [
    {
     "name": "stdout",
     "output_type": "stream",
     "text": [
      "Edge: (B0, B1)\n",
      "  Node B0 attrs: 0\n",
      "  Node B1 attrs: 1\n",
      "\n",
      "Edge: (B0, T0)\n",
      "  Node B0 attrs: 0\n",
      "  Node T0 attrs: 3\n",
      "\n",
      "Edge: (B1, B2)\n",
      "  Node B1 attrs: 1\n",
      "  Node B2 attrs: 2\n",
      "\n",
      "Edge: (B1, T0)\n",
      "  Node B1 attrs: 1\n",
      "  Node T0 attrs: 3\n",
      "\n",
      "Edge: (B1, T1)\n",
      "  Node B1 attrs: 1\n",
      "  Node T1 attrs: 4\n",
      "\n",
      "Edge: (B2, T1)\n",
      "  Node B2 attrs: 2\n",
      "  Node T1 attrs: 4\n",
      "\n",
      "Edge: (T0, T1)\n",
      "  Node T0 attrs: 3\n",
      "  Node T1 attrs: 4\n",
      "\n"
     ]
    }
   ],
   "source": [
    "Z = lambda: sp.ImmutableMatrix.zeros(2, 2)\n",
    "\n",
    "n = len(unknowns)\n",
    "blocks = [[Z() for _ in range(n)] for _ in range(n)]\n",
    "\n",
    "for node1, node2 in G.edges:\n",
    "    print(f\"Edge: ({node1}, {node2})\")\n",
    "    print(f\"  Node {node1} attrs:\", G.nodes[node1]['index'])\n",
    "    print(f\"  Node {node2} attrs:\", G.nodes[node2]['index'])\n",
    "    print()\n",
    "    kP = compute_kP(G, node1, node2)\n",
    "    \n",
    "    \n",
    "    i = G.nodes[node1]['index']\n",
    "    j = G.nodes[node2]['index']\n",
    "    # Insert contributions for edge (i, j)\n",
    "    blocks[i][i] +=  kP\n",
    "    blocks[i][j] += -kP\n",
    "    blocks[j][i] += -kP\n",
    "    blocks[j][j] +=  kP"
   ]
  },
  {
   "cell_type": "code",
   "execution_count": 270,
   "id": "8bc4440d",
   "metadata": {},
   "outputs": [
    {
     "data": {
      "text/latex": [
       "$\\displaystyle \\left[\\begin{matrix}\\left[\\begin{matrix}\\frac{1.25 A E}{L} & \\frac{0.25 \\sqrt{3} A E}{L}\\\\\\frac{0.25 \\sqrt{3} A E}{L} & \\frac{0.75 A E}{L}\\end{matrix}\\right] & \\left[\\begin{matrix}- \\frac{A E}{L} & 0\\\\0 & 0\\end{matrix}\\right] & \\left[\\begin{matrix}0 & 0\\\\0 & 0\\end{matrix}\\right] & \\left[\\begin{matrix}- \\frac{0.25 A E}{L} & - \\frac{0.25 \\sqrt{3} A E}{L}\\\\- \\frac{0.25 \\sqrt{3} A E}{L} & - \\frac{0.75 A E}{L}\\end{matrix}\\right] & \\left[\\begin{matrix}0 & 0\\\\0 & 0\\end{matrix}\\right]\\\\\\left[\\begin{matrix}- \\frac{A E}{L} & 0\\\\0 & 0\\end{matrix}\\right] & \\left[\\begin{matrix}\\frac{2.5 A E}{L} & 0\\\\0 & \\frac{1.5 A E}{L}\\end{matrix}\\right] & \\left[\\begin{matrix}- \\frac{A E}{L} & 0\\\\0 & 0\\end{matrix}\\right] & \\left[\\begin{matrix}- \\frac{0.25 A E}{L} & \\frac{0.25 \\sqrt{3} A E}{L}\\\\\\frac{0.25 \\sqrt{3} A E}{L} & - \\frac{0.75 A E}{L}\\end{matrix}\\right] & \\left[\\begin{matrix}- \\frac{0.25 A E}{L} & - \\frac{0.25 \\sqrt{3} A E}{L}\\\\- \\frac{0.25 \\sqrt{3} A E}{L} & - \\frac{0.75 A E}{L}\\end{matrix}\\right]\\\\\\left[\\begin{matrix}0 & 0\\\\0 & 0\\end{matrix}\\right] & \\left[\\begin{matrix}- \\frac{A E}{L} & 0\\\\0 & 0\\end{matrix}\\right] & \\left[\\begin{matrix}\\frac{1.25 A E}{L} & - \\frac{0.25 \\sqrt{3} A E}{L}\\\\- \\frac{0.25 \\sqrt{3} A E}{L} & \\frac{0.75 A E}{L}\\end{matrix}\\right] & \\left[\\begin{matrix}0 & 0\\\\0 & 0\\end{matrix}\\right] & \\left[\\begin{matrix}- \\frac{0.25 A E}{L} & \\frac{0.25 \\sqrt{3} A E}{L}\\\\\\frac{0.25 \\sqrt{3} A E}{L} & - \\frac{0.75 A E}{L}\\end{matrix}\\right]\\\\\\left[\\begin{matrix}- \\frac{0.25 A E}{L} & - \\frac{0.25 \\sqrt{3} A E}{L}\\\\- \\frac{0.25 \\sqrt{3} A E}{L} & - \\frac{0.75 A E}{L}\\end{matrix}\\right] & \\left[\\begin{matrix}- \\frac{0.25 A E}{L} & \\frac{0.25 \\sqrt{3} A E}{L}\\\\\\frac{0.25 \\sqrt{3} A E}{L} & - \\frac{0.75 A E}{L}\\end{matrix}\\right] & \\left[\\begin{matrix}0 & 0\\\\0 & 0\\end{matrix}\\right] & \\left[\\begin{matrix}\\frac{1.5 A E}{L} & 0\\\\0 & \\frac{1.5 A E}{L}\\end{matrix}\\right] & \\left[\\begin{matrix}- \\frac{1.0 A E}{L} & 0\\\\0 & 0\\end{matrix}\\right]\\\\\\left[\\begin{matrix}0 & 0\\\\0 & 0\\end{matrix}\\right] & \\left[\\begin{matrix}- \\frac{0.25 A E}{L} & - \\frac{0.25 \\sqrt{3} A E}{L}\\\\- \\frac{0.25 \\sqrt{3} A E}{L} & - \\frac{0.75 A E}{L}\\end{matrix}\\right] & \\left[\\begin{matrix}- \\frac{0.25 A E}{L} & \\frac{0.25 \\sqrt{3} A E}{L}\\\\\\frac{0.25 \\sqrt{3} A E}{L} & - \\frac{0.75 A E}{L}\\end{matrix}\\right] & \\left[\\begin{matrix}- \\frac{1.0 A E}{L} & 0\\\\0 & 0\\end{matrix}\\right] & \\left[\\begin{matrix}\\frac{1.5 A E}{L} & 0\\\\0 & \\frac{1.5 A E}{L}\\end{matrix}\\right]\\end{matrix}\\right]$"
      ],
      "text/plain": [
       "Matrix([\n",
       "[    Matrix([\n",
       "[        1.25*A*E/L, 0.25*sqrt(3)*A*E/L],\n",
       "[0.25*sqrt(3)*A*E/L,         0.75*A*E/L]]),                                                               Matrix([\n",
       "[-A*E/L, 0],\n",
       "[     0, 0]]),                                                                         Matrix([\n",
       "[0, 0],\n",
       "[0, 0]]), Matrix([\n",
       "[        -0.25*A*E/L, -0.25*sqrt(3)*A*E/L],\n",
       "[-0.25*sqrt(3)*A*E/L,         -0.75*A*E/L]]),                                                                         Matrix([\n",
       "[0, 0],\n",
       "[0, 0]])],\n",
       "[                                                              Matrix([\n",
       "[-A*E/L, 0],\n",
       "[     0, 0]]),                                         Matrix([\n",
       "[2.5*A*E/L,         0],\n",
       "[        0, 1.5*A*E/L]]),                                                               Matrix([\n",
       "[-A*E/L, 0],\n",
       "[     0, 0]]),     Matrix([\n",
       "[       -0.25*A*E/L, 0.25*sqrt(3)*A*E/L],\n",
       "[0.25*sqrt(3)*A*E/L,        -0.75*A*E/L]]), Matrix([\n",
       "[        -0.25*A*E/L, -0.25*sqrt(3)*A*E/L],\n",
       "[-0.25*sqrt(3)*A*E/L,         -0.75*A*E/L]])],\n",
       "[                                                                        Matrix([\n",
       "[0, 0],\n",
       "[0, 0]]),                                                               Matrix([\n",
       "[-A*E/L, 0],\n",
       "[     0, 0]]), Matrix([\n",
       "[         1.25*A*E/L, -0.25*sqrt(3)*A*E/L],\n",
       "[-0.25*sqrt(3)*A*E/L,          0.75*A*E/L]]),                                                                         Matrix([\n",
       "[0, 0],\n",
       "[0, 0]]),     Matrix([\n",
       "[       -0.25*A*E/L, 0.25*sqrt(3)*A*E/L],\n",
       "[0.25*sqrt(3)*A*E/L,        -0.75*A*E/L]])],\n",
       "[Matrix([\n",
       "[        -0.25*A*E/L, -0.25*sqrt(3)*A*E/L],\n",
       "[-0.25*sqrt(3)*A*E/L,         -0.75*A*E/L]]),     Matrix([\n",
       "[       -0.25*A*E/L, 0.25*sqrt(3)*A*E/L],\n",
       "[0.25*sqrt(3)*A*E/L,        -0.75*A*E/L]]),                                                                         Matrix([\n",
       "[0, 0],\n",
       "[0, 0]]),                                         Matrix([\n",
       "[1.5*A*E/L,         0],\n",
       "[        0, 1.5*A*E/L]]),                                                       Matrix([\n",
       "[-1.0*A*E/L, 0],\n",
       "[         0, 0]])],\n",
       "[                                                                        Matrix([\n",
       "[0, 0],\n",
       "[0, 0]]), Matrix([\n",
       "[        -0.25*A*E/L, -0.25*sqrt(3)*A*E/L],\n",
       "[-0.25*sqrt(3)*A*E/L,         -0.75*A*E/L]]),     Matrix([\n",
       "[       -0.25*A*E/L, 0.25*sqrt(3)*A*E/L],\n",
       "[0.25*sqrt(3)*A*E/L,        -0.75*A*E/L]]),                                                       Matrix([\n",
       "[-1.0*A*E/L, 0],\n",
       "[         0, 0]]),                                         Matrix([\n",
       "[1.5*A*E/L,         0],\n",
       "[        0, 1.5*A*E/L]])]])"
      ]
     },
     "execution_count": 270,
     "metadata": {},
     "output_type": "execute_result"
    }
   ],
   "source": [
    "K_edge = sp.BlockMatrix(blocks)\n",
    "K_edge"
   ]
  },
  {
   "cell_type": "code",
   "execution_count": 273,
   "id": "bc4f8d1f",
   "metadata": {},
   "outputs": [
    {
     "data": {
      "text/latex": [
       "$\\displaystyle \\left[\\begin{matrix}\\frac{1.25 A E}{L} & \\frac{0.25 \\sqrt{3} A E}{L} & - \\frac{A E}{L} & 0 & 0 & 0 & - \\frac{0.25 A E}{L} & - \\frac{0.25 \\sqrt{3} A E}{L} & 0 & 0\\\\\\frac{0.25 \\sqrt{3} A E}{L} & \\frac{0.75 A E}{L} & 0 & 0 & 0 & 0 & - \\frac{0.25 \\sqrt{3} A E}{L} & - \\frac{0.75 A E}{L} & 0 & 0\\\\- \\frac{A E}{L} & 0 & \\frac{2.5 A E}{L} & 0 & - \\frac{A E}{L} & 0 & - \\frac{0.25 A E}{L} & \\frac{0.25 \\sqrt{3} A E}{L} & - \\frac{0.25 A E}{L} & - \\frac{0.25 \\sqrt{3} A E}{L}\\\\0 & 0 & 0 & \\frac{1.5 A E}{L} & 0 & 0 & \\frac{0.25 \\sqrt{3} A E}{L} & - \\frac{0.75 A E}{L} & - \\frac{0.25 \\sqrt{3} A E}{L} & - \\frac{0.75 A E}{L}\\\\0 & 0 & - \\frac{A E}{L} & 0 & \\frac{1.25 A E}{L} & - \\frac{0.25 \\sqrt{3} A E}{L} & 0 & 0 & - \\frac{0.25 A E}{L} & \\frac{0.25 \\sqrt{3} A E}{L}\\\\0 & 0 & 0 & 0 & - \\frac{0.25 \\sqrt{3} A E}{L} & \\frac{0.75 A E}{L} & 0 & 0 & \\frac{0.25 \\sqrt{3} A E}{L} & - \\frac{0.75 A E}{L}\\\\- \\frac{0.25 A E}{L} & - \\frac{0.25 \\sqrt{3} A E}{L} & - \\frac{0.25 A E}{L} & \\frac{0.25 \\sqrt{3} A E}{L} & 0 & 0 & \\frac{1.5 A E}{L} & 0 & - \\frac{1.0 A E}{L} & 0\\\\- \\frac{0.25 \\sqrt{3} A E}{L} & - \\frac{0.75 A E}{L} & \\frac{0.25 \\sqrt{3} A E}{L} & - \\frac{0.75 A E}{L} & 0 & 0 & 0 & \\frac{1.5 A E}{L} & 0 & 0\\\\0 & 0 & - \\frac{0.25 A E}{L} & - \\frac{0.25 \\sqrt{3} A E}{L} & - \\frac{0.25 A E}{L} & \\frac{0.25 \\sqrt{3} A E}{L} & - \\frac{1.0 A E}{L} & 0 & \\frac{1.5 A E}{L} & 0\\\\0 & 0 & - \\frac{0.25 \\sqrt{3} A E}{L} & - \\frac{0.75 A E}{L} & \\frac{0.25 \\sqrt{3} A E}{L} & - \\frac{0.75 A E}{L} & 0 & 0 & 0 & \\frac{1.5 A E}{L}\\end{matrix}\\right]$"
      ],
      "text/plain": [
       "Matrix([\n",
       "[         1.25*A*E/L,  0.25*sqrt(3)*A*E/L,              -A*E/L,                   0,                   0,                   0,         -0.25*A*E/L, -0.25*sqrt(3)*A*E/L,                   0,                   0],\n",
       "[ 0.25*sqrt(3)*A*E/L,          0.75*A*E/L,                   0,                   0,                   0,                   0, -0.25*sqrt(3)*A*E/L,         -0.75*A*E/L,                   0,                   0],\n",
       "[             -A*E/L,                   0,           2.5*A*E/L,                   0,              -A*E/L,                   0,         -0.25*A*E/L,  0.25*sqrt(3)*A*E/L,         -0.25*A*E/L, -0.25*sqrt(3)*A*E/L],\n",
       "[                  0,                   0,                   0,           1.5*A*E/L,                   0,                   0,  0.25*sqrt(3)*A*E/L,         -0.75*A*E/L, -0.25*sqrt(3)*A*E/L,         -0.75*A*E/L],\n",
       "[                  0,                   0,              -A*E/L,                   0,          1.25*A*E/L, -0.25*sqrt(3)*A*E/L,                   0,                   0,         -0.25*A*E/L,  0.25*sqrt(3)*A*E/L],\n",
       "[                  0,                   0,                   0,                   0, -0.25*sqrt(3)*A*E/L,          0.75*A*E/L,                   0,                   0,  0.25*sqrt(3)*A*E/L,         -0.75*A*E/L],\n",
       "[        -0.25*A*E/L, -0.25*sqrt(3)*A*E/L,         -0.25*A*E/L,  0.25*sqrt(3)*A*E/L,                   0,                   0,           1.5*A*E/L,                   0,          -1.0*A*E/L,                   0],\n",
       "[-0.25*sqrt(3)*A*E/L,         -0.75*A*E/L,  0.25*sqrt(3)*A*E/L,         -0.75*A*E/L,                   0,                   0,                   0,           1.5*A*E/L,                   0,                   0],\n",
       "[                  0,                   0,         -0.25*A*E/L, -0.25*sqrt(3)*A*E/L,         -0.25*A*E/L,  0.25*sqrt(3)*A*E/L,          -1.0*A*E/L,                   0,           1.5*A*E/L,                   0],\n",
       "[                  0,                   0, -0.25*sqrt(3)*A*E/L,         -0.75*A*E/L,  0.25*sqrt(3)*A*E/L,         -0.75*A*E/L,                   0,                   0,                   0,           1.5*A*E/L]])"
      ]
     },
     "execution_count": 273,
     "metadata": {},
     "output_type": "execute_result"
    }
   ],
   "source": [
    "K_dense = K_edge.as_explicit()\n",
    "K_dense"
   ]
  },
  {
   "cell_type": "code",
   "execution_count": null,
   "id": "1a606446",
   "metadata": {},
   "outputs": [],
   "source": []
  },
  {
   "cell_type": "code",
   "execution_count": null,
   "id": "caed9c44",
   "metadata": {},
   "outputs": [],
   "source": []
  },
  {
   "cell_type": "code",
   "execution_count": null,
   "id": "580f15de",
   "metadata": {},
   "outputs": [],
   "source": []
  },
  {
   "cell_type": "code",
   "execution_count": null,
   "id": "e66fff3c",
   "metadata": {},
   "outputs": [],
   "source": []
  },
  {
   "cell_type": "code",
   "execution_count": null,
   "id": "b6468d1b",
   "metadata": {},
   "outputs": [],
   "source": []
  },
  {
   "cell_type": "code",
   "execution_count": 256,
   "id": "4b4e3c07",
   "metadata": {},
   "outputs": [],
   "source": [
    "def get_node_ordering(G):\n",
    "    \"\"\"\n",
    "    Assigns a consistent global ordering to nodes for stacking u and building K.\n",
    "    Returns:\n",
    "        - node_list: list of nodes in order\n",
    "        - index_map: dict from node name to block index\n",
    "    \"\"\"\n",
    "    node_list = sorted(G.nodes)  # or custom order\n",
    "    index_map = {name: i for i, name in enumerate(node_list)}\n",
    "    return node_list, index_map\n"
   ]
  },
  {
   "cell_type": "code",
   "execution_count": 257,
   "id": "e10c47fa",
   "metadata": {},
   "outputs": [],
   "source": [
    "def build_global_vectors(G, node_list):\n",
    "    \"\"\"\n",
    "    Returns:\n",
    "        u_global: stacked vector of unknown displacements only\n",
    "        f_global: corresponding external forces\n",
    "    \"\"\"\n",
    "    u_blocks = []\n",
    "    f_blocks = []\n",
    "\n",
    "    for node in node_list:\n",
    "        u = G.nodes[node]['disp']\n",
    "        f = G.nodes[node].get('f_ext', sp.Matrix([0, 0]))\n",
    "\n",
    "        if isinstance(u[0], sp.Basic):  # symbolic, not fixed\n",
    "            u_blocks.append(u)\n",
    "            f_blocks.append(f)\n",
    "\n",
    "    u_global = sp.Matrix.vstack(*u_blocks)\n",
    "    f_global = sp.Matrix.vstack(*f_blocks)\n",
    "    return u_global, f_global\n"
   ]
  },
  {
   "cell_type": "code",
   "execution_count": 258,
   "id": "a7e42b53",
   "metadata": {},
   "outputs": [],
   "source": [
    "def local_stiffness_block(r, k):\n",
    "    \"\"\"\n",
    "    Returns the 4×4 local stiffness matrix for a member with direction vector r and stiffness k.\n",
    "    Blocks:\n",
    "        [  P  -P ]\n",
    "        [ -P   P ]\n",
    "    \"\"\"\n",
    "    P = projector(r)\n",
    "    return k * sp.BlockMatrix([\n",
    "        [ P, -P ],\n",
    "        [ -P,  P ]\n",
    "    ]).as_explicit()\n"
   ]
  },
  {
   "cell_type": "code",
   "execution_count": 272,
   "id": "c9a6511a",
   "metadata": {},
   "outputs": [],
   "source": [
    "def build_stiffness_dict(G):\n",
    "    \"\"\"\n",
    "    For each edge, compute 2×2 stiffness contributions and accumulate into a dictionary:\n",
    "    K_dict[(i, j)] = 2x2 matrix block (symbolic)\n",
    "    \"\"\"\n",
    "    K_dict = {}\n",
    "\n",
    "    for i, j in G.edges:\n",
    "        xi, xj = G.nodes[i]['pos'], G.nodes[j]['pos']\n",
    "        E, A = G.edges[i, j]['E'], G.edges[i, j]['A']\n",
    "        r = xj - xi\n",
    "        L = r.norm()\n",
    "        P = projector(r)\n",
    "        k = E * A / L\n",
    "\n",
    "        for a, b, value in [((i, i), k*P), ((i, j), -k*P), ((j, i), -k*P), ((j, j), k*P)]:\n",
    "            if (a, b) not in K_dict:\n",
    "                K_dict[(a, b)] = value\n",
    "            else:\n",
    "                K_dict[(a, b)] += value\n",
    "\n",
    "    return K_dict\n"
   ]
  },
  {
   "cell_type": "code",
   "execution_count": 273,
   "id": "c377f2eb",
   "metadata": {},
   "outputs": [],
   "source": [
    "def assemble_block_matrix(K_dict, node_list, fixed_nodes=()):\n",
    "    \"\"\"\n",
    "    Assemble a BlockMatrix using entries in K_dict for non-fixed nodes only.\n",
    "    \"\"\"\n",
    "    free_nodes = [n for n in node_list if n not in fixed_nodes]\n",
    "    index_map = {n: i for i, n in enumerate(free_nodes)}\n",
    "    n = len(free_nodes)\n",
    "\n",
    "    def Z(): return sp.ImmutableMatrix.zeros(2, 2)\n",
    "    blocks = [[Z() for _ in range(n)] for _ in range(n)]\n",
    "\n",
    "    for (i, j), K_ij in K_dict.items():\n",
    "        if i in fixed_nodes or j in fixed_nodes:\n",
    "            continue\n",
    "        a, b = index_map[i], index_map[j]\n",
    "        blocks[a][b] += K_ij\n",
    "\n",
    "    return sp.BlockMatrix(blocks), free_nodes\n"
   ]
  },
  {
   "cell_type": "code",
   "execution_count": 275,
   "id": "4acb775a",
   "metadata": {},
   "outputs": [],
   "source": [
    "G = nx.Graph()\n",
    "add_n_triangle_truss(G, N=2)\n",
    "assign_material_properties(G, E, A)\n",
    "add_displacements(G)\n",
    "G.nodes['B1']['f_ext'] = sp.Matrix([0, -F])"
   ]
  },
  {
   "cell_type": "code",
   "execution_count": 276,
   "id": "6b8e85b0",
   "metadata": {},
   "outputs": [
    {
     "ename": "ValueError",
     "evalue": "not enough values to unpack (expected 3, got 2)",
     "output_type": "error",
     "traceback": [
      "\u001b[0;31m---------------------------------------------------------------------------\u001b[0m",
      "\u001b[0;31mValueError\u001b[0m                                Traceback (most recent call last)",
      "Cell \u001b[0;32mIn[276], line 1\u001b[0m\n\u001b[0;32m----> 1\u001b[0m K_dict \u001b[38;5;241m=\u001b[39m \u001b[43mbuild_stiffness_dict\u001b[49m\u001b[43m(\u001b[49m\u001b[43mG\u001b[49m\u001b[43m)\u001b[49m\n\u001b[1;32m      2\u001b[0m K_block, free_nodes \u001b[38;5;241m=\u001b[39m assemble_block_matrix(K_dict, node_list, G\u001b[38;5;241m.\u001b[39mgraph[\u001b[38;5;124m'\u001b[39m\u001b[38;5;124mfixed\u001b[39m\u001b[38;5;124m'\u001b[39m])\n\u001b[1;32m      3\u001b[0m K_dense \u001b[38;5;241m=\u001b[39m K_block\u001b[38;5;241m.\u001b[39mas_explicit()\n",
      "Cell \u001b[0;32mIn[272], line 16\u001b[0m, in \u001b[0;36mbuild_stiffness_dict\u001b[0;34m(G)\u001b[0m\n\u001b[1;32m     13\u001b[0m P \u001b[38;5;241m=\u001b[39m projector(r)\n\u001b[1;32m     14\u001b[0m k \u001b[38;5;241m=\u001b[39m E \u001b[38;5;241m*\u001b[39m A \u001b[38;5;241m/\u001b[39m L\n\u001b[0;32m---> 16\u001b[0m \u001b[38;5;28;01mfor\u001b[39;00m a, b, value \u001b[38;5;129;01min\u001b[39;00m [((i, i), k\u001b[38;5;241m*\u001b[39mP), ((i, j), \u001b[38;5;241m-\u001b[39mk\u001b[38;5;241m*\u001b[39mP), ((j, i), \u001b[38;5;241m-\u001b[39mk\u001b[38;5;241m*\u001b[39mP), ((j, j), k\u001b[38;5;241m*\u001b[39mP)]:\n\u001b[1;32m     17\u001b[0m     \u001b[38;5;28;01mif\u001b[39;00m (a, b) \u001b[38;5;129;01mnot\u001b[39;00m \u001b[38;5;129;01min\u001b[39;00m K_dict:\n\u001b[1;32m     18\u001b[0m         K_dict[(a, b)] \u001b[38;5;241m=\u001b[39m value\n",
      "\u001b[0;31mValueError\u001b[0m: not enough values to unpack (expected 3, got 2)"
     ]
    }
   ],
   "source": [
    "K_dict = build_stiffness_dict(G)\n",
    "K_block, free_nodes = assemble_block_matrix(K_dict, node_list, G.graph['fixed'])\n",
    "K_dense = K_block.as_explicit()\n"
   ]
  },
  {
   "cell_type": "code",
   "execution_count": 231,
   "id": "290eafa2",
   "metadata": {},
   "outputs": [
    {
     "data": {
      "text/latex": [
       "$\\displaystyle \\left[\\begin{matrix}u_{B0 x}\\\\u_{B0 y}\\\\u_{B1 x}\\\\u_{B1 y}\\\\u_{B2 x}\\\\u_{B2 y}\\\\u_{T0 x}\\\\u_{T0 y}\\\\u_{T1 x}\\\\u_{T1 y}\\end{matrix}\\right]$"
      ],
      "text/plain": [
       "Matrix([\n",
       "[u_B0_x],\n",
       "[u_B0_y],\n",
       "[u_B1_x],\n",
       "[u_B1_y],\n",
       "[u_B2_x],\n",
       "[u_B2_y],\n",
       "[u_T0_x],\n",
       "[u_T0_y],\n",
       "[u_T1_x],\n",
       "[u_T1_y]])"
      ]
     },
     "execution_count": 231,
     "metadata": {},
     "output_type": "execute_result"
    }
   ],
   "source": [
    "K_dense = K_block.as_explicit()\n",
    "u_global, f_global = build_global_vectors(G, node_list)\n",
    "u_global"
   ]
  },
  {
   "cell_type": "code",
   "execution_count": 232,
   "id": "43485c57",
   "metadata": {},
   "outputs": [
    {
     "data": {
      "text/latex": [
       "$\\displaystyle \\left[\\begin{matrix}0\\\\0\\\\0\\\\- F\\\\0\\\\0\\\\0\\\\0\\\\0\\\\0\\end{matrix}\\right]$"
      ],
      "text/plain": [
       "Matrix([\n",
       "[ 0],\n",
       "[ 0],\n",
       "[ 0],\n",
       "[-F],\n",
       "[ 0],\n",
       "[ 0],\n",
       "[ 0],\n",
       "[ 0],\n",
       "[ 0],\n",
       "[ 0]])"
      ]
     },
     "execution_count": 232,
     "metadata": {},
     "output_type": "execute_result"
    }
   ],
   "source": [
    "f_global"
   ]
  },
  {
   "cell_type": "code",
   "execution_count": 233,
   "id": "4b314718",
   "metadata": {},
   "outputs": [
    {
     "data": {
      "text/latex": [
       "$\\displaystyle \\left[\\begin{matrix}\\frac{1.25 A E u_{B0 x}}{L} + \\frac{0.25 \\sqrt{3} A E u_{B0 y}}{L} - \\frac{A E u_{B1 x}}{L} - \\frac{0.25 A E u_{T0 x}}{L} - \\frac{0.25 \\sqrt{3} A E u_{T0 y}}{L}\\\\\\frac{0.25 \\sqrt{3} A E u_{B0 x}}{L} + \\frac{0.75 A E u_{B0 y}}{L} - \\frac{0.25 \\sqrt{3} A E u_{T0 x}}{L} - \\frac{0.75 A E u_{T0 y}}{L}\\\\- \\frac{A E u_{B0 x}}{L} + \\frac{2.5 A E u_{B1 x}}{L} - \\frac{A E u_{B2 x}}{L} - \\frac{0.25 A E u_{T0 x}}{L} + \\frac{0.25 \\sqrt{3} A E u_{T0 y}}{L} - \\frac{0.25 A E u_{T1 x}}{L} - \\frac{0.25 \\sqrt{3} A E u_{T1 y}}{L}\\\\\\frac{1.5 A E u_{B1 y}}{L} + \\frac{0.25 \\sqrt{3} A E u_{T0 x}}{L} - \\frac{0.75 A E u_{T0 y}}{L} - \\frac{0.25 \\sqrt{3} A E u_{T1 x}}{L} - \\frac{0.75 A E u_{T1 y}}{L}\\\\- \\frac{A E u_{B1 x}}{L} + \\frac{1.25 A E u_{B2 x}}{L} - \\frac{0.25 \\sqrt{3} A E u_{B2 y}}{L} - \\frac{0.25 A E u_{T1 x}}{L} + \\frac{0.25 \\sqrt{3} A E u_{T1 y}}{L}\\\\- \\frac{0.25 \\sqrt{3} A E u_{B2 x}}{L} + \\frac{0.75 A E u_{B2 y}}{L} + \\frac{0.25 \\sqrt{3} A E u_{T1 x}}{L} - \\frac{0.75 A E u_{T1 y}}{L}\\\\- \\frac{0.25 A E u_{B0 x}}{L} - \\frac{0.25 \\sqrt{3} A E u_{B0 y}}{L} - \\frac{0.25 A E u_{B1 x}}{L} + \\frac{0.25 \\sqrt{3} A E u_{B1 y}}{L} + \\frac{1.5 A E u_{T0 x}}{L} - \\frac{1.0 A E u_{T1 x}}{L}\\\\- \\frac{0.25 \\sqrt{3} A E u_{B0 x}}{L} - \\frac{0.75 A E u_{B0 y}}{L} + \\frac{0.25 \\sqrt{3} A E u_{B1 x}}{L} - \\frac{0.75 A E u_{B1 y}}{L} + \\frac{1.5 A E u_{T0 y}}{L}\\\\- \\frac{0.25 A E u_{B1 x}}{L} - \\frac{0.25 \\sqrt{3} A E u_{B1 y}}{L} - \\frac{0.25 A E u_{B2 x}}{L} + \\frac{0.25 \\sqrt{3} A E u_{B2 y}}{L} - \\frac{1.0 A E u_{T0 x}}{L} + \\frac{1.5 A E u_{T1 x}}{L}\\\\- \\frac{0.25 \\sqrt{3} A E u_{B1 x}}{L} - \\frac{0.75 A E u_{B1 y}}{L} + \\frac{0.25 \\sqrt{3} A E u_{B2 x}}{L} - \\frac{0.75 A E u_{B2 y}}{L} + \\frac{1.5 A E u_{T1 y}}{L}\\end{matrix}\\right] = \\left[\\begin{matrix}0\\\\0\\\\0\\\\- F\\\\0\\\\0\\\\0\\\\0\\\\0\\\\0\\end{matrix}\\right]$"
      ],
      "text/plain": [
       "Eq(Matrix([\n",
       "[                                   1.25*A*E*u_B0_x/L + 0.25*sqrt(3)*A*E*u_B0_y/L - A*E*u_B1_x/L - 0.25*A*E*u_T0_x/L - 0.25*sqrt(3)*A*E*u_T0_y/L],\n",
       "[                                                  0.25*sqrt(3)*A*E*u_B0_x/L + 0.75*A*E*u_B0_y/L - 0.25*sqrt(3)*A*E*u_T0_x/L - 0.75*A*E*u_T0_y/L],\n",
       "[-A*E*u_B0_x/L + 2.5*A*E*u_B1_x/L - A*E*u_B2_x/L - 0.25*A*E*u_T0_x/L + 0.25*sqrt(3)*A*E*u_T0_y/L - 0.25*A*E*u_T1_x/L - 0.25*sqrt(3)*A*E*u_T1_y/L],\n",
       "[                               1.5*A*E*u_B1_y/L + 0.25*sqrt(3)*A*E*u_T0_x/L - 0.75*A*E*u_T0_y/L - 0.25*sqrt(3)*A*E*u_T1_x/L - 0.75*A*E*u_T1_y/L],\n",
       "[                                  -A*E*u_B1_x/L + 1.25*A*E*u_B2_x/L - 0.25*sqrt(3)*A*E*u_B2_y/L - 0.25*A*E*u_T1_x/L + 0.25*sqrt(3)*A*E*u_T1_y/L],\n",
       "[                                                 -0.25*sqrt(3)*A*E*u_B2_x/L + 0.75*A*E*u_B2_y/L + 0.25*sqrt(3)*A*E*u_T1_x/L - 0.75*A*E*u_T1_y/L],\n",
       "[           -0.25*A*E*u_B0_x/L - 0.25*sqrt(3)*A*E*u_B0_y/L - 0.25*A*E*u_B1_x/L + 0.25*sqrt(3)*A*E*u_B1_y/L + 1.5*A*E*u_T0_x/L - 1.0*A*E*u_T1_x/L],\n",
       "[                              -0.25*sqrt(3)*A*E*u_B0_x/L - 0.75*A*E*u_B0_y/L + 0.25*sqrt(3)*A*E*u_B1_x/L - 0.75*A*E*u_B1_y/L + 1.5*A*E*u_T0_y/L],\n",
       "[           -0.25*A*E*u_B1_x/L - 0.25*sqrt(3)*A*E*u_B1_y/L - 0.25*A*E*u_B2_x/L + 0.25*sqrt(3)*A*E*u_B2_y/L - 1.0*A*E*u_T0_x/L + 1.5*A*E*u_T1_x/L],\n",
       "[                              -0.25*sqrt(3)*A*E*u_B1_x/L - 0.75*A*E*u_B1_y/L + 0.25*sqrt(3)*A*E*u_B2_x/L - 0.75*A*E*u_B2_y/L + 1.5*A*E*u_T1_y/L]]), Matrix([\n",
       "[ 0],\n",
       "[ 0],\n",
       "[ 0],\n",
       "[-F],\n",
       "[ 0],\n",
       "[ 0],\n",
       "[ 0],\n",
       "[ 0],\n",
       "[ 0],\n",
       "[ 0]]))"
      ]
     },
     "execution_count": 233,
     "metadata": {},
     "output_type": "execute_result"
    }
   ],
   "source": [
    "eq = Eq(K_dense * u_global, f_global)\n",
    "eq"
   ]
  },
  {
   "cell_type": "code",
   "execution_count": null,
   "id": "aa0b3716",
   "metadata": {},
   "outputs": [],
   "source": []
  },
  {
   "cell_type": "markdown",
   "id": "e27da3a4",
   "metadata": {
    "tags": [
     "remove-print"
    ]
   },
   "source": [
    "[Think Linear Algebra](https://allendowney.github.io/ThinkLinearAlgebra/index.html)\n",
    "\n",
    "Copyright 2025 [Allen B. Downey](https://allendowney.com)\n",
    "\n",
    "Code license: [MIT License](https://mit-license.org/)\n",
    "\n",
    "Text license: [Creative Commons Attribution-NonCommercial-ShareAlike 4.0 International](https://creativecommons.org/licenses/by-nc-sa/4.0/)"
   ]
  },
  {
   "cell_type": "code",
   "execution_count": null,
   "id": "c8b4e400-dc97-498e-9016-3e9ef05dc7a3",
   "metadata": {},
   "outputs": [],
   "source": []
  }
 ],
 "metadata": {
  "celltoolbar": "Tags",
  "kernelspec": {
   "display_name": "Python 3 (ipykernel)",
   "language": "python",
   "name": "python3"
  },
  "language_info": {
   "codemirror_mode": {
    "name": "ipython",
    "version": 3
   },
   "file_extension": ".py",
   "mimetype": "text/x-python",
   "name": "python",
   "nbconvert_exporter": "python",
   "pygments_lexer": "ipython3",
   "version": "3.10.16"
  }
 },
 "nbformat": 4,
 "nbformat_minor": 5
}
