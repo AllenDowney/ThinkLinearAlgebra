{
 "cells": [
  {
   "cell_type": "markdown",
   "id": "025b76df",
   "metadata": {},
   "source": [
    "*Think Linear Algebra* is not for sale yet, but if you would like to support this project, you can [buy me a coffee](https://buymeacoffee.com/allendowney)."
   ]
  },
  {
   "cell_type": "markdown",
   "id": "e03709d8",
   "metadata": {},
   "source": [
    "# Truss in the System\n",
    "\n",
    "In this chapter, we'll use systems of linear equations to analyze trusses.\n",
    "\n",
    "A **truss** is an assembly of beams connected by joints, usually designed to support a load. Many bridges and roofs are supported by trusses, and if you've ever participated in a model bridge competition, the structure you built was probably a truss.\n",
    "\n",
    "This picture shows a **Warren truss**, the basis of many railroad bridge designs:\n",
    "\n",
    "<img width=\"400\" src=\"https://upload.wikimedia.org/wikipedia/commons/thumb/2/2b/VIEW_OF_BRIDGE_FROM_SOUTH_WITH_ONCOMING_CSX_LOCOMOTIVE_ON_TRACKS_BELOW%2C_LOOKING_NORTHEAST_-_Wills_Creek_Bollman_Bridge%2C_Spanning_CSX_tracks_at_T381%2C_Meyersdale%2C_Somerset_County%2C_HAER_PA%2C56-MEYER.V%2C2-2.tif/lossy-page1-800px-thumbnail.tif.jpg\">\n",
    "\n",
    "This structure is made of three connected triangles with horizontal beams across the top. It's supported by anchor points at each end, and it carries a deck that supports a roadway. The load on the truss includes the weight of the roadway, any vehicles on it, and the weight of the truss itself."
   ]
  },
  {
   "cell_type": "markdown",
   "id": "a629e20c",
   "metadata": {},
   "source": [
    "To model a structure like this, we'll make some simplifying assumptions:\n",
    "\n",
    "- We'll treat the structure as two-dimensional, analyzing only one side of the truss.\n",
    "\n",
    "- We'll assume the joints behave like **hinge pins** that connect members but allow them to rotate freely.\n",
    "\n",
    "- We'll assume the load is applied only at the joints, not along the length of the members.\n",
    "\n",
    "- We'll treat each member of the truss as a **spring** that pushes or pulls in response to stretching or compression, with force that depends on its size and material.\n",
    "\n",
    "- We'll assume that the stretching and compression are small enough that the geometry of the truss is unchanged. \n",
    "\n",
    "These assumptions aren't fully realistic, but they're reasonable approximations.\n",
    "With them, we can analyze the structure -- that is, for a given load, we can compute how much each member stretches or compresses, and how much force it exerts in response.\n",
    "\n",
    "The goal is to find an **equilibrium**, where the external forces applied to the truss are exactly balanced by internal spring forces in the members.\n",
    "\n",
    "To solve this system, we'll use **projection matrices**, which we saw in Section XXX, and we'll introduce **block matrices**, which are matrices that contain vectors or submatrices as elements."
   ]
  },
  {
   "cell_type": "markdown",
   "id": "3893fe82",
   "metadata": {
    "tags": [
     "remove-print"
    ]
   },
   "source": [
    "[Click here to run this notebook on Colab](https://colab.research.google.com/github/AllenDowney/ThinkLinearAlgebra/blob/main/nb/nullspace.ipynb)."
   ]
  },
  {
   "cell_type": "code",
   "execution_count": 1,
   "id": "351a9381",
   "metadata": {},
   "outputs": [],
   "source": [
    "%load_ext autoreload\n",
    "%autoreload 2"
   ]
  },
  {
   "cell_type": "code",
   "execution_count": 2,
   "id": "02d400cf",
   "metadata": {
    "tags": [
     "remove-print",
     "hide-cell"
    ]
   },
   "outputs": [],
   "source": [
    "from os.path import basename, exists\n",
    "\n",
    "\n",
    "def download(url):\n",
    "    filename = basename(url)\n",
    "    if not exists(filename):\n",
    "        from urllib.request import urlretrieve\n",
    "\n",
    "        local, _ = urlretrieve(url, filename)\n",
    "        print(\"Downloaded \" + local)\n",
    "\n",
    "\n",
    "download(\"https://github.com/AllenDowney/ThinkLinearAlgebra/raw/main/utils.py\")"
   ]
  },
  {
   "cell_type": "code",
   "execution_count": 3,
   "id": "1a3119be",
   "metadata": {
    "tags": [
     "hide-cell",
     "remove-print"
    ]
   },
   "outputs": [],
   "source": [
    "import networkx as nx\n",
    "import numpy as np\n",
    "import pandas as pd\n",
    "import matplotlib.pyplot as plt\n",
    "import sympy as sp\n",
    "\n",
    "from utils import decorate, underride\n",
    "\n",
    "from utils import gset, gget"
   ]
  },
  {
   "cell_type": "markdown",
   "id": "9ebc865a",
   "metadata": {},
   "source": [
    "## The Simplest Truss\n",
    "\n",
    "We'll start with a truss that's about as simple as it can be, shown in the following diagram."
   ]
  },
  {
   "cell_type": "code",
   "execution_count": 4,
   "id": "ec0e0497",
   "metadata": {},
   "outputs": [
    {
     "data": {
      "image/png": "[encoded data removed]",
      "text/plain": [
       "<Figure size 450x262.5 with 1 Axes>"
      ]
     },
     "metadata": {},
     "output_type": "display_data"
    }
   ],
   "source": [
    "from utils import diagram_truss\n",
    "\n",
    "# Define endpoints of truss members (undisplaced)\n",
    "l = 0.15\n",
    "lower_left = np.array([-l, -l])   \n",
    "lower_right = np.array([l, -l])   \n",
    "top = np.array([0, 0])\n",
    "nodes = lower_left, lower_right, top\n",
    "\n",
    "diagram_truss(nodes, add_vectors=False)\n",
    "\n",
    "lim = 1.2 * l\n",
    "plt.xlim(-lim, lim)\n",
    "plt.ylim(-lim, lim/2)\n",
    "plt.gca().set_aspect('equal')\n",
    "plt.axis('off')\n",
    "None"
   ]
  },
  {
   "cell_type": "markdown",
   "id": "0608bcbf",
   "metadata": {},
   "source": [
    "The truss contains only two elements.\n",
    "The one on the left is anchored at point A, the one on the right is anchored at point B, and they are connected to each other at point C.\n",
    "\n",
    "The triangles represent anchors holding the points A and B in place.\n",
    "The circle represents a pin joint that can move under load.\n",
    "\n",
    "To start the analysis of this truss, we'll define symbols to represent the starting position of point C in two dimensions."
   ]
  },
  {
   "cell_type": "code",
   "execution_count": 5,
   "id": "5c873dfa",
   "metadata": {},
   "outputs": [],
   "source": [
    "from sympy import symbols\n",
    "\n",
    "x_C, y_C = symbols('x_C y_C')"
   ]
  },
  {
   "cell_type": "markdown",
   "id": "c07d1bbd",
   "metadata": {},
   "source": [
    "And two more symbols to represent the displacement of point C from its starting position.\n",
    "These are the unknowns we will solve for."
   ]
  },
  {
   "cell_type": "code",
   "execution_count": 6,
   "id": "f36fced2",
   "metadata": {},
   "outputs": [],
   "source": [
    "u_x, u_y = symbols('u_x u_y')"
   ]
  },
  {
   "cell_type": "markdown",
   "id": "d716326d",
   "metadata": {},
   "source": [
    "It will convenient to pack these unknowns into a column vector."
   ]
  },
  {
   "cell_type": "code",
   "execution_count": 7,
   "id": "2724ec07",
   "metadata": {},
   "outputs": [
    {
     "data": {
      "text/latex": [
       "$\\displaystyle \\left[\\begin{matrix}u_{x}\\\\u_{y}\\end{matrix}\\right]$"
      ],
      "text/plain": [
       "Matrix([\n",
       "[u_x],\n",
       "[u_y]])"
      ]
     },
     "execution_count": 7,
     "metadata": {},
     "output_type": "execute_result"
    }
   ],
   "source": [
    "from sympy import Matrix\n",
    "\n",
    "u_C = Matrix([u_x, u_y])\n",
    "u_C"
   ]
  },
  {
   "cell_type": "markdown",
   "id": "de4301b3",
   "metadata": {},
   "source": [
    "Similarly, we'll create matrices to represent the starting positions of points A, B, and C, based on `L`, which represents the length of one of the elements of the truss."
   ]
  },
  {
   "cell_type": "code",
   "execution_count": 8,
   "id": "e44155c4",
   "metadata": {},
   "outputs": [],
   "source": [
    "L = symbols('L')\n",
    "pos_A = Matrix([0, 0])\n",
    "pos_B = Matrix([L, 0])\n",
    "pos_C = Matrix([x_C, y_C])"
   ]
  },
  {
   "cell_type": "markdown",
   "id": "3f2bb485",
   "metadata": {},
   "source": [
    "Next we'll compute the spring constant of the two elements, which is the product of the cross-sectional area, `A`, and the Young's modulus, `E`, divided by length `L`.\n",
    "\n",
    "For this example, we'll assume that the cross-sectional area is the same but not necessarily the Young's modulus.\n",
    "Here are the symbols we need:"
   ]
  },
  {
   "cell_type": "code",
   "execution_count": 9,
   "id": "4d77cdac",
   "metadata": {},
   "outputs": [],
   "source": [
    "A = symbols('A')\n",
    "E_CA, E_CB = symbols('E_CA E_CB')"
   ]
  },
  {
   "cell_type": "markdown",
   "id": "247cf627",
   "metadata": {},
   "source": [
    "And the spring constants:"
   ]
  },
  {
   "cell_type": "code",
   "execution_count": 10,
   "id": "8c7eaa48",
   "metadata": {},
   "outputs": [
    {
     "data": {
      "text/latex": [
       "$\\displaystyle \\frac{A E_{CA}}{L}$"
      ],
      "text/plain": [
       "A*E_CA/L"
      ]
     },
     "metadata": {},
     "output_type": "display_data"
    },
    {
     "data": {
      "text/latex": [
       "$\\displaystyle \\frac{A E_{CB}}{L}$"
      ],
      "text/plain": [
       "A*E_CB/L"
      ]
     },
     "metadata": {},
     "output_type": "display_data"
    }
   ],
   "source": [
    "k_CA = E_CA * A / L\n",
    "k_CB = E_CB * A / L\n",
    "\n",
    "display(k_CA, k_CB)"
   ]
  },
  {
   "cell_type": "markdown",
   "id": "bbe8d016",
   "metadata": {},
   "source": [
    "Next we'll compute vectors that represent the offset of A and B, relative to C."
   ]
  },
  {
   "cell_type": "code",
   "execution_count": 11,
   "id": "30281277",
   "metadata": {},
   "outputs": [],
   "source": [
    "r_CA = pos_A - pos_C\n",
    "r_CB = pos_B - pos_C"
   ]
  },
  {
   "cell_type": "markdown",
   "id": "2a32f3c1",
   "metadata": {},
   "source": [
    "Now, to compute the spring forces in the elements, we have to figure out what part of the displacement, `u`, is along the axis of each element.\n",
    "We can do that by computing the vector projection of `u` onto `r_CA` and `r_CB`, as shown in this diagram."
   ]
  },
  {
   "cell_type": "code",
   "execution_count": 12,
   "id": "4150c92d",
   "metadata": {},
   "outputs": [
    {
     "data": {
      "image/png": "[encoded data removed]",
      "text/plain": [
       "<Figure size 375x375 with 1 Axes>"
      ]
     },
     "metadata": {},
     "output_type": "display_data"
    }
   ],
   "source": [
    "from utils import plot_vector, remove_spines\n",
    "\n",
    "plt.figure(figsize=(5, 5))\n",
    "\n",
    "u = np.array([3, -7]) * 1e-6\n",
    "scale = 2e4\n",
    "\n",
    "diagram_truss(nodes, u*scale, add_pin=False, add_labels=False)\n",
    "\n",
    "plt.xlim(-lim, lim)\n",
    "plt.ylim(-lim, lim/4)\n",
    "\n",
    "plt.xlabel('x position in m')\n",
    "plt.ylabel('y position in m')\n",
    "plt.title('')\n",
    "remove_spines()"
   ]
  },
  {
   "cell_type": "markdown",
   "id": "6e3c8dc2",
   "metadata": {},
   "source": [
    "To compute the vector projection, we'll use this function, which:\n",
    "\n",
    "1. Computes the unit vector in the direction of `r`, called `r_hat`,\n",
    "\n",
    "2. Computes `r_hat.T * u`, which is the scalar magnitude of `u` in the direction of `r_hat`, and\n",
    "\n",
    "3. Multiplies the result by `r_hat`.\n",
    "\n",
    "The result is a vector that represents the component of `u` in the direction of `r`. "
   ]
  },
  {
   "cell_type": "code",
   "execution_count": 13,
   "id": "cec758fe",
   "metadata": {},
   "outputs": [],
   "source": [
    "def vector_projection(u, r):\n",
    "    r_hat = r.normalized()\n",
    "    scalar_projection = r_hat.T * u\n",
    "    return r_hat * scalar_projection"
   ]
  },
  {
   "cell_type": "markdown",
   "id": "0fdbed46",
   "metadata": {},
   "source": [
    "To compute the spring forces in the elements, we multiply the spring constants by the scalar projections."
   ]
  },
  {
   "cell_type": "code",
   "execution_count": 14,
   "id": "73f4dfd4",
   "metadata": {},
   "outputs": [],
   "source": [
    "f_CA = -k_CA * vector_projection(u_C, r_CA)\n",
    "f_CB = -k_CB * vector_projection(u_C, r_CB)"
   ]
  },
  {
   "cell_type": "markdown",
   "id": "41898fd9",
   "metadata": {},
   "source": [
    "As an example, here's `f_CA`, which is a force vector."
   ]
  },
  {
   "cell_type": "code",
   "execution_count": 15,
   "id": "5a267508",
   "metadata": {},
   "outputs": [
    {
     "data": {
      "text/latex": [
       "$\\displaystyle \\left[\\begin{matrix}\\frac{A E_{CA} x_{C} \\left(- \\frac{u_{x} x_{C}}{\\sqrt{\\left|{x_{C}}\\right|^{2} + \\left|{y_{C}}\\right|^{2}}} - \\frac{u_{y} y_{C}}{\\sqrt{\\left|{x_{C}}\\right|^{2} + \\left|{y_{C}}\\right|^{2}}}\\right)}{L \\sqrt{\\left|{x_{C}}\\right|^{2} + \\left|{y_{C}}\\right|^{2}}}\\\\\\frac{A E_{CA} y_{C} \\left(- \\frac{u_{x} x_{C}}{\\sqrt{\\left|{x_{C}}\\right|^{2} + \\left|{y_{C}}\\right|^{2}}} - \\frac{u_{y} y_{C}}{\\sqrt{\\left|{x_{C}}\\right|^{2} + \\left|{y_{C}}\\right|^{2}}}\\right)}{L \\sqrt{\\left|{x_{C}}\\right|^{2} + \\left|{y_{C}}\\right|^{2}}}\\end{matrix}\\right]$"
      ],
      "text/plain": [
       "Matrix([\n",
       "[A*E_CA*x_C*(-u_x*x_C/sqrt(Abs(x_C)**2 + Abs(y_C)**2) - u_y*y_C/sqrt(Abs(x_C)**2 + Abs(y_C)**2))/(L*sqrt(Abs(x_C)**2 + Abs(y_C)**2))],\n",
       "[A*E_CA*y_C*(-u_x*x_C/sqrt(Abs(x_C)**2 + Abs(y_C)**2) - u_y*y_C/sqrt(Abs(x_C)**2 + Abs(y_C)**2))/(L*sqrt(Abs(x_C)**2 + Abs(y_C)**2))]])"
      ]
     },
     "execution_count": 15,
     "metadata": {},
     "output_type": "execute_result"
    }
   ],
   "source": [
    "f_CA"
   ]
  },
  {
   "cell_type": "markdown",
   "id": "6ce244bb",
   "metadata": {},
   "source": [
    "The total force due to the compression of these elements is the sum of the spring forces."
   ]
  },
  {
   "cell_type": "code",
   "execution_count": 16,
   "id": "bc8eb8c1",
   "metadata": {},
   "outputs": [],
   "source": [
    "f_int = f_CA + f_CB"
   ]
  },
  {
   "cell_type": "markdown",
   "id": "11b08f31",
   "metadata": {},
   "source": [
    "Let's suppose that the external force at `C` is a weight that pulls down in the `y` direction, with no additional force in the `x` direction."
   ]
  },
  {
   "cell_type": "code",
   "execution_count": 17,
   "id": "3287dcca",
   "metadata": {},
   "outputs": [],
   "source": [
    "F = symbols('F')\n",
    "f_ext = Matrix([0, -F])"
   ]
  },
  {
   "cell_type": "markdown",
   "id": "82ad4709",
   "metadata": {},
   "source": [
    "If the truss is not moving, the internal and external forces must be equal, so we can write this equation, which relates the external force to the spring forces."
   ]
  },
  {
   "cell_type": "code",
   "execution_count": 18,
   "id": "8bbc69a7",
   "metadata": {},
   "outputs": [
    {
     "data": {
      "text/latex": [
       "$\\displaystyle \\left[\\begin{matrix}\\frac{A E_{CA} x_{C} \\left(- \\frac{u_{x} x_{C}}{\\sqrt{\\left|{x_{C}}\\right|^{2} + \\left|{y_{C}}\\right|^{2}}} - \\frac{u_{y} y_{C}}{\\sqrt{\\left|{x_{C}}\\right|^{2} + \\left|{y_{C}}\\right|^{2}}}\\right)}{L \\sqrt{\\left|{x_{C}}\\right|^{2} + \\left|{y_{C}}\\right|^{2}}} - \\frac{A E_{CB} \\left(L - x_{C}\\right) \\left(\\frac{u_{x} \\left(L - x_{C}\\right)}{\\sqrt{\\left|{y_{C}}\\right|^{2} + \\left|{L - x_{C}}\\right|^{2}}} - \\frac{u_{y} y_{C}}{\\sqrt{\\left|{y_{C}}\\right|^{2} + \\left|{L - x_{C}}\\right|^{2}}}\\right)}{L \\sqrt{\\left|{y_{C}}\\right|^{2} + \\left|{L - x_{C}}\\right|^{2}}}\\\\\\frac{A E_{CA} y_{C} \\left(- \\frac{u_{x} x_{C}}{\\sqrt{\\left|{x_{C}}\\right|^{2} + \\left|{y_{C}}\\right|^{2}}} - \\frac{u_{y} y_{C}}{\\sqrt{\\left|{x_{C}}\\right|^{2} + \\left|{y_{C}}\\right|^{2}}}\\right)}{L \\sqrt{\\left|{x_{C}}\\right|^{2} + \\left|{y_{C}}\\right|^{2}}} + \\frac{A E_{CB} y_{C} \\left(\\frac{u_{x} \\left(L - x_{C}\\right)}{\\sqrt{\\left|{y_{C}}\\right|^{2} + \\left|{L - x_{C}}\\right|^{2}}} - \\frac{u_{y} y_{C}}{\\sqrt{\\left|{y_{C}}\\right|^{2} + \\left|{L - x_{C}}\\right|^{2}}}\\right)}{L \\sqrt{\\left|{y_{C}}\\right|^{2} + \\left|{L - x_{C}}\\right|^{2}}}\\end{matrix}\\right] = \\left[\\begin{matrix}0\\\\- F\\end{matrix}\\right]$"
      ],
      "text/plain": [
       "Eq(Matrix([\n",
       "[A*E_CA*x_C*(-u_x*x_C/sqrt(Abs(x_C)**2 + Abs(y_C)**2) - u_y*y_C/sqrt(Abs(x_C)**2 + Abs(y_C)**2))/(L*sqrt(Abs(x_C)**2 + Abs(y_C)**2)) - A*E_CB*(L - x_C)*(u_x*(L - x_C)/sqrt(Abs(y_C)**2 + Abs(L - x_C)**2) - u_y*y_C/sqrt(Abs(y_C)**2 + Abs(L - x_C)**2))/(L*sqrt(Abs(y_C)**2 + Abs(L - x_C)**2))],\n",
       "[      A*E_CA*y_C*(-u_x*x_C/sqrt(Abs(x_C)**2 + Abs(y_C)**2) - u_y*y_C/sqrt(Abs(x_C)**2 + Abs(y_C)**2))/(L*sqrt(Abs(x_C)**2 + Abs(y_C)**2)) + A*E_CB*y_C*(u_x*(L - x_C)/sqrt(Abs(y_C)**2 + Abs(L - x_C)**2) - u_y*y_C/sqrt(Abs(y_C)**2 + Abs(L - x_C)**2))/(L*sqrt(Abs(y_C)**2 + Abs(L - x_C)**2))]]), Matrix([\n",
       "[ 0],\n",
       "[-F]]))"
      ]
     },
     "execution_count": 18,
     "metadata": {},
     "output_type": "execute_result"
    }
   ],
   "source": [
    "eq = sp.Eq(f_int, f_ext)\n",
    "eq"
   ]
  },
  {
   "cell_type": "markdown",
   "id": "29e466cf",
   "metadata": {},
   "source": [
    "To analyze the truss, we want to find the displacement `u` that solves this equation.\n",
    "First, let's plug in values for the symbols.\n",
    "\n",
    "For `L`, we'll use the length of a popsicle stick in centimeters, and compute the location of `x_C` and `y_C` accordingly.\n",
    "\n",
    "The cross-sectional area, `A`, is based on the approximate width and thickness of a popsicle stick.\n",
    "\n",
    "The Young's modulus of wood is about 3 gigapascal.\n",
    "\n",
    "Finally, let's suppose the external force is the weight of a one kilogram mass, which is roughly 9.8 N."
   ]
  },
  {
   "cell_type": "code",
   "execution_count": 19,
   "id": "f8f9bcb9",
   "metadata": {},
   "outputs": [],
   "source": [
    "import pint\n",
    "ureg = pint.UnitRegistry()\n",
    "\n",
    "params = {\n",
    "    'L': 15.0 * ureg.cm,\n",
    "    'x_C': 15.0 / 2 * ureg.cm,\n",
    "    'y_C': np.sqrt(3) * 15.0 / 2 * ureg.cm,\n",
    "    'A': 1.0 * ureg.cm * 0.2 * ureg.cm,\n",
    "    'E_CA': 3.0e9 * ureg.Pa,\n",
    "    'E_CB': 2.0e9 * ureg.Pa,\n",
    "    'F': 9.8 * ureg.newton,\n",
    "}"
   ]
  },
  {
   "cell_type": "markdown",
   "id": "ec172150",
   "metadata": {},
   "source": [
    "To substitute these values into the equation, we'll use this function, which makes a dictionary to map from symbols to their values."
   ]
  },
  {
   "cell_type": "code",
   "execution_count": 20,
   "id": "12888d18",
   "metadata": {},
   "outputs": [],
   "source": [
    "def make_subs(symbols, params):\n",
    "    \"\"\"Make a dictionary that maps from symbols to quantities.\"\"\"\n",
    "    return {sym: params[sym.name].to_base_units().magnitude \n",
    "            for sym in symbols}"
   ]
  },
  {
   "cell_type": "markdown",
   "id": "7f64250a",
   "metadata": {},
   "source": [
    "Now we can express the equation numerically."
   ]
  },
  {
   "cell_type": "code",
   "execution_count": 21,
   "id": "7823b73e",
   "metadata": {},
   "outputs": [
    {
     "data": {
      "text/latex": [
       "$\\displaystyle \\left[\\begin{matrix}- 166666.666666667 u_{x} - 57735.0269189626 u_{y}\\\\- 57735.0269189626 u_{x} - 500000.0 u_{y}\\end{matrix}\\right] = \\left[\\begin{matrix}0\\\\-9.8\\end{matrix}\\right]$"
      ],
      "text/plain": [
       "Eq(Matrix([\n",
       "[-166666.666666667*u_x - 57735.0269189626*u_y],\n",
       "[        -57735.0269189626*u_x - 500000.0*u_y]]), Matrix([\n",
       "[   0],\n",
       "[-9.8]]))"
      ]
     },
     "execution_count": 21,
     "metadata": {},
     "output_type": "execute_result"
    }
   ],
   "source": [
    "syms = [L, x_C, y_C, A, E_CA, E_CB, F]\n",
    "subs = make_subs(syms, params)\n",
    "\n",
    "eqs_num = eq.subs(subs)\n",
    "eqs_num"
   ]
  },
  {
   "cell_type": "code",
   "execution_count": 22,
   "id": "354f1d41",
   "metadata": {},
   "outputs": [
    {
     "data": {
      "text/plain": [
       "{u_x: -7.07254079757292e-6, u_y: 2.04166666666667e-5}"
      ]
     },
     "execution_count": 22,
     "metadata": {},
     "output_type": "execute_result"
    }
   ],
   "source": [
    "from sympy import solve\n",
    "\n",
    "sol = solve(eqs_num, (u_x, u_y))\n",
    "sol"
   ]
  },
  {
   "cell_type": "markdown",
   "id": "090af1d5",
   "metadata": {},
   "source": [
    "## The Stiffness Mutrix\n",
    "\n",
    "In the previous section, we wrote a vector equation with external force on the right and internal force on the left.\n",
    "The SciPy `solve` function can solve the equation in this form, so it's sufficient to analyze the truss.  [TODO: Does solve have to rewrite it us a matrix equation?]\n",
    "\n",
    "To write the left side us a matrix-vector product, we could factor out `u_x` and `u_y`.\n",
    "Or we can go back and write it that way in the first place.\n",
    "To do that, let's rethink the scalar projection.\n",
    "\n",
    "$$\\mathrm{proj}_{r} u = \\hat{r}\\, \\hat{r}^T u$$\n",
    "\n",
    "\n",
    "In `vector_projection`, we computed the scalar projection `r_hat.T u` first, to get the magnitude of the projection of `u` in the direction of `r`, and then multiplied by `r_hat`.\n",
    "In other words, we evaluated the vector projection like this:\n",
    "\n",
    "$$\\mathrm{proj}_{r} u = \\hat{r}\\, (\\hat{r}^T u)$$\n",
    "\n",
    "As an alternative, we could have multiplied `r_hat` and `r_hat.T` first, like this:\n",
    "\n",
    "$$\\mathrm{proj}_{r} u = (\\hat{r}\\, \\hat{r}^T) u$$\n",
    "\n",
    "If `r_hat` is a column vector, the product of `r_hat` and `r_hat.T` is a matrix called a **projector**, which we can compute like this."
   ]
  },
  {
   "cell_type": "code",
   "execution_count": 23,
   "id": "ca06180b",
   "metadata": {},
   "outputs": [],
   "source": [
    "def projector(r):\n",
    "    rhat = r.normalized()\n",
    "    return rhat * rhat.T"
   ]
  },
  {
   "cell_type": "markdown",
   "id": "582e51bc",
   "metadata": {},
   "source": [
    "As an example, here's the projector matrix for the vector `r_CA`."
   ]
  },
  {
   "cell_type": "code",
   "execution_count": 24,
   "id": "4b96ee8e",
   "metadata": {},
   "outputs": [
    {
     "data": {
      "text/latex": [
       "$\\displaystyle \\left[\\begin{matrix}\\frac{x_{C}^{2}}{\\left|{x_{C}}\\right|^{2} + \\left|{y_{C}}\\right|^{2}} & \\frac{x_{C} y_{C}}{\\left|{x_{C}}\\right|^{2} + \\left|{y_{C}}\\right|^{2}}\\\\\\frac{x_{C} y_{C}}{\\left|{x_{C}}\\right|^{2} + \\left|{y_{C}}\\right|^{2}} & \\frac{y_{C}^{2}}{\\left|{x_{C}}\\right|^{2} + \\left|{y_{C}}\\right|^{2}}\\end{matrix}\\right]$"
      ],
      "text/plain": [
       "Matrix([\n",
       "[ x_C**2/(Abs(x_C)**2 + Abs(y_C)**2), x_C*y_C/(Abs(x_C)**2 + Abs(y_C)**2)],\n",
       "[x_C*y_C/(Abs(x_C)**2 + Abs(y_C)**2),  y_C**2/(Abs(x_C)**2 + Abs(y_C)**2)]])"
      ]
     },
     "execution_count": 24,
     "metadata": {},
     "output_type": "execute_result"
    }
   ],
   "source": [
    "P_CA = projector(r_CA)\n",
    "P_CA"
   ]
  },
  {
   "cell_type": "markdown",
   "id": "e6f88910",
   "metadata": {},
   "source": [
    "Now if we multiply `P_CA` and `u`, the result is the vector projection of `u_C` onto `r_CA`."
   ]
  },
  {
   "cell_type": "code",
   "execution_count": 25,
   "id": "ff125cd8",
   "metadata": {},
   "outputs": [
    {
     "data": {
      "text/latex": [
       "$\\displaystyle \\left[\\begin{matrix}\\frac{u_{x} x_{C}^{2}}{\\left|{x_{C}}\\right|^{2} + \\left|{y_{C}}\\right|^{2}} + \\frac{u_{y} x_{C} y_{C}}{\\left|{x_{C}}\\right|^{2} + \\left|{y_{C}}\\right|^{2}}\\\\\\frac{u_{x} x_{C} y_{C}}{\\left|{x_{C}}\\right|^{2} + \\left|{y_{C}}\\right|^{2}} + \\frac{u_{y} y_{C}^{2}}{\\left|{x_{C}}\\right|^{2} + \\left|{y_{C}}\\right|^{2}}\\end{matrix}\\right]$"
      ],
      "text/plain": [
       "Matrix([\n",
       "[u_x*x_C**2/(Abs(x_C)**2 + Abs(y_C)**2) + u_y*x_C*y_C/(Abs(x_C)**2 + Abs(y_C)**2)],\n",
       "[u_x*x_C*y_C/(Abs(x_C)**2 + Abs(y_C)**2) + u_y*y_C**2/(Abs(x_C)**2 + Abs(y_C)**2)]])"
      ]
     },
     "execution_count": 25,
     "metadata": {},
     "output_type": "execute_result"
    }
   ],
   "source": [
    "P_CA * u_C"
   ]
  },
  {
   "cell_type": "markdown",
   "id": "d4ee0f17",
   "metadata": {},
   "source": [
    "But let's not combine `P_CA` and `U_C` yet; instead, we'll compute the projector matrix for the other element of the truss, `P_CB`."
   ]
  },
  {
   "cell_type": "code",
   "execution_count": 26,
   "id": "5be912b0",
   "metadata": {},
   "outputs": [],
   "source": [
    "P_CB = projector(r_CB)"
   ]
  },
  {
   "cell_type": "markdown",
   "id": "764d92e1",
   "metadata": {},
   "source": [
    "If we multiply a projector matrix by the spring constant `k`, the result is a **stiffness matrix**.\n",
    "So `k_CA * P_CA` is the stiffness matrix due to the truss element `CA` and\n",
    "`k_CB * P_CB` is the stiffness matrix due to the truss element `CB`.\n",
    "Their sum is the stiffness matrix for the whole truss, which we'll call `K`.\n"
   ]
  },
  {
   "cell_type": "code",
   "execution_count": 27,
   "id": "40c23e9c",
   "metadata": {},
   "outputs": [
    {
     "data": {
      "text/latex": [
       "$\\displaystyle \\left[\\begin{matrix}\\frac{A E_{CA} x_{C}^{2}}{L \\left(\\left|{x_{C}}\\right|^{2} + \\left|{y_{C}}\\right|^{2}\\right)} + \\frac{A E_{CB} \\left(L - x_{C}\\right)^{2}}{L \\left(\\left|{y_{C}}\\right|^{2} + \\left|{L - x_{C}}\\right|^{2}\\right)} & \\frac{A E_{CA} x_{C} y_{C}}{L \\left(\\left|{x_{C}}\\right|^{2} + \\left|{y_{C}}\\right|^{2}\\right)} - \\frac{A E_{CB} y_{C} \\left(L - x_{C}\\right)}{L \\left(\\left|{y_{C}}\\right|^{2} + \\left|{L - x_{C}}\\right|^{2}\\right)}\\\\\\frac{A E_{CA} x_{C} y_{C}}{L \\left(\\left|{x_{C}}\\right|^{2} + \\left|{y_{C}}\\right|^{2}\\right)} - \\frac{A E_{CB} y_{C} \\left(L - x_{C}\\right)}{L \\left(\\left|{y_{C}}\\right|^{2} + \\left|{L - x_{C}}\\right|^{2}\\right)} & \\frac{A E_{CA} y_{C}^{2}}{L \\left(\\left|{x_{C}}\\right|^{2} + \\left|{y_{C}}\\right|^{2}\\right)} + \\frac{A E_{CB} y_{C}^{2}}{L \\left(\\left|{y_{C}}\\right|^{2} + \\left|{L - x_{C}}\\right|^{2}\\right)}\\end{matrix}\\right]$"
      ],
      "text/plain": [
       "Matrix([\n",
       "[  A*E_CA*x_C**2/(L*(Abs(x_C)**2 + Abs(y_C)**2)) + A*E_CB*(L - x_C)**2/(L*(Abs(y_C)**2 + Abs(L - x_C)**2)), A*E_CA*x_C*y_C/(L*(Abs(x_C)**2 + Abs(y_C)**2)) - A*E_CB*y_C*(L - x_C)/(L*(Abs(y_C)**2 + Abs(L - x_C)**2))],\n",
       "[A*E_CA*x_C*y_C/(L*(Abs(x_C)**2 + Abs(y_C)**2)) - A*E_CB*y_C*(L - x_C)/(L*(Abs(y_C)**2 + Abs(L - x_C)**2)),         A*E_CA*y_C**2/(L*(Abs(x_C)**2 + Abs(y_C)**2)) + A*E_CB*y_C**2/(L*(Abs(y_C)**2 + Abs(L - x_C)**2))]])"
      ]
     },
     "execution_count": 27,
     "metadata": {},
     "output_type": "execute_result"
    }
   ],
   "source": [
    "K = k_CA * P_CA + k_CB * P_CB\n",
    "K"
   ]
  },
  {
   "cell_type": "markdown",
   "id": "0a798217",
   "metadata": {},
   "source": [
    "To convert `K` to a NumPy array, we'll use the following function."
   ]
  },
  {
   "cell_type": "code",
   "execution_count": 28,
   "id": "af9b9075",
   "metadata": {},
   "outputs": [],
   "source": [
    "def sympy_to_numpy(expr, subs):\n",
    "    return np.array(expr.subs(subs), dtype=float)"
   ]
  },
  {
   "cell_type": "markdown",
   "id": "3b75c4dc",
   "metadata": {},
   "source": [
    "Here's `K` in numerical form."
   ]
  },
  {
   "cell_type": "code",
   "execution_count": 29,
   "id": "cb835d01",
   "metadata": {},
   "outputs": [
    {
     "data": {
      "text/plain": [
       "array([[166666.66666667,  57735.02691896],\n",
       "       [ 57735.02691896, 500000.        ]])"
      ]
     },
     "execution_count": 29,
     "metadata": {},
     "output_type": "execute_result"
    }
   ],
   "source": [
    "K_np = sympy_to_numpy(K, subs)\n",
    "K_np"
   ]
  },
  {
   "cell_type": "markdown",
   "id": "0411623b",
   "metadata": {},
   "source": [
    "If we multiply `K` by a displacement vector, the result is a force vector that represents the internal force due to that displacement.\n",
    "So one way to interpret the stiffness matrix is to test it with small displacements.\n",
    "Here's an example where we displace `C` by one micrometer in the `x` direction."
   ]
  },
  {
   "cell_type": "code",
   "execution_count": 30,
   "id": "0050b96f",
   "metadata": {},
   "outputs": [
    {
     "data": {
      "text/plain": [
       "array([-0.16666667, -0.05773503])"
      ]
     },
     "execution_count": 30,
     "metadata": {},
     "output_type": "execute_result"
    }
   ],
   "source": [
    "u_example1 = np.array([1, 0]) * 1e-6\n",
    "f_example1 = -K_np @ u_example1\n",
    "f_example1"
   ]
  },
  {
   "cell_type": "markdown",
   "id": "a62766eb",
   "metadata": {},
   "source": [
    "The restoring force is about 0.17 N in the negative `x` direction and 0.057 N in the negative `y` direction.\n",
    "And here's an example where we displace `C` by one micrometer in the `y` direction."
   ]
  },
  {
   "cell_type": "code",
   "execution_count": 31,
   "id": "64bd18c0",
   "metadata": {},
   "outputs": [
    {
     "data": {
      "text/plain": [
       "array([-0.05773503, -0.5       ])"
      ]
     },
     "execution_count": 31,
     "metadata": {},
     "output_type": "execute_result"
    }
   ],
   "source": [
    "u_example2 = np.array([0, 1]) * 1e-6\n",
    "f_example2 = -K_np @ u_example2\n",
    "f_example2"
   ]
  },
  {
   "cell_type": "markdown",
   "id": "2c3f6f24",
   "metadata": {},
   "source": [
    "The restoring force is about 0.057 N in the negative `x` direction and 0.5 N in the negative `y` direction.\n",
    "Comparing the magnitudes of these forces, we can see that this truss is stiffer in the `y` direction than in the `x`, by a factor of almost 3."
   ]
  },
  {
   "cell_type": "code",
   "execution_count": 32,
   "id": "15f82426",
   "metadata": {},
   "outputs": [
    {
     "data": {
      "text/plain": [
       "2.8535691936340255"
      ]
     },
     "execution_count": 32,
     "metadata": {},
     "output_type": "execute_result"
    }
   ],
   "source": [
    "from scipy.linalg import norm\n",
    "\n",
    "norm(f_example2) / norm(f_example1)"
   ]
  },
  {
   "cell_type": "code",
   "execution_count": 33,
   "id": "ef4b11e9",
   "metadata": {},
   "outputs": [
    {
     "data": {
      "text/plain": [
       "array([[ 0. ],\n",
       "       [-9.8]])"
      ]
     },
     "execution_count": 33,
     "metadata": {},
     "output_type": "execute_result"
    }
   ],
   "source": [
    "F_ext_np = sympy_to_numpy(f_ext, subs)\n",
    "F_ext_np"
   ]
  },
  {
   "cell_type": "code",
   "execution_count": 34,
   "id": "bc8f0a13",
   "metadata": {},
   "outputs": [
    {
     "data": {
      "text/plain": [
       "array([[ 7.07254080e-06],\n",
       "       [-2.04166667e-05]])"
      ]
     },
     "execution_count": 34,
     "metadata": {},
     "output_type": "execute_result"
    }
   ],
   "source": [
    "from scipy.linalg import solve as np_solve\n",
    "\n",
    "np_solve(K_np, F_ext_np)"
   ]
  },
  {
   "cell_type": "markdown",
   "id": "3ed1326b",
   "metadata": {},
   "source": [
    "## Force Field\n",
    "\n",
    "In the previous section, we used the stiffness matrix to compute the internal force that results from small displacements in the `x` and `y` direction.\n",
    "More generally, we can compute the force that results from any displacement.\n",
    "To demonstrate, we'll make an array of 9 values from -21 to 21 micrometers."
   ]
  },
  {
   "cell_type": "code",
   "execution_count": 35,
   "id": "3cc79fc3",
   "metadata": {},
   "outputs": [
    {
     "data": {
      "text/plain": [
       "array([-2.0e-05, -1.5e-05, -1.0e-05, -5.0e-06,  0.0e+00,  5.0e-06,\n",
       "        1.0e-05,  1.5e-05,  2.0e-05])"
      ]
     },
     "execution_count": 35,
     "metadata": {},
     "output_type": "execute_result"
    }
   ],
   "source": [
    "scale = 1e-6\n",
    "bound = 20\n",
    "displacements = np.linspace(-bound, bound, 9) * scale\n",
    "displacements"
   ]
  },
  {
   "cell_type": "markdown",
   "id": "1d3b1848",
   "metadata": {},
   "source": [
    "By enumerating all pairs of values, we'll make an array of 81 displacement vectors."
   ]
  },
  {
   "cell_type": "code",
   "execution_count": 36,
   "id": "db005ca6",
   "metadata": {},
   "outputs": [
    {
     "data": {
      "text/plain": [
       "(2, 81)"
      ]
     },
     "execution_count": 36,
     "metadata": {},
     "output_type": "execute_result"
    }
   ],
   "source": [
    "pairs = [(x, y) for x in displacements for y in displacements]\n",
    "U = np.array(pairs).T \n",
    "U.shape"
   ]
  },
  {
   "cell_type": "markdown",
   "id": "cd3dd1e5",
   "metadata": {},
   "source": [
    "`U` is matrix-like in the sense that it has two dimensions, but we are using it as a collection of vectors.\n",
    "If we multiply by the stiffness matrix, we can think of the result as a collection of force vectors."
   ]
  },
  {
   "cell_type": "code",
   "execution_count": 37,
   "id": "00db88fd",
   "metadata": {},
   "outputs": [
    {
     "data": {
      "text/plain": [
       "(2, 81)"
      ]
     },
     "execution_count": 37,
     "metadata": {},
     "output_type": "execute_result"
    }
   ],
   "source": [
    "F_field = -K_np @ U\n",
    "F_field.shape"
   ]
  },
  {
   "cell_type": "markdown",
   "id": "99e86f47",
   "metadata": {},
   "source": [
    "The following figure shows the results.\n",
    "The location of each arrow shows a hypothetical displacement.\n",
    "Each arrow shows the direction and relative magnitude of the resulting force due to displacement.\n",
    "Note that the positions and forces are not in the same units, so the scale of the arrows is arbitrary."
   ]
  },
  {
   "cell_type": "code",
   "execution_count": 38,
   "id": "b75bc84b",
   "metadata": {},
   "outputs": [
    {
     "data": {
      "image/png": "[encoded data removed]",
      "text/plain": [
       "<Figure size 375x375 with 1 Axes>"
      ]
     },
     "metadata": {},
     "output_type": "display_data"
    }
   ],
   "source": [
    "from utils import plot_vectors\n",
    "\n",
    "plt.figure(figsize=(5, 5))\n",
    "diagram_truss(nodes, add_pin=False, add_labels=False)\n",
    "\n",
    "options = dict(angles='xy', scale_units='xy', scale=5e-7)\n",
    "\n",
    "plot_vectors(F_field.T, U.T, color='C1', alpha=0.7, **options)\n",
    "\n",
    "plt.gca().set_aspect('equal')\n",
    "\n",
    "lim = scale * (bound + 2)\n",
    "plt.xlim(-lim, lim)\n",
    "plt.ylim(-lim, lim)\n",
    "\n",
    "ticks = np.arange(-20, 21, 5)\n",
    "plt.xticks(displacements, ticks)\n",
    "plt.yticks(displacements, ticks)\n",
    "\n",
    "plt.xlabel('x displacement in $\\mu$m')\n",
    "plt.ylabel('y displacement in $\\mu$m')\n",
    "plt.title('Restoring Force Field: $\\\\mathbf{f} = -\\\\mathbf{K} \\\\mathbf{u}$')\n",
    "plt.grid(True)\n",
    "None"
   ]
  },
  {
   "cell_type": "markdown",
   "id": "1cb42258",
   "metadata": {},
   "source": [
    "Multiplication by `K` is like a function: it takes a displacement vector and returns a corresponding force vector.\n",
    "\n",
    "A function that maps vectors to other vectors is sometimes called a **vector field**.\n",
    "And when those vectors represent forces, we call it a **force field**."
   ]
  },
  {
   "cell_type": "markdown",
   "id": "44c4d4d4",
   "metadata": {},
   "source": [
    "## Warren Trusses\n",
    "\n",
    "So far we've been working with a simple truss with only two elements.\n",
    "It contained only one node that could move, so we could analyze it with a vector equation with only two components.\n",
    "Now let's try something a little harder -- we'll analyze a Warren truss.\n",
    "We'll use NetworkX to represent the nodes and elements of the truss.\n",
    "Then we'll construct a matrix equation that relates the displacements at the nodes to the external forces.\n",
    "\n",
    "We'll use the following function to create a SymPy `Matrix` that represents a vector."
   ]
  },
  {
   "cell_type": "code",
   "execution_count": 39,
   "id": "74dc50bf",
   "metadata": {},
   "outputs": [],
   "source": [
    "def make_vector(x, y, **kwargs):\n",
    "    return sp.Matrix([x, y])"
   ]
  },
  {
   "cell_type": "markdown",
   "id": "943f307d",
   "metadata": {},
   "source": [
    "And we'll use helper functions `gset` and `gget` to set and get attributes of the nodes and edges in a graph.\n",
    "\n"
   ]
  },
  {
   "cell_type": "markdown",
   "id": "8ef1aacc",
   "metadata": {},
   "source": [
    "To specify the structure of the truss, we'll define `N`, which is the number of triangles in the truss, `L`, which is the length of the elements, and `H`, which is the height of the triangles.\n",
    "We'll assume that all elements are the same length, so the triangles are equilateral."
   ]
  },
  {
   "cell_type": "code",
   "execution_count": 40,
   "id": "169ba4ec",
   "metadata": {},
   "outputs": [
    {
     "data": {
      "text/latex": [
       "$\\displaystyle \\frac{\\sqrt{3} L}{2}$"
      ],
      "text/plain": [
       "sqrt(3)*L/2"
      ]
     },
     "execution_count": 40,
     "metadata": {},
     "output_type": "execute_result"
    }
   ],
   "source": [
    "N = 2\n",
    "L = sp.Symbol('L', positive=True)\n",
    "H = L * sp.sqrt(3) / sp.Rational(2)\n",
    "H"
   ]
  },
  {
   "cell_type": "markdown",
   "id": "10a4ec98",
   "metadata": {},
   "source": [
    "Now let's make the graph.\n",
    "To understand the code in this section, you might find it helpful to look ahead to the diagram that shows the results."
   ]
  },
  {
   "cell_type": "code",
   "execution_count": 41,
   "id": "c75e597b",
   "metadata": {},
   "outputs": [],
   "source": [
    "G = nx.Graph()"
   ]
  },
  {
   "cell_type": "markdown",
   "id": "9324d13c",
   "metadata": {},
   "source": [
    "First we'll create the nodes that run along the bottom of the truss and the edges that connect them."
   ]
  },
  {
   "cell_type": "code",
   "execution_count": 42,
   "id": "cd17b4bc",
   "metadata": {},
   "outputs": [],
   "source": [
    "origin = make_vector(0, 0)\n",
    "\n",
    "for i in range(N + 1):\n",
    "    pos = origin + make_vector(i * L, 0)\n",
    "    G.add_node(f'B{i}', pos=pos)\n",
    "    if i > 0:\n",
    "        G.add_edge(f'B{i-1}', f'B{i}')"
   ]
  },
  {
   "cell_type": "markdown",
   "id": "24c85945",
   "metadata": {},
   "source": [
    "The bottom nodes are assigned positions based on `L`, and labeled with strings like `B0`, `B1`, etc.\n",
    "\n",
    "Now we'll add the nodes that run along the top, the horizontal edges that connect them, and the diagonal edges that connect the top and bottom nodes."
   ]
  },
  {
   "cell_type": "code",
   "execution_count": 43,
   "id": "d6342299",
   "metadata": {},
   "outputs": [
    {
     "name": "stdout",
     "output_type": "stream",
     "text": [
      "Matrix([[L/2], [sqrt(3)*L/2]])\n",
      "Matrix([[3*L/2], [sqrt(3)*L/2]])\n"
     ]
    }
   ],
   "source": [
    "for i in range(N):\n",
    "    pos = origin + make_vector((i + sp.Rational(1, 2)) * L, H)\n",
    "    print(pos)\n",
    "    G.add_node(f'T{i}', pos=pos)\n",
    "    G.add_edge(f'B{i}', f'T{i}')\n",
    "    G.add_edge(f'T{i}', f'B{i+1}')\n",
    "\n",
    "    if i > 0:\n",
    "        G.add_edge(f'T{i-1}', f'T{i}')"
   ]
  },
  {
   "cell_type": "markdown",
   "id": "d8ea584b",
   "metadata": {},
   "source": [
    "The top nodes are assigned positions based on `L` and `H`, and labeled `T0`, `T1`, etc.\n",
    "\n",
    "Here's what the graph looks like."
   ]
  },
  {
   "cell_type": "code",
   "execution_count": 44,
   "id": "17cb8ed9",
   "metadata": {},
   "outputs": [],
   "source": [
    "def draw_truss(G, subs, label_nodes=True, **options):\n",
    "    pos = {}\n",
    "    for node in G.nodes:\n",
    "        p = gget(G, node, 'pos')\n",
    "        p = p.subs(subs).evalf()\n",
    "        pos[node] = [float(x) for x in p]\n",
    "\n",
    "    underride(options, edge_color='C0')\n",
    "    nx.draw_networkx_edges(G, pos, width=2, **options)\n",
    "    if label_nodes:\n",
    "        node_options = dict(node_size=1000, node_color='white', edgecolors='C0')\n",
    "        nx.draw_networkx_nodes(G, pos, **node_options)\n",
    "        nx.draw_networkx_labels(G, pos, font_size=11)\n",
    "\n",
    "    plt.gca().set_aspect('equal')\n",
    "    plt.axis('off')"
   ]
  },
  {
   "cell_type": "code",
   "execution_count": 45,
   "id": "5d94a7e7",
   "metadata": {},
   "outputs": [
    {
     "data": {
      "image/png": "[encoded data removed]",
      "text/plain": [
       "<Figure size 450x262.5 with 1 Axes>"
      ]
     },
     "metadata": {},
     "output_type": "display_data"
    }
   ],
   "source": [
    "draw_truss(G, {L: 0.15})"
   ]
  },
  {
   "cell_type": "markdown",
   "id": "b7f1a5fb",
   "metadata": {},
   "source": [
    "We'll assume that the first and last nodes in the bottom row are fixed."
   ]
  },
  {
   "cell_type": "code",
   "execution_count": 46,
   "id": "8914645d",
   "metadata": {},
   "outputs": [],
   "source": [
    "gset(G, fixed=['B0', f'B{N}'])"
   ]
  },
  {
   "cell_type": "markdown",
   "id": "420f32ed",
   "metadata": {},
   "source": [
    "Now we'll loop through the nodes and assign a displacement vector to each one.\n",
    "For the fixed nodes, the components of the displacement vector are 0.\n",
    "For the other nodes, the components are SymPy symbols that represent the unknowns we will solve for."
   ]
  },
  {
   "cell_type": "code",
   "execution_count": 47,
   "id": "10c97a98",
   "metadata": {},
   "outputs": [],
   "source": [
    "for node in G.nodes():\n",
    "    ux, uy = sp.symbols(f'u_{node}_x u_{node}_y')    \n",
    "    disp = make_vector(ux, uy, name=f'u_{node}')\n",
    "    gset(G, node, disp=disp)"
   ]
  },
  {
   "cell_type": "markdown",
   "id": "40467425",
   "metadata": {},
   "source": [
    "For reasons we'll see later, it will be convenient if every node has a unique index starting from `0`:"
   ]
  },
  {
   "cell_type": "code",
   "execution_count": 48,
   "id": "ab05d8d0",
   "metadata": {},
   "outputs": [],
   "source": [
    "for i, node in enumerate(G.nodes):\n",
    "    gset(G, node, index=i)"
   ]
  },
  {
   "cell_type": "markdown",
   "id": "75b80231",
   "metadata": {},
   "source": [
    "For this example, we'll assume that the roadway is attached to the bottom nodes.\n",
    "To keep things simple, we'll ignore the weight of the truss itself and assume that the load it attached to a single node, `B1`.\n",
    "The following loop creates a force vector for each node in the truss and assigns it to an attribute called `f_ext`."
   ]
  },
  {
   "cell_type": "code",
   "execution_count": 49,
   "id": "a91f1534",
   "metadata": {},
   "outputs": [],
   "source": [
    "F = sp.Symbol('F')\n",
    "weighted = ['B1']\n",
    "\n",
    "for node in G.nodes:\n",
    "    if node in weighted:\n",
    "        gset(G, node, f_ext=make_vector(0, -F))\n",
    "    else:\n",
    "        gset(G, node, f_ext=make_vector(0, 0))"
   ]
  },
  {
   "cell_type": "markdown",
   "id": "18aa000a",
   "metadata": {},
   "source": [
    "Finally, for each element of the truss, we'll compute ...\n",
    "\n"
   ]
  },
  {
   "cell_type": "code",
   "execution_count": 50,
   "id": "2444c157",
   "metadata": {},
   "outputs": [],
   "source": [
    "for edge in G.edges:\n",
    "    node1, node2 = edge\n",
    "    x1 = G.nodes[node1]['pos']\n",
    "    x2 = G.nodes[node2]['pos']\n",
    "    r = x2 - x1\n",
    "    P = projector(r)\n",
    "    gset(G, edge, P=P)"
   ]
  },
  {
   "cell_type": "markdown",
   "id": "f40c8684",
   "metadata": {},
   "source": [
    "To keep this example simple, these attributes are the same for every element, but we could easily swap in different values."
   ]
  },
  {
   "cell_type": "markdown",
   "id": "01dcf5ea",
   "metadata": {},
   "source": [
    "## Block Matrix Equation\n",
    "\n",
    "At this point we have a NetworkX graph that represents the nodes and elements of the truss.\n",
    "The next step is to write a matrix equation to relate the unknown displacements to the internal and external forces.\n",
    "To do that, we will construct a **block matrix** which is a way to represent a system of equations where the unknowns are vectors.\n",
    "\n",
    "To show the structure of the problem, we'll start with a vector of displacements, where each displacement is itself a vector."
   ]
  },
  {
   "cell_type": "code",
   "execution_count": 51,
   "id": "a949e272",
   "metadata": {},
   "outputs": [
    {
     "data": {
      "text/latex": [
       "$\\displaystyle \\left[\\begin{matrix}u_{B0}\\\\u_{B1}\\\\u_{B2}\\\\u_{T0}\\\\u_{T1}\\end{matrix}\\right]$"
      ],
      "text/plain": [
       "Matrix([\n",
       "[u_{B0}],\n",
       "[u_{B1}],\n",
       "[u_{B2}],\n",
       "[u_{T0}],\n",
       "[u_{T1}]])"
      ]
     },
     "execution_count": 51,
     "metadata": {},
     "output_type": "execute_result"
    }
   ],
   "source": [
    "blocks = [sp.MatrixSymbol(f'u_{{{node}}}', 2, 1) for node in G.nodes]\n",
    "u_block = sp.BlockMatrix([[u] for u in blocks])\n",
    "u_block"
   ]
  },
  {
   "cell_type": "markdown",
   "id": "f0753b59",
   "metadata": {},
   "source": [
    "And another vector that represents the external forces on the nodes."
   ]
  },
  {
   "cell_type": "code",
   "execution_count": 52,
   "id": "19bd88b7",
   "metadata": {},
   "outputs": [
    {
     "data": {
      "text/latex": [
       "$\\displaystyle \\left[\\begin{matrix}f_{B0}\\\\f_{B1}\\\\f_{B2}\\\\f_{T0}\\\\f_{T1}\\end{matrix}\\right]$"
      ],
      "text/plain": [
       "Matrix([\n",
       "[f_{B0}],\n",
       "[f_{B1}],\n",
       "[f_{B2}],\n",
       "[f_{T0}],\n",
       "[f_{T1}]])"
      ]
     },
     "execution_count": 52,
     "metadata": {},
     "output_type": "execute_result"
    }
   ],
   "source": [
    "blocks = [sp.MatrixSymbol(f'f_{{{node}}}', 2, 1) for node in G.nodes]\n",
    "f_block = sp.BlockMatrix([[f] for f in blocks])\n",
    "f_block"
   ]
  },
  {
   "cell_type": "markdown",
   "id": "773abc7f",
   "metadata": {},
   "source": [
    "Now we'll create a block matrix where each element is a stiffness matrix -- the element $K_{ij}$ represents the stiffness at node $i$ due to its connection to node $j$."
   ]
  },
  {
   "cell_type": "code",
   "execution_count": 53,
   "id": "308120fd",
   "metadata": {},
   "outputs": [],
   "source": [
    "def Ksym(i, j):\n",
    "    return sp.MatrixSymbol(f'K_{i}{j}', 2, 2)"
   ]
  },
  {
   "cell_type": "code",
   "execution_count": 54,
   "id": "4a5e2932",
   "metadata": {},
   "outputs": [
    {
     "data": {
      "text/latex": [
       "$\\displaystyle \\left[\\begin{matrix}K_{00} & K_{01} & K_{02} & K_{03} & K_{04}\\\\K_{10} & K_{11} & K_{12} & K_{13} & K_{14}\\\\K_{20} & K_{21} & K_{22} & K_{23} & K_{24}\\\\K_{30} & K_{31} & K_{32} & K_{33} & K_{34}\\\\K_{40} & K_{41} & K_{42} & K_{43} & K_{44}\\end{matrix}\\right]$"
      ],
      "text/plain": [
       "Matrix([\n",
       "[K_00, K_01, K_02, K_03, K_04],\n",
       "[K_10, K_11, K_12, K_13, K_14],\n",
       "[K_20, K_21, K_22, K_23, K_24],\n",
       "[K_30, K_31, K_32, K_33, K_34],\n",
       "[K_40, K_41, K_42, K_43, K_44]])"
      ]
     },
     "execution_count": 54,
     "metadata": {},
     "output_type": "execute_result"
    }
   ],
   "source": [
    "n = len(G.nodes)\n",
    "blocks = [[Ksym(i, j) for j in range(n)] for i in range(n)]\n",
    "K_block = sp.BlockMatrix(blocks)\n",
    "K_block"
   ]
  },
  {
   "cell_type": "markdown",
   "id": "9c157e37",
   "metadata": {},
   "source": [
    "Here's the matrix equation that relates these elements."
   ]
  },
  {
   "cell_type": "code",
   "execution_count": 55,
   "id": "7ef250be",
   "metadata": {},
   "outputs": [
    {
     "data": {
      "text/latex": [
       "$\\displaystyle \\left[\\begin{matrix}K_{00} & K_{01} & K_{02} & K_{03} & K_{04}\\\\K_{10} & K_{11} & K_{12} & K_{13} & K_{14}\\\\K_{20} & K_{21} & K_{22} & K_{23} & K_{24}\\\\K_{30} & K_{31} & K_{32} & K_{33} & K_{34}\\\\K_{40} & K_{41} & K_{42} & K_{43} & K_{44}\\end{matrix}\\right] \\left[\\begin{matrix}u_{B0}\\\\u_{B1}\\\\u_{B2}\\\\u_{T0}\\\\u_{T1}\\end{matrix}\\right] = \\left[\\begin{matrix}f_{B0}\\\\f_{B1}\\\\f_{B2}\\\\f_{T0}\\\\f_{T1}\\end{matrix}\\right]$"
      ],
      "text/plain": [
       "Eq(Matrix([\n",
       "[K_00, K_01, K_02, K_03, K_04],\n",
       "[K_10, K_11, K_12, K_13, K_14],\n",
       "[K_20, K_21, K_22, K_23, K_24],\n",
       "[K_30, K_31, K_32, K_33, K_34],\n",
       "[K_40, K_41, K_42, K_43, K_44]])*Matrix([\n",
       "[u_{B0}],\n",
       "[u_{B1}],\n",
       "[u_{B2}],\n",
       "[u_{T0}],\n",
       "[u_{T1}]]), Matrix([\n",
       "[f_{B0}],\n",
       "[f_{B1}],\n",
       "[f_{B2}],\n",
       "[f_{T0}],\n",
       "[f_{T1}]]))"
      ]
     },
     "execution_count": 55,
     "metadata": {},
     "output_type": "execute_result"
    }
   ],
   "source": [
    "equation = sp.Eq(K_block * u_block, f_block)\n",
    "equation"
   ]
  },
  {
   "cell_type": "markdown",
   "id": "a61402ef",
   "metadata": {},
   "source": [
    "In an ideal world, we would write the equation this way and solve it, but we don't have solvers that can work on a system where the elements are vectors and matrices.\n",
    "But we can use SymPy's `BlockMatrix` object to construct the system, and then convert it into  a conventional matrix with one row for each component of the unknown displacements."
   ]
  },
  {
   "cell_type": "markdown",
   "id": "417c0ee3",
   "metadata": {},
   "source": [
    "## Compute the Block Matrix\n",
    "\n",
    "To construct the block matrix, we'll loop through the edges and compute a matrix that represents the stiffness of each node due to the nodes it is connected to.\n",
    "We'll start by working through a single example, arbitrarily choosing the edge from `B1` to `T1`.\n",
    "We can use `gget` to get the direction vector and spring constant for this member of the truss."
   ]
  },
  {
   "cell_type": "code",
   "execution_count": 56,
   "id": "57099968",
   "metadata": {},
   "outputs": [
    {
     "data": {
      "text/latex": [
       "$\\displaystyle \\left[\\begin{matrix}\\frac{1}{4} & \\frac{\\sqrt{3}}{4}\\\\\\frac{\\sqrt{3}}{4} & \\frac{3}{4}\\end{matrix}\\right]$"
      ],
      "text/plain": [
       "Matrix([\n",
       "[      1/4, sqrt(3)/4],\n",
       "[sqrt(3)/4,       3/4]])"
      ]
     },
     "execution_count": 56,
     "metadata": {},
     "output_type": "execute_result"
    }
   ],
   "source": [
    "edge = 'B1', 'T1'\n",
    "P = gget(G, edge, \"P\")\n",
    "P"
   ]
  },
  {
   "cell_type": "markdown",
   "id": "730b0c7c",
   "metadata": {},
   "source": [
    "Next we'll get the displacements of the nodes."
   ]
  },
  {
   "cell_type": "code",
   "execution_count": 57,
   "id": "971c1eb5",
   "metadata": {},
   "outputs": [],
   "source": [
    "node1, node2 = edge\n",
    "u1 = gget(G, node1, \"disp\")\n",
    "u2 = gget(G, node2, \"disp\")"
   ]
  },
  {
   "cell_type": "markdown",
   "id": "4a40935a",
   "metadata": {},
   "source": [
    "If both ends of the member are displaced, the total extension or compression is the difference between the displacements, `u1 - u2`.\n",
    "So we can compute the internal force in the member like this."
   ]
  },
  {
   "cell_type": "code",
   "execution_count": 58,
   "id": "b93655b8",
   "metadata": {},
   "outputs": [
    {
     "data": {
      "text/latex": [
       "$\\displaystyle \\left[\\begin{matrix}- \\frac{k \\left(u_{B1 x} - u_{T1 x}\\right)}{4} - \\frac{\\sqrt{3} k \\left(u_{B1 y} - u_{T1 y}\\right)}{4}\\\\- \\frac{\\sqrt{3} k \\left(u_{B1 x} - u_{T1 x}\\right)}{4} - \\frac{3 k \\left(u_{B1 y} - u_{T1 y}\\right)}{4}\\end{matrix}\\right]$"
      ],
      "text/plain": [
       "Matrix([\n",
       "[  -k*(u_B1_x - u_T1_x)/4 - sqrt(3)*k*(u_B1_y - u_T1_y)/4],\n",
       "[-sqrt(3)*k*(u_B1_x - u_T1_x)/4 - 3*k*(u_B1_y - u_T1_y)/4]])"
      ]
     },
     "execution_count": 58,
     "metadata": {},
     "output_type": "execute_result"
    }
   ],
   "source": [
    "k = sp.symbols(\"k\")\n",
    "f_int = -k * P * (u1 - u2)\n",
    "f_int"
   ]
  },
  {
   "cell_type": "markdown",
   "id": "55763e4c",
   "metadata": {},
   "source": [
    "But to construct the block matrix, we'll keep the stiffness matrix and the displacement vector separate, like this:"
   ]
  },
  {
   "cell_type": "code",
   "execution_count": 59,
   "id": "6366933d",
   "metadata": {},
   "outputs": [
    {
     "data": {
      "text/latex": [
       "$\\displaystyle \\left[\\begin{matrix}- \\frac{k}{4} & - \\frac{\\sqrt{3} k}{4}\\\\- \\frac{\\sqrt{3} k}{4} & - \\frac{3 k}{4}\\end{matrix}\\right] \\left[\\begin{matrix}u_{B1 x} - u_{T1 x}\\\\u_{B1 y} - u_{T1 y}\\end{matrix}\\right]$"
      ],
      "text/plain": [
       "Matrix([\n",
       "[        -k/4, -sqrt(3)*k/4],\n",
       "[-sqrt(3)*k/4,       -3*k/4]])*Matrix([\n",
       "[u_B1_x - u_T1_x],\n",
       "[u_B1_y - u_T1_y]])"
      ]
     },
     "execution_count": 59,
     "metadata": {},
     "output_type": "execute_result"
    }
   ],
   "source": [
    "from sympy import MatMul\n",
    "\n",
    "expr = MatMul(-k * P, u1 - u2, evaluate=False)\n",
    "expr"
   ]
  },
  {
   "cell_type": "markdown",
   "id": "36a325f1",
   "metadata": {},
   "source": [
    "Now we're ready to assemble the block matrix.\n",
    "We'll start with a list of lists, where each element is a stiffness matrix full of zeroes.\n",
    "As we loop through the edges, we'll add to these matrices."
   ]
  },
  {
   "cell_type": "code",
   "execution_count": 60,
   "id": "e0abd513",
   "metadata": {},
   "outputs": [],
   "source": [
    "blocks = [[sp.Matrix.zeros(2, 2) for _ in range(n)] for _ in range(n)]"
   ]
  },
  {
   "cell_type": "markdown",
   "id": "8eb37cf1",
   "metadata": {},
   "source": [
    "Now here's the key to the whole operation.\n",
    "We loop through the edges and compute a matrix that represents the stiffness at node `i` due to its connection to `j`.\n",
    "Then we add that matrix to the block ..."
   ]
  },
  {
   "cell_type": "code",
   "execution_count": 61,
   "id": "a4e078a3",
   "metadata": {},
   "outputs": [],
   "source": [
    "def add_block(i, j, kP):\n",
    "    blocks[i][i] +=  kP\n",
    "    blocks[i][j] += -kP"
   ]
  },
  {
   "cell_type": "code",
   "execution_count": 62,
   "id": "8fc146a3",
   "metadata": {},
   "outputs": [],
   "source": [
    "for edge in G.edges:\n",
    "    P = gget(G, edge, \"P\")\n",
    "    \n",
    "    node1, node2 = edge\n",
    "    i = gget(G, node1, 'index')\n",
    "    j = gget(G, node2, 'index')\n",
    "\n",
    "    # Insert contributions for edge (i, j)\n",
    "    add_block(i, j, k * P)\n",
    "    add_block(j, i, k * P)"
   ]
  },
  {
   "cell_type": "code",
   "execution_count": 63,
   "id": "d3e8ee11",
   "metadata": {},
   "outputs": [
    {
     "data": {
      "text/plain": [
       "(10, 10)"
      ]
     },
     "execution_count": 63,
     "metadata": {},
     "output_type": "execute_result"
    }
   ],
   "source": [
    "K_block = sp.BlockMatrix(blocks)\n",
    "K_block.shape"
   ]
  },
  {
   "cell_type": "code",
   "execution_count": 64,
   "id": "e5b09aed",
   "metadata": {},
   "outputs": [
    {
     "data": {
      "text/plain": [
       "(10, 10)"
      ]
     },
     "execution_count": 64,
     "metadata": {},
     "output_type": "execute_result"
    }
   ],
   "source": [
    "K_block.shape"
   ]
  },
  {
   "cell_type": "code",
   "execution_count": 65,
   "id": "8bb1fdb3",
   "metadata": {},
   "outputs": [],
   "source": [
    "def factor_block_matrix(K, factor):\n",
    "    \"\"\"\n",
    "    Given a block matrix and a scalar factor,\n",
    "    return an expression of the form: (factor) * normalized_matrix\n",
    "\n",
    "    Args:\n",
    "        K: block matrix\n",
    "        factor: scalar SymPy expression to factor out (e.g., k/4)\n",
    "\n",
    "    Returns:\n",
    "        A SymPy Expr object showing the factorized matrix\n",
    "    \"\"\"\n",
    "    rows, cols = K.blockshape\n",
    "    blocks = [[K.blocks[i, j] / factor for i in range(rows)] for j in range(cols)]\n",
    "    K_normalized = sp.BlockMatrix(blocks)\n",
    "    return MatMul(factor, K_normalized, evaluate=False)"
   ]
  },
  {
   "cell_type": "code",
   "execution_count": 66,
   "id": "7ce4ee17",
   "metadata": {},
   "outputs": [
    {
     "data": {
      "text/latex": [
       "$\\displaystyle \\frac{k}{4} \\left[\\begin{matrix}\\left[\\begin{matrix}5 & \\sqrt{3}\\\\\\sqrt{3} & 3\\end{matrix}\\right] & \\left[\\begin{matrix}-4 & 0\\\\0 & 0\\end{matrix}\\right] & \\left[\\begin{matrix}0 & 0\\\\0 & 0\\end{matrix}\\right] & \\left[\\begin{matrix}-1 & - \\sqrt{3}\\\\- \\sqrt{3} & -3\\end{matrix}\\right] & \\left[\\begin{matrix}0 & 0\\\\0 & 0\\end{matrix}\\right]\\\\\\left[\\begin{matrix}-4 & 0\\\\0 & 0\\end{matrix}\\right] & \\left[\\begin{matrix}10 & 0\\\\0 & 6\\end{matrix}\\right] & \\left[\\begin{matrix}-4 & 0\\\\0 & 0\\end{matrix}\\right] & \\left[\\begin{matrix}-1 & \\sqrt{3}\\\\\\sqrt{3} & -3\\end{matrix}\\right] & \\left[\\begin{matrix}-1 & - \\sqrt{3}\\\\- \\sqrt{3} & -3\\end{matrix}\\right]\\\\\\left[\\begin{matrix}0 & 0\\\\0 & 0\\end{matrix}\\right] & \\left[\\begin{matrix}-4 & 0\\\\0 & 0\\end{matrix}\\right] & \\left[\\begin{matrix}5 & - \\sqrt{3}\\\\- \\sqrt{3} & 3\\end{matrix}\\right] & \\left[\\begin{matrix}0 & 0\\\\0 & 0\\end{matrix}\\right] & \\left[\\begin{matrix}-1 & \\sqrt{3}\\\\\\sqrt{3} & -3\\end{matrix}\\right]\\\\\\left[\\begin{matrix}-1 & - \\sqrt{3}\\\\- \\sqrt{3} & -3\\end{matrix}\\right] & \\left[\\begin{matrix}-1 & \\sqrt{3}\\\\\\sqrt{3} & -3\\end{matrix}\\right] & \\left[\\begin{matrix}0 & 0\\\\0 & 0\\end{matrix}\\right] & \\left[\\begin{matrix}6 & 0\\\\0 & 6\\end{matrix}\\right] & \\left[\\begin{matrix}-4 & 0\\\\0 & 0\\end{matrix}\\right]\\\\\\left[\\begin{matrix}0 & 0\\\\0 & 0\\end{matrix}\\right] & \\left[\\begin{matrix}-1 & - \\sqrt{3}\\\\- \\sqrt{3} & -3\\end{matrix}\\right] & \\left[\\begin{matrix}-1 & \\sqrt{3}\\\\\\sqrt{3} & -3\\end{matrix}\\right] & \\left[\\begin{matrix}-4 & 0\\\\0 & 0\\end{matrix}\\right] & \\left[\\begin{matrix}6 & 0\\\\0 & 6\\end{matrix}\\right]\\end{matrix}\\right]$"
      ],
      "text/plain": [
       "(k/4)*Matrix([\n",
       "[    Matrix([\n",
       "[      5, sqrt(3)],\n",
       "[sqrt(3),       3]]),                           Matrix([\n",
       "[-4, 0],\n",
       "[ 0, 0]]),                             Matrix([\n",
       "[0, 0],\n",
       "[0, 0]]), Matrix([\n",
       "[      -1, -sqrt(3)],\n",
       "[-sqrt(3),       -3]]),                             Matrix([\n",
       "[0, 0],\n",
       "[0, 0]])],\n",
       "[                          Matrix([\n",
       "[-4, 0],\n",
       "[ 0, 0]]),                           Matrix([\n",
       "[10, 0],\n",
       "[ 0, 6]]),                           Matrix([\n",
       "[-4, 0],\n",
       "[ 0, 0]]),     Matrix([\n",
       "[     -1, sqrt(3)],\n",
       "[sqrt(3),      -3]]), Matrix([\n",
       "[      -1, -sqrt(3)],\n",
       "[-sqrt(3),       -3]])],\n",
       "[                            Matrix([\n",
       "[0, 0],\n",
       "[0, 0]]),                           Matrix([\n",
       "[-4, 0],\n",
       "[ 0, 0]]), Matrix([\n",
       "[       5, -sqrt(3)],\n",
       "[-sqrt(3),        3]]),                             Matrix([\n",
       "[0, 0],\n",
       "[0, 0]]),     Matrix([\n",
       "[     -1, sqrt(3)],\n",
       "[sqrt(3),      -3]])],\n",
       "[Matrix([\n",
       "[      -1, -sqrt(3)],\n",
       "[-sqrt(3),       -3]]),     Matrix([\n",
       "[     -1, sqrt(3)],\n",
       "[sqrt(3),      -3]]),                             Matrix([\n",
       "[0, 0],\n",
       "[0, 0]]),                             Matrix([\n",
       "[6, 0],\n",
       "[0, 6]]),                           Matrix([\n",
       "[-4, 0],\n",
       "[ 0, 0]])],\n",
       "[                            Matrix([\n",
       "[0, 0],\n",
       "[0, 0]]), Matrix([\n",
       "[      -1, -sqrt(3)],\n",
       "[-sqrt(3),       -3]]),     Matrix([\n",
       "[     -1, sqrt(3)],\n",
       "[sqrt(3),      -3]]),                           Matrix([\n",
       "[-4, 0],\n",
       "[ 0, 0]]),                             Matrix([\n",
       "[6, 0],\n",
       "[0, 6]])]])"
      ]
     },
     "execution_count": 66,
     "metadata": {},
     "output_type": "execute_result"
    }
   ],
   "source": [
    "factor_block_matrix(K_block, factor=k/4)"
   ]
  },
  {
   "cell_type": "markdown",
   "id": "51d56b4f",
   "metadata": {},
   "source": [
    "## Shift and Rotate\n",
    "\n",
    "At this point we have a block matrix with five columns, one for each displacement, and five rows, representing five equations.\n",
    "So if we are given five external forces, it's tempting to think that we could solve for the unknown displacements.\n",
    "But we can't, because the stiffness matrix we assembled does not have full rank.\n",
    "\n"
   ]
  },
  {
   "cell_type": "code",
   "execution_count": 67,
   "id": "ecb4559d",
   "metadata": {},
   "outputs": [
    {
     "data": {
      "text/plain": [
       "(10, 10)"
      ]
     },
     "execution_count": 67,
     "metadata": {},
     "output_type": "execute_result"
    }
   ],
   "source": [
    "K = sp.BlockMatrix(blocks).as_explicit()\n",
    "K.shape"
   ]
  },
  {
   "cell_type": "code",
   "execution_count": 68,
   "id": "fde11e1e",
   "metadata": {},
   "outputs": [
    {
     "data": {
      "text/plain": [
       "7"
      ]
     },
     "execution_count": 68,
     "metadata": {},
     "output_type": "execute_result"
    }
   ],
   "source": [
    "K.rank()"
   ]
  },
  {
   "cell_type": "code",
   "execution_count": 69,
   "id": "5942b390",
   "metadata": {},
   "outputs": [],
   "source": [
    "nullspace = K.nullspace()"
   ]
  },
  {
   "cell_type": "code",
   "execution_count": 70,
   "id": "f1c85051",
   "metadata": {},
   "outputs": [
    {
     "data": {
      "text/latex": [
       "$\\displaystyle \\left[\\begin{matrix}1 & 0 & 1 & 0 & 1 & 0 & 1 & 0 & 1 & 0\\end{matrix}\\right]$"
      ],
      "text/plain": [
       "Matrix([[1, 0, 1, 0, 1, 0, 1, 0, 1, 0]])"
      ]
     },
     "execution_count": 70,
     "metadata": {},
     "output_type": "execute_result"
    }
   ],
   "source": [
    "nullspace[1].transpose()"
   ]
  },
  {
   "cell_type": "code",
   "execution_count": 71,
   "id": "cd592401",
   "metadata": {},
   "outputs": [
    {
     "data": {
      "text/latex": [
       "$\\displaystyle \\left[\\begin{matrix}0 & 1 & 0 & 1 & 0 & 1 & 0 & 1 & 0 & 1\\end{matrix}\\right]$"
      ],
      "text/plain": [
       "Matrix([[0, 1, 0, 1, 0, 1, 0, 1, 0, 1]])"
      ]
     },
     "execution_count": 71,
     "metadata": {},
     "output_type": "execute_result"
    }
   ],
   "source": [
    "(nullspace[0] + nullspace[2]).transpose()"
   ]
  },
  {
   "cell_type": "code",
   "execution_count": 72,
   "id": "7c6dfa0e",
   "metadata": {},
   "outputs": [
    {
     "data": {
      "text/latex": [
       "$\\displaystyle \\left[\\begin{matrix}- \\sqrt{3} & 2 & - \\sqrt{3} & 0 & - \\sqrt{3} & -2 & 0 & 1 & 0 & -1\\end{matrix}\\right]$"
      ],
      "text/plain": [
       "Matrix([[-sqrt(3), 2, -sqrt(3), 0, -sqrt(3), -2, 0, 1, 0, -1]])"
      ]
     },
     "execution_count": 72,
     "metadata": {},
     "output_type": "execute_result"
    }
   ],
   "source": [
    "v_null = (nullspace[0] - nullspace[2]).transpose()\n",
    "v_null"
   ]
  },
  {
   "cell_type": "code",
   "execution_count": 73,
   "id": "e42f77a2",
   "metadata": {},
   "outputs": [],
   "source": [
    "def get_block_vector(G, attr, keep):\n",
    "    blocks = [gget(G, node, attr) for node in G.nodes]\n",
    "    blocks_reduced = [[blocks[i]] for i in keep]\n",
    "    return sp.BlockMatrix(blocks_reduced)"
   ]
  },
  {
   "cell_type": "code",
   "execution_count": 74,
   "id": "3a11039d",
   "metadata": {},
   "outputs": [
    {
     "data": {
      "text/latex": [
       "$\\displaystyle \\left[\\begin{matrix}\\left[\\begin{matrix}u_{B0 x}\\\\u_{B0 y}\\end{matrix}\\right]\\\\\\left[\\begin{matrix}u_{B1 x}\\\\u_{B1 y}\\end{matrix}\\right]\\\\\\left[\\begin{matrix}u_{B2 x}\\\\u_{B2 y}\\end{matrix}\\right]\\\\\\left[\\begin{matrix}u_{T0 x}\\\\u_{T0 y}\\end{matrix}\\right]\\\\\\left[\\begin{matrix}u_{T1 x}\\\\u_{T1 y}\\end{matrix}\\right]\\end{matrix}\\right]$"
      ],
      "text/plain": [
       "Matrix([\n",
       "[Matrix([\n",
       "[u_B0_x],\n",
       "[u_B0_y]])],\n",
       "[Matrix([\n",
       "[u_B1_x],\n",
       "[u_B1_y]])],\n",
       "[Matrix([\n",
       "[u_B2_x],\n",
       "[u_B2_y]])],\n",
       "[Matrix([\n",
       "[u_T0_x],\n",
       "[u_T0_y]])],\n",
       "[Matrix([\n",
       "[u_T1_x],\n",
       "[u_T1_y]])]])"
      ]
     },
     "execution_count": 74,
     "metadata": {},
     "output_type": "execute_result"
    }
   ],
   "source": [
    "u_block = get_block_vector(G, 'disp', [0,1,2,3,4])\n",
    "u_block"
   ]
  },
  {
   "cell_type": "code",
   "execution_count": 75,
   "id": "1e834d97",
   "metadata": {},
   "outputs": [],
   "source": [
    "sol = dict(zip(u_block.as_explicit(), v_null))"
   ]
  },
  {
   "cell_type": "code",
   "execution_count": 76,
   "id": "c0b0fd38",
   "metadata": {},
   "outputs": [],
   "source": [
    "def make_params():\n",
    "    L = 15.0 * ureg.cm\n",
    "    A = 1.0 * ureg.cm * 0.2 * ureg.cm\n",
    "    E = 3.0e9 * ureg.Pa\n",
    "    F = 9.8 * ureg.newton\n",
    "    k = A * E / L\n",
    "\n",
    "    return {\n",
    "        'L': L,\n",
    "        'A': A,\n",
    "        'E': E,\n",
    "        'k': k,\n",
    "        'F': F,\n",
    "    }\n",
    "\n",
    "params = make_params()"
   ]
  },
  {
   "cell_type": "code",
   "execution_count": 77,
   "id": "e6e7d9de",
   "metadata": {},
   "outputs": [],
   "source": [
    "syms = [L, k, F]\n",
    "subs = make_subs(syms, params)"
   ]
  },
  {
   "cell_type": "code",
   "execution_count": 78,
   "id": "c223a357",
   "metadata": {},
   "outputs": [],
   "source": [
    "def displace_truss(G, sol, scale=300):\n",
    "    G_sol = G.copy()\n",
    "\n",
    "    for node in G_sol.nodes:\n",
    "        pos = gget(G_sol, node, 'pos')\n",
    "        u = gget(G_sol, node, 'disp')\n",
    "        u_eval = u.subs(sol).evalf() * scale \n",
    "        gset(G_sol, node, pos=pos + u_eval)\n",
    "\n",
    "    return G_sol"
   ]
  },
  {
   "cell_type": "code",
   "execution_count": 79,
   "id": "0382d3a3",
   "metadata": {},
   "outputs": [],
   "source": [
    "G_sol = displace_truss(G, sol, scale=0.005)"
   ]
  },
  {
   "cell_type": "code",
   "execution_count": 80,
   "id": "4c33570f",
   "metadata": {},
   "outputs": [
    {
     "data": {
      "image/png": "[encoded data removed]",
      "text/plain": [
       "<Figure size 450x262.5 with 1 Axes>"
      ]
     },
     "metadata": {},
     "output_type": "display_data"
    }
   ],
   "source": [
    "draw_truss(G, subs, label_nodes=False, alpha=0.3)\n",
    "draw_truss(G_sol, subs)"
   ]
  },
  {
   "cell_type": "markdown",
   "id": "16dbf45a",
   "metadata": {},
   "source": [
    "## Reduce the Matrix\n"
   ]
  },
  {
   "cell_type": "code",
   "execution_count": 81,
   "id": "247ec1c1",
   "metadata": {},
   "outputs": [],
   "source": [
    "for node in G.nodes():\n",
    "    if node in G.graph['fixed']:\n",
    "        disp = make_vector(0, 0)\n",
    "        gset(G, node, disp=disp)"
   ]
  },
  {
   "cell_type": "code",
   "execution_count": 82,
   "id": "f84b6307",
   "metadata": {},
   "outputs": [
    {
     "data": {
      "text/plain": [
       "[1, 3, 4]"
      ]
     },
     "execution_count": 82,
     "metadata": {},
     "output_type": "execute_result"
    }
   ],
   "source": [
    "keep = [gget(G, node, 'index') \n",
    "        for node in G.nodes \n",
    "        if node not in G.graph['fixed']]\n",
    "\n",
    "keep = [1, 3, 4]\n",
    "keep    "
   ]
  },
  {
   "cell_type": "code",
   "execution_count": 83,
   "id": "9efc78cd",
   "metadata": {},
   "outputs": [],
   "source": [
    "blocks_reduced = [\n",
    "    [blocks[i][j] \n",
    "     for j in keep]\n",
    "     for i in keep\n",
    "]"
   ]
  },
  {
   "cell_type": "code",
   "execution_count": 85,
   "id": "8bc4440d",
   "metadata": {},
   "outputs": [
    {
     "data": {
      "text/latex": [
       "$\\displaystyle \\frac{k}{4} \\left[\\begin{matrix}\\left[\\begin{matrix}10 & 0\\\\0 & 6\\end{matrix}\\right] & \\left[\\begin{matrix}-1 & \\sqrt{3}\\\\\\sqrt{3} & -3\\end{matrix}\\right] & \\left[\\begin{matrix}-1 & - \\sqrt{3}\\\\- \\sqrt{3} & -3\\end{matrix}\\right]\\\\\\left[\\begin{matrix}-1 & \\sqrt{3}\\\\\\sqrt{3} & -3\\end{matrix}\\right] & \\left[\\begin{matrix}6 & 0\\\\0 & 6\\end{matrix}\\right] & \\left[\\begin{matrix}-4 & 0\\\\0 & 0\\end{matrix}\\right]\\\\\\left[\\begin{matrix}-1 & - \\sqrt{3}\\\\- \\sqrt{3} & -3\\end{matrix}\\right] & \\left[\\begin{matrix}-4 & 0\\\\0 & 0\\end{matrix}\\right] & \\left[\\begin{matrix}6 & 0\\\\0 & 6\\end{matrix}\\right]\\end{matrix}\\right]$"
      ],
      "text/plain": [
       "(k/4)*Matrix([\n",
       "[                          Matrix([\n",
       "[10, 0],\n",
       "[ 0, 6]]), Matrix([\n",
       "[     -1, sqrt(3)],\n",
       "[sqrt(3),      -3]]), Matrix([\n",
       "[      -1, -sqrt(3)],\n",
       "[-sqrt(3),       -3]])],\n",
       "[    Matrix([\n",
       "[     -1, sqrt(3)],\n",
       "[sqrt(3),      -3]]),                         Matrix([\n",
       "[6, 0],\n",
       "[0, 6]]),                           Matrix([\n",
       "[-4, 0],\n",
       "[ 0, 0]])],\n",
       "[Matrix([\n",
       "[      -1, -sqrt(3)],\n",
       "[-sqrt(3),       -3]]),                       Matrix([\n",
       "[-4, 0],\n",
       "[ 0, 0]]),                             Matrix([\n",
       "[6, 0],\n",
       "[0, 6]])]])"
      ]
     },
     "execution_count": 85,
     "metadata": {},
     "output_type": "execute_result"
    }
   ],
   "source": [
    "K_block = sp.BlockMatrix(blocks_reduced)\n",
    "factor_block_matrix(K_block, k/4)"
   ]
  },
  {
   "cell_type": "code",
   "execution_count": 86,
   "id": "1a606446",
   "metadata": {},
   "outputs": [],
   "source": [
    "def get_block_vector(G, attr, keep):\n",
    "    blocks = [gget(G, node, attr) for node in G.nodes]\n",
    "    blocks_reduced = [[blocks[i]] for i in keep]\n",
    "    return sp.BlockMatrix(blocks_reduced)"
   ]
  },
  {
   "cell_type": "code",
   "execution_count": 87,
   "id": "caed9c44",
   "metadata": {},
   "outputs": [
    {
     "data": {
      "text/latex": [
       "$\\displaystyle \\left[\\begin{matrix}\\left[\\begin{matrix}u_{B1 x}\\\\u_{B1 y}\\end{matrix}\\right]\\\\\\left[\\begin{matrix}u_{T0 x}\\\\u_{T0 y}\\end{matrix}\\right]\\\\\\left[\\begin{matrix}u_{T1 x}\\\\u_{T1 y}\\end{matrix}\\right]\\end{matrix}\\right]$"
      ],
      "text/plain": [
       "Matrix([\n",
       "[Matrix([\n",
       "[u_B1_x],\n",
       "[u_B1_y]])],\n",
       "[Matrix([\n",
       "[u_T0_x],\n",
       "[u_T0_y]])],\n",
       "[Matrix([\n",
       "[u_T1_x],\n",
       "[u_T1_y]])]])"
      ]
     },
     "execution_count": 87,
     "metadata": {},
     "output_type": "execute_result"
    }
   ],
   "source": [
    "u_block = get_block_vector(G, 'disp', keep)\n",
    "u_block"
   ]
  },
  {
   "cell_type": "code",
   "execution_count": 88,
   "id": "580f15de",
   "metadata": {},
   "outputs": [
    {
     "data": {
      "text/latex": [
       "$\\displaystyle \\left[\\begin{matrix}\\left[\\begin{matrix}0\\\\- F\\end{matrix}\\right]\\\\\\left[\\begin{matrix}0\\\\0\\end{matrix}\\right]\\\\\\left[\\begin{matrix}0\\\\0\\end{matrix}\\right]\\end{matrix}\\right]$"
      ],
      "text/plain": [
       "Matrix([\n",
       "[Matrix([\n",
       "[ 0],\n",
       "[-F]])],\n",
       "[  Matrix([\n",
       "[0],\n",
       "[0]])],\n",
       "[  Matrix([\n",
       "[0],\n",
       "[0]])]])"
      ]
     },
     "execution_count": 88,
     "metadata": {},
     "output_type": "execute_result"
    }
   ],
   "source": [
    "f_block = get_block_vector(G, 'f_ext', keep)\n",
    "f_block"
   ]
  },
  {
   "cell_type": "markdown",
   "id": "d82efabf",
   "metadata": {},
   "source": [
    "## Make the arrays explicit"
   ]
  },
  {
   "cell_type": "code",
   "execution_count": 96,
   "id": "bc4f8d1f",
   "metadata": {},
   "outputs": [
    {
     "data": {
      "text/latex": [
       "$\\displaystyle \\frac{k}{4} \\left[\\begin{matrix}10 & 0 & -1 & \\sqrt{3} & -1 & - \\sqrt{3}\\\\0 & 6 & \\sqrt{3} & -3 & - \\sqrt{3} & -3\\\\-1 & \\sqrt{3} & 6 & 0 & -4 & 0\\\\\\sqrt{3} & -3 & 0 & 6 & 0 & 0\\\\-1 & - \\sqrt{3} & -4 & 0 & 6 & 0\\\\- \\sqrt{3} & -3 & 0 & 0 & 0 & 6\\end{matrix}\\right]$"
      ],
      "text/plain": [
       "(k/4)*Matrix([\n",
       "[      10,        0,      -1, sqrt(3),       -1, -sqrt(3)],\n",
       "[       0,        6, sqrt(3),      -3, -sqrt(3),       -3],\n",
       "[      -1,  sqrt(3),       6,       0,       -4,        0],\n",
       "[ sqrt(3),       -3,       0,       6,        0,        0],\n",
       "[      -1, -sqrt(3),      -4,       0,        6,        0],\n",
       "[-sqrt(3),       -3,       0,       0,        0,        6]])"
      ]
     },
     "execution_count": 96,
     "metadata": {},
     "output_type": "execute_result"
    }
   ],
   "source": [
    "K_dense = K_block.as_explicit()\n",
    "\n",
    "factor = k/4\n",
    "MatMul(k/4, K_dense/factor)"
   ]
  },
  {
   "cell_type": "code",
   "execution_count": 97,
   "id": "e66fff3c",
   "metadata": {},
   "outputs": [],
   "source": [
    "u_dense = u_block.as_explicit()"
   ]
  },
  {
   "cell_type": "code",
   "execution_count": 98,
   "id": "b6468d1b",
   "metadata": {},
   "outputs": [],
   "source": [
    "f_dense = f_block.as_explicit()"
   ]
  },
  {
   "cell_type": "code",
   "execution_count": 99,
   "id": "70c22859",
   "metadata": {},
   "outputs": [
    {
     "data": {
      "text/latex": [
       "$\\displaystyle \\frac{k}{4} \\left[\\begin{matrix}10 & 0 & -1 & \\sqrt{3} & -1 & - \\sqrt{3}\\\\0 & 6 & \\sqrt{3} & -3 & - \\sqrt{3} & -3\\\\-1 & \\sqrt{3} & 6 & 0 & -4 & 0\\\\\\sqrt{3} & -3 & 0 & 6 & 0 & 0\\\\-1 & - \\sqrt{3} & -4 & 0 & 6 & 0\\\\- \\sqrt{3} & -3 & 0 & 0 & 0 & 6\\end{matrix}\\right] \\left[\\begin{matrix}u_{B1 x}\\\\u_{B1 y}\\\\u_{T0 x}\\\\u_{T0 y}\\\\u_{T1 x}\\\\u_{T1 y}\\end{matrix}\\right] = \\left[\\begin{matrix}0\\\\- F\\\\0\\\\0\\\\0\\\\0\\end{matrix}\\right]$"
      ],
      "text/plain": [
       "Eq((k/4)*Matrix([\n",
       "[      10,        0,      -1, sqrt(3),       -1, -sqrt(3)],\n",
       "[       0,        6, sqrt(3),      -3, -sqrt(3),       -3],\n",
       "[      -1,  sqrt(3),       6,       0,       -4,        0],\n",
       "[ sqrt(3),       -3,       0,       6,        0,        0],\n",
       "[      -1, -sqrt(3),      -4,       0,        6,        0],\n",
       "[-sqrt(3),       -3,       0,       0,        0,        6]])*Matrix([\n",
       "[u_B1_x],\n",
       "[u_B1_y],\n",
       "[u_T0_x],\n",
       "[u_T0_y],\n",
       "[u_T1_x],\n",
       "[u_T1_y]]), Matrix([\n",
       "[ 0],\n",
       "[-F],\n",
       "[ 0],\n",
       "[ 0],\n",
       "[ 0],\n",
       "[ 0]]))"
      ]
     },
     "execution_count": 99,
     "metadata": {},
     "output_type": "execute_result"
    }
   ],
   "source": [
    "from sympy import Eq\n",
    "\n",
    "Eq(MatMul(factor, K_dense/factor, u_dense, evaluate=False), f_dense)"
   ]
  },
  {
   "cell_type": "code",
   "execution_count": 100,
   "id": "4b314718",
   "metadata": {},
   "outputs": [],
   "source": [
    "eq = Eq(K_dense * u_dense, f_dense)"
   ]
  },
  {
   "cell_type": "code",
   "execution_count": 101,
   "id": "46f51814",
   "metadata": {},
   "outputs": [],
   "source": [
    "eqs_num = eq.subs(subs)"
   ]
  },
  {
   "cell_type": "code",
   "execution_count": 102,
   "id": "dbc4a70a",
   "metadata": {},
   "outputs": [
    {
     "data": {
      "text/plain": [
       "{u_B1_x: 0.0,\n",
       " u_B1_y: -4.08333333333333e-5,\n",
       " u_T0_x: 7.07254079757292e-6,\n",
       " u_T0_y: -2.04166666666667e-5,\n",
       " u_T1_x: -7.07254079757292e-6,\n",
       " u_T1_y: -2.04166666666667e-5}"
      ]
     },
     "execution_count": 102,
     "metadata": {},
     "output_type": "execute_result"
    }
   ],
   "source": [
    "sol = solve(eqs_num, u_dense)\n",
    "sol"
   ]
  },
  {
   "cell_type": "code",
   "execution_count": 103,
   "id": "5143ceb6",
   "metadata": {},
   "outputs": [
    {
     "data": {
      "text/latex": [
       "$\\displaystyle \\left[\\begin{matrix}\\left[\\begin{matrix}u_{B1 x}\\\\u_{B1 y}\\end{matrix}\\right]\\\\\\left[\\begin{matrix}u_{T0 x}\\\\u_{T0 y}\\end{matrix}\\right]\\\\\\left[\\begin{matrix}u_{T1 x}\\\\u_{T1 y}\\end{matrix}\\right]\\end{matrix}\\right] = \\left[\\begin{matrix}\\left[\\begin{matrix}0.0\\\\-4.08333333333333 \\cdot 10^{-5}\\end{matrix}\\right]\\\\\\left[\\begin{matrix}7.07254079757292 \\cdot 10^{-6}\\\\-2.04166666666667 \\cdot 10^{-5}\\end{matrix}\\right]\\\\\\left[\\begin{matrix}-7.07254079757292 \\cdot 10^{-6}\\\\-2.04166666666667 \\cdot 10^{-5}\\end{matrix}\\right]\\end{matrix}\\right]$"
      ],
      "text/plain": [
       "Eq(Matrix([\n",
       "[Matrix([\n",
       "[u_B1_x],\n",
       "[u_B1_y]])],\n",
       "[Matrix([\n",
       "[u_T0_x],\n",
       "[u_T0_y]])],\n",
       "[Matrix([\n",
       "[u_T1_x],\n",
       "[u_T1_y]])]]), Matrix([\n",
       "[Matrix([\n",
       "[                 0.0],\n",
       "[-4.08333333333333e-5]])],\n",
       "[Matrix([\n",
       "[ 7.07254079757292e-6],\n",
       "[-2.04166666666667e-5]])],\n",
       "[Matrix([\n",
       "[-7.07254079757292e-6],\n",
       "[-2.04166666666667e-5]])]]))"
      ]
     },
     "execution_count": 103,
     "metadata": {},
     "output_type": "execute_result"
    }
   ],
   "source": [
    "Eq(u_block, u_block.subs(sol))"
   ]
  },
  {
   "cell_type": "code",
   "execution_count": 104,
   "id": "00981754",
   "metadata": {},
   "outputs": [
    {
     "data": {
      "image/png": "[encoded data removed]",
      "text/plain": [
       "<Figure size 450x262.5 with 1 Axes>"
      ]
     },
     "metadata": {},
     "output_type": "display_data"
    }
   ],
   "source": [
    "G_sol = displace_truss(G, sol, scale=300)\n",
    "\n",
    "draw_truss(G, subs, label_nodes=False, alpha=0.3)\n",
    "draw_truss(G_sol, subs)"
   ]
  },
  {
   "cell_type": "markdown",
   "id": "7f1e5266",
   "metadata": {},
   "source": [
    "## Discussion\n",
    "\n",
    "When I was an undergraduate, I took a class where we learned to analyze trusses.\n",
    "One of my classmates asked a question that I'm not sure I appreciated at the time, but it has stuck with me.\n",
    "To paraphrase, he asked, \"Do we design trusses because they are optimal, or because they are easy to analyze?\"\n",
    "I have come to realize tat this is a really good question.\n",
    "\n",
    "As you might guess, the answer is both.\n",
    "If your goal is to build a structure that supports a given load with a minimum amount of material, a truss may not be optimal -- with the complexity of real-world requirements and constraints, it's  generally impossible say what \"optimal\" even means.\n",
    "But for many applications, a truss is a fundamentally good design.\n",
    "\n",
    "It is also easy to analyze, but that is not as important as it used to be.\n",
    "Before we had computers, we analyzed structures by hand, so we had to keep them simple.\n",
    "When I was an undergraduate, we had enough compute power and software capability to analyze more complex structures, but what we could design was still limited by what we could analyze.\n",
    "\n",
    "Now it is possible to analyze almost anything we can imagine, so analysis is no longer the limiting factor on what we can design and build.\n",
    "But this is a recent change, and we are only beginning to see its consequences."
   ]
  },
  {
   "cell_type": "markdown",
   "id": "e27da3a4",
   "metadata": {
    "tags": [
     "remove-print"
    ]
   },
   "source": [
    "[Think Linear Algebra](https://allendowney.github.io/ThinkLinearAlgebra/index.html)\n",
    "\n",
    "Copyright 2025 [Allen B. Downey](https://allendowney.com)\n",
    "\n",
    "Code license: [MIT License](https://mit-license.org/)\n",
    "\n",
    "Text license: [Creative Commons Attribution-NonCommercial-ShareAlike 4.0 International](https://creativecommons.org/licenses/by-nc-sa/4.0/)"
   ]
  },
  {
   "cell_type": "code",
   "execution_count": null,
   "id": "c8b4e400-dc97-498e-9016-3e9ef05dc7a3",
   "metadata": {},
   "outputs": [],
   "source": []
  }
 ],
 "metadata": {
  "celltoolbar": "Tags",
  "kernelspec": {
   "display_name": "Python 3 (ipykernel)",
   "language": "python",
   "name": "python3"
  },
  "language_info": {
   "codemirror_mode": {
    "name": "ipython",
    "version": 3
   },
   "file_extension": ".py",
   "mimetype": "text/x-python",
   "name": "python",
   "nbconvert_exporter": "python",
   "pygments_lexer": "ipython3",
   "version": "3.10.16"
  }
 },
 "nbformat": 4,
 "nbformat_minor": 5
}
