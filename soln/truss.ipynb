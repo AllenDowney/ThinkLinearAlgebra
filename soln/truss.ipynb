{
 "cells": [
  {
   "cell_type": "markdown",
   "id": "025b76df",
   "metadata": {},
   "source": [
    "*Think Linear Algebra* is not for sale yet, but if you would like to support this project, you can [buy me a coffee](https://buymeacoffee.com/allendowney)."
   ]
  },
  {
   "cell_type": "markdown",
   "id": "85c30bdb",
   "metadata": {},
   "source": [
    "# Trusses"
   ]
  },
  {
   "cell_type": "markdown",
   "id": "3893fe82",
   "metadata": {
    "tags": [
     "remove-print"
    ]
   },
   "source": [
    "[Click here to run this notebook on Colab](https://colab.research.google.com/github/AllenDowney/ThinkLinearAlgebra/blob/main/nb/nullspace.ipynb)."
   ]
  },
  {
   "cell_type": "code",
   "execution_count": 1,
   "id": "02d400cf",
   "metadata": {
    "tags": [
     "remove-print",
     "hide-cell"
    ]
   },
   "outputs": [],
   "source": [
    "from os.path import basename, exists\n",
    "\n",
    "\n",
    "def download(url):\n",
    "    filename = basename(url)\n",
    "    if not exists(filename):\n",
    "        from urllib.request import urlretrieve\n",
    "\n",
    "        local, _ = urlretrieve(url, filename)\n",
    "        print(\"Downloaded \" + local)\n",
    "\n",
    "\n",
    "download(\"https://github.com/AllenDowney/ThinkLinearAlgebra/raw/main/utils.py\")"
   ]
  },
  {
   "cell_type": "code",
   "execution_count": 2,
   "id": "1a3119be",
   "metadata": {
    "tags": [
     "hide-cell",
     "remove-print"
    ]
   },
   "outputs": [],
   "source": [
    "import networkx as nx\n",
    "import numpy as np\n",
    "import pandas as pd\n",
    "import matplotlib.pyplot as plt\n",
    "import sympy as sp\n",
    "\n",
    "from utils import decorate, underride"
   ]
  },
  {
   "cell_type": "markdown",
   "id": "9ebc865a",
   "metadata": {},
   "source": [
    "## Section"
   ]
  },
  {
   "cell_type": "code",
   "execution_count": 3,
   "id": "2724ec07",
   "metadata": {},
   "outputs": [
    {
     "data": {
      "text/latex": [
       "$\\displaystyle \\left[\\begin{matrix}u_{x}\\\\u_{y}\\end{matrix}\\right]$"
      ],
      "text/plain": [
       "Matrix([\n",
       "[u_x],\n",
       "[u_y]])"
      ]
     },
     "execution_count": 3,
     "metadata": {},
     "output_type": "execute_result"
    }
   ],
   "source": [
    "# --- Imports ---\n",
    "import pint\n",
    "from sympy import symbols, Matrix, sqrt, simplify, Eq, solve\n",
    "\n",
    "# --- Unit setup ---\n",
    "ureg = pint.UnitRegistry()\n",
    "\n",
    "# --- Symbolic variables (global scope) ---\n",
    "L = symbols('L')\n",
    "x_C, y_C = symbols('x_C y_C')\n",
    "E_CA, E_CB = symbols('E_CA E_CB')\n",
    "A_CA, A_CB = symbols('A_CA A_CB')\n",
    "F = symbols('F')\n",
    "u_x, u_y = symbols('u_x u_y')\n",
    "\n",
    "# --- Position vectors of nodes ---\n",
    "pos_A = Matrix([0, 0])\n",
    "pos_B = Matrix([L, 0])\n",
    "pos_C = Matrix([x_C, y_C])\n",
    "\n",
    "# --- Displacement vector at node C ---\n",
    "u_C = Matrix([u_x, u_y])\n",
    "u_C"
   ]
  },
  {
   "cell_type": "code",
   "execution_count": 4,
   "id": "681598e7",
   "metadata": {},
   "outputs": [
    {
     "data": {
      "text/latex": [
       "$\\displaystyle \\frac{A_{CA} E_{CA}}{\\sqrt{\\left|{x_{C}}\\right|^{2} + \\left|{y_{C}}\\right|^{2}}}$"
      ],
      "text/plain": [
       "A_CA*E_CA/sqrt(Abs(x_C)**2 + Abs(y_C)**2)"
      ]
     },
     "execution_count": 4,
     "metadata": {},
     "output_type": "execute_result"
    }
   ],
   "source": [
    "# --- Vectors from node C to A and B ---\n",
    "r_CA = pos_A - pos_C\n",
    "r_CB = pos_B - pos_C\n",
    "\n",
    "# --- Stiffnesses (scalar) ---\n",
    "L_CA = r_CA.norm()\n",
    "L_CB = r_CB.norm()\n",
    "\n",
    "k_CA = E_CA * A_CA / L_CA\n",
    "k_CB = E_CB * A_CB / L_CB\n",
    "k_CA"
   ]
  },
  {
   "cell_type": "code",
   "execution_count": 5,
   "id": "4b96ee8e",
   "metadata": {},
   "outputs": [
    {
     "name": "stdout",
     "output_type": "stream",
     "text": [
      "P_CA (projection onto direction CA):\n"
     ]
    },
    {
     "data": {
      "text/latex": [
       "$\\displaystyle \\left[\\begin{matrix}\\frac{x_{C}^{2}}{\\left|{x_{C}}\\right|^{2} + \\left|{y_{C}}\\right|^{2}} & \\frac{x_{C} y_{C}}{\\left|{x_{C}}\\right|^{2} + \\left|{y_{C}}\\right|^{2}}\\\\\\frac{x_{C} y_{C}}{\\left|{x_{C}}\\right|^{2} + \\left|{y_{C}}\\right|^{2}} & \\frac{y_{C}^{2}}{\\left|{x_{C}}\\right|^{2} + \\left|{y_{C}}\\right|^{2}}\\end{matrix}\\right]$"
      ],
      "text/plain": [
       "Matrix([\n",
       "[ x_C**2/(Abs(x_C)**2 + Abs(y_C)**2), x_C*y_C/(Abs(x_C)**2 + Abs(y_C)**2)],\n",
       "[x_C*y_C/(Abs(x_C)**2 + Abs(y_C)**2),  y_C**2/(Abs(x_C)**2 + Abs(y_C)**2)]])"
      ]
     },
     "metadata": {},
     "output_type": "display_data"
    },
    {
     "name": "stdout",
     "output_type": "stream",
     "text": [
      "P_CB (projection onto direction CB):\n"
     ]
    },
    {
     "data": {
      "text/latex": [
       "$\\displaystyle \\left[\\begin{matrix}\\frac{\\left(L - x_{C}\\right)^{2}}{\\left|{y_{C}}\\right|^{2} + \\left|{L - x_{C}}\\right|^{2}} & - \\frac{y_{C} \\left(L - x_{C}\\right)}{\\left|{y_{C}}\\right|^{2} + \\left|{L - x_{C}}\\right|^{2}}\\\\- \\frac{y_{C} \\left(L - x_{C}\\right)}{\\left|{y_{C}}\\right|^{2} + \\left|{L - x_{C}}\\right|^{2}} & \\frac{y_{C}^{2}}{\\left|{y_{C}}\\right|^{2} + \\left|{L - x_{C}}\\right|^{2}}\\end{matrix}\\right]$"
      ],
      "text/plain": [
       "Matrix([\n",
       "[  (L - x_C)**2/(Abs(y_C)**2 + Abs(L - x_C)**2), -y_C*(L - x_C)/(Abs(y_C)**2 + Abs(L - x_C)**2)],\n",
       "[-y_C*(L - x_C)/(Abs(y_C)**2 + Abs(L - x_C)**2),         y_C**2/(Abs(y_C)**2 + Abs(L - x_C)**2)]])"
      ]
     },
     "metadata": {},
     "output_type": "display_data"
    }
   ],
   "source": [
    "# --- Projector helper ---\n",
    "def projector(r):\n",
    "    rhat = r.normalized()\n",
    "    return rhat * rhat.T\n",
    "\n",
    "# --- Projection matrices ---\n",
    "P_CA = projector(r_CA)\n",
    "P_CB = projector(r_CB)\n",
    "\n",
    "# Optional: display the matrices\n",
    "print(\"P_CA (projection onto direction CA):\")\n",
    "display(P_CA)\n",
    "\n",
    "print(\"P_CB (projection onto direction CB):\")\n",
    "display(P_CB)\n"
   ]
  },
  {
   "cell_type": "code",
   "execution_count": 6,
   "id": "40c23e9c",
   "metadata": {},
   "outputs": [
    {
     "data": {
      "text/latex": [
       "$\\displaystyle \\left[\\begin{matrix}\\frac{A_{CA} E_{CA} x_{C}^{2}}{\\left(\\left|{x_{C}}\\right|^{2} + \\left|{y_{C}}\\right|^{2}\\right)^{\\frac{3}{2}}} + \\frac{A_{CB} E_{CB} \\left(L - x_{C}\\right)^{2}}{\\left(\\left|{y_{C}}\\right|^{2} + \\left|{L - x_{C}}\\right|^{2}\\right)^{\\frac{3}{2}}} & \\frac{A_{CA} E_{CA} x_{C} y_{C}}{\\left(\\left|{x_{C}}\\right|^{2} + \\left|{y_{C}}\\right|^{2}\\right)^{\\frac{3}{2}}} - \\frac{A_{CB} E_{CB} y_{C} \\left(L - x_{C}\\right)}{\\left(\\left|{y_{C}}\\right|^{2} + \\left|{L - x_{C}}\\right|^{2}\\right)^{\\frac{3}{2}}}\\\\\\frac{A_{CA} E_{CA} x_{C} y_{C}}{\\left(\\left|{x_{C}}\\right|^{2} + \\left|{y_{C}}\\right|^{2}\\right)^{\\frac{3}{2}}} - \\frac{A_{CB} E_{CB} y_{C} \\left(L - x_{C}\\right)}{\\left(\\left|{y_{C}}\\right|^{2} + \\left|{L - x_{C}}\\right|^{2}\\right)^{\\frac{3}{2}}} & \\frac{A_{CA} E_{CA} y_{C}^{2}}{\\left(\\left|{x_{C}}\\right|^{2} + \\left|{y_{C}}\\right|^{2}\\right)^{\\frac{3}{2}}} + \\frac{A_{CB} E_{CB} y_{C}^{2}}{\\left(\\left|{y_{C}}\\right|^{2} + \\left|{L - x_{C}}\\right|^{2}\\right)^{\\frac{3}{2}}}\\end{matrix}\\right]$"
      ],
      "text/plain": [
       "Matrix([\n",
       "[  A_CA*E_CA*x_C**2/(Abs(x_C)**2 + Abs(y_C)**2)**(3/2) + A_CB*E_CB*(L - x_C)**2/(Abs(y_C)**2 + Abs(L - x_C)**2)**(3/2), A_CA*E_CA*x_C*y_C/(Abs(x_C)**2 + Abs(y_C)**2)**(3/2) - A_CB*E_CB*y_C*(L - x_C)/(Abs(y_C)**2 + Abs(L - x_C)**2)**(3/2)],\n",
       "[A_CA*E_CA*x_C*y_C/(Abs(x_C)**2 + Abs(y_C)**2)**(3/2) - A_CB*E_CB*y_C*(L - x_C)/(Abs(y_C)**2 + Abs(L - x_C)**2)**(3/2),         A_CA*E_CA*y_C**2/(Abs(x_C)**2 + Abs(y_C)**2)**(3/2) + A_CB*E_CB*y_C**2/(Abs(y_C)**2 + Abs(L - x_C)**2)**(3/2)]])"
      ]
     },
     "execution_count": 6,
     "metadata": {},
     "output_type": "execute_result"
    }
   ],
   "source": [
    "K = k_CA * P_CA + k_CB * P_CB\n",
    "K"
   ]
  },
  {
   "cell_type": "code",
   "execution_count": 7,
   "id": "e96f04e1",
   "metadata": {},
   "outputs": [
    {
     "data": {
      "text/latex": [
       "$\\displaystyle \\left[\\begin{matrix}u_{x} \\left(\\frac{A_{CA} E_{CA} x_{C}^{2}}{\\left(\\left|{x_{C}}\\right|^{2} + \\left|{y_{C}}\\right|^{2}\\right)^{\\frac{3}{2}}} + \\frac{A_{CB} E_{CB} \\left(L - x_{C}\\right)^{2}}{\\left(\\left|{y_{C}}\\right|^{2} + \\left|{L - x_{C}}\\right|^{2}\\right)^{\\frac{3}{2}}}\\right) + u_{y} \\left(\\frac{A_{CA} E_{CA} x_{C} y_{C}}{\\left(\\left|{x_{C}}\\right|^{2} + \\left|{y_{C}}\\right|^{2}\\right)^{\\frac{3}{2}}} - \\frac{A_{CB} E_{CB} y_{C} \\left(L - x_{C}\\right)}{\\left(\\left|{y_{C}}\\right|^{2} + \\left|{L - x_{C}}\\right|^{2}\\right)^{\\frac{3}{2}}}\\right)\\\\u_{x} \\left(\\frac{A_{CA} E_{CA} x_{C} y_{C}}{\\left(\\left|{x_{C}}\\right|^{2} + \\left|{y_{C}}\\right|^{2}\\right)^{\\frac{3}{2}}} - \\frac{A_{CB} E_{CB} y_{C} \\left(L - x_{C}\\right)}{\\left(\\left|{y_{C}}\\right|^{2} + \\left|{L - x_{C}}\\right|^{2}\\right)^{\\frac{3}{2}}}\\right) + u_{y} \\left(\\frac{A_{CA} E_{CA} y_{C}^{2}}{\\left(\\left|{x_{C}}\\right|^{2} + \\left|{y_{C}}\\right|^{2}\\right)^{\\frac{3}{2}}} + \\frac{A_{CB} E_{CB} y_{C}^{2}}{\\left(\\left|{y_{C}}\\right|^{2} + \\left|{L - x_{C}}\\right|^{2}\\right)^{\\frac{3}{2}}}\\right)\\end{matrix}\\right] = \\left[\\begin{matrix}0\\\\- F\\end{matrix}\\right]$"
      ],
      "text/plain": [
       "Eq(Matrix([\n",
       "[u_x*(A_CA*E_CA*x_C**2/(Abs(x_C)**2 + Abs(y_C)**2)**(3/2) + A_CB*E_CB*(L - x_C)**2/(Abs(y_C)**2 + Abs(L - x_C)**2)**(3/2)) + u_y*(A_CA*E_CA*x_C*y_C/(Abs(x_C)**2 + Abs(y_C)**2)**(3/2) - A_CB*E_CB*y_C*(L - x_C)/(Abs(y_C)**2 + Abs(L - x_C)**2)**(3/2))],\n",
       "[      u_x*(A_CA*E_CA*x_C*y_C/(Abs(x_C)**2 + Abs(y_C)**2)**(3/2) - A_CB*E_CB*y_C*(L - x_C)/(Abs(y_C)**2 + Abs(L - x_C)**2)**(3/2)) + u_y*(A_CA*E_CA*y_C**2/(Abs(x_C)**2 + Abs(y_C)**2)**(3/2) + A_CB*E_CB*y_C**2/(Abs(y_C)**2 + Abs(L - x_C)**2)**(3/2))]]), Matrix([\n",
       "[ 0],\n",
       "[-F]]))"
      ]
     },
     "execution_count": 7,
     "metadata": {},
     "output_type": "execute_result"
    }
   ],
   "source": [
    "# External force vector\n",
    "f_ext = Matrix([0, -F])\n",
    "\n",
    "eq = sp.Eq(K * u_C, f_ext)\n",
    "eq"
   ]
  },
  {
   "cell_type": "code",
   "execution_count": 8,
   "id": "c6c69710",
   "metadata": {},
   "outputs": [],
   "source": [
    "# --- Numerical parameters (Pint quantities) ---\n",
    "params = {\n",
    "    'L': 15.0 * ureg.cm,\n",
    "    'x_C': 15.0 / 2 * ureg.cm,\n",
    "    'y_C': np.sqrt(3) * 15.0 / 2 * ureg.cm,\n",
    "    'A_CA': 1.0 * ureg.cm * 0.2 * ureg.cm,\n",
    "    'A_CB': 1.0 * ureg.cm * 0.2 * ureg.cm,\n",
    "    'E_CA': 3.0e9 * ureg.Pa,\n",
    "    'E_CB': 2.0e9 * ureg.Pa,\n",
    "    'F': 9.8 * ureg.newton,\n",
    "}"
   ]
  },
  {
   "cell_type": "code",
   "execution_count": 9,
   "id": "7d9b1201",
   "metadata": {},
   "outputs": [],
   "source": [
    "def make_subs(symbols, quantities):\n",
    "    \"\"\"Make a dictionary that maps from symbols to quantities.\n",
    "    \"\"\"\n",
    "    return {sym: quantities[sym.name].to_base_units().magnitude for sym in symbols}"
   ]
  },
  {
   "cell_type": "code",
   "execution_count": 10,
   "id": "8de0d680",
   "metadata": {},
   "outputs": [
    {
     "data": {
      "text/plain": [
       "{L: 0.15,\n",
       " x_C: 0.075,\n",
       " y_C: np.float64(0.12990381056766578),\n",
       " A_CA: 2e-05,\n",
       " A_CB: 2e-05,\n",
       " E_CA: 3000000000.0,\n",
       " E_CB: 2000000000.0,\n",
       " F: 9.8}"
      ]
     },
     "execution_count": 10,
     "metadata": {},
     "output_type": "execute_result"
    }
   ],
   "source": [
    "symbols_to_sub = [L, x_C, y_C, A_CA, A_CB, E_CA, E_CB, F]\n",
    "subs = make_subs(symbols_to_sub, params)\n",
    "subs"
   ]
  },
  {
   "cell_type": "code",
   "execution_count": 11,
   "id": "cb835d01",
   "metadata": {},
   "outputs": [
    {
     "data": {
      "text/plain": [
       "array([[166666.66666667,  57735.02691896],\n",
       "       [ 57735.02691896, 500000.        ]])"
      ]
     },
     "execution_count": 11,
     "metadata": {},
     "output_type": "execute_result"
    }
   ],
   "source": [
    "def sympy_to_numpy(expr):\n",
    "    \"\"\"\n",
    "    Substitute values into a SymPy expression or matrix and return a NumPy array of floats.\n",
    "\n",
    "    Args:\n",
    "        expr: A SymPy Matrix or expression.\n",
    "\n",
    "    Returns:\n",
    "        NumPy array with float dtype.\n",
    "    \"\"\"\n",
    "    evaluated = expr.evalf()\n",
    "    if isinstance(evaluated, sp.MatrixBase):\n",
    "        return np.array(evaluated.tolist(), dtype=float)\n",
    "    else:\n",
    "        return float(evaluated)\n",
    "\n",
    "\n",
    "K_np = sympy_to_numpy(K.subs(subs))\n",
    "K_np"
   ]
  },
  {
   "cell_type": "markdown",
   "id": "ed238659",
   "metadata": {},
   "source": [
    "Interpret the components."
   ]
  },
  {
   "cell_type": "code",
   "execution_count": 12,
   "id": "0050b96f",
   "metadata": {},
   "outputs": [
    {
     "data": {
      "text/plain": [
       "array([-0.01196613,  9.59585481])"
      ]
     },
     "execution_count": 12,
     "metadata": {},
     "output_type": "execute_result"
    }
   ],
   "source": [
    "u_example = np.array([7, -20]) * 1e-6\n",
    "F_example = -K_np @ u_example\n",
    "F_example"
   ]
  },
  {
   "cell_type": "markdown",
   "id": "0411623b",
   "metadata": {},
   "source": [
    "So multiplying by K is a function that takes a displacement vector and returns a force vector."
   ]
  },
  {
   "cell_type": "code",
   "execution_count": null,
   "id": "8803c586",
   "metadata": {},
   "outputs": [],
   "source": []
  },
  {
   "cell_type": "code",
   "execution_count": 13,
   "id": "ef4b11e9",
   "metadata": {},
   "outputs": [
    {
     "data": {
      "text/latex": [
       "$\\displaystyle \\left[\\begin{matrix}166666.666666667 u_{x} + 57735.0269189626 u_{y}\\\\57735.0269189626 u_{x} + 500000.0 u_{y}\\end{matrix}\\right] = \\left[\\begin{matrix}0\\\\-9.8\\end{matrix}\\right]$"
      ],
      "text/plain": [
       "Eq(Matrix([\n",
       "[166666.666666667*u_x + 57735.0269189626*u_y],\n",
       "[        57735.0269189626*u_x + 500000.0*u_y]]), Matrix([\n",
       "[   0],\n",
       "[-9.8]]))"
      ]
     },
     "execution_count": 13,
     "metadata": {},
     "output_type": "execute_result"
    }
   ],
   "source": [
    "eqs_num = eq.subs(subs)\n",
    "eqs_num"
   ]
  },
  {
   "cell_type": "code",
   "execution_count": 14,
   "id": "bc8f0a13",
   "metadata": {},
   "outputs": [
    {
     "data": {
      "text/plain": [
       "{u_x: 7.07254079757292e-6, u_y: -2.04166666666667e-5}"
      ]
     },
     "execution_count": 14,
     "metadata": {},
     "output_type": "execute_result"
    }
   ],
   "source": [
    "sol = solve(eqs_num, (u_x, u_y))\n",
    "sol"
   ]
  },
  {
   "cell_type": "code",
   "execution_count": 15,
   "id": "211d86e5",
   "metadata": {},
   "outputs": [
    {
     "data": {
      "text/plain": [
       "array([ 7.07254080e-06, -2.04166667e-05])"
      ]
     },
     "execution_count": 15,
     "metadata": {},
     "output_type": "execute_result"
    }
   ],
   "source": [
    "u_sol_np = np.array([sol[u_x], sol[u_y]], dtype=float)\n",
    "u_sol_np"
   ]
  },
  {
   "cell_type": "code",
   "execution_count": 16,
   "id": "a7910a4f",
   "metadata": {},
   "outputs": [],
   "source": [
    "f_sol_np = K_np @ u_sol_np"
   ]
  },
  {
   "cell_type": "code",
   "execution_count": 17,
   "id": "b950a821",
   "metadata": {},
   "outputs": [],
   "source": [
    "u_example = u_sol_np"
   ]
  },
  {
   "cell_type": "code",
   "execution_count": 18,
   "id": "d2466320",
   "metadata": {},
   "outputs": [],
   "source": [
    "f_example = f_sol_np"
   ]
  },
  {
   "cell_type": "markdown",
   "id": "3ed1326b",
   "metadata": {},
   "source": [
    "## Draw the Force Field"
   ]
  },
  {
   "cell_type": "code",
   "execution_count": 19,
   "id": "3cc79fc3",
   "metadata": {},
   "outputs": [
    {
     "data": {
      "text/plain": [
       "array([-2.10e-05, -1.68e-05, -1.26e-05, -8.40e-06, -4.20e-06,  0.00e+00,\n",
       "        4.20e-06,  8.40e-06,  1.26e-05,  1.68e-05,  2.10e-05])"
      ]
     },
     "execution_count": 19,
     "metadata": {},
     "output_type": "execute_result"
    }
   ],
   "source": [
    "scale = 1e-6\n",
    "bound = 21\n",
    "x_vals = np.linspace(-bound, bound, 11) * scale\n",
    "y_vals = np.linspace(-bound, bound, 11) * scale\n",
    "x_vals"
   ]
  },
  {
   "cell_type": "code",
   "execution_count": 20,
   "id": "db005ca6",
   "metadata": {},
   "outputs": [
    {
     "data": {
      "text/plain": [
       "(2, 121)"
      ]
     },
     "execution_count": 20,
     "metadata": {},
     "output_type": "execute_result"
    }
   ],
   "source": [
    "pairs = [(x, y) for x in x_vals for y in y_vals]\n",
    "U = np.array(pairs).T \n",
    "U.shape"
   ]
  },
  {
   "cell_type": "code",
   "execution_count": 21,
   "id": "8e287aa3",
   "metadata": {},
   "outputs": [],
   "source": [
    "X, Y = np.meshgrid(x_vals, y_vals, indexing='ij')"
   ]
  },
  {
   "cell_type": "code",
   "execution_count": 22,
   "id": "d5c42a8e",
   "metadata": {},
   "outputs": [
    {
     "data": {
      "text/plain": [
       "(11, 11)"
      ]
     },
     "execution_count": 22,
     "metadata": {},
     "output_type": "execute_result"
    }
   ],
   "source": [
    "X.shape"
   ]
  },
  {
   "cell_type": "code",
   "execution_count": 23,
   "id": "95a7128c",
   "metadata": {},
   "outputs": [
    {
     "data": {
      "text/plain": [
       "(121,)"
      ]
     },
     "execution_count": 23,
     "metadata": {},
     "output_type": "execute_result"
    }
   ],
   "source": [
    "X.ravel().shape"
   ]
  },
  {
   "cell_type": "code",
   "execution_count": 24,
   "id": "ddfd0adf",
   "metadata": {},
   "outputs": [
    {
     "data": {
      "text/plain": [
       "True"
      ]
     },
     "execution_count": 24,
     "metadata": {},
     "output_type": "execute_result"
    }
   ],
   "source": [
    "U2 = np.vstack([X.ravel(), Y.ravel()])\n",
    "np.allclose(U, U2)"
   ]
  },
  {
   "cell_type": "markdown",
   "id": "cd3dd1e5",
   "metadata": {},
   "source": [
    "Either way, U is matrix-like in the sense that it has two dimensions, but we are using it as a collection of vectors, so"
   ]
  },
  {
   "cell_type": "code",
   "execution_count": 25,
   "id": "00db88fd",
   "metadata": {},
   "outputs": [
    {
     "data": {
      "text/plain": [
       "(2, 121)"
      ]
     },
     "execution_count": 25,
     "metadata": {},
     "output_type": "execute_result"
    }
   ],
   "source": [
    "F_field = -K_np @ U  # matrix of column force vectors\n",
    "F_field.shape"
   ]
  },
  {
   "cell_type": "code",
   "execution_count": 26,
   "id": "b8ca68e0",
   "metadata": {},
   "outputs": [],
   "source": [
    "import matplotlib.lines as mlines\n",
    "\n",
    "def outline_truss():\n",
    "\n",
    "    # Get current axis\n",
    "    ax = plt.gca()\n",
    "\n",
    "    # Define endpoints of truss members (undisplaced)\n",
    "    truss_left = np.array([-1, -1])   # lower left\n",
    "    truss_right = np.array([1, -1])   # lower right\n",
    "    joint = np.array([0, 0])          # shared node\n",
    "\n",
    "    options = dict(\n",
    "        linewidth=20,\n",
    "        solid_capstyle='round',\n",
    "        color='lightgray',\n",
    "        alpha=0.5,\n",
    "        transform=ax.transData\n",
    "    )\n",
    "    \n",
    "    for start in [truss_left, truss_right]:\n",
    "        line = mlines.Line2D([start[0], joint[0]], [start[1], joint[1]], **options)\n",
    "        ax.add_artist(line)\n"
   ]
  },
  {
   "cell_type": "code",
   "execution_count": 27,
   "id": "b75bc84b",
   "metadata": {},
   "outputs": [
    {
     "data": {
      "image/png": "[encoded data removed]",
      "text/plain": [
       "<Figure size 375x375 with 1 Axes>"
      ]
     },
     "metadata": {},
     "output_type": "display_data"
    }
   ],
   "source": [
    "plt.figure(figsize=(5, 5))\n",
    "outline_truss()\n",
    "\n",
    "options = dict(angles='xy', scale_units='xy', scale=2e6)\n",
    "\n",
    "plt.quiver(U[0], U[1], F_field[0], F_field[1], color='C0', alpha=0.7, **options)\n",
    "\n",
    "plt.quiver(u_example[0], u_example[1], \n",
    "           F_example[0], F_example[1], lw=3,\n",
    "           **options)\n",
    "\n",
    "plt.axhline(0, color='gray', lw=1)\n",
    "plt.axvline(0, color='gray', lw=1)\n",
    "plt.gca().set_aspect('equal')\n",
    "\n",
    "plt.xlabel('Displacement $u_x$ in $\\mu$m')\n",
    "plt.ylabel('Displacement $u_y$ in $\\mu$m')\n",
    "plt.title('Restoring Force Field: $\\\\mathbf{f} = -\\\\mathbf{K} \\\\mathbf{u}$')\n",
    "plt.grid(True)\n",
    "None"
   ]
  },
  {
   "cell_type": "markdown",
   "id": "1cb42258",
   "metadata": {},
   "source": [
    "Discussion: This -- disappointingly -- is what a force field really is. Much less cool than we hoped. It's an example of a vector field, which is a mapping from each point in a space to a vector.\n",
    "\n"
   ]
  },
  {
   "cell_type": "markdown",
   "id": "44c4d4d4",
   "metadata": {},
   "source": [
    "## Truss"
   ]
  },
  {
   "cell_type": "code",
   "execution_count": 28,
   "id": "edf0e2b3",
   "metadata": {},
   "outputs": [],
   "source": [
    "def vec2(x, y):\n",
    "    return sp.Matrix([x, y])"
   ]
  },
  {
   "cell_type": "code",
   "execution_count": 29,
   "id": "d6342299",
   "metadata": {},
   "outputs": [],
   "source": [
    "def add_n_triangle_truss(G, N, L, H, origin=vec2(0, 0)):\n",
    "    \"\"\"Add a row of N connected triangles to graph G.\n",
    "    \n",
    "    Nodes are named B0..BN (bottom) and T0..T{N-1} (top).\n",
    "    \"\"\"\n",
    "    # Add bottom nodes and horizontal edges\n",
    "    for i in range(N + 1):\n",
    "        pos = origin + vec2(i * L, 0)\n",
    "        G.add_node(f'B{i}', pos=pos)\n",
    "        if i > 0:\n",
    "            G.add_edge(f'B{i-1}', f'B{i}')\n",
    "            \n",
    "    # Identify the fixed points\n",
    "    G.graph['fixed'] = ['B0', f'B{N}']\n",
    "\n",
    "    # Add top nodes and diagonal edges\n",
    "    for i in range(N):\n",
    "        pos = origin + vec2((i + 0.5) * L, H)\n",
    "        G.add_node(f'T{i}', pos=pos)\n",
    "        G.add_edge(f'B{i}', f'T{i}')\n",
    "        G.add_edge(f'T{i}', f'B{i+1}')\n",
    "\n",
    "        if i > 0:\n",
    "            G.add_edge(f'T{i-1}', f'T{i}')"
   ]
  },
  {
   "cell_type": "code",
   "execution_count": null,
   "id": "881d53e4",
   "metadata": {},
   "outputs": [],
   "source": []
  },
  {
   "cell_type": "code",
   "execution_count": 30,
   "id": "169ba4ec",
   "metadata": {},
   "outputs": [],
   "source": [
    "G = nx.Graph()\n",
    "\n",
    "N = 2\n",
    "L = sp.Symbol('L', positive=True)\n",
    "H = L * sp.sqrt(3) / 2\n",
    "add_n_triangle_truss(G, N, L, H)"
   ]
  },
  {
   "cell_type": "code",
   "execution_count": 31,
   "id": "23da7729",
   "metadata": {},
   "outputs": [],
   "source": [
    "def setattr_node(G, node, **kwargs):\n",
    "    \"\"\"\n",
    "    Set multiple attributes for a node in a NetworkX graph.\n",
    "\n",
    "    Args:\n",
    "        G: A NetworkX graph.\n",
    "        node: Node identifier (usually a name).\n",
    "        **kwargs: Arbitrary key-value pairs to set as node attributes.\n",
    "    \"\"\"\n",
    "    G.nodes[node].update(**kwargs)\n",
    "\n",
    "\n",
    "def getattr_node(G, node, *keys):\n",
    "    \"\"\"\n",
    "    Get one or more attributes from a node in a NetworkX graph.\n",
    "\n",
    "    Args:\n",
    "        G: A NetworkX graph.\n",
    "        node: Node identifier (usually a name).\n",
    "        *keys: One or more attribute names.\n",
    "\n",
    "    Returns:\n",
    "        A single value if one key is provided, or a tuple of values if multiple.\n",
    "    \"\"\"\n",
    "    if len(keys) == 1:\n",
    "        return G.nodes[node][keys[0]]\n",
    "    return tuple(G.nodes[node][key] for key in keys)\n",
    "\n",
    "\n",
    "def setattr_edge(G, edge, **kwargs):\n",
    "    \"\"\"\n",
    "    Set multiple attributes for an edge in a NetworkX graph.\n",
    "\n",
    "    Args:\n",
    "        G: A NetworkX graph.\n",
    "        edge: A tuple of two node identifiers (e.g., ('A', 'B')).\n",
    "        **kwargs: Arbitrary key-value pairs to set as edge attributes.\n",
    "    \"\"\"\n",
    "    G.edges[edge].update(**kwargs)\n",
    "\n",
    "\n",
    "def getattr_edge(G, edge, *keys):\n",
    "    \"\"\"\n",
    "    Get one or more attributes from an edge in a NetworkX graph.\n",
    "\n",
    "    Args:\n",
    "        G: A NetworkX graph.\n",
    "        edge: A tuple of two node identifiers.\n",
    "        *keys: One or more attribute names.\n",
    "\n",
    "    Returns:\n",
    "        A single value if one key is provided, or a tuple of values if multiple.\n",
    "    \"\"\"\n",
    "    if len(keys) == 1:\n",
    "        return G.edges[edge][keys[0]]\n",
    "    return tuple(G.edges[edge][key] for key in keys)"
   ]
  },
  {
   "cell_type": "code",
   "execution_count": 32,
   "id": "f5282aa6",
   "metadata": {},
   "outputs": [],
   "source": [
    "E, A = sp.symbols('E A')\n",
    "\n",
    "for edge in G.edges:\n",
    "    node1, node2 = edge\n",
    "    x1 = G.nodes[node1]['pos']\n",
    "    x2 = G.nodes[node2]['pos']\n",
    "\n",
    "    r = x2 - x1\n",
    "    l = r.norm()\n",
    "    k = E * A / l\n",
    "\n",
    "    setattr_edge(G, edge, E=E, A=A, r=r, l=l, k=k)"
   ]
  },
  {
   "cell_type": "code",
   "execution_count": 33,
   "id": "17cb8ed9",
   "metadata": {},
   "outputs": [],
   "source": [
    "def draw_truss(G, subs, label_nodes=True, **options):\n",
    "    pos = {}\n",
    "    for node in G.nodes:\n",
    "        p = getattr_node(G, node, 'pos').subs(subs).evalf()\n",
    "        pos[node] = [float(x) for x in p]\n",
    "\n",
    "    underride(options, edge_color='C0')\n",
    "    nx.draw_networkx_edges(G, pos, width=2, **options)\n",
    "    if label_nodes:\n",
    "        node_options = dict(node_size=1000, node_color='white', edgecolors='C0')\n",
    "        nx.draw_networkx_nodes(G, pos, **node_options)\n",
    "        nx.draw_networkx_labels(G, pos, font_size=10)\n",
    "\n",
    "    plt.axis('equal')\n",
    "    plt.axis('off')"
   ]
  },
  {
   "cell_type": "code",
   "execution_count": 34,
   "id": "5d94a7e7",
   "metadata": {},
   "outputs": [
    {
     "data": {
      "image/png": "[encoded data removed]",
      "text/plain": [
       "<Figure size 450x262.5 with 1 Axes>"
      ]
     },
     "metadata": {},
     "output_type": "display_data"
    }
   ],
   "source": [
    "draw_truss(G, {L: 0.15})"
   ]
  },
  {
   "cell_type": "markdown",
   "id": "420f32ed",
   "metadata": {},
   "source": [
    "Add displacement vectors to the nodes"
   ]
  },
  {
   "cell_type": "code",
   "execution_count": 35,
   "id": "578a6290",
   "metadata": {},
   "outputs": [],
   "source": [
    "def make_vector(x, y, **kwargs):\n",
    "    return sp.ImmutableDenseMatrix([[x], [y]])"
   ]
  },
  {
   "cell_type": "code",
   "execution_count": 36,
   "id": "10c97a98",
   "metadata": {},
   "outputs": [],
   "source": [
    "for node in G.nodes():\n",
    "    if node in G.graph['fixed']:\n",
    "        ux, uy = 0, 0\n",
    "    else:\n",
    "        ux, uy = sp.symbols(f'u_{node}_x u_{node}_y')\n",
    "        \n",
    "    disp = make_vector(ux, uy, name=f'u_{node}')\n",
    "    setattr_node(G, node, disp=disp)"
   ]
  },
  {
   "cell_type": "markdown",
   "id": "288b8fa7",
   "metadata": {},
   "source": [
    "Assign an external force to each node."
   ]
  },
  {
   "cell_type": "code",
   "execution_count": 37,
   "id": "fd543d17",
   "metadata": {},
   "outputs": [],
   "source": [
    "z = make_vector(0, 0)\n",
    "for i, node in enumerate(G.nodes):\n",
    "    setattr_node(G, node, f_ext=z)"
   ]
  },
  {
   "cell_type": "markdown",
   "id": "75b80231",
   "metadata": {},
   "source": [
    "Hang a weight from the middle node."
   ]
  },
  {
   "cell_type": "code",
   "execution_count": 38,
   "id": "a91f1534",
   "metadata": {},
   "outputs": [],
   "source": [
    "f_ext = sp.Symbol('f_ext')\n",
    "setattr_node(G, 'B1', f_ext=make_vector(0, f_ext))"
   ]
  },
  {
   "cell_type": "code",
   "execution_count": 39,
   "id": "5c747116",
   "metadata": {},
   "outputs": [],
   "source": [
    "for i, node in enumerate(G.nodes):\n",
    "    setattr_node(G, node, index=i)"
   ]
  },
  {
   "cell_type": "markdown",
   "id": "01dcf5ea",
   "metadata": {},
   "source": [
    "## Block Matrix Equation\n"
   ]
  },
  {
   "cell_type": "code",
   "execution_count": 40,
   "id": "308120fd",
   "metadata": {},
   "outputs": [],
   "source": [
    "def Ksym(i, j):\n",
    "    return sp.MatrixSymbol(f'K_{i}{j}', 2, 2)"
   ]
  },
  {
   "cell_type": "code",
   "execution_count": 41,
   "id": "4a5e2932",
   "metadata": {},
   "outputs": [
    {
     "data": {
      "text/latex": [
       "$\\displaystyle \\left[\\begin{matrix}K_{00} & K_{01} & K_{02} & K_{03} & K_{04}\\\\K_{10} & K_{11} & K_{12} & K_{13} & K_{14}\\\\K_{20} & K_{21} & K_{22} & K_{23} & K_{24}\\\\K_{30} & K_{31} & K_{32} & K_{33} & K_{34}\\\\K_{40} & K_{41} & K_{42} & K_{43} & K_{44}\\end{matrix}\\right]$"
      ],
      "text/plain": [
       "Matrix([\n",
       "[K_00, K_01, K_02, K_03, K_04],\n",
       "[K_10, K_11, K_12, K_13, K_14],\n",
       "[K_20, K_21, K_22, K_23, K_24],\n",
       "[K_30, K_31, K_32, K_33, K_34],\n",
       "[K_40, K_41, K_42, K_43, K_44]])"
      ]
     },
     "execution_count": 41,
     "metadata": {},
     "output_type": "execute_result"
    }
   ],
   "source": [
    "n = len(G.nodes)\n",
    "K_blocks = [[Ksym(i, j) for j in range(n)] for i in range(n)]\n",
    "K_block = sp.BlockMatrix(K_blocks)\n",
    "K_block"
   ]
  },
  {
   "cell_type": "code",
   "execution_count": 42,
   "id": "a949e272",
   "metadata": {},
   "outputs": [
    {
     "data": {
      "text/latex": [
       "$\\displaystyle \\left[\\begin{matrix}u_{B0}\\\\u_{B1}\\\\u_{B2}\\\\u_{T0}\\\\u_{T1}\\end{matrix}\\right]$"
      ],
      "text/plain": [
       "Matrix([\n",
       "[u_{B0}],\n",
       "[u_{B1}],\n",
       "[u_{B2}],\n",
       "[u_{T0}],\n",
       "[u_{T1}]])"
      ]
     },
     "execution_count": 42,
     "metadata": {},
     "output_type": "execute_result"
    }
   ],
   "source": [
    "u_blocks = [sp.MatrixSymbol(f'u_{{{node}}}', 2, 1) for node in G.nodes]\n",
    "u_vec = sp.BlockMatrix([[u] for u in u_blocks])\n",
    "u_vec"
   ]
  },
  {
   "cell_type": "code",
   "execution_count": 43,
   "id": "19bd88b7",
   "metadata": {},
   "outputs": [
    {
     "data": {
      "text/latex": [
       "$\\displaystyle \\left[\\begin{matrix}f_{B0}\\\\f_{B1}\\\\f_{B2}\\\\f_{T0}\\\\f_{T1}\\end{matrix}\\right]$"
      ],
      "text/plain": [
       "Matrix([\n",
       "[f_{B0}],\n",
       "[f_{B1}],\n",
       "[f_{B2}],\n",
       "[f_{T0}],\n",
       "[f_{T1}]])"
      ]
     },
     "execution_count": 43,
     "metadata": {},
     "output_type": "execute_result"
    }
   ],
   "source": [
    "f_blocks = [sp.MatrixSymbol(f'f_{{{node}}}', 2, 1) for node in G.nodes]\n",
    "f_vec = sp.BlockMatrix([[f] for f in f_blocks])\n",
    "f_vec"
   ]
  },
  {
   "cell_type": "code",
   "execution_count": 44,
   "id": "7ef250be",
   "metadata": {},
   "outputs": [
    {
     "data": {
      "text/latex": [
       "$\\displaystyle \\left[\\begin{matrix}K_{00} & K_{01} & K_{02} & K_{03} & K_{04}\\\\K_{10} & K_{11} & K_{12} & K_{13} & K_{14}\\\\K_{20} & K_{21} & K_{22} & K_{23} & K_{24}\\\\K_{30} & K_{31} & K_{32} & K_{33} & K_{34}\\\\K_{40} & K_{41} & K_{42} & K_{43} & K_{44}\\end{matrix}\\right] \\left[\\begin{matrix}u_{B0}\\\\u_{B1}\\\\u_{B2}\\\\u_{T0}\\\\u_{T1}\\end{matrix}\\right] = \\left[\\begin{matrix}f_{B0}\\\\f_{B1}\\\\f_{B2}\\\\f_{T0}\\\\f_{T1}\\end{matrix}\\right]$"
      ],
      "text/plain": [
       "Eq(Matrix([\n",
       "[K_00, K_01, K_02, K_03, K_04],\n",
       "[K_10, K_11, K_12, K_13, K_14],\n",
       "[K_20, K_21, K_22, K_23, K_24],\n",
       "[K_30, K_31, K_32, K_33, K_34],\n",
       "[K_40, K_41, K_42, K_43, K_44]])*Matrix([\n",
       "[u_{B0}],\n",
       "[u_{B1}],\n",
       "[u_{B2}],\n",
       "[u_{T0}],\n",
       "[u_{T1}]]), Matrix([\n",
       "[f_{B0}],\n",
       "[f_{B1}],\n",
       "[f_{B2}],\n",
       "[f_{T0}],\n",
       "[f_{T1}]]))"
      ]
     },
     "execution_count": 44,
     "metadata": {},
     "output_type": "execute_result"
    }
   ],
   "source": [
    "equation = sp.Eq(K_block * u_vec, f_vec)\n",
    "equation"
   ]
  },
  {
   "cell_type": "markdown",
   "id": "a61402ef",
   "metadata": {},
   "source": [
    "In an ideal world, we would write the equation this way and solve it, but we don't have solvers that can work on a system where the elements are vectors and matrices.\n"
   ]
  },
  {
   "cell_type": "markdown",
   "id": "417c0ee3",
   "metadata": {},
   "source": [
    "## Compute the Block Matrix"
   ]
  },
  {
   "cell_type": "code",
   "execution_count": 45,
   "id": "b93655b8",
   "metadata": {},
   "outputs": [],
   "source": [
    "def edge_force_equation(G, edge):\n",
    "    \"\"\"\n",
    "    Return the symbolic internal force vector on node i due to node j\n",
    "    through the edge (i, j), using geometry and displacement attributes.\n",
    "    \"\"\"\n",
    "    # Node data\n",
    "    node1, node2 = edge\n",
    "    u1 = getattr_node(G, node1, \"disp\")\n",
    "    u2 = getattr_node(G, node2, \"disp\")\n",
    "\n",
    "    # Edge properties\n",
    "    r, k = getattr_edge(G, edge, \"r\", \"k\")\n",
    "\n",
    "    # Geometry and stiffness    \n",
    "    P = projector(r)\n",
    "\n",
    "    # Internal force\n",
    "    f_i = -k * P * (u1 - u2)\n",
    "\n",
    "    return f_i"
   ]
  },
  {
   "cell_type": "code",
   "execution_count": 46,
   "id": "57099968",
   "metadata": {},
   "outputs": [
    {
     "data": {
      "text/latex": [
       "$\\displaystyle \\left[\\begin{matrix}- \\frac{0.25 A E \\left(u_{B1 x} - u_{T0 x}\\right)}{L} + \\frac{0.25 \\sqrt{3} A E \\left(u_{B1 y} - u_{T0 y}\\right)}{L}\\\\\\frac{0.25 \\sqrt{3} A E \\left(u_{B1 x} - u_{T0 x}\\right)}{L} - \\frac{0.75 A E \\left(u_{B1 y} - u_{T0 y}\\right)}{L}\\end{matrix}\\right]$"
      ],
      "text/plain": [
       "Matrix([\n",
       "[-0.25*A*E*(u_B1_x - u_T0_x)/L + 0.25*sqrt(3)*A*E*(u_B1_y - u_T0_y)/L],\n",
       "[ 0.25*sqrt(3)*A*E*(u_B1_x - u_T0_x)/L - 0.75*A*E*(u_B1_y - u_T0_y)/L]])"
      ]
     },
     "execution_count": 46,
     "metadata": {},
     "output_type": "execute_result"
    }
   ],
   "source": [
    "edge = 'B1', 'T0'\n",
    "f = edge_force_equation(G, edge)\n",
    "f"
   ]
  },
  {
   "cell_type": "code",
   "execution_count": null,
   "id": "e3744a4a",
   "metadata": {},
   "outputs": [],
   "source": []
  },
  {
   "cell_type": "code",
   "execution_count": null,
   "id": "ed8a4ff1",
   "metadata": {},
   "outputs": [],
   "source": []
  },
  {
   "cell_type": "code",
   "execution_count": 47,
   "id": "a231550c",
   "metadata": {},
   "outputs": [],
   "source": [
    "def compute_kP(G, edge):\n",
    "    r, k = getattr_edge(G, edge, \"r\", \"k\")\n",
    "\n",
    "    # Geometry and stiffness    \n",
    "    P = projector(r)\n",
    "\n",
    "    return k * P"
   ]
  },
  {
   "cell_type": "code",
   "execution_count": 48,
   "id": "71896eaa",
   "metadata": {},
   "outputs": [],
   "source": [
    "def zero_block(size=2):\n",
    "    return sp.ImmutableMatrix.zeros(size, size)\n",
    "\n",
    "blocks = [[zero_block() for _ in range(n)] for _ in range(n)]\n",
    "\n",
    "for edge in G.edges:\n",
    "    kP = compute_kP(G, edge)\n",
    "    \n",
    "    a, b = edge\n",
    "    i = getattr_node(G, a, 'index')\n",
    "    j = getattr_node(G, b, 'index')\n",
    "\n",
    "    # Insert contributions for edge (i, j)\n",
    "    blocks[i][i] +=  kP\n",
    "    blocks[i][j] += -kP\n",
    "    blocks[j][i] += -kP\n",
    "    blocks[j][j] +=  kP"
   ]
  },
  {
   "cell_type": "code",
   "execution_count": 49,
   "id": "f84b6307",
   "metadata": {},
   "outputs": [
    {
     "data": {
      "text/plain": [
       "[1, 3, 4]"
      ]
     },
     "execution_count": 49,
     "metadata": {},
     "output_type": "execute_result"
    }
   ],
   "source": [
    "keep = [getattr_node(G, node, 'index') \n",
    "        for node in G.nodes \n",
    "        if node not in G.graph['fixed']]\n",
    "keep    "
   ]
  },
  {
   "cell_type": "code",
   "execution_count": 50,
   "id": "9efc78cd",
   "metadata": {},
   "outputs": [],
   "source": [
    "blocks_reduced = [\n",
    "    [blocks[i][j] for j in keep]\n",
    "    for i in keep\n",
    "]"
   ]
  },
  {
   "cell_type": "code",
   "execution_count": 51,
   "id": "8bc4440d",
   "metadata": {},
   "outputs": [
    {
     "data": {
      "text/latex": [
       "$\\displaystyle \\left[\\begin{matrix}\\left[\\begin{matrix}\\frac{2.5 A E}{L} & 0\\\\0 & \\frac{1.5 A E}{L}\\end{matrix}\\right] & \\left[\\begin{matrix}- \\frac{0.25 A E}{L} & \\frac{0.25 \\sqrt{3} A E}{L}\\\\\\frac{0.25 \\sqrt{3} A E}{L} & - \\frac{0.75 A E}{L}\\end{matrix}\\right] & \\left[\\begin{matrix}- \\frac{0.25 A E}{L} & - \\frac{0.25 \\sqrt{3} A E}{L}\\\\- \\frac{0.25 \\sqrt{3} A E}{L} & - \\frac{0.75 A E}{L}\\end{matrix}\\right]\\\\\\left[\\begin{matrix}- \\frac{0.25 A E}{L} & \\frac{0.25 \\sqrt{3} A E}{L}\\\\\\frac{0.25 \\sqrt{3} A E}{L} & - \\frac{0.75 A E}{L}\\end{matrix}\\right] & \\left[\\begin{matrix}\\frac{1.5 A E}{L} & 0\\\\0 & \\frac{1.5 A E}{L}\\end{matrix}\\right] & \\left[\\begin{matrix}- \\frac{1.0 A E}{L} & 0\\\\0 & 0\\end{matrix}\\right]\\\\\\left[\\begin{matrix}- \\frac{0.25 A E}{L} & - \\frac{0.25 \\sqrt{3} A E}{L}\\\\- \\frac{0.25 \\sqrt{3} A E}{L} & - \\frac{0.75 A E}{L}\\end{matrix}\\right] & \\left[\\begin{matrix}- \\frac{1.0 A E}{L} & 0\\\\0 & 0\\end{matrix}\\right] & \\left[\\begin{matrix}\\frac{1.5 A E}{L} & 0\\\\0 & \\frac{1.5 A E}{L}\\end{matrix}\\right]\\end{matrix}\\right]$"
      ],
      "text/plain": [
       "Matrix([\n",
       "[                                        Matrix([\n",
       "[2.5*A*E/L,         0],\n",
       "[        0, 1.5*A*E/L]]), Matrix([\n",
       "[       -0.25*A*E/L, 0.25*sqrt(3)*A*E/L],\n",
       "[0.25*sqrt(3)*A*E/L,        -0.75*A*E/L]]), Matrix([\n",
       "[        -0.25*A*E/L, -0.25*sqrt(3)*A*E/L],\n",
       "[-0.25*sqrt(3)*A*E/L,         -0.75*A*E/L]])],\n",
       "[    Matrix([\n",
       "[       -0.25*A*E/L, 0.25*sqrt(3)*A*E/L],\n",
       "[0.25*sqrt(3)*A*E/L,        -0.75*A*E/L]]),                                     Matrix([\n",
       "[1.5*A*E/L,         0],\n",
       "[        0, 1.5*A*E/L]]),                                                       Matrix([\n",
       "[-1.0*A*E/L, 0],\n",
       "[         0, 0]])],\n",
       "[Matrix([\n",
       "[        -0.25*A*E/L, -0.25*sqrt(3)*A*E/L],\n",
       "[-0.25*sqrt(3)*A*E/L,         -0.75*A*E/L]]),                                                   Matrix([\n",
       "[-1.0*A*E/L, 0],\n",
       "[         0, 0]]),                                         Matrix([\n",
       "[1.5*A*E/L,         0],\n",
       "[        0, 1.5*A*E/L]])]])"
      ]
     },
     "execution_count": 51,
     "metadata": {},
     "output_type": "execute_result"
    }
   ],
   "source": [
    "K_block = sp.BlockMatrix(blocks_reduced)\n",
    "K_block"
   ]
  },
  {
   "cell_type": "code",
   "execution_count": null,
   "id": "1a606446",
   "metadata": {},
   "outputs": [],
   "source": []
  },
  {
   "cell_type": "code",
   "execution_count": 52,
   "id": "caed9c44",
   "metadata": {},
   "outputs": [
    {
     "data": {
      "text/latex": [
       "$\\displaystyle \\left[\\begin{matrix}\\left[\\begin{matrix}u_{B1 x}\\\\u_{B1 y}\\end{matrix}\\right]\\\\\\left[\\begin{matrix}u_{T0 x}\\\\u_{T0 y}\\end{matrix}\\right]\\\\\\left[\\begin{matrix}u_{T1 x}\\\\u_{T1 y}\\end{matrix}\\right]\\end{matrix}\\right]$"
      ],
      "text/plain": [
       "Matrix([\n",
       "[Matrix([\n",
       "[u_B1_x],\n",
       "[u_B1_y]])],\n",
       "[Matrix([\n",
       "[u_T0_x],\n",
       "[u_T0_y]])],\n",
       "[Matrix([\n",
       "[u_T1_x],\n",
       "[u_T1_y]])]])"
      ]
     },
     "execution_count": 52,
     "metadata": {},
     "output_type": "execute_result"
    }
   ],
   "source": [
    "u_blocks = [getattr_node(G, node, 'disp') for node in G.nodes]\n",
    "u_blocks_reduced = [[u_blocks[i]] for i in keep]\n",
    "u_block = sp.BlockMatrix(u_blocks_reduced)\n",
    "u_block\n"
   ]
  },
  {
   "cell_type": "code",
   "execution_count": 53,
   "id": "580f15de",
   "metadata": {},
   "outputs": [
    {
     "data": {
      "text/latex": [
       "$\\displaystyle \\left[\\begin{matrix}\\left[\\begin{matrix}0\\\\f_{ext}\\end{matrix}\\right]\\\\\\left[\\begin{matrix}0\\\\0\\end{matrix}\\right]\\\\\\left[\\begin{matrix}0\\\\0\\end{matrix}\\right]\\end{matrix}\\right]$"
      ],
      "text/plain": [
       "Matrix([\n",
       "[Matrix([\n",
       "[    0],\n",
       "[f_ext]])],\n",
       "[        Matrix([\n",
       "[0],\n",
       "[0]])],\n",
       "[        Matrix([\n",
       "[0],\n",
       "[0]])]])"
      ]
     },
     "execution_count": 53,
     "metadata": {},
     "output_type": "execute_result"
    }
   ],
   "source": [
    "f_blocks = [getattr_node(G, node, 'f_ext') for node in G.nodes]\n",
    "f_blocks_reduced = [[f_blocks[i]] for i in keep]\n",
    "f_block = sp.BlockMatrix(f_blocks_reduced)\n",
    "f_block"
   ]
  },
  {
   "cell_type": "markdown",
   "id": "d82efabf",
   "metadata": {},
   "source": [
    "## Make the arrays explicit"
   ]
  },
  {
   "cell_type": "code",
   "execution_count": 54,
   "id": "bc4f8d1f",
   "metadata": {},
   "outputs": [
    {
     "data": {
      "text/latex": [
       "$\\displaystyle \\left[\\begin{matrix}\\frac{2.5 A E}{L} & 0 & - \\frac{0.25 A E}{L} & \\frac{0.25 \\sqrt{3} A E}{L} & - \\frac{0.25 A E}{L} & - \\frac{0.25 \\sqrt{3} A E}{L}\\\\0 & \\frac{1.5 A E}{L} & \\frac{0.25 \\sqrt{3} A E}{L} & - \\frac{0.75 A E}{L} & - \\frac{0.25 \\sqrt{3} A E}{L} & - \\frac{0.75 A E}{L}\\\\- \\frac{0.25 A E}{L} & \\frac{0.25 \\sqrt{3} A E}{L} & \\frac{1.5 A E}{L} & 0 & - \\frac{1.0 A E}{L} & 0\\\\\\frac{0.25 \\sqrt{3} A E}{L} & - \\frac{0.75 A E}{L} & 0 & \\frac{1.5 A E}{L} & 0 & 0\\\\- \\frac{0.25 A E}{L} & - \\frac{0.25 \\sqrt{3} A E}{L} & - \\frac{1.0 A E}{L} & 0 & \\frac{1.5 A E}{L} & 0\\\\- \\frac{0.25 \\sqrt{3} A E}{L} & - \\frac{0.75 A E}{L} & 0 & 0 & 0 & \\frac{1.5 A E}{L}\\end{matrix}\\right]$"
      ],
      "text/plain": [
       "Matrix([\n",
       "[          2.5*A*E/L,                   0,        -0.25*A*E/L, 0.25*sqrt(3)*A*E/L,         -0.25*A*E/L, -0.25*sqrt(3)*A*E/L],\n",
       "[                  0,           1.5*A*E/L, 0.25*sqrt(3)*A*E/L,        -0.75*A*E/L, -0.25*sqrt(3)*A*E/L,         -0.75*A*E/L],\n",
       "[        -0.25*A*E/L,  0.25*sqrt(3)*A*E/L,          1.5*A*E/L,                  0,          -1.0*A*E/L,                   0],\n",
       "[ 0.25*sqrt(3)*A*E/L,         -0.75*A*E/L,                  0,          1.5*A*E/L,                   0,                   0],\n",
       "[        -0.25*A*E/L, -0.25*sqrt(3)*A*E/L,         -1.0*A*E/L,                  0,           1.5*A*E/L,                   0],\n",
       "[-0.25*sqrt(3)*A*E/L,         -0.75*A*E/L,                  0,                  0,                   0,           1.5*A*E/L]])"
      ]
     },
     "execution_count": 54,
     "metadata": {},
     "output_type": "execute_result"
    }
   ],
   "source": [
    "K_dense = K_block.as_explicit()\n",
    "K_dense"
   ]
  },
  {
   "cell_type": "code",
   "execution_count": 55,
   "id": "e66fff3c",
   "metadata": {},
   "outputs": [],
   "source": [
    "u_dense = u_block.as_explicit()"
   ]
  },
  {
   "cell_type": "code",
   "execution_count": 56,
   "id": "b6468d1b",
   "metadata": {},
   "outputs": [],
   "source": [
    "f_dense = f_block.as_explicit()"
   ]
  },
  {
   "cell_type": "code",
   "execution_count": 57,
   "id": "4b314718",
   "metadata": {},
   "outputs": [
    {
     "data": {
      "text/latex": [
       "$\\displaystyle \\left[\\begin{matrix}\\frac{2.5 A E u_{B1 x}}{L} - \\frac{0.25 A E u_{T0 x}}{L} + \\frac{0.25 \\sqrt{3} A E u_{T0 y}}{L} - \\frac{0.25 A E u_{T1 x}}{L} - \\frac{0.25 \\sqrt{3} A E u_{T1 y}}{L}\\\\\\frac{1.5 A E u_{B1 y}}{L} + \\frac{0.25 \\sqrt{3} A E u_{T0 x}}{L} - \\frac{0.75 A E u_{T0 y}}{L} - \\frac{0.25 \\sqrt{3} A E u_{T1 x}}{L} - \\frac{0.75 A E u_{T1 y}}{L}\\\\- \\frac{0.25 A E u_{B1 x}}{L} + \\frac{0.25 \\sqrt{3} A E u_{B1 y}}{L} + \\frac{1.5 A E u_{T0 x}}{L} - \\frac{1.0 A E u_{T1 x}}{L}\\\\\\frac{0.25 \\sqrt{3} A E u_{B1 x}}{L} - \\frac{0.75 A E u_{B1 y}}{L} + \\frac{1.5 A E u_{T0 y}}{L}\\\\- \\frac{0.25 A E u_{B1 x}}{L} - \\frac{0.25 \\sqrt{3} A E u_{B1 y}}{L} - \\frac{1.0 A E u_{T0 x}}{L} + \\frac{1.5 A E u_{T1 x}}{L}\\\\- \\frac{0.25 \\sqrt{3} A E u_{B1 x}}{L} - \\frac{0.75 A E u_{B1 y}}{L} + \\frac{1.5 A E u_{T1 y}}{L}\\end{matrix}\\right] = \\left[\\begin{matrix}0\\\\f_{ext}\\\\0\\\\0\\\\0\\\\0\\end{matrix}\\right]$"
      ],
      "text/plain": [
       "Eq(Matrix([\n",
       "[2.5*A*E*u_B1_x/L - 0.25*A*E*u_T0_x/L + 0.25*sqrt(3)*A*E*u_T0_y/L - 0.25*A*E*u_T1_x/L - 0.25*sqrt(3)*A*E*u_T1_y/L],\n",
       "[1.5*A*E*u_B1_y/L + 0.25*sqrt(3)*A*E*u_T0_x/L - 0.75*A*E*u_T0_y/L - 0.25*sqrt(3)*A*E*u_T1_x/L - 0.75*A*E*u_T1_y/L],\n",
       "[                            -0.25*A*E*u_B1_x/L + 0.25*sqrt(3)*A*E*u_B1_y/L + 1.5*A*E*u_T0_x/L - 1.0*A*E*u_T1_x/L],\n",
       "[                                                0.25*sqrt(3)*A*E*u_B1_x/L - 0.75*A*E*u_B1_y/L + 1.5*A*E*u_T0_y/L],\n",
       "[                            -0.25*A*E*u_B1_x/L - 0.25*sqrt(3)*A*E*u_B1_y/L - 1.0*A*E*u_T0_x/L + 1.5*A*E*u_T1_x/L],\n",
       "[                                               -0.25*sqrt(3)*A*E*u_B1_x/L - 0.75*A*E*u_B1_y/L + 1.5*A*E*u_T1_y/L]]), Matrix([\n",
       "[    0],\n",
       "[f_ext],\n",
       "[    0],\n",
       "[    0],\n",
       "[    0],\n",
       "[    0]]))"
      ]
     },
     "execution_count": 57,
     "metadata": {},
     "output_type": "execute_result"
    }
   ],
   "source": [
    "eq = Eq(K_dense * u_dense, f_dense)\n",
    "eq"
   ]
  },
  {
   "cell_type": "code",
   "execution_count": 58,
   "id": "c5a1ad07",
   "metadata": {},
   "outputs": [
    {
     "data": {
      "text/plain": [
       "{L: 0.15, A: 2e-05, E: 3000000000.0, f_ext: -9.8}"
      ]
     },
     "execution_count": 58,
     "metadata": {},
     "output_type": "execute_result"
    }
   ],
   "source": [
    "# --- Numerical parameters (Pint quantities) ---\n",
    "params = {\n",
    "    'L': 15.0 * ureg.cm,\n",
    "    'A': 1.0 * ureg.cm * 0.2 * ureg.cm,\n",
    "    'E': 3.0e9 * ureg.Pa,\n",
    "    'f_ext': -9.8 * ureg.newton,\n",
    "}\n",
    "\n",
    "symbols_to_sub = [L, A, E, f_ext]\n",
    "subs = make_subs(symbols_to_sub, params)\n",
    "subs"
   ]
  },
  {
   "cell_type": "code",
   "execution_count": 59,
   "id": "46f51814",
   "metadata": {},
   "outputs": [],
   "source": [
    "eqs_num = eq.subs(subs)\n"
   ]
  },
  {
   "cell_type": "code",
   "execution_count": 60,
   "id": "dbc4a70a",
   "metadata": {},
   "outputs": [
    {
     "data": {
      "text/plain": [
       "{u_B1_x: 0.0,\n",
       " u_B1_y: -4.08333333333333e-5,\n",
       " u_T0_x: 7.07254079757292e-6,\n",
       " u_T0_y: -2.04166666666667e-5,\n",
       " u_T1_x: -7.07254079757292e-6,\n",
       " u_T1_y: -2.04166666666667e-5}"
      ]
     },
     "execution_count": 60,
     "metadata": {},
     "output_type": "execute_result"
    }
   ],
   "source": [
    "sol = solve(eqs_num, u_dense)\n",
    "sol"
   ]
  },
  {
   "cell_type": "code",
   "execution_count": 61,
   "id": "00981754",
   "metadata": {},
   "outputs": [],
   "source": [
    "G_disp = G.copy()\n",
    "scale = 300\n",
    "\n",
    "for node in G_disp.nodes:\n",
    "    pos = getattr_node(G_disp, node, 'pos')\n",
    "    u = getattr_node(G_disp, node, 'disp')\n",
    "    u_eval = u.subs(sol).evalf() * scale\n",
    "    pos_new = pos + u_eval\n",
    "    setattr_node(G_disp, node, pos=pos_new)"
   ]
  },
  {
   "cell_type": "code",
   "execution_count": 62,
   "id": "4cfaa060",
   "metadata": {},
   "outputs": [
    {
     "data": {
      "image/png": "[encoded data removed]",
      "text/plain": [
       "<Figure size 450x262.5 with 1 Axes>"
      ]
     },
     "metadata": {},
     "output_type": "display_data"
    }
   ],
   "source": [
    "subs = {L: 0.15}\n",
    "draw_truss(G, subs, label_nodes=False, alpha=0.3)\n",
    "draw_truss(G_disp, subs)"
   ]
  },
  {
   "cell_type": "markdown",
   "id": "e27da3a4",
   "metadata": {
    "tags": [
     "remove-print"
    ]
   },
   "source": [
    "[Think Linear Algebra](https://allendowney.github.io/ThinkLinearAlgebra/index.html)\n",
    "\n",
    "Copyright 2025 [Allen B. Downey](https://allendowney.com)\n",
    "\n",
    "Code license: [MIT License](https://mit-license.org/)\n",
    "\n",
    "Text license: [Creative Commons Attribution-NonCommercial-ShareAlike 4.0 International](https://creativecommons.org/licenses/by-nc-sa/4.0/)"
   ]
  },
  {
   "cell_type": "code",
   "execution_count": null,
   "id": "c8b4e400-dc97-498e-9016-3e9ef05dc7a3",
   "metadata": {},
   "outputs": [],
   "source": []
  }
 ],
 "metadata": {
  "celltoolbar": "Tags",
  "kernelspec": {
   "display_name": "Python 3 (ipykernel)",
   "language": "python",
   "name": "python3"
  },
  "language_info": {
   "codemirror_mode": {
    "name": "ipython",
    "version": 3
   },
   "file_extension": ".py",
   "mimetype": "text/x-python",
   "name": "python",
   "nbconvert_exporter": "python",
   "pygments_lexer": "ipython3",
   "version": "3.10.16"
  }
 },
 "nbformat": 4,
 "nbformat_minor": 5
}
