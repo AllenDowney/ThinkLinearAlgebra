{
 "cells": [
  {
   "cell_type": "markdown",
   "id": "025b76df",
   "metadata": {},
   "source": [
    "*Think Linear Algebra* is not for sale yet, but if you would like to support this project, you can [buy me a coffee](https://buymeacoffee.com/allendowney)."
   ]
  },
  {
   "cell_type": "markdown",
   "id": "e03709d8",
   "metadata": {},
   "source": [
    "# Truss in the System\n",
    "\n",
    "In this chapter, we'll use systems of linear equations to analyze trusses.\n",
    "\n",
    "A **truss** is an assembly of beams connected by joints, usually designed to support a load. Many bridges and roofs are supported by trusses, and if you've ever participated in a model bridge competition, the structure you built was probably a truss.\n",
    "\n",
    "This picture shows a **Warren truss**, the basis of many railroad bridge designs:\n",
    "\n",
    "<img width=\"400\" src=\"https://upload.wikimedia.org/wikipedia/commons/thumb/2/2b/VIEW_OF_BRIDGE_FROM_SOUTH_WITH_ONCOMING_CSX_LOCOMOTIVE_ON_TRACKS_BELOW%2C_LOOKING_NORTHEAST_-_Wills_Creek_Bollman_Bridge%2C_Spanning_CSX_tracks_at_T381%2C_Meyersdale%2C_Somerset_County%2C_HAER_PA%2C56-MEYER.V%2C2-2.tif/lossy-page1-800px-thumbnail.tif.jpg\">\n",
    "\n",
    "This structure is made of three connected triangles with horizontal beams across the top. It's supported by anchor points at each end, and it carries a deck that supports a roadway. The load on the truss includes the weight of the roadway, any vehicles on it, and the weight of the truss itself."
   ]
  },
  {
   "cell_type": "markdown",
   "id": "a629e20c",
   "metadata": {},
   "source": [
    "To model a structure like this, we'll make some simplifying assumptions:\n",
    "\n",
    "- We'll treat the structure as two-dimensional, analyzing only one side of the truss.\n",
    "\n",
    "- We'll assume the joints behave like **hinge pins** that connect members but allow them to rotate freely.\n",
    "\n",
    "- We'll assume the load is applied only at the joints, not along the length of the members.\n",
    "\n",
    "- We'll treat each member of the truss as a **spring** that pushes or pulls in response to stretching or compression, with force that depends on its size and material.\n",
    "\n",
    "- We'll assume that the stretching and compression are small enough that the geometry of the truss is unchanged. \n",
    "\n",
    "These assumptions aren't fully realistic, but they're reasonable approximations.\n",
    "With them, we can analyze the structure -- that is, for a given load, we can compute how much each member stretches or compresses, and how much force it exerts in response.\n",
    "\n",
    "The goal is to find an **equilibrium**, where the external forces applied to the truss are exactly balanced by internal spring forces in the members.\n",
    "\n",
    "To solve this system, we'll use **projection matrices**, which we saw in Section XXX, and we'll introduce **block matrices**, which are matrices that contain vectors or submatrices as elements."
   ]
  },
  {
   "cell_type": "markdown",
   "id": "3893fe82",
   "metadata": {
    "tags": [
     "remove-print"
    ]
   },
   "source": [
    "[Click here to run this notebook on Colab](https://colab.research.google.com/github/AllenDowney/ThinkLinearAlgebra/blob/main/nb/nullspace.ipynb)."
   ]
  },
  {
   "cell_type": "code",
   "execution_count": 84,
   "id": "351a9381",
   "metadata": {},
   "outputs": [
    {
     "name": "stdout",
     "output_type": "stream",
     "text": [
      "The autoreload extension is already loaded. To reload it, use:\n",
      "  %reload_ext autoreload\n"
     ]
    }
   ],
   "source": [
    "%load_ext autoreload\n",
    "%autoreload 2"
   ]
  },
  {
   "cell_type": "code",
   "execution_count": 85,
   "id": "02d400cf",
   "metadata": {
    "tags": [
     "remove-print",
     "hide-cell"
    ]
   },
   "outputs": [],
   "source": [
    "from os.path import basename, exists\n",
    "\n",
    "\n",
    "def download(url):\n",
    "    filename = basename(url)\n",
    "    if not exists(filename):\n",
    "        from urllib.request import urlretrieve\n",
    "\n",
    "        local, _ = urlretrieve(url, filename)\n",
    "        print(\"Downloaded \" + local)\n",
    "\n",
    "\n",
    "download(\"https://github.com/AllenDowney/ThinkLinearAlgebra/raw/main/utils.py\")"
   ]
  },
  {
   "cell_type": "code",
   "execution_count": 86,
   "id": "1a3119be",
   "metadata": {
    "tags": [
     "hide-cell",
     "remove-print"
    ]
   },
   "outputs": [],
   "source": [
    "import networkx as nx\n",
    "import numpy as np\n",
    "import pandas as pd\n",
    "import matplotlib.pyplot as plt\n",
    "import sympy as sp\n",
    "\n",
    "from utils import decorate, underride"
   ]
  },
  {
   "cell_type": "markdown",
   "id": "9ebc865a",
   "metadata": {},
   "source": [
    "## The Simplest Truss\n",
    "\n",
    "We'll start with a truss that's about as simple as it can be, shown in the following diagram."
   ]
  },
  {
   "cell_type": "code",
   "execution_count": 87,
   "id": "ec0e0497",
   "metadata": {},
   "outputs": [
    {
     "data": {
      "image/png": "[encoded data removed]",
      "text/plain": [
       "<Figure size 450x262.5 with 1 Axes>"
      ]
     },
     "metadata": {},
     "output_type": "display_data"
    }
   ],
   "source": [
    "from utils import diagram_truss\n",
    "\n",
    "# Define endpoints of truss members (undisplaced)\n",
    "l = 0.15\n",
    "lower_left = np.array([-l, -l])   \n",
    "lower_right = np.array([l, -l])   \n",
    "top = np.array([0, 0])\n",
    "nodes = lower_left, lower_right, top\n",
    "\n",
    "diagram_truss(nodes, add_vectors=False)\n",
    "\n",
    "lim = 1.2 * l\n",
    "plt.xlim(-lim, lim)\n",
    "plt.ylim(-lim, lim/2)\n",
    "plt.gca().set_aspect('equal')\n",
    "plt.axis('off')\n",
    "None"
   ]
  },
  {
   "cell_type": "markdown",
   "id": "0608bcbf",
   "metadata": {},
   "source": [
    "The truss contains only two elements.\n",
    "The one on the left is anchored at point A, the one on the right is anchored at point B, and they are connected to each other at point C.\n",
    "\n",
    "The triangles represent anchors holding the points A and B in place.\n",
    "The circle represents a pin joint that can move under load.\n",
    "\n",
    "To start the analysis of this truss, we'll define symbols to represent the starting position of point C in two dimensions."
   ]
  },
  {
   "cell_type": "code",
   "execution_count": 114,
   "id": "5c873dfa",
   "metadata": {},
   "outputs": [],
   "source": [
    "from sympy import symbols\n",
    "\n",
    "x_C, y_C = symbols('x_C y_C')"
   ]
  },
  {
   "cell_type": "markdown",
   "id": "c07d1bbd",
   "metadata": {},
   "source": [
    "And two more symbols to represent the displacement of point C from its starting position.\n",
    "These are the unknowns we will solve for."
   ]
  },
  {
   "cell_type": "code",
   "execution_count": 115,
   "id": "f36fced2",
   "metadata": {},
   "outputs": [],
   "source": [
    "u_x, u_y = symbols('u_x u_y')"
   ]
  },
  {
   "cell_type": "markdown",
   "id": "d716326d",
   "metadata": {},
   "source": [
    "It will convenient to pack these unknowns into a column vector."
   ]
  },
  {
   "cell_type": "code",
   "execution_count": 116,
   "id": "2724ec07",
   "metadata": {},
   "outputs": [
    {
     "data": {
      "text/latex": [
       "$\\displaystyle \\left[\\begin{matrix}u_{x}\\\\u_{y}\\end{matrix}\\right]$"
      ],
      "text/plain": [
       "Matrix([\n",
       "[u_x],\n",
       "[u_y]])"
      ]
     },
     "execution_count": 116,
     "metadata": {},
     "output_type": "execute_result"
    }
   ],
   "source": [
    "from sympy import Matrix\n",
    "\n",
    "u_C = Matrix([u_x, u_y])\n",
    "u_C"
   ]
  },
  {
   "cell_type": "markdown",
   "id": "de4301b3",
   "metadata": {},
   "source": [
    "Similarly, we'll create matrices to represent the starting positions of points A, B, and C, based on `L`, which represents the length of one of the elements of the truss."
   ]
  },
  {
   "cell_type": "code",
   "execution_count": 117,
   "id": "e44155c4",
   "metadata": {},
   "outputs": [],
   "source": [
    "L = symbols('L')\n",
    "pos_A = Matrix([0, 0])\n",
    "pos_B = Matrix([L, 0])\n",
    "pos_C = Matrix([x_C, y_C])"
   ]
  },
  {
   "cell_type": "markdown",
   "id": "3f2bb485",
   "metadata": {},
   "source": [
    "Next we'll compute the spring constant of the two elements, which is the product of the cross-sectional area, `A`, and the Young's modulus, `E`, divided by length `L`.\n",
    "\n",
    "For this example, we'll assume that the cross-sectional area is the same but not necessarily the Young's modulus.\n",
    "Here are the symbols we need:"
   ]
  },
  {
   "cell_type": "code",
   "execution_count": 118,
   "id": "4d77cdac",
   "metadata": {},
   "outputs": [],
   "source": [
    "A = symbols('A')\n",
    "E_CA, E_CB = symbols('E_CA E_CB')"
   ]
  },
  {
   "cell_type": "markdown",
   "id": "247cf627",
   "metadata": {},
   "source": [
    "And the spring constants:"
   ]
  },
  {
   "cell_type": "code",
   "execution_count": 119,
   "id": "8c7eaa48",
   "metadata": {},
   "outputs": [
    {
     "data": {
      "text/latex": [
       "$\\displaystyle \\frac{A E_{CA}}{L}$"
      ],
      "text/plain": [
       "A*E_CA/L"
      ]
     },
     "metadata": {},
     "output_type": "display_data"
    },
    {
     "data": {
      "text/latex": [
       "$\\displaystyle \\frac{A E_{CB}}{L}$"
      ],
      "text/plain": [
       "A*E_CB/L"
      ]
     },
     "metadata": {},
     "output_type": "display_data"
    }
   ],
   "source": [
    "k_CA = E_CA * A / L\n",
    "k_CB = E_CB * A / L\n",
    "\n",
    "display(k_CA, k_CB)"
   ]
  },
  {
   "cell_type": "markdown",
   "id": "bbe8d016",
   "metadata": {},
   "source": [
    "Next we'll compute vectors that represent the offset of A and B, relative to C."
   ]
  },
  {
   "cell_type": "code",
   "execution_count": 120,
   "id": "30281277",
   "metadata": {},
   "outputs": [],
   "source": [
    "r_CA = pos_A - pos_C\n",
    "r_CB = pos_B - pos_C"
   ]
  },
  {
   "cell_type": "markdown",
   "id": "2a32f3c1",
   "metadata": {},
   "source": [
    "Now, to compute the spring forces in the elements, we have to figure out what part of the displacement, `u`, is along the axis of each element.\n",
    "We can do that by computing the vector projection of `u` onto `r_CA` and `r_CB`, as shown in this diagram."
   ]
  },
  {
   "cell_type": "code",
   "execution_count": 121,
   "id": "4150c92d",
   "metadata": {},
   "outputs": [
    {
     "data": {
      "image/png": "[encoded data removed]",
      "text/plain": [
       "<Figure size 375x375 with 1 Axes>"
      ]
     },
     "metadata": {},
     "output_type": "display_data"
    }
   ],
   "source": [
    "from utils import plot_vector, remove_spines\n",
    "\n",
    "plt.figure(figsize=(5, 5))\n",
    "\n",
    "u = np.array([3, -7]) * 1e-6\n",
    "scale = 2e4\n",
    "\n",
    "diagram_truss(nodes, u*scale, add_pin=False, add_labels=False)\n",
    "\n",
    "plt.xlim(-lim, lim)\n",
    "plt.ylim(-lim, lim/4)\n",
    "\n",
    "plt.xlabel('x position in m')\n",
    "plt.ylabel('y position in m')\n",
    "plt.title('')\n",
    "remove_spines()"
   ]
  },
  {
   "cell_type": "markdown",
   "id": "6e3c8dc2",
   "metadata": {},
   "source": [
    "To compute the vector projection, we'll use this function, which:\n",
    "\n",
    "1. Computes the unit vector in the direction of `r`, called `r_hat`,\n",
    "\n",
    "2. Computes `r_hat.T * u`, which is the scalar magnitude of `u` in the direction of `r_hat`, and\n",
    "\n",
    "3. Multiplies the result by `r_hat`.\n",
    "\n",
    "The result is a vector that represents the component of `u` in the direction of `r`. "
   ]
  },
  {
   "cell_type": "code",
   "execution_count": 158,
   "id": "cec758fe",
   "metadata": {},
   "outputs": [],
   "source": [
    "def vector_projection(u, r):\n",
    "    r_hat = r.normalized()\n",
    "    scalar_projection = r_hat.T * u\n",
    "    return r_hat * scalar_projection"
   ]
  },
  {
   "cell_type": "markdown",
   "id": "0fdbed46",
   "metadata": {},
   "source": [
    "To compute the spring forces in the elements, we multiply the spring constants by the scalar projections."
   ]
  },
  {
   "cell_type": "code",
   "execution_count": 159,
   "id": "73f4dfd4",
   "metadata": {},
   "outputs": [],
   "source": [
    "f_CA = -k_CA * vector_projection(u_C, r_CA)\n",
    "f_CB = -k_CB * vector_projection(u_C, r_CB)"
   ]
  },
  {
   "cell_type": "markdown",
   "id": "41898fd9",
   "metadata": {},
   "source": [
    "As an example, here's `f_CA`, which is a force vector."
   ]
  },
  {
   "cell_type": "code",
   "execution_count": 160,
   "id": "5a267508",
   "metadata": {},
   "outputs": [
    {
     "data": {
      "text/latex": [
       "$\\displaystyle \\left[\\begin{matrix}\\frac{A E_{CA} x_{C} \\left(- \\frac{u_{x} x_{C}}{\\sqrt{\\left|{x_{C}}\\right|^{2} + \\left|{y_{C}}\\right|^{2}}} - \\frac{u_{y} y_{C}}{\\sqrt{\\left|{x_{C}}\\right|^{2} + \\left|{y_{C}}\\right|^{2}}}\\right)}{L \\sqrt{\\left|{x_{C}}\\right|^{2} + \\left|{y_{C}}\\right|^{2}}}\\\\\\frac{A E_{CA} y_{C} \\left(- \\frac{u_{x} x_{C}}{\\sqrt{\\left|{x_{C}}\\right|^{2} + \\left|{y_{C}}\\right|^{2}}} - \\frac{u_{y} y_{C}}{\\sqrt{\\left|{x_{C}}\\right|^{2} + \\left|{y_{C}}\\right|^{2}}}\\right)}{L \\sqrt{\\left|{x_{C}}\\right|^{2} + \\left|{y_{C}}\\right|^{2}}}\\end{matrix}\\right]$"
      ],
      "text/plain": [
       "Matrix([\n",
       "[A*E_CA*x_C*(-u_x*x_C/sqrt(Abs(x_C)**2 + Abs(y_C)**2) - u_y*y_C/sqrt(Abs(x_C)**2 + Abs(y_C)**2))/(L*sqrt(Abs(x_C)**2 + Abs(y_C)**2))],\n",
       "[A*E_CA*y_C*(-u_x*x_C/sqrt(Abs(x_C)**2 + Abs(y_C)**2) - u_y*y_C/sqrt(Abs(x_C)**2 + Abs(y_C)**2))/(L*sqrt(Abs(x_C)**2 + Abs(y_C)**2))]])"
      ]
     },
     "execution_count": 160,
     "metadata": {},
     "output_type": "execute_result"
    }
   ],
   "source": [
    "f_CA"
   ]
  },
  {
   "cell_type": "markdown",
   "id": "6ce244bb",
   "metadata": {},
   "source": [
    "The total force due to the compression of these elements is the sum of the spring forces."
   ]
  },
  {
   "cell_type": "code",
   "execution_count": 161,
   "id": "bc8eb8c1",
   "metadata": {},
   "outputs": [],
   "source": [
    "f_int = f_CA + f_CB"
   ]
  },
  {
   "cell_type": "markdown",
   "id": "11b08f31",
   "metadata": {},
   "source": [
    "Let's suppose that the external force at `C` is a weight that pulls down in the `y` direction, with no additional force in the `x` direction."
   ]
  },
  {
   "cell_type": "code",
   "execution_count": 162,
   "id": "3287dcca",
   "metadata": {},
   "outputs": [],
   "source": [
    "F = symbols('F')\n",
    "f_ext = Matrix([0, -F])"
   ]
  },
  {
   "cell_type": "markdown",
   "id": "82ad4709",
   "metadata": {},
   "source": [
    "If the truss is not moving, the internal and external forces must be equal, so we can write this equation, which relates the external force to the spring forces."
   ]
  },
  {
   "cell_type": "code",
   "execution_count": 163,
   "id": "8bbc69a7",
   "metadata": {},
   "outputs": [
    {
     "data": {
      "text/latex": [
       "$\\displaystyle \\left[\\begin{matrix}\\frac{A E_{CA} x_{C} \\left(- \\frac{u_{x} x_{C}}{\\sqrt{\\left|{x_{C}}\\right|^{2} + \\left|{y_{C}}\\right|^{2}}} - \\frac{u_{y} y_{C}}{\\sqrt{\\left|{x_{C}}\\right|^{2} + \\left|{y_{C}}\\right|^{2}}}\\right)}{L \\sqrt{\\left|{x_{C}}\\right|^{2} + \\left|{y_{C}}\\right|^{2}}} - \\frac{A E_{CB} \\left(L - x_{C}\\right) \\left(\\frac{u_{x} \\left(L - x_{C}\\right)}{\\sqrt{\\left|{y_{C}}\\right|^{2} + \\left|{L - x_{C}}\\right|^{2}}} - \\frac{u_{y} y_{C}}{\\sqrt{\\left|{y_{C}}\\right|^{2} + \\left|{L - x_{C}}\\right|^{2}}}\\right)}{L \\sqrt{\\left|{y_{C}}\\right|^{2} + \\left|{L - x_{C}}\\right|^{2}}}\\\\\\frac{A E_{CA} y_{C} \\left(- \\frac{u_{x} x_{C}}{\\sqrt{\\left|{x_{C}}\\right|^{2} + \\left|{y_{C}}\\right|^{2}}} - \\frac{u_{y} y_{C}}{\\sqrt{\\left|{x_{C}}\\right|^{2} + \\left|{y_{C}}\\right|^{2}}}\\right)}{L \\sqrt{\\left|{x_{C}}\\right|^{2} + \\left|{y_{C}}\\right|^{2}}} + \\frac{A E_{CB} y_{C} \\left(\\frac{u_{x} \\left(L - x_{C}\\right)}{\\sqrt{\\left|{y_{C}}\\right|^{2} + \\left|{L - x_{C}}\\right|^{2}}} - \\frac{u_{y} y_{C}}{\\sqrt{\\left|{y_{C}}\\right|^{2} + \\left|{L - x_{C}}\\right|^{2}}}\\right)}{L \\sqrt{\\left|{y_{C}}\\right|^{2} + \\left|{L - x_{C}}\\right|^{2}}}\\end{matrix}\\right] = \\left[\\begin{matrix}0\\\\- F\\end{matrix}\\right]$"
      ],
      "text/plain": [
       "Eq(Matrix([\n",
       "[A*E_CA*x_C*(-u_x*x_C/sqrt(Abs(x_C)**2 + Abs(y_C)**2) - u_y*y_C/sqrt(Abs(x_C)**2 + Abs(y_C)**2))/(L*sqrt(Abs(x_C)**2 + Abs(y_C)**2)) - A*E_CB*(L - x_C)*(u_x*(L - x_C)/sqrt(Abs(y_C)**2 + Abs(L - x_C)**2) - u_y*y_C/sqrt(Abs(y_C)**2 + Abs(L - x_C)**2))/(L*sqrt(Abs(y_C)**2 + Abs(L - x_C)**2))],\n",
       "[      A*E_CA*y_C*(-u_x*x_C/sqrt(Abs(x_C)**2 + Abs(y_C)**2) - u_y*y_C/sqrt(Abs(x_C)**2 + Abs(y_C)**2))/(L*sqrt(Abs(x_C)**2 + Abs(y_C)**2)) + A*E_CB*y_C*(u_x*(L - x_C)/sqrt(Abs(y_C)**2 + Abs(L - x_C)**2) - u_y*y_C/sqrt(Abs(y_C)**2 + Abs(L - x_C)**2))/(L*sqrt(Abs(y_C)**2 + Abs(L - x_C)**2))]]), Matrix([\n",
       "[ 0],\n",
       "[-F]]))"
      ]
     },
     "execution_count": 163,
     "metadata": {},
     "output_type": "execute_result"
    }
   ],
   "source": [
    "eq = sp.Eq(f_int, f_ext)\n",
    "eq"
   ]
  },
  {
   "cell_type": "markdown",
   "id": "29e466cf",
   "metadata": {},
   "source": [
    "To analyze the truss, we want to find the displacement `u` that solves this equation.\n",
    "First, let's plug in values for the symbols.\n",
    "\n",
    "For `L`, we'll use the length of a popsicle stick in centimeters, and compute the location of `x_C` and `y_C` accordingly.\n",
    "\n",
    "The cross-sectional area, `A`, is based on the approximate width and thickness of a popsicle stick.\n",
    "\n",
    "The Young's modulus of wood is about 3 gigapascal.\n",
    "\n",
    "Finally, let's suppose the external force is the weight of a one kilogram mass, which is roughly 9.8 N."
   ]
  },
  {
   "cell_type": "code",
   "execution_count": 164,
   "id": "f8f9bcb9",
   "metadata": {},
   "outputs": [],
   "source": [
    "import pint\n",
    "ureg = pint.UnitRegistry()\n",
    "\n",
    "params = {\n",
    "    'L': 15.0 * ureg.cm,\n",
    "    'x_C': 15.0 / 2 * ureg.cm,\n",
    "    'y_C': np.sqrt(3) * 15.0 / 2 * ureg.cm,\n",
    "    'A': 1.0 * ureg.cm * 0.2 * ureg.cm,\n",
    "    'E_CA': 3.0e9 * ureg.Pa,\n",
    "    'E_CB': 2.0e9 * ureg.Pa,\n",
    "    'F': 9.8 * ureg.newton,\n",
    "}"
   ]
  },
  {
   "cell_type": "markdown",
   "id": "ec172150",
   "metadata": {},
   "source": [
    "To substitute these values into the equation, we'll use this function, which makes a dictionary to map from symbols to their values."
   ]
  },
  {
   "cell_type": "code",
   "execution_count": 165,
   "id": "12888d18",
   "metadata": {},
   "outputs": [],
   "source": [
    "def make_subs(symbols, params):\n",
    "    \"\"\"Make a dictionary that maps from symbols to quantities.\"\"\"\n",
    "    return {sym: params[sym.name].to_base_units().magnitude \n",
    "            for sym in symbols}"
   ]
  },
  {
   "cell_type": "markdown",
   "id": "7f64250a",
   "metadata": {},
   "source": [
    "Now we can express the equation numerically."
   ]
  },
  {
   "cell_type": "code",
   "execution_count": 166,
   "id": "7823b73e",
   "metadata": {},
   "outputs": [
    {
     "data": {
      "text/latex": [
       "$\\displaystyle \\left[\\begin{matrix}- 166666.666666667 u_{x} - 57735.0269189626 u_{y}\\\\- 57735.0269189626 u_{x} - 500000.0 u_{y}\\end{matrix}\\right] = \\left[\\begin{matrix}0\\\\-9.8\\end{matrix}\\right]$"
      ],
      "text/plain": [
       "Eq(Matrix([\n",
       "[-166666.666666667*u_x - 57735.0269189626*u_y],\n",
       "[        -57735.0269189626*u_x - 500000.0*u_y]]), Matrix([\n",
       "[   0],\n",
       "[-9.8]]))"
      ]
     },
     "execution_count": 166,
     "metadata": {},
     "output_type": "execute_result"
    }
   ],
   "source": [
    "syms = [L, x_C, y_C, A, E_CA, E_CB, F]\n",
    "subs = make_subs(syms, params)\n",
    "\n",
    "eqs_num = eq.subs(subs)\n",
    "eqs_num"
   ]
  },
  {
   "cell_type": "code",
   "execution_count": 167,
   "id": "354f1d41",
   "metadata": {},
   "outputs": [
    {
     "data": {
      "text/plain": [
       "{u_x: -7.07254079757292e-6, u_y: 2.04166666666667e-5}"
      ]
     },
     "execution_count": 167,
     "metadata": {},
     "output_type": "execute_result"
    }
   ],
   "source": [
    "from sympy import solve\n",
    "\n",
    "sol = solve(eqs_num, (u_x, u_y))\n",
    "sol"
   ]
  },
  {
   "cell_type": "markdown",
   "id": "090af1d5",
   "metadata": {},
   "source": [
    "## The Stiffness Mutrix\n",
    "\n",
    "In the previous section, we wrote a vector equation with external force on the right and internal force on the left.\n",
    "The SciPy `solve` function can solve the equation in this form, so it's sufficient to analyze the truss.  [TODO: Does solve have to rewrite it us a matrix equation?]\n",
    "\n",
    "To write the left side us a matrix-vector product, we could factor out `u_x` and `u_y`.\n",
    "Or we can go back and write it that way in the first place.\n",
    "To do that, let's rethink the scalar projection.\n",
    "\n",
    "$$\\mathrm{proj}_{r} u = \\hat{r}\\, \\hat{r}^T u$$\n",
    "\n",
    "\n",
    "In `vector_projection`, we computed the scalar projection `r_hat.T u` first, to get the magnitude of the projection of `u` in the direction of `r`, and then multiplied by `r_hat`.\n",
    "In other words, we evaluated the vector projection like this:\n",
    "\n",
    "$$\\mathrm{proj}_{r} u = \\hat{r}\\, (\\hat{r}^T u)$$\n",
    "\n",
    "As an alternative, we could have multiplied `r_hat` and `r_hat.T` first, like this:\n",
    "\n",
    "$$\\mathrm{proj}_{r} u = (\\hat{r}\\, \\hat{r}^T) u$$\n",
    "\n",
    "If `r_hat` is a column vector, the product of `r_hat` and `r_hat.T` is a matrix called a **projector**, which we can compute like this."
   ]
  },
  {
   "cell_type": "code",
   "execution_count": 168,
   "id": "ca06180b",
   "metadata": {},
   "outputs": [],
   "source": [
    "def projector(r):\n",
    "    rhat = r.normalized()\n",
    "    return rhat * rhat.T"
   ]
  },
  {
   "cell_type": "markdown",
   "id": "582e51bc",
   "metadata": {},
   "source": [
    "As an example, here's the projector matrix for the vector `r_CA`."
   ]
  },
  {
   "cell_type": "code",
   "execution_count": 172,
   "id": "4b96ee8e",
   "metadata": {},
   "outputs": [
    {
     "data": {
      "text/latex": [
       "$\\displaystyle \\left[\\begin{matrix}\\frac{x_{C}^{2}}{\\left|{x_{C}}\\right|^{2} + \\left|{y_{C}}\\right|^{2}} & \\frac{x_{C} y_{C}}{\\left|{x_{C}}\\right|^{2} + \\left|{y_{C}}\\right|^{2}}\\\\\\frac{x_{C} y_{C}}{\\left|{x_{C}}\\right|^{2} + \\left|{y_{C}}\\right|^{2}} & \\frac{y_{C}^{2}}{\\left|{x_{C}}\\right|^{2} + \\left|{y_{C}}\\right|^{2}}\\end{matrix}\\right]$"
      ],
      "text/plain": [
       "Matrix([\n",
       "[ x_C**2/(Abs(x_C)**2 + Abs(y_C)**2), x_C*y_C/(Abs(x_C)**2 + Abs(y_C)**2)],\n",
       "[x_C*y_C/(Abs(x_C)**2 + Abs(y_C)**2),  y_C**2/(Abs(x_C)**2 + Abs(y_C)**2)]])"
      ]
     },
     "execution_count": 172,
     "metadata": {},
     "output_type": "execute_result"
    }
   ],
   "source": [
    "P_CA = projector(r_CA)\n",
    "P_CA"
   ]
  },
  {
   "cell_type": "markdown",
   "id": "e6f88910",
   "metadata": {},
   "source": [
    "Now if we multiply `P_CA` and `u`, the result is the vector projection of `u_C` onto `r_CA`."
   ]
  },
  {
   "cell_type": "code",
   "execution_count": 174,
   "id": "ff125cd8",
   "metadata": {},
   "outputs": [
    {
     "data": {
      "text/latex": [
       "$\\displaystyle \\left[\\begin{matrix}\\frac{u_{x} x_{C}^{2}}{\\left|{x_{C}}\\right|^{2} + \\left|{y_{C}}\\right|^{2}} + \\frac{u_{y} x_{C} y_{C}}{\\left|{x_{C}}\\right|^{2} + \\left|{y_{C}}\\right|^{2}}\\\\\\frac{u_{x} x_{C} y_{C}}{\\left|{x_{C}}\\right|^{2} + \\left|{y_{C}}\\right|^{2}} + \\frac{u_{y} y_{C}^{2}}{\\left|{x_{C}}\\right|^{2} + \\left|{y_{C}}\\right|^{2}}\\end{matrix}\\right]$"
      ],
      "text/plain": [
       "Matrix([\n",
       "[u_x*x_C**2/(Abs(x_C)**2 + Abs(y_C)**2) + u_y*x_C*y_C/(Abs(x_C)**2 + Abs(y_C)**2)],\n",
       "[u_x*x_C*y_C/(Abs(x_C)**2 + Abs(y_C)**2) + u_y*y_C**2/(Abs(x_C)**2 + Abs(y_C)**2)]])"
      ]
     },
     "execution_count": 174,
     "metadata": {},
     "output_type": "execute_result"
    }
   ],
   "source": [
    "P_CA * u_C"
   ]
  },
  {
   "cell_type": "markdown",
   "id": "d4ee0f17",
   "metadata": {},
   "source": [
    "But let's not combine `P_CA` and `U_C` yet; instead, we'll compute the projector matrix for the other element of the truss, `P_CB`."
   ]
  },
  {
   "cell_type": "code",
   "execution_count": null,
   "id": "5be912b0",
   "metadata": {},
   "outputs": [],
   "source": [
    "P_CB = projector(r_CB)"
   ]
  },
  {
   "cell_type": "markdown",
   "id": "764d92e1",
   "metadata": {},
   "source": [
    "If we multiply a projector matrix by the spring constant `k`, the result is a **stiffness matrix**.\n",
    "So `k_CA * P_CA` is the stiffness matrix due to the truss element `CA` and\n",
    "`k_CB * P_CB` is the stiffness matrix due to the truss element `CB`.\n",
    "Their sum is the stiffness matrix for the whole truss, which we'll call `K`.\n"
   ]
  },
  {
   "cell_type": "code",
   "execution_count": 170,
   "id": "40c23e9c",
   "metadata": {},
   "outputs": [
    {
     "data": {
      "text/latex": [
       "$\\displaystyle \\left[\\begin{matrix}\\frac{A E_{CA} x_{C}^{2}}{L \\left(\\left|{x_{C}}\\right|^{2} + \\left|{y_{C}}\\right|^{2}\\right)} + \\frac{A E_{CB} \\left(L - x_{C}\\right)^{2}}{L \\left(\\left|{y_{C}}\\right|^{2} + \\left|{L - x_{C}}\\right|^{2}\\right)} & \\frac{A E_{CA} x_{C} y_{C}}{L \\left(\\left|{x_{C}}\\right|^{2} + \\left|{y_{C}}\\right|^{2}\\right)} - \\frac{A E_{CB} y_{C} \\left(L - x_{C}\\right)}{L \\left(\\left|{y_{C}}\\right|^{2} + \\left|{L - x_{C}}\\right|^{2}\\right)}\\\\\\frac{A E_{CA} x_{C} y_{C}}{L \\left(\\left|{x_{C}}\\right|^{2} + \\left|{y_{C}}\\right|^{2}\\right)} - \\frac{A E_{CB} y_{C} \\left(L - x_{C}\\right)}{L \\left(\\left|{y_{C}}\\right|^{2} + \\left|{L - x_{C}}\\right|^{2}\\right)} & \\frac{A E_{CA} y_{C}^{2}}{L \\left(\\left|{x_{C}}\\right|^{2} + \\left|{y_{C}}\\right|^{2}\\right)} + \\frac{A E_{CB} y_{C}^{2}}{L \\left(\\left|{y_{C}}\\right|^{2} + \\left|{L - x_{C}}\\right|^{2}\\right)}\\end{matrix}\\right]$"
      ],
      "text/plain": [
       "Matrix([\n",
       "[  A*E_CA*x_C**2/(L*(Abs(x_C)**2 + Abs(y_C)**2)) + A*E_CB*(L - x_C)**2/(L*(Abs(y_C)**2 + Abs(L - x_C)**2)), A*E_CA*x_C*y_C/(L*(Abs(x_C)**2 + Abs(y_C)**2)) - A*E_CB*y_C*(L - x_C)/(L*(Abs(y_C)**2 + Abs(L - x_C)**2))],\n",
       "[A*E_CA*x_C*y_C/(L*(Abs(x_C)**2 + Abs(y_C)**2)) - A*E_CB*y_C*(L - x_C)/(L*(Abs(y_C)**2 + Abs(L - x_C)**2)),         A*E_CA*y_C**2/(L*(Abs(x_C)**2 + Abs(y_C)**2)) + A*E_CB*y_C**2/(L*(Abs(y_C)**2 + Abs(L - x_C)**2))]])"
      ]
     },
     "execution_count": 170,
     "metadata": {},
     "output_type": "execute_result"
    }
   ],
   "source": [
    "K = k_CA * P_CA + k_CB * P_CB\n",
    "K"
   ]
  },
  {
   "cell_type": "markdown",
   "id": "0a798217",
   "metadata": {},
   "source": [
    "To convert `K` to a NumPy array, we'll use the following function."
   ]
  },
  {
   "cell_type": "code",
   "execution_count": 181,
   "id": "af9b9075",
   "metadata": {},
   "outputs": [],
   "source": [
    "def sympy_to_numpy(expr, subs):\n",
    "    return np.array(expr.subs(subs), dtype=float)"
   ]
  },
  {
   "cell_type": "markdown",
   "id": "3b75c4dc",
   "metadata": {},
   "source": [
    "Here's `K` in numerical form."
   ]
  },
  {
   "cell_type": "code",
   "execution_count": 182,
   "id": "cb835d01",
   "metadata": {},
   "outputs": [
    {
     "data": {
      "text/plain": [
       "array([[166666.66666667,  57735.02691896],\n",
       "       [ 57735.02691896, 500000.        ]])"
      ]
     },
     "execution_count": 182,
     "metadata": {},
     "output_type": "execute_result"
    }
   ],
   "source": [
    "K_np = sympy_to_numpy(K, subs)\n",
    "K_np"
   ]
  },
  {
   "cell_type": "markdown",
   "id": "0411623b",
   "metadata": {},
   "source": [
    "If we multiply `K` by a displacement vector, the result is a force vector that represents the internal force due to that displacement.\n",
    "So one way to interpret the stiffness matrix is to test it with small displacements.\n",
    "Here's an example where we displace `C` by one micrometer in the `x` direction."
   ]
  },
  {
   "cell_type": "code",
   "execution_count": 195,
   "id": "0050b96f",
   "metadata": {},
   "outputs": [
    {
     "data": {
      "text/plain": [
       "array([-0.16666667, -0.05773503])"
      ]
     },
     "execution_count": 195,
     "metadata": {},
     "output_type": "execute_result"
    }
   ],
   "source": [
    "u_example1 = np.array([1, 0]) * 1e-6\n",
    "f_example1 = -K_np @ u_example1\n",
    "f_example1"
   ]
  },
  {
   "cell_type": "markdown",
   "id": "a62766eb",
   "metadata": {},
   "source": [
    "The restoring force is about 0.17 N in the negative `x` direction and 0.057 N in the negative `y` direction.\n",
    "And here's an example where we displace `C` by one micrometer in the `y` direction."
   ]
  },
  {
   "cell_type": "code",
   "execution_count": 196,
   "id": "64bd18c0",
   "metadata": {},
   "outputs": [
    {
     "data": {
      "text/plain": [
       "array([-0.05773503, -0.5       ])"
      ]
     },
     "execution_count": 196,
     "metadata": {},
     "output_type": "execute_result"
    }
   ],
   "source": [
    "u_example2 = np.array([0, 1]) * 1e-6\n",
    "f_example2 = -K_np @ u_example2\n",
    "f_example2"
   ]
  },
  {
   "cell_type": "markdown",
   "id": "2c3f6f24",
   "metadata": {},
   "source": [
    "The restoring force is about 0.057 N in the negative `x` direction and 0.5 N in the negative `y` direction.\n",
    "Comparing the magnitudes of these forces, we can see that this truss is stiffer in the `y` direction than in the `x`, by a factor of almost 3."
   ]
  },
  {
   "cell_type": "code",
   "execution_count": 197,
   "id": "15f82426",
   "metadata": {},
   "outputs": [
    {
     "data": {
      "text/plain": [
       "2.8535691936340255"
      ]
     },
     "execution_count": 197,
     "metadata": {},
     "output_type": "execute_result"
    }
   ],
   "source": [
    "from scipy.linalg import norm\n",
    "\n",
    "norm(f_example2) / norm(f_example1)"
   ]
  },
  {
   "cell_type": "code",
   "execution_count": 199,
   "id": "ef4b11e9",
   "metadata": {},
   "outputs": [
    {
     "data": {
      "text/plain": [
       "array([[ 0. ],\n",
       "       [-9.8]])"
      ]
     },
     "execution_count": 199,
     "metadata": {},
     "output_type": "execute_result"
    }
   ],
   "source": [
    "F_ext_np = sympy_to_numpy(f_ext, subs)\n",
    "F_ext_np"
   ]
  },
  {
   "cell_type": "code",
   "execution_count": 202,
   "id": "bc8f0a13",
   "metadata": {},
   "outputs": [
    {
     "data": {
      "text/plain": [
       "array([[ 7.07254080e-06],\n",
       "       [-2.04166667e-05]])"
      ]
     },
     "execution_count": 202,
     "metadata": {},
     "output_type": "execute_result"
    }
   ],
   "source": [
    "from scipy.linalg import solve as np_solve\n",
    "\n",
    "np_solve(K_np, F_ext_np)"
   ]
  },
  {
   "cell_type": "markdown",
   "id": "3ed1326b",
   "metadata": {},
   "source": [
    "## Force Field\n",
    "\n",
    "In the previous section, we used the stiffness matrix to compute the internal force that results from small displacements in the `x` and `y` direction.\n",
    "More generally, we can compute the force that results from any displacement.\n",
    "To demonstrate, we'll make an array of 9 values from -21 to 21 micrometers."
   ]
  },
  {
   "cell_type": "code",
   "execution_count": 232,
   "id": "3cc79fc3",
   "metadata": {},
   "outputs": [
    {
     "data": {
      "text/plain": [
       "array([-2.0e-05, -1.5e-05, -1.0e-05, -5.0e-06,  0.0e+00,  5.0e-06,\n",
       "        1.0e-05,  1.5e-05,  2.0e-05])"
      ]
     },
     "execution_count": 232,
     "metadata": {},
     "output_type": "execute_result"
    }
   ],
   "source": [
    "scale = 1e-6\n",
    "bound = 20\n",
    "displacements = np.linspace(-bound, bound, 9) * scale\n",
    "displacements"
   ]
  },
  {
   "cell_type": "markdown",
   "id": "1d3b1848",
   "metadata": {},
   "source": [
    "By enumerating all pairs of values, we'll make an array of 81 displacement vectors."
   ]
  },
  {
   "cell_type": "code",
   "execution_count": 233,
   "id": "db005ca6",
   "metadata": {},
   "outputs": [
    {
     "data": {
      "text/plain": [
       "(2, 81)"
      ]
     },
     "execution_count": 233,
     "metadata": {},
     "output_type": "execute_result"
    }
   ],
   "source": [
    "pairs = [(x, y) for x in displacements for y in displacements]\n",
    "U = np.array(pairs).T \n",
    "U.shape"
   ]
  },
  {
   "cell_type": "markdown",
   "id": "cd3dd1e5",
   "metadata": {},
   "source": [
    "`U` is matrix-like in the sense that it has two dimensions, but we are using it as a collection of vectors.\n",
    "If we multiply by the stiffness matrix, we can think of the result as a collection of force vectors."
   ]
  },
  {
   "cell_type": "code",
   "execution_count": 234,
   "id": "00db88fd",
   "metadata": {},
   "outputs": [
    {
     "data": {
      "text/plain": [
       "(2, 81)"
      ]
     },
     "execution_count": 234,
     "metadata": {},
     "output_type": "execute_result"
    }
   ],
   "source": [
    "F_field = -K_np @ U\n",
    "F_field.shape"
   ]
  },
  {
   "cell_type": "markdown",
   "id": "99e86f47",
   "metadata": {},
   "source": [
    "The following figure shows the results.\n",
    "The location of each arrow shows a hypothetical displacement.\n",
    "Each arrow shows the direction and relative magnitude of the resulting force due to displacement.\n",
    "Note that the positions and forces are not in the same units, so the scale of the arrows is arbitrary."
   ]
  },
  {
   "cell_type": "code",
   "execution_count": 240,
   "id": "b75bc84b",
   "metadata": {},
   "outputs": [
    {
     "data": {
      "image/png": "[encoded data removed]",
      "text/plain": [
       "<Figure size 375x375 with 1 Axes>"
      ]
     },
     "metadata": {},
     "output_type": "display_data"
    }
   ],
   "source": [
    "from utils import plot_vectors\n",
    "\n",
    "plt.figure(figsize=(5, 5))\n",
    "diagram_truss(nodes, add_pin=False, add_labels=False)\n",
    "\n",
    "options = dict(angles='xy', scale_units='xy', scale=5e-7)\n",
    "\n",
    "plot_vectors(F_field.T, U.T, color='C1', alpha=0.7, **options)\n",
    "\n",
    "plt.gca().set_aspect('equal')\n",
    "\n",
    "lim = scale * (bound + 2)\n",
    "plt.xlim(-lim, lim)\n",
    "plt.ylim(-lim, lim)\n",
    "\n",
    "ticks = np.arange(-20, 21, 5)\n",
    "plt.xticks(displacements, ticks)\n",
    "plt.yticks(displacements, ticks)\n",
    "\n",
    "plt.xlabel('x displacement in $\\mu$m')\n",
    "plt.ylabel('y displacement in $\\mu$m')\n",
    "plt.title('Restoring Force Field: $\\\\mathbf{f} = -\\\\mathbf{K} \\\\mathbf{u}$')\n",
    "plt.grid(True)\n",
    "None"
   ]
  },
  {
   "cell_type": "markdown",
   "id": "1cb42258",
   "metadata": {},
   "source": [
    "Multiplication by `K` is like a function: it takes a displacement vector and returns a corresponding force vector.\n",
    "\n",
    "A function that maps vectors to other vectors is sometimes called a **vector field**.\n",
    "And when those vectors represent forces, we call it a **force field**."
   ]
  },
  {
   "cell_type": "markdown",
   "id": "44c4d4d4",
   "metadata": {},
   "source": [
    "## Warren Trusses\n",
    "\n",
    "So far we've been working with a simple truss with only two elements.\n",
    "It contained only one node that could move, so we could analyze it with a vector equation with only two components.\n",
    "Now let's try something a little harder -- we'll analyze a Warren truss.\n",
    "We'll use NetworkX to represent the nodes and elements of the truss.\n",
    "Then we'll construct a matrix equation that relates the displacements at the nodes to the external forces.\n",
    "\n",
    "We'll use the following function to create a SymPy `Matrix` that represents a vector."
   ]
  },
  {
   "cell_type": "code",
   "execution_count": 244,
   "id": "74dc50bf",
   "metadata": {},
   "outputs": [],
   "source": [
    "def make_vector(x, y, **kwargs):\n",
    "    return sp.ImmutableDenseMatrix([[x], [y]])"
   ]
  },
  {
   "cell_type": "markdown",
   "id": "943f307d",
   "metadata": {},
   "source": [
    "And we'll use helper functions `gset` and `gget` to set and get attributes of the nodes and edges in a graph.\n",
    "\n",
    "TODO: Move these to utils."
   ]
  },
  {
   "cell_type": "code",
   "execution_count": 245,
   "id": "1f7b81f6",
   "metadata": {},
   "outputs": [],
   "source": [
    "def gset(G, item=None, **kwargs):\n",
    "    \"\"\"Set attributes on a node, edge, or the graph itself.\n",
    "\n",
    "    Args:\n",
    "        G: A NetworkX graph.\n",
    "        item: Node ID, edge tuple (u, v), or None for the graph itself.\n",
    "        **kwargs: Arbitrary key-value pairs to set as attributes.\n",
    "    \"\"\"\n",
    "    if item is None:\n",
    "        container = G.graph\n",
    "    elif isinstance(item, tuple) and len(item) == 2:\n",
    "        container = G.edges[item]\n",
    "    else:\n",
    "        container = G.nodes[item]\n",
    "\n",
    "    container.update(**kwargs)"
   ]
  },
  {
   "cell_type": "code",
   "execution_count": 246,
   "id": "8b762b5a",
   "metadata": {},
   "outputs": [],
   "source": [
    "def gget(G, item=None, *keys):\n",
    "    \"\"\"Get one or more attributes from a node, edge, or the graph itself.\n",
    "\n",
    "    Args:\n",
    "        G: A NetworkX graph.\n",
    "        item: Node ID, edge tuple (u, v), or None for the graph itself.\n",
    "        *keys: One or more attribute names.\n",
    "\n",
    "    Returns:\n",
    "        A single value if one key is provided, or a tuple of values if multiple.\n",
    "    \"\"\"\n",
    "    if item is None:\n",
    "        container = G.graph\n",
    "    elif isinstance(item, tuple) and len(item) == 2:\n",
    "        container = G.edges[item]\n",
    "    else:\n",
    "        container = G.nodes[item]\n",
    "\n",
    "    if len(keys) == 1:\n",
    "        return container[keys[0]]\n",
    "    return tuple(container[key] for key in keys)"
   ]
  },
  {
   "cell_type": "markdown",
   "id": "8ef1aacc",
   "metadata": {},
   "source": [
    "To specify the structure of the truss, we'll define `N`, which is the number of triangles in the truss, `L`, which is the length of the elements, and `H`, which is the height of the triangles.\n",
    "We'll assume that all elements are the same length, so the triangles are equilateral."
   ]
  },
  {
   "cell_type": "code",
   "execution_count": 247,
   "id": "169ba4ec",
   "metadata": {},
   "outputs": [],
   "source": [
    "N = 2\n",
    "L = sp.Symbol('L', positive=True)\n",
    "H = L * sp.sqrt(3) / 2"
   ]
  },
  {
   "cell_type": "markdown",
   "id": "10a4ec98",
   "metadata": {},
   "source": [
    "Now let's make the graph.\n",
    "To understand the code in this section, you might find it helpful to look ahead to the diagram that shows the results."
   ]
  },
  {
   "cell_type": "code",
   "execution_count": 251,
   "id": "c75e597b",
   "metadata": {},
   "outputs": [],
   "source": [
    "G = nx.Graph()"
   ]
  },
  {
   "cell_type": "markdown",
   "id": "9324d13c",
   "metadata": {},
   "source": [
    "First we'll create the nodes that run along the bottom of the truss and the edges that connect them."
   ]
  },
  {
   "cell_type": "code",
   "execution_count": 252,
   "id": "cd17b4bc",
   "metadata": {},
   "outputs": [],
   "source": [
    "origin = make_vector(0, 0)\n",
    "\n",
    "for i in range(N + 1):\n",
    "    pos = origin + make_vector(i * L, 0)\n",
    "    G.add_node(f'B{i}', pos=pos)\n",
    "    if i > 0:\n",
    "        G.add_edge(f'B{i-1}', f'B{i}')"
   ]
  },
  {
   "cell_type": "markdown",
   "id": "24c85945",
   "metadata": {},
   "source": [
    "The bottom nodes are assigned positions based on `L`, and labeled with strings like `B0`, `B1`, etc.\n",
    "\n",
    "Now we'll add the nodes that run along the top, the horizontal edges that connect them, and the diagonal edges that connect the top and bottom nodes."
   ]
  },
  {
   "cell_type": "code",
   "execution_count": 253,
   "id": "d6342299",
   "metadata": {},
   "outputs": [],
   "source": [
    "for i in range(N):\n",
    "    pos = origin + make_vector((i + 0.5) * L, H)\n",
    "    G.add_node(f'T{i}', pos=pos)\n",
    "    G.add_edge(f'B{i}', f'T{i}')\n",
    "    G.add_edge(f'T{i}', f'B{i+1}')\n",
    "\n",
    "    if i > 0:\n",
    "        G.add_edge(f'T{i-1}', f'T{i}')"
   ]
  },
  {
   "cell_type": "markdown",
   "id": "d8ea584b",
   "metadata": {},
   "source": [
    "The top nodes are assigned positions based on `L` and `H`, and labeled `T0`, `T1`, etc.\n",
    "\n",
    "Here's what the graph looks like."
   ]
  },
  {
   "cell_type": "code",
   "execution_count": 255,
   "id": "17cb8ed9",
   "metadata": {},
   "outputs": [],
   "source": [
    "def draw_truss(G, subs, label_nodes=True, **options):\n",
    "    pos = {}\n",
    "    for node in G.nodes:\n",
    "        p = gget(G, node, 'pos').subs(subs).evalf()\n",
    "        pos[node] = [float(x) for x in p]\n",
    "\n",
    "    underride(options, edge_color='C0')\n",
    "    nx.draw_networkx_edges(G, pos, width=2, **options)\n",
    "    if label_nodes:\n",
    "        node_options = dict(node_size=1000, node_color='white', edgecolors='C0')\n",
    "        nx.draw_networkx_nodes(G, pos, **node_options)\n",
    "        nx.draw_networkx_labels(G, pos, font_size=11)\n",
    "\n",
    "    plt.gca().set_aspect('equal')\n",
    "    plt.axis('off')"
   ]
  },
  {
   "cell_type": "code",
   "execution_count": 256,
   "id": "5d94a7e7",
   "metadata": {},
   "outputs": [
    {
     "data": {
      "image/png": "[encoded data removed]",
      "text/plain": [
       "<Figure size 450x262.5 with 1 Axes>"
      ]
     },
     "metadata": {},
     "output_type": "display_data"
    }
   ],
   "source": [
    "draw_truss(G, {L: 0.15})"
   ]
  },
  {
   "cell_type": "markdown",
   "id": "b7f1a5fb",
   "metadata": {},
   "source": [
    "We'll assume that the first and last nodes in the bottom row are fixed."
   ]
  },
  {
   "cell_type": "code",
   "execution_count": 34,
   "id": "8914645d",
   "metadata": {},
   "outputs": [],
   "source": [
    "gset(G, fixed=['B0', f'B{N}'])"
   ]
  },
  {
   "cell_type": "markdown",
   "id": "420f32ed",
   "metadata": {},
   "source": [
    "Now we'll loop through the nodes and assign a displacement vector to each one.\n",
    "For the fixed nodes, the components of the displacement vector are 0.\n",
    "For the other nodes, the components are SymPy symbols that represent the unknowns we will solve for."
   ]
  },
  {
   "cell_type": "code",
   "execution_count": 39,
   "id": "10c97a98",
   "metadata": {},
   "outputs": [],
   "source": [
    "for node in G.nodes():\n",
    "    if node in G.graph['fixed']:\n",
    "        ux, uy = 0, 0\n",
    "    else:\n",
    "        ux, uy = sp.symbols(f'u_{node}_x u_{node}_y')\n",
    "        \n",
    "    disp = make_vector(ux, uy, name=f'u_{node}')\n",
    "    gset(G, node, disp=disp)"
   ]
  },
  {
   "cell_type": "markdown",
   "id": "40467425",
   "metadata": {},
   "source": [
    "For reasons we'll see later, it will be convenient if every node has a unique index starting from `0`:"
   ]
  },
  {
   "cell_type": "code",
   "execution_count": 257,
   "id": "ab05d8d0",
   "metadata": {},
   "outputs": [],
   "source": [
    "for i, node in enumerate(G.nodes):\n",
    "    gset(G, node, index=i)"
   ]
  },
  {
   "cell_type": "markdown",
   "id": "75b80231",
   "metadata": {},
   "source": [
    "For this example, we'll assume that the roadway is attached to the bottom nodes.\n",
    "To keep things simple, we'll ignore the weight of the truss itself and assume that the load it attached to a single node, `B1`.\n",
    "The following loop creates a force vector for each node in the truss and assigns it to an attribute called `f_ext`."
   ]
  },
  {
   "cell_type": "code",
   "execution_count": 259,
   "id": "a91f1534",
   "metadata": {},
   "outputs": [],
   "source": [
    "F = sp.Symbol('F')\n",
    "weighted = ['B1']\n",
    "\n",
    "for node in G.nodes:\n",
    "    if node in weighted:\n",
    "        gset(G, node, f_ext=make_vector(0, -F))\n",
    "    else:\n",
    "        gset(G, node, f_ext=make_vector(0, 0))"
   ]
  },
  {
   "cell_type": "markdown",
   "id": "18aa000a",
   "metadata": {},
   "source": [
    "Finally, we'll loop through the elements of the truss and assign each one these attributes\n",
    "\n",
    "- `E`: Young's modulus,  \n",
    "- `A`: cross-sectional area,\n",
    "- `r`: a vector that represents the offset from one end of the element to the other,\n",
    "- `l`: the length of the element,\n",
    "- `k`: the spring constant, `E * A / l`\n",
    "\n"
   ]
  },
  {
   "cell_type": "code",
   "execution_count": 36,
   "id": "2444c157",
   "metadata": {},
   "outputs": [],
   "source": [
    "E, A = sp.symbols('E A')\n",
    "\n",
    "for edge in G.edges:\n",
    "    node1, node2 = edge\n",
    "    x1 = G.nodes[node1]['pos']\n",
    "    x2 = G.nodes[node2]['pos']\n",
    "\n",
    "    r = x2 - x1\n",
    "    l = r.norm()\n",
    "    k = E * A / l\n",
    "\n",
    "    gset(G, edge, E=E, A=A, r=r, l=l, k=k)"
   ]
  },
  {
   "cell_type": "markdown",
   "id": "01dcf5ea",
   "metadata": {},
   "source": [
    "## Block Matrix Equation\n"
   ]
  },
  {
   "cell_type": "code",
   "execution_count": 43,
   "id": "308120fd",
   "metadata": {},
   "outputs": [],
   "source": [
    "def Ksym(i, j):\n",
    "    return sp.MatrixSymbol(f'K_{i}{j}', 2, 2)"
   ]
  },
  {
   "cell_type": "code",
   "execution_count": 44,
   "id": "4a5e2932",
   "metadata": {},
   "outputs": [
    {
     "data": {
      "text/latex": [
       "$\\displaystyle \\left[\\begin{array}{ccccccccccccccccccccc}K_{00} & K_{01} & K_{02} & K_{03} & K_{04} & K_{05} & K_{06} & K_{07} & K_{08} & K_{09} & K_{010} & K_{011} & K_{012} & K_{013} & K_{014} & K_{015} & K_{016} & K_{017} & K_{018} & K_{019} & K_{020}\\\\K_{10} & K_{11} & K_{12} & K_{13} & K_{14} & K_{15} & K_{16} & K_{17} & K_{18} & K_{19} & K_{110} & K_{111} & K_{112} & K_{113} & K_{114} & K_{115} & K_{116} & K_{117} & K_{118} & K_{119} & K_{120}\\\\K_{20} & K_{21} & K_{22} & K_{23} & K_{24} & K_{25} & K_{26} & K_{27} & K_{28} & K_{29} & K_{210} & K_{211} & K_{212} & K_{213} & K_{214} & K_{215} & K_{216} & K_{217} & K_{218} & K_{219} & K_{220}\\\\K_{30} & K_{31} & K_{32} & K_{33} & K_{34} & K_{35} & K_{36} & K_{37} & K_{38} & K_{39} & K_{310} & K_{311} & K_{312} & K_{313} & K_{314} & K_{315} & K_{316} & K_{317} & K_{318} & K_{319} & K_{320}\\\\K_{40} & K_{41} & K_{42} & K_{43} & K_{44} & K_{45} & K_{46} & K_{47} & K_{48} & K_{49} & K_{410} & K_{411} & K_{412} & K_{413} & K_{414} & K_{415} & K_{416} & K_{417} & K_{418} & K_{419} & K_{420}\\\\K_{50} & K_{51} & K_{52} & K_{53} & K_{54} & K_{55} & K_{56} & K_{57} & K_{58} & K_{59} & K_{510} & K_{511} & K_{512} & K_{513} & K_{514} & K_{515} & K_{516} & K_{517} & K_{518} & K_{519} & K_{520}\\\\K_{60} & K_{61} & K_{62} & K_{63} & K_{64} & K_{65} & K_{66} & K_{67} & K_{68} & K_{69} & K_{610} & K_{611} & K_{612} & K_{613} & K_{614} & K_{615} & K_{616} & K_{617} & K_{618} & K_{619} & K_{620}\\\\K_{70} & K_{71} & K_{72} & K_{73} & K_{74} & K_{75} & K_{76} & K_{77} & K_{78} & K_{79} & K_{710} & K_{711} & K_{712} & K_{713} & K_{714} & K_{715} & K_{716} & K_{717} & K_{718} & K_{719} & K_{720}\\\\K_{80} & K_{81} & K_{82} & K_{83} & K_{84} & K_{85} & K_{86} & K_{87} & K_{88} & K_{89} & K_{810} & K_{811} & K_{812} & K_{813} & K_{814} & K_{815} & K_{816} & K_{817} & K_{818} & K_{819} & K_{820}\\\\K_{90} & K_{91} & K_{92} & K_{93} & K_{94} & K_{95} & K_{96} & K_{97} & K_{98} & K_{99} & K_{910} & K_{911} & K_{912} & K_{913} & K_{914} & K_{915} & K_{916} & K_{917} & K_{918} & K_{919} & K_{920}\\\\K_{100} & K_{101} & K_{102} & K_{103} & K_{104} & K_{105} & K_{106} & K_{107} & K_{108} & K_{109} & K_{1010} & K_{1011} & K_{1012} & K_{1013} & K_{1014} & K_{1015} & K_{1016} & K_{1017} & K_{1018} & K_{1019} & K_{1020}\\\\K_{110} & K_{111} & K_{112} & K_{113} & K_{114} & K_{115} & K_{116} & K_{117} & K_{118} & K_{119} & K_{1110} & K_{1111} & K_{1112} & K_{1113} & K_{1114} & K_{1115} & K_{1116} & K_{1117} & K_{1118} & K_{1119} & K_{1120}\\\\K_{120} & K_{121} & K_{122} & K_{123} & K_{124} & K_{125} & K_{126} & K_{127} & K_{128} & K_{129} & K_{1210} & K_{1211} & K_{1212} & K_{1213} & K_{1214} & K_{1215} & K_{1216} & K_{1217} & K_{1218} & K_{1219} & K_{1220}\\\\K_{130} & K_{131} & K_{132} & K_{133} & K_{134} & K_{135} & K_{136} & K_{137} & K_{138} & K_{139} & K_{1310} & K_{1311} & K_{1312} & K_{1313} & K_{1314} & K_{1315} & K_{1316} & K_{1317} & K_{1318} & K_{1319} & K_{1320}\\\\K_{140} & K_{141} & K_{142} & K_{143} & K_{144} & K_{145} & K_{146} & K_{147} & K_{148} & K_{149} & K_{1410} & K_{1411} & K_{1412} & K_{1413} & K_{1414} & K_{1415} & K_{1416} & K_{1417} & K_{1418} & K_{1419} & K_{1420}\\\\K_{150} & K_{151} & K_{152} & K_{153} & K_{154} & K_{155} & K_{156} & K_{157} & K_{158} & K_{159} & K_{1510} & K_{1511} & K_{1512} & K_{1513} & K_{1514} & K_{1515} & K_{1516} & K_{1517} & K_{1518} & K_{1519} & K_{1520}\\\\K_{160} & K_{161} & K_{162} & K_{163} & K_{164} & K_{165} & K_{166} & K_{167} & K_{168} & K_{169} & K_{1610} & K_{1611} & K_{1612} & K_{1613} & K_{1614} & K_{1615} & K_{1616} & K_{1617} & K_{1618} & K_{1619} & K_{1620}\\\\K_{170} & K_{171} & K_{172} & K_{173} & K_{174} & K_{175} & K_{176} & K_{177} & K_{178} & K_{179} & K_{1710} & K_{1711} & K_{1712} & K_{1713} & K_{1714} & K_{1715} & K_{1716} & K_{1717} & K_{1718} & K_{1719} & K_{1720}\\\\K_{180} & K_{181} & K_{182} & K_{183} & K_{184} & K_{185} & K_{186} & K_{187} & K_{188} & K_{189} & K_{1810} & K_{1811} & K_{1812} & K_{1813} & K_{1814} & K_{1815} & K_{1816} & K_{1817} & K_{1818} & K_{1819} & K_{1820}\\\\K_{190} & K_{191} & K_{192} & K_{193} & K_{194} & K_{195} & K_{196} & K_{197} & K_{198} & K_{199} & K_{1910} & K_{1911} & K_{1912} & K_{1913} & K_{1914} & K_{1915} & K_{1916} & K_{1917} & K_{1918} & K_{1919} & K_{1920}\\\\K_{200} & K_{201} & K_{202} & K_{203} & K_{204} & K_{205} & K_{206} & K_{207} & K_{208} & K_{209} & K_{2010} & K_{2011} & K_{2012} & K_{2013} & K_{2014} & K_{2015} & K_{2016} & K_{2017} & K_{2018} & K_{2019} & K_{2020}\\end{array}\\right]$"
      ],
      "text/plain": [
       "Matrix([\n",
       "[ K_00,  K_01,  K_02,  K_03,  K_04,  K_05,  K_06,  K_07,  K_08,  K_09,  K_010,  K_011,  K_012,  K_013,  K_014,  K_015,  K_016,  K_017,  K_018,  K_019,  K_020],\n",
       "[ K_10,  K_11,  K_12,  K_13,  K_14,  K_15,  K_16,  K_17,  K_18,  K_19,  K_110,  K_111,  K_112,  K_113,  K_114,  K_115,  K_116,  K_117,  K_118,  K_119,  K_120],\n",
       "[ K_20,  K_21,  K_22,  K_23,  K_24,  K_25,  K_26,  K_27,  K_28,  K_29,  K_210,  K_211,  K_212,  K_213,  K_214,  K_215,  K_216,  K_217,  K_218,  K_219,  K_220],\n",
       "[ K_30,  K_31,  K_32,  K_33,  K_34,  K_35,  K_36,  K_37,  K_38,  K_39,  K_310,  K_311,  K_312,  K_313,  K_314,  K_315,  K_316,  K_317,  K_318,  K_319,  K_320],\n",
       "[ K_40,  K_41,  K_42,  K_43,  K_44,  K_45,  K_46,  K_47,  K_48,  K_49,  K_410,  K_411,  K_412,  K_413,  K_414,  K_415,  K_416,  K_417,  K_418,  K_419,  K_420],\n",
       "[ K_50,  K_51,  K_52,  K_53,  K_54,  K_55,  K_56,  K_57,  K_58,  K_59,  K_510,  K_511,  K_512,  K_513,  K_514,  K_515,  K_516,  K_517,  K_518,  K_519,  K_520],\n",
       "[ K_60,  K_61,  K_62,  K_63,  K_64,  K_65,  K_66,  K_67,  K_68,  K_69,  K_610,  K_611,  K_612,  K_613,  K_614,  K_615,  K_616,  K_617,  K_618,  K_619,  K_620],\n",
       "[ K_70,  K_71,  K_72,  K_73,  K_74,  K_75,  K_76,  K_77,  K_78,  K_79,  K_710,  K_711,  K_712,  K_713,  K_714,  K_715,  K_716,  K_717,  K_718,  K_719,  K_720],\n",
       "[ K_80,  K_81,  K_82,  K_83,  K_84,  K_85,  K_86,  K_87,  K_88,  K_89,  K_810,  K_811,  K_812,  K_813,  K_814,  K_815,  K_816,  K_817,  K_818,  K_819,  K_820],\n",
       "[ K_90,  K_91,  K_92,  K_93,  K_94,  K_95,  K_96,  K_97,  K_98,  K_99,  K_910,  K_911,  K_912,  K_913,  K_914,  K_915,  K_916,  K_917,  K_918,  K_919,  K_920],\n",
       "[K_100, K_101, K_102, K_103, K_104, K_105, K_106, K_107, K_108, K_109, K_1010, K_1011, K_1012, K_1013, K_1014, K_1015, K_1016, K_1017, K_1018, K_1019, K_1020],\n",
       "[K_110, K_111, K_112, K_113, K_114, K_115, K_116, K_117, K_118, K_119, K_1110, K_1111, K_1112, K_1113, K_1114, K_1115, K_1116, K_1117, K_1118, K_1119, K_1120],\n",
       "[K_120, K_121, K_122, K_123, K_124, K_125, K_126, K_127, K_128, K_129, K_1210, K_1211, K_1212, K_1213, K_1214, K_1215, K_1216, K_1217, K_1218, K_1219, K_1220],\n",
       "[K_130, K_131, K_132, K_133, K_134, K_135, K_136, K_137, K_138, K_139, K_1310, K_1311, K_1312, K_1313, K_1314, K_1315, K_1316, K_1317, K_1318, K_1319, K_1320],\n",
       "[K_140, K_141, K_142, K_143, K_144, K_145, K_146, K_147, K_148, K_149, K_1410, K_1411, K_1412, K_1413, K_1414, K_1415, K_1416, K_1417, K_1418, K_1419, K_1420],\n",
       "[K_150, K_151, K_152, K_153, K_154, K_155, K_156, K_157, K_158, K_159, K_1510, K_1511, K_1512, K_1513, K_1514, K_1515, K_1516, K_1517, K_1518, K_1519, K_1520],\n",
       "[K_160, K_161, K_162, K_163, K_164, K_165, K_166, K_167, K_168, K_169, K_1610, K_1611, K_1612, K_1613, K_1614, K_1615, K_1616, K_1617, K_1618, K_1619, K_1620],\n",
       "[K_170, K_171, K_172, K_173, K_174, K_175, K_176, K_177, K_178, K_179, K_1710, K_1711, K_1712, K_1713, K_1714, K_1715, K_1716, K_1717, K_1718, K_1719, K_1720],\n",
       "[K_180, K_181, K_182, K_183, K_184, K_185, K_186, K_187, K_188, K_189, K_1810, K_1811, K_1812, K_1813, K_1814, K_1815, K_1816, K_1817, K_1818, K_1819, K_1820],\n",
       "[K_190, K_191, K_192, K_193, K_194, K_195, K_196, K_197, K_198, K_199, K_1910, K_1911, K_1912, K_1913, K_1914, K_1915, K_1916, K_1917, K_1918, K_1919, K_1920],\n",
       "[K_200, K_201, K_202, K_203, K_204, K_205, K_206, K_207, K_208, K_209, K_2010, K_2011, K_2012, K_2013, K_2014, K_2015, K_2016, K_2017, K_2018, K_2019, K_2020]])"
      ]
     },
     "execution_count": 44,
     "metadata": {},
     "output_type": "execute_result"
    }
   ],
   "source": [
    "n = len(G.nodes)\n",
    "blocks = [[Ksym(i, j) for j in range(n)] for i in range(n)]\n",
    "K_block = sp.BlockMatrix(blocks)\n",
    "K_block"
   ]
  },
  {
   "cell_type": "code",
   "execution_count": 45,
   "id": "a949e272",
   "metadata": {},
   "outputs": [
    {
     "data": {
      "text/latex": [
       "$\\displaystyle \\left[\\begin{matrix}u_{B0}\\\\u_{B1}\\\\u_{B2}\\\\u_{B3}\\\\u_{B4}\\\\u_{B5}\\\\u_{B6}\\\\u_{B7}\\\\u_{B8}\\\\u_{B9}\\\\u_{B10}\\\\u_{T0}\\\\u_{T1}\\\\u_{T2}\\\\u_{T3}\\\\u_{T4}\\\\u_{T5}\\\\u_{T6}\\\\u_{T7}\\\\u_{T8}\\\\u_{T9}\\end{matrix}\\right]$"
      ],
      "text/plain": [
       "Matrix([\n",
       "[ u_{B0}],\n",
       "[ u_{B1}],\n",
       "[ u_{B2}],\n",
       "[ u_{B3}],\n",
       "[ u_{B4}],\n",
       "[ u_{B5}],\n",
       "[ u_{B6}],\n",
       "[ u_{B7}],\n",
       "[ u_{B8}],\n",
       "[ u_{B9}],\n",
       "[u_{B10}],\n",
       "[ u_{T0}],\n",
       "[ u_{T1}],\n",
       "[ u_{T2}],\n",
       "[ u_{T3}],\n",
       "[ u_{T4}],\n",
       "[ u_{T5}],\n",
       "[ u_{T6}],\n",
       "[ u_{T7}],\n",
       "[ u_{T8}],\n",
       "[ u_{T9}]])"
      ]
     },
     "execution_count": 45,
     "metadata": {},
     "output_type": "execute_result"
    }
   ],
   "source": [
    "blocks = [sp.MatrixSymbol(f'u_{{{node}}}', 2, 1) for node in G.nodes]\n",
    "u_block = sp.BlockMatrix([[u] for u in blocks])\n",
    "u_block"
   ]
  },
  {
   "cell_type": "code",
   "execution_count": 46,
   "id": "19bd88b7",
   "metadata": {},
   "outputs": [
    {
     "data": {
      "text/latex": [
       "$\\displaystyle \\left[\\begin{matrix}f_{B0}\\\\f_{B1}\\\\f_{B2}\\\\f_{B3}\\\\f_{B4}\\\\f_{B5}\\\\f_{B6}\\\\f_{B7}\\\\f_{B8}\\\\f_{B9}\\\\f_{B10}\\\\f_{T0}\\\\f_{T1}\\\\f_{T2}\\\\f_{T3}\\\\f_{T4}\\\\f_{T5}\\\\f_{T6}\\\\f_{T7}\\\\f_{T8}\\\\f_{T9}\\end{matrix}\\right]$"
      ],
      "text/plain": [
       "Matrix([\n",
       "[ f_{B0}],\n",
       "[ f_{B1}],\n",
       "[ f_{B2}],\n",
       "[ f_{B3}],\n",
       "[ f_{B4}],\n",
       "[ f_{B5}],\n",
       "[ f_{B6}],\n",
       "[ f_{B7}],\n",
       "[ f_{B8}],\n",
       "[ f_{B9}],\n",
       "[f_{B10}],\n",
       "[ f_{T0}],\n",
       "[ f_{T1}],\n",
       "[ f_{T2}],\n",
       "[ f_{T3}],\n",
       "[ f_{T4}],\n",
       "[ f_{T5}],\n",
       "[ f_{T6}],\n",
       "[ f_{T7}],\n",
       "[ f_{T8}],\n",
       "[ f_{T9}]])"
      ]
     },
     "execution_count": 46,
     "metadata": {},
     "output_type": "execute_result"
    }
   ],
   "source": [
    "blocks = [sp.MatrixSymbol(f'f_{{{node}}}', 2, 1) for node in G.nodes]\n",
    "f_block = sp.BlockMatrix([[f] for f in blocks])\n",
    "f_block"
   ]
  },
  {
   "cell_type": "code",
   "execution_count": 47,
   "id": "7ef250be",
   "metadata": {},
   "outputs": [
    {
     "data": {
      "text/latex": [
       "$\\displaystyle \\left[\\begin{array}{ccccccccccccccccccccc}K_{00} & K_{01} & K_{02} & K_{03} & K_{04} & K_{05} & K_{06} & K_{07} & K_{08} & K_{09} & K_{010} & K_{011} & K_{012} & K_{013} & K_{014} & K_{015} & K_{016} & K_{017} & K_{018} & K_{019} & K_{020}\\\\K_{10} & K_{11} & K_{12} & K_{13} & K_{14} & K_{15} & K_{16} & K_{17} & K_{18} & K_{19} & K_{110} & K_{111} & K_{112} & K_{113} & K_{114} & K_{115} & K_{116} & K_{117} & K_{118} & K_{119} & K_{120}\\\\K_{20} & K_{21} & K_{22} & K_{23} & K_{24} & K_{25} & K_{26} & K_{27} & K_{28} & K_{29} & K_{210} & K_{211} & K_{212} & K_{213} & K_{214} & K_{215} & K_{216} & K_{217} & K_{218} & K_{219} & K_{220}\\\\K_{30} & K_{31} & K_{32} & K_{33} & K_{34} & K_{35} & K_{36} & K_{37} & K_{38} & K_{39} & K_{310} & K_{311} & K_{312} & K_{313} & K_{314} & K_{315} & K_{316} & K_{317} & K_{318} & K_{319} & K_{320}\\\\K_{40} & K_{41} & K_{42} & K_{43} & K_{44} & K_{45} & K_{46} & K_{47} & K_{48} & K_{49} & K_{410} & K_{411} & K_{412} & K_{413} & K_{414} & K_{415} & K_{416} & K_{417} & K_{418} & K_{419} & K_{420}\\\\K_{50} & K_{51} & K_{52} & K_{53} & K_{54} & K_{55} & K_{56} & K_{57} & K_{58} & K_{59} & K_{510} & K_{511} & K_{512} & K_{513} & K_{514} & K_{515} & K_{516} & K_{517} & K_{518} & K_{519} & K_{520}\\\\K_{60} & K_{61} & K_{62} & K_{63} & K_{64} & K_{65} & K_{66} & K_{67} & K_{68} & K_{69} & K_{610} & K_{611} & K_{612} & K_{613} & K_{614} & K_{615} & K_{616} & K_{617} & K_{618} & K_{619} & K_{620}\\\\K_{70} & K_{71} & K_{72} & K_{73} & K_{74} & K_{75} & K_{76} & K_{77} & K_{78} & K_{79} & K_{710} & K_{711} & K_{712} & K_{713} & K_{714} & K_{715} & K_{716} & K_{717} & K_{718} & K_{719} & K_{720}\\\\K_{80} & K_{81} & K_{82} & K_{83} & K_{84} & K_{85} & K_{86} & K_{87} & K_{88} & K_{89} & K_{810} & K_{811} & K_{812} & K_{813} & K_{814} & K_{815} & K_{816} & K_{817} & K_{818} & K_{819} & K_{820}\\\\K_{90} & K_{91} & K_{92} & K_{93} & K_{94} & K_{95} & K_{96} & K_{97} & K_{98} & K_{99} & K_{910} & K_{911} & K_{912} & K_{913} & K_{914} & K_{915} & K_{916} & K_{917} & K_{918} & K_{919} & K_{920}\\\\K_{100} & K_{101} & K_{102} & K_{103} & K_{104} & K_{105} & K_{106} & K_{107} & K_{108} & K_{109} & K_{1010} & K_{1011} & K_{1012} & K_{1013} & K_{1014} & K_{1015} & K_{1016} & K_{1017} & K_{1018} & K_{1019} & K_{1020}\\\\K_{110} & K_{111} & K_{112} & K_{113} & K_{114} & K_{115} & K_{116} & K_{117} & K_{118} & K_{119} & K_{1110} & K_{1111} & K_{1112} & K_{1113} & K_{1114} & K_{1115} & K_{1116} & K_{1117} & K_{1118} & K_{1119} & K_{1120}\\\\K_{120} & K_{121} & K_{122} & K_{123} & K_{124} & K_{125} & K_{126} & K_{127} & K_{128} & K_{129} & K_{1210} & K_{1211} & K_{1212} & K_{1213} & K_{1214} & K_{1215} & K_{1216} & K_{1217} & K_{1218} & K_{1219} & K_{1220}\\\\K_{130} & K_{131} & K_{132} & K_{133} & K_{134} & K_{135} & K_{136} & K_{137} & K_{138} & K_{139} & K_{1310} & K_{1311} & K_{1312} & K_{1313} & K_{1314} & K_{1315} & K_{1316} & K_{1317} & K_{1318} & K_{1319} & K_{1320}\\\\K_{140} & K_{141} & K_{142} & K_{143} & K_{144} & K_{145} & K_{146} & K_{147} & K_{148} & K_{149} & K_{1410} & K_{1411} & K_{1412} & K_{1413} & K_{1414} & K_{1415} & K_{1416} & K_{1417} & K_{1418} & K_{1419} & K_{1420}\\\\K_{150} & K_{151} & K_{152} & K_{153} & K_{154} & K_{155} & K_{156} & K_{157} & K_{158} & K_{159} & K_{1510} & K_{1511} & K_{1512} & K_{1513} & K_{1514} & K_{1515} & K_{1516} & K_{1517} & K_{1518} & K_{1519} & K_{1520}\\\\K_{160} & K_{161} & K_{162} & K_{163} & K_{164} & K_{165} & K_{166} & K_{167} & K_{168} & K_{169} & K_{1610} & K_{1611} & K_{1612} & K_{1613} & K_{1614} & K_{1615} & K_{1616} & K_{1617} & K_{1618} & K_{1619} & K_{1620}\\\\K_{170} & K_{171} & K_{172} & K_{173} & K_{174} & K_{175} & K_{176} & K_{177} & K_{178} & K_{179} & K_{1710} & K_{1711} & K_{1712} & K_{1713} & K_{1714} & K_{1715} & K_{1716} & K_{1717} & K_{1718} & K_{1719} & K_{1720}\\\\K_{180} & K_{181} & K_{182} & K_{183} & K_{184} & K_{185} & K_{186} & K_{187} & K_{188} & K_{189} & K_{1810} & K_{1811} & K_{1812} & K_{1813} & K_{1814} & K_{1815} & K_{1816} & K_{1817} & K_{1818} & K_{1819} & K_{1820}\\\\K_{190} & K_{191} & K_{192} & K_{193} & K_{194} & K_{195} & K_{196} & K_{197} & K_{198} & K_{199} & K_{1910} & K_{1911} & K_{1912} & K_{1913} & K_{1914} & K_{1915} & K_{1916} & K_{1917} & K_{1918} & K_{1919} & K_{1920}\\\\K_{200} & K_{201} & K_{202} & K_{203} & K_{204} & K_{205} & K_{206} & K_{207} & K_{208} & K_{209} & K_{2010} & K_{2011} & K_{2012} & K_{2013} & K_{2014} & K_{2015} & K_{2016} & K_{2017} & K_{2018} & K_{2019} & K_{2020}\\end{array}\\right] \\left[\\begin{matrix}u_{B0}\\\\u_{B1}\\\\u_{B2}\\\\u_{B3}\\\\u_{B4}\\\\u_{B5}\\\\u_{B6}\\\\u_{B7}\\\\u_{B8}\\\\u_{B9}\\\\u_{B10}\\\\u_{T0}\\\\u_{T1}\\\\u_{T2}\\\\u_{T3}\\\\u_{T4}\\\\u_{T5}\\\\u_{T6}\\\\u_{T7}\\\\u_{T8}\\\\u_{T9}\\end{matrix}\\right] = \\left[\\begin{matrix}f_{B0}\\\\f_{B1}\\\\f_{B2}\\\\f_{B3}\\\\f_{B4}\\\\f_{B5}\\\\f_{B6}\\\\f_{B7}\\\\f_{B8}\\\\f_{B9}\\\\f_{B10}\\\\f_{T0}\\\\f_{T1}\\\\f_{T2}\\\\f_{T3}\\\\f_{T4}\\\\f_{T5}\\\\f_{T6}\\\\f_{T7}\\\\f_{T8}\\\\f_{T9}\\end{matrix}\\right]$"
      ],
      "text/plain": [
       "Eq(Matrix([\n",
       "[ K_00,  K_01,  K_02,  K_03,  K_04,  K_05,  K_06,  K_07,  K_08,  K_09,  K_010,  K_011,  K_012,  K_013,  K_014,  K_015,  K_016,  K_017,  K_018,  K_019,  K_020],\n",
       "[ K_10,  K_11,  K_12,  K_13,  K_14,  K_15,  K_16,  K_17,  K_18,  K_19,  K_110,  K_111,  K_112,  K_113,  K_114,  K_115,  K_116,  K_117,  K_118,  K_119,  K_120],\n",
       "[ K_20,  K_21,  K_22,  K_23,  K_24,  K_25,  K_26,  K_27,  K_28,  K_29,  K_210,  K_211,  K_212,  K_213,  K_214,  K_215,  K_216,  K_217,  K_218,  K_219,  K_220],\n",
       "[ K_30,  K_31,  K_32,  K_33,  K_34,  K_35,  K_36,  K_37,  K_38,  K_39,  K_310,  K_311,  K_312,  K_313,  K_314,  K_315,  K_316,  K_317,  K_318,  K_319,  K_320],\n",
       "[ K_40,  K_41,  K_42,  K_43,  K_44,  K_45,  K_46,  K_47,  K_48,  K_49,  K_410,  K_411,  K_412,  K_413,  K_414,  K_415,  K_416,  K_417,  K_418,  K_419,  K_420],\n",
       "[ K_50,  K_51,  K_52,  K_53,  K_54,  K_55,  K_56,  K_57,  K_58,  K_59,  K_510,  K_511,  K_512,  K_513,  K_514,  K_515,  K_516,  K_517,  K_518,  K_519,  K_520],\n",
       "[ K_60,  K_61,  K_62,  K_63,  K_64,  K_65,  K_66,  K_67,  K_68,  K_69,  K_610,  K_611,  K_612,  K_613,  K_614,  K_615,  K_616,  K_617,  K_618,  K_619,  K_620],\n",
       "[ K_70,  K_71,  K_72,  K_73,  K_74,  K_75,  K_76,  K_77,  K_78,  K_79,  K_710,  K_711,  K_712,  K_713,  K_714,  K_715,  K_716,  K_717,  K_718,  K_719,  K_720],\n",
       "[ K_80,  K_81,  K_82,  K_83,  K_84,  K_85,  K_86,  K_87,  K_88,  K_89,  K_810,  K_811,  K_812,  K_813,  K_814,  K_815,  K_816,  K_817,  K_818,  K_819,  K_820],\n",
       "[ K_90,  K_91,  K_92,  K_93,  K_94,  K_95,  K_96,  K_97,  K_98,  K_99,  K_910,  K_911,  K_912,  K_913,  K_914,  K_915,  K_916,  K_917,  K_918,  K_919,  K_920],\n",
       "[K_100, K_101, K_102, K_103, K_104, K_105, K_106, K_107, K_108, K_109, K_1010, K_1011, K_1012, K_1013, K_1014, K_1015, K_1016, K_1017, K_1018, K_1019, K_1020],\n",
       "[K_110, K_111, K_112, K_113, K_114, K_115, K_116, K_117, K_118, K_119, K_1110, K_1111, K_1112, K_1113, K_1114, K_1115, K_1116, K_1117, K_1118, K_1119, K_1120],\n",
       "[K_120, K_121, K_122, K_123, K_124, K_125, K_126, K_127, K_128, K_129, K_1210, K_1211, K_1212, K_1213, K_1214, K_1215, K_1216, K_1217, K_1218, K_1219, K_1220],\n",
       "[K_130, K_131, K_132, K_133, K_134, K_135, K_136, K_137, K_138, K_139, K_1310, K_1311, K_1312, K_1313, K_1314, K_1315, K_1316, K_1317, K_1318, K_1319, K_1320],\n",
       "[K_140, K_141, K_142, K_143, K_144, K_145, K_146, K_147, K_148, K_149, K_1410, K_1411, K_1412, K_1413, K_1414, K_1415, K_1416, K_1417, K_1418, K_1419, K_1420],\n",
       "[K_150, K_151, K_152, K_153, K_154, K_155, K_156, K_157, K_158, K_159, K_1510, K_1511, K_1512, K_1513, K_1514, K_1515, K_1516, K_1517, K_1518, K_1519, K_1520],\n",
       "[K_160, K_161, K_162, K_163, K_164, K_165, K_166, K_167, K_168, K_169, K_1610, K_1611, K_1612, K_1613, K_1614, K_1615, K_1616, K_1617, K_1618, K_1619, K_1620],\n",
       "[K_170, K_171, K_172, K_173, K_174, K_175, K_176, K_177, K_178, K_179, K_1710, K_1711, K_1712, K_1713, K_1714, K_1715, K_1716, K_1717, K_1718, K_1719, K_1720],\n",
       "[K_180, K_181, K_182, K_183, K_184, K_185, K_186, K_187, K_188, K_189, K_1810, K_1811, K_1812, K_1813, K_1814, K_1815, K_1816, K_1817, K_1818, K_1819, K_1820],\n",
       "[K_190, K_191, K_192, K_193, K_194, K_195, K_196, K_197, K_198, K_199, K_1910, K_1911, K_1912, K_1913, K_1914, K_1915, K_1916, K_1917, K_1918, K_1919, K_1920],\n",
       "[K_200, K_201, K_202, K_203, K_204, K_205, K_206, K_207, K_208, K_209, K_2010, K_2011, K_2012, K_2013, K_2014, K_2015, K_2016, K_2017, K_2018, K_2019, K_2020]])*Matrix([\n",
       "[ u_{B0}],\n",
       "[ u_{B1}],\n",
       "[ u_{B2}],\n",
       "[ u_{B3}],\n",
       "[ u_{B4}],\n",
       "[ u_{B5}],\n",
       "[ u_{B6}],\n",
       "[ u_{B7}],\n",
       "[ u_{B8}],\n",
       "[ u_{B9}],\n",
       "[u_{B10}],\n",
       "[ u_{T0}],\n",
       "[ u_{T1}],\n",
       "[ u_{T2}],\n",
       "[ u_{T3}],\n",
       "[ u_{T4}],\n",
       "[ u_{T5}],\n",
       "[ u_{T6}],\n",
       "[ u_{T7}],\n",
       "[ u_{T8}],\n",
       "[ u_{T9}]]), Matrix([\n",
       "[ f_{B0}],\n",
       "[ f_{B1}],\n",
       "[ f_{B2}],\n",
       "[ f_{B3}],\n",
       "[ f_{B4}],\n",
       "[ f_{B5}],\n",
       "[ f_{B6}],\n",
       "[ f_{B7}],\n",
       "[ f_{B8}],\n",
       "[ f_{B9}],\n",
       "[f_{B10}],\n",
       "[ f_{T0}],\n",
       "[ f_{T1}],\n",
       "[ f_{T2}],\n",
       "[ f_{T3}],\n",
       "[ f_{T4}],\n",
       "[ f_{T5}],\n",
       "[ f_{T6}],\n",
       "[ f_{T7}],\n",
       "[ f_{T8}],\n",
       "[ f_{T9}]]))"
      ]
     },
     "execution_count": 47,
     "metadata": {},
     "output_type": "execute_result"
    }
   ],
   "source": [
    "equation = sp.Eq(K_block * u_block, f_block)\n",
    "equation"
   ]
  },
  {
   "cell_type": "markdown",
   "id": "a61402ef",
   "metadata": {},
   "source": [
    "In an ideal world, we would write the equation this way and solve it, but we don't have solvers that can work on a system where the elements are vectors and matrices.\n"
   ]
  },
  {
   "cell_type": "markdown",
   "id": "417c0ee3",
   "metadata": {},
   "source": [
    "## Compute the Block Matrix\n",
    "\n",
    "Get the edge properties"
   ]
  },
  {
   "cell_type": "code",
   "execution_count": 48,
   "id": "57099968",
   "metadata": {},
   "outputs": [],
   "source": [
    "edge = 'B1', 'T1'\n",
    "r, k = gget(G, edge, \"r\", \"k\")"
   ]
  },
  {
   "cell_type": "markdown",
   "id": "730b0c7c",
   "metadata": {},
   "source": [
    "Get the displacements of the nodes"
   ]
  },
  {
   "cell_type": "code",
   "execution_count": 49,
   "id": "971c1eb5",
   "metadata": {},
   "outputs": [],
   "source": [
    "node1, node2 = edge\n",
    "u1 = gget(G, node1, \"disp\")\n",
    "u2 = gget(G, node2, \"disp\")"
   ]
  },
  {
   "cell_type": "code",
   "execution_count": 50,
   "id": "c674aabd",
   "metadata": {},
   "outputs": [],
   "source": [
    "# Geometry and stiffness    \n",
    "P = projector(r)"
   ]
  },
  {
   "cell_type": "code",
   "execution_count": 51,
   "id": "850705aa",
   "metadata": {},
   "outputs": [
    {
     "data": {
      "text/latex": [
       "$\\displaystyle \\left[\\begin{matrix}- \\frac{0.25 A E}{L} & - \\frac{0.25 \\sqrt{3} A E}{L}\\\\- \\frac{0.25 \\sqrt{3} A E}{L} & - \\frac{0.75 A E}{L}\\end{matrix}\\right] \\left[\\begin{matrix}u_{B1 x} - u_{T1 x}\\\\u_{B1 y} - u_{T1 y}\\end{matrix}\\right]$"
      ],
      "text/plain": [
       "Matrix([\n",
       "[        -0.25*A*E/L, -0.25*sqrt(3)*A*E/L],\n",
       "[-0.25*sqrt(3)*A*E/L,         -0.75*A*E/L]])*Matrix([\n",
       "[u_B1_x - u_T1_x],\n",
       "[u_B1_y - u_T1_y]])"
      ]
     },
     "execution_count": 51,
     "metadata": {},
     "output_type": "execute_result"
    }
   ],
   "source": [
    "from sympy import MatMul\n",
    "\n",
    "expr = MatMul(-k * P, u1 - u2, evaluate=False)\n",
    "expr"
   ]
  },
  {
   "cell_type": "code",
   "execution_count": 52,
   "id": "b93655b8",
   "metadata": {},
   "outputs": [
    {
     "data": {
      "text/latex": [
       "$\\displaystyle \\left[\\begin{matrix}- \\frac{0.25 A E \\left(u_{B1 x} - u_{T1 x}\\right)}{L} - \\frac{0.25 \\sqrt{3} A E \\left(u_{B1 y} - u_{T1 y}\\right)}{L}\\\\- \\frac{0.25 \\sqrt{3} A E \\left(u_{B1 x} - u_{T1 x}\\right)}{L} - \\frac{0.75 A E \\left(u_{B1 y} - u_{T1 y}\\right)}{L}\\end{matrix}\\right]$"
      ],
      "text/plain": [
       "Matrix([\n",
       "[-0.25*A*E*(u_B1_x - u_T1_x)/L - 0.25*sqrt(3)*A*E*(u_B1_y - u_T1_y)/L],\n",
       "[-0.25*sqrt(3)*A*E*(u_B1_x - u_T1_x)/L - 0.75*A*E*(u_B1_y - u_T1_y)/L]])"
      ]
     },
     "execution_count": 52,
     "metadata": {},
     "output_type": "execute_result"
    }
   ],
   "source": [
    "# Internal force\n",
    "f_int = -k * P * (u1 - u2)\n",
    "f_int"
   ]
  },
  {
   "cell_type": "code",
   "execution_count": null,
   "id": "e3744a4a",
   "metadata": {},
   "outputs": [],
   "source": []
  },
  {
   "cell_type": "code",
   "execution_count": null,
   "id": "ed8a4ff1",
   "metadata": {},
   "outputs": [],
   "source": []
  },
  {
   "cell_type": "code",
   "execution_count": 53,
   "id": "a231550c",
   "metadata": {},
   "outputs": [],
   "source": [
    "def compute_kP(G, edge):\n",
    "    r, k = gget(G, edge, \"r\", \"k\")\n",
    "\n",
    "    # Geometry and stiffness    \n",
    "    P = projector(r)\n",
    "\n",
    "    return k * P"
   ]
  },
  {
   "cell_type": "code",
   "execution_count": 54,
   "id": "e0abd513",
   "metadata": {},
   "outputs": [],
   "source": [
    "def zero_block(size=2):\n",
    "    return sp.ImmutableMatrix.zeros(size, size)"
   ]
  },
  {
   "cell_type": "code",
   "execution_count": 55,
   "id": "a3ea88c3",
   "metadata": {},
   "outputs": [],
   "source": [
    "blocks = [[zero_block() for _ in range(n)] for _ in range(n)]"
   ]
  },
  {
   "cell_type": "code",
   "execution_count": 56,
   "id": "71896eaa",
   "metadata": {},
   "outputs": [],
   "source": [
    "for edge in G.edges:\n",
    "    kP = compute_kP(G, edge)\n",
    "    \n",
    "    node1, node2 = edge\n",
    "    i = gget(G, node1, 'index')\n",
    "    j = gget(G, node2, 'index')\n",
    "\n",
    "    # Insert contributions for edge (i, j)\n",
    "    blocks[i][i] +=  kP\n",
    "    blocks[i][j] += -kP\n",
    "    blocks[j][i] += -kP\n",
    "    blocks[j][j] +=  kP"
   ]
  },
  {
   "cell_type": "code",
   "execution_count": 57,
   "id": "f84b6307",
   "metadata": {},
   "outputs": [
    {
     "data": {
      "text/plain": [
       "[1, 2, 3, 4, 5, 6, 7, 8, 9, 11, 12, 13, 14, 15, 16, 17, 18, 19, 20]"
      ]
     },
     "execution_count": 57,
     "metadata": {},
     "output_type": "execute_result"
    }
   ],
   "source": [
    "keep = [gget(G, node, 'index') \n",
    "        for node in G.nodes \n",
    "        if node not in G.graph['fixed']]\n",
    "keep    "
   ]
  },
  {
   "cell_type": "code",
   "execution_count": 58,
   "id": "9efc78cd",
   "metadata": {},
   "outputs": [],
   "source": [
    "blocks_reduced = [\n",
    "    [blocks[i][j] for j in keep]\n",
    "    for i in keep\n",
    "]"
   ]
  },
  {
   "cell_type": "code",
   "execution_count": 59,
   "id": "8bc4440d",
   "metadata": {},
   "outputs": [
    {
     "data": {
      "text/latex": [
       "$\\displaystyle \\left[\\begin{array}{ccccccccccccccccccc}\\left[\\begin{matrix}\\frac{2.5 A E}{L} & 0\\\\0 & \\frac{1.5 A E}{L}\\end{matrix}\\right] & \\left[\\begin{matrix}- \\frac{A E}{L} & 0\\\\0 & 0\\end{matrix}\\right] & \\left[\\begin{matrix}0 & 0\\\\0 & 0\\end{matrix}\\right] & \\left[\\begin{matrix}0 & 0\\\\0 & 0\\end{matrix}\\right] & \\left[\\begin{matrix}0 & 0\\\\0 & 0\\end{matrix}\\right] & \\left[\\begin{matrix}0 & 0\\\\0 & 0\\end{matrix}\\right] & \\left[\\begin{matrix}0 & 0\\\\0 & 0\\end{matrix}\\right] & \\left[\\begin{matrix}0 & 0\\\\0 & 0\\end{matrix}\\right] & \\left[\\begin{matrix}0 & 0\\\\0 & 0\\end{matrix}\\right] & \\left[\\begin{matrix}- \\frac{0.25 A E}{L} & \\frac{0.25 \\sqrt{3} A E}{L}\\\\\\frac{0.25 \\sqrt{3} A E}{L} & - \\frac{0.75 A E}{L}\\end{matrix}\\right] & \\left[\\begin{matrix}- \\frac{0.25 A E}{L} & - \\frac{0.25 \\sqrt{3} A E}{L}\\\\- \\frac{0.25 \\sqrt{3} A E}{L} & - \\frac{0.75 A E}{L}\\end{matrix}\\right] & \\left[\\begin{matrix}0 & 0\\\\0 & 0\\end{matrix}\\right] & \\left[\\begin{matrix}0 & 0\\\\0 & 0\\end{matrix}\\right] & \\left[\\begin{matrix}0 & 0\\\\0 & 0\\end{matrix}\\right] & \\left[\\begin{matrix}0 & 0\\\\0 & 0\\end{matrix}\\right] & \\left[\\begin{matrix}0 & 0\\\\0 & 0\\end{matrix}\\right] & \\left[\\begin{matrix}0 & 0\\\\0 & 0\\end{matrix}\\right] & \\left[\\begin{matrix}0 & 0\\\\0 & 0\\end{matrix}\\right] & \\left[\\begin{matrix}0 & 0\\\\0 & 0\\end{matrix}\\right]\\\\\\left[\\begin{matrix}- \\frac{A E}{L} & 0\\\\0 & 0\\end{matrix}\\right] & \\left[\\begin{matrix}\\frac{2.5 A E}{L} & 0\\\\0 & \\frac{1.5 A E}{L}\\end{matrix}\\right] & \\left[\\begin{matrix}- \\frac{A E}{L} & 0\\\\0 & 0\\end{matrix}\\right] & \\left[\\begin{matrix}0 & 0\\\\0 & 0\\end{matrix}\\right] & \\left[\\begin{matrix}0 & 0\\\\0 & 0\\end{matrix}\\right] & \\left[\\begin{matrix}0 & 0\\\\0 & 0\\end{matrix}\\right] & \\left[\\begin{matrix}0 & 0\\\\0 & 0\\end{matrix}\\right] & \\left[\\begin{matrix}0 & 0\\\\0 & 0\\end{matrix}\\right] & \\left[\\begin{matrix}0 & 0\\\\0 & 0\\end{matrix}\\right] & \\left[\\begin{matrix}0 & 0\\\\0 & 0\\end{matrix}\\right] & \\left[\\begin{matrix}- \\frac{0.25 A E}{L} & \\frac{0.25 \\sqrt{3} A E}{L}\\\\\\frac{0.25 \\sqrt{3} A E}{L} & - \\frac{0.75 A E}{L}\\end{matrix}\\right] & \\left[\\begin{matrix}- \\frac{0.25 A E}{L} & - \\frac{0.25 \\sqrt{3} A E}{L}\\\\- \\frac{0.25 \\sqrt{3} A E}{L} & - \\frac{0.75 A E}{L}\\end{matrix}\\right] & \\left[\\begin{matrix}0 & 0\\\\0 & 0\\end{matrix}\\right] & \\left[\\begin{matrix}0 & 0\\\\0 & 0\\end{matrix}\\right] & \\left[\\begin{matrix}0 & 0\\\\0 & 0\\end{matrix}\\right] & \\left[\\begin{matrix}0 & 0\\\\0 & 0\\end{matrix}\\right] & \\left[\\begin{matrix}0 & 0\\\\0 & 0\\end{matrix}\\right] & \\left[\\begin{matrix}0 & 0\\\\0 & 0\\end{matrix}\\right] & \\left[\\begin{matrix}0 & 0\\\\0 & 0\\end{matrix}\\right]\\\\\\left[\\begin{matrix}0 & 0\\\\0 & 0\\end{matrix}\\right] & \\left[\\begin{matrix}- \\frac{A E}{L} & 0\\\\0 & 0\\end{matrix}\\right] & \\left[\\begin{matrix}\\frac{2.5 A E}{L} & 0\\\\0 & \\frac{1.5 A E}{L}\\end{matrix}\\right] & \\left[\\begin{matrix}- \\frac{A E}{L} & 0\\\\0 & 0\\end{matrix}\\right] & \\left[\\begin{matrix}0 & 0\\\\0 & 0\\end{matrix}\\right] & \\left[\\begin{matrix}0 & 0\\\\0 & 0\\end{matrix}\\right] & \\left[\\begin{matrix}0 & 0\\\\0 & 0\\end{matrix}\\right] & \\left[\\begin{matrix}0 & 0\\\\0 & 0\\end{matrix}\\right] & \\left[\\begin{matrix}0 & 0\\\\0 & 0\\end{matrix}\\right] & \\left[\\begin{matrix}0 & 0\\\\0 & 0\\end{matrix}\\right] & \\left[\\begin{matrix}0 & 0\\\\0 & 0\\end{matrix}\\right] & \\left[\\begin{matrix}- \\frac{0.25 A E}{L} & \\frac{0.25 \\sqrt{3} A E}{L}\\\\\\frac{0.25 \\sqrt{3} A E}{L} & - \\frac{0.75 A E}{L}\\end{matrix}\\right] & \\left[\\begin{matrix}- \\frac{0.25 A E}{L} & - \\frac{0.25 \\sqrt{3} A E}{L}\\\\- \\frac{0.25 \\sqrt{3} A E}{L} & - \\frac{0.75 A E}{L}\\end{matrix}\\right] & \\left[\\begin{matrix}0 & 0\\\\0 & 0\\end{matrix}\\right] & \\left[\\begin{matrix}0 & 0\\\\0 & 0\\end{matrix}\\right] & \\left[\\begin{matrix}0 & 0\\\\0 & 0\\end{matrix}\\right] & \\left[\\begin{matrix}0 & 0\\\\0 & 0\\end{matrix}\\right] & \\left[\\begin{matrix}0 & 0\\\\0 & 0\\end{matrix}\\right] & \\left[\\begin{matrix}0 & 0\\\\0 & 0\\end{matrix}\\right]\\\\\\left[\\begin{matrix}0 & 0\\\\0 & 0\\end{matrix}\\right] & \\left[\\begin{matrix}0 & 0\\\\0 & 0\\end{matrix}\\right] & \\left[\\begin{matrix}- \\frac{A E}{L} & 0\\\\0 & 0\\end{matrix}\\right] & \\left[\\begin{matrix}\\frac{2.5 A E}{L} & 0\\\\0 & \\frac{1.5 A E}{L}\\end{matrix}\\right] & \\left[\\begin{matrix}- \\frac{A E}{L} & 0\\\\0 & 0\\end{matrix}\\right] & \\left[\\begin{matrix}0 & 0\\\\0 & 0\\end{matrix}\\right] & \\left[\\begin{matrix}0 & 0\\\\0 & 0\\end{matrix}\\right] & \\left[\\begin{matrix}0 & 0\\\\0 & 0\\end{matrix}\\right] & \\left[\\begin{matrix}0 & 0\\\\0 & 0\\end{matrix}\\right] & \\left[\\begin{matrix}0 & 0\\\\0 & 0\\end{matrix}\\right] & \\left[\\begin{matrix}0 & 0\\\\0 & 0\\end{matrix}\\right] & \\left[\\begin{matrix}0 & 0\\\\0 & 0\\end{matrix}\\right] & \\left[\\begin{matrix}- \\frac{0.25 A E}{L} & \\frac{0.25 \\sqrt{3} A E}{L}\\\\\\frac{0.25 \\sqrt{3} A E}{L} & - \\frac{0.75 A E}{L}\\end{matrix}\\right] & \\left[\\begin{matrix}- \\frac{0.25 A E}{L} & - \\frac{0.25 \\sqrt{3} A E}{L}\\\\- \\frac{0.25 \\sqrt{3} A E}{L} & - \\frac{0.75 A E}{L}\\end{matrix}\\right] & \\left[\\begin{matrix}0 & 0\\\\0 & 0\\end{matrix}\\right] & \\left[\\begin{matrix}0 & 0\\\\0 & 0\\end{matrix}\\right] & \\left[\\begin{matrix}0 & 0\\\\0 & 0\\end{matrix}\\right] & \\left[\\begin{matrix}0 & 0\\\\0 & 0\\end{matrix}\\right] & \\left[\\begin{matrix}0 & 0\\\\0 & 0\\end{matrix}\\right]\\\\\\left[\\begin{matrix}0 & 0\\\\0 & 0\\end{matrix}\\right] & \\left[\\begin{matrix}0 & 0\\\\0 & 0\\end{matrix}\\right] & \\left[\\begin{matrix}0 & 0\\\\0 & 0\\end{matrix}\\right] & \\left[\\begin{matrix}- \\frac{A E}{L} & 0\\\\0 & 0\\end{matrix}\\right] & \\left[\\begin{matrix}\\frac{2.5 A E}{L} & 0\\\\0 & \\frac{1.5 A E}{L}\\end{matrix}\\right] & \\left[\\begin{matrix}- \\frac{A E}{L} & 0\\\\0 & 0\\end{matrix}\\right] & \\left[\\begin{matrix}0 & 0\\\\0 & 0\\end{matrix}\\right] & \\left[\\begin{matrix}0 & 0\\\\0 & 0\\end{matrix}\\right] & \\left[\\begin{matrix}0 & 0\\\\0 & 0\\end{matrix}\\right] & \\left[\\begin{matrix}0 & 0\\\\0 & 0\\end{matrix}\\right] & \\left[\\begin{matrix}0 & 0\\\\0 & 0\\end{matrix}\\right] & \\left[\\begin{matrix}0 & 0\\\\0 & 0\\end{matrix}\\right] & \\left[\\begin{matrix}0 & 0\\\\0 & 0\\end{matrix}\\right] & \\left[\\begin{matrix}- \\frac{0.25 A E}{L} & \\frac{0.25 \\sqrt{3} A E}{L}\\\\\\frac{0.25 \\sqrt{3} A E}{L} & - \\frac{0.75 A E}{L}\\end{matrix}\\right] & \\left[\\begin{matrix}- \\frac{0.25 A E}{L} & - \\frac{0.25 \\sqrt{3} A E}{L}\\\\- \\frac{0.25 \\sqrt{3} A E}{L} & - \\frac{0.75 A E}{L}\\end{matrix}\\right] & \\left[\\begin{matrix}0 & 0\\\\0 & 0\\end{matrix}\\right] & \\left[\\begin{matrix}0 & 0\\\\0 & 0\\end{matrix}\\right] & \\left[\\begin{matrix}0 & 0\\\\0 & 0\\end{matrix}\\right] & \\left[\\begin{matrix}0 & 0\\\\0 & 0\\end{matrix}\\right]\\\\\\left[\\begin{matrix}0 & 0\\\\0 & 0\\end{matrix}\\right] & \\left[\\begin{matrix}0 & 0\\\\0 & 0\\end{matrix}\\right] & \\left[\\begin{matrix}0 & 0\\\\0 & 0\\end{matrix}\\right] & \\left[\\begin{matrix}0 & 0\\\\0 & 0\\end{matrix}\\right] & \\left[\\begin{matrix}- \\frac{A E}{L} & 0\\\\0 & 0\\end{matrix}\\right] & \\left[\\begin{matrix}\\frac{2.5 A E}{L} & 0\\\\0 & \\frac{1.5 A E}{L}\\end{matrix}\\right] & \\left[\\begin{matrix}- \\frac{A E}{L} & 0\\\\0 & 0\\end{matrix}\\right] & \\left[\\begin{matrix}0 & 0\\\\0 & 0\\end{matrix}\\right] & \\left[\\begin{matrix}0 & 0\\\\0 & 0\\end{matrix}\\right] & \\left[\\begin{matrix}0 & 0\\\\0 & 0\\end{matrix}\\right] & \\left[\\begin{matrix}0 & 0\\\\0 & 0\\end{matrix}\\right] & \\left[\\begin{matrix}0 & 0\\\\0 & 0\\end{matrix}\\right] & \\left[\\begin{matrix}0 & 0\\\\0 & 0\\end{matrix}\\right] & \\left[\\begin{matrix}0 & 0\\\\0 & 0\\end{matrix}\\right] & \\left[\\begin{matrix}- \\frac{0.25 A E}{L} & \\frac{0.25 \\sqrt{3} A E}{L}\\\\\\frac{0.25 \\sqrt{3} A E}{L} & - \\frac{0.75 A E}{L}\\end{matrix}\\right] & \\left[\\begin{matrix}- \\frac{0.25 A E}{L} & - \\frac{0.25 \\sqrt{3} A E}{L}\\\\- \\frac{0.25 \\sqrt{3} A E}{L} & - \\frac{0.75 A E}{L}\\end{matrix}\\right] & \\left[\\begin{matrix}0 & 0\\\\0 & 0\\end{matrix}\\right] & \\left[\\begin{matrix}0 & 0\\\\0 & 0\\end{matrix}\\right] & \\left[\\begin{matrix}0 & 0\\\\0 & 0\\end{matrix}\\right]\\\\\\left[\\begin{matrix}0 & 0\\\\0 & 0\\end{matrix}\\right] & \\left[\\begin{matrix}0 & 0\\\\0 & 0\\end{matrix}\\right] & \\left[\\begin{matrix}0 & 0\\\\0 & 0\\end{matrix}\\right] & \\left[\\begin{matrix}0 & 0\\\\0 & 0\\end{matrix}\\right] & \\left[\\begin{matrix}0 & 0\\\\0 & 0\\end{matrix}\\right] & \\left[\\begin{matrix}- \\frac{A E}{L} & 0\\\\0 & 0\\end{matrix}\\right] & \\left[\\begin{matrix}\\frac{2.5 A E}{L} & 0\\\\0 & \\frac{1.5 A E}{L}\\end{matrix}\\right] & \\left[\\begin{matrix}- \\frac{A E}{L} & 0\\\\0 & 0\\end{matrix}\\right] & \\left[\\begin{matrix}0 & 0\\\\0 & 0\\end{matrix}\\right] & \\left[\\begin{matrix}0 & 0\\\\0 & 0\\end{matrix}\\right] & \\left[\\begin{matrix}0 & 0\\\\0 & 0\\end{matrix}\\right] & \\left[\\begin{matrix}0 & 0\\\\0 & 0\\end{matrix}\\right] & \\left[\\begin{matrix}0 & 0\\\\0 & 0\\end{matrix}\\right] & \\left[\\begin{matrix}0 & 0\\\\0 & 0\\end{matrix}\\right] & \\left[\\begin{matrix}0 & 0\\\\0 & 0\\end{matrix}\\right] & \\left[\\begin{matrix}- \\frac{0.25 A E}{L} & \\frac{0.25 \\sqrt{3} A E}{L}\\\\\\frac{0.25 \\sqrt{3} A E}{L} & - \\frac{0.75 A E}{L}\\end{matrix}\\right] & \\left[\\begin{matrix}- \\frac{0.25 A E}{L} & - \\frac{0.25 \\sqrt{3} A E}{L}\\\\- \\frac{0.25 \\sqrt{3} A E}{L} & - \\frac{0.75 A E}{L}\\end{matrix}\\right] & \\left[\\begin{matrix}0 & 0\\\\0 & 0\\end{matrix}\\right] & \\left[\\begin{matrix}0 & 0\\\\0 & 0\\end{matrix}\\right]\\\\\\left[\\begin{matrix}0 & 0\\\\0 & 0\\end{matrix}\\right] & \\left[\\begin{matrix}0 & 0\\\\0 & 0\\end{matrix}\\right] & \\left[\\begin{matrix}0 & 0\\\\0 & 0\\end{matrix}\\right] & \\left[\\begin{matrix}0 & 0\\\\0 & 0\\end{matrix}\\right] & \\left[\\begin{matrix}0 & 0\\\\0 & 0\\end{matrix}\\right] & \\left[\\begin{matrix}0 & 0\\\\0 & 0\\end{matrix}\\right] & \\left[\\begin{matrix}- \\frac{A E}{L} & 0\\\\0 & 0\\end{matrix}\\right] & \\left[\\begin{matrix}\\frac{2.5 A E}{L} & 0\\\\0 & \\frac{1.5 A E}{L}\\end{matrix}\\right] & \\left[\\begin{matrix}- \\frac{A E}{L} & 0\\\\0 & 0\\end{matrix}\\right] & \\left[\\begin{matrix}0 & 0\\\\0 & 0\\end{matrix}\\right] & \\left[\\begin{matrix}0 & 0\\\\0 & 0\\end{matrix}\\right] & \\left[\\begin{matrix}0 & 0\\\\0 & 0\\end{matrix}\\right] & \\left[\\begin{matrix}0 & 0\\\\0 & 0\\end{matrix}\\right] & \\left[\\begin{matrix}0 & 0\\\\0 & 0\\end{matrix}\\right] & \\left[\\begin{matrix}0 & 0\\\\0 & 0\\end{matrix}\\right] & \\left[\\begin{matrix}0 & 0\\\\0 & 0\\end{matrix}\\right] & \\left[\\begin{matrix}- \\frac{0.25 A E}{L} & \\frac{0.25 \\sqrt{3} A E}{L}\\\\\\frac{0.25 \\sqrt{3} A E}{L} & - \\frac{0.75 A E}{L}\\end{matrix}\\right] & \\left[\\begin{matrix}- \\frac{0.25 A E}{L} & - \\frac{0.25 \\sqrt{3} A E}{L}\\\\- \\frac{0.25 \\sqrt{3} A E}{L} & - \\frac{0.75 A E}{L}\\end{matrix}\\right] & \\left[\\begin{matrix}0 & 0\\\\0 & 0\\end{matrix}\\right]\\\\\\left[\\begin{matrix}0 & 0\\\\0 & 0\\end{matrix}\\right] & \\left[\\begin{matrix}0 & 0\\\\0 & 0\\end{matrix}\\right] & \\left[\\begin{matrix}0 & 0\\\\0 & 0\\end{matrix}\\right] & \\left[\\begin{matrix}0 & 0\\\\0 & 0\\end{matrix}\\right] & \\left[\\begin{matrix}0 & 0\\\\0 & 0\\end{matrix}\\right] & \\left[\\begin{matrix}0 & 0\\\\0 & 0\\end{matrix}\\right] & \\left[\\begin{matrix}0 & 0\\\\0 & 0\\end{matrix}\\right] & \\left[\\begin{matrix}- \\frac{A E}{L} & 0\\\\0 & 0\\end{matrix}\\right] & \\left[\\begin{matrix}\\frac{2.5 A E}{L} & 0\\\\0 & \\frac{1.5 A E}{L}\\end{matrix}\\right] & \\left[\\begin{matrix}0 & 0\\\\0 & 0\\end{matrix}\\right] & \\left[\\begin{matrix}0 & 0\\\\0 & 0\\end{matrix}\\right] & \\left[\\begin{matrix}0 & 0\\\\0 & 0\\end{matrix}\\right] & \\left[\\begin{matrix}0 & 0\\\\0 & 0\\end{matrix}\\right] & \\left[\\begin{matrix}0 & 0\\\\0 & 0\\end{matrix}\\right] & \\left[\\begin{matrix}0 & 0\\\\0 & 0\\end{matrix}\\right] & \\left[\\begin{matrix}0 & 0\\\\0 & 0\\end{matrix}\\right] & \\left[\\begin{matrix}0 & 0\\\\0 & 0\\end{matrix}\\right] & \\left[\\begin{matrix}- \\frac{0.25 A E}{L} & \\frac{0.25 \\sqrt{3} A E}{L}\\\\\\frac{0.25 \\sqrt{3} A E}{L} & - \\frac{0.75 A E}{L}\\end{matrix}\\right] & \\left[\\begin{matrix}- \\frac{0.25 A E}{L} & - \\frac{0.25 \\sqrt{3} A E}{L}\\\\- \\frac{0.25 \\sqrt{3} A E}{L} & - \\frac{0.75 A E}{L}\\end{matrix}\\right]\\\\\\left[\\begin{matrix}- \\frac{0.25 A E}{L} & \\frac{0.25 \\sqrt{3} A E}{L}\\\\\\frac{0.25 \\sqrt{3} A E}{L} & - \\frac{0.75 A E}{L}\\end{matrix}\\right] & \\left[\\begin{matrix}0 & 0\\\\0 & 0\\end{matrix}\\right] & \\left[\\begin{matrix}0 & 0\\\\0 & 0\\end{matrix}\\right] & \\left[\\begin{matrix}0 & 0\\\\0 & 0\\end{matrix}\\right] & \\left[\\begin{matrix}0 & 0\\\\0 & 0\\end{matrix}\\right] & \\left[\\begin{matrix}0 & 0\\\\0 & 0\\end{matrix}\\right] & \\left[\\begin{matrix}0 & 0\\\\0 & 0\\end{matrix}\\right] & \\left[\\begin{matrix}0 & 0\\\\0 & 0\\end{matrix}\\right] & \\left[\\begin{matrix}0 & 0\\\\0 & 0\\end{matrix}\\right] & \\left[\\begin{matrix}\\frac{1.5 A E}{L} & 0\\\\0 & \\frac{1.5 A E}{L}\\end{matrix}\\right] & \\left[\\begin{matrix}- \\frac{1.0 A E}{L} & 0\\\\0 & 0\\end{matrix}\\right] & \\left[\\begin{matrix}0 & 0\\\\0 & 0\\end{matrix}\\right] & \\left[\\begin{matrix}0 & 0\\\\0 & 0\\end{matrix}\\right] & \\left[\\begin{matrix}0 & 0\\\\0 & 0\\end{matrix}\\right] & \\left[\\begin{matrix}0 & 0\\\\0 & 0\\end{matrix}\\right] & \\left[\\begin{matrix}0 & 0\\\\0 & 0\\end{matrix}\\right] & \\left[\\begin{matrix}0 & 0\\\\0 & 0\\end{matrix}\\right] & \\left[\\begin{matrix}0 & 0\\\\0 & 0\\end{matrix}\\right] & \\left[\\begin{matrix}0 & 0\\\\0 & 0\\end{matrix}\\right]\\\\\\left[\\begin{matrix}- \\frac{0.25 A E}{L} & - \\frac{0.25 \\sqrt{3} A E}{L}\\\\- \\frac{0.25 \\sqrt{3} A E}{L} & - \\frac{0.75 A E}{L}\\end{matrix}\\right] & \\left[\\begin{matrix}- \\frac{0.25 A E}{L} & \\frac{0.25 \\sqrt{3} A E}{L}\\\\\\frac{0.25 \\sqrt{3} A E}{L} & - \\frac{0.75 A E}{L}\\end{matrix}\\right] & \\left[\\begin{matrix}0 & 0\\\\0 & 0\\end{matrix}\\right] & \\left[\\begin{matrix}0 & 0\\\\0 & 0\\end{matrix}\\right] & \\left[\\begin{matrix}0 & 0\\\\0 & 0\\end{matrix}\\right] & \\left[\\begin{matrix}0 & 0\\\\0 & 0\\end{matrix}\\right] & \\left[\\begin{matrix}0 & 0\\\\0 & 0\\end{matrix}\\right] & \\left[\\begin{matrix}0 & 0\\\\0 & 0\\end{matrix}\\right] & \\left[\\begin{matrix}0 & 0\\\\0 & 0\\end{matrix}\\right] & \\left[\\begin{matrix}- \\frac{1.0 A E}{L} & 0\\\\0 & 0\\end{matrix}\\right] & \\left[\\begin{matrix}\\frac{2.5 A E}{L} & 0\\\\0 & \\frac{1.5 A E}{L}\\end{matrix}\\right] & \\left[\\begin{matrix}- \\frac{1.0 A E}{L} & 0\\\\0 & 0\\end{matrix}\\right] & \\left[\\begin{matrix}0 & 0\\\\0 & 0\\end{matrix}\\right] & \\left[\\begin{matrix}0 & 0\\\\0 & 0\\end{matrix}\\right] & \\left[\\begin{matrix}0 & 0\\\\0 & 0\\end{matrix}\\right] & \\left[\\begin{matrix}0 & 0\\\\0 & 0\\end{matrix}\\right] & \\left[\\begin{matrix}0 & 0\\\\0 & 0\\end{matrix}\\right] & \\left[\\begin{matrix}0 & 0\\\\0 & 0\\end{matrix}\\right] & \\left[\\begin{matrix}0 & 0\\\\0 & 0\\end{matrix}\\right]\\\\\\left[\\begin{matrix}0 & 0\\\\0 & 0\\end{matrix}\\right] & \\left[\\begin{matrix}- \\frac{0.25 A E}{L} & - \\frac{0.25 \\sqrt{3} A E}{L}\\\\- \\frac{0.25 \\sqrt{3} A E}{L} & - \\frac{0.75 A E}{L}\\end{matrix}\\right] & \\left[\\begin{matrix}- \\frac{0.25 A E}{L} & \\frac{0.25 \\sqrt{3} A E}{L}\\\\\\frac{0.25 \\sqrt{3} A E}{L} & - \\frac{0.75 A E}{L}\\end{matrix}\\right] & \\left[\\begin{matrix}0 & 0\\\\0 & 0\\end{matrix}\\right] & \\left[\\begin{matrix}0 & 0\\\\0 & 0\\end{matrix}\\right] & \\left[\\begin{matrix}0 & 0\\\\0 & 0\\end{matrix}\\right] & \\left[\\begin{matrix}0 & 0\\\\0 & 0\\end{matrix}\\right] & \\left[\\begin{matrix}0 & 0\\\\0 & 0\\end{matrix}\\right] & \\left[\\begin{matrix}0 & 0\\\\0 & 0\\end{matrix}\\right] & \\left[\\begin{matrix}0 & 0\\\\0 & 0\\end{matrix}\\right] & \\left[\\begin{matrix}- \\frac{1.0 A E}{L} & 0\\\\0 & 0\\end{matrix}\\right] & \\left[\\begin{matrix}\\frac{2.5 A E}{L} & 0\\\\0 & \\frac{1.5 A E}{L}\\end{matrix}\\right] & \\left[\\begin{matrix}- \\frac{1.0 A E}{L} & 0\\\\0 & 0\\end{matrix}\\right] & \\left[\\begin{matrix}0 & 0\\\\0 & 0\\end{matrix}\\right] & \\left[\\begin{matrix}0 & 0\\\\0 & 0\\end{matrix}\\right] & \\left[\\begin{matrix}0 & 0\\\\0 & 0\\end{matrix}\\right] & \\left[\\begin{matrix}0 & 0\\\\0 & 0\\end{matrix}\\right] & \\left[\\begin{matrix}0 & 0\\\\0 & 0\\end{matrix}\\right] & \\left[\\begin{matrix}0 & 0\\\\0 & 0\\end{matrix}\\right]\\\\\\left[\\begin{matrix}0 & 0\\\\0 & 0\\end{matrix}\\right] & \\left[\\begin{matrix}0 & 0\\\\0 & 0\\end{matrix}\\right] & \\left[\\begin{matrix}- \\frac{0.25 A E}{L} & - \\frac{0.25 \\sqrt{3} A E}{L}\\\\- \\frac{0.25 \\sqrt{3} A E}{L} & - \\frac{0.75 A E}{L}\\end{matrix}\\right] & \\left[\\begin{matrix}- \\frac{0.25 A E}{L} & \\frac{0.25 \\sqrt{3} A E}{L}\\\\\\frac{0.25 \\sqrt{3} A E}{L} & - \\frac{0.75 A E}{L}\\end{matrix}\\right] & \\left[\\begin{matrix}0 & 0\\\\0 & 0\\end{matrix}\\right] & \\left[\\begin{matrix}0 & 0\\\\0 & 0\\end{matrix}\\right] & \\left[\\begin{matrix}0 & 0\\\\0 & 0\\end{matrix}\\right] & \\left[\\begin{matrix}0 & 0\\\\0 & 0\\end{matrix}\\right] & \\left[\\begin{matrix}0 & 0\\\\0 & 0\\end{matrix}\\right] & \\left[\\begin{matrix}0 & 0\\\\0 & 0\\end{matrix}\\right] & \\left[\\begin{matrix}0 & 0\\\\0 & 0\\end{matrix}\\right] & \\left[\\begin{matrix}- \\frac{1.0 A E}{L} & 0\\\\0 & 0\\end{matrix}\\right] & \\left[\\begin{matrix}\\frac{2.5 A E}{L} & 0\\\\0 & \\frac{1.5 A E}{L}\\end{matrix}\\right] & \\left[\\begin{matrix}- \\frac{1.0 A E}{L} & 0\\\\0 & 0\\end{matrix}\\right] & \\left[\\begin{matrix}0 & 0\\\\0 & 0\\end{matrix}\\right] & \\left[\\begin{matrix}0 & 0\\\\0 & 0\\end{matrix}\\right] & \\left[\\begin{matrix}0 & 0\\\\0 & 0\\end{matrix}\\right] & \\left[\\begin{matrix}0 & 0\\\\0 & 0\\end{matrix}\\right] & \\left[\\begin{matrix}0 & 0\\\\0 & 0\\end{matrix}\\right]\\\\\\left[\\begin{matrix}0 & 0\\\\0 & 0\\end{matrix}\\right] & \\left[\\begin{matrix}0 & 0\\\\0 & 0\\end{matrix}\\right] & \\left[\\begin{matrix}0 & 0\\\\0 & 0\\end{matrix}\\right] & \\left[\\begin{matrix}- \\frac{0.25 A E}{L} & - \\frac{0.25 \\sqrt{3} A E}{L}\\\\- \\frac{0.25 \\sqrt{3} A E}{L} & - \\frac{0.75 A E}{L}\\end{matrix}\\right] & \\left[\\begin{matrix}- \\frac{0.25 A E}{L} & \\frac{0.25 \\sqrt{3} A E}{L}\\\\\\frac{0.25 \\sqrt{3} A E}{L} & - \\frac{0.75 A E}{L}\\end{matrix}\\right] & \\left[\\begin{matrix}0 & 0\\\\0 & 0\\end{matrix}\\right] & \\left[\\begin{matrix}0 & 0\\\\0 & 0\\end{matrix}\\right] & \\left[\\begin{matrix}0 & 0\\\\0 & 0\\end{matrix}\\right] & \\left[\\begin{matrix}0 & 0\\\\0 & 0\\end{matrix}\\right] & \\left[\\begin{matrix}0 & 0\\\\0 & 0\\end{matrix}\\right] & \\left[\\begin{matrix}0 & 0\\\\0 & 0\\end{matrix}\\right] & \\left[\\begin{matrix}0 & 0\\\\0 & 0\\end{matrix}\\right] & \\left[\\begin{matrix}- \\frac{1.0 A E}{L} & 0\\\\0 & 0\\end{matrix}\\right] & \\left[\\begin{matrix}\\frac{2.5 A E}{L} & 0\\\\0 & \\frac{1.5 A E}{L}\\end{matrix}\\right] & \\left[\\begin{matrix}- \\frac{1.0 A E}{L} & 0\\\\0 & 0\\end{matrix}\\right] & \\left[\\begin{matrix}0 & 0\\\\0 & 0\\end{matrix}\\right] & \\left[\\begin{matrix}0 & 0\\\\0 & 0\\end{matrix}\\right] & \\left[\\begin{matrix}0 & 0\\\\0 & 0\\end{matrix}\\right] & \\left[\\begin{matrix}0 & 0\\\\0 & 0\\end{matrix}\\right]\\\\\\left[\\begin{matrix}0 & 0\\\\0 & 0\\end{matrix}\\right] & \\left[\\begin{matrix}0 & 0\\\\0 & 0\\end{matrix}\\right] & \\left[\\begin{matrix}0 & 0\\\\0 & 0\\end{matrix}\\right] & \\left[\\begin{matrix}0 & 0\\\\0 & 0\\end{matrix}\\right] & \\left[\\begin{matrix}- \\frac{0.25 A E}{L} & - \\frac{0.25 \\sqrt{3} A E}{L}\\\\- \\frac{0.25 \\sqrt{3} A E}{L} & - \\frac{0.75 A E}{L}\\end{matrix}\\right] & \\left[\\begin{matrix}- \\frac{0.25 A E}{L} & \\frac{0.25 \\sqrt{3} A E}{L}\\\\\\frac{0.25 \\sqrt{3} A E}{L} & - \\frac{0.75 A E}{L}\\end{matrix}\\right] & \\left[\\begin{matrix}0 & 0\\\\0 & 0\\end{matrix}\\right] & \\left[\\begin{matrix}0 & 0\\\\0 & 0\\end{matrix}\\right] & \\left[\\begin{matrix}0 & 0\\\\0 & 0\\end{matrix}\\right] & \\left[\\begin{matrix}0 & 0\\\\0 & 0\\end{matrix}\\right] & \\left[\\begin{matrix}0 & 0\\\\0 & 0\\end{matrix}\\right] & \\left[\\begin{matrix}0 & 0\\\\0 & 0\\end{matrix}\\right] & \\left[\\begin{matrix}0 & 0\\\\0 & 0\\end{matrix}\\right] & \\left[\\begin{matrix}- \\frac{1.0 A E}{L} & 0\\\\0 & 0\\end{matrix}\\right] & \\left[\\begin{matrix}\\frac{2.5 A E}{L} & 0\\\\0 & \\frac{1.5 A E}{L}\\end{matrix}\\right] & \\left[\\begin{matrix}- \\frac{1.0 A E}{L} & 0\\\\0 & 0\\end{matrix}\\right] & \\left[\\begin{matrix}0 & 0\\\\0 & 0\\end{matrix}\\right] & \\left[\\begin{matrix}0 & 0\\\\0 & 0\\end{matrix}\\right] & \\left[\\begin{matrix}0 & 0\\\\0 & 0\\end{matrix}\\right]\\\\\\left[\\begin{matrix}0 & 0\\\\0 & 0\\end{matrix}\\right] & \\left[\\begin{matrix}0 & 0\\\\0 & 0\\end{matrix}\\right] & \\left[\\begin{matrix}0 & 0\\\\0 & 0\\end{matrix}\\right] & \\left[\\begin{matrix}0 & 0\\\\0 & 0\\end{matrix}\\right] & \\left[\\begin{matrix}0 & 0\\\\0 & 0\\end{matrix}\\right] & \\left[\\begin{matrix}- \\frac{0.25 A E}{L} & - \\frac{0.25 \\sqrt{3} A E}{L}\\\\- \\frac{0.25 \\sqrt{3} A E}{L} & - \\frac{0.75 A E}{L}\\end{matrix}\\right] & \\left[\\begin{matrix}- \\frac{0.25 A E}{L} & \\frac{0.25 \\sqrt{3} A E}{L}\\\\\\frac{0.25 \\sqrt{3} A E}{L} & - \\frac{0.75 A E}{L}\\end{matrix}\\right] & \\left[\\begin{matrix}0 & 0\\\\0 & 0\\end{matrix}\\right] & \\left[\\begin{matrix}0 & 0\\\\0 & 0\\end{matrix}\\right] & \\left[\\begin{matrix}0 & 0\\\\0 & 0\\end{matrix}\\right] & \\left[\\begin{matrix}0 & 0\\\\0 & 0\\end{matrix}\\right] & \\left[\\begin{matrix}0 & 0\\\\0 & 0\\end{matrix}\\right] & \\left[\\begin{matrix}0 & 0\\\\0 & 0\\end{matrix}\\right] & \\left[\\begin{matrix}0 & 0\\\\0 & 0\\end{matrix}\\right] & \\left[\\begin{matrix}- \\frac{1.0 A E}{L} & 0\\\\0 & 0\\end{matrix}\\right] & \\left[\\begin{matrix}\\frac{2.5 A E}{L} & 0\\\\0 & \\frac{1.5 A E}{L}\\end{matrix}\\right] & \\left[\\begin{matrix}- \\frac{1.0 A E}{L} & 0\\\\0 & 0\\end{matrix}\\right] & \\left[\\begin{matrix}0 & 0\\\\0 & 0\\end{matrix}\\right] & \\left[\\begin{matrix}0 & 0\\\\0 & 0\\end{matrix}\\right]\\\\\\left[\\begin{matrix}0 & 0\\\\0 & 0\\end{matrix}\\right] & \\left[\\begin{matrix}0 & 0\\\\0 & 0\\end{matrix}\\right] & \\left[\\begin{matrix}0 & 0\\\\0 & 0\\end{matrix}\\right] & \\left[\\begin{matrix}0 & 0\\\\0 & 0\\end{matrix}\\right] & \\left[\\begin{matrix}0 & 0\\\\0 & 0\\end{matrix}\\right] & \\left[\\begin{matrix}0 & 0\\\\0 & 0\\end{matrix}\\right] & \\left[\\begin{matrix}- \\frac{0.25 A E}{L} & - \\frac{0.25 \\sqrt{3} A E}{L}\\\\- \\frac{0.25 \\sqrt{3} A E}{L} & - \\frac{0.75 A E}{L}\\end{matrix}\\right] & \\left[\\begin{matrix}- \\frac{0.25 A E}{L} & \\frac{0.25 \\sqrt{3} A E}{L}\\\\\\frac{0.25 \\sqrt{3} A E}{L} & - \\frac{0.75 A E}{L}\\end{matrix}\\right] & \\left[\\begin{matrix}0 & 0\\\\0 & 0\\end{matrix}\\right] & \\left[\\begin{matrix}0 & 0\\\\0 & 0\\end{matrix}\\right] & \\left[\\begin{matrix}0 & 0\\\\0 & 0\\end{matrix}\\right] & \\left[\\begin{matrix}0 & 0\\\\0 & 0\\end{matrix}\\right] & \\left[\\begin{matrix}0 & 0\\\\0 & 0\\end{matrix}\\right] & \\left[\\begin{matrix}0 & 0\\\\0 & 0\\end{matrix}\\right] & \\left[\\begin{matrix}0 & 0\\\\0 & 0\\end{matrix}\\right] & \\left[\\begin{matrix}- \\frac{1.0 A E}{L} & 0\\\\0 & 0\\end{matrix}\\right] & \\left[\\begin{matrix}\\frac{2.5 A E}{L} & 0\\\\0 & \\frac{1.5 A E}{L}\\end{matrix}\\right] & \\left[\\begin{matrix}- \\frac{1.0 A E}{L} & 0\\\\0 & 0\\end{matrix}\\right] & \\left[\\begin{matrix}0 & 0\\\\0 & 0\\end{matrix}\\right]\\\\\\left[\\begin{matrix}0 & 0\\\\0 & 0\\end{matrix}\\right] & \\left[\\begin{matrix}0 & 0\\\\0 & 0\\end{matrix}\\right] & \\left[\\begin{matrix}0 & 0\\\\0 & 0\\end{matrix}\\right] & \\left[\\begin{matrix}0 & 0\\\\0 & 0\\end{matrix}\\right] & \\left[\\begin{matrix}0 & 0\\\\0 & 0\\end{matrix}\\right] & \\left[\\begin{matrix}0 & 0\\\\0 & 0\\end{matrix}\\right] & \\left[\\begin{matrix}0 & 0\\\\0 & 0\\end{matrix}\\right] & \\left[\\begin{matrix}- \\frac{0.25 A E}{L} & - \\frac{0.25 \\sqrt{3} A E}{L}\\\\- \\frac{0.25 \\sqrt{3} A E}{L} & - \\frac{0.75 A E}{L}\\end{matrix}\\right] & \\left[\\begin{matrix}- \\frac{0.25 A E}{L} & \\frac{0.25 \\sqrt{3} A E}{L}\\\\\\frac{0.25 \\sqrt{3} A E}{L} & - \\frac{0.75 A E}{L}\\end{matrix}\\right] & \\left[\\begin{matrix}0 & 0\\\\0 & 0\\end{matrix}\\right] & \\left[\\begin{matrix}0 & 0\\\\0 & 0\\end{matrix}\\right] & \\left[\\begin{matrix}0 & 0\\\\0 & 0\\end{matrix}\\right] & \\left[\\begin{matrix}0 & 0\\\\0 & 0\\end{matrix}\\right] & \\left[\\begin{matrix}0 & 0\\\\0 & 0\\end{matrix}\\right] & \\left[\\begin{matrix}0 & 0\\\\0 & 0\\end{matrix}\\right] & \\left[\\begin{matrix}0 & 0\\\\0 & 0\\end{matrix}\\right] & \\left[\\begin{matrix}- \\frac{1.0 A E}{L} & 0\\\\0 & 0\\end{matrix}\\right] & \\left[\\begin{matrix}\\frac{2.5 A E}{L} & 0\\\\0 & \\frac{1.5 A E}{L}\\end{matrix}\\right] & \\left[\\begin{matrix}- \\frac{1.0 A E}{L} & 0\\\\0 & 0\\end{matrix}\\right]\\\\\\left[\\begin{matrix}0 & 0\\\\0 & 0\\end{matrix}\\right] & \\left[\\begin{matrix}0 & 0\\\\0 & 0\\end{matrix}\\right] & \\left[\\begin{matrix}0 & 0\\\\0 & 0\\end{matrix}\\right] & \\left[\\begin{matrix}0 & 0\\\\0 & 0\\end{matrix}\\right] & \\left[\\begin{matrix}0 & 0\\\\0 & 0\\end{matrix}\\right] & \\left[\\begin{matrix}0 & 0\\\\0 & 0\\end{matrix}\\right] & \\left[\\begin{matrix}0 & 0\\\\0 & 0\\end{matrix}\\right] & \\left[\\begin{matrix}0 & 0\\\\0 & 0\\end{matrix}\\right] & \\left[\\begin{matrix}- \\frac{0.25 A E}{L} & - \\frac{0.25 \\sqrt{3} A E}{L}\\\\- \\frac{0.25 \\sqrt{3} A E}{L} & - \\frac{0.75 A E}{L}\\end{matrix}\\right] & \\left[\\begin{matrix}0 & 0\\\\0 & 0\\end{matrix}\\right] & \\left[\\begin{matrix}0 & 0\\\\0 & 0\\end{matrix}\\right] & \\left[\\begin{matrix}0 & 0\\\\0 & 0\\end{matrix}\\right] & \\left[\\begin{matrix}0 & 0\\\\0 & 0\\end{matrix}\\right] & \\left[\\begin{matrix}0 & 0\\\\0 & 0\\end{matrix}\\right] & \\left[\\begin{matrix}0 & 0\\\\0 & 0\\end{matrix}\\right] & \\left[\\begin{matrix}0 & 0\\\\0 & 0\\end{matrix}\\right] & \\left[\\begin{matrix}0 & 0\\\\0 & 0\\end{matrix}\\right] & \\left[\\begin{matrix}- \\frac{1.0 A E}{L} & 0\\\\0 & 0\\end{matrix}\\right] & \\left[\\begin{matrix}\\frac{1.5 A E}{L} & 0\\\\0 & \\frac{1.5 A E}{L}\\end{matrix}\\right]\\end{array}\\right]$"
      ],
      "text/plain": [
       "Matrix([\n",
       "[                                        Matrix([\n",
       "[2.5*A*E/L,         0],\n",
       "[        0, 1.5*A*E/L]]),                                                               Matrix([\n",
       "[-A*E/L, 0],\n",
       "[     0, 0]]),                                                                         Matrix([\n",
       "[0, 0],\n",
       "[0, 0]]),                                                                         Matrix([\n",
       "[0, 0],\n",
       "[0, 0]]),                                                                         Matrix([\n",
       "[0, 0],\n",
       "[0, 0]]),                                                                         Matrix([\n",
       "[0, 0],\n",
       "[0, 0]]),                                                                         Matrix([\n",
       "[0, 0],\n",
       "[0, 0]]),                                                                         Matrix([\n",
       "[0, 0],\n",
       "[0, 0]]),                                                                         Matrix([\n",
       "[0, 0],\n",
       "[0, 0]]), Matrix([\n",
       "[       -0.25*A*E/L, 0.25*sqrt(3)*A*E/L],\n",
       "[0.25*sqrt(3)*A*E/L,        -0.75*A*E/L]]), Matrix([\n",
       "[        -0.25*A*E/L, -0.25*sqrt(3)*A*E/L],\n",
       "[-0.25*sqrt(3)*A*E/L,         -0.75*A*E/L]]),                                                                         Matrix([\n",
       "[0, 0],\n",
       "[0, 0]]),                                                                         Matrix([\n",
       "[0, 0],\n",
       "[0, 0]]),                                                                         Matrix([\n",
       "[0, 0],\n",
       "[0, 0]]),                                                                         Matrix([\n",
       "[0, 0],\n",
       "[0, 0]]),                                                                         Matrix([\n",
       "[0, 0],\n",
       "[0, 0]]),                                                                         Matrix([\n",
       "[0, 0],\n",
       "[0, 0]]),                                                                         Matrix([\n",
       "[0, 0],\n",
       "[0, 0]]),                                                                         Matrix([\n",
       "[0, 0],\n",
       "[0, 0]])],\n",
       "[                                                              Matrix([\n",
       "[-A*E/L, 0],\n",
       "[     0, 0]]),                                         Matrix([\n",
       "[2.5*A*E/L,         0],\n",
       "[        0, 1.5*A*E/L]]),                                                               Matrix([\n",
       "[-A*E/L, 0],\n",
       "[     0, 0]]),                                                                         Matrix([\n",
       "[0, 0],\n",
       "[0, 0]]),                                                                         Matrix([\n",
       "[0, 0],\n",
       "[0, 0]]),                                                                         Matrix([\n",
       "[0, 0],\n",
       "[0, 0]]),                                                                         Matrix([\n",
       "[0, 0],\n",
       "[0, 0]]),                                                                         Matrix([\n",
       "[0, 0],\n",
       "[0, 0]]),                                                                         Matrix([\n",
       "[0, 0],\n",
       "[0, 0]]),                                                                     Matrix([\n",
       "[0, 0],\n",
       "[0, 0]]),     Matrix([\n",
       "[       -0.25*A*E/L, 0.25*sqrt(3)*A*E/L],\n",
       "[0.25*sqrt(3)*A*E/L,        -0.75*A*E/L]]), Matrix([\n",
       "[        -0.25*A*E/L, -0.25*sqrt(3)*A*E/L],\n",
       "[-0.25*sqrt(3)*A*E/L,         -0.75*A*E/L]]),                                                                         Matrix([\n",
       "[0, 0],\n",
       "[0, 0]]),                                                                         Matrix([\n",
       "[0, 0],\n",
       "[0, 0]]),                                                                         Matrix([\n",
       "[0, 0],\n",
       "[0, 0]]),                                                                         Matrix([\n",
       "[0, 0],\n",
       "[0, 0]]),                                                                         Matrix([\n",
       "[0, 0],\n",
       "[0, 0]]),                                                                         Matrix([\n",
       "[0, 0],\n",
       "[0, 0]]),                                                                         Matrix([\n",
       "[0, 0],\n",
       "[0, 0]])],\n",
       "[                                                                        Matrix([\n",
       "[0, 0],\n",
       "[0, 0]]),                                                               Matrix([\n",
       "[-A*E/L, 0],\n",
       "[     0, 0]]),                                         Matrix([\n",
       "[2.5*A*E/L,         0],\n",
       "[        0, 1.5*A*E/L]]),                                                               Matrix([\n",
       "[-A*E/L, 0],\n",
       "[     0, 0]]),                                                                         Matrix([\n",
       "[0, 0],\n",
       "[0, 0]]),                                                                         Matrix([\n",
       "[0, 0],\n",
       "[0, 0]]),                                                                         Matrix([\n",
       "[0, 0],\n",
       "[0, 0]]),                                                                         Matrix([\n",
       "[0, 0],\n",
       "[0, 0]]),                                                                         Matrix([\n",
       "[0, 0],\n",
       "[0, 0]]),                                                                     Matrix([\n",
       "[0, 0],\n",
       "[0, 0]]),                                                                         Matrix([\n",
       "[0, 0],\n",
       "[0, 0]]),     Matrix([\n",
       "[       -0.25*A*E/L, 0.25*sqrt(3)*A*E/L],\n",
       "[0.25*sqrt(3)*A*E/L,        -0.75*A*E/L]]), Matrix([\n",
       "[        -0.25*A*E/L, -0.25*sqrt(3)*A*E/L],\n",
       "[-0.25*sqrt(3)*A*E/L,         -0.75*A*E/L]]),                                                                         Matrix([\n",
       "[0, 0],\n",
       "[0, 0]]),                                                                         Matrix([\n",
       "[0, 0],\n",
       "[0, 0]]),                                                                         Matrix([\n",
       "[0, 0],\n",
       "[0, 0]]),                                                                         Matrix([\n",
       "[0, 0],\n",
       "[0, 0]]),                                                                         Matrix([\n",
       "[0, 0],\n",
       "[0, 0]]),                                                                         Matrix([\n",
       "[0, 0],\n",
       "[0, 0]])],\n",
       "[                                                                        Matrix([\n",
       "[0, 0],\n",
       "[0, 0]]),                                                                         Matrix([\n",
       "[0, 0],\n",
       "[0, 0]]),                                                               Matrix([\n",
       "[-A*E/L, 0],\n",
       "[     0, 0]]),                                         Matrix([\n",
       "[2.5*A*E/L,         0],\n",
       "[        0, 1.5*A*E/L]]),                                                               Matrix([\n",
       "[-A*E/L, 0],\n",
       "[     0, 0]]),                                                                         Matrix([\n",
       "[0, 0],\n",
       "[0, 0]]),                                                                         Matrix([\n",
       "[0, 0],\n",
       "[0, 0]]),                                                                         Matrix([\n",
       "[0, 0],\n",
       "[0, 0]]),                                                                         Matrix([\n",
       "[0, 0],\n",
       "[0, 0]]),                                                                     Matrix([\n",
       "[0, 0],\n",
       "[0, 0]]),                                                                         Matrix([\n",
       "[0, 0],\n",
       "[0, 0]]),                                                                         Matrix([\n",
       "[0, 0],\n",
       "[0, 0]]),     Matrix([\n",
       "[       -0.25*A*E/L, 0.25*sqrt(3)*A*E/L],\n",
       "[0.25*sqrt(3)*A*E/L,        -0.75*A*E/L]]), Matrix([\n",
       "[        -0.25*A*E/L, -0.25*sqrt(3)*A*E/L],\n",
       "[-0.25*sqrt(3)*A*E/L,         -0.75*A*E/L]]),                                                                         Matrix([\n",
       "[0, 0],\n",
       "[0, 0]]),                                                                         Matrix([\n",
       "[0, 0],\n",
       "[0, 0]]),                                                                         Matrix([\n",
       "[0, 0],\n",
       "[0, 0]]),                                                                         Matrix([\n",
       "[0, 0],\n",
       "[0, 0]]),                                                                         Matrix([\n",
       "[0, 0],\n",
       "[0, 0]])],\n",
       "[                                                                        Matrix([\n",
       "[0, 0],\n",
       "[0, 0]]),                                                                         Matrix([\n",
       "[0, 0],\n",
       "[0, 0]]),                                                                         Matrix([\n",
       "[0, 0],\n",
       "[0, 0]]),                                                               Matrix([\n",
       "[-A*E/L, 0],\n",
       "[     0, 0]]),                                         Matrix([\n",
       "[2.5*A*E/L,         0],\n",
       "[        0, 1.5*A*E/L]]),                                                               Matrix([\n",
       "[-A*E/L, 0],\n",
       "[     0, 0]]),                                                                         Matrix([\n",
       "[0, 0],\n",
       "[0, 0]]),                                                                         Matrix([\n",
       "[0, 0],\n",
       "[0, 0]]),                                                                         Matrix([\n",
       "[0, 0],\n",
       "[0, 0]]),                                                                     Matrix([\n",
       "[0, 0],\n",
       "[0, 0]]),                                                                         Matrix([\n",
       "[0, 0],\n",
       "[0, 0]]),                                                                         Matrix([\n",
       "[0, 0],\n",
       "[0, 0]]),                                                                         Matrix([\n",
       "[0, 0],\n",
       "[0, 0]]),     Matrix([\n",
       "[       -0.25*A*E/L, 0.25*sqrt(3)*A*E/L],\n",
       "[0.25*sqrt(3)*A*E/L,        -0.75*A*E/L]]), Matrix([\n",
       "[        -0.25*A*E/L, -0.25*sqrt(3)*A*E/L],\n",
       "[-0.25*sqrt(3)*A*E/L,         -0.75*A*E/L]]),                                                                         Matrix([\n",
       "[0, 0],\n",
       "[0, 0]]),                                                                         Matrix([\n",
       "[0, 0],\n",
       "[0, 0]]),                                                                         Matrix([\n",
       "[0, 0],\n",
       "[0, 0]]),                                                                         Matrix([\n",
       "[0, 0],\n",
       "[0, 0]])],\n",
       "[                                                                        Matrix([\n",
       "[0, 0],\n",
       "[0, 0]]),                                                                         Matrix([\n",
       "[0, 0],\n",
       "[0, 0]]),                                                                         Matrix([\n",
       "[0, 0],\n",
       "[0, 0]]),                                                                         Matrix([\n",
       "[0, 0],\n",
       "[0, 0]]),                                                               Matrix([\n",
       "[-A*E/L, 0],\n",
       "[     0, 0]]),                                         Matrix([\n",
       "[2.5*A*E/L,         0],\n",
       "[        0, 1.5*A*E/L]]),                                                               Matrix([\n",
       "[-A*E/L, 0],\n",
       "[     0, 0]]),                                                                         Matrix([\n",
       "[0, 0],\n",
       "[0, 0]]),                                                                         Matrix([\n",
       "[0, 0],\n",
       "[0, 0]]),                                                                     Matrix([\n",
       "[0, 0],\n",
       "[0, 0]]),                                                                         Matrix([\n",
       "[0, 0],\n",
       "[0, 0]]),                                                                         Matrix([\n",
       "[0, 0],\n",
       "[0, 0]]),                                                                         Matrix([\n",
       "[0, 0],\n",
       "[0, 0]]),                                                                         Matrix([\n",
       "[0, 0],\n",
       "[0, 0]]),     Matrix([\n",
       "[       -0.25*A*E/L, 0.25*sqrt(3)*A*E/L],\n",
       "[0.25*sqrt(3)*A*E/L,        -0.75*A*E/L]]), Matrix([\n",
       "[        -0.25*A*E/L, -0.25*sqrt(3)*A*E/L],\n",
       "[-0.25*sqrt(3)*A*E/L,         -0.75*A*E/L]]),                                                                         Matrix([\n",
       "[0, 0],\n",
       "[0, 0]]),                                                                         Matrix([\n",
       "[0, 0],\n",
       "[0, 0]]),                                                                         Matrix([\n",
       "[0, 0],\n",
       "[0, 0]])],\n",
       "[                                                                        Matrix([\n",
       "[0, 0],\n",
       "[0, 0]]),                                                                         Matrix([\n",
       "[0, 0],\n",
       "[0, 0]]),                                                                         Matrix([\n",
       "[0, 0],\n",
       "[0, 0]]),                                                                         Matrix([\n",
       "[0, 0],\n",
       "[0, 0]]),                                                                         Matrix([\n",
       "[0, 0],\n",
       "[0, 0]]),                                                               Matrix([\n",
       "[-A*E/L, 0],\n",
       "[     0, 0]]),                                         Matrix([\n",
       "[2.5*A*E/L,         0],\n",
       "[        0, 1.5*A*E/L]]),                                                               Matrix([\n",
       "[-A*E/L, 0],\n",
       "[     0, 0]]),                                                                         Matrix([\n",
       "[0, 0],\n",
       "[0, 0]]),                                                                     Matrix([\n",
       "[0, 0],\n",
       "[0, 0]]),                                                                         Matrix([\n",
       "[0, 0],\n",
       "[0, 0]]),                                                                         Matrix([\n",
       "[0, 0],\n",
       "[0, 0]]),                                                                         Matrix([\n",
       "[0, 0],\n",
       "[0, 0]]),                                                                         Matrix([\n",
       "[0, 0],\n",
       "[0, 0]]),                                                                         Matrix([\n",
       "[0, 0],\n",
       "[0, 0]]),     Matrix([\n",
       "[       -0.25*A*E/L, 0.25*sqrt(3)*A*E/L],\n",
       "[0.25*sqrt(3)*A*E/L,        -0.75*A*E/L]]), Matrix([\n",
       "[        -0.25*A*E/L, -0.25*sqrt(3)*A*E/L],\n",
       "[-0.25*sqrt(3)*A*E/L,         -0.75*A*E/L]]),                                                                         Matrix([\n",
       "[0, 0],\n",
       "[0, 0]]),                                                                         Matrix([\n",
       "[0, 0],\n",
       "[0, 0]])],\n",
       "[                                                                        Matrix([\n",
       "[0, 0],\n",
       "[0, 0]]),                                                                         Matrix([\n",
       "[0, 0],\n",
       "[0, 0]]),                                                                         Matrix([\n",
       "[0, 0],\n",
       "[0, 0]]),                                                                         Matrix([\n",
       "[0, 0],\n",
       "[0, 0]]),                                                                         Matrix([\n",
       "[0, 0],\n",
       "[0, 0]]),                                                                         Matrix([\n",
       "[0, 0],\n",
       "[0, 0]]),                                                               Matrix([\n",
       "[-A*E/L, 0],\n",
       "[     0, 0]]),                                         Matrix([\n",
       "[2.5*A*E/L,         0],\n",
       "[        0, 1.5*A*E/L]]),                                                               Matrix([\n",
       "[-A*E/L, 0],\n",
       "[     0, 0]]),                                                                     Matrix([\n",
       "[0, 0],\n",
       "[0, 0]]),                                                                         Matrix([\n",
       "[0, 0],\n",
       "[0, 0]]),                                                                         Matrix([\n",
       "[0, 0],\n",
       "[0, 0]]),                                                                         Matrix([\n",
       "[0, 0],\n",
       "[0, 0]]),                                                                         Matrix([\n",
       "[0, 0],\n",
       "[0, 0]]),                                                                         Matrix([\n",
       "[0, 0],\n",
       "[0, 0]]),                                                                         Matrix([\n",
       "[0, 0],\n",
       "[0, 0]]),     Matrix([\n",
       "[       -0.25*A*E/L, 0.25*sqrt(3)*A*E/L],\n",
       "[0.25*sqrt(3)*A*E/L,        -0.75*A*E/L]]), Matrix([\n",
       "[        -0.25*A*E/L, -0.25*sqrt(3)*A*E/L],\n",
       "[-0.25*sqrt(3)*A*E/L,         -0.75*A*E/L]]),                                                                         Matrix([\n",
       "[0, 0],\n",
       "[0, 0]])],\n",
       "[                                                                        Matrix([\n",
       "[0, 0],\n",
       "[0, 0]]),                                                                         Matrix([\n",
       "[0, 0],\n",
       "[0, 0]]),                                                                         Matrix([\n",
       "[0, 0],\n",
       "[0, 0]]),                                                                         Matrix([\n",
       "[0, 0],\n",
       "[0, 0]]),                                                                         Matrix([\n",
       "[0, 0],\n",
       "[0, 0]]),                                                                         Matrix([\n",
       "[0, 0],\n",
       "[0, 0]]),                                                                         Matrix([\n",
       "[0, 0],\n",
       "[0, 0]]),                                                               Matrix([\n",
       "[-A*E/L, 0],\n",
       "[     0, 0]]),                                         Matrix([\n",
       "[2.5*A*E/L,         0],\n",
       "[        0, 1.5*A*E/L]]),                                                                     Matrix([\n",
       "[0, 0],\n",
       "[0, 0]]),                                                                         Matrix([\n",
       "[0, 0],\n",
       "[0, 0]]),                                                                         Matrix([\n",
       "[0, 0],\n",
       "[0, 0]]),                                                                         Matrix([\n",
       "[0, 0],\n",
       "[0, 0]]),                                                                         Matrix([\n",
       "[0, 0],\n",
       "[0, 0]]),                                                                         Matrix([\n",
       "[0, 0],\n",
       "[0, 0]]),                                                                         Matrix([\n",
       "[0, 0],\n",
       "[0, 0]]),                                                                         Matrix([\n",
       "[0, 0],\n",
       "[0, 0]]),     Matrix([\n",
       "[       -0.25*A*E/L, 0.25*sqrt(3)*A*E/L],\n",
       "[0.25*sqrt(3)*A*E/L,        -0.75*A*E/L]]), Matrix([\n",
       "[        -0.25*A*E/L, -0.25*sqrt(3)*A*E/L],\n",
       "[-0.25*sqrt(3)*A*E/L,         -0.75*A*E/L]])],\n",
       "[    Matrix([\n",
       "[       -0.25*A*E/L, 0.25*sqrt(3)*A*E/L],\n",
       "[0.25*sqrt(3)*A*E/L,        -0.75*A*E/L]]),                                                                         Matrix([\n",
       "[0, 0],\n",
       "[0, 0]]),                                                                         Matrix([\n",
       "[0, 0],\n",
       "[0, 0]]),                                                                         Matrix([\n",
       "[0, 0],\n",
       "[0, 0]]),                                                                         Matrix([\n",
       "[0, 0],\n",
       "[0, 0]]),                                                                         Matrix([\n",
       "[0, 0],\n",
       "[0, 0]]),                                                                         Matrix([\n",
       "[0, 0],\n",
       "[0, 0]]),                                                                         Matrix([\n",
       "[0, 0],\n",
       "[0, 0]]),                                                                         Matrix([\n",
       "[0, 0],\n",
       "[0, 0]]),                                     Matrix([\n",
       "[1.5*A*E/L,         0],\n",
       "[        0, 1.5*A*E/L]]),                                                       Matrix([\n",
       "[-1.0*A*E/L, 0],\n",
       "[         0, 0]]),                                                                         Matrix([\n",
       "[0, 0],\n",
       "[0, 0]]),                                                                         Matrix([\n",
       "[0, 0],\n",
       "[0, 0]]),                                                                         Matrix([\n",
       "[0, 0],\n",
       "[0, 0]]),                                                                         Matrix([\n",
       "[0, 0],\n",
       "[0, 0]]),                                                                         Matrix([\n",
       "[0, 0],\n",
       "[0, 0]]),                                                                         Matrix([\n",
       "[0, 0],\n",
       "[0, 0]]),                                                                         Matrix([\n",
       "[0, 0],\n",
       "[0, 0]]),                                                                         Matrix([\n",
       "[0, 0],\n",
       "[0, 0]])],\n",
       "[Matrix([\n",
       "[        -0.25*A*E/L, -0.25*sqrt(3)*A*E/L],\n",
       "[-0.25*sqrt(3)*A*E/L,         -0.75*A*E/L]]),     Matrix([\n",
       "[       -0.25*A*E/L, 0.25*sqrt(3)*A*E/L],\n",
       "[0.25*sqrt(3)*A*E/L,        -0.75*A*E/L]]),                                                                         Matrix([\n",
       "[0, 0],\n",
       "[0, 0]]),                                                                         Matrix([\n",
       "[0, 0],\n",
       "[0, 0]]),                                                                         Matrix([\n",
       "[0, 0],\n",
       "[0, 0]]),                                                                         Matrix([\n",
       "[0, 0],\n",
       "[0, 0]]),                                                                         Matrix([\n",
       "[0, 0],\n",
       "[0, 0]]),                                                                         Matrix([\n",
       "[0, 0],\n",
       "[0, 0]]),                                                                         Matrix([\n",
       "[0, 0],\n",
       "[0, 0]]),                                                   Matrix([\n",
       "[-1.0*A*E/L, 0],\n",
       "[         0, 0]]),                                         Matrix([\n",
       "[2.5*A*E/L,         0],\n",
       "[        0, 1.5*A*E/L]]),                                                       Matrix([\n",
       "[-1.0*A*E/L, 0],\n",
       "[         0, 0]]),                                                                         Matrix([\n",
       "[0, 0],\n",
       "[0, 0]]),                                                                         Matrix([\n",
       "[0, 0],\n",
       "[0, 0]]),                                                                         Matrix([\n",
       "[0, 0],\n",
       "[0, 0]]),                                                                         Matrix([\n",
       "[0, 0],\n",
       "[0, 0]]),                                                                         Matrix([\n",
       "[0, 0],\n",
       "[0, 0]]),                                                                         Matrix([\n",
       "[0, 0],\n",
       "[0, 0]]),                                                                         Matrix([\n",
       "[0, 0],\n",
       "[0, 0]])],\n",
       "[                                                                        Matrix([\n",
       "[0, 0],\n",
       "[0, 0]]), Matrix([\n",
       "[        -0.25*A*E/L, -0.25*sqrt(3)*A*E/L],\n",
       "[-0.25*sqrt(3)*A*E/L,         -0.75*A*E/L]]),     Matrix([\n",
       "[       -0.25*A*E/L, 0.25*sqrt(3)*A*E/L],\n",
       "[0.25*sqrt(3)*A*E/L,        -0.75*A*E/L]]),                                                                         Matrix([\n",
       "[0, 0],\n",
       "[0, 0]]),                                                                         Matrix([\n",
       "[0, 0],\n",
       "[0, 0]]),                                                                         Matrix([\n",
       "[0, 0],\n",
       "[0, 0]]),                                                                         Matrix([\n",
       "[0, 0],\n",
       "[0, 0]]),                                                                         Matrix([\n",
       "[0, 0],\n",
       "[0, 0]]),                                                                         Matrix([\n",
       "[0, 0],\n",
       "[0, 0]]),                                                                     Matrix([\n",
       "[0, 0],\n",
       "[0, 0]]),                                                       Matrix([\n",
       "[-1.0*A*E/L, 0],\n",
       "[         0, 0]]),                                         Matrix([\n",
       "[2.5*A*E/L,         0],\n",
       "[        0, 1.5*A*E/L]]),                                                       Matrix([\n",
       "[-1.0*A*E/L, 0],\n",
       "[         0, 0]]),                                                                         Matrix([\n",
       "[0, 0],\n",
       "[0, 0]]),                                                                         Matrix([\n",
       "[0, 0],\n",
       "[0, 0]]),                                                                         Matrix([\n",
       "[0, 0],\n",
       "[0, 0]]),                                                                         Matrix([\n",
       "[0, 0],\n",
       "[0, 0]]),                                                                         Matrix([\n",
       "[0, 0],\n",
       "[0, 0]]),                                                                         Matrix([\n",
       "[0, 0],\n",
       "[0, 0]])],\n",
       "[                                                                        Matrix([\n",
       "[0, 0],\n",
       "[0, 0]]),                                                                         Matrix([\n",
       "[0, 0],\n",
       "[0, 0]]), Matrix([\n",
       "[        -0.25*A*E/L, -0.25*sqrt(3)*A*E/L],\n",
       "[-0.25*sqrt(3)*A*E/L,         -0.75*A*E/L]]),     Matrix([\n",
       "[       -0.25*A*E/L, 0.25*sqrt(3)*A*E/L],\n",
       "[0.25*sqrt(3)*A*E/L,        -0.75*A*E/L]]),                                                                         Matrix([\n",
       "[0, 0],\n",
       "[0, 0]]),                                                                         Matrix([\n",
       "[0, 0],\n",
       "[0, 0]]),                                                                         Matrix([\n",
       "[0, 0],\n",
       "[0, 0]]),                                                                         Matrix([\n",
       "[0, 0],\n",
       "[0, 0]]),                                                                         Matrix([\n",
       "[0, 0],\n",
       "[0, 0]]),                                                                     Matrix([\n",
       "[0, 0],\n",
       "[0, 0]]),                                                                         Matrix([\n",
       "[0, 0],\n",
       "[0, 0]]),                                                       Matrix([\n",
       "[-1.0*A*E/L, 0],\n",
       "[         0, 0]]),                                         Matrix([\n",
       "[2.5*A*E/L,         0],\n",
       "[        0, 1.5*A*E/L]]),                                                       Matrix([\n",
       "[-1.0*A*E/L, 0],\n",
       "[         0, 0]]),                                                                         Matrix([\n",
       "[0, 0],\n",
       "[0, 0]]),                                                                         Matrix([\n",
       "[0, 0],\n",
       "[0, 0]]),                                                                         Matrix([\n",
       "[0, 0],\n",
       "[0, 0]]),                                                                         Matrix([\n",
       "[0, 0],\n",
       "[0, 0]]),                                                                         Matrix([\n",
       "[0, 0],\n",
       "[0, 0]])],\n",
       "[                                                                        Matrix([\n",
       "[0, 0],\n",
       "[0, 0]]),                                                                         Matrix([\n",
       "[0, 0],\n",
       "[0, 0]]),                                                                         Matrix([\n",
       "[0, 0],\n",
       "[0, 0]]), Matrix([\n",
       "[        -0.25*A*E/L, -0.25*sqrt(3)*A*E/L],\n",
       "[-0.25*sqrt(3)*A*E/L,         -0.75*A*E/L]]),     Matrix([\n",
       "[       -0.25*A*E/L, 0.25*sqrt(3)*A*E/L],\n",
       "[0.25*sqrt(3)*A*E/L,        -0.75*A*E/L]]),                                                                         Matrix([\n",
       "[0, 0],\n",
       "[0, 0]]),                                                                         Matrix([\n",
       "[0, 0],\n",
       "[0, 0]]),                                                                         Matrix([\n",
       "[0, 0],\n",
       "[0, 0]]),                                                                         Matrix([\n",
       "[0, 0],\n",
       "[0, 0]]),                                                                     Matrix([\n",
       "[0, 0],\n",
       "[0, 0]]),                                                                         Matrix([\n",
       "[0, 0],\n",
       "[0, 0]]),                                                                         Matrix([\n",
       "[0, 0],\n",
       "[0, 0]]),                                                       Matrix([\n",
       "[-1.0*A*E/L, 0],\n",
       "[         0, 0]]),                                         Matrix([\n",
       "[2.5*A*E/L,         0],\n",
       "[        0, 1.5*A*E/L]]),                                                       Matrix([\n",
       "[-1.0*A*E/L, 0],\n",
       "[         0, 0]]),                                                                         Matrix([\n",
       "[0, 0],\n",
       "[0, 0]]),                                                                         Matrix([\n",
       "[0, 0],\n",
       "[0, 0]]),                                                                         Matrix([\n",
       "[0, 0],\n",
       "[0, 0]]),                                                                         Matrix([\n",
       "[0, 0],\n",
       "[0, 0]])],\n",
       "[                                                                        Matrix([\n",
       "[0, 0],\n",
       "[0, 0]]),                                                                         Matrix([\n",
       "[0, 0],\n",
       "[0, 0]]),                                                                         Matrix([\n",
       "[0, 0],\n",
       "[0, 0]]),                                                                         Matrix([\n",
       "[0, 0],\n",
       "[0, 0]]), Matrix([\n",
       "[        -0.25*A*E/L, -0.25*sqrt(3)*A*E/L],\n",
       "[-0.25*sqrt(3)*A*E/L,         -0.75*A*E/L]]),     Matrix([\n",
       "[       -0.25*A*E/L, 0.25*sqrt(3)*A*E/L],\n",
       "[0.25*sqrt(3)*A*E/L,        -0.75*A*E/L]]),                                                                         Matrix([\n",
       "[0, 0],\n",
       "[0, 0]]),                                                                         Matrix([\n",
       "[0, 0],\n",
       "[0, 0]]),                                                                         Matrix([\n",
       "[0, 0],\n",
       "[0, 0]]),                                                                     Matrix([\n",
       "[0, 0],\n",
       "[0, 0]]),                                                                         Matrix([\n",
       "[0, 0],\n",
       "[0, 0]]),                                                                         Matrix([\n",
       "[0, 0],\n",
       "[0, 0]]),                                                                         Matrix([\n",
       "[0, 0],\n",
       "[0, 0]]),                                                       Matrix([\n",
       "[-1.0*A*E/L, 0],\n",
       "[         0, 0]]),                                         Matrix([\n",
       "[2.5*A*E/L,         0],\n",
       "[        0, 1.5*A*E/L]]),                                                       Matrix([\n",
       "[-1.0*A*E/L, 0],\n",
       "[         0, 0]]),                                                                         Matrix([\n",
       "[0, 0],\n",
       "[0, 0]]),                                                                         Matrix([\n",
       "[0, 0],\n",
       "[0, 0]]),                                                                         Matrix([\n",
       "[0, 0],\n",
       "[0, 0]])],\n",
       "[                                                                        Matrix([\n",
       "[0, 0],\n",
       "[0, 0]]),                                                                         Matrix([\n",
       "[0, 0],\n",
       "[0, 0]]),                                                                         Matrix([\n",
       "[0, 0],\n",
       "[0, 0]]),                                                                         Matrix([\n",
       "[0, 0],\n",
       "[0, 0]]),                                                                         Matrix([\n",
       "[0, 0],\n",
       "[0, 0]]), Matrix([\n",
       "[        -0.25*A*E/L, -0.25*sqrt(3)*A*E/L],\n",
       "[-0.25*sqrt(3)*A*E/L,         -0.75*A*E/L]]),     Matrix([\n",
       "[       -0.25*A*E/L, 0.25*sqrt(3)*A*E/L],\n",
       "[0.25*sqrt(3)*A*E/L,        -0.75*A*E/L]]),                                                                         Matrix([\n",
       "[0, 0],\n",
       "[0, 0]]),                                                                         Matrix([\n",
       "[0, 0],\n",
       "[0, 0]]),                                                                     Matrix([\n",
       "[0, 0],\n",
       "[0, 0]]),                                                                         Matrix([\n",
       "[0, 0],\n",
       "[0, 0]]),                                                                         Matrix([\n",
       "[0, 0],\n",
       "[0, 0]]),                                                                         Matrix([\n",
       "[0, 0],\n",
       "[0, 0]]),                                                                         Matrix([\n",
       "[0, 0],\n",
       "[0, 0]]),                                                       Matrix([\n",
       "[-1.0*A*E/L, 0],\n",
       "[         0, 0]]),                                         Matrix([\n",
       "[2.5*A*E/L,         0],\n",
       "[        0, 1.5*A*E/L]]),                                                       Matrix([\n",
       "[-1.0*A*E/L, 0],\n",
       "[         0, 0]]),                                                                         Matrix([\n",
       "[0, 0],\n",
       "[0, 0]]),                                                                         Matrix([\n",
       "[0, 0],\n",
       "[0, 0]])],\n",
       "[                                                                        Matrix([\n",
       "[0, 0],\n",
       "[0, 0]]),                                                                         Matrix([\n",
       "[0, 0],\n",
       "[0, 0]]),                                                                         Matrix([\n",
       "[0, 0],\n",
       "[0, 0]]),                                                                         Matrix([\n",
       "[0, 0],\n",
       "[0, 0]]),                                                                         Matrix([\n",
       "[0, 0],\n",
       "[0, 0]]),                                                                         Matrix([\n",
       "[0, 0],\n",
       "[0, 0]]), Matrix([\n",
       "[        -0.25*A*E/L, -0.25*sqrt(3)*A*E/L],\n",
       "[-0.25*sqrt(3)*A*E/L,         -0.75*A*E/L]]),     Matrix([\n",
       "[       -0.25*A*E/L, 0.25*sqrt(3)*A*E/L],\n",
       "[0.25*sqrt(3)*A*E/L,        -0.75*A*E/L]]),                                                                         Matrix([\n",
       "[0, 0],\n",
       "[0, 0]]),                                                                     Matrix([\n",
       "[0, 0],\n",
       "[0, 0]]),                                                                         Matrix([\n",
       "[0, 0],\n",
       "[0, 0]]),                                                                         Matrix([\n",
       "[0, 0],\n",
       "[0, 0]]),                                                                         Matrix([\n",
       "[0, 0],\n",
       "[0, 0]]),                                                                         Matrix([\n",
       "[0, 0],\n",
       "[0, 0]]),                                                                         Matrix([\n",
       "[0, 0],\n",
       "[0, 0]]),                                                       Matrix([\n",
       "[-1.0*A*E/L, 0],\n",
       "[         0, 0]]),                                         Matrix([\n",
       "[2.5*A*E/L,         0],\n",
       "[        0, 1.5*A*E/L]]),                                                       Matrix([\n",
       "[-1.0*A*E/L, 0],\n",
       "[         0, 0]]),                                                                         Matrix([\n",
       "[0, 0],\n",
       "[0, 0]])],\n",
       "[                                                                        Matrix([\n",
       "[0, 0],\n",
       "[0, 0]]),                                                                         Matrix([\n",
       "[0, 0],\n",
       "[0, 0]]),                                                                         Matrix([\n",
       "[0, 0],\n",
       "[0, 0]]),                                                                         Matrix([\n",
       "[0, 0],\n",
       "[0, 0]]),                                                                         Matrix([\n",
       "[0, 0],\n",
       "[0, 0]]),                                                                         Matrix([\n",
       "[0, 0],\n",
       "[0, 0]]),                                                                         Matrix([\n",
       "[0, 0],\n",
       "[0, 0]]), Matrix([\n",
       "[        -0.25*A*E/L, -0.25*sqrt(3)*A*E/L],\n",
       "[-0.25*sqrt(3)*A*E/L,         -0.75*A*E/L]]),     Matrix([\n",
       "[       -0.25*A*E/L, 0.25*sqrt(3)*A*E/L],\n",
       "[0.25*sqrt(3)*A*E/L,        -0.75*A*E/L]]),                                                                     Matrix([\n",
       "[0, 0],\n",
       "[0, 0]]),                                                                         Matrix([\n",
       "[0, 0],\n",
       "[0, 0]]),                                                                         Matrix([\n",
       "[0, 0],\n",
       "[0, 0]]),                                                                         Matrix([\n",
       "[0, 0],\n",
       "[0, 0]]),                                                                         Matrix([\n",
       "[0, 0],\n",
       "[0, 0]]),                                                                         Matrix([\n",
       "[0, 0],\n",
       "[0, 0]]),                                                                         Matrix([\n",
       "[0, 0],\n",
       "[0, 0]]),                                                       Matrix([\n",
       "[-1.0*A*E/L, 0],\n",
       "[         0, 0]]),                                         Matrix([\n",
       "[2.5*A*E/L,         0],\n",
       "[        0, 1.5*A*E/L]]),                                                       Matrix([\n",
       "[-1.0*A*E/L, 0],\n",
       "[         0, 0]])],\n",
       "[                                                                        Matrix([\n",
       "[0, 0],\n",
       "[0, 0]]),                                                                         Matrix([\n",
       "[0, 0],\n",
       "[0, 0]]),                                                                         Matrix([\n",
       "[0, 0],\n",
       "[0, 0]]),                                                                         Matrix([\n",
       "[0, 0],\n",
       "[0, 0]]),                                                                         Matrix([\n",
       "[0, 0],\n",
       "[0, 0]]),                                                                         Matrix([\n",
       "[0, 0],\n",
       "[0, 0]]),                                                                         Matrix([\n",
       "[0, 0],\n",
       "[0, 0]]),                                                                         Matrix([\n",
       "[0, 0],\n",
       "[0, 0]]), Matrix([\n",
       "[        -0.25*A*E/L, -0.25*sqrt(3)*A*E/L],\n",
       "[-0.25*sqrt(3)*A*E/L,         -0.75*A*E/L]]),                                                                     Matrix([\n",
       "[0, 0],\n",
       "[0, 0]]),                                                                         Matrix([\n",
       "[0, 0],\n",
       "[0, 0]]),                                                                         Matrix([\n",
       "[0, 0],\n",
       "[0, 0]]),                                                                         Matrix([\n",
       "[0, 0],\n",
       "[0, 0]]),                                                                         Matrix([\n",
       "[0, 0],\n",
       "[0, 0]]),                                                                         Matrix([\n",
       "[0, 0],\n",
       "[0, 0]]),                                                                         Matrix([\n",
       "[0, 0],\n",
       "[0, 0]]),                                                                         Matrix([\n",
       "[0, 0],\n",
       "[0, 0]]),                                                       Matrix([\n",
       "[-1.0*A*E/L, 0],\n",
       "[         0, 0]]),                                         Matrix([\n",
       "[1.5*A*E/L,         0],\n",
       "[        0, 1.5*A*E/L]])]])"
      ]
     },
     "execution_count": 59,
     "metadata": {},
     "output_type": "execute_result"
    }
   ],
   "source": [
    "K_block = sp.BlockMatrix(blocks_reduced)\n",
    "K_block"
   ]
  },
  {
   "cell_type": "code",
   "execution_count": 60,
   "id": "1a606446",
   "metadata": {},
   "outputs": [],
   "source": [
    "def get_block_vector(G, attr, keep):\n",
    "    blocks = [gget(G, node, attr) for node in G.nodes]\n",
    "    blocks_reduced = [[blocks[i]] for i in keep]\n",
    "    return sp.BlockMatrix(blocks_reduced)"
   ]
  },
  {
   "cell_type": "code",
   "execution_count": 61,
   "id": "caed9c44",
   "metadata": {},
   "outputs": [
    {
     "data": {
      "text/latex": [
       "$\\displaystyle \\left[\\begin{matrix}\\left[\\begin{matrix}u_{B1 x}\\\\u_{B1 y}\\end{matrix}\\right]\\\\\\left[\\begin{matrix}u_{B2 x}\\\\u_{B2 y}\\end{matrix}\\right]\\\\\\left[\\begin{matrix}u_{B3 x}\\\\u_{B3 y}\\end{matrix}\\right]\\\\\\left[\\begin{matrix}u_{B4 x}\\\\u_{B4 y}\\end{matrix}\\right]\\\\\\left[\\begin{matrix}u_{B5 x}\\\\u_{B5 y}\\end{matrix}\\right]\\\\\\left[\\begin{matrix}u_{B6 x}\\\\u_{B6 y}\\end{matrix}\\right]\\\\\\left[\\begin{matrix}u_{B7 x}\\\\u_{B7 y}\\end{matrix}\\right]\\\\\\left[\\begin{matrix}u_{B8 x}\\\\u_{B8 y}\\end{matrix}\\right]\\\\\\left[\\begin{matrix}u_{B9 x}\\\\u_{B9 y}\\end{matrix}\\right]\\\\\\left[\\begin{matrix}u_{T0 x}\\\\u_{T0 y}\\end{matrix}\\right]\\\\\\left[\\begin{matrix}u_{T1 x}\\\\u_{T1 y}\\end{matrix}\\right]\\\\\\left[\\begin{matrix}u_{T2 x}\\\\u_{T2 y}\\end{matrix}\\right]\\\\\\left[\\begin{matrix}u_{T3 x}\\\\u_{T3 y}\\end{matrix}\\right]\\\\\\left[\\begin{matrix}u_{T4 x}\\\\u_{T4 y}\\end{matrix}\\right]\\\\\\left[\\begin{matrix}u_{T5 x}\\\\u_{T5 y}\\end{matrix}\\right]\\\\\\left[\\begin{matrix}u_{T6 x}\\\\u_{T6 y}\\end{matrix}\\right]\\\\\\left[\\begin{matrix}u_{T7 x}\\\\u_{T7 y}\\end{matrix}\\right]\\\\\\left[\\begin{matrix}u_{T8 x}\\\\u_{T8 y}\\end{matrix}\\right]\\\\\\left[\\begin{matrix}u_{T9 x}\\\\u_{T9 y}\\end{matrix}\\right]\\end{matrix}\\right]$"
      ],
      "text/plain": [
       "Matrix([\n",
       "[Matrix([\n",
       "[u_B1_x],\n",
       "[u_B1_y]])],\n",
       "[Matrix([\n",
       "[u_B2_x],\n",
       "[u_B2_y]])],\n",
       "[Matrix([\n",
       "[u_B3_x],\n",
       "[u_B3_y]])],\n",
       "[Matrix([\n",
       "[u_B4_x],\n",
       "[u_B4_y]])],\n",
       "[Matrix([\n",
       "[u_B5_x],\n",
       "[u_B5_y]])],\n",
       "[Matrix([\n",
       "[u_B6_x],\n",
       "[u_B6_y]])],\n",
       "[Matrix([\n",
       "[u_B7_x],\n",
       "[u_B7_y]])],\n",
       "[Matrix([\n",
       "[u_B8_x],\n",
       "[u_B8_y]])],\n",
       "[Matrix([\n",
       "[u_B9_x],\n",
       "[u_B9_y]])],\n",
       "[Matrix([\n",
       "[u_T0_x],\n",
       "[u_T0_y]])],\n",
       "[Matrix([\n",
       "[u_T1_x],\n",
       "[u_T1_y]])],\n",
       "[Matrix([\n",
       "[u_T2_x],\n",
       "[u_T2_y]])],\n",
       "[Matrix([\n",
       "[u_T3_x],\n",
       "[u_T3_y]])],\n",
       "[Matrix([\n",
       "[u_T4_x],\n",
       "[u_T4_y]])],\n",
       "[Matrix([\n",
       "[u_T5_x],\n",
       "[u_T5_y]])],\n",
       "[Matrix([\n",
       "[u_T6_x],\n",
       "[u_T6_y]])],\n",
       "[Matrix([\n",
       "[u_T7_x],\n",
       "[u_T7_y]])],\n",
       "[Matrix([\n",
       "[u_T8_x],\n",
       "[u_T8_y]])],\n",
       "[Matrix([\n",
       "[u_T9_x],\n",
       "[u_T9_y]])]])"
      ]
     },
     "execution_count": 61,
     "metadata": {},
     "output_type": "execute_result"
    }
   ],
   "source": [
    "u_block = get_block_vector(G, 'disp', keep)\n",
    "u_block"
   ]
  },
  {
   "cell_type": "code",
   "execution_count": 62,
   "id": "580f15de",
   "metadata": {},
   "outputs": [
    {
     "data": {
      "text/latex": [
       "$\\displaystyle \\left[\\begin{matrix}\\left[\\begin{matrix}0\\\\f_{ext}\\end{matrix}\\right]\\\\\\left[\\begin{matrix}0\\\\0\\end{matrix}\\right]\\\\\\left[\\begin{matrix}0\\\\0\\end{matrix}\\right]\\\\\\left[\\begin{matrix}0\\\\0\\end{matrix}\\right]\\\\\\left[\\begin{matrix}0\\\\0\\end{matrix}\\right]\\\\\\left[\\begin{matrix}0\\\\0\\end{matrix}\\right]\\\\\\left[\\begin{matrix}0\\\\0\\end{matrix}\\right]\\\\\\left[\\begin{matrix}0\\\\0\\end{matrix}\\right]\\\\\\left[\\begin{matrix}0\\\\0\\end{matrix}\\right]\\\\\\left[\\begin{matrix}0\\\\0\\end{matrix}\\right]\\\\\\left[\\begin{matrix}0\\\\0\\end{matrix}\\right]\\\\\\left[\\begin{matrix}0\\\\0\\end{matrix}\\right]\\\\\\left[\\begin{matrix}0\\\\0\\end{matrix}\\right]\\\\\\left[\\begin{matrix}0\\\\0\\end{matrix}\\right]\\\\\\left[\\begin{matrix}0\\\\0\\end{matrix}\\right]\\\\\\left[\\begin{matrix}0\\\\0\\end{matrix}\\right]\\\\\\left[\\begin{matrix}0\\\\0\\end{matrix}\\right]\\\\\\left[\\begin{matrix}0\\\\0\\end{matrix}\\right]\\\\\\left[\\begin{matrix}0\\\\0\\end{matrix}\\right]\\end{matrix}\\right]$"
      ],
      "text/plain": [
       "Matrix([\n",
       "[Matrix([\n",
       "[    0],\n",
       "[f_ext]])],\n",
       "[        Matrix([\n",
       "[0],\n",
       "[0]])],\n",
       "[        Matrix([\n",
       "[0],\n",
       "[0]])],\n",
       "[        Matrix([\n",
       "[0],\n",
       "[0]])],\n",
       "[        Matrix([\n",
       "[0],\n",
       "[0]])],\n",
       "[        Matrix([\n",
       "[0],\n",
       "[0]])],\n",
       "[        Matrix([\n",
       "[0],\n",
       "[0]])],\n",
       "[        Matrix([\n",
       "[0],\n",
       "[0]])],\n",
       "[        Matrix([\n",
       "[0],\n",
       "[0]])],\n",
       "[        Matrix([\n",
       "[0],\n",
       "[0]])],\n",
       "[        Matrix([\n",
       "[0],\n",
       "[0]])],\n",
       "[        Matrix([\n",
       "[0],\n",
       "[0]])],\n",
       "[        Matrix([\n",
       "[0],\n",
       "[0]])],\n",
       "[        Matrix([\n",
       "[0],\n",
       "[0]])],\n",
       "[        Matrix([\n",
       "[0],\n",
       "[0]])],\n",
       "[        Matrix([\n",
       "[0],\n",
       "[0]])],\n",
       "[        Matrix([\n",
       "[0],\n",
       "[0]])],\n",
       "[        Matrix([\n",
       "[0],\n",
       "[0]])],\n",
       "[        Matrix([\n",
       "[0],\n",
       "[0]])]])"
      ]
     },
     "execution_count": 62,
     "metadata": {},
     "output_type": "execute_result"
    }
   ],
   "source": [
    "f_block = get_block_vector(G, 'f_ext', keep)\n",
    "f_block"
   ]
  },
  {
   "cell_type": "markdown",
   "id": "d82efabf",
   "metadata": {},
   "source": [
    "## Make the arrays explicit"
   ]
  },
  {
   "cell_type": "code",
   "execution_count": 63,
   "id": "bc4f8d1f",
   "metadata": {},
   "outputs": [
    {
     "data": {
      "text/latex": [
       "$\\displaystyle \\left[\\begin{array}{cccccccccccccccccccccccccccccccccccccc}\\frac{2.5 A E}{L} & 0 & - \\frac{A E}{L} & 0 & 0 & 0 & 0 & 0 & 0 & 0 & 0 & 0 & 0 & 0 & 0 & 0 & 0 & 0 & - \\frac{0.25 A E}{L} & \\frac{0.25 \\sqrt{3} A E}{L} & - \\frac{0.25 A E}{L} & - \\frac{0.25 \\sqrt{3} A E}{L} & 0 & 0 & 0 & 0 & 0 & 0 & 0 & 0 & 0 & 0 & 0 & 0 & 0 & 0 & 0 & 0\\\\0 & \\frac{1.5 A E}{L} & 0 & 0 & 0 & 0 & 0 & 0 & 0 & 0 & 0 & 0 & 0 & 0 & 0 & 0 & 0 & 0 & \\frac{0.25 \\sqrt{3} A E}{L} & - \\frac{0.75 A E}{L} & - \\frac{0.25 \\sqrt{3} A E}{L} & - \\frac{0.75 A E}{L} & 0 & 0 & 0 & 0 & 0 & 0 & 0 & 0 & 0 & 0 & 0 & 0 & 0 & 0 & 0 & 0\\\\- \\frac{A E}{L} & 0 & \\frac{2.5 A E}{L} & 0 & - \\frac{A E}{L} & 0 & 0 & 0 & 0 & 0 & 0 & 0 & 0 & 0 & 0 & 0 & 0 & 0 & 0 & 0 & - \\frac{0.25 A E}{L} & \\frac{0.25 \\sqrt{3} A E}{L} & - \\frac{0.25 A E}{L} & - \\frac{0.25 \\sqrt{3} A E}{L} & 0 & 0 & 0 & 0 & 0 & 0 & 0 & 0 & 0 & 0 & 0 & 0 & 0 & 0\\\\0 & 0 & 0 & \\frac{1.5 A E}{L} & 0 & 0 & 0 & 0 & 0 & 0 & 0 & 0 & 0 & 0 & 0 & 0 & 0 & 0 & 0 & 0 & \\frac{0.25 \\sqrt{3} A E}{L} & - \\frac{0.75 A E}{L} & - \\frac{0.25 \\sqrt{3} A E}{L} & - \\frac{0.75 A E}{L} & 0 & 0 & 0 & 0 & 0 & 0 & 0 & 0 & 0 & 0 & 0 & 0 & 0 & 0\\\\0 & 0 & - \\frac{A E}{L} & 0 & \\frac{2.5 A E}{L} & 0 & - \\frac{A E}{L} & 0 & 0 & 0 & 0 & 0 & 0 & 0 & 0 & 0 & 0 & 0 & 0 & 0 & 0 & 0 & - \\frac{0.25 A E}{L} & \\frac{0.25 \\sqrt{3} A E}{L} & - \\frac{0.25 A E}{L} & - \\frac{0.25 \\sqrt{3} A E}{L} & 0 & 0 & 0 & 0 & 0 & 0 & 0 & 0 & 0 & 0 & 0 & 0\\\\0 & 0 & 0 & 0 & 0 & \\frac{1.5 A E}{L} & 0 & 0 & 0 & 0 & 0 & 0 & 0 & 0 & 0 & 0 & 0 & 0 & 0 & 0 & 0 & 0 & \\frac{0.25 \\sqrt{3} A E}{L} & - \\frac{0.75 A E}{L} & - \\frac{0.25 \\sqrt{3} A E}{L} & - \\frac{0.75 A E}{L} & 0 & 0 & 0 & 0 & 0 & 0 & 0 & 0 & 0 & 0 & 0 & 0\\\\0 & 0 & 0 & 0 & - \\frac{A E}{L} & 0 & \\frac{2.5 A E}{L} & 0 & - \\frac{A E}{L} & 0 & 0 & 0 & 0 & 0 & 0 & 0 & 0 & 0 & 0 & 0 & 0 & 0 & 0 & 0 & - \\frac{0.25 A E}{L} & \\frac{0.25 \\sqrt{3} A E}{L} & - \\frac{0.25 A E}{L} & - \\frac{0.25 \\sqrt{3} A E}{L} & 0 & 0 & 0 & 0 & 0 & 0 & 0 & 0 & 0 & 0\\\\0 & 0 & 0 & 0 & 0 & 0 & 0 & \\frac{1.5 A E}{L} & 0 & 0 & 0 & 0 & 0 & 0 & 0 & 0 & 0 & 0 & 0 & 0 & 0 & 0 & 0 & 0 & \\frac{0.25 \\sqrt{3} A E}{L} & - \\frac{0.75 A E}{L} & - \\frac{0.25 \\sqrt{3} A E}{L} & - \\frac{0.75 A E}{L} & 0 & 0 & 0 & 0 & 0 & 0 & 0 & 0 & 0 & 0\\\\0 & 0 & 0 & 0 & 0 & 0 & - \\frac{A E}{L} & 0 & \\frac{2.5 A E}{L} & 0 & - \\frac{A E}{L} & 0 & 0 & 0 & 0 & 0 & 0 & 0 & 0 & 0 & 0 & 0 & 0 & 0 & 0 & 0 & - \\frac{0.25 A E}{L} & \\frac{0.25 \\sqrt{3} A E}{L} & - \\frac{0.25 A E}{L} & - \\frac{0.25 \\sqrt{3} A E}{L} & 0 & 0 & 0 & 0 & 0 & 0 & 0 & 0\\\\0 & 0 & 0 & 0 & 0 & 0 & 0 & 0 & 0 & \\frac{1.5 A E}{L} & 0 & 0 & 0 & 0 & 0 & 0 & 0 & 0 & 0 & 0 & 0 & 0 & 0 & 0 & 0 & 0 & \\frac{0.25 \\sqrt{3} A E}{L} & - \\frac{0.75 A E}{L} & - \\frac{0.25 \\sqrt{3} A E}{L} & - \\frac{0.75 A E}{L} & 0 & 0 & 0 & 0 & 0 & 0 & 0 & 0\\\\0 & 0 & 0 & 0 & 0 & 0 & 0 & 0 & - \\frac{A E}{L} & 0 & \\frac{2.5 A E}{L} & 0 & - \\frac{A E}{L} & 0 & 0 & 0 & 0 & 0 & 0 & 0 & 0 & 0 & 0 & 0 & 0 & 0 & 0 & 0 & - \\frac{0.25 A E}{L} & \\frac{0.25 \\sqrt{3} A E}{L} & - \\frac{0.25 A E}{L} & - \\frac{0.25 \\sqrt{3} A E}{L} & 0 & 0 & 0 & 0 & 0 & 0\\\\0 & 0 & 0 & 0 & 0 & 0 & 0 & 0 & 0 & 0 & 0 & \\frac{1.5 A E}{L} & 0 & 0 & 0 & 0 & 0 & 0 & 0 & 0 & 0 & 0 & 0 & 0 & 0 & 0 & 0 & 0 & \\frac{0.25 \\sqrt{3} A E}{L} & - \\frac{0.75 A E}{L} & - \\frac{0.25 \\sqrt{3} A E}{L} & - \\frac{0.75 A E}{L} & 0 & 0 & 0 & 0 & 0 & 0\\\\0 & 0 & 0 & 0 & 0 & 0 & 0 & 0 & 0 & 0 & - \\frac{A E}{L} & 0 & \\frac{2.5 A E}{L} & 0 & - \\frac{A E}{L} & 0 & 0 & 0 & 0 & 0 & 0 & 0 & 0 & 0 & 0 & 0 & 0 & 0 & 0 & 0 & - \\frac{0.25 A E}{L} & \\frac{0.25 \\sqrt{3} A E}{L} & - \\frac{0.25 A E}{L} & - \\frac{0.25 \\sqrt{3} A E}{L} & 0 & 0 & 0 & 0\\\\0 & 0 & 0 & 0 & 0 & 0 & 0 & 0 & 0 & 0 & 0 & 0 & 0 & \\frac{1.5 A E}{L} & 0 & 0 & 0 & 0 & 0 & 0 & 0 & 0 & 0 & 0 & 0 & 0 & 0 & 0 & 0 & 0 & \\frac{0.25 \\sqrt{3} A E}{L} & - \\frac{0.75 A E}{L} & - \\frac{0.25 \\sqrt{3} A E}{L} & - \\frac{0.75 A E}{L} & 0 & 0 & 0 & 0\\\\0 & 0 & 0 & 0 & 0 & 0 & 0 & 0 & 0 & 0 & 0 & 0 & - \\frac{A E}{L} & 0 & \\frac{2.5 A E}{L} & 0 & - \\frac{A E}{L} & 0 & 0 & 0 & 0 & 0 & 0 & 0 & 0 & 0 & 0 & 0 & 0 & 0 & 0 & 0 & - \\frac{0.25 A E}{L} & \\frac{0.25 \\sqrt{3} A E}{L} & - \\frac{0.25 A E}{L} & - \\frac{0.25 \\sqrt{3} A E}{L} & 0 & 0\\\\0 & 0 & 0 & 0 & 0 & 0 & 0 & 0 & 0 & 0 & 0 & 0 & 0 & 0 & 0 & \\frac{1.5 A E}{L} & 0 & 0 & 0 & 0 & 0 & 0 & 0 & 0 & 0 & 0 & 0 & 0 & 0 & 0 & 0 & 0 & \\frac{0.25 \\sqrt{3} A E}{L} & - \\frac{0.75 A E}{L} & - \\frac{0.25 \\sqrt{3} A E}{L} & - \\frac{0.75 A E}{L} & 0 & 0\\\\0 & 0 & 0 & 0 & 0 & 0 & 0 & 0 & 0 & 0 & 0 & 0 & 0 & 0 & - \\frac{A E}{L} & 0 & \\frac{2.5 A E}{L} & 0 & 0 & 0 & 0 & 0 & 0 & 0 & 0 & 0 & 0 & 0 & 0 & 0 & 0 & 0 & 0 & 0 & - \\frac{0.25 A E}{L} & \\frac{0.25 \\sqrt{3} A E}{L} & - \\frac{0.25 A E}{L} & - \\frac{0.25 \\sqrt{3} A E}{L}\\\\0 & 0 & 0 & 0 & 0 & 0 & 0 & 0 & 0 & 0 & 0 & 0 & 0 & 0 & 0 & 0 & 0 & \\frac{1.5 A E}{L} & 0 & 0 & 0 & 0 & 0 & 0 & 0 & 0 & 0 & 0 & 0 & 0 & 0 & 0 & 0 & 0 & \\frac{0.25 \\sqrt{3} A E}{L} & - \\frac{0.75 A E}{L} & - \\frac{0.25 \\sqrt{3} A E}{L} & - \\frac{0.75 A E}{L}\\\\- \\frac{0.25 A E}{L} & \\frac{0.25 \\sqrt{3} A E}{L} & 0 & 0 & 0 & 0 & 0 & 0 & 0 & 0 & 0 & 0 & 0 & 0 & 0 & 0 & 0 & 0 & \\frac{1.5 A E}{L} & 0 & - \\frac{1.0 A E}{L} & 0 & 0 & 0 & 0 & 0 & 0 & 0 & 0 & 0 & 0 & 0 & 0 & 0 & 0 & 0 & 0 & 0\\\\\\frac{0.25 \\sqrt{3} A E}{L} & - \\frac{0.75 A E}{L} & 0 & 0 & 0 & 0 & 0 & 0 & 0 & 0 & 0 & 0 & 0 & 0 & 0 & 0 & 0 & 0 & 0 & \\frac{1.5 A E}{L} & 0 & 0 & 0 & 0 & 0 & 0 & 0 & 0 & 0 & 0 & 0 & 0 & 0 & 0 & 0 & 0 & 0 & 0\\\\- \\frac{0.25 A E}{L} & - \\frac{0.25 \\sqrt{3} A E}{L} & - \\frac{0.25 A E}{L} & \\frac{0.25 \\sqrt{3} A E}{L} & 0 & 0 & 0 & 0 & 0 & 0 & 0 & 0 & 0 & 0 & 0 & 0 & 0 & 0 & - \\frac{1.0 A E}{L} & 0 & \\frac{2.5 A E}{L} & 0 & - \\frac{1.0 A E}{L} & 0 & 0 & 0 & 0 & 0 & 0 & 0 & 0 & 0 & 0 & 0 & 0 & 0 & 0 & 0\\\\- \\frac{0.25 \\sqrt{3} A E}{L} & - \\frac{0.75 A E}{L} & \\frac{0.25 \\sqrt{3} A E}{L} & - \\frac{0.75 A E}{L} & 0 & 0 & 0 & 0 & 0 & 0 & 0 & 0 & 0 & 0 & 0 & 0 & 0 & 0 & 0 & 0 & 0 & \\frac{1.5 A E}{L} & 0 & 0 & 0 & 0 & 0 & 0 & 0 & 0 & 0 & 0 & 0 & 0 & 0 & 0 & 0 & 0\\\\0 & 0 & - \\frac{0.25 A E}{L} & - \\frac{0.25 \\sqrt{3} A E}{L} & - \\frac{0.25 A E}{L} & \\frac{0.25 \\sqrt{3} A E}{L} & 0 & 0 & 0 & 0 & 0 & 0 & 0 & 0 & 0 & 0 & 0 & 0 & 0 & 0 & - \\frac{1.0 A E}{L} & 0 & \\frac{2.5 A E}{L} & 0 & - \\frac{1.0 A E}{L} & 0 & 0 & 0 & 0 & 0 & 0 & 0 & 0 & 0 & 0 & 0 & 0 & 0\\\\0 & 0 & - \\frac{0.25 \\sqrt{3} A E}{L} & - \\frac{0.75 A E}{L} & \\frac{0.25 \\sqrt{3} A E}{L} & - \\frac{0.75 A E}{L} & 0 & 0 & 0 & 0 & 0 & 0 & 0 & 0 & 0 & 0 & 0 & 0 & 0 & 0 & 0 & 0 & 0 & \\frac{1.5 A E}{L} & 0 & 0 & 0 & 0 & 0 & 0 & 0 & 0 & 0 & 0 & 0 & 0 & 0 & 0\\\\0 & 0 & 0 & 0 & - \\frac{0.25 A E}{L} & - \\frac{0.25 \\sqrt{3} A E}{L} & - \\frac{0.25 A E}{L} & \\frac{0.25 \\sqrt{3} A E}{L} & 0 & 0 & 0 & 0 & 0 & 0 & 0 & 0 & 0 & 0 & 0 & 0 & 0 & 0 & - \\frac{1.0 A E}{L} & 0 & \\frac{2.5 A E}{L} & 0 & - \\frac{1.0 A E}{L} & 0 & 0 & 0 & 0 & 0 & 0 & 0 & 0 & 0 & 0 & 0\\\\0 & 0 & 0 & 0 & - \\frac{0.25 \\sqrt{3} A E}{L} & - \\frac{0.75 A E}{L} & \\frac{0.25 \\sqrt{3} A E}{L} & - \\frac{0.75 A E}{L} & 0 & 0 & 0 & 0 & 0 & 0 & 0 & 0 & 0 & 0 & 0 & 0 & 0 & 0 & 0 & 0 & 0 & \\frac{1.5 A E}{L} & 0 & 0 & 0 & 0 & 0 & 0 & 0 & 0 & 0 & 0 & 0 & 0\\\\0 & 0 & 0 & 0 & 0 & 0 & - \\frac{0.25 A E}{L} & - \\frac{0.25 \\sqrt{3} A E}{L} & - \\frac{0.25 A E}{L} & \\frac{0.25 \\sqrt{3} A E}{L} & 0 & 0 & 0 & 0 & 0 & 0 & 0 & 0 & 0 & 0 & 0 & 0 & 0 & 0 & - \\frac{1.0 A E}{L} & 0 & \\frac{2.5 A E}{L} & 0 & - \\frac{1.0 A E}{L} & 0 & 0 & 0 & 0 & 0 & 0 & 0 & 0 & 0\\\\0 & 0 & 0 & 0 & 0 & 0 & - \\frac{0.25 \\sqrt{3} A E}{L} & - \\frac{0.75 A E}{L} & \\frac{0.25 \\sqrt{3} A E}{L} & - \\frac{0.75 A E}{L} & 0 & 0 & 0 & 0 & 0 & 0 & 0 & 0 & 0 & 0 & 0 & 0 & 0 & 0 & 0 & 0 & 0 & \\frac{1.5 A E}{L} & 0 & 0 & 0 & 0 & 0 & 0 & 0 & 0 & 0 & 0\\\\0 & 0 & 0 & 0 & 0 & 0 & 0 & 0 & - \\frac{0.25 A E}{L} & - \\frac{0.25 \\sqrt{3} A E}{L} & - \\frac{0.25 A E}{L} & \\frac{0.25 \\sqrt{3} A E}{L} & 0 & 0 & 0 & 0 & 0 & 0 & 0 & 0 & 0 & 0 & 0 & 0 & 0 & 0 & - \\frac{1.0 A E}{L} & 0 & \\frac{2.5 A E}{L} & 0 & - \\frac{1.0 A E}{L} & 0 & 0 & 0 & 0 & 0 & 0 & 0\\\\0 & 0 & 0 & 0 & 0 & 0 & 0 & 0 & - \\frac{0.25 \\sqrt{3} A E}{L} & - \\frac{0.75 A E}{L} & \\frac{0.25 \\sqrt{3} A E}{L} & - \\frac{0.75 A E}{L} & 0 & 0 & 0 & 0 & 0 & 0 & 0 & 0 & 0 & 0 & 0 & 0 & 0 & 0 & 0 & 0 & 0 & \\frac{1.5 A E}{L} & 0 & 0 & 0 & 0 & 0 & 0 & 0 & 0\\\\0 & 0 & 0 & 0 & 0 & 0 & 0 & 0 & 0 & 0 & - \\frac{0.25 A E}{L} & - \\frac{0.25 \\sqrt{3} A E}{L} & - \\frac{0.25 A E}{L} & \\frac{0.25 \\sqrt{3} A E}{L} & 0 & 0 & 0 & 0 & 0 & 0 & 0 & 0 & 0 & 0 & 0 & 0 & 0 & 0 & - \\frac{1.0 A E}{L} & 0 & \\frac{2.5 A E}{L} & 0 & - \\frac{1.0 A E}{L} & 0 & 0 & 0 & 0 & 0\\\\0 & 0 & 0 & 0 & 0 & 0 & 0 & 0 & 0 & 0 & - \\frac{0.25 \\sqrt{3} A E}{L} & - \\frac{0.75 A E}{L} & \\frac{0.25 \\sqrt{3} A E}{L} & - \\frac{0.75 A E}{L} & 0 & 0 & 0 & 0 & 0 & 0 & 0 & 0 & 0 & 0 & 0 & 0 & 0 & 0 & 0 & 0 & 0 & \\frac{1.5 A E}{L} & 0 & 0 & 0 & 0 & 0 & 0\\\\0 & 0 & 0 & 0 & 0 & 0 & 0 & 0 & 0 & 0 & 0 & 0 & - \\frac{0.25 A E}{L} & - \\frac{0.25 \\sqrt{3} A E}{L} & - \\frac{0.25 A E}{L} & \\frac{0.25 \\sqrt{3} A E}{L} & 0 & 0 & 0 & 0 & 0 & 0 & 0 & 0 & 0 & 0 & 0 & 0 & 0 & 0 & - \\frac{1.0 A E}{L} & 0 & \\frac{2.5 A E}{L} & 0 & - \\frac{1.0 A E}{L} & 0 & 0 & 0\\\\0 & 0 & 0 & 0 & 0 & 0 & 0 & 0 & 0 & 0 & 0 & 0 & - \\frac{0.25 \\sqrt{3} A E}{L} & - \\frac{0.75 A E}{L} & \\frac{0.25 \\sqrt{3} A E}{L} & - \\frac{0.75 A E}{L} & 0 & 0 & 0 & 0 & 0 & 0 & 0 & 0 & 0 & 0 & 0 & 0 & 0 & 0 & 0 & 0 & 0 & \\frac{1.5 A E}{L} & 0 & 0 & 0 & 0\\\\0 & 0 & 0 & 0 & 0 & 0 & 0 & 0 & 0 & 0 & 0 & 0 & 0 & 0 & - \\frac{0.25 A E}{L} & - \\frac{0.25 \\sqrt{3} A E}{L} & - \\frac{0.25 A E}{L} & \\frac{0.25 \\sqrt{3} A E}{L} & 0 & 0 & 0 & 0 & 0 & 0 & 0 & 0 & 0 & 0 & 0 & 0 & 0 & 0 & - \\frac{1.0 A E}{L} & 0 & \\frac{2.5 A E}{L} & 0 & - \\frac{1.0 A E}{L} & 0\\\\0 & 0 & 0 & 0 & 0 & 0 & 0 & 0 & 0 & 0 & 0 & 0 & 0 & 0 & - \\frac{0.25 \\sqrt{3} A E}{L} & - \\frac{0.75 A E}{L} & \\frac{0.25 \\sqrt{3} A E}{L} & - \\frac{0.75 A E}{L} & 0 & 0 & 0 & 0 & 0 & 0 & 0 & 0 & 0 & 0 & 0 & 0 & 0 & 0 & 0 & 0 & 0 & \\frac{1.5 A E}{L} & 0 & 0\\\\0 & 0 & 0 & 0 & 0 & 0 & 0 & 0 & 0 & 0 & 0 & 0 & 0 & 0 & 0 & 0 & - \\frac{0.25 A E}{L} & - \\frac{0.25 \\sqrt{3} A E}{L} & 0 & 0 & 0 & 0 & 0 & 0 & 0 & 0 & 0 & 0 & 0 & 0 & 0 & 0 & 0 & 0 & - \\frac{1.0 A E}{L} & 0 & \\frac{1.5 A E}{L} & 0\\\\0 & 0 & 0 & 0 & 0 & 0 & 0 & 0 & 0 & 0 & 0 & 0 & 0 & 0 & 0 & 0 & - \\frac{0.25 \\sqrt{3} A E}{L} & - \\frac{0.75 A E}{L} & 0 & 0 & 0 & 0 & 0 & 0 & 0 & 0 & 0 & 0 & 0 & 0 & 0 & 0 & 0 & 0 & 0 & 0 & 0 & \\frac{1.5 A E}{L}\\end{array}\\right]$"
      ],
      "text/plain": [
       "Matrix([\n",
       "[          2.5*A*E/L,                   0,              -A*E/L,                   0,                   0,                   0,                   0,                   0,                   0,                   0,                   0,                   0,                   0,                   0,                   0,                   0,                   0,                   0,        -0.25*A*E/L, 0.25*sqrt(3)*A*E/L,         -0.25*A*E/L, -0.25*sqrt(3)*A*E/L,                   0,                   0,                   0,                   0,                   0,                   0,                   0,                   0,                   0,                   0,                   0,                   0,                   0,                   0,                   0,                   0],\n",
       "[                  0,           1.5*A*E/L,                   0,                   0,                   0,                   0,                   0,                   0,                   0,                   0,                   0,                   0,                   0,                   0,                   0,                   0,                   0,                   0, 0.25*sqrt(3)*A*E/L,        -0.75*A*E/L, -0.25*sqrt(3)*A*E/L,         -0.75*A*E/L,                   0,                   0,                   0,                   0,                   0,                   0,                   0,                   0,                   0,                   0,                   0,                   0,                   0,                   0,                   0,                   0],\n",
       "[             -A*E/L,                   0,           2.5*A*E/L,                   0,              -A*E/L,                   0,                   0,                   0,                   0,                   0,                   0,                   0,                   0,                   0,                   0,                   0,                   0,                   0,                  0,                  0,         -0.25*A*E/L,  0.25*sqrt(3)*A*E/L,         -0.25*A*E/L, -0.25*sqrt(3)*A*E/L,                   0,                   0,                   0,                   0,                   0,                   0,                   0,                   0,                   0,                   0,                   0,                   0,                   0,                   0],\n",
       "[                  0,                   0,                   0,           1.5*A*E/L,                   0,                   0,                   0,                   0,                   0,                   0,                   0,                   0,                   0,                   0,                   0,                   0,                   0,                   0,                  0,                  0,  0.25*sqrt(3)*A*E/L,         -0.75*A*E/L, -0.25*sqrt(3)*A*E/L,         -0.75*A*E/L,                   0,                   0,                   0,                   0,                   0,                   0,                   0,                   0,                   0,                   0,                   0,                   0,                   0,                   0],\n",
       "[                  0,                   0,              -A*E/L,                   0,           2.5*A*E/L,                   0,              -A*E/L,                   0,                   0,                   0,                   0,                   0,                   0,                   0,                   0,                   0,                   0,                   0,                  0,                  0,                   0,                   0,         -0.25*A*E/L,  0.25*sqrt(3)*A*E/L,         -0.25*A*E/L, -0.25*sqrt(3)*A*E/L,                   0,                   0,                   0,                   0,                   0,                   0,                   0,                   0,                   0,                   0,                   0,                   0],\n",
       "[                  0,                   0,                   0,                   0,                   0,           1.5*A*E/L,                   0,                   0,                   0,                   0,                   0,                   0,                   0,                   0,                   0,                   0,                   0,                   0,                  0,                  0,                   0,                   0,  0.25*sqrt(3)*A*E/L,         -0.75*A*E/L, -0.25*sqrt(3)*A*E/L,         -0.75*A*E/L,                   0,                   0,                   0,                   0,                   0,                   0,                   0,                   0,                   0,                   0,                   0,                   0],\n",
       "[                  0,                   0,                   0,                   0,              -A*E/L,                   0,           2.5*A*E/L,                   0,              -A*E/L,                   0,                   0,                   0,                   0,                   0,                   0,                   0,                   0,                   0,                  0,                  0,                   0,                   0,                   0,                   0,         -0.25*A*E/L,  0.25*sqrt(3)*A*E/L,         -0.25*A*E/L, -0.25*sqrt(3)*A*E/L,                   0,                   0,                   0,                   0,                   0,                   0,                   0,                   0,                   0,                   0],\n",
       "[                  0,                   0,                   0,                   0,                   0,                   0,                   0,           1.5*A*E/L,                   0,                   0,                   0,                   0,                   0,                   0,                   0,                   0,                   0,                   0,                  0,                  0,                   0,                   0,                   0,                   0,  0.25*sqrt(3)*A*E/L,         -0.75*A*E/L, -0.25*sqrt(3)*A*E/L,         -0.75*A*E/L,                   0,                   0,                   0,                   0,                   0,                   0,                   0,                   0,                   0,                   0],\n",
       "[                  0,                   0,                   0,                   0,                   0,                   0,              -A*E/L,                   0,           2.5*A*E/L,                   0,              -A*E/L,                   0,                   0,                   0,                   0,                   0,                   0,                   0,                  0,                  0,                   0,                   0,                   0,                   0,                   0,                   0,         -0.25*A*E/L,  0.25*sqrt(3)*A*E/L,         -0.25*A*E/L, -0.25*sqrt(3)*A*E/L,                   0,                   0,                   0,                   0,                   0,                   0,                   0,                   0],\n",
       "[                  0,                   0,                   0,                   0,                   0,                   0,                   0,                   0,                   0,           1.5*A*E/L,                   0,                   0,                   0,                   0,                   0,                   0,                   0,                   0,                  0,                  0,                   0,                   0,                   0,                   0,                   0,                   0,  0.25*sqrt(3)*A*E/L,         -0.75*A*E/L, -0.25*sqrt(3)*A*E/L,         -0.75*A*E/L,                   0,                   0,                   0,                   0,                   0,                   0,                   0,                   0],\n",
       "[                  0,                   0,                   0,                   0,                   0,                   0,                   0,                   0,              -A*E/L,                   0,           2.5*A*E/L,                   0,              -A*E/L,                   0,                   0,                   0,                   0,                   0,                  0,                  0,                   0,                   0,                   0,                   0,                   0,                   0,                   0,                   0,         -0.25*A*E/L,  0.25*sqrt(3)*A*E/L,         -0.25*A*E/L, -0.25*sqrt(3)*A*E/L,                   0,                   0,                   0,                   0,                   0,                   0],\n",
       "[                  0,                   0,                   0,                   0,                   0,                   0,                   0,                   0,                   0,                   0,                   0,           1.5*A*E/L,                   0,                   0,                   0,                   0,                   0,                   0,                  0,                  0,                   0,                   0,                   0,                   0,                   0,                   0,                   0,                   0,  0.25*sqrt(3)*A*E/L,         -0.75*A*E/L, -0.25*sqrt(3)*A*E/L,         -0.75*A*E/L,                   0,                   0,                   0,                   0,                   0,                   0],\n",
       "[                  0,                   0,                   0,                   0,                   0,                   0,                   0,                   0,                   0,                   0,              -A*E/L,                   0,           2.5*A*E/L,                   0,              -A*E/L,                   0,                   0,                   0,                  0,                  0,                   0,                   0,                   0,                   0,                   0,                   0,                   0,                   0,                   0,                   0,         -0.25*A*E/L,  0.25*sqrt(3)*A*E/L,         -0.25*A*E/L, -0.25*sqrt(3)*A*E/L,                   0,                   0,                   0,                   0],\n",
       "[                  0,                   0,                   0,                   0,                   0,                   0,                   0,                   0,                   0,                   0,                   0,                   0,                   0,           1.5*A*E/L,                   0,                   0,                   0,                   0,                  0,                  0,                   0,                   0,                   0,                   0,                   0,                   0,                   0,                   0,                   0,                   0,  0.25*sqrt(3)*A*E/L,         -0.75*A*E/L, -0.25*sqrt(3)*A*E/L,         -0.75*A*E/L,                   0,                   0,                   0,                   0],\n",
       "[                  0,                   0,                   0,                   0,                   0,                   0,                   0,                   0,                   0,                   0,                   0,                   0,              -A*E/L,                   0,           2.5*A*E/L,                   0,              -A*E/L,                   0,                  0,                  0,                   0,                   0,                   0,                   0,                   0,                   0,                   0,                   0,                   0,                   0,                   0,                   0,         -0.25*A*E/L,  0.25*sqrt(3)*A*E/L,         -0.25*A*E/L, -0.25*sqrt(3)*A*E/L,                   0,                   0],\n",
       "[                  0,                   0,                   0,                   0,                   0,                   0,                   0,                   0,                   0,                   0,                   0,                   0,                   0,                   0,                   0,           1.5*A*E/L,                   0,                   0,                  0,                  0,                   0,                   0,                   0,                   0,                   0,                   0,                   0,                   0,                   0,                   0,                   0,                   0,  0.25*sqrt(3)*A*E/L,         -0.75*A*E/L, -0.25*sqrt(3)*A*E/L,         -0.75*A*E/L,                   0,                   0],\n",
       "[                  0,                   0,                   0,                   0,                   0,                   0,                   0,                   0,                   0,                   0,                   0,                   0,                   0,                   0,              -A*E/L,                   0,           2.5*A*E/L,                   0,                  0,                  0,                   0,                   0,                   0,                   0,                   0,                   0,                   0,                   0,                   0,                   0,                   0,                   0,                   0,                   0,         -0.25*A*E/L,  0.25*sqrt(3)*A*E/L,         -0.25*A*E/L, -0.25*sqrt(3)*A*E/L],\n",
       "[                  0,                   0,                   0,                   0,                   0,                   0,                   0,                   0,                   0,                   0,                   0,                   0,                   0,                   0,                   0,                   0,                   0,           1.5*A*E/L,                  0,                  0,                   0,                   0,                   0,                   0,                   0,                   0,                   0,                   0,                   0,                   0,                   0,                   0,                   0,                   0,  0.25*sqrt(3)*A*E/L,         -0.75*A*E/L, -0.25*sqrt(3)*A*E/L,         -0.75*A*E/L],\n",
       "[        -0.25*A*E/L,  0.25*sqrt(3)*A*E/L,                   0,                   0,                   0,                   0,                   0,                   0,                   0,                   0,                   0,                   0,                   0,                   0,                   0,                   0,                   0,                   0,          1.5*A*E/L,                  0,          -1.0*A*E/L,                   0,                   0,                   0,                   0,                   0,                   0,                   0,                   0,                   0,                   0,                   0,                   0,                   0,                   0,                   0,                   0,                   0],\n",
       "[ 0.25*sqrt(3)*A*E/L,         -0.75*A*E/L,                   0,                   0,                   0,                   0,                   0,                   0,                   0,                   0,                   0,                   0,                   0,                   0,                   0,                   0,                   0,                   0,                  0,          1.5*A*E/L,                   0,                   0,                   0,                   0,                   0,                   0,                   0,                   0,                   0,                   0,                   0,                   0,                   0,                   0,                   0,                   0,                   0,                   0],\n",
       "[        -0.25*A*E/L, -0.25*sqrt(3)*A*E/L,         -0.25*A*E/L,  0.25*sqrt(3)*A*E/L,                   0,                   0,                   0,                   0,                   0,                   0,                   0,                   0,                   0,                   0,                   0,                   0,                   0,                   0,         -1.0*A*E/L,                  0,           2.5*A*E/L,                   0,          -1.0*A*E/L,                   0,                   0,                   0,                   0,                   0,                   0,                   0,                   0,                   0,                   0,                   0,                   0,                   0,                   0,                   0],\n",
       "[-0.25*sqrt(3)*A*E/L,         -0.75*A*E/L,  0.25*sqrt(3)*A*E/L,         -0.75*A*E/L,                   0,                   0,                   0,                   0,                   0,                   0,                   0,                   0,                   0,                   0,                   0,                   0,                   0,                   0,                  0,                  0,                   0,           1.5*A*E/L,                   0,                   0,                   0,                   0,                   0,                   0,                   0,                   0,                   0,                   0,                   0,                   0,                   0,                   0,                   0,                   0],\n",
       "[                  0,                   0,         -0.25*A*E/L, -0.25*sqrt(3)*A*E/L,         -0.25*A*E/L,  0.25*sqrt(3)*A*E/L,                   0,                   0,                   0,                   0,                   0,                   0,                   0,                   0,                   0,                   0,                   0,                   0,                  0,                  0,          -1.0*A*E/L,                   0,           2.5*A*E/L,                   0,          -1.0*A*E/L,                   0,                   0,                   0,                   0,                   0,                   0,                   0,                   0,                   0,                   0,                   0,                   0,                   0],\n",
       "[                  0,                   0, -0.25*sqrt(3)*A*E/L,         -0.75*A*E/L,  0.25*sqrt(3)*A*E/L,         -0.75*A*E/L,                   0,                   0,                   0,                   0,                   0,                   0,                   0,                   0,                   0,                   0,                   0,                   0,                  0,                  0,                   0,                   0,                   0,           1.5*A*E/L,                   0,                   0,                   0,                   0,                   0,                   0,                   0,                   0,                   0,                   0,                   0,                   0,                   0,                   0],\n",
       "[                  0,                   0,                   0,                   0,         -0.25*A*E/L, -0.25*sqrt(3)*A*E/L,         -0.25*A*E/L,  0.25*sqrt(3)*A*E/L,                   0,                   0,                   0,                   0,                   0,                   0,                   0,                   0,                   0,                   0,                  0,                  0,                   0,                   0,          -1.0*A*E/L,                   0,           2.5*A*E/L,                   0,          -1.0*A*E/L,                   0,                   0,                   0,                   0,                   0,                   0,                   0,                   0,                   0,                   0,                   0],\n",
       "[                  0,                   0,                   0,                   0, -0.25*sqrt(3)*A*E/L,         -0.75*A*E/L,  0.25*sqrt(3)*A*E/L,         -0.75*A*E/L,                   0,                   0,                   0,                   0,                   0,                   0,                   0,                   0,                   0,                   0,                  0,                  0,                   0,                   0,                   0,                   0,                   0,           1.5*A*E/L,                   0,                   0,                   0,                   0,                   0,                   0,                   0,                   0,                   0,                   0,                   0,                   0],\n",
       "[                  0,                   0,                   0,                   0,                   0,                   0,         -0.25*A*E/L, -0.25*sqrt(3)*A*E/L,         -0.25*A*E/L,  0.25*sqrt(3)*A*E/L,                   0,                   0,                   0,                   0,                   0,                   0,                   0,                   0,                  0,                  0,                   0,                   0,                   0,                   0,          -1.0*A*E/L,                   0,           2.5*A*E/L,                   0,          -1.0*A*E/L,                   0,                   0,                   0,                   0,                   0,                   0,                   0,                   0,                   0],\n",
       "[                  0,                   0,                   0,                   0,                   0,                   0, -0.25*sqrt(3)*A*E/L,         -0.75*A*E/L,  0.25*sqrt(3)*A*E/L,         -0.75*A*E/L,                   0,                   0,                   0,                   0,                   0,                   0,                   0,                   0,                  0,                  0,                   0,                   0,                   0,                   0,                   0,                   0,                   0,           1.5*A*E/L,                   0,                   0,                   0,                   0,                   0,                   0,                   0,                   0,                   0,                   0],\n",
       "[                  0,                   0,                   0,                   0,                   0,                   0,                   0,                   0,         -0.25*A*E/L, -0.25*sqrt(3)*A*E/L,         -0.25*A*E/L,  0.25*sqrt(3)*A*E/L,                   0,                   0,                   0,                   0,                   0,                   0,                  0,                  0,                   0,                   0,                   0,                   0,                   0,                   0,          -1.0*A*E/L,                   0,           2.5*A*E/L,                   0,          -1.0*A*E/L,                   0,                   0,                   0,                   0,                   0,                   0,                   0],\n",
       "[                  0,                   0,                   0,                   0,                   0,                   0,                   0,                   0, -0.25*sqrt(3)*A*E/L,         -0.75*A*E/L,  0.25*sqrt(3)*A*E/L,         -0.75*A*E/L,                   0,                   0,                   0,                   0,                   0,                   0,                  0,                  0,                   0,                   0,                   0,                   0,                   0,                   0,                   0,                   0,                   0,           1.5*A*E/L,                   0,                   0,                   0,                   0,                   0,                   0,                   0,                   0],\n",
       "[                  0,                   0,                   0,                   0,                   0,                   0,                   0,                   0,                   0,                   0,         -0.25*A*E/L, -0.25*sqrt(3)*A*E/L,         -0.25*A*E/L,  0.25*sqrt(3)*A*E/L,                   0,                   0,                   0,                   0,                  0,                  0,                   0,                   0,                   0,                   0,                   0,                   0,                   0,                   0,          -1.0*A*E/L,                   0,           2.5*A*E/L,                   0,          -1.0*A*E/L,                   0,                   0,                   0,                   0,                   0],\n",
       "[                  0,                   0,                   0,                   0,                   0,                   0,                   0,                   0,                   0,                   0, -0.25*sqrt(3)*A*E/L,         -0.75*A*E/L,  0.25*sqrt(3)*A*E/L,         -0.75*A*E/L,                   0,                   0,                   0,                   0,                  0,                  0,                   0,                   0,                   0,                   0,                   0,                   0,                   0,                   0,                   0,                   0,                   0,           1.5*A*E/L,                   0,                   0,                   0,                   0,                   0,                   0],\n",
       "[                  0,                   0,                   0,                   0,                   0,                   0,                   0,                   0,                   0,                   0,                   0,                   0,         -0.25*A*E/L, -0.25*sqrt(3)*A*E/L,         -0.25*A*E/L,  0.25*sqrt(3)*A*E/L,                   0,                   0,                  0,                  0,                   0,                   0,                   0,                   0,                   0,                   0,                   0,                   0,                   0,                   0,          -1.0*A*E/L,                   0,           2.5*A*E/L,                   0,          -1.0*A*E/L,                   0,                   0,                   0],\n",
       "[                  0,                   0,                   0,                   0,                   0,                   0,                   0,                   0,                   0,                   0,                   0,                   0, -0.25*sqrt(3)*A*E/L,         -0.75*A*E/L,  0.25*sqrt(3)*A*E/L,         -0.75*A*E/L,                   0,                   0,                  0,                  0,                   0,                   0,                   0,                   0,                   0,                   0,                   0,                   0,                   0,                   0,                   0,                   0,                   0,           1.5*A*E/L,                   0,                   0,                   0,                   0],\n",
       "[                  0,                   0,                   0,                   0,                   0,                   0,                   0,                   0,                   0,                   0,                   0,                   0,                   0,                   0,         -0.25*A*E/L, -0.25*sqrt(3)*A*E/L,         -0.25*A*E/L,  0.25*sqrt(3)*A*E/L,                  0,                  0,                   0,                   0,                   0,                   0,                   0,                   0,                   0,                   0,                   0,                   0,                   0,                   0,          -1.0*A*E/L,                   0,           2.5*A*E/L,                   0,          -1.0*A*E/L,                   0],\n",
       "[                  0,                   0,                   0,                   0,                   0,                   0,                   0,                   0,                   0,                   0,                   0,                   0,                   0,                   0, -0.25*sqrt(3)*A*E/L,         -0.75*A*E/L,  0.25*sqrt(3)*A*E/L,         -0.75*A*E/L,                  0,                  0,                   0,                   0,                   0,                   0,                   0,                   0,                   0,                   0,                   0,                   0,                   0,                   0,                   0,                   0,                   0,           1.5*A*E/L,                   0,                   0],\n",
       "[                  0,                   0,                   0,                   0,                   0,                   0,                   0,                   0,                   0,                   0,                   0,                   0,                   0,                   0,                   0,                   0,         -0.25*A*E/L, -0.25*sqrt(3)*A*E/L,                  0,                  0,                   0,                   0,                   0,                   0,                   0,                   0,                   0,                   0,                   0,                   0,                   0,                   0,                   0,                   0,          -1.0*A*E/L,                   0,           1.5*A*E/L,                   0],\n",
       "[                  0,                   0,                   0,                   0,                   0,                   0,                   0,                   0,                   0,                   0,                   0,                   0,                   0,                   0,                   0,                   0, -0.25*sqrt(3)*A*E/L,         -0.75*A*E/L,                  0,                  0,                   0,                   0,                   0,                   0,                   0,                   0,                   0,                   0,                   0,                   0,                   0,                   0,                   0,                   0,                   0,                   0,                   0,           1.5*A*E/L]])"
      ]
     },
     "execution_count": 63,
     "metadata": {},
     "output_type": "execute_result"
    }
   ],
   "source": [
    "K_dense = K_block.as_explicit()\n",
    "K_dense"
   ]
  },
  {
   "cell_type": "code",
   "execution_count": 64,
   "id": "e66fff3c",
   "metadata": {},
   "outputs": [],
   "source": [
    "u_dense = u_block.as_explicit()"
   ]
  },
  {
   "cell_type": "code",
   "execution_count": 65,
   "id": "b6468d1b",
   "metadata": {},
   "outputs": [],
   "source": [
    "f_dense = f_block.as_explicit()"
   ]
  },
  {
   "cell_type": "code",
   "execution_count": 66,
   "id": "70c22859",
   "metadata": {},
   "outputs": [
    {
     "data": {
      "text/latex": [
       "$\\displaystyle \\left[\\begin{array}{cccccccccccccccccccccccccccccccccccccc}\\frac{2.5 A E}{L} & 0 & - \\frac{A E}{L} & 0 & 0 & 0 & 0 & 0 & 0 & 0 & 0 & 0 & 0 & 0 & 0 & 0 & 0 & 0 & - \\frac{0.25 A E}{L} & \\frac{0.25 \\sqrt{3} A E}{L} & - \\frac{0.25 A E}{L} & - \\frac{0.25 \\sqrt{3} A E}{L} & 0 & 0 & 0 & 0 & 0 & 0 & 0 & 0 & 0 & 0 & 0 & 0 & 0 & 0 & 0 & 0\\\\0 & \\frac{1.5 A E}{L} & 0 & 0 & 0 & 0 & 0 & 0 & 0 & 0 & 0 & 0 & 0 & 0 & 0 & 0 & 0 & 0 & \\frac{0.25 \\sqrt{3} A E}{L} & - \\frac{0.75 A E}{L} & - \\frac{0.25 \\sqrt{3} A E}{L} & - \\frac{0.75 A E}{L} & 0 & 0 & 0 & 0 & 0 & 0 & 0 & 0 & 0 & 0 & 0 & 0 & 0 & 0 & 0 & 0\\\\- \\frac{A E}{L} & 0 & \\frac{2.5 A E}{L} & 0 & - \\frac{A E}{L} & 0 & 0 & 0 & 0 & 0 & 0 & 0 & 0 & 0 & 0 & 0 & 0 & 0 & 0 & 0 & - \\frac{0.25 A E}{L} & \\frac{0.25 \\sqrt{3} A E}{L} & - \\frac{0.25 A E}{L} & - \\frac{0.25 \\sqrt{3} A E}{L} & 0 & 0 & 0 & 0 & 0 & 0 & 0 & 0 & 0 & 0 & 0 & 0 & 0 & 0\\\\0 & 0 & 0 & \\frac{1.5 A E}{L} & 0 & 0 & 0 & 0 & 0 & 0 & 0 & 0 & 0 & 0 & 0 & 0 & 0 & 0 & 0 & 0 & \\frac{0.25 \\sqrt{3} A E}{L} & - \\frac{0.75 A E}{L} & - \\frac{0.25 \\sqrt{3} A E}{L} & - \\frac{0.75 A E}{L} & 0 & 0 & 0 & 0 & 0 & 0 & 0 & 0 & 0 & 0 & 0 & 0 & 0 & 0\\\\0 & 0 & - \\frac{A E}{L} & 0 & \\frac{2.5 A E}{L} & 0 & - \\frac{A E}{L} & 0 & 0 & 0 & 0 & 0 & 0 & 0 & 0 & 0 & 0 & 0 & 0 & 0 & 0 & 0 & - \\frac{0.25 A E}{L} & \\frac{0.25 \\sqrt{3} A E}{L} & - \\frac{0.25 A E}{L} & - \\frac{0.25 \\sqrt{3} A E}{L} & 0 & 0 & 0 & 0 & 0 & 0 & 0 & 0 & 0 & 0 & 0 & 0\\\\0 & 0 & 0 & 0 & 0 & \\frac{1.5 A E}{L} & 0 & 0 & 0 & 0 & 0 & 0 & 0 & 0 & 0 & 0 & 0 & 0 & 0 & 0 & 0 & 0 & \\frac{0.25 \\sqrt{3} A E}{L} & - \\frac{0.75 A E}{L} & - \\frac{0.25 \\sqrt{3} A E}{L} & - \\frac{0.75 A E}{L} & 0 & 0 & 0 & 0 & 0 & 0 & 0 & 0 & 0 & 0 & 0 & 0\\\\0 & 0 & 0 & 0 & - \\frac{A E}{L} & 0 & \\frac{2.5 A E}{L} & 0 & - \\frac{A E}{L} & 0 & 0 & 0 & 0 & 0 & 0 & 0 & 0 & 0 & 0 & 0 & 0 & 0 & 0 & 0 & - \\frac{0.25 A E}{L} & \\frac{0.25 \\sqrt{3} A E}{L} & - \\frac{0.25 A E}{L} & - \\frac{0.25 \\sqrt{3} A E}{L} & 0 & 0 & 0 & 0 & 0 & 0 & 0 & 0 & 0 & 0\\\\0 & 0 & 0 & 0 & 0 & 0 & 0 & \\frac{1.5 A E}{L} & 0 & 0 & 0 & 0 & 0 & 0 & 0 & 0 & 0 & 0 & 0 & 0 & 0 & 0 & 0 & 0 & \\frac{0.25 \\sqrt{3} A E}{L} & - \\frac{0.75 A E}{L} & - \\frac{0.25 \\sqrt{3} A E}{L} & - \\frac{0.75 A E}{L} & 0 & 0 & 0 & 0 & 0 & 0 & 0 & 0 & 0 & 0\\\\0 & 0 & 0 & 0 & 0 & 0 & - \\frac{A E}{L} & 0 & \\frac{2.5 A E}{L} & 0 & - \\frac{A E}{L} & 0 & 0 & 0 & 0 & 0 & 0 & 0 & 0 & 0 & 0 & 0 & 0 & 0 & 0 & 0 & - \\frac{0.25 A E}{L} & \\frac{0.25 \\sqrt{3} A E}{L} & - \\frac{0.25 A E}{L} & - \\frac{0.25 \\sqrt{3} A E}{L} & 0 & 0 & 0 & 0 & 0 & 0 & 0 & 0\\\\0 & 0 & 0 & 0 & 0 & 0 & 0 & 0 & 0 & \\frac{1.5 A E}{L} & 0 & 0 & 0 & 0 & 0 & 0 & 0 & 0 & 0 & 0 & 0 & 0 & 0 & 0 & 0 & 0 & \\frac{0.25 \\sqrt{3} A E}{L} & - \\frac{0.75 A E}{L} & - \\frac{0.25 \\sqrt{3} A E}{L} & - \\frac{0.75 A E}{L} & 0 & 0 & 0 & 0 & 0 & 0 & 0 & 0\\\\0 & 0 & 0 & 0 & 0 & 0 & 0 & 0 & - \\frac{A E}{L} & 0 & \\frac{2.5 A E}{L} & 0 & - \\frac{A E}{L} & 0 & 0 & 0 & 0 & 0 & 0 & 0 & 0 & 0 & 0 & 0 & 0 & 0 & 0 & 0 & - \\frac{0.25 A E}{L} & \\frac{0.25 \\sqrt{3} A E}{L} & - \\frac{0.25 A E}{L} & - \\frac{0.25 \\sqrt{3} A E}{L} & 0 & 0 & 0 & 0 & 0 & 0\\\\0 & 0 & 0 & 0 & 0 & 0 & 0 & 0 & 0 & 0 & 0 & \\frac{1.5 A E}{L} & 0 & 0 & 0 & 0 & 0 & 0 & 0 & 0 & 0 & 0 & 0 & 0 & 0 & 0 & 0 & 0 & \\frac{0.25 \\sqrt{3} A E}{L} & - \\frac{0.75 A E}{L} & - \\frac{0.25 \\sqrt{3} A E}{L} & - \\frac{0.75 A E}{L} & 0 & 0 & 0 & 0 & 0 & 0\\\\0 & 0 & 0 & 0 & 0 & 0 & 0 & 0 & 0 & 0 & - \\frac{A E}{L} & 0 & \\frac{2.5 A E}{L} & 0 & - \\frac{A E}{L} & 0 & 0 & 0 & 0 & 0 & 0 & 0 & 0 & 0 & 0 & 0 & 0 & 0 & 0 & 0 & - \\frac{0.25 A E}{L} & \\frac{0.25 \\sqrt{3} A E}{L} & - \\frac{0.25 A E}{L} & - \\frac{0.25 \\sqrt{3} A E}{L} & 0 & 0 & 0 & 0\\\\0 & 0 & 0 & 0 & 0 & 0 & 0 & 0 & 0 & 0 & 0 & 0 & 0 & \\frac{1.5 A E}{L} & 0 & 0 & 0 & 0 & 0 & 0 & 0 & 0 & 0 & 0 & 0 & 0 & 0 & 0 & 0 & 0 & \\frac{0.25 \\sqrt{3} A E}{L} & - \\frac{0.75 A E}{L} & - \\frac{0.25 \\sqrt{3} A E}{L} & - \\frac{0.75 A E}{L} & 0 & 0 & 0 & 0\\\\0 & 0 & 0 & 0 & 0 & 0 & 0 & 0 & 0 & 0 & 0 & 0 & - \\frac{A E}{L} & 0 & \\frac{2.5 A E}{L} & 0 & - \\frac{A E}{L} & 0 & 0 & 0 & 0 & 0 & 0 & 0 & 0 & 0 & 0 & 0 & 0 & 0 & 0 & 0 & - \\frac{0.25 A E}{L} & \\frac{0.25 \\sqrt{3} A E}{L} & - \\frac{0.25 A E}{L} & - \\frac{0.25 \\sqrt{3} A E}{L} & 0 & 0\\\\0 & 0 & 0 & 0 & 0 & 0 & 0 & 0 & 0 & 0 & 0 & 0 & 0 & 0 & 0 & \\frac{1.5 A E}{L} & 0 & 0 & 0 & 0 & 0 & 0 & 0 & 0 & 0 & 0 & 0 & 0 & 0 & 0 & 0 & 0 & \\frac{0.25 \\sqrt{3} A E}{L} & - \\frac{0.75 A E}{L} & - \\frac{0.25 \\sqrt{3} A E}{L} & - \\frac{0.75 A E}{L} & 0 & 0\\\\0 & 0 & 0 & 0 & 0 & 0 & 0 & 0 & 0 & 0 & 0 & 0 & 0 & 0 & - \\frac{A E}{L} & 0 & \\frac{2.5 A E}{L} & 0 & 0 & 0 & 0 & 0 & 0 & 0 & 0 & 0 & 0 & 0 & 0 & 0 & 0 & 0 & 0 & 0 & - \\frac{0.25 A E}{L} & \\frac{0.25 \\sqrt{3} A E}{L} & - \\frac{0.25 A E}{L} & - \\frac{0.25 \\sqrt{3} A E}{L}\\\\0 & 0 & 0 & 0 & 0 & 0 & 0 & 0 & 0 & 0 & 0 & 0 & 0 & 0 & 0 & 0 & 0 & \\frac{1.5 A E}{L} & 0 & 0 & 0 & 0 & 0 & 0 & 0 & 0 & 0 & 0 & 0 & 0 & 0 & 0 & 0 & 0 & \\frac{0.25 \\sqrt{3} A E}{L} & - \\frac{0.75 A E}{L} & - \\frac{0.25 \\sqrt{3} A E}{L} & - \\frac{0.75 A E}{L}\\\\- \\frac{0.25 A E}{L} & \\frac{0.25 \\sqrt{3} A E}{L} & 0 & 0 & 0 & 0 & 0 & 0 & 0 & 0 & 0 & 0 & 0 & 0 & 0 & 0 & 0 & 0 & \\frac{1.5 A E}{L} & 0 & - \\frac{1.0 A E}{L} & 0 & 0 & 0 & 0 & 0 & 0 & 0 & 0 & 0 & 0 & 0 & 0 & 0 & 0 & 0 & 0 & 0\\\\\\frac{0.25 \\sqrt{3} A E}{L} & - \\frac{0.75 A E}{L} & 0 & 0 & 0 & 0 & 0 & 0 & 0 & 0 & 0 & 0 & 0 & 0 & 0 & 0 & 0 & 0 & 0 & \\frac{1.5 A E}{L} & 0 & 0 & 0 & 0 & 0 & 0 & 0 & 0 & 0 & 0 & 0 & 0 & 0 & 0 & 0 & 0 & 0 & 0\\\\- \\frac{0.25 A E}{L} & - \\frac{0.25 \\sqrt{3} A E}{L} & - \\frac{0.25 A E}{L} & \\frac{0.25 \\sqrt{3} A E}{L} & 0 & 0 & 0 & 0 & 0 & 0 & 0 & 0 & 0 & 0 & 0 & 0 & 0 & 0 & - \\frac{1.0 A E}{L} & 0 & \\frac{2.5 A E}{L} & 0 & - \\frac{1.0 A E}{L} & 0 & 0 & 0 & 0 & 0 & 0 & 0 & 0 & 0 & 0 & 0 & 0 & 0 & 0 & 0\\\\- \\frac{0.25 \\sqrt{3} A E}{L} & - \\frac{0.75 A E}{L} & \\frac{0.25 \\sqrt{3} A E}{L} & - \\frac{0.75 A E}{L} & 0 & 0 & 0 & 0 & 0 & 0 & 0 & 0 & 0 & 0 & 0 & 0 & 0 & 0 & 0 & 0 & 0 & \\frac{1.5 A E}{L} & 0 & 0 & 0 & 0 & 0 & 0 & 0 & 0 & 0 & 0 & 0 & 0 & 0 & 0 & 0 & 0\\\\0 & 0 & - \\frac{0.25 A E}{L} & - \\frac{0.25 \\sqrt{3} A E}{L} & - \\frac{0.25 A E}{L} & \\frac{0.25 \\sqrt{3} A E}{L} & 0 & 0 & 0 & 0 & 0 & 0 & 0 & 0 & 0 & 0 & 0 & 0 & 0 & 0 & - \\frac{1.0 A E}{L} & 0 & \\frac{2.5 A E}{L} & 0 & - \\frac{1.0 A E}{L} & 0 & 0 & 0 & 0 & 0 & 0 & 0 & 0 & 0 & 0 & 0 & 0 & 0\\\\0 & 0 & - \\frac{0.25 \\sqrt{3} A E}{L} & - \\frac{0.75 A E}{L} & \\frac{0.25 \\sqrt{3} A E}{L} & - \\frac{0.75 A E}{L} & 0 & 0 & 0 & 0 & 0 & 0 & 0 & 0 & 0 & 0 & 0 & 0 & 0 & 0 & 0 & 0 & 0 & \\frac{1.5 A E}{L} & 0 & 0 & 0 & 0 & 0 & 0 & 0 & 0 & 0 & 0 & 0 & 0 & 0 & 0\\\\0 & 0 & 0 & 0 & - \\frac{0.25 A E}{L} & - \\frac{0.25 \\sqrt{3} A E}{L} & - \\frac{0.25 A E}{L} & \\frac{0.25 \\sqrt{3} A E}{L} & 0 & 0 & 0 & 0 & 0 & 0 & 0 & 0 & 0 & 0 & 0 & 0 & 0 & 0 & - \\frac{1.0 A E}{L} & 0 & \\frac{2.5 A E}{L} & 0 & - \\frac{1.0 A E}{L} & 0 & 0 & 0 & 0 & 0 & 0 & 0 & 0 & 0 & 0 & 0\\\\0 & 0 & 0 & 0 & - \\frac{0.25 \\sqrt{3} A E}{L} & - \\frac{0.75 A E}{L} & \\frac{0.25 \\sqrt{3} A E}{L} & - \\frac{0.75 A E}{L} & 0 & 0 & 0 & 0 & 0 & 0 & 0 & 0 & 0 & 0 & 0 & 0 & 0 & 0 & 0 & 0 & 0 & \\frac{1.5 A E}{L} & 0 & 0 & 0 & 0 & 0 & 0 & 0 & 0 & 0 & 0 & 0 & 0\\\\0 & 0 & 0 & 0 & 0 & 0 & - \\frac{0.25 A E}{L} & - \\frac{0.25 \\sqrt{3} A E}{L} & - \\frac{0.25 A E}{L} & \\frac{0.25 \\sqrt{3} A E}{L} & 0 & 0 & 0 & 0 & 0 & 0 & 0 & 0 & 0 & 0 & 0 & 0 & 0 & 0 & - \\frac{1.0 A E}{L} & 0 & \\frac{2.5 A E}{L} & 0 & - \\frac{1.0 A E}{L} & 0 & 0 & 0 & 0 & 0 & 0 & 0 & 0 & 0\\\\0 & 0 & 0 & 0 & 0 & 0 & - \\frac{0.25 \\sqrt{3} A E}{L} & - \\frac{0.75 A E}{L} & \\frac{0.25 \\sqrt{3} A E}{L} & - \\frac{0.75 A E}{L} & 0 & 0 & 0 & 0 & 0 & 0 & 0 & 0 & 0 & 0 & 0 & 0 & 0 & 0 & 0 & 0 & 0 & \\frac{1.5 A E}{L} & 0 & 0 & 0 & 0 & 0 & 0 & 0 & 0 & 0 & 0\\\\0 & 0 & 0 & 0 & 0 & 0 & 0 & 0 & - \\frac{0.25 A E}{L} & - \\frac{0.25 \\sqrt{3} A E}{L} & - \\frac{0.25 A E}{L} & \\frac{0.25 \\sqrt{3} A E}{L} & 0 & 0 & 0 & 0 & 0 & 0 & 0 & 0 & 0 & 0 & 0 & 0 & 0 & 0 & - \\frac{1.0 A E}{L} & 0 & \\frac{2.5 A E}{L} & 0 & - \\frac{1.0 A E}{L} & 0 & 0 & 0 & 0 & 0 & 0 & 0\\\\0 & 0 & 0 & 0 & 0 & 0 & 0 & 0 & - \\frac{0.25 \\sqrt{3} A E}{L} & - \\frac{0.75 A E}{L} & \\frac{0.25 \\sqrt{3} A E}{L} & - \\frac{0.75 A E}{L} & 0 & 0 & 0 & 0 & 0 & 0 & 0 & 0 & 0 & 0 & 0 & 0 & 0 & 0 & 0 & 0 & 0 & \\frac{1.5 A E}{L} & 0 & 0 & 0 & 0 & 0 & 0 & 0 & 0\\\\0 & 0 & 0 & 0 & 0 & 0 & 0 & 0 & 0 & 0 & - \\frac{0.25 A E}{L} & - \\frac{0.25 \\sqrt{3} A E}{L} & - \\frac{0.25 A E}{L} & \\frac{0.25 \\sqrt{3} A E}{L} & 0 & 0 & 0 & 0 & 0 & 0 & 0 & 0 & 0 & 0 & 0 & 0 & 0 & 0 & - \\frac{1.0 A E}{L} & 0 & \\frac{2.5 A E}{L} & 0 & - \\frac{1.0 A E}{L} & 0 & 0 & 0 & 0 & 0\\\\0 & 0 & 0 & 0 & 0 & 0 & 0 & 0 & 0 & 0 & - \\frac{0.25 \\sqrt{3} A E}{L} & - \\frac{0.75 A E}{L} & \\frac{0.25 \\sqrt{3} A E}{L} & - \\frac{0.75 A E}{L} & 0 & 0 & 0 & 0 & 0 & 0 & 0 & 0 & 0 & 0 & 0 & 0 & 0 & 0 & 0 & 0 & 0 & \\frac{1.5 A E}{L} & 0 & 0 & 0 & 0 & 0 & 0\\\\0 & 0 & 0 & 0 & 0 & 0 & 0 & 0 & 0 & 0 & 0 & 0 & - \\frac{0.25 A E}{L} & - \\frac{0.25 \\sqrt{3} A E}{L} & - \\frac{0.25 A E}{L} & \\frac{0.25 \\sqrt{3} A E}{L} & 0 & 0 & 0 & 0 & 0 & 0 & 0 & 0 & 0 & 0 & 0 & 0 & 0 & 0 & - \\frac{1.0 A E}{L} & 0 & \\frac{2.5 A E}{L} & 0 & - \\frac{1.0 A E}{L} & 0 & 0 & 0\\\\0 & 0 & 0 & 0 & 0 & 0 & 0 & 0 & 0 & 0 & 0 & 0 & - \\frac{0.25 \\sqrt{3} A E}{L} & - \\frac{0.75 A E}{L} & \\frac{0.25 \\sqrt{3} A E}{L} & - \\frac{0.75 A E}{L} & 0 & 0 & 0 & 0 & 0 & 0 & 0 & 0 & 0 & 0 & 0 & 0 & 0 & 0 & 0 & 0 & 0 & \\frac{1.5 A E}{L} & 0 & 0 & 0 & 0\\\\0 & 0 & 0 & 0 & 0 & 0 & 0 & 0 & 0 & 0 & 0 & 0 & 0 & 0 & - \\frac{0.25 A E}{L} & - \\frac{0.25 \\sqrt{3} A E}{L} & - \\frac{0.25 A E}{L} & \\frac{0.25 \\sqrt{3} A E}{L} & 0 & 0 & 0 & 0 & 0 & 0 & 0 & 0 & 0 & 0 & 0 & 0 & 0 & 0 & - \\frac{1.0 A E}{L} & 0 & \\frac{2.5 A E}{L} & 0 & - \\frac{1.0 A E}{L} & 0\\\\0 & 0 & 0 & 0 & 0 & 0 & 0 & 0 & 0 & 0 & 0 & 0 & 0 & 0 & - \\frac{0.25 \\sqrt{3} A E}{L} & - \\frac{0.75 A E}{L} & \\frac{0.25 \\sqrt{3} A E}{L} & - \\frac{0.75 A E}{L} & 0 & 0 & 0 & 0 & 0 & 0 & 0 & 0 & 0 & 0 & 0 & 0 & 0 & 0 & 0 & 0 & 0 & \\frac{1.5 A E}{L} & 0 & 0\\\\0 & 0 & 0 & 0 & 0 & 0 & 0 & 0 & 0 & 0 & 0 & 0 & 0 & 0 & 0 & 0 & - \\frac{0.25 A E}{L} & - \\frac{0.25 \\sqrt{3} A E}{L} & 0 & 0 & 0 & 0 & 0 & 0 & 0 & 0 & 0 & 0 & 0 & 0 & 0 & 0 & 0 & 0 & - \\frac{1.0 A E}{L} & 0 & \\frac{1.5 A E}{L} & 0\\\\0 & 0 & 0 & 0 & 0 & 0 & 0 & 0 & 0 & 0 & 0 & 0 & 0 & 0 & 0 & 0 & - \\frac{0.25 \\sqrt{3} A E}{L} & - \\frac{0.75 A E}{L} & 0 & 0 & 0 & 0 & 0 & 0 & 0 & 0 & 0 & 0 & 0 & 0 & 0 & 0 & 0 & 0 & 0 & 0 & 0 & \\frac{1.5 A E}{L}\\end{array}\\right] \\left[\\begin{matrix}u_{B1 x}\\\\u_{B1 y}\\\\u_{B2 x}\\\\u_{B2 y}\\\\u_{B3 x}\\\\u_{B3 y}\\\\u_{B4 x}\\\\u_{B4 y}\\\\u_{B5 x}\\\\u_{B5 y}\\\\u_{B6 x}\\\\u_{B6 y}\\\\u_{B7 x}\\\\u_{B7 y}\\\\u_{B8 x}\\\\u_{B8 y}\\\\u_{B9 x}\\\\u_{B9 y}\\\\u_{T0 x}\\\\u_{T0 y}\\\\u_{T1 x}\\\\u_{T1 y}\\\\u_{T2 x}\\\\u_{T2 y}\\\\u_{T3 x}\\\\u_{T3 y}\\\\u_{T4 x}\\\\u_{T4 y}\\\\u_{T5 x}\\\\u_{T5 y}\\\\u_{T6 x}\\\\u_{T6 y}\\\\u_{T7 x}\\\\u_{T7 y}\\\\u_{T8 x}\\\\u_{T8 y}\\\\u_{T9 x}\\\\u_{T9 y}\\end{matrix}\\right] = \\left[\\begin{matrix}0\\\\f_{ext}\\\\0\\\\0\\\\0\\\\0\\\\0\\\\0\\\\0\\\\0\\\\0\\\\0\\\\0\\\\0\\\\0\\\\0\\\\0\\\\0\\\\0\\\\0\\\\0\\\\0\\\\0\\\\0\\\\0\\\\0\\\\0\\\\0\\\\0\\\\0\\\\0\\\\0\\\\0\\\\0\\\\0\\\\0\\\\0\\\\0\\end{matrix}\\right]$"
      ],
      "text/plain": [
       "Eq(Matrix([\n",
       "[          2.5*A*E/L,                   0,              -A*E/L,                   0,                   0,                   0,                   0,                   0,                   0,                   0,                   0,                   0,                   0,                   0,                   0,                   0,                   0,                   0,        -0.25*A*E/L, 0.25*sqrt(3)*A*E/L,         -0.25*A*E/L, -0.25*sqrt(3)*A*E/L,                   0,                   0,                   0,                   0,                   0,                   0,                   0,                   0,                   0,                   0,                   0,                   0,                   0,                   0,                   0,                   0],\n",
       "[                  0,           1.5*A*E/L,                   0,                   0,                   0,                   0,                   0,                   0,                   0,                   0,                   0,                   0,                   0,                   0,                   0,                   0,                   0,                   0, 0.25*sqrt(3)*A*E/L,        -0.75*A*E/L, -0.25*sqrt(3)*A*E/L,         -0.75*A*E/L,                   0,                   0,                   0,                   0,                   0,                   0,                   0,                   0,                   0,                   0,                   0,                   0,                   0,                   0,                   0,                   0],\n",
       "[             -A*E/L,                   0,           2.5*A*E/L,                   0,              -A*E/L,                   0,                   0,                   0,                   0,                   0,                   0,                   0,                   0,                   0,                   0,                   0,                   0,                   0,                  0,                  0,         -0.25*A*E/L,  0.25*sqrt(3)*A*E/L,         -0.25*A*E/L, -0.25*sqrt(3)*A*E/L,                   0,                   0,                   0,                   0,                   0,                   0,                   0,                   0,                   0,                   0,                   0,                   0,                   0,                   0],\n",
       "[                  0,                   0,                   0,           1.5*A*E/L,                   0,                   0,                   0,                   0,                   0,                   0,                   0,                   0,                   0,                   0,                   0,                   0,                   0,                   0,                  0,                  0,  0.25*sqrt(3)*A*E/L,         -0.75*A*E/L, -0.25*sqrt(3)*A*E/L,         -0.75*A*E/L,                   0,                   0,                   0,                   0,                   0,                   0,                   0,                   0,                   0,                   0,                   0,                   0,                   0,                   0],\n",
       "[                  0,                   0,              -A*E/L,                   0,           2.5*A*E/L,                   0,              -A*E/L,                   0,                   0,                   0,                   0,                   0,                   0,                   0,                   0,                   0,                   0,                   0,                  0,                  0,                   0,                   0,         -0.25*A*E/L,  0.25*sqrt(3)*A*E/L,         -0.25*A*E/L, -0.25*sqrt(3)*A*E/L,                   0,                   0,                   0,                   0,                   0,                   0,                   0,                   0,                   0,                   0,                   0,                   0],\n",
       "[                  0,                   0,                   0,                   0,                   0,           1.5*A*E/L,                   0,                   0,                   0,                   0,                   0,                   0,                   0,                   0,                   0,                   0,                   0,                   0,                  0,                  0,                   0,                   0,  0.25*sqrt(3)*A*E/L,         -0.75*A*E/L, -0.25*sqrt(3)*A*E/L,         -0.75*A*E/L,                   0,                   0,                   0,                   0,                   0,                   0,                   0,                   0,                   0,                   0,                   0,                   0],\n",
       "[                  0,                   0,                   0,                   0,              -A*E/L,                   0,           2.5*A*E/L,                   0,              -A*E/L,                   0,                   0,                   0,                   0,                   0,                   0,                   0,                   0,                   0,                  0,                  0,                   0,                   0,                   0,                   0,         -0.25*A*E/L,  0.25*sqrt(3)*A*E/L,         -0.25*A*E/L, -0.25*sqrt(3)*A*E/L,                   0,                   0,                   0,                   0,                   0,                   0,                   0,                   0,                   0,                   0],\n",
       "[                  0,                   0,                   0,                   0,                   0,                   0,                   0,           1.5*A*E/L,                   0,                   0,                   0,                   0,                   0,                   0,                   0,                   0,                   0,                   0,                  0,                  0,                   0,                   0,                   0,                   0,  0.25*sqrt(3)*A*E/L,         -0.75*A*E/L, -0.25*sqrt(3)*A*E/L,         -0.75*A*E/L,                   0,                   0,                   0,                   0,                   0,                   0,                   0,                   0,                   0,                   0],\n",
       "[                  0,                   0,                   0,                   0,                   0,                   0,              -A*E/L,                   0,           2.5*A*E/L,                   0,              -A*E/L,                   0,                   0,                   0,                   0,                   0,                   0,                   0,                  0,                  0,                   0,                   0,                   0,                   0,                   0,                   0,         -0.25*A*E/L,  0.25*sqrt(3)*A*E/L,         -0.25*A*E/L, -0.25*sqrt(3)*A*E/L,                   0,                   0,                   0,                   0,                   0,                   0,                   0,                   0],\n",
       "[                  0,                   0,                   0,                   0,                   0,                   0,                   0,                   0,                   0,           1.5*A*E/L,                   0,                   0,                   0,                   0,                   0,                   0,                   0,                   0,                  0,                  0,                   0,                   0,                   0,                   0,                   0,                   0,  0.25*sqrt(3)*A*E/L,         -0.75*A*E/L, -0.25*sqrt(3)*A*E/L,         -0.75*A*E/L,                   0,                   0,                   0,                   0,                   0,                   0,                   0,                   0],\n",
       "[                  0,                   0,                   0,                   0,                   0,                   0,                   0,                   0,              -A*E/L,                   0,           2.5*A*E/L,                   0,              -A*E/L,                   0,                   0,                   0,                   0,                   0,                  0,                  0,                   0,                   0,                   0,                   0,                   0,                   0,                   0,                   0,         -0.25*A*E/L,  0.25*sqrt(3)*A*E/L,         -0.25*A*E/L, -0.25*sqrt(3)*A*E/L,                   0,                   0,                   0,                   0,                   0,                   0],\n",
       "[                  0,                   0,                   0,                   0,                   0,                   0,                   0,                   0,                   0,                   0,                   0,           1.5*A*E/L,                   0,                   0,                   0,                   0,                   0,                   0,                  0,                  0,                   0,                   0,                   0,                   0,                   0,                   0,                   0,                   0,  0.25*sqrt(3)*A*E/L,         -0.75*A*E/L, -0.25*sqrt(3)*A*E/L,         -0.75*A*E/L,                   0,                   0,                   0,                   0,                   0,                   0],\n",
       "[                  0,                   0,                   0,                   0,                   0,                   0,                   0,                   0,                   0,                   0,              -A*E/L,                   0,           2.5*A*E/L,                   0,              -A*E/L,                   0,                   0,                   0,                  0,                  0,                   0,                   0,                   0,                   0,                   0,                   0,                   0,                   0,                   0,                   0,         -0.25*A*E/L,  0.25*sqrt(3)*A*E/L,         -0.25*A*E/L, -0.25*sqrt(3)*A*E/L,                   0,                   0,                   0,                   0],\n",
       "[                  0,                   0,                   0,                   0,                   0,                   0,                   0,                   0,                   0,                   0,                   0,                   0,                   0,           1.5*A*E/L,                   0,                   0,                   0,                   0,                  0,                  0,                   0,                   0,                   0,                   0,                   0,                   0,                   0,                   0,                   0,                   0,  0.25*sqrt(3)*A*E/L,         -0.75*A*E/L, -0.25*sqrt(3)*A*E/L,         -0.75*A*E/L,                   0,                   0,                   0,                   0],\n",
       "[                  0,                   0,                   0,                   0,                   0,                   0,                   0,                   0,                   0,                   0,                   0,                   0,              -A*E/L,                   0,           2.5*A*E/L,                   0,              -A*E/L,                   0,                  0,                  0,                   0,                   0,                   0,                   0,                   0,                   0,                   0,                   0,                   0,                   0,                   0,                   0,         -0.25*A*E/L,  0.25*sqrt(3)*A*E/L,         -0.25*A*E/L, -0.25*sqrt(3)*A*E/L,                   0,                   0],\n",
       "[                  0,                   0,                   0,                   0,                   0,                   0,                   0,                   0,                   0,                   0,                   0,                   0,                   0,                   0,                   0,           1.5*A*E/L,                   0,                   0,                  0,                  0,                   0,                   0,                   0,                   0,                   0,                   0,                   0,                   0,                   0,                   0,                   0,                   0,  0.25*sqrt(3)*A*E/L,         -0.75*A*E/L, -0.25*sqrt(3)*A*E/L,         -0.75*A*E/L,                   0,                   0],\n",
       "[                  0,                   0,                   0,                   0,                   0,                   0,                   0,                   0,                   0,                   0,                   0,                   0,                   0,                   0,              -A*E/L,                   0,           2.5*A*E/L,                   0,                  0,                  0,                   0,                   0,                   0,                   0,                   0,                   0,                   0,                   0,                   0,                   0,                   0,                   0,                   0,                   0,         -0.25*A*E/L,  0.25*sqrt(3)*A*E/L,         -0.25*A*E/L, -0.25*sqrt(3)*A*E/L],\n",
       "[                  0,                   0,                   0,                   0,                   0,                   0,                   0,                   0,                   0,                   0,                   0,                   0,                   0,                   0,                   0,                   0,                   0,           1.5*A*E/L,                  0,                  0,                   0,                   0,                   0,                   0,                   0,                   0,                   0,                   0,                   0,                   0,                   0,                   0,                   0,                   0,  0.25*sqrt(3)*A*E/L,         -0.75*A*E/L, -0.25*sqrt(3)*A*E/L,         -0.75*A*E/L],\n",
       "[        -0.25*A*E/L,  0.25*sqrt(3)*A*E/L,                   0,                   0,                   0,                   0,                   0,                   0,                   0,                   0,                   0,                   0,                   0,                   0,                   0,                   0,                   0,                   0,          1.5*A*E/L,                  0,          -1.0*A*E/L,                   0,                   0,                   0,                   0,                   0,                   0,                   0,                   0,                   0,                   0,                   0,                   0,                   0,                   0,                   0,                   0,                   0],\n",
       "[ 0.25*sqrt(3)*A*E/L,         -0.75*A*E/L,                   0,                   0,                   0,                   0,                   0,                   0,                   0,                   0,                   0,                   0,                   0,                   0,                   0,                   0,                   0,                   0,                  0,          1.5*A*E/L,                   0,                   0,                   0,                   0,                   0,                   0,                   0,                   0,                   0,                   0,                   0,                   0,                   0,                   0,                   0,                   0,                   0,                   0],\n",
       "[        -0.25*A*E/L, -0.25*sqrt(3)*A*E/L,         -0.25*A*E/L,  0.25*sqrt(3)*A*E/L,                   0,                   0,                   0,                   0,                   0,                   0,                   0,                   0,                   0,                   0,                   0,                   0,                   0,                   0,         -1.0*A*E/L,                  0,           2.5*A*E/L,                   0,          -1.0*A*E/L,                   0,                   0,                   0,                   0,                   0,                   0,                   0,                   0,                   0,                   0,                   0,                   0,                   0,                   0,                   0],\n",
       "[-0.25*sqrt(3)*A*E/L,         -0.75*A*E/L,  0.25*sqrt(3)*A*E/L,         -0.75*A*E/L,                   0,                   0,                   0,                   0,                   0,                   0,                   0,                   0,                   0,                   0,                   0,                   0,                   0,                   0,                  0,                  0,                   0,           1.5*A*E/L,                   0,                   0,                   0,                   0,                   0,                   0,                   0,                   0,                   0,                   0,                   0,                   0,                   0,                   0,                   0,                   0],\n",
       "[                  0,                   0,         -0.25*A*E/L, -0.25*sqrt(3)*A*E/L,         -0.25*A*E/L,  0.25*sqrt(3)*A*E/L,                   0,                   0,                   0,                   0,                   0,                   0,                   0,                   0,                   0,                   0,                   0,                   0,                  0,                  0,          -1.0*A*E/L,                   0,           2.5*A*E/L,                   0,          -1.0*A*E/L,                   0,                   0,                   0,                   0,                   0,                   0,                   0,                   0,                   0,                   0,                   0,                   0,                   0],\n",
       "[                  0,                   0, -0.25*sqrt(3)*A*E/L,         -0.75*A*E/L,  0.25*sqrt(3)*A*E/L,         -0.75*A*E/L,                   0,                   0,                   0,                   0,                   0,                   0,                   0,                   0,                   0,                   0,                   0,                   0,                  0,                  0,                   0,                   0,                   0,           1.5*A*E/L,                   0,                   0,                   0,                   0,                   0,                   0,                   0,                   0,                   0,                   0,                   0,                   0,                   0,                   0],\n",
       "[                  0,                   0,                   0,                   0,         -0.25*A*E/L, -0.25*sqrt(3)*A*E/L,         -0.25*A*E/L,  0.25*sqrt(3)*A*E/L,                   0,                   0,                   0,                   0,                   0,                   0,                   0,                   0,                   0,                   0,                  0,                  0,                   0,                   0,          -1.0*A*E/L,                   0,           2.5*A*E/L,                   0,          -1.0*A*E/L,                   0,                   0,                   0,                   0,                   0,                   0,                   0,                   0,                   0,                   0,                   0],\n",
       "[                  0,                   0,                   0,                   0, -0.25*sqrt(3)*A*E/L,         -0.75*A*E/L,  0.25*sqrt(3)*A*E/L,         -0.75*A*E/L,                   0,                   0,                   0,                   0,                   0,                   0,                   0,                   0,                   0,                   0,                  0,                  0,                   0,                   0,                   0,                   0,                   0,           1.5*A*E/L,                   0,                   0,                   0,                   0,                   0,                   0,                   0,                   0,                   0,                   0,                   0,                   0],\n",
       "[                  0,                   0,                   0,                   0,                   0,                   0,         -0.25*A*E/L, -0.25*sqrt(3)*A*E/L,         -0.25*A*E/L,  0.25*sqrt(3)*A*E/L,                   0,                   0,                   0,                   0,                   0,                   0,                   0,                   0,                  0,                  0,                   0,                   0,                   0,                   0,          -1.0*A*E/L,                   0,           2.5*A*E/L,                   0,          -1.0*A*E/L,                   0,                   0,                   0,                   0,                   0,                   0,                   0,                   0,                   0],\n",
       "[                  0,                   0,                   0,                   0,                   0,                   0, -0.25*sqrt(3)*A*E/L,         -0.75*A*E/L,  0.25*sqrt(3)*A*E/L,         -0.75*A*E/L,                   0,                   0,                   0,                   0,                   0,                   0,                   0,                   0,                  0,                  0,                   0,                   0,                   0,                   0,                   0,                   0,                   0,           1.5*A*E/L,                   0,                   0,                   0,                   0,                   0,                   0,                   0,                   0,                   0,                   0],\n",
       "[                  0,                   0,                   0,                   0,                   0,                   0,                   0,                   0,         -0.25*A*E/L, -0.25*sqrt(3)*A*E/L,         -0.25*A*E/L,  0.25*sqrt(3)*A*E/L,                   0,                   0,                   0,                   0,                   0,                   0,                  0,                  0,                   0,                   0,                   0,                   0,                   0,                   0,          -1.0*A*E/L,                   0,           2.5*A*E/L,                   0,          -1.0*A*E/L,                   0,                   0,                   0,                   0,                   0,                   0,                   0],\n",
       "[                  0,                   0,                   0,                   0,                   0,                   0,                   0,                   0, -0.25*sqrt(3)*A*E/L,         -0.75*A*E/L,  0.25*sqrt(3)*A*E/L,         -0.75*A*E/L,                   0,                   0,                   0,                   0,                   0,                   0,                  0,                  0,                   0,                   0,                   0,                   0,                   0,                   0,                   0,                   0,                   0,           1.5*A*E/L,                   0,                   0,                   0,                   0,                   0,                   0,                   0,                   0],\n",
       "[                  0,                   0,                   0,                   0,                   0,                   0,                   0,                   0,                   0,                   0,         -0.25*A*E/L, -0.25*sqrt(3)*A*E/L,         -0.25*A*E/L,  0.25*sqrt(3)*A*E/L,                   0,                   0,                   0,                   0,                  0,                  0,                   0,                   0,                   0,                   0,                   0,                   0,                   0,                   0,          -1.0*A*E/L,                   0,           2.5*A*E/L,                   0,          -1.0*A*E/L,                   0,                   0,                   0,                   0,                   0],\n",
       "[                  0,                   0,                   0,                   0,                   0,                   0,                   0,                   0,                   0,                   0, -0.25*sqrt(3)*A*E/L,         -0.75*A*E/L,  0.25*sqrt(3)*A*E/L,         -0.75*A*E/L,                   0,                   0,                   0,                   0,                  0,                  0,                   0,                   0,                   0,                   0,                   0,                   0,                   0,                   0,                   0,                   0,                   0,           1.5*A*E/L,                   0,                   0,                   0,                   0,                   0,                   0],\n",
       "[                  0,                   0,                   0,                   0,                   0,                   0,                   0,                   0,                   0,                   0,                   0,                   0,         -0.25*A*E/L, -0.25*sqrt(3)*A*E/L,         -0.25*A*E/L,  0.25*sqrt(3)*A*E/L,                   0,                   0,                  0,                  0,                   0,                   0,                   0,                   0,                   0,                   0,                   0,                   0,                   0,                   0,          -1.0*A*E/L,                   0,           2.5*A*E/L,                   0,          -1.0*A*E/L,                   0,                   0,                   0],\n",
       "[                  0,                   0,                   0,                   0,                   0,                   0,                   0,                   0,                   0,                   0,                   0,                   0, -0.25*sqrt(3)*A*E/L,         -0.75*A*E/L,  0.25*sqrt(3)*A*E/L,         -0.75*A*E/L,                   0,                   0,                  0,                  0,                   0,                   0,                   0,                   0,                   0,                   0,                   0,                   0,                   0,                   0,                   0,                   0,                   0,           1.5*A*E/L,                   0,                   0,                   0,                   0],\n",
       "[                  0,                   0,                   0,                   0,                   0,                   0,                   0,                   0,                   0,                   0,                   0,                   0,                   0,                   0,         -0.25*A*E/L, -0.25*sqrt(3)*A*E/L,         -0.25*A*E/L,  0.25*sqrt(3)*A*E/L,                  0,                  0,                   0,                   0,                   0,                   0,                   0,                   0,                   0,                   0,                   0,                   0,                   0,                   0,          -1.0*A*E/L,                   0,           2.5*A*E/L,                   0,          -1.0*A*E/L,                   0],\n",
       "[                  0,                   0,                   0,                   0,                   0,                   0,                   0,                   0,                   0,                   0,                   0,                   0,                   0,                   0, -0.25*sqrt(3)*A*E/L,         -0.75*A*E/L,  0.25*sqrt(3)*A*E/L,         -0.75*A*E/L,                  0,                  0,                   0,                   0,                   0,                   0,                   0,                   0,                   0,                   0,                   0,                   0,                   0,                   0,                   0,                   0,                   0,           1.5*A*E/L,                   0,                   0],\n",
       "[                  0,                   0,                   0,                   0,                   0,                   0,                   0,                   0,                   0,                   0,                   0,                   0,                   0,                   0,                   0,                   0,         -0.25*A*E/L, -0.25*sqrt(3)*A*E/L,                  0,                  0,                   0,                   0,                   0,                   0,                   0,                   0,                   0,                   0,                   0,                   0,                   0,                   0,                   0,                   0,          -1.0*A*E/L,                   0,           1.5*A*E/L,                   0],\n",
       "[                  0,                   0,                   0,                   0,                   0,                   0,                   0,                   0,                   0,                   0,                   0,                   0,                   0,                   0,                   0,                   0, -0.25*sqrt(3)*A*E/L,         -0.75*A*E/L,                  0,                  0,                   0,                   0,                   0,                   0,                   0,                   0,                   0,                   0,                   0,                   0,                   0,                   0,                   0,                   0,                   0,                   0,                   0,           1.5*A*E/L]])*Matrix([\n",
       "[u_B1_x],\n",
       "[u_B1_y],\n",
       "[u_B2_x],\n",
       "[u_B2_y],\n",
       "[u_B3_x],\n",
       "[u_B3_y],\n",
       "[u_B4_x],\n",
       "[u_B4_y],\n",
       "[u_B5_x],\n",
       "[u_B5_y],\n",
       "[u_B6_x],\n",
       "[u_B6_y],\n",
       "[u_B7_x],\n",
       "[u_B7_y],\n",
       "[u_B8_x],\n",
       "[u_B8_y],\n",
       "[u_B9_x],\n",
       "[u_B9_y],\n",
       "[u_T0_x],\n",
       "[u_T0_y],\n",
       "[u_T1_x],\n",
       "[u_T1_y],\n",
       "[u_T2_x],\n",
       "[u_T2_y],\n",
       "[u_T3_x],\n",
       "[u_T3_y],\n",
       "[u_T4_x],\n",
       "[u_T4_y],\n",
       "[u_T5_x],\n",
       "[u_T5_y],\n",
       "[u_T6_x],\n",
       "[u_T6_y],\n",
       "[u_T7_x],\n",
       "[u_T7_y],\n",
       "[u_T8_x],\n",
       "[u_T8_y],\n",
       "[u_T9_x],\n",
       "[u_T9_y]]), Matrix([\n",
       "[    0],\n",
       "[f_ext],\n",
       "[    0],\n",
       "[    0],\n",
       "[    0],\n",
       "[    0],\n",
       "[    0],\n",
       "[    0],\n",
       "[    0],\n",
       "[    0],\n",
       "[    0],\n",
       "[    0],\n",
       "[    0],\n",
       "[    0],\n",
       "[    0],\n",
       "[    0],\n",
       "[    0],\n",
       "[    0],\n",
       "[    0],\n",
       "[    0],\n",
       "[    0],\n",
       "[    0],\n",
       "[    0],\n",
       "[    0],\n",
       "[    0],\n",
       "[    0],\n",
       "[    0],\n",
       "[    0],\n",
       "[    0],\n",
       "[    0],\n",
       "[    0],\n",
       "[    0],\n",
       "[    0],\n",
       "[    0],\n",
       "[    0],\n",
       "[    0],\n",
       "[    0],\n",
       "[    0]]))"
      ]
     },
     "execution_count": 66,
     "metadata": {},
     "output_type": "execute_result"
    }
   ],
   "source": [
    "Eq(MatMul(K_dense, u_dense, evaluate=False), f_dense)"
   ]
  },
  {
   "cell_type": "code",
   "execution_count": 67,
   "id": "4b314718",
   "metadata": {},
   "outputs": [],
   "source": [
    "eq = Eq(K_dense * u_dense, f_dense)"
   ]
  },
  {
   "cell_type": "code",
   "execution_count": 68,
   "id": "3f393811",
   "metadata": {},
   "outputs": [],
   "source": [
    "params = {\n",
    "    'L': 15.0 * ureg.cm,\n",
    "    'A': 1.0 * ureg.cm * 0.2 * ureg.cm,\n",
    "    'E': 3.0e9 * ureg.Pa,\n",
    "    'f_ext': -9.8 * ureg.newton,\n",
    "}"
   ]
  },
  {
   "cell_type": "code",
   "execution_count": 69,
   "id": "c5a1ad07",
   "metadata": {},
   "outputs": [],
   "source": [
    "syms = [L, A, E, f_ext]\n",
    "subs = make_subs(syms, params)"
   ]
  },
  {
   "cell_type": "code",
   "execution_count": 70,
   "id": "46f51814",
   "metadata": {},
   "outputs": [],
   "source": [
    "eqs_num = eq.subs(subs)"
   ]
  },
  {
   "cell_type": "code",
   "execution_count": 71,
   "id": "dbc4a70a",
   "metadata": {},
   "outputs": [
    {
     "data": {
      "text/plain": [
       "{u_B1_x: 0.0,\n",
       " u_B1_y: -0.000171500000000000,\n",
       " u_B2_x: 1.13160652761167e-5,\n",
       " u_B2_y: -0.000241733333333333,\n",
       " u_B3_x: 1.98031142332042e-5,\n",
       " u_B3_y: -0.000274400000000000,\n",
       " u_B4_x: 2.54611468712625e-5,\n",
       " u_B4_y: -0.000276033333333333,\n",
       " u_B5_x: 2.82901631902917e-5,\n",
       " u_B5_y: -0.000253166666666667,\n",
       " u_B6_x: 2.82901631902917e-5,\n",
       " u_B6_y: -0.000212333333333333,\n",
       " u_B7_x: 2.54611468712625e-5,\n",
       " u_B7_y: -0.000160066666666667,\n",
       " u_B8_x: 1.98031142332042e-5,\n",
       " u_B8_y: -0.000102900000000000,\n",
       " u_B9_x: 1.13160652761167e-5,\n",
       " u_B9_y: -4.73666666666667e-5,\n",
       " u_T0_x: 9.76010630065062e-5,\n",
       " u_T0_y: -8.57500000000000e-5,\n",
       " u_T1_x: 7.21399161352437e-5,\n",
       " u_T1_y: -0.000209883333333333,\n",
       " u_T2_x: 4.95077855830104e-5,\n",
       " u_T2_y: -0.000260516666666667,\n",
       " u_T3_x: 2.97046713498062e-5,\n",
       " u_T3_y: -0.000276850000000000,\n",
       " u_T4_x: 1.27305734356312e-5,\n",
       " u_T4_y: -0.000265416666666667,\n",
       " u_T5_x: -1.41450815951458e-6,\n",
       " u_T5_y: -0.000232750000000000,\n",
       " u_T6_x: -1.27305734356312e-5,\n",
       " u_T6_y: -0.000185383333333333,\n",
       " u_T7_x: -2.12176223927187e-5,\n",
       " u_T7_y: -0.000129850000000000,\n",
       " u_T8_x: -2.68756550307771e-5,\n",
       " u_T8_y: -7.26833333333333e-5,\n",
       " u_T9_x: -2.97046713498062e-5,\n",
       " u_T9_y: -2.04166666666667e-5}"
      ]
     },
     "execution_count": 71,
     "metadata": {},
     "output_type": "execute_result"
    }
   ],
   "source": [
    "sol = solve(eqs_num, u_dense)\n",
    "sol"
   ]
  },
  {
   "cell_type": "code",
   "execution_count": 72,
   "id": "5143ceb6",
   "metadata": {},
   "outputs": [
    {
     "data": {
      "text/latex": [
       "$\\displaystyle \\left[\\begin{matrix}\\left[\\begin{matrix}u_{B1 x}\\\\u_{B1 y}\\end{matrix}\\right]\\\\\\left[\\begin{matrix}u_{B2 x}\\\\u_{B2 y}\\end{matrix}\\right]\\\\\\left[\\begin{matrix}u_{B3 x}\\\\u_{B3 y}\\end{matrix}\\right]\\\\\\left[\\begin{matrix}u_{B4 x}\\\\u_{B4 y}\\end{matrix}\\right]\\\\\\left[\\begin{matrix}u_{B5 x}\\\\u_{B5 y}\\end{matrix}\\right]\\\\\\left[\\begin{matrix}u_{B6 x}\\\\u_{B6 y}\\end{matrix}\\right]\\\\\\left[\\begin{matrix}u_{B7 x}\\\\u_{B7 y}\\end{matrix}\\right]\\\\\\left[\\begin{matrix}u_{B8 x}\\\\u_{B8 y}\\end{matrix}\\right]\\\\\\left[\\begin{matrix}u_{B9 x}\\\\u_{B9 y}\\end{matrix}\\right]\\\\\\left[\\begin{matrix}u_{T0 x}\\\\u_{T0 y}\\end{matrix}\\right]\\\\\\left[\\begin{matrix}u_{T1 x}\\\\u_{T1 y}\\end{matrix}\\right]\\\\\\left[\\begin{matrix}u_{T2 x}\\\\u_{T2 y}\\end{matrix}\\right]\\\\\\left[\\begin{matrix}u_{T3 x}\\\\u_{T3 y}\\end{matrix}\\right]\\\\\\left[\\begin{matrix}u_{T4 x}\\\\u_{T4 y}\\end{matrix}\\right]\\\\\\left[\\begin{matrix}u_{T5 x}\\\\u_{T5 y}\\end{matrix}\\right]\\\\\\left[\\begin{matrix}u_{T6 x}\\\\u_{T6 y}\\end{matrix}\\right]\\\\\\left[\\begin{matrix}u_{T7 x}\\\\u_{T7 y}\\end{matrix}\\right]\\\\\\left[\\begin{matrix}u_{T8 x}\\\\u_{T8 y}\\end{matrix}\\right]\\\\\\left[\\begin{matrix}u_{T9 x}\\\\u_{T9 y}\\end{matrix}\\right]\\end{matrix}\\right] = \\left[\\begin{matrix}\\left[\\begin{matrix}0.0\\\\-0.0001715\\end{matrix}\\right]\\\\\\left[\\begin{matrix}1.13160652761167 \\cdot 10^{-5}\\\\-0.000241733333333333\\end{matrix}\\right]\\\\\\left[\\begin{matrix}1.98031142332042 \\cdot 10^{-5}\\\\-0.0002744\\end{matrix}\\right]\\\\\\left[\\begin{matrix}2.54611468712625 \\cdot 10^{-5}\\\\-0.000276033333333333\\end{matrix}\\right]\\\\\\left[\\begin{matrix}2.82901631902917 \\cdot 10^{-5}\\\\-0.000253166666666667\\end{matrix}\\right]\\\\\\left[\\begin{matrix}2.82901631902917 \\cdot 10^{-5}\\\\-0.000212333333333333\\end{matrix}\\right]\\\\\\left[\\begin{matrix}2.54611468712625 \\cdot 10^{-5}\\\\-0.000160066666666667\\end{matrix}\\right]\\\\\\left[\\begin{matrix}1.98031142332042 \\cdot 10^{-5}\\\\-0.0001029\\end{matrix}\\right]\\\\\\left[\\begin{matrix}1.13160652761167 \\cdot 10^{-5}\\\\-4.73666666666667 \\cdot 10^{-5}\\end{matrix}\\right]\\\\\\left[\\begin{matrix}9.76010630065062 \\cdot 10^{-5}\\\\-8.575 \\cdot 10^{-5}\\end{matrix}\\right]\\\\\\left[\\begin{matrix}7.21399161352437 \\cdot 10^{-5}\\\\-0.000209883333333333\\end{matrix}\\right]\\\\\\left[\\begin{matrix}4.95077855830104 \\cdot 10^{-5}\\\\-0.000260516666666667\\end{matrix}\\right]\\\\\\left[\\begin{matrix}2.97046713498062 \\cdot 10^{-5}\\\\-0.00027685\\end{matrix}\\right]\\\\\\left[\\begin{matrix}1.27305734356312 \\cdot 10^{-5}\\\\-0.000265416666666667\\end{matrix}\\right]\\\\\\left[\\begin{matrix}-1.41450815951458 \\cdot 10^{-6}\\\\-0.00023275\\end{matrix}\\right]\\\\\\left[\\begin{matrix}-1.27305734356312 \\cdot 10^{-5}\\\\-0.000185383333333333\\end{matrix}\\right]\\\\\\left[\\begin{matrix}-2.12176223927187 \\cdot 10^{-5}\\\\-0.00012985\\end{matrix}\\right]\\\\\\left[\\begin{matrix}-2.68756550307771 \\cdot 10^{-5}\\\\-7.26833333333333 \\cdot 10^{-5}\\end{matrix}\\right]\\\\\\left[\\begin{matrix}-2.97046713498062 \\cdot 10^{-5}\\\\-2.04166666666667 \\cdot 10^{-5}\\end{matrix}\\right]\\end{matrix}\\right]$"
      ],
      "text/plain": [
       "Eq(Matrix([\n",
       "[Matrix([\n",
       "[u_B1_x],\n",
       "[u_B1_y]])],\n",
       "[Matrix([\n",
       "[u_B2_x],\n",
       "[u_B2_y]])],\n",
       "[Matrix([\n",
       "[u_B3_x],\n",
       "[u_B3_y]])],\n",
       "[Matrix([\n",
       "[u_B4_x],\n",
       "[u_B4_y]])],\n",
       "[Matrix([\n",
       "[u_B5_x],\n",
       "[u_B5_y]])],\n",
       "[Matrix([\n",
       "[u_B6_x],\n",
       "[u_B6_y]])],\n",
       "[Matrix([\n",
       "[u_B7_x],\n",
       "[u_B7_y]])],\n",
       "[Matrix([\n",
       "[u_B8_x],\n",
       "[u_B8_y]])],\n",
       "[Matrix([\n",
       "[u_B9_x],\n",
       "[u_B9_y]])],\n",
       "[Matrix([\n",
       "[u_T0_x],\n",
       "[u_T0_y]])],\n",
       "[Matrix([\n",
       "[u_T1_x],\n",
       "[u_T1_y]])],\n",
       "[Matrix([\n",
       "[u_T2_x],\n",
       "[u_T2_y]])],\n",
       "[Matrix([\n",
       "[u_T3_x],\n",
       "[u_T3_y]])],\n",
       "[Matrix([\n",
       "[u_T4_x],\n",
       "[u_T4_y]])],\n",
       "[Matrix([\n",
       "[u_T5_x],\n",
       "[u_T5_y]])],\n",
       "[Matrix([\n",
       "[u_T6_x],\n",
       "[u_T6_y]])],\n",
       "[Matrix([\n",
       "[u_T7_x],\n",
       "[u_T7_y]])],\n",
       "[Matrix([\n",
       "[u_T8_x],\n",
       "[u_T8_y]])],\n",
       "[Matrix([\n",
       "[u_T9_x],\n",
       "[u_T9_y]])]]), Matrix([\n",
       "[                      Matrix([\n",
       "[       0.0],\n",
       "[-0.0001715]])],\n",
       "[Matrix([\n",
       "[  1.13160652761167e-5],\n",
       "[-0.000241733333333333]])],\n",
       "[    Matrix([\n",
       "[1.98031142332042e-5],\n",
       "[         -0.0002744]])],\n",
       "[Matrix([\n",
       "[  2.54611468712625e-5],\n",
       "[-0.000276033333333333]])],\n",
       "[Matrix([\n",
       "[  2.82901631902917e-5],\n",
       "[-0.000253166666666667]])],\n",
       "[Matrix([\n",
       "[  2.82901631902917e-5],\n",
       "[-0.000212333333333333]])],\n",
       "[Matrix([\n",
       "[  2.54611468712625e-5],\n",
       "[-0.000160066666666667]])],\n",
       "[    Matrix([\n",
       "[1.98031142332042e-5],\n",
       "[         -0.0001029]])],\n",
       "[  Matrix([\n",
       "[ 1.13160652761167e-5],\n",
       "[-4.73666666666667e-5]])],\n",
       "[    Matrix([\n",
       "[9.76010630065062e-5],\n",
       "[          -8.575e-5]])],\n",
       "[Matrix([\n",
       "[  7.21399161352437e-5],\n",
       "[-0.000209883333333333]])],\n",
       "[Matrix([\n",
       "[  4.95077855830104e-5],\n",
       "[-0.000260516666666667]])],\n",
       "[    Matrix([\n",
       "[2.97046713498062e-5],\n",
       "[        -0.00027685]])],\n",
       "[Matrix([\n",
       "[  1.27305734356312e-5],\n",
       "[-0.000265416666666667]])],\n",
       "[  Matrix([\n",
       "[-1.41450815951458e-6],\n",
       "[         -0.00023275]])],\n",
       "[Matrix([\n",
       "[ -1.27305734356312e-5],\n",
       "[-0.000185383333333333]])],\n",
       "[  Matrix([\n",
       "[-2.12176223927187e-5],\n",
       "[         -0.00012985]])],\n",
       "[  Matrix([\n",
       "[-2.68756550307771e-5],\n",
       "[-7.26833333333333e-5]])],\n",
       "[  Matrix([\n",
       "[-2.97046713498062e-5],\n",
       "[-2.04166666666667e-5]])]]))"
      ]
     },
     "execution_count": 72,
     "metadata": {},
     "output_type": "execute_result"
    }
   ],
   "source": [
    "Eq(u_block, u_block.subs(sol))"
   ]
  },
  {
   "cell_type": "code",
   "execution_count": 73,
   "id": "00981754",
   "metadata": {},
   "outputs": [],
   "source": [
    "G_sol = G.copy()\n",
    "scale = 300\n",
    "\n",
    "for node in G_sol.nodes:\n",
    "    pos = gget(G_sol, node, 'pos')\n",
    "    u = gget(G_sol, node, 'disp')\n",
    "    u_eval = u.subs(sol).evalf() * scale\n",
    "    pos_new = pos + u_eval\n",
    "    gset(G_sol, node, pos=pos_new)"
   ]
  },
  {
   "cell_type": "code",
   "execution_count": 74,
   "id": "4cfaa060",
   "metadata": {},
   "outputs": [
    {
     "data": {
      "image/png": "[encoded data removed]",
      "text/plain": [
       "<Figure size 450x262.5 with 1 Axes>"
      ]
     },
     "metadata": {},
     "output_type": "display_data"
    }
   ],
   "source": [
    "subs = {L: 0.15}\n",
    "draw_truss(G, subs, label_nodes=False, alpha=0.3)\n",
    "draw_truss(G_sol, subs)"
   ]
  },
  {
   "cell_type": "markdown",
   "id": "7f1e5266",
   "metadata": {},
   "source": [
    "## Discussion\n",
    "\n",
    "When I was an undergraduate, I took a class where we learned to analyze trusses.\n",
    "One of my classmates asked a question that I'm not sure I appreciated at the time, but it has stuck with me.\n",
    "To paraphrase, he asked, \"Do we design trusses because they are optimal, or because they are easy to analyze?\"\n",
    "I have come to realize tat this is a really good question.\n",
    "\n",
    "As you might guess, the answer is both.\n",
    "If your goal is to build a structure that supports a given load with a minimum amount of material, a truss may not be optimal -- with the complexity of real-world requirements and constraints, it's  generally impossible say what \"optimal\" even means.\n",
    "But for many applications, a truss is a fundamentally good design.\n",
    "\n",
    "It is also easy to analyze, but that is not as important as it used to be.\n",
    "Before we had computers, we analyzed structures by hand, so we had to keep them simple.\n",
    "When I was an undergraduate, we had enough compute power and software capability to analyze more complex structures, but what we could design was still limited by what we could analyze.\n",
    "\n",
    "Now it is possible to analyze almost anything we can imagine, so analysis is no longer the limiting factor on what we can design and build.\n",
    "But this is a recent change, and we are only beginning to see its consequences."
   ]
  },
  {
   "cell_type": "markdown",
   "id": "e27da3a4",
   "metadata": {
    "tags": [
     "remove-print"
    ]
   },
   "source": [
    "[Think Linear Algebra](https://allendowney.github.io/ThinkLinearAlgebra/index.html)\n",
    "\n",
    "Copyright 2025 [Allen B. Downey](https://allendowney.com)\n",
    "\n",
    "Code license: [MIT License](https://mit-license.org/)\n",
    "\n",
    "Text license: [Creative Commons Attribution-NonCommercial-ShareAlike 4.0 International](https://creativecommons.org/licenses/by-nc-sa/4.0/)"
   ]
  },
  {
   "cell_type": "code",
   "execution_count": null,
   "id": "c8b4e400-dc97-498e-9016-3e9ef05dc7a3",
   "metadata": {},
   "outputs": [],
   "source": []
  }
 ],
 "metadata": {
  "celltoolbar": "Tags",
  "kernelspec": {
   "display_name": "Python 3 (ipykernel)",
   "language": "python",
   "name": "python3"
  },
  "language_info": {
   "codemirror_mode": {
    "name": "ipython",
    "version": 3
   },
   "file_extension": ".py",
   "mimetype": "text/x-python",
   "name": "python",
   "nbconvert_exporter": "python",
   "pygments_lexer": "ipython3",
   "version": "3.10.16"
  }
 },
 "nbformat": 4,
 "nbformat_minor": 5
}
