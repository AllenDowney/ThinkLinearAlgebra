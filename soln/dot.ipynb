{
 "cells": [
  {
   "cell_type": "markdown",
   "id": "025b76df",
   "metadata": {},
   "source": [
    "*Think Linear Algebra* is not for sale yet, but if you would like to support this project, you can [buy me a coffee](https://buymeacoffee.com/allendowney)."
   ]
  },
  {
   "cell_type": "markdown",
   "id": "85c30bdb",
   "metadata": {},
   "source": [
    "# Dot Product\n",
    "\n"
   ]
  },
  {
   "cell_type": "markdown",
   "id": "3893fe82",
   "metadata": {
    "tags": [
     "remove-print"
    ]
   },
   "source": [
    "[Click here to run this notebook on Colab](https://colab.research.google.com/github/AllenDowney/ThinkLinearAlgebra/blob/main/nb/dot.ipynb)."
   ]
  },
  {
   "cell_type": "code",
   "execution_count": 1,
   "id": "3bb1c675",
   "metadata": {
    "tags": [
     "remove-print",
     "hide-cell"
    ]
   },
   "outputs": [],
   "source": [
    "%load_ext autoreload\n",
    "%autoreload 2"
   ]
  },
  {
   "cell_type": "code",
   "execution_count": 2,
   "id": "02d400cf",
   "metadata": {
    "tags": [
     "remove-print",
     "hide-cell"
    ]
   },
   "outputs": [],
   "source": [
    "from os.path import basename, exists\n",
    "\n",
    "\n",
    "def download(url):\n",
    "    filename = basename(url)\n",
    "    if not exists(filename):\n",
    "        from urllib.request import urlretrieve\n",
    "\n",
    "        local, _ = urlretrieve(url, filename)\n",
    "        print(\"Downloaded \" + local)\n",
    "\n",
    "\n",
    "download(\"https://github.com/AllenDowney/ThinkLinearAlgebra/raw/main/utils.py\")"
   ]
  },
  {
   "cell_type": "code",
   "execution_count": 3,
   "id": "1a3119be",
   "metadata": {
    "tags": [
     "hide-cell",
     "remove-print"
    ]
   },
   "outputs": [],
   "source": [
    "import numpy as np\n",
    "import pandas as pd\n",
    "import matplotlib.pyplot as plt\n",
    "\n",
    "from utils import decorate"
   ]
  },
  {
   "cell_type": "code",
   "execution_count": 70,
   "id": "d9319226",
   "metadata": {},
   "outputs": [],
   "source": [
    "from utils import set_precision\n",
    "\n",
    "set_precision(4)"
   ]
  },
  {
   "cell_type": "markdown",
   "id": "5d6febee",
   "metadata": {},
   "source": [
    "## Polar Coordinates\n",
    "\n",
    "Let's start with a two-dimensional vector, `v`."
   ]
  },
  {
   "cell_type": "code",
   "execution_count": 369,
   "id": "ecfccf8e",
   "metadata": {},
   "outputs": [
    {
     "data": {
      "text/plain": [
       "array([1.2, 2.7])"
      ]
     },
     "execution_count": 369,
     "metadata": {},
     "output_type": "execute_result"
    }
   ],
   "source": [
    "x, y = 1.2, 2.7\n",
    "v = np.array([x, y])\n",
    "v"
   ]
  },
  {
   "cell_type": "markdown",
   "id": "82b15192",
   "metadata": {},
   "source": [
    "Here's the graphical representation of this vector as an arrow with its tail at the origin and its head at the point $(1.5, 2)$ in Cartesian coordinates. "
   ]
  },
  {
   "cell_type": "code",
   "execution_count": 408,
   "id": "9fdc6bae",
   "metadata": {},
   "outputs": [
    {
     "data": {
      "image/png": "[encoded data removed]",
      "text/plain": [
       "<Figure size 450x262.5 with 1 Axes>"
      ]
     },
     "metadata": {},
     "output_type": "display_data"
    }
   ],
   "source": [
    "plot_vectors(v)\n",
    "plt.plot([0, x, x], [0, 0, y], ':', color='gray')\n",
    "lim = [-0.1, 3.1]\n",
    "decorate(aspect='equal', xlim=lim, ylim=lim)\n",
    "remove_spines()"
   ]
  },
  {
   "cell_type": "markdown",
   "id": "c1609a16",
   "metadata": {},
   "source": [
    "To compute the length of this vector, we can use the Pythagorean formula to compute the hypotenuse of a right triangle with side lengths $1.5$ and $2$."
   ]
  },
  {
   "cell_type": "code",
   "execution_count": 409,
   "id": "e1c8de31",
   "metadata": {},
   "outputs": [
    {
     "data": {
      "text/plain": [
       "2.9547"
      ]
     },
     "execution_count": 409,
     "metadata": {},
     "output_type": "execute_result"
    }
   ],
   "source": [
    "x, y = v\n",
    "np.sqrt(x**2 + y**2)"
   ]
  },
  {
   "cell_type": "markdown",
   "id": "729f7c00",
   "metadata": {},
   "source": [
    "Or the `hypot` function does the same thing."
   ]
  },
  {
   "cell_type": "code",
   "execution_count": 410,
   "id": "8b15e265",
   "metadata": {},
   "outputs": [
    {
     "data": {
      "text/plain": [
       "2.9547"
      ]
     },
     "execution_count": 410,
     "metadata": {},
     "output_type": "execute_result"
    }
   ],
   "source": [
    "np.hypot(x, y)"
   ]
  },
  {
   "cell_type": "markdown",
   "id": "e643dcab",
   "metadata": {},
   "source": [
    "The length of a vector is called a `norm` -- to be more precise, the length we computed is the 2-norm.\n",
    "NumPy provides a function that computes it, and it works with any number of dimensions."
   ]
  },
  {
   "cell_type": "code",
   "execution_count": 411,
   "id": "34b8ad06",
   "metadata": {},
   "outputs": [
    {
     "data": {
      "text/plain": [
       "2.9547"
      ]
     },
     "execution_count": 411,
     "metadata": {},
     "output_type": "execute_result"
    }
   ],
   "source": [
    "from numpy.linalg import norm\n",
    "\n",
    "norm(v)"
   ]
  },
  {
   "cell_type": "markdown",
   "id": "96e401a1",
   "metadata": {},
   "source": [
    "To represent the direction of the vector, we'll use the angle it forms with the positive $x$ axis, which we can compute using the inverse tangent function, `arctan2`."
   ]
  },
  {
   "cell_type": "code",
   "execution_count": 412,
   "id": "1c6a356e",
   "metadata": {},
   "outputs": [
    {
     "data": {
      "text/plain": [
       "1.1526"
      ]
     },
     "execution_count": 412,
     "metadata": {},
     "output_type": "execute_result"
    }
   ],
   "source": [
    "theta = np.arctan2(y, x)\n",
    "theta"
   ]
  },
  {
   "cell_type": "markdown",
   "id": "6def515c",
   "metadata": {},
   "source": [
    "The length and angle we just computed represent the vector in polar coordinates.\n",
    "We'll use the following function to convert from Cartesian to polar coordinates."
   ]
  },
  {
   "cell_type": "code",
   "execution_count": 413,
   "id": "aa79607c",
   "metadata": {},
   "outputs": [],
   "source": [
    "def cart2pol(v):\n",
    "    x, y = np.transpose(v)\n",
    "    r = np.hypot(x, y)\n",
    "    theta = np.arctan2(y, x)\n",
    "    return r, theta"
   ]
  },
  {
   "cell_type": "markdown",
   "id": "d4f3a351",
   "metadata": {},
   "source": [
    "Here's the polar representation of `v`."
   ]
  },
  {
   "cell_type": "code",
   "execution_count": 414,
   "id": "3a17874e",
   "metadata": {},
   "outputs": [
    {
     "data": {
      "text/plain": [
       "(2.9547, 1.1526)"
      ]
     },
     "execution_count": 414,
     "metadata": {},
     "output_type": "execute_result"
    }
   ],
   "source": [
    "r, theta = cart2pol(v)\n",
    "r, theta"
   ]
  },
  {
   "cell_type": "markdown",
   "id": "202b3ebb",
   "metadata": {},
   "source": [
    "## Projection With Polar Coordinates\n",
    "\n",
    "Projection might be the most important idea in linear algebra.\n",
    "To introduce the idea, we'll start by computing the **scalar projection** of `v` onto the $x$ axis, which you can think of as the shadow `v` would cast on the $x$ axis if lighted from above.\n",
    "By the rules of trigonometry, we can compute it like this."
   ]
  },
  {
   "cell_type": "code",
   "execution_count": 415,
   "id": "71b414f8",
   "metadata": {},
   "outputs": [
    {
     "data": {
      "text/plain": [
       "1.2000"
      ]
     },
     "execution_count": 415,
     "metadata": {},
     "output_type": "execute_result"
    }
   ],
   "source": [
    "scalar_proj_x = r * np.cos(theta)\n",
    "scalar_proj_x"
   ]
  },
  {
   "cell_type": "markdown",
   "id": "32c9620a",
   "metadata": {},
   "source": [
    "Similarly, we can compute the projection of `v` onto the $y$ axis."
   ]
  },
  {
   "cell_type": "code",
   "execution_count": 416,
   "id": "e036a2e3",
   "metadata": {},
   "outputs": [
    {
     "data": {
      "text/plain": [
       "2.7000"
      ]
     },
     "execution_count": 416,
     "metadata": {},
     "output_type": "execute_result"
    }
   ],
   "source": [
    "scalar_proj_y = r * np.sin(theta)\n",
    "scalar_proj_y"
   ]
  },
  {
   "cell_type": "markdown",
   "id": "01a14942",
   "metadata": {},
   "source": [
    "You might notice that these scalar projection are the coordinates of `v`.\n",
    "So we have found a way to convert polar to Cartesian coordinates, which we can wrap in a function."
   ]
  },
  {
   "cell_type": "code",
   "execution_count": 417,
   "id": "acdb301c",
   "metadata": {},
   "outputs": [],
   "source": [
    "def pol2cart(r, theta):\n",
    "    return r * np.array([np.cos(theta), np.sin(theta)])"
   ]
  },
  {
   "cell_type": "code",
   "execution_count": 418,
   "id": "236af45e",
   "metadata": {},
   "outputs": [
    {
     "data": {
      "text/plain": [
       "array([1.2, 2.7])"
      ]
     },
     "execution_count": 418,
     "metadata": {},
     "output_type": "execute_result"
    }
   ],
   "source": [
    "pol2cart(r, theta)"
   ]
  },
  {
   "cell_type": "markdown",
   "id": "097d2c6e",
   "metadata": {},
   "source": [
    "Scalar projection is so called because it is a scalar -- that is, a single number, not a vector.\n",
    "Often it is also useful to compute a **vector projection**.\n",
    "The vector projection of `v` onto `u` is a vector whose length is the scalar projection and whose direction is the direction of `u`.\n",
    "\n",
    "To compute the vector projection of `v` onto the $x$ and $y$ axes, we'll define unit vectors that point along the axes.\n"
   ]
  },
  {
   "cell_type": "code",
   "execution_count": 419,
   "id": "3f0ead18",
   "metadata": {},
   "outputs": [],
   "source": [
    "x_hat = np.array([1, 0])\n",
    "y_hat = np.array([0, 1])"
   ]
  },
  {
   "cell_type": "markdown",
   "id": "78171679",
   "metadata": {},
   "source": [
    "And multiply them by the scalar projections we just computed."
   ]
  },
  {
   "cell_type": "code",
   "execution_count": 420,
   "id": "63210437",
   "metadata": {},
   "outputs": [],
   "source": [
    "vector_proj_x = scalar_proj_x * x_hat\n",
    "vector_proj_y = scalar_proj_y * y_hat"
   ]
  },
  {
   "cell_type": "markdown",
   "id": "ca886fb8",
   "metadata": {},
   "source": [
    "The following figure shows `v` and these vector projections."
   ]
  },
  {
   "cell_type": "code",
   "execution_count": 423,
   "id": "9e6138d1",
   "metadata": {},
   "outputs": [
    {
     "data": {
      "image/png": "[encoded data removed]",
      "text/plain": [
       "<Figure size 450x262.5 with 1 Axes>"
      ]
     },
     "metadata": {},
     "output_type": "display_data"
    }
   ],
   "source": [
    "from utils import plot_rejection, remove_spines\n",
    "\n",
    "plot_vectors([vector_proj_x, vector_proj_y], color='C1')\n",
    "plot_vectors(v)\n",
    "plot_rejection(v, x_hat)\n",
    "plot_rejection(v, y_hat)\n",
    "decorate(aspect='equal', xlim=lim, ylim=lim)\n",
    "remove_spines()"
   ]
  },
  {
   "cell_type": "markdown",
   "id": "07af7b38",
   "metadata": {},
   "source": [
    "In the example so far, it might seem like we've gone in a circle.\n",
    "We converted `v` from Cartesian to polar coordinates and then back to Cartesian coordinates.\n",
    "\n",
    "That might not be useful, but I hope it demonstrates the concept of projection.\n",
    "Now let's do something that will turn out to be surprisingly useful, projecting one vector onto another.\n",
    "To demonstrate, here's another vector, `u`, in Cartesian coordinates."
   ]
  },
  {
   "cell_type": "code",
   "execution_count": 424,
   "id": "98bcddad",
   "metadata": {},
   "outputs": [],
   "source": [
    "u = np.array([3, 1])"
   ]
  },
  {
   "cell_type": "markdown",
   "id": "8c20007c",
   "metadata": {},
   "source": [
    "Here's a graphical representation of `v` and `u`, and a dotted line that shows the shadow of `v` on `u`, lit from a point on a line perpendicular to `u`.\n",
    "That's the projection we'll compute -- and we'll do it two ways."
   ]
  },
  {
   "cell_type": "code",
   "execution_count": 425,
   "id": "6a75ea81",
   "metadata": {},
   "outputs": [
    {
     "data": {
      "image/png": "[encoded data removed]",
      "text/plain": [
       "<Figure size 450x262.5 with 1 Axes>"
      ]
     },
     "metadata": {},
     "output_type": "display_data"
    }
   ],
   "source": [
    "plot_vectors([v, u], color='C1', labels='vu')\n",
    "plot_rejection(v, u)\n",
    "decorate(aspect='equal', xlim=lim, ylim=lim)\n",
    "remove_spines()"
   ]
  },
  {
   "cell_type": "markdown",
   "id": "c91c7fc3",
   "metadata": {},
   "source": [
    "The first way is to convert `u` and `v` to polar coordinates."
   ]
  },
  {
   "cell_type": "code",
   "execution_count": 426,
   "id": "d442cefa",
   "metadata": {},
   "outputs": [
    {
     "data": {
      "text/plain": [
       "array([3.1623, 2.9547])"
      ]
     },
     "execution_count": 426,
     "metadata": {},
     "output_type": "execute_result"
    }
   ],
   "source": [
    "rs, thetas = cart2pol([u, v])\n",
    "rs"
   ]
  },
  {
   "cell_type": "markdown",
   "id": "2dca1b45",
   "metadata": {},
   "source": [
    "`thetas` contains two angles: from `v` to the $x$ axis, and from `u` to the $x$ axis."
   ]
  },
  {
   "cell_type": "code",
   "execution_count": 427,
   "id": "9bb4a7b5",
   "metadata": {},
   "outputs": [
    {
     "data": {
      "text/plain": [
       "array([0.3218, 1.1526])"
      ]
     },
     "execution_count": 427,
     "metadata": {},
     "output_type": "execute_result"
    }
   ],
   "source": [
    "thetas"
   ]
  },
  {
   "cell_type": "markdown",
   "id": "9dee2748",
   "metadata": {},
   "source": [
    "So the difference is the angle between the vectors -- which the following function computes."
   ]
  },
  {
   "cell_type": "code",
   "execution_count": 428,
   "id": "be5bc541",
   "metadata": {},
   "outputs": [],
   "source": [
    "def angle_between(u, v):\n",
    "    rs, thetas = cart2pol([u, v])\n",
    "    return np.diff(thetas)"
   ]
  },
  {
   "cell_type": "code",
   "execution_count": 429,
   "id": "2c187baa",
   "metadata": {},
   "outputs": [],
   "source": [
    "theta = angle_between(u, v)"
   ]
  },
  {
   "cell_type": "markdown",
   "id": "5d94231a",
   "metadata": {},
   "source": [
    "If you look again at the previous figure, you'll see why this angle is useful.\n",
    "It is the angle of a right triangle whose hypotenuse is the length of `v`.\n",
    "So the length of the adjacent side is $||v|| \\cos \\theta$."
   ]
  },
  {
   "cell_type": "code",
   "execution_count": 430,
   "id": "bf75eddd",
   "metadata": {},
   "outputs": [
    {
     "data": {
      "text/plain": [
       "array([1.9922])"
      ]
     },
     "execution_count": 430,
     "metadata": {},
     "output_type": "execute_result"
    }
   ],
   "source": [
    "comp_v_on_u = norm(v) * np.cos(theta)\n",
    "comp_v_on_u"
   ]
  },
  {
   "cell_type": "markdown",
   "id": "7cfe2cde",
   "metadata": {},
   "source": [
    "Now, to find the vector projection, we can multiply the scalar projection by a unit vector in the direction of `u`."
   ]
  },
  {
   "cell_type": "code",
   "execution_count": 431,
   "id": "048ec206",
   "metadata": {},
   "outputs": [
    {
     "data": {
      "text/plain": [
       "array([1.89, 0.63])"
      ]
     },
     "execution_count": 431,
     "metadata": {},
     "output_type": "execute_result"
    }
   ],
   "source": [
    "u_hat = u / norm(u)\n",
    "proj_v_on_u = comp_v_on_u * u_hat\n",
    "proj_v_on_u"
   ]
  },
  {
   "cell_type": "markdown",
   "id": "5c36e677",
   "metadata": {},
   "source": [
    "The following figure shows the result."
   ]
  },
  {
   "cell_type": "code",
   "execution_count": 432,
   "id": "b8ed46b5",
   "metadata": {},
   "outputs": [
    {
     "data": {
      "image/png": "[encoded data removed]",
      "text/plain": [
       "<Figure size 450x262.5 with 1 Axes>"
      ]
     },
     "metadata": {},
     "output_type": "display_data"
    }
   ],
   "source": [
    "plot_vectors([v, u], color='C1', labels='vu')\n",
    "plot_rejection(v, u)\n",
    "plot_vector(proj_v_on_u, color='C4', alpha=0.9, label='$proj_u(v)$', label_pos=1)\n",
    "decorate(aspect='equal', xlim=lim, ylim=lim)\n",
    "remove_spines()"
   ]
  },
  {
   "cell_type": "markdown",
   "id": "2d9b19bc",
   "metadata": {},
   "source": [
    "To summarize, if we have vectors in polar coordinates, we can compute the projection of one vector onto the other by computing the angle between them and using trigonometry.\n",
    "\n",
    "But what if we have vectors in Cartesian coordinates?\n",
    "Of course, we could convert to polar coordinates and then use the first method.\n",
    "But it turns out there is a shortcut, which we'll discover with some help from SymPy."
   ]
  },
  {
   "cell_type": "markdown",
   "id": "757149c2",
   "metadata": {},
   "source": [
    "## Projection With Cartesian Coordinates\n",
    "\n",
    "Let's define symbolic versions of the vectors `u` and `v`."
   ]
  },
  {
   "cell_type": "code",
   "execution_count": 442,
   "id": "07029298",
   "metadata": {},
   "outputs": [
    {
     "data": {
      "text/latex": [
       "$\\displaystyle \\left[\\begin{matrix}u_{x}\\\\u_{y}\\end{matrix}\\right]$"
      ],
      "text/plain": [
       "Matrix([\n",
       "[u_x],\n",
       "[u_y]])"
      ]
     },
     "execution_count": 442,
     "metadata": {},
     "output_type": "execute_result"
    }
   ],
   "source": [
    "import sympy as sp\n",
    "\n",
    "ux, uy, vx, vy = sp.symbols('u_x u_y v_x v_y', real=True)\n",
    "\n",
    "v_sym = Matrix([vx, vy])\n",
    "u_sym = Matrix([ux, uy])\n",
    "u_sym"
   ]
  },
  {
   "cell_type": "markdown",
   "id": "699ebf9d",
   "metadata": {},
   "source": [
    "And convert them to polar coordinates."
   ]
  },
  {
   "cell_type": "code",
   "execution_count": 445,
   "id": "6a54910c",
   "metadata": {},
   "outputs": [],
   "source": [
    "r_v = v_sym.norm()\n",
    "theta_v = sp.atan2(vy, vx)\n",
    "\n",
    "r_u = u_sym.norm()\n",
    "theta_u = sp.atan2(uy, ux)"
   ]
  },
  {
   "cell_type": "code",
   "execution_count": 443,
   "id": "88d77d57",
   "metadata": {},
   "outputs": [
    {
     "data": {
      "text/latex": [
       "$\\displaystyle \\sqrt{u_{x}^{2} + u_{y}^{2}}$"
      ],
      "text/plain": [
       "sqrt(u_x**2 + u_y**2)"
      ]
     },
     "execution_count": 443,
     "metadata": {},
     "output_type": "execute_result"
    }
   ],
   "source": [
    "r_u"
   ]
  },
  {
   "cell_type": "code",
   "execution_count": 444,
   "id": "40a0d6ec",
   "metadata": {},
   "outputs": [
    {
     "data": {
      "text/latex": [
       "$\\displaystyle \\operatorname{atan}_{2}{\\left(u_{y},u_{x} \\right)}$"
      ],
      "text/plain": [
       "atan2(u_y, u_x)"
      ]
     },
     "execution_count": 444,
     "metadata": {},
     "output_type": "execute_result"
    }
   ],
   "source": [
    "theta_u"
   ]
  },
  {
   "cell_type": "markdown",
   "id": "46fe5078",
   "metadata": {},
   "source": [
    "Now we can compute the scalar projection of `v` onto `u`."
   ]
  },
  {
   "cell_type": "code",
   "execution_count": 436,
   "id": "85fd459d",
   "metadata": {},
   "outputs": [
    {
     "data": {
      "text/latex": [
       "$\\displaystyle \\sqrt{v_{x}^{2} + v_{y}^{2}} \\cos{\\left(\\operatorname{atan}_{2}{\\left(u_{y},u_{x} \\right)} - \\operatorname{atan}_{2}{\\left(v_{y},v_{x} \\right)} \\right)}$"
      ],
      "text/plain": [
       "sqrt(v_x**2 + v_y**2)*cos(atan2(u_y, u_x) - atan2(v_y, v_x))"
      ]
     },
     "execution_count": 436,
     "metadata": {},
     "output_type": "execute_result"
    }
   ],
   "source": [
    "proj_expr = r_v * sp.cos(theta_v - theta_u)\n",
    "proj_expr"
   ]
  },
  {
   "cell_type": "markdown",
   "id": "c76814e4",
   "metadata": {},
   "source": [
    "It's not obvious we have done anything useful, but the expression applies a trig function (cosine) to the inverse of another trig function (tangent), which suggests that there might be a simpler form.\n",
    "Fortunately, SymPy knows the trigonometric identities, and it can simplify the expression."
   ]
  },
  {
   "cell_type": "code",
   "execution_count": 437,
   "id": "385b2efb",
   "metadata": {},
   "outputs": [
    {
     "data": {
      "text/latex": [
       "$\\displaystyle \\frac{u_{x} v_{x} + u_{y} v_{y}}{\\sqrt{u_{x}^{2} + u_{y}^{2}}}$"
      ],
      "text/plain": [
       "(u_x*v_x + u_y*v_y)/sqrt(u_x**2 + u_y**2)"
      ]
     },
     "execution_count": 437,
     "metadata": {},
     "output_type": "execute_result"
    }
   ],
   "source": [
    "proj_expr.simplify()"
   ]
  },
  {
   "cell_type": "markdown",
   "id": "1bf6a213",
   "metadata": {},
   "source": [
    "The denominator is the norm of `u`, and the numerator is the dot product of `u` and `v`, so we can compute the scalar projection like this."
   ]
  },
  {
   "cell_type": "code",
   "execution_count": 438,
   "id": "7f0b4f43",
   "metadata": {},
   "outputs": [
    {
     "data": {
      "text/latex": [
       "$\\displaystyle \\frac{u_{x} v_{x} + u_{y} v_{y}}{\\sqrt{u_{x}^{2} + u_{y}^{2}}}$"
      ],
      "text/plain": [
       "(u_x*v_x + u_y*v_y)/sqrt(u_x**2 + u_y**2)"
      ]
     },
     "execution_count": 438,
     "metadata": {},
     "output_type": "execute_result"
    }
   ],
   "source": [
    "u_sym.dot(v_sym) / u_sym.norm()"
   ]
  },
  {
   "cell_type": "markdown",
   "id": "984bbd94",
   "metadata": {},
   "source": [
    "Let's put that in a function we can use with NumPy arrays."
   ]
  },
  {
   "cell_type": "code",
   "execution_count": 439,
   "id": "e1b9d1fd",
   "metadata": {},
   "outputs": [],
   "source": [
    "def scalar_projection(a, b):\n",
    "    return np.dot(a, b) / norm(b)"
   ]
  },
  {
   "cell_type": "markdown",
   "id": "51dee2d4",
   "metadata": {},
   "source": [
    "If we test it with `v` and `u`, the result is what we got using polar coordinates."
   ]
  },
  {
   "cell_type": "code",
   "execution_count": 440,
   "id": "cf0f1906",
   "metadata": {},
   "outputs": [
    {
     "data": {
      "text/plain": [
       "1.9922"
      ]
     },
     "execution_count": 440,
     "metadata": {},
     "output_type": "execute_result"
    }
   ],
   "source": [
    "comp_v_on_u = scalar_projection(v, u)\n",
    "comp_v_on_u"
   ]
  },
  {
   "cell_type": "markdown",
   "id": "875b256e",
   "metadata": {},
   "source": [
    "Similarly, we can use the following function to compute the vector projection."
   ]
  },
  {
   "cell_type": "code",
   "execution_count": 441,
   "id": "fd8d0903",
   "metadata": {},
   "outputs": [],
   "source": [
    "def vector_projection(a, b):\n",
    "    b_hat = b / norm(b)\n",
    "    return np.dot(a, b_hat) * b_hat"
   ]
  },
  {
   "cell_type": "markdown",
   "id": "d2acd7b8",
   "metadata": {},
   "source": [
    "And the result is what we got using polar coordinates."
   ]
  },
  {
   "cell_type": "code",
   "execution_count": 402,
   "id": "66fa3db5",
   "metadata": {},
   "outputs": [
    {
     "data": {
      "text/plain": [
       "array([1.89, 0.63])"
      ]
     },
     "execution_count": 402,
     "metadata": {},
     "output_type": "execute_result"
    }
   ],
   "source": [
    "proj_v_on_u = vector_projection(v, u)\n",
    "proj_v_on_u"
   ]
  },
  {
   "cell_type": "markdown",
   "id": "bf9327ae",
   "metadata": {},
   "source": [
    "Because the definition of projection involves trigonometry, it might be surprising that we can compute it using only the components of the vectors, with no trigonometric functions.\n",
    "It might make more sense if you recall that the components of the vectors are projections onto the $x$ and $y$ axes.\n",
    "\n",
    "The following figure suggests a way to think about the dot product in terms of projections.\n",
    "If we multiply the $x$ coordinates of `u` and `v`, the product quantifies the combined magnitude of the vectors' projections on the $x$ axis.\n",
    "Similarly, the product of their $y$ coordinates represents the combined magnitude of their projections on the $y$ axis.\n",
    "Then the sum of the products combines the components of the projection."
   ]
  },
  {
   "cell_type": "code",
   "execution_count": 403,
   "id": "2bf179c0",
   "metadata": {},
   "outputs": [
    {
     "data": {
      "image/png": "[encoded data removed]",
      "text/plain": [
       "<Figure size 450x262.5 with 1 Axes>"
      ]
     },
     "metadata": {},
     "output_type": "display_data"
    }
   ],
   "source": [
    "plot_vectors([v, u], color='C1', labels='vu')\n",
    "for a in [u, v]:\n",
    "    for b in [x_hat, y_hat]:\n",
    "        plot_rejection(a, b)\n",
    "\n",
    "decorate(aspect='equal', xlim=lim, ylim=lim)\n",
    "remove_spines()"
   ]
  },
  {
   "cell_type": "markdown",
   "id": "7b38130f",
   "metadata": {},
   "source": [
    "Notice that the dot product is commutative, so `u @ v` and `v @ u` are the same."
   ]
  },
  {
   "cell_type": "code",
   "execution_count": 404,
   "id": "ab3db49c",
   "metadata": {},
   "outputs": [
    {
     "data": {
      "text/plain": [
       "True"
      ]
     },
     "execution_count": 404,
     "metadata": {},
     "output_type": "execute_result"
    }
   ],
   "source": [
    "np.allclose(u @ v, v @ u)"
   ]
  },
  {
   "cell_type": "markdown",
   "id": "a3e5b820",
   "metadata": {},
   "source": [
    "But scalar projection is not commutative, so the projection of `u` onto `v` is not the same as the projection of `v` onto `u`."
   ]
  },
  {
   "cell_type": "code",
   "execution_count": 405,
   "id": "7444a7bc",
   "metadata": {},
   "outputs": [
    {
     "data": {
      "text/plain": [
       "(2.1322, 1.9922)"
      ]
     },
     "execution_count": 405,
     "metadata": {},
     "output_type": "execute_result"
    }
   ],
   "source": [
    "scalar_projection(u, v), scalar_projection(v, u)"
   ]
  },
  {
   "cell_type": "code",
   "execution_count": 406,
   "id": "020e27e5",
   "metadata": {},
   "outputs": [],
   "source": [
    "proj_u_on_v = vector_projection(u, v)"
   ]
  },
  {
   "cell_type": "code",
   "execution_count": 407,
   "id": "632b5006",
   "metadata": {},
   "outputs": [
    {
     "data": {
      "image/png": "[encoded data removed]",
      "text/plain": [
       "<Figure size 450x262.5 with 1 Axes>"
      ]
     },
     "metadata": {},
     "output_type": "display_data"
    }
   ],
   "source": [
    "plot_vectors([v, u], color='C1', labels='vu')\n",
    "plot_rejection(u, v)\n",
    "plot_vector(proj_u_on_v, color='C4', alpha=0.9, label='$proj_v(u)$', label_pos=11)\n",
    "decorate(aspect='equal', xlim=lim, ylim=lim)\n",
    "remove_spines()"
   ]
  },
  {
   "cell_type": "markdown",
   "id": "33219935",
   "metadata": {},
   "source": [
    "In summary, using polar coordinates and trigonometry, we found that we can write the scalar projection of $a$ onto $b$:\n",
    "\n",
    "$$\\mathrm{comp}_b(a) = ||a|| \\cos \\theta$$\n",
    "\n",
    "where $\\theta$ is the angle between the vectors.\n",
    "With some help from SymPy, we proved that we can also compute the scalar projection using Cartesian coordinates:\n",
    "\n",
    "$$\\mathrm{comp}_b(a) = \\frac{a \\cdot b}{||b||}$$\n",
    "\n",
    "Setting the right sides equal, and multiplying through by the norm of $b$, we have\n",
    "\n",
    "$$ a \\cdot b = ||a|| \\, ||b|| \\cos \\theta $$\n",
    "\n"
   ]
  },
  {
   "cell_type": "markdown",
   "id": "127cad6e",
   "metadata": {},
   "source": [
    "## Vector Rejection"
   ]
  },
  {
   "cell_type": "markdown",
   "id": "698cc8f1",
   "metadata": {},
   "source": [
    "## Perpendicular"
   ]
  },
  {
   "cell_type": "markdown",
   "id": "084bee4e",
   "metadata": {},
   "source": [
    "## Collisions\n",
    "\n",
    "Let's play pool (or billiards if you prefer).\n",
    "The game is played on a table with these dimensions in inches."
   ]
  },
  {
   "cell_type": "code",
   "execution_count": 446,
   "id": "b9d4ce9e",
   "metadata": {},
   "outputs": [],
   "source": [
    "table_width = 100\n",
    "table_height = 50"
   ]
  },
  {
   "cell_type": "markdown",
   "id": "7d228651",
   "metadata": {},
   "source": [
    "Using balls with this diameter and radius."
   ]
  },
  {
   "cell_type": "code",
   "execution_count": 452,
   "id": "118888e0",
   "metadata": {},
   "outputs": [],
   "source": [
    "ball_diameter = 2.25\n",
    "ball_radius = ball_diameter / 2"
   ]
  },
  {
   "cell_type": "markdown",
   "id": "b1d565f2",
   "metadata": {},
   "source": [
    "As an example, we'll place the cue ball at the center of the left half of the table, and a target ball at the center of the right half."
   ]
  },
  {
   "cell_type": "code",
   "execution_count": 453,
   "id": "be209e69",
   "metadata": {},
   "outputs": [],
   "source": [
    "cue = np.array([25, 25])\n",
    "target = np.array([75, 25])"
   ]
  },
  {
   "cell_type": "markdown",
   "id": "c0d51596",
   "metadata": {},
   "source": [
    "The following function draws the table, the pockets, and the two balls."
   ]
  },
  {
   "cell_type": "code",
   "execution_count": 454,
   "id": "3eebc55f",
   "metadata": {},
   "outputs": [
    {
     "data": {
      "image/png": "[encoded data removed]",
      "text/plain": [
       "<Figure size 375x187.5 with 1 Axes>"
      ]
     },
     "metadata": {},
     "output_type": "display_data"
    }
   ],
   "source": [
    "from utils import draw_table, draw_circles\n",
    "\n",
    "draw_table()\n",
    "draw_circles([cue, target])"
   ]
  },
  {
   "cell_type": "markdown",
   "id": "fefad554",
   "metadata": {},
   "source": [
    "Now we'll create a unit vector that represents the direction of motion for the cue ball.\n",
    "We'll define it in polar coordinates and then convert to Cartesian."
   ]
  },
  {
   "cell_type": "code",
   "execution_count": 455,
   "id": "0e3ed872",
   "metadata": {},
   "outputs": [
    {
     "data": {
      "text/plain": [
       "array([0.9995, 0.033 ])"
      ]
     },
     "execution_count": 455,
     "metadata": {},
     "output_type": "execute_result"
    }
   ],
   "source": [
    "\n",
    "r = 1\n",
    "theta = 0.033\n",
    "direction = pol2cart(r, theta)\n",
    "direction"
   ]
  },
  {
   "cell_type": "markdown",
   "id": "d0ce1bdc",
   "metadata": {},
   "source": [
    "After some period of time, suppose the cue ball has traveled a distance of 47 inches.\n",
    "We'll define a vector, `v`, that represents this motion relative to the starting place."
   ]
  },
  {
   "cell_type": "code",
   "execution_count": 456,
   "id": "192f2384",
   "metadata": {},
   "outputs": [],
   "source": [
    "magnitude = 47\n",
    "v = magnitude * direction"
   ]
  },
  {
   "cell_type": "markdown",
   "id": "feda25a1",
   "metadata": {},
   "source": [
    "After moving this distance, the position of the ball is the sum of its starting position and `v`."
   ]
  },
  {
   "cell_type": "code",
   "execution_count": 457,
   "id": "b8f459fc",
   "metadata": {},
   "outputs": [],
   "source": [
    "pos1 = cue + v"
   ]
  },
  {
   "cell_type": "markdown",
   "id": "f90af11f",
   "metadata": {},
   "source": [
    "Now let's see how close the cue is to the target ball.\n",
    "We'll use this function to compute the length of the difference between two vectors."
   ]
  },
  {
   "cell_type": "code",
   "execution_count": 458,
   "id": "c3690ba0",
   "metadata": {},
   "outputs": [],
   "source": [
    "def distance_between(v1, v2):\n",
    "    return norm(v1 - v2)"
   ]
  },
  {
   "cell_type": "markdown",
   "id": "8e4d90bd",
   "metadata": {},
   "source": [
    "Here's the final distance in this scenario."
   ]
  },
  {
   "cell_type": "code",
   "execution_count": 468,
   "id": "2aef417e",
   "metadata": {},
   "outputs": [
    {
     "data": {
      "text/plain": [
       "3.3998"
      ]
     },
     "execution_count": 468,
     "metadata": {},
     "output_type": "execute_result"
    }
   ],
   "source": [
    "distance_between(cue + v, target)"
   ]
  },
  {
   "cell_type": "markdown",
   "id": "a2478c14",
   "metadata": {},
   "source": [
    "And here's a zoomed in view showing `v` and the positions of the cue and target."
   ]
  },
  {
   "cell_type": "code",
   "execution_count": 555,
   "id": "b72b6a5d",
   "metadata": {},
   "outputs": [
    {
     "data": {
      "image/png": "[encoded data removed]",
      "text/plain": [
       "<Figure size 375x187.5 with 1 Axes>"
      ]
     },
     "metadata": {},
     "output_type": "display_data"
    }
   ],
   "source": [
    "from utils import plot_vector\n",
    "\n",
    "def draw_collision(v, draw_v=True):\n",
    "    draw_table(ticks=True)\n",
    "    draw_circles([cue + v, target])\n",
    "    if draw_v:\n",
    "        plot_vector(v, cue, label='v', label_pos=11)\n",
    "    remove_spines()\n",
    "    decorate(xlim=[60, 80], ylim=[20, 30])\n",
    "    \n",
    "draw_collision(v)"
   ]
  },
  {
   "cell_type": "markdown",
   "id": "7fb1f9fd",
   "metadata": {},
   "source": [
    "It looks as if the cue will hit the target if it keeps going in this direction, but to make sure, we'll find the value of `magnitude` that minimizes the distance between them.\n",
    "Then we can check whether this distance is less than one diameter -- if it is, that means the  balls will collide.\n",
    "\n",
    "The following function takes a hypothetical value of `magnitude`, a direction vector, and the starting positions of the balls.\n",
    "It returns the distance between the final position of the cue and the target."
   ]
  },
  {
   "cell_type": "code",
   "execution_count": 481,
   "id": "36a170ed",
   "metadata": {},
   "outputs": [],
   "source": [
    "def objective_func(magnitude, direction, cue, target):\n",
    "    v = magnitude * direction\n",
    "    return distance_between(cue + v, target)"
   ]
  },
  {
   "cell_type": "markdown",
   "id": "d97feaa9",
   "metadata": {},
   "source": [
    "We can invoke the function directly."
   ]
  },
  {
   "cell_type": "code",
   "execution_count": 482,
   "id": "c8ffe2a2",
   "metadata": {},
   "outputs": [
    {
     "data": {
      "text/plain": [
       "3.3998"
      ]
     },
     "execution_count": 482,
     "metadata": {},
     "output_type": "execute_result"
    }
   ],
   "source": [
    "objective_func(magnitude, direction, cue, target)"
   ]
  },
  {
   "cell_type": "markdown",
   "id": "d1ec3073",
   "metadata": {},
   "source": [
    "But it is meant to be used with the `minimize_scalar` function, which searches for the value of `magnitude` that minimizes the distance between the balls."
   ]
  },
  {
   "cell_type": "code",
   "execution_count": 536,
   "id": "9e99f775",
   "metadata": {},
   "outputs": [],
   "source": [
    "from scipy.optimize import minimize_scalar\n",
    "\n",
    "\n",
    "def minimize_distance(direction, cue, target):\n",
    "    args = (direction, cue, target)\n",
    "\n",
    "    upper = distance_between(cue, target)\n",
    "    print(upper)\n",
    "    solution = minimize_scalar(\n",
    "        objective_func, bounds=(0, upper), args=args, method=\"bounded\"\n",
    "    )\n",
    "\n",
    "    assert solution.success\n",
    "    return solution"
   ]
  },
  {
   "cell_type": "markdown",
   "id": "8ac6f075",
   "metadata": {},
   "source": [
    "Here's how we call it."
   ]
  },
  {
   "cell_type": "code",
   "execution_count": 484,
   "id": "526d1fef",
   "metadata": {},
   "outputs": [
    {
     "data": {
      "text/plain": [
       " message: Solution found.\n",
       " success: True\n",
       "  status: 0\n",
       "     fun: 1.6497005413060046\n",
       "       x: 49.9727772550576\n",
       "     nit: 18\n",
       "    nfev: 18"
      ]
     },
     "execution_count": 484,
     "metadata": {},
     "output_type": "execute_result"
    }
   ],
   "source": [
    "solution = minimize_distance(direction, cue, target)\n",
    "solution"
   ]
  },
  {
   "cell_type": "markdown",
   "id": "238ef487",
   "metadata": {},
   "source": [
    "The result is an `OptimizeResult` object that contains a message indicating whether the algorithm found a minimum within the bounds it searched."
   ]
  },
  {
   "cell_type": "code",
   "execution_count": 485,
   "id": "3d4dcc53",
   "metadata": {},
   "outputs": [
    {
     "data": {
      "text/plain": [
       "'Solution found.'"
      ]
     },
     "execution_count": 485,
     "metadata": {},
     "output_type": "execute_result"
    }
   ],
   "source": [
    "solution.message"
   ]
  },
  {
   "cell_type": "markdown",
   "id": "662858d1",
   "metadata": {},
   "source": [
    "The `x` attribute contains the magnitude that minimizes the distance."
   ]
  },
  {
   "cell_type": "code",
   "execution_count": 493,
   "id": "b780ea5c",
   "metadata": {},
   "outputs": [
    {
     "data": {
      "text/plain": [
       "49.9728"
      ]
     },
     "execution_count": 493,
     "metadata": {},
     "output_type": "execute_result"
    }
   ],
   "source": [
    "magnitude_min = solution.x\n",
    "magnitude_min"
   ]
  },
  {
   "cell_type": "markdown",
   "id": "1804a0f0",
   "metadata": {},
   "source": [
    "And `fun` contains the objective function evaluated at `x`, which is the distance between balls."
   ]
  },
  {
   "cell_type": "code",
   "execution_count": 487,
   "id": "45388b01",
   "metadata": {},
   "outputs": [
    {
     "data": {
      "text/plain": [
       "1.6497"
      ]
     },
     "execution_count": 487,
     "metadata": {},
     "output_type": "execute_result"
    }
   ],
   "source": [
    "solution.fun"
   ]
  },
  {
   "cell_type": "markdown",
   "id": "af4970e4",
   "metadata": {},
   "source": [
    "If this value is smaller than twice the radius (which is the diameter), that means the balls would collide.\n",
    "We'll use this function to check."
   ]
  },
  {
   "cell_type": "code",
   "execution_count": 488,
   "id": "366e1b3e",
   "metadata": {},
   "outputs": [],
   "source": [
    "def will_hit(direction, cue, target, thresh):\n",
    "    solution = minimize_distance(direction, cue, target)\n",
    "    return solution.fun < thresh"
   ]
  },
  {
   "cell_type": "markdown",
   "id": "b9f6902d",
   "metadata": {},
   "source": [
    "With the initial direction we chose, the balls will collide."
   ]
  },
  {
   "cell_type": "code",
   "execution_count": 489,
   "id": "a9bdcee5",
   "metadata": {},
   "outputs": [
    {
     "data": {
      "text/plain": [
       "True"
      ]
     },
     "execution_count": 489,
     "metadata": {},
     "output_type": "execute_result"
    }
   ],
   "source": [
    "will_hit(direction, cue, target, ball_diameter)"
   ]
  },
  {
   "cell_type": "markdown",
   "id": "019006c3",
   "metadata": {},
   "source": [
    "Here's what it looks like when the distance between balls is minimized."
   ]
  },
  {
   "cell_type": "code",
   "execution_count": 491,
   "id": "06918b23",
   "metadata": {},
   "outputs": [
    {
     "data": {
      "image/png": "[encoded data removed]",
      "text/plain": [
       "<Figure size 375x187.5 with 1 Axes>"
      ]
     },
     "metadata": {},
     "output_type": "display_data"
    }
   ],
   "source": [
    "v_min = solution.x * direction\n",
    "draw_collision(v_min)"
   ]
  },
  {
   "cell_type": "markdown",
   "id": "c97a799b",
   "metadata": {},
   "source": [
    "The minimal distance tells us whether the balls will collide, but not when they will collide. For that, we have to do one more search."
   ]
  },
  {
   "cell_type": "markdown",
   "id": "61985cb7",
   "metadata": {},
   "source": [
    "## Collision Detection\n",
    "\n",
    "To detect the instant the balls collide, we'll search for the magnitude of the offset vector where the distance is exactly two radiuses.\n",
    "The following function takes as arguments a hypothetical magnitude, a direction vector, the starting positions of the balls, and the distance between them we are searching for.\n",
    "It returns an error, which is the difference between the computed distance and the goal distance."
   ]
  },
  {
   "cell_type": "code",
   "execution_count": 492,
   "id": "82dcdec2",
   "metadata": {},
   "outputs": [],
   "source": [
    "def error_func(magnitude, direction, cue, target, goal_distance):\n",
    "    actual_distance = objective_func(magnitude, direction, cue, target)\n",
    "    return actual_distance - goal_distance"
   ]
  },
  {
   "cell_type": "markdown",
   "id": "443e29d2",
   "metadata": {},
   "source": [
    "For example, if we call it with the first magnitude we tried, `47`, we find that we are off by a little more than an inch."
   ]
  },
  {
   "cell_type": "code",
   "execution_count": 23,
   "id": "e5dd3eb9",
   "metadata": {},
   "outputs": [
    {
     "data": {
      "text/plain": [
       "np.float64(1.1498408441525232)"
      ]
     },
     "execution_count": 23,
     "metadata": {},
     "output_type": "execute_result"
    }
   ],
   "source": [
    "error_func(magnitude, direction, cue, target, ball_diameter)"
   ]
  },
  {
   "cell_type": "markdown",
   "id": "f158baf7",
   "metadata": {},
   "source": [
    "We can search more efficiently if we can provide a lower and upper bound on the solution.\n",
    "As an upper bound, we can use the magnitude where the distance is minimized, which we know is too far.\n",
    "For a lower bound, we can subtract off one diameter, which must be prior to the collision."
   ]
  },
  {
   "cell_type": "code",
   "execution_count": 24,
   "id": "a3e6a0ca",
   "metadata": {},
   "outputs": [],
   "source": [
    "upper = magnitude_min\n",
    "lower = magnitude_min - ball_diameter"
   ]
  },
  {
   "cell_type": "markdown",
   "id": "e73007aa",
   "metadata": {},
   "source": [
    "Now we can use `root_scalar` to search for the value of `magnitude` that makes the distance between balls exactly one diameter. "
   ]
  },
  {
   "cell_type": "code",
   "execution_count": 495,
   "id": "948958c4",
   "metadata": {},
   "outputs": [
    {
     "data": {
      "text/plain": [
       "scipy.optimize._zeros_py.RootResults"
      ]
     },
     "execution_count": 495,
     "metadata": {},
     "output_type": "execute_result"
    }
   ],
   "source": [
    "from scipy.optimize import root_scalar\n",
    "\n",
    "args = (direction, cue, target, ball_diameter)\n",
    "solution = root_scalar(error_func, bracket=[lower, upper], args=args, method=\"brentq\")\n",
    "type(solution)"
   ]
  },
  {
   "cell_type": "markdown",
   "id": "de8fd088",
   "metadata": {},
   "source": [
    "The result us a `RootResults` object that contains a flag that indicates whether the search converged to a solution."
   ]
  },
  {
   "cell_type": "code",
   "execution_count": 496,
   "id": "d3f4974f",
   "metadata": {},
   "outputs": [
    {
     "data": {
      "text/plain": [
       "'converged'"
      ]
     },
     "execution_count": 496,
     "metadata": {},
     "output_type": "execute_result"
    }
   ],
   "source": [
    "solution.flag"
   ]
  },
  {
   "cell_type": "markdown",
   "id": "d1cf6c38",
   "metadata": {},
   "source": [
    "The `root` attribute contains the value of magnitude at the point of collision."
   ]
  },
  {
   "cell_type": "code",
   "execution_count": 501,
   "id": "f8dcef91",
   "metadata": {},
   "outputs": [
    {
     "data": {
      "text/plain": [
       "48.4427"
      ]
     },
     "execution_count": 501,
     "metadata": {},
     "output_type": "execute_result"
    }
   ],
   "source": [
    "magnitude_soln = solution.root\n",
    "magnitude_soln"
   ]
  },
  {
   "cell_type": "markdown",
   "id": "16997bd3",
   "metadata": {},
   "source": [
    "Which we can use to compute the offset vector."
   ]
  },
  {
   "cell_type": "code",
   "execution_count": 502,
   "id": "1a2ce5b5",
   "metadata": {},
   "outputs": [],
   "source": [
    "v_soln = magnitude_star * direction"
   ]
  },
  {
   "cell_type": "markdown",
   "id": "f122f279",
   "metadata": {},
   "source": [
    "And here's what it looks like at the instant of collision."
   ]
  },
  {
   "cell_type": "code",
   "execution_count": 504,
   "id": "8724c511",
   "metadata": {},
   "outputs": [
    {
     "data": {
      "image/png": "[encoded data removed]",
      "text/plain": [
       "<Figure size 375x187.5 with 1 Axes>"
      ]
     },
     "metadata": {},
     "output_type": "display_data"
    }
   ],
   "source": [
    "draw_collision(v_soln)"
   ]
  },
  {
   "cell_type": "markdown",
   "id": "c822380c",
   "metadata": {},
   "source": [
    "Now let's figure out what happens after the collision."
   ]
  },
  {
   "cell_type": "markdown",
   "id": "e4ceab1a",
   "metadata": {},
   "source": [
    "## Inelastic Collision\n",
    "\n",
    "To find the point of collision, we used the numerical methods in `minimize_scalar` and `root_scalar`.\n",
    "These functions are useful for all kinds of scientific and engineering computation, but they are not linear algebra.\n",
    "\n",
    "But now, to figure out what happens after the collision, we'll use vector projection.\n",
    "\n"
   ]
  },
  {
   "cell_type": "code",
   "execution_count": 507,
   "id": "32bf6b70",
   "metadata": {},
   "outputs": [],
   "source": [
    "def normalize(v):\n",
    "    return v / norm(v)"
   ]
  },
  {
   "cell_type": "code",
   "execution_count": 570,
   "id": "33594397",
   "metadata": {},
   "outputs": [],
   "source": [
    "v1 = normalize(v_soln)\n",
    "v2 = np.array([0, 0])"
   ]
  },
  {
   "cell_type": "code",
   "execution_count": 571,
   "id": "c1acb38c",
   "metadata": {},
   "outputs": [],
   "source": [
    "pos1 = cue + v_soln\n",
    "pos2 = target\n",
    "n_hat = normalize(pos2 - pos1)"
   ]
  },
  {
   "cell_type": "code",
   "execution_count": 572,
   "id": "7ae56d5d",
   "metadata": {},
   "outputs": [
    {
     "data": {
      "image/png": "[encoded data removed]",
      "text/plain": [
       "<Figure size 375x187.5 with 1 Axes>"
      ]
     },
     "metadata": {},
     "output_type": "display_data"
    }
   ],
   "source": [
    "draw_collision(v_soln)\n",
    "plot_vectors([v1, n_hat], [pos1, pos1], labels=['$v_1$', '$\\hat{n}$'], \n",
    "             scale=5, color=\"C2\");"
   ]
  },
  {
   "cell_type": "code",
   "execution_count": 573,
   "id": "955df81b",
   "metadata": {},
   "outputs": [],
   "source": [
    "v1_normal = vector_projection(v1, n_hat)\n",
    "v1_tangent = v1 - v1_normal"
   ]
  },
  {
   "cell_type": "code",
   "execution_count": 584,
   "id": "96317d14",
   "metadata": {},
   "outputs": [
    {
     "data": {
      "image/png": "[encoded data removed]",
      "text/plain": [
       "<Figure size 375x187.5 with 1 Axes>"
      ]
     },
     "metadata": {},
     "output_type": "display_data"
    }
   ],
   "source": [
    "draw_collision(v_soln, draw_v=False)\n",
    "plot_vectors([v1_normal, v1_tangent], [pos1, pos1], scale=5,\n",
    "             labels=['v1_normal', 'v1_tangent'], color=\"C4\");"
   ]
  },
  {
   "cell_type": "code",
   "execution_count": 574,
   "id": "6f01f9d3",
   "metadata": {},
   "outputs": [],
   "source": [
    "v2_normal = vector_projection(v2, n_hat)\n",
    "v2_tangent = v2 - v2_normal"
   ]
  },
  {
   "cell_type": "code",
   "execution_count": 575,
   "id": "aa809bbc",
   "metadata": {},
   "outputs": [],
   "source": [
    "v1_after = v1_tangent + v2_normal\n",
    "v2_after = v2_tangent + v1_normal"
   ]
  },
  {
   "cell_type": "code",
   "execution_count": 581,
   "id": "dd083045",
   "metadata": {},
   "outputs": [
    {
     "data": {
      "image/png": "[encoded data removed]",
      "text/plain": [
       "<Figure size 375x187.5 with 1 Axes>"
      ]
     },
     "metadata": {},
     "output_type": "display_data"
    }
   ],
   "source": [
    "draw_collision(v_soln, draw_v=False)\n",
    "plot_vectors([v1_after, v2_after], [pos1, pos2], scale=5, \n",
    "             labels=['v1_after', 'v2_after'], color=\"C4\");"
   ]
  },
  {
   "cell_type": "code",
   "execution_count": 522,
   "id": "7665b5e1",
   "metadata": {},
   "outputs": [],
   "source": [
    "pocket1 = np.array([table_width, table_height])\n",
    "pocket2 = np.array([table_width, 0])"
   ]
  },
  {
   "cell_type": "code",
   "execution_count": 540,
   "id": "7fc5c697",
   "metadata": {},
   "outputs": [],
   "source": []
  },
  {
   "cell_type": "code",
   "execution_count": 542,
   "id": "058f23fa",
   "metadata": {},
   "outputs": [
    {
     "data": {
      "text/plain": [
       "array([98.0717, 48.0717])"
      ]
     },
     "execution_count": 542,
     "metadata": {},
     "output_type": "execute_result"
    }
   ],
   "source": [
    "pos2 + v2_after_hat * 35"
   ]
  },
  {
   "cell_type": "code",
   "execution_count": 546,
   "id": "00fffdce",
   "metadata": {},
   "outputs": [
    {
     "name": "stdout",
     "output_type": "stream",
     "text": [
      "35.35533905932738\n"
     ]
    },
    {
     "data": {
      "text/plain": [
       "True"
      ]
     },
     "execution_count": 546,
     "metadata": {},
     "output_type": "execute_result"
    }
   ],
   "source": [
    "v2_after_hat = normalize(v2_after)\n",
    "will_hit(v2_after_hat, pos2, pocket2, ball_diameter)"
   ]
  },
  {
   "cell_type": "code",
   "execution_count": 547,
   "id": "330a381b",
   "metadata": {},
   "outputs": [
    {
     "name": "stdout",
     "output_type": "stream",
     "text": [
      "35.41649011176199\n"
     ]
    },
    {
     "data": {
      "text/plain": [
       "True"
      ]
     },
     "execution_count": 547,
     "metadata": {},
     "output_type": "execute_result"
    }
   ],
   "source": [
    "v1_after_hat = normalize(v1_after)\n",
    "will_hit(v1_after_hat, pos1, pocket1, ball_diameter)"
   ]
  },
  {
   "cell_type": "code",
   "execution_count": 548,
   "id": "4078c517",
   "metadata": {},
   "outputs": [
    {
     "name": "stdout",
     "output_type": "stream",
     "text": [
      "35.41649011176199\n"
     ]
    },
    {
     "data": {
      "text/plain": [
       " message: Solution found.\n",
       " success: True\n",
       "  status: 0\n",
       "     fun: 2.086727074785902\n",
       "       x: 35.35496074606412\n",
       "     nit: 16\n",
       "    nfev: 16"
      ]
     },
     "execution_count": 548,
     "metadata": {},
     "output_type": "execute_result"
    }
   ],
   "source": [
    "minimize_distance(v1_after_hat, pos1, pocket1)"
   ]
  },
  {
   "cell_type": "code",
   "execution_count": 42,
   "id": "08cfe965",
   "metadata": {},
   "outputs": [
    {
     "ename": "TypeError",
     "evalue": "label_vector() got multiple values for argument 'label'",
     "output_type": "error",
     "traceback": [
      "\u001b[0;31m---------------------------------------------------------------------------\u001b[0m",
      "\u001b[0;31mTypeError\u001b[0m                                 Traceback (most recent call last)",
      "Cell \u001b[0;32mIn[42], line 9\u001b[0m\n\u001b[1;32m      6\u001b[0m plot_vector(vector, origin)\n\u001b[1;32m      8\u001b[0m \u001b[38;5;28;01mfor\u001b[39;00m pos \u001b[38;5;129;01min\u001b[39;00m \u001b[38;5;28mrange\u001b[39m(\u001b[38;5;241m12\u001b[39m):\n\u001b[0;32m----> 9\u001b[0m     \u001b[43mlabel_vector\u001b[49m\u001b[43m(\u001b[49m\u001b[43mvector\u001b[49m\u001b[43m,\u001b[49m\u001b[43m \u001b[49m\u001b[43morigin\u001b[49m\u001b[43m,\u001b[49m\u001b[43m \u001b[49m\u001b[43mlabel\u001b[49m\u001b[38;5;241;43m=\u001b[39;49m\u001b[43mpos\u001b[49m\u001b[43m,\u001b[49m\u001b[43m \u001b[49m\u001b[43mlabel_pos\u001b[49m\u001b[38;5;241;43m=\u001b[39;49m\u001b[43mpos\u001b[49m\u001b[43m,\u001b[49m\u001b[43m \u001b[49m\u001b[43mcolor\u001b[49m\u001b[38;5;241;43m=\u001b[39;49m\u001b[38;5;124;43m'\u001b[39;49m\u001b[38;5;124;43mC1\u001b[39;49m\u001b[38;5;124;43m'\u001b[39;49m\u001b[43m)\u001b[49m\n",
      "\u001b[0;31mTypeError\u001b[0m: label_vector() got multiple values for argument 'label'"
     ]
    },
    {
     "data": {
      "image/png": "[encoded data removed]",
      "text/plain": [
       "<Figure size 375x187.5 with 1 Axes>"
      ]
     },
     "metadata": {},
     "output_type": "display_data"
    }
   ],
   "source": [
    "from utils import label_vector\n",
    "\n",
    "draw_table()\n",
    "origin = cue\n",
    "vector = np.array([30, 15])\n",
    "plot_vector(vector, origin)\n",
    "\n",
    "for pos in range(12):\n",
    "    label_vector(vector, origin, label=pos, label_pos=pos, color='C1')"
   ]
  },
  {
   "cell_type": "markdown",
   "id": "e27da3a4",
   "metadata": {
    "tags": [
     "remove-print"
    ]
   },
   "source": [
    "[Think Linear Algebra](https://allendowney.github.io/ThinkLinearAlgebra/index.html)\n",
    "\n",
    "Copyright 2025 [Allen B. Downey](https://allendowney.com)\n",
    "\n",
    "Code license: [MIT License](https://mit-license.org/)\n",
    "\n",
    "Text license: [Creative Commons Attribution-NonCommercial-ShareAlike 4.0 International](https://creativecommons.org/licenses/by-nc-sa/4.0/)"
   ]
  },
  {
   "cell_type": "code",
   "execution_count": null,
   "id": "6b3833be",
   "metadata": {},
   "outputs": [],
   "source": []
  }
 ],
 "metadata": {
  "celltoolbar": "Tags",
  "kernelspec": {
   "display_name": "Python 3 (ipykernel)",
   "language": "python",
   "name": "python3"
  },
  "language_info": {
   "codemirror_mode": {
    "name": "ipython",
    "version": 3
   },
   "file_extension": ".py",
   "mimetype": "text/x-python",
   "name": "python",
   "nbconvert_exporter": "python",
   "pygments_lexer": "ipython3",
   "version": "3.10.16"
  }
 },
 "nbformat": 4,
 "nbformat_minor": 5
}
