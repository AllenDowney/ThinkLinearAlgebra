{
 "cells": [
  {
   "cell_type": "markdown",
   "id": "025b76df",
   "metadata": {},
   "source": [
    "*Think Linear Algebra* is not for sale yet, but if you would like to support this project, you can [buy me a coffee](https://buymeacoffee.com/allendowney)."
   ]
  },
  {
   "cell_type": "markdown",
   "id": "85c30bdb",
   "metadata": {},
   "source": [
    "# Dot Product\n",
    "\n"
   ]
  },
  {
   "cell_type": "markdown",
   "id": "3893fe82",
   "metadata": {
    "tags": [
     "remove-print"
    ]
   },
   "source": [
    "[Click here to run this notebook on Colab](https://colab.research.google.com/github/AllenDowney/ThinkLinearAlgebra/blob/main/nb/dot.ipynb)."
   ]
  },
  {
   "cell_type": "code",
   "execution_count": 1,
   "id": "3bb1c675",
   "metadata": {
    "tags": [
     "remove-print",
     "hide-cell"
    ]
   },
   "outputs": [
    {
     "data": {
      "application/javascript": [
       "\n",
       "        setTimeout(function() {\n",
       "            var nbb_cell_id = 1;\n",
       "            var nbb_formatted_code = \"%load_ext nb_black\\n%load_ext autoreload\\n%autoreload 2\";\n",
       "            var nbb_cells = Jupyter.notebook.get_cells();\n",
       "            for (var i = 0; i < nbb_cells.length; ++i) {\n",
       "                if (nbb_cells[i].input_prompt_number == nbb_cell_id) {\n",
       "                    nbb_cells[i].set_text(nbb_formatted_code);\n",
       "                    break;\n",
       "                }\n",
       "            }\n",
       "        }, 500);\n",
       "        "
      ],
      "text/plain": [
       "<IPython.core.display.Javascript object>"
      ]
     },
     "metadata": {},
     "output_type": "display_data"
    }
   ],
   "source": [
    "%load_ext nb_black\n",
    "%load_ext autoreload\n",
    "%autoreload 2"
   ]
  },
  {
   "cell_type": "code",
   "execution_count": 2,
   "id": "02d400cf",
   "metadata": {
    "tags": [
     "remove-print",
     "hide-cell"
    ]
   },
   "outputs": [
    {
     "data": {
      "application/javascript": [
       "\n",
       "        setTimeout(function() {\n",
       "            var nbb_cell_id = 2;\n",
       "            var nbb_formatted_code = \"from os.path import basename, exists\\n\\n\\ndef download(url):\\n    filename = basename(url)\\n    if not exists(filename):\\n        from urllib.request import urlretrieve\\n\\n        local, _ = urlretrieve(url, filename)\\n        print(\\\"Downloaded \\\" + local)\\n\\n\\ndownload(\\\"https://github.com/AllenDowney/ThinkLinearAlgebra/raw/main/utils.py\\\")\";\n",
       "            var nbb_cells = Jupyter.notebook.get_cells();\n",
       "            for (var i = 0; i < nbb_cells.length; ++i) {\n",
       "                if (nbb_cells[i].input_prompt_number == nbb_cell_id) {\n",
       "                    nbb_cells[i].set_text(nbb_formatted_code);\n",
       "                    break;\n",
       "                }\n",
       "            }\n",
       "        }, 500);\n",
       "        "
      ],
      "text/plain": [
       "<IPython.core.display.Javascript object>"
      ]
     },
     "metadata": {},
     "output_type": "display_data"
    }
   ],
   "source": [
    "from os.path import basename, exists\n",
    "\n",
    "\n",
    "def download(url):\n",
    "    filename = basename(url)\n",
    "    if not exists(filename):\n",
    "        from urllib.request import urlretrieve\n",
    "\n",
    "        local, _ = urlretrieve(url, filename)\n",
    "        print(\"Downloaded \" + local)\n",
    "\n",
    "\n",
    "download(\"https://github.com/AllenDowney/ThinkLinearAlgebra/raw/main/utils.py\")"
   ]
  },
  {
   "cell_type": "code",
   "execution_count": 3,
   "id": "1a3119be",
   "metadata": {
    "tags": [
     "hide-cell",
     "remove-print"
    ]
   },
   "outputs": [
    {
     "data": {
      "application/javascript": [
       "\n",
       "        setTimeout(function() {\n",
       "            var nbb_cell_id = 3;\n",
       "            var nbb_formatted_code = \"import numpy as np\\nimport pandas as pd\\nimport matplotlib.pyplot as plt\\n\\nfrom utils import decorate\";\n",
       "            var nbb_cells = Jupyter.notebook.get_cells();\n",
       "            for (var i = 0; i < nbb_cells.length; ++i) {\n",
       "                if (nbb_cells[i].input_prompt_number == nbb_cell_id) {\n",
       "                    nbb_cells[i].set_text(nbb_formatted_code);\n",
       "                    break;\n",
       "                }\n",
       "            }\n",
       "        }, 500);\n",
       "        "
      ],
      "text/plain": [
       "<IPython.core.display.Javascript object>"
      ]
     },
     "metadata": {},
     "output_type": "display_data"
    }
   ],
   "source": [
    "import numpy as np\n",
    "import pandas as pd\n",
    "import matplotlib.pyplot as plt\n",
    "\n",
    "from utils import decorate"
   ]
  },
  {
   "cell_type": "markdown",
   "id": "084bee4e",
   "metadata": {},
   "source": [
    "## Section\n",
    "\n",
    "9-foot table (standard regulation)"
   ]
  },
  {
   "cell_type": "code",
   "execution_count": 4,
   "id": "118888e0",
   "metadata": {},
   "outputs": [
    {
     "data": {
      "application/javascript": [
       "\n",
       "        setTimeout(function() {\n",
       "            var nbb_cell_id = 4;\n",
       "            var nbb_formatted_code = \"table_width = 100\\ntable_height = 50\\n\\nball_diameter = 2.25\\nball_radius = ball_diameter / 2\";\n",
       "            var nbb_cells = Jupyter.notebook.get_cells();\n",
       "            for (var i = 0; i < nbb_cells.length; ++i) {\n",
       "                if (nbb_cells[i].input_prompt_number == nbb_cell_id) {\n",
       "                    nbb_cells[i].set_text(nbb_formatted_code);\n",
       "                    break;\n",
       "                }\n",
       "            }\n",
       "        }, 500);\n",
       "        "
      ],
      "text/plain": [
       "<IPython.core.display.Javascript object>"
      ]
     },
     "metadata": {},
     "output_type": "display_data"
    }
   ],
   "source": [
    "table_width = 100\n",
    "table_height = 50\n",
    "\n",
    "ball_diameter = 2.25\n",
    "ball_radius = ball_diameter / 2"
   ]
  },
  {
   "cell_type": "code",
   "execution_count": 5,
   "id": "3eebc55f",
   "metadata": {},
   "outputs": [
    {
     "data": {
      "application/javascript": [
       "\n",
       "        setTimeout(function() {\n",
       "            var nbb_cell_id = 5;\n",
       "            var nbb_formatted_code = \"from utils import underride, decorate\\n\\n\\ndef draw_circles(vs, **options):\\n    underride(options, color=\\\"C1\\\", alpha=0.6, lw=0)\\n    ax = options.pop(\\\"ax\\\", plt.gca())\\n    for x, y in vs:\\n        ax.add_patch(plt.Circle((x, y), ball_radius, **options))\";\n",
       "            var nbb_cells = Jupyter.notebook.get_cells();\n",
       "            for (var i = 0; i < nbb_cells.length; ++i) {\n",
       "                if (nbb_cells[i].input_prompt_number == nbb_cell_id) {\n",
       "                    nbb_cells[i].set_text(nbb_formatted_code);\n",
       "                    break;\n",
       "                }\n",
       "            }\n",
       "        }, 500);\n",
       "        "
      ],
      "text/plain": [
       "<IPython.core.display.Javascript object>"
      ]
     },
     "metadata": {},
     "output_type": "display_data"
    }
   ],
   "source": [
    "from utils import underride, decorate\n",
    "\n",
    "\n",
    "def draw_circles(vs, **options):\n",
    "    underride(options, color=\"C1\", alpha=0.6, lw=0)\n",
    "    ax = options.pop(\"ax\", plt.gca())\n",
    "    for x, y in vs:\n",
    "        ax.add_patch(plt.Circle((x, y), ball_radius, **options))"
   ]
  },
  {
   "cell_type": "code",
   "execution_count": 6,
   "id": "c15db8ad",
   "metadata": {},
   "outputs": [
    {
     "data": {
      "application/javascript": [
       "\n",
       "        setTimeout(function() {\n",
       "            var nbb_cell_id = 6;\n",
       "            var nbb_formatted_code = \"from utils import cartesian_product\\n\\n\\ndef draw_table():\\n    fig, ax = plt.subplots(figsize=(5, 2.5))\\n\\n    ax.add_patch(plt.Rectangle((0, 0), table_width, table_height, fill=None))\\n\\n    xs = [0, 50, 100]\\n    ys = [0, 50]\\n    pockets = cartesian_product([xs, ys])\\n    draw_circles(pockets, color=\\\"black\\\")\\n\\n    # Remove ticks and labels\\n    ax.set_xticks([])\\n    ax.set_yticks([])\\n    ax.set_xticklabels([])\\n    ax.set_yticklabels([])\\n\\n    # Set the aspect ratio and limits\\n    ax.set_aspect(\\\"equal\\\", adjustable=\\\"box\\\")\\n    ax.set_xlim(0, table_width)\\n    ax.set_ylim(0, table_height)\";\n",
       "            var nbb_cells = Jupyter.notebook.get_cells();\n",
       "            for (var i = 0; i < nbb_cells.length; ++i) {\n",
       "                if (nbb_cells[i].input_prompt_number == nbb_cell_id) {\n",
       "                    nbb_cells[i].set_text(nbb_formatted_code);\n",
       "                    break;\n",
       "                }\n",
       "            }\n",
       "        }, 500);\n",
       "        "
      ],
      "text/plain": [
       "<IPython.core.display.Javascript object>"
      ]
     },
     "metadata": {},
     "output_type": "display_data"
    }
   ],
   "source": [
    "from utils import cartesian_product\n",
    "\n",
    "\n",
    "def draw_table():\n",
    "    fig, ax = plt.subplots(figsize=(5, 2.5))\n",
    "\n",
    "    ax.add_patch(plt.Rectangle((0, 0), table_width, table_height, fill=None))\n",
    "\n",
    "    xs = [0, 50, 100]\n",
    "    ys = [0, 50]\n",
    "    pockets = cartesian_product([xs, ys])\n",
    "    draw_circles(pockets, color=\"black\")\n",
    "\n",
    "    # Remove ticks and labels\n",
    "    ax.set_xticks([])\n",
    "    ax.set_yticks([])\n",
    "    ax.set_xticklabels([])\n",
    "    ax.set_yticklabels([])\n",
    "\n",
    "    # Set the aspect ratio and limits\n",
    "    ax.set_aspect(\"equal\", adjustable=\"box\")\n",
    "    ax.set_xlim(0, table_width)\n",
    "    ax.set_ylim(0, table_height)"
   ]
  },
  {
   "cell_type": "code",
   "execution_count": 7,
   "id": "fa273e6d",
   "metadata": {},
   "outputs": [
    {
     "data": {
      "image/png": "[encoded data removed]",
      "text/plain": [
       "<Figure size 375x187.5 with 1 Axes>"
      ]
     },
     "metadata": {},
     "output_type": "display_data"
    },
    {
     "data": {
      "application/javascript": [
       "\n",
       "        setTimeout(function() {\n",
       "            var nbb_cell_id = 7;\n",
       "            var nbb_formatted_code = \"draw_table()\\ncue = np.array([25, 25])\\ntarget = np.array([75, 25])\\ndraw_circles([cue, target])\";\n",
       "            var nbb_cells = Jupyter.notebook.get_cells();\n",
       "            for (var i = 0; i < nbb_cells.length; ++i) {\n",
       "                if (nbb_cells[i].input_prompt_number == nbb_cell_id) {\n",
       "                    nbb_cells[i].set_text(nbb_formatted_code);\n",
       "                    break;\n",
       "                }\n",
       "            }\n",
       "        }, 500);\n",
       "        "
      ],
      "text/plain": [
       "<IPython.core.display.Javascript object>"
      ]
     },
     "metadata": {},
     "output_type": "display_data"
    }
   ],
   "source": [
    "draw_table()\n",
    "cue = np.array([25, 25])\n",
    "target = np.array([75, 25])\n",
    "draw_circles([cue, target])"
   ]
  },
  {
   "cell_type": "code",
   "execution_count": 8,
   "id": "0e3ed872",
   "metadata": {},
   "outputs": [
    {
     "data": {
      "text/plain": [
       "array([0.99945555, 0.03299401])"
      ]
     },
     "execution_count": 8,
     "metadata": {},
     "output_type": "execute_result"
    },
    {
     "data": {
      "application/javascript": [
       "\n",
       "        setTimeout(function() {\n",
       "            var nbb_cell_id = 8;\n",
       "            var nbb_formatted_code = \"from utils import polar_to_cartesian\\n\\nr = 1\\ntheta = 0.033\\ndirection = np.array(polar_to_cartesian(r, theta))\\ndirection\";\n",
       "            var nbb_cells = Jupyter.notebook.get_cells();\n",
       "            for (var i = 0; i < nbb_cells.length; ++i) {\n",
       "                if (nbb_cells[i].input_prompt_number == nbb_cell_id) {\n",
       "                    nbb_cells[i].set_text(nbb_formatted_code);\n",
       "                    break;\n",
       "                }\n",
       "            }\n",
       "        }, 500);\n",
       "        "
      ],
      "text/plain": [
       "<IPython.core.display.Javascript object>"
      ]
     },
     "metadata": {},
     "output_type": "display_data"
    }
   ],
   "source": [
    "from utils import polar_to_cartesian\n",
    "\n",
    "r = 1\n",
    "theta = 0.033\n",
    "direction = np.array(polar_to_cartesian(r, theta))\n",
    "direction"
   ]
  },
  {
   "cell_type": "code",
   "execution_count": 9,
   "id": "192f2384",
   "metadata": {},
   "outputs": [
    {
     "data": {
      "application/javascript": [
       "\n",
       "        setTimeout(function() {\n",
       "            var nbb_cell_id = 9;\n",
       "            var nbb_formatted_code = \"magnitude = 47\\nv = magnitude * direction\";\n",
       "            var nbb_cells = Jupyter.notebook.get_cells();\n",
       "            for (var i = 0; i < nbb_cells.length; ++i) {\n",
       "                if (nbb_cells[i].input_prompt_number == nbb_cell_id) {\n",
       "                    nbb_cells[i].set_text(nbb_formatted_code);\n",
       "                    break;\n",
       "                }\n",
       "            }\n",
       "        }, 500);\n",
       "        "
      ],
      "text/plain": [
       "<IPython.core.display.Javascript object>"
      ]
     },
     "metadata": {},
     "output_type": "display_data"
    }
   ],
   "source": [
    "magnitude = 47\n",
    "v = magnitude * direction"
   ]
  },
  {
   "cell_type": "code",
   "execution_count": 10,
   "id": "c3690ba0",
   "metadata": {},
   "outputs": [
    {
     "data": {
      "application/javascript": [
       "\n",
       "        setTimeout(function() {\n",
       "            var nbb_cell_id = 10;\n",
       "            var nbb_formatted_code = \"from numpy.linalg import norm\\n\\n\\ndef distance_between(v1, v2):\\n    return norm(v1 - v2)\";\n",
       "            var nbb_cells = Jupyter.notebook.get_cells();\n",
       "            for (var i = 0; i < nbb_cells.length; ++i) {\n",
       "                if (nbb_cells[i].input_prompt_number == nbb_cell_id) {\n",
       "                    nbb_cells[i].set_text(nbb_formatted_code);\n",
       "                    break;\n",
       "                }\n",
       "            }\n",
       "        }, 500);\n",
       "        "
      ],
      "text/plain": [
       "<IPython.core.display.Javascript object>"
      ]
     },
     "metadata": {},
     "output_type": "display_data"
    }
   ],
   "source": [
    "from numpy.linalg import norm\n",
    "\n",
    "\n",
    "def distance_between(v1, v2):\n",
    "    return norm(v1 - v2)"
   ]
  },
  {
   "cell_type": "code",
   "execution_count": 11,
   "id": "2aef417e",
   "metadata": {},
   "outputs": [
    {
     "data": {
      "text/plain": [
       "np.float64(3.399840844152523)"
      ]
     },
     "execution_count": 11,
     "metadata": {},
     "output_type": "execute_result"
    },
    {
     "data": {
      "application/javascript": [
       "\n",
       "        setTimeout(function() {\n",
       "            var nbb_cell_id = 11;\n",
       "            var nbb_formatted_code = \"pos1 = cue + v\\npos2 = target\\ndistance_between(pos1, pos2)\";\n",
       "            var nbb_cells = Jupyter.notebook.get_cells();\n",
       "            for (var i = 0; i < nbb_cells.length; ++i) {\n",
       "                if (nbb_cells[i].input_prompt_number == nbb_cell_id) {\n",
       "                    nbb_cells[i].set_text(nbb_formatted_code);\n",
       "                    break;\n",
       "                }\n",
       "            }\n",
       "        }, 500);\n",
       "        "
      ],
      "text/plain": [
       "<IPython.core.display.Javascript object>"
      ]
     },
     "metadata": {},
     "output_type": "display_data"
    }
   ],
   "source": [
    "pos1 = cue + v\n",
    "pos2 = target\n",
    "distance_between(pos1, pos2)"
   ]
  },
  {
   "cell_type": "code",
   "execution_count": 77,
   "id": "b72b6a5d",
   "metadata": {},
   "outputs": [
    {
     "data": {
      "image/png": "[encoded data removed]",
      "text/plain": [
       "<Figure size 375x187.5 with 1 Axes>"
      ]
     },
     "metadata": {},
     "output_type": "display_data"
    },
    {
     "data": {
      "application/javascript": [
       "\n",
       "        setTimeout(function() {\n",
       "            var nbb_cell_id = 77;\n",
       "            var nbb_formatted_code = \"from utils import plot_vector\\n\\ndraw_table()\\ndraw_circles([pos1, pos2])\\nplot_vector(v, cue)\\ndecorate(xlim=[60, 80], ylim=[20, 30])\";\n",
       "            var nbb_cells = Jupyter.notebook.get_cells();\n",
       "            for (var i = 0; i < nbb_cells.length; ++i) {\n",
       "                if (nbb_cells[i].input_prompt_number == nbb_cell_id) {\n",
       "                    nbb_cells[i].set_text(nbb_formatted_code);\n",
       "                    break;\n",
       "                }\n",
       "            }\n",
       "        }, 500);\n",
       "        "
      ],
      "text/plain": [
       "<IPython.core.display.Javascript object>"
      ]
     },
     "metadata": {},
     "output_type": "display_data"
    }
   ],
   "source": [
    "from utils import plot_vector\n",
    "\n",
    "draw_table()\n",
    "draw_circles([pos1, pos2])\n",
    "plot_vector(v, cue)\n",
    "decorate(xlim=[60, 80], ylim=[20, 30])"
   ]
  },
  {
   "cell_type": "code",
   "execution_count": 13,
   "id": "36a170ed",
   "metadata": {},
   "outputs": [
    {
     "data": {
      "application/javascript": [
       "\n",
       "        setTimeout(function() {\n",
       "            var nbb_cell_id = 13;\n",
       "            var nbb_formatted_code = \"def objective_func(magnitude, direction, pos1, pos2):\\n    v = magnitude * direction\\n    return distance_between(pos1 + v, [pos2])\";\n",
       "            var nbb_cells = Jupyter.notebook.get_cells();\n",
       "            for (var i = 0; i < nbb_cells.length; ++i) {\n",
       "                if (nbb_cells[i].input_prompt_number == nbb_cell_id) {\n",
       "                    nbb_cells[i].set_text(nbb_formatted_code);\n",
       "                    break;\n",
       "                }\n",
       "            }\n",
       "        }, 500);\n",
       "        "
      ],
      "text/plain": [
       "<IPython.core.display.Javascript object>"
      ]
     },
     "metadata": {},
     "output_type": "display_data"
    }
   ],
   "source": [
    "def objective_func(magnitude, direction, pos1, pos2):\n",
    "    v = magnitude * direction\n",
    "    return distance_between(pos1 + v, [pos2])"
   ]
  },
  {
   "cell_type": "code",
   "execution_count": 14,
   "id": "c8ffe2a2",
   "metadata": {},
   "outputs": [
    {
     "data": {
      "text/plain": [
       "np.float64(3.399840844152523)"
      ]
     },
     "execution_count": 14,
     "metadata": {},
     "output_type": "execute_result"
    },
    {
     "data": {
      "application/javascript": [
       "\n",
       "        setTimeout(function() {\n",
       "            var nbb_cell_id = 14;\n",
       "            var nbb_formatted_code = \"objective_func(magnitude, direction, cue, target)\";\n",
       "            var nbb_cells = Jupyter.notebook.get_cells();\n",
       "            for (var i = 0; i < nbb_cells.length; ++i) {\n",
       "                if (nbb_cells[i].input_prompt_number == nbb_cell_id) {\n",
       "                    nbb_cells[i].set_text(nbb_formatted_code);\n",
       "                    break;\n",
       "                }\n",
       "            }\n",
       "        }, 500);\n",
       "        "
      ],
      "text/plain": [
       "<IPython.core.display.Javascript object>"
      ]
     },
     "metadata": {},
     "output_type": "display_data"
    }
   ],
   "source": [
    "objective_func(magnitude, direction, cue, target)"
   ]
  },
  {
   "cell_type": "code",
   "execution_count": 15,
   "id": "9e99f775",
   "metadata": {},
   "outputs": [
    {
     "data": {
      "application/javascript": [
       "\n",
       "        setTimeout(function() {\n",
       "            var nbb_cell_id = 15;\n",
       "            var nbb_formatted_code = \"from scipy.optimize import minimize_scalar\\n\\n\\ndef minimize_distance(direction, pos1, pos2):\\n    args = (direction, pos1, target)\\n\\n    upper = distance_between(pos1, pos2)\\n    solution = minimize_scalar(\\n        objective_func, bounds=(0, upper), args=args, method=\\\"bounded\\\"\\n    )\\n\\n    assert solution.success\\n    return solution\";\n",
       "            var nbb_cells = Jupyter.notebook.get_cells();\n",
       "            for (var i = 0; i < nbb_cells.length; ++i) {\n",
       "                if (nbb_cells[i].input_prompt_number == nbb_cell_id) {\n",
       "                    nbb_cells[i].set_text(nbb_formatted_code);\n",
       "                    break;\n",
       "                }\n",
       "            }\n",
       "        }, 500);\n",
       "        "
      ],
      "text/plain": [
       "<IPython.core.display.Javascript object>"
      ]
     },
     "metadata": {},
     "output_type": "display_data"
    }
   ],
   "source": [
    "from scipy.optimize import minimize_scalar\n",
    "\n",
    "\n",
    "def minimize_distance(direction, pos1, pos2):\n",
    "    args = (direction, pos1, target)\n",
    "\n",
    "    upper = distance_between(pos1, pos2)\n",
    "    solution = minimize_scalar(\n",
    "        objective_func, bounds=(0, upper), args=args, method=\"bounded\"\n",
    "    )\n",
    "\n",
    "    assert solution.success\n",
    "    return solution"
   ]
  },
  {
   "cell_type": "code",
   "execution_count": 16,
   "id": "526d1fef",
   "metadata": {},
   "outputs": [
    {
     "data": {
      "text/plain": [
       "np.float64(1.6497005413060046)"
      ]
     },
     "execution_count": 16,
     "metadata": {},
     "output_type": "execute_result"
    },
    {
     "data": {
      "application/javascript": [
       "\n",
       "        setTimeout(function() {\n",
       "            var nbb_cell_id = 16;\n",
       "            var nbb_formatted_code = \"solution = minimize_distance(direction, cue, target)\\nsolution.fun\";\n",
       "            var nbb_cells = Jupyter.notebook.get_cells();\n",
       "            for (var i = 0; i < nbb_cells.length; ++i) {\n",
       "                if (nbb_cells[i].input_prompt_number == nbb_cell_id) {\n",
       "                    nbb_cells[i].set_text(nbb_formatted_code);\n",
       "                    break;\n",
       "                }\n",
       "            }\n",
       "        }, 500);\n",
       "        "
      ],
      "text/plain": [
       "<IPython.core.display.Javascript object>"
      ]
     },
     "metadata": {},
     "output_type": "display_data"
    }
   ],
   "source": [
    "solution = minimize_distance(direction, cue, target)\n",
    "solution.fun"
   ]
  },
  {
   "cell_type": "code",
   "execution_count": 17,
   "id": "b780ea5c",
   "metadata": {},
   "outputs": [
    {
     "data": {
      "application/javascript": [
       "\n",
       "        setTimeout(function() {\n",
       "            var nbb_cell_id = 17;\n",
       "            var nbb_formatted_code = \"distance_to_min = solution.x\";\n",
       "            var nbb_cells = Jupyter.notebook.get_cells();\n",
       "            for (var i = 0; i < nbb_cells.length; ++i) {\n",
       "                if (nbb_cells[i].input_prompt_number == nbb_cell_id) {\n",
       "                    nbb_cells[i].set_text(nbb_formatted_code);\n",
       "                    break;\n",
       "                }\n",
       "            }\n",
       "        }, 500);\n",
       "        "
      ],
      "text/plain": [
       "<IPython.core.display.Javascript object>"
      ]
     },
     "metadata": {},
     "output_type": "display_data"
    }
   ],
   "source": [
    "distance_to_min = solution.x"
   ]
  },
  {
   "cell_type": "code",
   "execution_count": 18,
   "id": "366e1b3e",
   "metadata": {},
   "outputs": [
    {
     "data": {
      "application/javascript": [
       "\n",
       "        setTimeout(function() {\n",
       "            var nbb_cell_id = 18;\n",
       "            var nbb_formatted_code = \"def will_hit(direction, pos1, pos2, thresh):\\n    solution = minimize_distance(direction, pos1, pos2)\\n    return solution.fun < thresh\";\n",
       "            var nbb_cells = Jupyter.notebook.get_cells();\n",
       "            for (var i = 0; i < nbb_cells.length; ++i) {\n",
       "                if (nbb_cells[i].input_prompt_number == nbb_cell_id) {\n",
       "                    nbb_cells[i].set_text(nbb_formatted_code);\n",
       "                    break;\n",
       "                }\n",
       "            }\n",
       "        }, 500);\n",
       "        "
      ],
      "text/plain": [
       "<IPython.core.display.Javascript object>"
      ]
     },
     "metadata": {},
     "output_type": "display_data"
    }
   ],
   "source": [
    "def will_hit(direction, pos1, pos2, thresh):\n",
    "    solution = minimize_distance(direction, pos1, pos2)\n",
    "    return solution.fun < thresh"
   ]
  },
  {
   "cell_type": "code",
   "execution_count": 19,
   "id": "a9bdcee5",
   "metadata": {},
   "outputs": [
    {
     "data": {
      "text/plain": [
       "np.True_"
      ]
     },
     "execution_count": 19,
     "metadata": {},
     "output_type": "execute_result"
    },
    {
     "data": {
      "application/javascript": [
       "\n",
       "        setTimeout(function() {\n",
       "            var nbb_cell_id = 19;\n",
       "            var nbb_formatted_code = \"will_hit(direction, cue, target, ball_diameter)\";\n",
       "            var nbb_cells = Jupyter.notebook.get_cells();\n",
       "            for (var i = 0; i < nbb_cells.length; ++i) {\n",
       "                if (nbb_cells[i].input_prompt_number == nbb_cell_id) {\n",
       "                    nbb_cells[i].set_text(nbb_formatted_code);\n",
       "                    break;\n",
       "                }\n",
       "            }\n",
       "        }, 500);\n",
       "        "
      ],
      "text/plain": [
       "<IPython.core.display.Javascript object>"
      ]
     },
     "metadata": {},
     "output_type": "display_data"
    }
   ],
   "source": [
    "will_hit(direction, cue, target, ball_diameter)"
   ]
  },
  {
   "cell_type": "code",
   "execution_count": 20,
   "id": "82dcdec2",
   "metadata": {},
   "outputs": [
    {
     "data": {
      "application/javascript": [
       "\n",
       "        setTimeout(function() {\n",
       "            var nbb_cell_id = 20;\n",
       "            var nbb_formatted_code = \"def error_func(magnitude, direction, pos1, pos2, goal_distance):\\n    actual_distance = objective_func(magnitude, direction, pos1, pos2)\\n    return actual_distance - goal_distance\";\n",
       "            var nbb_cells = Jupyter.notebook.get_cells();\n",
       "            for (var i = 0; i < nbb_cells.length; ++i) {\n",
       "                if (nbb_cells[i].input_prompt_number == nbb_cell_id) {\n",
       "                    nbb_cells[i].set_text(nbb_formatted_code);\n",
       "                    break;\n",
       "                }\n",
       "            }\n",
       "        }, 500);\n",
       "        "
      ],
      "text/plain": [
       "<IPython.core.display.Javascript object>"
      ]
     },
     "metadata": {},
     "output_type": "display_data"
    }
   ],
   "source": [
    "def error_func(magnitude, direction, pos1, pos2, goal_distance):\n",
    "    actual_distance = objective_func(magnitude, direction, pos1, pos2)\n",
    "    return actual_distance - goal_distance"
   ]
  },
  {
   "cell_type": "code",
   "execution_count": 21,
   "id": "e5dd3eb9",
   "metadata": {},
   "outputs": [
    {
     "data": {
      "text/plain": [
       "np.float64(1.1498408441525232)"
      ]
     },
     "execution_count": 21,
     "metadata": {},
     "output_type": "execute_result"
    },
    {
     "data": {
      "application/javascript": [
       "\n",
       "        setTimeout(function() {\n",
       "            var nbb_cell_id = 21;\n",
       "            var nbb_formatted_code = \"error_func(magnitude, direction, cue, target, ball_diameter)\";\n",
       "            var nbb_cells = Jupyter.notebook.get_cells();\n",
       "            for (var i = 0; i < nbb_cells.length; ++i) {\n",
       "                if (nbb_cells[i].input_prompt_number == nbb_cell_id) {\n",
       "                    nbb_cells[i].set_text(nbb_formatted_code);\n",
       "                    break;\n",
       "                }\n",
       "            }\n",
       "        }, 500);\n",
       "        "
      ],
      "text/plain": [
       "<IPython.core.display.Javascript object>"
      ]
     },
     "metadata": {},
     "output_type": "display_data"
    }
   ],
   "source": [
    "error_func(magnitude, direction, cue, target, ball_diameter)"
   ]
  },
  {
   "cell_type": "code",
   "execution_count": 22,
   "id": "a3e6a0ca",
   "metadata": {},
   "outputs": [
    {
     "data": {
      "application/javascript": [
       "\n",
       "        setTimeout(function() {\n",
       "            var nbb_cell_id = 22;\n",
       "            var nbb_formatted_code = \"lower = distance_to_min - ball_diameter\\nupper = distance_to_min\";\n",
       "            var nbb_cells = Jupyter.notebook.get_cells();\n",
       "            for (var i = 0; i < nbb_cells.length; ++i) {\n",
       "                if (nbb_cells[i].input_prompt_number == nbb_cell_id) {\n",
       "                    nbb_cells[i].set_text(nbb_formatted_code);\n",
       "                    break;\n",
       "                }\n",
       "            }\n",
       "        }, 500);\n",
       "        "
      ],
      "text/plain": [
       "<IPython.core.display.Javascript object>"
      ]
     },
     "metadata": {},
     "output_type": "display_data"
    }
   ],
   "source": [
    "lower = distance_to_min - ball_diameter\n",
    "upper = distance_to_min"
   ]
  },
  {
   "cell_type": "code",
   "execution_count": 23,
   "id": "d3f4974f",
   "metadata": {},
   "outputs": [
    {
     "data": {
      "application/javascript": [
       "\n",
       "        setTimeout(function() {\n",
       "            var nbb_cell_id = 23;\n",
       "            var nbb_formatted_code = \"from scipy.optimize import root_scalar\\n\\nargs = (direction, cue, target, ball_diameter)\\nsolution = root_scalar(error_func, bracket=[lower, upper], args=args, method=\\\"brentq\\\")\\nassert solution.converged\";\n",
       "            var nbb_cells = Jupyter.notebook.get_cells();\n",
       "            for (var i = 0; i < nbb_cells.length; ++i) {\n",
       "                if (nbb_cells[i].input_prompt_number == nbb_cell_id) {\n",
       "                    nbb_cells[i].set_text(nbb_formatted_code);\n",
       "                    break;\n",
       "                }\n",
       "            }\n",
       "        }, 500);\n",
       "        "
      ],
      "text/plain": [
       "<IPython.core.display.Javascript object>"
      ]
     },
     "metadata": {},
     "output_type": "display_data"
    }
   ],
   "source": [
    "from scipy.optimize import root_scalar\n",
    "\n",
    "args = (direction, cue, target, ball_diameter)\n",
    "solution = root_scalar(error_func, bracket=[lower, upper], args=args, method=\"brentq\")\n",
    "assert solution.converged"
   ]
  },
  {
   "cell_type": "code",
   "execution_count": 24,
   "id": "f8dcef91",
   "metadata": {},
   "outputs": [
    {
     "data": {
      "text/plain": [
       "48.442748672152476"
      ]
     },
     "execution_count": 24,
     "metadata": {},
     "output_type": "execute_result"
    },
    {
     "data": {
      "application/javascript": [
       "\n",
       "        setTimeout(function() {\n",
       "            var nbb_cell_id = 24;\n",
       "            var nbb_formatted_code = \"magnitude = solution.root\\nmagnitude\";\n",
       "            var nbb_cells = Jupyter.notebook.get_cells();\n",
       "            for (var i = 0; i < nbb_cells.length; ++i) {\n",
       "                if (nbb_cells[i].input_prompt_number == nbb_cell_id) {\n",
       "                    nbb_cells[i].set_text(nbb_formatted_code);\n",
       "                    break;\n",
       "                }\n",
       "            }\n",
       "        }, 500);\n",
       "        "
      ],
      "text/plain": [
       "<IPython.core.display.Javascript object>"
      ]
     },
     "metadata": {},
     "output_type": "display_data"
    }
   ],
   "source": [
    "magnitude = solution.root\n",
    "magnitude"
   ]
  },
  {
   "cell_type": "code",
   "execution_count": 25,
   "id": "1a2ce5b5",
   "metadata": {},
   "outputs": [
    {
     "data": {
      "application/javascript": [
       "\n",
       "        setTimeout(function() {\n",
       "            var nbb_cell_id = 25;\n",
       "            var nbb_formatted_code = \"v_soln = magnitude * direction\\npos1 = cue + v_soln\\npos2 = target\";\n",
       "            var nbb_cells = Jupyter.notebook.get_cells();\n",
       "            for (var i = 0; i < nbb_cells.length; ++i) {\n",
       "                if (nbb_cells[i].input_prompt_number == nbb_cell_id) {\n",
       "                    nbb_cells[i].set_text(nbb_formatted_code);\n",
       "                    break;\n",
       "                }\n",
       "            }\n",
       "        }, 500);\n",
       "        "
      ],
      "text/plain": [
       "<IPython.core.display.Javascript object>"
      ]
     },
     "metadata": {},
     "output_type": "display_data"
    }
   ],
   "source": [
    "v_soln = magnitude * direction\n",
    "pos1 = cue + v_soln\n",
    "pos2 = target"
   ]
  },
  {
   "cell_type": "code",
   "execution_count": 78,
   "id": "8724c511",
   "metadata": {},
   "outputs": [
    {
     "data": {
      "image/png": "[encoded data removed]",
      "text/plain": [
       "<Figure size 375x187.5 with 1 Axes>"
      ]
     },
     "metadata": {},
     "output_type": "display_data"
    },
    {
     "data": {
      "application/javascript": [
       "\n",
       "        setTimeout(function() {\n",
       "            var nbb_cell_id = 78;\n",
       "            var nbb_formatted_code = \"draw_table()\\ndraw_circles([pos1, target])\\nplot_vector(v_soln, cue)\\ndecorate(xlim=[60, 80], ylim=[20, 30])\";\n",
       "            var nbb_cells = Jupyter.notebook.get_cells();\n",
       "            for (var i = 0; i < nbb_cells.length; ++i) {\n",
       "                if (nbb_cells[i].input_prompt_number == nbb_cell_id) {\n",
       "                    nbb_cells[i].set_text(nbb_formatted_code);\n",
       "                    break;\n",
       "                }\n",
       "            }\n",
       "        }, 500);\n",
       "        "
      ],
      "text/plain": [
       "<IPython.core.display.Javascript object>"
      ]
     },
     "metadata": {},
     "output_type": "display_data"
    }
   ],
   "source": [
    "draw_table()\n",
    "draw_circles([pos1, target])\n",
    "plot_vector(v_soln, cue)\n",
    "decorate(xlim=[60, 80], ylim=[20, 30])"
   ]
  },
  {
   "cell_type": "code",
   "execution_count": 27,
   "id": "32bf6b70",
   "metadata": {},
   "outputs": [
    {
     "data": {
      "application/javascript": [
       "\n",
       "        setTimeout(function() {\n",
       "            var nbb_cell_id = 27;\n",
       "            var nbb_formatted_code = \"def normalize(v):\\n    return v / norm(v)\";\n",
       "            var nbb_cells = Jupyter.notebook.get_cells();\n",
       "            for (var i = 0; i < nbb_cells.length; ++i) {\n",
       "                if (nbb_cells[i].input_prompt_number == nbb_cell_id) {\n",
       "                    nbb_cells[i].set_text(nbb_formatted_code);\n",
       "                    break;\n",
       "                }\n",
       "            }\n",
       "        }, 500);\n",
       "        "
      ],
      "text/plain": [
       "<IPython.core.display.Javascript object>"
      ]
     },
     "metadata": {},
     "output_type": "display_data"
    }
   ],
   "source": [
    "def normalize(v):\n",
    "    return v / norm(v)"
   ]
  },
  {
   "cell_type": "code",
   "execution_count": 28,
   "id": "c1acb38c",
   "metadata": {},
   "outputs": [
    {
     "data": {
      "application/javascript": [
       "\n",
       "        setTimeout(function() {\n",
       "            var nbb_cell_id = 28;\n",
       "            var nbb_formatted_code = \"v1 = v / norm(v)\\nv2 = np.array([0, 0])\\nn = normalize(pos2 - pos1)\";\n",
       "            var nbb_cells = Jupyter.notebook.get_cells();\n",
       "            for (var i = 0; i < nbb_cells.length; ++i) {\n",
       "                if (nbb_cells[i].input_prompt_number == nbb_cell_id) {\n",
       "                    nbb_cells[i].set_text(nbb_formatted_code);\n",
       "                    break;\n",
       "                }\n",
       "            }\n",
       "        }, 500);\n",
       "        "
      ],
      "text/plain": [
       "<IPython.core.display.Javascript object>"
      ]
     },
     "metadata": {},
     "output_type": "display_data"
    }
   ],
   "source": [
    "v1 = v / norm(v)\n",
    "v2 = np.array([0, 0])\n",
    "n = normalize(pos2 - pos1)"
   ]
  },
  {
   "cell_type": "code",
   "execution_count": 80,
   "id": "7ae56d5d",
   "metadata": {},
   "outputs": [
    {
     "data": {
      "image/png": "[encoded data removed]",
      "text/plain": [
       "<Figure size 375x187.5 with 1 Axes>"
      ]
     },
     "metadata": {},
     "output_type": "display_data"
    },
    {
     "data": {
      "application/javascript": [
       "\n",
       "        setTimeout(function() {\n",
       "            var nbb_cell_id = 80;\n",
       "            var nbb_formatted_code = \"from utils import plot_vectors\\n\\ndraw_table()\\ndraw_circles([pos1, target])\\nplot_vector(v_soln, cue)\\nplot_vectors([v1, n], [pos1, pos1], scale=5, color=\\\"C2\\\")\\ndecorate(xlim=[60, 80], ylim=[20, 30])\";\n",
       "            var nbb_cells = Jupyter.notebook.get_cells();\n",
       "            for (var i = 0; i < nbb_cells.length; ++i) {\n",
       "                if (nbb_cells[i].input_prompt_number == nbb_cell_id) {\n",
       "                    nbb_cells[i].set_text(nbb_formatted_code);\n",
       "                    break;\n",
       "                }\n",
       "            }\n",
       "        }, 500);\n",
       "        "
      ],
      "text/plain": [
       "<IPython.core.display.Javascript object>"
      ]
     },
     "metadata": {},
     "output_type": "display_data"
    }
   ],
   "source": [
    "from utils import plot_vectors\n",
    "\n",
    "draw_table()\n",
    "draw_circles([pos1, target])\n",
    "plot_vector(v_soln, cue)\n",
    "plot_vectors([v1, n], [pos1, pos1], scale=5, color=\"C2\")\n",
    "decorate(xlim=[60, 80], ylim=[20, 30])"
   ]
  },
  {
   "cell_type": "code",
   "execution_count": 30,
   "id": "7fa17eb4",
   "metadata": {},
   "outputs": [
    {
     "data": {
      "application/javascript": [
       "\n",
       "        setTimeout(function() {\n",
       "            var nbb_cell_id = 30;\n",
       "            var nbb_formatted_code = \"def dot(v, w):\\n    return np.dot(v, w)\";\n",
       "            var nbb_cells = Jupyter.notebook.get_cells();\n",
       "            for (var i = 0; i < nbb_cells.length; ++i) {\n",
       "                if (nbb_cells[i].input_prompt_number == nbb_cell_id) {\n",
       "                    nbb_cells[i].set_text(nbb_formatted_code);\n",
       "                    break;\n",
       "                }\n",
       "            }\n",
       "        }, 500);\n",
       "        "
      ],
      "text/plain": [
       "<IPython.core.display.Javascript object>"
      ]
     },
     "metadata": {},
     "output_type": "display_data"
    }
   ],
   "source": [
    "def dot(v, w):\n",
    "    return np.dot(v, w)"
   ]
  },
  {
   "cell_type": "code",
   "execution_count": 31,
   "id": "955df81b",
   "metadata": {},
   "outputs": [
    {
     "data": {
      "application/javascript": [
       "\n",
       "        setTimeout(function() {\n",
       "            var nbb_cell_id = 31;\n",
       "            var nbb_formatted_code = \"v1_normal = dot(v1, n) / dot(n, n) * n\\nv1_tangent = v1 - v1_normal\";\n",
       "            var nbb_cells = Jupyter.notebook.get_cells();\n",
       "            for (var i = 0; i < nbb_cells.length; ++i) {\n",
       "                if (nbb_cells[i].input_prompt_number == nbb_cell_id) {\n",
       "                    nbb_cells[i].set_text(nbb_formatted_code);\n",
       "                    break;\n",
       "                }\n",
       "            }\n",
       "        }, 500);\n",
       "        "
      ],
      "text/plain": [
       "<IPython.core.display.Javascript object>"
      ]
     },
     "metadata": {},
     "output_type": "display_data"
    }
   ],
   "source": [
    "v1_normal = dot(v1, n) / dot(n, n) * n\n",
    "v1_tangent = v1 - v1_normal"
   ]
  },
  {
   "cell_type": "code",
   "execution_count": 81,
   "id": "96317d14",
   "metadata": {},
   "outputs": [
    {
     "data": {
      "image/png": "[encoded data removed]",
      "text/plain": [
       "<Figure size 375x187.5 with 1 Axes>"
      ]
     },
     "metadata": {},
     "output_type": "display_data"
    },
    {
     "data": {
      "application/javascript": [
       "\n",
       "        setTimeout(function() {\n",
       "            var nbb_cell_id = 81;\n",
       "            var nbb_formatted_code = \"draw_table()\\ndraw_circles([pos1, target], alpha=0.2)\\nplot_vectors([v1 * 5, n * 5], [pos1, pos1], color=\\\"C2\\\")\\nplot_vectors([v1_normal * 5, v1_tangent * 5], [pos1, pos1], color=\\\"C3\\\")\\ndecorate(xlim=[65, 80], ylim=[20, 30])\";\n",
       "            var nbb_cells = Jupyter.notebook.get_cells();\n",
       "            for (var i = 0; i < nbb_cells.length; ++i) {\n",
       "                if (nbb_cells[i].input_prompt_number == nbb_cell_id) {\n",
       "                    nbb_cells[i].set_text(nbb_formatted_code);\n",
       "                    break;\n",
       "                }\n",
       "            }\n",
       "        }, 500);\n",
       "        "
      ],
      "text/plain": [
       "<IPython.core.display.Javascript object>"
      ]
     },
     "metadata": {},
     "output_type": "display_data"
    }
   ],
   "source": [
    "draw_table()\n",
    "draw_circles([pos1, target], alpha=0.2)\n",
    "plot_vectors([v1 * 5, n * 5], [pos1, pos1], color=\"C2\")\n",
    "plot_vectors([v1_normal * 5, v1_tangent * 5], [pos1, pos1], color=\"C3\")\n",
    "decorate(xlim=[65, 80], ylim=[20, 30])"
   ]
  },
  {
   "cell_type": "code",
   "execution_count": 33,
   "id": "6f01f9d3",
   "metadata": {},
   "outputs": [
    {
     "data": {
      "application/javascript": [
       "\n",
       "        setTimeout(function() {\n",
       "            var nbb_cell_id = 33;\n",
       "            var nbb_formatted_code = \"v2_normal = dot(v2, n) / dot(n, n) * n\\nv2_tangent = v2 - v2_normal\";\n",
       "            var nbb_cells = Jupyter.notebook.get_cells();\n",
       "            for (var i = 0; i < nbb_cells.length; ++i) {\n",
       "                if (nbb_cells[i].input_prompt_number == nbb_cell_id) {\n",
       "                    nbb_cells[i].set_text(nbb_formatted_code);\n",
       "                    break;\n",
       "                }\n",
       "            }\n",
       "        }, 500);\n",
       "        "
      ],
      "text/plain": [
       "<IPython.core.display.Javascript object>"
      ]
     },
     "metadata": {},
     "output_type": "display_data"
    }
   ],
   "source": [
    "v2_normal = dot(v2, n) / dot(n, n) * n\n",
    "v2_tangent = v2 - v2_normal"
   ]
  },
  {
   "cell_type": "code",
   "execution_count": 34,
   "id": "aa809bbc",
   "metadata": {},
   "outputs": [
    {
     "data": {
      "application/javascript": [
       "\n",
       "        setTimeout(function() {\n",
       "            var nbb_cell_id = 34;\n",
       "            var nbb_formatted_code = \"v1_after = v1_tangent + v2_normal\\nv2_after = v2_tangent + v1_normal\";\n",
       "            var nbb_cells = Jupyter.notebook.get_cells();\n",
       "            for (var i = 0; i < nbb_cells.length; ++i) {\n",
       "                if (nbb_cells[i].input_prompt_number == nbb_cell_id) {\n",
       "                    nbb_cells[i].set_text(nbb_formatted_code);\n",
       "                    break;\n",
       "                }\n",
       "            }\n",
       "        }, 500);\n",
       "        "
      ],
      "text/plain": [
       "<IPython.core.display.Javascript object>"
      ]
     },
     "metadata": {},
     "output_type": "display_data"
    }
   ],
   "source": [
    "v1_after = v1_tangent + v2_normal\n",
    "v2_after = v2_tangent + v1_normal"
   ]
  },
  {
   "cell_type": "code",
   "execution_count": 84,
   "id": "dd083045",
   "metadata": {},
   "outputs": [
    {
     "data": {
      "text/plain": [
       "<matplotlib.quiver.Quiver at 0x7f75cf637f70>"
      ]
     },
     "execution_count": 84,
     "metadata": {},
     "output_type": "execute_result"
    },
    {
     "data": {
      "image/png": "[encoded data removed]",
      "text/plain": [
       "<Figure size 375x187.5 with 1 Axes>"
      ]
     },
     "metadata": {},
     "output_type": "display_data"
    },
    {
     "data": {
      "application/javascript": [
       "\n",
       "        setTimeout(function() {\n",
       "            var nbb_cell_id = 84;\n",
       "            var nbb_formatted_code = \"draw_table()\\ndraw_circles([pos1, target], alpha=0.6)\\nplot_vectors([v1_after, v2_after], [pos1, pos2], scale=40, color=\\\"C2\\\")\";\n",
       "            var nbb_cells = Jupyter.notebook.get_cells();\n",
       "            for (var i = 0; i < nbb_cells.length; ++i) {\n",
       "                if (nbb_cells[i].input_prompt_number == nbb_cell_id) {\n",
       "                    nbb_cells[i].set_text(nbb_formatted_code);\n",
       "                    break;\n",
       "                }\n",
       "            }\n",
       "        }, 500);\n",
       "        "
      ],
      "text/plain": [
       "<IPython.core.display.Javascript object>"
      ]
     },
     "metadata": {},
     "output_type": "display_data"
    }
   ],
   "source": [
    "draw_table()\n",
    "draw_circles([pos1, target], alpha=0.6)\n",
    "plot_vectors([v1_after, v2_after], [pos1, pos2], scale=40, color=\"C2\")"
   ]
  },
  {
   "cell_type": "code",
   "execution_count": 36,
   "id": "7665b5e1",
   "metadata": {},
   "outputs": [
    {
     "data": {
      "application/javascript": [
       "\n",
       "        setTimeout(function() {\n",
       "            var nbb_cell_id = 36;\n",
       "            var nbb_formatted_code = \"pocket1 = np.array([100, 50])\\npocket2 = np.array([100, 0])\";\n",
       "            var nbb_cells = Jupyter.notebook.get_cells();\n",
       "            for (var i = 0; i < nbb_cells.length; ++i) {\n",
       "                if (nbb_cells[i].input_prompt_number == nbb_cell_id) {\n",
       "                    nbb_cells[i].set_text(nbb_formatted_code);\n",
       "                    break;\n",
       "                }\n",
       "            }\n",
       "        }, 500);\n",
       "        "
      ],
      "text/plain": [
       "<IPython.core.display.Javascript object>"
      ]
     },
     "metadata": {},
     "output_type": "display_data"
    }
   ],
   "source": [
    "pocket1 = np.array([100, 50])\n",
    "pocket2 = np.array([100, 0])"
   ]
  },
  {
   "cell_type": "code",
   "execution_count": 37,
   "id": "00fffdce",
   "metadata": {},
   "outputs": [
    {
     "data": {
      "text/plain": [
       "np.True_"
      ]
     },
     "execution_count": 37,
     "metadata": {},
     "output_type": "execute_result"
    },
    {
     "data": {
      "application/javascript": [
       "\n",
       "        setTimeout(function() {\n",
       "            var nbb_cell_id = 37;\n",
       "            var nbb_formatted_code = \"will_hit(v2_after, pos2, pocket2, ball_diameter)\";\n",
       "            var nbb_cells = Jupyter.notebook.get_cells();\n",
       "            for (var i = 0; i < nbb_cells.length; ++i) {\n",
       "                if (nbb_cells[i].input_prompt_number == nbb_cell_id) {\n",
       "                    nbb_cells[i].set_text(nbb_formatted_code);\n",
       "                    break;\n",
       "                }\n",
       "            }\n",
       "        }, 500);\n",
       "        "
      ],
      "text/plain": [
       "<IPython.core.display.Javascript object>"
      ]
     },
     "metadata": {},
     "output_type": "display_data"
    }
   ],
   "source": [
    "will_hit(v2_after, pos2, pocket2, ball_diameter)"
   ]
  },
  {
   "cell_type": "code",
   "execution_count": 38,
   "id": "330a381b",
   "metadata": {},
   "outputs": [
    {
     "data": {
      "text/plain": [
       "np.False_"
      ]
     },
     "execution_count": 38,
     "metadata": {},
     "output_type": "execute_result"
    },
    {
     "data": {
      "application/javascript": [
       "\n",
       "        setTimeout(function() {\n",
       "            var nbb_cell_id = 38;\n",
       "            var nbb_formatted_code = \"will_hit(v1_after, pos1, pocket1, ball_diameter)\";\n",
       "            var nbb_cells = Jupyter.notebook.get_cells();\n",
       "            for (var i = 0; i < nbb_cells.length; ++i) {\n",
       "                if (nbb_cells[i].input_prompt_number == nbb_cell_id) {\n",
       "                    nbb_cells[i].set_text(nbb_formatted_code);\n",
       "                    break;\n",
       "                }\n",
       "            }\n",
       "        }, 500);\n",
       "        "
      ],
      "text/plain": [
       "<IPython.core.display.Javascript object>"
      ]
     },
     "metadata": {},
     "output_type": "display_data"
    }
   ],
   "source": [
    "will_hit(v1_after, pos1, pocket1, ball_diameter)"
   ]
  },
  {
   "cell_type": "code",
   "execution_count": 68,
   "id": "4078c517",
   "metadata": {},
   "outputs": [
    {
     "data": {
      "application/javascript": [
       "\n",
       "        setTimeout(function() {\n",
       "            var nbb_cell_id = 68;\n",
       "            var nbb_formatted_code = \"from utils import vector_perp\\n\\n\\ndef label_vector(vector, origin, label, pos, offset=4):\\n    \\\"\\\"\\\"Label a vector with a string at a given position.\\n\\n    Args:\\n        vector: array-like\\n        origin: array-like\\n        label: string\\n        pos: integer clock position\\n        offset: offset of the label from the vector\\n    \\\"\\\"\\\"\\n    u = normalize(vector)\\n    v = vector_perp(u)\\n\\n    pos %= 12\\n    mag_u = np.array([4, 4, 3, 2, 1, 0, 0, 0, 1, 2, 3, 4])[pos] * norm(vector) / 4\\n    offset_u = np.array([1, 0, 0, 0, 0, 0, -1, 0, 0, 0, 0, 0])[pos] * offset\\n    offset_v = np.array([0, -1, -1, -1, -1, -1, 0, 1, 1, 1, 1, 1])[pos] * offset\\n\\n    x, y = origin + u * (mag_u + offset_u) + v * offset_v\\n    plt.text(x, y, label, fontsize=12, ha=\\\"center\\\", va=\\\"center\\\")\";\n",
       "            var nbb_cells = Jupyter.notebook.get_cells();\n",
       "            for (var i = 0; i < nbb_cells.length; ++i) {\n",
       "                if (nbb_cells[i].input_prompt_number == nbb_cell_id) {\n",
       "                    nbb_cells[i].set_text(nbb_formatted_code);\n",
       "                    break;\n",
       "                }\n",
       "            }\n",
       "        }, 500);\n",
       "        "
      ],
      "text/plain": [
       "<IPython.core.display.Javascript object>"
      ]
     },
     "metadata": {},
     "output_type": "display_data"
    }
   ],
   "source": []
  },
  {
   "cell_type": "code",
   "execution_count": 76,
   "id": "08cfe965",
   "metadata": {},
   "outputs": [
    {
     "data": {
      "text/plain": [
       "<matplotlib.quiver.Quiver at 0x7f75cf8e84c0>"
      ]
     },
     "execution_count": 76,
     "metadata": {},
     "output_type": "execute_result"
    },
    {
     "data": {
      "image/png": "[encoded data removed]",
      "text/plain": [
       "<Figure size 375x187.5 with 1 Axes>"
      ]
     },
     "metadata": {},
     "output_type": "display_data"
    },
    {
     "data": {
      "application/javascript": [
       "\n",
       "        setTimeout(function() {\n",
       "            var nbb_cell_id = 76;\n",
       "            var nbb_formatted_code = \"from utils import plot_vector\\n\\ndraw_table()\\norigin = cue\\nvector = np.array([30, 15])\\nplot_vector(vector, origin, labels=[\\\"v\\\"], label_pos=[6])\";\n",
       "            var nbb_cells = Jupyter.notebook.get_cells();\n",
       "            for (var i = 0; i < nbb_cells.length; ++i) {\n",
       "                if (nbb_cells[i].input_prompt_number == nbb_cell_id) {\n",
       "                    nbb_cells[i].set_text(nbb_formatted_code);\n",
       "                    break;\n",
       "                }\n",
       "            }\n",
       "        }, 500);\n",
       "        "
      ],
      "text/plain": [
       "<IPython.core.display.Javascript object>"
      ]
     },
     "metadata": {},
     "output_type": "display_data"
    }
   ],
   "source": [
    "from utils import plot_vector\n",
    "\n",
    "draw_table()\n",
    "origin = cue\n",
    "vector = np.array([30, 15])\n",
    "plot_vector(vector, origin, labels=[\"v\"], label_pos=[6])"
   ]
  },
  {
   "cell_type": "markdown",
   "id": "e27da3a4",
   "metadata": {
    "tags": [
     "remove-print"
    ]
   },
   "source": [
    "[Think Linear Algebra](https://allendowney.github.io/ThinkLinearAlgebra/index.html)\n",
    "\n",
    "Copyright 2025 [Allen B. Downey](https://allendowney.com)\n",
    "\n",
    "Code license: [MIT License](https://mit-license.org/)\n",
    "\n",
    "Text license: [Creative Commons Attribution-NonCommercial-ShareAlike 4.0 International](https://creativecommons.org/licenses/by-nc-sa/4.0/)"
   ]
  },
  {
   "cell_type": "code",
   "execution_count": null,
   "id": "6b3833be",
   "metadata": {},
   "outputs": [],
   "source": []
  }
 ],
 "metadata": {
  "celltoolbar": "Tags",
  "kernelspec": {
   "display_name": "Python 3 (ipykernel)",
   "language": "python",
   "name": "python3"
  },
  "language_info": {
   "codemirror_mode": {
    "name": "ipython",
    "version": 3
   },
   "file_extension": ".py",
   "mimetype": "text/x-python",
   "name": "python",
   "nbconvert_exporter": "python",
   "pygments_lexer": "ipython3",
   "version": "3.10.16"
  }
 },
 "nbformat": 4,
 "nbformat_minor": 5
}
