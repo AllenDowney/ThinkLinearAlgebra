{
 "cells": [
  {
   "cell_type": "markdown",
   "id": "025b76df",
   "metadata": {},
   "source": [
    "*Think Linear Algebra* is not for sale yet, but if you would like to support this project, you can [buy me a coffee](https://buymeacoffee.com/allendowney)."
   ]
  },
  {
   "cell_type": "markdown",
   "id": "85c30bdb",
   "metadata": {},
   "source": [
    "# Dot Product\n",
    "\n"
   ]
  },
  {
   "cell_type": "markdown",
   "id": "3893fe82",
   "metadata": {
    "tags": [
     "remove-print"
    ]
   },
   "source": [
    "[Click here to run this notebook on Colab](https://colab.research.google.com/github/AllenDowney/ThinkLinearAlgebra/blob/main/nb/dot.ipynb)."
   ]
  },
  {
   "cell_type": "code",
   "execution_count": 1,
   "id": "3bb1c675",
   "metadata": {
    "tags": [
     "remove-print",
     "hide-cell"
    ]
   },
   "outputs": [],
   "source": [
    "%load_ext autoreload\n",
    "%autoreload 2"
   ]
  },
  {
   "cell_type": "code",
   "execution_count": 2,
   "id": "02d400cf",
   "metadata": {
    "tags": [
     "remove-print",
     "hide-cell"
    ]
   },
   "outputs": [],
   "source": [
    "from os.path import basename, exists\n",
    "\n",
    "\n",
    "def download(url):\n",
    "    filename = basename(url)\n",
    "    if not exists(filename):\n",
    "        from urllib.request import urlretrieve\n",
    "\n",
    "        local, _ = urlretrieve(url, filename)\n",
    "        print(\"Downloaded \" + local)\n",
    "\n",
    "\n",
    "download(\"https://github.com/AllenDowney/ThinkLinearAlgebra/raw/main/utils.py\")"
   ]
  },
  {
   "cell_type": "code",
   "execution_count": 3,
   "id": "1a3119be",
   "metadata": {
    "tags": [
     "hide-cell",
     "remove-print"
    ]
   },
   "outputs": [],
   "source": [
    "import numpy as np\n",
    "import pandas as pd\n",
    "import matplotlib.pyplot as plt\n",
    "\n",
    "from utils import decorate"
   ]
  },
  {
   "cell_type": "code",
   "execution_count": 70,
   "id": "d9319226",
   "metadata": {},
   "outputs": [],
   "source": [
    "from utils import set_precision\n",
    "\n",
    "set_precision(4)"
   ]
  },
  {
   "cell_type": "markdown",
   "id": "5d6febee",
   "metadata": {},
   "source": [
    "## Polar Coordinates\n",
    "\n",
    "Let's start with a two-dimensional vector, `v`."
   ]
  },
  {
   "cell_type": "code",
   "execution_count": 180,
   "id": "ecfccf8e",
   "metadata": {},
   "outputs": [
    {
     "data": {
      "text/plain": [
       "array([1.5, 2. ])"
      ]
     },
     "execution_count": 180,
     "metadata": {},
     "output_type": "execute_result"
    }
   ],
   "source": [
    "v = np.array([1.5, 2])\n",
    "v"
   ]
  },
  {
   "cell_type": "markdown",
   "id": "82b15192",
   "metadata": {},
   "source": [
    "Here's the graphical representation of this vector as an arrow with its tail at the origin and its head at the point $(1.5, 2)$ in Cartesian coordinates. "
   ]
  },
  {
   "cell_type": "code",
   "execution_count": 214,
   "id": "9fdc6bae",
   "metadata": {},
   "outputs": [
    {
     "data": {
      "image/png": "[encoded data removed]",
      "text/plain": [
       "<Figure size 450x262.5 with 1 Axes>"
      ]
     },
     "metadata": {},
     "output_type": "display_data"
    }
   ],
   "source": [
    "plot_vectors(v)\n",
    "plt.plot([0, 1.5, 1.5], [0, 0, 2], ':', color='gray')\n",
    "decorate(aspect='equal', xlim=[-0.1, 2.1], ylim=[-0.1, 2.1])\n",
    "remove_spines()"
   ]
  },
  {
   "cell_type": "markdown",
   "id": "c1609a16",
   "metadata": {},
   "source": [
    "To compute the length of this vector, we can use the Pythagorean formula to compute the hypotenuse of a right triangle with side lengths $1.5$ and $2$."
   ]
  },
  {
   "cell_type": "code",
   "execution_count": 182,
   "id": "e1c8de31",
   "metadata": {},
   "outputs": [
    {
     "data": {
      "text/plain": [
       "2.5000"
      ]
     },
     "execution_count": 182,
     "metadata": {},
     "output_type": "execute_result"
    }
   ],
   "source": [
    "x, y = v\n",
    "np.sqrt(x**2 + y**2)"
   ]
  },
  {
   "cell_type": "markdown",
   "id": "729f7c00",
   "metadata": {},
   "source": [
    "Or the `hypot` function does the same thing."
   ]
  },
  {
   "cell_type": "code",
   "execution_count": 183,
   "id": "8b15e265",
   "metadata": {},
   "outputs": [
    {
     "data": {
      "text/plain": [
       "2.5000"
      ]
     },
     "execution_count": 183,
     "metadata": {},
     "output_type": "execute_result"
    }
   ],
   "source": [
    "np.hypot(x, y)"
   ]
  },
  {
   "cell_type": "markdown",
   "id": "e643dcab",
   "metadata": {},
   "source": [
    "The length of a vector is called a `norm` -- to be more precise, the length we computed is the 2-norm.\n",
    "NumPy provides a function that computes it, and it works with any number of dimensions."
   ]
  },
  {
   "cell_type": "code",
   "execution_count": 184,
   "id": "34b8ad06",
   "metadata": {},
   "outputs": [
    {
     "data": {
      "text/plain": [
       "2.5000"
      ]
     },
     "execution_count": 184,
     "metadata": {},
     "output_type": "execute_result"
    }
   ],
   "source": [
    "from numpy.linalg import norm\n",
    "\n",
    "norm(v)"
   ]
  },
  {
   "cell_type": "markdown",
   "id": "96e401a1",
   "metadata": {},
   "source": [
    "To represent the direction of the vector, we'll use the angle it forms with the positive $x$ axis, which we can compute using the inverse tangent function, `arctan2`."
   ]
  },
  {
   "cell_type": "code",
   "execution_count": 185,
   "id": "1c6a356e",
   "metadata": {},
   "outputs": [
    {
     "data": {
      "text/plain": [
       "0.9273"
      ]
     },
     "execution_count": 185,
     "metadata": {},
     "output_type": "execute_result"
    }
   ],
   "source": [
    "theta = np.arctan2(y, x)\n",
    "theta"
   ]
  },
  {
   "cell_type": "markdown",
   "id": "6def515c",
   "metadata": {},
   "source": [
    "The length and angle we just computed represent the vector in polar coordinates.\n",
    "We'll use the following function to convert from Cartesian to polar coordinates."
   ]
  },
  {
   "cell_type": "code",
   "execution_count": 186,
   "id": "aa79607c",
   "metadata": {},
   "outputs": [],
   "source": [
    "def cart2pol(v):\n",
    "    x, y = np.transpose(v)\n",
    "    r = np.hypot(x, y)\n",
    "    theta = np.arctan2(y, x)\n",
    "    return r, theta"
   ]
  },
  {
   "cell_type": "markdown",
   "id": "d4f3a351",
   "metadata": {},
   "source": [
    "Here's the polar representation of `v`."
   ]
  },
  {
   "cell_type": "code",
   "execution_count": 187,
   "id": "3a17874e",
   "metadata": {},
   "outputs": [
    {
     "data": {
      "text/plain": [
       "(2.5000, 0.9273)"
      ]
     },
     "execution_count": 187,
     "metadata": {},
     "output_type": "execute_result"
    }
   ],
   "source": [
    "r, theta = cart2pol(v)\n",
    "r, theta"
   ]
  },
  {
   "cell_type": "markdown",
   "id": "202b3ebb",
   "metadata": {},
   "source": [
    "## Projection\n",
    "\n",
    "Projection might be the most important idea in linear algebra.\n",
    "To introduce the idea, we'll start by computing the **scalar projection** of `v` onto the $x$ axis, which you can think of as the shadow `v` would cast on the $x$ axis if lighted from above.\n",
    "By the rules of trigonometry, we can compute it like this."
   ]
  },
  {
   "cell_type": "code",
   "execution_count": 227,
   "id": "71b414f8",
   "metadata": {},
   "outputs": [
    {
     "data": {
      "text/plain": [
       "1.5000"
      ]
     },
     "execution_count": 227,
     "metadata": {},
     "output_type": "execute_result"
    }
   ],
   "source": [
    "scalar_proj_x = r * np.cos(theta)\n",
    "scalar_proj_x"
   ]
  },
  {
   "cell_type": "markdown",
   "id": "32c9620a",
   "metadata": {},
   "source": [
    "Similarly, we can compute the projection of `v` onto the $y$ axis."
   ]
  },
  {
   "cell_type": "code",
   "execution_count": 228,
   "id": "e036a2e3",
   "metadata": {},
   "outputs": [
    {
     "data": {
      "text/plain": [
       "2.0000"
      ]
     },
     "execution_count": 228,
     "metadata": {},
     "output_type": "execute_result"
    }
   ],
   "source": [
    "scalar_proj_y = r * np.sin(theta)\n",
    "scalar_proj_y"
   ]
  },
  {
   "cell_type": "markdown",
   "id": "01a14942",
   "metadata": {},
   "source": [
    "You might notice that these scalar projection are the coordinates of `v`.\n",
    "So we have found a way to convert polar to Cartesian coordinates, which we can wrap in a function."
   ]
  },
  {
   "cell_type": "code",
   "execution_count": 229,
   "id": "acdb301c",
   "metadata": {},
   "outputs": [],
   "source": [
    "def pol2cart(r, theta):\n",
    "    return r * np.array([np.cos(theta), np.sin(theta)])"
   ]
  },
  {
   "cell_type": "code",
   "execution_count": 230,
   "id": "236af45e",
   "metadata": {},
   "outputs": [
    {
     "data": {
      "text/plain": [
       "array([1.5, 2. ])"
      ]
     },
     "execution_count": 230,
     "metadata": {},
     "output_type": "execute_result"
    }
   ],
   "source": [
    "pol2cart(r, theta)"
   ]
  },
  {
   "cell_type": "markdown",
   "id": "097d2c6e",
   "metadata": {},
   "source": [
    "Scalar projection is so called because it is a scalar -- that is, a single number, not a vector.\n",
    "Often it is also useful to compute a **vector projection**.\n",
    "The vector projection of `v` onto `u` is a vector whose length is the scalar projection and whose direction is the direction of `u`.\n",
    "\n",
    "To compute the vector projection of `v` onto the $x$ and $y$ axes, we'll define unit vectors that point along the axes.\n"
   ]
  },
  {
   "cell_type": "code",
   "execution_count": 231,
   "id": "3f0ead18",
   "metadata": {},
   "outputs": [],
   "source": [
    "x_hat = np.array([1, 0])\n",
    "y_hat = np.array([0, 1])"
   ]
  },
  {
   "cell_type": "markdown",
   "id": "78171679",
   "metadata": {},
   "source": [
    "And multiply them by the scalar projections we just computed."
   ]
  },
  {
   "cell_type": "code",
   "execution_count": 232,
   "id": "63210437",
   "metadata": {},
   "outputs": [],
   "source": [
    "vector_proj_x = scalar_proj_x * x_hat\n",
    "vector_proj_y = scalar_proj_y * y_hat"
   ]
  },
  {
   "cell_type": "markdown",
   "id": "ca886fb8",
   "metadata": {},
   "source": [
    "The following figure shows `v` and these vector projections."
   ]
  },
  {
   "cell_type": "code",
   "execution_count": 233,
   "id": "9e6138d1",
   "metadata": {},
   "outputs": [
    {
     "data": {
      "image/png": "[encoded data removed]",
      "text/plain": [
       "<Figure size 450x262.5 with 1 Axes>"
      ]
     },
     "metadata": {},
     "output_type": "display_data"
    }
   ],
   "source": [
    "from utils import plot_rejection, remove_spines\n",
    "\n",
    "plot_vectors([vector_proj_x, vector_proj_y], color='C1')\n",
    "# plot_vectors([x_hat, y_hat], color='C4', alpha=0.9)\n",
    "plot_vectors(v)\n",
    "plot_rejection(v, x_hat)\n",
    "plot_rejection(v, y_hat)\n",
    "decorate(aspect='equal', xlim=[-0.1, 2.1], ylim=[-0.1, 2.1])\n",
    "remove_spines()"
   ]
  },
  {
   "cell_type": "markdown",
   "id": "07af7b38",
   "metadata": {},
   "source": [
    "In the example so far, it might seem like we've gone in a circle.\n",
    "We converted `v` from Cartesian to polar coordinates and then back to Cartesian coordinates.\n",
    "\n",
    "That might not be useful, but I hope it demonstrates the concept of projection.\n",
    "Now let's do something that will turn out to be surprisingly useful, projecting one vector onto another.\n",
    "To demonstrate, here's another vector, `u`, in Cartesian coordinates."
   ]
  },
  {
   "cell_type": "code",
   "execution_count": 234,
   "id": "98bcddad",
   "metadata": {},
   "outputs": [
    {
     "data": {
      "text/plain": [
       "array([3, 1])"
      ]
     },
     "execution_count": 234,
     "metadata": {},
     "output_type": "execute_result"
    }
   ],
   "source": [
    "u = np.array([3, 1])"
   ]
  },
  {
   "cell_type": "markdown",
   "id": "8c20007c",
   "metadata": {},
   "source": [
    "Here's a graphical representation of `v` and `u`, and a dotted line that shows the shadow of `v` on `u`, lit from a point on a line perpendicular to `u`.\n",
    "That's the projection we'll compute -- and we'll do it two ways."
   ]
  },
  {
   "cell_type": "code",
   "execution_count": 250,
   "id": "6a75ea81",
   "metadata": {},
   "outputs": [
    {
     "data": {
      "image/png": "[encoded data removed]",
      "text/plain": [
       "<Figure size 450x262.5 with 1 Axes>"
      ]
     },
     "metadata": {},
     "output_type": "display_data"
    }
   ],
   "source": [
    "plot_vectors([v, u], color='C1', labels='vu')\n",
    "plot_rejection(v, u)\n",
    "decorate(aspect='equal', xlim=[-0.1, 3.1], ylim=[-0.1, 3.1])\n",
    "remove_spines()"
   ]
  },
  {
   "cell_type": "markdown",
   "id": "c91c7fc3",
   "metadata": {},
   "source": [
    "The first way is to convert `u` and `v` to polar coordinates."
   ]
  },
  {
   "cell_type": "code",
   "execution_count": 237,
   "id": "d442cefa",
   "metadata": {},
   "outputs": [
    {
     "data": {
      "text/plain": [
       "array([3.1623, 2.5   ])"
      ]
     },
     "execution_count": 237,
     "metadata": {},
     "output_type": "execute_result"
    }
   ],
   "source": [
    "rs, thetas = cart2pol([u, v])\n",
    "rs"
   ]
  },
  {
   "cell_type": "markdown",
   "id": "2dca1b45",
   "metadata": {},
   "source": [
    "`thetas` contains two angles: from `v` to the $x$ axis, and from `u` to the $x$ axis."
   ]
  },
  {
   "cell_type": "code",
   "execution_count": 200,
   "id": "9bb4a7b5",
   "metadata": {},
   "outputs": [
    {
     "data": {
      "text/plain": [
       "array([0.3218, 0.9273])"
      ]
     },
     "execution_count": 200,
     "metadata": {},
     "output_type": "execute_result"
    }
   ],
   "source": [
    "thetas"
   ]
  },
  {
   "cell_type": "markdown",
   "id": "9dee2748",
   "metadata": {},
   "source": [
    "So the difference is the angle between the vectors -- which the following function computes."
   ]
  },
  {
   "cell_type": "code",
   "execution_count": 201,
   "id": "be5bc541",
   "metadata": {},
   "outputs": [],
   "source": [
    "def angle_between(u, v):\n",
    "    rs, thetas = cart2pol([u, v])\n",
    "    return np.diff(thetas)"
   ]
  },
  {
   "cell_type": "code",
   "execution_count": 241,
   "id": "2c187baa",
   "metadata": {},
   "outputs": [],
   "source": [
    "theta = angle_between(u, v)"
   ]
  },
  {
   "cell_type": "markdown",
   "id": "5d94231a",
   "metadata": {},
   "source": [
    "If you look again at the previous figure, you'll see why this angle is useful.\n",
    "It is the angle of a right triangle whose hypotenuse is the length of `v`.\n",
    "So the length of the adjacent side is $||v|| \\cos \\theta$."
   ]
  },
  {
   "cell_type": "code",
   "execution_count": 246,
   "id": "bf75eddd",
   "metadata": {},
   "outputs": [
    {
     "data": {
      "text/plain": [
       "array([2.0555])"
      ]
     },
     "execution_count": 246,
     "metadata": {},
     "output_type": "execute_result"
    }
   ],
   "source": [
    "scalar_proj = norm(v) * np.cos(theta)\n",
    "scalar_proj"
   ]
  },
  {
   "cell_type": "markdown",
   "id": "7cfe2cde",
   "metadata": {},
   "source": [
    "Before we go on, notice that when `theta=0`, the cosine is 1, so the scalar projection is `norm(v)`.\n",
    "\n",
    "Now, to find the vector projection, we can multiply the scalar projection by a unit vector in the direction of `u`."
   ]
  },
  {
   "cell_type": "code",
   "execution_count": 247,
   "id": "048ec206",
   "metadata": {},
   "outputs": [],
   "source": [
    "u_hat = u / norm(u)\n",
    "vector_proj = scalar_proj * u_hat"
   ]
  },
  {
   "cell_type": "markdown",
   "id": "5c36e677",
   "metadata": {},
   "source": [
    "The following figure shows the result."
   ]
  },
  {
   "cell_type": "code",
   "execution_count": 251,
   "id": "b8ed46b5",
   "metadata": {},
   "outputs": [
    {
     "data": {
      "image/png": "[encoded data removed]",
      "text/plain": [
       "<Figure size 450x262.5 with 1 Axes>"
      ]
     },
     "metadata": {},
     "output_type": "display_data"
    }
   ],
   "source": [
    "plot_vectors([u, v], color='C1', labels='vu')\n",
    "plot_rejection(v, u)\n",
    "plot_vector(vector_proj, color='C4')\n",
    "decorate(aspect='equal', xlim=[-0.1, 3.1], ylim=[-0.1, 3.1])\n",
    "remove_spines()"
   ]
  },
  {
   "cell_type": "code",
   "execution_count": 73,
   "id": "26f922a6",
   "metadata": {},
   "outputs": [
    {
     "data": {
      "text/plain": [
       "11"
      ]
     },
     "execution_count": 73,
     "metadata": {},
     "output_type": "execute_result"
    }
   ],
   "source": [
    "np.dot(u, v)"
   ]
  },
  {
   "cell_type": "code",
   "execution_count": 74,
   "id": "dada12ba",
   "metadata": {},
   "outputs": [
    {
     "data": {
      "text/plain": [
       "11"
      ]
     },
     "execution_count": 74,
     "metadata": {},
     "output_type": "execute_result"
    }
   ],
   "source": [
    "u @ v"
   ]
  },
  {
   "cell_type": "code",
   "execution_count": 253,
   "id": "42c4ae01",
   "metadata": {},
   "outputs": [
    {
     "data": {
      "image/png": "[encoded data removed]",
      "text/plain": [
       "<Figure size 450x262.5 with 1 Axes>"
      ]
     },
     "metadata": {},
     "output_type": "display_data"
    }
   ],
   "source": [
    "plot_vectors([u, v], color='C1', labels='vu')\n",
    "for a in [u, v]:\n",
    "    for b in [x_hat, y_hat]:\n",
    "        plot_rejection(a, b)\n",
    "\n",
    "decorate(aspect='equal', xlim=[-0.1, 3.1], ylim=[-0.1, 3.1])\n",
    "remove_spines()"
   ]
  },
  {
   "cell_type": "code",
   "execution_count": 75,
   "id": "07029298",
   "metadata": {},
   "outputs": [],
   "source": [
    "from sympy import symbols, Matrix\n",
    "\n",
    "u1, u2, v1, v2 = symbols('u1 u2 v1 v2')\n",
    "\n",
    "u_sym = np.array([u1, u2])\n",
    "v_sym = np.array([v1, v2])"
   ]
  },
  {
   "cell_type": "code",
   "execution_count": 76,
   "id": "de039a36",
   "metadata": {},
   "outputs": [
    {
     "data": {
      "text/latex": [
       "$\\displaystyle u_{1} v_{1} + u_{2} v_{2}$"
      ],
      "text/plain": [
       "u1*v1 + u2*v2"
      ]
     },
     "execution_count": 76,
     "metadata": {},
     "output_type": "execute_result"
    }
   ],
   "source": [
    "u_sym @ v_sym"
   ]
  },
  {
   "cell_type": "code",
   "execution_count": 77,
   "id": "385b2efb",
   "metadata": {},
   "outputs": [
    {
     "data": {
      "text/latex": [
       "$\\displaystyle u_{1}^{2} + u_{2}^{2}$"
      ],
      "text/plain": [
       "u1**2 + u2**2"
      ]
     },
     "execution_count": 77,
     "metadata": {},
     "output_type": "execute_result"
    }
   ],
   "source": [
    "u_sym @ u_sym"
   ]
  },
  {
   "cell_type": "code",
   "execution_count": 80,
   "id": "108593e3",
   "metadata": {},
   "outputs": [
    {
     "data": {
      "text/plain": [
       "17"
      ]
     },
     "execution_count": 80,
     "metadata": {},
     "output_type": "execute_result"
    }
   ],
   "source": [
    "u @ u"
   ]
  },
  {
   "cell_type": "code",
   "execution_count": 79,
   "id": "29078d71",
   "metadata": {},
   "outputs": [
    {
     "data": {
      "text/plain": [
       "17.0000"
      ]
     },
     "execution_count": 79,
     "metadata": {},
     "output_type": "execute_result"
    }
   ],
   "source": [
    "from numpy.linalg import norm\n",
    "\n",
    "norm(u) ** 2"
   ]
  },
  {
   "cell_type": "code",
   "execution_count": 81,
   "id": "78f64f4c",
   "metadata": {},
   "outputs": [
    {
     "data": {
      "text/plain": [
       "1.3258"
      ]
     },
     "execution_count": 81,
     "metadata": {},
     "output_type": "execute_result"
    }
   ],
   "source": [
    "np.atan2(*u)"
   ]
  },
  {
   "cell_type": "markdown",
   "id": "084bee4e",
   "metadata": {},
   "source": [
    "## Collisions\n",
    "\n",
    "9-foot table (standard regulation)"
   ]
  },
  {
   "cell_type": "code",
   "execution_count": 4,
   "id": "118888e0",
   "metadata": {},
   "outputs": [],
   "source": [
    "table_width = 100\n",
    "table_height = 50\n",
    "\n",
    "ball_diameter = 2.25\n",
    "ball_radius = ball_diameter / 2"
   ]
  },
  {
   "cell_type": "code",
   "execution_count": 5,
   "id": "3eebc55f",
   "metadata": {},
   "outputs": [],
   "source": [
    "from utils import underride, decorate\n",
    "\n",
    "\n",
    "def draw_circles(vs, **options):\n",
    "    underride(options, color=\"C1\", alpha=0.6, lw=0)\n",
    "    ax = options.pop(\"ax\", plt.gca())\n",
    "    for x, y in vs:\n",
    "        ax.add_patch(plt.Circle((x, y), ball_radius, **options))"
   ]
  },
  {
   "cell_type": "code",
   "execution_count": 6,
   "id": "c15db8ad",
   "metadata": {},
   "outputs": [],
   "source": [
    "from utils import cartesian_product\n",
    "\n",
    "\n",
    "def draw_table():\n",
    "    fig, ax = plt.subplots(figsize=(5, 2.5))\n",
    "\n",
    "    ax.add_patch(plt.Rectangle((0, 0), table_width, table_height, fill=None))\n",
    "\n",
    "    xs = [0, 50, 100]\n",
    "    ys = [0, 50]\n",
    "    pockets = cartesian_product([xs, ys])\n",
    "    draw_circles(pockets, color=\"black\")\n",
    "\n",
    "    # Remove ticks and labels\n",
    "    ax.set_xticks([])\n",
    "    ax.set_yticks([])\n",
    "    ax.set_xticklabels([])\n",
    "    ax.set_yticklabels([])\n",
    "\n",
    "    # Set the aspect ratio and limits\n",
    "    ax.set_aspect(\"equal\", adjustable=\"box\")\n",
    "    ax.set_xlim(0, table_width)\n",
    "    ax.set_ylim(0, table_height)"
   ]
  },
  {
   "cell_type": "code",
   "execution_count": 7,
   "id": "fa273e6d",
   "metadata": {},
   "outputs": [
    {
     "data": {
      "image/png": "[encoded data removed]",
      "text/plain": [
       "<Figure size 375x187.5 with 1 Axes>"
      ]
     },
     "metadata": {},
     "output_type": "display_data"
    }
   ],
   "source": [
    "draw_table()\n",
    "cue = np.array([25, 25])\n",
    "target = np.array([75, 25])\n",
    "draw_circles([cue, target])"
   ]
  },
  {
   "cell_type": "code",
   "execution_count": 8,
   "id": "0e3ed872",
   "metadata": {},
   "outputs": [
    {
     "data": {
      "text/plain": [
       "array([0.99945555, 0.03299401])"
      ]
     },
     "execution_count": 8,
     "metadata": {},
     "output_type": "execute_result"
    }
   ],
   "source": [
    "from utils import polar_to_cartesian\n",
    "\n",
    "r = 1\n",
    "theta = 0.033\n",
    "direction = np.array(polar_to_cartesian(r, theta))\n",
    "direction"
   ]
  },
  {
   "cell_type": "code",
   "execution_count": 9,
   "id": "192f2384",
   "metadata": {},
   "outputs": [],
   "source": [
    "magnitude = 47\n",
    "v = magnitude * direction"
   ]
  },
  {
   "cell_type": "code",
   "execution_count": 10,
   "id": "c3690ba0",
   "metadata": {},
   "outputs": [],
   "source": [
    "from numpy.linalg import norm\n",
    "\n",
    "\n",
    "def distance_between(v1, v2):\n",
    "    return norm(v1 - v2)"
   ]
  },
  {
   "cell_type": "code",
   "execution_count": 11,
   "id": "2aef417e",
   "metadata": {},
   "outputs": [
    {
     "data": {
      "text/plain": [
       "np.float64(3.399840844152523)"
      ]
     },
     "execution_count": 11,
     "metadata": {},
     "output_type": "execute_result"
    }
   ],
   "source": [
    "pos1 = cue + v\n",
    "pos2 = target\n",
    "distance_between(pos1, pos2)"
   ]
  },
  {
   "cell_type": "code",
   "execution_count": 14,
   "id": "b72b6a5d",
   "metadata": {},
   "outputs": [
    {
     "data": {
      "image/png": "[encoded data removed]",
      "text/plain": [
       "<Figure size 375x187.5 with 1 Axes>"
      ]
     },
     "metadata": {},
     "output_type": "display_data"
    }
   ],
   "source": [
    "from utils import plot_vector, label_vector\n",
    "\n",
    "draw_table()\n",
    "draw_circles([pos1, pos2])\n",
    "plot_vector(v, cue)\n",
    "# label_vector(v, cue, 'v', label_pos=1, offset=0.015)\n",
    "decorate(xlim=[60, 80], ylim=[20, 30])"
   ]
  },
  {
   "cell_type": "code",
   "execution_count": 15,
   "id": "36a170ed",
   "metadata": {},
   "outputs": [],
   "source": [
    "def objective_func(magnitude, direction, pos1, pos2):\n",
    "    v = magnitude * direction\n",
    "    return distance_between(pos1 + v, [pos2])"
   ]
  },
  {
   "cell_type": "code",
   "execution_count": 16,
   "id": "c8ffe2a2",
   "metadata": {},
   "outputs": [
    {
     "data": {
      "text/plain": [
       "np.float64(3.399840844152523)"
      ]
     },
     "execution_count": 16,
     "metadata": {},
     "output_type": "execute_result"
    }
   ],
   "source": [
    "objective_func(magnitude, direction, cue, target)"
   ]
  },
  {
   "cell_type": "code",
   "execution_count": 17,
   "id": "9e99f775",
   "metadata": {},
   "outputs": [],
   "source": [
    "from scipy.optimize import minimize_scalar\n",
    "\n",
    "\n",
    "def minimize_distance(direction, pos1, pos2):\n",
    "    args = (direction, pos1, target)\n",
    "\n",
    "    upper = distance_between(pos1, pos2)\n",
    "    solution = minimize_scalar(\n",
    "        objective_func, bounds=(0, upper), args=args, method=\"bounded\"\n",
    "    )\n",
    "\n",
    "    assert solution.success\n",
    "    return solution"
   ]
  },
  {
   "cell_type": "code",
   "execution_count": 18,
   "id": "526d1fef",
   "metadata": {},
   "outputs": [
    {
     "data": {
      "text/plain": [
       "np.float64(1.6497005413060046)"
      ]
     },
     "execution_count": 18,
     "metadata": {},
     "output_type": "execute_result"
    }
   ],
   "source": [
    "solution = minimize_distance(direction, cue, target)\n",
    "solution.fun"
   ]
  },
  {
   "cell_type": "code",
   "execution_count": 19,
   "id": "b780ea5c",
   "metadata": {},
   "outputs": [],
   "source": [
    "distance_to_min = solution.x"
   ]
  },
  {
   "cell_type": "code",
   "execution_count": 20,
   "id": "366e1b3e",
   "metadata": {},
   "outputs": [],
   "source": [
    "def will_hit(direction, pos1, pos2, thresh):\n",
    "    solution = minimize_distance(direction, pos1, pos2)\n",
    "    return solution.fun < thresh"
   ]
  },
  {
   "cell_type": "code",
   "execution_count": 21,
   "id": "a9bdcee5",
   "metadata": {},
   "outputs": [
    {
     "data": {
      "text/plain": [
       "np.True_"
      ]
     },
     "execution_count": 21,
     "metadata": {},
     "output_type": "execute_result"
    }
   ],
   "source": [
    "will_hit(direction, cue, target, ball_diameter)"
   ]
  },
  {
   "cell_type": "code",
   "execution_count": 22,
   "id": "82dcdec2",
   "metadata": {},
   "outputs": [],
   "source": [
    "def error_func(magnitude, direction, pos1, pos2, goal_distance):\n",
    "    actual_distance = objective_func(magnitude, direction, pos1, pos2)\n",
    "    return actual_distance - goal_distance"
   ]
  },
  {
   "cell_type": "code",
   "execution_count": 23,
   "id": "e5dd3eb9",
   "metadata": {},
   "outputs": [
    {
     "data": {
      "text/plain": [
       "np.float64(1.1498408441525232)"
      ]
     },
     "execution_count": 23,
     "metadata": {},
     "output_type": "execute_result"
    }
   ],
   "source": [
    "error_func(magnitude, direction, cue, target, ball_diameter)"
   ]
  },
  {
   "cell_type": "code",
   "execution_count": 24,
   "id": "a3e6a0ca",
   "metadata": {},
   "outputs": [],
   "source": [
    "lower = distance_to_min - ball_diameter\n",
    "upper = distance_to_min"
   ]
  },
  {
   "cell_type": "code",
   "execution_count": 25,
   "id": "d3f4974f",
   "metadata": {},
   "outputs": [],
   "source": [
    "from scipy.optimize import root_scalar\n",
    "\n",
    "args = (direction, cue, target, ball_diameter)\n",
    "solution = root_scalar(error_func, bracket=[lower, upper], args=args, method=\"brentq\")\n",
    "assert solution.converged"
   ]
  },
  {
   "cell_type": "code",
   "execution_count": 26,
   "id": "f8dcef91",
   "metadata": {},
   "outputs": [
    {
     "data": {
      "text/plain": [
       "48.442748672152476"
      ]
     },
     "execution_count": 26,
     "metadata": {},
     "output_type": "execute_result"
    }
   ],
   "source": [
    "magnitude = solution.root\n",
    "magnitude"
   ]
  },
  {
   "cell_type": "code",
   "execution_count": 27,
   "id": "1a2ce5b5",
   "metadata": {},
   "outputs": [],
   "source": [
    "v_soln = magnitude * direction\n",
    "pos1 = cue + v_soln\n",
    "pos2 = target"
   ]
  },
  {
   "cell_type": "code",
   "execution_count": 29,
   "id": "8724c511",
   "metadata": {},
   "outputs": [
    {
     "data": {
      "image/png": "[encoded data removed]",
      "text/plain": [
       "<Figure size 375x187.5 with 1 Axes>"
      ]
     },
     "metadata": {},
     "output_type": "display_data"
    }
   ],
   "source": [
    "draw_table()\n",
    "draw_circles([pos1, target])\n",
    "plot_vector(v_soln, cue)\n",
    "# label_vector(v_soln, cue, 'v_soln', label_pos=1, offset=0.015)\n",
    "decorate(xlim=[60, 80], ylim=[20, 30])"
   ]
  },
  {
   "cell_type": "code",
   "execution_count": 30,
   "id": "32bf6b70",
   "metadata": {},
   "outputs": [],
   "source": [
    "def normalize(v):\n",
    "    return v / norm(v)"
   ]
  },
  {
   "cell_type": "code",
   "execution_count": 31,
   "id": "c1acb38c",
   "metadata": {},
   "outputs": [],
   "source": [
    "v1 = v / norm(v)\n",
    "v2 = np.array([0, 0])\n",
    "n = normalize(pos2 - pos1)"
   ]
  },
  {
   "cell_type": "code",
   "execution_count": 32,
   "id": "7ae56d5d",
   "metadata": {},
   "outputs": [
    {
     "data": {
      "image/png": "[encoded data removed]",
      "text/plain": [
       "<Figure size 375x187.5 with 1 Axes>"
      ]
     },
     "metadata": {},
     "output_type": "display_data"
    }
   ],
   "source": [
    "from utils import plot_vectors\n",
    "\n",
    "draw_table()\n",
    "draw_circles([pos1, target])\n",
    "plot_vector(v_soln, cue)\n",
    "plot_vectors([v1, n], [pos1, pos1], labels=['v1', 'n'], scale=5, color=\"C2\")\n",
    "decorate(xlim=[60, 80], ylim=[20, 30])"
   ]
  },
  {
   "cell_type": "code",
   "execution_count": 33,
   "id": "7fa17eb4",
   "metadata": {},
   "outputs": [],
   "source": [
    "def dot(v, w):\n",
    "    return np.dot(v, w)"
   ]
  },
  {
   "cell_type": "code",
   "execution_count": 34,
   "id": "955df81b",
   "metadata": {},
   "outputs": [],
   "source": [
    "v1_normal = dot(v1, n) / dot(n, n) * n\n",
    "v1_tangent = v1 - v1_normal"
   ]
  },
  {
   "cell_type": "code",
   "execution_count": 35,
   "id": "96317d14",
   "metadata": {},
   "outputs": [
    {
     "data": {
      "image/png": "[encoded data removed]",
      "text/plain": [
       "<Figure size 375x187.5 with 1 Axes>"
      ]
     },
     "metadata": {},
     "output_type": "display_data"
    }
   ],
   "source": [
    "draw_table()\n",
    "draw_circles([pos1, target], alpha=0.2)\n",
    "plot_vectors([v1 * 5, n * 5], [pos1, pos1], color=\"C2\")\n",
    "plot_vectors([v1_normal * 5, v1_tangent * 5], [pos1, pos1], labels=['v1_normal', 'v1_tangent'], color=\"C3\")\n",
    "decorate(xlim=[65, 80], ylim=[20, 30])"
   ]
  },
  {
   "cell_type": "code",
   "execution_count": 36,
   "id": "6f01f9d3",
   "metadata": {},
   "outputs": [],
   "source": [
    "v2_normal = dot(v2, n) / dot(n, n) * n\n",
    "v2_tangent = v2 - v2_normal"
   ]
  },
  {
   "cell_type": "code",
   "execution_count": 37,
   "id": "aa809bbc",
   "metadata": {},
   "outputs": [],
   "source": [
    "v1_after = v1_tangent + v2_normal\n",
    "v2_after = v2_tangent + v1_normal"
   ]
  },
  {
   "cell_type": "code",
   "execution_count": 38,
   "id": "dd083045",
   "metadata": {},
   "outputs": [
    {
     "data": {
      "text/plain": [
       "<matplotlib.quiver.Quiver at 0x7f6b493053f0>"
      ]
     },
     "execution_count": 38,
     "metadata": {},
     "output_type": "execute_result"
    },
    {
     "data": {
      "image/png": "[encoded data removed]",
      "text/plain": [
       "<Figure size 375x187.5 with 1 Axes>"
      ]
     },
     "metadata": {},
     "output_type": "display_data"
    }
   ],
   "source": [
    "draw_table()\n",
    "draw_circles([pos1, target], alpha=0.6)\n",
    "plot_vectors([v1_after, v2_after], [pos1, pos2], scale=30, labels=['v1_after', 'v2_after'], color=\"C2\")"
   ]
  },
  {
   "cell_type": "code",
   "execution_count": 39,
   "id": "7665b5e1",
   "metadata": {},
   "outputs": [],
   "source": [
    "pocket1 = np.array([100, 50])\n",
    "pocket2 = np.array([100, 0])"
   ]
  },
  {
   "cell_type": "code",
   "execution_count": 40,
   "id": "00fffdce",
   "metadata": {},
   "outputs": [
    {
     "data": {
      "text/plain": [
       "np.True_"
      ]
     },
     "execution_count": 40,
     "metadata": {},
     "output_type": "execute_result"
    }
   ],
   "source": [
    "will_hit(v2_after, pos2, pocket2, ball_diameter)"
   ]
  },
  {
   "cell_type": "code",
   "execution_count": 41,
   "id": "330a381b",
   "metadata": {},
   "outputs": [
    {
     "data": {
      "text/plain": [
       "np.False_"
      ]
     },
     "execution_count": 41,
     "metadata": {},
     "output_type": "execute_result"
    }
   ],
   "source": [
    "will_hit(v1_after, pos1, pocket1, ball_diameter)"
   ]
  },
  {
   "cell_type": "code",
   "execution_count": null,
   "id": "4078c517",
   "metadata": {},
   "outputs": [],
   "source": []
  },
  {
   "cell_type": "code",
   "execution_count": 42,
   "id": "08cfe965",
   "metadata": {},
   "outputs": [
    {
     "ename": "TypeError",
     "evalue": "label_vector() got multiple values for argument 'label'",
     "output_type": "error",
     "traceback": [
      "\u001b[0;31m---------------------------------------------------------------------------\u001b[0m",
      "\u001b[0;31mTypeError\u001b[0m                                 Traceback (most recent call last)",
      "Cell \u001b[0;32mIn[42], line 9\u001b[0m\n\u001b[1;32m      6\u001b[0m plot_vector(vector, origin)\n\u001b[1;32m      8\u001b[0m \u001b[38;5;28;01mfor\u001b[39;00m pos \u001b[38;5;129;01min\u001b[39;00m \u001b[38;5;28mrange\u001b[39m(\u001b[38;5;241m12\u001b[39m):\n\u001b[0;32m----> 9\u001b[0m     \u001b[43mlabel_vector\u001b[49m\u001b[43m(\u001b[49m\u001b[43mvector\u001b[49m\u001b[43m,\u001b[49m\u001b[43m \u001b[49m\u001b[43morigin\u001b[49m\u001b[43m,\u001b[49m\u001b[43m \u001b[49m\u001b[43mlabel\u001b[49m\u001b[38;5;241;43m=\u001b[39;49m\u001b[43mpos\u001b[49m\u001b[43m,\u001b[49m\u001b[43m \u001b[49m\u001b[43mlabel_pos\u001b[49m\u001b[38;5;241;43m=\u001b[39;49m\u001b[43mpos\u001b[49m\u001b[43m,\u001b[49m\u001b[43m \u001b[49m\u001b[43mcolor\u001b[49m\u001b[38;5;241;43m=\u001b[39;49m\u001b[38;5;124;43m'\u001b[39;49m\u001b[38;5;124;43mC1\u001b[39;49m\u001b[38;5;124;43m'\u001b[39;49m\u001b[43m)\u001b[49m\n",
      "\u001b[0;31mTypeError\u001b[0m: label_vector() got multiple values for argument 'label'"
     ]
    },
    {
     "data": {
      "image/png": "[encoded data removed]",
      "text/plain": [
       "<Figure size 375x187.5 with 1 Axes>"
      ]
     },
     "metadata": {},
     "output_type": "display_data"
    }
   ],
   "source": [
    "from utils import label_vector\n",
    "\n",
    "draw_table()\n",
    "origin = cue\n",
    "vector = np.array([30, 15])\n",
    "plot_vector(vector, origin)\n",
    "\n",
    "for pos in range(12):\n",
    "    label_vector(vector, origin, label=pos, label_pos=pos, color='C1')"
   ]
  },
  {
   "cell_type": "markdown",
   "id": "e27da3a4",
   "metadata": {
    "tags": [
     "remove-print"
    ]
   },
   "source": [
    "[Think Linear Algebra](https://allendowney.github.io/ThinkLinearAlgebra/index.html)\n",
    "\n",
    "Copyright 2025 [Allen B. Downey](https://allendowney.com)\n",
    "\n",
    "Code license: [MIT License](https://mit-license.org/)\n",
    "\n",
    "Text license: [Creative Commons Attribution-NonCommercial-ShareAlike 4.0 International](https://creativecommons.org/licenses/by-nc-sa/4.0/)"
   ]
  },
  {
   "cell_type": "code",
   "execution_count": null,
   "id": "6b3833be",
   "metadata": {},
   "outputs": [],
   "source": []
  }
 ],
 "metadata": {
  "celltoolbar": "Tags",
  "kernelspec": {
   "display_name": "Python 3 (ipykernel)",
   "language": "python",
   "name": "python3"
  },
  "language_info": {
   "codemirror_mode": {
    "name": "ipython",
    "version": 3
   },
   "file_extension": ".py",
   "mimetype": "text/x-python",
   "name": "python",
   "nbconvert_exporter": "python",
   "pygments_lexer": "ipython3",
   "version": "3.10.16"
  }
 },
 "nbformat": 4,
 "nbformat_minor": 5
}
